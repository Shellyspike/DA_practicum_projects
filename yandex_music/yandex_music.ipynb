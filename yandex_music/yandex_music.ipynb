{
 "cells": [
  {
   "cell_type": "markdown",
   "metadata": {
    "toc": true
   },
   "source": [
    "<h1>Оглавление<span class=\"tocSkip\"></span></h1>\n",
    "<div class=\"toc\"><ul class=\"toc-item\"><li><span><a href=\"#Информация-о-проекте\" data-toc-modified-id=\"Информация-о-проекте-1\"><span class=\"toc-item-num\">1&nbsp;&nbsp;</span>Информация о проекте</a></span></li><li><span><a href=\"#Обзор-данных\" data-toc-modified-id=\"Обзор-данных-2\"><span class=\"toc-item-num\">2&nbsp;&nbsp;</span>Обзор данных</a></span></li><li><span><a href=\"#Предобработка-данных\" data-toc-modified-id=\"Предобработка-данных-3\"><span class=\"toc-item-num\">3&nbsp;&nbsp;</span>Предобработка данных</a></span><ul class=\"toc-item\"><li><span><a href=\"#Стиль-заголовков\" data-toc-modified-id=\"Стиль-заголовков-3.1\"><span class=\"toc-item-num\">3.1&nbsp;&nbsp;</span>Стиль заголовков</a></span></li><li><span><a href=\"#Пропуски-значений\" data-toc-modified-id=\"Пропуски-значений-3.2\"><span class=\"toc-item-num\">3.2&nbsp;&nbsp;</span>Пропуски значений</a></span></li><li><span><a href=\"#Дубликаты\" data-toc-modified-id=\"Дубликаты-3.3\"><span class=\"toc-item-num\">3.3&nbsp;&nbsp;</span>Дубликаты</a></span></li></ul></li><li><span><a href=\"#Проверка-гипотез\" data-toc-modified-id=\"Проверка-гипотез-4\"><span class=\"toc-item-num\">4&nbsp;&nbsp;</span>Проверка гипотез</a></span><ul class=\"toc-item\"><li><span><a href=\"#Сравнение-поведения-пользователей-двух-столиц\" data-toc-modified-id=\"Сравнение-поведения-пользователей-двух-столиц-4.1\"><span class=\"toc-item-num\">4.1&nbsp;&nbsp;</span>Сравнение поведения пользователей двух столиц</a></span></li><li><span><a href=\"#Музыка-в-начале-и-в-конце-недели\" data-toc-modified-id=\"Музыка-в-начале-и-в-конце-недели-4.2\"><span class=\"toc-item-num\">4.2&nbsp;&nbsp;</span>Музыка в начале и в конце недели</a></span></li><li><span><a href=\"#Жанровые-предпочтения-в-Москве-и-Петербурге\" data-toc-modified-id=\"Жанровые-предпочтения-в-Москве-и-Петербурге-4.3\"><span class=\"toc-item-num\">4.3&nbsp;&nbsp;</span>Жанровые предпочтения в Москве и Петербурге</a></span></li></ul></li><li><span><a href=\"#Итоги-исследования\" data-toc-modified-id=\"Итоги-исследования-5\"><span class=\"toc-item-num\">5&nbsp;&nbsp;</span>Итоги исследования</a></span></li></ul></div>"
   ]
  },
  {
   "cell_type": "markdown",
   "metadata": {
    "id": "E0vqbgi9ay0H"
   },
   "source": [
    "## Информация о проекте"
   ]
  },
  {
   "cell_type": "markdown",
   "metadata": {
    "id": "VUC88oWjTJw2"
   },
   "source": [
    "Целью данного исследования является сравнение поведения пользователей сервиса Яндекс Музыка из Москвы и Санкт-Петербурга.\n",
    "\n",
    "По результатам исследования необходимо ответить на следующие вопросы:\n",
    "1. Изменение активности пользователей в зависимости от города и дня недели.\n",
    "2. Преобладание различных жанров музыки в разное время суток. \n",
    "3. Предпочтения пользователей относительно жанров музыки в зависимости от города.\n",
    "\n",
    "Данные представлены датасетом `yandex_music_project.csv`.\n",
    "\n",
    "Перед анализом данные будут проверены на ошибки и предварительно обработаны.\n"
   ]
  },
  {
   "cell_type": "markdown",
   "metadata": {
    "id": "Ml1hmfXC_Zcs"
   },
   "source": [
    "## Обзор данных"
   ]
  },
  {
   "cell_type": "code",
   "execution_count": 1,
   "metadata": {
    "id": "AXN7PHPN_Zcs"
   },
   "outputs": [],
   "source": [
    "import pandas as pd    # импорт библиотеки pandas"
   ]
  },
  {
   "cell_type": "code",
   "execution_count": 2,
   "metadata": {
    "id": "fFVu7vqh_Zct"
   },
   "outputs": [],
   "source": [
    "df = pd.read_csv('/datasets/yandex_music_project.csv')    # чтение файла с данными и сохранение в df"
   ]
  },
  {
   "cell_type": "code",
   "execution_count": 3,
   "metadata": {
    "id": "oWTVX3gW_Zct"
   },
   "outputs": [
    {
     "data": {
      "text/html": [
       "<div>\n",
       "<style scoped>\n",
       "    .dataframe tbody tr th:only-of-type {\n",
       "        vertical-align: middle;\n",
       "    }\n",
       "\n",
       "    .dataframe tbody tr th {\n",
       "        vertical-align: top;\n",
       "    }\n",
       "\n",
       "    .dataframe thead th {\n",
       "        text-align: right;\n",
       "    }\n",
       "</style>\n",
       "<table border=\"1\" class=\"dataframe\">\n",
       "  <thead>\n",
       "    <tr style=\"text-align: right;\">\n",
       "      <th></th>\n",
       "      <th>userID</th>\n",
       "      <th>Track</th>\n",
       "      <th>artist</th>\n",
       "      <th>genre</th>\n",
       "      <th>City</th>\n",
       "      <th>time</th>\n",
       "      <th>Day</th>\n",
       "    </tr>\n",
       "  </thead>\n",
       "  <tbody>\n",
       "    <tr>\n",
       "      <th>0</th>\n",
       "      <td>FFB692EC</td>\n",
       "      <td>Kamigata To Boots</td>\n",
       "      <td>The Mass Missile</td>\n",
       "      <td>rock</td>\n",
       "      <td>Saint-Petersburg</td>\n",
       "      <td>20:28:33</td>\n",
       "      <td>Wednesday</td>\n",
       "    </tr>\n",
       "    <tr>\n",
       "      <th>1</th>\n",
       "      <td>55204538</td>\n",
       "      <td>Delayed Because of Accident</td>\n",
       "      <td>Andreas Rönnberg</td>\n",
       "      <td>rock</td>\n",
       "      <td>Moscow</td>\n",
       "      <td>14:07:09</td>\n",
       "      <td>Friday</td>\n",
       "    </tr>\n",
       "    <tr>\n",
       "      <th>2</th>\n",
       "      <td>20EC38</td>\n",
       "      <td>Funiculì funiculà</td>\n",
       "      <td>Mario Lanza</td>\n",
       "      <td>pop</td>\n",
       "      <td>Saint-Petersburg</td>\n",
       "      <td>20:58:07</td>\n",
       "      <td>Wednesday</td>\n",
       "    </tr>\n",
       "    <tr>\n",
       "      <th>3</th>\n",
       "      <td>A3DD03C9</td>\n",
       "      <td>Dragons in the Sunset</td>\n",
       "      <td>Fire + Ice</td>\n",
       "      <td>folk</td>\n",
       "      <td>Saint-Petersburg</td>\n",
       "      <td>08:37:09</td>\n",
       "      <td>Monday</td>\n",
       "    </tr>\n",
       "    <tr>\n",
       "      <th>4</th>\n",
       "      <td>E2DC1FAE</td>\n",
       "      <td>Soul People</td>\n",
       "      <td>Space Echo</td>\n",
       "      <td>dance</td>\n",
       "      <td>Moscow</td>\n",
       "      <td>08:34:34</td>\n",
       "      <td>Monday</td>\n",
       "    </tr>\n",
       "    <tr>\n",
       "      <th>5</th>\n",
       "      <td>842029A1</td>\n",
       "      <td>Преданная</td>\n",
       "      <td>IMPERVTOR</td>\n",
       "      <td>rusrap</td>\n",
       "      <td>Saint-Petersburg</td>\n",
       "      <td>13:09:41</td>\n",
       "      <td>Friday</td>\n",
       "    </tr>\n",
       "    <tr>\n",
       "      <th>6</th>\n",
       "      <td>4CB90AA5</td>\n",
       "      <td>True</td>\n",
       "      <td>Roman Messer</td>\n",
       "      <td>dance</td>\n",
       "      <td>Moscow</td>\n",
       "      <td>13:00:07</td>\n",
       "      <td>Wednesday</td>\n",
       "    </tr>\n",
       "    <tr>\n",
       "      <th>7</th>\n",
       "      <td>F03E1C1F</td>\n",
       "      <td>Feeling This Way</td>\n",
       "      <td>Polina Griffith</td>\n",
       "      <td>dance</td>\n",
       "      <td>Moscow</td>\n",
       "      <td>20:47:49</td>\n",
       "      <td>Wednesday</td>\n",
       "    </tr>\n",
       "    <tr>\n",
       "      <th>8</th>\n",
       "      <td>8FA1D3BE</td>\n",
       "      <td>И вновь продолжается бой</td>\n",
       "      <td>NaN</td>\n",
       "      <td>ruspop</td>\n",
       "      <td>Moscow</td>\n",
       "      <td>09:17:40</td>\n",
       "      <td>Friday</td>\n",
       "    </tr>\n",
       "    <tr>\n",
       "      <th>9</th>\n",
       "      <td>E772D5C0</td>\n",
       "      <td>Pessimist</td>\n",
       "      <td>NaN</td>\n",
       "      <td>dance</td>\n",
       "      <td>Saint-Petersburg</td>\n",
       "      <td>21:20:49</td>\n",
       "      <td>Wednesday</td>\n",
       "    </tr>\n",
       "  </tbody>\n",
       "</table>\n",
       "</div>"
      ],
      "text/plain": [
       "     userID                        Track            artist   genre  \\\n",
       "0  FFB692EC            Kamigata To Boots  The Mass Missile    rock   \n",
       "1  55204538  Delayed Because of Accident  Andreas Rönnberg    rock   \n",
       "2    20EC38            Funiculì funiculà       Mario Lanza     pop   \n",
       "3  A3DD03C9        Dragons in the Sunset        Fire + Ice    folk   \n",
       "4  E2DC1FAE                  Soul People        Space Echo   dance   \n",
       "5  842029A1                    Преданная         IMPERVTOR  rusrap   \n",
       "6  4CB90AA5                         True      Roman Messer   dance   \n",
       "7  F03E1C1F             Feeling This Way   Polina Griffith   dance   \n",
       "8  8FA1D3BE     И вновь продолжается бой               NaN  ruspop   \n",
       "9  E772D5C0                    Pessimist               NaN   dance   \n",
       "\n",
       "             City        time        Day  \n",
       "0  Saint-Petersburg  20:28:33  Wednesday  \n",
       "1            Moscow  14:07:09     Friday  \n",
       "2  Saint-Petersburg  20:58:07  Wednesday  \n",
       "3  Saint-Petersburg  08:37:09     Monday  \n",
       "4            Moscow  08:34:34     Monday  \n",
       "5  Saint-Petersburg  13:09:41     Friday  \n",
       "6            Moscow  13:00:07  Wednesday  \n",
       "7            Moscow  20:47:49  Wednesday  \n",
       "8            Moscow  09:17:40     Friday  \n",
       "9  Saint-Petersburg  21:20:49  Wednesday  "
      ]
     },
     "execution_count": 3,
     "metadata": {},
     "output_type": "execute_result"
    }
   ],
   "source": [
    "df.head(10)   # получение первых 10 строк таблицы df"
   ]
  },
  {
   "cell_type": "markdown",
   "metadata": {
    "id": "EO73Kwic_Zct"
   },
   "source": [
    "Обзор общей информации о таблице:"
   ]
  },
  {
   "cell_type": "code",
   "execution_count": 4,
   "metadata": {
    "id": "DSf2kIb-_Zct",
    "scrolled": true
   },
   "outputs": [
    {
     "name": "stdout",
     "output_type": "stream",
     "text": [
      "<class 'pandas.core.frame.DataFrame'>\n",
      "RangeIndex: 65079 entries, 0 to 65078\n",
      "Data columns (total 7 columns):\n",
      " #   Column    Non-Null Count  Dtype \n",
      "---  ------    --------------  ----- \n",
      " 0     userID  65079 non-null  object\n",
      " 1   Track     63848 non-null  object\n",
      " 2   artist    57876 non-null  object\n",
      " 3   genre     63881 non-null  object\n",
      " 4     City    65079 non-null  object\n",
      " 5   time      65079 non-null  object\n",
      " 6   Day       65079 non-null  object\n",
      "dtypes: object(7)\n",
      "memory usage: 3.5+ MB\n"
     ]
    }
   ],
   "source": [
    "df.info()"
   ]
  },
  {
   "cell_type": "markdown",
   "metadata": {
    "id": "TaQ2Iwbr_Zct"
   },
   "source": [
    "Итак, в таблице семь столбцов. Тип данных во всех столбцах — `object`.\n",
    "\n",
    "Согласно документации к данным:\n",
    "* `userID` — идентификатор пользователя;\n",
    "* `Track` — название трека;  \n",
    "* `artist` — имя исполнителя;\n",
    "* `genre` — название жанра;\n",
    "* `City` — город пользователя;\n",
    "* `time` — время начала прослушивания;\n",
    "* `Day` — день недели.\n",
    "\n",
    "В названиях колонок видны три нарушения стиля:\n",
    "1. Строчные буквы сочетаются с прописными.\n",
    "2. Встречаются пробелы.\n",
    "3. Не используется \"змеиный регистр\" в названии userID, состоящем из нескольких слов.\n",
    "\n",
    "\n",
    "\n",
    "Количество значений в столбцах различается. Значит, в данных есть пропущенные значения.\n"
   ]
  },
  {
   "cell_type": "markdown",
   "metadata": {
    "id": "MCB6-dXG_Zct"
   },
   "source": [
    "**Выводы**\n",
    "\n",
    "В каждой строке таблицы — данные о прослушанном треке. Часть колонок описывает саму композицию: название, исполнителя и жанр. Остальные данные рассказывают о пользователе: из какого он города, когда он слушал музыку. \n",
    "\n",
    "Предварительно можно утверждать, что, данных достаточно для проверки гипотез. Но встречаются пропуски в данных, а в названиях колонок — расхождения с хорошим стилем.\n",
    "\n",
    "Чтобы двигаться дальше, нужно устранить проблемы в данных."
   ]
  },
  {
   "cell_type": "markdown",
   "metadata": {
    "id": "SjYF6Ub9_Zct"
   },
   "source": [
    "## Предобработка данных"
   ]
  },
  {
   "cell_type": "markdown",
   "metadata": {
    "id": "dIaKXr29_Zct"
   },
   "source": [
    "### Стиль заголовков"
   ]
  },
  {
   "cell_type": "code",
   "execution_count": 5,
   "metadata": {
    "id": "oKOTdF_Q_Zct"
   },
   "outputs": [
    {
     "data": {
      "text/plain": [
       "Index(['  userID', 'Track', 'artist', 'genre', '  City  ', 'time', 'Day'], dtype='object')"
      ]
     },
     "execution_count": 5,
     "metadata": {},
     "output_type": "execute_result"
    }
   ],
   "source": [
    "df.columns   # перечень названий столбцов таблицы df"
   ]
  },
  {
   "cell_type": "markdown",
   "metadata": {
    "id": "zj5534cv_Zct"
   },
   "source": [
    "Для приведения названий колонок в соответствие с общепринятым стилем их необходимо переименовать."
   ]
  },
  {
   "cell_type": "code",
   "execution_count": 6,
   "metadata": {
    "id": "ISlFqs5y_Zct"
   },
   "outputs": [],
   "source": [
    "df = df.rename(columns={'  userID': 'user_id', 'Track': 'track', '  City  ': 'city', 'Day': 'day'})    # переименование столбцов"
   ]
  },
  {
   "cell_type": "markdown",
   "metadata": {
    "id": "1dqbh00J_Zct"
   },
   "source": [
    "Для проверки результата еще раз выведем названия столбцов:"
   ]
  },
  {
   "cell_type": "code",
   "execution_count": 7,
   "metadata": {
    "id": "d4NOAmTW_Zct"
   },
   "outputs": [
    {
     "data": {
      "text/plain": [
       "Index(['user_id', 'track', 'artist', 'genre', 'city', 'time', 'day'], dtype='object')"
      ]
     },
     "execution_count": 7,
     "metadata": {},
     "output_type": "execute_result"
    }
   ],
   "source": [
    "df.columns    # проверка результатов - перечень названий столбцов"
   ]
  },
  {
   "cell_type": "markdown",
   "metadata": {
    "id": "5ISfbcfY_Zct"
   },
   "source": [
    "### Пропуски значений\n",
    "Сначала надо посчитать, сколько в таблице пропущенных значений."
   ]
  },
  {
   "cell_type": "code",
   "execution_count": 8,
   "metadata": {
    "id": "RskX29qr_Zct"
   },
   "outputs": [
    {
     "data": {
      "text/plain": [
       "user_id       0\n",
       "track      1231\n",
       "artist     7203\n",
       "genre      1198\n",
       "city          0\n",
       "time          0\n",
       "day           0\n",
       "dtype: int64"
      ]
     },
     "execution_count": 8,
     "metadata": {},
     "output_type": "execute_result"
    }
   ],
   "source": [
    "df.isna().sum()    # подсчёт пропусков"
   ]
  },
  {
   "cell_type": "markdown",
   "metadata": {
    "id": "qubhgnlO_Zct"
   },
   "source": [
    "Не все пропущенные значения влияют на исследование. Так пропуски в `track` и `artist` достаточно заменить явными обозначениями.\n",
    "\n",
    "Пропуски в `genre` могут помешать сравнению музыкальных вкусов в Москве и Санкт-Петербурге. Поскольку в данном проекте нет возможности установить причину пропусков и восстановить данные, остается сделать следующее:\n",
    "* заполнить и эти пропуски явными обозначениями,\n",
    "* оценить, насколько они повредят расчётам. "
   ]
  },
  {
   "cell_type": "markdown",
   "metadata": {
    "id": "fSv2laPA_Zct"
   },
   "source": [
    "Заменим пропущенные значения в столбцах `track`, `artist` и `genre` на строку `'unknown'`."
   ]
  },
  {
   "cell_type": "code",
   "execution_count": 9,
   "metadata": {
    "id": "KplB5qWs_Zct"
   },
   "outputs": [],
   "source": [
    "columns_to_replace = ['track', 'artist', 'genre']\n",
    "for column in columns_to_replace:\n",
    "    df[column] = df[column].fillna('unknown')    # перебор названий столбцов в цикле и замена пропущенных значений на 'unknown'"
   ]
  },
  {
   "cell_type": "markdown",
   "metadata": {
    "id": "Ilsm-MZo_Zct"
   },
   "source": [
    "Еще раз посчитаем пропущенные значения, чтобы убедиться в том, что в таблице пропусков не осталось."
   ]
  },
  {
   "cell_type": "code",
   "execution_count": 10,
   "metadata": {
    "id": "Tq4nYRX4_Zct"
   },
   "outputs": [
    {
     "data": {
      "text/plain": [
       "user_id    0\n",
       "track      0\n",
       "artist     0\n",
       "genre      0\n",
       "city       0\n",
       "time       0\n",
       "day        0\n",
       "dtype: int64"
      ]
     },
     "execution_count": 10,
     "metadata": {},
     "output_type": "execute_result"
    }
   ],
   "source": [
    "df.isna().sum()    # подсчёт пропусков"
   ]
  },
  {
   "cell_type": "markdown",
   "metadata": {
    "id": "BWKRtBJ3_Zct"
   },
   "source": [
    "### Дубликаты\n",
    "Сначала надо посчитать явные дубликаты в таблице."
   ]
  },
  {
   "cell_type": "code",
   "execution_count": 11,
   "metadata": {
    "id": "36eES_S0_Zct"
   },
   "outputs": [
    {
     "data": {
      "text/plain": [
       "3826"
      ]
     },
     "execution_count": 11,
     "metadata": {},
     "output_type": "execute_result"
    }
   ],
   "source": [
    "df.duplicated().sum()   # подсчёт явных дубликатов"
   ]
  },
  {
   "cell_type": "markdown",
   "metadata": {
    "id": "Ot25h6XR_Zct"
   },
   "source": [
    "Затем данные дубликаты можно удалить."
   ]
  },
  {
   "cell_type": "code",
   "execution_count": 12,
   "metadata": {
    "id": "exFHq6tt_Zct"
   },
   "outputs": [],
   "source": [
    "df = df.drop_duplicates().reset_index(drop=True)    # удаление явных дубликатов (с удалением старых индексов и формированием новых)"
   ]
  },
  {
   "cell_type": "markdown",
   "metadata": {
    "id": "Im2YwBEG_Zct"
   },
   "source": [
    "После этого - проверить результаты удаления."
   ]
  },
  {
   "cell_type": "code",
   "execution_count": 13,
   "metadata": {
    "id": "-8PuNWQ0_Zct"
   },
   "outputs": [
    {
     "data": {
      "text/plain": [
       "0"
      ]
     },
     "execution_count": 13,
     "metadata": {},
     "output_type": "execute_result"
    }
   ],
   "source": [
    "df.duplicated().sum()    # проверка на отсутствие дубликатов"
   ]
  },
  {
   "cell_type": "markdown",
   "metadata": {
    "id": "QlFBsxAr_Zct"
   },
   "source": [
    "Также в колонке `genre` присутствуют неявные дубликаты, которые могут повлиять на результат исследования."
   ]
  },
  {
   "cell_type": "markdown",
   "metadata": {
    "id": "eSjWwsOh_Zct"
   },
   "source": [
    "Изучим список уникальных названий жанров, имеющийся в столбце."
   ]
  },
  {
   "cell_type": "code",
   "execution_count": 14,
   "metadata": {
    "id": "JIUcqzZN_Zct"
   },
   "outputs": [
    {
     "data": {
      "text/plain": [
       "['acid',\n",
       " 'acoustic',\n",
       " 'action',\n",
       " 'adult',\n",
       " 'africa',\n",
       " 'afrikaans',\n",
       " 'alternative',\n",
       " 'alternativepunk',\n",
       " 'ambient',\n",
       " 'americana',\n",
       " 'animated',\n",
       " 'anime',\n",
       " 'arabesk',\n",
       " 'arabic',\n",
       " 'arena',\n",
       " 'argentinetango',\n",
       " 'art',\n",
       " 'audiobook',\n",
       " 'author',\n",
       " 'avantgarde',\n",
       " 'axé',\n",
       " 'baile',\n",
       " 'balkan',\n",
       " 'beats',\n",
       " 'bigroom',\n",
       " 'black',\n",
       " 'bluegrass',\n",
       " 'blues',\n",
       " 'bollywood',\n",
       " 'bossa',\n",
       " 'brazilian',\n",
       " 'breakbeat',\n",
       " 'breaks',\n",
       " 'broadway',\n",
       " 'cantautori',\n",
       " 'cantopop',\n",
       " 'canzone',\n",
       " 'caribbean',\n",
       " 'caucasian',\n",
       " 'celtic',\n",
       " 'chamber',\n",
       " 'chanson',\n",
       " 'children',\n",
       " 'chill',\n",
       " 'chinese',\n",
       " 'choral',\n",
       " 'christian',\n",
       " 'christmas',\n",
       " 'classical',\n",
       " 'classicmetal',\n",
       " 'club',\n",
       " 'colombian',\n",
       " 'comedy',\n",
       " 'conjazz',\n",
       " 'contemporary',\n",
       " 'country',\n",
       " 'cuban',\n",
       " 'dance',\n",
       " 'dancehall',\n",
       " 'dancepop',\n",
       " 'dark',\n",
       " 'death',\n",
       " 'deep',\n",
       " 'deutschrock',\n",
       " 'deutschspr',\n",
       " 'dirty',\n",
       " 'disco',\n",
       " 'dnb',\n",
       " 'documentary',\n",
       " 'downbeat',\n",
       " 'downtempo',\n",
       " 'drum',\n",
       " 'dub',\n",
       " 'dubstep',\n",
       " 'eastern',\n",
       " 'easy',\n",
       " 'electronic',\n",
       " 'electropop',\n",
       " 'emo',\n",
       " 'entehno',\n",
       " 'epicmetal',\n",
       " 'estrada',\n",
       " 'ethnic',\n",
       " 'eurofolk',\n",
       " 'european',\n",
       " 'experimental',\n",
       " 'extrememetal',\n",
       " 'fado',\n",
       " 'fairytail',\n",
       " 'film',\n",
       " 'fitness',\n",
       " 'flamenco',\n",
       " 'folk',\n",
       " 'folklore',\n",
       " 'folkmetal',\n",
       " 'folkrock',\n",
       " 'folktronica',\n",
       " 'forró',\n",
       " 'frankreich',\n",
       " 'französisch',\n",
       " 'french',\n",
       " 'funk',\n",
       " 'future',\n",
       " 'gangsta',\n",
       " 'garage',\n",
       " 'german',\n",
       " 'ghazal',\n",
       " 'gitarre',\n",
       " 'glitch',\n",
       " 'gospel',\n",
       " 'gothic',\n",
       " 'grime',\n",
       " 'grunge',\n",
       " 'gypsy',\n",
       " 'handsup',\n",
       " \"hard'n'heavy\",\n",
       " 'hardcore',\n",
       " 'hardstyle',\n",
       " 'hardtechno',\n",
       " 'hip',\n",
       " 'hip-hop',\n",
       " 'hiphop',\n",
       " 'historisch',\n",
       " 'holiday',\n",
       " 'hop',\n",
       " 'horror',\n",
       " 'house',\n",
       " 'hymn',\n",
       " 'idm',\n",
       " 'independent',\n",
       " 'indian',\n",
       " 'indie',\n",
       " 'indipop',\n",
       " 'industrial',\n",
       " 'inspirational',\n",
       " 'instrumental',\n",
       " 'international',\n",
       " 'irish',\n",
       " 'jam',\n",
       " 'japanese',\n",
       " 'jazz',\n",
       " 'jewish',\n",
       " 'jpop',\n",
       " 'jungle',\n",
       " 'k-pop',\n",
       " 'karadeniz',\n",
       " 'karaoke',\n",
       " 'kayokyoku',\n",
       " 'korean',\n",
       " 'laiko',\n",
       " 'latin',\n",
       " 'latino',\n",
       " 'leftfield',\n",
       " 'local',\n",
       " 'lounge',\n",
       " 'loungeelectronic',\n",
       " 'lovers',\n",
       " 'malaysian',\n",
       " 'mandopop',\n",
       " 'marschmusik',\n",
       " 'meditative',\n",
       " 'mediterranean',\n",
       " 'melodic',\n",
       " 'metal',\n",
       " 'metalcore',\n",
       " 'mexican',\n",
       " 'middle',\n",
       " 'minimal',\n",
       " 'miscellaneous',\n",
       " 'modern',\n",
       " 'mood',\n",
       " 'mpb',\n",
       " 'muslim',\n",
       " 'native',\n",
       " 'neoklassik',\n",
       " 'neue',\n",
       " 'new',\n",
       " 'newage',\n",
       " 'newwave',\n",
       " 'nu',\n",
       " 'nujazz',\n",
       " 'numetal',\n",
       " 'oceania',\n",
       " 'old',\n",
       " 'opera',\n",
       " 'orchestral',\n",
       " 'other',\n",
       " 'piano',\n",
       " 'podcasts',\n",
       " 'pop',\n",
       " 'popdance',\n",
       " 'popelectronic',\n",
       " 'popeurodance',\n",
       " 'poprussian',\n",
       " 'post',\n",
       " 'posthardcore',\n",
       " 'postrock',\n",
       " 'power',\n",
       " 'progmetal',\n",
       " 'progressive',\n",
       " 'psychedelic',\n",
       " 'punjabi',\n",
       " 'punk',\n",
       " 'quebecois',\n",
       " 'ragga',\n",
       " 'ram',\n",
       " 'rancheras',\n",
       " 'rap',\n",
       " 'rave',\n",
       " 'reggae',\n",
       " 'reggaeton',\n",
       " 'regional',\n",
       " 'relax',\n",
       " 'religious',\n",
       " 'retro',\n",
       " 'rhythm',\n",
       " 'rnb',\n",
       " 'rnr',\n",
       " 'rock',\n",
       " 'rockabilly',\n",
       " 'rockalternative',\n",
       " 'rockindie',\n",
       " 'rockother',\n",
       " 'romance',\n",
       " 'roots',\n",
       " 'ruspop',\n",
       " 'rusrap',\n",
       " 'rusrock',\n",
       " 'russian',\n",
       " 'salsa',\n",
       " 'samba',\n",
       " 'scenic',\n",
       " 'schlager',\n",
       " 'self',\n",
       " 'sertanejo',\n",
       " 'shanson',\n",
       " 'shoegazing',\n",
       " 'showtunes',\n",
       " 'singer',\n",
       " 'ska',\n",
       " 'skarock',\n",
       " 'slow',\n",
       " 'smooth',\n",
       " 'soft',\n",
       " 'soul',\n",
       " 'soulful',\n",
       " 'sound',\n",
       " 'soundtrack',\n",
       " 'southern',\n",
       " 'specialty',\n",
       " 'speech',\n",
       " 'spiritual',\n",
       " 'sport',\n",
       " 'stonerrock',\n",
       " 'surf',\n",
       " 'swing',\n",
       " 'synthpop',\n",
       " 'synthrock',\n",
       " 'sängerportrait',\n",
       " 'tango',\n",
       " 'tanzorchester',\n",
       " 'taraftar',\n",
       " 'tatar',\n",
       " 'tech',\n",
       " 'techno',\n",
       " 'teen',\n",
       " 'thrash',\n",
       " 'top',\n",
       " 'traditional',\n",
       " 'tradjazz',\n",
       " 'trance',\n",
       " 'tribal',\n",
       " 'trip',\n",
       " 'triphop',\n",
       " 'tropical',\n",
       " 'türk',\n",
       " 'türkçe',\n",
       " 'ukrrock',\n",
       " 'unknown',\n",
       " 'urban',\n",
       " 'uzbek',\n",
       " 'variété',\n",
       " 'vi',\n",
       " 'videogame',\n",
       " 'vocal',\n",
       " 'western',\n",
       " 'world',\n",
       " 'worldbeat',\n",
       " 'ïîï',\n",
       " 'электроника']"
      ]
     },
     "execution_count": 14,
     "metadata": {},
     "output_type": "execute_result"
    }
   ],
   "source": [
    "sorted(df['genre'].unique())    # Просмотр уникальных названий жанров"
   ]
  },
  {
   "cell_type": "markdown",
   "metadata": {
    "id": "qej-Qmuo_Zct"
   },
   "source": [
    "У названия жанра `hiphop` имеются неявные дубликаты:\n",
    "* *hip*,\n",
    "* *hop*,\n",
    "* *hip-hop*.\n",
    "\n",
    "Исправим названия в колонке, заменив некорректные названия верным."
   ]
  },
  {
   "cell_type": "code",
   "execution_count": 15,
   "metadata": {
    "id": "ErNDkmns_Zct"
   },
   "outputs": [],
   "source": [
    "def replace_wrong_genres(wrong_genres, correct_genre):\n",
    "    for wrong_genre in wrong_genres:\n",
    "        df['genre'] = df['genre'].replace(wrong_genre, correct_genre)"
   ]
  },
  {
   "cell_type": "code",
   "execution_count": 16,
   "metadata": {
    "id": "YN5i2hpmSo09"
   },
   "outputs": [],
   "source": [
    "duplicates = ['hip', 'hop', 'hip-hop']\n",
    "genre = 'hiphop' # правильное имя\n",
    "replace_wrong_genres(duplicates, genre)"
   ]
  },
  {
   "cell_type": "markdown",
   "metadata": {
    "id": "zQKF16_RG15m"
   },
   "source": [
    "Проверим, что функция заменила неявные дубликаты названия `hiphop` в столбце `genre`:"
   ]
  },
  {
   "cell_type": "code",
   "execution_count": 17,
   "metadata": {
    "id": "wvixALnFG15m"
   },
   "outputs": [
    {
     "data": {
      "text/plain": [
       "['acid',\n",
       " 'acoustic',\n",
       " 'action',\n",
       " 'adult',\n",
       " 'africa',\n",
       " 'afrikaans',\n",
       " 'alternative',\n",
       " 'alternativepunk',\n",
       " 'ambient',\n",
       " 'americana',\n",
       " 'animated',\n",
       " 'anime',\n",
       " 'arabesk',\n",
       " 'arabic',\n",
       " 'arena',\n",
       " 'argentinetango',\n",
       " 'art',\n",
       " 'audiobook',\n",
       " 'author',\n",
       " 'avantgarde',\n",
       " 'axé',\n",
       " 'baile',\n",
       " 'balkan',\n",
       " 'beats',\n",
       " 'bigroom',\n",
       " 'black',\n",
       " 'bluegrass',\n",
       " 'blues',\n",
       " 'bollywood',\n",
       " 'bossa',\n",
       " 'brazilian',\n",
       " 'breakbeat',\n",
       " 'breaks',\n",
       " 'broadway',\n",
       " 'cantautori',\n",
       " 'cantopop',\n",
       " 'canzone',\n",
       " 'caribbean',\n",
       " 'caucasian',\n",
       " 'celtic',\n",
       " 'chamber',\n",
       " 'chanson',\n",
       " 'children',\n",
       " 'chill',\n",
       " 'chinese',\n",
       " 'choral',\n",
       " 'christian',\n",
       " 'christmas',\n",
       " 'classical',\n",
       " 'classicmetal',\n",
       " 'club',\n",
       " 'colombian',\n",
       " 'comedy',\n",
       " 'conjazz',\n",
       " 'contemporary',\n",
       " 'country',\n",
       " 'cuban',\n",
       " 'dance',\n",
       " 'dancehall',\n",
       " 'dancepop',\n",
       " 'dark',\n",
       " 'death',\n",
       " 'deep',\n",
       " 'deutschrock',\n",
       " 'deutschspr',\n",
       " 'dirty',\n",
       " 'disco',\n",
       " 'dnb',\n",
       " 'documentary',\n",
       " 'downbeat',\n",
       " 'downtempo',\n",
       " 'drum',\n",
       " 'dub',\n",
       " 'dubstep',\n",
       " 'eastern',\n",
       " 'easy',\n",
       " 'electronic',\n",
       " 'electropop',\n",
       " 'emo',\n",
       " 'entehno',\n",
       " 'epicmetal',\n",
       " 'estrada',\n",
       " 'ethnic',\n",
       " 'eurofolk',\n",
       " 'european',\n",
       " 'experimental',\n",
       " 'extrememetal',\n",
       " 'fado',\n",
       " 'fairytail',\n",
       " 'film',\n",
       " 'fitness',\n",
       " 'flamenco',\n",
       " 'folk',\n",
       " 'folklore',\n",
       " 'folkmetal',\n",
       " 'folkrock',\n",
       " 'folktronica',\n",
       " 'forró',\n",
       " 'frankreich',\n",
       " 'französisch',\n",
       " 'french',\n",
       " 'funk',\n",
       " 'future',\n",
       " 'gangsta',\n",
       " 'garage',\n",
       " 'german',\n",
       " 'ghazal',\n",
       " 'gitarre',\n",
       " 'glitch',\n",
       " 'gospel',\n",
       " 'gothic',\n",
       " 'grime',\n",
       " 'grunge',\n",
       " 'gypsy',\n",
       " 'handsup',\n",
       " \"hard'n'heavy\",\n",
       " 'hardcore',\n",
       " 'hardstyle',\n",
       " 'hardtechno',\n",
       " 'hiphop',\n",
       " 'historisch',\n",
       " 'holiday',\n",
       " 'horror',\n",
       " 'house',\n",
       " 'hymn',\n",
       " 'idm',\n",
       " 'independent',\n",
       " 'indian',\n",
       " 'indie',\n",
       " 'indipop',\n",
       " 'industrial',\n",
       " 'inspirational',\n",
       " 'instrumental',\n",
       " 'international',\n",
       " 'irish',\n",
       " 'jam',\n",
       " 'japanese',\n",
       " 'jazz',\n",
       " 'jewish',\n",
       " 'jpop',\n",
       " 'jungle',\n",
       " 'k-pop',\n",
       " 'karadeniz',\n",
       " 'karaoke',\n",
       " 'kayokyoku',\n",
       " 'korean',\n",
       " 'laiko',\n",
       " 'latin',\n",
       " 'latino',\n",
       " 'leftfield',\n",
       " 'local',\n",
       " 'lounge',\n",
       " 'loungeelectronic',\n",
       " 'lovers',\n",
       " 'malaysian',\n",
       " 'mandopop',\n",
       " 'marschmusik',\n",
       " 'meditative',\n",
       " 'mediterranean',\n",
       " 'melodic',\n",
       " 'metal',\n",
       " 'metalcore',\n",
       " 'mexican',\n",
       " 'middle',\n",
       " 'minimal',\n",
       " 'miscellaneous',\n",
       " 'modern',\n",
       " 'mood',\n",
       " 'mpb',\n",
       " 'muslim',\n",
       " 'native',\n",
       " 'neoklassik',\n",
       " 'neue',\n",
       " 'new',\n",
       " 'newage',\n",
       " 'newwave',\n",
       " 'nu',\n",
       " 'nujazz',\n",
       " 'numetal',\n",
       " 'oceania',\n",
       " 'old',\n",
       " 'opera',\n",
       " 'orchestral',\n",
       " 'other',\n",
       " 'piano',\n",
       " 'podcasts',\n",
       " 'pop',\n",
       " 'popdance',\n",
       " 'popelectronic',\n",
       " 'popeurodance',\n",
       " 'poprussian',\n",
       " 'post',\n",
       " 'posthardcore',\n",
       " 'postrock',\n",
       " 'power',\n",
       " 'progmetal',\n",
       " 'progressive',\n",
       " 'psychedelic',\n",
       " 'punjabi',\n",
       " 'punk',\n",
       " 'quebecois',\n",
       " 'ragga',\n",
       " 'ram',\n",
       " 'rancheras',\n",
       " 'rap',\n",
       " 'rave',\n",
       " 'reggae',\n",
       " 'reggaeton',\n",
       " 'regional',\n",
       " 'relax',\n",
       " 'religious',\n",
       " 'retro',\n",
       " 'rhythm',\n",
       " 'rnb',\n",
       " 'rnr',\n",
       " 'rock',\n",
       " 'rockabilly',\n",
       " 'rockalternative',\n",
       " 'rockindie',\n",
       " 'rockother',\n",
       " 'romance',\n",
       " 'roots',\n",
       " 'ruspop',\n",
       " 'rusrap',\n",
       " 'rusrock',\n",
       " 'russian',\n",
       " 'salsa',\n",
       " 'samba',\n",
       " 'scenic',\n",
       " 'schlager',\n",
       " 'self',\n",
       " 'sertanejo',\n",
       " 'shanson',\n",
       " 'shoegazing',\n",
       " 'showtunes',\n",
       " 'singer',\n",
       " 'ska',\n",
       " 'skarock',\n",
       " 'slow',\n",
       " 'smooth',\n",
       " 'soft',\n",
       " 'soul',\n",
       " 'soulful',\n",
       " 'sound',\n",
       " 'soundtrack',\n",
       " 'southern',\n",
       " 'specialty',\n",
       " 'speech',\n",
       " 'spiritual',\n",
       " 'sport',\n",
       " 'stonerrock',\n",
       " 'surf',\n",
       " 'swing',\n",
       " 'synthpop',\n",
       " 'synthrock',\n",
       " 'sängerportrait',\n",
       " 'tango',\n",
       " 'tanzorchester',\n",
       " 'taraftar',\n",
       " 'tatar',\n",
       " 'tech',\n",
       " 'techno',\n",
       " 'teen',\n",
       " 'thrash',\n",
       " 'top',\n",
       " 'traditional',\n",
       " 'tradjazz',\n",
       " 'trance',\n",
       " 'tribal',\n",
       " 'trip',\n",
       " 'triphop',\n",
       " 'tropical',\n",
       " 'türk',\n",
       " 'türkçe',\n",
       " 'ukrrock',\n",
       " 'unknown',\n",
       " 'urban',\n",
       " 'uzbek',\n",
       " 'variété',\n",
       " 'vi',\n",
       " 'videogame',\n",
       " 'vocal',\n",
       " 'western',\n",
       " 'world',\n",
       " 'worldbeat',\n",
       " 'ïîï',\n",
       " 'электроника']"
      ]
     },
     "execution_count": 17,
     "metadata": {},
     "output_type": "execute_result"
    }
   ],
   "source": [
    "sorted(df['genre'].unique())    # Проверка на неявные дубликаты"
   ]
  },
  {
   "cell_type": "markdown",
   "metadata": {
    "id": "jz6a9-7HQUDd"
   },
   "source": [
    "**Выводы**\n",
    "\n",
    "Предобработка обнаружила три проблемы в данных:\n",
    "\n",
    "- нарушения в стиле заголовков,\n",
    "- пропущенные значения,\n",
    "- дубликаты — явные и неявные.\n",
    "\n",
    "Исправленные заголовки упростят работу в таблице. Без дубликатов исследование станет более точным.\n",
    "\n",
    "Пропущенные значения были заменены `'unknown'`, т.к. восстановить их не было возможности.\n",
    "\n",
    "Теперь можно перейти к проверке гипотез. "
   ]
  },
  {
   "cell_type": "markdown",
   "metadata": {
    "id": "WttZHXH0SqKk"
   },
   "source": [
    "## Проверка гипотез"
   ]
  },
  {
   "cell_type": "markdown",
   "metadata": {
    "id": "Im936VVi_Zcu"
   },
   "source": [
    "### Сравнение поведения пользователей двух столиц"
   ]
  },
  {
   "cell_type": "markdown",
   "metadata": {
    "id": "nwt_MuaL_Zcu"
   },
   "source": [
    "Первая гипотеза утверждает, что пользователи по-разному слушают музыку в Москве и Санкт-Петербурге. Проверим это предположение по данным о трёх днях недели — понедельнике, среде и пятнице.\n",
    "\n",
    "* Разделим пользователей Москвы и Санкт-Петербурга\n",
    "* Сравним, сколько треков послушала каждая группа пользователей в понедельник, среду и пятницу.\n"
   ]
  },
  {
   "cell_type": "markdown",
   "metadata": {
    "id": "8Dw_YMmT_Zcu"
   },
   "source": [
    "Сгруппируем данные по городу и посчитаем прослушивания в каждой группе."
   ]
  },
  {
   "cell_type": "code",
   "execution_count": 18,
   "metadata": {
    "id": "0_Qs96oh_Zcu"
   },
   "outputs": [
    {
     "data": {
      "text/plain": [
       "city\n",
       "Moscow              42741\n",
       "Saint-Petersburg    18512\n",
       "Name: genre, dtype: int64"
      ]
     },
     "execution_count": 18,
     "metadata": {},
     "output_type": "execute_result"
    }
   ],
   "source": [
    "df.groupby('city')['genre'].count()    # Подсчёт прослушиваний в каждом городе"
   ]
  },
  {
   "cell_type": "markdown",
   "metadata": {
    "id": "dzli3w8o_Zcu"
   },
   "source": [
    "В Москве прослушиваний больше, чем в Петербурге. Скорее всего это связано с тем, что население Москвы больше, чем в Санкт-Петербурге.\n",
    "\n",
    "Теперь сгруппируем данные по дню недели и вновь подсчитаем прослушивания в понедельник, среду и пятницу. "
   ]
  },
  {
   "cell_type": "code",
   "execution_count": 19,
   "metadata": {
    "id": "uZMKjiJz_Zcu",
    "scrolled": true
   },
   "outputs": [
    {
     "data": {
      "text/plain": [
       "day\n",
       "Friday       21840\n",
       "Monday       21354\n",
       "Wednesday    18059\n",
       "Name: genre, dtype: int64"
      ]
     },
     "execution_count": 19,
     "metadata": {},
     "output_type": "execute_result"
    }
   ],
   "source": [
    "df.groupby('day')['genre'].count()    # Подсчёт прослушиваний в каждый из трёх дней"
   ]
  },
  {
   "cell_type": "markdown",
   "metadata": {
    "id": "cC2tNrlL_Zcu"
   },
   "source": [
    "В среднем пользователи из двух городов менее активны по средам. Но картина может измениться, если рассмотреть каждый город в отдельности."
   ]
  },
  {
   "cell_type": "markdown",
   "metadata": {
    "id": "POzs8bGa_Zcu"
   },
   "source": [
    "Создадим функцию, которая объединит 2 вышеприведенных расчета и подсчитает прослушивания для заданного дня недели и города."
   ]
  },
  {
   "cell_type": "code",
   "execution_count": 20,
   "metadata": {
    "id": "Nz3GdQB1_Zcu"
   },
   "outputs": [],
   "source": [
    "def number_tracks(day, city): \n",
    "    track_list = df.loc[(df['day'] == day) & (df['city'] == city)]\n",
    "    track_list_count = track_list.groupby('user_id')['user_id'].count().sum()\n",
    "    return track_list_count\n",
    "\n",
    "# В переменной track_list сохраняются те строки таблицы df, для которых \n",
    "# значение в столбце 'day' равно параметру day и одновременно значение\n",
    "# в столбце 'city' равно параметру city.\n",
    "# В переменной track_list_count сохраняется число значений столбца 'user_id',\n",
    "# рассчитанное методом count() для таблицы track_list.\n",
    "# Функция возвращает число - значение track_list_count."
   ]
  },
  {
   "cell_type": "markdown",
   "metadata": {
    "id": "ytf7xFrFJQ2r"
   },
   "source": [
    "Вызовем`number_tracks()` шесть раз, меняя значение параметров — так, чтобы получить данные для каждого города в каждый из трёх дней."
   ]
  },
  {
   "cell_type": "code",
   "execution_count": 21,
   "metadata": {
    "id": "rJcRATNQ_Zcu"
   },
   "outputs": [
    {
     "data": {
      "text/plain": [
       "15740"
      ]
     },
     "execution_count": 21,
     "metadata": {},
     "output_type": "execute_result"
    }
   ],
   "source": [
    "number_tracks('Monday', 'Moscow')# количество прослушиваний в Москве по понедельникам"
   ]
  },
  {
   "cell_type": "code",
   "execution_count": 22,
   "metadata": {
    "id": "hq_ncZ5T_Zcu"
   },
   "outputs": [
    {
     "data": {
      "text/plain": [
       "5614"
      ]
     },
     "execution_count": 22,
     "metadata": {},
     "output_type": "execute_result"
    }
   ],
   "source": [
    "number_tracks('Monday', 'Saint-Petersburg')    # количество прослушиваний в Санкт-Петербурге по понедельникам"
   ]
  },
  {
   "cell_type": "code",
   "execution_count": 23,
   "metadata": {
    "id": "_NTy2VPU_Zcu"
   },
   "outputs": [
    {
     "data": {
      "text/plain": [
       "11056"
      ]
     },
     "execution_count": 23,
     "metadata": {},
     "output_type": "execute_result"
    }
   ],
   "source": [
    "number_tracks('Wednesday', 'Moscow')    # количество прослушиваний в Москве по средам"
   ]
  },
  {
   "cell_type": "code",
   "execution_count": 24,
   "metadata": {
    "id": "j2y3TAwo_Zcu"
   },
   "outputs": [
    {
     "data": {
      "text/plain": [
       "7003"
      ]
     },
     "execution_count": 24,
     "metadata": {},
     "output_type": "execute_result"
    }
   ],
   "source": [
    "number_tracks('Wednesday', 'Saint-Petersburg')    # количество прослушиваний в Санкт-Петербурге по средам"
   ]
  },
  {
   "cell_type": "code",
   "execution_count": 25,
   "metadata": {
    "id": "vYDw5u_K_Zcu"
   },
   "outputs": [
    {
     "data": {
      "text/plain": [
       "15945"
      ]
     },
     "execution_count": 25,
     "metadata": {},
     "output_type": "execute_result"
    }
   ],
   "source": [
    "number_tracks('Friday', 'Moscow')    # количество прослушиваний в Москве по пятницам"
   ]
  },
  {
   "cell_type": "code",
   "execution_count": 26,
   "metadata": {
    "id": "8_yzFtW3_Zcu"
   },
   "outputs": [
    {
     "data": {
      "text/plain": [
       "5895"
      ]
     },
     "execution_count": 26,
     "metadata": {},
     "output_type": "execute_result"
    }
   ],
   "source": [
    "number_tracks('Friday', 'Saint-Petersburg')    # количество прослушиваний в Санкт-Петербурге по пятницам"
   ]
  },
  {
   "cell_type": "markdown",
   "metadata": {
    "id": "7QXffbO-_Zcu"
   },
   "source": [
    "Создадим таблицу, где\n",
    "* названия колонок — `['city', 'monday', 'wednesday', 'friday']`;\n",
    "* данные — результаты, полученные с помощью `number_tracks`."
   ]
  },
  {
   "cell_type": "code",
   "execution_count": 27,
   "metadata": {
    "id": "APAcLpOr_Zcu"
   },
   "outputs": [
    {
     "data": {
      "text/html": [
       "<style  type=\"text/css\" >\n",
       "#T_5a9ec_row0_col0,#T_5a9ec_row0_col1,#T_5a9ec_row0_col2,#T_5a9ec_row0_col3,#T_5a9ec_row1_col0,#T_5a9ec_row1_col1,#T_5a9ec_row1_col2,#T_5a9ec_row1_col3{\n",
       "            text-align:  left;\n",
       "        }</style><table id=\"T_5a9ec_\" ><thead>    <tr>        <th class=\"blank level0\" ></th>        <th class=\"col_heading level0 col0\" >city</th>        <th class=\"col_heading level0 col1\" >monday</th>        <th class=\"col_heading level0 col2\" >wednesday</th>        <th class=\"col_heading level0 col3\" >friday</th>    </tr></thead><tbody>\n",
       "                <tr>\n",
       "                        <th id=\"T_5a9ec_level0_row0\" class=\"row_heading level0 row0\" >0</th>\n",
       "                        <td id=\"T_5a9ec_row0_col0\" class=\"data row0 col0\" >Moscow</td>\n",
       "                        <td id=\"T_5a9ec_row0_col1\" class=\"data row0 col1\" >15740</td>\n",
       "                        <td id=\"T_5a9ec_row0_col2\" class=\"data row0 col2\" >11056</td>\n",
       "                        <td id=\"T_5a9ec_row0_col3\" class=\"data row0 col3\" >15945</td>\n",
       "            </tr>\n",
       "            <tr>\n",
       "                        <th id=\"T_5a9ec_level0_row1\" class=\"row_heading level0 row1\" >1</th>\n",
       "                        <td id=\"T_5a9ec_row1_col0\" class=\"data row1 col0\" >Saint-Petersburg</td>\n",
       "                        <td id=\"T_5a9ec_row1_col1\" class=\"data row1 col1\" >5614</td>\n",
       "                        <td id=\"T_5a9ec_row1_col2\" class=\"data row1 col2\" >7003</td>\n",
       "                        <td id=\"T_5a9ec_row1_col3\" class=\"data row1 col3\" >5895</td>\n",
       "            </tr>\n",
       "    </tbody></table>"
      ],
      "text/plain": [
       "<pandas.io.formats.style.Styler at 0x7f3aeabfccd0>"
      ]
     },
     "metadata": {},
     "output_type": "display_data"
    }
   ],
   "source": [
    "data = [['Moscow', 15740, 11056, 15945],\n",
    "       ['Saint-Petersburg', 5614, 7003, 5895]]\n",
    "columns = ['city', 'monday', 'wednesday', 'friday']\n",
    "number_tracks_result = pd.DataFrame(data = data, columns = columns)\n",
    "display(number_tracks_result.style.set_properties(**{'text-align': 'left'}))\n",
    "\n",
    "# Таблица с результатами"
   ]
  },
  {
   "cell_type": "markdown",
   "metadata": {
    "id": "-EgPIHYu_Zcu"
   },
   "source": [
    "**Выводы**\n",
    "\n",
    "Данные показывают разницу поведения пользователей:\n",
    "\n",
    "- В Москве пик прослушиваний приходится на понедельник и пятницу, а в среду заметен спад.\n",
    "- В Петербурге, наоборот, больше слушают музыку по средам. Активность в понедельник и пятницу здесь почти в равной мере уступает среде.\n",
    "\n",
    "Значит, данные говорят в пользу первой гипотезы."
   ]
  },
  {
   "cell_type": "markdown",
   "metadata": {
    "id": "atZAxtq4_Zcu"
   },
   "source": [
    "### Музыка в начале и в конце недели"
   ]
  },
  {
   "cell_type": "markdown",
   "metadata": {
    "id": "eXrQqXFH_Zcu"
   },
   "source": [
    "Согласно второй гипотезе, утром в понедельник в Москве преобладают одни жанры, а в Петербурге — другие. Так же и вечером пятницы преобладают разные жанры — в зависимости от города."
   ]
  },
  {
   "cell_type": "markdown",
   "metadata": {
    "id": "S8UcW6Hw_Zcu"
   },
   "source": [
    "Сохраним таблицы с данными в две переменные:\n",
    "* по Москве — в `moscow_general`;\n",
    "* по Санкт-Петербургу — в `spb_general`."
   ]
  },
  {
   "cell_type": "code",
   "execution_count": 28,
   "metadata": {
    "id": "qeaFfM_P_Zcu"
   },
   "outputs": [
    {
     "data": {
      "text/html": [
       "<div>\n",
       "<style scoped>\n",
       "    .dataframe tbody tr th:only-of-type {\n",
       "        vertical-align: middle;\n",
       "    }\n",
       "\n",
       "    .dataframe tbody tr th {\n",
       "        vertical-align: top;\n",
       "    }\n",
       "\n",
       "    .dataframe thead th {\n",
       "        text-align: right;\n",
       "    }\n",
       "</style>\n",
       "<table border=\"1\" class=\"dataframe\">\n",
       "  <thead>\n",
       "    <tr style=\"text-align: right;\">\n",
       "      <th></th>\n",
       "      <th>user_id</th>\n",
       "      <th>track</th>\n",
       "      <th>artist</th>\n",
       "      <th>genre</th>\n",
       "      <th>city</th>\n",
       "      <th>time</th>\n",
       "      <th>day</th>\n",
       "    </tr>\n",
       "  </thead>\n",
       "  <tbody>\n",
       "    <tr>\n",
       "      <th>1</th>\n",
       "      <td>55204538</td>\n",
       "      <td>Delayed Because of Accident</td>\n",
       "      <td>Andreas Rönnberg</td>\n",
       "      <td>rock</td>\n",
       "      <td>Moscow</td>\n",
       "      <td>14:07:09</td>\n",
       "      <td>Friday</td>\n",
       "    </tr>\n",
       "    <tr>\n",
       "      <th>4</th>\n",
       "      <td>E2DC1FAE</td>\n",
       "      <td>Soul People</td>\n",
       "      <td>Space Echo</td>\n",
       "      <td>dance</td>\n",
       "      <td>Moscow</td>\n",
       "      <td>08:34:34</td>\n",
       "      <td>Monday</td>\n",
       "    </tr>\n",
       "    <tr>\n",
       "      <th>6</th>\n",
       "      <td>4CB90AA5</td>\n",
       "      <td>True</td>\n",
       "      <td>Roman Messer</td>\n",
       "      <td>dance</td>\n",
       "      <td>Moscow</td>\n",
       "      <td>13:00:07</td>\n",
       "      <td>Wednesday</td>\n",
       "    </tr>\n",
       "    <tr>\n",
       "      <th>7</th>\n",
       "      <td>F03E1C1F</td>\n",
       "      <td>Feeling This Way</td>\n",
       "      <td>Polina Griffith</td>\n",
       "      <td>dance</td>\n",
       "      <td>Moscow</td>\n",
       "      <td>20:47:49</td>\n",
       "      <td>Wednesday</td>\n",
       "    </tr>\n",
       "    <tr>\n",
       "      <th>8</th>\n",
       "      <td>8FA1D3BE</td>\n",
       "      <td>И вновь продолжается бой</td>\n",
       "      <td>unknown</td>\n",
       "      <td>ruspop</td>\n",
       "      <td>Moscow</td>\n",
       "      <td>09:17:40</td>\n",
       "      <td>Friday</td>\n",
       "    </tr>\n",
       "  </tbody>\n",
       "</table>\n",
       "</div>"
      ],
      "text/plain": [
       "    user_id                        track            artist   genre    city  \\\n",
       "1  55204538  Delayed Because of Accident  Andreas Rönnberg    rock  Moscow   \n",
       "4  E2DC1FAE                  Soul People        Space Echo   dance  Moscow   \n",
       "6  4CB90AA5                         True      Roman Messer   dance  Moscow   \n",
       "7  F03E1C1F             Feeling This Way   Polina Griffith   dance  Moscow   \n",
       "8  8FA1D3BE     И вновь продолжается бой           unknown  ruspop  Moscow   \n",
       "\n",
       "       time        day  \n",
       "1  14:07:09     Friday  \n",
       "4  08:34:34     Monday  \n",
       "6  13:00:07  Wednesday  \n",
       "7  20:47:49  Wednesday  \n",
       "8  09:17:40     Friday  "
      ]
     },
     "metadata": {},
     "output_type": "display_data"
    }
   ],
   "source": [
    "moscow_general = df[df['city'] == 'Moscow']\n",
    "display(moscow_general.head())\n",
    "# получение таблицы moscow_general из тех строк таблицы df, \n",
    "# для которых значение в столбце 'city' равно 'Moscow'\n"
   ]
  },
  {
   "cell_type": "code",
   "execution_count": 29,
   "metadata": {
    "id": "ORaVRKto_Zcu"
   },
   "outputs": [
    {
     "data": {
      "text/html": [
       "<div>\n",
       "<style scoped>\n",
       "    .dataframe tbody tr th:only-of-type {\n",
       "        vertical-align: middle;\n",
       "    }\n",
       "\n",
       "    .dataframe tbody tr th {\n",
       "        vertical-align: top;\n",
       "    }\n",
       "\n",
       "    .dataframe thead th {\n",
       "        text-align: right;\n",
       "    }\n",
       "</style>\n",
       "<table border=\"1\" class=\"dataframe\">\n",
       "  <thead>\n",
       "    <tr style=\"text-align: right;\">\n",
       "      <th></th>\n",
       "      <th>user_id</th>\n",
       "      <th>track</th>\n",
       "      <th>artist</th>\n",
       "      <th>genre</th>\n",
       "      <th>city</th>\n",
       "      <th>time</th>\n",
       "      <th>day</th>\n",
       "    </tr>\n",
       "  </thead>\n",
       "  <tbody>\n",
       "    <tr>\n",
       "      <th>0</th>\n",
       "      <td>FFB692EC</td>\n",
       "      <td>Kamigata To Boots</td>\n",
       "      <td>The Mass Missile</td>\n",
       "      <td>rock</td>\n",
       "      <td>Saint-Petersburg</td>\n",
       "      <td>20:28:33</td>\n",
       "      <td>Wednesday</td>\n",
       "    </tr>\n",
       "    <tr>\n",
       "      <th>2</th>\n",
       "      <td>20EC38</td>\n",
       "      <td>Funiculì funiculà</td>\n",
       "      <td>Mario Lanza</td>\n",
       "      <td>pop</td>\n",
       "      <td>Saint-Petersburg</td>\n",
       "      <td>20:58:07</td>\n",
       "      <td>Wednesday</td>\n",
       "    </tr>\n",
       "    <tr>\n",
       "      <th>3</th>\n",
       "      <td>A3DD03C9</td>\n",
       "      <td>Dragons in the Sunset</td>\n",
       "      <td>Fire + Ice</td>\n",
       "      <td>folk</td>\n",
       "      <td>Saint-Petersburg</td>\n",
       "      <td>08:37:09</td>\n",
       "      <td>Monday</td>\n",
       "    </tr>\n",
       "    <tr>\n",
       "      <th>5</th>\n",
       "      <td>842029A1</td>\n",
       "      <td>Преданная</td>\n",
       "      <td>IMPERVTOR</td>\n",
       "      <td>rusrap</td>\n",
       "      <td>Saint-Petersburg</td>\n",
       "      <td>13:09:41</td>\n",
       "      <td>Friday</td>\n",
       "    </tr>\n",
       "    <tr>\n",
       "      <th>9</th>\n",
       "      <td>E772D5C0</td>\n",
       "      <td>Pessimist</td>\n",
       "      <td>unknown</td>\n",
       "      <td>dance</td>\n",
       "      <td>Saint-Petersburg</td>\n",
       "      <td>21:20:49</td>\n",
       "      <td>Wednesday</td>\n",
       "    </tr>\n",
       "  </tbody>\n",
       "</table>\n",
       "</div>"
      ],
      "text/plain": [
       "    user_id                  track            artist   genre  \\\n",
       "0  FFB692EC      Kamigata To Boots  The Mass Missile    rock   \n",
       "2    20EC38      Funiculì funiculà       Mario Lanza     pop   \n",
       "3  A3DD03C9  Dragons in the Sunset        Fire + Ice    folk   \n",
       "5  842029A1              Преданная         IMPERVTOR  rusrap   \n",
       "9  E772D5C0              Pessimist           unknown   dance   \n",
       "\n",
       "               city      time        day  \n",
       "0  Saint-Petersburg  20:28:33  Wednesday  \n",
       "2  Saint-Petersburg  20:58:07  Wednesday  \n",
       "3  Saint-Petersburg  08:37:09     Monday  \n",
       "5  Saint-Petersburg  13:09:41     Friday  \n",
       "9  Saint-Petersburg  21:20:49  Wednesday  "
      ]
     },
     "metadata": {},
     "output_type": "display_data"
    }
   ],
   "source": [
    "spb_general = df[df['city'] == 'Saint-Petersburg']\n",
    "display(spb_general.head())\n",
    "# получение таблицы spb_general из тех строк таблицы df,\n",
    "# для которых значение в столбце 'city' равно 'Saint-Petersburg'\n"
   ]
  },
  {
   "cell_type": "markdown",
   "metadata": {
    "id": "MEJV-CX2_Zcu"
   },
   "source": [
    "Создадим функцию `genre_weekday()` с четырьмя параметрами:\n",
    "* таблица (датафрейм) с данными,\n",
    "* день недели,\n",
    "* начальная временная метка в формате 'hh:mm', \n",
    "* последняя временная метка в формате 'hh:mm'.\n",
    "\n",
    "Функция должна вернуть информацию о топ-10 жанров тех треков, которые прослушивали в указанный день, в промежутке между двумя отметками времени."
   ]
  },
  {
   "cell_type": "code",
   "execution_count": 30,
   "metadata": {
    "id": "laJT9BYl_Zcu"
   },
   "outputs": [],
   "source": [
    "def genre_weekday(table, day, time_1, time_2):\n",
    "    genre_df = table.loc[(table['day'] == day) & (table['time'] > time_1) & (table['time'] < time_2)]\n",
    "    genre_df_count = genre_df.groupby('genre')['genre'].count()\n",
    "    genre_df_sorted = genre_df_count.sort_values(ascending=False)\n",
    "    display(genre_df_sorted.head(10))"
   ]
  },
  {
   "cell_type": "markdown",
   "metadata": {
    "id": "la2s2_PF_Zcu"
   },
   "source": [
    "Cравним результаты функции `genre_weekday()` для Москвы и Санкт-Петербурга в понедельник утром (с 7:00 до 11:00) и в пятницу вечером (с 17:00 до 23:00):"
   ]
  },
  {
   "cell_type": "code",
   "execution_count": 31,
   "metadata": {
    "id": "yz7itPUQ_Zcu"
   },
   "outputs": [
    {
     "data": {
      "text/plain": [
       "genre\n",
       "pop            781\n",
       "dance          549\n",
       "electronic     480\n",
       "rock           474\n",
       "hiphop         286\n",
       "ruspop         186\n",
       "world          181\n",
       "rusrap         175\n",
       "alternative    164\n",
       "unknown        161\n",
       "Name: genre, dtype: int64"
      ]
     },
     "metadata": {},
     "output_type": "display_data"
    }
   ],
   "source": [
    "genre_weekday(moscow_general, 'Monday', '07:00', '11:00')"
   ]
  },
  {
   "cell_type": "code",
   "execution_count": 32,
   "metadata": {
    "id": "kwUcHPdy_Zcu"
   },
   "outputs": [
    {
     "data": {
      "text/plain": [
       "genre\n",
       "pop            218\n",
       "dance          182\n",
       "rock           162\n",
       "electronic     147\n",
       "hiphop          80\n",
       "ruspop          64\n",
       "alternative     58\n",
       "rusrap          55\n",
       "jazz            44\n",
       "classical       40\n",
       "Name: genre, dtype: int64"
      ]
     },
     "metadata": {},
     "output_type": "display_data"
    }
   ],
   "source": [
    "genre_weekday(spb_general, 'Monday', '07:00', '11:00')"
   ]
  },
  {
   "cell_type": "code",
   "execution_count": 33,
   "metadata": {
    "id": "EzXVRE1o_Zcu"
   },
   "outputs": [
    {
     "data": {
      "text/plain": [
       "genre\n",
       "pop            713\n",
       "rock           517\n",
       "dance          495\n",
       "electronic     482\n",
       "hiphop         273\n",
       "world          208\n",
       "ruspop         170\n",
       "alternative    163\n",
       "classical      163\n",
       "rusrap         142\n",
       "Name: genre, dtype: int64"
      ]
     },
     "metadata": {},
     "output_type": "display_data"
    }
   ],
   "source": [
    "genre_weekday(moscow_general, 'Friday', '17:00', '23:00')"
   ]
  },
  {
   "cell_type": "code",
   "execution_count": 34,
   "metadata": {
    "id": "JZaEKu5v_Zcu"
   },
   "outputs": [
    {
     "data": {
      "text/plain": [
       "genre\n",
       "pop            256\n",
       "electronic     216\n",
       "rock           216\n",
       "dance          210\n",
       "hiphop          97\n",
       "alternative     63\n",
       "jazz            61\n",
       "classical       60\n",
       "rusrap          59\n",
       "world           54\n",
       "Name: genre, dtype: int64"
      ]
     },
     "metadata": {},
     "output_type": "display_data"
    }
   ],
   "source": [
    "genre_weekday(spb_general, 'Friday', '17:00', '23:00')"
   ]
  },
  {
   "cell_type": "markdown",
   "metadata": {
    "id": "wrCe4MNX_Zcu"
   },
   "source": [
    "**Выводы**\n",
    "\n",
    "Если сравнить топ-10 жанров в понедельник утром, можно сделать такие выводы:\n",
    "\n",
    "1. В Москве и Петербурге слушают похожую музыку. Единственное отличие — в московский рейтинг вошёл жанр “world”, а в петербургский — джаз и классика.\n",
    "\n",
    "2. В Москве пропущенных значений оказалось так много, что значение `'unknown'` заняло десятое место среди самых популярных жанров. Значит, пропущенные значения занимают существенную долю в данных и угрожают достоверности исследования.\n",
    "\n",
    "Вечер пятницы не меняет эту картину. Некоторые жанры поднимаются немного выше, другие спускаются, но в целом топ-10 остаётся тем же самым.\n",
    "\n",
    "Таким образом, вторая гипотеза подтвердилась лишь частично:\n",
    "* Пользователи слушают похожую музыку в начале недели и в конце.\n",
    "* Разница между Москвой и Петербургом не слишком выражена. В Москве чаще слушают русскую популярную музыку, в Петербурге — джаз.\n",
    "\n",
    "Однако пропуски в данных ставят под сомнение этот результат. В Москве их так много, что рейтинг топ-10 мог бы выглядеть иначе, если бы не утерянные  данные о жанрах."
   ]
  },
  {
   "cell_type": "markdown",
   "metadata": {
    "id": "JolODAqr_Zcu"
   },
   "source": [
    "### Жанровые предпочтения в Москве и Петербурге\n",
    "\n",
    "Гипотеза: в Петербурге чаще слушают музыку жанра \"рэп\".  В Москве преобладает поп-музыка."
   ]
  },
  {
   "cell_type": "markdown",
   "metadata": {
    "id": "DlegSvaT_Zcu"
   },
   "source": [
    "Сгруппируем таблицу `moscow_general` по жанру и посчитаем прослушивания треков каждого жанра."
   ]
  },
  {
   "cell_type": "code",
   "execution_count": 35,
   "metadata": {
    "id": "r19lIPke_Zcu"
   },
   "outputs": [],
   "source": [
    "moscow_genres = moscow_general.groupby('genre')['genre'].count().sort_values(ascending=False)"
   ]
  },
  {
   "cell_type": "markdown",
   "metadata": {
    "id": "6kMuomxTiIr8"
   },
   "source": [
    "Выведем на экран первые десять строк `moscow_genres`:"
   ]
  },
  {
   "cell_type": "code",
   "execution_count": 36,
   "metadata": {
    "id": "WhCSooF8_Zcv"
   },
   "outputs": [
    {
     "data": {
      "text/plain": [
       "genre\n",
       "pop            5892\n",
       "dance          4435\n",
       "rock           3965\n",
       "electronic     3786\n",
       "hiphop         2096\n",
       "classical      1616\n",
       "world          1432\n",
       "alternative    1379\n",
       "ruspop         1372\n",
       "rusrap         1161\n",
       "Name: genre, dtype: int64"
      ]
     },
     "execution_count": 36,
     "metadata": {},
     "output_type": "execute_result"
    }
   ],
   "source": [
    "moscow_genres.head(10)    # просмотр первых 10 строк moscow_genres"
   ]
  },
  {
   "cell_type": "markdown",
   "metadata": {
    "id": "cnPG2vnN_Zcv"
   },
   "source": [
    "Теперь повторим то же и для Петербурга."
   ]
  },
  {
   "cell_type": "code",
   "execution_count": null,
   "metadata": {},
   "outputs": [],
   "source": [
    "spb_genres = spb_general.groupby('genre')['genre'].count().sort_values(ascending=False)"
   ]
  },
  {
   "cell_type": "markdown",
   "metadata": {
    "id": "5Doha_ODgyQ8"
   },
   "source": [
    "Выведем на экран первые десять строк `spb_genres`:"
   ]
  },
  {
   "cell_type": "code",
   "execution_count": 38,
   "metadata": {
    "id": "uaGJHjVU_Zcv"
   },
   "outputs": [
    {
     "data": {
      "text/plain": [
       "genre\n",
       "pop            2431\n",
       "dance          1932\n",
       "rock           1879\n",
       "electronic     1736\n",
       "hiphop          960\n",
       "alternative     649\n",
       "classical       646\n",
       "rusrap          564\n",
       "ruspop          538\n",
       "world           515\n",
       "Name: genre, dtype: int64"
      ]
     },
     "execution_count": 38,
     "metadata": {},
     "output_type": "execute_result"
    }
   ],
   "source": [
    "spb_genres.head(10)    # просмотр первых 10 строк spb_genres"
   ]
  },
  {
   "cell_type": "markdown",
   "metadata": {
    "id": "RY51YJYu_Zcv"
   },
   "source": [
    "**Выводы**"
   ]
  },
  {
   "cell_type": "markdown",
   "metadata": {
    "id": "nVhnJEm__Zcv"
   },
   "source": [
    "Гипотеза частично подтвердилась:\n",
    "* Поп-музыка — самый популярный жанр в Москве. Более того, в топ-10 жанров встречается близкий жанр — русская популярная музыка.\n",
    "* Вопреки ожиданиям, рэп одинаково популярен в Москве и Петербурге. \n"
   ]
  },
  {
   "cell_type": "markdown",
   "metadata": {
    "id": "ykKQ0N65_Zcv"
   },
   "source": [
    "## Итоги исследования"
   ]
  },
  {
   "cell_type": "markdown",
   "metadata": {
    "id": "tjUwbHb3_Zcv"
   },
   "source": [
    "В результате проверки гипотез можно сделать следующие выводы:\n",
    "\n",
    "1. День недели по-разному влияет на активность пользователей в Москве и Петербурге. \n",
    "2. Музыкальные предпочтения не сильно меняются в течение недели в обоих городах. Небольшие различия заметны в начале недели, по понедельникам:\n",
    "* в Москве слушают музыку жанра “world”,\n",
    "* в Петербурге — джаз и классику.\n",
    "\n",
    "Надо принимать во внимание, что этот результат мог оказаться иным, если бы не пропуски в данных.\n",
    "\n",
    "3. Во вкусах пользователей Москвы и Петербурга больше общего чем различий. Предпочтения жанров в Петербурге напоминают московские."
   ]
  }
 ],
 "metadata": {
  "ExecuteTimeLog": [
   {
    "duration": 119,
    "start_time": "2021-09-12T04:06:51.961Z"
   },
   {
    "duration": 456,
    "start_time": "2021-09-12T04:07:05.466Z"
   },
   {
    "duration": 195,
    "start_time": "2021-09-12T04:07:10.832Z"
   },
   {
    "duration": 27,
    "start_time": "2021-09-12T04:07:39.972Z"
   },
   {
    "duration": 36,
    "start_time": "2021-09-12T04:08:09.251Z"
   },
   {
    "duration": 6,
    "start_time": "2021-09-12T04:21:10.973Z"
   },
   {
    "duration": 31,
    "start_time": "2021-09-12T04:23:00.170Z"
   },
   {
    "duration": 6,
    "start_time": "2021-09-12T04:23:16.898Z"
   },
   {
    "duration": 28,
    "start_time": "2021-09-12T04:23:32.378Z"
   },
   {
    "duration": 24,
    "start_time": "2021-09-12T04:23:35.301Z"
   },
   {
    "duration": 6,
    "start_time": "2021-09-12T04:23:37.476Z"
   },
   {
    "duration": 31,
    "start_time": "2021-09-12T04:25:48.756Z"
   },
   {
    "duration": 26,
    "start_time": "2021-09-12T04:28:45.820Z"
   },
   {
    "duration": 32,
    "start_time": "2021-09-12T04:29:26.321Z"
   },
   {
    "duration": 86,
    "start_time": "2021-09-12T04:31:22.471Z"
   },
   {
    "duration": 94,
    "start_time": "2021-09-12T04:32:09.451Z"
   },
   {
    "duration": 77,
    "start_time": "2021-09-12T04:32:19.356Z"
   },
   {
    "duration": 9,
    "start_time": "2021-09-12T04:33:31.778Z"
   },
   {
    "duration": -124,
    "start_time": "2021-09-12T04:35:35.101Z"
   },
   {
    "duration": 14,
    "start_time": "2021-09-12T04:35:42.908Z"
   },
   {
    "duration": 132,
    "start_time": "2021-09-12T04:41:41.544Z"
   },
   {
    "duration": 4,
    "start_time": "2021-09-12T04:41:51.288Z"
   },
   {
    "duration": 14,
    "start_time": "2021-09-12T04:43:20.549Z"
   },
   {
    "duration": 17,
    "start_time": "2021-09-12T04:43:42.354Z"
   },
   {
    "duration": 43,
    "start_time": "2021-09-12T04:54:03.273Z"
   },
   {
    "duration": 16,
    "start_time": "2021-09-12T04:54:51.068Z"
   },
   {
    "duration": 45,
    "start_time": "2021-09-12T04:55:03.543Z"
   },
   {
    "duration": 14,
    "start_time": "2021-09-12T04:55:54.291Z"
   },
   {
    "duration": 46,
    "start_time": "2021-09-12T04:57:01.095Z"
   },
   {
    "duration": 14,
    "start_time": "2021-09-12T04:57:24.029Z"
   },
   {
    "duration": 118,
    "start_time": "2021-09-12T05:04:01.353Z"
   },
   {
    "duration": 5,
    "start_time": "2021-09-12T05:04:12.717Z"
   },
   {
    "duration": 5,
    "start_time": "2021-09-12T05:04:17.012Z"
   },
   {
    "duration": 52,
    "start_time": "2021-09-12T05:06:52.243Z"
   },
   {
    "duration": 7,
    "start_time": "2021-09-12T05:09:42.806Z"
   },
   {
    "duration": 51,
    "start_time": "2021-09-12T05:09:45.866Z"
   },
   {
    "duration": 5,
    "start_time": "2021-09-12T05:18:19.997Z"
   },
   {
    "duration": 54,
    "start_time": "2021-09-12T05:18:25.068Z"
   },
   {
    "duration": 5,
    "start_time": "2021-09-12T05:20:33.454Z"
   },
   {
    "duration": 4,
    "start_time": "2021-09-12T05:21:15.851Z"
   },
   {
    "duration": 62,
    "start_time": "2021-09-12T05:21:15.858Z"
   },
   {
    "duration": 5,
    "start_time": "2021-09-12T05:29:02.870Z"
   },
   {
    "duration": 41,
    "start_time": "2021-09-12T05:29:06.930Z"
   },
   {
    "duration": 5,
    "start_time": "2021-09-12T05:31:27.088Z"
   },
   {
    "duration": 38,
    "start_time": "2021-09-12T05:31:30.434Z"
   },
   {
    "duration": 28,
    "start_time": "2021-09-12T05:32:11.301Z"
   },
   {
    "duration": 39,
    "start_time": "2021-09-12T05:32:57.493Z"
   },
   {
    "duration": 12,
    "start_time": "2021-09-12T05:33:31.198Z"
   },
   {
    "duration": 34,
    "start_time": "2021-09-12T05:33:58.234Z"
   },
   {
    "duration": 28,
    "start_time": "2021-09-12T05:34:02.189Z"
   },
   {
    "duration": 37,
    "start_time": "2021-09-12T05:34:24.330Z"
   },
   {
    "duration": 28,
    "start_time": "2021-09-12T05:34:45.368Z"
   },
   {
    "duration": 12,
    "start_time": "2021-09-12T06:19:12.784Z"
   },
   {
    "duration": 19,
    "start_time": "2021-09-12T06:30:33.019Z"
   },
   {
    "duration": 12,
    "start_time": "2021-09-12T06:30:44.256Z"
   },
   {
    "duration": 1770,
    "start_time": "2021-09-12T06:36:37.442Z"
   },
   {
    "duration": 22,
    "start_time": "2021-09-12T06:44:04.631Z"
   },
   {
    "duration": 5,
    "start_time": "2021-09-12T06:51:30.097Z"
   },
   {
    "duration": 5,
    "start_time": "2021-09-12T06:51:43.857Z"
   },
   {
    "duration": 6,
    "start_time": "2021-09-12T07:03:26.391Z"
   },
   {
    "duration": 6,
    "start_time": "2021-09-12T07:04:01.279Z"
   },
   {
    "duration": 838,
    "start_time": "2021-09-12T07:04:26.563Z"
   },
   {
    "duration": 668,
    "start_time": "2021-09-12T07:05:02.240Z"
   },
   {
    "duration": 703,
    "start_time": "2021-09-12T07:05:43.156Z"
   },
   {
    "duration": 5,
    "start_time": "2021-09-12T07:06:28.727Z"
   },
   {
    "duration": 33,
    "start_time": "2021-09-12T07:06:31.665Z"
   },
   {
    "duration": 327,
    "start_time": "2021-09-12T07:07:46.352Z"
   },
   {
    "duration": 398,
    "start_time": "2021-09-12T07:08:00.578Z"
   },
   {
    "duration": 14,
    "start_time": "2021-09-12T07:08:17.859Z"
   },
   {
    "duration": 19,
    "start_time": "2021-09-12T07:08:22.848Z"
   },
   {
    "duration": 18,
    "start_time": "2021-09-12T07:11:50.124Z"
   },
   {
    "duration": 22,
    "start_time": "2021-09-12T07:13:38.864Z"
   },
   {
    "duration": 16,
    "start_time": "2021-09-12T07:14:02.395Z"
   },
   {
    "duration": 24,
    "start_time": "2021-09-12T07:14:56.517Z"
   },
   {
    "duration": 25,
    "start_time": "2021-09-12T07:15:07.698Z"
   },
   {
    "duration": 18,
    "start_time": "2021-09-12T07:15:11.876Z"
   },
   {
    "duration": 25,
    "start_time": "2021-09-12T07:15:15.515Z"
   },
   {
    "duration": 17,
    "start_time": "2021-09-12T07:15:18.469Z"
   },
   {
    "duration": 12,
    "start_time": "2021-09-12T07:19:47.038Z"
   },
   {
    "duration": 8,
    "start_time": "2021-09-12T07:19:49.579Z"
   },
   {
    "duration": 9,
    "start_time": "2021-09-12T07:20:38.536Z"
   },
   {
    "duration": 8,
    "start_time": "2021-09-12T07:21:39.935Z"
   },
   {
    "duration": 113,
    "start_time": "2021-09-12T21:20:45.324Z"
   },
   {
    "duration": 177,
    "start_time": "2021-09-13T04:56:56.966Z"
   },
   {
    "duration": 310,
    "start_time": "2021-09-13T04:57:14.392Z"
   },
   {
    "duration": 180,
    "start_time": "2021-09-13T04:57:26.777Z"
   },
   {
    "duration": 188,
    "start_time": "2021-09-13T04:57:38.551Z"
   },
   {
    "duration": 171,
    "start_time": "2021-09-13T04:57:48.695Z"
   },
   {
    "duration": 173,
    "start_time": "2021-09-13T04:58:05.802Z"
   },
   {
    "duration": 164,
    "start_time": "2021-09-13T04:58:10.288Z"
   },
   {
    "duration": 557,
    "start_time": "2021-09-13T04:58:21.373Z"
   },
   {
    "duration": 149,
    "start_time": "2021-09-13T04:58:22.611Z"
   },
   {
    "duration": 16,
    "start_time": "2021-09-13T04:58:24.410Z"
   },
   {
    "duration": 24,
    "start_time": "2021-09-13T04:58:30.880Z"
   },
   {
    "duration": 3,
    "start_time": "2021-09-13T05:12:43.840Z"
   },
   {
    "duration": 145,
    "start_time": "2021-09-13T05:12:43.865Z"
   },
   {
    "duration": 10,
    "start_time": "2021-09-13T05:12:44.012Z"
   },
   {
    "duration": 29,
    "start_time": "2021-09-13T05:12:44.024Z"
   },
   {
    "duration": 4,
    "start_time": "2021-09-13T05:12:44.055Z"
   },
   {
    "duration": 43,
    "start_time": "2021-09-13T05:12:44.061Z"
   },
   {
    "duration": 4,
    "start_time": "2021-09-13T05:12:44.106Z"
   },
   {
    "duration": 22,
    "start_time": "2021-09-13T05:12:44.111Z"
   },
   {
    "duration": 15,
    "start_time": "2021-09-13T05:12:44.135Z"
   },
   {
    "duration": 40,
    "start_time": "2021-09-13T05:12:44.152Z"
   },
   {
    "duration": 54,
    "start_time": "2021-09-13T05:12:44.194Z"
   },
   {
    "duration": 77,
    "start_time": "2021-09-13T05:12:44.249Z"
   },
   {
    "duration": 46,
    "start_time": "2021-09-13T05:12:44.327Z"
   },
   {
    "duration": 16,
    "start_time": "2021-09-13T05:12:44.374Z"
   },
   {
    "duration": 2,
    "start_time": "2021-09-13T05:12:44.392Z"
   },
   {
    "duration": 10,
    "start_time": "2021-09-13T05:12:44.396Z"
   },
   {
    "duration": 8,
    "start_time": "2021-09-13T05:12:44.407Z"
   },
   {
    "duration": 9,
    "start_time": "2021-09-13T05:12:44.417Z"
   },
   {
    "duration": 9,
    "start_time": "2021-09-13T05:12:44.427Z"
   },
   {
    "duration": 3,
    "start_time": "2021-09-13T05:12:48.760Z"
   },
   {
    "duration": 439,
    "start_time": "2021-09-13T05:12:56.439Z"
   },
   {
    "duration": 395,
    "start_time": "2021-09-13T05:13:12.306Z"
   },
   {
    "duration": 3,
    "start_time": "2021-09-13T05:13:15.376Z"
   },
   {
    "duration": 1339,
    "start_time": "2021-09-13T05:13:17.862Z"
   },
   {
    "duration": 3,
    "start_time": "2021-09-13T05:13:23.146Z"
   },
   {
    "duration": 514,
    "start_time": "2021-09-13T05:13:26.496Z"
   },
   {
    "duration": 3,
    "start_time": "2021-09-13T05:26:59.266Z"
   },
   {
    "duration": 140,
    "start_time": "2021-09-13T05:26:59.273Z"
   },
   {
    "duration": 10,
    "start_time": "2021-09-13T05:26:59.415Z"
   },
   {
    "duration": 24,
    "start_time": "2021-09-13T05:26:59.427Z"
   },
   {
    "duration": 5,
    "start_time": "2021-09-13T05:26:59.453Z"
   },
   {
    "duration": 31,
    "start_time": "2021-09-13T05:26:59.485Z"
   },
   {
    "duration": 4,
    "start_time": "2021-09-13T05:26:59.518Z"
   },
   {
    "duration": 26,
    "start_time": "2021-09-13T05:26:59.524Z"
   },
   {
    "duration": 44,
    "start_time": "2021-09-13T05:26:59.552Z"
   },
   {
    "duration": 20,
    "start_time": "2021-09-13T05:26:59.598Z"
   },
   {
    "duration": 66,
    "start_time": "2021-09-13T05:26:59.619Z"
   },
   {
    "duration": 57,
    "start_time": "2021-09-13T05:26:59.686Z"
   },
   {
    "duration": 58,
    "start_time": "2021-09-13T05:26:59.745Z"
   },
   {
    "duration": 9,
    "start_time": "2021-09-13T05:26:59.804Z"
   },
   {
    "duration": 3,
    "start_time": "2021-09-13T05:26:59.814Z"
   },
   {
    "duration": 10,
    "start_time": "2021-09-13T05:26:59.818Z"
   },
   {
    "duration": 8,
    "start_time": "2021-09-13T05:26:59.830Z"
   },
   {
    "duration": 9,
    "start_time": "2021-09-13T05:26:59.839Z"
   },
   {
    "duration": 41,
    "start_time": "2021-09-13T05:26:59.850Z"
   },
   {
    "duration": 3,
    "start_time": "2021-09-13T05:26:59.892Z"
   },
   {
    "duration": 6474,
    "start_time": "2021-09-13T05:26:59.897Z"
   },
   {
    "duration": -131,
    "start_time": "2021-09-13T05:27:06.504Z"
   },
   {
    "duration": -155,
    "start_time": "2021-09-13T05:27:06.529Z"
   },
   {
    "duration": -165,
    "start_time": "2021-09-13T05:27:06.540Z"
   },
   {
    "duration": -179,
    "start_time": "2021-09-13T05:27:06.555Z"
   },
   {
    "duration": -185,
    "start_time": "2021-09-13T05:27:06.562Z"
   },
   {
    "duration": -191,
    "start_time": "2021-09-13T05:27:06.569Z"
   },
   {
    "duration": -201,
    "start_time": "2021-09-13T05:27:06.579Z"
   },
   {
    "duration": -211,
    "start_time": "2021-09-13T05:27:06.591Z"
   },
   {
    "duration": -217,
    "start_time": "2021-09-13T05:27:06.598Z"
   },
   {
    "duration": -225,
    "start_time": "2021-09-13T05:27:06.607Z"
   },
   {
    "duration": -236,
    "start_time": "2021-09-13T05:27:06.619Z"
   },
   {
    "duration": -243,
    "start_time": "2021-09-13T05:27:06.627Z"
   },
   {
    "duration": -250,
    "start_time": "2021-09-13T05:27:06.634Z"
   },
   {
    "duration": -257,
    "start_time": "2021-09-13T05:27:06.642Z"
   },
   {
    "duration": -267,
    "start_time": "2021-09-13T05:27:06.653Z"
   },
   {
    "duration": -274,
    "start_time": "2021-09-13T05:27:06.661Z"
   },
   {
    "duration": -279,
    "start_time": "2021-09-13T05:27:06.667Z"
   },
   {
    "duration": 2,
    "start_time": "2021-09-13T05:27:47.016Z"
   },
   {
    "duration": 133,
    "start_time": "2021-09-13T05:27:47.022Z"
   },
   {
    "duration": 9,
    "start_time": "2021-09-13T05:27:47.157Z"
   },
   {
    "duration": 33,
    "start_time": "2021-09-13T05:27:47.168Z"
   },
   {
    "duration": 4,
    "start_time": "2021-09-13T05:27:47.203Z"
   },
   {
    "duration": 18,
    "start_time": "2021-09-13T05:27:47.209Z"
   },
   {
    "duration": 4,
    "start_time": "2021-09-13T05:27:47.228Z"
   },
   {
    "duration": 53,
    "start_time": "2021-09-13T05:27:47.233Z"
   },
   {
    "duration": 17,
    "start_time": "2021-09-13T05:27:47.288Z"
   },
   {
    "duration": 32,
    "start_time": "2021-09-13T05:27:47.307Z"
   },
   {
    "duration": 61,
    "start_time": "2021-09-13T05:27:47.340Z"
   },
   {
    "duration": 59,
    "start_time": "2021-09-13T05:27:47.403Z"
   },
   {
    "duration": 59,
    "start_time": "2021-09-13T05:27:47.463Z"
   },
   {
    "duration": 8,
    "start_time": "2021-09-13T05:27:47.524Z"
   },
   {
    "duration": 15,
    "start_time": "2021-09-13T05:27:47.533Z"
   },
   {
    "duration": 18,
    "start_time": "2021-09-13T05:27:47.549Z"
   },
   {
    "duration": 35,
    "start_time": "2021-09-13T05:27:47.568Z"
   },
   {
    "duration": 20,
    "start_time": "2021-09-13T05:27:47.605Z"
   },
   {
    "duration": 17,
    "start_time": "2021-09-13T05:27:47.627Z"
   },
   {
    "duration": 4,
    "start_time": "2021-09-13T05:27:49.643Z"
   },
   {
    "duration": 956,
    "start_time": "2021-09-13T05:27:53.106Z"
   },
   {
    "duration": 2,
    "start_time": "2021-09-13T05:40:13.216Z"
   },
   {
    "duration": 145,
    "start_time": "2021-09-13T05:40:13.222Z"
   },
   {
    "duration": 24,
    "start_time": "2021-09-13T05:40:13.369Z"
   },
   {
    "duration": 26,
    "start_time": "2021-09-13T05:40:13.396Z"
   },
   {
    "duration": 5,
    "start_time": "2021-09-13T05:40:13.424Z"
   },
   {
    "duration": 19,
    "start_time": "2021-09-13T05:40:13.430Z"
   },
   {
    "duration": 4,
    "start_time": "2021-09-13T05:40:13.451Z"
   },
   {
    "duration": 55,
    "start_time": "2021-09-13T05:40:13.456Z"
   },
   {
    "duration": 17,
    "start_time": "2021-09-13T05:40:13.513Z"
   },
   {
    "duration": 19,
    "start_time": "2021-09-13T05:40:13.532Z"
   },
   {
    "duration": 74,
    "start_time": "2021-09-13T05:40:13.553Z"
   },
   {
    "duration": 76,
    "start_time": "2021-09-13T05:40:13.629Z"
   },
   {
    "duration": 46,
    "start_time": "2021-09-13T05:40:13.707Z"
   },
   {
    "duration": 10,
    "start_time": "2021-09-13T05:40:13.755Z"
   },
   {
    "duration": 20,
    "start_time": "2021-09-13T05:40:13.766Z"
   },
   {
    "duration": 15,
    "start_time": "2021-09-13T05:40:13.788Z"
   },
   {
    "duration": 10,
    "start_time": "2021-09-13T05:40:13.805Z"
   },
   {
    "duration": 11,
    "start_time": "2021-09-13T05:40:13.817Z"
   },
   {
    "duration": 11,
    "start_time": "2021-09-13T05:40:13.830Z"
   },
   {
    "duration": 3,
    "start_time": "2021-09-13T05:40:17.951Z"
   },
   {
    "duration": 27,
    "start_time": "2021-09-13T05:40:23.822Z"
   },
   {
    "duration": 3,
    "start_time": "2021-09-13T05:41:17.970Z"
   },
   {
    "duration": 185,
    "start_time": "2021-09-13T05:41:17.975Z"
   },
   {
    "duration": 2,
    "start_time": "2021-09-13T05:41:22.300Z"
   },
   {
    "duration": 150,
    "start_time": "2021-09-13T05:41:22.309Z"
   },
   {
    "duration": 10,
    "start_time": "2021-09-13T05:41:22.461Z"
   },
   {
    "duration": 35,
    "start_time": "2021-09-13T05:41:22.473Z"
   },
   {
    "duration": 8,
    "start_time": "2021-09-13T05:41:22.510Z"
   },
   {
    "duration": 14,
    "start_time": "2021-09-13T05:41:22.520Z"
   },
   {
    "duration": 4,
    "start_time": "2021-09-13T05:41:22.536Z"
   },
   {
    "duration": 45,
    "start_time": "2021-09-13T05:41:22.541Z"
   },
   {
    "duration": 20,
    "start_time": "2021-09-13T05:41:22.589Z"
   },
   {
    "duration": 40,
    "start_time": "2021-09-13T05:41:22.611Z"
   },
   {
    "duration": 70,
    "start_time": "2021-09-13T05:41:22.653Z"
   },
   {
    "duration": 76,
    "start_time": "2021-09-13T05:41:22.724Z"
   },
   {
    "duration": 47,
    "start_time": "2021-09-13T05:41:22.802Z"
   },
   {
    "duration": 9,
    "start_time": "2021-09-13T05:41:22.850Z"
   },
   {
    "duration": 4,
    "start_time": "2021-09-13T05:41:22.860Z"
   },
   {
    "duration": 11,
    "start_time": "2021-09-13T05:41:22.890Z"
   },
   {
    "duration": 9,
    "start_time": "2021-09-13T05:41:22.903Z"
   },
   {
    "duration": 25,
    "start_time": "2021-09-13T05:41:22.913Z"
   },
   {
    "duration": 15,
    "start_time": "2021-09-13T05:41:22.939Z"
   },
   {
    "duration": 18,
    "start_time": "2021-09-13T05:41:22.956Z"
   },
   {
    "duration": 61,
    "start_time": "2021-09-13T05:41:22.975Z"
   },
   {
    "duration": 17,
    "start_time": "2021-09-13T05:41:23.038Z"
   },
   {
    "duration": 42,
    "start_time": "2021-09-13T05:41:23.056Z"
   },
   {
    "duration": 18,
    "start_time": "2021-09-13T05:41:23.101Z"
   },
   {
    "duration": 26,
    "start_time": "2021-09-13T05:41:23.121Z"
   },
   {
    "duration": 17,
    "start_time": "2021-09-13T05:41:23.149Z"
   },
   {
    "duration": 368,
    "start_time": "2021-09-13T05:41:23.167Z"
   },
   {
    "duration": 16,
    "start_time": "2021-09-13T05:41:23.537Z"
   },
   {
    "duration": 9,
    "start_time": "2021-09-13T05:41:23.554Z"
   },
   {
    "duration": 23,
    "start_time": "2021-09-13T05:41:23.565Z"
   },
   {
    "duration": 26,
    "start_time": "2021-09-13T05:41:23.590Z"
   },
   {
    "duration": 22,
    "start_time": "2021-09-13T05:41:23.618Z"
   },
   {
    "duration": 19,
    "start_time": "2021-09-13T05:41:23.642Z"
   },
   {
    "duration": 15,
    "start_time": "2021-09-13T05:41:23.663Z"
   },
   {
    "duration": 11,
    "start_time": "2021-09-13T05:41:23.689Z"
   },
   {
    "duration": 12,
    "start_time": "2021-09-13T05:41:23.701Z"
   },
   {
    "duration": 21,
    "start_time": "2021-09-13T05:41:23.715Z"
   },
   {
    "duration": 12,
    "start_time": "2021-09-13T05:41:23.737Z"
   },
   {
    "duration": 4,
    "start_time": "2021-09-13T05:42:12.806Z"
   },
   {
    "duration": 4,
    "start_time": "2021-09-13T05:42:22.266Z"
   },
   {
    "duration": 23,
    "start_time": "2021-09-13T05:42:29.542Z"
   },
   {
    "duration": 22,
    "start_time": "2021-09-13T05:42:38.813Z"
   },
   {
    "duration": 51,
    "start_time": "2021-09-13T05:42:47.598Z"
   },
   {
    "duration": 3,
    "start_time": "2021-09-13T05:42:59.611Z"
   },
   {
    "duration": 135,
    "start_time": "2021-09-13T05:42:59.618Z"
   },
   {
    "duration": 10,
    "start_time": "2021-09-13T05:42:59.755Z"
   },
   {
    "duration": 36,
    "start_time": "2021-09-13T05:42:59.767Z"
   },
   {
    "duration": 3,
    "start_time": "2021-09-13T05:42:59.805Z"
   },
   {
    "duration": 13,
    "start_time": "2021-09-13T05:42:59.810Z"
   },
   {
    "duration": 3,
    "start_time": "2021-09-13T05:42:59.825Z"
   },
   {
    "duration": 23,
    "start_time": "2021-09-13T05:42:59.830Z"
   },
   {
    "duration": 47,
    "start_time": "2021-09-13T05:42:59.855Z"
   },
   {
    "duration": 21,
    "start_time": "2021-09-13T05:42:59.904Z"
   },
   {
    "duration": 70,
    "start_time": "2021-09-13T05:42:59.926Z"
   },
   {
    "duration": 61,
    "start_time": "2021-09-13T05:42:59.998Z"
   },
   {
    "duration": 62,
    "start_time": "2021-09-13T05:43:00.061Z"
   },
   {
    "duration": 9,
    "start_time": "2021-09-13T05:43:00.125Z"
   },
   {
    "duration": 13,
    "start_time": "2021-09-13T05:43:00.135Z"
   },
   {
    "duration": 24,
    "start_time": "2021-09-13T05:43:00.149Z"
   },
   {
    "duration": 11,
    "start_time": "2021-09-13T05:43:00.174Z"
   },
   {
    "duration": 15,
    "start_time": "2021-09-13T05:43:00.187Z"
   },
   {
    "duration": 10,
    "start_time": "2021-09-13T05:43:00.204Z"
   },
   {
    "duration": 4,
    "start_time": "2021-09-13T05:43:00.216Z"
   },
   {
    "duration": 43,
    "start_time": "2021-09-13T05:43:00.222Z"
   },
   {
    "duration": 19,
    "start_time": "2021-09-13T05:43:00.266Z"
   },
   {
    "duration": 84,
    "start_time": "2021-09-13T05:43:00.287Z"
   },
   {
    "duration": 26,
    "start_time": "2021-09-13T05:43:00.374Z"
   },
   {
    "duration": 26,
    "start_time": "2021-09-13T05:43:00.402Z"
   },
   {
    "duration": 17,
    "start_time": "2021-09-13T05:43:00.430Z"
   },
   {
    "duration": 10,
    "start_time": "2021-09-13T05:43:00.449Z"
   },
   {
    "duration": 13,
    "start_time": "2021-09-13T05:43:00.484Z"
   },
   {
    "duration": 10,
    "start_time": "2021-09-13T05:43:00.498Z"
   },
   {
    "duration": 5,
    "start_time": "2021-09-13T05:43:00.510Z"
   },
   {
    "duration": 26,
    "start_time": "2021-09-13T05:43:00.516Z"
   },
   {
    "duration": 13,
    "start_time": "2021-09-13T05:43:00.544Z"
   },
   {
    "duration": 41,
    "start_time": "2021-09-13T05:43:00.559Z"
   },
   {
    "duration": 10,
    "start_time": "2021-09-13T05:43:00.602Z"
   },
   {
    "duration": 8,
    "start_time": "2021-09-13T05:43:00.614Z"
   },
   {
    "duration": 8,
    "start_time": "2021-09-13T05:43:00.623Z"
   },
   {
    "duration": 15,
    "start_time": "2021-09-13T05:43:00.632Z"
   },
   {
    "duration": 7,
    "start_time": "2021-09-13T05:43:00.648Z"
   },
   {
    "duration": 9,
    "start_time": "2021-09-13T05:43:32.196Z"
   },
   {
    "duration": 3,
    "start_time": "2021-09-13T05:45:21.623Z"
   },
   {
    "duration": 158,
    "start_time": "2021-09-13T05:45:21.631Z"
   },
   {
    "duration": 12,
    "start_time": "2021-09-13T05:45:21.791Z"
   },
   {
    "duration": 23,
    "start_time": "2021-09-13T05:45:21.806Z"
   },
   {
    "duration": 4,
    "start_time": "2021-09-13T05:45:21.830Z"
   },
   {
    "duration": 22,
    "start_time": "2021-09-13T05:45:21.836Z"
   },
   {
    "duration": 26,
    "start_time": "2021-09-13T05:45:21.860Z"
   },
   {
    "duration": 27,
    "start_time": "2021-09-13T05:45:21.887Z"
   },
   {
    "duration": 15,
    "start_time": "2021-09-13T05:45:21.916Z"
   },
   {
    "duration": 24,
    "start_time": "2021-09-13T05:45:21.933Z"
   },
   {
    "duration": 84,
    "start_time": "2021-09-13T05:45:21.959Z"
   },
   {
    "duration": 75,
    "start_time": "2021-09-13T05:45:22.045Z"
   },
   {
    "duration": 46,
    "start_time": "2021-09-13T05:45:22.122Z"
   },
   {
    "duration": 25,
    "start_time": "2021-09-13T05:45:22.170Z"
   },
   {
    "duration": 3,
    "start_time": "2021-09-13T05:45:22.197Z"
   },
   {
    "duration": 12,
    "start_time": "2021-09-13T05:45:22.201Z"
   },
   {
    "duration": 9,
    "start_time": "2021-09-13T05:45:22.215Z"
   },
   {
    "duration": 10,
    "start_time": "2021-09-13T05:45:22.226Z"
   },
   {
    "duration": 9,
    "start_time": "2021-09-13T05:45:22.237Z"
   },
   {
    "duration": 3,
    "start_time": "2021-09-13T05:45:22.248Z"
   },
   {
    "duration": 67,
    "start_time": "2021-09-13T05:45:22.252Z"
   },
   {
    "duration": 17,
    "start_time": "2021-09-13T05:45:22.321Z"
   },
   {
    "duration": 25,
    "start_time": "2021-09-13T05:45:22.341Z"
   },
   {
    "duration": 32,
    "start_time": "2021-09-13T05:45:22.367Z"
   },
   {
    "duration": 26,
    "start_time": "2021-09-13T05:45:22.401Z"
   },
   {
    "duration": 18,
    "start_time": "2021-09-13T05:45:22.429Z"
   },
   {
    "duration": 9,
    "start_time": "2021-09-13T05:45:22.448Z"
   },
   {
    "duration": 2,
    "start_time": "2021-09-13T09:25:05.098Z"
   },
   {
    "duration": 179,
    "start_time": "2021-09-13T09:25:05.106Z"
   },
   {
    "duration": 15,
    "start_time": "2021-09-13T09:25:05.288Z"
   },
   {
    "duration": 40,
    "start_time": "2021-09-13T09:25:05.305Z"
   },
   {
    "duration": 14,
    "start_time": "2021-09-13T09:25:05.347Z"
   },
   {
    "duration": 36,
    "start_time": "2021-09-13T09:25:05.362Z"
   },
   {
    "duration": 14,
    "start_time": "2021-09-13T09:25:05.400Z"
   },
   {
    "duration": 35,
    "start_time": "2021-09-13T09:25:05.415Z"
   },
   {
    "duration": 38,
    "start_time": "2021-09-13T09:25:05.453Z"
   },
   {
    "duration": 31,
    "start_time": "2021-09-13T09:25:05.495Z"
   },
   {
    "duration": 67,
    "start_time": "2021-09-13T09:25:05.528Z"
   },
   {
    "duration": 58,
    "start_time": "2021-09-13T09:25:05.598Z"
   },
   {
    "duration": 66,
    "start_time": "2021-09-13T09:25:05.658Z"
   },
   {
    "duration": 9,
    "start_time": "2021-09-13T09:25:05.725Z"
   },
   {
    "duration": 3,
    "start_time": "2021-09-13T09:25:05.735Z"
   },
   {
    "duration": 13,
    "start_time": "2021-09-13T09:25:05.740Z"
   },
   {
    "duration": 32,
    "start_time": "2021-09-13T09:25:05.755Z"
   },
   {
    "duration": 15,
    "start_time": "2021-09-13T09:25:05.789Z"
   },
   {
    "duration": 10,
    "start_time": "2021-09-13T09:25:05.806Z"
   },
   {
    "duration": 3,
    "start_time": "2021-09-13T09:25:05.818Z"
   },
   {
    "duration": 35,
    "start_time": "2021-09-13T09:25:05.823Z"
   },
   {
    "duration": 43,
    "start_time": "2021-09-13T09:25:05.859Z"
   },
   {
    "duration": 33,
    "start_time": "2021-09-13T09:25:05.904Z"
   },
   {
    "duration": 18,
    "start_time": "2021-09-13T09:25:05.940Z"
   },
   {
    "duration": 49,
    "start_time": "2021-09-13T09:25:05.960Z"
   },
   {
    "duration": 18,
    "start_time": "2021-09-13T09:25:06.011Z"
   },
   {
    "duration": 12,
    "start_time": "2021-09-13T09:25:06.030Z"
   },
   {
    "duration": 23,
    "start_time": "2021-09-13T09:25:06.043Z"
   },
   {
    "duration": 2,
    "start_time": "2021-09-13T09:25:36.736Z"
   },
   {
    "duration": 162,
    "start_time": "2021-09-13T09:25:36.742Z"
   },
   {
    "duration": 10,
    "start_time": "2021-09-13T09:25:36.906Z"
   },
   {
    "duration": 34,
    "start_time": "2021-09-13T09:25:36.918Z"
   },
   {
    "duration": 5,
    "start_time": "2021-09-13T09:25:36.955Z"
   },
   {
    "duration": 43,
    "start_time": "2021-09-13T09:25:36.961Z"
   },
   {
    "duration": 4,
    "start_time": "2021-09-13T09:25:37.006Z"
   },
   {
    "duration": 26,
    "start_time": "2021-09-13T09:25:37.012Z"
   },
   {
    "duration": 19,
    "start_time": "2021-09-13T09:25:37.040Z"
   },
   {
    "duration": 29,
    "start_time": "2021-09-13T09:25:37.087Z"
   },
   {
    "duration": 70,
    "start_time": "2021-09-13T09:25:37.117Z"
   },
   {
    "duration": 66,
    "start_time": "2021-09-13T09:25:37.189Z"
   },
   {
    "duration": 74,
    "start_time": "2021-09-13T09:25:37.257Z"
   },
   {
    "duration": 9,
    "start_time": "2021-09-13T09:25:37.333Z"
   },
   {
    "duration": 4,
    "start_time": "2021-09-13T09:25:37.344Z"
   },
   {
    "duration": 15,
    "start_time": "2021-09-13T09:25:37.350Z"
   },
   {
    "duration": 30,
    "start_time": "2021-09-13T09:25:37.367Z"
   },
   {
    "duration": 12,
    "start_time": "2021-09-13T09:25:37.400Z"
   },
   {
    "duration": 11,
    "start_time": "2021-09-13T09:25:37.414Z"
   },
   {
    "duration": 4,
    "start_time": "2021-09-13T09:25:37.427Z"
   },
   {
    "duration": 68,
    "start_time": "2021-09-13T09:25:37.433Z"
   },
   {
    "duration": 19,
    "start_time": "2021-09-13T09:25:37.502Z"
   },
   {
    "duration": 22,
    "start_time": "2021-09-13T09:25:37.523Z"
   },
   {
    "duration": 43,
    "start_time": "2021-09-13T09:25:37.548Z"
   },
   {
    "duration": 30,
    "start_time": "2021-09-13T09:25:37.593Z"
   },
   {
    "duration": 19,
    "start_time": "2021-09-13T09:25:37.625Z"
   },
   {
    "duration": 10,
    "start_time": "2021-09-13T09:25:37.646Z"
   },
   {
    "duration": 45,
    "start_time": "2021-09-13T09:25:37.658Z"
   },
   {
    "duration": 17,
    "start_time": "2021-09-13T09:25:46.348Z"
   },
   {
    "duration": 5,
    "start_time": "2021-09-13T09:27:41.391Z"
   },
   {
    "duration": 151,
    "start_time": "2021-09-13T09:27:41.401Z"
   },
   {
    "duration": 12,
    "start_time": "2021-09-13T09:27:41.554Z"
   },
   {
    "duration": 48,
    "start_time": "2021-09-13T09:27:41.567Z"
   },
   {
    "duration": 5,
    "start_time": "2021-09-13T09:27:41.617Z"
   },
   {
    "duration": 24,
    "start_time": "2021-09-13T09:27:41.624Z"
   },
   {
    "duration": 38,
    "start_time": "2021-09-13T09:27:41.649Z"
   },
   {
    "duration": 27,
    "start_time": "2021-09-13T09:27:41.690Z"
   },
   {
    "duration": 19,
    "start_time": "2021-09-13T09:27:41.720Z"
   },
   {
    "duration": 22,
    "start_time": "2021-09-13T09:27:41.741Z"
   },
   {
    "duration": 70,
    "start_time": "2021-09-13T09:27:41.785Z"
   },
   {
    "duration": 80,
    "start_time": "2021-09-13T09:27:41.856Z"
   },
   {
    "duration": 56,
    "start_time": "2021-09-13T09:27:41.937Z"
   },
   {
    "duration": 11,
    "start_time": "2021-09-13T09:27:41.996Z"
   },
   {
    "duration": 3,
    "start_time": "2021-09-13T09:27:42.008Z"
   },
   {
    "duration": 11,
    "start_time": "2021-09-13T09:27:42.013Z"
   },
   {
    "duration": 8,
    "start_time": "2021-09-13T09:27:42.026Z"
   },
   {
    "duration": 12,
    "start_time": "2021-09-13T09:27:42.036Z"
   },
   {
    "duration": 42,
    "start_time": "2021-09-13T09:27:42.050Z"
   },
   {
    "duration": 5,
    "start_time": "2021-09-13T09:27:42.095Z"
   },
   {
    "duration": 33,
    "start_time": "2021-09-13T09:27:42.102Z"
   },
   {
    "duration": 18,
    "start_time": "2021-09-13T09:27:42.136Z"
   },
   {
    "duration": 43,
    "start_time": "2021-09-13T09:27:42.156Z"
   },
   {
    "duration": 18,
    "start_time": "2021-09-13T09:27:42.202Z"
   },
   {
    "duration": 25,
    "start_time": "2021-09-13T09:27:42.222Z"
   },
   {
    "duration": 38,
    "start_time": "2021-09-13T09:27:42.248Z"
   },
   {
    "duration": 11,
    "start_time": "2021-09-13T09:27:42.288Z"
   },
   {
    "duration": 25,
    "start_time": "2021-09-13T09:27:42.301Z"
   },
   {
    "duration": 17,
    "start_time": "2021-09-13T09:27:42.328Z"
   },
   {
    "duration": 5,
    "start_time": "2021-09-13T09:27:45.687Z"
   },
   {
    "duration": 2,
    "start_time": "2021-09-13T09:27:53.515Z"
   },
   {
    "duration": 144,
    "start_time": "2021-09-13T09:27:53.521Z"
   },
   {
    "duration": 26,
    "start_time": "2021-09-13T09:27:53.667Z"
   },
   {
    "duration": 26,
    "start_time": "2021-09-13T09:27:53.696Z"
   },
   {
    "duration": 4,
    "start_time": "2021-09-13T09:27:53.724Z"
   },
   {
    "duration": 23,
    "start_time": "2021-09-13T09:27:53.730Z"
   },
   {
    "duration": 35,
    "start_time": "2021-09-13T09:27:53.755Z"
   },
   {
    "duration": 27,
    "start_time": "2021-09-13T09:27:53.793Z"
   },
   {
    "duration": 16,
    "start_time": "2021-09-13T09:27:53.823Z"
   },
   {
    "duration": 49,
    "start_time": "2021-09-13T09:27:53.841Z"
   },
   {
    "duration": 59,
    "start_time": "2021-09-13T09:27:53.893Z"
   },
   {
    "duration": 85,
    "start_time": "2021-09-13T09:27:53.953Z"
   },
   {
    "duration": 55,
    "start_time": "2021-09-13T09:27:54.039Z"
   },
   {
    "duration": 8,
    "start_time": "2021-09-13T09:27:54.096Z"
   },
   {
    "duration": 3,
    "start_time": "2021-09-13T09:27:54.106Z"
   },
   {
    "duration": 26,
    "start_time": "2021-09-13T09:27:54.110Z"
   },
   {
    "duration": 10,
    "start_time": "2021-09-13T09:27:54.138Z"
   },
   {
    "duration": 9,
    "start_time": "2021-09-13T09:27:54.150Z"
   },
   {
    "duration": 9,
    "start_time": "2021-09-13T09:27:54.160Z"
   },
   {
    "duration": 5,
    "start_time": "2021-09-13T09:27:54.186Z"
   },
   {
    "duration": 33,
    "start_time": "2021-09-13T09:27:54.193Z"
   },
   {
    "duration": 17,
    "start_time": "2021-09-13T09:27:54.227Z"
   },
   {
    "duration": 42,
    "start_time": "2021-09-13T09:27:54.245Z"
   },
   {
    "duration": 23,
    "start_time": "2021-09-13T09:27:54.291Z"
   },
   {
    "duration": 26,
    "start_time": "2021-09-13T09:27:54.316Z"
   },
   {
    "duration": 16,
    "start_time": "2021-09-13T09:27:54.343Z"
   },
   {
    "duration": 16,
    "start_time": "2021-09-13T09:27:54.385Z"
   },
   {
    "duration": 19,
    "start_time": "2021-09-13T09:27:54.403Z"
   },
   {
    "duration": 15,
    "start_time": "2021-09-13T09:27:54.424Z"
   },
   {
    "duration": 3,
    "start_time": "2021-09-13T09:27:54.441Z"
   },
   {
    "duration": 44,
    "start_time": "2021-09-13T09:27:54.446Z"
   },
   {
    "duration": 19,
    "start_time": "2021-09-13T09:27:54.493Z"
   },
   {
    "duration": 24,
    "start_time": "2021-09-13T09:27:54.514Z"
   },
   {
    "duration": 47,
    "start_time": "2021-09-13T09:27:54.540Z"
   },
   {
    "duration": 12,
    "start_time": "2021-09-13T09:27:54.588Z"
   },
   {
    "duration": 5,
    "start_time": "2021-09-13T09:27:54.603Z"
   },
   {
    "duration": 11,
    "start_time": "2021-09-13T09:27:54.610Z"
   },
   {
    "duration": 10,
    "start_time": "2021-09-13T09:27:54.623Z"
   },
   {
    "duration": 5,
    "start_time": "2021-09-13T09:29:16.327Z"
   },
   {
    "duration": 5,
    "start_time": "2021-09-13T09:29:24.249Z"
   },
   {
    "duration": 4,
    "start_time": "2021-09-13T09:34:32.494Z"
   },
   {
    "duration": 145,
    "start_time": "2021-09-13T09:34:32.502Z"
   },
   {
    "duration": 9,
    "start_time": "2021-09-13T09:34:32.649Z"
   },
   {
    "duration": 51,
    "start_time": "2021-09-13T09:34:32.661Z"
   },
   {
    "duration": 10,
    "start_time": "2021-09-13T09:34:32.714Z"
   },
   {
    "duration": 27,
    "start_time": "2021-09-13T09:34:32.725Z"
   },
   {
    "duration": 4,
    "start_time": "2021-09-13T09:34:32.754Z"
   },
   {
    "duration": 53,
    "start_time": "2021-09-13T09:34:32.759Z"
   },
   {
    "duration": 18,
    "start_time": "2021-09-13T09:34:32.814Z"
   },
   {
    "duration": 21,
    "start_time": "2021-09-13T09:34:32.834Z"
   },
   {
    "duration": 84,
    "start_time": "2021-09-13T09:34:32.857Z"
   },
   {
    "duration": 72,
    "start_time": "2021-09-13T09:34:32.943Z"
   },
   {
    "duration": 53,
    "start_time": "2021-09-13T09:34:33.017Z"
   },
   {
    "duration": 20,
    "start_time": "2021-09-13T09:34:33.071Z"
   },
   {
    "duration": 7,
    "start_time": "2021-09-13T09:34:33.093Z"
   },
   {
    "duration": 11,
    "start_time": "2021-09-13T09:34:33.103Z"
   },
   {
    "duration": 9,
    "start_time": "2021-09-13T09:34:33.116Z"
   },
   {
    "duration": 10,
    "start_time": "2021-09-13T09:34:33.126Z"
   },
   {
    "duration": 8,
    "start_time": "2021-09-13T09:34:33.137Z"
   },
   {
    "duration": 42,
    "start_time": "2021-09-13T09:34:33.147Z"
   },
   {
    "duration": 32,
    "start_time": "2021-09-13T09:34:33.193Z"
   },
   {
    "duration": 16,
    "start_time": "2021-09-13T09:34:33.227Z"
   },
   {
    "duration": 42,
    "start_time": "2021-09-13T09:34:33.245Z"
   },
   {
    "duration": 25,
    "start_time": "2021-09-13T09:34:33.292Z"
   },
   {
    "duration": 26,
    "start_time": "2021-09-13T09:34:33.319Z"
   },
   {
    "duration": 45,
    "start_time": "2021-09-13T09:34:33.347Z"
   },
   {
    "duration": 15,
    "start_time": "2021-09-13T09:34:33.394Z"
   },
   {
    "duration": 18,
    "start_time": "2021-09-13T09:34:33.410Z"
   },
   {
    "duration": 15,
    "start_time": "2021-09-13T09:34:33.430Z"
   },
   {
    "duration": 4,
    "start_time": "2021-09-13T09:34:33.447Z"
   },
   {
    "duration": 56,
    "start_time": "2021-09-13T09:34:33.452Z"
   },
   {
    "duration": 12,
    "start_time": "2021-09-13T09:34:33.510Z"
   },
   {
    "duration": 15,
    "start_time": "2021-09-13T09:34:33.523Z"
   },
   {
    "duration": 10,
    "start_time": "2021-09-13T09:34:33.540Z"
   },
   {
    "duration": 36,
    "start_time": "2021-09-13T09:34:33.551Z"
   },
   {
    "duration": 8,
    "start_time": "2021-09-13T09:34:33.590Z"
   },
   {
    "duration": 8,
    "start_time": "2021-09-13T09:34:33.601Z"
   },
   {
    "duration": 5,
    "start_time": "2021-09-13T09:34:33.610Z"
   },
   {
    "duration": 542,
    "start_time": "2022-03-19T17:19:51.723Z"
   },
   {
    "duration": 233,
    "start_time": "2022-03-19T17:19:52.268Z"
   },
   {
    "duration": 28,
    "start_time": "2022-03-19T17:19:52.503Z"
   },
   {
    "duration": 45,
    "start_time": "2022-03-19T17:19:52.547Z"
   },
   {
    "duration": 7,
    "start_time": "2022-03-19T17:19:52.595Z"
   },
   {
    "duration": 55,
    "start_time": "2022-03-19T17:19:52.605Z"
   },
   {
    "duration": 14,
    "start_time": "2022-03-19T17:19:52.662Z"
   },
   {
    "duration": 36,
    "start_time": "2022-03-19T17:19:52.678Z"
   },
   {
    "duration": 46,
    "start_time": "2022-03-19T17:19:52.720Z"
   },
   {
    "duration": 33,
    "start_time": "2022-03-19T17:19:52.770Z"
   },
   {
    "duration": 124,
    "start_time": "2022-03-19T17:19:52.805Z"
   },
   {
    "duration": 129,
    "start_time": "2022-03-19T17:19:52.931Z"
   },
   {
    "duration": 97,
    "start_time": "2022-03-19T17:19:53.063Z"
   },
   {
    "duration": 17,
    "start_time": "2022-03-19T17:19:53.164Z"
   },
   {
    "duration": 4,
    "start_time": "2022-03-19T17:19:53.184Z"
   },
   {
    "duration": 14,
    "start_time": "2022-03-19T17:19:53.190Z"
   },
   {
    "duration": 40,
    "start_time": "2022-03-19T17:19:53.207Z"
   },
   {
    "duration": 29,
    "start_time": "2022-03-19T17:19:53.249Z"
   },
   {
    "duration": 16,
    "start_time": "2022-03-19T17:19:53.281Z"
   },
   {
    "duration": 5,
    "start_time": "2022-03-19T17:19:53.299Z"
   },
   {
    "duration": 74,
    "start_time": "2022-03-19T17:19:53.306Z"
   },
   {
    "duration": 26,
    "start_time": "2022-03-19T17:19:53.382Z"
   },
   {
    "duration": 53,
    "start_time": "2022-03-19T17:19:53.411Z"
   },
   {
    "duration": 28,
    "start_time": "2022-03-19T17:19:53.466Z"
   },
   {
    "duration": 73,
    "start_time": "2022-03-19T17:19:53.496Z"
   },
   {
    "duration": 28,
    "start_time": "2022-03-19T17:19:53.571Z"
   },
   {
    "duration": 897,
    "start_time": "2022-03-19T17:19:53.601Z"
   },
   {
    "duration": 48,
    "start_time": "2022-03-19T17:19:54.504Z"
   },
   {
    "duration": 31,
    "start_time": "2022-03-19T17:19:54.555Z"
   },
   {
    "duration": 6,
    "start_time": "2022-03-19T17:19:54.589Z"
   },
   {
    "duration": 56,
    "start_time": "2022-03-19T17:19:54.598Z"
   },
   {
    "duration": 38,
    "start_time": "2022-03-19T17:19:54.659Z"
   },
   {
    "duration": 26,
    "start_time": "2022-03-19T17:19:54.699Z"
   },
   {
    "duration": 22,
    "start_time": "2022-03-19T17:19:54.748Z"
   },
   {
    "duration": 12,
    "start_time": "2022-03-19T17:19:54.773Z"
   },
   {
    "duration": 7,
    "start_time": "2022-03-19T17:19:54.787Z"
   },
   {
    "duration": 9,
    "start_time": "2022-03-19T17:19:54.796Z"
   },
   {
    "duration": 16,
    "start_time": "2022-03-19T17:19:54.843Z"
   }
  ],
  "colab": {
   "collapsed_sections": [
    "E0vqbgi9ay0H",
    "VUC88oWjTJw2"
   ],
   "name": "yandex_music_project_2021.2.ipynb",
   "provenance": []
  },
  "kernelspec": {
   "display_name": "Python 3 (ipykernel)",
   "language": "python",
   "name": "python3"
  },
  "language_info": {
   "codemirror_mode": {
    "name": "ipython",
    "version": 3
   },
   "file_extension": ".py",
   "mimetype": "text/x-python",
   "name": "python",
   "nbconvert_exporter": "python",
   "pygments_lexer": "ipython3",
   "version": "3.9.7"
  },
  "toc": {
   "base_numbering": 1,
   "nav_menu": {},
   "number_sections": true,
   "sideBar": true,
   "skip_h1_title": true,
   "title_cell": "Оглавление",
   "title_sidebar": "Contents",
   "toc_cell": true,
   "toc_position": {},
   "toc_section_display": true,
   "toc_window_display": true
  }
 },
 "nbformat": 4,
 "nbformat_minor": 1
}
