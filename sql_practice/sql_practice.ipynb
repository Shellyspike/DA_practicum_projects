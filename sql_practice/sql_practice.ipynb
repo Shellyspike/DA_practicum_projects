{
 "cells": [
  {
   "cell_type": "markdown",
   "metadata": {
    "toc": true
   },
   "source": [
    "<h1>Оглавление<span class=\"tocSkip\"></span></h1>\n",
    "<div class=\"toc\"><ul class=\"toc-item\"><li><span><a href=\"#Конфигурация-для-подключения-к-базе-данных\" data-toc-modified-id=\"Конфигурация-для-подключения-к-базе-данных-1\"><span class=\"toc-item-num\">1&nbsp;&nbsp;</span>Конфигурация для подключения к базе данных</a></span></li><li><span><a href=\"#Задание-1\" data-toc-modified-id=\"Задание-1-2\"><span class=\"toc-item-num\">2&nbsp;&nbsp;</span>Задание 1</a></span></li><li><span><a href=\"#Задание-2\" data-toc-modified-id=\"Задание-2-3\"><span class=\"toc-item-num\">3&nbsp;&nbsp;</span>Задание 2</a></span></li><li><span><a href=\"#Задание-3\" data-toc-modified-id=\"Задание-3-4\"><span class=\"toc-item-num\">4&nbsp;&nbsp;</span>Задание 3</a></span></li><li><span><a href=\"#Задание-4\" data-toc-modified-id=\"Задание-4-5\"><span class=\"toc-item-num\">5&nbsp;&nbsp;</span>Задание 4</a></span></li><li><span><a href=\"#Задание-5\" data-toc-modified-id=\"Задание-5-6\"><span class=\"toc-item-num\">6&nbsp;&nbsp;</span>Задание 5</a></span></li><li><span><a href=\"#Задание-6\" data-toc-modified-id=\"Задание-6-7\"><span class=\"toc-item-num\">7&nbsp;&nbsp;</span>Задание 6</a></span></li><li><span><a href=\"#Задание-7\" data-toc-modified-id=\"Задание-7-8\"><span class=\"toc-item-num\">8&nbsp;&nbsp;</span>Задание 7</a></span></li><li><span><a href=\"#Задание-8\" data-toc-modified-id=\"Задание-8-9\"><span class=\"toc-item-num\">9&nbsp;&nbsp;</span>Задание 8</a></span></li><li><span><a href=\"#Задание-9\" data-toc-modified-id=\"Задание-9-10\"><span class=\"toc-item-num\">10&nbsp;&nbsp;</span>Задание 9</a></span></li><li><span><a href=\"#Задание-10\" data-toc-modified-id=\"Задание-10-11\"><span class=\"toc-item-num\">11&nbsp;&nbsp;</span>Задание 10</a></span></li></ul></div>"
   ]
  },
  {
   "cell_type": "markdown",
   "metadata": {
    "id": "sRW85nPMDWKb"
   },
   "source": [
    "Данный проект был выполнен для проверки результатов изучения оконных функция в PostgreSQL. Для выполнения задания необходимо было подключиться к базе данных, выполнить запросы и ответить на вопросы по результатам сформированных таблиц. "
   ]
  },
  {
   "cell_type": "code",
   "execution_count": 1,
   "metadata": {
    "id": "nlZBlglMDWKe"
   },
   "outputs": [],
   "source": [
    "import pandas as pd\n",
    "import matplotlib.pyplot as plt\n",
    "import seaborn as sns\n",
    "from sqlalchemy import create_engine \n",
    "from yaml import load, FullLoader"
   ]
  },
  {
   "cell_type": "markdown",
   "metadata": {
    "id": "XnOE3n28DWKg"
   },
   "source": [
    "### Конфигурация для подключения к базе данных"
   ]
  },
  {
   "cell_type": "code",
   "execution_count": 2,
   "metadata": {
    "id": "6p-yGp7qDWKg"
   },
   "outputs": [],
   "source": [
    "with open('config.yaml') as f:\n",
    "    config = load(f, Loader=FullLoader)\n",
    "\n",
    "connection_string = 'postgresql://{}:{}@{}:{}/{}'.format(\n",
    "    config['database']['user'],\n",
    "    config['database']['pwd'],\n",
    "    config['database']['host'],\n",
    "    config['database']['port'],\n",
    "    config['database']['db'],\n",
    ")"
   ]
  },
  {
   "cell_type": "markdown",
   "metadata": {
    "id": "2Rg8ZpS0DWKh"
   },
   "source": [
    "Создание подключения"
   ]
  },
  {
   "cell_type": "code",
   "execution_count": 3,
   "metadata": {
    "id": "DamCUTR6DWKi"
   },
   "outputs": [],
   "source": [
    "engine = create_engine(connection_string) "
   ]
  },
  {
   "cell_type": "markdown",
   "metadata": {
    "id": "bel8XeSlDWKj"
   },
   "source": [
    "Тестовый запрос к базе данных"
   ]
  },
  {
   "cell_type": "code",
   "execution_count": 4,
   "metadata": {
    "id": "6Z_fw0yLDWKk"
   },
   "outputs": [],
   "source": [
    "query = '''\n",
    "SELECT *\n",
    "FROM stackoverflow.users\n",
    "LIMIT 10;\n",
    "'''\n",
    "\n",
    "sample_df = pd.read_sql_query(query, con=engine) "
   ]
  },
  {
   "cell_type": "code",
   "execution_count": 5,
   "metadata": {
    "id": "ZpuZ290oDWKk",
    "outputId": "22785a0a-e2bc-4559-ec3c-4879c4b377eb"
   },
   "outputs": [
    {
     "data": {
      "text/html": [
       "<div>\n",
       "<style scoped>\n",
       "    .dataframe tbody tr th:only-of-type {\n",
       "        vertical-align: middle;\n",
       "    }\n",
       "\n",
       "    .dataframe tbody tr th {\n",
       "        vertical-align: top;\n",
       "    }\n",
       "\n",
       "    .dataframe thead th {\n",
       "        text-align: right;\n",
       "    }\n",
       "</style>\n",
       "<table border=\"1\" class=\"dataframe\">\n",
       "  <thead>\n",
       "    <tr style=\"text-align: right;\">\n",
       "      <th></th>\n",
       "      <th>id</th>\n",
       "      <th>creation_date</th>\n",
       "      <th>display_name</th>\n",
       "      <th>last_access_date</th>\n",
       "      <th>location</th>\n",
       "      <th>reputation</th>\n",
       "      <th>views</th>\n",
       "    </tr>\n",
       "  </thead>\n",
       "  <tbody>\n",
       "    <tr>\n",
       "      <th>0</th>\n",
       "      <td>1</td>\n",
       "      <td>2008-07-31 14:22:31</td>\n",
       "      <td>Jeff Atwood</td>\n",
       "      <td>2018-08-29 02:34:23</td>\n",
       "      <td>El Cerrito, CA</td>\n",
       "      <td>44300</td>\n",
       "      <td>408587</td>\n",
       "    </tr>\n",
       "    <tr>\n",
       "      <th>1</th>\n",
       "      <td>2</td>\n",
       "      <td>2008-07-31 14:22:31</td>\n",
       "      <td>Geoff Dalgas</td>\n",
       "      <td>2018-08-23 17:31:56</td>\n",
       "      <td>Corvallis, OR</td>\n",
       "      <td>3491</td>\n",
       "      <td>23966</td>\n",
       "    </tr>\n",
       "    <tr>\n",
       "      <th>2</th>\n",
       "      <td>3</td>\n",
       "      <td>2008-07-31 14:22:31</td>\n",
       "      <td>Jarrod Dixon</td>\n",
       "      <td>2018-08-30 20:56:24</td>\n",
       "      <td>Raleigh, NC, United States</td>\n",
       "      <td>13418</td>\n",
       "      <td>24396</td>\n",
       "    </tr>\n",
       "    <tr>\n",
       "      <th>3</th>\n",
       "      <td>4</td>\n",
       "      <td>2008-07-31 14:22:31</td>\n",
       "      <td>Joel Spolsky</td>\n",
       "      <td>2018-08-14 22:18:15</td>\n",
       "      <td>New York, NY</td>\n",
       "      <td>28768</td>\n",
       "      <td>73755</td>\n",
       "    </tr>\n",
       "    <tr>\n",
       "      <th>4</th>\n",
       "      <td>5</td>\n",
       "      <td>2008-07-31 14:22:31</td>\n",
       "      <td>Jon Galloway</td>\n",
       "      <td>2018-08-29 16:48:36</td>\n",
       "      <td>San Diego, CA</td>\n",
       "      <td>39172</td>\n",
       "      <td>11700</td>\n",
       "    </tr>\n",
       "    <tr>\n",
       "      <th>5</th>\n",
       "      <td>8</td>\n",
       "      <td>2008-07-31 21:33:24</td>\n",
       "      <td>Eggs McLaren</td>\n",
       "      <td>2018-04-09 02:04:56</td>\n",
       "      <td>None</td>\n",
       "      <td>942</td>\n",
       "      <td>6372</td>\n",
       "    </tr>\n",
       "    <tr>\n",
       "      <th>6</th>\n",
       "      <td>9</td>\n",
       "      <td>2008-07-31 21:35:27</td>\n",
       "      <td>Kevin Dente</td>\n",
       "      <td>2018-08-30 18:18:03</td>\n",
       "      <td>Oakland, CA</td>\n",
       "      <td>14337</td>\n",
       "      <td>4949</td>\n",
       "    </tr>\n",
       "    <tr>\n",
       "      <th>7</th>\n",
       "      <td>11</td>\n",
       "      <td>2008-08-01 00:59:11</td>\n",
       "      <td>Anonymous User</td>\n",
       "      <td>2008-08-01 00:59:11</td>\n",
       "      <td>None</td>\n",
       "      <td>1890</td>\n",
       "      <td>2123</td>\n",
       "    </tr>\n",
       "    <tr>\n",
       "      <th>8</th>\n",
       "      <td>13</td>\n",
       "      <td>2008-08-01 04:18:05</td>\n",
       "      <td>Chris Jester-Young</td>\n",
       "      <td>2018-08-30 02:47:23</td>\n",
       "      <td>Raleigh, NC, United States</td>\n",
       "      <td>177138</td>\n",
       "      <td>35414</td>\n",
       "    </tr>\n",
       "    <tr>\n",
       "      <th>9</th>\n",
       "      <td>17</td>\n",
       "      <td>2008-08-01 12:02:22</td>\n",
       "      <td>Nick Berardi</td>\n",
       "      <td>2018-01-22 01:35:38</td>\n",
       "      <td>Issaquah, WA</td>\n",
       "      <td>44443</td>\n",
       "      <td>4786</td>\n",
       "    </tr>\n",
       "  </tbody>\n",
       "</table>\n",
       "</div>"
      ],
      "text/plain": [
       "   id       creation_date        display_name    last_access_date  \\\n",
       "0   1 2008-07-31 14:22:31         Jeff Atwood 2018-08-29 02:34:23   \n",
       "1   2 2008-07-31 14:22:31        Geoff Dalgas 2018-08-23 17:31:56   \n",
       "2   3 2008-07-31 14:22:31        Jarrod Dixon 2018-08-30 20:56:24   \n",
       "3   4 2008-07-31 14:22:31        Joel Spolsky 2018-08-14 22:18:15   \n",
       "4   5 2008-07-31 14:22:31        Jon Galloway 2018-08-29 16:48:36   \n",
       "5   8 2008-07-31 21:33:24        Eggs McLaren 2018-04-09 02:04:56   \n",
       "6   9 2008-07-31 21:35:27         Kevin Dente 2018-08-30 18:18:03   \n",
       "7  11 2008-08-01 00:59:11      Anonymous User 2008-08-01 00:59:11   \n",
       "8  13 2008-08-01 04:18:05  Chris Jester-Young 2018-08-30 02:47:23   \n",
       "9  17 2008-08-01 12:02:22        Nick Berardi 2018-01-22 01:35:38   \n",
       "\n",
       "                     location  reputation   views  \n",
       "0              El Cerrito, CA       44300  408587  \n",
       "1               Corvallis, OR        3491   23966  \n",
       "2  Raleigh, NC, United States       13418   24396  \n",
       "3                New York, NY       28768   73755  \n",
       "4               San Diego, CA       39172   11700  \n",
       "5                        None         942    6372  \n",
       "6                 Oakland, CA       14337    4949  \n",
       "7                        None        1890    2123  \n",
       "8  Raleigh, NC, United States      177138   35414  \n",
       "9                Issaquah, WA       44443    4786  "
      ]
     },
     "execution_count": 5,
     "metadata": {},
     "output_type": "execute_result"
    }
   ],
   "source": [
    "sample_df"
   ]
  },
  {
   "cell_type": "markdown",
   "metadata": {
    "id": "gnBMXkDBDWKm"
   },
   "source": [
    "### Задание 1"
   ]
  },
  {
   "cell_type": "markdown",
   "metadata": {
    "id": "vHsfOrrNDWKn"
   },
   "source": [
    "Выведите общую сумму просмотров постов за каждый месяц 2008 года. Если данных за какой-либо месяц в базе нет, такой месяц можно пропустить. Результат отсортируйте по убыванию общего количества просмотров."
   ]
  },
  {
   "cell_type": "code",
   "execution_count": 6,
   "metadata": {
    "id": "eWvykcXTDWKo"
   },
   "outputs": [],
   "source": [
    "query = '''\n",
    "SELECT\n",
    "    DATE_TRUNC('month', creation_date)::date AS month_date,\n",
    "    SUM(views_count) AS total_views\n",
    "FROM\n",
    "    stackoverflow.posts\n",
    "WHERE\n",
    "    EXTRACT(YEAR FROM creation_date) = 2008\n",
    "GROUP BY\n",
    "    month_date\n",
    "ORDER BY\n",
    "    total_views DESC\n",
    "'''"
   ]
  },
  {
   "cell_type": "markdown",
   "metadata": {
    "id": "I_ZvhOxkDWKp"
   },
   "source": [
    "**Проанализируйте итоговую таблицу. Отличаются ли данные за разные месяцы? С чем могут быть связаны отличия?**"
   ]
  },
  {
   "cell_type": "code",
   "execution_count": 7,
   "metadata": {
    "id": "luxSj17oDWKq"
   },
   "outputs": [],
   "source": [
    "views_df = pd.read_sql_query(query, con=engine)"
   ]
  },
  {
   "cell_type": "code",
   "execution_count": 8,
   "metadata": {
    "scrolled": true
   },
   "outputs": [
    {
     "data": {
      "text/html": [
       "<div>\n",
       "<style scoped>\n",
       "    .dataframe tbody tr th:only-of-type {\n",
       "        vertical-align: middle;\n",
       "    }\n",
       "\n",
       "    .dataframe tbody tr th {\n",
       "        vertical-align: top;\n",
       "    }\n",
       "\n",
       "    .dataframe thead th {\n",
       "        text-align: right;\n",
       "    }\n",
       "</style>\n",
       "<table border=\"1\" class=\"dataframe\">\n",
       "  <thead>\n",
       "    <tr style=\"text-align: right;\">\n",
       "      <th></th>\n",
       "      <th>month_date</th>\n",
       "      <th>total_views</th>\n",
       "    </tr>\n",
       "  </thead>\n",
       "  <tbody>\n",
       "    <tr>\n",
       "      <th>0</th>\n",
       "      <td>2008-09-01</td>\n",
       "      <td>452928568</td>\n",
       "    </tr>\n",
       "    <tr>\n",
       "      <th>1</th>\n",
       "      <td>2008-10-01</td>\n",
       "      <td>365400138</td>\n",
       "    </tr>\n",
       "    <tr>\n",
       "      <th>2</th>\n",
       "      <td>2008-11-01</td>\n",
       "      <td>221759651</td>\n",
       "    </tr>\n",
       "    <tr>\n",
       "      <th>3</th>\n",
       "      <td>2008-12-01</td>\n",
       "      <td>197792841</td>\n",
       "    </tr>\n",
       "    <tr>\n",
       "      <th>4</th>\n",
       "      <td>2008-08-01</td>\n",
       "      <td>131367083</td>\n",
       "    </tr>\n",
       "    <tr>\n",
       "      <th>5</th>\n",
       "      <td>2008-07-01</td>\n",
       "      <td>669895</td>\n",
       "    </tr>\n",
       "  </tbody>\n",
       "</table>\n",
       "</div>"
      ],
      "text/plain": [
       "   month_date  total_views\n",
       "0  2008-09-01    452928568\n",
       "1  2008-10-01    365400138\n",
       "2  2008-11-01    221759651\n",
       "3  2008-12-01    197792841\n",
       "4  2008-08-01    131367083\n",
       "5  2008-07-01       669895"
      ]
     },
     "execution_count": 8,
     "metadata": {},
     "output_type": "execute_result"
    }
   ],
   "source": [
    "views_df"
   ]
  },
  {
   "cell_type": "code",
   "execution_count": 9,
   "metadata": {
    "scrolled": true
   },
   "outputs": [
    {
     "data": {
      "image/png": "[encoded data removed]",
      "text/plain": [
       "<Figure size 432x288 with 1 Axes>"
      ]
     },
     "metadata": {
      "needs_background": "light"
     },
     "output_type": "display_data"
    }
   ],
   "source": [
    "ax = sns.lineplot(x=\"month_date\", y=\"total_views\", data=views_df)\n",
    "ax.set(xlabel='month', ylabel='views')\n",
    "plt.title(\"Количество просмотров за месяц\", size=12)\n",
    "plt.show()"
   ]
  },
  {
   "cell_type": "markdown",
   "metadata": {},
   "source": [
    "На графике заметен резкий рост в сентябре 2008 г., а затем снижение просмотров. Причиной могла стать, например, какая-либо новая функция или апргрейд, в работе которых пользователи пытались разобраться."
   ]
  },
  {
   "cell_type": "markdown",
   "metadata": {
    "id": "FziIXkn5DWKr"
   },
   "source": [
    "### Задание 2"
   ]
  },
  {
   "cell_type": "markdown",
   "metadata": {
    "id": "fTGESZvYDWKr"
   },
   "source": [
    "Выведите имена самых активных пользователей, которые в первый месяц после регистрации (включая день регистрации) дали больше 100 ответов. Вопросы, которые задавали пользователи, не учитывайте. Для каждого имени пользователя выведите количество уникальных значений `user_id`. Отсортируйте результат по полю с именами в лексикографическом порядке."
   ]
  },
  {
   "cell_type": "code",
   "execution_count": 10,
   "metadata": {},
   "outputs": [],
   "source": [
    "query = '''\n",
    "SELECT\n",
    "    u.display_name,\n",
    "    COUNT(DISTINCT u.id)\n",
    "FROM\n",
    "    stackoverflow.posts p\n",
    "    JOIN stackoverflow.post_types pt ON p.post_type_id = pt.id\n",
    "    JOIN stackoverflow.users u ON u.id = p.user_id\n",
    "WHERE\n",
    "    p.creation_date <= u.creation_date + INTERVAL '1 month'\n",
    "    AND type = 'Answer'\n",
    "GROUP BY\n",
    "    u.display_name\n",
    "HAVING\n",
    "    COUNT(p.id) > 100\n",
    "'''"
   ]
  },
  {
   "cell_type": "code",
   "execution_count": 11,
   "metadata": {},
   "outputs": [],
   "source": [
    "posts_df = pd.read_sql_query(query, con=engine)"
   ]
  },
  {
   "cell_type": "code",
   "execution_count": 12,
   "metadata": {},
   "outputs": [
    {
     "data": {
      "text/html": [
       "<div>\n",
       "<style scoped>\n",
       "    .dataframe tbody tr th:only-of-type {\n",
       "        vertical-align: middle;\n",
       "    }\n",
       "\n",
       "    .dataframe tbody tr th {\n",
       "        vertical-align: top;\n",
       "    }\n",
       "\n",
       "    .dataframe thead th {\n",
       "        text-align: right;\n",
       "    }\n",
       "</style>\n",
       "<table border=\"1\" class=\"dataframe\">\n",
       "  <thead>\n",
       "    <tr style=\"text-align: right;\">\n",
       "      <th></th>\n",
       "      <th>display_name</th>\n",
       "      <th>count</th>\n",
       "    </tr>\n",
       "  </thead>\n",
       "  <tbody>\n",
       "    <tr>\n",
       "      <th>0</th>\n",
       "      <td>1800 INFORMATION</td>\n",
       "      <td>1</td>\n",
       "    </tr>\n",
       "    <tr>\n",
       "      <th>1</th>\n",
       "      <td>Adam Bellaire</td>\n",
       "      <td>1</td>\n",
       "    </tr>\n",
       "    <tr>\n",
       "      <th>2</th>\n",
       "      <td>Adam Davis</td>\n",
       "      <td>1</td>\n",
       "    </tr>\n",
       "    <tr>\n",
       "      <th>3</th>\n",
       "      <td>Adam Liss</td>\n",
       "      <td>1</td>\n",
       "    </tr>\n",
       "    <tr>\n",
       "      <th>4</th>\n",
       "      <td>Alan</td>\n",
       "      <td>8</td>\n",
       "    </tr>\n",
       "    <tr>\n",
       "      <th>...</th>\n",
       "      <td>...</td>\n",
       "      <td>...</td>\n",
       "    </tr>\n",
       "    <tr>\n",
       "      <th>71</th>\n",
       "      <td>leppie</td>\n",
       "      <td>1</td>\n",
       "    </tr>\n",
       "    <tr>\n",
       "      <th>72</th>\n",
       "      <td>lomaxx</td>\n",
       "      <td>1</td>\n",
       "    </tr>\n",
       "    <tr>\n",
       "      <th>73</th>\n",
       "      <td>mattlant</td>\n",
       "      <td>1</td>\n",
       "    </tr>\n",
       "    <tr>\n",
       "      <th>74</th>\n",
       "      <td>paxdiablo</td>\n",
       "      <td>1</td>\n",
       "    </tr>\n",
       "    <tr>\n",
       "      <th>75</th>\n",
       "      <td>tzot</td>\n",
       "      <td>1</td>\n",
       "    </tr>\n",
       "  </tbody>\n",
       "</table>\n",
       "<p>76 rows × 2 columns</p>\n",
       "</div>"
      ],
      "text/plain": [
       "        display_name  count\n",
       "0   1800 INFORMATION      1\n",
       "1      Adam Bellaire      1\n",
       "2         Adam Davis      1\n",
       "3          Adam Liss      1\n",
       "4               Alan      8\n",
       "..               ...    ...\n",
       "71            leppie      1\n",
       "72            lomaxx      1\n",
       "73          mattlant      1\n",
       "74         paxdiablo      1\n",
       "75              tzot      1\n",
       "\n",
       "[76 rows x 2 columns]"
      ]
     },
     "execution_count": 12,
     "metadata": {},
     "output_type": "execute_result"
    }
   ],
   "source": [
    "posts_df"
   ]
  },
  {
   "cell_type": "markdown",
   "metadata": {
    "id": "I3Wr82TplKpI"
   },
   "source": [
    "**Какие аномалии наблюдаются в данных? О чём они говорят?**"
   ]
  },
  {
   "cell_type": "code",
   "execution_count": 13,
   "metadata": {},
   "outputs": [
    {
     "data": {
      "text/html": [
       "<div>\n",
       "<style scoped>\n",
       "    .dataframe tbody tr th:only-of-type {\n",
       "        vertical-align: middle;\n",
       "    }\n",
       "\n",
       "    .dataframe tbody tr th {\n",
       "        vertical-align: top;\n",
       "    }\n",
       "\n",
       "    .dataframe thead th {\n",
       "        text-align: right;\n",
       "    }\n",
       "</style>\n",
       "<table border=\"1\" class=\"dataframe\">\n",
       "  <thead>\n",
       "    <tr style=\"text-align: right;\">\n",
       "      <th></th>\n",
       "      <th>display_name</th>\n",
       "      <th>count</th>\n",
       "    </tr>\n",
       "  </thead>\n",
       "  <tbody>\n",
       "    <tr>\n",
       "      <th>43</th>\n",
       "      <td>Matt</td>\n",
       "      <td>29</td>\n",
       "    </tr>\n",
       "    <tr>\n",
       "      <th>10</th>\n",
       "      <td>Chris</td>\n",
       "      <td>29</td>\n",
       "    </tr>\n",
       "    <tr>\n",
       "      <th>14</th>\n",
       "      <td>Dan</td>\n",
       "      <td>21</td>\n",
       "    </tr>\n",
       "    <tr>\n",
       "      <th>62</th>\n",
       "      <td>Tom</td>\n",
       "      <td>19</td>\n",
       "    </tr>\n",
       "    <tr>\n",
       "      <th>40</th>\n",
       "      <td>Mark</td>\n",
       "      <td>16</td>\n",
       "    </tr>\n",
       "    <tr>\n",
       "      <th>48</th>\n",
       "      <td>Nick</td>\n",
       "      <td>16</td>\n",
       "    </tr>\n",
       "    <tr>\n",
       "      <th>33</th>\n",
       "      <td>Josh</td>\n",
       "      <td>16</td>\n",
       "    </tr>\n",
       "    <tr>\n",
       "      <th>54</th>\n",
       "      <td>Rob</td>\n",
       "      <td>15</td>\n",
       "    </tr>\n",
       "    <tr>\n",
       "      <th>7</th>\n",
       "      <td>Brian</td>\n",
       "      <td>15</td>\n",
       "    </tr>\n",
       "    <tr>\n",
       "      <th>21</th>\n",
       "      <td>Greg</td>\n",
       "      <td>12</td>\n",
       "    </tr>\n",
       "  </tbody>\n",
       "</table>\n",
       "</div>"
      ],
      "text/plain": [
       "   display_name  count\n",
       "43         Matt     29\n",
       "10        Chris     29\n",
       "14          Dan     21\n",
       "62          Tom     19\n",
       "40         Mark     16\n",
       "48         Nick     16\n",
       "33         Josh     16\n",
       "54          Rob     15\n",
       "7         Brian     15\n",
       "21         Greg     12"
      ]
     },
     "execution_count": 13,
     "metadata": {},
     "output_type": "execute_result"
    }
   ],
   "source": [
    "posts_df.sort_values(by = ['count'], ascending=False).head(10)"
   ]
  },
  {
   "cell_type": "markdown",
   "metadata": {
    "id": "CEIGGQ6ODWKy"
   },
   "source": [
    "Как можно видеть, самое большое количество пользователей указывает в качестве имени свое настоящее имя."
   ]
  },
  {
   "cell_type": "code",
   "execution_count": 14,
   "metadata": {
    "scrolled": true
   },
   "outputs": [
    {
     "data": {
      "text/html": [
       "<div>\n",
       "<style scoped>\n",
       "    .dataframe tbody tr th:only-of-type {\n",
       "        vertical-align: middle;\n",
       "    }\n",
       "\n",
       "    .dataframe tbody tr th {\n",
       "        vertical-align: top;\n",
       "    }\n",
       "\n",
       "    .dataframe thead th {\n",
       "        text-align: right;\n",
       "    }\n",
       "</style>\n",
       "<table border=\"1\" class=\"dataframe\">\n",
       "  <thead>\n",
       "    <tr style=\"text-align: right;\">\n",
       "      <th></th>\n",
       "      <th>display_name</th>\n",
       "      <th>count</th>\n",
       "    </tr>\n",
       "  </thead>\n",
       "  <tbody>\n",
       "    <tr>\n",
       "      <th>0</th>\n",
       "      <td>1800 INFORMATION</td>\n",
       "      <td>1</td>\n",
       "    </tr>\n",
       "    <tr>\n",
       "      <th>1</th>\n",
       "      <td>Adam Bellaire</td>\n",
       "      <td>1</td>\n",
       "    </tr>\n",
       "    <tr>\n",
       "      <th>2</th>\n",
       "      <td>Adam Davis</td>\n",
       "      <td>1</td>\n",
       "    </tr>\n",
       "    <tr>\n",
       "      <th>3</th>\n",
       "      <td>Adam Liss</td>\n",
       "      <td>1</td>\n",
       "    </tr>\n",
       "    <tr>\n",
       "      <th>5</th>\n",
       "      <td>Amy B</td>\n",
       "      <td>1</td>\n",
       "    </tr>\n",
       "    <tr>\n",
       "      <th>6</th>\n",
       "      <td>Ben Hoffstein</td>\n",
       "      <td>1</td>\n",
       "    </tr>\n",
       "    <tr>\n",
       "      <th>8</th>\n",
       "      <td>Cade Roux</td>\n",
       "      <td>1</td>\n",
       "    </tr>\n",
       "    <tr>\n",
       "      <th>9</th>\n",
       "      <td>CesarB</td>\n",
       "      <td>1</td>\n",
       "    </tr>\n",
       "    <tr>\n",
       "      <th>11</th>\n",
       "      <td>ConcernedOfTunbridgeWells</td>\n",
       "      <td>1</td>\n",
       "    </tr>\n",
       "    <tr>\n",
       "      <th>13</th>\n",
       "      <td>Dale Ragan</td>\n",
       "      <td>1</td>\n",
       "    </tr>\n",
       "    <tr>\n",
       "      <th>15</th>\n",
       "      <td>Eric Z Beard</td>\n",
       "      <td>1</td>\n",
       "    </tr>\n",
       "    <tr>\n",
       "      <th>16</th>\n",
       "      <td>Espo</td>\n",
       "      <td>1</td>\n",
       "    </tr>\n",
       "    <tr>\n",
       "      <th>17</th>\n",
       "      <td>FlySwat</td>\n",
       "      <td>1</td>\n",
       "    </tr>\n",
       "    <tr>\n",
       "      <th>18</th>\n",
       "      <td>Franci Penov</td>\n",
       "      <td>1</td>\n",
       "    </tr>\n",
       "    <tr>\n",
       "      <th>19</th>\n",
       "      <td>GEOCHET</td>\n",
       "      <td>1</td>\n",
       "    </tr>\n",
       "    <tr>\n",
       "      <th>20</th>\n",
       "      <td>GateKiller</td>\n",
       "      <td>1</td>\n",
       "    </tr>\n",
       "    <tr>\n",
       "      <th>22</th>\n",
       "      <td>Gulzar Nazim</td>\n",
       "      <td>1</td>\n",
       "    </tr>\n",
       "    <tr>\n",
       "      <th>23</th>\n",
       "      <td>Ilya Kochetov</td>\n",
       "      <td>1</td>\n",
       "    </tr>\n",
       "    <tr>\n",
       "      <th>24</th>\n",
       "      <td>James Curran</td>\n",
       "      <td>1</td>\n",
       "    </tr>\n",
       "    <tr>\n",
       "      <th>27</th>\n",
       "      <td>Joel Coehoorn</td>\n",
       "      <td>1</td>\n",
       "    </tr>\n",
       "    <tr>\n",
       "      <th>28</th>\n",
       "      <td>Johannes Schaub - litb</td>\n",
       "      <td>1</td>\n",
       "    </tr>\n",
       "    <tr>\n",
       "      <th>29</th>\n",
       "      <td>John Millikin</td>\n",
       "      <td>1</td>\n",
       "    </tr>\n",
       "    <tr>\n",
       "      <th>30</th>\n",
       "      <td>Jon Limjap</td>\n",
       "      <td>1</td>\n",
       "    </tr>\n",
       "    <tr>\n",
       "      <th>31</th>\n",
       "      <td>Jon Skeet</td>\n",
       "      <td>1</td>\n",
       "    </tr>\n",
       "    <tr>\n",
       "      <th>32</th>\n",
       "      <td>Jorge Ferreira</td>\n",
       "      <td>1</td>\n",
       "    </tr>\n",
       "    <tr>\n",
       "      <th>36</th>\n",
       "      <td>Kibbee</td>\n",
       "      <td>1</td>\n",
       "    </tr>\n",
       "    <tr>\n",
       "      <th>37</th>\n",
       "      <td>Konrad Rudolph</td>\n",
       "      <td>1</td>\n",
       "    </tr>\n",
       "    <tr>\n",
       "      <th>38</th>\n",
       "      <td>Lasse Vågsæther Karlsen</td>\n",
       "      <td>1</td>\n",
       "    </tr>\n",
       "    <tr>\n",
       "      <th>39</th>\n",
       "      <td>Marc Gravell</td>\n",
       "      <td>1</td>\n",
       "    </tr>\n",
       "    <tr>\n",
       "      <th>41</th>\n",
       "      <td>Mark Cidade</td>\n",
       "      <td>1</td>\n",
       "    </tr>\n",
       "    <tr>\n",
       "      <th>42</th>\n",
       "      <td>Mark Harrison</td>\n",
       "      <td>1</td>\n",
       "    </tr>\n",
       "    <tr>\n",
       "      <th>44</th>\n",
       "      <td>Matt Hamilton</td>\n",
       "      <td>1</td>\n",
       "    </tr>\n",
       "    <tr>\n",
       "      <th>45</th>\n",
       "      <td>Michael Burr</td>\n",
       "      <td>1</td>\n",
       "    </tr>\n",
       "    <tr>\n",
       "      <th>46</th>\n",
       "      <td>Michael Stum</td>\n",
       "      <td>1</td>\n",
       "    </tr>\n",
       "    <tr>\n",
       "      <th>47</th>\n",
       "      <td>Mitchel Sellers</td>\n",
       "      <td>1</td>\n",
       "    </tr>\n",
       "    <tr>\n",
       "      <th>49</th>\n",
       "      <td>Norman Ramsey</td>\n",
       "      <td>1</td>\n",
       "    </tr>\n",
       "    <tr>\n",
       "      <th>51</th>\n",
       "      <td>Orion Edwards</td>\n",
       "      <td>1</td>\n",
       "    </tr>\n",
       "    <tr>\n",
       "      <th>52</th>\n",
       "      <td>Paul Nathan</td>\n",
       "      <td>1</td>\n",
       "    </tr>\n",
       "    <tr>\n",
       "      <th>53</th>\n",
       "      <td>PhiLho</td>\n",
       "      <td>1</td>\n",
       "    </tr>\n",
       "    <tr>\n",
       "      <th>55</th>\n",
       "      <td>Rob Cooper</td>\n",
       "      <td>1</td>\n",
       "    </tr>\n",
       "    <tr>\n",
       "      <th>56</th>\n",
       "      <td>Rob Walker</td>\n",
       "      <td>1</td>\n",
       "    </tr>\n",
       "    <tr>\n",
       "      <th>58</th>\n",
       "      <td>S.Lott</td>\n",
       "      <td>1</td>\n",
       "    </tr>\n",
       "    <tr>\n",
       "      <th>59</th>\n",
       "      <td>Sklivvz</td>\n",
       "      <td>1</td>\n",
       "    </tr>\n",
       "    <tr>\n",
       "      <th>60</th>\n",
       "      <td>Steven A. Lowe</td>\n",
       "      <td>1</td>\n",
       "    </tr>\n",
       "    <tr>\n",
       "      <th>61</th>\n",
       "      <td>TheSmurf</td>\n",
       "      <td>1</td>\n",
       "    </tr>\n",
       "    <tr>\n",
       "      <th>63</th>\n",
       "      <td>Vilx-</td>\n",
       "      <td>1</td>\n",
       "    </tr>\n",
       "    <tr>\n",
       "      <th>64</th>\n",
       "      <td>Vinko Vrsalovic</td>\n",
       "      <td>1</td>\n",
       "    </tr>\n",
       "    <tr>\n",
       "      <th>65</th>\n",
       "      <td>aku</td>\n",
       "      <td>1</td>\n",
       "    </tr>\n",
       "    <tr>\n",
       "      <th>66</th>\n",
       "      <td>anjanb</td>\n",
       "      <td>1</td>\n",
       "    </tr>\n",
       "    <tr>\n",
       "      <th>67</th>\n",
       "      <td>dkretz</td>\n",
       "      <td>1</td>\n",
       "    </tr>\n",
       "    <tr>\n",
       "      <th>68</th>\n",
       "      <td>frankodwyer</td>\n",
       "      <td>1</td>\n",
       "    </tr>\n",
       "    <tr>\n",
       "      <th>69</th>\n",
       "      <td>gbjbaanb</td>\n",
       "      <td>1</td>\n",
       "    </tr>\n",
       "    <tr>\n",
       "      <th>71</th>\n",
       "      <td>leppie</td>\n",
       "      <td>1</td>\n",
       "    </tr>\n",
       "    <tr>\n",
       "      <th>72</th>\n",
       "      <td>lomaxx</td>\n",
       "      <td>1</td>\n",
       "    </tr>\n",
       "    <tr>\n",
       "      <th>73</th>\n",
       "      <td>mattlant</td>\n",
       "      <td>1</td>\n",
       "    </tr>\n",
       "    <tr>\n",
       "      <th>74</th>\n",
       "      <td>paxdiablo</td>\n",
       "      <td>1</td>\n",
       "    </tr>\n",
       "    <tr>\n",
       "      <th>75</th>\n",
       "      <td>tzot</td>\n",
       "      <td>1</td>\n",
       "    </tr>\n",
       "  </tbody>\n",
       "</table>\n",
       "</div>"
      ],
      "text/plain": [
       "                 display_name  count\n",
       "0            1800 INFORMATION      1\n",
       "1               Adam Bellaire      1\n",
       "2                  Adam Davis      1\n",
       "3                   Adam Liss      1\n",
       "5                       Amy B      1\n",
       "6               Ben Hoffstein      1\n",
       "8                   Cade Roux      1\n",
       "9                      CesarB      1\n",
       "11  ConcernedOfTunbridgeWells      1\n",
       "13                 Dale Ragan      1\n",
       "15               Eric Z Beard      1\n",
       "16                       Espo      1\n",
       "17                    FlySwat      1\n",
       "18               Franci Penov      1\n",
       "19                    GEOCHET      1\n",
       "20                 GateKiller      1\n",
       "22               Gulzar Nazim      1\n",
       "23              Ilya Kochetov      1\n",
       "24               James Curran      1\n",
       "27              Joel Coehoorn      1\n",
       "28     Johannes Schaub - litb      1\n",
       "29              John Millikin      1\n",
       "30                 Jon Limjap      1\n",
       "31                  Jon Skeet      1\n",
       "32             Jorge Ferreira      1\n",
       "36                     Kibbee      1\n",
       "37             Konrad Rudolph      1\n",
       "38    Lasse Vågsæther Karlsen      1\n",
       "39               Marc Gravell      1\n",
       "41                Mark Cidade      1\n",
       "42              Mark Harrison      1\n",
       "44              Matt Hamilton      1\n",
       "45               Michael Burr      1\n",
       "46               Michael Stum      1\n",
       "47            Mitchel Sellers      1\n",
       "49              Norman Ramsey      1\n",
       "51              Orion Edwards      1\n",
       "52                Paul Nathan      1\n",
       "53                     PhiLho      1\n",
       "55                 Rob Cooper      1\n",
       "56                 Rob Walker      1\n",
       "58                     S.Lott      1\n",
       "59                    Sklivvz      1\n",
       "60             Steven A. Lowe      1\n",
       "61                   TheSmurf      1\n",
       "63                      Vilx-      1\n",
       "64            Vinko Vrsalovic      1\n",
       "65                        aku      1\n",
       "66                     anjanb      1\n",
       "67                     dkretz      1\n",
       "68                frankodwyer      1\n",
       "69                   gbjbaanb      1\n",
       "71                     leppie      1\n",
       "72                     lomaxx      1\n",
       "73                   mattlant      1\n",
       "74                  paxdiablo      1\n",
       "75                       tzot      1"
      ]
     },
     "execution_count": 14,
     "metadata": {},
     "output_type": "execute_result"
    }
   ],
   "source": [
    "posts_df.loc[posts_df['count'] == 1]"
   ]
  },
  {
   "cell_type": "markdown",
   "metadata": {},
   "source": [
    "Также среди пользователей есть те, чье имя является уникальным. Для этого достаточно указать имя и фамилию полностью, что непопулярно среди пользователей, поэтому можно таким образом получить уникальное имя. Часть пользователей вообще указывают при регистрации случайный набор букв, однако их меньшинство."
   ]
  },
  {
   "cell_type": "markdown",
   "metadata": {
    "id": "JhM2xXj5DWKu"
   },
   "source": [
    "### Задание 3"
   ]
  },
  {
   "cell_type": "markdown",
   "metadata": {
    "id": "IS6xPqyyDWKu"
   },
   "source": [
    "Выведите количество постов за 2008 год по месяцам. Отберите посты от пользователей, которые зарегистрировались в сентябре 2008 года и сделали хотя бы один пост в декабре того же года. Отсортируйте таблицу по значению месяца по убыванию."
   ]
  },
  {
   "cell_type": "code",
   "execution_count": 15,
   "metadata": {
    "id": "kVu0FB8WDWKv"
   },
   "outputs": [],
   "source": [
    "query = '''\n",
    "SELECT\n",
    "    DATE_TRUNC('month', creation_date) AS month,\n",
    "    COUNT(id)\n",
    "FROM\n",
    "    stackoverflow.posts\n",
    "WHERE\n",
    "    user_id IN ( SELECT DISTINCT\n",
    "            u.id\n",
    "        FROM\n",
    "            stackoverflow.users u\n",
    "        RIGHT JOIN stackoverflow.posts p ON u.id = p.user_id\n",
    "    WHERE\n",
    "        DATE_TRUNC('month', u.creation_date) = '2008-09-01'\n",
    "        AND DATE_TRUNC('month', p.creation_date) = '2008-12-01')\n",
    "GROUP BY\n",
    "    month\n",
    "ORDER BY\n",
    "    month DESC\n",
    "\n",
    "'''"
   ]
  },
  {
   "cell_type": "code",
   "execution_count": 16,
   "metadata": {},
   "outputs": [],
   "source": [
    "posts_months = pd.read_sql_query(query, con=engine)"
   ]
  },
  {
   "cell_type": "code",
   "execution_count": 17,
   "metadata": {},
   "outputs": [
    {
     "data": {
      "text/html": [
       "<div>\n",
       "<style scoped>\n",
       "    .dataframe tbody tr th:only-of-type {\n",
       "        vertical-align: middle;\n",
       "    }\n",
       "\n",
       "    .dataframe tbody tr th {\n",
       "        vertical-align: top;\n",
       "    }\n",
       "\n",
       "    .dataframe thead th {\n",
       "        text-align: right;\n",
       "    }\n",
       "</style>\n",
       "<table border=\"1\" class=\"dataframe\">\n",
       "  <thead>\n",
       "    <tr style=\"text-align: right;\">\n",
       "      <th></th>\n",
       "      <th>month</th>\n",
       "      <th>count</th>\n",
       "    </tr>\n",
       "  </thead>\n",
       "  <tbody>\n",
       "    <tr>\n",
       "      <th>0</th>\n",
       "      <td>2008-12-01</td>\n",
       "      <td>17641</td>\n",
       "    </tr>\n",
       "    <tr>\n",
       "      <th>1</th>\n",
       "      <td>2008-11-01</td>\n",
       "      <td>18294</td>\n",
       "    </tr>\n",
       "    <tr>\n",
       "      <th>2</th>\n",
       "      <td>2008-10-01</td>\n",
       "      <td>27171</td>\n",
       "    </tr>\n",
       "    <tr>\n",
       "      <th>3</th>\n",
       "      <td>2008-09-01</td>\n",
       "      <td>24870</td>\n",
       "    </tr>\n",
       "    <tr>\n",
       "      <th>4</th>\n",
       "      <td>2008-08-01</td>\n",
       "      <td>32</td>\n",
       "    </tr>\n",
       "  </tbody>\n",
       "</table>\n",
       "</div>"
      ],
      "text/plain": [
       "       month  count\n",
       "0 2008-12-01  17641\n",
       "1 2008-11-01  18294\n",
       "2 2008-10-01  27171\n",
       "3 2008-09-01  24870\n",
       "4 2008-08-01     32"
      ]
     },
     "execution_count": 17,
     "metadata": {},
     "output_type": "execute_result"
    }
   ],
   "source": [
    "posts_months"
   ]
  },
  {
   "cell_type": "markdown",
   "metadata": {
    "id": "Vnxn9DVHDWKx"
   },
   "source": [
    "**Изучите данные: есть ли в них аномалии? Предположите, почему могли появиться аномальные значения.**"
   ]
  },
  {
   "cell_type": "markdown",
   "metadata": {
    "id": "MMVIz4yMlKpN"
   },
   "source": [
    "Несмотря на то, что были отобраны пользователи, зарегистрировавшиеся в сентябре, имеется несколько постов от пользователей с этими id в августе. Если вывести список таких пользователей, их окажется более 50. В качестве вероятной причины можно предположить сбой в системе."
   ]
  },
  {
   "cell_type": "markdown",
   "metadata": {
    "id": "5Pcizm0DDWKz"
   },
   "source": [
    "### Задание 4"
   ]
  },
  {
   "cell_type": "markdown",
   "metadata": {
    "id": "KUZPF6vHDWKz"
   },
   "source": [
    "Используя данные о постах, выведите несколько полей:\n",
    "\n",
    "- идентификатор пользователя, который написал пост;\n",
    "- дата создания поста;\n",
    "- количество просмотров у текущего поста;\n",
    "- сумму просмотров постов автора с накоплением.\n",
    "\n",
    "Данные в таблице должны быть отсортированы по возрастанию идентификаторов пользователей, а данные об одном и том же пользователе — по возрастанию даты создания поста."
   ]
  },
  {
   "cell_type": "code",
   "execution_count": 18,
   "metadata": {
    "id": "hDoJhMzfDWK0"
   },
   "outputs": [],
   "source": [
    "query = '''\n",
    "SELECT\n",
    "    user_id,\n",
    "    creation_date,\n",
    "    views_count,\n",
    "    SUM(views_count) OVER (PARTITION BY user_id ORDER BY creation_date)\n",
    "FROM\n",
    "    stackoverflow.posts\n",
    "ORDER BY\n",
    "    user_id\n",
    "'''"
   ]
  },
  {
   "cell_type": "code",
   "execution_count": 19,
   "metadata": {},
   "outputs": [],
   "source": [
    "posts_cum = pd.read_sql_query(query, con=engine)"
   ]
  },
  {
   "cell_type": "code",
   "execution_count": 20,
   "metadata": {
    "scrolled": true
   },
   "outputs": [
    {
     "data": {
      "text/html": [
       "<div>\n",
       "<style scoped>\n",
       "    .dataframe tbody tr th:only-of-type {\n",
       "        vertical-align: middle;\n",
       "    }\n",
       "\n",
       "    .dataframe tbody tr th {\n",
       "        vertical-align: top;\n",
       "    }\n",
       "\n",
       "    .dataframe thead th {\n",
       "        text-align: right;\n",
       "    }\n",
       "</style>\n",
       "<table border=\"1\" class=\"dataframe\">\n",
       "  <thead>\n",
       "    <tr style=\"text-align: right;\">\n",
       "      <th></th>\n",
       "      <th>user_id</th>\n",
       "      <th>creation_date</th>\n",
       "      <th>views_count</th>\n",
       "      <th>sum</th>\n",
       "    </tr>\n",
       "  </thead>\n",
       "  <tbody>\n",
       "    <tr>\n",
       "      <th>0</th>\n",
       "      <td>1</td>\n",
       "      <td>2008-07-31 23:41:00</td>\n",
       "      <td>480476</td>\n",
       "      <td>480476</td>\n",
       "    </tr>\n",
       "    <tr>\n",
       "      <th>1</th>\n",
       "      <td>1</td>\n",
       "      <td>2008-07-31 23:55:38</td>\n",
       "      <td>136033</td>\n",
       "      <td>616509</td>\n",
       "    </tr>\n",
       "    <tr>\n",
       "      <th>2</th>\n",
       "      <td>1</td>\n",
       "      <td>2008-07-31 23:56:41</td>\n",
       "      <td>0</td>\n",
       "      <td>616509</td>\n",
       "    </tr>\n",
       "    <tr>\n",
       "      <th>3</th>\n",
       "      <td>1</td>\n",
       "      <td>2008-08-04 02:45:08</td>\n",
       "      <td>0</td>\n",
       "      <td>616509</td>\n",
       "    </tr>\n",
       "    <tr>\n",
       "      <th>4</th>\n",
       "      <td>1</td>\n",
       "      <td>2008-08-04 04:31:03</td>\n",
       "      <td>0</td>\n",
       "      <td>616509</td>\n",
       "    </tr>\n",
       "    <tr>\n",
       "      <th>...</th>\n",
       "      <td>...</td>\n",
       "      <td>...</td>\n",
       "      <td>...</td>\n",
       "      <td>...</td>\n",
       "    </tr>\n",
       "    <tr>\n",
       "      <th>243791</th>\n",
       "      <td>5696608</td>\n",
       "      <td>2008-12-23 16:00:37</td>\n",
       "      <td>0</td>\n",
       "      <td>2804</td>\n",
       "    </tr>\n",
       "    <tr>\n",
       "      <th>243792</th>\n",
       "      <td>5696608</td>\n",
       "      <td>2008-12-23 17:35:09</td>\n",
       "      <td>0</td>\n",
       "      <td>2804</td>\n",
       "    </tr>\n",
       "    <tr>\n",
       "      <th>243793</th>\n",
       "      <td>5696608</td>\n",
       "      <td>2008-12-24 01:02:48</td>\n",
       "      <td>0</td>\n",
       "      <td>2804</td>\n",
       "    </tr>\n",
       "    <tr>\n",
       "      <th>243794</th>\n",
       "      <td>5696608</td>\n",
       "      <td>2008-12-30 14:34:45</td>\n",
       "      <td>0</td>\n",
       "      <td>2804</td>\n",
       "    </tr>\n",
       "    <tr>\n",
       "      <th>243795</th>\n",
       "      <td>5696608</td>\n",
       "      <td>2008-12-30 16:32:12</td>\n",
       "      <td>0</td>\n",
       "      <td>2804</td>\n",
       "    </tr>\n",
       "  </tbody>\n",
       "</table>\n",
       "<p>243796 rows × 4 columns</p>\n",
       "</div>"
      ],
      "text/plain": [
       "        user_id       creation_date  views_count     sum\n",
       "0             1 2008-07-31 23:41:00       480476  480476\n",
       "1             1 2008-07-31 23:55:38       136033  616509\n",
       "2             1 2008-07-31 23:56:41            0  616509\n",
       "3             1 2008-08-04 02:45:08            0  616509\n",
       "4             1 2008-08-04 04:31:03            0  616509\n",
       "...         ...                 ...          ...     ...\n",
       "243791  5696608 2008-12-23 16:00:37            0    2804\n",
       "243792  5696608 2008-12-23 17:35:09            0    2804\n",
       "243793  5696608 2008-12-24 01:02:48            0    2804\n",
       "243794  5696608 2008-12-30 14:34:45            0    2804\n",
       "243795  5696608 2008-12-30 16:32:12            0    2804\n",
       "\n",
       "[243796 rows x 4 columns]"
      ]
     },
     "execution_count": 20,
     "metadata": {},
     "output_type": "execute_result"
    }
   ],
   "source": [
    "posts_cum"
   ]
  },
  {
   "cell_type": "markdown",
   "metadata": {
    "id": "N0kHRHvIDWK2"
   },
   "source": [
    "### Задание 5"
   ]
  },
  {
   "cell_type": "markdown",
   "metadata": {
    "id": "gBgvmPtODWK2"
   },
   "source": [
    "Найдите среднее количество постов пользователей в день за август 2008 года. Отберите данные о пользователях, которые опубликовали больше 120 постов за август. Дни без публикаций не учитывайте. \n",
    "\n",
    "Отсортируйте результат по возрастанию среднего количества постов."
   ]
  },
  {
   "cell_type": "code",
   "execution_count": 21,
   "metadata": {
    "id": "YFyPNz5GDWK3"
   },
   "outputs": [],
   "source": [
    "query = '''\n",
    "WITH users AS (\n",
    "    SELECT\n",
    "        user_id,\n",
    "        DATE_TRUNC('day', creation_date)::date AS day,\n",
    "        COUNT(id)\n",
    "    FROM\n",
    "        stackoverflow.posts\n",
    "    WHERE\n",
    "        user_id IN (\n",
    "            SELECT\n",
    "                user_id\n",
    "            FROM\n",
    "                stackoverflow.posts\n",
    "            WHERE\n",
    "                DATE_TRUNC('month', creation_date)::date = '2008-08-01'\n",
    "            GROUP BY\n",
    "                user_id\n",
    "            HAVING\n",
    "                COUNT(id) > 120)\n",
    "            AND DATE_TRUNC('month', creation_date)::date = '2008-08-01'\n",
    "        GROUP BY\n",
    "            user_id,\n",
    "            day\n",
    ")\n",
    "SELECT\n",
    "    user_id,\n",
    "    AVG(count)\n",
    "FROM\n",
    "    users\n",
    "GROUP BY\n",
    "    user_id\n",
    "'''"
   ]
  },
  {
   "cell_type": "code",
   "execution_count": 22,
   "metadata": {},
   "outputs": [],
   "source": [
    "users_avg = pd.read_sql_query(query, con=engine)"
   ]
  },
  {
   "cell_type": "code",
   "execution_count": 23,
   "metadata": {
    "scrolled": true
   },
   "outputs": [
    {
     "data": {
      "text/html": [
       "<div>\n",
       "<style scoped>\n",
       "    .dataframe tbody tr th:only-of-type {\n",
       "        vertical-align: middle;\n",
       "    }\n",
       "\n",
       "    .dataframe tbody tr th {\n",
       "        vertical-align: top;\n",
       "    }\n",
       "\n",
       "    .dataframe thead th {\n",
       "        text-align: right;\n",
       "    }\n",
       "</style>\n",
       "<table border=\"1\" class=\"dataframe\">\n",
       "  <thead>\n",
       "    <tr style=\"text-align: right;\">\n",
       "      <th></th>\n",
       "      <th>user_id</th>\n",
       "      <th>avg</th>\n",
       "    </tr>\n",
       "  </thead>\n",
       "  <tbody>\n",
       "    <tr>\n",
       "      <th>0</th>\n",
       "      <td>116</td>\n",
       "      <td>4.777778</td>\n",
       "    </tr>\n",
       "    <tr>\n",
       "      <th>1</th>\n",
       "      <td>234</td>\n",
       "      <td>5.208333</td>\n",
       "    </tr>\n",
       "    <tr>\n",
       "      <th>2</th>\n",
       "      <td>383</td>\n",
       "      <td>7.277778</td>\n",
       "    </tr>\n",
       "    <tr>\n",
       "      <th>3</th>\n",
       "      <td>905</td>\n",
       "      <td>7.000000</td>\n",
       "    </tr>\n",
       "    <tr>\n",
       "      <th>4</th>\n",
       "      <td>91</td>\n",
       "      <td>5.681818</td>\n",
       "    </tr>\n",
       "  </tbody>\n",
       "</table>\n",
       "</div>"
      ],
      "text/plain": [
       "   user_id       avg\n",
       "0      116  4.777778\n",
       "1      234  5.208333\n",
       "2      383  7.277778\n",
       "3      905  7.000000\n",
       "4       91  5.681818"
      ]
     },
     "execution_count": 23,
     "metadata": {},
     "output_type": "execute_result"
    }
   ],
   "source": [
    "users_avg"
   ]
  },
  {
   "cell_type": "markdown",
   "metadata": {
    "id": "EQ0dcFH4DWK5"
   },
   "source": [
    "### Задание 6"
   ]
  },
  {
   "cell_type": "markdown",
   "metadata": {
    "id": "c7flfg_hDWK5"
   },
   "source": [
    "Сколько в среднем дней в период с 1 по 7 декабря 2008 года пользователи взаимодействовали с платформой? Для каждого пользователя отберите дни, в которые он или она опубликовали хотя бы один пост. Нужно получить одно целое число. "
   ]
  },
  {
   "cell_type": "code",
   "execution_count": 24,
   "metadata": {
    "id": "kZ7LXTr6DWK6"
   },
   "outputs": [],
   "source": [
    "query = '''\n",
    "SELECT\n",
    "    ROUND(AVG(day))\n",
    "FROM (\n",
    "    SELECT\n",
    "        user_id,\n",
    "        COUNT(DISTINCT DATE_TRUNC('day', creation_date)::date) AS day\n",
    "    FROM\n",
    "        stackoverflow.posts\n",
    "    WHERE\n",
    "        DATE_TRUNC('day', creation_date)::date BETWEEN '2008-12-01' AND '2008-12-07'\n",
    "    GROUP BY\n",
    "        user_id\n",
    "    ORDER BY\n",
    "        user_id) days_cnt\n",
    "'''"
   ]
  },
  {
   "cell_type": "code",
   "execution_count": 25,
   "metadata": {},
   "outputs": [],
   "source": [
    "interactions = pd.read_sql_query(query, con=engine)"
   ]
  },
  {
   "cell_type": "code",
   "execution_count": 26,
   "metadata": {
    "scrolled": true
   },
   "outputs": [
    {
     "data": {
      "text/html": [
       "<div>\n",
       "<style scoped>\n",
       "    .dataframe tbody tr th:only-of-type {\n",
       "        vertical-align: middle;\n",
       "    }\n",
       "\n",
       "    .dataframe tbody tr th {\n",
       "        vertical-align: top;\n",
       "    }\n",
       "\n",
       "    .dataframe thead th {\n",
       "        text-align: right;\n",
       "    }\n",
       "</style>\n",
       "<table border=\"1\" class=\"dataframe\">\n",
       "  <thead>\n",
       "    <tr style=\"text-align: right;\">\n",
       "      <th></th>\n",
       "      <th>round</th>\n",
       "    </tr>\n",
       "  </thead>\n",
       "  <tbody>\n",
       "    <tr>\n",
       "      <th>0</th>\n",
       "      <td>2.0</td>\n",
       "    </tr>\n",
       "  </tbody>\n",
       "</table>\n",
       "</div>"
      ],
      "text/plain": [
       "   round\n",
       "0    2.0"
      ]
     },
     "execution_count": 26,
     "metadata": {},
     "output_type": "execute_result"
    }
   ],
   "source": [
    "interactions"
   ]
  },
  {
   "cell_type": "markdown",
   "metadata": {
    "id": "UJFtNNggDWK7"
   },
   "source": [
    "**Проанализируйте итоговую таблицу — какие выводы можно сделать?**"
   ]
  },
  {
   "cell_type": "markdown",
   "metadata": {
    "id": "LfUuYz-1DWK8"
   },
   "source": [
    "Можно прийти к выводу, что за указанный срок пользователи в среднем публиковали 2 поста в день (на самом деле чуть меньше). По сравнению с предыдущим результатом количество постов в день оказалось меньше, однако сюда вошли не только самые активные пользователи, но и вообще все, публиковавшие пост в заданный временной промежуток."
   ]
  },
  {
   "cell_type": "markdown",
   "metadata": {
    "id": "wfOmqmfLDWK8"
   },
   "source": [
    "### Задание 7"
   ]
  },
  {
   "cell_type": "markdown",
   "metadata": {
    "id": "X4ARQimADWK9"
   },
   "source": [
    "Выведите историю активности каждого пользователя в таком виде: идентификатор пользователя, дата публикации поста. Отсортируйте вывод по возрастанию идентификаторов пользователей, а для каждого пользователя — по возрастанию даты публикации.\n",
    "\n",
    "Добавьте в таблицу новое поле: для каждого поста в нём будет указано название месяца предпоследней публикации пользователя относительно текущей. "
   ]
  },
  {
   "cell_type": "markdown",
   "metadata": {
    "id": "IGPjRP01DWK9"
   },
   "source": [
    "| user_id | creation_date | second_last_month |\n",
    "| ------- | ------------- | ----------------- |\n",
    "| 1       | 2008-07-31 23:41:00 | None |\n",
    "| 1       | 2008-07-31 23:55:38 | None |\n",
    "| 1       | 2008-07-31 23:56:41 | July |\n",
    "| 1       | 2008-08-04 02:45:08 | July |\n",
    "| 1       | 2008-08-04 04:31:03 | July |\n",
    "| 1       | 2008-08-04 08:04:42 | August |\n",
    "| ... | ... | ... |"
   ]
  },
  {
   "cell_type": "code",
   "execution_count": 27,
   "metadata": {
    "id": "HzI1vhaMDWK-"
   },
   "outputs": [],
   "source": [
    "# напишите запрос\n",
    "query = '''\n",
    "SELECT\n",
    "    user_id,\n",
    "    creation_date,\n",
    "    TO_CHAR(LAG(creation_date, 2, NULL) OVER (PARTITION BY user_id ORDER BY creation_date), 'Month') AS second_last_month\n",
    "FROM\n",
    "    stackoverflow.posts\n",
    "ORDER BY\n",
    "    user_id,\n",
    "    creation_date\n",
    "'''\n",
    "\n",
    "# выполните запрос"
   ]
  },
  {
   "cell_type": "code",
   "execution_count": 28,
   "metadata": {},
   "outputs": [],
   "source": [
    "second_last_post = pd.read_sql_query(query, con=engine)"
   ]
  },
  {
   "cell_type": "code",
   "execution_count": 29,
   "metadata": {
    "scrolled": true
   },
   "outputs": [
    {
     "data": {
      "text/html": [
       "<div>\n",
       "<style scoped>\n",
       "    .dataframe tbody tr th:only-of-type {\n",
       "        vertical-align: middle;\n",
       "    }\n",
       "\n",
       "    .dataframe tbody tr th {\n",
       "        vertical-align: top;\n",
       "    }\n",
       "\n",
       "    .dataframe thead th {\n",
       "        text-align: right;\n",
       "    }\n",
       "</style>\n",
       "<table border=\"1\" class=\"dataframe\">\n",
       "  <thead>\n",
       "    <tr style=\"text-align: right;\">\n",
       "      <th></th>\n",
       "      <th>user_id</th>\n",
       "      <th>creation_date</th>\n",
       "      <th>second_last_month</th>\n",
       "    </tr>\n",
       "  </thead>\n",
       "  <tbody>\n",
       "    <tr>\n",
       "      <th>0</th>\n",
       "      <td>1</td>\n",
       "      <td>2008-07-31 23:41:00</td>\n",
       "      <td>None</td>\n",
       "    </tr>\n",
       "    <tr>\n",
       "      <th>1</th>\n",
       "      <td>1</td>\n",
       "      <td>2008-07-31 23:55:38</td>\n",
       "      <td>None</td>\n",
       "    </tr>\n",
       "    <tr>\n",
       "      <th>2</th>\n",
       "      <td>1</td>\n",
       "      <td>2008-07-31 23:56:41</td>\n",
       "      <td>July</td>\n",
       "    </tr>\n",
       "    <tr>\n",
       "      <th>3</th>\n",
       "      <td>1</td>\n",
       "      <td>2008-08-04 02:45:08</td>\n",
       "      <td>July</td>\n",
       "    </tr>\n",
       "    <tr>\n",
       "      <th>4</th>\n",
       "      <td>1</td>\n",
       "      <td>2008-08-04 04:31:03</td>\n",
       "      <td>July</td>\n",
       "    </tr>\n",
       "    <tr>\n",
       "      <th>...</th>\n",
       "      <td>...</td>\n",
       "      <td>...</td>\n",
       "      <td>...</td>\n",
       "    </tr>\n",
       "    <tr>\n",
       "      <th>243791</th>\n",
       "      <td>5696608</td>\n",
       "      <td>2008-12-23 16:00:37</td>\n",
       "      <td>December</td>\n",
       "    </tr>\n",
       "    <tr>\n",
       "      <th>243792</th>\n",
       "      <td>5696608</td>\n",
       "      <td>2008-12-23 17:35:09</td>\n",
       "      <td>December</td>\n",
       "    </tr>\n",
       "    <tr>\n",
       "      <th>243793</th>\n",
       "      <td>5696608</td>\n",
       "      <td>2008-12-24 01:02:48</td>\n",
       "      <td>December</td>\n",
       "    </tr>\n",
       "    <tr>\n",
       "      <th>243794</th>\n",
       "      <td>5696608</td>\n",
       "      <td>2008-12-30 14:34:45</td>\n",
       "      <td>December</td>\n",
       "    </tr>\n",
       "    <tr>\n",
       "      <th>243795</th>\n",
       "      <td>5696608</td>\n",
       "      <td>2008-12-30 16:32:12</td>\n",
       "      <td>December</td>\n",
       "    </tr>\n",
       "  </tbody>\n",
       "</table>\n",
       "<p>243796 rows × 3 columns</p>\n",
       "</div>"
      ],
      "text/plain": [
       "        user_id       creation_date second_last_month\n",
       "0             1 2008-07-31 23:41:00              None\n",
       "1             1 2008-07-31 23:55:38              None\n",
       "2             1 2008-07-31 23:56:41         July     \n",
       "3             1 2008-08-04 02:45:08         July     \n",
       "4             1 2008-08-04 04:31:03         July     \n",
       "...         ...                 ...               ...\n",
       "243791  5696608 2008-12-23 16:00:37         December \n",
       "243792  5696608 2008-12-23 17:35:09         December \n",
       "243793  5696608 2008-12-24 01:02:48         December \n",
       "243794  5696608 2008-12-30 14:34:45         December \n",
       "243795  5696608 2008-12-30 16:32:12         December \n",
       "\n",
       "[243796 rows x 3 columns]"
      ]
     },
     "execution_count": 29,
     "metadata": {},
     "output_type": "execute_result"
    }
   ],
   "source": [
    "second_last_post"
   ]
  },
  {
   "cell_type": "markdown",
   "metadata": {
    "id": "tf9qq2yzDWK_"
   },
   "source": [
    "### Задание 8"
   ]
  },
  {
   "cell_type": "markdown",
   "metadata": {
    "id": "gfwLVXBYDWLA"
   },
   "source": [
    "Рассчитайте аналог Retention Rate по месяцам для пользователей StackOverflow. Объедините пользователей в когорты по месяцу их первого поста. Возвращение определяйте по наличию поста в текущем месяце. "
   ]
  },
  {
   "cell_type": "code",
   "execution_count": 30,
   "metadata": {
    "id": "LUgFmwmTDWLB"
   },
   "outputs": [],
   "source": [
    "query = '''\n",
    "WITH profile AS (\n",
    "    SELECT\n",
    "        id AS user_id,\n",
    "        DATE_TRUNC('month', T.start_dt) AS dt,\n",
    "        COUNT(*) OVER (PARTITION BY DATE_TRUNC('month', T.start_dt)) AS cohort_users_cnt\n",
    "    FROM (\n",
    "        SELECT\n",
    "            u1.id,\n",
    "            DATE_TRUNC('month', p1.creation_date) AS creation_date,\n",
    "            MIN(p1.creation_date) OVER (PARTITION BY u1.id ORDER BY p1.creation_date) AS start_dt\n",
    "        FROM\n",
    "            stackoverflow.users u1\n",
    "            JOIN stackoverflow.posts p1 ON u1.id = p1.user_id) T\n",
    "    GROUP BY\n",
    "        id,\n",
    "        dt\n",
    "),\n",
    "sessions AS (\n",
    "    SELECT\n",
    "        user_id,\n",
    "        DATE_TRUNC('month', creation_date) AS session_date\n",
    "    FROM\n",
    "        stackoverflow.posts\n",
    "    GROUP BY\n",
    "        user_id,\n",
    "        session_date\n",
    ")\n",
    "SELECT\n",
    "    p.dt AS cohort_dt,\n",
    "    s.session_date,\n",
    "    COUNT(p.user_id) AS users_cnt,\n",
    "    p.cohort_users_cnt,\n",
    "    ROUND(COUNT(p.user_id) * 100.0 / cohort_users_cnt, 2) AS retention_rate\n",
    "FROM\n",
    "    profile p\n",
    "    JOIN sessions s ON p.user_id = s.user_id\n",
    "GROUP BY\n",
    "    1,\n",
    "    2,\n",
    "    4;\n",
    "'''"
   ]
  },
  {
   "cell_type": "code",
   "execution_count": 31,
   "metadata": {},
   "outputs": [],
   "source": [
    "retention_rate = pd.read_sql_query(query, con=engine)"
   ]
  },
  {
   "cell_type": "code",
   "execution_count": 32,
   "metadata": {
    "scrolled": false
   },
   "outputs": [
    {
     "data": {
      "text/html": [
       "<div>\n",
       "<style scoped>\n",
       "    .dataframe tbody tr th:only-of-type {\n",
       "        vertical-align: middle;\n",
       "    }\n",
       "\n",
       "    .dataframe tbody tr th {\n",
       "        vertical-align: top;\n",
       "    }\n",
       "\n",
       "    .dataframe thead th {\n",
       "        text-align: right;\n",
       "    }\n",
       "</style>\n",
       "<table border=\"1\" class=\"dataframe\">\n",
       "  <thead>\n",
       "    <tr style=\"text-align: right;\">\n",
       "      <th></th>\n",
       "      <th>cohort_dt</th>\n",
       "      <th>session_date</th>\n",
       "      <th>users_cnt</th>\n",
       "      <th>cohort_users_cnt</th>\n",
       "      <th>retention_rate</th>\n",
       "    </tr>\n",
       "  </thead>\n",
       "  <tbody>\n",
       "    <tr>\n",
       "      <th>0</th>\n",
       "      <td>2008-07-01</td>\n",
       "      <td>2008-07-01</td>\n",
       "      <td>3</td>\n",
       "      <td>3</td>\n",
       "      <td>100.00</td>\n",
       "    </tr>\n",
       "    <tr>\n",
       "      <th>1</th>\n",
       "      <td>2008-07-01</td>\n",
       "      <td>2008-08-01</td>\n",
       "      <td>2</td>\n",
       "      <td>3</td>\n",
       "      <td>66.67</td>\n",
       "    </tr>\n",
       "    <tr>\n",
       "      <th>2</th>\n",
       "      <td>2008-07-01</td>\n",
       "      <td>2008-09-01</td>\n",
       "      <td>1</td>\n",
       "      <td>3</td>\n",
       "      <td>33.33</td>\n",
       "    </tr>\n",
       "    <tr>\n",
       "      <th>3</th>\n",
       "      <td>2008-07-01</td>\n",
       "      <td>2008-10-01</td>\n",
       "      <td>2</td>\n",
       "      <td>3</td>\n",
       "      <td>66.67</td>\n",
       "    </tr>\n",
       "    <tr>\n",
       "      <th>4</th>\n",
       "      <td>2008-07-01</td>\n",
       "      <td>2008-11-01</td>\n",
       "      <td>1</td>\n",
       "      <td>3</td>\n",
       "      <td>33.33</td>\n",
       "    </tr>\n",
       "    <tr>\n",
       "      <th>5</th>\n",
       "      <td>2008-07-01</td>\n",
       "      <td>2008-12-01</td>\n",
       "      <td>2</td>\n",
       "      <td>3</td>\n",
       "      <td>66.67</td>\n",
       "    </tr>\n",
       "    <tr>\n",
       "      <th>6</th>\n",
       "      <td>2008-08-01</td>\n",
       "      <td>2008-08-01</td>\n",
       "      <td>2151</td>\n",
       "      <td>2151</td>\n",
       "      <td>100.00</td>\n",
       "    </tr>\n",
       "    <tr>\n",
       "      <th>7</th>\n",
       "      <td>2008-08-01</td>\n",
       "      <td>2008-09-01</td>\n",
       "      <td>1571</td>\n",
       "      <td>2151</td>\n",
       "      <td>73.04</td>\n",
       "    </tr>\n",
       "    <tr>\n",
       "      <th>8</th>\n",
       "      <td>2008-08-01</td>\n",
       "      <td>2008-10-01</td>\n",
       "      <td>1275</td>\n",
       "      <td>2151</td>\n",
       "      <td>59.27</td>\n",
       "    </tr>\n",
       "    <tr>\n",
       "      <th>9</th>\n",
       "      <td>2008-08-01</td>\n",
       "      <td>2008-11-01</td>\n",
       "      <td>1050</td>\n",
       "      <td>2151</td>\n",
       "      <td>48.81</td>\n",
       "    </tr>\n",
       "    <tr>\n",
       "      <th>10</th>\n",
       "      <td>2008-08-01</td>\n",
       "      <td>2008-12-01</td>\n",
       "      <td>894</td>\n",
       "      <td>2151</td>\n",
       "      <td>41.56</td>\n",
       "    </tr>\n",
       "    <tr>\n",
       "      <th>11</th>\n",
       "      <td>2008-09-01</td>\n",
       "      <td>2008-09-01</td>\n",
       "      <td>7678</td>\n",
       "      <td>7678</td>\n",
       "      <td>100.00</td>\n",
       "    </tr>\n",
       "    <tr>\n",
       "      <th>12</th>\n",
       "      <td>2008-09-01</td>\n",
       "      <td>2008-10-01</td>\n",
       "      <td>4132</td>\n",
       "      <td>7678</td>\n",
       "      <td>53.82</td>\n",
       "    </tr>\n",
       "    <tr>\n",
       "      <th>13</th>\n",
       "      <td>2008-09-01</td>\n",
       "      <td>2008-11-01</td>\n",
       "      <td>2966</td>\n",
       "      <td>7678</td>\n",
       "      <td>38.63</td>\n",
       "    </tr>\n",
       "    <tr>\n",
       "      <th>14</th>\n",
       "      <td>2008-09-01</td>\n",
       "      <td>2008-12-01</td>\n",
       "      <td>2500</td>\n",
       "      <td>7678</td>\n",
       "      <td>32.56</td>\n",
       "    </tr>\n",
       "    <tr>\n",
       "      <th>15</th>\n",
       "      <td>2008-10-01</td>\n",
       "      <td>2008-10-01</td>\n",
       "      <td>3629</td>\n",
       "      <td>3629</td>\n",
       "      <td>100.00</td>\n",
       "    </tr>\n",
       "    <tr>\n",
       "      <th>16</th>\n",
       "      <td>2008-10-01</td>\n",
       "      <td>2008-11-01</td>\n",
       "      <td>1640</td>\n",
       "      <td>3629</td>\n",
       "      <td>45.19</td>\n",
       "    </tr>\n",
       "    <tr>\n",
       "      <th>17</th>\n",
       "      <td>2008-10-01</td>\n",
       "      <td>2008-12-01</td>\n",
       "      <td>1221</td>\n",
       "      <td>3629</td>\n",
       "      <td>33.65</td>\n",
       "    </tr>\n",
       "    <tr>\n",
       "      <th>18</th>\n",
       "      <td>2008-11-01</td>\n",
       "      <td>2008-11-01</td>\n",
       "      <td>2852</td>\n",
       "      <td>2852</td>\n",
       "      <td>100.00</td>\n",
       "    </tr>\n",
       "    <tr>\n",
       "      <th>19</th>\n",
       "      <td>2008-11-01</td>\n",
       "      <td>2008-12-01</td>\n",
       "      <td>1151</td>\n",
       "      <td>2852</td>\n",
       "      <td>40.36</td>\n",
       "    </tr>\n",
       "    <tr>\n",
       "      <th>20</th>\n",
       "      <td>2008-12-01</td>\n",
       "      <td>2008-12-01</td>\n",
       "      <td>2536</td>\n",
       "      <td>2536</td>\n",
       "      <td>100.00</td>\n",
       "    </tr>\n",
       "  </tbody>\n",
       "</table>\n",
       "</div>"
      ],
      "text/plain": [
       "    cohort_dt session_date  users_cnt  cohort_users_cnt  retention_rate\n",
       "0  2008-07-01   2008-07-01          3                 3          100.00\n",
       "1  2008-07-01   2008-08-01          2                 3           66.67\n",
       "2  2008-07-01   2008-09-01          1                 3           33.33\n",
       "3  2008-07-01   2008-10-01          2                 3           66.67\n",
       "4  2008-07-01   2008-11-01          1                 3           33.33\n",
       "5  2008-07-01   2008-12-01          2                 3           66.67\n",
       "6  2008-08-01   2008-08-01       2151              2151          100.00\n",
       "7  2008-08-01   2008-09-01       1571              2151           73.04\n",
       "8  2008-08-01   2008-10-01       1275              2151           59.27\n",
       "9  2008-08-01   2008-11-01       1050              2151           48.81\n",
       "10 2008-08-01   2008-12-01        894              2151           41.56\n",
       "11 2008-09-01   2008-09-01       7678              7678          100.00\n",
       "12 2008-09-01   2008-10-01       4132              7678           53.82\n",
       "13 2008-09-01   2008-11-01       2966              7678           38.63\n",
       "14 2008-09-01   2008-12-01       2500              7678           32.56\n",
       "15 2008-10-01   2008-10-01       3629              3629          100.00\n",
       "16 2008-10-01   2008-11-01       1640              3629           45.19\n",
       "17 2008-10-01   2008-12-01       1221              3629           33.65\n",
       "18 2008-11-01   2008-11-01       2852              2852          100.00\n",
       "19 2008-11-01   2008-12-01       1151              2852           40.36\n",
       "20 2008-12-01   2008-12-01       2536              2536          100.00"
      ]
     },
     "execution_count": 32,
     "metadata": {},
     "output_type": "execute_result"
    }
   ],
   "source": [
    "retention_rate"
   ]
  },
  {
   "cell_type": "markdown",
   "metadata": {
    "id": "_msBtnb2DWLC"
   },
   "source": [
    "Постройте тепловую карту Retention Rate. Какие аномалии или другие необычные явления удалось выявить? Сформулируйте гипотезы о возможных причинах."
   ]
  },
  {
   "cell_type": "code",
   "execution_count": 33,
   "metadata": {
    "id": "qAEJc8H1DWLC",
    "scrolled": true
   },
   "outputs": [
    {
     "data": {
      "image/png": "[encoded data removed]",
      "text/plain": [
       "<Figure size 936x936 with 2 Axes>"
      ]
     },
     "metadata": {
      "needs_background": "light"
     },
     "output_type": "display_data"
    }
   ],
   "source": [
    "retention = retention_rate.pivot('cohort_dt', 'session_date', 'retention_rate')\n",
    "retention.index = [str(x)[0:10] for x in retention.index]\n",
    "retention.columns = [str(x)[0:10] for x in retention.columns]\n",
    "\n",
    "plt.figure(figsize=(13, 13))\n",
    "sns.heatmap(retention,\n",
    "            annot=True,\n",
    "            fmt='')\n",
    "plt.title('Тепловая карта')\n",
    "plt.show()"
   ]
  },
  {
   "cell_type": "markdown",
   "metadata": {
    "id": "EgOfIsI4DWLC"
   },
   "source": [
    "По тепловой карте можно заметить неравномерность возвращения пользователей на сайт. Например в первой когорте можно увидеть рост и снижение значений посещаемости, причем на симметричные значения. Также можно увидеть резкое падение retention rate для когорт от сентября, октября и ноября: в 2 и более чем в 2 раза.\n",
    "\n",
    "Можно предположить, например, что пользователи пришли на сайт в июле в связи с каким-либо обновлением, которое впоследствии дорабатывалось, в связи с чем у пользователей вновь возникали вопросы.\n",
    "\n",
    "Также можно предположить, что половина пользователей в сентябре, октябре и ноябре пришли с каким-либо разовым вопросом и поэтому больше не возвращались."
   ]
  },
  {
   "cell_type": "markdown",
   "metadata": {
    "id": "1k7oPWt5DWLK"
   },
   "source": [
    "### Задание 9\n"
   ]
  },
  {
   "cell_type": "markdown",
   "metadata": {
    "id": "ALsYVSyRDWLM"
   },
   "source": [
    "На сколько процентов менялось количество постов ежемесячно с 1 сентября по 31 декабря 2008 года? Отобразите таблицу со следующими полями:\n",
    "\n",
    "- номер месяца;\n",
    "- количество постов за месяц;\n",
    "- процент, который показывает, насколько изменилось количество постов в текущем месяце по сравнению с предыдущим.\n",
    "\n",
    "Если постов стало меньше, значение процента должно быть отрицательным, если больше — положительным. Округлите значение процента до двух знаков после запятой."
   ]
  },
  {
   "cell_type": "code",
   "execution_count": 34,
   "metadata": {
    "id": "Mb5pShStDWLN"
   },
   "outputs": [],
   "source": [
    "query = '''\n",
    "WITH posts_cnt AS (\n",
    "    SELECT\n",
    "        EXTRACT(month FROM creation_date)::int AS month,\n",
    "        COUNT(id) AS posts_count\n",
    "    FROM\n",
    "        stackoverflow.posts\n",
    "    WHERE\n",
    "        EXTRACT(month FROM creation_date)::int BETWEEN 9 AND 12\n",
    "    GROUP BY\n",
    "        month\n",
    ")\n",
    "SELECT\n",
    "    month,\n",
    "    posts_count,\n",
    "    ROUND(((posts_count - LAG(posts_count) OVER (ORDER BY month))::numeric / LAG(posts_count) OVER (ORDER BY month)) * 100, 2)\n",
    "FROM\n",
    "    posts_cnt\n",
    "ORDER BY\n",
    "    month\n",
    "'''"
   ]
  },
  {
   "cell_type": "code",
   "execution_count": 35,
   "metadata": {},
   "outputs": [],
   "source": [
    "users_percent = pd.read_sql_query(query, con=engine)"
   ]
  },
  {
   "cell_type": "code",
   "execution_count": 36,
   "metadata": {
    "scrolled": true
   },
   "outputs": [
    {
     "data": {
      "text/html": [
       "<div>\n",
       "<style scoped>\n",
       "    .dataframe tbody tr th:only-of-type {\n",
       "        vertical-align: middle;\n",
       "    }\n",
       "\n",
       "    .dataframe tbody tr th {\n",
       "        vertical-align: top;\n",
       "    }\n",
       "\n",
       "    .dataframe thead th {\n",
       "        text-align: right;\n",
       "    }\n",
       "</style>\n",
       "<table border=\"1\" class=\"dataframe\">\n",
       "  <thead>\n",
       "    <tr style=\"text-align: right;\">\n",
       "      <th></th>\n",
       "      <th>month</th>\n",
       "      <th>posts_count</th>\n",
       "      <th>round</th>\n",
       "    </tr>\n",
       "  </thead>\n",
       "  <tbody>\n",
       "    <tr>\n",
       "      <th>0</th>\n",
       "      <td>9</td>\n",
       "      <td>70371</td>\n",
       "      <td>NaN</td>\n",
       "    </tr>\n",
       "    <tr>\n",
       "      <th>1</th>\n",
       "      <td>10</td>\n",
       "      <td>63102</td>\n",
       "      <td>-10.33</td>\n",
       "    </tr>\n",
       "    <tr>\n",
       "      <th>2</th>\n",
       "      <td>11</td>\n",
       "      <td>46975</td>\n",
       "      <td>-25.56</td>\n",
       "    </tr>\n",
       "    <tr>\n",
       "      <th>3</th>\n",
       "      <td>12</td>\n",
       "      <td>44592</td>\n",
       "      <td>-5.07</td>\n",
       "    </tr>\n",
       "  </tbody>\n",
       "</table>\n",
       "</div>"
      ],
      "text/plain": [
       "   month  posts_count  round\n",
       "0      9        70371    NaN\n",
       "1     10        63102 -10.33\n",
       "2     11        46975 -25.56\n",
       "3     12        44592  -5.07"
      ]
     },
     "execution_count": 36,
     "metadata": {},
     "output_type": "execute_result"
    }
   ],
   "source": [
    "users_percent"
   ]
  },
  {
   "cell_type": "markdown",
   "metadata": {
    "id": "9NQE2y_MDWLP"
   },
   "source": [
    "Постройте круговую диаграмму с количеством постов по месяцам."
   ]
  },
  {
   "cell_type": "code",
   "execution_count": 37,
   "metadata": {
    "id": "377ABjiVDWLP",
    "scrolled": false
   },
   "outputs": [
    {
     "data": {
      "image/png": "[encoded data removed]",
      "text/plain": [
       "<Figure size 360x360 with 1 Axes>"
      ]
     },
     "metadata": {},
     "output_type": "display_data"
    }
   ],
   "source": [
    "plot = users_percent.plot.pie(\n",
    "    y='posts_count',\n",
    "    title = 'Количество постов по месяцам',\n",
    "    autopct='%1.1f%%',\n",
    "    figsize=(5, 5)\n",
    ")"
   ]
  },
  {
   "cell_type": "markdown",
   "metadata": {
    "id": "uw7qMtafDWLP"
   },
   "source": [
    "### Задание 10"
   ]
  },
  {
   "cell_type": "markdown",
   "metadata": {
    "id": "oRBpWKx3DWLQ"
   },
   "source": [
    "Выгрузите данные активности пользователя, который опубликовал больше всего постов за всё время. Выведите данные за октябрь 2008 года в таком виде:\n",
    "\n",
    "- номер недели;\n",
    "- дата и время последнего поста, опубликованного на этой неделе."
   ]
  },
  {
   "cell_type": "code",
   "execution_count": 38,
   "metadata": {
    "id": "r5F5fSkwDWLQ"
   },
   "outputs": [],
   "source": [
    "query = '''\n",
    "WITH all_posts AS (\n",
    "    SELECT\n",
    "        EXTRACT(week FROM creation_date) AS week_creation,\n",
    "        creation_date\n",
    "    FROM\n",
    "        stackoverflow.posts\n",
    "    WHERE\n",
    "        user_id = (\n",
    "            SELECT\n",
    "                user_id\n",
    "            FROM\n",
    "                stackoverflow.posts\n",
    "            GROUP BY\n",
    "                user_id\n",
    "            ORDER BY\n",
    "                COUNT(id) DESC\n",
    "            LIMIT 1)\n",
    "        AND DATE_TRUNC('month', creation_date) = '2008-10-01'\n",
    ")\n",
    "SELECT DISTINCT\n",
    "    week_creation,\n",
    "    LAST_VALUE(creation_date) OVER (PARTITION BY week_creation ORDER BY creation_date ROWS BETWEEN CURRENT ROW AND UNBOUNDED FOLLOWING)\n",
    "FROM\n",
    "    all_posts\n",
    "ORDER BY\n",
    "    week_creation\n",
    "'''"
   ]
  },
  {
   "cell_type": "code",
   "execution_count": 39,
   "metadata": {},
   "outputs": [],
   "source": [
    "most_active_user = pd.read_sql_query(query, con=engine)"
   ]
  },
  {
   "cell_type": "code",
   "execution_count": 40,
   "metadata": {
    "scrolled": true
   },
   "outputs": [
    {
     "data": {
      "text/html": [
       "<div>\n",
       "<style scoped>\n",
       "    .dataframe tbody tr th:only-of-type {\n",
       "        vertical-align: middle;\n",
       "    }\n",
       "\n",
       "    .dataframe tbody tr th {\n",
       "        vertical-align: top;\n",
       "    }\n",
       "\n",
       "    .dataframe thead th {\n",
       "        text-align: right;\n",
       "    }\n",
       "</style>\n",
       "<table border=\"1\" class=\"dataframe\">\n",
       "  <thead>\n",
       "    <tr style=\"text-align: right;\">\n",
       "      <th></th>\n",
       "      <th>week_creation</th>\n",
       "      <th>last_value</th>\n",
       "    </tr>\n",
       "  </thead>\n",
       "  <tbody>\n",
       "    <tr>\n",
       "      <th>0</th>\n",
       "      <td>40.0</td>\n",
       "      <td>2008-10-05 09:00:58</td>\n",
       "    </tr>\n",
       "    <tr>\n",
       "      <th>1</th>\n",
       "      <td>41.0</td>\n",
       "      <td>2008-10-12 21:22:23</td>\n",
       "    </tr>\n",
       "    <tr>\n",
       "      <th>2</th>\n",
       "      <td>42.0</td>\n",
       "      <td>2008-10-19 06:49:30</td>\n",
       "    </tr>\n",
       "    <tr>\n",
       "      <th>3</th>\n",
       "      <td>43.0</td>\n",
       "      <td>2008-10-26 21:44:36</td>\n",
       "    </tr>\n",
       "    <tr>\n",
       "      <th>4</th>\n",
       "      <td>44.0</td>\n",
       "      <td>2008-10-31 22:16:01</td>\n",
       "    </tr>\n",
       "  </tbody>\n",
       "</table>\n",
       "</div>"
      ],
      "text/plain": [
       "   week_creation          last_value\n",
       "0           40.0 2008-10-05 09:00:58\n",
       "1           41.0 2008-10-12 21:22:23\n",
       "2           42.0 2008-10-19 06:49:30\n",
       "3           43.0 2008-10-26 21:44:36\n",
       "4           44.0 2008-10-31 22:16:01"
      ]
     },
     "execution_count": 40,
     "metadata": {},
     "output_type": "execute_result"
    }
   ],
   "source": [
    "most_active_user"
   ]
  }
 ],
 "metadata": {
  "ExecuteTimeLog": [
   {
    "duration": 1117,
    "start_time": "2022-04-05T16:22:26.285Z"
   },
   {
    "duration": 5,
    "start_time": "2022-04-05T16:22:49.961Z"
   },
   {
    "duration": 6908,
    "start_time": "2022-04-05T16:22:53.732Z"
   },
   {
    "duration": 183,
    "start_time": "2022-04-05T16:23:04.231Z"
   },
   {
    "duration": 21,
    "start_time": "2022-04-05T16:23:08.586Z"
   },
   {
    "duration": 4,
    "start_time": "2022-04-05T16:28:27.463Z"
   },
   {
    "duration": 91,
    "start_time": "2022-04-05T16:29:11.137Z"
   },
   {
    "duration": 9,
    "start_time": "2022-04-05T16:29:20.495Z"
   },
   {
    "duration": 211,
    "start_time": "2022-04-05T16:39:30.144Z"
   },
   {
    "duration": 661,
    "start_time": "2022-04-05T16:45:33.582Z"
   },
   {
    "duration": 172,
    "start_time": "2022-04-05T16:46:18.195Z"
   },
   {
    "duration": 366,
    "start_time": "2022-04-05T16:49:00.368Z"
   },
   {
    "duration": 4,
    "start_time": "2022-04-05T17:07:16.047Z"
   },
   {
    "duration": 195,
    "start_time": "2022-04-05T17:07:48.236Z"
   },
   {
    "duration": 4,
    "start_time": "2022-04-05T17:08:08.307Z"
   },
   {
    "duration": 69,
    "start_time": "2022-04-05T17:08:08.931Z"
   },
   {
    "duration": 8,
    "start_time": "2022-04-05T17:08:20.034Z"
   },
   {
    "duration": 9,
    "start_time": "2022-04-05T17:08:28.933Z"
   },
   {
    "duration": 4,
    "start_time": "2022-04-05T17:11:54.604Z"
   },
   {
    "duration": 182,
    "start_time": "2022-04-05T17:11:55.404Z"
   },
   {
    "duration": 4,
    "start_time": "2022-04-05T17:12:08.680Z"
   },
   {
    "duration": 562,
    "start_time": "2022-04-05T17:12:09.291Z"
   },
   {
    "duration": 12,
    "start_time": "2022-04-05T17:12:10.651Z"
   },
   {
    "duration": 3,
    "start_time": "2022-04-05T17:16:34.438Z"
   },
   {
    "duration": 176,
    "start_time": "2022-04-05T17:16:35.050Z"
   },
   {
    "duration": 4,
    "start_time": "2022-04-05T17:16:52.639Z"
   },
   {
    "duration": 179,
    "start_time": "2022-04-05T17:16:53.333Z"
   },
   {
    "duration": 3,
    "start_time": "2022-04-05T17:20:05.252Z"
   },
   {
    "duration": 191,
    "start_time": "2022-04-05T17:20:05.863Z"
   },
   {
    "duration": 4,
    "start_time": "2022-04-05T17:20:25.195Z"
   },
   {
    "duration": 190,
    "start_time": "2022-04-05T17:20:25.748Z"
   },
   {
    "duration": 4,
    "start_time": "2022-04-05T17:23:53.586Z"
   },
   {
    "duration": 199,
    "start_time": "2022-04-05T17:23:54.012Z"
   },
   {
    "duration": 4,
    "start_time": "2022-04-05T17:24:06.412Z"
   },
   {
    "duration": 212,
    "start_time": "2022-04-05T17:24:06.935Z"
   },
   {
    "duration": 12,
    "start_time": "2022-04-05T17:24:08.901Z"
   },
   {
    "duration": 4,
    "start_time": "2022-04-05T17:24:32.242Z"
   },
   {
    "duration": 292,
    "start_time": "2022-04-05T17:24:32.777Z"
   },
   {
    "duration": 11,
    "start_time": "2022-04-05T17:24:33.177Z"
   },
   {
    "duration": 4,
    "start_time": "2022-04-05T17:25:38.606Z"
   },
   {
    "duration": 230,
    "start_time": "2022-04-05T17:25:39.504Z"
   },
   {
    "duration": 14,
    "start_time": "2022-04-05T17:25:40.275Z"
   },
   {
    "duration": 1347,
    "start_time": "2022-04-06T04:36:50.624Z"
   },
   {
    "duration": 3,
    "start_time": "2022-04-06T04:36:51.973Z"
   },
   {
    "duration": 10275,
    "start_time": "2022-04-06T04:36:51.977Z"
   },
   {
    "duration": 27,
    "start_time": "2022-04-06T04:37:02.253Z"
   },
   {
    "duration": 13,
    "start_time": "2022-04-06T04:37:02.282Z"
   },
   {
    "duration": 2,
    "start_time": "2022-04-06T04:37:02.297Z"
   },
   {
    "duration": 88,
    "start_time": "2022-04-06T04:37:02.301Z"
   },
   {
    "duration": 7,
    "start_time": "2022-04-06T04:37:02.390Z"
   },
   {
    "duration": 234,
    "start_time": "2022-04-06T04:37:02.399Z"
   },
   {
    "duration": 3,
    "start_time": "2022-04-06T04:38:54.925Z"
   },
   {
    "duration": 301,
    "start_time": "2022-04-06T04:38:56.322Z"
   },
   {
    "duration": 3,
    "start_time": "2022-04-06T04:40:10.133Z"
   },
   {
    "duration": 215,
    "start_time": "2022-04-06T04:40:11.008Z"
   },
   {
    "duration": 9,
    "start_time": "2022-04-06T04:40:12.113Z"
   },
   {
    "duration": 3,
    "start_time": "2022-04-06T04:40:36.799Z"
   },
   {
    "duration": 143,
    "start_time": "2022-04-06T04:40:37.333Z"
   },
   {
    "duration": 8,
    "start_time": "2022-04-06T04:40:37.882Z"
   },
   {
    "duration": 2,
    "start_time": "2022-04-06T04:40:50.323Z"
   },
   {
    "duration": 198,
    "start_time": "2022-04-06T04:40:51.193Z"
   },
   {
    "duration": 8,
    "start_time": "2022-04-06T04:40:51.769Z"
   },
   {
    "duration": 2,
    "start_time": "2022-04-06T04:43:46.190Z"
   },
   {
    "duration": 195,
    "start_time": "2022-04-06T04:43:46.841Z"
   },
   {
    "duration": 3,
    "start_time": "2022-04-06T04:44:08.151Z"
   },
   {
    "duration": 1457,
    "start_time": "2022-04-06T04:44:08.806Z"
   },
   {
    "duration": 14,
    "start_time": "2022-04-06T04:44:11.998Z"
   },
   {
    "duration": 3,
    "start_time": "2022-04-06T04:44:52.950Z"
   },
   {
    "duration": 131,
    "start_time": "2022-04-06T04:44:54.006Z"
   },
   {
    "duration": 9,
    "start_time": "2022-04-06T04:44:54.727Z"
   },
   {
    "duration": 12,
    "start_time": "2022-04-06T04:46:44.912Z"
   },
   {
    "duration": 9,
    "start_time": "2022-04-06T04:47:03.230Z"
   },
   {
    "duration": 7,
    "start_time": "2022-04-06T04:47:26.067Z"
   },
   {
    "duration": 14,
    "start_time": "2022-04-06T04:48:43.800Z"
   },
   {
    "duration": 8,
    "start_time": "2022-04-06T04:48:59.688Z"
   },
   {
    "duration": 2,
    "start_time": "2022-04-06T04:52:23.453Z"
   },
   {
    "duration": 88,
    "start_time": "2022-04-06T04:52:25.354Z"
   },
   {
    "duration": 8,
    "start_time": "2022-04-06T04:52:26.134Z"
   },
   {
    "duration": 7,
    "start_time": "2022-04-06T04:52:31.140Z"
   },
   {
    "duration": 183,
    "start_time": "2022-04-06T04:55:26.008Z"
   },
   {
    "duration": 14,
    "start_time": "2022-04-06T04:55:31.443Z"
   },
   {
    "duration": 183,
    "start_time": "2022-04-06T04:56:04.136Z"
   },
   {
    "duration": 11,
    "start_time": "2022-04-06T04:56:08.356Z"
   },
   {
    "duration": 7,
    "start_time": "2022-04-06T04:56:59.322Z"
   },
   {
    "duration": 10,
    "start_time": "2022-04-06T04:57:16.812Z"
   },
   {
    "duration": 6,
    "start_time": "2022-04-06T16:15:01.397Z"
   },
   {
    "duration": 1516,
    "start_time": "2022-04-06T16:15:12.972Z"
   },
   {
    "duration": 4,
    "start_time": "2022-04-06T16:15:14.490Z"
   },
   {
    "duration": 8914,
    "start_time": "2022-04-06T16:15:14.501Z"
   },
   {
    "duration": 27,
    "start_time": "2022-04-06T16:15:23.417Z"
   },
   {
    "duration": 13,
    "start_time": "2022-04-06T16:15:23.446Z"
   },
   {
    "duration": 3,
    "start_time": "2022-04-06T16:15:23.461Z"
   },
   {
    "duration": 76,
    "start_time": "2022-04-06T16:15:23.465Z"
   },
   {
    "duration": 6,
    "start_time": "2022-04-06T16:15:23.543Z"
   },
   {
    "duration": 221,
    "start_time": "2022-04-06T16:15:23.551Z"
   },
   {
    "duration": 3,
    "start_time": "2022-04-06T16:15:23.774Z"
   },
   {
    "duration": 97,
    "start_time": "2022-04-06T16:15:23.779Z"
   },
   {
    "duration": 9,
    "start_time": "2022-04-06T16:15:23.878Z"
   },
   {
    "duration": 10,
    "start_time": "2022-04-06T16:15:23.889Z"
   },
   {
    "duration": 15,
    "start_time": "2022-04-06T16:15:23.900Z"
   },
   {
    "duration": 2,
    "start_time": "2022-04-06T16:15:27.492Z"
   },
   {
    "duration": 323,
    "start_time": "2022-04-06T16:15:48.406Z"
   },
   {
    "duration": 2,
    "start_time": "2022-04-06T16:16:36.981Z"
   },
   {
    "duration": 184,
    "start_time": "2022-04-06T16:16:37.725Z"
   },
   {
    "duration": 2,
    "start_time": "2022-04-06T16:16:52.086Z"
   },
   {
    "duration": 200,
    "start_time": "2022-04-06T16:16:52.701Z"
   },
   {
    "duration": 3,
    "start_time": "2022-04-06T16:17:06.748Z"
   },
   {
    "duration": 220,
    "start_time": "2022-04-06T16:17:07.341Z"
   },
   {
    "duration": 3,
    "start_time": "2022-04-06T16:17:26.617Z"
   },
   {
    "duration": 202,
    "start_time": "2022-04-06T16:17:27.197Z"
   },
   {
    "duration": 3,
    "start_time": "2022-04-06T16:18:52.504Z"
   },
   {
    "duration": 118,
    "start_time": "2022-04-06T16:18:53.110Z"
   },
   {
    "duration": 7,
    "start_time": "2022-04-06T16:19:03.989Z"
   },
   {
    "duration": 3,
    "start_time": "2022-04-06T16:27:09.917Z"
   },
   {
    "duration": 155,
    "start_time": "2022-04-06T16:27:10.999Z"
   },
   {
    "duration": 12,
    "start_time": "2022-04-06T16:27:11.948Z"
   },
   {
    "duration": 3,
    "start_time": "2022-04-06T16:27:39.131Z"
   },
   {
    "duration": 41,
    "start_time": "2022-04-06T16:27:39.990Z"
   },
   {
    "duration": 10,
    "start_time": "2022-04-06T16:27:40.783Z"
   },
   {
    "duration": 3,
    "start_time": "2022-04-06T16:30:03.643Z"
   },
   {
    "duration": 115,
    "start_time": "2022-04-06T16:30:04.260Z"
   },
   {
    "duration": 7,
    "start_time": "2022-04-06T16:30:04.886Z"
   },
   {
    "duration": 3,
    "start_time": "2022-04-06T16:35:26.939Z"
   },
   {
    "duration": 1095,
    "start_time": "2022-04-06T16:35:51.467Z"
   },
   {
    "duration": 10,
    "start_time": "2022-04-06T16:36:01.329Z"
   },
   {
    "duration": 2,
    "start_time": "2022-04-06T16:36:19.312Z"
   },
   {
    "duration": 1091,
    "start_time": "2022-04-06T16:36:21.429Z"
   },
   {
    "duration": 13,
    "start_time": "2022-04-06T16:36:23.856Z"
   },
   {
    "duration": 3,
    "start_time": "2022-04-06T16:39:27.508Z"
   },
   {
    "duration": 227,
    "start_time": "2022-04-06T16:39:47.081Z"
   },
   {
    "duration": 3,
    "start_time": "2022-04-06T16:40:07.108Z"
   },
   {
    "duration": 32,
    "start_time": "2022-04-06T16:40:07.793Z"
   },
   {
    "duration": 7,
    "start_time": "2022-04-06T16:40:19.122Z"
   },
   {
    "duration": 3,
    "start_time": "2022-04-06T16:40:26.834Z"
   },
   {
    "duration": 32,
    "start_time": "2022-04-06T16:40:27.579Z"
   },
   {
    "duration": 12,
    "start_time": "2022-04-06T16:47:37.115Z"
   },
   {
    "duration": 69,
    "start_time": "2022-04-06T16:47:38.392Z"
   },
   {
    "duration": 1854,
    "start_time": "2022-04-06T16:47:44.141Z"
   },
   {
    "duration": 5,
    "start_time": "2022-04-06T16:47:45.997Z"
   },
   {
    "duration": 7061,
    "start_time": "2022-04-06T16:47:46.004Z"
   },
   {
    "duration": 163,
    "start_time": "2022-04-06T16:47:53.068Z"
   },
   {
    "duration": 20,
    "start_time": "2022-04-06T16:47:53.235Z"
   },
   {
    "duration": 9,
    "start_time": "2022-04-06T16:47:53.257Z"
   },
   {
    "duration": 98,
    "start_time": "2022-04-06T16:47:53.268Z"
   },
   {
    "duration": 9,
    "start_time": "2022-04-06T16:47:53.368Z"
   },
   {
    "duration": 355,
    "start_time": "2022-04-06T16:47:53.379Z"
   },
   {
    "duration": 3,
    "start_time": "2022-04-06T16:47:53.737Z"
   },
   {
    "duration": 123,
    "start_time": "2022-04-06T16:47:53.742Z"
   },
   {
    "duration": 14,
    "start_time": "2022-04-06T16:47:53.868Z"
   },
   {
    "duration": 13,
    "start_time": "2022-04-06T16:47:53.885Z"
   },
   {
    "duration": 16,
    "start_time": "2022-04-06T16:47:53.903Z"
   },
   {
    "duration": 45,
    "start_time": "2022-04-06T16:47:53.922Z"
   },
   {
    "duration": 142,
    "start_time": "2022-04-06T16:47:53.970Z"
   },
   {
    "duration": 10,
    "start_time": "2022-04-06T16:47:54.115Z"
   },
   {
    "duration": 4,
    "start_time": "2022-04-06T16:47:54.128Z"
   },
   {
    "duration": 1494,
    "start_time": "2022-04-06T16:47:54.135Z"
   },
   {
    "duration": 18,
    "start_time": "2022-04-06T16:47:55.632Z"
   },
   {
    "duration": 4,
    "start_time": "2022-04-06T16:48:14.302Z"
   },
   {
    "duration": 286,
    "start_time": "2022-04-06T16:48:15.813Z"
   },
   {
    "duration": 4,
    "start_time": "2022-04-06T16:48:26.285Z"
   },
   {
    "duration": 88,
    "start_time": "2022-04-06T16:48:27.035Z"
   },
   {
    "duration": 17,
    "start_time": "2022-04-06T16:48:29.561Z"
   },
   {
    "duration": 4,
    "start_time": "2022-04-06T16:49:28.411Z"
   },
   {
    "duration": 80,
    "start_time": "2022-04-06T16:49:29.130Z"
   },
   {
    "duration": 10,
    "start_time": "2022-04-06T16:49:29.741Z"
   },
   {
    "duration": 3,
    "start_time": "2022-04-06T16:54:38.171Z"
   },
   {
    "duration": 192,
    "start_time": "2022-04-06T16:55:29.995Z"
   },
   {
    "duration": 13,
    "start_time": "2022-04-06T16:55:46.254Z"
   },
   {
    "duration": 4,
    "start_time": "2022-04-06T16:55:59.797Z"
   },
   {
    "duration": 111,
    "start_time": "2022-04-06T16:56:00.384Z"
   },
   {
    "duration": 14,
    "start_time": "2022-04-06T16:56:00.853Z"
   },
   {
    "duration": 4,
    "start_time": "2022-04-06T16:56:37.069Z"
   },
   {
    "duration": 105,
    "start_time": "2022-04-06T16:56:37.829Z"
   },
   {
    "duration": 18,
    "start_time": "2022-04-06T16:56:38.343Z"
   },
   {
    "duration": 10,
    "start_time": "2022-04-06T16:57:02.606Z"
   },
   {
    "duration": 4,
    "start_time": "2022-04-06T16:59:53.970Z"
   },
   {
    "duration": 172,
    "start_time": "2022-04-06T16:59:54.624Z"
   },
   {
    "duration": 3,
    "start_time": "2022-04-06T17:00:06.595Z"
   },
   {
    "duration": 78,
    "start_time": "2022-04-06T17:00:07.163Z"
   },
   {
    "duration": 11,
    "start_time": "2022-04-06T17:00:07.895Z"
   },
   {
    "duration": 4,
    "start_time": "2022-04-06T17:02:29.321Z"
   },
   {
    "duration": 197,
    "start_time": "2022-04-06T17:02:30.185Z"
   },
   {
    "duration": 4,
    "start_time": "2022-04-06T17:02:56.033Z"
   },
   {
    "duration": 204,
    "start_time": "2022-04-06T17:02:56.685Z"
   },
   {
    "duration": 3,
    "start_time": "2022-04-06T17:03:09.809Z"
   },
   {
    "duration": 79,
    "start_time": "2022-04-06T17:03:10.976Z"
   },
   {
    "duration": 4,
    "start_time": "2022-04-06T17:03:43.950Z"
   },
   {
    "duration": 59,
    "start_time": "2022-04-06T17:03:44.860Z"
   },
   {
    "duration": 9,
    "start_time": "2022-04-06T17:03:45.775Z"
   },
   {
    "duration": 3,
    "start_time": "2022-04-06T17:04:14.071Z"
   },
   {
    "duration": 59,
    "start_time": "2022-04-06T17:04:14.696Z"
   },
   {
    "duration": 8,
    "start_time": "2022-04-06T17:04:15.206Z"
   },
   {
    "duration": 3,
    "start_time": "2022-04-06T17:33:36.728Z"
   },
   {
    "duration": 1687,
    "start_time": "2022-04-06T17:34:05.931Z"
   },
   {
    "duration": 15,
    "start_time": "2022-04-06T17:34:14.566Z"
   },
   {
    "duration": 4,
    "start_time": "2022-04-06T17:36:22.799Z"
   },
   {
    "duration": 3,
    "start_time": "2022-04-06T17:36:34.871Z"
   },
   {
    "duration": 184,
    "start_time": "2022-04-06T17:36:35.575Z"
   },
   {
    "duration": 4,
    "start_time": "2022-04-06T17:36:45.322Z"
   },
   {
    "duration": 169,
    "start_time": "2022-04-06T17:36:45.891Z"
   },
   {
    "duration": 4,
    "start_time": "2022-04-06T17:37:05.930Z"
   },
   {
    "duration": 2443,
    "start_time": "2022-04-06T17:37:06.595Z"
   },
   {
    "duration": 18,
    "start_time": "2022-04-06T17:37:09.848Z"
   },
   {
    "duration": 4,
    "start_time": "2022-04-06T17:37:44.881Z"
   },
   {
    "duration": 187,
    "start_time": "2022-04-06T17:37:46.335Z"
   },
   {
    "duration": 4,
    "start_time": "2022-04-06T17:37:55.185Z"
   },
   {
    "duration": 3300,
    "start_time": "2022-04-06T17:37:56.347Z"
   },
   {
    "duration": 17,
    "start_time": "2022-04-06T17:38:00.190Z"
   },
   {
    "duration": 3,
    "start_time": "2022-04-06T17:41:10.826Z"
   },
   {
    "duration": 3089,
    "start_time": "2022-04-06T17:41:11.460Z"
   },
   {
    "duration": 15,
    "start_time": "2022-04-06T17:41:16.223Z"
   },
   {
    "duration": 11,
    "start_time": "2022-04-06T17:42:28.140Z"
   },
   {
    "duration": 15,
    "start_time": "2022-04-06T17:42:40.265Z"
   },
   {
    "duration": 4,
    "start_time": "2022-04-06T17:49:43.028Z"
   },
   {
    "duration": 1105,
    "start_time": "2022-04-06T17:50:07.052Z"
   },
   {
    "duration": 13,
    "start_time": "2022-04-06T17:50:24.476Z"
   },
   {
    "duration": 4,
    "start_time": "2022-04-06T17:51:17.089Z"
   },
   {
    "duration": 198,
    "start_time": "2022-04-06T17:51:18.596Z"
   },
   {
    "duration": 14,
    "start_time": "2022-04-06T17:51:19.429Z"
   },
   {
    "duration": 4,
    "start_time": "2022-04-06T17:59:31.115Z"
   },
   {
    "duration": 183,
    "start_time": "2022-04-06T17:59:31.914Z"
   },
   {
    "duration": 4,
    "start_time": "2022-04-06T18:00:23.176Z"
   },
   {
    "duration": 171,
    "start_time": "2022-04-06T18:00:23.819Z"
   },
   {
    "duration": 5,
    "start_time": "2022-04-06T18:01:47.414Z"
   },
   {
    "duration": 170,
    "start_time": "2022-04-06T18:01:47.961Z"
   },
   {
    "duration": 5,
    "start_time": "2022-04-06T18:02:10.831Z"
   },
   {
    "duration": 203,
    "start_time": "2022-04-06T18:02:11.484Z"
   },
   {
    "duration": 4,
    "start_time": "2022-04-06T18:02:41.983Z"
   },
   {
    "duration": 206,
    "start_time": "2022-04-06T18:02:42.701Z"
   },
   {
    "duration": 4,
    "start_time": "2022-04-06T18:03:23.295Z"
   },
   {
    "duration": 444,
    "start_time": "2022-04-06T18:03:24.066Z"
   },
   {
    "duration": 16,
    "start_time": "2022-04-06T18:03:25.702Z"
   },
   {
    "duration": 4,
    "start_time": "2022-04-06T18:07:31.273Z"
   },
   {
    "duration": 186,
    "start_time": "2022-04-06T18:07:31.992Z"
   },
   {
    "duration": 4,
    "start_time": "2022-04-06T18:07:58.072Z"
   },
   {
    "duration": 168,
    "start_time": "2022-04-06T18:07:58.635Z"
   },
   {
    "duration": 4,
    "start_time": "2022-04-06T18:08:05.252Z"
   },
   {
    "duration": 185,
    "start_time": "2022-04-06T18:08:05.902Z"
   },
   {
    "duration": 5,
    "start_time": "2022-04-06T18:08:14.800Z"
   },
   {
    "duration": 193,
    "start_time": "2022-04-06T18:08:15.539Z"
   },
   {
    "duration": 4,
    "start_time": "2022-04-06T18:08:21.148Z"
   },
   {
    "duration": 169,
    "start_time": "2022-04-06T18:08:22.014Z"
   },
   {
    "duration": 3,
    "start_time": "2022-04-06T18:09:59.497Z"
   },
   {
    "duration": 176,
    "start_time": "2022-04-06T18:10:00.134Z"
   },
   {
    "duration": 4,
    "start_time": "2022-04-06T18:10:06.443Z"
   },
   {
    "duration": 1517,
    "start_time": "2022-04-06T18:10:07.117Z"
   },
   {
    "duration": 17,
    "start_time": "2022-04-06T18:10:09.549Z"
   },
   {
    "duration": 5,
    "start_time": "2022-04-06T18:10:34.081Z"
   },
   {
    "duration": 194,
    "start_time": "2022-04-06T18:10:34.963Z"
   },
   {
    "duration": 4,
    "start_time": "2022-04-06T18:10:46.992Z"
   },
   {
    "duration": 172,
    "start_time": "2022-04-06T18:10:47.614Z"
   },
   {
    "duration": 8,
    "start_time": "2022-04-06T18:11:08.360Z"
   },
   {
    "duration": 452,
    "start_time": "2022-04-06T18:11:08.907Z"
   },
   {
    "duration": 20,
    "start_time": "2022-04-06T18:11:09.990Z"
   },
   {
    "duration": 4,
    "start_time": "2022-04-06T18:12:45.383Z"
   },
   {
    "duration": 316,
    "start_time": "2022-04-06T18:12:46.314Z"
   },
   {
    "duration": 10,
    "start_time": "2022-04-06T18:12:47.467Z"
   },
   {
    "duration": 3,
    "start_time": "2022-04-06T18:16:24.883Z"
   },
   {
    "duration": 783,
    "start_time": "2022-04-06T18:16:25.617Z"
   },
   {
    "duration": 13,
    "start_time": "2022-04-06T18:16:27.320Z"
   },
   {
    "duration": 4,
    "start_time": "2022-04-06T18:19:49.017Z"
   },
   {
    "duration": 180,
    "start_time": "2022-04-06T18:19:57.882Z"
   },
   {
    "duration": 5,
    "start_time": "2022-04-06T18:20:11.497Z"
   },
   {
    "duration": 581,
    "start_time": "2022-04-06T18:20:12.084Z"
   },
   {
    "duration": 15,
    "start_time": "2022-04-06T18:20:13.431Z"
   },
   {
    "duration": 5,
    "start_time": "2022-04-06T18:20:38.784Z"
   },
   {
    "duration": 185,
    "start_time": "2022-04-06T18:20:39.517Z"
   },
   {
    "duration": 4,
    "start_time": "2022-04-06T18:21:01.036Z"
   },
   {
    "duration": 597,
    "start_time": "2022-04-06T18:21:01.655Z"
   },
   {
    "duration": 15,
    "start_time": "2022-04-06T18:21:02.808Z"
   },
   {
    "duration": 4,
    "start_time": "2022-04-06T18:21:29.895Z"
   },
   {
    "duration": 2243,
    "start_time": "2022-04-06T18:21:30.620Z"
   },
   {
    "duration": 20,
    "start_time": "2022-04-06T18:21:33.759Z"
   },
   {
    "duration": 5,
    "start_time": "2022-04-06T18:21:42.325Z"
   },
   {
    "duration": 6950,
    "start_time": "2022-04-06T18:21:43.657Z"
   },
   {
    "duration": 9,
    "start_time": "2022-04-06T18:21:51.450Z"
   },
   {
    "duration": 7,
    "start_time": "2022-04-06T18:22:29.364Z"
   },
   {
    "duration": 620,
    "start_time": "2022-04-06T18:22:32.083Z"
   },
   {
    "duration": 16,
    "start_time": "2022-04-06T18:22:34.681Z"
   },
   {
    "duration": 4,
    "start_time": "2022-04-06T18:25:15.479Z"
   },
   {
    "duration": 197,
    "start_time": "2022-04-06T18:25:16.097Z"
   },
   {
    "duration": 5,
    "start_time": "2022-04-06T18:26:01.892Z"
   },
   {
    "duration": 926,
    "start_time": "2022-04-06T18:26:02.740Z"
   },
   {
    "duration": 21,
    "start_time": "2022-04-06T18:26:04.566Z"
   },
   {
    "duration": 2076,
    "start_time": "2022-04-07T03:59:06.140Z"
   },
   {
    "duration": 6,
    "start_time": "2022-04-07T03:59:08.219Z"
   },
   {
    "duration": 7009,
    "start_time": "2022-04-07T03:59:08.227Z"
   },
   {
    "duration": 181,
    "start_time": "2022-04-07T03:59:15.239Z"
   },
   {
    "duration": 20,
    "start_time": "2022-04-07T03:59:15.423Z"
   },
   {
    "duration": 9,
    "start_time": "2022-04-07T03:59:15.445Z"
   },
   {
    "duration": 99,
    "start_time": "2022-04-07T03:59:15.456Z"
   },
   {
    "duration": 9,
    "start_time": "2022-04-07T03:59:15.557Z"
   },
   {
    "duration": 374,
    "start_time": "2022-04-07T03:59:15.568Z"
   },
   {
    "duration": 4,
    "start_time": "2022-04-07T03:59:15.944Z"
   },
   {
    "duration": 122,
    "start_time": "2022-04-07T03:59:15.950Z"
   },
   {
    "duration": 13,
    "start_time": "2022-04-07T03:59:16.074Z"
   },
   {
    "duration": 17,
    "start_time": "2022-04-07T03:59:16.089Z"
   },
   {
    "duration": 27,
    "start_time": "2022-04-07T03:59:16.109Z"
   },
   {
    "duration": 6,
    "start_time": "2022-04-07T03:59:16.138Z"
   },
   {
    "duration": 146,
    "start_time": "2022-04-07T03:59:16.146Z"
   },
   {
    "duration": 9,
    "start_time": "2022-04-07T03:59:16.294Z"
   },
   {
    "duration": 8,
    "start_time": "2022-04-07T03:59:16.305Z"
   },
   {
    "duration": 1553,
    "start_time": "2022-04-07T03:59:16.315Z"
   },
   {
    "duration": 21,
    "start_time": "2022-04-07T03:59:17.870Z"
   },
   {
    "duration": 8,
    "start_time": "2022-04-07T03:59:17.893Z"
   },
   {
    "duration": 323,
    "start_time": "2022-04-07T03:59:17.903Z"
   },
   {
    "duration": 9,
    "start_time": "2022-04-07T03:59:18.228Z"
   },
   {
    "duration": 14,
    "start_time": "2022-04-07T03:59:18.239Z"
   },
   {
    "duration": 77,
    "start_time": "2022-04-07T03:59:18.255Z"
   },
   {
    "duration": 10,
    "start_time": "2022-04-07T03:59:18.334Z"
   },
   {
    "duration": 9,
    "start_time": "2022-04-07T03:59:18.347Z"
   },
   {
    "duration": 3303,
    "start_time": "2022-04-07T03:59:18.358Z"
   },
   {
    "duration": 22,
    "start_time": "2022-04-07T03:59:21.663Z"
   },
   {
    "duration": 4,
    "start_time": "2022-04-07T04:03:28.176Z"
   },
   {
    "duration": 329,
    "start_time": "2022-04-07T04:03:29.194Z"
   },
   {
    "duration": 4,
    "start_time": "2022-04-07T04:03:48.544Z"
   },
   {
    "duration": 1592,
    "start_time": "2022-04-07T04:03:49.401Z"
   },
   {
    "duration": 15,
    "start_time": "2022-04-07T04:03:51.781Z"
   },
   {
    "duration": 4,
    "start_time": "2022-04-07T04:05:00.682Z"
   },
   {
    "duration": 1642,
    "start_time": "2022-04-07T04:05:01.503Z"
   },
   {
    "duration": 15,
    "start_time": "2022-04-07T04:05:03.823Z"
   },
   {
    "duration": 3,
    "start_time": "2022-04-07T04:06:45.508Z"
   },
   {
    "duration": 1195,
    "start_time": "2022-04-07T04:06:46.194Z"
   },
   {
    "duration": 13,
    "start_time": "2022-04-07T04:06:48.032Z"
   },
   {
    "duration": 4,
    "start_time": "2022-04-07T04:07:45.102Z"
   },
   {
    "duration": 185,
    "start_time": "2022-04-07T04:07:46.107Z"
   },
   {
    "duration": 4,
    "start_time": "2022-04-07T04:11:07.249Z"
   },
   {
    "duration": 190,
    "start_time": "2022-04-07T04:11:08.168Z"
   },
   {
    "duration": 4,
    "start_time": "2022-04-07T04:11:22.464Z"
   },
   {
    "duration": 4,
    "start_time": "2022-04-07T04:11:28.439Z"
   },
   {
    "duration": 188,
    "start_time": "2022-04-07T04:11:29.009Z"
   },
   {
    "duration": 3,
    "start_time": "2022-04-07T04:11:38.865Z"
   },
   {
    "duration": 197,
    "start_time": "2022-04-07T04:11:39.497Z"
   },
   {
    "duration": 4,
    "start_time": "2022-04-07T04:11:52.274Z"
   },
   {
    "duration": 185,
    "start_time": "2022-04-07T04:11:52.816Z"
   },
   {
    "duration": 3,
    "start_time": "2022-04-07T04:12:06.240Z"
   },
   {
    "duration": 1370,
    "start_time": "2022-04-07T04:12:07.044Z"
   },
   {
    "duration": 16,
    "start_time": "2022-04-07T04:12:09.027Z"
   },
   {
    "duration": 4,
    "start_time": "2022-04-07T04:12:23.994Z"
   },
   {
    "duration": 1623,
    "start_time": "2022-04-07T04:12:24.663Z"
   },
   {
    "duration": 16,
    "start_time": "2022-04-07T04:12:26.888Z"
   },
   {
    "duration": 4,
    "start_time": "2022-04-07T04:15:09.847Z"
   },
   {
    "duration": 198,
    "start_time": "2022-04-07T04:15:10.617Z"
   },
   {
    "duration": 3,
    "start_time": "2022-04-07T04:15:29.436Z"
   },
   {
    "duration": 202,
    "start_time": "2022-04-07T04:15:30.085Z"
   },
   {
    "duration": 3,
    "start_time": "2022-04-07T04:16:08.985Z"
   },
   {
    "duration": 200,
    "start_time": "2022-04-07T04:16:09.578Z"
   },
   {
    "duration": 4,
    "start_time": "2022-04-07T04:16:20.437Z"
   },
   {
    "duration": 395,
    "start_time": "2022-04-07T04:16:21.015Z"
   },
   {
    "duration": 13,
    "start_time": "2022-04-07T04:16:22.187Z"
   },
   {
    "duration": 4,
    "start_time": "2022-04-07T04:17:08.287Z"
   },
   {
    "duration": 184,
    "start_time": "2022-04-07T04:17:08.899Z"
   },
   {
    "duration": 3,
    "start_time": "2022-04-07T04:17:16.732Z"
   },
   {
    "duration": 546,
    "start_time": "2022-04-07T04:17:17.258Z"
   },
   {
    "duration": 13,
    "start_time": "2022-04-07T04:17:18.297Z"
   },
   {
    "duration": 3,
    "start_time": "2022-04-07T04:19:48.373Z"
   },
   {
    "duration": 342,
    "start_time": "2022-04-07T04:19:48.984Z"
   },
   {
    "duration": 9,
    "start_time": "2022-04-07T04:19:49.939Z"
   },
   {
    "duration": 4,
    "start_time": "2022-04-07T04:20:05.610Z"
   },
   {
    "duration": 360,
    "start_time": "2022-04-07T04:20:06.545Z"
   },
   {
    "duration": 10,
    "start_time": "2022-04-07T04:20:07.272Z"
   },
   {
    "duration": 4,
    "start_time": "2022-04-07T04:22:33.499Z"
   },
   {
    "duration": 187,
    "start_time": "2022-04-07T04:22:34.091Z"
   },
   {
    "duration": 3,
    "start_time": "2022-04-07T04:22:52.211Z"
   },
   {
    "duration": 1333,
    "start_time": "2022-04-07T04:22:52.740Z"
   },
   {
    "duration": 12,
    "start_time": "2022-04-07T04:22:54.805Z"
   },
   {
    "duration": 4,
    "start_time": "2022-04-07T04:23:40.475Z"
   },
   {
    "duration": 458,
    "start_time": "2022-04-07T04:23:41.247Z"
   },
   {
    "duration": 14,
    "start_time": "2022-04-07T04:23:42.400Z"
   },
   {
    "duration": 4,
    "start_time": "2022-04-07T04:29:12.197Z"
   },
   {
    "duration": 184,
    "start_time": "2022-04-07T04:29:12.820Z"
   },
   {
    "duration": 5,
    "start_time": "2022-04-07T04:29:28.279Z"
   },
   {
    "duration": 4,
    "start_time": "2022-04-07T04:29:33.517Z"
   },
   {
    "duration": 184,
    "start_time": "2022-04-07T04:29:34.090Z"
   },
   {
    "duration": 4,
    "start_time": "2022-04-07T04:29:52.170Z"
   },
   {
    "duration": 590,
    "start_time": "2022-04-07T04:29:52.752Z"
   },
   {
    "duration": 15,
    "start_time": "2022-04-07T04:29:53.882Z"
   },
   {
    "duration": 4,
    "start_time": "2022-04-07T04:30:50.336Z"
   },
   {
    "duration": 198,
    "start_time": "2022-04-07T04:30:50.956Z"
   },
   {
    "duration": 4,
    "start_time": "2022-04-07T04:31:23.969Z"
   },
   {
    "duration": 598,
    "start_time": "2022-04-07T04:31:24.608Z"
   },
   {
    "duration": 16,
    "start_time": "2022-04-07T04:31:25.697Z"
   },
   {
    "duration": 4,
    "start_time": "2022-04-07T04:31:39.139Z"
   },
   {
    "duration": 570,
    "start_time": "2022-04-07T04:31:39.947Z"
   },
   {
    "duration": 16,
    "start_time": "2022-04-07T04:31:41.073Z"
   },
   {
    "duration": 4,
    "start_time": "2022-04-07T04:31:50.003Z"
   },
   {
    "duration": 600,
    "start_time": "2022-04-07T04:31:51.048Z"
   },
   {
    "duration": 15,
    "start_time": "2022-04-07T04:31:52.312Z"
   },
   {
    "duration": 1568,
    "start_time": "2022-04-07T16:58:20.119Z"
   },
   {
    "duration": 3,
    "start_time": "2022-04-07T16:58:21.689Z"
   },
   {
    "duration": 16722,
    "start_time": "2022-04-07T16:58:21.694Z"
   },
   {
    "duration": 24,
    "start_time": "2022-04-07T16:58:38.418Z"
   },
   {
    "duration": 13,
    "start_time": "2022-04-07T16:58:38.443Z"
   },
   {
    "duration": 4,
    "start_time": "2022-04-07T16:58:38.457Z"
   },
   {
    "duration": 72,
    "start_time": "2022-04-07T16:58:38.463Z"
   },
   {
    "duration": 5,
    "start_time": "2022-04-07T16:58:38.536Z"
   },
   {
    "duration": 196,
    "start_time": "2022-04-07T16:58:38.543Z"
   },
   {
    "duration": 2,
    "start_time": "2022-04-07T16:58:38.742Z"
   },
   {
    "duration": 91,
    "start_time": "2022-04-07T16:58:38.746Z"
   },
   {
    "duration": 8,
    "start_time": "2022-04-07T16:58:38.838Z"
   },
   {
    "duration": 10,
    "start_time": "2022-04-07T16:58:38.848Z"
   },
   {
    "duration": 22,
    "start_time": "2022-04-07T16:58:38.860Z"
   },
   {
    "duration": 5,
    "start_time": "2022-04-07T16:58:38.883Z"
   },
   {
    "duration": 118,
    "start_time": "2022-04-07T16:58:38.889Z"
   },
   {
    "duration": 5,
    "start_time": "2022-04-07T16:58:39.009Z"
   },
   {
    "duration": 4,
    "start_time": "2022-04-07T16:58:39.016Z"
   },
   {
    "duration": 1079,
    "start_time": "2022-04-07T16:58:39.022Z"
   },
   {
    "duration": 11,
    "start_time": "2022-04-07T16:58:40.102Z"
   },
   {
    "duration": 5,
    "start_time": "2022-04-07T16:58:40.114Z"
   },
   {
    "duration": 74,
    "start_time": "2022-04-07T16:58:40.120Z"
   },
   {
    "duration": 6,
    "start_time": "2022-04-07T16:58:40.195Z"
   },
   {
    "duration": 5,
    "start_time": "2022-04-07T16:58:40.203Z"
   },
   {
    "duration": 37,
    "start_time": "2022-04-07T16:58:40.210Z"
   },
   {
    "duration": 5,
    "start_time": "2022-04-07T16:58:40.249Z"
   },
   {
    "duration": 4,
    "start_time": "2022-04-07T16:58:40.256Z"
   },
   {
    "duration": 1043,
    "start_time": "2022-04-07T16:58:40.262Z"
   },
   {
    "duration": 10,
    "start_time": "2022-04-07T16:58:41.307Z"
   },
   {
    "duration": 3,
    "start_time": "2022-04-07T16:58:44.776Z"
   },
   {
    "duration": 569,
    "start_time": "2022-04-07T16:58:46.966Z"
   },
   {
    "duration": 9,
    "start_time": "2022-04-07T16:58:48.263Z"
   },
   {
    "duration": 440,
    "start_time": "2022-04-07T17:01:22.666Z"
   },
   {
    "duration": 361,
    "start_time": "2022-04-07T17:01:37.979Z"
   },
   {
    "duration": 554,
    "start_time": "2022-04-07T17:10:01.486Z"
   },
   {
    "duration": 3,
    "start_time": "2022-04-07T17:10:05.537Z"
   },
   {
    "duration": 331,
    "start_time": "2022-04-07T17:10:11.831Z"
   },
   {
    "duration": 3,
    "start_time": "2022-04-07T17:10:38.882Z"
   },
   {
    "duration": 238,
    "start_time": "2022-04-07T17:10:40.299Z"
   },
   {
    "duration": 3,
    "start_time": "2022-04-07T17:10:49.784Z"
   },
   {
    "duration": 236,
    "start_time": "2022-04-07T17:10:51.615Z"
   },
   {
    "duration": 2,
    "start_time": "2022-04-07T17:12:57.432Z"
   },
   {
    "duration": 227,
    "start_time": "2022-04-07T17:12:59.023Z"
   },
   {
    "duration": 2,
    "start_time": "2022-04-07T17:13:15.085Z"
   },
   {
    "duration": 106,
    "start_time": "2022-04-07T17:13:16.551Z"
   },
   {
    "duration": 6,
    "start_time": "2022-04-07T17:13:27.181Z"
   },
   {
    "duration": 2,
    "start_time": "2022-04-07T17:13:46.852Z"
   },
   {
    "duration": 99,
    "start_time": "2022-04-07T17:13:48.317Z"
   },
   {
    "duration": 6,
    "start_time": "2022-04-07T17:13:49.171Z"
   },
   {
    "duration": 2,
    "start_time": "2022-04-07T17:14:56.432Z"
   },
   {
    "duration": 228,
    "start_time": "2022-04-07T17:14:57.487Z"
   },
   {
    "duration": 2,
    "start_time": "2022-04-07T17:15:28.295Z"
   },
   {
    "duration": 350,
    "start_time": "2022-04-07T17:15:29.980Z"
   },
   {
    "duration": 2,
    "start_time": "2022-04-07T17:15:40.325Z"
   },
   {
    "duration": 401,
    "start_time": "2022-04-07T17:15:41.417Z"
   },
   {
    "duration": 3,
    "start_time": "2022-04-07T17:15:57.963Z"
   },
   {
    "duration": 65,
    "start_time": "2022-04-07T17:15:59.236Z"
   },
   {
    "duration": 6,
    "start_time": "2022-04-07T17:16:00.936Z"
   },
   {
    "duration": 3,
    "start_time": "2022-04-07T17:19:54.081Z"
   },
   {
    "duration": 232,
    "start_time": "2022-04-07T17:19:56.903Z"
   },
   {
    "duration": 2,
    "start_time": "2022-04-07T17:22:54.649Z"
   },
   {
    "duration": 70,
    "start_time": "2022-04-07T17:22:55.961Z"
   },
   {
    "duration": 7,
    "start_time": "2022-04-07T17:22:57.210Z"
   },
   {
    "duration": 3,
    "start_time": "2022-04-07T17:23:17.174Z"
   },
   {
    "duration": 59,
    "start_time": "2022-04-07T17:23:18.318Z"
   },
   {
    "duration": 7,
    "start_time": "2022-04-07T17:23:19.148Z"
   },
   {
    "duration": 3,
    "start_time": "2022-04-07T17:24:24.841Z"
   },
   {
    "duration": 67,
    "start_time": "2022-04-07T17:24:26.144Z"
   },
   {
    "duration": 7,
    "start_time": "2022-04-07T17:24:26.893Z"
   },
   {
    "duration": 3,
    "start_time": "2022-04-07T17:24:45.762Z"
   },
   {
    "duration": 64,
    "start_time": "2022-04-07T17:24:47.112Z"
   },
   {
    "duration": 7,
    "start_time": "2022-04-07T17:24:48.347Z"
   },
   {
    "duration": 2,
    "start_time": "2022-04-07T17:25:13.975Z"
   },
   {
    "duration": 75,
    "start_time": "2022-04-07T17:25:14.971Z"
   },
   {
    "duration": 6,
    "start_time": "2022-04-07T17:25:15.727Z"
   },
   {
    "duration": 125,
    "start_time": "2022-04-07T17:30:10.488Z"
   },
   {
    "duration": 204,
    "start_time": "2022-04-07T17:31:02.294Z"
   },
   {
    "duration": 112,
    "start_time": "2022-04-07T17:31:05.982Z"
   },
   {
    "duration": 117,
    "start_time": "2022-04-07T17:31:14.855Z"
   },
   {
    "duration": 209,
    "start_time": "2022-04-07T17:32:51.545Z"
   },
   {
    "duration": 121,
    "start_time": "2022-04-07T17:32:56.110Z"
   },
   {
    "duration": 217,
    "start_time": "2022-04-07T17:35:16.206Z"
   },
   {
    "duration": 2,
    "start_time": "2022-04-07T17:37:57.636Z"
   },
   {
    "duration": 287,
    "start_time": "2022-04-07T17:38:19.406Z"
   },
   {
    "duration": 2,
    "start_time": "2022-04-07T17:38:29.144Z"
   },
   {
    "duration": 362,
    "start_time": "2022-04-07T17:38:29.874Z"
   },
   {
    "duration": 2,
    "start_time": "2022-04-07T17:38:48.350Z"
   },
   {
    "duration": 280,
    "start_time": "2022-04-07T17:38:49.181Z"
   },
   {
    "duration": 2,
    "start_time": "2022-04-07T17:38:58.186Z"
   },
   {
    "duration": 328,
    "start_time": "2022-04-07T17:38:58.888Z"
   },
   {
    "duration": 3,
    "start_time": "2022-04-07T17:39:18.166Z"
   },
   {
    "duration": 77,
    "start_time": "2022-04-07T17:39:20.093Z"
   },
   {
    "duration": 6,
    "start_time": "2022-04-07T17:39:34.290Z"
   },
   {
    "duration": 3,
    "start_time": "2022-04-07T17:39:45.583Z"
   },
   {
    "duration": 70,
    "start_time": "2022-04-07T17:39:46.110Z"
   },
   {
    "duration": 5,
    "start_time": "2022-04-07T17:39:46.631Z"
   },
   {
    "duration": 2,
    "start_time": "2022-04-07T17:40:34.072Z"
   },
   {
    "duration": 453,
    "start_time": "2022-04-07T17:40:34.675Z"
   },
   {
    "duration": 3,
    "start_time": "2022-04-07T17:40:46.389Z"
   },
   {
    "duration": 358,
    "start_time": "2022-04-07T17:40:46.997Z"
   },
   {
    "duration": 2,
    "start_time": "2022-04-07T17:41:23.747Z"
   },
   {
    "duration": 361,
    "start_time": "2022-04-07T17:41:24.417Z"
   },
   {
    "duration": 3,
    "start_time": "2022-04-07T17:41:32.362Z"
   },
   {
    "duration": 93,
    "start_time": "2022-04-07T17:41:32.929Z"
   },
   {
    "duration": 8,
    "start_time": "2022-04-07T17:41:33.877Z"
   },
   {
    "duration": 2,
    "start_time": "2022-04-07T17:41:45.713Z"
   },
   {
    "duration": 158,
    "start_time": "2022-04-07T17:41:49.614Z"
   },
   {
    "duration": 7,
    "start_time": "2022-04-07T17:41:50.202Z"
   },
   {
    "duration": 3,
    "start_time": "2022-04-07T17:42:05.171Z"
   },
   {
    "duration": 91,
    "start_time": "2022-04-07T17:42:05.841Z"
   },
   {
    "duration": 7,
    "start_time": "2022-04-07T17:42:06.724Z"
   },
   {
    "duration": 2,
    "start_time": "2022-04-07T17:42:13.530Z"
   },
   {
    "duration": 70,
    "start_time": "2022-04-07T17:42:14.508Z"
   },
   {
    "duration": 5,
    "start_time": "2022-04-07T17:42:15.111Z"
   },
   {
    "duration": 3,
    "start_time": "2022-04-07T17:43:04.611Z"
   },
   {
    "duration": 89,
    "start_time": "2022-04-07T17:43:05.239Z"
   },
   {
    "duration": 10,
    "start_time": "2022-04-07T17:43:06.010Z"
   },
   {
    "duration": 3,
    "start_time": "2022-04-07T17:43:21.005Z"
   },
   {
    "duration": 86,
    "start_time": "2022-04-07T17:43:21.692Z"
   },
   {
    "duration": 8,
    "start_time": "2022-04-07T17:43:22.205Z"
   },
   {
    "duration": 3,
    "start_time": "2022-04-07T17:46:33.068Z"
   },
   {
    "duration": 276,
    "start_time": "2022-04-07T17:46:33.756Z"
   },
   {
    "duration": 3,
    "start_time": "2022-04-07T17:47:25.557Z"
   },
   {
    "duration": 93,
    "start_time": "2022-04-07T17:47:26.506Z"
   },
   {
    "duration": 9,
    "start_time": "2022-04-07T17:47:27.369Z"
   },
   {
    "duration": 3,
    "start_time": "2022-04-07T17:48:21.456Z"
   },
   {
    "duration": 86,
    "start_time": "2022-04-07T17:48:22.450Z"
   },
   {
    "duration": 9,
    "start_time": "2022-04-07T17:48:23.230Z"
   },
   {
    "duration": 2,
    "start_time": "2022-04-07T17:48:49.635Z"
   },
   {
    "duration": 86,
    "start_time": "2022-04-07T17:48:50.466Z"
   },
   {
    "duration": 9,
    "start_time": "2022-04-07T17:48:51.023Z"
   },
   {
    "duration": 3,
    "start_time": "2022-04-07T17:51:09.703Z"
   },
   {
    "duration": 87,
    "start_time": "2022-04-07T17:51:10.313Z"
   },
   {
    "duration": 12,
    "start_time": "2022-04-07T17:51:10.832Z"
   },
   {
    "duration": 3,
    "start_time": "2022-04-07T17:52:28.788Z"
   },
   {
    "duration": 94,
    "start_time": "2022-04-07T17:52:29.654Z"
   },
   {
    "duration": 9,
    "start_time": "2022-04-07T17:52:30.342Z"
   },
   {
    "duration": 3,
    "start_time": "2022-04-07T17:53:02.857Z"
   },
   {
    "duration": 91,
    "start_time": "2022-04-07T17:53:03.384Z"
   },
   {
    "duration": 9,
    "start_time": "2022-04-07T17:53:03.975Z"
   },
   {
    "duration": 2,
    "start_time": "2022-04-07T17:53:25.673Z"
   },
   {
    "duration": 89,
    "start_time": "2022-04-07T17:53:26.568Z"
   },
   {
    "duration": 9,
    "start_time": "2022-04-07T17:53:27.150Z"
   },
   {
    "duration": 3,
    "start_time": "2022-04-07T17:54:25.502Z"
   },
   {
    "duration": 91,
    "start_time": "2022-04-07T17:54:26.267Z"
   },
   {
    "duration": 8,
    "start_time": "2022-04-07T17:54:26.891Z"
   },
   {
    "duration": 2,
    "start_time": "2022-04-07T17:55:33.951Z"
   },
   {
    "duration": 85,
    "start_time": "2022-04-07T17:55:34.587Z"
   },
   {
    "duration": 8,
    "start_time": "2022-04-07T17:55:35.364Z"
   },
   {
    "duration": 3,
    "start_time": "2022-04-07T17:55:42.927Z"
   },
   {
    "duration": 85,
    "start_time": "2022-04-07T17:55:43.523Z"
   },
   {
    "duration": 9,
    "start_time": "2022-04-07T17:55:44.073Z"
   },
   {
    "duration": 3,
    "start_time": "2022-04-07T17:56:02.172Z"
   },
   {
    "duration": 94,
    "start_time": "2022-04-07T17:56:02.770Z"
   },
   {
    "duration": 8,
    "start_time": "2022-04-07T17:56:03.288Z"
   },
   {
    "duration": 2,
    "start_time": "2022-04-07T17:56:27.739Z"
   },
   {
    "duration": 93,
    "start_time": "2022-04-07T17:56:28.340Z"
   },
   {
    "duration": 9,
    "start_time": "2022-04-07T17:56:28.934Z"
   },
   {
    "duration": 3,
    "start_time": "2022-04-07T17:58:39.894Z"
   },
   {
    "duration": 249,
    "start_time": "2022-04-07T17:58:40.442Z"
   },
   {
    "duration": 3,
    "start_time": "2022-04-07T17:58:48.931Z"
   },
   {
    "duration": 90,
    "start_time": "2022-04-07T17:58:49.439Z"
   },
   {
    "duration": 3,
    "start_time": "2022-04-07T17:59:00.175Z"
   },
   {
    "duration": 264,
    "start_time": "2022-04-07T17:59:01.635Z"
   },
   {
    "duration": 3,
    "start_time": "2022-04-07T17:59:32.101Z"
   },
   {
    "duration": 95,
    "start_time": "2022-04-07T17:59:32.666Z"
   },
   {
    "duration": 2,
    "start_time": "2022-04-07T17:59:50.250Z"
   },
   {
    "duration": 209,
    "start_time": "2022-04-07T17:59:51.123Z"
   },
   {
    "duration": 2,
    "start_time": "2022-04-07T17:59:59.311Z"
   },
   {
    "duration": 91,
    "start_time": "2022-04-07T17:59:59.914Z"
   },
   {
    "duration": 9,
    "start_time": "2022-04-07T18:00:00.606Z"
   },
   {
    "duration": 3,
    "start_time": "2022-04-07T18:00:39.427Z"
   },
   {
    "duration": 88,
    "start_time": "2022-04-07T18:00:40.450Z"
   },
   {
    "duration": 10,
    "start_time": "2022-04-07T18:00:41.064Z"
   },
   {
    "duration": 2,
    "start_time": "2022-04-07T18:02:31.838Z"
   },
   {
    "duration": 185,
    "start_time": "2022-04-07T18:02:32.450Z"
   },
   {
    "duration": 3,
    "start_time": "2022-04-07T18:02:45.105Z"
   },
   {
    "duration": 85,
    "start_time": "2022-04-07T18:02:45.645Z"
   },
   {
    "duration": 10,
    "start_time": "2022-04-07T18:02:46.246Z"
   },
   {
    "duration": 3,
    "start_time": "2022-04-07T18:03:35.445Z"
   },
   {
    "duration": 86,
    "start_time": "2022-04-07T18:03:35.989Z"
   },
   {
    "duration": 13,
    "start_time": "2022-04-07T18:03:36.553Z"
   },
   {
    "duration": 2,
    "start_time": "2022-04-07T18:03:56.462Z"
   },
   {
    "duration": 91,
    "start_time": "2022-04-07T18:03:57.309Z"
   },
   {
    "duration": 10,
    "start_time": "2022-04-07T18:03:58.052Z"
   },
   {
    "duration": 3,
    "start_time": "2022-04-07T18:04:10.203Z"
   },
   {
    "duration": 90,
    "start_time": "2022-04-07T18:04:10.834Z"
   },
   {
    "duration": 10,
    "start_time": "2022-04-07T18:04:11.467Z"
   },
   {
    "duration": 3,
    "start_time": "2022-04-07T18:04:27.492Z"
   },
   {
    "duration": 88,
    "start_time": "2022-04-07T18:04:28.147Z"
   },
   {
    "duration": 6,
    "start_time": "2022-04-07T18:04:28.827Z"
   },
   {
    "duration": 3,
    "start_time": "2022-04-07T18:04:40.724Z"
   },
   {
    "duration": 88,
    "start_time": "2022-04-07T18:04:42.057Z"
   },
   {
    "duration": 6,
    "start_time": "2022-04-07T18:04:42.639Z"
   },
   {
    "duration": 1175,
    "start_time": "2022-04-07T18:05:31.948Z"
   },
   {
    "duration": 3,
    "start_time": "2022-04-07T18:05:33.125Z"
   },
   {
    "duration": 8935,
    "start_time": "2022-04-07T18:05:33.130Z"
   },
   {
    "duration": 25,
    "start_time": "2022-04-07T18:05:42.067Z"
   },
   {
    "duration": 12,
    "start_time": "2022-04-07T18:05:42.093Z"
   },
   {
    "duration": 2,
    "start_time": "2022-04-07T18:05:42.107Z"
   },
   {
    "duration": 71,
    "start_time": "2022-04-07T18:05:42.111Z"
   },
   {
    "duration": 6,
    "start_time": "2022-04-07T18:05:42.183Z"
   },
   {
    "duration": 202,
    "start_time": "2022-04-07T18:05:42.190Z"
   },
   {
    "duration": 3,
    "start_time": "2022-04-07T18:05:42.394Z"
   },
   {
    "duration": 95,
    "start_time": "2022-04-07T18:05:42.398Z"
   },
   {
    "duration": 8,
    "start_time": "2022-04-07T18:05:42.494Z"
   },
   {
    "duration": 9,
    "start_time": "2022-04-07T18:05:42.504Z"
   },
   {
    "duration": 11,
    "start_time": "2022-04-07T18:05:42.515Z"
   },
   {
    "duration": 4,
    "start_time": "2022-04-07T18:05:42.527Z"
   },
   {
    "duration": 125,
    "start_time": "2022-04-07T18:05:42.532Z"
   },
   {
    "duration": 7,
    "start_time": "2022-04-07T18:05:42.658Z"
   },
   {
    "duration": 5,
    "start_time": "2022-04-07T18:05:42.667Z"
   },
   {
    "duration": 1049,
    "start_time": "2022-04-07T18:05:42.673Z"
   },
   {
    "duration": 10,
    "start_time": "2022-04-07T18:05:43.724Z"
   },
   {
    "duration": 5,
    "start_time": "2022-04-07T18:05:43.735Z"
   },
   {
    "duration": 68,
    "start_time": "2022-04-07T18:05:43.741Z"
   },
   {
    "duration": 6,
    "start_time": "2022-04-07T18:05:43.810Z"
   },
   {
    "duration": 4,
    "start_time": "2022-04-07T18:05:43.817Z"
   },
   {
    "duration": 39,
    "start_time": "2022-04-07T18:05:43.822Z"
   },
   {
    "duration": 5,
    "start_time": "2022-04-07T18:05:43.862Z"
   },
   {
    "duration": 7,
    "start_time": "2022-04-07T18:05:43.869Z"
   },
   {
    "duration": 1035,
    "start_time": "2022-04-07T18:05:43.878Z"
   },
   {
    "duration": 11,
    "start_time": "2022-04-07T18:05:44.915Z"
   },
   {
    "duration": 4,
    "start_time": "2022-04-07T18:05:44.928Z"
   },
   {
    "duration": 556,
    "start_time": "2022-04-07T18:05:44.934Z"
   },
   {
    "duration": 9,
    "start_time": "2022-04-07T18:05:45.492Z"
   },
   {
    "duration": 357,
    "start_time": "2022-04-07T18:05:45.502Z"
   },
   {
    "duration": 2,
    "start_time": "2022-04-07T18:05:45.861Z"
   },
   {
    "duration": 63,
    "start_time": "2022-04-07T18:05:45.865Z"
   },
   {
    "duration": 6,
    "start_time": "2022-04-07T18:05:45.930Z"
   },
   {
    "duration": 129,
    "start_time": "2022-04-07T18:05:45.937Z"
   },
   {
    "duration": 3,
    "start_time": "2022-04-07T18:05:46.067Z"
   },
   {
    "duration": 96,
    "start_time": "2022-04-07T18:05:46.071Z"
   },
   {
    "duration": 7,
    "start_time": "2022-04-07T18:05:46.169Z"
   },
   {
    "duration": 1695,
    "start_time": "2022-04-07T21:04:20.665Z"
   },
   {
    "duration": 5,
    "start_time": "2022-04-07T21:04:22.363Z"
   },
   {
    "duration": 16468,
    "start_time": "2022-04-07T21:04:22.370Z"
   },
   {
    "duration": 33,
    "start_time": "2022-04-07T21:04:38.841Z"
   },
   {
    "duration": 21,
    "start_time": "2022-04-07T21:04:38.877Z"
   },
   {
    "duration": 4,
    "start_time": "2022-04-07T21:04:38.901Z"
   },
   {
    "duration": 80,
    "start_time": "2022-04-07T21:04:38.907Z"
   },
   {
    "duration": 9,
    "start_time": "2022-04-07T21:04:38.989Z"
   },
   {
    "duration": 372,
    "start_time": "2022-04-07T21:04:39.000Z"
   },
   {
    "duration": 4,
    "start_time": "2022-04-07T21:04:39.376Z"
   },
   {
    "duration": 124,
    "start_time": "2022-04-07T21:04:39.382Z"
   },
   {
    "duration": 13,
    "start_time": "2022-04-07T21:04:39.508Z"
   },
   {
    "duration": 11,
    "start_time": "2022-04-07T21:04:39.523Z"
   },
   {
    "duration": 19,
    "start_time": "2022-04-07T21:04:39.536Z"
   },
   {
    "duration": 7,
    "start_time": "2022-04-07T21:04:39.558Z"
   },
   {
    "duration": 131,
    "start_time": "2022-04-07T21:04:39.567Z"
   },
   {
    "duration": 8,
    "start_time": "2022-04-07T21:04:39.700Z"
   },
   {
    "duration": 7,
    "start_time": "2022-04-07T21:04:39.710Z"
   },
   {
    "duration": 1527,
    "start_time": "2022-04-07T21:04:39.719Z"
   },
   {
    "duration": 17,
    "start_time": "2022-04-07T21:04:41.248Z"
   },
   {
    "duration": 67,
    "start_time": "2022-04-07T21:04:41.268Z"
   },
   {
    "duration": 79,
    "start_time": "2022-04-07T21:04:41.338Z"
   },
   {
    "duration": 9,
    "start_time": "2022-04-07T21:04:41.421Z"
   },
   {
    "duration": 7,
    "start_time": "2022-04-07T21:04:41.433Z"
   },
   {
    "duration": 42,
    "start_time": "2022-04-07T21:04:41.443Z"
   },
   {
    "duration": 8,
    "start_time": "2022-04-07T21:04:41.487Z"
   },
   {
    "duration": 16,
    "start_time": "2022-04-07T21:04:41.497Z"
   },
   {
    "duration": 1351,
    "start_time": "2022-04-07T21:04:41.518Z"
   },
   {
    "duration": 16,
    "start_time": "2022-04-07T21:04:42.871Z"
   },
   {
    "duration": 8,
    "start_time": "2022-04-07T21:04:42.890Z"
   },
   {
    "duration": 598,
    "start_time": "2022-04-07T21:04:42.900Z"
   },
   {
    "duration": 15,
    "start_time": "2022-04-07T21:04:43.500Z"
   },
   {
    "duration": 596,
    "start_time": "2022-04-07T21:04:43.517Z"
   },
   {
    "duration": 4,
    "start_time": "2022-04-07T21:04:44.116Z"
   },
   {
    "duration": 82,
    "start_time": "2022-04-07T21:04:44.123Z"
   },
   {
    "duration": 10,
    "start_time": "2022-04-07T21:04:44.207Z"
   },
   {
    "duration": 237,
    "start_time": "2022-04-07T21:04:44.219Z"
   },
   {
    "duration": 4,
    "start_time": "2022-04-07T21:04:44.458Z"
   },
   {
    "duration": 114,
    "start_time": "2022-04-07T21:04:44.464Z"
   },
   {
    "duration": 15,
    "start_time": "2022-04-07T21:04:44.581Z"
   },
   {
    "duration": 1348,
    "start_time": "2022-04-08T04:41:11.768Z"
   },
   {
    "duration": 4,
    "start_time": "2022-04-08T04:41:13.118Z"
   },
   {
    "duration": 5370,
    "start_time": "2022-04-08T04:41:13.123Z"
   },
   {
    "duration": 189,
    "start_time": "2022-04-08T04:41:18.494Z"
   },
   {
    "duration": 12,
    "start_time": "2022-04-08T04:41:18.685Z"
   },
   {
    "duration": 2,
    "start_time": "2022-04-08T04:41:21.166Z"
   },
   {
    "duration": 96,
    "start_time": "2022-04-08T04:41:24.912Z"
   },
   {
    "duration": 7,
    "start_time": "2022-04-08T04:41:25.763Z"
   },
   {
    "duration": 202,
    "start_time": "2022-04-08T04:41:28.742Z"
   },
   {
    "duration": 3,
    "start_time": "2022-04-08T04:42:28.767Z"
   },
   {
    "duration": 12,
    "start_time": "2022-04-08T04:42:28.772Z"
   },
   {
    "duration": 19,
    "start_time": "2022-04-08T04:42:28.785Z"
   },
   {
    "duration": 211,
    "start_time": "2022-04-08T04:42:28.805Z"
   },
   {
    "duration": 10,
    "start_time": "2022-04-08T04:42:29.018Z"
   },
   {
    "duration": 24,
    "start_time": "2022-04-08T04:42:29.029Z"
   },
   {
    "duration": 109,
    "start_time": "2022-04-08T04:42:29.055Z"
   },
   {
    "duration": 7,
    "start_time": "2022-04-08T04:42:29.165Z"
   },
   {
    "duration": 141,
    "start_time": "2022-04-08T04:42:29.173Z"
   },
   {
    "duration": 2,
    "start_time": "2022-04-08T04:51:29.243Z"
   },
   {
    "duration": 252,
    "start_time": "2022-04-08T04:51:30.662Z"
   },
   {
    "duration": 3,
    "start_time": "2022-04-08T04:52:02.495Z"
   },
   {
    "duration": 145,
    "start_time": "2022-04-08T04:52:04.505Z"
   },
   {
    "duration": 3,
    "start_time": "2022-04-08T04:52:28.648Z"
   },
   {
    "duration": 149,
    "start_time": "2022-04-08T04:52:30.979Z"
   },
   {
    "duration": 7,
    "start_time": "2022-04-08T04:52:32.412Z"
   },
   {
    "duration": 2,
    "start_time": "2022-04-08T04:53:56.071Z"
   },
   {
    "duration": 3,
    "start_time": "2022-04-08T04:54:33.340Z"
   },
   {
    "duration": 2,
    "start_time": "2022-04-08T04:56:52.921Z"
   },
   {
    "duration": 86,
    "start_time": "2022-04-08T04:56:53.504Z"
   },
   {
    "duration": 8,
    "start_time": "2022-04-08T04:56:54.356Z"
   },
   {
    "duration": 3,
    "start_time": "2022-04-08T04:57:34.444Z"
   },
   {
    "duration": 169,
    "start_time": "2022-04-08T04:57:35.040Z"
   },
   {
    "duration": 3,
    "start_time": "2022-04-08T04:57:51.955Z"
   },
   {
    "duration": 161,
    "start_time": "2022-04-08T04:57:52.562Z"
   },
   {
    "duration": 2,
    "start_time": "2022-04-08T04:58:02.457Z"
   },
   {
    "duration": 66,
    "start_time": "2022-04-08T04:58:02.980Z"
   },
   {
    "duration": 6,
    "start_time": "2022-04-08T04:58:04.245Z"
   },
   {
    "duration": 3,
    "start_time": "2022-04-08T04:58:17.734Z"
   },
   {
    "duration": 67,
    "start_time": "2022-04-08T04:58:19.018Z"
   },
   {
    "duration": 6,
    "start_time": "2022-04-08T04:58:19.949Z"
   },
   {
    "duration": 2,
    "start_time": "2022-04-08T04:59:20.598Z"
   },
   {
    "duration": 156,
    "start_time": "2022-04-08T04:59:21.363Z"
   },
   {
    "duration": 2,
    "start_time": "2022-04-08T04:59:45.081Z"
   },
   {
    "duration": 148,
    "start_time": "2022-04-08T04:59:45.810Z"
   },
   {
    "duration": 2,
    "start_time": "2022-04-08T05:00:20.817Z"
   },
   {
    "duration": 167,
    "start_time": "2022-04-08T05:00:21.384Z"
   },
   {
    "duration": 3,
    "start_time": "2022-04-08T05:00:57.934Z"
   },
   {
    "duration": 175,
    "start_time": "2022-04-08T05:00:58.541Z"
   },
   {
    "duration": 9,
    "start_time": "2022-04-08T05:00:59.703Z"
   },
   {
    "duration": 3,
    "start_time": "2022-04-08T05:10:04.125Z"
   },
   {
    "duration": 96,
    "start_time": "2022-04-08T05:10:04.709Z"
   },
   {
    "duration": 9,
    "start_time": "2022-04-08T05:10:05.399Z"
   },
   {
    "duration": 3,
    "start_time": "2022-04-08T05:10:32.748Z"
   },
   {
    "duration": 85,
    "start_time": "2022-04-08T05:10:33.327Z"
   },
   {
    "duration": 7,
    "start_time": "2022-04-08T05:10:34.132Z"
   },
   {
    "duration": 3,
    "start_time": "2022-04-08T05:11:20.084Z"
   },
   {
    "duration": 67,
    "start_time": "2022-04-08T05:11:20.715Z"
   },
   {
    "duration": 5,
    "start_time": "2022-04-08T05:11:21.316Z"
   },
   {
    "duration": 3,
    "start_time": "2022-04-08T05:11:40.873Z"
   },
   {
    "duration": 67,
    "start_time": "2022-04-08T05:11:41.444Z"
   },
   {
    "duration": 6,
    "start_time": "2022-04-08T05:11:42.130Z"
   },
   {
    "duration": 3,
    "start_time": "2022-04-08T05:12:07.079Z"
   },
   {
    "duration": 68,
    "start_time": "2022-04-08T05:12:10.213Z"
   },
   {
    "duration": 6,
    "start_time": "2022-04-08T05:12:11.286Z"
   },
   {
    "duration": 3,
    "start_time": "2022-04-08T05:13:54.411Z"
   },
   {
    "duration": 109,
    "start_time": "2022-04-08T05:13:55.179Z"
   },
   {
    "duration": 8,
    "start_time": "2022-04-08T05:13:55.941Z"
   },
   {
    "duration": 3,
    "start_time": "2022-04-08T05:14:52.954Z"
   },
   {
    "duration": 152,
    "start_time": "2022-04-08T05:14:55.601Z"
   },
   {
    "duration": 2,
    "start_time": "2022-04-08T05:15:10.337Z"
   },
   {
    "duration": 152,
    "start_time": "2022-04-08T05:15:11.788Z"
   },
   {
    "duration": 2,
    "start_time": "2022-04-08T05:15:25.999Z"
   },
   {
    "duration": 72,
    "start_time": "2022-04-08T05:15:26.974Z"
   },
   {
    "duration": 6,
    "start_time": "2022-04-08T05:15:27.763Z"
   },
   {
    "duration": 2,
    "start_time": "2022-04-08T05:15:44.553Z"
   },
   {
    "duration": 69,
    "start_time": "2022-04-08T05:15:45.880Z"
   },
   {
    "duration": 6,
    "start_time": "2022-04-08T05:15:46.352Z"
   },
   {
    "duration": 3,
    "start_time": "2022-04-08T05:15:53.700Z"
   },
   {
    "duration": 6,
    "start_time": "2022-04-08T05:15:55.869Z"
   },
   {
    "duration": 3,
    "start_time": "2022-04-08T05:15:58.366Z"
   },
   {
    "duration": 67,
    "start_time": "2022-04-08T05:15:58.832Z"
   },
   {
    "duration": 6,
    "start_time": "2022-04-08T05:15:59.327Z"
   },
   {
    "duration": 2,
    "start_time": "2022-04-08T05:17:53.447Z"
   },
   {
    "duration": 156,
    "start_time": "2022-04-08T05:17:54.126Z"
   },
   {
    "duration": 2,
    "start_time": "2022-04-08T05:18:03.494Z"
   },
   {
    "duration": 87,
    "start_time": "2022-04-08T05:18:03.981Z"
   },
   {
    "duration": 8,
    "start_time": "2022-04-08T05:18:05.388Z"
   },
   {
    "duration": 2,
    "start_time": "2022-04-08T05:18:27.402Z"
   },
   {
    "duration": 68,
    "start_time": "2022-04-08T05:18:27.896Z"
   },
   {
    "duration": 6,
    "start_time": "2022-04-08T05:18:28.448Z"
   },
   {
    "duration": 3,
    "start_time": "2022-04-08T05:18:49.052Z"
   },
   {
    "duration": 67,
    "start_time": "2022-04-08T05:18:49.592Z"
   },
   {
    "duration": 6,
    "start_time": "2022-04-08T05:18:50.119Z"
   },
   {
    "duration": 2,
    "start_time": "2022-04-08T05:19:27.142Z"
   },
   {
    "duration": 66,
    "start_time": "2022-04-08T05:19:27.610Z"
   },
   {
    "duration": 6,
    "start_time": "2022-04-08T05:19:27.983Z"
   },
   {
    "duration": 3,
    "start_time": "2022-04-08T05:20:53.903Z"
   },
   {
    "duration": 3,
    "start_time": "2022-04-08T05:21:21.511Z"
   },
   {
    "duration": 552,
    "start_time": "2022-04-08T05:21:22.148Z"
   },
   {
    "duration": 11,
    "start_time": "2022-04-08T05:21:23.735Z"
   },
   {
    "duration": 4,
    "start_time": "2022-04-08T05:21:53.347Z"
   },
   {
    "duration": 2,
    "start_time": "2022-04-08T05:22:45.780Z"
   },
   {
    "duration": 94,
    "start_time": "2022-04-08T05:22:46.690Z"
   },
   {
    "duration": 9,
    "start_time": "2022-04-08T05:22:47.251Z"
   },
   {
    "duration": 11,
    "start_time": "2022-04-08T05:25:04.857Z"
   },
   {
    "duration": 12,
    "start_time": "2022-04-08T05:32:25.520Z"
   },
   {
    "duration": 13,
    "start_time": "2022-04-08T05:32:44.404Z"
   },
   {
    "duration": 11,
    "start_time": "2022-04-08T05:33:00.411Z"
   },
   {
    "duration": 144,
    "start_time": "2022-04-08T05:33:11.689Z"
   },
   {
    "duration": 3,
    "start_time": "2022-04-08T05:34:38.605Z"
   },
   {
    "duration": 1829,
    "start_time": "2022-04-08T05:35:01.853Z"
   },
   {
    "duration": 5,
    "start_time": "2022-04-08T05:35:03.684Z"
   },
   {
    "duration": 5706,
    "start_time": "2022-04-08T05:35:03.692Z"
   },
   {
    "duration": 180,
    "start_time": "2022-04-08T05:35:09.400Z"
   },
   {
    "duration": 14,
    "start_time": "2022-04-08T05:35:09.581Z"
   },
   {
    "duration": 6,
    "start_time": "2022-04-08T05:35:09.597Z"
   },
   {
    "duration": 97,
    "start_time": "2022-04-08T05:35:09.604Z"
   },
   {
    "duration": 7,
    "start_time": "2022-04-08T05:35:09.703Z"
   },
   {
    "duration": 213,
    "start_time": "2022-04-08T05:35:09.712Z"
   },
   {
    "duration": 3,
    "start_time": "2022-04-08T05:35:09.928Z"
   },
   {
    "duration": 122,
    "start_time": "2022-04-08T05:35:09.933Z"
   },
   {
    "duration": 9,
    "start_time": "2022-04-08T05:35:10.057Z"
   },
   {
    "duration": 9,
    "start_time": "2022-04-08T05:35:10.067Z"
   },
   {
    "duration": 13,
    "start_time": "2022-04-08T05:35:10.078Z"
   },
   {
    "duration": 4,
    "start_time": "2022-04-08T05:35:10.093Z"
   },
   {
    "duration": 153,
    "start_time": "2022-04-08T05:35:10.098Z"
   },
   {
    "duration": 6,
    "start_time": "2022-04-08T05:35:10.252Z"
   },
   {
    "duration": 5,
    "start_time": "2022-04-08T05:35:10.260Z"
   },
   {
    "duration": 1215,
    "start_time": "2022-04-08T05:35:10.266Z"
   },
   {
    "duration": 11,
    "start_time": "2022-04-08T05:35:11.482Z"
   },
   {
    "duration": 5,
    "start_time": "2022-04-08T05:35:11.494Z"
   },
   {
    "duration": 94,
    "start_time": "2022-04-08T05:35:11.500Z"
   },
   {
    "duration": 7,
    "start_time": "2022-04-08T05:35:11.595Z"
   },
   {
    "duration": 6,
    "start_time": "2022-04-08T05:35:11.603Z"
   },
   {
    "duration": 65,
    "start_time": "2022-04-08T05:35:11.610Z"
   },
   {
    "duration": 6,
    "start_time": "2022-04-08T05:35:11.676Z"
   },
   {
    "duration": 5,
    "start_time": "2022-04-08T05:35:11.684Z"
   },
   {
    "duration": 1234,
    "start_time": "2022-04-08T05:35:11.692Z"
   },
   {
    "duration": 12,
    "start_time": "2022-04-08T05:35:12.928Z"
   },
   {
    "duration": 4,
    "start_time": "2022-04-08T05:35:12.941Z"
   },
   {
    "duration": 588,
    "start_time": "2022-04-08T05:35:12.947Z"
   },
   {
    "duration": 11,
    "start_time": "2022-04-08T05:35:13.537Z"
   },
   {
    "duration": 373,
    "start_time": "2022-04-08T05:35:13.549Z"
   },
   {
    "duration": 3,
    "start_time": "2022-04-08T05:35:13.923Z"
   },
   {
    "duration": 94,
    "start_time": "2022-04-08T05:35:13.927Z"
   },
   {
    "duration": 7,
    "start_time": "2022-04-08T05:35:14.022Z"
   },
   {
    "duration": 143,
    "start_time": "2022-04-08T05:35:14.030Z"
   },
   {
    "duration": 3,
    "start_time": "2022-04-08T05:35:14.175Z"
   },
   {
    "duration": 122,
    "start_time": "2022-04-08T05:35:14.179Z"
   },
   {
    "duration": 7,
    "start_time": "2022-04-08T05:35:14.302Z"
   },
   {
    "duration": 2,
    "start_time": "2022-04-08T06:16:00.386Z"
   },
   {
    "duration": 242,
    "start_time": "2022-04-08T06:16:01.218Z"
   },
   {
    "duration": 2,
    "start_time": "2022-04-08T06:16:12.660Z"
   },
   {
    "duration": 150,
    "start_time": "2022-04-08T06:16:13.223Z"
   },
   {
    "duration": 2,
    "start_time": "2022-04-08T06:16:23.231Z"
   },
   {
    "duration": 162,
    "start_time": "2022-04-08T06:16:23.740Z"
   },
   {
    "duration": 5,
    "start_time": "2022-04-08T06:16:38.829Z"
   },
   {
    "duration": 149,
    "start_time": "2022-04-08T06:16:39.362Z"
   },
   {
    "duration": 9,
    "start_time": "2022-04-08T06:16:40.744Z"
   },
   {
    "duration": 2,
    "start_time": "2022-04-08T06:16:47.236Z"
   },
   {
    "duration": 126,
    "start_time": "2022-04-08T06:16:49.658Z"
   },
   {
    "duration": 10,
    "start_time": "2022-04-08T06:16:52.563Z"
   },
   {
    "duration": 8,
    "start_time": "2022-04-08T06:17:29.034Z"
   },
   {
    "duration": 10,
    "start_time": "2022-04-08T06:17:34.941Z"
   },
   {
    "duration": 3,
    "start_time": "2022-04-08T06:18:40.862Z"
   },
   {
    "duration": 152,
    "start_time": "2022-04-08T06:18:41.396Z"
   },
   {
    "duration": 9,
    "start_time": "2022-04-08T06:18:42.050Z"
   },
   {
    "duration": 3,
    "start_time": "2022-04-08T06:18:49.464Z"
   },
   {
    "duration": 171,
    "start_time": "2022-04-08T06:18:49.967Z"
   },
   {
    "duration": 9,
    "start_time": "2022-04-08T06:18:50.519Z"
   },
   {
    "duration": 8,
    "start_time": "2022-04-08T06:19:07.146Z"
   },
   {
    "duration": 3,
    "start_time": "2022-04-08T06:19:14.239Z"
   },
   {
    "duration": 148,
    "start_time": "2022-04-08T06:19:14.745Z"
   },
   {
    "duration": 10,
    "start_time": "2022-04-08T06:19:15.329Z"
   },
   {
    "duration": 9,
    "start_time": "2022-04-08T06:19:19.927Z"
   },
   {
    "duration": 10,
    "start_time": "2022-04-08T06:19:23.281Z"
   },
   {
    "duration": 1187,
    "start_time": "2022-04-08T06:21:18.057Z"
   },
   {
    "duration": 4,
    "start_time": "2022-04-08T06:21:19.247Z"
   },
   {
    "duration": 5885,
    "start_time": "2022-04-08T06:21:19.253Z"
   },
   {
    "duration": 199,
    "start_time": "2022-04-08T06:21:25.140Z"
   },
   {
    "duration": 13,
    "start_time": "2022-04-08T06:21:25.340Z"
   },
   {
    "duration": 9,
    "start_time": "2022-04-08T06:21:25.355Z"
   },
   {
    "duration": 110,
    "start_time": "2022-04-08T06:21:25.366Z"
   },
   {
    "duration": 6,
    "start_time": "2022-04-08T06:21:25.478Z"
   },
   {
    "duration": 231,
    "start_time": "2022-04-08T06:21:25.486Z"
   },
   {
    "duration": 3,
    "start_time": "2022-04-08T06:21:25.720Z"
   },
   {
    "duration": 164,
    "start_time": "2022-04-08T06:21:25.724Z"
   },
   {
    "duration": 9,
    "start_time": "2022-04-08T06:21:25.890Z"
   },
   {
    "duration": 13,
    "start_time": "2022-04-08T06:21:25.901Z"
   },
   {
    "duration": 16,
    "start_time": "2022-04-08T06:21:25.915Z"
   },
   {
    "duration": 10,
    "start_time": "2022-04-08T06:21:25.932Z"
   },
   {
    "duration": 186,
    "start_time": "2022-04-08T06:21:25.943Z"
   },
   {
    "duration": 6,
    "start_time": "2022-04-08T06:21:26.131Z"
   },
   {
    "duration": 9,
    "start_time": "2022-04-08T06:21:26.138Z"
   },
   {
    "duration": 1247,
    "start_time": "2022-04-08T06:21:26.148Z"
   },
   {
    "duration": 11,
    "start_time": "2022-04-08T06:21:27.397Z"
   },
   {
    "duration": 6,
    "start_time": "2022-04-08T06:21:27.410Z"
   },
   {
    "duration": 104,
    "start_time": "2022-04-08T06:21:27.418Z"
   },
   {
    "duration": 5,
    "start_time": "2022-04-08T06:21:27.524Z"
   },
   {
    "duration": 10,
    "start_time": "2022-04-08T06:21:27.531Z"
   },
   {
    "duration": 72,
    "start_time": "2022-04-08T06:21:27.542Z"
   },
   {
    "duration": 5,
    "start_time": "2022-04-08T06:21:27.616Z"
   },
   {
    "duration": 12,
    "start_time": "2022-04-08T06:21:27.623Z"
   },
   {
    "duration": 1190,
    "start_time": "2022-04-08T06:21:27.639Z"
   },
   {
    "duration": 11,
    "start_time": "2022-04-08T06:21:28.830Z"
   },
   {
    "duration": 9,
    "start_time": "2022-04-08T06:21:28.843Z"
   },
   {
    "duration": 620,
    "start_time": "2022-04-08T06:21:28.853Z"
   },
   {
    "duration": 11,
    "start_time": "2022-04-08T06:21:29.475Z"
   },
   {
    "duration": 348,
    "start_time": "2022-04-08T06:21:29.488Z"
   },
   {
    "duration": 3,
    "start_time": "2022-04-08T06:21:29.837Z"
   },
   {
    "duration": 97,
    "start_time": "2022-04-08T06:21:29.841Z"
   },
   {
    "duration": 7,
    "start_time": "2022-04-08T06:21:29.940Z"
   },
   {
    "duration": 154,
    "start_time": "2022-04-08T06:21:29.948Z"
   },
   {
    "duration": 2,
    "start_time": "2022-04-08T06:21:30.104Z"
   },
   {
    "duration": 123,
    "start_time": "2022-04-08T06:21:30.107Z"
   },
   {
    "duration": 8,
    "start_time": "2022-04-08T06:21:30.232Z"
   }
  ],
  "colab": {
   "name": "AdvansedSQLProjectTemplate.ipynb",
   "provenance": []
  },
  "kernelspec": {
   "display_name": "Python 3 (ipykernel)",
   "language": "python",
   "name": "python3"
  },
  "language_info": {
   "codemirror_mode": {
    "name": "ipython",
    "version": 3
   },
   "file_extension": ".py",
   "mimetype": "text/x-python",
   "name": "python",
   "nbconvert_exporter": "python",
   "pygments_lexer": "ipython3",
   "version": "3.9.7"
  },
  "toc": {
   "base_numbering": 1,
   "nav_menu": {},
   "number_sections": true,
   "sideBar": true,
   "skip_h1_title": true,
   "title_cell": "Оглавление",
   "title_sidebar": "Contents",
   "toc_cell": true,
   "toc_position": {},
   "toc_section_display": true,
   "toc_window_display": true
  }
 },
 "nbformat": 4,
 "nbformat_minor": 1
}
