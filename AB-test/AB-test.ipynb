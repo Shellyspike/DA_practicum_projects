{
 "cells": [
  {
   "cell_type": "markdown",
   "metadata": {
    "toc": true
   },
   "source": [
    "<h1>Оглавление<span class=\"tocSkip\"></span></h1>\n",
    "<div class=\"toc\"><ul class=\"toc-item\"><li><span><a href=\"#Информация-об-исследовании-и-обрабатываемых-данных\" data-toc-modified-id=\"Информация-об-исследовании-и-обрабатываемых-данных-1\"><span class=\"toc-item-num\">1&nbsp;&nbsp;</span>Информация об исследовании и обрабатываемых данных</a></span></li><li><span><a href=\"#Приоритизация-гипотез.\" data-toc-modified-id=\"Приоритизация-гипотез.-2\"><span class=\"toc-item-num\">2&nbsp;&nbsp;</span>Приоритизация гипотез.</a></span></li><li><span><a href=\"#Анализ-A/B-теста\" data-toc-modified-id=\"Анализ-A/B-теста-3\"><span class=\"toc-item-num\">3&nbsp;&nbsp;</span>Анализ A/B-теста</a></span><ul class=\"toc-item\"><li><span><a href=\"#Предобработка-данных\" data-toc-modified-id=\"Предобработка-данных-3.1\"><span class=\"toc-item-num\">3.1&nbsp;&nbsp;</span>Предобработка данных</a></span></li><li><span><a href=\"#Агрегация-данных\" data-toc-modified-id=\"Агрегация-данных-3.2\"><span class=\"toc-item-num\">3.2&nbsp;&nbsp;</span>Агрегация данных</a></span></li><li><span><a href=\"#Сравнение-кумулятивной-выручки\" data-toc-modified-id=\"Сравнение-кумулятивной-выручки-3.3\"><span class=\"toc-item-num\">3.3&nbsp;&nbsp;</span>Сравнение кумулятивной выручки</a></span></li><li><span><a href=\"#Сравнение-кумулятивного-среднего-чека\" data-toc-modified-id=\"Сравнение-кумулятивного-среднего-чека-3.4\"><span class=\"toc-item-num\">3.4&nbsp;&nbsp;</span>Сравнение кумулятивного среднего чека</a></span></li><li><span><a href=\"#Сравнение-кумулятивной-конверсии\" data-toc-modified-id=\"Сравнение-кумулятивной-конверсии-3.5\"><span class=\"toc-item-num\">3.5&nbsp;&nbsp;</span>Сравнение кумулятивной конверсии</a></span></li><li><span><a href=\"#Анализ-выбросов-в-данных-о-количестве-заказов\" data-toc-modified-id=\"Анализ-выбросов-в-данных-о-количестве-заказов-3.6\"><span class=\"toc-item-num\">3.6&nbsp;&nbsp;</span>Анализ выбросов в данных о количестве заказов</a></span></li><li><span><a href=\"#Анализ-выбросов-в-данных-о-стоимости-заказов\" data-toc-modified-id=\"Анализ-выбросов-в-данных-о-стоимости-заказов-3.7\"><span class=\"toc-item-num\">3.7&nbsp;&nbsp;</span>Анализ выбросов в данных о стоимости заказов</a></span></li><li><span><a href=\"#Подсчет-статистической-значимости-в-различиях-между-группами-теста-по-&quot;сырым&quot;-данным\" data-toc-modified-id=\"Подсчет-статистической-значимости-в-различиях-между-группами-теста-по-&quot;сырым&quot;-данным-3.8\"><span class=\"toc-item-num\">3.8&nbsp;&nbsp;</span>Подсчет статистической значимости в различиях между группами теста по \"сырым\" данным</a></span></li><li><span><a href=\"#Подсчет-статистической-значимости-в-различиях-между-группами-теста-по-очищенным-данным\" data-toc-modified-id=\"Подсчет-статистической-значимости-в-различиях-между-группами-теста-по-очищенным-данным-3.9\"><span class=\"toc-item-num\">3.9&nbsp;&nbsp;</span>Подсчет статистической значимости в различиях между группами теста по очищенным данным</a></span></li><li><span><a href=\"#Выводы-по-результатам-теста.\" data-toc-modified-id=\"Выводы-по-результатам-теста.-3.10\"><span class=\"toc-item-num\">3.10&nbsp;&nbsp;</span>Выводы по результатам теста.</a></span></li></ul></li></ul></div>"
   ]
  },
  {
   "cell_type": "markdown",
   "metadata": {},
   "source": [
    "## Информация об исследовании и обрабатываемых данных"
   ]
  },
  {
   "cell_type": "markdown",
   "metadata": {},
   "source": [
    "Целью данного проекта является анализ списка гипотез для увеличения выручки. Гипотезы необходимо приоритизировать, провести A/B тест и сделать выводы, исходя из его результатов.\n",
    "\n",
    "Данные представлены следующими датасетами с информацией о гипотезах:\n",
    "\n",
    "**Таблица hypothesis**\n",
    "* Hypothesis — краткое описание гипотезы;\n",
    "* Reach — охват пользователей по 10-балльной шкале;\n",
    "* Impact — влияние на пользователей по 10-балльной шкале;\n",
    "* Confidence — уверенность в гипотезе по 10-балльной шкале;\n",
    "* Efforts — затраты ресурсов на проверку гипотезы по 10-балльной шкале. \n",
    "\n",
    "**Таблица orders**\n",
    "\n",
    "* transactionId — идентификатор заказа;\n",
    "* visitorId — идентификатор пользователя, совершившего заказ;\n",
    "* date — дата, когда был совершён заказ;\n",
    "* revenue — выручка заказа;\n",
    "* group — группа A/B-теста, в которую попал заказ.\n",
    "\n",
    "**Таблцица visitors**\n",
    "\n",
    "* date — дата;\n",
    "* group — группа A/B-теста;\n",
    "* visitors — количество пользователей в указанную дату в указанной группе A/B-теста\n",
    "\n",
    "В результате изучения данных будет сделан вывод о том, достаточно ли собранных данных для прекращения А/В теста или его рекомендуется продолжить."
   ]
  },
  {
   "cell_type": "markdown",
   "metadata": {},
   "source": [
    "## Приоритизация гипотез."
   ]
  },
  {
   "cell_type": "code",
   "execution_count": 1,
   "metadata": {},
   "outputs": [],
   "source": [
    "import pandas as pd\n",
    "import datetime as dt\n",
    "import numpy as np\n",
    "import matplotlib.pyplot as plt\n",
    "import scipy.stats as stats"
   ]
  },
  {
   "cell_type": "markdown",
   "metadata": {},
   "source": [
    "Изучим датафрейм"
   ]
  },
  {
   "cell_type": "code",
   "execution_count": 2,
   "metadata": {
    "scrolled": false
   },
   "outputs": [
    {
     "data": {
      "text/html": [
       "<style  type=\"text/css\" >\n",
       "#T_920a0_row0_col0,#T_920a0_row0_col1,#T_920a0_row0_col2,#T_920a0_row0_col3,#T_920a0_row0_col4,#T_920a0_row1_col0,#T_920a0_row1_col1,#T_920a0_row1_col2,#T_920a0_row1_col3,#T_920a0_row1_col4,#T_920a0_row2_col0,#T_920a0_row2_col1,#T_920a0_row2_col2,#T_920a0_row2_col3,#T_920a0_row2_col4,#T_920a0_row3_col0,#T_920a0_row3_col1,#T_920a0_row3_col2,#T_920a0_row3_col3,#T_920a0_row3_col4,#T_920a0_row4_col0,#T_920a0_row4_col1,#T_920a0_row4_col2,#T_920a0_row4_col3,#T_920a0_row4_col4,#T_920a0_row5_col0,#T_920a0_row5_col1,#T_920a0_row5_col2,#T_920a0_row5_col3,#T_920a0_row5_col4,#T_920a0_row6_col0,#T_920a0_row6_col1,#T_920a0_row6_col2,#T_920a0_row6_col3,#T_920a0_row6_col4,#T_920a0_row7_col0,#T_920a0_row7_col1,#T_920a0_row7_col2,#T_920a0_row7_col3,#T_920a0_row7_col4,#T_920a0_row8_col0,#T_920a0_row8_col1,#T_920a0_row8_col2,#T_920a0_row8_col3,#T_920a0_row8_col4{\n",
       "            text-align:  left;\n",
       "        }</style><table id=\"T_920a0_\" ><thead>    <tr>        <th class=\"blank level0\" ></th>        <th class=\"col_heading level0 col0\" >Hypothesis</th>        <th class=\"col_heading level0 col1\" >Reach</th>        <th class=\"col_heading level0 col2\" >Impact</th>        <th class=\"col_heading level0 col3\" >Confidence</th>        <th class=\"col_heading level0 col4\" >Efforts</th>    </tr></thead><tbody>\n",
       "                <tr>\n",
       "                        <th id=\"T_920a0_level0_row0\" class=\"row_heading level0 row0\" >0</th>\n",
       "                        <td id=\"T_920a0_row0_col0\" class=\"data row0 col0\" >Добавить два новых канала привлечения трафика, что позволит привлекать на 30% больше пользователей</td>\n",
       "                        <td id=\"T_920a0_row0_col1\" class=\"data row0 col1\" >3</td>\n",
       "                        <td id=\"T_920a0_row0_col2\" class=\"data row0 col2\" >10</td>\n",
       "                        <td id=\"T_920a0_row0_col3\" class=\"data row0 col3\" >8</td>\n",
       "                        <td id=\"T_920a0_row0_col4\" class=\"data row0 col4\" >6</td>\n",
       "            </tr>\n",
       "            <tr>\n",
       "                        <th id=\"T_920a0_level0_row1\" class=\"row_heading level0 row1\" >1</th>\n",
       "                        <td id=\"T_920a0_row1_col0\" class=\"data row1 col0\" >Запустить собственную службу доставки, что сократит срок доставки заказов</td>\n",
       "                        <td id=\"T_920a0_row1_col1\" class=\"data row1 col1\" >2</td>\n",
       "                        <td id=\"T_920a0_row1_col2\" class=\"data row1 col2\" >5</td>\n",
       "                        <td id=\"T_920a0_row1_col3\" class=\"data row1 col3\" >4</td>\n",
       "                        <td id=\"T_920a0_row1_col4\" class=\"data row1 col4\" >10</td>\n",
       "            </tr>\n",
       "            <tr>\n",
       "                        <th id=\"T_920a0_level0_row2\" class=\"row_heading level0 row2\" >2</th>\n",
       "                        <td id=\"T_920a0_row2_col0\" class=\"data row2 col0\" >Добавить блоки рекомендаций товаров на сайт интернет магазина, чтобы повысить конверсию и средний чек заказа</td>\n",
       "                        <td id=\"T_920a0_row2_col1\" class=\"data row2 col1\" >8</td>\n",
       "                        <td id=\"T_920a0_row2_col2\" class=\"data row2 col2\" >3</td>\n",
       "                        <td id=\"T_920a0_row2_col3\" class=\"data row2 col3\" >7</td>\n",
       "                        <td id=\"T_920a0_row2_col4\" class=\"data row2 col4\" >3</td>\n",
       "            </tr>\n",
       "            <tr>\n",
       "                        <th id=\"T_920a0_level0_row3\" class=\"row_heading level0 row3\" >3</th>\n",
       "                        <td id=\"T_920a0_row3_col0\" class=\"data row3 col0\" >Изменить структура категорий, что увеличит конверсию, т.к. пользователи быстрее найдут нужный товар</td>\n",
       "                        <td id=\"T_920a0_row3_col1\" class=\"data row3 col1\" >8</td>\n",
       "                        <td id=\"T_920a0_row3_col2\" class=\"data row3 col2\" >3</td>\n",
       "                        <td id=\"T_920a0_row3_col3\" class=\"data row3 col3\" >3</td>\n",
       "                        <td id=\"T_920a0_row3_col4\" class=\"data row3 col4\" >8</td>\n",
       "            </tr>\n",
       "            <tr>\n",
       "                        <th id=\"T_920a0_level0_row4\" class=\"row_heading level0 row4\" >4</th>\n",
       "                        <td id=\"T_920a0_row4_col0\" class=\"data row4 col0\" >Изменить цвет фона главной страницы, чтобы увеличить вовлеченность пользователей</td>\n",
       "                        <td id=\"T_920a0_row4_col1\" class=\"data row4 col1\" >3</td>\n",
       "                        <td id=\"T_920a0_row4_col2\" class=\"data row4 col2\" >1</td>\n",
       "                        <td id=\"T_920a0_row4_col3\" class=\"data row4 col3\" >1</td>\n",
       "                        <td id=\"T_920a0_row4_col4\" class=\"data row4 col4\" >1</td>\n",
       "            </tr>\n",
       "            <tr>\n",
       "                        <th id=\"T_920a0_level0_row5\" class=\"row_heading level0 row5\" >5</th>\n",
       "                        <td id=\"T_920a0_row5_col0\" class=\"data row5 col0\" >Добавить страницу отзывов клиентов о магазине, что позволит увеличить количество заказов</td>\n",
       "                        <td id=\"T_920a0_row5_col1\" class=\"data row5 col1\" >3</td>\n",
       "                        <td id=\"T_920a0_row5_col2\" class=\"data row5 col2\" >2</td>\n",
       "                        <td id=\"T_920a0_row5_col3\" class=\"data row5 col3\" >2</td>\n",
       "                        <td id=\"T_920a0_row5_col4\" class=\"data row5 col4\" >3</td>\n",
       "            </tr>\n",
       "            <tr>\n",
       "                        <th id=\"T_920a0_level0_row6\" class=\"row_heading level0 row6\" >6</th>\n",
       "                        <td id=\"T_920a0_row6_col0\" class=\"data row6 col0\" >Показать на главной странице баннеры с актуальными акциями и распродажами, чтобы увеличить конверсию</td>\n",
       "                        <td id=\"T_920a0_row6_col1\" class=\"data row6 col1\" >5</td>\n",
       "                        <td id=\"T_920a0_row6_col2\" class=\"data row6 col2\" >3</td>\n",
       "                        <td id=\"T_920a0_row6_col3\" class=\"data row6 col3\" >8</td>\n",
       "                        <td id=\"T_920a0_row6_col4\" class=\"data row6 col4\" >3</td>\n",
       "            </tr>\n",
       "            <tr>\n",
       "                        <th id=\"T_920a0_level0_row7\" class=\"row_heading level0 row7\" >7</th>\n",
       "                        <td id=\"T_920a0_row7_col0\" class=\"data row7 col0\" >Добавить форму подписки на все основные страницы, чтобы собрать базу клиентов для email-рассылок</td>\n",
       "                        <td id=\"T_920a0_row7_col1\" class=\"data row7 col1\" >10</td>\n",
       "                        <td id=\"T_920a0_row7_col2\" class=\"data row7 col2\" >7</td>\n",
       "                        <td id=\"T_920a0_row7_col3\" class=\"data row7 col3\" >8</td>\n",
       "                        <td id=\"T_920a0_row7_col4\" class=\"data row7 col4\" >5</td>\n",
       "            </tr>\n",
       "            <tr>\n",
       "                        <th id=\"T_920a0_level0_row8\" class=\"row_heading level0 row8\" >8</th>\n",
       "                        <td id=\"T_920a0_row8_col0\" class=\"data row8 col0\" >Запустить акцию, дающую скидку на товар в день рождения</td>\n",
       "                        <td id=\"T_920a0_row8_col1\" class=\"data row8 col1\" >1</td>\n",
       "                        <td id=\"T_920a0_row8_col2\" class=\"data row8 col2\" >9</td>\n",
       "                        <td id=\"T_920a0_row8_col3\" class=\"data row8 col3\" >9</td>\n",
       "                        <td id=\"T_920a0_row8_col4\" class=\"data row8 col4\" >5</td>\n",
       "            </tr>\n",
       "    </tbody></table>"
      ],
      "text/plain": [
       "<pandas.io.formats.style.Styler at 0x7f73ce807460>"
      ]
     },
     "execution_count": 2,
     "metadata": {},
     "output_type": "execute_result"
    }
   ],
   "source": [
    "data = pd.read_csv('/datasets/hypothesis.csv')\n",
    "\n",
    "data.style.set_properties(**{'text-align': 'left'})"
   ]
  },
  {
   "cell_type": "markdown",
   "metadata": {},
   "source": [
    "Применим фреймворк ICE для приоритизации гипотез."
   ]
  },
  {
   "cell_type": "code",
   "execution_count": 3,
   "metadata": {},
   "outputs": [
    {
     "name": "stdout",
     "output_type": "stream",
     "text": [
      "                                          Hypothesis    ICE\n",
      "8  Запустить акцию, дающую скидку на товар в день...  16.20\n",
      "0  Добавить два новых канала привлечения трафика,...  13.33\n",
      "7  Добавить форму подписки на все основные страни...  11.20\n",
      "6  Показать на главной странице баннеры с актуаль...   8.00\n",
      "2  Добавить блоки рекомендаций товаров на сайт ин...   7.00\n",
      "1  Запустить собственную службу доставки, что сок...   2.00\n",
      "5  Добавить страницу отзывов клиентов о магазине,...   1.33\n",
      "3  Изменить структура категорий, что увеличит кон...   1.12\n",
      "4  Изменить цвет фона главной страницы, чтобы уве...   1.00\n"
     ]
    }
   ],
   "source": [
    "data['ICE'] = np.round((data['Impact'] * data['Confidence'])/data['Efforts'], 2)\n",
    "print(data[['Hypothesis', 'ICE']].sort_values(by='ICE', ascending=False))"
   ]
  },
  {
   "cell_type": "markdown",
   "metadata": {},
   "source": [
    "Выделяются 3 лидирующие гипотезы: скидка на товар в день рождения, новые каналы привлечения трафика и добавление формы подписки на основные страницы. Можно отметить, что у каждой из данных гипотез высокий уровень уверенности и воздействия и средний уровень трудозатрат.\n",
    "\n",
    "Для сравнения результатов применим фреймворк RICE."
   ]
  },
  {
   "cell_type": "code",
   "execution_count": 4,
   "metadata": {},
   "outputs": [
    {
     "name": "stdout",
     "output_type": "stream",
     "text": [
      "                                          Hypothesis   RICE\n",
      "7  Добавить форму подписки на все основные страни...  112.0\n",
      "2  Добавить блоки рекомендаций товаров на сайт ин...   56.0\n",
      "0  Добавить два новых канала привлечения трафика,...   40.0\n",
      "6  Показать на главной странице баннеры с актуаль...   40.0\n",
      "8  Запустить акцию, дающую скидку на товар в день...   16.2\n",
      "3  Изменить структура категорий, что увеличит кон...    9.0\n",
      "1  Запустить собственную службу доставки, что сок...    4.0\n",
      "5  Добавить страницу отзывов клиентов о магазине,...    4.0\n",
      "4  Изменить цвет фона главной страницы, чтобы уве...    3.0\n"
     ]
    }
   ],
   "source": [
    "data['RICE'] = (data['Reach'] * data['Impact'] * data['Confidence'])/data['Efforts']\n",
    "print(data[['Hypothesis', 'RICE']].sort_values(by='RICE', ascending=False))"
   ]
  },
  {
   "cell_type": "markdown",
   "metadata": {},
   "source": [
    "Гипотеза, находившаяся на третьем месте по результатам предыдущего расчета, переместилась на первое со значительным отрывом. Гипотеза, которая была на первом месте, сейчас на 5-м. \n",
    "\n",
    "Это произошло из-за того, что охват гипотезы о добавлении формы подписки в 10 раз больше, чем у гипотезы о запуске акции со скидкой в день рождения. Охват гипотез о добавлении новых функций для всего сайта в целом по таблице выше, чем акции, которыми клиенты будут пользоваться время от времени.\n",
    "\n",
    "Можно отметить, что в топ-3 гипотез вошли одновременно гипотезы 7 и 0, т.к. у них высший бал по одному их факторов (гипотеза 7 - охват, гипотеза 0 - воздействие). Таким образом рекомендуется проводить тестирование данных гипотез в первую очередь."
   ]
  },
  {
   "cell_type": "markdown",
   "metadata": {},
   "source": [
    "## Анализ A/B-теста"
   ]
  },
  {
   "cell_type": "markdown",
   "metadata": {},
   "source": [
    "### Предобработка данных"
   ]
  },
  {
   "cell_type": "markdown",
   "metadata": {},
   "source": [
    "Изучим данные из файлов с результатами А/В теста."
   ]
  },
  {
   "cell_type": "code",
   "execution_count": 5,
   "metadata": {},
   "outputs": [],
   "source": [
    "orders = pd.read_csv('/datasets/orders.csv')\n",
    "visitors = pd.read_csv('/datasets/visitors.csv')"
   ]
  },
  {
   "cell_type": "code",
   "execution_count": 6,
   "metadata": {
    "scrolled": false
   },
   "outputs": [
    {
     "name": "stdout",
     "output_type": "stream",
     "text": [
      "<class 'pandas.core.frame.DataFrame'>\n",
      "RangeIndex: 1197 entries, 0 to 1196\n",
      "Data columns (total 5 columns):\n",
      " #   Column         Non-Null Count  Dtype \n",
      "---  ------         --------------  ----- \n",
      " 0   transactionId  1197 non-null   int64 \n",
      " 1   visitorId      1197 non-null   int64 \n",
      " 2   date           1197 non-null   object\n",
      " 3   revenue        1197 non-null   int64 \n",
      " 4   group          1197 non-null   object\n",
      "dtypes: int64(3), object(2)\n",
      "memory usage: 46.9+ KB\n",
      "None\n",
      "\n",
      "<class 'pandas.core.frame.DataFrame'>\n",
      "RangeIndex: 62 entries, 0 to 61\n",
      "Data columns (total 3 columns):\n",
      " #   Column    Non-Null Count  Dtype \n",
      "---  ------    --------------  ----- \n",
      " 0   date      62 non-null     object\n",
      " 1   group     62 non-null     object\n",
      " 2   visitors  62 non-null     int64 \n",
      "dtypes: int64(1), object(2)\n",
      "memory usage: 1.6+ KB\n",
      "None\n"
     ]
    }
   ],
   "source": [
    "print(orders.info())\n",
    "print()\n",
    "print(visitors.info())"
   ]
  },
  {
   "cell_type": "markdown",
   "metadata": {},
   "source": [
    "Проверим количество пропусков в таблицах."
   ]
  },
  {
   "cell_type": "code",
   "execution_count": 7,
   "metadata": {},
   "outputs": [
    {
     "name": "stdout",
     "output_type": "stream",
     "text": [
      "0 0\n"
     ]
    }
   ],
   "source": [
    "print(orders.duplicated().sum(), visitors.duplicated().sum())"
   ]
  },
  {
   "cell_type": "markdown",
   "metadata": {},
   "source": [
    "Пропуски отсутствуют."
   ]
  },
  {
   "cell_type": "markdown",
   "metadata": {},
   "source": [
    "В обеих таблицах дата сохранена в формате строки - ее необходимо перевести в формат datetime."
   ]
  },
  {
   "cell_type": "code",
   "execution_count": 8,
   "metadata": {},
   "outputs": [],
   "source": [
    "orders['date'] = orders['date'].map(\n",
    "    lambda x: dt.datetime.strptime(x, '%Y-%m-%d')\n",
    ")\n",
    "\n",
    "visitors['date'] = visitors['date'].map(\n",
    "    lambda x: dt.datetime.strptime(x, '%Y-%m-%d')\n",
    ")"
   ]
  },
  {
   "cell_type": "markdown",
   "metadata": {},
   "source": [
    "Проверим, есть ли в таблицы с заказами пользователи, которые попадают сразу в обе группы теста."
   ]
  },
  {
   "cell_type": "code",
   "execution_count": 9,
   "metadata": {
    "scrolled": true
   },
   "outputs": [
    {
     "name": "stdout",
     "output_type": "stream",
     "text": [
      "Количество пересекающихся пользователей: 89\n"
     ]
    }
   ],
   "source": [
    "a = list(orders.query('group == \"A\"')['visitorId'])\n",
    "b = list(orders.query('group == \"B\"')['visitorId'])\n",
    "result = [id for id in a if id in b]\n",
    "print('Количество пересекающихся пользователей: {:.0f}'.format(len(result)))"
   ]
  },
  {
   "cell_type": "markdown",
   "metadata": {},
   "source": [
    "Проверим, сколько строк в таблице с пользователями, которые могли видеть сразу 2 варианта теста."
   ]
  },
  {
   "cell_type": "code",
   "execution_count": 10,
   "metadata": {
    "scrolled": false
   },
   "outputs": [
    {
     "data": {
      "text/html": [
       "<div>\n",
       "<style scoped>\n",
       "    .dataframe tbody tr th:only-of-type {\n",
       "        vertical-align: middle;\n",
       "    }\n",
       "\n",
       "    .dataframe tbody tr th {\n",
       "        vertical-align: top;\n",
       "    }\n",
       "\n",
       "    .dataframe thead th {\n",
       "        text-align: right;\n",
       "    }\n",
       "</style>\n",
       "<table border=\"1\" class=\"dataframe\">\n",
       "  <thead>\n",
       "    <tr style=\"text-align: right;\">\n",
       "      <th></th>\n",
       "      <th>transactionId</th>\n",
       "      <th>visitorId</th>\n",
       "      <th>date</th>\n",
       "      <th>revenue</th>\n",
       "      <th>group</th>\n",
       "    </tr>\n",
       "  </thead>\n",
       "  <tbody>\n",
       "    <tr>\n",
       "      <th>2</th>\n",
       "      <td>2961555356</td>\n",
       "      <td>4069496402</td>\n",
       "      <td>2019-08-15</td>\n",
       "      <td>400</td>\n",
       "      <td>A</td>\n",
       "    </tr>\n",
       "    <tr>\n",
       "      <th>20</th>\n",
       "      <td>2904772834</td>\n",
       "      <td>963407295</td>\n",
       "      <td>2019-08-15</td>\n",
       "      <td>300</td>\n",
       "      <td>B</td>\n",
       "    </tr>\n",
       "    <tr>\n",
       "      <th>23</th>\n",
       "      <td>4252514150</td>\n",
       "      <td>351125977</td>\n",
       "      <td>2019-08-15</td>\n",
       "      <td>15185</td>\n",
       "      <td>B</td>\n",
       "    </tr>\n",
       "    <tr>\n",
       "      <th>24</th>\n",
       "      <td>1162046357</td>\n",
       "      <td>3234906277</td>\n",
       "      <td>2019-08-15</td>\n",
       "      <td>7555</td>\n",
       "      <td>B</td>\n",
       "    </tr>\n",
       "    <tr>\n",
       "      <th>26</th>\n",
       "      <td>2223239646</td>\n",
       "      <td>199603092</td>\n",
       "      <td>2019-08-15</td>\n",
       "      <td>3488</td>\n",
       "      <td>A</td>\n",
       "    </tr>\n",
       "    <tr>\n",
       "      <th>...</th>\n",
       "      <td>...</td>\n",
       "      <td>...</td>\n",
       "      <td>...</td>\n",
       "      <td>...</td>\n",
       "      <td>...</td>\n",
       "    </tr>\n",
       "    <tr>\n",
       "      <th>1182</th>\n",
       "      <td>2682156369</td>\n",
       "      <td>1668030113</td>\n",
       "      <td>2019-08-14</td>\n",
       "      <td>1290</td>\n",
       "      <td>B</td>\n",
       "    </tr>\n",
       "    <tr>\n",
       "      <th>1183</th>\n",
       "      <td>1458356232</td>\n",
       "      <td>963407295</td>\n",
       "      <td>2019-08-14</td>\n",
       "      <td>4940</td>\n",
       "      <td>A</td>\n",
       "    </tr>\n",
       "    <tr>\n",
       "      <th>1184</th>\n",
       "      <td>1329499668</td>\n",
       "      <td>2949041841</td>\n",
       "      <td>2019-08-14</td>\n",
       "      <td>10380</td>\n",
       "      <td>B</td>\n",
       "    </tr>\n",
       "    <tr>\n",
       "      <th>1189</th>\n",
       "      <td>4082620617</td>\n",
       "      <td>393266494</td>\n",
       "      <td>2019-08-14</td>\n",
       "      <td>31550</td>\n",
       "      <td>B</td>\n",
       "    </tr>\n",
       "    <tr>\n",
       "      <th>1195</th>\n",
       "      <td>1947021204</td>\n",
       "      <td>1614305549</td>\n",
       "      <td>2019-08-14</td>\n",
       "      <td>100</td>\n",
       "      <td>A</td>\n",
       "    </tr>\n",
       "  </tbody>\n",
       "</table>\n",
       "<p>181 rows × 5 columns</p>\n",
       "</div>"
      ],
      "text/plain": [
       "      transactionId   visitorId       date  revenue group\n",
       "2        2961555356  4069496402 2019-08-15      400     A\n",
       "20       2904772834   963407295 2019-08-15      300     B\n",
       "23       4252514150   351125977 2019-08-15    15185     B\n",
       "24       1162046357  3234906277 2019-08-15     7555     B\n",
       "26       2223239646   199603092 2019-08-15     3488     A\n",
       "...             ...         ...        ...      ...   ...\n",
       "1182     2682156369  1668030113 2019-08-14     1290     B\n",
       "1183     1458356232   963407295 2019-08-14     4940     A\n",
       "1184     1329499668  2949041841 2019-08-14    10380     B\n",
       "1189     4082620617   393266494 2019-08-14    31550     B\n",
       "1195     1947021204  1614305549 2019-08-14      100     A\n",
       "\n",
       "[181 rows x 5 columns]"
      ]
     },
     "execution_count": 10,
     "metadata": {},
     "output_type": "execute_result"
    }
   ],
   "source": [
    "orders.query('visitorId in @result')"
   ]
  },
  {
   "cell_type": "markdown",
   "metadata": {},
   "source": [
    "Необходимо решить, стоит ли удалять пользователей, которые видели оба варианта теста. В случае удаления, они пропадут только из таблицы с заказами. Поскольку таблица с визитами содержит уже агрегированные данные, то мы не сможем удалить из нее этих пользователей. В итоге оказывается, что выполняются не совсем корректные действия, которые будут снижать итоговую конверсию. \n",
    "\n",
    "Так как пользователей, которые видели оба варианта теста, немного, оставим их в таблице."
   ]
  },
  {
   "cell_type": "markdown",
   "metadata": {},
   "source": [
    "### Агрегация данных"
   ]
  },
  {
   "cell_type": "markdown",
   "metadata": {},
   "source": [
    "Для подсчета кумулятивных значений необходимо создать единую таблицу с агрегированными по дням данными о заказах и пользователях. Затем данные из этой таблицы можно будет разделить по группе теста и проанализировать."
   ]
  },
  {
   "cell_type": "code",
   "execution_count": 11,
   "metadata": {},
   "outputs": [],
   "source": [
    "datesGroups = orders[['date', 'group']].drop_duplicates()\n",
    "\n",
    "ordersAggregated = datesGroups.apply(\n",
    "    lambda x: orders[\n",
    "        np.logical_and(\n",
    "            orders['date'] <= x['date'], orders['group'] == x['group']\n",
    "        )\n",
    "    ].agg(\n",
    "        {\n",
    "            'date': 'max',\n",
    "            'group': 'max',\n",
    "            'transactionId': 'nunique',\n",
    "            'visitorId': 'nunique',\n",
    "            'revenue': 'sum',\n",
    "        }\n",
    "    ),\n",
    "    axis=1,\n",
    ").sort_values(by=['date', 'group'])\n",
    "\n",
    "visitorsAggregated = datesGroups.apply(\n",
    "    lambda x: visitors[\n",
    "        np.logical_and(\n",
    "            visitors['date'] <= x['date'], visitors['group'] == x['group']\n",
    "        )\n",
    "    ].agg({'date': 'max', 'group': 'max', 'visitors': 'sum'}),\n",
    "    axis=1,\n",
    ").sort_values(by=['date', 'group'])\n",
    "\n",
    "cumulativeData = ordersAggregated.merge(\n",
    "    visitorsAggregated, left_on=['date', 'group'], right_on=['date', 'group']\n",
    ")\n",
    "cumulativeData.columns = [\n",
    "    'date',\n",
    "    'group',\n",
    "    'orders',\n",
    "    'buyers',\n",
    "    'revenue',\n",
    "    'visitors',\n",
    "]"
   ]
  },
  {
   "cell_type": "code",
   "execution_count": 12,
   "metadata": {},
   "outputs": [
    {
     "data": {
      "text/html": [
       "<div>\n",
       "<style scoped>\n",
       "    .dataframe tbody tr th:only-of-type {\n",
       "        vertical-align: middle;\n",
       "    }\n",
       "\n",
       "    .dataframe tbody tr th {\n",
       "        vertical-align: top;\n",
       "    }\n",
       "\n",
       "    .dataframe thead th {\n",
       "        text-align: right;\n",
       "    }\n",
       "</style>\n",
       "<table border=\"1\" class=\"dataframe\">\n",
       "  <thead>\n",
       "    <tr style=\"text-align: right;\">\n",
       "      <th></th>\n",
       "      <th>date</th>\n",
       "      <th>group</th>\n",
       "      <th>orders</th>\n",
       "      <th>buyers</th>\n",
       "      <th>revenue</th>\n",
       "      <th>visitors</th>\n",
       "    </tr>\n",
       "  </thead>\n",
       "  <tbody>\n",
       "    <tr>\n",
       "      <th>0</th>\n",
       "      <td>2019-08-01</td>\n",
       "      <td>A</td>\n",
       "      <td>24</td>\n",
       "      <td>20</td>\n",
       "      <td>148579</td>\n",
       "      <td>719</td>\n",
       "    </tr>\n",
       "    <tr>\n",
       "      <th>1</th>\n",
       "      <td>2019-08-01</td>\n",
       "      <td>B</td>\n",
       "      <td>21</td>\n",
       "      <td>20</td>\n",
       "      <td>101217</td>\n",
       "      <td>713</td>\n",
       "    </tr>\n",
       "    <tr>\n",
       "      <th>2</th>\n",
       "      <td>2019-08-02</td>\n",
       "      <td>A</td>\n",
       "      <td>44</td>\n",
       "      <td>38</td>\n",
       "      <td>242401</td>\n",
       "      <td>1338</td>\n",
       "    </tr>\n",
       "    <tr>\n",
       "      <th>3</th>\n",
       "      <td>2019-08-02</td>\n",
       "      <td>B</td>\n",
       "      <td>45</td>\n",
       "      <td>43</td>\n",
       "      <td>266748</td>\n",
       "      <td>1294</td>\n",
       "    </tr>\n",
       "    <tr>\n",
       "      <th>4</th>\n",
       "      <td>2019-08-03</td>\n",
       "      <td>A</td>\n",
       "      <td>68</td>\n",
       "      <td>62</td>\n",
       "      <td>354874</td>\n",
       "      <td>1845</td>\n",
       "    </tr>\n",
       "  </tbody>\n",
       "</table>\n",
       "</div>"
      ],
      "text/plain": [
       "        date group  orders  buyers  revenue  visitors\n",
       "0 2019-08-01     A      24      20   148579       719\n",
       "1 2019-08-01     B      21      20   101217       713\n",
       "2 2019-08-02     A      44      38   242401      1338\n",
       "3 2019-08-02     B      45      43   266748      1294\n",
       "4 2019-08-03     A      68      62   354874      1845"
      ]
     },
     "execution_count": 12,
     "metadata": {},
     "output_type": "execute_result"
    }
   ],
   "source": [
    "cumulativeData.head(5)"
   ]
  },
  {
   "cell_type": "markdown",
   "metadata": {},
   "source": [
    "Проверим по колонке с датой, совпадают ли данные в единой таблице с исходными данными."
   ]
  },
  {
   "cell_type": "code",
   "execution_count": 13,
   "metadata": {},
   "outputs": [
    {
     "name": "stdout",
     "output_type": "stream",
     "text": [
      "Расхождения отсутствуют\n"
     ]
    }
   ],
   "source": [
    "if cumulativeData['date'].min() == orders['date'].min() and cumulativeData['date'].max() == orders['date'].max():\n",
    "    print('Расхождения отсутствуют')\n",
    "else:\n",
    "    print('Есть расхождения')"
   ]
  },
  {
   "cell_type": "markdown",
   "metadata": {},
   "source": [
    "### Сравнение кумулятивной выручки"
   ]
  },
  {
   "cell_type": "markdown",
   "metadata": {},
   "source": [
    "Разобьем информацию в общей таблице по группам и построим график."
   ]
  },
  {
   "cell_type": "code",
   "execution_count": 14,
   "metadata": {},
   "outputs": [
    {
     "data": {
      "image/png": "[encoded data removed]",
      "text/plain": [
       "<Figure size 720x432 with 1 Axes>"
      ]
     },
     "metadata": {
      "needs_background": "light"
     },
     "output_type": "display_data"
    }
   ],
   "source": [
    "cumulativeRevenueA = cumulativeData[cumulativeData['group']=='A'][['date','revenue', 'orders']]\n",
    "cumulativeRevenueB = cumulativeData[cumulativeData['group']=='B'][['date','revenue', 'orders']]\n",
    "plt.figure(figsize=(10, 6))\n",
    "plt.plot(cumulativeRevenueA['date'], cumulativeRevenueA['revenue'], label='A')\n",
    "plt.plot(cumulativeRevenueB['date'], cumulativeRevenueB['revenue'], label='B')\n",
    "plt.title('Кумулятивная выручка по дням')\n",
    "plt.xlabel('День теста')\n",
    "plt.ylabel('Сумма выручки')\n",
    "plt.xticks(rotation = 45)\n",
    "plt.legend() \n",
    "plt.show()"
   ]
  },
  {
   "cell_type": "markdown",
   "metadata": {},
   "source": [
    "В начале теста выручка росла относительно равномерно, но после 13 дня группа B опережает группу А. Также можно наблюдать резкий рост в 17 день теста. Это может говорить об аномально больших суммах заказов, либо об их большом количестве влияющих на результаты. Если это так, аномальные данные необходимо будет удалить."
   ]
  },
  {
   "cell_type": "markdown",
   "metadata": {},
   "source": [
    "### Сравнение кумулятивного среднего чека"
   ]
  },
  {
   "cell_type": "markdown",
   "metadata": {},
   "source": [
    "Для подсчета кумулятивного среднего чека кумулятивную выручку необходимо разделить на число заказов."
   ]
  },
  {
   "cell_type": "code",
   "execution_count": 15,
   "metadata": {},
   "outputs": [
    {
     "data": {
      "image/png": "[encoded data removed]",
      "text/plain": [
       "<Figure size 720x432 with 1 Axes>"
      ]
     },
     "metadata": {
      "needs_background": "light"
     },
     "output_type": "display_data"
    }
   ],
   "source": [
    "cumulativeRevenueA = cumulativeData[cumulativeData['group'] == 'A'][\n",
    "    ['date', 'revenue', 'orders']\n",
    "]\n",
    "cumulativeRevenueB = cumulativeData[cumulativeData['group'] == 'B'][\n",
    "    ['date', 'revenue', 'orders']\n",
    "]\n",
    "plt.figure(figsize=(10, 6))\n",
    "plt.plot(cumulativeRevenueA['date'], cumulativeRevenueA['revenue']/cumulativeRevenueA['orders'], label='A')\n",
    "plt.plot(cumulativeRevenueB['date'], cumulativeRevenueB['revenue']/cumulativeRevenueB['orders'], label='B')\n",
    "plt.xlabel('День теста')\n",
    "plt.ylabel('Сумма чека')\n",
    "plt.title('Кумулятивный средний чек по дням')\n",
    "plt.xticks(rotation = 45)\n",
    "plt.legend() \n",
    "plt.show()"
   ]
  },
  {
   "cell_type": "markdown",
   "metadata": {},
   "source": [
    "На графике видны сильные колебания кумулятивного значения среднего чека в начале теста, далее вновь резкий рост в 17 день, после чего графики начинают выравниваться. Вероятно требуется дополнительный анализ влияющих на результаты выбросов."
   ]
  },
  {
   "cell_type": "markdown",
   "metadata": {},
   "source": [
    "Построим график относительного различия для среднего чека группы В к группе А. Для этого объединим таблицы кумулятивной выручки по группам."
   ]
  },
  {
   "cell_type": "code",
   "execution_count": 16,
   "metadata": {},
   "outputs": [
    {
     "data": {
      "image/png": "[encoded data removed]",
      "text/plain": [
       "<Figure size 720x432 with 1 Axes>"
      ]
     },
     "metadata": {
      "needs_background": "light"
     },
     "output_type": "display_data"
    }
   ],
   "source": [
    "mergedCumulativeRevenue = cumulativeRevenueA.merge(\n",
    "    cumulativeRevenueB, left_on='date', right_on='date', how='left', suffixes=['A', 'B']\n",
    ")\n",
    "plt.figure(figsize=(10, 6))\n",
    "plt.plot(mergedCumulativeRevenue['date'],\n",
    "         (mergedCumulativeRevenue['revenueB']/mergedCumulativeRevenue['ordersB'])\n",
    "         /(mergedCumulativeRevenue['revenueA']/mergedCumulativeRevenue['ordersA'])-1)\n",
    "\n",
    "plt.axhline(y=0, color='black', linestyle='--')\n",
    "plt.xlabel('День теста')\n",
    "plt.ylabel('Соотношение В к А')\n",
    "plt.title('Относительное различие для среднего чека группы В к группе А')\n",
    "plt.xticks(rotation = 45)\n",
    "plt.show() "
   ]
  },
  {
   "cell_type": "markdown",
   "metadata": {},
   "source": [
    "Результаты теста значительно и резко меняются в несколько дат: 4, 6, 8, отмеченный ранее 17. Вероятно в эти даты имели место аномальные заказы."
   ]
  },
  {
   "cell_type": "markdown",
   "metadata": {},
   "source": [
    "### Сравнение кумулятивной конверсии"
   ]
  },
  {
   "cell_type": "markdown",
   "metadata": {},
   "source": [
    "Кумулятивную конверсию можно проанализировать аналогично тому, как это было сделано для суммы чеков."
   ]
  },
  {
   "cell_type": "code",
   "execution_count": 17,
   "metadata": {},
   "outputs": [
    {
     "data": {
      "image/png": "[encoded data removed]",
      "text/plain": [
       "<Figure size 720x432 with 1 Axes>"
      ]
     },
     "metadata": {
      "needs_background": "light"
     },
     "output_type": "display_data"
    }
   ],
   "source": [
    "cumulativeData['conversion'] = cumulativeData['orders']/cumulativeData['visitors']\n",
    "\n",
    "cumulativeDataA = cumulativeData[cumulativeData['group']=='A']\n",
    "\n",
    "cumulativeDataB = cumulativeData[cumulativeData['group']=='B']\n",
    "\n",
    "plt.figure(figsize=(10, 6))\n",
    "plt.plot(cumulativeDataA['date'], cumulativeDataA['conversion'], label='A')\n",
    "plt.plot(cumulativeDataB['date'], cumulativeDataB['conversion'], label='B')\n",
    "plt.legend()\n",
    "plt.xlabel('День теста')\n",
    "plt.ylabel('Конверсия')\n",
    "plt.title('Кумулятивная конверсия по дням')\n",
    "plt.xticks(rotation = 45)\n",
    "plt.axis([dt.datetime(2019, 8, 1), dt.datetime(2019, 9, 1), 0, 0.05])\n",
    "plt.show()"
   ]
  },
  {
   "cell_type": "markdown",
   "metadata": {},
   "source": [
    "Первые несколько дней можно видеть колебания графиков. После 5 дня конверсия группы B обогнала конверсию группы А. К концу теста оба графика зафиксировались, причем значение группы B стабильно больше группы A.\n",
    "\n",
    "Построим график относительного различия кумулятивных конверсий. Для этого, как и в случае с чеками, объединим таблицы с кумулятивными конверсиями по группам."
   ]
  },
  {
   "cell_type": "code",
   "execution_count": 18,
   "metadata": {},
   "outputs": [
    {
     "data": {
      "image/png": "[encoded data removed]",
      "text/plain": [
       "<Figure size 720x432 with 1 Axes>"
      ]
     },
     "metadata": {
      "needs_background": "light"
     },
     "output_type": "display_data"
    }
   ],
   "source": [
    "mergedCumulativeConversions = cumulativeDataA[['date','conversion']].merge(cumulativeDataB[['date','conversion']],\n",
    "                                                                           left_on='date', right_on='date', how='left',\n",
    "                                                                           suffixes=['A', 'B'])\n",
    "plt.figure(figsize=(10, 6))\n",
    "plt.plot(mergedCumulativeConversions['date'],\n",
    "         mergedCumulativeConversions['conversionB']/mergedCumulativeConversions['conversionA']-1)\n",
    "plt.xlabel('День теста')\n",
    "plt.ylabel('Конверсия группы В к А')\n",
    "plt.title('Относительный прирост конверсии группы B относительно группы А')\n",
    "plt.axhline(y=0, color='black', linestyle='--')\n",
    "plt.axhline(y=0.2, color='grey', linestyle='--')\n",
    "plt.xticks(rotation = 45)\n",
    "plt.show()"
   ]
  },
  {
   "cell_type": "markdown",
   "metadata": {},
   "source": [
    "Судя по графику, отношение по конверсии еще не установилось: видны сильные колебания, с начала теста конверсия успела 2 раза резко вырасти, затем упасть, и в настоящее время снова растет."
   ]
  },
  {
   "cell_type": "markdown",
   "metadata": {},
   "source": [
    "### Анализ выбросов в данных о количестве заказов"
   ]
  },
  {
   "cell_type": "markdown",
   "metadata": {},
   "source": [
    "Для изучения выбросов подсчитаем число заказов каждого пользователя."
   ]
  },
  {
   "cell_type": "code",
   "execution_count": 19,
   "metadata": {},
   "outputs": [
    {
     "name": "stdout",
     "output_type": "stream",
     "text": [
      "       visitorId  orders\n",
      "1023  4256040402      11\n",
      "591   2458001652      11\n",
      "569   2378935119       9\n",
      "487   2038680547       8\n",
      "44     199603092       5\n"
     ]
    }
   ],
   "source": [
    "ordersByUsers = (\n",
    "    orders.groupby('visitorId', as_index=False)\n",
    "    .agg({'transactionId': 'nunique'})\n",
    ")\n",
    "\n",
    "ordersByUsers.columns = ['visitorId', 'orders']\n",
    "\n",
    "print(ordersByUsers.sort_values(by='orders', ascending=False).head())"
   ]
  },
  {
   "cell_type": "markdown",
   "metadata": {},
   "source": [
    "Теперь можно построить точечный график количества заказов по пользователям."
   ]
  },
  {
   "cell_type": "code",
   "execution_count": 20,
   "metadata": {},
   "outputs": [
    {
     "data": {
      "image/png": "[encoded data removed]",
      "text/plain": [
       "<Figure size 720x432 with 1 Axes>"
      ]
     },
     "metadata": {
      "needs_background": "light"
     },
     "output_type": "display_data"
    }
   ],
   "source": [
    "x_values = pd.Series(range(0, len(ordersByUsers)))\n",
    "plt.figure(figsize=(10, 6))\n",
    "plt.scatter(x_values, ordersByUsers['orders'])\n",
    "plt.ylabel('Количество заказов')\n",
    "plt.title('Диаграмма распределения количества заказов')\n",
    "plt.show()"
   ]
  },
  {
   "cell_type": "markdown",
   "metadata": {},
   "source": [
    "На диаграмме видно то, что пользователи, сделавшие больше двух заказов - единичные случаи. \n",
    "\n",
    "Посчитаем выборочные перцентили, чтобы выяснить, какое количество заказов на пользователя можно считать аномалиями и отсеять крайние значения."
   ]
  },
  {
   "cell_type": "code",
   "execution_count": 21,
   "metadata": {},
   "outputs": [
    {
     "name": "stdout",
     "output_type": "stream",
     "text": [
      "[1. 2. 4.]\n"
     ]
    }
   ],
   "source": [
    "print(np.percentile(ordersByUsers['orders'], [90, 95, 99]))"
   ]
  },
  {
   "cell_type": "markdown",
   "metadata": {},
   "source": [
    "Не более 1% пользователей совершали больше 2 заказов."
   ]
  },
  {
   "cell_type": "markdown",
   "metadata": {},
   "source": [
    "### Анализ выбросов в данных о стоимости заказов"
   ]
  },
  {
   "cell_type": "markdown",
   "metadata": {},
   "source": [
    "Построим диаграмму данных о стоимости заказов."
   ]
  },
  {
   "cell_type": "code",
   "execution_count": 22,
   "metadata": {
    "scrolled": false
   },
   "outputs": [
    {
     "data": {
      "image/png": "[encoded data removed]",
      "text/plain": [
       "<Figure size 720x432 with 1 Axes>"
      ]
     },
     "metadata": {
      "needs_background": "light"
     },
     "output_type": "display_data"
    }
   ],
   "source": [
    "x_values = pd.Series(range(0, len(orders['revenue'])))\n",
    "plt.figure(figsize=(10, 6))\n",
    "plt.scatter(x_values, orders['revenue'])\n",
    "plt.ylabel('Сумма чека')\n",
    "plt.title('Диаграмма распределения стоимости заказов')\n",
    "plt.show()"
   ]
  },
  {
   "cell_type": "markdown",
   "metadata": {},
   "source": [
    "Чтобы изучить данные, не являющиеся выбросами, добавим еще один график для стандартных сумм чека."
   ]
  },
  {
   "cell_type": "code",
   "execution_count": 23,
   "metadata": {},
   "outputs": [
    {
     "data": {
      "image/png": "[encoded data removed]",
      "text/plain": [
       "<Figure size 720x432 with 1 Axes>"
      ]
     },
     "metadata": {
      "needs_background": "light"
     },
     "output_type": "display_data"
    }
   ],
   "source": [
    "normal_orders = orders.loc[orders['revenue']<100000]\n",
    "x_values = pd.Series(range(0, len(normal_orders['revenue'])))\n",
    "plt.figure(figsize=(10, 6))\n",
    "plt.scatter(x_values, normal_orders['revenue'])\n",
    "plt.ylabel('Сумма чека')\n",
    "plt.title('Диаграмма распределения стоимости заказов')\n",
    "plt.show()"
   ]
  },
  {
   "cell_type": "markdown",
   "metadata": {},
   "source": [
    "Большинство чеков сосредоточены в диапазоне до 20000. Чеки больше 80000 уже редкость."
   ]
  },
  {
   "cell_type": "markdown",
   "metadata": {},
   "source": [
    "На полученной диаграмме можно наблюдать 2 значительных выброса: один на сумме в 200000, второй - 1200000. Из-за большого расхождения с остальными заказами они влияют на результат и должны быть отсеяны.\n",
    "\n",
    "Выберем границу для отсеивания аномальных заказов."
   ]
  },
  {
   "cell_type": "code",
   "execution_count": 24,
   "metadata": {},
   "outputs": [
    {
     "name": "stdout",
     "output_type": "stream",
     "text": [
      "[18168.  28000.  58233.2]\n"
     ]
    }
   ],
   "source": [
    "print(np.percentile(orders['revenue'], [90, 95, 99]))"
   ]
  },
  {
   "cell_type": "markdown",
   "metadata": {},
   "source": [
    "Не более 5% заказов были дороже 28000. Все, что свыше это суммы, может быть отсеяно."
   ]
  },
  {
   "cell_type": "markdown",
   "metadata": {},
   "source": [
    "### Подсчет статистической значимости в различиях между группами теста по \"сырым\" данным"
   ]
  },
  {
   "cell_type": "markdown",
   "metadata": {},
   "source": [
    "Для подсчета статистической значимости в различиях по данным теста необходимо **создать сводную таблицу**, на этот раз сгруппировав данные по дате."
   ]
  },
  {
   "cell_type": "markdown",
   "metadata": {},
   "source": [
    "Создадим переменные с подсчетом числа заказов для пользователей, совершивших хотя бы 1 покупку."
   ]
  },
  {
   "cell_type": "code",
   "execution_count": 25,
   "metadata": {},
   "outputs": [
    {
     "name": "stdout",
     "output_type": "stream",
     "text": [
      "        date  ordersPerDateA  revenuePerDateA  ordersPerDateB  \\\n",
      "0 2019-08-01              24           148579              21   \n",
      "1 2019-08-02              20            93822              24   \n",
      "2 2019-08-03              24           112473              16   \n",
      "3 2019-08-04              16            70825              17   \n",
      "4 2019-08-05              25           124218              23   \n",
      "\n",
      "   revenuePerDateB  visitorsPerDateA  visitorsPerDateB  \n",
      "0           101217               719               713  \n",
      "1           165531               619               581  \n",
      "2           114248               507               509  \n",
      "3           108571               717               770  \n",
      "4            92428               756               707  \n"
     ]
    }
   ],
   "source": [
    "visitorsADaily = visitors[visitors['group'] == 'A'][['date', 'visitors']]\n",
    "visitorsADaily.columns = ['date', 'visitorsPerDateA']\n",
    "\n",
    "visitorsBDaily = visitors[visitors['group'] == 'B'][['date', 'visitors']]\n",
    "visitorsBDaily.columns = ['date', 'visitorsPerDateB']\n",
    "\n",
    "ordersADaily = (\n",
    "    orders[orders['group'] == 'A'][['date', 'transactionId', 'visitorId', 'revenue']]\n",
    "    .groupby('date', as_index=False)\n",
    "    .agg({'transactionId': pd.Series.nunique, 'revenue': 'sum'})\n",
    ")\n",
    "ordersADaily.columns = ['date', 'ordersPerDateA', 'revenuePerDateA']\n",
    "\n",
    "ordersBDaily = (\n",
    "    orders[orders['group'] == 'B'][['date', 'transactionId', 'visitorId', 'revenue']]\n",
    "    .groupby('date', as_index=False)\n",
    "    .agg({'transactionId': pd.Series.nunique, 'revenue': 'sum'})\n",
    ")\n",
    "ordersBDaily.columns = ['date', 'ordersPerDateB', 'revenuePerDateB']\n",
    "\n",
    "data = (\n",
    "    ordersADaily.merge(\n",
    "        ordersBDaily, left_on='date', right_on='date', how='left'\n",
    "    )\n",
    "    .merge(visitorsADaily, left_on='date', right_on='date', how='left')\n",
    "    .merge(visitorsBDaily, left_on='date', right_on='date', how='left')\n",
    ")\n",
    "\n",
    "print(data.head(5))"
   ]
  },
  {
   "cell_type": "code",
   "execution_count": 26,
   "metadata": {},
   "outputs": [],
   "source": [
    "ordersByUsersA = (\n",
    "    orders[orders['group'] == 'A']\n",
    "    .groupby('visitorId', as_index=False)\n",
    "    .agg({'transactionId': pd.Series.nunique})\n",
    ")\n",
    "ordersByUsersA.columns = ['userId', 'orders']\n",
    "\n",
    "ordersByUsersB = (\n",
    "    orders[orders['group'] == 'B']\n",
    "    .groupby('visitorId', as_index=False)\n",
    "    .agg({'transactionId': pd.Series.nunique})\n",
    ")\n",
    "ordersByUsersB.columns = ['userId', 'orders'] "
   ]
  },
  {
   "cell_type": "markdown",
   "metadata": {},
   "source": [
    "Теперь создадим переменные, в которых пользователям с заказами соответсвует число заказов, а пользователям без заказов - нули."
   ]
  },
  {
   "cell_type": "code",
   "execution_count": 27,
   "metadata": {},
   "outputs": [],
   "source": [
    "sampleA = pd.concat([ordersByUsersA['orders'],\n",
    "                     pd.Series(0, index=np.arange(data['visitorsPerDateA'].sum() - len(ordersByUsersA['orders'])),\n",
    "                               name='orders')],axis=0)\n",
    "\n",
    "sampleB = pd.concat([ordersByUsersB['orders'],\n",
    "                     pd.Series(0, index=np.arange(data['visitorsPerDateB'].sum() - len(ordersByUsersB['orders'])),\n",
    "                               name='orders')],axis=0)"
   ]
  },
  {
   "cell_type": "markdown",
   "metadata": {},
   "source": [
    "Сформулируем гипотезы:\n",
    "* Н0 - статистически значимых различий между конверсией группы А и конверсией группы В нет.\n",
    "* Н1 - имеются статистически значимые различия между конверсией группы А и конверсией группы В.\n",
    "\n",
    "Подсчитаем **статистическую значимость различия конверсии между группами** и относительный прирост конверсии группы B относительно группы А.\n",
    "\n",
    "Возьмем значение alpha равным 0.05. Поскольку здесь и далее сравниваются 2 выборки по уровню количественно измеренных признаков (средний чек и конверсия), а в данных имеются большие выбросы, для подсчета p-value применяться будет U-критерий Манна-Уитни."
   ]
  },
  {
   "cell_type": "code",
   "execution_count": 28,
   "metadata": {},
   "outputs": [
    {
     "name": "stdout",
     "output_type": "stream",
     "text": [
      "p-value: 0.017\n",
      "соотношение конверсии группы В к группе А: 0.138\n",
      "Отвергаем нулевую гипотезу: разница статистически значима\n"
     ]
    }
   ],
   "source": [
    "alpha = 0.05\n",
    "p_value = stats.mannwhitneyu(sampleA, sampleB)[1]\n",
    "print('p-value:', \"{0:.3f}\".format(p_value))\n",
    "print('соотношение конверсии группы В к группе А:', \"{0:.3f}\".format(sampleB.mean() / sampleA.mean() - 1))\n",
    "if p_value < alpha:\n",
    "    print('Отвергаем нулевую гипотезу: разница статистически значима')\n",
    "else:\n",
    "    print('Не получилось отвергнуть нулевую гипотезу, вывод о различии сделать нельзя')"
   ]
  },
  {
   "cell_type": "markdown",
   "metadata": {},
   "source": [
    "Первое число - p-value - меньше 0.05. Это позволяет отвергнуть нулевую гипотезу об отсутствии различий между конверсией двух групп, однако поскольку данные еще не очищены от выбросов, выводы делать рано.\n",
    "\n",
    "Прирост конверсии группы В составляет 13,8%."
   ]
  },
  {
   "cell_type": "markdown",
   "metadata": {},
   "source": [
    "Теперь посчитаем **статистическую значимость в чеке между двумя группами**. Сформулируем гипотезы:\n",
    "* Н0 - статистически значимые различия в среднем чеке между группами отсутствуют\n",
    "* Н1 - имеются статистически значимые различия в среднем чеке между группами\n",
    "\n",
    "Возьмем значение alpha равным 0.05. Средний чек также является количественным критерием, для подсчета p-value применяться будет U-критерий Манна-Уитни."
   ]
  },
  {
   "cell_type": "code",
   "execution_count": 29,
   "metadata": {},
   "outputs": [
    {
     "name": "stdout",
     "output_type": "stream",
     "text": [
      "p-value: 0.729\n",
      "соотношение средних чеков группы В к группе А: 0.259\n",
      "Не получилось отвергнуть нулевую гипотезу, вывод о различии сделать нельзя\n"
     ]
    }
   ],
   "source": [
    "alpha = 0.05\n",
    "p_value = stats.mannwhitneyu(\n",
    "    orders[orders['group']=='A']['revenue'],\n",
    "    orders[orders['group']=='B']['revenue'])[1]\n",
    "print('p-value:', '{0:.3f}'.format(p_value))\n",
    "print('соотношение средних чеков группы В к группе А:', '{0:.3f}'.format(orders[orders['group']=='B']['revenue'].mean()\n",
    "                       /orders[orders['group']=='A']['revenue'].mean()-1)) \n",
    "if p_value < alpha:\n",
    "    print('Отвергаем нулевую гипотезу: разница статистически значима')\n",
    "else:\n",
    "    print('Не получилось отвергнуть нулевую гипотезу, вывод о различии сделать нельзя')"
   ]
  },
  {
   "cell_type": "markdown",
   "metadata": {},
   "source": [
    "В данном случае p-value значительно больше 0.05, следовательно нет причин отвергать нулевую гипотезу. \n",
    "При подсчете среднего без учета статистических данных результат оказывается в пользу группы В."
   ]
  },
  {
   "cell_type": "markdown",
   "metadata": {},
   "source": [
    "### Подсчет статистической значимости в различиях между группами теста по очищенным данным"
   ]
  },
  {
   "cell_type": "markdown",
   "metadata": {},
   "source": [
    "По результатам сделанных ранее расчетов перцентилей объединим пользователей с наибольшим числом заказов и пользователей с дорогими заказами в таблице abnormalUsers. "
   ]
  },
  {
   "cell_type": "code",
   "execution_count": 30,
   "metadata": {},
   "outputs": [
    {
     "name": "stdout",
     "output_type": "stream",
     "text": [
      "1099    148427295\n",
      "18      199603092\n",
      "928     204675465\n",
      "23      237748145\n",
      "37      249864742\n",
      "dtype: int64\n",
      "74\n"
     ]
    }
   ],
   "source": [
    "usersWithManyOrders = pd.concat(\n",
    "    [\n",
    "        ordersByUsersA[ordersByUsersA['orders'] > np.percentile(ordersByUsers['orders'], [90, 95, 99])[1]]['userId'],\n",
    "        ordersByUsersB[ordersByUsersB['orders'] > np.percentile(ordersByUsers['orders'], [90, 95, 99])[1]]['userId'],\n",
    "    ],\n",
    "    axis=0,\n",
    ")\n",
    "\n",
    "usersWithExpensiveOrders = orders[orders['revenue'] > np.percentile(orders['revenue'], [90, 95, 99])[1]]['visitorId']\n",
    "\n",
    "abnormalUsers = (\n",
    "    pd.concat([usersWithManyOrders, usersWithExpensiveOrders], axis=0)\n",
    "    .drop_duplicates()\n",
    "    .sort_values()\n",
    ")\n",
    "print(abnormalUsers.head(5))\n",
    "print(abnormalUsers.shape[0]) "
   ]
  },
  {
   "cell_type": "markdown",
   "metadata": {},
   "source": [
    "Получилось 68 аномальных пользователей. Необходимо удалить их данные и сравнить результаты теста. Подготовим выборки по группам с очищенными данными."
   ]
  },
  {
   "cell_type": "code",
   "execution_count": 31,
   "metadata": {},
   "outputs": [],
   "source": [
    "sampleAFiltered = pd.concat(\n",
    "    [\n",
    "        ordersByUsersA[\n",
    "            np.logical_not(ordersByUsersA['userId'].isin(abnormalUsers))\n",
    "        ]['orders'],\n",
    "        pd.Series(\n",
    "            0,\n",
    "            index=np.arange(\n",
    "                data['visitorsPerDateA'].sum() - len(ordersByUsersA['orders'])\n",
    "            ),\n",
    "            name='orders',\n",
    "        ),\n",
    "    ],\n",
    "    axis=0,\n",
    ")\n",
    "\n",
    "sampleBFiltered = pd.concat(\n",
    "    [\n",
    "        ordersByUsersB[\n",
    "            np.logical_not(ordersByUsersB['userId'].isin(abnormalUsers))\n",
    "        ]['orders'],\n",
    "        pd.Series(\n",
    "            0,\n",
    "            index=np.arange(\n",
    "                data['visitorsPerDateB'].sum() - len(ordersByUsersB['orders'])\n",
    "            ),\n",
    "            name='orders',\n",
    "        ),\n",
    "    ],\n",
    "    axis=0,\n",
    ")"
   ]
  },
  {
   "cell_type": "markdown",
   "metadata": {},
   "source": [
    "Сначала рассчитаем статистическую значимость и прирост группы В для **конверсии**. alpha, как и ранее, возьмем 0.05 и применим критерий Манна-Уитни."
   ]
  },
  {
   "cell_type": "code",
   "execution_count": 32,
   "metadata": {},
   "outputs": [
    {
     "name": "stdout",
     "output_type": "stream",
     "text": [
      "p-value: 0.013\n",
      "соотношение конверсии группы В к группе А: 0.173\n",
      "Отвергаем нулевую гипотезу: разница статистически значима\n"
     ]
    }
   ],
   "source": [
    "alpha = 0.05\n",
    "p_value = stats.mannwhitneyu(sampleAFiltered, sampleBFiltered)[1]\n",
    "print('p-value:', '{0:.3f}'.format(p_value))\n",
    "print('соотношение конверсии группы В к группе А:', '{0:.3f}'.format(sampleBFiltered.mean()/sampleAFiltered.mean()-1)) \n",
    "if stats.mannwhitneyu(sampleAFiltered, sampleBFiltered)[1] < alpha:\n",
    "    print('Отвергаем нулевую гипотезу: разница статистически значима')\n",
    "else:\n",
    "    print('Не получилось отвергнуть нулевую гипотезу, вывод о различии сделать нельзя')"
   ]
  },
  {
   "cell_type": "markdown",
   "metadata": {},
   "source": [
    "p-value также остался меньше 0.05, что позволяет отвергнуть нулевую гипотезу об отсутствии различий между конверсией группы А и группы В.\n",
    "\n",
    "Прирост конверсии группы В увеличился с 13% до 17%."
   ]
  },
  {
   "cell_type": "markdown",
   "metadata": {},
   "source": [
    "Теперь рассчитаем статистическую значимость и прирост группы В для **среднего чека**. Возьмем alpha, равное 0.05 и применим критерий Манна-Уитни."
   ]
  },
  {
   "cell_type": "code",
   "execution_count": 33,
   "metadata": {},
   "outputs": [
    {
     "name": "stdout",
     "output_type": "stream",
     "text": [
      "p-value: 0.738\n",
      "соотношение средних чеков группы В к группе А: -0.020\n",
      "Не получилось отвергнуть нулевую гипотезу, вывод о различии сделать нельзя\n"
     ]
    }
   ],
   "source": [
    "alpha = 0.05\n",
    "p_value = stats.mannwhitneyu(\n",
    "            orders[\n",
    "                np.logical_and(\n",
    "                    orders['group'] == 'A',\n",
    "                    np.logical_not(orders['visitorId'].isin(abnormalUsers)),\n",
    "                )\n",
    "            ]['revenue'],\n",
    "            orders[\n",
    "                np.logical_and(\n",
    "                    orders['group'] == 'B',\n",
    "                    np.logical_not(orders['visitorId'].isin(abnormalUsers)),\n",
    "                )\n",
    "            ]['revenue'],\n",
    "        )[1]\n",
    "print('p-value:', '{0:.3f}'.format(p_value))\n",
    "\n",
    "print('соотношение средних чеков группы В к группе А:',\n",
    "    \"{0:.3f}\".format(\n",
    "        orders[\n",
    "            np.logical_and(\n",
    "                orders['group'] == 'B',\n",
    "                np.logical_not(orders['visitorId'].isin(abnormalUsers)),\n",
    "            )\n",
    "        ]['revenue'].mean()\n",
    "        / orders[\n",
    "            np.logical_and(\n",
    "                orders['group'] == 'A',\n",
    "                np.logical_not(orders['visitorId'].isin(abnormalUsers)),\n",
    "            )\n",
    "        ]['revenue'].mean()\n",
    "        - 1\n",
    "    )\n",
    ")\n",
    "\n",
    "if p_value < alpha:\n",
    "    print('Отвергаем нулевую гипотезу: разница статистически значима')\n",
    "else:\n",
    "    print('Не получилось отвергнуть нулевую гипотезу, вывод о различии сделать нельзя')"
   ]
  },
  {
   "cell_type": "markdown",
   "metadata": {},
   "source": [
    "p-value остался значительно больше 0.05, в то же время значительно просело соотношение средних чеков. Хотя расчеты не позволяют отвергнуть нулевую гипотезу, можно сделать вывод о том, что выбросы влияли на средний чек в неочищенных данных группы В."
   ]
  },
  {
   "cell_type": "markdown",
   "metadata": {},
   "source": [
    "### Выводы по результатам теста."
   ]
  },
  {
   "cell_type": "markdown",
   "metadata": {},
   "source": [
    "Имеющиеся факты:\n",
    "* Имеются статистически значимые различия по конверсии между группами и по \"сырым\" данным, и по данным, очищенным от аномалий;\n",
    "* Нет статистически значимого различия по среднему чеку между группами как по \"сырым\" данным, так и по данным, очищенным от аномалий;\n",
    "* На графиках различия конверсии и средних чеков между группами в настоящее время результаты группы В лучше, чем у группы А, однако графики подвержены сильным колебаниям."
   ]
  },
  {
   "cell_type": "markdown",
   "metadata": {},
   "source": [
    "В пользу завершения теста говорят следующие факты: \n",
    "* чек между группами не различается, но конверсия группы В статистически значимо выше, чем конверсия группы А (прирост конверсии пересек нулевое значение уже на 5 день теста, и далее оставался выше 0) - можно сделать вывод, что группа В является более успешной\n",
    "* 30 дней - достаточный срок для получения результатов изменения конверсии и достаточно длительный срок на проведение теста для бизнеса\n",
    "* поскольку целью теста является повышение выручки, то за счет повысившейся конверсии при неизменном среднем чеке она вырастет\n",
    "\n",
    "Если же целью компании является также повышение среднего чека, желательно проверить другие варианты его увеличения. Возможно они дадут более стабильный результат."
   ]
  },
  {
   "cell_type": "markdown",
   "metadata": {},
   "source": [
    "Также можно дать рекомендацию относительно сбора результатов теста. Большое количество пользователей, совершившие много покупок, попало сразу в обе группы. Такая ошибка может критически сдвинуть результаты расчетов и сделать исследование нерелевантным."
   ]
  }
 ],
 "metadata": {
  "ExecuteTimeLog": [
   {
    "duration": 51,
    "start_time": "2022-06-04T04:36:11.525Z"
   },
   {
    "duration": 379,
    "start_time": "2022-06-04T04:36:14.757Z"
   },
   {
    "duration": 3,
    "start_time": "2022-06-04T04:36:21.605Z"
   },
   {
    "duration": 79,
    "start_time": "2022-06-04T04:36:21.609Z"
   },
   {
    "duration": 29,
    "start_time": "2022-06-04T04:36:36.635Z"
   },
   {
    "duration": 357,
    "start_time": "2022-06-04T04:36:52.685Z"
   },
   {
    "duration": 30,
    "start_time": "2022-06-04T04:36:53.044Z"
   },
   {
    "duration": 421,
    "start_time": "2022-06-04T04:37:19.134Z"
   },
   {
    "duration": 31,
    "start_time": "2022-06-04T04:37:36.526Z"
   },
   {
    "duration": 30,
    "start_time": "2022-06-04T04:38:03.731Z"
   },
   {
    "duration": 4,
    "start_time": "2022-06-04T04:38:07.184Z"
   },
   {
    "duration": 9,
    "start_time": "2022-06-04T04:38:11.260Z"
   },
   {
    "duration": 7,
    "start_time": "2022-06-04T04:41:06.083Z"
   },
   {
    "duration": 4,
    "start_time": "2022-06-04T04:41:22.530Z"
   },
   {
    "duration": 88,
    "start_time": "2022-06-04T04:55:53.703Z"
   },
   {
    "duration": 7,
    "start_time": "2022-06-04T04:57:01.166Z"
   },
   {
    "duration": 2,
    "start_time": "2022-06-04T04:57:05.602Z"
   },
   {
    "duration": 7,
    "start_time": "2022-06-04T04:57:07.901Z"
   },
   {
    "duration": 9,
    "start_time": "2022-06-04T05:01:58.035Z"
   },
   {
    "duration": 450,
    "start_time": "2022-06-04T05:09:25.953Z"
   },
   {
    "duration": 36,
    "start_time": "2022-06-04T05:09:26.405Z"
   },
   {
    "duration": 10,
    "start_time": "2022-06-04T05:09:26.443Z"
   },
   {
    "duration": 18,
    "start_time": "2022-06-04T05:09:26.455Z"
   },
   {
    "duration": 13,
    "start_time": "2022-06-04T05:09:26.475Z"
   },
   {
    "duration": 439,
    "start_time": "2022-06-04T07:16:22.310Z"
   },
   {
    "duration": 98,
    "start_time": "2022-06-04T07:20:06.782Z"
   },
   {
    "duration": 156,
    "start_time": "2022-06-04T07:20:15.217Z"
   },
   {
    "duration": 18,
    "start_time": "2022-06-04T07:20:40.844Z"
   },
   {
    "duration": 18,
    "start_time": "2022-06-04T07:21:11.592Z"
   },
   {
    "duration": 52,
    "start_time": "2022-06-04T07:22:01.156Z"
   },
   {
    "duration": 16,
    "start_time": "2022-06-04T07:22:18.579Z"
   },
   {
    "duration": 23,
    "start_time": "2022-06-04T07:22:59.609Z"
   },
   {
    "duration": 17,
    "start_time": "2022-06-04T07:24:00.202Z"
   },
   {
    "duration": 17,
    "start_time": "2022-06-04T07:24:44.648Z"
   },
   {
    "duration": 204,
    "start_time": "2022-06-04T07:25:56.506Z"
   },
   {
    "duration": 126,
    "start_time": "2022-06-04T07:26:18.593Z"
   },
   {
    "duration": 4,
    "start_time": "2022-06-04T07:26:31.887Z"
   },
   {
    "duration": 110,
    "start_time": "2022-06-04T07:26:31.893Z"
   },
   {
    "duration": 5,
    "start_time": "2022-06-04T07:26:32.005Z"
   },
   {
    "duration": 52,
    "start_time": "2022-06-04T07:26:32.012Z"
   },
   {
    "duration": 9,
    "start_time": "2022-06-04T07:26:32.066Z"
   },
   {
    "duration": 55,
    "start_time": "2022-06-04T07:26:32.076Z"
   },
   {
    "duration": 22,
    "start_time": "2022-06-04T07:26:32.133Z"
   },
   {
    "duration": 12,
    "start_time": "2022-06-04T07:26:43.929Z"
   },
   {
    "duration": 18,
    "start_time": "2022-06-04T07:26:50.804Z"
   },
   {
    "duration": 28,
    "start_time": "2022-06-04T07:26:56.036Z"
   },
   {
    "duration": 19,
    "start_time": "2022-06-04T07:27:09.894Z"
   },
   {
    "duration": 440,
    "start_time": "2022-06-04T07:49:04.118Z"
   },
   {
    "duration": 33,
    "start_time": "2022-06-04T07:49:04.561Z"
   },
   {
    "duration": 9,
    "start_time": "2022-06-04T07:49:04.596Z"
   },
   {
    "duration": 20,
    "start_time": "2022-06-04T07:49:04.608Z"
   },
   {
    "duration": 11,
    "start_time": "2022-06-04T07:49:04.630Z"
   },
   {
    "duration": 48,
    "start_time": "2022-06-04T07:49:04.643Z"
   },
   {
    "duration": 23,
    "start_time": "2022-06-04T07:49:04.694Z"
   },
   {
    "duration": 36,
    "start_time": "2022-06-04T07:49:04.719Z"
   },
   {
    "duration": 125,
    "start_time": "2022-06-04T07:49:04.758Z"
   },
   {
    "duration": 173,
    "start_time": "2022-06-04T07:50:15.704Z"
   },
   {
    "duration": 459,
    "start_time": "2022-06-04T07:52:50.824Z"
   },
   {
    "duration": 32,
    "start_time": "2022-06-04T07:52:51.285Z"
   },
   {
    "duration": 9,
    "start_time": "2022-06-04T07:52:51.319Z"
   },
   {
    "duration": 19,
    "start_time": "2022-06-04T07:52:51.329Z"
   },
   {
    "duration": 8,
    "start_time": "2022-06-04T07:52:51.350Z"
   },
   {
    "duration": 97,
    "start_time": "2022-06-04T07:52:51.360Z"
   },
   {
    "duration": 17,
    "start_time": "2022-06-04T07:52:51.458Z"
   },
   {
    "duration": 16,
    "start_time": "2022-06-04T07:52:51.476Z"
   },
   {
    "duration": 255,
    "start_time": "2022-06-04T07:52:51.493Z"
   },
   {
    "duration": 14,
    "start_time": "2022-06-04T07:53:48.500Z"
   },
   {
    "duration": 9,
    "start_time": "2022-06-04T07:54:41.996Z"
   },
   {
    "duration": 430,
    "start_time": "2022-06-04T07:55:07.827Z"
   },
   {
    "duration": 309,
    "start_time": "2022-06-04T07:57:08.512Z"
   },
   {
    "duration": 188,
    "start_time": "2022-06-04T07:59:06.565Z"
   },
   {
    "duration": 188,
    "start_time": "2022-06-04T08:00:06.913Z"
   },
   {
    "duration": 208,
    "start_time": "2022-06-04T08:00:23.719Z"
   },
   {
    "duration": 176,
    "start_time": "2022-06-04T08:18:30.005Z"
   },
   {
    "duration": 352,
    "start_time": "2022-06-04T08:36:19.501Z"
   },
   {
    "duration": 311,
    "start_time": "2022-06-04T08:36:32.926Z"
   },
   {
    "duration": 346,
    "start_time": "2022-06-04T08:36:41.697Z"
   },
   {
    "duration": 292,
    "start_time": "2022-06-04T08:51:47.148Z"
   },
   {
    "duration": 315,
    "start_time": "2022-06-04T08:51:55.914Z"
   },
   {
    "duration": 433,
    "start_time": "2022-06-04T08:52:44.153Z"
   },
   {
    "duration": 262,
    "start_time": "2022-06-04T08:53:32.764Z"
   },
   {
    "duration": 262,
    "start_time": "2022-06-04T08:53:51.199Z"
   },
   {
    "duration": 270,
    "start_time": "2022-06-04T08:53:58.311Z"
   },
   {
    "duration": 380,
    "start_time": "2022-06-04T09:12:45.404Z"
   },
   {
    "duration": 413,
    "start_time": "2022-06-04T09:13:10.004Z"
   },
   {
    "duration": 16,
    "start_time": "2022-06-04T09:17:12.322Z"
   },
   {
    "duration": 9,
    "start_time": "2022-06-04T09:17:36.908Z"
   },
   {
    "duration": 303,
    "start_time": "2022-06-04T09:17:44.405Z"
   },
   {
    "duration": 881,
    "start_time": "2022-06-04T09:18:14.373Z"
   },
   {
    "duration": 42,
    "start_time": "2022-06-04T09:18:15.260Z"
   },
   {
    "duration": 40,
    "start_time": "2022-06-04T09:18:15.308Z"
   },
   {
    "duration": 18,
    "start_time": "2022-06-04T09:18:15.350Z"
   },
   {
    "duration": 19,
    "start_time": "2022-06-04T09:18:15.371Z"
   },
   {
    "duration": 70,
    "start_time": "2022-06-04T09:18:15.392Z"
   },
   {
    "duration": 41,
    "start_time": "2022-06-04T09:18:15.464Z"
   },
   {
    "duration": 29,
    "start_time": "2022-06-04T09:18:15.510Z"
   },
   {
    "duration": 388,
    "start_time": "2022-06-04T09:18:15.546Z"
   },
   {
    "duration": 13,
    "start_time": "2022-06-04T09:18:15.939Z"
   },
   {
    "duration": 470,
    "start_time": "2022-06-04T09:18:15.954Z"
   },
   {
    "duration": 268,
    "start_time": "2022-06-04T09:18:16.427Z"
   },
   {
    "duration": 346,
    "start_time": "2022-06-04T09:18:16.698Z"
   },
   {
    "duration": 263,
    "start_time": "2022-06-04T09:18:17.046Z"
   },
   {
    "duration": 390,
    "start_time": "2022-06-04T09:18:17.318Z"
   },
   {
    "duration": 362,
    "start_time": "2022-06-04T09:19:25.924Z"
   },
   {
    "duration": 8,
    "start_time": "2022-06-04T10:30:20.142Z"
   },
   {
    "duration": 11,
    "start_time": "2022-06-04T10:31:17.929Z"
   },
   {
    "duration": 113,
    "start_time": "2022-06-04T10:33:52.807Z"
   },
   {
    "duration": 5,
    "start_time": "2022-06-04T10:38:35.018Z"
   },
   {
    "duration": 246,
    "start_time": "2022-06-04T10:47:40.787Z"
   },
   {
    "duration": 5,
    "start_time": "2022-06-04T10:51:45.111Z"
   },
   {
    "duration": 264,
    "start_time": "2022-06-04T10:54:28.556Z"
   },
   {
    "duration": 205,
    "start_time": "2022-06-04T10:54:54.907Z"
   },
   {
    "duration": 127,
    "start_time": "2022-06-04T10:55:17.728Z"
   },
   {
    "duration": 76,
    "start_time": "2022-06-04T13:17:13.407Z"
   },
   {
    "duration": 1409,
    "start_time": "2022-06-04T13:17:21.545Z"
   },
   {
    "duration": 70,
    "start_time": "2022-06-04T13:17:22.956Z"
   },
   {
    "duration": 15,
    "start_time": "2022-06-04T13:17:23.029Z"
   },
   {
    "duration": 19,
    "start_time": "2022-06-04T13:17:23.046Z"
   },
   {
    "duration": 15,
    "start_time": "2022-06-04T13:17:23.066Z"
   },
   {
    "duration": 172,
    "start_time": "2022-06-04T13:17:23.082Z"
   },
   {
    "duration": 17,
    "start_time": "2022-06-04T13:17:23.256Z"
   },
   {
    "duration": 35,
    "start_time": "2022-06-04T13:17:23.275Z"
   },
   {
    "duration": 298,
    "start_time": "2022-06-04T13:17:23.312Z"
   },
   {
    "duration": 11,
    "start_time": "2022-06-04T13:17:23.613Z"
   },
   {
    "duration": 436,
    "start_time": "2022-06-04T13:17:23.625Z"
   },
   {
    "duration": 206,
    "start_time": "2022-06-04T13:17:24.063Z"
   },
   {
    "duration": 332,
    "start_time": "2022-06-04T13:17:24.271Z"
   },
   {
    "duration": 212,
    "start_time": "2022-06-04T13:17:24.605Z"
   },
   {
    "duration": 305,
    "start_time": "2022-06-04T13:17:24.818Z"
   },
   {
    "duration": 15,
    "start_time": "2022-06-04T13:17:25.131Z"
   },
   {
    "duration": 145,
    "start_time": "2022-06-04T13:17:25.147Z"
   },
   {
    "duration": 5,
    "start_time": "2022-06-04T13:17:25.293Z"
   },
   {
    "duration": 166,
    "start_time": "2022-06-04T13:17:25.300Z"
   },
   {
    "duration": 4,
    "start_time": "2022-06-04T13:17:25.468Z"
   },
   {
    "duration": 231,
    "start_time": "2022-06-04T13:17:27.143Z"
   },
   {
    "duration": 139,
    "start_time": "2022-06-04T14:47:50.058Z"
   },
   {
    "duration": 6,
    "start_time": "2022-06-04T14:53:10.515Z"
   },
   {
    "duration": 58,
    "start_time": "2022-06-04T15:00:52.028Z"
   },
   {
    "duration": 12,
    "start_time": "2022-06-04T16:12:10.185Z"
   },
   {
    "duration": 11,
    "start_time": "2022-06-04T16:26:24.297Z"
   },
   {
    "duration": 12,
    "start_time": "2022-06-04T16:28:10.196Z"
   },
   {
    "duration": 3,
    "start_time": "2022-06-04T16:46:38.609Z"
   },
   {
    "duration": 64,
    "start_time": "2022-06-04T16:46:38.614Z"
   },
   {
    "duration": 8,
    "start_time": "2022-06-04T16:46:38.681Z"
   },
   {
    "duration": 10,
    "start_time": "2022-06-04T16:46:38.690Z"
   },
   {
    "duration": 11,
    "start_time": "2022-06-04T16:46:38.703Z"
   },
   {
    "duration": 87,
    "start_time": "2022-06-04T16:46:38.716Z"
   },
   {
    "duration": 20,
    "start_time": "2022-06-04T16:46:38.805Z"
   },
   {
    "duration": 57,
    "start_time": "2022-06-04T16:46:38.827Z"
   },
   {
    "duration": 290,
    "start_time": "2022-06-04T16:46:38.886Z"
   },
   {
    "duration": 16,
    "start_time": "2022-06-04T16:46:39.177Z"
   },
   {
    "duration": 214,
    "start_time": "2022-06-04T16:46:39.195Z"
   },
   {
    "duration": 208,
    "start_time": "2022-06-04T16:46:39.412Z"
   },
   {
    "duration": 329,
    "start_time": "2022-06-04T16:46:39.622Z"
   },
   {
    "duration": 211,
    "start_time": "2022-06-04T16:46:39.954Z"
   },
   {
    "duration": 289,
    "start_time": "2022-06-04T16:46:40.167Z"
   },
   {
    "duration": 20,
    "start_time": "2022-06-04T16:46:40.459Z"
   },
   {
    "duration": 255,
    "start_time": "2022-06-04T16:46:40.481Z"
   },
   {
    "duration": 6,
    "start_time": "2022-06-04T16:46:40.738Z"
   },
   {
    "duration": 184,
    "start_time": "2022-06-04T16:46:40.746Z"
   },
   {
    "duration": 5,
    "start_time": "2022-06-04T16:46:40.932Z"
   },
   {
    "duration": 280,
    "start_time": "2022-06-04T16:46:40.938Z"
   },
   {
    "duration": 158,
    "start_time": "2022-06-04T16:46:41.220Z"
   },
   {
    "duration": 8,
    "start_time": "2022-06-04T16:46:41.382Z"
   },
   {
    "duration": 29,
    "start_time": "2022-06-04T16:46:41.392Z"
   },
   {
    "duration": 32,
    "start_time": "2022-06-04T16:46:41.423Z"
   },
   {
    "duration": 30,
    "start_time": "2022-06-04T16:46:41.461Z"
   },
   {
    "duration": 9,
    "start_time": "2022-06-04T16:46:45.408Z"
   },
   {
    "duration": 47,
    "start_time": "2022-06-04T16:47:49.404Z"
   },
   {
    "duration": 23,
    "start_time": "2022-06-04T16:58:53.960Z"
   },
   {
    "duration": 32,
    "start_time": "2022-06-04T17:05:20.100Z"
   },
   {
    "duration": 56,
    "start_time": "2022-06-04T17:05:26.267Z"
   },
   {
    "duration": 37,
    "start_time": "2022-06-04T17:05:31.809Z"
   },
   {
    "duration": 34,
    "start_time": "2022-06-04T17:06:03.484Z"
   },
   {
    "duration": 18,
    "start_time": "2022-06-04T17:06:42.659Z"
   },
   {
    "duration": 52,
    "start_time": "2022-06-04T17:07:16.659Z"
   },
   {
    "duration": 65,
    "start_time": "2022-06-04T17:07:22.711Z"
   },
   {
    "duration": 15,
    "start_time": "2022-06-04T17:07:56.810Z"
   },
   {
    "duration": 355,
    "start_time": "2022-06-04T17:18:27.049Z"
   },
   {
    "duration": 1207,
    "start_time": "2022-06-04T17:20:30.278Z"
   },
   {
    "duration": 33,
    "start_time": "2022-06-04T17:20:31.487Z"
   },
   {
    "duration": 5,
    "start_time": "2022-06-04T17:20:31.521Z"
   },
   {
    "duration": 76,
    "start_time": "2022-06-04T17:20:31.530Z"
   },
   {
    "duration": 13,
    "start_time": "2022-06-04T17:20:31.608Z"
   },
   {
    "duration": 89,
    "start_time": "2022-06-04T17:20:31.623Z"
   },
   {
    "duration": 31,
    "start_time": "2022-06-04T17:20:31.713Z"
   },
   {
    "duration": 48,
    "start_time": "2022-06-04T17:20:31.760Z"
   },
   {
    "duration": 350,
    "start_time": "2022-06-04T17:20:31.810Z"
   },
   {
    "duration": 12,
    "start_time": "2022-06-04T17:20:32.168Z"
   },
   {
    "duration": 429,
    "start_time": "2022-06-04T17:20:32.182Z"
   },
   {
    "duration": 300,
    "start_time": "2022-06-04T17:20:32.612Z"
   },
   {
    "duration": 345,
    "start_time": "2022-06-04T17:20:32.914Z"
   },
   {
    "duration": 222,
    "start_time": "2022-06-04T17:20:33.262Z"
   },
   {
    "duration": 291,
    "start_time": "2022-06-04T17:20:33.489Z"
   },
   {
    "duration": 15,
    "start_time": "2022-06-04T17:20:33.786Z"
   },
   {
    "duration": 170,
    "start_time": "2022-06-04T17:20:33.805Z"
   },
   {
    "duration": 6,
    "start_time": "2022-06-04T17:20:33.981Z"
   },
   {
    "duration": 147,
    "start_time": "2022-06-04T17:20:33.988Z"
   },
   {
    "duration": 5,
    "start_time": "2022-06-04T17:20:34.136Z"
   },
   {
    "duration": 299,
    "start_time": "2022-06-04T17:20:34.142Z"
   },
   {
    "duration": 191,
    "start_time": "2022-06-04T17:20:34.443Z"
   },
   {
    "duration": 14,
    "start_time": "2022-06-04T17:20:34.646Z"
   },
   {
    "duration": 92,
    "start_time": "2022-06-04T17:20:34.662Z"
   },
   {
    "duration": 31,
    "start_time": "2022-06-04T17:20:34.755Z"
   },
   {
    "duration": 28,
    "start_time": "2022-06-04T17:20:34.790Z"
   },
   {
    "duration": 13,
    "start_time": "2022-06-04T17:20:34.820Z"
   },
   {
    "duration": 92,
    "start_time": "2022-06-04T17:20:34.841Z"
   },
   {
    "duration": 34,
    "start_time": "2022-06-04T17:20:34.942Z"
   },
   {
    "duration": 1041,
    "start_time": "2022-06-05T04:05:41.017Z"
   },
   {
    "duration": 38,
    "start_time": "2022-06-05T04:05:42.060Z"
   },
   {
    "duration": 5,
    "start_time": "2022-06-05T04:05:42.100Z"
   },
   {
    "duration": 14,
    "start_time": "2022-06-05T04:05:42.107Z"
   },
   {
    "duration": 9,
    "start_time": "2022-06-05T04:05:42.123Z"
   },
   {
    "duration": 62,
    "start_time": "2022-06-05T04:05:42.133Z"
   },
   {
    "duration": 19,
    "start_time": "2022-06-05T04:05:42.197Z"
   },
   {
    "duration": 20,
    "start_time": "2022-06-05T04:05:42.217Z"
   },
   {
    "duration": 286,
    "start_time": "2022-06-05T04:05:42.238Z"
   },
   {
    "duration": 8,
    "start_time": "2022-06-05T04:05:42.526Z"
   },
   {
    "duration": 346,
    "start_time": "2022-06-05T04:05:42.536Z"
   },
   {
    "duration": 265,
    "start_time": "2022-06-05T04:05:42.886Z"
   },
   {
    "duration": 307,
    "start_time": "2022-06-05T04:05:43.153Z"
   },
   {
    "duration": 182,
    "start_time": "2022-06-05T04:05:43.465Z"
   },
   {
    "duration": 331,
    "start_time": "2022-06-05T04:05:43.649Z"
   },
   {
    "duration": 8,
    "start_time": "2022-06-05T04:05:43.982Z"
   },
   {
    "duration": 135,
    "start_time": "2022-06-05T04:05:43.992Z"
   },
   {
    "duration": 4,
    "start_time": "2022-06-05T04:05:44.129Z"
   },
   {
    "duration": 150,
    "start_time": "2022-06-05T04:05:44.135Z"
   },
   {
    "duration": 4,
    "start_time": "2022-06-05T04:05:44.287Z"
   },
   {
    "duration": 246,
    "start_time": "2022-06-05T04:05:44.293Z"
   },
   {
    "duration": 174,
    "start_time": "2022-06-05T04:05:44.540Z"
   },
   {
    "duration": 7,
    "start_time": "2022-06-05T04:05:44.717Z"
   },
   {
    "duration": 60,
    "start_time": "2022-06-05T04:05:44.725Z"
   },
   {
    "duration": 11,
    "start_time": "2022-06-05T04:05:44.787Z"
   },
   {
    "duration": 20,
    "start_time": "2022-06-05T04:05:44.800Z"
   },
   {
    "duration": 17,
    "start_time": "2022-06-05T04:05:44.822Z"
   },
   {
    "duration": 61,
    "start_time": "2022-06-05T04:05:44.841Z"
   },
   {
    "duration": 17,
    "start_time": "2022-06-05T04:05:44.903Z"
   },
   {
    "duration": 267,
    "start_time": "2022-06-05T05:05:22.271Z"
   },
   {
    "duration": 1298,
    "start_time": "2022-06-05T05:05:51.228Z"
   },
   {
    "duration": 113,
    "start_time": "2022-06-05T05:05:55.407Z"
   },
   {
    "duration": 113,
    "start_time": "2022-06-05T05:15:58.354Z"
   },
   {
    "duration": 3,
    "start_time": "2022-06-05T05:16:05.707Z"
   },
   {
    "duration": 40,
    "start_time": "2022-06-05T05:16:05.712Z"
   },
   {
    "duration": 39,
    "start_time": "2022-06-05T05:16:05.754Z"
   },
   {
    "duration": 8,
    "start_time": "2022-06-05T05:16:05.795Z"
   },
   {
    "duration": 145,
    "start_time": "2022-06-05T05:16:05.804Z"
   },
   {
    "duration": 23,
    "start_time": "2022-06-05T05:16:05.950Z"
   },
   {
    "duration": 18,
    "start_time": "2022-06-05T05:16:05.975Z"
   },
   {
    "duration": 8,
    "start_time": "2022-06-05T05:16:17.131Z"
   },
   {
    "duration": 5,
    "start_time": "2022-06-05T05:16:31.802Z"
   },
   {
    "duration": 53,
    "start_time": "2022-06-05T05:23:55.238Z"
   },
   {
    "duration": 7,
    "start_time": "2022-06-05T05:24:14.787Z"
   },
   {
    "duration": 434,
    "start_time": "2022-06-05T05:26:00.026Z"
   },
   {
    "duration": 14,
    "start_time": "2022-06-05T05:26:15.632Z"
   },
   {
    "duration": 4,
    "start_time": "2022-06-05T05:26:55.420Z"
   },
   {
    "duration": 5,
    "start_time": "2022-06-05T05:35:46.133Z"
   },
   {
    "duration": 4,
    "start_time": "2022-06-05T05:41:09.146Z"
   },
   {
    "duration": 10,
    "start_time": "2022-06-05T05:42:09.427Z"
   },
   {
    "duration": 1297,
    "start_time": "2022-06-05T06:51:43.496Z"
   },
   {
    "duration": 101,
    "start_time": "2022-06-05T06:51:44.795Z"
   },
   {
    "duration": 11,
    "start_time": "2022-06-05T06:51:44.898Z"
   },
   {
    "duration": 10,
    "start_time": "2022-06-05T06:51:44.911Z"
   },
   {
    "duration": 129,
    "start_time": "2022-06-05T06:51:44.922Z"
   },
   {
    "duration": 23,
    "start_time": "2022-06-05T06:51:45.053Z"
   },
   {
    "duration": 9,
    "start_time": "2022-06-05T06:51:45.078Z"
   },
   {
    "duration": 19,
    "start_time": "2022-06-05T06:51:45.088Z"
   },
   {
    "duration": 18,
    "start_time": "2022-06-05T06:51:45.109Z"
   },
   {
    "duration": 5,
    "start_time": "2022-06-05T06:51:45.129Z"
   },
   {
    "duration": 296,
    "start_time": "2022-06-05T06:51:45.135Z"
   },
   {
    "duration": 10,
    "start_time": "2022-06-05T06:51:45.433Z"
   },
   {
    "duration": 5,
    "start_time": "2022-06-05T06:52:28.567Z"
   },
   {
    "duration": 4,
    "start_time": "2022-06-05T06:53:25.703Z"
   },
   {
    "duration": 326,
    "start_time": "2022-06-05T06:55:08.754Z"
   },
   {
    "duration": 271,
    "start_time": "2022-06-05T06:55:18.686Z"
   },
   {
    "duration": 182,
    "start_time": "2022-06-05T06:55:29.454Z"
   },
   {
    "duration": 214,
    "start_time": "2022-06-05T06:56:18.332Z"
   },
   {
    "duration": 205,
    "start_time": "2022-06-05T06:56:33.894Z"
   },
   {
    "duration": 268,
    "start_time": "2022-06-05T06:56:44.080Z"
   },
   {
    "duration": 203,
    "start_time": "2022-06-05T06:56:52.867Z"
   },
   {
    "duration": 189,
    "start_time": "2022-06-05T06:57:05.640Z"
   },
   {
    "duration": 211,
    "start_time": "2022-06-05T06:58:18.244Z"
   },
   {
    "duration": 202,
    "start_time": "2022-06-05T06:59:15.446Z"
   },
   {
    "duration": 200,
    "start_time": "2022-06-05T06:59:27.419Z"
   },
   {
    "duration": 5,
    "start_time": "2022-06-05T07:06:14.937Z"
   },
   {
    "duration": 37,
    "start_time": "2022-06-05T07:06:14.943Z"
   },
   {
    "duration": 9,
    "start_time": "2022-06-05T07:06:14.982Z"
   },
   {
    "duration": 11,
    "start_time": "2022-06-05T07:06:14.993Z"
   },
   {
    "duration": 51,
    "start_time": "2022-06-05T07:06:15.006Z"
   },
   {
    "duration": 18,
    "start_time": "2022-06-05T07:06:15.058Z"
   },
   {
    "duration": 11,
    "start_time": "2022-06-05T07:06:15.078Z"
   },
   {
    "duration": 11,
    "start_time": "2022-06-05T07:06:15.091Z"
   },
   {
    "duration": 13,
    "start_time": "2022-06-05T07:06:15.103Z"
   },
   {
    "duration": 5,
    "start_time": "2022-06-05T07:06:15.117Z"
   },
   {
    "duration": 284,
    "start_time": "2022-06-05T07:06:15.124Z"
   },
   {
    "duration": 8,
    "start_time": "2022-06-05T07:06:15.410Z"
   },
   {
    "duration": 11,
    "start_time": "2022-06-05T07:06:15.423Z"
   },
   {
    "duration": 208,
    "start_time": "2022-06-05T07:06:15.436Z"
   },
   {
    "duration": 217,
    "start_time": "2022-06-05T07:06:21.010Z"
   },
   {
    "duration": 345,
    "start_time": "2022-06-05T07:06:48.921Z"
   },
   {
    "duration": 361,
    "start_time": "2022-06-05T07:07:26.709Z"
   },
   {
    "duration": 220,
    "start_time": "2022-06-05T07:08:19.942Z"
   },
   {
    "duration": 285,
    "start_time": "2022-06-05T07:09:05.159Z"
   },
   {
    "duration": 10,
    "start_time": "2022-06-05T07:10:05.666Z"
   },
   {
    "duration": 157,
    "start_time": "2022-06-05T07:10:06.890Z"
   },
   {
    "duration": 3,
    "start_time": "2022-06-05T07:10:27.643Z"
   },
   {
    "duration": 39,
    "start_time": "2022-06-05T07:10:27.648Z"
   },
   {
    "duration": 7,
    "start_time": "2022-06-05T07:10:27.689Z"
   },
   {
    "duration": 13,
    "start_time": "2022-06-05T07:10:27.698Z"
   },
   {
    "duration": 60,
    "start_time": "2022-06-05T07:10:27.713Z"
   },
   {
    "duration": 17,
    "start_time": "2022-06-05T07:10:27.774Z"
   },
   {
    "duration": 10,
    "start_time": "2022-06-05T07:10:27.793Z"
   },
   {
    "duration": 20,
    "start_time": "2022-06-05T07:10:27.805Z"
   },
   {
    "duration": 26,
    "start_time": "2022-06-05T07:10:27.826Z"
   },
   {
    "duration": 7,
    "start_time": "2022-06-05T07:10:27.854Z"
   },
   {
    "duration": 286,
    "start_time": "2022-06-05T07:10:27.864Z"
   },
   {
    "duration": 9,
    "start_time": "2022-06-05T07:10:28.151Z"
   },
   {
    "duration": 8,
    "start_time": "2022-06-05T07:10:28.162Z"
   },
   {
    "duration": 222,
    "start_time": "2022-06-05T07:10:28.172Z"
   },
   {
    "duration": 209,
    "start_time": "2022-06-05T07:10:28.395Z"
   },
   {
    "duration": 346,
    "start_time": "2022-06-05T07:10:28.606Z"
   },
   {
    "duration": 223,
    "start_time": "2022-06-05T07:10:28.954Z"
   },
   {
    "duration": 300,
    "start_time": "2022-06-05T07:10:29.178Z"
   },
   {
    "duration": 11,
    "start_time": "2022-06-05T07:10:29.480Z"
   },
   {
    "duration": 155,
    "start_time": "2022-06-05T07:10:33.792Z"
   },
   {
    "duration": 4,
    "start_time": "2022-06-05T07:10:42.445Z"
   },
   {
    "duration": 174,
    "start_time": "2022-06-05T07:13:41.443Z"
   },
   {
    "duration": 3,
    "start_time": "2022-06-05T07:13:49.014Z"
   },
   {
    "duration": 62,
    "start_time": "2022-06-05T07:13:49.019Z"
   },
   {
    "duration": 8,
    "start_time": "2022-06-05T07:13:49.083Z"
   },
   {
    "duration": 10,
    "start_time": "2022-06-05T07:13:49.092Z"
   },
   {
    "duration": 53,
    "start_time": "2022-06-05T07:13:49.104Z"
   },
   {
    "duration": 16,
    "start_time": "2022-06-05T07:13:49.159Z"
   },
   {
    "duration": 8,
    "start_time": "2022-06-05T07:13:49.176Z"
   },
   {
    "duration": 11,
    "start_time": "2022-06-05T07:13:49.185Z"
   },
   {
    "duration": 20,
    "start_time": "2022-06-05T07:13:49.198Z"
   },
   {
    "duration": 297,
    "start_time": "2022-06-05T07:13:49.220Z"
   },
   {
    "duration": 17,
    "start_time": "2022-06-05T07:13:49.519Z"
   },
   {
    "duration": 8,
    "start_time": "2022-06-05T07:13:49.540Z"
   },
   {
    "duration": 212,
    "start_time": "2022-06-05T07:13:49.550Z"
   },
   {
    "duration": 316,
    "start_time": "2022-06-05T07:13:49.763Z"
   },
   {
    "duration": 297,
    "start_time": "2022-06-05T07:13:50.081Z"
   },
   {
    "duration": 206,
    "start_time": "2022-06-05T07:13:50.380Z"
   },
   {
    "duration": 310,
    "start_time": "2022-06-05T07:13:50.587Z"
   },
   {
    "duration": 9,
    "start_time": "2022-06-05T07:13:50.899Z"
   },
   {
    "duration": 149,
    "start_time": "2022-06-05T07:13:53.146Z"
   },
   {
    "duration": 4,
    "start_time": "2022-06-05T07:14:05.965Z"
   },
   {
    "duration": 143,
    "start_time": "2022-06-05T07:14:41.049Z"
   },
   {
    "duration": 305,
    "start_time": "2022-06-05T07:16:59.599Z"
   },
   {
    "duration": 185,
    "start_time": "2022-06-05T07:17:23.097Z"
   },
   {
    "duration": 12,
    "start_time": "2022-06-05T07:19:34.052Z"
   },
   {
    "duration": 149,
    "start_time": "2022-06-05T07:20:41.408Z"
   },
   {
    "duration": 161,
    "start_time": "2022-06-05T07:23:50.586Z"
   },
   {
    "duration": 449,
    "start_time": "2022-06-05T07:23:59.490Z"
   },
   {
    "duration": 10,
    "start_time": "2022-06-05T07:28:24.690Z"
   },
   {
    "duration": 39,
    "start_time": "2022-06-05T07:29:37.135Z"
   },
   {
    "duration": 7,
    "start_time": "2022-06-05T07:30:11.757Z"
   },
   {
    "duration": 25,
    "start_time": "2022-06-05T07:39:16.001Z"
   },
   {
    "duration": 97,
    "start_time": "2022-06-05T07:43:03.922Z"
   },
   {
    "duration": 50,
    "start_time": "2022-06-05T07:43:33.686Z"
   },
   {
    "duration": 17,
    "start_time": "2022-06-05T07:47:06.087Z"
   },
   {
    "duration": 13,
    "start_time": "2022-06-05T07:58:55.817Z"
   },
   {
    "duration": 10,
    "start_time": "2022-06-05T08:02:20.453Z"
   },
   {
    "duration": 39,
    "start_time": "2022-06-05T08:02:41.913Z"
   },
   {
    "duration": 3,
    "start_time": "2022-06-05T08:12:35.852Z"
   },
   {
    "duration": 40,
    "start_time": "2022-06-05T08:12:35.856Z"
   },
   {
    "duration": 8,
    "start_time": "2022-06-05T08:12:35.898Z"
   },
   {
    "duration": 10,
    "start_time": "2022-06-05T08:12:35.907Z"
   },
   {
    "duration": 63,
    "start_time": "2022-06-05T08:12:35.919Z"
   },
   {
    "duration": 16,
    "start_time": "2022-06-05T08:12:35.984Z"
   },
   {
    "duration": 48,
    "start_time": "2022-06-05T08:12:36.002Z"
   },
   {
    "duration": 16,
    "start_time": "2022-06-05T08:12:36.052Z"
   },
   {
    "duration": 19,
    "start_time": "2022-06-05T08:12:36.070Z"
   },
   {
    "duration": 271,
    "start_time": "2022-06-05T08:12:36.090Z"
   },
   {
    "duration": 8,
    "start_time": "2022-06-05T08:12:36.363Z"
   },
   {
    "duration": 7,
    "start_time": "2022-06-05T08:12:36.373Z"
   },
   {
    "duration": 229,
    "start_time": "2022-06-05T08:12:36.381Z"
   },
   {
    "duration": 221,
    "start_time": "2022-06-05T08:12:36.612Z"
   },
   {
    "duration": 316,
    "start_time": "2022-06-05T08:12:36.839Z"
   },
   {
    "duration": 312,
    "start_time": "2022-06-05T08:12:37.157Z"
   },
   {
    "duration": 294,
    "start_time": "2022-06-05T08:12:37.471Z"
   },
   {
    "duration": 11,
    "start_time": "2022-06-05T08:12:37.767Z"
   },
   {
    "duration": 158,
    "start_time": "2022-06-05T08:12:37.780Z"
   },
   {
    "duration": 5,
    "start_time": "2022-06-05T08:12:37.942Z"
   },
   {
    "duration": 177,
    "start_time": "2022-06-05T08:12:37.949Z"
   },
   {
    "duration": 154,
    "start_time": "2022-06-05T08:12:38.131Z"
   },
   {
    "duration": 4,
    "start_time": "2022-06-05T08:12:38.287Z"
   },
   {
    "duration": 51,
    "start_time": "2022-06-05T08:12:38.293Z"
   },
   {
    "duration": 155,
    "start_time": "2022-06-05T08:12:38.346Z"
   },
   {
    "duration": 6,
    "start_time": "2022-06-05T08:12:38.503Z"
   },
   {
    "duration": 73,
    "start_time": "2022-06-05T08:12:38.510Z"
   },
   {
    "duration": 14,
    "start_time": "2022-06-05T08:12:38.585Z"
   },
   {
    "duration": 10,
    "start_time": "2022-06-05T08:12:38.601Z"
   },
   {
    "duration": 39,
    "start_time": "2022-06-05T08:12:38.613Z"
   },
   {
    "duration": 55,
    "start_time": "2022-06-05T08:12:54.397Z"
   },
   {
    "duration": 20,
    "start_time": "2022-06-05T08:15:36.791Z"
   },
   {
    "duration": 30,
    "start_time": "2022-06-05T08:16:04.683Z"
   },
   {
    "duration": 17,
    "start_time": "2022-06-05T08:16:10.343Z"
   },
   {
    "duration": 1102,
    "start_time": "2022-06-05T08:19:39.614Z"
   },
   {
    "duration": 73,
    "start_time": "2022-06-05T08:19:40.718Z"
   },
   {
    "duration": 10,
    "start_time": "2022-06-05T08:19:40.793Z"
   },
   {
    "duration": 8,
    "start_time": "2022-06-05T08:19:40.805Z"
   },
   {
    "duration": 66,
    "start_time": "2022-06-05T08:19:40.815Z"
   },
   {
    "duration": 17,
    "start_time": "2022-06-05T08:19:40.882Z"
   },
   {
    "duration": 9,
    "start_time": "2022-06-05T08:19:40.901Z"
   },
   {
    "duration": 19,
    "start_time": "2022-06-05T08:19:40.911Z"
   },
   {
    "duration": 21,
    "start_time": "2022-06-05T08:19:40.931Z"
   },
   {
    "duration": 276,
    "start_time": "2022-06-05T08:19:40.954Z"
   },
   {
    "duration": 9,
    "start_time": "2022-06-05T08:19:41.238Z"
   },
   {
    "duration": 7,
    "start_time": "2022-06-05T08:19:41.248Z"
   },
   {
    "duration": 392,
    "start_time": "2022-06-05T08:19:41.257Z"
   },
   {
    "duration": 213,
    "start_time": "2022-06-05T08:19:41.650Z"
   },
   {
    "duration": 286,
    "start_time": "2022-06-05T08:19:41.864Z"
   },
   {
    "duration": 203,
    "start_time": "2022-06-05T08:19:42.152Z"
   },
   {
    "duration": 317,
    "start_time": "2022-06-05T08:19:42.356Z"
   },
   {
    "duration": 13,
    "start_time": "2022-06-05T08:19:42.675Z"
   },
   {
    "duration": 178,
    "start_time": "2022-06-05T08:19:42.690Z"
   },
   {
    "duration": 6,
    "start_time": "2022-06-05T08:19:42.870Z"
   },
   {
    "duration": 180,
    "start_time": "2022-06-05T08:19:42.877Z"
   },
   {
    "duration": 152,
    "start_time": "2022-06-05T08:19:43.059Z"
   },
   {
    "duration": 18,
    "start_time": "2022-06-05T08:19:43.213Z"
   },
   {
    "duration": 49,
    "start_time": "2022-06-05T08:19:43.233Z"
   },
   {
    "duration": 129,
    "start_time": "2022-06-05T08:19:43.284Z"
   },
   {
    "duration": 9,
    "start_time": "2022-06-05T08:19:43.414Z"
   },
   {
    "duration": 43,
    "start_time": "2022-06-05T08:19:43.424Z"
   },
   {
    "duration": 11,
    "start_time": "2022-06-05T08:19:43.470Z"
   },
   {
    "duration": 10,
    "start_time": "2022-06-05T08:19:43.483Z"
   },
   {
    "duration": 7,
    "start_time": "2022-06-05T08:19:43.494Z"
   },
   {
    "duration": 64,
    "start_time": "2022-06-05T08:19:43.526Z"
   },
   {
    "duration": 13,
    "start_time": "2022-06-05T08:19:43.591Z"
   },
   {
    "duration": 1097,
    "start_time": "2022-06-05T08:20:51.839Z"
   },
   {
    "duration": 68,
    "start_time": "2022-06-05T08:20:52.941Z"
   },
   {
    "duration": 10,
    "start_time": "2022-06-05T08:20:53.011Z"
   },
   {
    "duration": 19,
    "start_time": "2022-06-05T08:20:53.022Z"
   },
   {
    "duration": 48,
    "start_time": "2022-06-05T08:20:53.043Z"
   },
   {
    "duration": 17,
    "start_time": "2022-06-05T08:20:53.093Z"
   },
   {
    "duration": 6,
    "start_time": "2022-06-05T08:20:53.112Z"
   },
   {
    "duration": 20,
    "start_time": "2022-06-05T08:20:53.119Z"
   },
   {
    "duration": 15,
    "start_time": "2022-06-05T08:20:53.142Z"
   },
   {
    "duration": 5,
    "start_time": "2022-06-05T08:20:53.158Z"
   },
   {
    "duration": 282,
    "start_time": "2022-06-05T08:20:53.165Z"
   },
   {
    "duration": 9,
    "start_time": "2022-06-05T08:20:53.449Z"
   },
   {
    "duration": 5,
    "start_time": "2022-06-05T08:20:53.459Z"
   },
   {
    "duration": 401,
    "start_time": "2022-06-05T08:20:53.466Z"
   },
   {
    "duration": 228,
    "start_time": "2022-06-05T08:20:53.869Z"
   },
   {
    "duration": 345,
    "start_time": "2022-06-05T08:20:54.099Z"
   },
   {
    "duration": 211,
    "start_time": "2022-06-05T08:20:54.446Z"
   },
   {
    "duration": 307,
    "start_time": "2022-06-05T08:20:54.659Z"
   },
   {
    "duration": 9,
    "start_time": "2022-06-05T08:20:54.968Z"
   },
   {
    "duration": 169,
    "start_time": "2022-06-05T08:20:54.979Z"
   },
   {
    "duration": 4,
    "start_time": "2022-06-05T08:20:55.149Z"
   },
   {
    "duration": 152,
    "start_time": "2022-06-05T08:20:55.155Z"
   },
   {
    "duration": 148,
    "start_time": "2022-06-05T08:20:55.308Z"
   },
   {
    "duration": 4,
    "start_time": "2022-06-05T08:20:55.458Z"
   },
   {
    "duration": 34,
    "start_time": "2022-06-05T08:20:55.464Z"
   },
   {
    "duration": 152,
    "start_time": "2022-06-05T08:20:55.499Z"
   },
   {
    "duration": 6,
    "start_time": "2022-06-05T08:20:55.653Z"
   },
   {
    "duration": 28,
    "start_time": "2022-06-05T08:20:55.660Z"
   },
   {
    "duration": 10,
    "start_time": "2022-06-05T08:20:55.689Z"
   },
   {
    "duration": 18,
    "start_time": "2022-06-05T08:20:55.726Z"
   },
   {
    "duration": 10,
    "start_time": "2022-06-05T08:20:55.746Z"
   },
   {
    "duration": 54,
    "start_time": "2022-06-05T08:20:55.758Z"
   },
   {
    "duration": 24,
    "start_time": "2022-06-05T08:20:55.814Z"
   },
   {
    "duration": 21,
    "start_time": "2022-06-05T08:29:52.818Z"
   },
   {
    "duration": 105,
    "start_time": "2022-06-05T08:30:34.993Z"
   },
   {
    "duration": 6,
    "start_time": "2022-06-05T08:30:43.748Z"
   },
   {
    "duration": 6,
    "start_time": "2022-06-05T08:31:06.204Z"
   },
   {
    "duration": 13,
    "start_time": "2022-06-05T08:34:21.594Z"
   },
   {
    "duration": 13,
    "start_time": "2022-06-05T08:36:03.192Z"
   },
   {
    "duration": 11,
    "start_time": "2022-06-05T08:36:07.203Z"
   },
   {
    "duration": 9,
    "start_time": "2022-06-05T08:36:21.045Z"
   },
   {
    "duration": 6,
    "start_time": "2022-06-05T08:43:09.750Z"
   },
   {
    "duration": 1158,
    "start_time": "2022-06-05T08:56:52.044Z"
   },
   {
    "duration": 87,
    "start_time": "2022-06-05T08:56:53.203Z"
   },
   {
    "duration": 13,
    "start_time": "2022-06-05T08:56:53.291Z"
   },
   {
    "duration": 17,
    "start_time": "2022-06-05T08:56:53.307Z"
   },
   {
    "duration": 53,
    "start_time": "2022-06-05T08:56:53.329Z"
   },
   {
    "duration": 19,
    "start_time": "2022-06-05T08:56:53.384Z"
   },
   {
    "duration": 6,
    "start_time": "2022-06-05T08:56:53.405Z"
   },
   {
    "duration": 14,
    "start_time": "2022-06-05T08:56:53.412Z"
   },
   {
    "duration": 28,
    "start_time": "2022-06-05T08:56:53.427Z"
   },
   {
    "duration": 280,
    "start_time": "2022-06-05T08:56:53.458Z"
   },
   {
    "duration": 10,
    "start_time": "2022-06-05T08:56:53.739Z"
   },
   {
    "duration": 6,
    "start_time": "2022-06-05T08:56:53.751Z"
   },
   {
    "duration": 430,
    "start_time": "2022-06-05T08:56:53.758Z"
   },
   {
    "duration": 252,
    "start_time": "2022-06-05T08:56:54.190Z"
   },
   {
    "duration": 317,
    "start_time": "2022-06-05T08:56:54.444Z"
   },
   {
    "duration": 214,
    "start_time": "2022-06-05T08:56:54.763Z"
   },
   {
    "duration": 310,
    "start_time": "2022-06-05T08:56:54.979Z"
   },
   {
    "duration": 9,
    "start_time": "2022-06-05T08:56:55.290Z"
   },
   {
    "duration": 154,
    "start_time": "2022-06-05T08:56:55.301Z"
   },
   {
    "duration": 4,
    "start_time": "2022-06-05T08:56:55.457Z"
   },
   {
    "duration": 160,
    "start_time": "2022-06-05T08:56:55.463Z"
   },
   {
    "duration": 152,
    "start_time": "2022-06-05T08:56:55.625Z"
   },
   {
    "duration": 4,
    "start_time": "2022-06-05T08:56:55.779Z"
   },
   {
    "duration": 52,
    "start_time": "2022-06-05T08:56:55.785Z"
   },
   {
    "duration": 145,
    "start_time": "2022-06-05T08:56:55.839Z"
   },
   {
    "duration": 6,
    "start_time": "2022-06-05T08:56:55.985Z"
   },
   {
    "duration": 46,
    "start_time": "2022-06-05T08:56:55.993Z"
   },
   {
    "duration": 12,
    "start_time": "2022-06-05T08:56:56.042Z"
   },
   {
    "duration": 13,
    "start_time": "2022-06-05T08:56:56.056Z"
   },
   {
    "duration": 7,
    "start_time": "2022-06-05T08:56:56.071Z"
   },
   {
    "duration": 80,
    "start_time": "2022-06-05T08:56:56.079Z"
   },
   {
    "duration": 15,
    "start_time": "2022-06-05T08:56:56.160Z"
   },
   {
    "duration": 11,
    "start_time": "2022-06-05T08:56:56.177Z"
   },
   {
    "duration": 13,
    "start_time": "2022-06-05T08:56:56.190Z"
   },
   {
    "duration": 35,
    "start_time": "2022-06-05T08:56:56.204Z"
   },
   {
    "duration": 6,
    "start_time": "2022-06-05T09:02:36.243Z"
   },
   {
    "duration": 6,
    "start_time": "2022-06-05T09:02:54.467Z"
   },
   {
    "duration": 17,
    "start_time": "2022-06-05T09:05:15.024Z"
   },
   {
    "duration": 6,
    "start_time": "2022-06-05T09:06:14.590Z"
   },
   {
    "duration": 6,
    "start_time": "2022-06-05T09:06:26.803Z"
   },
   {
    "duration": 6,
    "start_time": "2022-06-05T09:25:14.189Z"
   },
   {
    "duration": 138,
    "start_time": "2022-06-05T10:50:29.088Z"
   },
   {
    "duration": 3,
    "start_time": "2022-06-05T10:50:34.743Z"
   },
   {
    "duration": 38,
    "start_time": "2022-06-05T10:50:34.748Z"
   },
   {
    "duration": 9,
    "start_time": "2022-06-05T10:50:34.788Z"
   },
   {
    "duration": 12,
    "start_time": "2022-06-05T10:50:34.799Z"
   },
   {
    "duration": 75,
    "start_time": "2022-06-05T10:50:34.813Z"
   },
   {
    "duration": 16,
    "start_time": "2022-06-05T10:50:34.890Z"
   },
   {
    "duration": 6,
    "start_time": "2022-06-05T10:50:34.908Z"
   },
   {
    "duration": 17,
    "start_time": "2022-06-05T10:50:34.916Z"
   },
   {
    "duration": 14,
    "start_time": "2022-06-05T10:50:34.935Z"
   },
   {
    "duration": 27,
    "start_time": "2022-06-05T10:50:37.052Z"
   },
   {
    "duration": 14,
    "start_time": "2022-06-05T10:50:50.084Z"
   },
   {
    "duration": 57,
    "start_time": "2022-06-05T13:40:48.009Z"
   },
   {
    "duration": 1322,
    "start_time": "2022-06-05T13:40:52.970Z"
   },
   {
    "duration": 105,
    "start_time": "2022-06-05T13:40:54.294Z"
   },
   {
    "duration": 11,
    "start_time": "2022-06-05T13:40:54.401Z"
   },
   {
    "duration": 8,
    "start_time": "2022-06-05T13:40:54.414Z"
   },
   {
    "duration": 125,
    "start_time": "2022-06-05T13:40:54.424Z"
   },
   {
    "duration": 18,
    "start_time": "2022-06-05T13:40:54.551Z"
   },
   {
    "duration": 6,
    "start_time": "2022-06-05T13:40:54.570Z"
   },
   {
    "duration": 13,
    "start_time": "2022-06-05T13:40:54.577Z"
   },
   {
    "duration": 17,
    "start_time": "2022-06-05T13:40:54.591Z"
   },
   {
    "duration": 21,
    "start_time": "2022-06-05T13:40:54.610Z"
   },
   {
    "duration": 5,
    "start_time": "2022-06-05T13:40:56.777Z"
   },
   {
    "duration": 1113,
    "start_time": "2022-06-05T13:41:06.273Z"
   },
   {
    "duration": 71,
    "start_time": "2022-06-05T13:41:07.388Z"
   },
   {
    "duration": 11,
    "start_time": "2022-06-05T13:41:07.461Z"
   },
   {
    "duration": 8,
    "start_time": "2022-06-05T13:41:07.473Z"
   },
   {
    "duration": 54,
    "start_time": "2022-06-05T13:41:07.483Z"
   },
   {
    "duration": 17,
    "start_time": "2022-06-05T13:41:07.539Z"
   },
   {
    "duration": 10,
    "start_time": "2022-06-05T13:41:07.558Z"
   },
   {
    "duration": 16,
    "start_time": "2022-06-05T13:41:07.570Z"
   },
   {
    "duration": 18,
    "start_time": "2022-06-05T13:41:07.587Z"
   },
   {
    "duration": 17,
    "start_time": "2022-06-05T13:41:07.606Z"
   },
   {
    "duration": 4,
    "start_time": "2022-06-05T13:41:07.624Z"
   },
   {
    "duration": 289,
    "start_time": "2022-06-05T13:41:07.630Z"
   },
   {
    "duration": 8,
    "start_time": "2022-06-05T13:41:07.921Z"
   },
   {
    "duration": 5,
    "start_time": "2022-06-05T13:41:07.932Z"
   },
   {
    "duration": 403,
    "start_time": "2022-06-05T13:41:07.939Z"
   },
   {
    "duration": 211,
    "start_time": "2022-06-05T13:41:08.344Z"
   },
   {
    "duration": 310,
    "start_time": "2022-06-05T13:41:08.556Z"
   },
   {
    "duration": 247,
    "start_time": "2022-06-05T13:41:08.868Z"
   },
   {
    "duration": 286,
    "start_time": "2022-06-05T13:41:09.116Z"
   },
   {
    "duration": 9,
    "start_time": "2022-06-05T13:41:09.403Z"
   },
   {
    "duration": 159,
    "start_time": "2022-06-05T13:41:09.413Z"
   },
   {
    "duration": 4,
    "start_time": "2022-06-05T13:41:09.574Z"
   },
   {
    "duration": 154,
    "start_time": "2022-06-05T13:41:09.579Z"
   },
   {
    "duration": 138,
    "start_time": "2022-06-05T13:41:09.734Z"
   },
   {
    "duration": 4,
    "start_time": "2022-06-05T13:41:09.873Z"
   },
   {
    "duration": 55,
    "start_time": "2022-06-05T13:41:09.878Z"
   },
   {
    "duration": 165,
    "start_time": "2022-06-05T13:41:09.935Z"
   },
   {
    "duration": 6,
    "start_time": "2022-06-05T13:41:10.102Z"
   },
   {
    "duration": 41,
    "start_time": "2022-06-05T13:41:10.109Z"
   },
   {
    "duration": 11,
    "start_time": "2022-06-05T13:41:10.151Z"
   },
   {
    "duration": 25,
    "start_time": "2022-06-05T13:41:10.163Z"
   },
   {
    "duration": 23,
    "start_time": "2022-06-05T13:41:10.190Z"
   },
   {
    "duration": 68,
    "start_time": "2022-06-05T13:41:10.215Z"
   },
   {
    "duration": 13,
    "start_time": "2022-06-05T13:41:10.284Z"
   },
   {
    "duration": 1282,
    "start_time": "2022-06-06T06:21:03.999Z"
   },
   {
    "duration": 94,
    "start_time": "2022-06-06T06:21:05.283Z"
   },
   {
    "duration": 12,
    "start_time": "2022-06-06T06:21:05.379Z"
   },
   {
    "duration": 18,
    "start_time": "2022-06-06T06:21:05.393Z"
   },
   {
    "duration": 61,
    "start_time": "2022-06-06T06:21:05.412Z"
   },
   {
    "duration": 18,
    "start_time": "2022-06-06T06:21:05.474Z"
   },
   {
    "duration": 23,
    "start_time": "2022-06-06T06:21:05.494Z"
   },
   {
    "duration": 19,
    "start_time": "2022-06-06T06:21:05.519Z"
   },
   {
    "duration": 27,
    "start_time": "2022-06-06T06:21:05.540Z"
   },
   {
    "duration": 35,
    "start_time": "2022-06-06T06:21:05.571Z"
   },
   {
    "duration": 16,
    "start_time": "2022-06-06T06:21:05.607Z"
   },
   {
    "duration": 293,
    "start_time": "2022-06-06T06:21:05.625Z"
   },
   {
    "duration": 8,
    "start_time": "2022-06-06T06:21:05.920Z"
   },
   {
    "duration": 18,
    "start_time": "2022-06-06T06:21:05.930Z"
   },
   {
    "duration": 426,
    "start_time": "2022-06-06T06:21:05.950Z"
   },
   {
    "duration": 236,
    "start_time": "2022-06-06T06:21:06.378Z"
   },
   {
    "duration": 308,
    "start_time": "2022-06-06T06:21:06.616Z"
   },
   {
    "duration": 254,
    "start_time": "2022-06-06T06:21:06.926Z"
   },
   {
    "duration": 362,
    "start_time": "2022-06-06T06:21:07.181Z"
   },
   {
    "duration": 20,
    "start_time": "2022-06-06T06:21:07.545Z"
   },
   {
    "duration": 270,
    "start_time": "2022-06-06T06:21:07.567Z"
   },
   {
    "duration": 4,
    "start_time": "2022-06-06T06:21:07.840Z"
   },
   {
    "duration": 174,
    "start_time": "2022-06-06T06:21:07.846Z"
   },
   {
    "duration": 208,
    "start_time": "2022-06-06T06:21:08.022Z"
   },
   {
    "duration": 5,
    "start_time": "2022-06-06T06:21:08.232Z"
   },
   {
    "duration": 55,
    "start_time": "2022-06-06T06:21:08.238Z"
   },
   {
    "duration": 161,
    "start_time": "2022-06-06T06:21:08.295Z"
   },
   {
    "duration": 8,
    "start_time": "2022-06-06T06:21:08.464Z"
   },
   {
    "duration": 85,
    "start_time": "2022-06-06T06:21:08.474Z"
   },
   {
    "duration": 14,
    "start_time": "2022-06-06T06:21:08.561Z"
   },
   {
    "duration": 20,
    "start_time": "2022-06-06T06:21:08.577Z"
   },
   {
    "duration": 66,
    "start_time": "2022-06-06T06:21:08.599Z"
   },
   {
    "duration": 72,
    "start_time": "2022-06-06T06:21:08.667Z"
   },
   {
    "duration": 14,
    "start_time": "2022-06-06T06:21:08.740Z"
   },
   {
    "duration": 5,
    "start_time": "2022-06-06T06:30:32.392Z"
   },
   {
    "duration": 7,
    "start_time": "2022-06-06T06:30:36.767Z"
   },
   {
    "duration": 158,
    "start_time": "2022-06-06T06:30:47.051Z"
   },
   {
    "duration": 5,
    "start_time": "2022-06-06T06:30:51.297Z"
   },
   {
    "duration": 1339,
    "start_time": "2022-06-11T11:28:59.251Z"
   },
   {
    "duration": 122,
    "start_time": "2022-06-11T11:29:00.592Z"
   },
   {
    "duration": 12,
    "start_time": "2022-06-11T11:29:00.716Z"
   },
   {
    "duration": 11,
    "start_time": "2022-06-11T11:29:00.731Z"
   },
   {
    "duration": 146,
    "start_time": "2022-06-11T11:29:00.744Z"
   },
   {
    "duration": 24,
    "start_time": "2022-06-11T11:29:00.892Z"
   },
   {
    "duration": 11,
    "start_time": "2022-06-11T11:29:00.918Z"
   },
   {
    "duration": 18,
    "start_time": "2022-06-11T11:29:00.930Z"
   },
   {
    "duration": 28,
    "start_time": "2022-06-11T11:29:00.949Z"
   },
   {
    "duration": 26,
    "start_time": "2022-06-11T11:29:00.994Z"
   },
   {
    "duration": 299,
    "start_time": "2022-06-11T11:29:01.022Z"
   },
   {
    "duration": 9,
    "start_time": "2022-06-11T11:29:01.322Z"
   },
   {
    "duration": 11,
    "start_time": "2022-06-11T11:29:01.332Z"
   },
   {
    "duration": 337,
    "start_time": "2022-06-11T11:29:01.344Z"
   },
   {
    "duration": 257,
    "start_time": "2022-06-11T11:29:01.683Z"
   },
   {
    "duration": 412,
    "start_time": "2022-06-11T11:29:01.942Z"
   },
   {
    "duration": 257,
    "start_time": "2022-06-11T11:29:02.355Z"
   },
   {
    "duration": 326,
    "start_time": "2022-06-11T11:29:02.614Z"
   },
   {
    "duration": 10,
    "start_time": "2022-06-11T11:29:02.942Z"
   },
   {
    "duration": 173,
    "start_time": "2022-06-11T11:29:02.953Z"
   },
   {
    "duration": 4,
    "start_time": "2022-06-11T11:29:03.128Z"
   },
   {
    "duration": 191,
    "start_time": "2022-06-11T11:29:03.134Z"
   },
   {
    "duration": 182,
    "start_time": "2022-06-11T11:29:03.328Z"
   },
   {
    "duration": 6,
    "start_time": "2022-06-11T11:29:03.512Z"
   },
   {
    "duration": 163,
    "start_time": "2022-06-11T11:29:03.520Z"
   },
   {
    "duration": 182,
    "start_time": "2022-06-11T11:29:03.697Z"
   },
   {
    "duration": 15,
    "start_time": "2022-06-11T11:29:03.881Z"
   },
   {
    "duration": 34,
    "start_time": "2022-06-11T11:29:03.899Z"
   },
   {
    "duration": 12,
    "start_time": "2022-06-11T11:29:03.935Z"
   },
   {
    "duration": 10,
    "start_time": "2022-06-11T11:29:03.949Z"
   },
   {
    "duration": 14,
    "start_time": "2022-06-11T11:29:03.996Z"
   },
   {
    "duration": 68,
    "start_time": "2022-06-11T11:29:04.012Z"
   },
   {
    "duration": 24,
    "start_time": "2022-06-11T11:29:04.083Z"
   }
  ],
  "kernelspec": {
   "display_name": "Python 3 (ipykernel)",
   "language": "python",
   "name": "python3"
  },
  "language_info": {
   "codemirror_mode": {
    "name": "ipython",
    "version": 3
   },
   "file_extension": ".py",
   "mimetype": "text/x-python",
   "name": "python",
   "nbconvert_exporter": "python",
   "pygments_lexer": "ipython3",
   "version": "3.9.7"
  },
  "toc": {
   "base_numbering": 1,
   "nav_menu": {},
   "number_sections": true,
   "sideBar": true,
   "skip_h1_title": true,
   "title_cell": "Оглавление",
   "title_sidebar": "Contents",
   "toc_cell": true,
   "toc_position": {
    "height": "calc(100% - 180px)",
    "left": "10px",
    "top": "150px",
    "width": "580.533px"
   },
   "toc_section_display": true,
   "toc_window_display": true
  }
 },
 "nbformat": 4,
 "nbformat_minor": 2
}
