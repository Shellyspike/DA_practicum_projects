{
 "cells": [
  {
   "cell_type": "markdown",
   "id": "a234c339",
   "metadata": {
    "toc": true
   },
   "source": [
    "<h1>Оглавление<span class=\"tocSkip\"></span></h1>\n",
    "<div class=\"toc\"><ul class=\"toc-item\"><li><span><a href=\"#Информация-об-исследовании-и-обрабатываемых-данных.\" data-toc-modified-id=\"Информация-об-исследовании-и-обрабатываемых-данных.-1\">Информация об исследовании и обрабатываемых данных.</a></span></li><li><span><a href=\"#Предварительное-изучение-таблиц\" data-toc-modified-id=\"Предварительное-изучение-таблиц-2\">Предварительное изучение таблиц</a></span></li><li><span><a href=\"#Ответы-на-вопросы\" data-toc-modified-id=\"Ответы-на-вопросы-3\">Ответы на вопросы</a></span><ul class=\"toc-item\"><li><span><a href=\"#Cколько-книг-вышло-после-1-января-2000-года?\" data-toc-modified-id=\"Cколько-книг-вышло-после-1-января-2000-года?-3.1\">Cколько книг вышло после 1 января 2000 года?</a></span></li><li><span><a href=\"#Посчитать-количество-обзоров-и-среднюю-оценку-для-каждой-книги.\" data-toc-modified-id=\"Посчитать-количество-обзоров-и-среднюю-оценку-для-каждой-книги.-3.2\">Посчитать количество обзоров и среднюю оценку для каждой книги.</a></span></li><li><span><a href=\"#Определить-издательство,-которое-выпустило-наибольшее-число-книг-толще-50-страниц.\" data-toc-modified-id=\"Определить-издательство,-которое-выпустило-наибольшее-число-книг-толще-50-страниц.-3.3\">Определить издательство, которое выпустило наибольшее число книг толще 50 страниц.</a></span></li><li><span><a href=\"#Определить-автора-с-самой-высокой-средней-оценкой-книг,-учитывая-только-книги-с-50-и-более-оценками\" data-toc-modified-id=\"Определить-автора-с-самой-высокой-средней-оценкой-книг,-учитывая-только-книги-с-50-и-более-оценками-3.4\">Определить автора с самой высокой средней оценкой книг, учитывая только книги с 50 и более оценками</a></span></li><li><span><a href=\"#Посчитать-среднее-количество-обзоров-от-пользователей,-которые-поставили-больше-50-оценок.\" data-toc-modified-id=\"Посчитать-среднее-количество-обзоров-от-пользователей,-которые-поставили-больше-50-оценок.-3.5\">Посчитать среднее количество обзоров от пользователей, которые поставили больше 50 оценок.</a></span></li></ul></li><li><span><a href=\"#Общий-вывод\" data-toc-modified-id=\"Общий-вывод-4\">Общий вывод</a></span></li></ul></div>"
   ]
  },
  {
   "cell_type": "markdown",
   "id": "f86e6746",
   "metadata": {},
   "source": [
    "## Информация об исследовании и обрабатываемых данных."
   ]
  },
  {
   "cell_type": "markdown",
   "id": "d387da8d",
   "metadata": {},
   "source": [
    "Задача данного проекта - анализ базы данных сервиса для чтения книг по подписке, содержащей информацию о книгах, издателях, авторах, а также пользовательские обзоры книг.\n",
    "\n",
    "**Данные представлены следующими таблицами с информацией о книгах.**\n",
    "\n",
    "Таблица `books` - содержит данные о книгах:\n",
    "* book_id — идентификатор книги;\n",
    "* author_id — идентификатор автора;\n",
    "* title — название книги;\n",
    "* num_pages — количество страниц;\n",
    "* publication_date — дата публикации книги;\n",
    "* publisher_id — идентификатор издателя.\n",
    "\n",
    "Таблица `authors` - содержит данные об авторах:\n",
    "* author_id — идентификатор автора;\n",
    "* author — имя автора.\n",
    "\n",
    "Таблица `publishers` - содержит данные об издательствах:\n",
    "* publisher_id — идентификатор издательства;\n",
    "* publisher — название издательства.\n",
    "\n",
    "Таблица `ratings` - содержит данные о пользовательских оценках книг:\n",
    "* rating_id — идентификатор оценки;\n",
    "* book_id — идентификатор книги;\n",
    "* username — имя пользователя, оставившего оценку;\n",
    "* rating — оценка книги.\n",
    "\n",
    "Таблица `reviews` - содержит данные о пользовательских обзорах на книги:\n",
    "* review_id — идентификатор обзора;\n",
    "* book_id — идентификатор книги;\n",
    "* username — имя пользователя, написавшего обзор;\n",
    "* text — текст обзора.\n",
    "\n",
    "**В результате исследования необходимо выявить:**\n",
    "1. издательство, выпустившее наибольшее число книг (исключая брошюры),\n",
    "2. автора с самой высокой средней оценкой книг,\n",
    "3. среднее количество обзоров от пользователей, активно ставящих оценки."
   ]
  },
  {
   "cell_type": "markdown",
   "id": "e5ad38e6",
   "metadata": {},
   "source": [
    "## Предварительное изучение таблиц"
   ]
  },
  {
   "cell_type": "code",
   "execution_count": 1,
   "id": "e41b01da",
   "metadata": {},
   "outputs": [],
   "source": [
    "import pandas as pd \n",
    "from sqlalchemy import create_engine"
   ]
  },
  {
   "cell_type": "code",
   "execution_count": 2,
   "id": "4d925c6b",
   "metadata": {},
   "outputs": [],
   "source": [
    "# устанавливаем параметры\n",
    "db_config = {'user': 'praktikum_student', # имя пользователя\n",
    "'pwd': 'Sdf4$2;d-d30pp', # пароль\n",
    "'host': 'rc1b-wcoijxj3yxfsf3fs.mdb.yandexcloud.net', \n",
    "'port': 6432, # порт подключения\n",
    "'db': 'data-analyst-final-project-db'} # название базы данных\n",
    "\n",
    "connection_string = 'postgresql://{}:{}@{}:{}/{}'.format(db_config['user'], \n",
    " db_config['pwd'], \n",
    " db_config['host'], \n",
    " db_config['port'], \n",
    " db_config['db']) \n",
    "\n",
    "# сохраняем коннектор\n",
    "engine = create_engine(connection_string, connect_args={'sslmode':'require'})"
   ]
  },
  {
   "cell_type": "markdown",
   "id": "5c28a70e",
   "metadata": {},
   "source": [
    "Выведем первые строки каждой из таблиц."
   ]
  },
  {
   "cell_type": "code",
   "execution_count": 3,
   "id": "30a2d9ab",
   "metadata": {},
   "outputs": [
    {
     "data": {
      "text/html": [
       "<div>\n",
       "<style scoped>\n",
       "    .dataframe tbody tr th:only-of-type {\n",
       "        vertical-align: middle;\n",
       "    }\n",
       "\n",
       "    .dataframe tbody tr th {\n",
       "        vertical-align: top;\n",
       "    }\n",
       "\n",
       "    .dataframe thead th {\n",
       "        text-align: right;\n",
       "    }\n",
       "</style>\n",
       "<table border=\"1\" class=\"dataframe\">\n",
       "  <thead>\n",
       "    <tr style=\"text-align: right;\">\n",
       "      <th></th>\n",
       "      <th>book_id</th>\n",
       "      <th>author_id</th>\n",
       "      <th>title</th>\n",
       "      <th>num_pages</th>\n",
       "      <th>publication_date</th>\n",
       "      <th>publisher_id</th>\n",
       "    </tr>\n",
       "  </thead>\n",
       "  <tbody>\n",
       "    <tr>\n",
       "      <th>0</th>\n",
       "      <td>1</td>\n",
       "      <td>546</td>\n",
       "      <td>'Salem's Lot</td>\n",
       "      <td>594</td>\n",
       "      <td>2005-11-01</td>\n",
       "      <td>93</td>\n",
       "    </tr>\n",
       "    <tr>\n",
       "      <th>1</th>\n",
       "      <td>2</td>\n",
       "      <td>465</td>\n",
       "      <td>1 000 Places to See Before You Die</td>\n",
       "      <td>992</td>\n",
       "      <td>2003-05-22</td>\n",
       "      <td>336</td>\n",
       "    </tr>\n",
       "    <tr>\n",
       "      <th>2</th>\n",
       "      <td>3</td>\n",
       "      <td>407</td>\n",
       "      <td>13 Little Blue Envelopes (Little Blue Envelope...</td>\n",
       "      <td>322</td>\n",
       "      <td>2010-12-21</td>\n",
       "      <td>135</td>\n",
       "    </tr>\n",
       "    <tr>\n",
       "      <th>3</th>\n",
       "      <td>4</td>\n",
       "      <td>82</td>\n",
       "      <td>1491: New Revelations of the Americas Before C...</td>\n",
       "      <td>541</td>\n",
       "      <td>2006-10-10</td>\n",
       "      <td>309</td>\n",
       "    </tr>\n",
       "    <tr>\n",
       "      <th>4</th>\n",
       "      <td>5</td>\n",
       "      <td>125</td>\n",
       "      <td>1776</td>\n",
       "      <td>386</td>\n",
       "      <td>2006-07-04</td>\n",
       "      <td>268</td>\n",
       "    </tr>\n",
       "  </tbody>\n",
       "</table>\n",
       "</div>"
      ],
      "text/plain": [
       "   book_id  author_id                                              title  \\\n",
       "0        1        546                                       'Salem's Lot   \n",
       "1        2        465                 1 000 Places to See Before You Die   \n",
       "2        3        407  13 Little Blue Envelopes (Little Blue Envelope...   \n",
       "3        4         82  1491: New Revelations of the Americas Before C...   \n",
       "4        5        125                                               1776   \n",
       "\n",
       "   num_pages publication_date  publisher_id  \n",
       "0        594       2005-11-01            93  \n",
       "1        992       2003-05-22           336  \n",
       "2        322       2010-12-21           135  \n",
       "3        541       2006-10-10           309  \n",
       "4        386       2006-07-04           268  "
      ]
     },
     "metadata": {},
     "output_type": "display_data"
    },
    {
     "data": {
      "text/html": [
       "<div>\n",
       "<style scoped>\n",
       "    .dataframe tbody tr th:only-of-type {\n",
       "        vertical-align: middle;\n",
       "    }\n",
       "\n",
       "    .dataframe tbody tr th {\n",
       "        vertical-align: top;\n",
       "    }\n",
       "\n",
       "    .dataframe thead th {\n",
       "        text-align: right;\n",
       "    }\n",
       "</style>\n",
       "<table border=\"1\" class=\"dataframe\">\n",
       "  <thead>\n",
       "    <tr style=\"text-align: right;\">\n",
       "      <th></th>\n",
       "      <th>author_id</th>\n",
       "      <th>author</th>\n",
       "    </tr>\n",
       "  </thead>\n",
       "  <tbody>\n",
       "    <tr>\n",
       "      <th>0</th>\n",
       "      <td>1</td>\n",
       "      <td>A.S. Byatt</td>\n",
       "    </tr>\n",
       "    <tr>\n",
       "      <th>1</th>\n",
       "      <td>2</td>\n",
       "      <td>Aesop/Laura Harris/Laura Gibbs</td>\n",
       "    </tr>\n",
       "    <tr>\n",
       "      <th>2</th>\n",
       "      <td>3</td>\n",
       "      <td>Agatha Christie</td>\n",
       "    </tr>\n",
       "    <tr>\n",
       "      <th>3</th>\n",
       "      <td>4</td>\n",
       "      <td>Alan Brennert</td>\n",
       "    </tr>\n",
       "    <tr>\n",
       "      <th>4</th>\n",
       "      <td>5</td>\n",
       "      <td>Alan Moore/David   Lloyd</td>\n",
       "    </tr>\n",
       "  </tbody>\n",
       "</table>\n",
       "</div>"
      ],
      "text/plain": [
       "   author_id                          author\n",
       "0          1                      A.S. Byatt\n",
       "1          2  Aesop/Laura Harris/Laura Gibbs\n",
       "2          3                 Agatha Christie\n",
       "3          4                   Alan Brennert\n",
       "4          5        Alan Moore/David   Lloyd"
      ]
     },
     "metadata": {},
     "output_type": "display_data"
    },
    {
     "data": {
      "text/html": [
       "<div>\n",
       "<style scoped>\n",
       "    .dataframe tbody tr th:only-of-type {\n",
       "        vertical-align: middle;\n",
       "    }\n",
       "\n",
       "    .dataframe tbody tr th {\n",
       "        vertical-align: top;\n",
       "    }\n",
       "\n",
       "    .dataframe thead th {\n",
       "        text-align: right;\n",
       "    }\n",
       "</style>\n",
       "<table border=\"1\" class=\"dataframe\">\n",
       "  <thead>\n",
       "    <tr style=\"text-align: right;\">\n",
       "      <th></th>\n",
       "      <th>publisher_id</th>\n",
       "      <th>publisher</th>\n",
       "    </tr>\n",
       "  </thead>\n",
       "  <tbody>\n",
       "    <tr>\n",
       "      <th>0</th>\n",
       "      <td>1</td>\n",
       "      <td>Ace</td>\n",
       "    </tr>\n",
       "    <tr>\n",
       "      <th>1</th>\n",
       "      <td>2</td>\n",
       "      <td>Ace Book</td>\n",
       "    </tr>\n",
       "    <tr>\n",
       "      <th>2</th>\n",
       "      <td>3</td>\n",
       "      <td>Ace Books</td>\n",
       "    </tr>\n",
       "    <tr>\n",
       "      <th>3</th>\n",
       "      <td>4</td>\n",
       "      <td>Ace Hardcover</td>\n",
       "    </tr>\n",
       "    <tr>\n",
       "      <th>4</th>\n",
       "      <td>5</td>\n",
       "      <td>Addison Wesley Publishing Company</td>\n",
       "    </tr>\n",
       "  </tbody>\n",
       "</table>\n",
       "</div>"
      ],
      "text/plain": [
       "   publisher_id                          publisher\n",
       "0             1                                Ace\n",
       "1             2                           Ace Book\n",
       "2             3                          Ace Books\n",
       "3             4                      Ace Hardcover\n",
       "4             5  Addison Wesley Publishing Company"
      ]
     },
     "metadata": {},
     "output_type": "display_data"
    },
    {
     "data": {
      "text/html": [
       "<div>\n",
       "<style scoped>\n",
       "    .dataframe tbody tr th:only-of-type {\n",
       "        vertical-align: middle;\n",
       "    }\n",
       "\n",
       "    .dataframe tbody tr th {\n",
       "        vertical-align: top;\n",
       "    }\n",
       "\n",
       "    .dataframe thead th {\n",
       "        text-align: right;\n",
       "    }\n",
       "</style>\n",
       "<table border=\"1\" class=\"dataframe\">\n",
       "  <thead>\n",
       "    <tr style=\"text-align: right;\">\n",
       "      <th></th>\n",
       "      <th>rating_id</th>\n",
       "      <th>book_id</th>\n",
       "      <th>username</th>\n",
       "      <th>rating</th>\n",
       "    </tr>\n",
       "  </thead>\n",
       "  <tbody>\n",
       "    <tr>\n",
       "      <th>0</th>\n",
       "      <td>1</td>\n",
       "      <td>1</td>\n",
       "      <td>ryanfranco</td>\n",
       "      <td>4</td>\n",
       "    </tr>\n",
       "    <tr>\n",
       "      <th>1</th>\n",
       "      <td>2</td>\n",
       "      <td>1</td>\n",
       "      <td>grantpatricia</td>\n",
       "      <td>2</td>\n",
       "    </tr>\n",
       "    <tr>\n",
       "      <th>2</th>\n",
       "      <td>3</td>\n",
       "      <td>1</td>\n",
       "      <td>brandtandrea</td>\n",
       "      <td>5</td>\n",
       "    </tr>\n",
       "    <tr>\n",
       "      <th>3</th>\n",
       "      <td>4</td>\n",
       "      <td>2</td>\n",
       "      <td>lorichen</td>\n",
       "      <td>3</td>\n",
       "    </tr>\n",
       "    <tr>\n",
       "      <th>4</th>\n",
       "      <td>5</td>\n",
       "      <td>2</td>\n",
       "      <td>mariokeller</td>\n",
       "      <td>2</td>\n",
       "    </tr>\n",
       "  </tbody>\n",
       "</table>\n",
       "</div>"
      ],
      "text/plain": [
       "   rating_id  book_id       username  rating\n",
       "0          1        1     ryanfranco       4\n",
       "1          2        1  grantpatricia       2\n",
       "2          3        1   brandtandrea       5\n",
       "3          4        2       lorichen       3\n",
       "4          5        2    mariokeller       2"
      ]
     },
     "metadata": {},
     "output_type": "display_data"
    },
    {
     "data": {
      "text/html": [
       "<div>\n",
       "<style scoped>\n",
       "    .dataframe tbody tr th:only-of-type {\n",
       "        vertical-align: middle;\n",
       "    }\n",
       "\n",
       "    .dataframe tbody tr th {\n",
       "        vertical-align: top;\n",
       "    }\n",
       "\n",
       "    .dataframe thead th {\n",
       "        text-align: right;\n",
       "    }\n",
       "</style>\n",
       "<table border=\"1\" class=\"dataframe\">\n",
       "  <thead>\n",
       "    <tr style=\"text-align: right;\">\n",
       "      <th></th>\n",
       "      <th>review_id</th>\n",
       "      <th>book_id</th>\n",
       "      <th>username</th>\n",
       "      <th>text</th>\n",
       "    </tr>\n",
       "  </thead>\n",
       "  <tbody>\n",
       "    <tr>\n",
       "      <th>0</th>\n",
       "      <td>1</td>\n",
       "      <td>1</td>\n",
       "      <td>brandtandrea</td>\n",
       "      <td>Mention society tell send professor analysis. ...</td>\n",
       "    </tr>\n",
       "    <tr>\n",
       "      <th>1</th>\n",
       "      <td>2</td>\n",
       "      <td>1</td>\n",
       "      <td>ryanfranco</td>\n",
       "      <td>Foot glass pretty audience hit themselves. Amo...</td>\n",
       "    </tr>\n",
       "    <tr>\n",
       "      <th>2</th>\n",
       "      <td>3</td>\n",
       "      <td>2</td>\n",
       "      <td>lorichen</td>\n",
       "      <td>Listen treat keep worry. Miss husband tax but ...</td>\n",
       "    </tr>\n",
       "    <tr>\n",
       "      <th>3</th>\n",
       "      <td>4</td>\n",
       "      <td>3</td>\n",
       "      <td>johnsonamanda</td>\n",
       "      <td>Finally month interesting blue could nature cu...</td>\n",
       "    </tr>\n",
       "    <tr>\n",
       "      <th>4</th>\n",
       "      <td>5</td>\n",
       "      <td>3</td>\n",
       "      <td>scotttamara</td>\n",
       "      <td>Nation purpose heavy give wait song will. List...</td>\n",
       "    </tr>\n",
       "  </tbody>\n",
       "</table>\n",
       "</div>"
      ],
      "text/plain": [
       "   review_id  book_id       username  \\\n",
       "0          1        1   brandtandrea   \n",
       "1          2        1     ryanfranco   \n",
       "2          3        2       lorichen   \n",
       "3          4        3  johnsonamanda   \n",
       "4          5        3    scotttamara   \n",
       "\n",
       "                                                text  \n",
       "0  Mention society tell send professor analysis. ...  \n",
       "1  Foot glass pretty audience hit themselves. Amo...  \n",
       "2  Listen treat keep worry. Miss husband tax but ...  \n",
       "3  Finally month interesting blue could nature cu...  \n",
       "4  Nation purpose heavy give wait song will. List...  "
      ]
     },
     "metadata": {},
     "output_type": "display_data"
    }
   ],
   "source": [
    "for table in ['books', 'authors', 'publishers', 'ratings', 'reviews']:\n",
    "    query = f'''\n",
    "    SELECT * \n",
    "    FROM {table}\n",
    "    LIMIT 5\n",
    "    '''\n",
    "    result = pd.io.sql.read_sql(query, con=engine)\n",
    "    display(result)"
   ]
  },
  {
   "cell_type": "markdown",
   "id": "f2fd4312",
   "metadata": {},
   "source": [
    "Содержимое соответствует заявленному. Можно делать запросы для ответов на поставленные вопросы."
   ]
  },
  {
   "cell_type": "markdown",
   "id": "a0d75246",
   "metadata": {},
   "source": [
    "## Ответы на вопросы"
   ]
  },
  {
   "cell_type": "markdown",
   "id": "68e15b05",
   "metadata": {},
   "source": [
    "### Cколько книг вышло после 1 января 2000 года?"
   ]
  },
  {
   "cell_type": "code",
   "execution_count": 4,
   "id": "176a8839",
   "metadata": {},
   "outputs": [
    {
     "data": {
      "text/html": [
       "<div>\n",
       "<style scoped>\n",
       "    .dataframe tbody tr th:only-of-type {\n",
       "        vertical-align: middle;\n",
       "    }\n",
       "\n",
       "    .dataframe tbody tr th {\n",
       "        vertical-align: top;\n",
       "    }\n",
       "\n",
       "    .dataframe thead th {\n",
       "        text-align: right;\n",
       "    }\n",
       "</style>\n",
       "<table border=\"1\" class=\"dataframe\">\n",
       "  <thead>\n",
       "    <tr style=\"text-align: right;\">\n",
       "      <th></th>\n",
       "      <th>count</th>\n",
       "    </tr>\n",
       "  </thead>\n",
       "  <tbody>\n",
       "    <tr>\n",
       "      <th>0</th>\n",
       "      <td>819</td>\n",
       "    </tr>\n",
       "  </tbody>\n",
       "</table>\n",
       "</div>"
      ],
      "text/plain": [
       "   count\n",
       "0    819"
      ]
     },
     "metadata": {},
     "output_type": "display_data"
    }
   ],
   "source": [
    "query = f'''\n",
    "SELECT COUNT(book_id) \n",
    "FROM books\n",
    "WHERE publication_date > '2000-01-01'\n",
    "'''\n",
    "result = pd.io.sql.read_sql(query, con=engine)\n",
    "display(result)"
   ]
  },
  {
   "cell_type": "markdown",
   "id": "14d1ebe2",
   "metadata": {},
   "source": [
    "Чтобы узнать 819, какую часть от общего количества составляют 819 книг, выведем самую первую, самую последнюю даты публикации из таблицы, а также общее количество книг."
   ]
  },
  {
   "cell_type": "code",
   "execution_count": 5,
   "id": "d2e816d3",
   "metadata": {},
   "outputs": [
    {
     "data": {
      "text/html": [
       "<div>\n",
       "<style scoped>\n",
       "    .dataframe tbody tr th:only-of-type {\n",
       "        vertical-align: middle;\n",
       "    }\n",
       "\n",
       "    .dataframe tbody tr th {\n",
       "        vertical-align: top;\n",
       "    }\n",
       "\n",
       "    .dataframe thead th {\n",
       "        text-align: right;\n",
       "    }\n",
       "</style>\n",
       "<table border=\"1\" class=\"dataframe\">\n",
       "  <thead>\n",
       "    <tr style=\"text-align: right;\">\n",
       "      <th></th>\n",
       "      <th>max</th>\n",
       "      <th>min</th>\n",
       "      <th>count</th>\n",
       "    </tr>\n",
       "  </thead>\n",
       "  <tbody>\n",
       "    <tr>\n",
       "      <th>0</th>\n",
       "      <td>2020-03-31</td>\n",
       "      <td>1952-12-01</td>\n",
       "      <td>1000</td>\n",
       "    </tr>\n",
       "  </tbody>\n",
       "</table>\n",
       "</div>"
      ],
      "text/plain": [
       "          max         min  count\n",
       "0  2020-03-31  1952-12-01   1000"
      ]
     },
     "metadata": {},
     "output_type": "display_data"
    }
   ],
   "source": [
    "query = f'''\n",
    "SELECT MAX(publication_date),\n",
    "MIN(publication_date),\n",
    "COUNT(book_id)\n",
    "FROM books\n",
    "'''\n",
    "result = pd.io.sql.read_sql(query, con=engine)\n",
    "display(result)"
   ]
  },
  {
   "cell_type": "markdown",
   "id": "8c6055b7",
   "metadata": {},
   "source": [
    "Хотя в базе данных имеются книги, опубликованных в 1952 г., основная масса книг опубликована после рассматриваемой нами даты. "
   ]
  },
  {
   "cell_type": "markdown",
   "id": "43213726",
   "metadata": {},
   "source": [
    "### Посчитать количество обзоров и среднюю оценку для каждой книги."
   ]
  },
  {
   "cell_type": "code",
   "execution_count": 6,
   "id": "dfbc2284",
   "metadata": {},
   "outputs": [],
   "source": [
    "query = f'''\n",
    "WITH reviews_cnt AS\n",
    "(SELECT b.book_id,\n",
    "b.title,\n",
    "COUNT(review_id) reviews\n",
    "FROM books b\n",
    "LEFT JOIN reviews re ON b.book_id = re.book_id\n",
    "GROUP BY b.book_id, b.title),\n",
    "rating_avg AS\n",
    "(SELECT b.book_id,\n",
    "b.title,\n",
    "ROUND(AVG(rating), 2) rating\n",
    "FROM books b\n",
    "LEFT JOIN ratings r ON b.book_id = r.book_id\n",
    "GROUP BY b.book_id, b.title)\n",
    "SELECT re.book_id, re.title, re.reviews, ra.rating\n",
    "FROM reviews_cnt re\n",
    "JOIN rating_avg ra ON re.book_id=ra.book_id\n",
    "'''\n",
    "result = pd.io.sql.read_sql(query, con=engine)"
   ]
  },
  {
   "cell_type": "code",
   "execution_count": 7,
   "id": "82a0527f",
   "metadata": {},
   "outputs": [
    {
     "data": {
      "text/html": [
       "<div>\n",
       "<style scoped>\n",
       "    .dataframe tbody tr th:only-of-type {\n",
       "        vertical-align: middle;\n",
       "    }\n",
       "\n",
       "    .dataframe tbody tr th {\n",
       "        vertical-align: top;\n",
       "    }\n",
       "\n",
       "    .dataframe thead th {\n",
       "        text-align: right;\n",
       "    }\n",
       "</style>\n",
       "<table border=\"1\" class=\"dataframe\">\n",
       "  <thead>\n",
       "    <tr style=\"text-align: right;\">\n",
       "      <th></th>\n",
       "      <th>book_id</th>\n",
       "      <th>title</th>\n",
       "      <th>reviews</th>\n",
       "      <th>rating</th>\n",
       "    </tr>\n",
       "  </thead>\n",
       "  <tbody>\n",
       "    <tr>\n",
       "      <th>947</th>\n",
       "      <td>948</td>\n",
       "      <td>Twilight (Twilight  #1)</td>\n",
       "      <td>7</td>\n",
       "      <td>3.66</td>\n",
       "    </tr>\n",
       "    <tr>\n",
       "      <th>962</th>\n",
       "      <td>963</td>\n",
       "      <td>Water for Elephants</td>\n",
       "      <td>6</td>\n",
       "      <td>3.98</td>\n",
       "    </tr>\n",
       "    <tr>\n",
       "      <th>732</th>\n",
       "      <td>733</td>\n",
       "      <td>The Giver (The Giver  #1)</td>\n",
       "      <td>6</td>\n",
       "      <td>3.75</td>\n",
       "    </tr>\n",
       "    <tr>\n",
       "      <th>749</th>\n",
       "      <td>750</td>\n",
       "      <td>The Hobbit  or There and Back Again</td>\n",
       "      <td>6</td>\n",
       "      <td>4.13</td>\n",
       "    </tr>\n",
       "    <tr>\n",
       "      <th>626</th>\n",
       "      <td>627</td>\n",
       "      <td>The Alchemist</td>\n",
       "      <td>6</td>\n",
       "      <td>3.79</td>\n",
       "    </tr>\n",
       "    <tr>\n",
       "      <th>...</th>\n",
       "      <td>...</td>\n",
       "      <td>...</td>\n",
       "      <td>...</td>\n",
       "      <td>...</td>\n",
       "    </tr>\n",
       "    <tr>\n",
       "      <th>807</th>\n",
       "      <td>808</td>\n",
       "      <td>The Natural Way to Draw</td>\n",
       "      <td>0</td>\n",
       "      <td>3.00</td>\n",
       "    </tr>\n",
       "    <tr>\n",
       "      <th>190</th>\n",
       "      <td>191</td>\n",
       "      <td>Disney's Beauty and the Beast (A Little Golden...</td>\n",
       "      <td>0</td>\n",
       "      <td>4.00</td>\n",
       "    </tr>\n",
       "    <tr>\n",
       "      <th>220</th>\n",
       "      <td>221</td>\n",
       "      <td>Essential Tales and Poems</td>\n",
       "      <td>0</td>\n",
       "      <td>4.00</td>\n",
       "    </tr>\n",
       "    <tr>\n",
       "      <th>386</th>\n",
       "      <td>387</td>\n",
       "      <td>Leonardo's Notebooks</td>\n",
       "      <td>0</td>\n",
       "      <td>4.00</td>\n",
       "    </tr>\n",
       "    <tr>\n",
       "      <th>82</th>\n",
       "      <td>83</td>\n",
       "      <td>Anne Rice's The Vampire Lestat: A Graphic Novel</td>\n",
       "      <td>0</td>\n",
       "      <td>3.67</td>\n",
       "    </tr>\n",
       "  </tbody>\n",
       "</table>\n",
       "<p>1000 rows × 4 columns</p>\n",
       "</div>"
      ],
      "text/plain": [
       "     book_id                                              title  reviews  \\\n",
       "947      948                            Twilight (Twilight  #1)        7   \n",
       "962      963                                Water for Elephants        6   \n",
       "732      733                          The Giver (The Giver  #1)        6   \n",
       "749      750                The Hobbit  or There and Back Again        6   \n",
       "626      627                                      The Alchemist        6   \n",
       "..       ...                                                ...      ...   \n",
       "807      808                            The Natural Way to Draw        0   \n",
       "190      191  Disney's Beauty and the Beast (A Little Golden...        0   \n",
       "220      221                          Essential Tales and Poems        0   \n",
       "386      387                               Leonardo's Notebooks        0   \n",
       "82        83    Anne Rice's The Vampire Lestat: A Graphic Novel        0   \n",
       "\n",
       "     rating  \n",
       "947    3.66  \n",
       "962    3.98  \n",
       "732    3.75  \n",
       "749    4.13  \n",
       "626    3.79  \n",
       "..      ...  \n",
       "807    3.00  \n",
       "190    4.00  \n",
       "220    4.00  \n",
       "386    4.00  \n",
       "82     3.67  \n",
       "\n",
       "[1000 rows x 4 columns]"
      ]
     },
     "metadata": {},
     "output_type": "display_data"
    },
    {
     "data": {
      "text/html": [
       "<div>\n",
       "<style scoped>\n",
       "    .dataframe tbody tr th:only-of-type {\n",
       "        vertical-align: middle;\n",
       "    }\n",
       "\n",
       "    .dataframe tbody tr th {\n",
       "        vertical-align: top;\n",
       "    }\n",
       "\n",
       "    .dataframe thead th {\n",
       "        text-align: right;\n",
       "    }\n",
       "</style>\n",
       "<table border=\"1\" class=\"dataframe\">\n",
       "  <thead>\n",
       "    <tr style=\"text-align: right;\">\n",
       "      <th></th>\n",
       "      <th>book_id</th>\n",
       "      <th>title</th>\n",
       "      <th>reviews</th>\n",
       "      <th>rating</th>\n",
       "    </tr>\n",
       "  </thead>\n",
       "  <tbody>\n",
       "    <tr>\n",
       "      <th>597</th>\n",
       "      <td>598</td>\n",
       "      <td>Stolen (Women of the Otherworld  #2)</td>\n",
       "      <td>2</td>\n",
       "      <td>5.00</td>\n",
       "    </tr>\n",
       "    <tr>\n",
       "      <th>552</th>\n",
       "      <td>553</td>\n",
       "      <td>School's Out—Forever (Maximum Ride  #2)</td>\n",
       "      <td>3</td>\n",
       "      <td>5.00</td>\n",
       "    </tr>\n",
       "    <tr>\n",
       "      <th>228</th>\n",
       "      <td>229</td>\n",
       "      <td>Evil Under the Sun (Hercule Poirot  #24)</td>\n",
       "      <td>2</td>\n",
       "      <td>5.00</td>\n",
       "    </tr>\n",
       "    <tr>\n",
       "      <th>641</th>\n",
       "      <td>642</td>\n",
       "      <td>The Big Bad Wolf  (Alex Cross  #9)</td>\n",
       "      <td>2</td>\n",
       "      <td>5.00</td>\n",
       "    </tr>\n",
       "    <tr>\n",
       "      <th>223</th>\n",
       "      <td>224</td>\n",
       "      <td>Evening Class</td>\n",
       "      <td>2</td>\n",
       "      <td>5.00</td>\n",
       "    </tr>\n",
       "    <tr>\n",
       "      <th>...</th>\n",
       "      <td>...</td>\n",
       "      <td>...</td>\n",
       "      <td>...</td>\n",
       "      <td>...</td>\n",
       "    </tr>\n",
       "    <tr>\n",
       "      <th>914</th>\n",
       "      <td>915</td>\n",
       "      <td>The World Is Flat: A Brief History of the Twen...</td>\n",
       "      <td>3</td>\n",
       "      <td>2.25</td>\n",
       "    </tr>\n",
       "    <tr>\n",
       "      <th>370</th>\n",
       "      <td>371</td>\n",
       "      <td>Junky</td>\n",
       "      <td>2</td>\n",
       "      <td>2.00</td>\n",
       "    </tr>\n",
       "    <tr>\n",
       "      <th>315</th>\n",
       "      <td>316</td>\n",
       "      <td>His Excellency: George Washington</td>\n",
       "      <td>2</td>\n",
       "      <td>2.00</td>\n",
       "    </tr>\n",
       "    <tr>\n",
       "      <th>201</th>\n",
       "      <td>202</td>\n",
       "      <td>Drowning Ruth</td>\n",
       "      <td>3</td>\n",
       "      <td>2.00</td>\n",
       "    </tr>\n",
       "    <tr>\n",
       "      <th>302</th>\n",
       "      <td>303</td>\n",
       "      <td>Harvesting the Heart</td>\n",
       "      <td>2</td>\n",
       "      <td>1.50</td>\n",
       "    </tr>\n",
       "  </tbody>\n",
       "</table>\n",
       "<p>1000 rows × 4 columns</p>\n",
       "</div>"
      ],
      "text/plain": [
       "     book_id                                              title  reviews  \\\n",
       "597      598               Stolen (Women of the Otherworld  #2)        2   \n",
       "552      553            School's Out—Forever (Maximum Ride  #2)        3   \n",
       "228      229           Evil Under the Sun (Hercule Poirot  #24)        2   \n",
       "641      642                 The Big Bad Wolf  (Alex Cross  #9)        2   \n",
       "223      224                                      Evening Class        2   \n",
       "..       ...                                                ...      ...   \n",
       "914      915  The World Is Flat: A Brief History of the Twen...        3   \n",
       "370      371                                              Junky        2   \n",
       "315      316                  His Excellency: George Washington        2   \n",
       "201      202                                      Drowning Ruth        3   \n",
       "302      303                               Harvesting the Heart        2   \n",
       "\n",
       "     rating  \n",
       "597    5.00  \n",
       "552    5.00  \n",
       "228    5.00  \n",
       "641    5.00  \n",
       "223    5.00  \n",
       "..      ...  \n",
       "914    2.25  \n",
       "370    2.00  \n",
       "315    2.00  \n",
       "201    2.00  \n",
       "302    1.50  \n",
       "\n",
       "[1000 rows x 4 columns]"
      ]
     },
     "metadata": {},
     "output_type": "display_data"
    }
   ],
   "source": [
    "display(result.sort_values(by='reviews', ascending=False))\n",
    "display(result.sort_values(by='rating', ascending=False))"
   ]
  },
  {
   "cell_type": "markdown",
   "id": "0c06414b",
   "metadata": {},
   "source": [
    "В топе количества отзывов видны популярные книги, а в топе среднего рейтинга - книги с небольшим количеством отзывов."
   ]
  },
  {
   "cell_type": "markdown",
   "id": "90c08921",
   "metadata": {},
   "source": [
    "### Определить издательство, которое выпустило наибольшее число книг толще 50 страниц."
   ]
  },
  {
   "cell_type": "code",
   "execution_count": 8,
   "id": "b484ab7a",
   "metadata": {},
   "outputs": [
    {
     "data": {
      "text/html": [
       "<div>\n",
       "<style scoped>\n",
       "    .dataframe tbody tr th:only-of-type {\n",
       "        vertical-align: middle;\n",
       "    }\n",
       "\n",
       "    .dataframe tbody tr th {\n",
       "        vertical-align: top;\n",
       "    }\n",
       "\n",
       "    .dataframe thead th {\n",
       "        text-align: right;\n",
       "    }\n",
       "</style>\n",
       "<table border=\"1\" class=\"dataframe\">\n",
       "  <thead>\n",
       "    <tr style=\"text-align: right;\">\n",
       "      <th></th>\n",
       "      <th>publisher</th>\n",
       "      <th>books_count</th>\n",
       "    </tr>\n",
       "  </thead>\n",
       "  <tbody>\n",
       "    <tr>\n",
       "      <th>0</th>\n",
       "      <td>Penguin Books</td>\n",
       "      <td>42</td>\n",
       "    </tr>\n",
       "  </tbody>\n",
       "</table>\n",
       "</div>"
      ],
      "text/plain": [
       "       publisher  books_count\n",
       "0  Penguin Books           42"
      ]
     },
     "metadata": {},
     "output_type": "display_data"
    }
   ],
   "source": [
    "query = f'''\n",
    "SELECT publisher,\n",
    "COUNT(book_id) books_count\n",
    "FROM books b\n",
    "JOIN publishers p ON b.publisher_id = p.publisher_id \n",
    "WHERE num_pages > 50\n",
    "GROUP BY publisher\n",
    "ORDER by books_count DESC\n",
    "LIMIT 1\n",
    "'''\n",
    "result = pd.io.sql.read_sql(query, con=engine)\n",
    "display(result)"
   ]
  },
  {
   "cell_type": "markdown",
   "id": "c26d2d96",
   "metadata": {},
   "source": [
    "Penguin Books достаточно популярное издательство, которое выпускает много больших книг."
   ]
  },
  {
   "cell_type": "markdown",
   "id": "ae1fcbc5",
   "metadata": {},
   "source": [
    "### Определить автора с самой высокой средней оценкой книг, учитывая только книги с 50 и более оценками"
   ]
  },
  {
   "cell_type": "code",
   "execution_count": 9,
   "id": "23e9a374",
   "metadata": {},
   "outputs": [
    {
     "data": {
      "text/html": [
       "<div>\n",
       "<style scoped>\n",
       "    .dataframe tbody tr th:only-of-type {\n",
       "        vertical-align: middle;\n",
       "    }\n",
       "\n",
       "    .dataframe tbody tr th {\n",
       "        vertical-align: top;\n",
       "    }\n",
       "\n",
       "    .dataframe thead th {\n",
       "        text-align: right;\n",
       "    }\n",
       "</style>\n",
       "<table border=\"1\" class=\"dataframe\">\n",
       "  <thead>\n",
       "    <tr style=\"text-align: right;\">\n",
       "      <th></th>\n",
       "      <th>author</th>\n",
       "      <th>rating_avg</th>\n",
       "    </tr>\n",
       "  </thead>\n",
       "  <tbody>\n",
       "    <tr>\n",
       "      <th>0</th>\n",
       "      <td>J.K. Rowling/Mary GrandPré</td>\n",
       "      <td>4.29</td>\n",
       "    </tr>\n",
       "  </tbody>\n",
       "</table>\n",
       "</div>"
      ],
      "text/plain": [
       "                       author  rating_avg\n",
       "0  J.K. Rowling/Mary GrandPré        4.29"
      ]
     },
     "metadata": {},
     "output_type": "display_data"
    }
   ],
   "source": [
    "query = f'''\n",
    "SELECT author,\n",
    "ROUND(AVG(rating), 2) rating_avg\n",
    "FROM books b\n",
    "JOIN authors a ON a.author_id = b.author_id\n",
    "JOIN ratings r ON b.book_id = r.book_id\n",
    "WHERE b.book_id in (\n",
    "    SELECT b.book_id\n",
    "    FROM books b\n",
    "    JOIN ratings r ON b.book_id = r.book_id\n",
    "    GROUP BY b.book_id\n",
    "    HAVING COUNT(rating_id)>=50\n",
    "    )\n",
    "GROUP BY author\n",
    "ORDER by rating_avg DESC\n",
    "LIMIT 1\n",
    "'''\n",
    "result = pd.io.sql.read_sql(query, con=engine)\n",
    "display(result)"
   ]
  },
  {
   "cell_type": "markdown",
   "id": "5287ac51",
   "metadata": {},
   "source": [
    "Наиболее высокий рейтинг у книг Джоан Роулинг с самым известным вариантом иллюстраций от Mary GrandPré."
   ]
  },
  {
   "cell_type": "markdown",
   "id": "78028cb5",
   "metadata": {},
   "source": [
    "### Посчитать среднее количество обзоров от пользователей, которые поставили больше 50 оценок."
   ]
  },
  {
   "cell_type": "code",
   "execution_count": 10,
   "id": "a93bbf59",
   "metadata": {},
   "outputs": [
    {
     "data": {
      "text/html": [
       "<div>\n",
       "<style scoped>\n",
       "    .dataframe tbody tr th:only-of-type {\n",
       "        vertical-align: middle;\n",
       "    }\n",
       "\n",
       "    .dataframe tbody tr th {\n",
       "        vertical-align: top;\n",
       "    }\n",
       "\n",
       "    .dataframe thead th {\n",
       "        text-align: right;\n",
       "    }\n",
       "</style>\n",
       "<table border=\"1\" class=\"dataframe\">\n",
       "  <thead>\n",
       "    <tr style=\"text-align: right;\">\n",
       "      <th></th>\n",
       "      <th>round</th>\n",
       "    </tr>\n",
       "  </thead>\n",
       "  <tbody>\n",
       "    <tr>\n",
       "      <th>0</th>\n",
       "      <td>24.33</td>\n",
       "    </tr>\n",
       "  </tbody>\n",
       "</table>\n",
       "</div>"
      ],
      "text/plain": [
       "   round\n",
       "0  24.33"
      ]
     },
     "metadata": {},
     "output_type": "display_data"
    }
   ],
   "source": [
    "query = f'''\n",
    "WITH active_users AS\n",
    "(SELECT username,\n",
    "COUNT(review_id)\n",
    "FROM reviews\n",
    "WHERE username in (\n",
    "    SELECT username\n",
    "    FROM ratings\n",
    "    GROUP BY username\n",
    "    HAVING COUNT(rating_id)>50\n",
    "    )\n",
    "GROUP BY username)\n",
    "SELECT ROUND(AVG(count), 2)\n",
    "FROM active_users\n",
    "'''\n",
    "result = pd.io.sql.read_sql(query, con=engine)\n",
    "display(result)"
   ]
  },
  {
   "cell_type": "markdown",
   "id": "8cfd4e7b",
   "metadata": {},
   "source": [
    "Пользователи, которые часто ставят оценки, также оставляют достаточно много обзоров."
   ]
  },
  {
   "cell_type": "markdown",
   "id": "9e71c68d",
   "metadata": {},
   "source": [
    "## Общий вывод\n",
    "\n",
    "В базе всего 1000 книг: она небольшая. Книги все современные XX века. Но есть популярные книги, есть книги с хорошими отзывами, которые активно оставляют читатели. \n",
    "\n",
    "Если планируется расширять базу книг и поддерживать активность, то можно такой сервис купить."
   ]
  }
 ],
 "metadata": {
  "ExecuteTimeLog": [
   {
    "duration": 485,
    "start_time": "2022-09-14T18:45:56.706Z"
   },
   {
    "duration": 9530,
    "start_time": "2022-09-14T18:45:57.192Z"
   },
   {
    "duration": 99,
    "start_time": "2022-09-14T18:46:06.724Z"
   },
   {
    "duration": 9,
    "start_time": "2022-09-14T18:46:06.824Z"
   },
   {
    "duration": 13,
    "start_time": "2022-09-14T18:46:06.835Z"
   },
   {
    "duration": 19,
    "start_time": "2022-09-14T18:46:06.850Z"
   },
   {
    "duration": 16,
    "start_time": "2022-09-14T18:46:06.871Z"
   },
   {
    "duration": 12,
    "start_time": "2022-09-14T18:46:06.888Z"
   },
   {
    "duration": 15,
    "start_time": "2022-09-14T18:46:06.901Z"
   },
   {
    "duration": 12,
    "start_time": "2022-09-14T18:46:06.918Z"
   },
   {
    "duration": 16,
    "start_time": "2022-09-14T18:46:54.919Z"
   },
   {
    "duration": 16,
    "start_time": "2022-09-14T18:46:57.800Z"
   },
   {
    "duration": 547,
    "start_time": "2022-09-15T13:32:44.294Z"
   },
   {
    "duration": 8835,
    "start_time": "2022-09-15T13:32:44.843Z"
   },
   {
    "duration": 104,
    "start_time": "2022-09-15T13:32:53.679Z"
   },
   {
    "duration": 10,
    "start_time": "2022-09-15T13:32:53.784Z"
   },
   {
    "duration": 11,
    "start_time": "2022-09-15T13:32:53.796Z"
   },
   {
    "duration": 21,
    "start_time": "2022-09-15T13:33:37.578Z"
   },
   {
    "duration": 22,
    "start_time": "2022-09-15T14:31:15.810Z"
   },
   {
    "duration": 23,
    "start_time": "2022-09-15T14:31:18.127Z"
   },
   {
    "duration": 4,
    "start_time": "2022-09-15T14:31:47.007Z"
   },
   {
    "duration": 4,
    "start_time": "2022-09-15T14:31:53.133Z"
   },
   {
    "duration": 25,
    "start_time": "2022-09-15T14:32:29.443Z"
   },
   {
    "duration": 10,
    "start_time": "2022-09-15T14:32:35.512Z"
   },
   {
    "duration": 12,
    "start_time": "2022-09-15T14:32:47.133Z"
   },
   {
    "duration": 13,
    "start_time": "2022-09-15T14:32:48.440Z"
   },
   {
    "duration": 197,
    "start_time": "2022-09-15T14:34:44.690Z"
   },
   {
    "duration": 102,
    "start_time": "2022-09-15T14:34:57.955Z"
   },
   {
    "duration": 382,
    "start_time": "2022-09-15T14:35:03.622Z"
   },
   {
    "duration": 13,
    "start_time": "2022-09-15T14:35:44.554Z"
   },
   {
    "duration": 11,
    "start_time": "2022-09-15T14:35:59.156Z"
   },
   {
    "duration": 102,
    "start_time": "2022-09-15T14:43:39.943Z"
   },
   {
    "duration": 16,
    "start_time": "2022-09-15T14:43:44.397Z"
   },
   {
    "duration": 11,
    "start_time": "2022-09-15T14:43:45.147Z"
   },
   {
    "duration": 19,
    "start_time": "2022-09-15T14:46:56.138Z"
   },
   {
    "duration": 12,
    "start_time": "2022-09-15T14:46:57.084Z"
   },
   {
    "duration": 22,
    "start_time": "2022-09-15T14:47:07.130Z"
   },
   {
    "duration": 22,
    "start_time": "2022-09-15T14:47:18.672Z"
   },
   {
    "duration": 4,
    "start_time": "2022-09-15T14:48:09.320Z"
   },
   {
    "duration": 22,
    "start_time": "2022-09-15T14:48:55.991Z"
   },
   {
    "duration": 18,
    "start_time": "2022-09-15T14:52:18.485Z"
   },
   {
    "duration": 13,
    "start_time": "2022-09-15T14:52:19.115Z"
   },
   {
    "duration": 526,
    "start_time": "2022-09-15T14:55:09.882Z"
   },
   {
    "duration": 10557,
    "start_time": "2022-09-15T14:55:10.410Z"
   },
   {
    "duration": 108,
    "start_time": "2022-09-15T14:55:20.969Z"
   },
   {
    "duration": 9,
    "start_time": "2022-09-15T14:55:21.078Z"
   },
   {
    "duration": 11,
    "start_time": "2022-09-15T14:55:21.089Z"
   },
   {
    "duration": 19,
    "start_time": "2022-09-15T14:55:21.102Z"
   },
   {
    "duration": 21,
    "start_time": "2022-09-15T14:55:21.123Z"
   },
   {
    "duration": 12,
    "start_time": "2022-09-15T14:55:21.145Z"
   },
   {
    "duration": 16,
    "start_time": "2022-09-15T14:55:21.158Z"
   },
   {
    "duration": 13,
    "start_time": "2022-09-15T14:55:21.176Z"
   },
   {
    "duration": 458,
    "start_time": "2022-09-15T19:49:29.247Z"
   },
   {
    "duration": 7766,
    "start_time": "2022-09-15T19:49:29.709Z"
   },
   {
    "duration": 547,
    "start_time": "2022-09-15T19:49:37.477Z"
   },
   {
    "duration": 69,
    "start_time": "2022-09-15T19:49:38.025Z"
   },
   {
    "duration": 69,
    "start_time": "2022-09-15T19:49:38.095Z"
   },
   {
    "duration": 95,
    "start_time": "2022-09-15T19:49:38.165Z"
   },
   {
    "duration": 19,
    "start_time": "2022-09-15T19:49:38.262Z"
   },
   {
    "duration": 69,
    "start_time": "2022-09-15T19:49:38.282Z"
   },
   {
    "duration": 73,
    "start_time": "2022-09-15T19:49:38.353Z"
   },
   {
    "duration": 70,
    "start_time": "2022-09-15T19:49:38.428Z"
   }
  ],
  "kernelspec": {
   "display_name": "Python 3 (ipykernel)",
   "language": "python",
   "name": "python3"
  },
  "language_info": {
   "codemirror_mode": {
    "name": "ipython",
    "version": 3
   },
   "file_extension": ".py",
   "mimetype": "text/x-python",
   "name": "python",
   "nbconvert_exporter": "python",
   "pygments_lexer": "ipython3",
   "version": "3.9.7"
  },
  "toc": {
   "base_numbering": 1,
   "nav_menu": {},
   "number_sections": false,
   "sideBar": true,
   "skip_h1_title": false,
   "title_cell": "Оглавление",
   "title_sidebar": "Contents",
   "toc_cell": true,
   "toc_position": {
    "height": "calc(100% - 180px)",
    "left": "10px",
    "top": "150px",
    "width": "375.467px"
   },
   "toc_section_display": true,
   "toc_window_display": true
  }
 },
 "nbformat": 4,
 "nbformat_minor": 5
}
