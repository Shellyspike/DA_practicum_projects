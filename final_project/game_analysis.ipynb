{
 "cells": [
  {
   "cell_type": "markdown",
   "id": "96a1a98d",
   "metadata": {
    "toc": true
   },
   "source": [
    "<h1>Оглавление<span class=\"tocSkip\"></span></h1>\n",
    "<div class=\"toc\"><ul class=\"toc-item\"><li><span><a href=\"#Информация-об-исследовании-и-обрабатываемых-данных\" data-toc-modified-id=\"Информация-об-исследовании-и-обрабатываемых-данных-1\"><span class=\"toc-item-num\">1&nbsp;&nbsp;</span>Информация об исследовании и обрабатываемых данных</a></span></li><li><span><a href=\"#Визуализации\" data-toc-modified-id=\"Визуализации-2\"><span class=\"toc-item-num\">2&nbsp;&nbsp;</span>Визуализации</a></span></li><li><span><a href=\"#Загрузка-и-изучение-данных\" data-toc-modified-id=\"Загрузка-и-изучение-данных-3\"><span class=\"toc-item-num\">3&nbsp;&nbsp;</span>Загрузка и изучение данных</a></span></li><li><span><a href=\"#Предобработка-данных\" data-toc-modified-id=\"Предобработка-данных-4\"><span class=\"toc-item-num\">4&nbsp;&nbsp;</span>Предобработка данных</a></span></li><li><span><a href=\"#Исследовательский-анализ-данных\" data-toc-modified-id=\"Исследовательский-анализ-данных-5\"><span class=\"toc-item-num\">5&nbsp;&nbsp;</span>Исследовательский анализ данных</a></span><ul class=\"toc-item\"><li><span><a href=\"#Механика-игры\" data-toc-modified-id=\"Механика-игры-5.1\"><span class=\"toc-item-num\">5.1&nbsp;&nbsp;</span>Механика игры</a></span></li><li><span><a href=\"#Показатели-эффективности-рекламы.\" data-toc-modified-id=\"Показатели-эффективности-рекламы.-5.2\"><span class=\"toc-item-num\">5.2&nbsp;&nbsp;</span>Показатели эффективности рекламы.</a></span></li></ul></li><li><span><a href=\"#Проверка-гипотез.\" data-toc-modified-id=\"Проверка-гипотез.-6\"><span class=\"toc-item-num\">6&nbsp;&nbsp;</span>Проверка гипотез.</a></span><ul class=\"toc-item\"><li><span><a href=\"#Время-завершения-уровня-различается-в-зависимости-способа-прохождения:-через-реализацию-проекта-либо-через-победу-над-первым-игроком.\" data-toc-modified-id=\"Время-завершения-уровня-различается-в-зависимости-способа-прохождения:-через-реализацию-проекта-либо-через-победу-над-первым-игроком.-6.1\"><span class=\"toc-item-num\">6.1&nbsp;&nbsp;</span>Время завершения уровня различается в зависимости способа прохождения: через реализацию проекта либо через победу над первым игроком.</a></span></li><li><span><a href=\"#Количество-построенных-зданий-различается-для-пользователей,-пришедших-из-yandex-direct-и-из-instagram.\" data-toc-modified-id=\"Количество-построенных-зданий-различается-для-пользователей,-пришедших-из-yandex-direct-и-из-instagram.-6.2\"><span class=\"toc-item-num\">6.2&nbsp;&nbsp;</span>Количество построенных зданий различается для пользователей, пришедших из yandex direct и из instagram.</a></span></li></ul></li><li><span><a href=\"#Выводы-об-эффективности-источников-привлечения.\" data-toc-modified-id=\"Выводы-об-эффективности-источников-привлечения.-7\"><span class=\"toc-item-num\">7&nbsp;&nbsp;</span>Выводы об эффективности источников привлечения.</a></span></li><li><span><a href=\"#Выводы-и-рекомендации.\" data-toc-modified-id=\"Выводы-и-рекомендации.-8\"><span class=\"toc-item-num\">8&nbsp;&nbsp;</span>Выводы и рекомендации.</a></span></li></ul></div>"
   ]
  },
  {
   "cell_type": "markdown",
   "id": "7a8831f0",
   "metadata": {},
   "source": [
    "## Информация об исследовании и обрабатываемых данных"
   ]
  },
  {
   "cell_type": "markdown",
   "id": "cb12f830",
   "metadata": {},
   "source": [
    "Задача настоящего исследования - анализ поведения игроков мобильной игры в зависимости от источника перехода в игру.\n",
    "\n",
    "**Данные представлены следующими датасетами с информацией об игре пользователей на первых уровнях и рекламных активностях**\n",
    "\n",
    "Датасет `game_actions` - данные когорты пользователей, которые начали пользоваться приложением в период с 4 по 10 мая включительно:\n",
    "1. event_datetime — время события;\n",
    "2. event — одно из трёх событий:\n",
    "    * building — объект построен,\n",
    "    * finished_stage_1 — первый уровень завершён,\n",
    "    * project — проект завершён;\n",
    "3. building_type — один из трёх типов здания:\n",
    "    * assembly_shop — сборочный цех,\n",
    "    * spaceport — космопорт,\n",
    "    * research_center — исследовательский центр;\n",
    "4. user_id — идентификатор пользователя;\n",
    "5. project_type — тип реализованного проекта;\n",
    "\n",
    "Датасет `ad_cost`:\n",
    "1. day - день, в который был совершен клик по объявлению\n",
    "2. source - источник трафика\n",
    "3. cost - стоимость кликов\n",
    "\n",
    "Датасет `user_source`:\n",
    "1. user_id - идентификатор пользователя\n",
    "2. source - источник, с которого пришёл пользователь, установивший приложение.\n",
    "\n",
    "В результате исследования будут сделаны выводы об особенностях поведения игроков, проходящих игру различными способами, и даны рекомендации по корректировке рекламных активностей."
   ]
  },
  {
   "cell_type": "markdown",
   "id": "3584cf66",
   "metadata": {},
   "source": [
    "## Визуализации\n",
    "\n",
    "[Дашборд](https://public.tableau.com/views/Mobilegame/Dashboard1?:language=en-US&publish=yes&:display_count=n&:origin=viz_share_link)\n",
    "\n",
    "[Презентация](https://disk.yandex.com/d/-3UyJs1J4JIqVA)"
   ]
  },
  {
   "cell_type": "markdown",
   "id": "ccfccccb",
   "metadata": {},
   "source": [
    "## Загрузка и изучение данных"
   ]
  },
  {
   "cell_type": "code",
   "execution_count": 1,
   "id": "0bf09e0e",
   "metadata": {},
   "outputs": [],
   "source": [
    "import pandas as pd\n",
    "import numpy as np\n",
    "import seaborn as sns\n",
    "import matplotlib.pyplot as plt\n",
    "from scipy import stats as st\n",
    "\n",
    "sns.set_style(\"whitegrid\")\n",
    "pd.options.mode.chained_assignment = None"
   ]
  },
  {
   "cell_type": "code",
   "execution_count": 2,
   "id": "5798ca51",
   "metadata": {},
   "outputs": [],
   "source": [
    "ad_costs, game_actions, user_source = map(\n",
    "    pd.read_csv, ['/datasets/ad_costs.csv',\n",
    "                  '/datasets/game_actions.csv',\n",
    "                  '/datasets/user_source.csv'])"
   ]
  },
  {
   "cell_type": "code",
   "execution_count": 3,
   "id": "0c94a655",
   "metadata": {},
   "outputs": [],
   "source": [
    "def study(df):\n",
    "    display(\n",
    "        df.info(),\n",
    "        df.head(5),\n",
    "        df.describe()\n",
    "    )\n",
    "    print('Количество дубликатов:', df.duplicated().sum())\n",
    "    print()"
   ]
  },
  {
   "cell_type": "markdown",
   "id": "5ddc8574",
   "metadata": {},
   "source": [
    "Для большей наглядности выведем информацию о каждом датасете по отдельности."
   ]
  },
  {
   "cell_type": "code",
   "execution_count": 4,
   "id": "9229e0f8",
   "metadata": {},
   "outputs": [
    {
     "name": "stdout",
     "output_type": "stream",
     "text": [
      "<class 'pandas.core.frame.DataFrame'>\n",
      "RangeIndex: 135640 entries, 0 to 135639\n",
      "Data columns (total 5 columns):\n",
      " #   Column          Non-Null Count   Dtype \n",
      "---  ------          --------------   ----- \n",
      " 0   event_datetime  135640 non-null  object\n",
      " 1   event           135640 non-null  object\n",
      " 2   building_type   127957 non-null  object\n",
      " 3   user_id         135640 non-null  object\n",
      " 4   project_type    1866 non-null    object\n",
      "dtypes: object(5)\n",
      "memory usage: 5.2+ MB\n"
     ]
    },
    {
     "data": {
      "text/plain": [
       "None"
      ]
     },
     "metadata": {},
     "output_type": "display_data"
    },
    {
     "data": {
      "text/html": [
       "<div>\n",
       "<style scoped>\n",
       "    .dataframe tbody tr th:only-of-type {\n",
       "        vertical-align: middle;\n",
       "    }\n",
       "\n",
       "    .dataframe tbody tr th {\n",
       "        vertical-align: top;\n",
       "    }\n",
       "\n",
       "    .dataframe thead th {\n",
       "        text-align: right;\n",
       "    }\n",
       "</style>\n",
       "<table border=\"1\" class=\"dataframe\">\n",
       "  <thead>\n",
       "    <tr style=\"text-align: right;\">\n",
       "      <th></th>\n",
       "      <th>event_datetime</th>\n",
       "      <th>event</th>\n",
       "      <th>building_type</th>\n",
       "      <th>user_id</th>\n",
       "      <th>project_type</th>\n",
       "    </tr>\n",
       "  </thead>\n",
       "  <tbody>\n",
       "    <tr>\n",
       "      <th>0</th>\n",
       "      <td>2020-05-04 00:00:01</td>\n",
       "      <td>building</td>\n",
       "      <td>assembly_shop</td>\n",
       "      <td>55e92310-cb8e-4754-b622-597e124b03de</td>\n",
       "      <td>NaN</td>\n",
       "    </tr>\n",
       "    <tr>\n",
       "      <th>1</th>\n",
       "      <td>2020-05-04 00:00:03</td>\n",
       "      <td>building</td>\n",
       "      <td>assembly_shop</td>\n",
       "      <td>c07b1c10-f477-44dc-81dc-ec82254b1347</td>\n",
       "      <td>NaN</td>\n",
       "    </tr>\n",
       "    <tr>\n",
       "      <th>2</th>\n",
       "      <td>2020-05-04 00:00:16</td>\n",
       "      <td>building</td>\n",
       "      <td>assembly_shop</td>\n",
       "      <td>6edd42cc-e753-4ff6-a947-2107cd560710</td>\n",
       "      <td>NaN</td>\n",
       "    </tr>\n",
       "    <tr>\n",
       "      <th>3</th>\n",
       "      <td>2020-05-04 00:00:16</td>\n",
       "      <td>building</td>\n",
       "      <td>assembly_shop</td>\n",
       "      <td>92c69003-d60a-444a-827f-8cc51bf6bf4c</td>\n",
       "      <td>NaN</td>\n",
       "    </tr>\n",
       "    <tr>\n",
       "      <th>4</th>\n",
       "      <td>2020-05-04 00:00:35</td>\n",
       "      <td>building</td>\n",
       "      <td>assembly_shop</td>\n",
       "      <td>cdc6bb92-0ccb-4490-9866-ef142f09139d</td>\n",
       "      <td>NaN</td>\n",
       "    </tr>\n",
       "  </tbody>\n",
       "</table>\n",
       "</div>"
      ],
      "text/plain": [
       "        event_datetime     event  building_type  \\\n",
       "0  2020-05-04 00:00:01  building  assembly_shop   \n",
       "1  2020-05-04 00:00:03  building  assembly_shop   \n",
       "2  2020-05-04 00:00:16  building  assembly_shop   \n",
       "3  2020-05-04 00:00:16  building  assembly_shop   \n",
       "4  2020-05-04 00:00:35  building  assembly_shop   \n",
       "\n",
       "                                user_id project_type  \n",
       "0  55e92310-cb8e-4754-b622-597e124b03de          NaN  \n",
       "1  c07b1c10-f477-44dc-81dc-ec82254b1347          NaN  \n",
       "2  6edd42cc-e753-4ff6-a947-2107cd560710          NaN  \n",
       "3  92c69003-d60a-444a-827f-8cc51bf6bf4c          NaN  \n",
       "4  cdc6bb92-0ccb-4490-9866-ef142f09139d          NaN  "
      ]
     },
     "metadata": {},
     "output_type": "display_data"
    },
    {
     "data": {
      "text/html": [
       "<div>\n",
       "<style scoped>\n",
       "    .dataframe tbody tr th:only-of-type {\n",
       "        vertical-align: middle;\n",
       "    }\n",
       "\n",
       "    .dataframe tbody tr th {\n",
       "        vertical-align: top;\n",
       "    }\n",
       "\n",
       "    .dataframe thead th {\n",
       "        text-align: right;\n",
       "    }\n",
       "</style>\n",
       "<table border=\"1\" class=\"dataframe\">\n",
       "  <thead>\n",
       "    <tr style=\"text-align: right;\">\n",
       "      <th></th>\n",
       "      <th>event_datetime</th>\n",
       "      <th>event</th>\n",
       "      <th>building_type</th>\n",
       "      <th>user_id</th>\n",
       "      <th>project_type</th>\n",
       "    </tr>\n",
       "  </thead>\n",
       "  <tbody>\n",
       "    <tr>\n",
       "      <th>count</th>\n",
       "      <td>135640</td>\n",
       "      <td>135640</td>\n",
       "      <td>127957</td>\n",
       "      <td>135640</td>\n",
       "      <td>1866</td>\n",
       "    </tr>\n",
       "    <tr>\n",
       "      <th>unique</th>\n",
       "      <td>128790</td>\n",
       "      <td>3</td>\n",
       "      <td>3</td>\n",
       "      <td>13576</td>\n",
       "      <td>1</td>\n",
       "    </tr>\n",
       "    <tr>\n",
       "      <th>top</th>\n",
       "      <td>2020-05-08 22:30:04</td>\n",
       "      <td>building</td>\n",
       "      <td>spaceport</td>\n",
       "      <td>bf542075-e3a2-4e79-82d8-3838e86d2a25</td>\n",
       "      <td>satellite_orbital_assembly</td>\n",
       "    </tr>\n",
       "    <tr>\n",
       "      <th>freq</th>\n",
       "      <td>4</td>\n",
       "      <td>127957</td>\n",
       "      <td>59325</td>\n",
       "      <td>22</td>\n",
       "      <td>1866</td>\n",
       "    </tr>\n",
       "  </tbody>\n",
       "</table>\n",
       "</div>"
      ],
      "text/plain": [
       "             event_datetime     event building_type  \\\n",
       "count                135640    135640        127957   \n",
       "unique               128790         3             3   \n",
       "top     2020-05-08 22:30:04  building     spaceport   \n",
       "freq                      4    127957         59325   \n",
       "\n",
       "                                     user_id                project_type  \n",
       "count                                 135640                        1866  \n",
       "unique                                 13576                           1  \n",
       "top     bf542075-e3a2-4e79-82d8-3838e86d2a25  satellite_orbital_assembly  \n",
       "freq                                      22                        1866  "
      ]
     },
     "metadata": {},
     "output_type": "display_data"
    },
    {
     "name": "stdout",
     "output_type": "stream",
     "text": [
      "Количество дубликатов: 1\n",
      "\n"
     ]
    }
   ],
   "source": [
    "study(game_actions)"
   ]
  },
  {
   "cell_type": "code",
   "execution_count": 5,
   "id": "b03c2102",
   "metadata": {},
   "outputs": [
    {
     "name": "stdout",
     "output_type": "stream",
     "text": [
      "<class 'pandas.core.frame.DataFrame'>\n",
      "RangeIndex: 28 entries, 0 to 27\n",
      "Data columns (total 3 columns):\n",
      " #   Column  Non-Null Count  Dtype  \n",
      "---  ------  --------------  -----  \n",
      " 0   source  28 non-null     object \n",
      " 1   day     28 non-null     object \n",
      " 2   cost    28 non-null     float64\n",
      "dtypes: float64(1), object(2)\n",
      "memory usage: 800.0+ bytes\n"
     ]
    },
    {
     "data": {
      "text/plain": [
       "None"
      ]
     },
     "metadata": {},
     "output_type": "display_data"
    },
    {
     "data": {
      "text/html": [
       "<div>\n",
       "<style scoped>\n",
       "    .dataframe tbody tr th:only-of-type {\n",
       "        vertical-align: middle;\n",
       "    }\n",
       "\n",
       "    .dataframe tbody tr th {\n",
       "        vertical-align: top;\n",
       "    }\n",
       "\n",
       "    .dataframe thead th {\n",
       "        text-align: right;\n",
       "    }\n",
       "</style>\n",
       "<table border=\"1\" class=\"dataframe\">\n",
       "  <thead>\n",
       "    <tr style=\"text-align: right;\">\n",
       "      <th></th>\n",
       "      <th>source</th>\n",
       "      <th>day</th>\n",
       "      <th>cost</th>\n",
       "    </tr>\n",
       "  </thead>\n",
       "  <tbody>\n",
       "    <tr>\n",
       "      <th>0</th>\n",
       "      <td>facebook_ads</td>\n",
       "      <td>2020-05-03</td>\n",
       "      <td>935.882786</td>\n",
       "    </tr>\n",
       "    <tr>\n",
       "      <th>1</th>\n",
       "      <td>facebook_ads</td>\n",
       "      <td>2020-05-04</td>\n",
       "      <td>548.354480</td>\n",
       "    </tr>\n",
       "    <tr>\n",
       "      <th>2</th>\n",
       "      <td>facebook_ads</td>\n",
       "      <td>2020-05-05</td>\n",
       "      <td>260.185754</td>\n",
       "    </tr>\n",
       "    <tr>\n",
       "      <th>3</th>\n",
       "      <td>facebook_ads</td>\n",
       "      <td>2020-05-06</td>\n",
       "      <td>177.982200</td>\n",
       "    </tr>\n",
       "    <tr>\n",
       "      <th>4</th>\n",
       "      <td>facebook_ads</td>\n",
       "      <td>2020-05-07</td>\n",
       "      <td>111.766796</td>\n",
       "    </tr>\n",
       "  </tbody>\n",
       "</table>\n",
       "</div>"
      ],
      "text/plain": [
       "         source         day        cost\n",
       "0  facebook_ads  2020-05-03  935.882786\n",
       "1  facebook_ads  2020-05-04  548.354480\n",
       "2  facebook_ads  2020-05-05  260.185754\n",
       "3  facebook_ads  2020-05-06  177.982200\n",
       "4  facebook_ads  2020-05-07  111.766796"
      ]
     },
     "metadata": {},
     "output_type": "display_data"
    },
    {
     "data": {
      "text/html": [
       "<div>\n",
       "<style scoped>\n",
       "    .dataframe tbody tr th:only-of-type {\n",
       "        vertical-align: middle;\n",
       "    }\n",
       "\n",
       "    .dataframe tbody tr th {\n",
       "        vertical-align: top;\n",
       "    }\n",
       "\n",
       "    .dataframe thead th {\n",
       "        text-align: right;\n",
       "    }\n",
       "</style>\n",
       "<table border=\"1\" class=\"dataframe\">\n",
       "  <thead>\n",
       "    <tr style=\"text-align: right;\">\n",
       "      <th></th>\n",
       "      <th>cost</th>\n",
       "    </tr>\n",
       "  </thead>\n",
       "  <tbody>\n",
       "    <tr>\n",
       "      <th>count</th>\n",
       "      <td>28.000000</td>\n",
       "    </tr>\n",
       "    <tr>\n",
       "      <th>mean</th>\n",
       "      <td>271.556321</td>\n",
       "    </tr>\n",
       "    <tr>\n",
       "      <th>std</th>\n",
       "      <td>286.867650</td>\n",
       "    </tr>\n",
       "    <tr>\n",
       "      <th>min</th>\n",
       "      <td>23.314669</td>\n",
       "    </tr>\n",
       "    <tr>\n",
       "      <th>25%</th>\n",
       "      <td>66.747365</td>\n",
       "    </tr>\n",
       "    <tr>\n",
       "      <th>50%</th>\n",
       "      <td>160.056443</td>\n",
       "    </tr>\n",
       "    <tr>\n",
       "      <th>75%</th>\n",
       "      <td>349.034473</td>\n",
       "    </tr>\n",
       "    <tr>\n",
       "      <th>max</th>\n",
       "      <td>969.139394</td>\n",
       "    </tr>\n",
       "  </tbody>\n",
       "</table>\n",
       "</div>"
      ],
      "text/plain": [
       "             cost\n",
       "count   28.000000\n",
       "mean   271.556321\n",
       "std    286.867650\n",
       "min     23.314669\n",
       "25%     66.747365\n",
       "50%    160.056443\n",
       "75%    349.034473\n",
       "max    969.139394"
      ]
     },
     "metadata": {},
     "output_type": "display_data"
    },
    {
     "name": "stdout",
     "output_type": "stream",
     "text": [
      "Количество дубликатов: 0\n",
      "\n"
     ]
    }
   ],
   "source": [
    "study(ad_costs)"
   ]
  },
  {
   "cell_type": "code",
   "execution_count": 6,
   "id": "486af295",
   "metadata": {},
   "outputs": [
    {
     "name": "stdout",
     "output_type": "stream",
     "text": [
      "<class 'pandas.core.frame.DataFrame'>\n",
      "RangeIndex: 13576 entries, 0 to 13575\n",
      "Data columns (total 2 columns):\n",
      " #   Column   Non-Null Count  Dtype \n",
      "---  ------   --------------  ----- \n",
      " 0   user_id  13576 non-null  object\n",
      " 1   source   13576 non-null  object\n",
      "dtypes: object(2)\n",
      "memory usage: 212.2+ KB\n"
     ]
    },
    {
     "data": {
      "text/plain": [
       "None"
      ]
     },
     "metadata": {},
     "output_type": "display_data"
    },
    {
     "data": {
      "text/html": [
       "<div>\n",
       "<style scoped>\n",
       "    .dataframe tbody tr th:only-of-type {\n",
       "        vertical-align: middle;\n",
       "    }\n",
       "\n",
       "    .dataframe tbody tr th {\n",
       "        vertical-align: top;\n",
       "    }\n",
       "\n",
       "    .dataframe thead th {\n",
       "        text-align: right;\n",
       "    }\n",
       "</style>\n",
       "<table border=\"1\" class=\"dataframe\">\n",
       "  <thead>\n",
       "    <tr style=\"text-align: right;\">\n",
       "      <th></th>\n",
       "      <th>user_id</th>\n",
       "      <th>source</th>\n",
       "    </tr>\n",
       "  </thead>\n",
       "  <tbody>\n",
       "    <tr>\n",
       "      <th>0</th>\n",
       "      <td>0001f83c-c6ac-4621-b7f0-8a28b283ac30</td>\n",
       "      <td>facebook_ads</td>\n",
       "    </tr>\n",
       "    <tr>\n",
       "      <th>1</th>\n",
       "      <td>00151b4f-ba38-44a8-a650-d7cf130a0105</td>\n",
       "      <td>yandex_direct</td>\n",
       "    </tr>\n",
       "    <tr>\n",
       "      <th>2</th>\n",
       "      <td>001aaea6-3d14-43f1-8ca8-7f48820f17aa</td>\n",
       "      <td>youtube_channel_reklama</td>\n",
       "    </tr>\n",
       "    <tr>\n",
       "      <th>3</th>\n",
       "      <td>001d39dc-366c-4021-9604-6a3b9ff01e25</td>\n",
       "      <td>instagram_new_adverts</td>\n",
       "    </tr>\n",
       "    <tr>\n",
       "      <th>4</th>\n",
       "      <td>002f508f-67b6-479f-814b-b05f00d4e995</td>\n",
       "      <td>facebook_ads</td>\n",
       "    </tr>\n",
       "  </tbody>\n",
       "</table>\n",
       "</div>"
      ],
      "text/plain": [
       "                                user_id                   source\n",
       "0  0001f83c-c6ac-4621-b7f0-8a28b283ac30             facebook_ads\n",
       "1  00151b4f-ba38-44a8-a650-d7cf130a0105            yandex_direct\n",
       "2  001aaea6-3d14-43f1-8ca8-7f48820f17aa  youtube_channel_reklama\n",
       "3  001d39dc-366c-4021-9604-6a3b9ff01e25    instagram_new_adverts\n",
       "4  002f508f-67b6-479f-814b-b05f00d4e995             facebook_ads"
      ]
     },
     "metadata": {},
     "output_type": "display_data"
    },
    {
     "data": {
      "text/html": [
       "<div>\n",
       "<style scoped>\n",
       "    .dataframe tbody tr th:only-of-type {\n",
       "        vertical-align: middle;\n",
       "    }\n",
       "\n",
       "    .dataframe tbody tr th {\n",
       "        vertical-align: top;\n",
       "    }\n",
       "\n",
       "    .dataframe thead th {\n",
       "        text-align: right;\n",
       "    }\n",
       "</style>\n",
       "<table border=\"1\" class=\"dataframe\">\n",
       "  <thead>\n",
       "    <tr style=\"text-align: right;\">\n",
       "      <th></th>\n",
       "      <th>user_id</th>\n",
       "      <th>source</th>\n",
       "    </tr>\n",
       "  </thead>\n",
       "  <tbody>\n",
       "    <tr>\n",
       "      <th>count</th>\n",
       "      <td>13576</td>\n",
       "      <td>13576</td>\n",
       "    </tr>\n",
       "    <tr>\n",
       "      <th>unique</th>\n",
       "      <td>13576</td>\n",
       "      <td>4</td>\n",
       "    </tr>\n",
       "    <tr>\n",
       "      <th>top</th>\n",
       "      <td>a5303375-175a-46bf-b0b8-7ceb1229cb27</td>\n",
       "      <td>yandex_direct</td>\n",
       "    </tr>\n",
       "    <tr>\n",
       "      <th>freq</th>\n",
       "      <td>1</td>\n",
       "      <td>4817</td>\n",
       "    </tr>\n",
       "  </tbody>\n",
       "</table>\n",
       "</div>"
      ],
      "text/plain": [
       "                                     user_id         source\n",
       "count                                  13576          13576\n",
       "unique                                 13576              4\n",
       "top     a5303375-175a-46bf-b0b8-7ceb1229cb27  yandex_direct\n",
       "freq                                       1           4817"
      ]
     },
     "metadata": {},
     "output_type": "display_data"
    },
    {
     "name": "stdout",
     "output_type": "stream",
     "text": [
      "Количество дубликатов: 0\n",
      "\n"
     ]
    }
   ],
   "source": [
    "study(user_source)"
   ]
  },
  {
   "cell_type": "markdown",
   "id": "0a93cec9",
   "metadata": {},
   "source": [
    "## Предобработка данных"
   ]
  },
  {
   "cell_type": "markdown",
   "id": "fe62999f",
   "metadata": {},
   "source": [
    "На этом этапе удалим дубликат из таблицы game_actions и переведем в формат datetime данные в столбцах с датами."
   ]
  },
  {
   "cell_type": "code",
   "execution_count": 7,
   "id": "24d355b4",
   "metadata": {},
   "outputs": [],
   "source": [
    "game_actions = game_actions.drop_duplicates()"
   ]
  },
  {
   "cell_type": "code",
   "execution_count": 8,
   "id": "0ea2bc12",
   "metadata": {},
   "outputs": [
    {
     "name": "stdout",
     "output_type": "stream",
     "text": [
      "<class 'pandas.core.frame.DataFrame'>\n",
      "Int64Index: 135639 entries, 0 to 135639\n",
      "Data columns (total 5 columns):\n",
      " #   Column          Non-Null Count   Dtype         \n",
      "---  ------          --------------   -----         \n",
      " 0   event_datetime  135639 non-null  datetime64[ns]\n",
      " 1   event           135639 non-null  object        \n",
      " 2   building_type   127956 non-null  object        \n",
      " 3   user_id         135639 non-null  object        \n",
      " 4   project_type    1866 non-null    object        \n",
      "dtypes: datetime64[ns](1), object(4)\n",
      "memory usage: 6.2+ MB\n",
      "None\n",
      "\n",
      "<class 'pandas.core.frame.DataFrame'>\n",
      "RangeIndex: 28 entries, 0 to 27\n",
      "Data columns (total 3 columns):\n",
      " #   Column  Non-Null Count  Dtype         \n",
      "---  ------  --------------  -----         \n",
      " 0   source  28 non-null     object        \n",
      " 1   day     28 non-null     datetime64[ns]\n",
      " 2   cost    28 non-null     float64       \n",
      "dtypes: datetime64[ns](1), float64(1), object(1)\n",
      "memory usage: 800.0+ bytes\n",
      "None\n",
      "\n"
     ]
    }
   ],
   "source": [
    "game_actions['event_datetime'] = pd.to_datetime(game_actions['event_datetime']).dt.normalize()\n",
    "ad_costs['day'] = pd.to_datetime(ad_costs['day'])\n",
    "\n",
    "for table in game_actions, ad_costs:\n",
    "    print(table.info())\n",
    "    print()"
   ]
  },
  {
   "cell_type": "markdown",
   "id": "bca4b3d4",
   "metadata": {},
   "source": [
    "Пропуски есть только с толбцах с типом здания и типом проекта в таблице game_actions. Проверим, есть ли смысл их заполнять. Там, где здания не строились, событием может считаться завершенный проект. Если в строке нет типа здания и нет данных о завершении проекта - информация заполнена с ошибкой."
   ]
  },
  {
   "cell_type": "code",
   "execution_count": 9,
   "id": "a30088c8",
   "metadata": {},
   "outputs": [
    {
     "data": {
      "text/html": [
       "<div>\n",
       "<style scoped>\n",
       "    .dataframe tbody tr th:only-of-type {\n",
       "        vertical-align: middle;\n",
       "    }\n",
       "\n",
       "    .dataframe tbody tr th {\n",
       "        vertical-align: top;\n",
       "    }\n",
       "\n",
       "    .dataframe thead th {\n",
       "        text-align: right;\n",
       "    }\n",
       "</style>\n",
       "<table border=\"1\" class=\"dataframe\">\n",
       "  <thead>\n",
       "    <tr style=\"text-align: right;\">\n",
       "      <th></th>\n",
       "      <th>event_datetime</th>\n",
       "      <th>event</th>\n",
       "      <th>building_type</th>\n",
       "      <th>user_id</th>\n",
       "      <th>project_type</th>\n",
       "    </tr>\n",
       "  </thead>\n",
       "  <tbody>\n",
       "  </tbody>\n",
       "</table>\n",
       "</div>"
      ],
      "text/plain": [
       "Empty DataFrame\n",
       "Columns: [event_datetime, event, building_type, user_id, project_type]\n",
       "Index: []"
      ]
     },
     "execution_count": 9,
     "metadata": {},
     "output_type": "execute_result"
    }
   ],
   "source": [
    "game_actions.loc[(game_actions['building_type'].isnull())&(game_actions['event'].isnull())]"
   ]
  },
  {
   "cell_type": "markdown",
   "id": "9b676628",
   "metadata": {},
   "source": [
    "Таких строк нет, значит в заполнении данных пропусков нет необходимости."
   ]
  },
  {
   "cell_type": "markdown",
   "id": "6af95d67",
   "metadata": {},
   "source": [
    "## Исследовательский анализ данных\n",
    "\n",
    "Рассчитаем метрики по 2 основным категориям вопросов."
   ]
  },
  {
   "cell_type": "markdown",
   "id": "e911904d",
   "metadata": {},
   "source": [
    "### Механика игры"
   ]
  },
  {
   "cell_type": "markdown",
   "id": "25800aee",
   "metadata": {},
   "source": [
    "**Количество пользователей с разбивкой по дням**"
   ]
  },
  {
   "cell_type": "code",
   "execution_count": 10,
   "id": "2347591e",
   "metadata": {
    "scrolled": true
   },
   "outputs": [
    {
     "data": {
      "image/png": "[encoded data removed]",
      "text/plain": [
       "<Figure size 1080x432 with 1 Axes>"
      ]
     },
     "metadata": {},
     "output_type": "display_data"
    }
   ],
   "source": [
    "users_per_day = (game_actions[['event_datetime', 'user_id']]\n",
    "                 .groupby('event_datetime')\n",
    "                 .agg({'user_id': 'nunique'}))\n",
    "f, ax = plt.subplots(figsize=(15, 6))\n",
    "sns.lineplot(data=users_per_day, x='event_datetime', y='user_id')\n",
    "plt.xlabel('Дата', size=12)\n",
    "plt.ylabel('Количество пользователей', size=12)\n",
    "plt.title('Количество пользователей в день', size=12)\n",
    "plt.show()"
   ]
  },
  {
   "cell_type": "markdown",
   "id": "f0d22d6b",
   "metadata": {},
   "source": [
    "К концу исследуемого периода количество пользователей снижается до нуля."
   ]
  },
  {
   "cell_type": "markdown",
   "id": "9a68078b",
   "metadata": {},
   "source": [
    "**Количество событий с разбивкой по дням**"
   ]
  },
  {
   "cell_type": "code",
   "execution_count": 11,
   "id": "a8e6929e",
   "metadata": {},
   "outputs": [
    {
     "data": {
      "image/png": "[encoded data removed]",
      "text/plain": [
       "<Figure size 1080x432 with 1 Axes>"
      ]
     },
     "metadata": {},
     "output_type": "display_data"
    }
   ],
   "source": [
    "events_per_day = (game_actions[['event_datetime', 'event']]\n",
    "                  .groupby('event_datetime')\n",
    "                  .agg({'event': 'count'}))\n",
    "f, ax = plt.subplots(figsize=(15, 6))\n",
    "sns.lineplot(data=events_per_day, x='event_datetime', y='event')\n",
    "plt.xlabel('Дата', size=12)\n",
    "plt.ylabel('Количество событий', size=12)\n",
    "plt.title('Количество событий в день', size=12)\n",
    "plt.show()"
   ]
  },
  {
   "cell_type": "markdown",
   "id": "1a54b800",
   "metadata": {},
   "source": [
    "Здесь тоже заметен рост в первые дни, а затем снижение количества событий. Сравним два графика, чтобы понимать, совпадают ли моменты их роста и снижения."
   ]
  },
  {
   "cell_type": "code",
   "execution_count": 12,
   "id": "37741a9a",
   "metadata": {},
   "outputs": [
    {
     "data": {
      "image/png": "[encoded data removed]",
      "text/plain": [
       "<Figure size 1080x432 with 1 Axes>"
      ]
     },
     "metadata": {},
     "output_type": "display_data"
    }
   ],
   "source": [
    "fig, ax = plt.subplots(figsize=(15, 6))\n",
    "ax= sns.lineplot(data=users_per_day, x='event_datetime', y='user_id', label = 'пользователи')\n",
    "ax1 = sns.lineplot(data=events_per_day, x='event_datetime', y='event', label = 'события')\n",
    "plt.xlabel('Дата', size=12)\n",
    "plt.ylabel('Количество событий и пользователей', size=12)\n",
    "plt.show()"
   ]
  },
  {
   "cell_type": "markdown",
   "id": "d276a57f",
   "metadata": {},
   "source": [
    "Можно видеть, что количество событий обусловлено количеством пользователей: растут и снижаются значения графиков одновременно при этом пользователей меньше, чем событий."
   ]
  },
  {
   "cell_type": "markdown",
   "id": "bf481aab",
   "metadata": {},
   "source": [
    "**Среднее количество событий на пользователя**"
   ]
  },
  {
   "cell_type": "code",
   "execution_count": 13,
   "id": "e33b2a9d",
   "metadata": {},
   "outputs": [
    {
     "name": "stdout",
     "output_type": "stream",
     "text": [
      "На одного пользователя приходится в среднем 9 событий\n"
     ]
    }
   ],
   "source": [
    "actions_per_user = int(game_actions.groupby('user_id').agg({'event': 'count'}).mean())\n",
    "print(f'''На одного пользователя приходится в среднем {actions_per_user} событий''')"
   ]
  },
  {
   "cell_type": "markdown",
   "id": "5bbf1096",
   "metadata": {},
   "source": [
    "**Количество построенных зданий**\n",
    "\n",
    "Сначала выведем количество построенных зданий по дням. Можно предположить, что график будет совпадать по форме с двумя предыдущими. Построим сразу график с количеством зданий и событий для сравнения."
   ]
  },
  {
   "cell_type": "code",
   "execution_count": 14,
   "id": "125b5991",
   "metadata": {},
   "outputs": [
    {
     "data": {
      "image/png": "[encoded data removed]",
      "text/plain": [
       "<Figure size 1080x432 with 1 Axes>"
      ]
     },
     "metadata": {},
     "output_type": "display_data"
    }
   ],
   "source": [
    "buildings_per_day = (game_actions[['event_datetime', 'building_type']]\n",
    "                  .groupby('event_datetime')\n",
    "                  .agg({'building_type': 'count'}))\n",
    "fig, ax = plt.subplots(figsize=(15, 6))\n",
    "ax = sns.lineplot(data=buildings_per_day, x='event_datetime', y='building_type', label = 'здания')\n",
    "ax1 = sns.lineplot(data=events_per_day, x='event_datetime', y='event', label = 'события')\n",
    "plt.xlabel('Дата', size=12)\n",
    "plt.ylabel('Количество зданий и событий', size=12)\n",
    "plt.show()"
   ]
  },
  {
   "cell_type": "markdown",
   "id": "e56419f7",
   "metadata": {},
   "source": [
    "Подавляющее большинство событий - постройка зданий, в первые дни графики совпадают, что логично - без зданий невозможно эффективно продолжать игру.\n",
    "\n",
    "Теперь посмотрим, какие именно здания предпочитают строить пользователи."
   ]
  },
  {
   "cell_type": "code",
   "execution_count": 15,
   "id": "5d410fea",
   "metadata": {},
   "outputs": [
    {
     "data": {
      "image/png": "[encoded data removed]",
      "text/plain": [
       "<Figure size 720x432 with 1 Axes>"
      ]
     },
     "metadata": {},
     "output_type": "display_data"
    }
   ],
   "source": [
    "number_of_buildings = (game_actions[['building_type', 'user_id']]\n",
    "                       .groupby('building_type')\n",
    "                       .agg({'user_id': 'count'})\n",
    "                       .reset_index())\n",
    "f, ax = plt.subplots(figsize=(10, 6))\n",
    "sns.barplot(x='building_type', y='user_id', data=number_of_buildings)\n",
    "plt.xlabel('Тип здания', size=12)\n",
    "plt.ylabel('Количество построек', size=12)\n",
    "plt.title('Количество зданий по типам', size=12)\n",
    "plt.show()"
   ]
  },
  {
   "cell_type": "markdown",
   "id": "be9909b2",
   "metadata": {},
   "source": [
    "Исследовательских центров строят значительно меньше. Можно предположить, что они нужны для завершения проекта, в то время как остальные 2 типа зданий как для развития, так и для ведения войны. Очень интересно посмотреть распределение зданий по дням, чтобы лучше понимать их назначение."
   ]
  },
  {
   "cell_type": "code",
   "execution_count": 16,
   "id": "2e680c65",
   "metadata": {},
   "outputs": [
    {
     "data": {
      "image/png": "[encoded data removed]",
      "text/plain": [
       "<Figure size 1080x432 with 1 Axes>"
      ]
     },
     "metadata": {},
     "output_type": "display_data"
    }
   ],
   "source": [
    "building_types_per_day = (game_actions[['event_datetime', 'building_type', 'user_id']]\n",
    "                       .groupby(['event_datetime','building_type'])\n",
    "                       .agg({'user_id': 'count'})\n",
    "                       .reset_index())\n",
    "f, ax = plt.subplots(figsize=(15, 6))\n",
    "sns.lineplot(data=building_types_per_day, x='event_datetime', y='user_id', hue='building_type')\n",
    "plt.xlabel('Дата', size=12)\n",
    "plt.ylabel('Количество зданий', size=12)\n",
    "plt.title('Количество зданий в день', size=12)\n",
    "plt.show()"
   ]
  },
  {
   "cell_type": "markdown",
   "id": "213d6baa",
   "metadata": {},
   "source": [
    "Очевидно обязательным типом здания является мастерская, которые все строят в большом количестве в начале игры, а исследовательский центр важен для завершения проекта."
   ]
  },
  {
   "cell_type": "markdown",
   "id": "1a65f0f1",
   "metadata": {},
   "source": [
    "**Изучим количество зданий в разных группах пользователей**\n",
    "\n",
    "Создадим столбец со стратегией прохождения и сравним количество зданий. Для этого создадим списки пользователей, завершивших проект и прошедших уровень, но проект не строивших (а значит убивших врага). Затем добавим в таблицу с пользовательскими сессиями новый столбец со стратегией прохождения."
   ]
  },
  {
   "cell_type": "code",
   "execution_count": 17,
   "id": "e9b0be32",
   "metadata": {},
   "outputs": [],
   "source": [
    "project_completed = (game_actions\n",
    "                     .loc[game_actions['event']=='project']\n",
    "                     ['user_id']\n",
    "                     .unique().tolist())\n",
    "finished_stage_one = (game_actions\n",
    "                     .loc[game_actions['event']=='finished_stage_1']\n",
    "                     ['user_id']\n",
    "                     .unique().tolist())"
   ]
  },
  {
   "cell_type": "code",
   "execution_count": 18,
   "id": "89e4f340",
   "metadata": {},
   "outputs": [],
   "source": [
    "def conditions(df):\n",
    "    if df['user_id'] in project_completed:\n",
    "        return 'pve'\n",
    "    elif df['user_id'] in finished_stage_one and df['user_id'] not in project_completed:\n",
    "        return 'pvp'\n",
    "    else:\n",
    "        return 'in_progress'"
   ]
  },
  {
   "cell_type": "code",
   "execution_count": 19,
   "id": "1152f473",
   "metadata": {},
   "outputs": [],
   "source": [
    "game_actions['strategy'] = game_actions.apply(conditions, axis=1)"
   ]
  },
  {
   "cell_type": "code",
   "execution_count": 20,
   "id": "69a5e91e",
   "metadata": {},
   "outputs": [
    {
     "data": {
      "text/html": [
       "<div>\n",
       "<style scoped>\n",
       "    .dataframe tbody tr th:only-of-type {\n",
       "        vertical-align: middle;\n",
       "    }\n",
       "\n",
       "    .dataframe tbody tr th {\n",
       "        vertical-align: top;\n",
       "    }\n",
       "\n",
       "    .dataframe thead th {\n",
       "        text-align: right;\n",
       "    }\n",
       "</style>\n",
       "<table border=\"1\" class=\"dataframe\">\n",
       "  <thead>\n",
       "    <tr style=\"text-align: right;\">\n",
       "      <th></th>\n",
       "      <th>event_datetime</th>\n",
       "      <th>event</th>\n",
       "      <th>building_type</th>\n",
       "      <th>user_id</th>\n",
       "      <th>project_type</th>\n",
       "      <th>strategy</th>\n",
       "    </tr>\n",
       "  </thead>\n",
       "  <tbody>\n",
       "    <tr>\n",
       "      <th>0</th>\n",
       "      <td>2020-05-04</td>\n",
       "      <td>building</td>\n",
       "      <td>assembly_shop</td>\n",
       "      <td>55e92310-cb8e-4754-b622-597e124b03de</td>\n",
       "      <td>NaN</td>\n",
       "      <td>in_progress</td>\n",
       "    </tr>\n",
       "    <tr>\n",
       "      <th>1</th>\n",
       "      <td>2020-05-04</td>\n",
       "      <td>building</td>\n",
       "      <td>assembly_shop</td>\n",
       "      <td>c07b1c10-f477-44dc-81dc-ec82254b1347</td>\n",
       "      <td>NaN</td>\n",
       "      <td>pve</td>\n",
       "    </tr>\n",
       "    <tr>\n",
       "      <th>2</th>\n",
       "      <td>2020-05-04</td>\n",
       "      <td>building</td>\n",
       "      <td>assembly_shop</td>\n",
       "      <td>6edd42cc-e753-4ff6-a947-2107cd560710</td>\n",
       "      <td>NaN</td>\n",
       "      <td>pvp</td>\n",
       "    </tr>\n",
       "    <tr>\n",
       "      <th>3</th>\n",
       "      <td>2020-05-04</td>\n",
       "      <td>building</td>\n",
       "      <td>assembly_shop</td>\n",
       "      <td>92c69003-d60a-444a-827f-8cc51bf6bf4c</td>\n",
       "      <td>NaN</td>\n",
       "      <td>in_progress</td>\n",
       "    </tr>\n",
       "    <tr>\n",
       "      <th>4</th>\n",
       "      <td>2020-05-04</td>\n",
       "      <td>building</td>\n",
       "      <td>assembly_shop</td>\n",
       "      <td>cdc6bb92-0ccb-4490-9866-ef142f09139d</td>\n",
       "      <td>NaN</td>\n",
       "      <td>pvp</td>\n",
       "    </tr>\n",
       "  </tbody>\n",
       "</table>\n",
       "</div>"
      ],
      "text/plain": [
       "  event_datetime     event  building_type  \\\n",
       "0     2020-05-04  building  assembly_shop   \n",
       "1     2020-05-04  building  assembly_shop   \n",
       "2     2020-05-04  building  assembly_shop   \n",
       "3     2020-05-04  building  assembly_shop   \n",
       "4     2020-05-04  building  assembly_shop   \n",
       "\n",
       "                                user_id project_type     strategy  \n",
       "0  55e92310-cb8e-4754-b622-597e124b03de          NaN  in_progress  \n",
       "1  c07b1c10-f477-44dc-81dc-ec82254b1347          NaN          pve  \n",
       "2  6edd42cc-e753-4ff6-a947-2107cd560710          NaN          pvp  \n",
       "3  92c69003-d60a-444a-827f-8cc51bf6bf4c          NaN  in_progress  \n",
       "4  cdc6bb92-0ccb-4490-9866-ef142f09139d          NaN          pvp  "
      ]
     },
     "execution_count": 20,
     "metadata": {},
     "output_type": "execute_result"
    }
   ],
   "source": [
    "game_actions.head(5)"
   ]
  },
  {
   "cell_type": "markdown",
   "id": "0524c9a1",
   "metadata": {},
   "source": [
    "Сгруппируем данные для построения графика."
   ]
  },
  {
   "cell_type": "code",
   "execution_count": 21,
   "id": "2db9d3f9",
   "metadata": {},
   "outputs": [
    {
     "data": {
      "text/html": [
       "<div>\n",
       "<style scoped>\n",
       "    .dataframe tbody tr th:only-of-type {\n",
       "        vertical-align: middle;\n",
       "    }\n",
       "\n",
       "    .dataframe tbody tr th {\n",
       "        vertical-align: top;\n",
       "    }\n",
       "\n",
       "    .dataframe thead th {\n",
       "        text-align: right;\n",
       "    }\n",
       "</style>\n",
       "<table border=\"1\" class=\"dataframe\">\n",
       "  <thead>\n",
       "    <tr style=\"text-align: right;\">\n",
       "      <th></th>\n",
       "      <th>strategy</th>\n",
       "      <th>building_type</th>\n",
       "      <th>nunique</th>\n",
       "      <th>count</th>\n",
       "      <th>mean</th>\n",
       "    </tr>\n",
       "  </thead>\n",
       "  <tbody>\n",
       "    <tr>\n",
       "      <th>0</th>\n",
       "      <td>in_progress</td>\n",
       "      <td>assembly_shop</td>\n",
       "      <td>7759</td>\n",
       "      <td>29080</td>\n",
       "      <td>3.75</td>\n",
       "    </tr>\n",
       "    <tr>\n",
       "      <th>1</th>\n",
       "      <td>in_progress</td>\n",
       "      <td>research_center</td>\n",
       "      <td>3463</td>\n",
       "      <td>6685</td>\n",
       "      <td>1.93</td>\n",
       "    </tr>\n",
       "    <tr>\n",
       "      <th>2</th>\n",
       "      <td>in_progress</td>\n",
       "      <td>spaceport</td>\n",
       "      <td>7471</td>\n",
       "      <td>31405</td>\n",
       "      <td>4.20</td>\n",
       "    </tr>\n",
       "    <tr>\n",
       "      <th>3</th>\n",
       "      <td>pve</td>\n",
       "      <td>assembly_shop</td>\n",
       "      <td>1866</td>\n",
       "      <td>9116</td>\n",
       "      <td>4.89</td>\n",
       "    </tr>\n",
       "    <tr>\n",
       "      <th>4</th>\n",
       "      <td>pve</td>\n",
       "      <td>research_center</td>\n",
       "      <td>1866</td>\n",
       "      <td>3697</td>\n",
       "      <td>1.98</td>\n",
       "    </tr>\n",
       "    <tr>\n",
       "      <th>5</th>\n",
       "      <td>pve</td>\n",
       "      <td>spaceport</td>\n",
       "      <td>1866</td>\n",
       "      <td>10788</td>\n",
       "      <td>5.78</td>\n",
       "    </tr>\n",
       "    <tr>\n",
       "      <th>6</th>\n",
       "      <td>pvp</td>\n",
       "      <td>assembly_shop</td>\n",
       "      <td>3951</td>\n",
       "      <td>16298</td>\n",
       "      <td>4.13</td>\n",
       "    </tr>\n",
       "    <tr>\n",
       "      <th>7</th>\n",
       "      <td>pvp</td>\n",
       "      <td>research_center</td>\n",
       "      <td>2342</td>\n",
       "      <td>3755</td>\n",
       "      <td>1.60</td>\n",
       "    </tr>\n",
       "    <tr>\n",
       "      <th>8</th>\n",
       "      <td>pvp</td>\n",
       "      <td>spaceport</td>\n",
       "      <td>3894</td>\n",
       "      <td>17132</td>\n",
       "      <td>4.40</td>\n",
       "    </tr>\n",
       "  </tbody>\n",
       "</table>\n",
       "</div>"
      ],
      "text/plain": [
       "      strategy    building_type  nunique  count  mean\n",
       "0  in_progress    assembly_shop     7759  29080  3.75\n",
       "1  in_progress  research_center     3463   6685  1.93\n",
       "2  in_progress        spaceport     7471  31405  4.20\n",
       "3          pve    assembly_shop     1866   9116  4.89\n",
       "4          pve  research_center     1866   3697  1.98\n",
       "5          pve        spaceport     1866  10788  5.78\n",
       "6          pvp    assembly_shop     3951  16298  4.13\n",
       "7          pvp  research_center     2342   3755  1.60\n",
       "8          pvp        spaceport     3894  17132  4.40"
      ]
     },
     "execution_count": 21,
     "metadata": {},
     "output_type": "execute_result"
    }
   ],
   "source": [
    "data = (game_actions\n",
    "        .groupby(['strategy', 'building_type'])\n",
    "        .agg({'user_id': ['nunique', 'count']})\n",
    "       )\n",
    "data.columns = data.columns.droplevel()\n",
    "data['mean'] = round(data['count']/data['nunique'], 2)\n",
    "data = data.reset_index()\n",
    "data"
   ]
  },
  {
   "cell_type": "code",
   "execution_count": 22,
   "id": "13108d03",
   "metadata": {},
   "outputs": [
    {
     "data": {
      "image/png": "[encoded data removed]",
      "text/plain": [
       "<Figure size 1080x432 with 1 Axes>"
      ]
     },
     "metadata": {},
     "output_type": "display_data"
    }
   ],
   "source": [
    "f, ax = plt.subplots(figsize=(15, 6))\n",
    "sns.barplot(x='strategy', y='mean', hue='building_type', data=data)\n",
    "plt.xlabel('Стратегия прохождения', size=12)\n",
    "plt.ylabel('Количество построек', size=12)\n",
    "plt.title('Количество зданий на пользователя', size=12)\n",
    "plt.show()"
   ]
  },
  {
   "cell_type": "code",
   "execution_count": 23,
   "id": "dee3e3b9",
   "metadata": {},
   "outputs": [
    {
     "data": {
      "text/html": [
       "<div>\n",
       "<style scoped>\n",
       "    .dataframe tbody tr th:only-of-type {\n",
       "        vertical-align: middle;\n",
       "    }\n",
       "\n",
       "    .dataframe tbody tr th {\n",
       "        vertical-align: top;\n",
       "    }\n",
       "\n",
       "    .dataframe thead th {\n",
       "        text-align: right;\n",
       "    }\n",
       "</style>\n",
       "<table border=\"1\" class=\"dataframe\">\n",
       "  <thead>\n",
       "    <tr style=\"text-align: right;\">\n",
       "      <th></th>\n",
       "      <th>strategy</th>\n",
       "      <th>mean</th>\n",
       "    </tr>\n",
       "  </thead>\n",
       "  <tbody>\n",
       "    <tr>\n",
       "      <th>0</th>\n",
       "      <td>in_progress</td>\n",
       "      <td>9.88</td>\n",
       "    </tr>\n",
       "    <tr>\n",
       "      <th>1</th>\n",
       "      <td>pve</td>\n",
       "      <td>12.65</td>\n",
       "    </tr>\n",
       "    <tr>\n",
       "      <th>2</th>\n",
       "      <td>pvp</td>\n",
       "      <td>10.13</td>\n",
       "    </tr>\n",
       "  </tbody>\n",
       "</table>\n",
       "</div>"
      ],
      "text/plain": [
       "      strategy   mean\n",
       "0  in_progress   9.88\n",
       "1          pve  12.65\n",
       "2          pvp  10.13"
      ]
     },
     "execution_count": 23,
     "metadata": {},
     "output_type": "execute_result"
    }
   ],
   "source": [
    "data.groupby(['strategy']).agg({'mean':'sum'}).reset_index()"
   ]
  },
  {
   "cell_type": "markdown",
   "id": "90037837",
   "metadata": {},
   "source": [
    "Как можно видеть, пользователи, не закончившие задания 1 уровня, строят в среднем меньше зданий."
   ]
  },
  {
   "cell_type": "markdown",
   "id": "b05c6cb9",
   "metadata": {},
   "source": [
    "### Показатели эффективности рекламы."
   ]
  },
  {
   "cell_type": "markdown",
   "id": "659e79ff",
   "metadata": {},
   "source": [
    "Для последующих расчетов стоимости привлечения необходимо добавить столбец с информацией о первой активности пользователя в игре."
   ]
  },
  {
   "cell_type": "code",
   "execution_count": 24,
   "id": "b8524341",
   "metadata": {},
   "outputs": [
    {
     "data": {
      "text/html": [
       "<div>\n",
       "<style scoped>\n",
       "    .dataframe tbody tr th:only-of-type {\n",
       "        vertical-align: middle;\n",
       "    }\n",
       "\n",
       "    .dataframe tbody tr th {\n",
       "        vertical-align: top;\n",
       "    }\n",
       "\n",
       "    .dataframe thead th {\n",
       "        text-align: right;\n",
       "    }\n",
       "</style>\n",
       "<table border=\"1\" class=\"dataframe\">\n",
       "  <thead>\n",
       "    <tr style=\"text-align: right;\">\n",
       "      <th></th>\n",
       "      <th>user_id</th>\n",
       "      <th>source</th>\n",
       "      <th>first_activity</th>\n",
       "    </tr>\n",
       "  </thead>\n",
       "  <tbody>\n",
       "    <tr>\n",
       "      <th>0</th>\n",
       "      <td>0001f83c-c6ac-4621-b7f0-8a28b283ac30</td>\n",
       "      <td>facebook_ads</td>\n",
       "      <td>2020-05-06</td>\n",
       "    </tr>\n",
       "    <tr>\n",
       "      <th>1</th>\n",
       "      <td>00151b4f-ba38-44a8-a650-d7cf130a0105</td>\n",
       "      <td>yandex_direct</td>\n",
       "      <td>2020-05-06</td>\n",
       "    </tr>\n",
       "    <tr>\n",
       "      <th>2</th>\n",
       "      <td>001aaea6-3d14-43f1-8ca8-7f48820f17aa</td>\n",
       "      <td>youtube_channel_reklama</td>\n",
       "      <td>2020-05-05</td>\n",
       "    </tr>\n",
       "    <tr>\n",
       "      <th>3</th>\n",
       "      <td>001d39dc-366c-4021-9604-6a3b9ff01e25</td>\n",
       "      <td>instagram_new_adverts</td>\n",
       "      <td>2020-05-05</td>\n",
       "    </tr>\n",
       "    <tr>\n",
       "      <th>4</th>\n",
       "      <td>002f508f-67b6-479f-814b-b05f00d4e995</td>\n",
       "      <td>facebook_ads</td>\n",
       "      <td>2020-05-05</td>\n",
       "    </tr>\n",
       "  </tbody>\n",
       "</table>\n",
       "</div>"
      ],
      "text/plain": [
       "                                user_id                   source  \\\n",
       "0  0001f83c-c6ac-4621-b7f0-8a28b283ac30             facebook_ads   \n",
       "1  00151b4f-ba38-44a8-a650-d7cf130a0105            yandex_direct   \n",
       "2  001aaea6-3d14-43f1-8ca8-7f48820f17aa  youtube_channel_reklama   \n",
       "3  001d39dc-366c-4021-9604-6a3b9ff01e25    instagram_new_adverts   \n",
       "4  002f508f-67b6-479f-814b-b05f00d4e995             facebook_ads   \n",
       "\n",
       "  first_activity  \n",
       "0     2020-05-06  \n",
       "1     2020-05-06  \n",
       "2     2020-05-05  \n",
       "3     2020-05-05  \n",
       "4     2020-05-05  "
      ]
     },
     "execution_count": 24,
     "metadata": {},
     "output_type": "execute_result"
    }
   ],
   "source": [
    "first_activity = game_actions.groupby(['user_id'])['event_datetime'].min()\n",
    "user_source = user_source.join(first_activity, on='user_id')\n",
    "user_source = user_source.rename(columns={'event_datetime':'first_activity'})\n",
    "user_source.head(5)"
   ]
  },
  {
   "cell_type": "markdown",
   "id": "569e33d4",
   "metadata": {},
   "source": [
    "**Количество пользователей по каждому источнику рекламы**"
   ]
  },
  {
   "cell_type": "code",
   "execution_count": 25,
   "id": "50761c65",
   "metadata": {},
   "outputs": [
    {
     "data": {
      "image/png": "[encoded data removed]",
      "text/plain": [
       "<Figure size 720x432 with 1 Axes>"
      ]
     },
     "metadata": {},
     "output_type": "display_data"
    }
   ],
   "source": [
    "users_per_source = (user_source.groupby(['source'])\n",
    "                    .agg({'user_id':'count'})\n",
    "                    .reset_index())\n",
    "f, ax = plt.subplots(figsize=(10, 6))\n",
    "sns.barplot(x='source', y='user_id', data=users_per_source)\n",
    "plt.xlabel('Источник', size=12)\n",
    "plt.ylabel('Количество пользователей', size=12)\n",
    "plt.title('Количество пользователей по источникам', size=12)\n",
    "plt.show()"
   ]
  },
  {
   "cell_type": "markdown",
   "id": "e08ac111",
   "metadata": {},
   "source": [
    "Больше всего пользователей приходит из yandex direct."
   ]
  },
  {
   "cell_type": "markdown",
   "id": "898653c2",
   "metadata": {},
   "source": [
    "**Стоимость привлечения пользователя**"
   ]
  },
  {
   "cell_type": "markdown",
   "id": "346ea70f",
   "metadata": {},
   "source": [
    "Подсчитаем количество пользователей в день по источникам. Создадим столбец с датой затрат на рекламу."
   ]
  },
  {
   "cell_type": "code",
   "execution_count": 26,
   "id": "d09afcd8",
   "metadata": {},
   "outputs": [
    {
     "data": {
      "text/html": [
       "<div>\n",
       "<style scoped>\n",
       "    .dataframe tbody tr th:only-of-type {\n",
       "        vertical-align: middle;\n",
       "    }\n",
       "\n",
       "    .dataframe tbody tr th {\n",
       "        vertical-align: top;\n",
       "    }\n",
       "\n",
       "    .dataframe thead th {\n",
       "        text-align: right;\n",
       "    }\n",
       "</style>\n",
       "<table border=\"1\" class=\"dataframe\">\n",
       "  <thead>\n",
       "    <tr style=\"text-align: right;\">\n",
       "      <th></th>\n",
       "      <th>first_activity</th>\n",
       "      <th>source</th>\n",
       "      <th>users_cnt</th>\n",
       "      <th>payment_dt</th>\n",
       "    </tr>\n",
       "  </thead>\n",
       "  <tbody>\n",
       "    <tr>\n",
       "      <th>0</th>\n",
       "      <td>2020-05-04</td>\n",
       "      <td>facebook_ads</td>\n",
       "      <td>1184</td>\n",
       "      <td>2020-05-03</td>\n",
       "    </tr>\n",
       "    <tr>\n",
       "      <th>1</th>\n",
       "      <td>2020-05-04</td>\n",
       "      <td>instagram_new_adverts</td>\n",
       "      <td>1452</td>\n",
       "      <td>2020-05-03</td>\n",
       "    </tr>\n",
       "    <tr>\n",
       "      <th>2</th>\n",
       "      <td>2020-05-04</td>\n",
       "      <td>yandex_direct</td>\n",
       "      <td>2078</td>\n",
       "      <td>2020-05-03</td>\n",
       "    </tr>\n",
       "    <tr>\n",
       "      <th>3</th>\n",
       "      <td>2020-05-04</td>\n",
       "      <td>youtube_channel_reklama</td>\n",
       "      <td>1146</td>\n",
       "      <td>2020-05-03</td>\n",
       "    </tr>\n",
       "    <tr>\n",
       "      <th>4</th>\n",
       "      <td>2020-05-05</td>\n",
       "      <td>facebook_ads</td>\n",
       "      <td>694</td>\n",
       "      <td>2020-05-04</td>\n",
       "    </tr>\n",
       "  </tbody>\n",
       "</table>\n",
       "</div>"
      ],
      "text/plain": [
       "  first_activity                   source  users_cnt payment_dt\n",
       "0     2020-05-04             facebook_ads       1184 2020-05-03\n",
       "1     2020-05-04    instagram_new_adverts       1452 2020-05-03\n",
       "2     2020-05-04            yandex_direct       2078 2020-05-03\n",
       "3     2020-05-04  youtube_channel_reklama       1146 2020-05-03\n",
       "4     2020-05-05             facebook_ads        694 2020-05-04"
      ]
     },
     "execution_count": 26,
     "metadata": {},
     "output_type": "execute_result"
    }
   ],
   "source": [
    "users_per_day = (user_source\n",
    "                 .groupby(['first_activity', 'source'])\n",
    "                 .agg({'user_id': 'nunique'})\n",
    "                 .reset_index()\n",
    "                 .rename(columns={'user_id': 'users_cnt'})\n",
    "                )\n",
    "users_per_day['payment_dt'] = users_per_day['first_activity'] - pd.Timedelta(days=1)\n",
    "users_per_day.head(5)"
   ]
  },
  {
   "cell_type": "markdown",
   "id": "7522e4a7",
   "metadata": {},
   "source": [
    "Объединим результат с таблицой стоимости кликов по рекламе. Сгруппируем объединенную таблицу, добавим столбец с расчетом стоимости привлечения пользователя."
   ]
  },
  {
   "cell_type": "code",
   "execution_count": 27,
   "id": "2cd63f14",
   "metadata": {},
   "outputs": [
    {
     "data": {
      "text/html": [
       "<div>\n",
       "<style scoped>\n",
       "    .dataframe tbody tr th:only-of-type {\n",
       "        vertical-align: middle;\n",
       "    }\n",
       "\n",
       "    .dataframe tbody tr th {\n",
       "        vertical-align: top;\n",
       "    }\n",
       "\n",
       "    .dataframe thead th {\n",
       "        text-align: right;\n",
       "    }\n",
       "</style>\n",
       "<table border=\"1\" class=\"dataframe\">\n",
       "  <thead>\n",
       "    <tr style=\"text-align: right;\">\n",
       "      <th></th>\n",
       "      <th>source</th>\n",
       "      <th>cost</th>\n",
       "      <th>users_cnt</th>\n",
       "      <th>CAC</th>\n",
       "    </tr>\n",
       "  </thead>\n",
       "  <tbody>\n",
       "    <tr>\n",
       "      <th>0</th>\n",
       "      <td>facebook_ads</td>\n",
       "      <td>2140.905</td>\n",
       "      <td>2726</td>\n",
       "      <td>0.785</td>\n",
       "    </tr>\n",
       "    <tr>\n",
       "      <th>1</th>\n",
       "      <td>instagram_new_adverts</td>\n",
       "      <td>2161.442</td>\n",
       "      <td>3347</td>\n",
       "      <td>0.646</td>\n",
       "    </tr>\n",
       "    <tr>\n",
       "      <th>2</th>\n",
       "      <td>yandex_direct</td>\n",
       "      <td>2233.111</td>\n",
       "      <td>4817</td>\n",
       "      <td>0.464</td>\n",
       "    </tr>\n",
       "    <tr>\n",
       "      <th>3</th>\n",
       "      <td>youtube_channel_reklama</td>\n",
       "      <td>1068.119</td>\n",
       "      <td>2686</td>\n",
       "      <td>0.398</td>\n",
       "    </tr>\n",
       "  </tbody>\n",
       "</table>\n",
       "</div>"
      ],
      "text/plain": [
       "                    source      cost  users_cnt    CAC\n",
       "0             facebook_ads  2140.905       2726  0.785\n",
       "1    instagram_new_adverts  2161.442       3347  0.646\n",
       "2            yandex_direct  2233.111       4817  0.464\n",
       "3  youtube_channel_reklama  1068.119       2686  0.398"
      ]
     },
     "metadata": {},
     "output_type": "display_data"
    },
    {
     "name": "stdout",
     "output_type": "stream",
     "text": [
      "\n",
      "Средний CAC: 0.57\n"
     ]
    }
   ],
   "source": [
    "costs_per_source = (pd.merge(ad_costs, users_per_day,\n",
    "                             how='left',\n",
    "                             left_on=['day','source'], right_on = ['payment_dt','source'])\n",
    "                    .groupby('source').agg({'cost':'sum', 'users_cnt':'sum'})\n",
    "                    .reset_index()\n",
    "                   )\n",
    "costs_per_source['cost'] = round(costs_per_source['cost'], 3)\n",
    "costs_per_source['CAC'] = round(costs_per_source['cost'] / costs_per_source['users_cnt'], 3)\n",
    "display(costs_per_source)\n",
    "print()\n",
    "print('Средний CAC:', round(costs_per_source['CAC'].mean(), 2))"
   ]
  },
  {
   "cell_type": "markdown",
   "id": "b1d9ca8e",
   "metadata": {},
   "source": [
    "Построим еще один график для наглядности."
   ]
  },
  {
   "cell_type": "code",
   "execution_count": 28,
   "id": "8bfc47ea",
   "metadata": {},
   "outputs": [
    {
     "data": {
      "image/png": "[encoded data removed]",
      "text/plain": [
       "<Figure size 720x432 with 1 Axes>"
      ]
     },
     "metadata": {},
     "output_type": "display_data"
    }
   ],
   "source": [
    "f, ax = plt.subplots(figsize=(10, 6))\n",
    "sns.barplot(x='source', y='CAC', data=costs_per_source)\n",
    "plt.xlabel('Источник', size=12)\n",
    "plt.ylabel('Стоимость привлечения пользователя', size=12)\n",
    "plt.title('CAC по источникам', size=12)\n",
    "plt.show()"
   ]
  },
  {
   "cell_type": "markdown",
   "id": "844a68e4",
   "metadata": {},
   "source": [
    "Ниже всех стоимость у рекламы на youtube, но как мы помним, оттуда и пользователей приходит меньше. Поэтому самым выгодным выглядит yandex direct. Что касается youtube, целесообразно продумать, как увеличить эффективность привлечения целевой аудитории по этому каналу."
   ]
  },
  {
   "cell_type": "markdown",
   "id": "da5ec34d",
   "metadata": {},
   "source": [
    "## Проверка гипотез."
   ]
  },
  {
   "cell_type": "markdown",
   "id": "25f96f2f",
   "metadata": {},
   "source": [
    "### Время завершения уровня различается в зависимости способа прохождения: через реализацию проекта либо через победу над первым игроком."
   ]
  },
  {
   "cell_type": "markdown",
   "id": "6fd85621",
   "metadata": {},
   "source": [
    "В данном случае сравниваются средние двух генеральных совокупностей: пользователи, прошедшие 1 уровень разными способами, поэтому применим Т-тест. Критический уровень статистической значимости примем равным 5%.\n",
    "\n",
    "Сформулируем гипотезы:\n",
    "* H0 - среднее время прохождения первого уровня игроками, реализующими проект и воюющими, одинаковое\n",
    "* H1 - среднее время прохождения первого уровня игроками, реализующими проект и воюющими, различается\n",
    "\n",
    "Выше уже были подготовлены таблицы с пользователями, победившими врага и завершившими проект. Можно ими воспользоваться. Удалим из них события постройки зданий, добавим столбец с датой начала игры и столбец с временем прохождения."
   ]
  },
  {
   "cell_type": "code",
   "execution_count": 29,
   "id": "bea976e5",
   "metadata": {},
   "outputs": [
    {
     "data": {
      "text/html": [
       "<div>\n",
       "<style scoped>\n",
       "    .dataframe tbody tr th:only-of-type {\n",
       "        vertical-align: middle;\n",
       "    }\n",
       "\n",
       "    .dataframe tbody tr th {\n",
       "        vertical-align: top;\n",
       "    }\n",
       "\n",
       "    .dataframe thead th {\n",
       "        text-align: right;\n",
       "    }\n",
       "</style>\n",
       "<table border=\"1\" class=\"dataframe\">\n",
       "  <thead>\n",
       "    <tr style=\"text-align: right;\">\n",
       "      <th></th>\n",
       "      <th>event_datetime</th>\n",
       "      <th>event</th>\n",
       "      <th>building_type</th>\n",
       "      <th>user_id</th>\n",
       "      <th>project_type</th>\n",
       "      <th>strategy</th>\n",
       "      <th>first_activity</th>\n",
       "    </tr>\n",
       "  </thead>\n",
       "  <tbody>\n",
       "    <tr>\n",
       "      <th>0</th>\n",
       "      <td>2020-05-04</td>\n",
       "      <td>building</td>\n",
       "      <td>assembly_shop</td>\n",
       "      <td>55e92310-cb8e-4754-b622-597e124b03de</td>\n",
       "      <td>NaN</td>\n",
       "      <td>in_progress</td>\n",
       "      <td>2020-05-04</td>\n",
       "    </tr>\n",
       "    <tr>\n",
       "      <th>1</th>\n",
       "      <td>2020-05-04</td>\n",
       "      <td>building</td>\n",
       "      <td>assembly_shop</td>\n",
       "      <td>c07b1c10-f477-44dc-81dc-ec82254b1347</td>\n",
       "      <td>NaN</td>\n",
       "      <td>pve</td>\n",
       "      <td>2020-05-04</td>\n",
       "    </tr>\n",
       "    <tr>\n",
       "      <th>2</th>\n",
       "      <td>2020-05-04</td>\n",
       "      <td>building</td>\n",
       "      <td>assembly_shop</td>\n",
       "      <td>6edd42cc-e753-4ff6-a947-2107cd560710</td>\n",
       "      <td>NaN</td>\n",
       "      <td>pvp</td>\n",
       "      <td>2020-05-04</td>\n",
       "    </tr>\n",
       "    <tr>\n",
       "      <th>3</th>\n",
       "      <td>2020-05-04</td>\n",
       "      <td>building</td>\n",
       "      <td>assembly_shop</td>\n",
       "      <td>92c69003-d60a-444a-827f-8cc51bf6bf4c</td>\n",
       "      <td>NaN</td>\n",
       "      <td>in_progress</td>\n",
       "      <td>2020-05-04</td>\n",
       "    </tr>\n",
       "    <tr>\n",
       "      <th>4</th>\n",
       "      <td>2020-05-04</td>\n",
       "      <td>building</td>\n",
       "      <td>assembly_shop</td>\n",
       "      <td>cdc6bb92-0ccb-4490-9866-ef142f09139d</td>\n",
       "      <td>NaN</td>\n",
       "      <td>pvp</td>\n",
       "      <td>2020-05-04</td>\n",
       "    </tr>\n",
       "  </tbody>\n",
       "</table>\n",
       "</div>"
      ],
      "text/plain": [
       "  event_datetime     event  building_type  \\\n",
       "0     2020-05-04  building  assembly_shop   \n",
       "1     2020-05-04  building  assembly_shop   \n",
       "2     2020-05-04  building  assembly_shop   \n",
       "3     2020-05-04  building  assembly_shop   \n",
       "4     2020-05-04  building  assembly_shop   \n",
       "\n",
       "                                user_id project_type     strategy  \\\n",
       "0  55e92310-cb8e-4754-b622-597e124b03de          NaN  in_progress   \n",
       "1  c07b1c10-f477-44dc-81dc-ec82254b1347          NaN          pve   \n",
       "2  6edd42cc-e753-4ff6-a947-2107cd560710          NaN          pvp   \n",
       "3  92c69003-d60a-444a-827f-8cc51bf6bf4c          NaN  in_progress   \n",
       "4  cdc6bb92-0ccb-4490-9866-ef142f09139d          NaN          pvp   \n",
       "\n",
       "  first_activity  \n",
       "0     2020-05-04  \n",
       "1     2020-05-04  \n",
       "2     2020-05-04  \n",
       "3     2020-05-04  \n",
       "4     2020-05-04  "
      ]
     },
     "execution_count": 29,
     "metadata": {},
     "output_type": "execute_result"
    }
   ],
   "source": [
    "first_activity.name = 'first_activity'\n",
    "game_actions = game_actions.join(first_activity, on='user_id')\n",
    "game_actions.head(5)"
   ]
  },
  {
   "cell_type": "code",
   "execution_count": 30,
   "id": "cef5e482",
   "metadata": {},
   "outputs": [
    {
     "data": {
      "text/html": [
       "<div>\n",
       "<style scoped>\n",
       "    .dataframe tbody tr th:only-of-type {\n",
       "        vertical-align: middle;\n",
       "    }\n",
       "\n",
       "    .dataframe tbody tr th {\n",
       "        vertical-align: top;\n",
       "    }\n",
       "\n",
       "    .dataframe thead th {\n",
       "        text-align: right;\n",
       "    }\n",
       "</style>\n",
       "<table border=\"1\" class=\"dataframe\">\n",
       "  <thead>\n",
       "    <tr style=\"text-align: right;\">\n",
       "      <th></th>\n",
       "      <th>event_datetime</th>\n",
       "      <th>event</th>\n",
       "      <th>building_type</th>\n",
       "      <th>user_id</th>\n",
       "      <th>project_type</th>\n",
       "      <th>strategy</th>\n",
       "      <th>first_activity</th>\n",
       "      <th>walkthrough_days</th>\n",
       "    </tr>\n",
       "  </thead>\n",
       "  <tbody>\n",
       "    <tr>\n",
       "      <th>47121</th>\n",
       "      <td>2020-05-08</td>\n",
       "      <td>project</td>\n",
       "      <td>NaN</td>\n",
       "      <td>e3c66498-9d45-4000-9392-f81e6796e7da</td>\n",
       "      <td>satellite_orbital_assembly</td>\n",
       "      <td>pve</td>\n",
       "      <td>2020-05-04</td>\n",
       "      <td>4</td>\n",
       "    </tr>\n",
       "    <tr>\n",
       "      <th>57398</th>\n",
       "      <td>2020-05-09</td>\n",
       "      <td>project</td>\n",
       "      <td>NaN</td>\n",
       "      <td>936e7af6-8338-4703-a1df-fc6c3f5b8e34</td>\n",
       "      <td>satellite_orbital_assembly</td>\n",
       "      <td>pve</td>\n",
       "      <td>2020-05-04</td>\n",
       "      <td>5</td>\n",
       "    </tr>\n",
       "    <tr>\n",
       "      <th>58797</th>\n",
       "      <td>2020-05-09</td>\n",
       "      <td>project</td>\n",
       "      <td>NaN</td>\n",
       "      <td>a4491c86-c498-4f74-a56e-65c136d0e9a1</td>\n",
       "      <td>satellite_orbital_assembly</td>\n",
       "      <td>pve</td>\n",
       "      <td>2020-05-04</td>\n",
       "      <td>5</td>\n",
       "    </tr>\n",
       "    <tr>\n",
       "      <th>61174</th>\n",
       "      <td>2020-05-09</td>\n",
       "      <td>project</td>\n",
       "      <td>NaN</td>\n",
       "      <td>85d9e675-562b-4329-8bbd-14d3b39096be</td>\n",
       "      <td>satellite_orbital_assembly</td>\n",
       "      <td>pve</td>\n",
       "      <td>2020-05-05</td>\n",
       "      <td>4</td>\n",
       "    </tr>\n",
       "    <tr>\n",
       "      <th>63770</th>\n",
       "      <td>2020-05-10</td>\n",
       "      <td>project</td>\n",
       "      <td>NaN</td>\n",
       "      <td>1889ca71-3c57-4e61-9ea6-a711971bbf0a</td>\n",
       "      <td>satellite_orbital_assembly</td>\n",
       "      <td>pve</td>\n",
       "      <td>2020-05-04</td>\n",
       "      <td>6</td>\n",
       "    </tr>\n",
       "  </tbody>\n",
       "</table>\n",
       "</div>"
      ],
      "text/plain": [
       "      event_datetime    event building_type  \\\n",
       "47121     2020-05-08  project           NaN   \n",
       "57398     2020-05-09  project           NaN   \n",
       "58797     2020-05-09  project           NaN   \n",
       "61174     2020-05-09  project           NaN   \n",
       "63770     2020-05-10  project           NaN   \n",
       "\n",
       "                                    user_id                project_type  \\\n",
       "47121  e3c66498-9d45-4000-9392-f81e6796e7da  satellite_orbital_assembly   \n",
       "57398  936e7af6-8338-4703-a1df-fc6c3f5b8e34  satellite_orbital_assembly   \n",
       "58797  a4491c86-c498-4f74-a56e-65c136d0e9a1  satellite_orbital_assembly   \n",
       "61174  85d9e675-562b-4329-8bbd-14d3b39096be  satellite_orbital_assembly   \n",
       "63770  1889ca71-3c57-4e61-9ea6-a711971bbf0a  satellite_orbital_assembly   \n",
       "\n",
       "      strategy first_activity  walkthrough_days  \n",
       "47121      pve     2020-05-04                 4  \n",
       "57398      pve     2020-05-04                 5  \n",
       "58797      pve     2020-05-04                 5  \n",
       "61174      pve     2020-05-05                 4  \n",
       "63770      pve     2020-05-04                 6  "
      ]
     },
     "execution_count": 30,
     "metadata": {},
     "output_type": "execute_result"
    }
   ],
   "source": [
    "project_completed = (game_actions\n",
    "                     .query(\"strategy=='pve' and event=='project'\")\n",
    "                    )\n",
    "project_completed['walkthrough_days'] = (project_completed['event_datetime'] - project_completed['first_activity']).dt.days\n",
    "project_completed.head(5)"
   ]
  },
  {
   "cell_type": "markdown",
   "id": "af9c239e",
   "metadata": {},
   "source": [
    "Для победы над врагом нет отдельного события. Поэтому придется использовать событие завершения уровня, хотя оно, судя по всемму, происходит не автоматически."
   ]
  },
  {
   "cell_type": "code",
   "execution_count": 31,
   "id": "5f200386",
   "metadata": {
    "scrolled": true
   },
   "outputs": [
    {
     "data": {
      "text/html": [
       "<div>\n",
       "<style scoped>\n",
       "    .dataframe tbody tr th:only-of-type {\n",
       "        vertical-align: middle;\n",
       "    }\n",
       "\n",
       "    .dataframe tbody tr th {\n",
       "        vertical-align: top;\n",
       "    }\n",
       "\n",
       "    .dataframe thead th {\n",
       "        text-align: right;\n",
       "    }\n",
       "</style>\n",
       "<table border=\"1\" class=\"dataframe\">\n",
       "  <thead>\n",
       "    <tr style=\"text-align: right;\">\n",
       "      <th></th>\n",
       "      <th>event_datetime</th>\n",
       "      <th>event</th>\n",
       "      <th>building_type</th>\n",
       "      <th>user_id</th>\n",
       "      <th>project_type</th>\n",
       "      <th>strategy</th>\n",
       "      <th>first_activity</th>\n",
       "      <th>walkthrough_days</th>\n",
       "    </tr>\n",
       "  </thead>\n",
       "  <tbody>\n",
       "    <tr>\n",
       "      <th>6659</th>\n",
       "      <td>2020-05-04</td>\n",
       "      <td>finished_stage_1</td>\n",
       "      <td>NaN</td>\n",
       "      <td>ced7b368-818f-48f6-9461-2346de0892c5</td>\n",
       "      <td>NaN</td>\n",
       "      <td>pvp</td>\n",
       "      <td>2020-05-04</td>\n",
       "      <td>0</td>\n",
       "    </tr>\n",
       "    <tr>\n",
       "      <th>13134</th>\n",
       "      <td>2020-05-05</td>\n",
       "      <td>finished_stage_1</td>\n",
       "      <td>NaN</td>\n",
       "      <td>7ef7fc89-2779-46ea-b328-9e5035b83af5</td>\n",
       "      <td>NaN</td>\n",
       "      <td>pvp</td>\n",
       "      <td>2020-05-04</td>\n",
       "      <td>1</td>\n",
       "    </tr>\n",
       "    <tr>\n",
       "      <th>15274</th>\n",
       "      <td>2020-05-05</td>\n",
       "      <td>finished_stage_1</td>\n",
       "      <td>NaN</td>\n",
       "      <td>70db22b3-c2f4-43bc-94ea-51c8d2904a29</td>\n",
       "      <td>NaN</td>\n",
       "      <td>pvp</td>\n",
       "      <td>2020-05-04</td>\n",
       "      <td>1</td>\n",
       "    </tr>\n",
       "    <tr>\n",
       "      <th>16284</th>\n",
       "      <td>2020-05-05</td>\n",
       "      <td>finished_stage_1</td>\n",
       "      <td>NaN</td>\n",
       "      <td>903fc9ef-ba97-4b12-9d5c-ac8d602fbd8b</td>\n",
       "      <td>NaN</td>\n",
       "      <td>pvp</td>\n",
       "      <td>2020-05-04</td>\n",
       "      <td>1</td>\n",
       "    </tr>\n",
       "    <tr>\n",
       "      <th>19650</th>\n",
       "      <td>2020-05-06</td>\n",
       "      <td>finished_stage_1</td>\n",
       "      <td>NaN</td>\n",
       "      <td>58e077ba-feb1-4556-a5a0-d96bd04efa39</td>\n",
       "      <td>NaN</td>\n",
       "      <td>pvp</td>\n",
       "      <td>2020-05-04</td>\n",
       "      <td>2</td>\n",
       "    </tr>\n",
       "  </tbody>\n",
       "</table>\n",
       "</div>"
      ],
      "text/plain": [
       "      event_datetime             event building_type  \\\n",
       "6659      2020-05-04  finished_stage_1           NaN   \n",
       "13134     2020-05-05  finished_stage_1           NaN   \n",
       "15274     2020-05-05  finished_stage_1           NaN   \n",
       "16284     2020-05-05  finished_stage_1           NaN   \n",
       "19650     2020-05-06  finished_stage_1           NaN   \n",
       "\n",
       "                                    user_id project_type strategy  \\\n",
       "6659   ced7b368-818f-48f6-9461-2346de0892c5          NaN      pvp   \n",
       "13134  7ef7fc89-2779-46ea-b328-9e5035b83af5          NaN      pvp   \n",
       "15274  70db22b3-c2f4-43bc-94ea-51c8d2904a29          NaN      pvp   \n",
       "16284  903fc9ef-ba97-4b12-9d5c-ac8d602fbd8b          NaN      pvp   \n",
       "19650  58e077ba-feb1-4556-a5a0-d96bd04efa39          NaN      pvp   \n",
       "\n",
       "      first_activity  walkthrough_days  \n",
       "6659      2020-05-04                 0  \n",
       "13134     2020-05-04                 1  \n",
       "15274     2020-05-04                 1  \n",
       "16284     2020-05-04                 1  \n",
       "19650     2020-05-04                 2  "
      ]
     },
     "execution_count": 31,
     "metadata": {},
     "output_type": "execute_result"
    }
   ],
   "source": [
    "enemy_defeated = (game_actions\n",
    "                  .query(\"strategy=='pvp' and event=='finished_stage_1'\")\n",
    "                 )\n",
    "enemy_defeated['walkthrough_days'] = (enemy_defeated['event_datetime'] - enemy_defeated['first_activity']).dt.days\n",
    "enemy_defeated.head(5)"
   ]
  },
  {
   "cell_type": "code",
   "execution_count": 32,
   "id": "0440ce79",
   "metadata": {},
   "outputs": [
    {
     "data": {
      "image/png": "[encoded data removed]",
      "text/plain": [
       "<Figure size 720x432 with 1 Axes>"
      ]
     },
     "metadata": {},
     "output_type": "display_data"
    }
   ],
   "source": [
    "f, ax = plt.subplots(figsize=(10, 6))\n",
    "sns.histplot(data=project_completed, x='walkthrough_days', bins=26, color='green', label = 'проект завершен')\n",
    "sns.histplot(data=enemy_defeated, x='walkthrough_days', bins=30, alpha=0.5, label = 'враг побежден')\n",
    "plt.xlabel('Время прохождения в днях', size=12)\n",
    "plt.ylabel('Количество пользователей', size=12)\n",
    "plt.title('Время прохождения 1 уровня', size=12)\n",
    "plt.legend()\n",
    "plt.show()"
   ]
  },
  {
   "cell_type": "markdown",
   "id": "ad86f325",
   "metadata": {},
   "source": [
    "Судя по графику, пользователей, которые выбирают проходить уровень через победу над врагом, больше, но по форме распределения похожие. Проверим гипотезу с помощью Т-теста. Расчитаем дисперсии двух генеральных совокупностей, чтобы понять, равны они или нет."
   ]
  },
  {
   "cell_type": "code",
   "execution_count": 33,
   "id": "d1ff0895",
   "metadata": {},
   "outputs": [
    {
     "name": "stdout",
     "output_type": "stream",
     "text": [
      "Дисперсия для завершивших проект: 13.33\n",
      "Дисперсия для победивших врага 16.85\n"
     ]
    }
   ],
   "source": [
    "print('Дисперсия для завершивших проект:', round(np.var(project_completed['walkthrough_days']), 2))\n",
    "print('Дисперсия для победивших врага', round(np.var(enemy_defeated['walkthrough_days']), 2))"
   ]
  },
  {
   "cell_type": "markdown",
   "id": "029ecc17",
   "metadata": {},
   "source": [
    "Поскольку дисперсии не равны, необходимо учесть это при проверке гипотезы."
   ]
  },
  {
   "cell_type": "code",
   "execution_count": 35,
   "id": "b011f9ad",
   "metadata": {
    "scrolled": true
   },
   "outputs": [
    {
     "name": "stdout",
     "output_type": "stream",
     "text": [
      "p-значение: 6.518879692328641e-13\n",
      "Отвергаем нулевую гипотезу\n"
     ]
    }
   ],
   "source": [
    "alpha = .05\n",
    "\n",
    "results = st.ttest_ind(\n",
    "    project_completed['walkthrough_days'], \n",
    "    enemy_defeated['walkthrough_days'],\n",
    "    equal_var=False\n",
    ")\n",
    "\n",
    "print('p-значение:', results.pvalue)\n",
    "\n",
    "if results.pvalue < alpha:\n",
    "    print(\"Отвергаем нулевую гипотезу\")\n",
    "else:\n",
    "    print(\"Не получилось отвергнуть нулевую гипотезу\") "
   ]
  },
  {
   "cell_type": "markdown",
   "id": "9cb63b01",
   "metadata": {},
   "source": [
    "Отсутствуют статистически значимые различия средних значений времени прохождения уровня между пользователями, которые заканчивают уровень через реализацию проекта, и пользователями, которые заканчивают уровень победой над другим игроком."
   ]
  },
  {
   "cell_type": "markdown",
   "id": "7b83752f",
   "metadata": {},
   "source": [
    "### Количество построенных зданий различается для пользователей, пришедших из yandex direct и из instagram.\n",
    "\n",
    "Сравним эти 2 источника, т.к. из них приходит больше всего пользователей, а стоимость привлечения через них средняя. \n",
    "В данном случае снова сравниваются средние двух генеральных совокупностей: пользователи, пришедшие из разных рекламных источников, поэтому применим Т-тест. Критический уровень статистической значимости примем равным 5%.\n",
    "\n",
    "Сформулируем гипотезы:\n",
    "* H0 - среднее количество зданий, построенных пользователями, привлеченными через yandex_direct и через instagram, одинаковое\n",
    "* H1 - среднее количество зданий, построенных пользователями, привлеченными через yandex_direct и через instagram, разное\n",
    "\n",
    "Объединим таблицы с игровыми сессиями и рекламными источниками. Оставим только события постройки зданий. Затем сгруппируем таблицу, подсчитав количество зданий для каждого пользователя."
   ]
  },
  {
   "cell_type": "code",
   "execution_count": 36,
   "id": "df6f08b4",
   "metadata": {},
   "outputs": [
    {
     "data": {
      "text/html": [
       "<div>\n",
       "<style scoped>\n",
       "    .dataframe tbody tr th:only-of-type {\n",
       "        vertical-align: middle;\n",
       "    }\n",
       "\n",
       "    .dataframe tbody tr th {\n",
       "        vertical-align: top;\n",
       "    }\n",
       "\n",
       "    .dataframe thead th {\n",
       "        text-align: right;\n",
       "    }\n",
       "</style>\n",
       "<table border=\"1\" class=\"dataframe\">\n",
       "  <thead>\n",
       "    <tr style=\"text-align: right;\">\n",
       "      <th></th>\n",
       "      <th>event_datetime</th>\n",
       "      <th>event</th>\n",
       "      <th>building_type</th>\n",
       "      <th>user_id</th>\n",
       "      <th>project_type</th>\n",
       "      <th>strategy</th>\n",
       "      <th>first_activity_x</th>\n",
       "      <th>source</th>\n",
       "      <th>first_activity_y</th>\n",
       "    </tr>\n",
       "  </thead>\n",
       "  <tbody>\n",
       "    <tr>\n",
       "      <th>0</th>\n",
       "      <td>2020-05-04</td>\n",
       "      <td>building</td>\n",
       "      <td>assembly_shop</td>\n",
       "      <td>55e92310-cb8e-4754-b622-597e124b03de</td>\n",
       "      <td>NaN</td>\n",
       "      <td>in_progress</td>\n",
       "      <td>2020-05-04</td>\n",
       "      <td>youtube_channel_reklama</td>\n",
       "      <td>2020-05-04</td>\n",
       "    </tr>\n",
       "    <tr>\n",
       "      <th>1</th>\n",
       "      <td>2020-05-04</td>\n",
       "      <td>building</td>\n",
       "      <td>assembly_shop</td>\n",
       "      <td>c07b1c10-f477-44dc-81dc-ec82254b1347</td>\n",
       "      <td>NaN</td>\n",
       "      <td>pve</td>\n",
       "      <td>2020-05-04</td>\n",
       "      <td>facebook_ads</td>\n",
       "      <td>2020-05-04</td>\n",
       "    </tr>\n",
       "    <tr>\n",
       "      <th>2</th>\n",
       "      <td>2020-05-04</td>\n",
       "      <td>building</td>\n",
       "      <td>assembly_shop</td>\n",
       "      <td>6edd42cc-e753-4ff6-a947-2107cd560710</td>\n",
       "      <td>NaN</td>\n",
       "      <td>pvp</td>\n",
       "      <td>2020-05-04</td>\n",
       "      <td>instagram_new_adverts</td>\n",
       "      <td>2020-05-04</td>\n",
       "    </tr>\n",
       "    <tr>\n",
       "      <th>3</th>\n",
       "      <td>2020-05-04</td>\n",
       "      <td>building</td>\n",
       "      <td>assembly_shop</td>\n",
       "      <td>92c69003-d60a-444a-827f-8cc51bf6bf4c</td>\n",
       "      <td>NaN</td>\n",
       "      <td>in_progress</td>\n",
       "      <td>2020-05-04</td>\n",
       "      <td>facebook_ads</td>\n",
       "      <td>2020-05-04</td>\n",
       "    </tr>\n",
       "    <tr>\n",
       "      <th>4</th>\n",
       "      <td>2020-05-04</td>\n",
       "      <td>building</td>\n",
       "      <td>assembly_shop</td>\n",
       "      <td>cdc6bb92-0ccb-4490-9866-ef142f09139d</td>\n",
       "      <td>NaN</td>\n",
       "      <td>pvp</td>\n",
       "      <td>2020-05-04</td>\n",
       "      <td>yandex_direct</td>\n",
       "      <td>2020-05-04</td>\n",
       "    </tr>\n",
       "  </tbody>\n",
       "</table>\n",
       "</div>"
      ],
      "text/plain": [
       "  event_datetime     event  building_type  \\\n",
       "0     2020-05-04  building  assembly_shop   \n",
       "1     2020-05-04  building  assembly_shop   \n",
       "2     2020-05-04  building  assembly_shop   \n",
       "3     2020-05-04  building  assembly_shop   \n",
       "4     2020-05-04  building  assembly_shop   \n",
       "\n",
       "                                user_id project_type     strategy  \\\n",
       "0  55e92310-cb8e-4754-b622-597e124b03de          NaN  in_progress   \n",
       "1  c07b1c10-f477-44dc-81dc-ec82254b1347          NaN          pve   \n",
       "2  6edd42cc-e753-4ff6-a947-2107cd560710          NaN          pvp   \n",
       "3  92c69003-d60a-444a-827f-8cc51bf6bf4c          NaN  in_progress   \n",
       "4  cdc6bb92-0ccb-4490-9866-ef142f09139d          NaN          pvp   \n",
       "\n",
       "  first_activity_x                   source first_activity_y  \n",
       "0       2020-05-04  youtube_channel_reklama       2020-05-04  \n",
       "1       2020-05-04             facebook_ads       2020-05-04  \n",
       "2       2020-05-04    instagram_new_adverts       2020-05-04  \n",
       "3       2020-05-04             facebook_ads       2020-05-04  \n",
       "4       2020-05-04            yandex_direct       2020-05-04  "
      ]
     },
     "execution_count": 36,
     "metadata": {},
     "output_type": "execute_result"
    }
   ],
   "source": [
    "events_and_source = pd.merge(game_actions, user_source, on=['user_id'], how='left')\n",
    "events_and_source.head(5)"
   ]
  },
  {
   "cell_type": "code",
   "execution_count": 37,
   "id": "29d8e8ad",
   "metadata": {
    "scrolled": true
   },
   "outputs": [
    {
     "data": {
      "text/html": [
       "<div>\n",
       "<style scoped>\n",
       "    .dataframe tbody tr th:only-of-type {\n",
       "        vertical-align: middle;\n",
       "    }\n",
       "\n",
       "    .dataframe tbody tr th {\n",
       "        vertical-align: top;\n",
       "    }\n",
       "\n",
       "    .dataframe thead th {\n",
       "        text-align: right;\n",
       "    }\n",
       "</style>\n",
       "<table border=\"1\" class=\"dataframe\">\n",
       "  <thead>\n",
       "    <tr style=\"text-align: right;\">\n",
       "      <th></th>\n",
       "      <th>event_datetime</th>\n",
       "      <th>user_id</th>\n",
       "      <th>source</th>\n",
       "      <th>event</th>\n",
       "    </tr>\n",
       "  </thead>\n",
       "  <tbody>\n",
       "    <tr>\n",
       "      <th>0</th>\n",
       "      <td>2020-05-04</td>\n",
       "      <td>003b80c6-4164-4157-bb2a-03d0181d39c4</td>\n",
       "      <td>yandex_direct</td>\n",
       "      <td>3</td>\n",
       "    </tr>\n",
       "    <tr>\n",
       "      <th>1</th>\n",
       "      <td>2020-05-04</td>\n",
       "      <td>004074f8-251a-4776-922c-8348dca1a2f6</td>\n",
       "      <td>facebook_ads</td>\n",
       "      <td>2</td>\n",
       "    </tr>\n",
       "    <tr>\n",
       "      <th>2</th>\n",
       "      <td>2020-05-04</td>\n",
       "      <td>00440efd-aa50-4b4b-aae8-ffcd1782729d</td>\n",
       "      <td>facebook_ads</td>\n",
       "      <td>1</td>\n",
       "    </tr>\n",
       "    <tr>\n",
       "      <th>3</th>\n",
       "      <td>2020-05-04</td>\n",
       "      <td>00464e5e-28ed-4be6-bf44-517ef7b3937b</td>\n",
       "      <td>yandex_direct</td>\n",
       "      <td>1</td>\n",
       "    </tr>\n",
       "    <tr>\n",
       "      <th>4</th>\n",
       "      <td>2020-05-04</td>\n",
       "      <td>005ff87b-b475-4da7-862e-57ab91adbff4</td>\n",
       "      <td>youtube_channel_reklama</td>\n",
       "      <td>1</td>\n",
       "    </tr>\n",
       "  </tbody>\n",
       "</table>\n",
       "</div>"
      ],
      "text/plain": [
       "  event_datetime                               user_id  \\\n",
       "0     2020-05-04  003b80c6-4164-4157-bb2a-03d0181d39c4   \n",
       "1     2020-05-04  004074f8-251a-4776-922c-8348dca1a2f6   \n",
       "2     2020-05-04  00440efd-aa50-4b4b-aae8-ffcd1782729d   \n",
       "3     2020-05-04  00464e5e-28ed-4be6-bf44-517ef7b3937b   \n",
       "4     2020-05-04  005ff87b-b475-4da7-862e-57ab91adbff4   \n",
       "\n",
       "                    source  event  \n",
       "0            yandex_direct      3  \n",
       "1             facebook_ads      2  \n",
       "2             facebook_ads      1  \n",
       "3            yandex_direct      1  \n",
       "4  youtube_channel_reklama      1  "
      ]
     },
     "execution_count": 37,
     "metadata": {},
     "output_type": "execute_result"
    }
   ],
   "source": [
    "buildings_per_user = (events_and_source[['event_datetime', 'event', 'user_id', 'source']]\n",
    "                      .loc[events_and_source['event']=='building']\n",
    "                      .groupby(['event_datetime','user_id', 'source'])\n",
    "                      .agg({'event': 'count'})\n",
    "                      .reset_index())\n",
    "buildings_per_user.head(5)"
   ]
  },
  {
   "cell_type": "markdown",
   "id": "66520bfd",
   "metadata": {},
   "source": [
    "Сравним дисперсии для двух рекламных источников."
   ]
  },
  {
   "cell_type": "code",
   "execution_count": 38,
   "id": "e9353a9e",
   "metadata": {},
   "outputs": [
    {
     "name": "stdout",
     "output_type": "stream",
     "text": [
      "Дисперсия для yandex: 0.47\n",
      "Дисперсия для instagram 0.47\n"
     ]
    }
   ],
   "source": [
    "print('Дисперсия для yandex:', round(np.var\n",
    "                                     (buildings_per_user\n",
    "                                      .loc[buildings_per_user['source']=='yandex_direct']\n",
    "                                      ['event']), 2))\n",
    "print('Дисперсия для instagram', round(np.var(buildings_per_user\n",
    "                                      .loc[buildings_per_user['source']=='instagram_new_adverts']\n",
    "                                      ['event']), 2))"
   ]
  },
  {
   "cell_type": "markdown",
   "id": "cce1ddca",
   "metadata": {},
   "source": [
    "Дисперсия одинаковая, можно не учитывать этот параметр при расчете."
   ]
  },
  {
   "cell_type": "code",
   "execution_count": 39,
   "id": "c4525d07",
   "metadata": {},
   "outputs": [
    {
     "name": "stdout",
     "output_type": "stream",
     "text": [
      "p-значение: 0.20074045428762413\n",
      "Не получилось отвергнуть нулевую гипотезу\n"
     ]
    }
   ],
   "source": [
    "data_1 = buildings_per_user.loc[buildings_per_user['source']=='yandex_direct']['event']\n",
    "data_2 = buildings_per_user.loc[buildings_per_user['source']=='instagram_new_adverts']['event']\n",
    "alpha = .05\n",
    "\n",
    "results = st.ttest_ind(\n",
    "    data_1, \n",
    "    data_2,\n",
    "    equal_var=True\n",
    ")\n",
    "\n",
    "print('p-значение:', results.pvalue)\n",
    "\n",
    "if results.pvalue < alpha:\n",
    "    print(\"Отвергаем нулевую гипотезу\")\n",
    "else:\n",
    "    print(\"Не получилось отвергнуть нулевую гипотезу\") "
   ]
  },
  {
   "cell_type": "markdown",
   "id": "cdd2e2d9",
   "metadata": {},
   "source": [
    "Вновь не получилось отвергнуть нулевую гипотезу, хотя на этот раз p-значение ближе к значению alpha, чем в прошлый раз. Построим графики с распределением количества зданий по дням для 2 источников, чтобы посмотреть, насколько они отличаются."
   ]
  },
  {
   "cell_type": "code",
   "execution_count": 40,
   "id": "04c27589",
   "metadata": {},
   "outputs": [
    {
     "data": {
      "image/png": "[encoded data removed]",
      "text/plain": [
       "<Figure size 1080x432 with 1 Axes>"
      ]
     },
     "metadata": {},
     "output_type": "display_data"
    }
   ],
   "source": [
    "data = (buildings_per_user\n",
    "        .loc[(buildings_per_user['source']=='yandex_direct')\n",
    "             |(buildings_per_user['source']=='instagram_new_adverts')])\n",
    "f, ax = plt.subplots(figsize=(15, 6))\n",
    "sns.lineplot(data=data, x='event_datetime', y='event', hue='source', estimator='mean')\n",
    "plt.xlabel('День теста', size=12)\n",
    "plt.ylabel('Среднее количество зданий', size=12)\n",
    "plt.title('Среднее количество зданий пользователей из yandex и instagram', size=12)\n",
    "plt.show()"
   ]
  },
  {
   "cell_type": "markdown",
   "id": "2ac8e453",
   "metadata": {},
   "source": [
    "Графики очень похожие, только в конце дисперсия возрастает из-за уменьшения количества пользователей. Следовательно различия в динамике постройки зданий для данных 2 источников отсутствуют. На данном основании можно не отдавать предпочтение одному из этих источников."
   ]
  },
  {
   "cell_type": "markdown",
   "id": "b480c0ee",
   "metadata": {},
   "source": [
    "## Выводы об эффективности источников привлечения."
   ]
  },
  {
   "cell_type": "markdown",
   "id": "a39a7d8b",
   "metadata": {},
   "source": [
    "Выше были сделаны выводы о количестве пользователей по источникам привлечения, а также о стоимости привлечения пользователей. Также была проверена гипотеза о различиях в среднем количестве построенных зданий между пользователями из разных источников привлечения.\n",
    "\n",
    "Посчитаем еще несколько характеристик и добавим их в сводную таблицу."
   ]
  },
  {
   "cell_type": "code",
   "execution_count": 41,
   "id": "cba0ffd5",
   "metadata": {
    "scrolled": true
   },
   "outputs": [
    {
     "data": {
      "text/html": [
       "<div>\n",
       "<style scoped>\n",
       "    .dataframe tbody tr th:only-of-type {\n",
       "        vertical-align: middle;\n",
       "    }\n",
       "\n",
       "    .dataframe tbody tr th {\n",
       "        vertical-align: top;\n",
       "    }\n",
       "\n",
       "    .dataframe thead th {\n",
       "        text-align: right;\n",
       "    }\n",
       "</style>\n",
       "<table border=\"1\" class=\"dataframe\">\n",
       "  <thead>\n",
       "    <tr style=\"text-align: right;\">\n",
       "      <th></th>\n",
       "      <th>source</th>\n",
       "      <th>buildings_cnt</th>\n",
       "    </tr>\n",
       "  </thead>\n",
       "  <tbody>\n",
       "    <tr>\n",
       "      <th>0</th>\n",
       "      <td>facebook_ads</td>\n",
       "      <td>26131</td>\n",
       "    </tr>\n",
       "    <tr>\n",
       "      <th>1</th>\n",
       "      <td>instagram_new_adverts</td>\n",
       "      <td>31815</td>\n",
       "    </tr>\n",
       "    <tr>\n",
       "      <th>2</th>\n",
       "      <td>yandex_direct</td>\n",
       "      <td>45032</td>\n",
       "    </tr>\n",
       "    <tr>\n",
       "      <th>3</th>\n",
       "      <td>youtube_channel_reklama</td>\n",
       "      <td>24978</td>\n",
       "    </tr>\n",
       "  </tbody>\n",
       "</table>\n",
       "</div>"
      ],
      "text/plain": [
       "                    source  buildings_cnt\n",
       "0             facebook_ads          26131\n",
       "1    instagram_new_adverts          31815\n",
       "2            yandex_direct          45032\n",
       "3  youtube_channel_reklama          24978"
      ]
     },
     "metadata": {},
     "output_type": "display_data"
    },
    {
     "data": {
      "text/html": [
       "<div>\n",
       "<style scoped>\n",
       "    .dataframe tbody tr th:only-of-type {\n",
       "        vertical-align: middle;\n",
       "    }\n",
       "\n",
       "    .dataframe tbody tr th {\n",
       "        vertical-align: top;\n",
       "    }\n",
       "\n",
       "    .dataframe thead th {\n",
       "        text-align: right;\n",
       "    }\n",
       "</style>\n",
       "<table border=\"1\" class=\"dataframe\">\n",
       "  <thead>\n",
       "    <tr style=\"text-align: right;\">\n",
       "      <th></th>\n",
       "      <th>source</th>\n",
       "      <th>active_users_cnt</th>\n",
       "    </tr>\n",
       "  </thead>\n",
       "  <tbody>\n",
       "    <tr>\n",
       "      <th>0</th>\n",
       "      <td>facebook_ads</td>\n",
       "      <td>1150</td>\n",
       "    </tr>\n",
       "    <tr>\n",
       "      <th>1</th>\n",
       "      <td>instagram_new_adverts</td>\n",
       "      <td>1466</td>\n",
       "    </tr>\n",
       "    <tr>\n",
       "      <th>2</th>\n",
       "      <td>yandex_direct</td>\n",
       "      <td>2042</td>\n",
       "    </tr>\n",
       "    <tr>\n",
       "      <th>3</th>\n",
       "      <td>youtube_channel_reklama</td>\n",
       "      <td>1159</td>\n",
       "    </tr>\n",
       "  </tbody>\n",
       "</table>\n",
       "</div>"
      ],
      "text/plain": [
       "                    source  active_users_cnt\n",
       "0             facebook_ads              1150\n",
       "1    instagram_new_adverts              1466\n",
       "2            yandex_direct              2042\n",
       "3  youtube_channel_reklama              1159"
      ]
     },
     "metadata": {},
     "output_type": "display_data"
    }
   ],
   "source": [
    "number_of_buildings = (events_and_source\n",
    "                       .loc[events_and_source['event']=='building']\n",
    "                       .groupby(['source'])\n",
    "                       .agg({'user_id':'count'})\n",
    "                       .reset_index()\n",
    "                      )\n",
    "number_of_buildings = number_of_buildings.rename(columns={'user_id':'buildings_cnt'})\n",
    "active_users = (events_and_source\n",
    "                       .loc[events_and_source['strategy']!='in_progress']\n",
    "                       .groupby(['source'])\n",
    "                       .agg({'user_id':'nunique'})\n",
    "                       .reset_index()\n",
    "                      )\n",
    "active_users = active_users.rename(columns={'user_id':'active_users_cnt'})\n",
    "display(number_of_buildings, active_users)"
   ]
  },
  {
   "cell_type": "code",
   "execution_count": 42,
   "id": "8d80b070",
   "metadata": {},
   "outputs": [
    {
     "data": {
      "text/html": [
       "<div>\n",
       "<style scoped>\n",
       "    .dataframe tbody tr th:only-of-type {\n",
       "        vertical-align: middle;\n",
       "    }\n",
       "\n",
       "    .dataframe tbody tr th {\n",
       "        vertical-align: top;\n",
       "    }\n",
       "\n",
       "    .dataframe thead th {\n",
       "        text-align: right;\n",
       "    }\n",
       "</style>\n",
       "<table border=\"1\" class=\"dataframe\">\n",
       "  <thead>\n",
       "    <tr style=\"text-align: right;\">\n",
       "      <th></th>\n",
       "      <th>source</th>\n",
       "      <th>cost</th>\n",
       "      <th>users_cnt</th>\n",
       "      <th>CAC</th>\n",
       "      <th>buildings_cnt</th>\n",
       "      <th>active_users_cnt</th>\n",
       "      <th>buildings_mean</th>\n",
       "      <th>active_users_percent</th>\n",
       "    </tr>\n",
       "  </thead>\n",
       "  <tbody>\n",
       "    <tr>\n",
       "      <th>0</th>\n",
       "      <td>facebook_ads</td>\n",
       "      <td>2140.905</td>\n",
       "      <td>2726</td>\n",
       "      <td>0.785</td>\n",
       "      <td>26131</td>\n",
       "      <td>1150</td>\n",
       "      <td>9.59</td>\n",
       "      <td>42.19</td>\n",
       "    </tr>\n",
       "    <tr>\n",
       "      <th>1</th>\n",
       "      <td>instagram_new_adverts</td>\n",
       "      <td>2161.442</td>\n",
       "      <td>3347</td>\n",
       "      <td>0.646</td>\n",
       "      <td>31815</td>\n",
       "      <td>1466</td>\n",
       "      <td>9.51</td>\n",
       "      <td>43.80</td>\n",
       "    </tr>\n",
       "    <tr>\n",
       "      <th>2</th>\n",
       "      <td>yandex_direct</td>\n",
       "      <td>2233.111</td>\n",
       "      <td>4817</td>\n",
       "      <td>0.464</td>\n",
       "      <td>45032</td>\n",
       "      <td>2042</td>\n",
       "      <td>9.35</td>\n",
       "      <td>42.39</td>\n",
       "    </tr>\n",
       "    <tr>\n",
       "      <th>3</th>\n",
       "      <td>youtube_channel_reklama</td>\n",
       "      <td>1068.119</td>\n",
       "      <td>2686</td>\n",
       "      <td>0.398</td>\n",
       "      <td>24978</td>\n",
       "      <td>1159</td>\n",
       "      <td>9.30</td>\n",
       "      <td>43.15</td>\n",
       "    </tr>\n",
       "  </tbody>\n",
       "</table>\n",
       "</div>"
      ],
      "text/plain": [
       "                    source      cost  users_cnt    CAC  buildings_cnt  \\\n",
       "0             facebook_ads  2140.905       2726  0.785          26131   \n",
       "1    instagram_new_adverts  2161.442       3347  0.646          31815   \n",
       "2            yandex_direct  2233.111       4817  0.464          45032   \n",
       "3  youtube_channel_reklama  1068.119       2686  0.398          24978   \n",
       "\n",
       "   active_users_cnt  buildings_mean  active_users_percent  \n",
       "0              1150            9.59                 42.19  \n",
       "1              1466            9.51                 43.80  \n",
       "2              2042            9.35                 42.39  \n",
       "3              1159            9.30                 43.15  "
      ]
     },
     "execution_count": 42,
     "metadata": {},
     "output_type": "execute_result"
    }
   ],
   "source": [
    "sources = costs_per_source.merge(number_of_buildings, on='source', how='left')\n",
    "sources = sources.merge(active_users, on='source', how='left')\n",
    "sources['buildings_mean'] = round(sources['buildings_cnt']/sources['users_cnt'], 2)\n",
    "sources['active_users_percent'] = round(sources['active_users_cnt']*100/sources['users_cnt'], 2)\n",
    "sources"
   ]
  },
  {
   "cell_type": "markdown",
   "id": "7b9544be",
   "metadata": {},
   "source": [
    "Попробуем еще проверить, не заходят ли пользователи из каких-либо источников чаще других."
   ]
  },
  {
   "cell_type": "code",
   "execution_count": 43,
   "id": "197c3c53",
   "metadata": {},
   "outputs": [
    {
     "data": {
      "image/png": "[encoded data removed]",
      "text/plain": [
       "<Figure size 1080x432 with 1 Axes>"
      ]
     },
     "metadata": {},
     "output_type": "display_data"
    }
   ],
   "source": [
    "data = (events_and_source[['event_datetime', 'user_id', 'source']]\n",
    "                  .groupby(['event_datetime', 'source'])\n",
    "                  .agg({'user_id':'nunique'})\n",
    "        .reset_index())\n",
    "f, ax = plt.subplots(figsize=(15, 6))\n",
    "sns.lineplot(data=data, x='event_datetime', y='user_id', hue='source')\n",
    "plt.xlabel('Дата', size=12)\n",
    "plt.ylabel('Количество пользователей', size=12)\n",
    "plt.title('Количество пользователей в день', size=12)\n",
    "plt.show()"
   ]
  },
  {
   "cell_type": "markdown",
   "id": "177044f9",
   "metadata": {},
   "source": [
    "Все графики одинаковые, пользователи одинаково активны.\n",
    "\n",
    "Рекламу планируется показывать на экране постройки здания. По среднему количеству зданий и посещаемости источники показывают одинаковую ценность. Для увеличения посещаемости можно использовать другие их преимущества:\n",
    "* на youtube меньше всего CAC;\n",
    "* через яндекс приходит больше всего пользователей;\n",
    "* через instagram приходит больше всего пользователей, которые заканчивают 1 уровень;\n",
    "* пользователи из facebook строят зданий больше, чем остальные."
   ]
  },
  {
   "cell_type": "markdown",
   "id": "f721bcdd",
   "metadata": {},
   "source": [
    "## Выводы и рекомендации."
   ]
  },
  {
   "cell_type": "markdown",
   "id": "3b5ac048",
   "metadata": {},
   "source": [
    "**Выводы по результатам исследования**"
   ]
  },
  {
   "cell_type": "markdown",
   "id": "a77033ac",
   "metadata": {},
   "source": [
    "1. Логи игры заполняются верно, нет необходимости в исправлении ошибок.\n",
    "2. В первые 10 дней виден значительный рост пользователей, к концу месяца он снижается до 0. Аналогичная ситуация с пользовательской активностью.\n",
    "3. На одного пользователя приходится в среднем 9 событий.\n",
    "4. Больше всего строится зданий категорий assembly shop и spaceport. При этом магазин все строят на начальном этапе игры.\n",
    "5. Больше всего зданий строят пользователи, завершающие первый уровень через реализацию проекта. Меньше всего - пользователи, еще не закончившие задания 1 уровня.\n",
    "6. Больше всего пользователей приносит реклама в Яндексе и в Инстаграм.\n",
    "7. Самая дешевая реклама на Youtube, далее идут Яндекс и Инстаграм. Самая дорогая реклама - на Facebook.\n",
    "8. Время завершения уровня не различается в зависимости от способа прохождения, хотя больше пользователей выбирают проходить уровень через победу над врагом.\n",
    "9. Количество построенных зданий не различается для пользователей, пришедших из Яндекса и из Инстаграм.\n",
    "10. В instagram больше процент активных пользователей."
   ]
  },
  {
   "cell_type": "markdown",
   "id": "00cf0123",
   "metadata": {},
   "source": [
    "**Рекомендации для развития**"
   ]
  },
  {
   "cell_type": "markdown",
   "id": "dcfd972e",
   "metadata": {},
   "source": [
    "1. Основное предпочтение отдать рекламе в яндекс директ, т.к. оттуда приходит больше всего пользователей.\n",
    "2. Сделать профиль в instagram более привлекательным для целевой аудитории.\n",
    "3. youtube эффективнее всего с точки зрения бюджета. Следует изучить рекомендации Google по таргетингу, чтобы увеличить охват привлекаемых пользователей.\n",
    "4. Необходимо оптимизировать рекламную кампанию на facebook, т.к. сейчас CAC здесь самый высокий. Возможно сейчас игра рекламируется среди нецелевой аудитории, и это можно скорректировать. Если улучшения недоступны, следует использовать рекламный бюджет на другой источник."
   ]
  },
  {
   "cell_type": "code",
   "execution_count": null,
   "id": "9ee80633",
   "metadata": {},
   "outputs": [],
   "source": []
  }
 ],
 "metadata": {
  "ExecuteTimeLog": [
   {
    "duration": 1079,
    "start_time": "2022-09-12T07:15:01.563Z"
   },
   {
    "duration": 953,
    "start_time": "2022-09-12T07:15:02.644Z"
   },
   {
    "duration": 3,
    "start_time": "2022-09-12T07:15:03.599Z"
   },
   {
    "duration": 285,
    "start_time": "2022-09-12T07:15:05.903Z"
   },
   {
    "duration": 286,
    "start_time": "2022-09-12T07:15:49.033Z"
   },
   {
    "duration": 1036,
    "start_time": "2022-09-12T07:15:54.794Z"
   },
   {
    "duration": 461,
    "start_time": "2022-09-12T07:15:55.832Z"
   },
   {
    "duration": 3,
    "start_time": "2022-09-12T07:15:56.294Z"
   },
   {
    "duration": 302,
    "start_time": "2022-09-12T07:15:56.298Z"
   },
   {
    "duration": 35,
    "start_time": "2022-09-12T07:15:56.602Z"
   },
   {
    "duration": 32,
    "start_time": "2022-09-12T07:15:56.639Z"
   },
   {
    "duration": 103,
    "start_time": "2022-09-12T07:15:56.673Z"
   },
   {
    "duration": 73,
    "start_time": "2022-09-12T07:15:56.777Z"
   },
   {
    "duration": 16,
    "start_time": "2022-09-12T07:15:56.851Z"
   },
   {
    "duration": 419,
    "start_time": "2022-09-12T07:15:56.869Z"
   },
   {
    "duration": 317,
    "start_time": "2022-09-12T07:15:57.290Z"
   },
   {
    "duration": 328,
    "start_time": "2022-09-12T07:15:57.609Z"
   },
   {
    "duration": 36,
    "start_time": "2022-09-12T07:15:57.938Z"
   },
   {
    "duration": 306,
    "start_time": "2022-09-12T07:15:57.977Z"
   },
   {
    "duration": 246,
    "start_time": "2022-09-12T07:15:58.285Z"
   },
   {
    "duration": 0,
    "start_time": "2022-09-12T07:15:58.533Z"
   },
   {
    "duration": 0,
    "start_time": "2022-09-12T07:15:58.534Z"
   },
   {
    "duration": 0,
    "start_time": "2022-09-12T07:15:58.537Z"
   },
   {
    "duration": 0,
    "start_time": "2022-09-12T07:15:58.538Z"
   },
   {
    "duration": 0,
    "start_time": "2022-09-12T07:15:58.539Z"
   },
   {
    "duration": 0,
    "start_time": "2022-09-12T07:15:58.540Z"
   },
   {
    "duration": 0,
    "start_time": "2022-09-12T07:15:58.541Z"
   },
   {
    "duration": 0,
    "start_time": "2022-09-12T07:15:58.542Z"
   },
   {
    "duration": 0,
    "start_time": "2022-09-12T07:15:58.543Z"
   },
   {
    "duration": 0,
    "start_time": "2022-09-12T07:15:58.544Z"
   },
   {
    "duration": 0,
    "start_time": "2022-09-12T07:15:58.545Z"
   },
   {
    "duration": 0,
    "start_time": "2022-09-12T07:15:58.546Z"
   },
   {
    "duration": 0,
    "start_time": "2022-09-12T07:15:58.548Z"
   },
   {
    "duration": 0,
    "start_time": "2022-09-12T07:15:58.549Z"
   },
   {
    "duration": 0,
    "start_time": "2022-09-12T07:15:58.550Z"
   },
   {
    "duration": 0,
    "start_time": "2022-09-12T07:15:58.551Z"
   },
   {
    "duration": 0,
    "start_time": "2022-09-12T07:15:58.552Z"
   },
   {
    "duration": 0,
    "start_time": "2022-09-12T07:15:58.553Z"
   },
   {
    "duration": 0,
    "start_time": "2022-09-12T07:15:58.554Z"
   },
   {
    "duration": 0,
    "start_time": "2022-09-12T07:15:58.555Z"
   },
   {
    "duration": 0,
    "start_time": "2022-09-12T07:15:58.556Z"
   },
   {
    "duration": 0,
    "start_time": "2022-09-12T07:15:58.556Z"
   },
   {
    "duration": 0,
    "start_time": "2022-09-12T07:15:58.557Z"
   },
   {
    "duration": 0,
    "start_time": "2022-09-12T07:15:58.558Z"
   },
   {
    "duration": 0,
    "start_time": "2022-09-12T07:15:58.559Z"
   },
   {
    "duration": 0,
    "start_time": "2022-09-12T07:15:58.560Z"
   },
   {
    "duration": 0,
    "start_time": "2022-09-12T07:15:58.561Z"
   },
   {
    "duration": 1057,
    "start_time": "2022-09-12T07:17:12.387Z"
   },
   {
    "duration": 406,
    "start_time": "2022-09-12T07:17:13.446Z"
   },
   {
    "duration": 3,
    "start_time": "2022-09-12T07:17:13.854Z"
   },
   {
    "duration": 320,
    "start_time": "2022-09-12T07:17:13.858Z"
   },
   {
    "duration": 24,
    "start_time": "2022-09-12T07:17:14.179Z"
   },
   {
    "duration": 56,
    "start_time": "2022-09-12T07:17:14.205Z"
   },
   {
    "duration": 99,
    "start_time": "2022-09-12T07:17:14.262Z"
   },
   {
    "duration": 76,
    "start_time": "2022-09-12T07:17:14.362Z"
   },
   {
    "duration": 16,
    "start_time": "2022-09-12T07:17:14.439Z"
   },
   {
    "duration": 375,
    "start_time": "2022-09-12T07:17:14.458Z"
   },
   {
    "duration": 277,
    "start_time": "2022-09-12T07:17:14.835Z"
   },
   {
    "duration": 299,
    "start_time": "2022-09-12T07:17:15.114Z"
   },
   {
    "duration": 47,
    "start_time": "2022-09-12T07:17:15.415Z"
   },
   {
    "duration": 312,
    "start_time": "2022-09-12T07:17:15.464Z"
   },
   {
    "duration": 247,
    "start_time": "2022-09-12T07:17:15.778Z"
   },
   {
    "duration": 0,
    "start_time": "2022-09-12T07:17:16.027Z"
   },
   {
    "duration": 0,
    "start_time": "2022-09-12T07:17:16.028Z"
   },
   {
    "duration": 0,
    "start_time": "2022-09-12T07:17:16.030Z"
   },
   {
    "duration": 0,
    "start_time": "2022-09-12T07:17:16.037Z"
   },
   {
    "duration": 0,
    "start_time": "2022-09-12T07:17:16.039Z"
   },
   {
    "duration": 0,
    "start_time": "2022-09-12T07:17:16.040Z"
   },
   {
    "duration": 0,
    "start_time": "2022-09-12T07:17:16.041Z"
   },
   {
    "duration": 0,
    "start_time": "2022-09-12T07:17:16.043Z"
   },
   {
    "duration": 0,
    "start_time": "2022-09-12T07:17:16.044Z"
   },
   {
    "duration": 0,
    "start_time": "2022-09-12T07:17:16.046Z"
   },
   {
    "duration": 0,
    "start_time": "2022-09-12T07:17:16.047Z"
   },
   {
    "duration": 0,
    "start_time": "2022-09-12T07:17:16.049Z"
   },
   {
    "duration": 0,
    "start_time": "2022-09-12T07:17:16.050Z"
   },
   {
    "duration": 0,
    "start_time": "2022-09-12T07:17:16.051Z"
   },
   {
    "duration": 0,
    "start_time": "2022-09-12T07:17:16.053Z"
   },
   {
    "duration": 0,
    "start_time": "2022-09-12T07:17:16.054Z"
   },
   {
    "duration": 0,
    "start_time": "2022-09-12T07:17:16.055Z"
   },
   {
    "duration": 0,
    "start_time": "2022-09-12T07:17:16.057Z"
   },
   {
    "duration": 0,
    "start_time": "2022-09-12T07:17:16.058Z"
   },
   {
    "duration": 0,
    "start_time": "2022-09-12T07:17:16.060Z"
   },
   {
    "duration": 0,
    "start_time": "2022-09-12T07:17:16.062Z"
   },
   {
    "duration": 0,
    "start_time": "2022-09-12T07:17:16.063Z"
   },
   {
    "duration": 0,
    "start_time": "2022-09-12T07:17:16.064Z"
   },
   {
    "duration": 0,
    "start_time": "2022-09-12T07:17:16.065Z"
   },
   {
    "duration": 0,
    "start_time": "2022-09-12T07:17:16.066Z"
   },
   {
    "duration": 0,
    "start_time": "2022-09-12T07:17:16.067Z"
   },
   {
    "duration": 0,
    "start_time": "2022-09-12T07:17:16.068Z"
   },
   {
    "duration": 56,
    "start_time": "2022-09-12T07:19:22.452Z"
   },
   {
    "duration": 332,
    "start_time": "2022-09-12T07:19:31.005Z"
   },
   {
    "duration": 5,
    "start_time": "2022-09-12T07:19:34.690Z"
   },
   {
    "duration": 169,
    "start_time": "2022-09-12T07:19:35.026Z"
   },
   {
    "duration": 572,
    "start_time": "2022-09-12T07:19:35.274Z"
   },
   {
    "duration": 0,
    "start_time": "2022-09-12T07:19:35.848Z"
   },
   {
    "duration": 41,
    "start_time": "2022-09-12T07:19:36.162Z"
   },
   {
    "duration": 149,
    "start_time": "2022-09-12T07:19:37.011Z"
   },
   {
    "duration": 27,
    "start_time": "2022-09-12T07:19:37.643Z"
   },
   {
    "duration": 18,
    "start_time": "2022-09-12T07:19:37.938Z"
   },
   {
    "duration": 176,
    "start_time": "2022-09-12T07:19:38.211Z"
   },
   {
    "duration": 20,
    "start_time": "2022-09-12T07:19:39.059Z"
   },
   {
    "duration": 22,
    "start_time": "2022-09-12T07:19:39.363Z"
   },
   {
    "duration": 330,
    "start_time": "2022-09-12T07:19:39.516Z"
   },
   {
    "duration": 5,
    "start_time": "2022-09-12T07:19:39.847Z"
   },
   {
    "duration": 6,
    "start_time": "2022-09-12T07:19:40.106Z"
   },
   {
    "duration": 44,
    "start_time": "2022-09-12T07:19:40.586Z"
   },
   {
    "duration": 120,
    "start_time": "2022-09-12T07:19:40.756Z"
   },
   {
    "duration": 21,
    "start_time": "2022-09-12T07:19:41.067Z"
   },
   {
    "duration": 19,
    "start_time": "2022-09-12T07:19:41.600Z"
   },
   {
    "duration": 1639,
    "start_time": "2022-09-12T07:19:41.667Z"
   },
   {
    "duration": 3,
    "start_time": "2022-09-12T07:19:43.308Z"
   },
   {
    "duration": 116,
    "start_time": "2022-09-12T07:19:43.313Z"
   },
   {
    "duration": 1374,
    "start_time": "2022-09-12T07:19:43.431Z"
   },
   {
    "duration": 162,
    "start_time": "2022-09-12T07:19:44.807Z"
   },
   {
    "duration": 18,
    "start_time": "2022-09-12T07:19:44.970Z"
   },
   {
    "duration": 77,
    "start_time": "2022-09-12T07:19:44.990Z"
   },
   {
    "duration": 1274,
    "start_time": "2022-09-12T07:19:45.068Z"
   },
   {
    "duration": 230,
    "start_time": "2022-09-12T07:21:56.476Z"
   },
   {
    "duration": 4,
    "start_time": "2022-09-12T07:25:56.713Z"
   },
   {
    "duration": 5,
    "start_time": "2022-09-12T07:26:03.929Z"
   },
   {
    "duration": 5,
    "start_time": "2022-09-12T07:26:10.633Z"
   },
   {
    "duration": 3,
    "start_time": "2022-09-12T07:26:38.394Z"
   },
   {
    "duration": 1354,
    "start_time": "2022-09-12T08:27:46.515Z"
   },
   {
    "duration": 118,
    "start_time": "2022-09-12T08:27:47.871Z"
   },
   {
    "duration": 0,
    "start_time": "2022-09-12T08:27:47.991Z"
   },
   {
    "duration": 0,
    "start_time": "2022-09-12T08:27:47.992Z"
   },
   {
    "duration": 0,
    "start_time": "2022-09-12T08:27:47.993Z"
   },
   {
    "duration": 0,
    "start_time": "2022-09-12T08:27:47.994Z"
   },
   {
    "duration": 0,
    "start_time": "2022-09-12T08:27:47.995Z"
   },
   {
    "duration": 0,
    "start_time": "2022-09-12T08:27:47.996Z"
   },
   {
    "duration": 0,
    "start_time": "2022-09-12T08:27:47.997Z"
   },
   {
    "duration": 0,
    "start_time": "2022-09-12T08:27:47.997Z"
   },
   {
    "duration": 0,
    "start_time": "2022-09-12T08:27:47.998Z"
   },
   {
    "duration": 0,
    "start_time": "2022-09-12T08:27:47.999Z"
   },
   {
    "duration": 0,
    "start_time": "2022-09-12T08:27:48.000Z"
   },
   {
    "duration": 0,
    "start_time": "2022-09-12T08:27:48.001Z"
   },
   {
    "duration": 9,
    "start_time": "2022-09-12T08:28:25.890Z"
   },
   {
    "duration": 4,
    "start_time": "2022-09-12T08:28:30.836Z"
   },
   {
    "duration": 97,
    "start_time": "2022-09-12T08:28:30.842Z"
   },
   {
    "duration": 0,
    "start_time": "2022-09-12T08:28:30.942Z"
   },
   {
    "duration": 0,
    "start_time": "2022-09-12T08:28:30.943Z"
   },
   {
    "duration": 0,
    "start_time": "2022-09-12T08:28:30.945Z"
   },
   {
    "duration": 0,
    "start_time": "2022-09-12T08:28:30.946Z"
   },
   {
    "duration": 0,
    "start_time": "2022-09-12T08:28:30.947Z"
   },
   {
    "duration": 0,
    "start_time": "2022-09-12T08:28:30.949Z"
   },
   {
    "duration": 0,
    "start_time": "2022-09-12T08:28:30.950Z"
   },
   {
    "duration": 0,
    "start_time": "2022-09-12T08:28:30.952Z"
   },
   {
    "duration": 0,
    "start_time": "2022-09-12T08:28:30.953Z"
   },
   {
    "duration": 0,
    "start_time": "2022-09-12T08:28:30.954Z"
   },
   {
    "duration": 0,
    "start_time": "2022-09-12T08:28:30.955Z"
   },
   {
    "duration": 0,
    "start_time": "2022-09-12T08:28:30.957Z"
   },
   {
    "duration": 9,
    "start_time": "2022-09-12T08:30:32.277Z"
   },
   {
    "duration": 3,
    "start_time": "2022-09-12T08:30:37.536Z"
   },
   {
    "duration": 75,
    "start_time": "2022-09-12T08:30:37.541Z"
   },
   {
    "duration": 0,
    "start_time": "2022-09-12T08:30:37.618Z"
   },
   {
    "duration": 0,
    "start_time": "2022-09-12T08:30:37.619Z"
   },
   {
    "duration": 0,
    "start_time": "2022-09-12T08:30:37.620Z"
   },
   {
    "duration": 0,
    "start_time": "2022-09-12T08:30:37.621Z"
   },
   {
    "duration": 0,
    "start_time": "2022-09-12T08:30:37.621Z"
   },
   {
    "duration": 0,
    "start_time": "2022-09-12T08:30:37.622Z"
   },
   {
    "duration": 0,
    "start_time": "2022-09-12T08:30:37.623Z"
   },
   {
    "duration": 0,
    "start_time": "2022-09-12T08:30:37.624Z"
   },
   {
    "duration": 0,
    "start_time": "2022-09-12T08:30:37.625Z"
   },
   {
    "duration": 0,
    "start_time": "2022-09-12T08:30:37.626Z"
   },
   {
    "duration": 0,
    "start_time": "2022-09-12T08:30:37.627Z"
   },
   {
    "duration": 0,
    "start_time": "2022-09-12T08:30:37.628Z"
   },
   {
    "duration": 763,
    "start_time": "2022-09-12T08:32:08.107Z"
   },
   {
    "duration": 3,
    "start_time": "2022-09-12T08:32:16.460Z"
   },
   {
    "duration": 271,
    "start_time": "2022-09-12T08:32:16.464Z"
   },
   {
    "duration": 3,
    "start_time": "2022-09-12T08:32:16.737Z"
   },
   {
    "duration": 271,
    "start_time": "2022-09-12T08:32:16.742Z"
   },
   {
    "duration": 42,
    "start_time": "2022-09-12T08:32:17.016Z"
   },
   {
    "duration": 36,
    "start_time": "2022-09-12T08:32:17.059Z"
   },
   {
    "duration": 107,
    "start_time": "2022-09-12T08:32:17.097Z"
   },
   {
    "duration": 88,
    "start_time": "2022-09-12T08:32:17.205Z"
   },
   {
    "duration": 20,
    "start_time": "2022-09-12T08:32:17.294Z"
   },
   {
    "duration": 430,
    "start_time": "2022-09-12T08:32:17.316Z"
   },
   {
    "duration": 283,
    "start_time": "2022-09-12T08:32:17.748Z"
   },
   {
    "duration": 300,
    "start_time": "2022-09-12T08:32:18.033Z"
   },
   {
    "duration": 35,
    "start_time": "2022-09-12T08:32:18.336Z"
   },
   {
    "duration": 308,
    "start_time": "2022-09-12T08:32:18.372Z"
   },
   {
    "duration": 142,
    "start_time": "2022-09-12T08:32:20.636Z"
   },
   {
    "duration": 28,
    "start_time": "2022-09-12T08:34:08.608Z"
   },
   {
    "duration": 4,
    "start_time": "2022-09-12T08:34:12.721Z"
   },
   {
    "duration": 253,
    "start_time": "2022-09-12T08:34:12.727Z"
   },
   {
    "duration": 3,
    "start_time": "2022-09-12T08:34:12.981Z"
   },
   {
    "duration": 255,
    "start_time": "2022-09-12T08:34:12.987Z"
   },
   {
    "duration": 24,
    "start_time": "2022-09-12T08:34:13.244Z"
   },
   {
    "duration": 34,
    "start_time": "2022-09-12T08:34:13.269Z"
   },
   {
    "duration": 98,
    "start_time": "2022-09-12T08:34:13.305Z"
   },
   {
    "duration": 77,
    "start_time": "2022-09-12T08:34:13.404Z"
   },
   {
    "duration": 16,
    "start_time": "2022-09-12T08:34:13.482Z"
   },
   {
    "duration": 306,
    "start_time": "2022-09-12T08:34:13.501Z"
   },
   {
    "duration": 278,
    "start_time": "2022-09-12T08:34:13.809Z"
   },
   {
    "duration": 298,
    "start_time": "2022-09-12T08:34:14.089Z"
   },
   {
    "duration": 48,
    "start_time": "2022-09-12T08:34:14.389Z"
   },
   {
    "duration": 354,
    "start_time": "2022-09-12T08:34:14.438Z"
   },
   {
    "duration": 152,
    "start_time": "2022-09-12T08:34:14.794Z"
   },
   {
    "duration": 338,
    "start_time": "2022-09-12T08:34:14.947Z"
   },
   {
    "duration": 5,
    "start_time": "2022-09-12T08:34:15.287Z"
   },
   {
    "duration": 162,
    "start_time": "2022-09-12T08:34:23.698Z"
   },
   {
    "duration": 5,
    "start_time": "2022-09-12T08:34:35.167Z"
   },
   {
    "duration": 161,
    "start_time": "2022-09-12T08:34:36.271Z"
   },
   {
    "duration": 479,
    "start_time": "2022-09-12T08:34:53.870Z"
   },
   {
    "duration": 480,
    "start_time": "2022-09-12T08:34:57.553Z"
   },
   {
    "duration": 3,
    "start_time": "2022-09-12T08:37:00.049Z"
   },
   {
    "duration": 272,
    "start_time": "2022-09-12T08:37:00.054Z"
   },
   {
    "duration": 3,
    "start_time": "2022-09-12T08:37:00.327Z"
   },
   {
    "duration": 263,
    "start_time": "2022-09-12T08:37:00.332Z"
   },
   {
    "duration": 23,
    "start_time": "2022-09-12T08:37:00.597Z"
   },
   {
    "duration": 36,
    "start_time": "2022-09-12T08:37:00.637Z"
   },
   {
    "duration": 99,
    "start_time": "2022-09-12T08:37:00.675Z"
   },
   {
    "duration": 71,
    "start_time": "2022-09-12T08:37:00.776Z"
   },
   {
    "duration": 16,
    "start_time": "2022-09-12T08:37:00.849Z"
   },
   {
    "duration": 353,
    "start_time": "2022-09-12T08:37:00.867Z"
   },
   {
    "duration": 273,
    "start_time": "2022-09-12T08:37:01.221Z"
   },
   {
    "duration": 298,
    "start_time": "2022-09-12T08:37:01.496Z"
   },
   {
    "duration": 45,
    "start_time": "2022-09-12T08:37:01.796Z"
   },
   {
    "duration": 308,
    "start_time": "2022-09-12T08:37:01.842Z"
   },
   {
    "duration": 146,
    "start_time": "2022-09-12T08:37:02.152Z"
   },
   {
    "duration": 342,
    "start_time": "2022-09-12T08:37:02.300Z"
   },
   {
    "duration": 5,
    "start_time": "2022-09-12T08:37:02.643Z"
   },
   {
    "duration": 21,
    "start_time": "2022-09-12T08:39:56.141Z"
   },
   {
    "duration": 86,
    "start_time": "2022-09-12T08:41:59.977Z"
   },
   {
    "duration": 48,
    "start_time": "2022-09-12T08:45:47.531Z"
   },
   {
    "duration": 3,
    "start_time": "2022-09-12T08:46:04.539Z"
   },
   {
    "duration": 442,
    "start_time": "2022-09-12T08:46:30.174Z"
   },
   {
    "duration": 3,
    "start_time": "2022-09-12T08:47:53.689Z"
   },
   {
    "duration": 13845,
    "start_time": "2022-09-12T08:47:54.992Z"
   },
   {
    "duration": 2,
    "start_time": "2022-09-12T08:48:45.794Z"
   },
   {
    "duration": 3,
    "start_time": "2022-09-12T08:48:49.210Z"
   },
   {
    "duration": 246,
    "start_time": "2022-09-12T08:48:49.215Z"
   },
   {
    "duration": 4,
    "start_time": "2022-09-12T08:48:49.463Z"
   },
   {
    "duration": 245,
    "start_time": "2022-09-12T08:48:49.468Z"
   },
   {
    "duration": 34,
    "start_time": "2022-09-12T08:48:49.715Z"
   },
   {
    "duration": 35,
    "start_time": "2022-09-12T08:48:49.750Z"
   },
   {
    "duration": 99,
    "start_time": "2022-09-12T08:48:49.787Z"
   },
   {
    "duration": 60,
    "start_time": "2022-09-12T08:48:49.888Z"
   },
   {
    "duration": 16,
    "start_time": "2022-09-12T08:48:49.950Z"
   },
   {
    "duration": 287,
    "start_time": "2022-09-12T08:48:49.967Z"
   },
   {
    "duration": 259,
    "start_time": "2022-09-12T08:48:50.256Z"
   },
   {
    "duration": 278,
    "start_time": "2022-09-12T08:48:50.516Z"
   },
   {
    "duration": 41,
    "start_time": "2022-09-12T08:48:50.796Z"
   },
   {
    "duration": 284,
    "start_time": "2022-09-12T08:48:50.838Z"
   },
   {
    "duration": 143,
    "start_time": "2022-09-12T08:48:51.123Z"
   },
   {
    "duration": 328,
    "start_time": "2022-09-12T08:48:51.267Z"
   },
   {
    "duration": 4,
    "start_time": "2022-09-12T08:48:51.597Z"
   },
   {
    "duration": 25,
    "start_time": "2022-09-12T08:48:51.603Z"
   },
   {
    "duration": 7,
    "start_time": "2022-09-12T08:48:51.630Z"
   },
   {
    "duration": 44430,
    "start_time": "2022-09-12T08:48:55.599Z"
   },
   {
    "duration": 12,
    "start_time": "2022-09-12T08:49:49.114Z"
   },
   {
    "duration": 8,
    "start_time": "2022-09-12T08:50:23.217Z"
   },
   {
    "duration": 32,
    "start_time": "2022-09-12T08:52:40.218Z"
   },
   {
    "duration": 30,
    "start_time": "2022-09-12T08:55:23.768Z"
   },
   {
    "duration": 32,
    "start_time": "2022-09-12T08:56:11.869Z"
   },
   {
    "duration": 31,
    "start_time": "2022-09-12T08:56:52.629Z"
   },
   {
    "duration": 68,
    "start_time": "2022-09-12T08:59:01.484Z"
   },
   {
    "duration": 64,
    "start_time": "2022-09-12T09:01:29.884Z"
   },
   {
    "duration": 73,
    "start_time": "2022-09-12T09:01:37.866Z"
   },
   {
    "duration": 66,
    "start_time": "2022-09-12T09:02:16.659Z"
   },
   {
    "duration": 204,
    "start_time": "2022-09-12T09:03:07.711Z"
   },
   {
    "duration": 188,
    "start_time": "2022-09-12T09:03:13.593Z"
   },
   {
    "duration": 204,
    "start_time": "2022-09-12T09:03:22.188Z"
   },
   {
    "duration": 177,
    "start_time": "2022-09-12T09:03:42.930Z"
   },
   {
    "duration": 184,
    "start_time": "2022-09-12T09:05:00.071Z"
   },
   {
    "duration": 9,
    "start_time": "2022-09-12T09:06:11.022Z"
   },
   {
    "duration": 41,
    "start_time": "2022-09-12T09:08:07.377Z"
   },
   {
    "duration": 132,
    "start_time": "2022-09-12T09:08:21.723Z"
   },
   {
    "duration": 19,
    "start_time": "2022-09-12T09:08:28.773Z"
   },
   {
    "duration": 17,
    "start_time": "2022-09-12T09:08:33.752Z"
   },
   {
    "duration": 136,
    "start_time": "2022-09-12T09:08:39.096Z"
   },
   {
    "duration": 14,
    "start_time": "2022-09-12T09:34:37.448Z"
   },
   {
    "duration": 39,
    "start_time": "2022-09-12T09:43:29.538Z"
   },
   {
    "duration": 10,
    "start_time": "2022-09-12T09:43:34.167Z"
   },
   {
    "duration": 55,
    "start_time": "2022-09-12T09:43:47.243Z"
   },
   {
    "duration": 14,
    "start_time": "2022-09-12T09:44:39.324Z"
   },
   {
    "duration": 18,
    "start_time": "2022-09-12T09:45:12.289Z"
   },
   {
    "duration": 22,
    "start_time": "2022-09-12T09:45:32.203Z"
   },
   {
    "duration": 65,
    "start_time": "2022-09-12T09:46:16.381Z"
   },
   {
    "duration": 14,
    "start_time": "2022-09-12T09:46:26.224Z"
   },
   {
    "duration": 41,
    "start_time": "2022-09-12T09:46:45.157Z"
   },
   {
    "duration": 4,
    "start_time": "2022-09-12T09:46:59.413Z"
   },
   {
    "duration": 268,
    "start_time": "2022-09-12T09:46:59.419Z"
   },
   {
    "duration": 3,
    "start_time": "2022-09-12T09:46:59.689Z"
   },
   {
    "duration": 288,
    "start_time": "2022-09-12T09:46:59.694Z"
   },
   {
    "duration": 24,
    "start_time": "2022-09-12T09:46:59.983Z"
   },
   {
    "duration": 54,
    "start_time": "2022-09-12T09:47:00.008Z"
   },
   {
    "duration": 95,
    "start_time": "2022-09-12T09:47:00.064Z"
   },
   {
    "duration": 62,
    "start_time": "2022-09-12T09:47:00.161Z"
   },
   {
    "duration": 45,
    "start_time": "2022-09-12T09:47:00.236Z"
   },
   {
    "duration": 282,
    "start_time": "2022-09-12T09:47:00.284Z"
   },
   {
    "duration": 284,
    "start_time": "2022-09-12T09:47:00.568Z"
   },
   {
    "duration": 322,
    "start_time": "2022-09-12T09:47:00.854Z"
   },
   {
    "duration": 63,
    "start_time": "2022-09-12T09:47:01.178Z"
   },
   {
    "duration": 383,
    "start_time": "2022-09-12T09:47:01.243Z"
   },
   {
    "duration": 174,
    "start_time": "2022-09-12T09:47:01.627Z"
   },
   {
    "duration": 350,
    "start_time": "2022-09-12T09:47:01.802Z"
   },
   {
    "duration": 21,
    "start_time": "2022-09-12T09:47:02.154Z"
   },
   {
    "duration": 3,
    "start_time": "2022-09-12T09:47:02.177Z"
   },
   {
    "duration": 14852,
    "start_time": "2022-09-12T09:47:02.181Z"
   },
   {
    "duration": 12,
    "start_time": "2022-09-12T09:47:17.037Z"
   },
   {
    "duration": 80,
    "start_time": "2022-09-12T09:47:17.051Z"
   },
   {
    "duration": 275,
    "start_time": "2022-09-12T09:47:17.137Z"
   },
   {
    "duration": 21,
    "start_time": "2022-09-12T09:47:17.415Z"
   },
   {
    "duration": 69,
    "start_time": "2022-09-12T09:47:17.440Z"
   },
   {
    "duration": 199,
    "start_time": "2022-09-12T09:47:17.510Z"
   },
   {
    "duration": 28,
    "start_time": "2022-09-12T09:47:17.711Z"
   },
   {
    "duration": 22,
    "start_time": "2022-09-12T09:47:17.740Z"
   },
   {
    "duration": 170,
    "start_time": "2022-09-12T09:47:17.764Z"
   },
   {
    "duration": 32,
    "start_time": "2022-09-12T09:47:17.937Z"
   },
   {
    "duration": 36,
    "start_time": "2022-09-12T09:47:24.717Z"
   },
   {
    "duration": 33,
    "start_time": "2022-09-12T09:50:08.962Z"
   },
   {
    "duration": 28,
    "start_time": "2022-09-12T09:50:16.539Z"
   },
   {
    "duration": 4,
    "start_time": "2022-09-12T09:52:31.460Z"
   },
   {
    "duration": 18,
    "start_time": "2022-09-12T09:52:38.622Z"
   },
   {
    "duration": 88,
    "start_time": "2022-09-12T09:53:35.102Z"
   },
   {
    "duration": 349,
    "start_time": "2022-09-12T09:53:41.516Z"
   },
   {
    "duration": 198,
    "start_time": "2022-09-12T09:54:57.207Z"
   },
   {
    "duration": 331,
    "start_time": "2022-09-12T09:55:17.708Z"
   },
   {
    "duration": 150,
    "start_time": "2022-09-12T09:56:31.151Z"
   },
   {
    "duration": 412,
    "start_time": "2022-09-12T09:57:47.082Z"
   },
   {
    "duration": 326,
    "start_time": "2022-09-12T09:58:02.268Z"
   },
   {
    "duration": 484,
    "start_time": "2022-09-12T09:58:09.208Z"
   },
   {
    "duration": 430,
    "start_time": "2022-09-12T09:58:17.084Z"
   },
   {
    "duration": 321,
    "start_time": "2022-09-12T09:58:20.601Z"
   },
   {
    "duration": 311,
    "start_time": "2022-09-12T09:58:35.092Z"
   },
   {
    "duration": 423,
    "start_time": "2022-09-12T09:58:47.432Z"
   },
   {
    "duration": 301,
    "start_time": "2022-09-12T09:58:52.841Z"
   },
   {
    "duration": 399,
    "start_time": "2022-09-12T09:58:56.248Z"
   },
   {
    "duration": 5,
    "start_time": "2022-09-12T09:59:38.106Z"
   },
   {
    "duration": 5,
    "start_time": "2022-09-12T09:59:51.222Z"
   },
   {
    "duration": 6,
    "start_time": "2022-09-12T10:00:18.564Z"
   },
   {
    "duration": 111,
    "start_time": "2022-09-12T10:01:50.800Z"
   },
   {
    "duration": 118,
    "start_time": "2022-09-12T11:09:25.592Z"
   },
   {
    "duration": 8,
    "start_time": "2022-09-12T11:09:31.433Z"
   },
   {
    "duration": 8,
    "start_time": "2022-09-12T11:10:24.217Z"
   },
   {
    "duration": 8,
    "start_time": "2022-09-12T11:10:55.777Z"
   },
   {
    "duration": 14,
    "start_time": "2022-09-12T11:11:44.874Z"
   },
   {
    "duration": 10,
    "start_time": "2022-09-12T11:13:48.896Z"
   },
   {
    "duration": 43,
    "start_time": "2022-09-12T11:13:56.666Z"
   },
   {
    "duration": 67,
    "start_time": "2022-09-12T11:14:02.056Z"
   },
   {
    "duration": 37,
    "start_time": "2022-09-12T11:15:45.823Z"
   },
   {
    "duration": 16,
    "start_time": "2022-09-12T11:16:52.018Z"
   },
   {
    "duration": 73,
    "start_time": "2022-09-12T11:17:58.181Z"
   },
   {
    "duration": 13,
    "start_time": "2022-09-12T11:19:35.001Z"
   },
   {
    "duration": 12,
    "start_time": "2022-09-12T11:19:56.747Z"
   },
   {
    "duration": 73,
    "start_time": "2022-09-12T11:20:13.496Z"
   },
   {
    "duration": 72,
    "start_time": "2022-09-12T11:21:49.858Z"
   },
   {
    "duration": 13,
    "start_time": "2022-09-12T11:21:52.376Z"
   },
   {
    "duration": 8,
    "start_time": "2022-09-12T11:22:04.142Z"
   },
   {
    "duration": 8,
    "start_time": "2022-09-12T11:22:46.019Z"
   },
   {
    "duration": 14,
    "start_time": "2022-09-12T11:22:52.512Z"
   },
   {
    "duration": 17,
    "start_time": "2022-09-12T11:25:05.198Z"
   },
   {
    "duration": 157,
    "start_time": "2022-09-12T11:55:32.602Z"
   },
   {
    "duration": 17,
    "start_time": "2022-09-12T11:55:47.207Z"
   },
   {
    "duration": 15,
    "start_time": "2022-09-12T11:56:17.966Z"
   },
   {
    "duration": 14,
    "start_time": "2022-09-12T11:56:45.784Z"
   },
   {
    "duration": 13,
    "start_time": "2022-09-12T11:56:52.106Z"
   },
   {
    "duration": 192,
    "start_time": "2022-09-12T11:57:15.376Z"
   },
   {
    "duration": 29,
    "start_time": "2022-09-12T11:57:24.262Z"
   },
   {
    "duration": 31,
    "start_time": "2022-09-12T11:57:27.956Z"
   },
   {
    "duration": 20,
    "start_time": "2022-09-12T11:59:00.735Z"
   },
   {
    "duration": 24,
    "start_time": "2022-09-12T11:59:50.545Z"
   },
   {
    "duration": 39,
    "start_time": "2022-09-12T12:00:02.286Z"
   },
   {
    "duration": 33,
    "start_time": "2022-09-12T12:00:08.983Z"
   },
   {
    "duration": 15,
    "start_time": "2022-09-12T12:01:42.918Z"
   },
   {
    "duration": 17,
    "start_time": "2022-09-12T12:01:57.789Z"
   },
   {
    "duration": 62,
    "start_time": "2022-09-12T12:02:18.439Z"
   },
   {
    "duration": 799,
    "start_time": "2022-09-12T12:02:55.387Z"
   },
   {
    "duration": 446,
    "start_time": "2022-09-12T12:03:04.376Z"
   },
   {
    "duration": 423,
    "start_time": "2022-09-12T12:05:09.029Z"
   },
   {
    "duration": 1215,
    "start_time": "2022-09-12T12:33:17.367Z"
   },
   {
    "duration": 310,
    "start_time": "2022-09-12T12:33:18.584Z"
   },
   {
    "duration": 3,
    "start_time": "2022-09-12T12:33:18.896Z"
   },
   {
    "duration": 306,
    "start_time": "2022-09-12T12:33:18.901Z"
   },
   {
    "duration": 39,
    "start_time": "2022-09-12T12:33:19.210Z"
   },
   {
    "duration": 38,
    "start_time": "2022-09-12T12:33:19.251Z"
   },
   {
    "duration": 121,
    "start_time": "2022-09-12T12:33:19.291Z"
   },
   {
    "duration": 76,
    "start_time": "2022-09-12T12:33:19.414Z"
   },
   {
    "duration": 19,
    "start_time": "2022-09-12T12:33:19.493Z"
   },
   {
    "duration": 430,
    "start_time": "2022-09-12T12:33:19.514Z"
   },
   {
    "duration": 315,
    "start_time": "2022-09-12T12:33:19.946Z"
   },
   {
    "duration": 367,
    "start_time": "2022-09-12T12:33:20.263Z"
   },
   {
    "duration": 42,
    "start_time": "2022-09-12T12:33:20.632Z"
   },
   {
    "duration": 350,
    "start_time": "2022-09-12T12:33:20.678Z"
   },
   {
    "duration": 174,
    "start_time": "2022-09-12T12:33:21.036Z"
   },
   {
    "duration": 402,
    "start_time": "2022-09-12T12:33:21.212Z"
   },
   {
    "duration": 31,
    "start_time": "2022-09-12T12:33:21.616Z"
   },
   {
    "duration": 4,
    "start_time": "2022-09-12T12:33:21.649Z"
   },
   {
    "duration": 14900,
    "start_time": "2022-09-12T12:33:21.655Z"
   },
   {
    "duration": 11,
    "start_time": "2022-09-12T12:33:36.557Z"
   },
   {
    "duration": 103,
    "start_time": "2022-09-12T12:33:36.569Z"
   },
   {
    "duration": 209,
    "start_time": "2022-09-12T12:33:36.673Z"
   },
   {
    "duration": 10,
    "start_time": "2022-09-12T12:33:36.883Z"
   },
   {
    "duration": 64,
    "start_time": "2022-09-12T12:33:36.895Z"
   },
   {
    "duration": 154,
    "start_time": "2022-09-12T12:33:36.961Z"
   },
   {
    "duration": 27,
    "start_time": "2022-09-12T12:33:37.117Z"
   },
   {
    "duration": 19,
    "start_time": "2022-09-12T12:33:37.145Z"
   },
   {
    "duration": 235,
    "start_time": "2022-09-12T12:33:37.166Z"
   },
   {
    "duration": 54,
    "start_time": "2022-09-12T12:33:37.403Z"
   },
   {
    "duration": 52,
    "start_time": "2022-09-12T12:33:37.464Z"
   },
   {
    "duration": 36,
    "start_time": "2022-09-12T12:33:37.518Z"
   },
   {
    "duration": 341,
    "start_time": "2022-09-12T12:33:37.556Z"
   },
   {
    "duration": 6,
    "start_time": "2022-09-12T12:33:37.899Z"
   },
   {
    "duration": 23,
    "start_time": "2022-09-12T12:33:37.907Z"
   },
   {
    "duration": 30,
    "start_time": "2022-09-12T12:33:37.931Z"
   },
   {
    "duration": 55,
    "start_time": "2022-09-12T12:33:37.963Z"
   },
   {
    "duration": 130,
    "start_time": "2022-09-12T12:33:38.020Z"
   },
   {
    "duration": 19,
    "start_time": "2022-09-12T12:33:38.152Z"
   },
   {
    "duration": 23,
    "start_time": "2022-09-12T12:33:38.173Z"
   },
   {
    "duration": 1729,
    "start_time": "2022-09-12T12:33:38.197Z"
   },
   {
    "duration": 87,
    "start_time": "2022-09-12T12:33:39.929Z"
   },
   {
    "duration": 26,
    "start_time": "2022-09-12T12:33:40.018Z"
   },
   {
    "duration": 419,
    "start_time": "2022-09-12T12:33:40.046Z"
   },
   {
    "duration": 5,
    "start_time": "2022-09-12T12:52:31.349Z"
   },
   {
    "duration": 18,
    "start_time": "2022-09-12T13:10:06.480Z"
   },
   {
    "duration": 24,
    "start_time": "2022-09-12T13:10:18.237Z"
   },
   {
    "duration": 23,
    "start_time": "2022-09-12T13:10:57.372Z"
   },
   {
    "duration": 1101,
    "start_time": "2022-09-12T13:28:40.154Z"
   },
   {
    "duration": 277,
    "start_time": "2022-09-12T13:28:41.256Z"
   },
   {
    "duration": 3,
    "start_time": "2022-09-12T13:28:41.535Z"
   },
   {
    "duration": 313,
    "start_time": "2022-09-12T13:28:41.540Z"
   },
   {
    "duration": 25,
    "start_time": "2022-09-12T13:28:41.854Z"
   },
   {
    "duration": 67,
    "start_time": "2022-09-12T13:28:41.880Z"
   },
   {
    "duration": 95,
    "start_time": "2022-09-12T13:28:41.949Z"
   },
   {
    "duration": 64,
    "start_time": "2022-09-12T13:28:42.046Z"
   },
   {
    "duration": 39,
    "start_time": "2022-09-12T13:28:42.112Z"
   },
   {
    "duration": 397,
    "start_time": "2022-09-12T13:28:42.154Z"
   },
   {
    "duration": 274,
    "start_time": "2022-09-12T13:28:42.553Z"
   },
   {
    "duration": 316,
    "start_time": "2022-09-12T13:28:42.828Z"
   },
   {
    "duration": 39,
    "start_time": "2022-09-12T13:28:43.145Z"
   },
   {
    "duration": 315,
    "start_time": "2022-09-12T13:28:43.186Z"
   },
   {
    "duration": 146,
    "start_time": "2022-09-12T13:28:43.503Z"
   },
   {
    "duration": 337,
    "start_time": "2022-09-12T13:28:43.650Z"
   },
   {
    "duration": 20,
    "start_time": "2022-09-12T13:28:43.989Z"
   },
   {
    "duration": 14,
    "start_time": "2022-09-12T13:28:44.011Z"
   },
   {
    "duration": 14326,
    "start_time": "2022-09-12T13:28:44.027Z"
   },
   {
    "duration": 9,
    "start_time": "2022-09-12T13:28:58.355Z"
   },
   {
    "duration": 84,
    "start_time": "2022-09-12T13:28:58.366Z"
   },
   {
    "duration": 200,
    "start_time": "2022-09-12T13:28:58.451Z"
   },
   {
    "duration": 9,
    "start_time": "2022-09-12T13:28:58.653Z"
   },
   {
    "duration": 44,
    "start_time": "2022-09-12T13:28:58.664Z"
   },
   {
    "duration": 157,
    "start_time": "2022-09-12T13:28:58.709Z"
   },
   {
    "duration": 21,
    "start_time": "2022-09-12T13:28:58.868Z"
   },
   {
    "duration": 18,
    "start_time": "2022-09-12T13:28:58.891Z"
   },
   {
    "duration": 175,
    "start_time": "2022-09-12T13:28:58.912Z"
   },
   {
    "duration": 32,
    "start_time": "2022-09-12T13:28:59.088Z"
   },
   {
    "duration": 55,
    "start_time": "2022-09-12T13:28:59.122Z"
   },
   {
    "duration": 20,
    "start_time": "2022-09-12T13:28:59.178Z"
   },
   {
    "duration": 315,
    "start_time": "2022-09-12T13:28:59.199Z"
   },
   {
    "duration": 5,
    "start_time": "2022-09-12T13:28:59.515Z"
   },
   {
    "duration": 17,
    "start_time": "2022-09-12T13:28:59.521Z"
   },
   {
    "duration": 5,
    "start_time": "2022-09-12T13:28:59.539Z"
   },
   {
    "duration": 48,
    "start_time": "2022-09-12T13:28:59.546Z"
   },
   {
    "duration": 147,
    "start_time": "2022-09-12T13:28:59.595Z"
   },
   {
    "duration": 19,
    "start_time": "2022-09-12T13:28:59.745Z"
   },
   {
    "duration": 18,
    "start_time": "2022-09-12T13:28:59.766Z"
   },
   {
    "duration": 1673,
    "start_time": "2022-09-12T13:28:59.786Z"
   },
   {
    "duration": 84,
    "start_time": "2022-09-12T13:29:01.461Z"
   },
   {
    "duration": 25,
    "start_time": "2022-09-12T13:29:01.547Z"
   },
   {
    "duration": 427,
    "start_time": "2022-09-12T13:29:01.574Z"
   }
  ],
  "kernelspec": {
   "display_name": "Python 3 (ipykernel)",
   "language": "python",
   "name": "python3"
  },
  "language_info": {
   "codemirror_mode": {
    "name": "ipython",
    "version": 3
   },
   "file_extension": ".py",
   "mimetype": "text/x-python",
   "name": "python",
   "nbconvert_exporter": "python",
   "pygments_lexer": "ipython3",
   "version": "3.9.7"
  },
  "toc": {
   "base_numbering": 1,
   "nav_menu": {},
   "number_sections": true,
   "sideBar": true,
   "skip_h1_title": false,
   "title_cell": "Оглавление",
   "title_sidebar": "Contents",
   "toc_cell": true,
   "toc_position": {},
   "toc_section_display": true,
   "toc_window_display": true
  }
 },
 "nbformat": 4,
 "nbformat_minor": 5
}
