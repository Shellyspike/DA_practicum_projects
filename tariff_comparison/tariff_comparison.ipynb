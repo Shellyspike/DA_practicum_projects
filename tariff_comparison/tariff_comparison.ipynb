{
 "cells": [
  {
   "cell_type": "markdown",
   "metadata": {
    "toc": true
   },
   "source": [
    "<h1>Оглавление<span class=\"tocSkip\"></span></h1>\n",
    "<div class=\"toc\"><ul class=\"toc-item\"><li><span><a href=\"#Информация-об-исследовании-и-обрабатываемых-данных\" data-toc-modified-id=\"Информация-об-исследовании-и-обрабатываемых-данных-1\"><span class=\"toc-item-num\">1&nbsp;&nbsp;</span>Информация об исследовании и обрабатываемых данных</a></span></li><li><span><a href=\"#Предобработка-данных\" data-toc-modified-id=\"Предобработка-данных-2\"><span class=\"toc-item-num\">2&nbsp;&nbsp;</span>Предобработка данных</a></span><ul class=\"toc-item\"><li><span><a href=\"#Изучение-данных-и-исправление-ошибок\" data-toc-modified-id=\"Изучение-данных-и-исправление-ошибок-2.1\"><span class=\"toc-item-num\">2.1&nbsp;&nbsp;</span>Изучение данных и исправление ошибок</a></span></li><li><span><a href=\"#Подсчет-промежуточных-значений\" data-toc-modified-id=\"Подсчет-промежуточных-значений-2.2\"><span class=\"toc-item-num\">2.2&nbsp;&nbsp;</span>Подсчет промежуточных значений</a></span></li></ul></li><li><span><a href=\"#Изучение-данных-об-объемах-услуг,-используемых-абонентами-тарифов\" data-toc-modified-id=\"Изучение-данных-об-объемах-услуг,-используемых-абонентами-тарифов-3\"><span class=\"toc-item-num\">3&nbsp;&nbsp;</span>Изучение данных об объемах услуг, используемых абонентами тарифов</a></span><ul class=\"toc-item\"><li><span><a href=\"#Минуты-разговора\" data-toc-modified-id=\"Минуты-разговора-3.1\"><span class=\"toc-item-num\">3.1&nbsp;&nbsp;</span>Минуты разговора</a></span></li><li><span><a href=\"#Количество-сообщений\" data-toc-modified-id=\"Количество-сообщений-3.2\"><span class=\"toc-item-num\">3.2&nbsp;&nbsp;</span>Количество сообщений</a></span></li><li><span><a href=\"#Объем-трафика\" data-toc-modified-id=\"Объем-трафика-3.3\"><span class=\"toc-item-num\">3.3&nbsp;&nbsp;</span>Объем трафика</a></span></li></ul></li><li><span><a href=\"#Проверка-гипотез\" data-toc-modified-id=\"Проверка-гипотез-4\"><span class=\"toc-item-num\">4&nbsp;&nbsp;</span>Проверка гипотез</a></span><ul class=\"toc-item\"><li><span><a href=\"#Средняя-выручка-тарифов-&quot;Ультра&quot;-и-&quot;Смарт&quot;-различаются\" data-toc-modified-id=\"Средняя-выручка-тарифов-&quot;Ультра&quot;-и-&quot;Смарт&quot;-различаются-4.1\"><span class=\"toc-item-num\">4.1&nbsp;&nbsp;</span>Средняя выручка тарифов \"Ультра\" и \"Смарт\" различаются</a></span></li><li><span><a href=\"#Cредняя-выручка-пользователей-из-Москвы-отличается-от-выручки-пользователей-из-других-регионов\" data-toc-modified-id=\"Cредняя-выручка-пользователей-из-Москвы-отличается-от-выручки-пользователей-из-других-регионов-4.2\"><span class=\"toc-item-num\">4.2&nbsp;&nbsp;</span>Cредняя выручка пользователей из Москвы отличается от выручки пользователей из других регионов</a></span></li></ul></li><li><span><a href=\"#Вывод\" data-toc-modified-id=\"Вывод-5\"><span class=\"toc-item-num\">5&nbsp;&nbsp;</span>Вывод</a></span></li></ul></div>"
   ]
  },
  {
   "cell_type": "markdown",
   "metadata": {},
   "source": [
    "## Информация об исследовании и обрабатываемых данных"
   ]
  },
  {
   "cell_type": "markdown",
   "metadata": {},
   "source": [
    "Целью данного проекта является сравнение двух тарифных планов оператора сотовой связи. В результате сравнения необходимо сделать вывод о том, какой из тарифов приносит больше денег. Анализ будет производиться на основе данных о выборке из 500 пользователей оператора.\n",
    "\n",
    "Информация представлена следующими датасетами с данными о поведении клиентов:\n",
    "\n",
    "**Таблица users (информация о пользователях):**\n",
    "\n",
    "* user_id — уникальный идентификатор пользователя\n",
    "* first_name — имя пользователя\n",
    "* last_name — фамилия пользователя\n",
    "* age — возраст пользователя\n",
    "* reg_date — дата подключения тарифа\n",
    "* churn_date — дата прекращения пользования тарифом\n",
    "* city — город проживания пользователя\n",
    "* tariff — название тарифного плана\n",
    "\n",
    "**Таблица calls (информация о звонках):**\n",
    "\n",
    "* id — уникальный номер звонка\n",
    "* call_date — дата звонка\n",
    "* duration — длительность звонка в минутах\n",
    "* user_id — идентификатор пользователя, сделавшего звонок\n",
    "\n",
    "**Таблица messages (информация о сообщениях):**\n",
    "\n",
    "* id — уникальный номер сообщения\n",
    "* message_date — дата сообщения\n",
    "* user_id — идентификатор пользователя, отправившего сообщение\n",
    "\n",
    "**Таблица internet (информация об интернет-сессиях):**\n",
    "\n",
    "* id — уникальный номер сессии\n",
    "* mb_used — объём потраченного за сессию интернет-трафика (в мегабайтах)\n",
    "* session_date — дата интернет-сессии\n",
    "* user_id — идентификатор пользователя\n",
    "\n",
    "**Таблица tariffs (информация о тарифах):**\n",
    "\n",
    "* tariff_name — название тарифа\n",
    "* rub_monthly_fee — ежемесячная абонентская плата в рублях\n",
    "* minutes_included — количество минут разговора в месяц, включённых в абонентскую плату\n",
    "* messages_included — количество сообщений в месяц, включённых в абонентскую плату\n",
    "* mb_per_month_included — объём интернет-трафика, включённого в абонентскую плату (в мегабайтах)\n",
    "* rub_per_minute — стоимость минуты разговора сверх тарифного пакета\n",
    "* rub_per_message — стоимость отправки сообщения сверх тарифного пакета\n",
    "* rub_per_gb — стоимость дополнительного гигабайта интернет-трафика сверх тарифного пакета\n",
    "\n",
    "В конце исследования будет сделан вывод о том, какой из тарифов приносит больше дохода, в связи с чем его реклама может быстрее окупиться."
   ]
  },
  {
   "cell_type": "markdown",
   "metadata": {},
   "source": [
    "## Предобработка данных"
   ]
  },
  {
   "cell_type": "markdown",
   "metadata": {},
   "source": [
    "### Изучение данных и исправление ошибок"
   ]
  },
  {
   "cell_type": "code",
   "execution_count": 1,
   "metadata": {},
   "outputs": [],
   "source": [
    "import pandas as pd\n",
    "import numpy as np\n",
    "import seaborn as sns\n",
    "from scipy import stats as st\n",
    "import functools as ft"
   ]
  },
  {
   "cell_type": "code",
   "execution_count": 2,
   "metadata": {},
   "outputs": [],
   "source": [
    "calls = pd.read_csv('/datasets/calls.csv')\n",
    "internet = pd.read_csv('/datasets/internet.csv', index_col=0)\n",
    "messages = pd.read_csv('/datasets/messages.csv')\n",
    "tariffs = pd.read_csv('/datasets/tariffs.csv')\n",
    "users = pd.read_csv('/datasets/users.csv')"
   ]
  },
  {
   "cell_type": "code",
   "execution_count": 3,
   "metadata": {},
   "outputs": [],
   "source": [
    "def study(df):\n",
    "    display(\n",
    "        df.info(),\n",
    "        df.head(5),\n",
    "        df.describe()\n",
    "    )"
   ]
  },
  {
   "cell_type": "code",
   "execution_count": 4,
   "metadata": {},
   "outputs": [
    {
     "name": "stdout",
     "output_type": "stream",
     "text": [
      "<class 'pandas.core.frame.DataFrame'>\n",
      "RangeIndex: 202607 entries, 0 to 202606\n",
      "Data columns (total 4 columns):\n",
      " #   Column     Non-Null Count   Dtype  \n",
      "---  ------     --------------   -----  \n",
      " 0   id         202607 non-null  object \n",
      " 1   call_date  202607 non-null  object \n",
      " 2   duration   202607 non-null  float64\n",
      " 3   user_id    202607 non-null  int64  \n",
      "dtypes: float64(1), int64(1), object(2)\n",
      "memory usage: 6.2+ MB\n"
     ]
    },
    {
     "data": {
      "text/plain": [
       "None"
      ]
     },
     "metadata": {},
     "output_type": "display_data"
    },
    {
     "data": {
      "text/html": [
       "<div>\n",
       "<style scoped>\n",
       "    .dataframe tbody tr th:only-of-type {\n",
       "        vertical-align: middle;\n",
       "    }\n",
       "\n",
       "    .dataframe tbody tr th {\n",
       "        vertical-align: top;\n",
       "    }\n",
       "\n",
       "    .dataframe thead th {\n",
       "        text-align: right;\n",
       "    }\n",
       "</style>\n",
       "<table border=\"1\" class=\"dataframe\">\n",
       "  <thead>\n",
       "    <tr style=\"text-align: right;\">\n",
       "      <th></th>\n",
       "      <th>id</th>\n",
       "      <th>call_date</th>\n",
       "      <th>duration</th>\n",
       "      <th>user_id</th>\n",
       "    </tr>\n",
       "  </thead>\n",
       "  <tbody>\n",
       "    <tr>\n",
       "      <th>0</th>\n",
       "      <td>1000_0</td>\n",
       "      <td>2018-07-25</td>\n",
       "      <td>0.00</td>\n",
       "      <td>1000</td>\n",
       "    </tr>\n",
       "    <tr>\n",
       "      <th>1</th>\n",
       "      <td>1000_1</td>\n",
       "      <td>2018-08-17</td>\n",
       "      <td>0.00</td>\n",
       "      <td>1000</td>\n",
       "    </tr>\n",
       "    <tr>\n",
       "      <th>2</th>\n",
       "      <td>1000_2</td>\n",
       "      <td>2018-06-11</td>\n",
       "      <td>2.85</td>\n",
       "      <td>1000</td>\n",
       "    </tr>\n",
       "    <tr>\n",
       "      <th>3</th>\n",
       "      <td>1000_3</td>\n",
       "      <td>2018-09-21</td>\n",
       "      <td>13.80</td>\n",
       "      <td>1000</td>\n",
       "    </tr>\n",
       "    <tr>\n",
       "      <th>4</th>\n",
       "      <td>1000_4</td>\n",
       "      <td>2018-12-15</td>\n",
       "      <td>5.18</td>\n",
       "      <td>1000</td>\n",
       "    </tr>\n",
       "  </tbody>\n",
       "</table>\n",
       "</div>"
      ],
      "text/plain": [
       "       id   call_date  duration  user_id\n",
       "0  1000_0  2018-07-25      0.00     1000\n",
       "1  1000_1  2018-08-17      0.00     1000\n",
       "2  1000_2  2018-06-11      2.85     1000\n",
       "3  1000_3  2018-09-21     13.80     1000\n",
       "4  1000_4  2018-12-15      5.18     1000"
      ]
     },
     "metadata": {},
     "output_type": "display_data"
    },
    {
     "data": {
      "text/html": [
       "<div>\n",
       "<style scoped>\n",
       "    .dataframe tbody tr th:only-of-type {\n",
       "        vertical-align: middle;\n",
       "    }\n",
       "\n",
       "    .dataframe tbody tr th {\n",
       "        vertical-align: top;\n",
       "    }\n",
       "\n",
       "    .dataframe thead th {\n",
       "        text-align: right;\n",
       "    }\n",
       "</style>\n",
       "<table border=\"1\" class=\"dataframe\">\n",
       "  <thead>\n",
       "    <tr style=\"text-align: right;\">\n",
       "      <th></th>\n",
       "      <th>duration</th>\n",
       "      <th>user_id</th>\n",
       "    </tr>\n",
       "  </thead>\n",
       "  <tbody>\n",
       "    <tr>\n",
       "      <th>count</th>\n",
       "      <td>202607.000000</td>\n",
       "      <td>202607.000000</td>\n",
       "    </tr>\n",
       "    <tr>\n",
       "      <th>mean</th>\n",
       "      <td>6.755887</td>\n",
       "      <td>1253.940619</td>\n",
       "    </tr>\n",
       "    <tr>\n",
       "      <th>std</th>\n",
       "      <td>5.843365</td>\n",
       "      <td>144.722751</td>\n",
       "    </tr>\n",
       "    <tr>\n",
       "      <th>min</th>\n",
       "      <td>0.000000</td>\n",
       "      <td>1000.000000</td>\n",
       "    </tr>\n",
       "    <tr>\n",
       "      <th>25%</th>\n",
       "      <td>1.300000</td>\n",
       "      <td>1126.000000</td>\n",
       "    </tr>\n",
       "    <tr>\n",
       "      <th>50%</th>\n",
       "      <td>6.000000</td>\n",
       "      <td>1260.000000</td>\n",
       "    </tr>\n",
       "    <tr>\n",
       "      <th>75%</th>\n",
       "      <td>10.700000</td>\n",
       "      <td>1379.000000</td>\n",
       "    </tr>\n",
       "    <tr>\n",
       "      <th>max</th>\n",
       "      <td>38.000000</td>\n",
       "      <td>1499.000000</td>\n",
       "    </tr>\n",
       "  </tbody>\n",
       "</table>\n",
       "</div>"
      ],
      "text/plain": [
       "            duration        user_id\n",
       "count  202607.000000  202607.000000\n",
       "mean        6.755887    1253.940619\n",
       "std         5.843365     144.722751\n",
       "min         0.000000    1000.000000\n",
       "25%         1.300000    1126.000000\n",
       "50%         6.000000    1260.000000\n",
       "75%        10.700000    1379.000000\n",
       "max        38.000000    1499.000000"
      ]
     },
     "metadata": {},
     "output_type": "display_data"
    }
   ],
   "source": [
    "study(calls)"
   ]
  },
  {
   "cell_type": "code",
   "execution_count": 5,
   "metadata": {},
   "outputs": [
    {
     "name": "stdout",
     "output_type": "stream",
     "text": [
      "<class 'pandas.core.frame.DataFrame'>\n",
      "Int64Index: 149396 entries, 0 to 149395\n",
      "Data columns (total 4 columns):\n",
      " #   Column        Non-Null Count   Dtype  \n",
      "---  ------        --------------   -----  \n",
      " 0   id            149396 non-null  object \n",
      " 1   mb_used       149396 non-null  float64\n",
      " 2   session_date  149396 non-null  object \n",
      " 3   user_id       149396 non-null  int64  \n",
      "dtypes: float64(1), int64(1), object(2)\n",
      "memory usage: 5.7+ MB\n"
     ]
    },
    {
     "data": {
      "text/plain": [
       "None"
      ]
     },
     "metadata": {},
     "output_type": "display_data"
    },
    {
     "data": {
      "text/html": [
       "<div>\n",
       "<style scoped>\n",
       "    .dataframe tbody tr th:only-of-type {\n",
       "        vertical-align: middle;\n",
       "    }\n",
       "\n",
       "    .dataframe tbody tr th {\n",
       "        vertical-align: top;\n",
       "    }\n",
       "\n",
       "    .dataframe thead th {\n",
       "        text-align: right;\n",
       "    }\n",
       "</style>\n",
       "<table border=\"1\" class=\"dataframe\">\n",
       "  <thead>\n",
       "    <tr style=\"text-align: right;\">\n",
       "      <th></th>\n",
       "      <th>id</th>\n",
       "      <th>mb_used</th>\n",
       "      <th>session_date</th>\n",
       "      <th>user_id</th>\n",
       "    </tr>\n",
       "  </thead>\n",
       "  <tbody>\n",
       "    <tr>\n",
       "      <th>0</th>\n",
       "      <td>1000_0</td>\n",
       "      <td>112.95</td>\n",
       "      <td>2018-11-25</td>\n",
       "      <td>1000</td>\n",
       "    </tr>\n",
       "    <tr>\n",
       "      <th>1</th>\n",
       "      <td>1000_1</td>\n",
       "      <td>1052.81</td>\n",
       "      <td>2018-09-07</td>\n",
       "      <td>1000</td>\n",
       "    </tr>\n",
       "    <tr>\n",
       "      <th>2</th>\n",
       "      <td>1000_2</td>\n",
       "      <td>1197.26</td>\n",
       "      <td>2018-06-25</td>\n",
       "      <td>1000</td>\n",
       "    </tr>\n",
       "    <tr>\n",
       "      <th>3</th>\n",
       "      <td>1000_3</td>\n",
       "      <td>550.27</td>\n",
       "      <td>2018-08-22</td>\n",
       "      <td>1000</td>\n",
       "    </tr>\n",
       "    <tr>\n",
       "      <th>4</th>\n",
       "      <td>1000_4</td>\n",
       "      <td>302.56</td>\n",
       "      <td>2018-09-24</td>\n",
       "      <td>1000</td>\n",
       "    </tr>\n",
       "  </tbody>\n",
       "</table>\n",
       "</div>"
      ],
      "text/plain": [
       "       id  mb_used session_date  user_id\n",
       "0  1000_0   112.95   2018-11-25     1000\n",
       "1  1000_1  1052.81   2018-09-07     1000\n",
       "2  1000_2  1197.26   2018-06-25     1000\n",
       "3  1000_3   550.27   2018-08-22     1000\n",
       "4  1000_4   302.56   2018-09-24     1000"
      ]
     },
     "metadata": {},
     "output_type": "display_data"
    },
    {
     "data": {
      "text/html": [
       "<div>\n",
       "<style scoped>\n",
       "    .dataframe tbody tr th:only-of-type {\n",
       "        vertical-align: middle;\n",
       "    }\n",
       "\n",
       "    .dataframe tbody tr th {\n",
       "        vertical-align: top;\n",
       "    }\n",
       "\n",
       "    .dataframe thead th {\n",
       "        text-align: right;\n",
       "    }\n",
       "</style>\n",
       "<table border=\"1\" class=\"dataframe\">\n",
       "  <thead>\n",
       "    <tr style=\"text-align: right;\">\n",
       "      <th></th>\n",
       "      <th>mb_used</th>\n",
       "      <th>user_id</th>\n",
       "    </tr>\n",
       "  </thead>\n",
       "  <tbody>\n",
       "    <tr>\n",
       "      <th>count</th>\n",
       "      <td>149396.000000</td>\n",
       "      <td>149396.000000</td>\n",
       "    </tr>\n",
       "    <tr>\n",
       "      <th>mean</th>\n",
       "      <td>370.192426</td>\n",
       "      <td>1252.099842</td>\n",
       "    </tr>\n",
       "    <tr>\n",
       "      <th>std</th>\n",
       "      <td>278.300951</td>\n",
       "      <td>144.050823</td>\n",
       "    </tr>\n",
       "    <tr>\n",
       "      <th>min</th>\n",
       "      <td>0.000000</td>\n",
       "      <td>1000.000000</td>\n",
       "    </tr>\n",
       "    <tr>\n",
       "      <th>25%</th>\n",
       "      <td>138.187500</td>\n",
       "      <td>1130.000000</td>\n",
       "    </tr>\n",
       "    <tr>\n",
       "      <th>50%</th>\n",
       "      <td>348.015000</td>\n",
       "      <td>1251.000000</td>\n",
       "    </tr>\n",
       "    <tr>\n",
       "      <th>75%</th>\n",
       "      <td>559.552500</td>\n",
       "      <td>1380.000000</td>\n",
       "    </tr>\n",
       "    <tr>\n",
       "      <th>max</th>\n",
       "      <td>1724.830000</td>\n",
       "      <td>1499.000000</td>\n",
       "    </tr>\n",
       "  </tbody>\n",
       "</table>\n",
       "</div>"
      ],
      "text/plain": [
       "             mb_used        user_id\n",
       "count  149396.000000  149396.000000\n",
       "mean      370.192426    1252.099842\n",
       "std       278.300951     144.050823\n",
       "min         0.000000    1000.000000\n",
       "25%       138.187500    1130.000000\n",
       "50%       348.015000    1251.000000\n",
       "75%       559.552500    1380.000000\n",
       "max      1724.830000    1499.000000"
      ]
     },
     "metadata": {},
     "output_type": "display_data"
    }
   ],
   "source": [
    "study(internet)"
   ]
  },
  {
   "cell_type": "code",
   "execution_count": 6,
   "metadata": {},
   "outputs": [
    {
     "name": "stdout",
     "output_type": "stream",
     "text": [
      "<class 'pandas.core.frame.DataFrame'>\n",
      "RangeIndex: 123036 entries, 0 to 123035\n",
      "Data columns (total 3 columns):\n",
      " #   Column        Non-Null Count   Dtype \n",
      "---  ------        --------------   ----- \n",
      " 0   id            123036 non-null  object\n",
      " 1   message_date  123036 non-null  object\n",
      " 2   user_id       123036 non-null  int64 \n",
      "dtypes: int64(1), object(2)\n",
      "memory usage: 2.8+ MB\n"
     ]
    },
    {
     "data": {
      "text/plain": [
       "None"
      ]
     },
     "metadata": {},
     "output_type": "display_data"
    },
    {
     "data": {
      "text/html": [
       "<div>\n",
       "<style scoped>\n",
       "    .dataframe tbody tr th:only-of-type {\n",
       "        vertical-align: middle;\n",
       "    }\n",
       "\n",
       "    .dataframe tbody tr th {\n",
       "        vertical-align: top;\n",
       "    }\n",
       "\n",
       "    .dataframe thead th {\n",
       "        text-align: right;\n",
       "    }\n",
       "</style>\n",
       "<table border=\"1\" class=\"dataframe\">\n",
       "  <thead>\n",
       "    <tr style=\"text-align: right;\">\n",
       "      <th></th>\n",
       "      <th>id</th>\n",
       "      <th>message_date</th>\n",
       "      <th>user_id</th>\n",
       "    </tr>\n",
       "  </thead>\n",
       "  <tbody>\n",
       "    <tr>\n",
       "      <th>0</th>\n",
       "      <td>1000_0</td>\n",
       "      <td>2018-06-27</td>\n",
       "      <td>1000</td>\n",
       "    </tr>\n",
       "    <tr>\n",
       "      <th>1</th>\n",
       "      <td>1000_1</td>\n",
       "      <td>2018-10-08</td>\n",
       "      <td>1000</td>\n",
       "    </tr>\n",
       "    <tr>\n",
       "      <th>2</th>\n",
       "      <td>1000_2</td>\n",
       "      <td>2018-08-04</td>\n",
       "      <td>1000</td>\n",
       "    </tr>\n",
       "    <tr>\n",
       "      <th>3</th>\n",
       "      <td>1000_3</td>\n",
       "      <td>2018-06-16</td>\n",
       "      <td>1000</td>\n",
       "    </tr>\n",
       "    <tr>\n",
       "      <th>4</th>\n",
       "      <td>1000_4</td>\n",
       "      <td>2018-12-05</td>\n",
       "      <td>1000</td>\n",
       "    </tr>\n",
       "  </tbody>\n",
       "</table>\n",
       "</div>"
      ],
      "text/plain": [
       "       id message_date  user_id\n",
       "0  1000_0   2018-06-27     1000\n",
       "1  1000_1   2018-10-08     1000\n",
       "2  1000_2   2018-08-04     1000\n",
       "3  1000_3   2018-06-16     1000\n",
       "4  1000_4   2018-12-05     1000"
      ]
     },
     "metadata": {},
     "output_type": "display_data"
    },
    {
     "data": {
      "text/html": [
       "<div>\n",
       "<style scoped>\n",
       "    .dataframe tbody tr th:only-of-type {\n",
       "        vertical-align: middle;\n",
       "    }\n",
       "\n",
       "    .dataframe tbody tr th {\n",
       "        vertical-align: top;\n",
       "    }\n",
       "\n",
       "    .dataframe thead th {\n",
       "        text-align: right;\n",
       "    }\n",
       "</style>\n",
       "<table border=\"1\" class=\"dataframe\">\n",
       "  <thead>\n",
       "    <tr style=\"text-align: right;\">\n",
       "      <th></th>\n",
       "      <th>user_id</th>\n",
       "    </tr>\n",
       "  </thead>\n",
       "  <tbody>\n",
       "    <tr>\n",
       "      <th>count</th>\n",
       "      <td>123036.000000</td>\n",
       "    </tr>\n",
       "    <tr>\n",
       "      <th>mean</th>\n",
       "      <td>1256.989410</td>\n",
       "    </tr>\n",
       "    <tr>\n",
       "      <th>std</th>\n",
       "      <td>143.523967</td>\n",
       "    </tr>\n",
       "    <tr>\n",
       "      <th>min</th>\n",
       "      <td>1000.000000</td>\n",
       "    </tr>\n",
       "    <tr>\n",
       "      <th>25%</th>\n",
       "      <td>1134.000000</td>\n",
       "    </tr>\n",
       "    <tr>\n",
       "      <th>50%</th>\n",
       "      <td>1271.000000</td>\n",
       "    </tr>\n",
       "    <tr>\n",
       "      <th>75%</th>\n",
       "      <td>1381.000000</td>\n",
       "    </tr>\n",
       "    <tr>\n",
       "      <th>max</th>\n",
       "      <td>1499.000000</td>\n",
       "    </tr>\n",
       "  </tbody>\n",
       "</table>\n",
       "</div>"
      ],
      "text/plain": [
       "             user_id\n",
       "count  123036.000000\n",
       "mean     1256.989410\n",
       "std       143.523967\n",
       "min      1000.000000\n",
       "25%      1134.000000\n",
       "50%      1271.000000\n",
       "75%      1381.000000\n",
       "max      1499.000000"
      ]
     },
     "metadata": {},
     "output_type": "display_data"
    }
   ],
   "source": [
    "study(messages)"
   ]
  },
  {
   "cell_type": "code",
   "execution_count": 7,
   "metadata": {},
   "outputs": [
    {
     "name": "stdout",
     "output_type": "stream",
     "text": [
      "<class 'pandas.core.frame.DataFrame'>\n",
      "RangeIndex: 2 entries, 0 to 1\n",
      "Data columns (total 8 columns):\n",
      " #   Column                 Non-Null Count  Dtype \n",
      "---  ------                 --------------  ----- \n",
      " 0   messages_included      2 non-null      int64 \n",
      " 1   mb_per_month_included  2 non-null      int64 \n",
      " 2   minutes_included       2 non-null      int64 \n",
      " 3   rub_monthly_fee        2 non-null      int64 \n",
      " 4   rub_per_gb             2 non-null      int64 \n",
      " 5   rub_per_message        2 non-null      int64 \n",
      " 6   rub_per_minute         2 non-null      int64 \n",
      " 7   tariff_name            2 non-null      object\n",
      "dtypes: int64(7), object(1)\n",
      "memory usage: 256.0+ bytes\n"
     ]
    },
    {
     "data": {
      "text/plain": [
       "None"
      ]
     },
     "metadata": {},
     "output_type": "display_data"
    },
    {
     "data": {
      "text/html": [
       "<div>\n",
       "<style scoped>\n",
       "    .dataframe tbody tr th:only-of-type {\n",
       "        vertical-align: middle;\n",
       "    }\n",
       "\n",
       "    .dataframe tbody tr th {\n",
       "        vertical-align: top;\n",
       "    }\n",
       "\n",
       "    .dataframe thead th {\n",
       "        text-align: right;\n",
       "    }\n",
       "</style>\n",
       "<table border=\"1\" class=\"dataframe\">\n",
       "  <thead>\n",
       "    <tr style=\"text-align: right;\">\n",
       "      <th></th>\n",
       "      <th>messages_included</th>\n",
       "      <th>mb_per_month_included</th>\n",
       "      <th>minutes_included</th>\n",
       "      <th>rub_monthly_fee</th>\n",
       "      <th>rub_per_gb</th>\n",
       "      <th>rub_per_message</th>\n",
       "      <th>rub_per_minute</th>\n",
       "      <th>tariff_name</th>\n",
       "    </tr>\n",
       "  </thead>\n",
       "  <tbody>\n",
       "    <tr>\n",
       "      <th>0</th>\n",
       "      <td>50</td>\n",
       "      <td>15360</td>\n",
       "      <td>500</td>\n",
       "      <td>550</td>\n",
       "      <td>200</td>\n",
       "      <td>3</td>\n",
       "      <td>3</td>\n",
       "      <td>smart</td>\n",
       "    </tr>\n",
       "    <tr>\n",
       "      <th>1</th>\n",
       "      <td>1000</td>\n",
       "      <td>30720</td>\n",
       "      <td>3000</td>\n",
       "      <td>1950</td>\n",
       "      <td>150</td>\n",
       "      <td>1</td>\n",
       "      <td>1</td>\n",
       "      <td>ultra</td>\n",
       "    </tr>\n",
       "  </tbody>\n",
       "</table>\n",
       "</div>"
      ],
      "text/plain": [
       "   messages_included  mb_per_month_included  minutes_included  \\\n",
       "0                 50                  15360               500   \n",
       "1               1000                  30720              3000   \n",
       "\n",
       "   rub_monthly_fee  rub_per_gb  rub_per_message  rub_per_minute tariff_name  \n",
       "0              550         200                3               3       smart  \n",
       "1             1950         150                1               1       ultra  "
      ]
     },
     "metadata": {},
     "output_type": "display_data"
    },
    {
     "data": {
      "text/html": [
       "<div>\n",
       "<style scoped>\n",
       "    .dataframe tbody tr th:only-of-type {\n",
       "        vertical-align: middle;\n",
       "    }\n",
       "\n",
       "    .dataframe tbody tr th {\n",
       "        vertical-align: top;\n",
       "    }\n",
       "\n",
       "    .dataframe thead th {\n",
       "        text-align: right;\n",
       "    }\n",
       "</style>\n",
       "<table border=\"1\" class=\"dataframe\">\n",
       "  <thead>\n",
       "    <tr style=\"text-align: right;\">\n",
       "      <th></th>\n",
       "      <th>messages_included</th>\n",
       "      <th>mb_per_month_included</th>\n",
       "      <th>minutes_included</th>\n",
       "      <th>rub_monthly_fee</th>\n",
       "      <th>rub_per_gb</th>\n",
       "      <th>rub_per_message</th>\n",
       "      <th>rub_per_minute</th>\n",
       "    </tr>\n",
       "  </thead>\n",
       "  <tbody>\n",
       "    <tr>\n",
       "      <th>count</th>\n",
       "      <td>2.000000</td>\n",
       "      <td>2.000000</td>\n",
       "      <td>2.000000</td>\n",
       "      <td>2.000000</td>\n",
       "      <td>2.000000</td>\n",
       "      <td>2.000000</td>\n",
       "      <td>2.000000</td>\n",
       "    </tr>\n",
       "    <tr>\n",
       "      <th>mean</th>\n",
       "      <td>525.000000</td>\n",
       "      <td>23040.000000</td>\n",
       "      <td>1750.000000</td>\n",
       "      <td>1250.000000</td>\n",
       "      <td>175.000000</td>\n",
       "      <td>2.000000</td>\n",
       "      <td>2.000000</td>\n",
       "    </tr>\n",
       "    <tr>\n",
       "      <th>std</th>\n",
       "      <td>671.751442</td>\n",
       "      <td>10861.160159</td>\n",
       "      <td>1767.766953</td>\n",
       "      <td>989.949494</td>\n",
       "      <td>35.355339</td>\n",
       "      <td>1.414214</td>\n",
       "      <td>1.414214</td>\n",
       "    </tr>\n",
       "    <tr>\n",
       "      <th>min</th>\n",
       "      <td>50.000000</td>\n",
       "      <td>15360.000000</td>\n",
       "      <td>500.000000</td>\n",
       "      <td>550.000000</td>\n",
       "      <td>150.000000</td>\n",
       "      <td>1.000000</td>\n",
       "      <td>1.000000</td>\n",
       "    </tr>\n",
       "    <tr>\n",
       "      <th>25%</th>\n",
       "      <td>287.500000</td>\n",
       "      <td>19200.000000</td>\n",
       "      <td>1125.000000</td>\n",
       "      <td>900.000000</td>\n",
       "      <td>162.500000</td>\n",
       "      <td>1.500000</td>\n",
       "      <td>1.500000</td>\n",
       "    </tr>\n",
       "    <tr>\n",
       "      <th>50%</th>\n",
       "      <td>525.000000</td>\n",
       "      <td>23040.000000</td>\n",
       "      <td>1750.000000</td>\n",
       "      <td>1250.000000</td>\n",
       "      <td>175.000000</td>\n",
       "      <td>2.000000</td>\n",
       "      <td>2.000000</td>\n",
       "    </tr>\n",
       "    <tr>\n",
       "      <th>75%</th>\n",
       "      <td>762.500000</td>\n",
       "      <td>26880.000000</td>\n",
       "      <td>2375.000000</td>\n",
       "      <td>1600.000000</td>\n",
       "      <td>187.500000</td>\n",
       "      <td>2.500000</td>\n",
       "      <td>2.500000</td>\n",
       "    </tr>\n",
       "    <tr>\n",
       "      <th>max</th>\n",
       "      <td>1000.000000</td>\n",
       "      <td>30720.000000</td>\n",
       "      <td>3000.000000</td>\n",
       "      <td>1950.000000</td>\n",
       "      <td>200.000000</td>\n",
       "      <td>3.000000</td>\n",
       "      <td>3.000000</td>\n",
       "    </tr>\n",
       "  </tbody>\n",
       "</table>\n",
       "</div>"
      ],
      "text/plain": [
       "       messages_included  mb_per_month_included  minutes_included  \\\n",
       "count           2.000000               2.000000          2.000000   \n",
       "mean          525.000000           23040.000000       1750.000000   \n",
       "std           671.751442           10861.160159       1767.766953   \n",
       "min            50.000000           15360.000000        500.000000   \n",
       "25%           287.500000           19200.000000       1125.000000   \n",
       "50%           525.000000           23040.000000       1750.000000   \n",
       "75%           762.500000           26880.000000       2375.000000   \n",
       "max          1000.000000           30720.000000       3000.000000   \n",
       "\n",
       "       rub_monthly_fee  rub_per_gb  rub_per_message  rub_per_minute  \n",
       "count         2.000000    2.000000         2.000000        2.000000  \n",
       "mean       1250.000000  175.000000         2.000000        2.000000  \n",
       "std         989.949494   35.355339         1.414214        1.414214  \n",
       "min         550.000000  150.000000         1.000000        1.000000  \n",
       "25%         900.000000  162.500000         1.500000        1.500000  \n",
       "50%        1250.000000  175.000000         2.000000        2.000000  \n",
       "75%        1600.000000  187.500000         2.500000        2.500000  \n",
       "max        1950.000000  200.000000         3.000000        3.000000  "
      ]
     },
     "metadata": {},
     "output_type": "display_data"
    }
   ],
   "source": [
    "study(tariffs)"
   ]
  },
  {
   "cell_type": "code",
   "execution_count": 8,
   "metadata": {},
   "outputs": [
    {
     "name": "stdout",
     "output_type": "stream",
     "text": [
      "<class 'pandas.core.frame.DataFrame'>\n",
      "RangeIndex: 500 entries, 0 to 499\n",
      "Data columns (total 8 columns):\n",
      " #   Column      Non-Null Count  Dtype \n",
      "---  ------      --------------  ----- \n",
      " 0   user_id     500 non-null    int64 \n",
      " 1   age         500 non-null    int64 \n",
      " 2   churn_date  38 non-null     object\n",
      " 3   city        500 non-null    object\n",
      " 4   first_name  500 non-null    object\n",
      " 5   last_name   500 non-null    object\n",
      " 6   reg_date    500 non-null    object\n",
      " 7   tariff      500 non-null    object\n",
      "dtypes: int64(2), object(6)\n",
      "memory usage: 31.4+ KB\n"
     ]
    },
    {
     "data": {
      "text/plain": [
       "None"
      ]
     },
     "metadata": {},
     "output_type": "display_data"
    },
    {
     "data": {
      "text/html": [
       "<div>\n",
       "<style scoped>\n",
       "    .dataframe tbody tr th:only-of-type {\n",
       "        vertical-align: middle;\n",
       "    }\n",
       "\n",
       "    .dataframe tbody tr th {\n",
       "        vertical-align: top;\n",
       "    }\n",
       "\n",
       "    .dataframe thead th {\n",
       "        text-align: right;\n",
       "    }\n",
       "</style>\n",
       "<table border=\"1\" class=\"dataframe\">\n",
       "  <thead>\n",
       "    <tr style=\"text-align: right;\">\n",
       "      <th></th>\n",
       "      <th>user_id</th>\n",
       "      <th>age</th>\n",
       "      <th>churn_date</th>\n",
       "      <th>city</th>\n",
       "      <th>first_name</th>\n",
       "      <th>last_name</th>\n",
       "      <th>reg_date</th>\n",
       "      <th>tariff</th>\n",
       "    </tr>\n",
       "  </thead>\n",
       "  <tbody>\n",
       "    <tr>\n",
       "      <th>0</th>\n",
       "      <td>1000</td>\n",
       "      <td>52</td>\n",
       "      <td>NaN</td>\n",
       "      <td>Краснодар</td>\n",
       "      <td>Рафаил</td>\n",
       "      <td>Верещагин</td>\n",
       "      <td>2018-05-25</td>\n",
       "      <td>ultra</td>\n",
       "    </tr>\n",
       "    <tr>\n",
       "      <th>1</th>\n",
       "      <td>1001</td>\n",
       "      <td>41</td>\n",
       "      <td>NaN</td>\n",
       "      <td>Москва</td>\n",
       "      <td>Иван</td>\n",
       "      <td>Ежов</td>\n",
       "      <td>2018-11-01</td>\n",
       "      <td>smart</td>\n",
       "    </tr>\n",
       "    <tr>\n",
       "      <th>2</th>\n",
       "      <td>1002</td>\n",
       "      <td>59</td>\n",
       "      <td>NaN</td>\n",
       "      <td>Стерлитамак</td>\n",
       "      <td>Евгений</td>\n",
       "      <td>Абрамович</td>\n",
       "      <td>2018-06-17</td>\n",
       "      <td>smart</td>\n",
       "    </tr>\n",
       "    <tr>\n",
       "      <th>3</th>\n",
       "      <td>1003</td>\n",
       "      <td>23</td>\n",
       "      <td>NaN</td>\n",
       "      <td>Москва</td>\n",
       "      <td>Белла</td>\n",
       "      <td>Белякова</td>\n",
       "      <td>2018-08-17</td>\n",
       "      <td>ultra</td>\n",
       "    </tr>\n",
       "    <tr>\n",
       "      <th>4</th>\n",
       "      <td>1004</td>\n",
       "      <td>68</td>\n",
       "      <td>NaN</td>\n",
       "      <td>Новокузнецк</td>\n",
       "      <td>Татьяна</td>\n",
       "      <td>Авдеенко</td>\n",
       "      <td>2018-05-14</td>\n",
       "      <td>ultra</td>\n",
       "    </tr>\n",
       "  </tbody>\n",
       "</table>\n",
       "</div>"
      ],
      "text/plain": [
       "   user_id  age churn_date         city first_name  last_name    reg_date  \\\n",
       "0     1000   52        NaN    Краснодар     Рафаил  Верещагин  2018-05-25   \n",
       "1     1001   41        NaN       Москва       Иван       Ежов  2018-11-01   \n",
       "2     1002   59        NaN  Стерлитамак    Евгений  Абрамович  2018-06-17   \n",
       "3     1003   23        NaN       Москва      Белла   Белякова  2018-08-17   \n",
       "4     1004   68        NaN  Новокузнецк    Татьяна   Авдеенко  2018-05-14   \n",
       "\n",
       "  tariff  \n",
       "0  ultra  \n",
       "1  smart  \n",
       "2  smart  \n",
       "3  ultra  \n",
       "4  ultra  "
      ]
     },
     "metadata": {},
     "output_type": "display_data"
    },
    {
     "data": {
      "text/html": [
       "<div>\n",
       "<style scoped>\n",
       "    .dataframe tbody tr th:only-of-type {\n",
       "        vertical-align: middle;\n",
       "    }\n",
       "\n",
       "    .dataframe tbody tr th {\n",
       "        vertical-align: top;\n",
       "    }\n",
       "\n",
       "    .dataframe thead th {\n",
       "        text-align: right;\n",
       "    }\n",
       "</style>\n",
       "<table border=\"1\" class=\"dataframe\">\n",
       "  <thead>\n",
       "    <tr style=\"text-align: right;\">\n",
       "      <th></th>\n",
       "      <th>user_id</th>\n",
       "      <th>age</th>\n",
       "    </tr>\n",
       "  </thead>\n",
       "  <tbody>\n",
       "    <tr>\n",
       "      <th>count</th>\n",
       "      <td>500.000000</td>\n",
       "      <td>500.00000</td>\n",
       "    </tr>\n",
       "    <tr>\n",
       "      <th>mean</th>\n",
       "      <td>1249.500000</td>\n",
       "      <td>46.58800</td>\n",
       "    </tr>\n",
       "    <tr>\n",
       "      <th>std</th>\n",
       "      <td>144.481833</td>\n",
       "      <td>16.66763</td>\n",
       "    </tr>\n",
       "    <tr>\n",
       "      <th>min</th>\n",
       "      <td>1000.000000</td>\n",
       "      <td>18.00000</td>\n",
       "    </tr>\n",
       "    <tr>\n",
       "      <th>25%</th>\n",
       "      <td>1124.750000</td>\n",
       "      <td>32.00000</td>\n",
       "    </tr>\n",
       "    <tr>\n",
       "      <th>50%</th>\n",
       "      <td>1249.500000</td>\n",
       "      <td>46.00000</td>\n",
       "    </tr>\n",
       "    <tr>\n",
       "      <th>75%</th>\n",
       "      <td>1374.250000</td>\n",
       "      <td>62.00000</td>\n",
       "    </tr>\n",
       "    <tr>\n",
       "      <th>max</th>\n",
       "      <td>1499.000000</td>\n",
       "      <td>75.00000</td>\n",
       "    </tr>\n",
       "  </tbody>\n",
       "</table>\n",
       "</div>"
      ],
      "text/plain": [
       "           user_id        age\n",
       "count   500.000000  500.00000\n",
       "mean   1249.500000   46.58800\n",
       "std     144.481833   16.66763\n",
       "min    1000.000000   18.00000\n",
       "25%    1124.750000   32.00000\n",
       "50%    1249.500000   46.00000\n",
       "75%    1374.250000   62.00000\n",
       "max    1499.000000   75.00000"
      ]
     },
     "metadata": {},
     "output_type": "display_data"
    }
   ],
   "source": [
    "study(users)"
   ]
  },
  {
   "cell_type": "markdown",
   "metadata": {},
   "source": [
    "Переименуем столбец с названием тарифа для последующего объединения в сводную таблицу."
   ]
  },
  {
   "cell_type": "code",
   "execution_count": 9,
   "metadata": {},
   "outputs": [],
   "source": [
    "tariffs = tariffs.rename(columns={'tariff_name':'tariff'})"
   ]
  },
  {
   "cell_type": "markdown",
   "metadata": {},
   "source": [
    "### Подсчет промежуточных значений"
   ]
  },
  {
   "cell_type": "markdown",
   "metadata": {},
   "source": [
    "Для подсчета объема использованных услуг оператора по месяцам выделим колонки с номером месяца. Можно оставить только номер, т.к. данные приведены за один и тот же год."
   ]
  },
  {
   "cell_type": "code",
   "execution_count": 10,
   "metadata": {},
   "outputs": [],
   "source": [
    "calls['month'] = pd.DatetimeIndex(calls['call_date']).month\n",
    "messages['month'] = pd.DatetimeIndex(messages['message_date']).month\n",
    "internet['month'] = pd.DatetimeIndex(internet['session_date']).month"
   ]
  },
  {
   "cell_type": "code",
   "execution_count": 11,
   "metadata": {},
   "outputs": [
    {
     "data": {
      "text/html": [
       "<div>\n",
       "<style scoped>\n",
       "    .dataframe tbody tr th:only-of-type {\n",
       "        vertical-align: middle;\n",
       "    }\n",
       "\n",
       "    .dataframe tbody tr th {\n",
       "        vertical-align: top;\n",
       "    }\n",
       "\n",
       "    .dataframe thead th {\n",
       "        text-align: right;\n",
       "    }\n",
       "</style>\n",
       "<table border=\"1\" class=\"dataframe\">\n",
       "  <thead>\n",
       "    <tr style=\"text-align: right;\">\n",
       "      <th></th>\n",
       "      <th>user_id</th>\n",
       "      <th>month</th>\n",
       "      <th>calls_dur</th>\n",
       "      <th>calls_cnt</th>\n",
       "    </tr>\n",
       "  </thead>\n",
       "  <tbody>\n",
       "    <tr>\n",
       "      <th>0</th>\n",
       "      <td>1000</td>\n",
       "      <td>5</td>\n",
       "      <td>159.0</td>\n",
       "      <td>22</td>\n",
       "    </tr>\n",
       "    <tr>\n",
       "      <th>1</th>\n",
       "      <td>1000</td>\n",
       "      <td>6</td>\n",
       "      <td>172.0</td>\n",
       "      <td>43</td>\n",
       "    </tr>\n",
       "    <tr>\n",
       "      <th>2</th>\n",
       "      <td>1000</td>\n",
       "      <td>7</td>\n",
       "      <td>340.0</td>\n",
       "      <td>47</td>\n",
       "    </tr>\n",
       "    <tr>\n",
       "      <th>3</th>\n",
       "      <td>1000</td>\n",
       "      <td>8</td>\n",
       "      <td>408.0</td>\n",
       "      <td>52</td>\n",
       "    </tr>\n",
       "    <tr>\n",
       "      <th>4</th>\n",
       "      <td>1000</td>\n",
       "      <td>9</td>\n",
       "      <td>466.0</td>\n",
       "      <td>58</td>\n",
       "    </tr>\n",
       "  </tbody>\n",
       "</table>\n",
       "</div>"
      ],
      "text/plain": [
       "   user_id  month  calls_dur  calls_cnt\n",
       "0     1000      5      159.0         22\n",
       "1     1000      6      172.0         43\n",
       "2     1000      7      340.0         47\n",
       "3     1000      8      408.0         52\n",
       "4     1000      9      466.0         58"
      ]
     },
     "execution_count": 11,
     "metadata": {},
     "output_type": "execute_result"
    }
   ],
   "source": [
    "calls['duration'] = np.ceil(calls['duration'])\n",
    "calls_and_minutes = pd.pivot_table(calls, values=['id', 'duration'], index=['user_id', 'month'],\n",
    "                       aggfunc={'id': 'count',\n",
    "                                'duration': 'sum'}).reset_index().rename(columns={'duration': 'calls_dur', 'id': 'calls_cnt'})\n",
    "calls_and_minutes.head()"
   ]
  },
  {
   "cell_type": "markdown",
   "metadata": {},
   "source": [
    "Следующим посчитаем количество отправленных сообщений по месяцам."
   ]
  },
  {
   "cell_type": "code",
   "execution_count": 12,
   "metadata": {},
   "outputs": [
    {
     "data": {
      "text/html": [
       "<div>\n",
       "<style scoped>\n",
       "    .dataframe tbody tr th:only-of-type {\n",
       "        vertical-align: middle;\n",
       "    }\n",
       "\n",
       "    .dataframe tbody tr th {\n",
       "        vertical-align: top;\n",
       "    }\n",
       "\n",
       "    .dataframe thead th {\n",
       "        text-align: right;\n",
       "    }\n",
       "</style>\n",
       "<table border=\"1\" class=\"dataframe\">\n",
       "  <thead>\n",
       "    <tr style=\"text-align: right;\">\n",
       "      <th></th>\n",
       "      <th>user_id</th>\n",
       "      <th>month</th>\n",
       "      <th>msg_cnt</th>\n",
       "    </tr>\n",
       "  </thead>\n",
       "  <tbody>\n",
       "    <tr>\n",
       "      <th>0</th>\n",
       "      <td>1000</td>\n",
       "      <td>5</td>\n",
       "      <td>22</td>\n",
       "    </tr>\n",
       "    <tr>\n",
       "      <th>1</th>\n",
       "      <td>1000</td>\n",
       "      <td>6</td>\n",
       "      <td>60</td>\n",
       "    </tr>\n",
       "    <tr>\n",
       "      <th>2</th>\n",
       "      <td>1000</td>\n",
       "      <td>7</td>\n",
       "      <td>75</td>\n",
       "    </tr>\n",
       "    <tr>\n",
       "      <th>3</th>\n",
       "      <td>1000</td>\n",
       "      <td>8</td>\n",
       "      <td>81</td>\n",
       "    </tr>\n",
       "    <tr>\n",
       "      <th>4</th>\n",
       "      <td>1000</td>\n",
       "      <td>9</td>\n",
       "      <td>57</td>\n",
       "    </tr>\n",
       "  </tbody>\n",
       "</table>\n",
       "</div>"
      ],
      "text/plain": [
       "   user_id  month  msg_cnt\n",
       "0     1000      5       22\n",
       "1     1000      6       60\n",
       "2     1000      7       75\n",
       "3     1000      8       81\n",
       "4     1000      9       57"
      ]
     },
     "execution_count": 12,
     "metadata": {},
     "output_type": "execute_result"
    }
   ],
   "source": [
    "messages_cnt = pd.pivot_table(messages, values=['id'], index=['user_id', 'month'],\n",
    "                       aggfunc={'id': 'count'}).reset_index().rename(columns={'id': 'msg_cnt'})\n",
    "messages_cnt.head()"
   ]
  },
  {
   "cell_type": "markdown",
   "metadata": {},
   "source": [
    "Объем израсходованного трафика по месяцам."
   ]
  },
  {
   "cell_type": "code",
   "execution_count": 13,
   "metadata": {},
   "outputs": [
    {
     "data": {
      "text/html": [
       "<div>\n",
       "<style scoped>\n",
       "    .dataframe tbody tr th:only-of-type {\n",
       "        vertical-align: middle;\n",
       "    }\n",
       "\n",
       "    .dataframe tbody tr th {\n",
       "        vertical-align: top;\n",
       "    }\n",
       "\n",
       "    .dataframe thead th {\n",
       "        text-align: right;\n",
       "    }\n",
       "</style>\n",
       "<table border=\"1\" class=\"dataframe\">\n",
       "  <thead>\n",
       "    <tr style=\"text-align: right;\">\n",
       "      <th></th>\n",
       "      <th>user_id</th>\n",
       "      <th>month</th>\n",
       "      <th>mb_used</th>\n",
       "    </tr>\n",
       "  </thead>\n",
       "  <tbody>\n",
       "    <tr>\n",
       "      <th>0</th>\n",
       "      <td>1000</td>\n",
       "      <td>5</td>\n",
       "      <td>2253.49</td>\n",
       "    </tr>\n",
       "    <tr>\n",
       "      <th>1</th>\n",
       "      <td>1000</td>\n",
       "      <td>6</td>\n",
       "      <td>23233.77</td>\n",
       "    </tr>\n",
       "    <tr>\n",
       "      <th>2</th>\n",
       "      <td>1000</td>\n",
       "      <td>7</td>\n",
       "      <td>14003.64</td>\n",
       "    </tr>\n",
       "    <tr>\n",
       "      <th>3</th>\n",
       "      <td>1000</td>\n",
       "      <td>8</td>\n",
       "      <td>14055.93</td>\n",
       "    </tr>\n",
       "    <tr>\n",
       "      <th>4</th>\n",
       "      <td>1000</td>\n",
       "      <td>9</td>\n",
       "      <td>14568.91</td>\n",
       "    </tr>\n",
       "  </tbody>\n",
       "</table>\n",
       "</div>"
      ],
      "text/plain": [
       "   user_id  month   mb_used\n",
       "0     1000      5   2253.49\n",
       "1     1000      6  23233.77\n",
       "2     1000      7  14003.64\n",
       "3     1000      8  14055.93\n",
       "4     1000      9  14568.91"
      ]
     },
     "execution_count": 13,
     "metadata": {},
     "output_type": "execute_result"
    }
   ],
   "source": [
    "traffic = pd.pivot_table(internet, values=['mb_used'], index=['user_id', 'month'],\n",
    "                       aggfunc={'mb_used': 'sum'}).reset_index()\n",
    "traffic.head()"
   ]
  },
  {
   "cell_type": "markdown",
   "metadata": {},
   "source": [
    "Объединим все необходимые данные в сводную таблицу."
   ]
  },
  {
   "cell_type": "code",
   "execution_count": 14,
   "metadata": {},
   "outputs": [],
   "source": [
    "dfs = [calls_and_minutes, messages_cnt, traffic]\n",
    "monthly_data = ft.reduce(lambda left, right: pd.merge(left, right, on=['user_id', 'month'], how='outer'), dfs)\n",
    "monthly_data = monthly_data.merge(users, on=['user_id'], how='left').merge(tariffs, on=['tariff'], how='left')"
   ]
  },
  {
   "cell_type": "code",
   "execution_count": 15,
   "metadata": {},
   "outputs": [
    {
     "name": "stdout",
     "output_type": "stream",
     "text": [
      "<class 'pandas.core.frame.DataFrame'>\n",
      "Int64Index: 3214 entries, 0 to 3213\n",
      "Data columns (total 20 columns):\n",
      " #   Column                 Non-Null Count  Dtype  \n",
      "---  ------                 --------------  -----  \n",
      " 0   user_id                3214 non-null   int64  \n",
      " 1   month                  3214 non-null   int64  \n",
      " 2   calls_dur              3174 non-null   float64\n",
      " 3   calls_cnt              3174 non-null   float64\n",
      " 4   msg_cnt                2717 non-null   float64\n",
      " 5   mb_used                3203 non-null   float64\n",
      " 6   age                    3214 non-null   int64  \n",
      " 7   churn_date             187 non-null    object \n",
      " 8   city                   3214 non-null   object \n",
      " 9   first_name             3214 non-null   object \n",
      " 10  last_name              3214 non-null   object \n",
      " 11  reg_date               3214 non-null   object \n",
      " 12  tariff                 3214 non-null   object \n",
      " 13  messages_included      3214 non-null   int64  \n",
      " 14  mb_per_month_included  3214 non-null   int64  \n",
      " 15  minutes_included       3214 non-null   int64  \n",
      " 16  rub_monthly_fee        3214 non-null   int64  \n",
      " 17  rub_per_gb             3214 non-null   int64  \n",
      " 18  rub_per_message        3214 non-null   int64  \n",
      " 19  rub_per_minute         3214 non-null   int64  \n",
      "dtypes: float64(4), int64(10), object(6)\n",
      "memory usage: 527.3+ KB\n"
     ]
    },
    {
     "data": {
      "text/plain": [
       "None"
      ]
     },
     "metadata": {},
     "output_type": "display_data"
    },
    {
     "data": {
      "text/html": [
       "<div>\n",
       "<style scoped>\n",
       "    .dataframe tbody tr th:only-of-type {\n",
       "        vertical-align: middle;\n",
       "    }\n",
       "\n",
       "    .dataframe tbody tr th {\n",
       "        vertical-align: top;\n",
       "    }\n",
       "\n",
       "    .dataframe thead th {\n",
       "        text-align: right;\n",
       "    }\n",
       "</style>\n",
       "<table border=\"1\" class=\"dataframe\">\n",
       "  <thead>\n",
       "    <tr style=\"text-align: right;\">\n",
       "      <th></th>\n",
       "      <th>user_id</th>\n",
       "      <th>month</th>\n",
       "      <th>calls_dur</th>\n",
       "      <th>calls_cnt</th>\n",
       "      <th>msg_cnt</th>\n",
       "      <th>mb_used</th>\n",
       "      <th>age</th>\n",
       "      <th>churn_date</th>\n",
       "      <th>city</th>\n",
       "      <th>first_name</th>\n",
       "      <th>last_name</th>\n",
       "      <th>reg_date</th>\n",
       "      <th>tariff</th>\n",
       "      <th>messages_included</th>\n",
       "      <th>mb_per_month_included</th>\n",
       "      <th>minutes_included</th>\n",
       "      <th>rub_monthly_fee</th>\n",
       "      <th>rub_per_gb</th>\n",
       "      <th>rub_per_message</th>\n",
       "      <th>rub_per_minute</th>\n",
       "    </tr>\n",
       "  </thead>\n",
       "  <tbody>\n",
       "    <tr>\n",
       "      <th>0</th>\n",
       "      <td>1000</td>\n",
       "      <td>5</td>\n",
       "      <td>159.0</td>\n",
       "      <td>22.0</td>\n",
       "      <td>22.0</td>\n",
       "      <td>2253.49</td>\n",
       "      <td>52</td>\n",
       "      <td>NaN</td>\n",
       "      <td>Краснодар</td>\n",
       "      <td>Рафаил</td>\n",
       "      <td>Верещагин</td>\n",
       "      <td>2018-05-25</td>\n",
       "      <td>ultra</td>\n",
       "      <td>1000</td>\n",
       "      <td>30720</td>\n",
       "      <td>3000</td>\n",
       "      <td>1950</td>\n",
       "      <td>150</td>\n",
       "      <td>1</td>\n",
       "      <td>1</td>\n",
       "    </tr>\n",
       "    <tr>\n",
       "      <th>1</th>\n",
       "      <td>1000</td>\n",
       "      <td>6</td>\n",
       "      <td>172.0</td>\n",
       "      <td>43.0</td>\n",
       "      <td>60.0</td>\n",
       "      <td>23233.77</td>\n",
       "      <td>52</td>\n",
       "      <td>NaN</td>\n",
       "      <td>Краснодар</td>\n",
       "      <td>Рафаил</td>\n",
       "      <td>Верещагин</td>\n",
       "      <td>2018-05-25</td>\n",
       "      <td>ultra</td>\n",
       "      <td>1000</td>\n",
       "      <td>30720</td>\n",
       "      <td>3000</td>\n",
       "      <td>1950</td>\n",
       "      <td>150</td>\n",
       "      <td>1</td>\n",
       "      <td>1</td>\n",
       "    </tr>\n",
       "    <tr>\n",
       "      <th>2</th>\n",
       "      <td>1000</td>\n",
       "      <td>7</td>\n",
       "      <td>340.0</td>\n",
       "      <td>47.0</td>\n",
       "      <td>75.0</td>\n",
       "      <td>14003.64</td>\n",
       "      <td>52</td>\n",
       "      <td>NaN</td>\n",
       "      <td>Краснодар</td>\n",
       "      <td>Рафаил</td>\n",
       "      <td>Верещагин</td>\n",
       "      <td>2018-05-25</td>\n",
       "      <td>ultra</td>\n",
       "      <td>1000</td>\n",
       "      <td>30720</td>\n",
       "      <td>3000</td>\n",
       "      <td>1950</td>\n",
       "      <td>150</td>\n",
       "      <td>1</td>\n",
       "      <td>1</td>\n",
       "    </tr>\n",
       "    <tr>\n",
       "      <th>3</th>\n",
       "      <td>1000</td>\n",
       "      <td>8</td>\n",
       "      <td>408.0</td>\n",
       "      <td>52.0</td>\n",
       "      <td>81.0</td>\n",
       "      <td>14055.93</td>\n",
       "      <td>52</td>\n",
       "      <td>NaN</td>\n",
       "      <td>Краснодар</td>\n",
       "      <td>Рафаил</td>\n",
       "      <td>Верещагин</td>\n",
       "      <td>2018-05-25</td>\n",
       "      <td>ultra</td>\n",
       "      <td>1000</td>\n",
       "      <td>30720</td>\n",
       "      <td>3000</td>\n",
       "      <td>1950</td>\n",
       "      <td>150</td>\n",
       "      <td>1</td>\n",
       "      <td>1</td>\n",
       "    </tr>\n",
       "    <tr>\n",
       "      <th>4</th>\n",
       "      <td>1000</td>\n",
       "      <td>9</td>\n",
       "      <td>466.0</td>\n",
       "      <td>58.0</td>\n",
       "      <td>57.0</td>\n",
       "      <td>14568.91</td>\n",
       "      <td>52</td>\n",
       "      <td>NaN</td>\n",
       "      <td>Краснодар</td>\n",
       "      <td>Рафаил</td>\n",
       "      <td>Верещагин</td>\n",
       "      <td>2018-05-25</td>\n",
       "      <td>ultra</td>\n",
       "      <td>1000</td>\n",
       "      <td>30720</td>\n",
       "      <td>3000</td>\n",
       "      <td>1950</td>\n",
       "      <td>150</td>\n",
       "      <td>1</td>\n",
       "      <td>1</td>\n",
       "    </tr>\n",
       "  </tbody>\n",
       "</table>\n",
       "</div>"
      ],
      "text/plain": [
       "   user_id  month  calls_dur  calls_cnt  msg_cnt   mb_used  age churn_date  \\\n",
       "0     1000      5      159.0       22.0     22.0   2253.49   52        NaN   \n",
       "1     1000      6      172.0       43.0     60.0  23233.77   52        NaN   \n",
       "2     1000      7      340.0       47.0     75.0  14003.64   52        NaN   \n",
       "3     1000      8      408.0       52.0     81.0  14055.93   52        NaN   \n",
       "4     1000      9      466.0       58.0     57.0  14568.91   52        NaN   \n",
       "\n",
       "        city first_name  last_name    reg_date tariff  messages_included  \\\n",
       "0  Краснодар     Рафаил  Верещагин  2018-05-25  ultra               1000   \n",
       "1  Краснодар     Рафаил  Верещагин  2018-05-25  ultra               1000   \n",
       "2  Краснодар     Рафаил  Верещагин  2018-05-25  ultra               1000   \n",
       "3  Краснодар     Рафаил  Верещагин  2018-05-25  ultra               1000   \n",
       "4  Краснодар     Рафаил  Верещагин  2018-05-25  ultra               1000   \n",
       "\n",
       "   mb_per_month_included  minutes_included  rub_monthly_fee  rub_per_gb  \\\n",
       "0                  30720              3000             1950         150   \n",
       "1                  30720              3000             1950         150   \n",
       "2                  30720              3000             1950         150   \n",
       "3                  30720              3000             1950         150   \n",
       "4                  30720              3000             1950         150   \n",
       "\n",
       "   rub_per_message  rub_per_minute  \n",
       "0                1               1  \n",
       "1                1               1  \n",
       "2                1               1  \n",
       "3                1               1  \n",
       "4                1               1  "
      ]
     },
     "metadata": {},
     "output_type": "display_data"
    },
    {
     "data": {
      "text/html": [
       "<div>\n",
       "<style scoped>\n",
       "    .dataframe tbody tr th:only-of-type {\n",
       "        vertical-align: middle;\n",
       "    }\n",
       "\n",
       "    .dataframe tbody tr th {\n",
       "        vertical-align: top;\n",
       "    }\n",
       "\n",
       "    .dataframe thead th {\n",
       "        text-align: right;\n",
       "    }\n",
       "</style>\n",
       "<table border=\"1\" class=\"dataframe\">\n",
       "  <thead>\n",
       "    <tr style=\"text-align: right;\">\n",
       "      <th></th>\n",
       "      <th>user_id</th>\n",
       "      <th>month</th>\n",
       "      <th>calls_dur</th>\n",
       "      <th>calls_cnt</th>\n",
       "      <th>msg_cnt</th>\n",
       "      <th>mb_used</th>\n",
       "      <th>age</th>\n",
       "      <th>messages_included</th>\n",
       "      <th>mb_per_month_included</th>\n",
       "      <th>minutes_included</th>\n",
       "      <th>rub_monthly_fee</th>\n",
       "      <th>rub_per_gb</th>\n",
       "      <th>rub_per_message</th>\n",
       "      <th>rub_per_minute</th>\n",
       "    </tr>\n",
       "  </thead>\n",
       "  <tbody>\n",
       "    <tr>\n",
       "      <th>count</th>\n",
       "      <td>3214.000000</td>\n",
       "      <td>3214.000000</td>\n",
       "      <td>3174.000000</td>\n",
       "      <td>3174.000000</td>\n",
       "      <td>2717.000000</td>\n",
       "      <td>3203.000000</td>\n",
       "      <td>3214.000000</td>\n",
       "      <td>3214.000000</td>\n",
       "      <td>3214.000000</td>\n",
       "      <td>3214.000000</td>\n",
       "      <td>3214.000000</td>\n",
       "      <td>3214.000000</td>\n",
       "      <td>3214.000000</td>\n",
       "      <td>3214.000000</td>\n",
       "    </tr>\n",
       "    <tr>\n",
       "      <th>mean</th>\n",
       "      <td>1251.590230</td>\n",
       "      <td>8.317362</td>\n",
       "      <td>456.931632</td>\n",
       "      <td>63.833333</td>\n",
       "      <td>45.283769</td>\n",
       "      <td>17266.708626</td>\n",
       "      <td>46.641568</td>\n",
       "      <td>341.148102</td>\n",
       "      <td>20067.405103</td>\n",
       "      <td>1266.179216</td>\n",
       "      <td>979.060361</td>\n",
       "      <td>184.676416</td>\n",
       "      <td>2.387057</td>\n",
       "      <td>2.387057</td>\n",
       "    </tr>\n",
       "    <tr>\n",
       "      <th>std</th>\n",
       "      <td>144.659172</td>\n",
       "      <td>2.905413</td>\n",
       "      <td>238.031270</td>\n",
       "      <td>32.678036</td>\n",
       "      <td>35.051363</td>\n",
       "      <td>7516.356902</td>\n",
       "      <td>16.586109</td>\n",
       "      <td>438.044726</td>\n",
       "      <td>7082.491569</td>\n",
       "      <td>1152.749279</td>\n",
       "      <td>645.539596</td>\n",
       "      <td>23.054986</td>\n",
       "      <td>0.922199</td>\n",
       "      <td>0.922199</td>\n",
       "    </tr>\n",
       "    <tr>\n",
       "      <th>min</th>\n",
       "      <td>1000.000000</td>\n",
       "      <td>1.000000</td>\n",
       "      <td>0.000000</td>\n",
       "      <td>1.000000</td>\n",
       "      <td>1.000000</td>\n",
       "      <td>0.000000</td>\n",
       "      <td>18.000000</td>\n",
       "      <td>50.000000</td>\n",
       "      <td>15360.000000</td>\n",
       "      <td>500.000000</td>\n",
       "      <td>550.000000</td>\n",
       "      <td>150.000000</td>\n",
       "      <td>1.000000</td>\n",
       "      <td>1.000000</td>\n",
       "    </tr>\n",
       "    <tr>\n",
       "      <th>25%</th>\n",
       "      <td>1125.000000</td>\n",
       "      <td>6.000000</td>\n",
       "      <td>290.000000</td>\n",
       "      <td>41.000000</td>\n",
       "      <td>19.000000</td>\n",
       "      <td>12526.905000</td>\n",
       "      <td>32.000000</td>\n",
       "      <td>50.000000</td>\n",
       "      <td>15360.000000</td>\n",
       "      <td>500.000000</td>\n",
       "      <td>550.000000</td>\n",
       "      <td>150.000000</td>\n",
       "      <td>1.000000</td>\n",
       "      <td>1.000000</td>\n",
       "    </tr>\n",
       "    <tr>\n",
       "      <th>50%</th>\n",
       "      <td>1253.000000</td>\n",
       "      <td>9.000000</td>\n",
       "      <td>447.000000</td>\n",
       "      <td>63.000000</td>\n",
       "      <td>38.000000</td>\n",
       "      <td>16963.110000</td>\n",
       "      <td>46.000000</td>\n",
       "      <td>50.000000</td>\n",
       "      <td>15360.000000</td>\n",
       "      <td>500.000000</td>\n",
       "      <td>550.000000</td>\n",
       "      <td>200.000000</td>\n",
       "      <td>3.000000</td>\n",
       "      <td>3.000000</td>\n",
       "    </tr>\n",
       "    <tr>\n",
       "      <th>75%</th>\n",
       "      <td>1378.750000</td>\n",
       "      <td>11.000000</td>\n",
       "      <td>592.000000</td>\n",
       "      <td>83.000000</td>\n",
       "      <td>63.000000</td>\n",
       "      <td>21432.175000</td>\n",
       "      <td>62.000000</td>\n",
       "      <td>1000.000000</td>\n",
       "      <td>30720.000000</td>\n",
       "      <td>3000.000000</td>\n",
       "      <td>1950.000000</td>\n",
       "      <td>200.000000</td>\n",
       "      <td>3.000000</td>\n",
       "      <td>3.000000</td>\n",
       "    </tr>\n",
       "    <tr>\n",
       "      <th>max</th>\n",
       "      <td>1499.000000</td>\n",
       "      <td>12.000000</td>\n",
       "      <td>1673.000000</td>\n",
       "      <td>244.000000</td>\n",
       "      <td>224.000000</td>\n",
       "      <td>49745.690000</td>\n",
       "      <td>75.000000</td>\n",
       "      <td>1000.000000</td>\n",
       "      <td>30720.000000</td>\n",
       "      <td>3000.000000</td>\n",
       "      <td>1950.000000</td>\n",
       "      <td>200.000000</td>\n",
       "      <td>3.000000</td>\n",
       "      <td>3.000000</td>\n",
       "    </tr>\n",
       "  </tbody>\n",
       "</table>\n",
       "</div>"
      ],
      "text/plain": [
       "           user_id        month    calls_dur    calls_cnt      msg_cnt  \\\n",
       "count  3214.000000  3214.000000  3174.000000  3174.000000  2717.000000   \n",
       "mean   1251.590230     8.317362   456.931632    63.833333    45.283769   \n",
       "std     144.659172     2.905413   238.031270    32.678036    35.051363   \n",
       "min    1000.000000     1.000000     0.000000     1.000000     1.000000   \n",
       "25%    1125.000000     6.000000   290.000000    41.000000    19.000000   \n",
       "50%    1253.000000     9.000000   447.000000    63.000000    38.000000   \n",
       "75%    1378.750000    11.000000   592.000000    83.000000    63.000000   \n",
       "max    1499.000000    12.000000  1673.000000   244.000000   224.000000   \n",
       "\n",
       "            mb_used          age  messages_included  mb_per_month_included  \\\n",
       "count   3203.000000  3214.000000        3214.000000            3214.000000   \n",
       "mean   17266.708626    46.641568         341.148102           20067.405103   \n",
       "std     7516.356902    16.586109         438.044726            7082.491569   \n",
       "min        0.000000    18.000000          50.000000           15360.000000   \n",
       "25%    12526.905000    32.000000          50.000000           15360.000000   \n",
       "50%    16963.110000    46.000000          50.000000           15360.000000   \n",
       "75%    21432.175000    62.000000        1000.000000           30720.000000   \n",
       "max    49745.690000    75.000000        1000.000000           30720.000000   \n",
       "\n",
       "       minutes_included  rub_monthly_fee   rub_per_gb  rub_per_message  \\\n",
       "count       3214.000000      3214.000000  3214.000000      3214.000000   \n",
       "mean        1266.179216       979.060361   184.676416         2.387057   \n",
       "std         1152.749279       645.539596    23.054986         0.922199   \n",
       "min          500.000000       550.000000   150.000000         1.000000   \n",
       "25%          500.000000       550.000000   150.000000         1.000000   \n",
       "50%          500.000000       550.000000   200.000000         3.000000   \n",
       "75%         3000.000000      1950.000000   200.000000         3.000000   \n",
       "max         3000.000000      1950.000000   200.000000         3.000000   \n",
       "\n",
       "       rub_per_minute  \n",
       "count     3214.000000  \n",
       "mean         2.387057  \n",
       "std          0.922199  \n",
       "min          1.000000  \n",
       "25%          1.000000  \n",
       "50%          3.000000  \n",
       "75%          3.000000  \n",
       "max          3.000000  "
      ]
     },
     "metadata": {},
     "output_type": "display_data"
    }
   ],
   "source": [
    "study(monthly_data)"
   ]
  },
  {
   "cell_type": "markdown",
   "metadata": {},
   "source": [
    "Для последующих расчетов заменим NaN."
   ]
  },
  {
   "cell_type": "code",
   "execution_count": 16,
   "metadata": {
    "scrolled": true
   },
   "outputs": [
    {
     "name": "stdout",
     "output_type": "stream",
     "text": [
      "<class 'pandas.core.frame.DataFrame'>\n",
      "Int64Index: 3214 entries, 0 to 3213\n",
      "Data columns (total 20 columns):\n",
      " #   Column                 Non-Null Count  Dtype  \n",
      "---  ------                 --------------  -----  \n",
      " 0   user_id                3214 non-null   int64  \n",
      " 1   month                  3214 non-null   int64  \n",
      " 2   calls_dur              3214 non-null   float64\n",
      " 3   calls_cnt              3214 non-null   float64\n",
      " 4   msg_cnt                3214 non-null   float64\n",
      " 5   mb_used                3214 non-null   float64\n",
      " 6   age                    3214 non-null   int64  \n",
      " 7   churn_date             187 non-null    object \n",
      " 8   city                   3214 non-null   object \n",
      " 9   first_name             3214 non-null   object \n",
      " 10  last_name              3214 non-null   object \n",
      " 11  reg_date               3214 non-null   object \n",
      " 12  tariff                 3214 non-null   object \n",
      " 13  messages_included      3214 non-null   int64  \n",
      " 14  mb_per_month_included  3214 non-null   int64  \n",
      " 15  minutes_included       3214 non-null   int64  \n",
      " 16  rub_monthly_fee        3214 non-null   int64  \n",
      " 17  rub_per_gb             3214 non-null   int64  \n",
      " 18  rub_per_message        3214 non-null   int64  \n",
      " 19  rub_per_minute         3214 non-null   int64  \n",
      "dtypes: float64(4), int64(10), object(6)\n",
      "memory usage: 527.3+ KB\n"
     ]
    }
   ],
   "source": [
    "monthly_data[['calls_dur', 'calls_cnt', 'msg_cnt', 'mb_used']] = monthly_data[['calls_dur', 'calls_cnt', 'msg_cnt', 'mb_used']].fillna(value=0)\n",
    "monthly_data.info()"
   ]
  },
  {
   "cell_type": "markdown",
   "metadata": {},
   "source": [
    "Теперь можно посчитать выручку."
   ]
  },
  {
   "cell_type": "code",
   "execution_count": 17,
   "metadata": {},
   "outputs": [],
   "source": [
    "def revenue(row):\n",
    "    calls = (row['calls_dur'] - row['minutes_included']) * row['rub_per_minute']\n",
    "    messages = (row['msg_cnt'] - row['messages_included']) * row['rub_per_message']\n",
    "    internet = np.ceil((row['mb_used'] - row['mb_per_month_included']) * row['rub_per_gb'] / 1024)\n",
    "    revenue = row['rub_monthly_fee']\n",
    "    for payment in [calls, messages, internet]:\n",
    "        if payment > 0:\n",
    "            revenue += payment\n",
    "    return revenue"
   ]
  },
  {
   "cell_type": "code",
   "execution_count": 18,
   "metadata": {},
   "outputs": [],
   "source": [
    "monthly_data['revenue'] = monthly_data.apply(lambda row: revenue(row), axis = 1)"
   ]
  },
  {
   "cell_type": "code",
   "execution_count": 19,
   "metadata": {
    "scrolled": true
   },
   "outputs": [
    {
     "data": {
      "text/html": [
       "<div>\n",
       "<style scoped>\n",
       "    .dataframe tbody tr th:only-of-type {\n",
       "        vertical-align: middle;\n",
       "    }\n",
       "\n",
       "    .dataframe tbody tr th {\n",
       "        vertical-align: top;\n",
       "    }\n",
       "\n",
       "    .dataframe thead th {\n",
       "        text-align: right;\n",
       "    }\n",
       "</style>\n",
       "<table border=\"1\" class=\"dataframe\">\n",
       "  <thead>\n",
       "    <tr style=\"text-align: right;\">\n",
       "      <th></th>\n",
       "      <th>user_id</th>\n",
       "      <th>month</th>\n",
       "      <th>calls_dur</th>\n",
       "      <th>calls_cnt</th>\n",
       "      <th>msg_cnt</th>\n",
       "      <th>mb_used</th>\n",
       "      <th>age</th>\n",
       "      <th>churn_date</th>\n",
       "      <th>city</th>\n",
       "      <th>first_name</th>\n",
       "      <th>...</th>\n",
       "      <th>reg_date</th>\n",
       "      <th>tariff</th>\n",
       "      <th>messages_included</th>\n",
       "      <th>mb_per_month_included</th>\n",
       "      <th>minutes_included</th>\n",
       "      <th>rub_monthly_fee</th>\n",
       "      <th>rub_per_gb</th>\n",
       "      <th>rub_per_message</th>\n",
       "      <th>rub_per_minute</th>\n",
       "      <th>revenue</th>\n",
       "    </tr>\n",
       "  </thead>\n",
       "  <tbody>\n",
       "    <tr>\n",
       "      <th>0</th>\n",
       "      <td>1000</td>\n",
       "      <td>5</td>\n",
       "      <td>159.0</td>\n",
       "      <td>22.0</td>\n",
       "      <td>22.0</td>\n",
       "      <td>2253.49</td>\n",
       "      <td>52</td>\n",
       "      <td>NaN</td>\n",
       "      <td>Краснодар</td>\n",
       "      <td>Рафаил</td>\n",
       "      <td>...</td>\n",
       "      <td>2018-05-25</td>\n",
       "      <td>ultra</td>\n",
       "      <td>1000</td>\n",
       "      <td>30720</td>\n",
       "      <td>3000</td>\n",
       "      <td>1950</td>\n",
       "      <td>150</td>\n",
       "      <td>1</td>\n",
       "      <td>1</td>\n",
       "      <td>1950.0</td>\n",
       "    </tr>\n",
       "    <tr>\n",
       "      <th>1</th>\n",
       "      <td>1000</td>\n",
       "      <td>6</td>\n",
       "      <td>172.0</td>\n",
       "      <td>43.0</td>\n",
       "      <td>60.0</td>\n",
       "      <td>23233.77</td>\n",
       "      <td>52</td>\n",
       "      <td>NaN</td>\n",
       "      <td>Краснодар</td>\n",
       "      <td>Рафаил</td>\n",
       "      <td>...</td>\n",
       "      <td>2018-05-25</td>\n",
       "      <td>ultra</td>\n",
       "      <td>1000</td>\n",
       "      <td>30720</td>\n",
       "      <td>3000</td>\n",
       "      <td>1950</td>\n",
       "      <td>150</td>\n",
       "      <td>1</td>\n",
       "      <td>1</td>\n",
       "      <td>1950.0</td>\n",
       "    </tr>\n",
       "    <tr>\n",
       "      <th>2</th>\n",
       "      <td>1000</td>\n",
       "      <td>7</td>\n",
       "      <td>340.0</td>\n",
       "      <td>47.0</td>\n",
       "      <td>75.0</td>\n",
       "      <td>14003.64</td>\n",
       "      <td>52</td>\n",
       "      <td>NaN</td>\n",
       "      <td>Краснодар</td>\n",
       "      <td>Рафаил</td>\n",
       "      <td>...</td>\n",
       "      <td>2018-05-25</td>\n",
       "      <td>ultra</td>\n",
       "      <td>1000</td>\n",
       "      <td>30720</td>\n",
       "      <td>3000</td>\n",
       "      <td>1950</td>\n",
       "      <td>150</td>\n",
       "      <td>1</td>\n",
       "      <td>1</td>\n",
       "      <td>1950.0</td>\n",
       "    </tr>\n",
       "    <tr>\n",
       "      <th>3</th>\n",
       "      <td>1000</td>\n",
       "      <td>8</td>\n",
       "      <td>408.0</td>\n",
       "      <td>52.0</td>\n",
       "      <td>81.0</td>\n",
       "      <td>14055.93</td>\n",
       "      <td>52</td>\n",
       "      <td>NaN</td>\n",
       "      <td>Краснодар</td>\n",
       "      <td>Рафаил</td>\n",
       "      <td>...</td>\n",
       "      <td>2018-05-25</td>\n",
       "      <td>ultra</td>\n",
       "      <td>1000</td>\n",
       "      <td>30720</td>\n",
       "      <td>3000</td>\n",
       "      <td>1950</td>\n",
       "      <td>150</td>\n",
       "      <td>1</td>\n",
       "      <td>1</td>\n",
       "      <td>1950.0</td>\n",
       "    </tr>\n",
       "    <tr>\n",
       "      <th>4</th>\n",
       "      <td>1000</td>\n",
       "      <td>9</td>\n",
       "      <td>466.0</td>\n",
       "      <td>58.0</td>\n",
       "      <td>57.0</td>\n",
       "      <td>14568.91</td>\n",
       "      <td>52</td>\n",
       "      <td>NaN</td>\n",
       "      <td>Краснодар</td>\n",
       "      <td>Рафаил</td>\n",
       "      <td>...</td>\n",
       "      <td>2018-05-25</td>\n",
       "      <td>ultra</td>\n",
       "      <td>1000</td>\n",
       "      <td>30720</td>\n",
       "      <td>3000</td>\n",
       "      <td>1950</td>\n",
       "      <td>150</td>\n",
       "      <td>1</td>\n",
       "      <td>1</td>\n",
       "      <td>1950.0</td>\n",
       "    </tr>\n",
       "  </tbody>\n",
       "</table>\n",
       "<p>5 rows × 21 columns</p>\n",
       "</div>"
      ],
      "text/plain": [
       "   user_id  month  calls_dur  calls_cnt  msg_cnt   mb_used  age churn_date  \\\n",
       "0     1000      5      159.0       22.0     22.0   2253.49   52        NaN   \n",
       "1     1000      6      172.0       43.0     60.0  23233.77   52        NaN   \n",
       "2     1000      7      340.0       47.0     75.0  14003.64   52        NaN   \n",
       "3     1000      8      408.0       52.0     81.0  14055.93   52        NaN   \n",
       "4     1000      9      466.0       58.0     57.0  14568.91   52        NaN   \n",
       "\n",
       "        city first_name  ...    reg_date tariff messages_included  \\\n",
       "0  Краснодар     Рафаил  ...  2018-05-25  ultra              1000   \n",
       "1  Краснодар     Рафаил  ...  2018-05-25  ultra              1000   \n",
       "2  Краснодар     Рафаил  ...  2018-05-25  ultra              1000   \n",
       "3  Краснодар     Рафаил  ...  2018-05-25  ultra              1000   \n",
       "4  Краснодар     Рафаил  ...  2018-05-25  ultra              1000   \n",
       "\n",
       "   mb_per_month_included  minutes_included  rub_monthly_fee  rub_per_gb  \\\n",
       "0                  30720              3000             1950         150   \n",
       "1                  30720              3000             1950         150   \n",
       "2                  30720              3000             1950         150   \n",
       "3                  30720              3000             1950         150   \n",
       "4                  30720              3000             1950         150   \n",
       "\n",
       "   rub_per_message  rub_per_minute  revenue  \n",
       "0                1               1   1950.0  \n",
       "1                1               1   1950.0  \n",
       "2                1               1   1950.0  \n",
       "3                1               1   1950.0  \n",
       "4                1               1   1950.0  \n",
       "\n",
       "[5 rows x 21 columns]"
      ]
     },
     "execution_count": 19,
     "metadata": {},
     "output_type": "execute_result"
    }
   ],
   "source": [
    "monthly_data.head()"
   ]
  },
  {
   "cell_type": "markdown",
   "metadata": {},
   "source": [
    "## Изучение данных об объемах услуг, используемых абонентами тарифов"
   ]
  },
  {
   "cell_type": "markdown",
   "metadata": {},
   "source": [
    "### Минуты разговора"
   ]
  },
  {
   "cell_type": "markdown",
   "metadata": {},
   "source": [
    "Сравним гистограмму по 2 тарифам. Как было посчитано выше, медианное значение в целом по времени звонков для обоих тарифов составляет 420 минут, среднее - 431. Следует ожидать, что данные будут скошены вправо."
   ]
  },
  {
   "cell_type": "code",
   "execution_count": 20,
   "metadata": {
    "scrolled": false
   },
   "outputs": [
    {
     "data": {
      "text/plain": [
       "<AxesSubplot:xlabel='calls_dur', ylabel='Count'>"
      ]
     },
     "execution_count": 20,
     "metadata": {},
     "output_type": "execute_result"
    },
    {
     "data": {
      "image/png": "[encoded data removed]",
      "text/plain": [
       "<Figure size 1080x576 with 1 Axes>"
      ]
     },
     "metadata": {},
     "output_type": "display_data"
    }
   ],
   "source": [
    "sns.set(rc = {'figure.figsize':(15,8)})\n",
    "sns.histplot(data=monthly_data, x='calls_dur', hue='tariff')"
   ]
  },
  {
   "cell_type": "markdown",
   "metadata": {},
   "source": [
    "Пользователи тарифа \"смарт\" часто превышают лимит в 500 минут, а из пользователей тарифа \"ультра\" нет никого, кто использовал бы 3000 минут. Максимальное значение по всей таблице, как можно видеть выше - 1578 минут в месяц."
   ]
  },
  {
   "cell_type": "code",
   "execution_count": 21,
   "metadata": {
    "scrolled": false
   },
   "outputs": [
    {
     "data": {
      "image/png": "[encoded data removed]",
      "text/plain": [
       "<Figure size 1080x576 with 1 Axes>"
      ]
     },
     "metadata": {},
     "output_type": "display_data"
    }
   ],
   "source": [
    "monthly_calls = sns.barplot(x='month', y='calls_dur', hue='tariff', data=monthly_data, estimator=np.median)"
   ]
  },
  {
   "cell_type": "markdown",
   "metadata": {},
   "source": [
    "Медианное значение по обоим тарифам превышает 500 минут в редких случаях. Пользователи тарифа \"ультра\" тратят в среднем больше минут разговора.\n",
    "\n",
    "Рассчитаем дисперсию и стандартное отклонение. Также подсчитаем время в месяц, которого хватило бы большинству пользователей каждого из тарифов. Гистограммы скошены вправо в обоих случаях, однако хочется еще раз проверить, как расходуют время абоненты."
   ]
  },
  {
   "cell_type": "code",
   "execution_count": 22,
   "metadata": {},
   "outputs": [],
   "source": [
    "def stats(data, measure: str):\n",
    "    variance_estimate = round(np.var(data, ddof=1), 2)\n",
    "    standard_dev =  round(np.std(data, ddof=1), 2)\n",
    "    limit = round(data.mean() + 3 * standard_dev, 2)\n",
    "    print(f'Медиана: {round(data.median(), 2)} \\nСреднее: {round(data.mean(), 2)} \\nДисперсия: {variance_estimate} \\nСтандартное отклонение: {standard_dev} \\n{measure} в месяц: {limit}')"
   ]
  },
  {
   "cell_type": "code",
   "execution_count": 23,
   "metadata": {},
   "outputs": [
    {
     "name": "stdout",
     "output_type": "stream",
     "text": [
      "Медиана: 422.0 \n",
      "Среднее: 417.93 \n",
      "Дисперсия: 36219.32 \n",
      "Стандартное отклонение: 190.31 \n",
      "Минуты в месяц: 988.86\n"
     ]
    }
   ],
   "source": [
    "stats(monthly_data.loc[monthly_data['tariff']=='smart']['calls_dur'], 'Минуты')"
   ]
  },
  {
   "cell_type": "code",
   "execution_count": 24,
   "metadata": {},
   "outputs": [
    {
     "name": "stdout",
     "output_type": "stream",
     "text": [
      "Медиана: 518.0 \n",
      "Среднее: 526.62 \n",
      "Дисперсия: 100873.63 \n",
      "Стандартное отклонение: 317.61 \n",
      "Минуты в месяц: 1479.45\n"
     ]
    }
   ],
   "source": [
    "stats(monthly_data.loc[monthly_data['tariff']=='ultra']['calls_dur'], 'Минуты')"
   ]
  },
  {
   "cell_type": "markdown",
   "metadata": {},
   "source": [
    "Как и было видно ранее, не всем абонентам \"смарт\" хватает бесплатных минут, а 3000 минут для абонентов \"ультра\" значительно превышают их потребности. Среднее значение времени разговора всех клиентов становится больше по отношению к медиане из-за клиентов тарифа \"ультра\" - тех, кто использует за месяц много минут разговора. Для клиентов \"смарт\" медианное значение наоборот на несколько минут больше."
   ]
  },
  {
   "cell_type": "markdown",
   "metadata": {},
   "source": [
    "### Количество сообщений"
   ]
  },
  {
   "cell_type": "markdown",
   "metadata": {},
   "source": [
    "Изучим количество сообщений. Здесь среднее значение для всех абонентов в совокупности - 45 в месяц, медианное - 38. Вероятно внось есть клиенты, которые используют много сообщений."
   ]
  },
  {
   "cell_type": "code",
   "execution_count": 25,
   "metadata": {},
   "outputs": [
    {
     "data": {
      "text/plain": [
       "<AxesSubplot:xlabel='msg_cnt', ylabel='Count'>"
      ]
     },
     "execution_count": 25,
     "metadata": {},
     "output_type": "execute_result"
    },
    {
     "data": {
      "image/png": "[encoded data removed]",
      "text/plain": [
       "<Figure size 1080x576 with 1 Axes>"
      ]
     },
     "metadata": {},
     "output_type": "display_data"
    }
   ],
   "source": [
    "sns.histplot(data=monthly_data, x='msg_cnt', hue='tariff')"
   ]
  },
  {
   "cell_type": "markdown",
   "metadata": {},
   "source": [
    "Как можно видеть абоненты, особенно на тарифе \"Смарт\" часто вообще не используют сообщения или используют небольшое количество. Абоненты тарифа \"Ультра\" опять не используют полагающийся им лимит, среди абонентов \"Смарт\" есть те, кто использует сообщения сверх бесплатного объема."
   ]
  },
  {
   "cell_type": "code",
   "execution_count": 26,
   "metadata": {},
   "outputs": [
    {
     "data": {
      "text/plain": [
       "<AxesSubplot:xlabel='month', ylabel='msg_cnt'>"
      ]
     },
     "execution_count": 26,
     "metadata": {},
     "output_type": "execute_result"
    },
    {
     "data": {
      "image/png": "[encoded data removed]",
      "text/plain": [
       "<Figure size 1080x576 with 1 Axes>"
      ]
     },
     "metadata": {},
     "output_type": "display_data"
    }
   ],
   "source": [
    "sns.barplot(x='month', y='msg_cnt', hue='tariff', data=monthly_data, estimator=np.median)"
   ]
  },
  {
   "cell_type": "markdown",
   "metadata": {},
   "source": [
    "По среднему количеству сообщений в большинстве месяцев снова лидируют абоненты \"ультра\". Абоненты \"смарт\" набирают больше сообщений только за 4 месяца в 1 половине года."
   ]
  },
  {
   "cell_type": "code",
   "execution_count": 27,
   "metadata": {},
   "outputs": [
    {
     "name": "stdout",
     "output_type": "stream",
     "text": [
      "Медиана: 28.0 \n",
      "Среднее: 33.38 \n",
      "Дисперсия: 796.81 \n",
      "Стандартное отклонение: 28.23 \n",
      "Сообщения в месяц: 118.07\n"
     ]
    }
   ],
   "source": [
    "stats(monthly_data.loc[monthly_data['tariff']=='smart']['msg_cnt'], 'Сообщения')"
   ]
  },
  {
   "cell_type": "code",
   "execution_count": 28,
   "metadata": {},
   "outputs": [
    {
     "name": "stdout",
     "output_type": "stream",
     "text": [
      "Медиана: 38.0 \n",
      "Среднее: 49.36 \n",
      "Дисперсия: 2285.27 \n",
      "Стандартное отклонение: 47.8 \n",
      "Сообщения в месяц: 192.76\n"
     ]
    }
   ],
   "source": [
    "stats(monthly_data.loc[monthly_data['tariff']=='ultra']['msg_cnt'], 'Сообщения')"
   ]
  },
  {
   "cell_type": "markdown",
   "metadata": {},
   "source": [
    "В данном случае скошенность данных выражена более сильно, поэтому среднее больше медианы для обоих тарифов. Опять можно убедиться, что не всем абонентам \"смарт\" достаточно 50 сообщений в месяц. Абоненты \"ультра\" хотя и пользуются дешевыми сообщениями более активно - 1000 сообщений никто не использует."
   ]
  },
  {
   "cell_type": "markdown",
   "metadata": {},
   "source": [
    "### Объем трафика"
   ]
  },
  {
   "cell_type": "markdown",
   "metadata": {},
   "source": [
    "По данной услуге медианное значение в целом по таблице 16963 мб в месяц, среднее снова больше - 17266."
   ]
  },
  {
   "cell_type": "code",
   "execution_count": 29,
   "metadata": {},
   "outputs": [
    {
     "data": {
      "text/plain": [
       "<AxesSubplot:xlabel='mb_used', ylabel='Count'>"
      ]
     },
     "execution_count": 29,
     "metadata": {},
     "output_type": "execute_result"
    },
    {
     "data": {
      "image/png": "[encoded data removed]",
      "text/plain": [
       "<Figure size 1080x576 with 1 Axes>"
      ]
     },
     "metadata": {},
     "output_type": "display_data"
    }
   ],
   "source": [
    "sns.histplot(data=monthly_data, x='mb_used', hue='tariff')"
   ]
  },
  {
   "cell_type": "markdown",
   "metadata": {},
   "source": [
    "Распределение трафика ближе к нормальному: более симметрично, нет большого количество значений в районе нуля. Однако все еще присутствуют пользователи, расходующие интернет значительно больше других и сдвигающие среднее значение относительно медианы."
   ]
  },
  {
   "cell_type": "code",
   "execution_count": 30,
   "metadata": {},
   "outputs": [
    {
     "data": {
      "text/plain": [
       "<AxesSubplot:xlabel='month', ylabel='mb_used'>"
      ]
     },
     "execution_count": 30,
     "metadata": {},
     "output_type": "execute_result"
    },
    {
     "data": {
      "image/png": "[encoded data removed]",
      "text/plain": [
       "<Figure size 1080x576 with 1 Axes>"
      ]
     },
     "metadata": {},
     "output_type": "display_data"
    }
   ],
   "source": [
    "sns.barplot(x='month', y='mb_used', hue='tariff', data=monthly_data, estimator=np.median)"
   ]
  },
  {
   "cell_type": "markdown",
   "metadata": {},
   "source": [
    "В данном случае даже на тарифе \"ультра\" есть клиенты, которые превышают лимит трафика. В остальном они так же, как и в случае с предыдущими услугами, расходуют больше, чем абоненты тарифа \"смарт\"."
   ]
  },
  {
   "cell_type": "code",
   "execution_count": 31,
   "metadata": {},
   "outputs": [
    {
     "name": "stdout",
     "output_type": "stream",
     "text": [
      "Медиана: 16506.84 \n",
      "Среднее: 16208.39 \n",
      "Дисперсия: 34462496.46 \n",
      "Стандартное отклонение: 5870.48 \n",
      "МБ в месяц: 33819.83\n"
     ]
    }
   ],
   "source": [
    "stats(monthly_data.loc[monthly_data['tariff']=='smart']['mb_used'], 'МБ')"
   ]
  },
  {
   "cell_type": "code",
   "execution_count": 32,
   "metadata": {},
   "outputs": [
    {
     "name": "stdout",
     "output_type": "stream",
     "text": [
      "Медиана: 19308.01 \n",
      "Среднее: 19468.81 \n",
      "Дисперсия: 101751013.78 \n",
      "Стандартное отклонение: 10087.17 \n",
      "МБ в месяц: 49730.32\n"
     ]
    }
   ],
   "source": [
    "stats(monthly_data.loc[monthly_data['tariff']=='ultra']['mb_used'], 'МБ')"
   ]
  },
  {
   "cell_type": "markdown",
   "metadata": {},
   "source": [
    "Как уже было сказано, медиана незначительно смещена относительно среднего. Объема трафика в месяц не хватает пользователям обоих тарифов. В сравнении с предыдущими услугами можно предположить, что абоненты используют общение через мессенджеры более активно, чем звонки и смс, что влияет на потребление трафика."
   ]
  },
  {
   "cell_type": "markdown",
   "metadata": {},
   "source": [
    "## Проверка гипотез"
   ]
  },
  {
   "cell_type": "markdown",
   "metadata": {},
   "source": [
    "### Средняя выручка тарифов \"Ультра\" и \"Смарт\" различаются"
   ]
  },
  {
   "cell_type": "markdown",
   "metadata": {},
   "source": [
    "В данном случае сравниваются средние двух генеральных совокупностей: абоненты разных тарифов, поэтому применим Т-тест. Критический уровень статистической значимости примем равным 5%. \n",
    "\n",
    "Сформулируем гипотезы:\n",
    "- H0 - средняя выручка пользователей тарифов «Смарт» и «Ультра» не различается\n",
    "- H1 - средняя выручка пользователей тарифов «Смарт» и «Ультра» различается"
   ]
  },
  {
   "cell_type": "code",
   "execution_count": 33,
   "metadata": {},
   "outputs": [],
   "source": [
    "revenue_smart = monthly_data.loc[monthly_data['tariff']=='smart']['revenue']\n",
    "revenue_ultra = monthly_data.loc[monthly_data['tariff']=='ultra']['revenue']"
   ]
  },
  {
   "cell_type": "code",
   "execution_count": 34,
   "metadata": {},
   "outputs": [
    {
     "name": "stdout",
     "output_type": "stream",
     "text": [
      "p-значение: 2.8911576728314673e-192\n",
      "Отвергаем нулевую гипотезу\n"
     ]
    }
   ],
   "source": [
    "alpha = .05\n",
    "\n",
    "results = st.ttest_ind(\n",
    "    revenue_smart, \n",
    "    revenue_ultra\n",
    ")\n",
    "\n",
    "print('p-значение:', results.pvalue)\n",
    "\n",
    "if results.pvalue < alpha:\n",
    "    print(\"Отвергаем нулевую гипотезу\")\n",
    "else:\n",
    "    print(\"Не получилось отвергнуть нулевую гипотезу\") "
   ]
  },
  {
   "cell_type": "markdown",
   "metadata": {},
   "source": [
    "Нулевая гипотеза отвергается и в том случае, если считать дисперсию генеральных совокупностей отличающейся, и в том, если не принимать ее во внимание.\n",
    "\n",
    "Построим график средней выручки по месяцам, чтобы визуализировать ее для разных тарифов."
   ]
  },
  {
   "cell_type": "code",
   "execution_count": 35,
   "metadata": {},
   "outputs": [
    {
     "data": {
      "text/plain": [
       "<AxesSubplot:xlabel='month', ylabel='revenue'>"
      ]
     },
     "execution_count": 35,
     "metadata": {},
     "output_type": "execute_result"
    },
    {
     "data": {
      "image/png": "[encoded data removed]",
      "text/plain": [
       "<Figure size 1080x576 with 1 Axes>"
      ]
     },
     "metadata": {},
     "output_type": "display_data"
    }
   ],
   "source": [
    "sns.lineplot(data=monthly_data, x='month', y='revenue', hue='tariff', estimator='mean')"
   ]
  },
  {
   "cell_type": "markdown",
   "metadata": {},
   "source": [
    "Действительно: средняя выручка на тарифе \"ультра\" значительно выше, чем для тарифа \"смарт\"."
   ]
  },
  {
   "cell_type": "markdown",
   "metadata": {},
   "source": [
    "### Cредняя выручка пользователей из Москвы отличается от выручки пользователей из других регионов"
   ]
  },
  {
   "cell_type": "markdown",
   "metadata": {},
   "source": [
    "- H0 - средняя выручка пользователей из Москвы не отличается от выручки пользователей из других регионов\n",
    "- H1 - средняя выручка пользователей из Москвы отличается от выручки пользователей из других регионов"
   ]
  },
  {
   "cell_type": "markdown",
   "metadata": {},
   "source": [
    "Здесь также можно применить Т-тест, так как рассматриваются совокупность абонентов из Москвы и абоненты из других городов. \n",
    "Сначала рассмотрим данные в целом по таблице, а потом отдельно по каждому тарифу."
   ]
  },
  {
   "cell_type": "code",
   "execution_count": 36,
   "metadata": {},
   "outputs": [],
   "source": [
    "revenue_moscow = monthly_data.loc[monthly_data['city']=='Москва']['revenue']\n",
    "revenue_other = monthly_data.loc[monthly_data['city']!='Москва']['revenue']"
   ]
  },
  {
   "cell_type": "code",
   "execution_count": 37,
   "metadata": {},
   "outputs": [
    {
     "name": "stdout",
     "output_type": "stream",
     "text": [
      "p-значение: 0.4701816724073484\n",
      "Не получилось отвергнуть нулевую гипотезу\n"
     ]
    }
   ],
   "source": [
    "alpha = .05\n",
    "\n",
    "results = st.ttest_ind(\n",
    "    revenue_moscow, \n",
    "    revenue_other\n",
    ")\n",
    "\n",
    "print('p-значение:', results.pvalue)\n",
    "\n",
    "if results.pvalue < alpha:\n",
    "    print(\"Отвергаем нулевую гипотезу\")\n",
    "else:\n",
    "    print(\"Не получилось отвергнуть нулевую гипотезу\") "
   ]
  },
  {
   "cell_type": "code",
   "execution_count": 38,
   "metadata": {},
   "outputs": [],
   "source": [
    "monthly_data.loc[monthly_data['city']!='Москва', 'city'] = 'Другие'"
   ]
  },
  {
   "cell_type": "code",
   "execution_count": 39,
   "metadata": {},
   "outputs": [
    {
     "data": {
      "text/plain": [
       "<AxesSubplot:xlabel='month', ylabel='revenue'>"
      ]
     },
     "execution_count": 39,
     "metadata": {},
     "output_type": "execute_result"
    },
    {
     "data": {
      "image/png": "[encoded data removed]",
      "text/plain": [
       "<Figure size 1080x576 with 1 Axes>"
      ]
     },
     "metadata": {},
     "output_type": "display_data"
    }
   ],
   "source": [
    "sns.lineplot(data=monthly_data, x='month', y='revenue', hue='city', estimator='mean')"
   ]
  },
  {
   "cell_type": "markdown",
   "metadata": {},
   "source": [
    "Судя по расчетам, которые подтверждает график, средние значения по городам не отличаются. Теперь проверим, не влияет ли разница в данных по разным тарифам на результат. "
   ]
  },
  {
   "cell_type": "code",
   "execution_count": 40,
   "metadata": {},
   "outputs": [],
   "source": [
    "revenue_moscow_ultra = monthly_data.loc[(monthly_data['city']=='Москва')&(monthly_data['tariff']=='ultra')]['revenue']\n",
    "revenue_other_ultra = monthly_data.loc[(monthly_data['city']!='Москва')&(monthly_data['tariff']=='ultra')]['revenue']\n",
    "\n",
    "revenue_moscow_smart = monthly_data.loc[(monthly_data['city']=='Москва')&(monthly_data['tariff']=='smart')]['revenue']\n",
    "revenue_other_smart = monthly_data.loc[(monthly_data['city']!='Москва')&(monthly_data['tariff']=='smart')]['revenue']"
   ]
  },
  {
   "cell_type": "markdown",
   "metadata": {},
   "source": [
    "- Н0 - средняя выручка абонентов тарифа \"Ультра\" из Москвы не отличается от выручки абонентов данного тарифа из других регионов.\n",
    "- Н1 - средняя выручка абонентов тарифа \"Ультра\" из Москвы отличается от выручки абонентов данного тарифа из других регионов."
   ]
  },
  {
   "cell_type": "code",
   "execution_count": 41,
   "metadata": {},
   "outputs": [
    {
     "name": "stdout",
     "output_type": "stream",
     "text": [
      "p-значение для тарифа Ультра: 0.8852800002130672\n",
      "Не получилось отвергнуть нулевую гипотезу\n"
     ]
    }
   ],
   "source": [
    "alpha = .05\n",
    "\n",
    "results = st.ttest_ind(\n",
    "    revenue_moscow_ultra, \n",
    "    revenue_other_ultra\n",
    ")\n",
    "\n",
    "print('p-значение для тарифа Ультра:', results.pvalue)\n",
    "\n",
    "if results.pvalue < alpha:\n",
    "    print(\"Отвергаем нулевую гипотезу\")\n",
    "else:\n",
    "    print(\"Не получилось отвергнуть нулевую гипотезу\") "
   ]
  },
  {
   "cell_type": "markdown",
   "metadata": {},
   "source": [
    "- Н0 - средняя выручка абонентов тарифа \"Смарт\" из Москвы не отличается от выручки абонентов данного тарифа из других регионов.\n",
    "- Н1 - средняя выручка абонентов тарифа \"Смарт\" из Москвы отличается от выручки абонентов данного тарифа из других регионов."
   ]
  },
  {
   "cell_type": "code",
   "execution_count": 42,
   "metadata": {},
   "outputs": [
    {
     "name": "stdout",
     "output_type": "stream",
     "text": [
      "p-значение для тарифа Смарт: 0.16723466199479348\n",
      "Не получилось отвергнуть нулевую гипотезу\n"
     ]
    }
   ],
   "source": [
    "alpha = .05\n",
    "\n",
    "results = st.ttest_ind(\n",
    "    revenue_moscow_smart, \n",
    "    revenue_other_smart\n",
    ")\n",
    "\n",
    "print('p-значение для тарифа Смарт:', results.pvalue)\n",
    "\n",
    "if results.pvalue < alpha:\n",
    "    print(\"Отвергаем нулевую гипотезу\")\n",
    "else:\n",
    "    print(\"Не получилось отвергнуть нулевую гипотезу\") "
   ]
  },
  {
   "cell_type": "code",
   "execution_count": 43,
   "metadata": {},
   "outputs": [
    {
     "data": {
      "text/plain": [
       "<AxesSubplot:xlabel='month', ylabel='revenue'>"
      ]
     },
     "execution_count": 43,
     "metadata": {},
     "output_type": "execute_result"
    },
    {
     "data": {
      "image/png": "[encoded data removed]",
      "text/plain": [
       "<Figure size 1080x576 with 1 Axes>"
      ]
     },
     "metadata": {},
     "output_type": "display_data"
    }
   ],
   "source": [
    "sns.lineplot(data=monthly_data, x='month', y='revenue', hue='city', style='tariff', estimator='mean')"
   ]
  },
  {
   "cell_type": "markdown",
   "metadata": {},
   "source": [
    "Хотя выручка по тарифу Ультра выше, что мы уже было показано раньше, данные в зависимости от города различаются несильно. Можно предположить, что эта характеристика клиентов на выручку не влияет."
   ]
  },
  {
   "cell_type": "markdown",
   "metadata": {},
   "source": [
    "Если построить гистограмму выручки, то можно увидеть следующую картину."
   ]
  },
  {
   "cell_type": "code",
   "execution_count": 44,
   "metadata": {},
   "outputs": [
    {
     "data": {
      "text/plain": [
       "<AxesSubplot:xlabel='revenue', ylabel='Count'>"
      ]
     },
     "execution_count": 44,
     "metadata": {},
     "output_type": "execute_result"
    },
    {
     "data": {
      "image/png": "[encoded data removed]",
      "text/plain": [
       "<Figure size 1080x576 with 1 Axes>"
      ]
     },
     "metadata": {},
     "output_type": "display_data"
    }
   ],
   "source": [
    "sns.histplot(data=monthly_data, x='revenue')"
   ]
  },
  {
   "cell_type": "markdown",
   "metadata": {},
   "source": [
    "Два пика на графике - это те, кто не пользуется дополнительными услугами сверх входящих в тариф и оплачивает только абонентскую плату."
   ]
  },
  {
   "cell_type": "markdown",
   "metadata": {},
   "source": [
    "## Вывод"
   ]
  },
  {
   "cell_type": "markdown",
   "metadata": {},
   "source": [
    "В результате изучения данных можно сделать следующие выводы:\n",
    "* Больше всего абоненты используют услугу трафика: его может не хватать даже на тарифе с наибольшим объемом,\n",
    "* Многие абоненты вообще не используют СМС\n",
    "* Звонками пользуются более активно, но количество минут не соответствует потребностям большинства абонентов каждого из тарифов\n",
    "* Многие пользователи выбирают такой тариф, который позволяет им не переплачивать."
   ]
  },
  {
   "cell_type": "markdown",
   "metadata": {},
   "source": [
    "Оператору связи можно рекомендовать оптимизировать тарифы, т.к. лимит сообщений и звонков превышает потребности абонентов тарифа \"Ультра\" и не хватает абонентам на тарифе \"Смарт\"."
   ]
  }
 ],
 "metadata": {
  "ExecuteTimeLog": [
   {
    "duration": 377,
    "start_time": "2022-05-15T09:43:36.120Z"
   },
   {
    "duration": 377,
    "start_time": "2022-05-15T09:45:35.573Z"
   },
   {
    "duration": 14,
    "start_time": "2022-05-15T09:45:42.362Z"
   },
   {
    "duration": 9,
    "start_time": "2022-05-15T09:45:51.851Z"
   },
   {
    "duration": 8,
    "start_time": "2022-05-15T09:46:28.624Z"
   },
   {
    "duration": 8,
    "start_time": "2022-05-15T09:46:39.547Z"
   },
   {
    "duration": 10,
    "start_time": "2022-05-15T09:46:53.643Z"
   },
   {
    "duration": 3,
    "start_time": "2022-05-15T09:47:50.317Z"
   },
   {
    "duration": 3,
    "start_time": "2022-05-15T09:48:38.946Z"
   },
   {
    "duration": 60,
    "start_time": "2022-05-15T09:48:44.057Z"
   },
   {
    "duration": 52,
    "start_time": "2022-05-15T09:50:03.786Z"
   },
   {
    "duration": 60,
    "start_time": "2022-05-15T09:51:12.229Z"
   },
   {
    "duration": 24,
    "start_time": "2022-05-15T09:51:21.638Z"
   },
   {
    "duration": 418,
    "start_time": "2022-05-15T09:51:51.876Z"
   },
   {
    "duration": 380,
    "start_time": "2022-05-15T09:51:52.296Z"
   },
   {
    "duration": 3,
    "start_time": "2022-05-15T09:51:52.677Z"
   },
   {
    "duration": 72,
    "start_time": "2022-05-15T09:51:52.682Z"
   },
   {
    "duration": 76,
    "start_time": "2022-05-15T09:51:52.755Z"
   },
   {
    "duration": 24,
    "start_time": "2022-05-15T09:52:30.121Z"
   },
   {
    "duration": 8,
    "start_time": "2022-05-15T09:52:34.375Z"
   },
   {
    "duration": 27,
    "start_time": "2022-05-15T09:52:40.103Z"
   },
   {
    "duration": 2,
    "start_time": "2022-05-15T09:52:57.465Z"
   },
   {
    "duration": 45,
    "start_time": "2022-05-15T09:53:01.096Z"
   },
   {
    "duration": 3,
    "start_time": "2022-05-15T09:53:35.020Z"
   },
   {
    "duration": 57,
    "start_time": "2022-05-15T09:53:37.111Z"
   },
   {
    "duration": 3,
    "start_time": "2022-05-15T09:54:15.003Z"
   },
   {
    "duration": 51,
    "start_time": "2022-05-15T09:54:15.654Z"
   },
   {
    "duration": 3,
    "start_time": "2022-05-15T09:54:23.146Z"
   },
   {
    "duration": 57,
    "start_time": "2022-05-15T09:54:24.041Z"
   },
   {
    "duration": 3,
    "start_time": "2022-05-15T09:54:33.229Z"
   },
   {
    "duration": 47,
    "start_time": "2022-05-15T09:54:34.256Z"
   },
   {
    "duration": 5,
    "start_time": "2022-05-15T09:54:48.931Z"
   },
   {
    "duration": 3,
    "start_time": "2022-05-15T09:54:54.864Z"
   },
   {
    "duration": 34,
    "start_time": "2022-05-15T09:54:55.462Z"
   },
   {
    "duration": 3,
    "start_time": "2022-05-15T09:55:06.300Z"
   },
   {
    "duration": 35,
    "start_time": "2022-05-15T09:55:07.220Z"
   },
   {
    "duration": 3,
    "start_time": "2022-05-15T09:55:26.157Z"
   },
   {
    "duration": 53,
    "start_time": "2022-05-15T09:55:26.787Z"
   },
   {
    "duration": 79,
    "start_time": "2022-05-15T09:56:17.391Z"
   },
   {
    "duration": 3,
    "start_time": "2022-05-15T09:56:20.888Z"
   },
   {
    "duration": 37,
    "start_time": "2022-05-15T09:56:21.533Z"
   },
   {
    "duration": 2,
    "start_time": "2022-05-15T09:56:30.435Z"
   },
   {
    "duration": 56,
    "start_time": "2022-05-15T09:56:31.295Z"
   },
   {
    "duration": 54,
    "start_time": "2022-05-15T09:56:57.183Z"
   },
   {
    "duration": 33,
    "start_time": "2022-05-15T09:57:18.739Z"
   },
   {
    "duration": 38,
    "start_time": "2022-05-15T09:57:32.238Z"
   },
   {
    "duration": 28,
    "start_time": "2022-05-15T09:57:59.050Z"
   },
   {
    "duration": 364,
    "start_time": "2022-05-15T09:58:09.925Z"
   },
   {
    "duration": 357,
    "start_time": "2022-05-15T09:58:10.291Z"
   },
   {
    "duration": 3,
    "start_time": "2022-05-15T09:58:10.649Z"
   },
   {
    "duration": 66,
    "start_time": "2022-05-15T09:58:10.653Z"
   },
   {
    "duration": 51,
    "start_time": "2022-05-15T09:58:10.721Z"
   },
   {
    "duration": 34,
    "start_time": "2022-05-15T09:58:10.788Z"
   },
   {
    "duration": 66,
    "start_time": "2022-05-15T09:58:10.823Z"
   },
   {
    "duration": 29,
    "start_time": "2022-05-15T09:58:10.890Z"
   },
   {
    "duration": 10,
    "start_time": "2022-05-15T10:07:35.307Z"
   },
   {
    "duration": 8,
    "start_time": "2022-05-15T10:07:45.684Z"
   },
   {
    "duration": 49,
    "start_time": "2022-05-15T10:40:37.546Z"
   },
   {
    "duration": 9,
    "start_time": "2022-05-15T10:40:42.896Z"
   },
   {
    "duration": 79,
    "start_time": "2022-05-15T14:20:05.911Z"
   },
   {
    "duration": 448,
    "start_time": "2022-05-15T14:20:14.498Z"
   },
   {
    "duration": 444,
    "start_time": "2022-05-15T14:20:14.948Z"
   },
   {
    "duration": 4,
    "start_time": "2022-05-15T14:20:15.394Z"
   },
   {
    "duration": 80,
    "start_time": "2022-05-15T14:20:15.401Z"
   },
   {
    "duration": 734,
    "start_time": "2022-05-15T14:20:17.922Z"
   },
   {
    "duration": 42,
    "start_time": "2022-05-15T14:24:01.779Z"
   },
   {
    "duration": 8,
    "start_time": "2022-05-15T14:24:36.673Z"
   },
   {
    "duration": 423,
    "start_time": "2022-05-15T14:25:49.781Z"
   },
   {
    "duration": 439,
    "start_time": "2022-05-15T14:25:50.208Z"
   },
   {
    "duration": 3,
    "start_time": "2022-05-15T14:25:50.651Z"
   },
   {
    "duration": 88,
    "start_time": "2022-05-15T14:25:50.658Z"
   },
   {
    "duration": 76,
    "start_time": "2022-05-15T14:25:50.748Z"
   },
   {
    "duration": 39,
    "start_time": "2022-05-15T14:25:50.826Z"
   },
   {
    "duration": 71,
    "start_time": "2022-05-15T14:25:50.867Z"
   },
   {
    "duration": 32,
    "start_time": "2022-05-15T14:25:50.940Z"
   },
   {
    "duration": 11,
    "start_time": "2022-05-15T14:25:50.974Z"
   },
   {
    "duration": 83,
    "start_time": "2022-05-15T14:25:50.987Z"
   },
   {
    "duration": 91,
    "start_time": "2022-05-15T14:25:51.072Z"
   },
   {
    "duration": 9,
    "start_time": "2022-05-15T14:26:14.949Z"
   },
   {
    "duration": 54,
    "start_time": "2022-05-15T14:27:41.830Z"
   },
   {
    "duration": 9,
    "start_time": "2022-05-15T14:27:52.362Z"
   },
   {
    "duration": 37,
    "start_time": "2022-05-15T14:29:38.459Z"
   },
   {
    "duration": 56,
    "start_time": "2022-05-15T14:32:40.590Z"
   },
   {
    "duration": 47,
    "start_time": "2022-05-15T14:32:54.104Z"
   },
   {
    "duration": 63,
    "start_time": "2022-05-15T14:34:15.806Z"
   },
   {
    "duration": 50,
    "start_time": "2022-05-15T14:34:20.886Z"
   },
   {
    "duration": 47,
    "start_time": "2022-05-15T14:35:06.758Z"
   },
   {
    "duration": 2,
    "start_time": "2022-05-15T14:38:34.497Z"
   },
   {
    "duration": 427,
    "start_time": "2022-05-15T14:38:34.501Z"
   },
   {
    "duration": 4,
    "start_time": "2022-05-15T14:38:34.930Z"
   },
   {
    "duration": 58,
    "start_time": "2022-05-15T14:38:34.936Z"
   },
   {
    "duration": 71,
    "start_time": "2022-05-15T14:38:34.996Z"
   },
   {
    "duration": 59,
    "start_time": "2022-05-15T14:38:35.069Z"
   },
   {
    "duration": 40,
    "start_time": "2022-05-15T14:38:35.130Z"
   },
   {
    "duration": 65,
    "start_time": "2022-05-15T14:38:35.171Z"
   },
   {
    "duration": 8,
    "start_time": "2022-05-15T14:38:35.238Z"
   },
   {
    "duration": 104,
    "start_time": "2022-05-15T14:38:35.248Z"
   },
   {
    "duration": 17,
    "start_time": "2022-05-15T14:38:35.354Z"
   },
   {
    "duration": 426,
    "start_time": "2022-05-15T14:39:15.278Z"
   },
   {
    "duration": 461,
    "start_time": "2022-05-15T14:39:15.706Z"
   },
   {
    "duration": 3,
    "start_time": "2022-05-15T14:39:16.169Z"
   },
   {
    "duration": 79,
    "start_time": "2022-05-15T14:39:16.174Z"
   },
   {
    "duration": 82,
    "start_time": "2022-05-15T14:39:16.255Z"
   },
   {
    "duration": 36,
    "start_time": "2022-05-15T14:39:16.339Z"
   },
   {
    "duration": 69,
    "start_time": "2022-05-15T14:39:16.377Z"
   },
   {
    "duration": 31,
    "start_time": "2022-05-15T14:39:16.448Z"
   },
   {
    "duration": 9,
    "start_time": "2022-05-15T14:39:16.481Z"
   },
   {
    "duration": 110,
    "start_time": "2022-05-15T14:39:16.492Z"
   },
   {
    "duration": 92,
    "start_time": "2022-05-15T14:39:16.604Z"
   },
   {
    "duration": 0,
    "start_time": "2022-05-15T14:39:16.698Z"
   },
   {
    "duration": 31,
    "start_time": "2022-05-15T14:39:42.135Z"
   },
   {
    "duration": 9,
    "start_time": "2022-05-15T14:40:26.437Z"
   },
   {
    "duration": 45,
    "start_time": "2022-05-15T14:41:22.877Z"
   },
   {
    "duration": 30,
    "start_time": "2022-05-15T14:41:43.156Z"
   },
   {
    "duration": 28,
    "start_time": "2022-05-15T14:41:54.276Z"
   },
   {
    "duration": 32,
    "start_time": "2022-05-15T14:45:15.249Z"
   },
   {
    "duration": 446,
    "start_time": "2022-05-15T14:50:26.338Z"
   },
   {
    "duration": 558,
    "start_time": "2022-05-15T14:50:26.787Z"
   },
   {
    "duration": 4,
    "start_time": "2022-05-15T14:50:27.347Z"
   },
   {
    "duration": 78,
    "start_time": "2022-05-15T14:50:27.353Z"
   },
   {
    "duration": 62,
    "start_time": "2022-05-15T14:50:27.433Z"
   },
   {
    "duration": 42,
    "start_time": "2022-05-15T14:50:27.522Z"
   },
   {
    "duration": 69,
    "start_time": "2022-05-15T14:50:27.566Z"
   },
   {
    "duration": 37,
    "start_time": "2022-05-15T14:50:27.637Z"
   },
   {
    "duration": 10,
    "start_time": "2022-05-15T14:50:27.676Z"
   },
   {
    "duration": 125,
    "start_time": "2022-05-15T14:50:27.722Z"
   },
   {
    "duration": 59,
    "start_time": "2022-05-15T14:50:27.849Z"
   },
   {
    "duration": 41,
    "start_time": "2022-05-15T14:50:27.910Z"
   },
   {
    "duration": 28,
    "start_time": "2022-05-15T14:50:27.953Z"
   },
   {
    "duration": 16,
    "start_time": "2022-05-15T15:08:07.621Z"
   },
   {
    "duration": 14,
    "start_time": "2022-05-15T15:08:17.658Z"
   },
   {
    "duration": 18,
    "start_time": "2022-05-15T15:08:35.436Z"
   },
   {
    "duration": 16,
    "start_time": "2022-05-15T15:08:36.027Z"
   },
   {
    "duration": 18,
    "start_time": "2022-05-15T15:08:52.626Z"
   },
   {
    "duration": 467,
    "start_time": "2022-05-15T15:10:07.390Z"
   },
   {
    "duration": 500,
    "start_time": "2022-05-15T15:10:07.859Z"
   },
   {
    "duration": 3,
    "start_time": "2022-05-15T15:10:08.361Z"
   },
   {
    "duration": 85,
    "start_time": "2022-05-15T15:10:08.366Z"
   },
   {
    "duration": 84,
    "start_time": "2022-05-15T15:10:08.453Z"
   },
   {
    "duration": 51,
    "start_time": "2022-05-15T15:10:08.539Z"
   },
   {
    "duration": 77,
    "start_time": "2022-05-15T15:10:08.593Z"
   },
   {
    "duration": 60,
    "start_time": "2022-05-15T15:10:08.671Z"
   },
   {
    "duration": 14,
    "start_time": "2022-05-15T15:10:08.733Z"
   },
   {
    "duration": 143,
    "start_time": "2022-05-15T15:10:08.750Z"
   },
   {
    "duration": 80,
    "start_time": "2022-05-15T15:10:08.895Z"
   },
   {
    "duration": 33,
    "start_time": "2022-05-15T15:10:08.976Z"
   },
   {
    "duration": 46,
    "start_time": "2022-05-15T15:10:09.011Z"
   },
   {
    "duration": 14,
    "start_time": "2022-05-15T15:10:09.061Z"
   },
   {
    "duration": 3,
    "start_time": "2022-05-15T15:49:18.346Z"
   },
   {
    "duration": 9,
    "start_time": "2022-05-15T15:49:25.248Z"
   },
   {
    "duration": 469,
    "start_time": "2022-05-15T15:50:06.591Z"
   },
   {
    "duration": 2211,
    "start_time": "2022-05-15T15:50:07.062Z"
   },
   {
    "duration": 3,
    "start_time": "2022-05-15T15:50:09.275Z"
   },
   {
    "duration": 99,
    "start_time": "2022-05-15T15:50:09.280Z"
   },
   {
    "duration": 98,
    "start_time": "2022-05-15T15:50:09.383Z"
   },
   {
    "duration": 55,
    "start_time": "2022-05-15T15:50:09.483Z"
   },
   {
    "duration": 44,
    "start_time": "2022-05-15T15:50:09.540Z"
   },
   {
    "duration": 65,
    "start_time": "2022-05-15T15:50:09.586Z"
   },
   {
    "duration": 9,
    "start_time": "2022-05-15T15:50:09.653Z"
   },
   {
    "duration": 22,
    "start_time": "2022-05-15T15:50:09.664Z"
   },
   {
    "duration": 138,
    "start_time": "2022-05-15T15:50:09.688Z"
   },
   {
    "duration": 58,
    "start_time": "2022-05-15T15:50:09.827Z"
   },
   {
    "duration": 40,
    "start_time": "2022-05-15T15:50:09.887Z"
   },
   {
    "duration": 28,
    "start_time": "2022-05-15T15:50:09.930Z"
   },
   {
    "duration": 21,
    "start_time": "2022-05-15T15:50:09.960Z"
   },
   {
    "duration": 23,
    "start_time": "2022-05-15T15:50:26.208Z"
   },
   {
    "duration": 18,
    "start_time": "2022-05-15T15:50:55.785Z"
   },
   {
    "duration": 14,
    "start_time": "2022-05-15T15:53:15.816Z"
   },
   {
    "duration": 65,
    "start_time": "2022-05-15T15:53:57.602Z"
   },
   {
    "duration": 64,
    "start_time": "2022-05-15T15:57:16.826Z"
   },
   {
    "duration": 4,
    "start_time": "2022-05-15T15:58:44.436Z"
   },
   {
    "duration": 11,
    "start_time": "2022-05-15T15:58:57.787Z"
   },
   {
    "duration": 12,
    "start_time": "2022-05-15T15:59:15.449Z"
   },
   {
    "duration": 4,
    "start_time": "2022-05-15T15:59:20.704Z"
   },
   {
    "duration": 458,
    "start_time": "2022-05-15T15:59:20.710Z"
   },
   {
    "duration": 4,
    "start_time": "2022-05-15T15:59:21.169Z"
   },
   {
    "duration": 56,
    "start_time": "2022-05-15T15:59:21.175Z"
   },
   {
    "duration": 51,
    "start_time": "2022-05-15T15:59:21.233Z"
   },
   {
    "duration": 58,
    "start_time": "2022-05-15T15:59:21.286Z"
   },
   {
    "duration": 38,
    "start_time": "2022-05-15T15:59:21.346Z"
   },
   {
    "duration": 57,
    "start_time": "2022-05-15T15:59:21.386Z"
   },
   {
    "duration": 8,
    "start_time": "2022-05-15T15:59:21.445Z"
   },
   {
    "duration": 5,
    "start_time": "2022-05-15T15:59:21.454Z"
   },
   {
    "duration": 140,
    "start_time": "2022-05-15T15:59:21.461Z"
   },
   {
    "duration": 54,
    "start_time": "2022-05-15T15:59:21.603Z"
   },
   {
    "duration": 28,
    "start_time": "2022-05-15T15:59:21.660Z"
   },
   {
    "duration": 43,
    "start_time": "2022-05-15T15:59:21.689Z"
   },
   {
    "duration": 20,
    "start_time": "2022-05-15T15:59:21.734Z"
   },
   {
    "duration": 81,
    "start_time": "2022-05-15T15:59:21.755Z"
   },
   {
    "duration": 14,
    "start_time": "2022-05-15T15:59:26.700Z"
   },
   {
    "duration": 14,
    "start_time": "2022-05-15T15:59:54.144Z"
   },
   {
    "duration": 6,
    "start_time": "2022-05-15T16:13:30.766Z"
   },
   {
    "duration": 21,
    "start_time": "2022-05-15T16:13:42.001Z"
   },
   {
    "duration": 26,
    "start_time": "2022-05-15T16:15:10.925Z"
   },
   {
    "duration": 4,
    "start_time": "2022-05-15T16:25:52.164Z"
   },
   {
    "duration": 14,
    "start_time": "2022-05-15T16:26:14.780Z"
   },
   {
    "duration": 2034,
    "start_time": "2022-05-15T16:32:41.755Z"
   },
   {
    "duration": 132,
    "start_time": "2022-05-15T16:33:01.977Z"
   },
   {
    "duration": 27,
    "start_time": "2022-05-15T16:33:03.960Z"
   },
   {
    "duration": 4,
    "start_time": "2022-05-15T16:34:06.363Z"
   },
   {
    "duration": 101,
    "start_time": "2022-05-15T16:34:07.152Z"
   },
   {
    "duration": 26,
    "start_time": "2022-05-15T16:34:07.890Z"
   },
   {
    "duration": 4,
    "start_time": "2022-05-15T16:37:48.964Z"
   },
   {
    "duration": 3,
    "start_time": "2022-05-15T16:38:19.191Z"
   },
   {
    "duration": 4,
    "start_time": "2022-05-15T16:41:57.328Z"
   },
   {
    "duration": 18,
    "start_time": "2022-05-15T16:41:59.727Z"
   },
   {
    "duration": 4,
    "start_time": "2022-05-15T16:42:40.490Z"
   },
   {
    "duration": 15,
    "start_time": "2022-05-15T16:42:41.387Z"
   },
   {
    "duration": 3,
    "start_time": "2022-05-15T16:43:51.378Z"
   },
   {
    "duration": 411,
    "start_time": "2022-05-15T16:43:51.383Z"
   },
   {
    "duration": 3,
    "start_time": "2022-05-15T16:43:51.796Z"
   },
   {
    "duration": 68,
    "start_time": "2022-05-15T16:43:51.801Z"
   },
   {
    "duration": 76,
    "start_time": "2022-05-15T16:43:51.871Z"
   },
   {
    "duration": 45,
    "start_time": "2022-05-15T16:43:51.948Z"
   },
   {
    "duration": 66,
    "start_time": "2022-05-15T16:43:51.995Z"
   },
   {
    "duration": 30,
    "start_time": "2022-05-15T16:43:52.063Z"
   },
   {
    "duration": 34,
    "start_time": "2022-05-15T16:43:52.094Z"
   },
   {
    "duration": 7,
    "start_time": "2022-05-15T16:43:52.130Z"
   },
   {
    "duration": 134,
    "start_time": "2022-05-15T16:43:52.138Z"
   },
   {
    "duration": 50,
    "start_time": "2022-05-15T16:43:52.273Z"
   },
   {
    "duration": 26,
    "start_time": "2022-05-15T16:43:52.325Z"
   },
   {
    "duration": 22,
    "start_time": "2022-05-15T16:43:52.353Z"
   },
   {
    "duration": 21,
    "start_time": "2022-05-15T16:43:52.377Z"
   },
   {
    "duration": 90,
    "start_time": "2022-05-15T16:43:52.399Z"
   },
   {
    "duration": 39,
    "start_time": "2022-05-15T16:43:52.491Z"
   },
   {
    "duration": 371,
    "start_time": "2022-05-15T16:45:15.582Z"
   },
   {
    "duration": 159,
    "start_time": "2022-05-15T16:54:55.389Z"
   },
   {
    "duration": 177,
    "start_time": "2022-05-15T16:55:23.714Z"
   },
   {
    "duration": 4,
    "start_time": "2022-05-15T16:55:28.079Z"
   },
   {
    "duration": 3,
    "start_time": "2022-05-15T16:58:23.784Z"
   },
   {
    "duration": 4,
    "start_time": "2022-05-15T16:59:52.673Z"
   },
   {
    "duration": 118,
    "start_time": "2022-05-15T16:59:53.686Z"
   },
   {
    "duration": 34,
    "start_time": "2022-05-15T16:59:55.076Z"
   },
   {
    "duration": 3,
    "start_time": "2022-05-15T17:04:35.239Z"
   },
   {
    "duration": 109,
    "start_time": "2022-05-15T17:04:36.396Z"
   },
   {
    "duration": 28,
    "start_time": "2022-05-15T17:04:37.447Z"
   },
   {
    "duration": 22,
    "start_time": "2022-05-15T17:04:52.480Z"
   },
   {
    "duration": 22,
    "start_time": "2022-05-15T17:05:01.729Z"
   },
   {
    "duration": 1713,
    "start_time": "2022-05-16T04:49:44.348Z"
   },
   {
    "duration": 1517,
    "start_time": "2022-05-16T04:50:16.118Z"
   },
   {
    "duration": 484,
    "start_time": "2022-05-16T04:50:17.638Z"
   },
   {
    "duration": 4,
    "start_time": "2022-05-16T04:50:18.124Z"
   },
   {
    "duration": 87,
    "start_time": "2022-05-16T04:50:18.130Z"
   },
   {
    "duration": 83,
    "start_time": "2022-05-16T04:50:18.220Z"
   },
   {
    "duration": 68,
    "start_time": "2022-05-16T04:50:18.306Z"
   },
   {
    "duration": 86,
    "start_time": "2022-05-16T04:50:18.377Z"
   },
   {
    "duration": 45,
    "start_time": "2022-05-16T04:50:18.465Z"
   },
   {
    "duration": 41,
    "start_time": "2022-05-16T04:50:18.512Z"
   },
   {
    "duration": 19,
    "start_time": "2022-05-16T04:50:18.556Z"
   },
   {
    "duration": 166,
    "start_time": "2022-05-16T04:50:18.577Z"
   },
   {
    "duration": 77,
    "start_time": "2022-05-16T04:50:18.746Z"
   },
   {
    "duration": 51,
    "start_time": "2022-05-16T04:50:18.826Z"
   },
   {
    "duration": 36,
    "start_time": "2022-05-16T04:50:18.881Z"
   },
   {
    "duration": 50,
    "start_time": "2022-05-16T04:50:18.920Z"
   },
   {
    "duration": 120,
    "start_time": "2022-05-16T04:50:18.972Z"
   },
   {
    "duration": 20,
    "start_time": "2022-05-16T04:50:19.095Z"
   },
   {
    "duration": 5,
    "start_time": "2022-05-16T04:50:19.117Z"
   },
   {
    "duration": 191,
    "start_time": "2022-05-16T04:50:19.152Z"
   },
   {
    "duration": 34,
    "start_time": "2022-05-16T04:50:19.345Z"
   },
   {
    "duration": 42,
    "start_time": "2022-05-16T04:52:20.363Z"
   },
   {
    "duration": 141,
    "start_time": "2022-05-16T04:54:50.031Z"
   },
   {
    "duration": 1081,
    "start_time": "2022-05-16T04:56:23.303Z"
   },
   {
    "duration": 195,
    "start_time": "2022-05-16T04:56:51.309Z"
   },
   {
    "duration": 172,
    "start_time": "2022-05-16T04:57:41.649Z"
   },
   {
    "duration": 504,
    "start_time": "2022-05-16T04:58:26.868Z"
   },
   {
    "duration": 576,
    "start_time": "2022-05-16T04:58:43.487Z"
   },
   {
    "duration": 230,
    "start_time": "2022-05-16T04:58:49.567Z"
   },
   {
    "duration": 216,
    "start_time": "2022-05-16T05:02:16.625Z"
   },
   {
    "duration": 14,
    "start_time": "2022-05-16T05:21:20.676Z"
   },
   {
    "duration": 20,
    "start_time": "2022-05-16T05:21:25.307Z"
   },
   {
    "duration": 25,
    "start_time": "2022-05-16T05:22:01.248Z"
   },
   {
    "duration": 24,
    "start_time": "2022-05-16T05:22:20.793Z"
   },
   {
    "duration": 28,
    "start_time": "2022-05-16T05:23:14.490Z"
   },
   {
    "duration": 465,
    "start_time": "2022-05-16T05:24:51.306Z"
   },
   {
    "duration": 554,
    "start_time": "2022-05-16T05:29:29.482Z"
   },
   {
    "duration": 458,
    "start_time": "2022-05-16T05:29:38.276Z"
   },
   {
    "duration": 585,
    "start_time": "2022-05-16T05:30:34.431Z"
   },
   {
    "duration": 12,
    "start_time": "2022-05-16T05:38:22.386Z"
   },
   {
    "duration": 27,
    "start_time": "2022-05-16T05:38:28.450Z"
   },
   {
    "duration": 2271,
    "start_time": "2022-05-16T05:38:42.807Z"
   },
   {
    "duration": 8,
    "start_time": "2022-05-16T06:32:47.229Z"
   },
   {
    "duration": 12,
    "start_time": "2022-05-16T06:33:04.337Z"
   },
   {
    "duration": 8,
    "start_time": "2022-05-16T06:34:29.515Z"
   },
   {
    "duration": 8,
    "start_time": "2022-05-16T06:34:35.113Z"
   },
   {
    "duration": 12,
    "start_time": "2022-05-16T06:42:12.574Z"
   },
   {
    "duration": 11,
    "start_time": "2022-05-16T06:42:20.981Z"
   },
   {
    "duration": 12,
    "start_time": "2022-05-16T06:43:33.386Z"
   },
   {
    "duration": 12,
    "start_time": "2022-05-16T06:49:07.118Z"
   },
   {
    "duration": 13,
    "start_time": "2022-05-16T06:49:12.572Z"
   },
   {
    "duration": 11,
    "start_time": "2022-05-16T06:49:30.434Z"
   },
   {
    "duration": 12,
    "start_time": "2022-05-16T06:50:37.029Z"
   },
   {
    "duration": 16,
    "start_time": "2022-05-16T06:51:46.768Z"
   },
   {
    "duration": 12,
    "start_time": "2022-05-16T06:51:55.022Z"
   },
   {
    "duration": 12,
    "start_time": "2022-05-16T06:52:08.344Z"
   },
   {
    "duration": 13,
    "start_time": "2022-05-16T06:52:31.139Z"
   },
   {
    "duration": 13,
    "start_time": "2022-05-16T06:53:04.817Z"
   },
   {
    "duration": 11,
    "start_time": "2022-05-16T07:02:31.255Z"
   },
   {
    "duration": 1417,
    "start_time": "2022-05-16T09:00:44.277Z"
   },
   {
    "duration": 495,
    "start_time": "2022-05-16T09:00:45.696Z"
   },
   {
    "duration": 4,
    "start_time": "2022-05-16T09:00:46.193Z"
   },
   {
    "duration": 107,
    "start_time": "2022-05-16T09:00:46.200Z"
   },
   {
    "duration": 81,
    "start_time": "2022-05-16T09:00:46.310Z"
   },
   {
    "duration": 72,
    "start_time": "2022-05-16T09:00:46.393Z"
   },
   {
    "duration": 85,
    "start_time": "2022-05-16T09:00:46.468Z"
   },
   {
    "duration": 45,
    "start_time": "2022-05-16T09:00:46.564Z"
   },
   {
    "duration": 13,
    "start_time": "2022-05-16T09:00:46.611Z"
   },
   {
    "duration": 36,
    "start_time": "2022-05-16T09:00:46.626Z"
   },
   {
    "duration": 171,
    "start_time": "2022-05-16T09:00:46.665Z"
   },
   {
    "duration": 78,
    "start_time": "2022-05-16T09:00:46.839Z"
   },
   {
    "duration": 62,
    "start_time": "2022-05-16T09:00:46.920Z"
   },
   {
    "duration": 34,
    "start_time": "2022-05-16T09:00:46.988Z"
   },
   {
    "duration": 57,
    "start_time": "2022-05-16T09:00:47.025Z"
   },
   {
    "duration": 127,
    "start_time": "2022-05-16T09:00:47.084Z"
   },
   {
    "duration": 19,
    "start_time": "2022-05-16T09:00:47.213Z"
   },
   {
    "duration": 5,
    "start_time": "2022-05-16T09:00:47.234Z"
   },
   {
    "duration": 202,
    "start_time": "2022-05-16T09:00:47.257Z"
   },
   {
    "duration": 34,
    "start_time": "2022-05-16T09:00:47.461Z"
   },
   {
    "duration": 638,
    "start_time": "2022-05-16T09:00:47.497Z"
   },
   {
    "duration": 2360,
    "start_time": "2022-05-16T09:00:48.137Z"
   },
   {
    "duration": 12,
    "start_time": "2022-05-16T09:00:50.499Z"
   },
   {
    "duration": 15,
    "start_time": "2022-05-16T09:00:50.513Z"
   },
   {
    "duration": 599,
    "start_time": "2022-05-16T09:02:58.911Z"
   },
   {
    "duration": 418,
    "start_time": "2022-05-16T09:03:15.014Z"
   },
   {
    "duration": 491,
    "start_time": "2022-05-16T09:03:20.325Z"
   },
   {
    "duration": 689,
    "start_time": "2022-05-16T09:03:26.631Z"
   },
   {
    "duration": 516,
    "start_time": "2022-05-16T09:03:32.725Z"
   },
   {
    "duration": 2380,
    "start_time": "2022-05-16T09:09:36.720Z"
   },
   {
    "duration": 618,
    "start_time": "2022-05-16T09:09:50.197Z"
   },
   {
    "duration": 424,
    "start_time": "2022-05-16T09:10:09.682Z"
   },
   {
    "duration": 513,
    "start_time": "2022-05-16T09:10:46.175Z"
   },
   {
    "duration": 2236,
    "start_time": "2022-05-16T09:13:53.421Z"
   },
   {
    "duration": 13,
    "start_time": "2022-05-16T09:39:06.691Z"
   },
   {
    "duration": 12,
    "start_time": "2022-05-16T09:39:11.066Z"
   },
   {
    "duration": 12,
    "start_time": "2022-05-16T09:39:31.748Z"
   },
   {
    "duration": 1462,
    "start_time": "2022-05-16T09:40:07.825Z"
   },
   {
    "duration": 476,
    "start_time": "2022-05-16T09:40:09.290Z"
   },
   {
    "duration": 5,
    "start_time": "2022-05-16T09:40:09.768Z"
   },
   {
    "duration": 85,
    "start_time": "2022-05-16T09:40:09.777Z"
   },
   {
    "duration": 95,
    "start_time": "2022-05-16T09:40:09.864Z"
   },
   {
    "duration": 46,
    "start_time": "2022-05-16T09:40:09.961Z"
   },
   {
    "duration": 89,
    "start_time": "2022-05-16T09:40:10.009Z"
   },
   {
    "duration": 71,
    "start_time": "2022-05-16T09:40:10.100Z"
   },
   {
    "duration": 12,
    "start_time": "2022-05-16T09:40:10.173Z"
   },
   {
    "duration": 7,
    "start_time": "2022-05-16T09:40:10.190Z"
   },
   {
    "duration": 190,
    "start_time": "2022-05-16T09:40:10.199Z"
   },
   {
    "duration": 79,
    "start_time": "2022-05-16T09:40:10.391Z"
   },
   {
    "duration": 39,
    "start_time": "2022-05-16T09:40:10.472Z"
   },
   {
    "duration": 61,
    "start_time": "2022-05-16T09:40:10.513Z"
   },
   {
    "duration": 30,
    "start_time": "2022-05-16T09:40:10.576Z"
   },
   {
    "duration": 120,
    "start_time": "2022-05-16T09:40:10.608Z"
   },
   {
    "duration": 33,
    "start_time": "2022-05-16T09:40:10.731Z"
   },
   {
    "duration": 6,
    "start_time": "2022-05-16T09:40:10.767Z"
   },
   {
    "duration": 200,
    "start_time": "2022-05-16T09:40:10.776Z"
   },
   {
    "duration": 30,
    "start_time": "2022-05-16T09:40:10.978Z"
   },
   {
    "duration": 608,
    "start_time": "2022-05-16T09:40:11.010Z"
   },
   {
    "duration": 2180,
    "start_time": "2022-05-16T09:40:11.620Z"
   },
   {
    "duration": 13,
    "start_time": "2022-05-16T09:40:13.802Z"
   },
   {
    "duration": 35,
    "start_time": "2022-05-16T09:40:13.817Z"
   },
   {
    "duration": 535,
    "start_time": "2022-05-16T09:40:13.854Z"
   },
   {
    "duration": 2179,
    "start_time": "2022-05-16T09:40:14.392Z"
   },
   {
    "duration": 13,
    "start_time": "2022-05-16T09:49:05.967Z"
   },
   {
    "duration": 14,
    "start_time": "2022-05-16T09:49:35.018Z"
   },
   {
    "duration": 14,
    "start_time": "2022-05-16T09:50:13.735Z"
   },
   {
    "duration": 759,
    "start_time": "2022-05-16T11:07:04.982Z"
   },
   {
    "duration": 2412,
    "start_time": "2022-05-16T11:10:10.308Z"
   },
   {
    "duration": 172,
    "start_time": "2022-05-16T11:11:03.000Z"
   },
   {
    "duration": 2829,
    "start_time": "2022-05-16T11:11:08.504Z"
   },
   {
    "duration": 12,
    "start_time": "2022-05-16T11:18:50.020Z"
   },
   {
    "duration": 12,
    "start_time": "2022-05-16T11:19:42.847Z"
   },
   {
    "duration": 1495,
    "start_time": "2022-05-16T11:21:24.778Z"
   },
   {
    "duration": 501,
    "start_time": "2022-05-16T11:21:26.277Z"
   },
   {
    "duration": 5,
    "start_time": "2022-05-16T11:21:26.781Z"
   },
   {
    "duration": 85,
    "start_time": "2022-05-16T11:21:26.788Z"
   },
   {
    "duration": 91,
    "start_time": "2022-05-16T11:21:26.876Z"
   },
   {
    "duration": 47,
    "start_time": "2022-05-16T11:21:26.969Z"
   },
   {
    "duration": 87,
    "start_time": "2022-05-16T11:21:27.018Z"
   },
   {
    "duration": 72,
    "start_time": "2022-05-16T11:21:27.107Z"
   },
   {
    "duration": 12,
    "start_time": "2022-05-16T11:21:27.181Z"
   },
   {
    "duration": 9,
    "start_time": "2022-05-16T11:21:27.195Z"
   },
   {
    "duration": 198,
    "start_time": "2022-05-16T11:21:27.206Z"
   },
   {
    "duration": 84,
    "start_time": "2022-05-16T11:21:27.406Z"
   },
   {
    "duration": 42,
    "start_time": "2022-05-16T11:21:27.492Z"
   },
   {
    "duration": 51,
    "start_time": "2022-05-16T11:21:27.538Z"
   },
   {
    "duration": 31,
    "start_time": "2022-05-16T11:21:27.591Z"
   },
   {
    "duration": 140,
    "start_time": "2022-05-16T11:21:27.624Z"
   },
   {
    "duration": 21,
    "start_time": "2022-05-16T11:21:27.767Z"
   },
   {
    "duration": 6,
    "start_time": "2022-05-16T11:21:27.790Z"
   },
   {
    "duration": 227,
    "start_time": "2022-05-16T11:21:27.799Z"
   },
   {
    "duration": 35,
    "start_time": "2022-05-16T11:21:28.029Z"
   },
   {
    "duration": 663,
    "start_time": "2022-05-16T11:21:28.066Z"
   },
   {
    "duration": 2666,
    "start_time": "2022-05-16T11:21:28.733Z"
   },
   {
    "duration": 12,
    "start_time": "2022-05-16T11:21:31.401Z"
   },
   {
    "duration": 41,
    "start_time": "2022-05-16T11:21:31.415Z"
   },
   {
    "duration": 649,
    "start_time": "2022-05-16T11:21:31.459Z"
   },
   {
    "duration": 2571,
    "start_time": "2022-05-16T11:21:32.110Z"
   },
   {
    "duration": 16,
    "start_time": "2022-05-16T11:21:34.684Z"
   },
   {
    "duration": 26,
    "start_time": "2022-05-16T11:21:34.704Z"
   },
   {
    "duration": 751,
    "start_time": "2022-05-16T11:21:34.733Z"
   },
   {
    "duration": 2572,
    "start_time": "2022-05-16T11:21:35.487Z"
   },
   {
    "duration": 20,
    "start_time": "2022-05-16T11:21:38.063Z"
   },
   {
    "duration": 33,
    "start_time": "2022-05-16T11:21:38.086Z"
   },
   {
    "duration": 14,
    "start_time": "2022-05-16T11:22:05.354Z"
   },
   {
    "duration": 12,
    "start_time": "2022-05-16T11:23:58.035Z"
   },
   {
    "duration": 12,
    "start_time": "2022-05-16T11:25:09.032Z"
   },
   {
    "duration": 1528,
    "start_time": "2022-05-16T11:25:50.383Z"
   },
   {
    "duration": 500,
    "start_time": "2022-05-16T11:25:51.913Z"
   },
   {
    "duration": 4,
    "start_time": "2022-05-16T11:25:52.415Z"
   },
   {
    "duration": 84,
    "start_time": "2022-05-16T11:25:52.421Z"
   },
   {
    "duration": 91,
    "start_time": "2022-05-16T11:25:52.507Z"
   },
   {
    "duration": 72,
    "start_time": "2022-05-16T11:25:52.600Z"
   },
   {
    "duration": 83,
    "start_time": "2022-05-16T11:25:52.675Z"
   },
   {
    "duration": 46,
    "start_time": "2022-05-16T11:25:52.761Z"
   },
   {
    "duration": 51,
    "start_time": "2022-05-16T11:25:52.809Z"
   },
   {
    "duration": 12,
    "start_time": "2022-05-16T11:25:52.866Z"
   },
   {
    "duration": 175,
    "start_time": "2022-05-16T11:25:52.881Z"
   },
   {
    "duration": 79,
    "start_time": "2022-05-16T11:25:53.059Z"
   },
   {
    "duration": 45,
    "start_time": "2022-05-16T11:25:53.151Z"
   },
   {
    "duration": 64,
    "start_time": "2022-05-16T11:25:53.199Z"
   },
   {
    "duration": 33,
    "start_time": "2022-05-16T11:25:53.265Z"
   },
   {
    "duration": 133,
    "start_time": "2022-05-16T11:25:53.300Z"
   },
   {
    "duration": 40,
    "start_time": "2022-05-16T11:25:53.436Z"
   },
   {
    "duration": 6,
    "start_time": "2022-05-16T11:25:53.478Z"
   },
   {
    "duration": 218,
    "start_time": "2022-05-16T11:25:53.487Z"
   },
   {
    "duration": 29,
    "start_time": "2022-05-16T11:25:53.707Z"
   },
   {
    "duration": 658,
    "start_time": "2022-05-16T11:25:53.738Z"
   },
   {
    "duration": 2298,
    "start_time": "2022-05-16T11:25:54.399Z"
   },
   {
    "duration": 11,
    "start_time": "2022-05-16T11:25:56.699Z"
   },
   {
    "duration": 10,
    "start_time": "2022-05-16T11:25:56.712Z"
   },
   {
    "duration": 629,
    "start_time": "2022-05-16T11:25:56.724Z"
   },
   {
    "duration": 2282,
    "start_time": "2022-05-16T11:25:57.356Z"
   },
   {
    "duration": 26,
    "start_time": "2022-05-16T11:25:59.640Z"
   },
   {
    "duration": 11,
    "start_time": "2022-05-16T11:25:59.671Z"
   },
   {
    "duration": 728,
    "start_time": "2022-05-16T11:25:59.684Z"
   },
   {
    "duration": 2383,
    "start_time": "2022-05-16T11:26:00.414Z"
   },
   {
    "duration": 12,
    "start_time": "2022-05-16T11:26:02.800Z"
   },
   {
    "duration": 20,
    "start_time": "2022-05-16T11:26:02.814Z"
   },
   {
    "duration": 11,
    "start_time": "2022-05-16T11:27:29.411Z"
   },
   {
    "duration": 11,
    "start_time": "2022-05-16T11:27:31.385Z"
   },
   {
    "duration": 6,
    "start_time": "2022-05-16T13:09:12.201Z"
   },
   {
    "duration": 12,
    "start_time": "2022-05-16T13:09:51.547Z"
   },
   {
    "duration": 6,
    "start_time": "2022-05-16T13:10:36.360Z"
   },
   {
    "duration": 10,
    "start_time": "2022-05-16T13:10:37.341Z"
   },
   {
    "duration": 12,
    "start_time": "2022-05-16T13:11:13.127Z"
   },
   {
    "duration": 8,
    "start_time": "2022-05-16T13:12:04.896Z"
   },
   {
    "duration": 8,
    "start_time": "2022-05-16T13:12:25.240Z"
   },
   {
    "duration": 9,
    "start_time": "2022-05-16T13:12:55.030Z"
   },
   {
    "duration": 8,
    "start_time": "2022-05-16T13:13:41.676Z"
   },
   {
    "duration": 8,
    "start_time": "2022-05-16T13:13:44.514Z"
   },
   {
    "duration": 5,
    "start_time": "2022-05-16T13:14:30.730Z"
   },
   {
    "duration": 8,
    "start_time": "2022-05-16T13:14:34.416Z"
   },
   {
    "duration": 9,
    "start_time": "2022-05-16T13:14:36.813Z"
   },
   {
    "duration": 10,
    "start_time": "2022-05-16T13:14:45.345Z"
   },
   {
    "duration": 10,
    "start_time": "2022-05-16T13:14:46.126Z"
   },
   {
    "duration": 10,
    "start_time": "2022-05-16T13:14:56.987Z"
   },
   {
    "duration": 9,
    "start_time": "2022-05-16T13:14:57.882Z"
   },
   {
    "duration": 1505,
    "start_time": "2022-05-16T13:15:18.986Z"
   },
   {
    "duration": 509,
    "start_time": "2022-05-16T13:15:20.493Z"
   },
   {
    "duration": 4,
    "start_time": "2022-05-16T13:15:21.005Z"
   },
   {
    "duration": 94,
    "start_time": "2022-05-16T13:15:21.011Z"
   },
   {
    "duration": 90,
    "start_time": "2022-05-16T13:15:21.108Z"
   },
   {
    "duration": 75,
    "start_time": "2022-05-16T13:15:21.200Z"
   },
   {
    "duration": 88,
    "start_time": "2022-05-16T13:15:21.278Z"
   },
   {
    "duration": 46,
    "start_time": "2022-05-16T13:15:21.369Z"
   },
   {
    "duration": 14,
    "start_time": "2022-05-16T13:15:21.451Z"
   },
   {
    "duration": 15,
    "start_time": "2022-05-16T13:15:21.471Z"
   },
   {
    "duration": 185,
    "start_time": "2022-05-16T13:15:21.488Z"
   },
   {
    "duration": 78,
    "start_time": "2022-05-16T13:15:21.675Z"
   },
   {
    "duration": 39,
    "start_time": "2022-05-16T13:15:21.755Z"
   },
   {
    "duration": 56,
    "start_time": "2022-05-16T13:15:21.797Z"
   },
   {
    "duration": 33,
    "start_time": "2022-05-16T13:15:21.855Z"
   },
   {
    "duration": 131,
    "start_time": "2022-05-16T13:15:21.890Z"
   },
   {
    "duration": 41,
    "start_time": "2022-05-16T13:15:22.023Z"
   },
   {
    "duration": 6,
    "start_time": "2022-05-16T13:15:22.066Z"
   },
   {
    "duration": 223,
    "start_time": "2022-05-16T13:15:22.074Z"
   },
   {
    "duration": 34,
    "start_time": "2022-05-16T13:15:22.299Z"
   },
   {
    "duration": 689,
    "start_time": "2022-05-16T13:15:22.336Z"
   },
   {
    "duration": 2360,
    "start_time": "2022-05-16T13:15:23.027Z"
   },
   {
    "duration": 5,
    "start_time": "2022-05-16T13:15:25.389Z"
   },
   {
    "duration": 17,
    "start_time": "2022-05-16T13:15:25.396Z"
   },
   {
    "duration": 11,
    "start_time": "2022-05-16T13:15:25.415Z"
   },
   {
    "duration": 600,
    "start_time": "2022-05-16T13:15:25.428Z"
   },
   {
    "duration": 2305,
    "start_time": "2022-05-16T13:15:26.030Z"
   },
   {
    "duration": 17,
    "start_time": "2022-05-16T13:15:28.340Z"
   },
   {
    "duration": 10,
    "start_time": "2022-05-16T13:15:28.359Z"
   },
   {
    "duration": 680,
    "start_time": "2022-05-16T13:15:28.371Z"
   },
   {
    "duration": 2361,
    "start_time": "2022-05-16T13:15:29.054Z"
   },
   {
    "duration": 8,
    "start_time": "2022-05-16T13:15:31.418Z"
   },
   {
    "duration": 13,
    "start_time": "2022-05-16T13:15:31.428Z"
   },
   {
    "duration": 1839,
    "start_time": "2022-05-17T04:27:58.836Z"
   },
   {
    "duration": 524,
    "start_time": "2022-05-17T04:28:00.678Z"
   },
   {
    "duration": 5,
    "start_time": "2022-05-17T04:28:01.205Z"
   },
   {
    "duration": 100,
    "start_time": "2022-05-17T04:28:01.214Z"
   },
   {
    "duration": 112,
    "start_time": "2022-05-17T04:28:01.316Z"
   },
   {
    "duration": 55,
    "start_time": "2022-05-17T04:28:01.433Z"
   },
   {
    "duration": 97,
    "start_time": "2022-05-17T04:28:01.490Z"
   },
   {
    "duration": 79,
    "start_time": "2022-05-17T04:28:01.590Z"
   },
   {
    "duration": 14,
    "start_time": "2022-05-17T04:28:01.672Z"
   },
   {
    "duration": 35,
    "start_time": "2022-05-17T04:28:01.690Z"
   },
   {
    "duration": 196,
    "start_time": "2022-05-17T04:28:01.728Z"
   },
   {
    "duration": 82,
    "start_time": "2022-05-17T04:28:01.929Z"
   },
   {
    "duration": 49,
    "start_time": "2022-05-17T04:28:02.028Z"
   },
   {
    "duration": 65,
    "start_time": "2022-05-17T04:28:02.079Z"
   },
   {
    "duration": 34,
    "start_time": "2022-05-17T04:28:02.146Z"
   },
   {
    "duration": 118,
    "start_time": "2022-05-17T04:28:02.183Z"
   },
   {
    "duration": 39,
    "start_time": "2022-05-17T04:28:02.304Z"
   },
   {
    "duration": 5,
    "start_time": "2022-05-17T04:28:02.346Z"
   },
   {
    "duration": 218,
    "start_time": "2022-05-17T04:28:02.354Z"
   },
   {
    "duration": 29,
    "start_time": "2022-05-17T04:28:02.574Z"
   },
   {
    "duration": 684,
    "start_time": "2022-05-17T04:28:02.606Z"
   },
   {
    "duration": 2370,
    "start_time": "2022-05-17T04:28:03.292Z"
   },
   {
    "duration": 5,
    "start_time": "2022-05-17T04:28:05.664Z"
   },
   {
    "duration": 17,
    "start_time": "2022-05-17T04:28:05.672Z"
   },
   {
    "duration": 12,
    "start_time": "2022-05-17T04:28:05.692Z"
   },
   {
    "duration": 570,
    "start_time": "2022-05-17T04:28:05.707Z"
   },
   {
    "duration": 2369,
    "start_time": "2022-05-17T04:28:06.280Z"
   },
   {
    "duration": 11,
    "start_time": "2022-05-17T04:28:08.656Z"
   },
   {
    "duration": 13,
    "start_time": "2022-05-17T04:28:08.669Z"
   },
   {
    "duration": 731,
    "start_time": "2022-05-17T04:28:08.685Z"
   },
   {
    "duration": 2331,
    "start_time": "2022-05-17T04:28:09.419Z"
   },
   {
    "duration": 10,
    "start_time": "2022-05-17T04:28:11.752Z"
   },
   {
    "duration": 12,
    "start_time": "2022-05-17T04:28:11.764Z"
   },
   {
    "duration": 170,
    "start_time": "2022-05-17T04:30:50.753Z"
   },
   {
    "duration": 11,
    "start_time": "2022-05-17T04:32:27.611Z"
   },
   {
    "duration": 12,
    "start_time": "2022-05-17T04:34:13.438Z"
   },
   {
    "duration": 9,
    "start_time": "2022-05-17T04:35:32.840Z"
   },
   {
    "duration": 6,
    "start_time": "2022-05-17T04:35:33.499Z"
   },
   {
    "duration": 1924,
    "start_time": "2022-05-17T06:35:11.135Z"
   },
   {
    "duration": 504,
    "start_time": "2022-05-17T06:35:13.062Z"
   },
   {
    "duration": 5,
    "start_time": "2022-05-17T06:35:13.568Z"
   },
   {
    "duration": 108,
    "start_time": "2022-05-17T06:35:13.577Z"
   },
   {
    "duration": 89,
    "start_time": "2022-05-17T06:35:13.687Z"
   },
   {
    "duration": 71,
    "start_time": "2022-05-17T06:35:13.778Z"
   },
   {
    "duration": 86,
    "start_time": "2022-05-17T06:35:13.851Z"
   },
   {
    "duration": 43,
    "start_time": "2022-05-17T06:35:13.940Z"
   },
   {
    "duration": 47,
    "start_time": "2022-05-17T06:35:13.985Z"
   },
   {
    "duration": 19,
    "start_time": "2022-05-17T06:35:14.040Z"
   },
   {
    "duration": 206,
    "start_time": "2022-05-17T06:35:14.061Z"
   },
   {
    "duration": 78,
    "start_time": "2022-05-17T06:35:14.269Z"
   },
   {
    "duration": 39,
    "start_time": "2022-05-17T06:35:14.349Z"
   },
   {
    "duration": 59,
    "start_time": "2022-05-17T06:35:14.390Z"
   },
   {
    "duration": 33,
    "start_time": "2022-05-17T06:35:14.451Z"
   },
   {
    "duration": 123,
    "start_time": "2022-05-17T06:35:14.487Z"
   },
   {
    "duration": 35,
    "start_time": "2022-05-17T06:35:14.613Z"
   },
   {
    "duration": 5,
    "start_time": "2022-05-17T06:35:14.650Z"
   },
   {
    "duration": 212,
    "start_time": "2022-05-17T06:35:14.658Z"
   },
   {
    "duration": 29,
    "start_time": "2022-05-17T06:35:14.873Z"
   },
   {
    "duration": 698,
    "start_time": "2022-05-17T06:35:14.904Z"
   },
   {
    "duration": 2473,
    "start_time": "2022-05-17T06:35:15.605Z"
   },
   {
    "duration": 5,
    "start_time": "2022-05-17T06:35:18.081Z"
   },
   {
    "duration": 23,
    "start_time": "2022-05-17T06:35:18.088Z"
   },
   {
    "duration": 30,
    "start_time": "2022-05-17T06:35:18.113Z"
   },
   {
    "duration": 567,
    "start_time": "2022-05-17T06:35:18.145Z"
   },
   {
    "duration": 2567,
    "start_time": "2022-05-17T06:35:18.714Z"
   },
   {
    "duration": 10,
    "start_time": "2022-05-17T06:35:21.286Z"
   },
   {
    "duration": 58,
    "start_time": "2022-05-17T06:35:21.298Z"
   },
   {
    "duration": 749,
    "start_time": "2022-05-17T06:35:21.358Z"
   },
   {
    "duration": 2507,
    "start_time": "2022-05-17T06:35:22.110Z"
   },
   {
    "duration": 12,
    "start_time": "2022-05-17T06:35:24.619Z"
   },
   {
    "duration": 18,
    "start_time": "2022-05-17T06:35:24.633Z"
   },
   {
    "duration": 22,
    "start_time": "2022-05-17T06:35:24.653Z"
   },
   {
    "duration": 12,
    "start_time": "2022-05-17T06:35:24.677Z"
   },
   {
    "duration": 179,
    "start_time": "2022-05-17T06:35:24.691Z"
   },
   {
    "duration": 154,
    "start_time": "2022-05-17T06:35:56.981Z"
   },
   {
    "duration": 8,
    "start_time": "2022-05-17T06:36:00.672Z"
   },
   {
    "duration": 7,
    "start_time": "2022-05-17T06:36:14.666Z"
   },
   {
    "duration": 8,
    "start_time": "2022-05-17T06:37:08.597Z"
   },
   {
    "duration": 7,
    "start_time": "2022-05-17T06:45:12.070Z"
   },
   {
    "duration": 8,
    "start_time": "2022-05-17T06:45:21.338Z"
   },
   {
    "duration": 31,
    "start_time": "2022-05-17T06:49:16.716Z"
   },
   {
    "duration": 2066,
    "start_time": "2022-05-17T06:49:42.708Z"
   },
   {
    "duration": 1152,
    "start_time": "2022-05-17T06:51:52.500Z"
   },
   {
    "duration": 11,
    "start_time": "2022-05-17T07:05:06.671Z"
   },
   {
    "duration": 32,
    "start_time": "2022-05-17T07:05:10.658Z"
   },
   {
    "duration": 10,
    "start_time": "2022-05-17T07:06:03.136Z"
   },
   {
    "duration": 7,
    "start_time": "2022-05-17T07:08:24.404Z"
   },
   {
    "duration": 7,
    "start_time": "2022-05-17T07:09:36.107Z"
   },
   {
    "duration": 6,
    "start_time": "2022-05-17T07:10:17.824Z"
   },
   {
    "duration": 7,
    "start_time": "2022-05-17T07:10:27.161Z"
   },
   {
    "duration": 16949,
    "start_time": "2022-05-17T07:10:44.276Z"
   },
   {
    "duration": 6,
    "start_time": "2022-05-17T07:13:39.603Z"
   },
   {
    "duration": 7,
    "start_time": "2022-05-17T07:13:46.762Z"
   },
   {
    "duration": 1156,
    "start_time": "2022-05-17T07:14:03.478Z"
   },
   {
    "duration": 1230,
    "start_time": "2022-05-17T07:15:21.244Z"
   },
   {
    "duration": 1145,
    "start_time": "2022-05-17T07:15:28.856Z"
   },
   {
    "duration": 2217,
    "start_time": "2022-05-17T07:27:35.238Z"
   },
   {
    "duration": 1296,
    "start_time": "2022-05-17T07:28:23.692Z"
   },
   {
    "duration": 588,
    "start_time": "2022-05-17T07:46:54.640Z"
   },
   {
    "duration": 617,
    "start_time": "2022-05-17T07:48:43.274Z"
   },
   {
    "duration": 1705,
    "start_time": "2022-05-17T07:48:59.473Z"
   },
   {
    "duration": 629,
    "start_time": "2022-05-17T07:49:01.181Z"
   },
   {
    "duration": 4,
    "start_time": "2022-05-17T07:49:01.812Z"
   },
   {
    "duration": 104,
    "start_time": "2022-05-17T07:49:01.818Z"
   },
   {
    "duration": 87,
    "start_time": "2022-05-17T07:49:01.925Z"
   },
   {
    "duration": 75,
    "start_time": "2022-05-17T07:49:02.014Z"
   },
   {
    "duration": 98,
    "start_time": "2022-05-17T07:49:02.092Z"
   },
   {
    "duration": 73,
    "start_time": "2022-05-17T07:49:02.192Z"
   },
   {
    "duration": 15,
    "start_time": "2022-05-17T07:49:02.268Z"
   },
   {
    "duration": 51,
    "start_time": "2022-05-17T07:49:02.285Z"
   },
   {
    "duration": 200,
    "start_time": "2022-05-17T07:49:02.339Z"
   },
   {
    "duration": 92,
    "start_time": "2022-05-17T07:49:02.542Z"
   },
   {
    "duration": 60,
    "start_time": "2022-05-17T07:49:02.637Z"
   },
   {
    "duration": 37,
    "start_time": "2022-05-17T07:49:02.702Z"
   },
   {
    "duration": 54,
    "start_time": "2022-05-17T07:49:02.741Z"
   },
   {
    "duration": 129,
    "start_time": "2022-05-17T07:49:02.798Z"
   },
   {
    "duration": 48,
    "start_time": "2022-05-17T07:49:02.930Z"
   },
   {
    "duration": 5,
    "start_time": "2022-05-17T07:49:02.981Z"
   },
   {
    "duration": 224,
    "start_time": "2022-05-17T07:49:02.989Z"
   },
   {
    "duration": 31,
    "start_time": "2022-05-17T07:49:03.215Z"
   },
   {
    "duration": 767,
    "start_time": "2022-05-17T07:49:03.249Z"
   },
   {
    "duration": 4027,
    "start_time": "2022-05-17T07:49:04.018Z"
   },
   {
    "duration": 18,
    "start_time": "2022-05-17T07:49:08.048Z"
   },
   {
    "duration": 28,
    "start_time": "2022-05-17T07:49:08.069Z"
   },
   {
    "duration": 11,
    "start_time": "2022-05-17T07:49:08.099Z"
   },
   {
    "duration": 661,
    "start_time": "2022-05-17T07:49:08.113Z"
   },
   {
    "duration": 2315,
    "start_time": "2022-05-17T07:49:08.776Z"
   },
   {
    "duration": 9,
    "start_time": "2022-05-17T07:49:11.094Z"
   },
   {
    "duration": 16,
    "start_time": "2022-05-17T07:49:11.106Z"
   },
   {
    "duration": 741,
    "start_time": "2022-05-17T07:49:11.125Z"
   },
   {
    "duration": 2444,
    "start_time": "2022-05-17T07:49:11.871Z"
   },
   {
    "duration": 9,
    "start_time": "2022-05-17T07:49:14.318Z"
   },
   {
    "duration": 57,
    "start_time": "2022-05-17T07:49:14.330Z"
   },
   {
    "duration": 15,
    "start_time": "2022-05-17T07:49:14.390Z"
   },
   {
    "duration": 10,
    "start_time": "2022-05-17T07:49:14.407Z"
   },
   {
    "duration": 1174,
    "start_time": "2022-05-17T07:49:14.419Z"
   },
   {
    "duration": 8,
    "start_time": "2022-05-17T07:49:15.595Z"
   },
   {
    "duration": 15,
    "start_time": "2022-05-17T07:49:15.606Z"
   },
   {
    "duration": 25,
    "start_time": "2022-05-17T07:49:15.623Z"
   },
   {
    "duration": 1185,
    "start_time": "2022-05-17T07:49:15.650Z"
   },
   {
    "duration": 725,
    "start_time": "2022-05-17T07:49:16.841Z"
   },
   {
    "duration": 15,
    "start_time": "2022-05-17T07:53:11.003Z"
   },
   {
    "duration": 8,
    "start_time": "2022-05-17T07:53:35.166Z"
   },
   {
    "duration": 8,
    "start_time": "2022-05-17T07:54:17.993Z"
   },
   {
    "duration": 7,
    "start_time": "2022-05-17T07:55:01.529Z"
   },
   {
    "duration": 7,
    "start_time": "2022-05-17T07:55:47.255Z"
   },
   {
    "duration": 7,
    "start_time": "2022-05-17T07:56:12.818Z"
   },
   {
    "duration": 1946,
    "start_time": "2022-05-17T07:57:14.094Z"
   },
   {
    "duration": 106,
    "start_time": "2022-05-17T08:08:36.757Z"
   },
   {
    "duration": 520,
    "start_time": "2022-05-17T08:14:16.831Z"
   },
   {
    "duration": 31,
    "start_time": "2022-05-17T08:17:46.786Z"
   },
   {
    "duration": 23,
    "start_time": "2022-05-17T08:19:30.183Z"
   },
   {
    "duration": 347,
    "start_time": "2022-05-17T08:19:45.978Z"
   },
   {
    "duration": 530,
    "start_time": "2022-05-17T08:19:46.944Z"
   },
   {
    "duration": 5,
    "start_time": "2022-05-17T08:33:13.474Z"
   },
   {
    "duration": 35,
    "start_time": "2022-05-17T08:35:16.162Z"
   },
   {
    "duration": 78,
    "start_time": "2022-05-17T08:36:01.413Z"
   },
   {
    "duration": 232,
    "start_time": "2022-05-17T08:36:16.539Z"
   },
   {
    "duration": 6,
    "start_time": "2022-05-17T08:38:31.403Z"
   },
   {
    "duration": 409,
    "start_time": "2022-05-17T08:39:11.156Z"
   },
   {
    "duration": 13,
    "start_time": "2022-05-17T08:39:41.505Z"
   },
   {
    "duration": 552,
    "start_time": "2022-05-17T08:39:54.722Z"
   },
   {
    "duration": 8,
    "start_time": "2022-05-17T08:39:59.500Z"
   },
   {
    "duration": 6,
    "start_time": "2022-05-17T08:40:26.869Z"
   },
   {
    "duration": 285,
    "start_time": "2022-05-17T10:58:25.841Z"
   },
   {
    "duration": 428,
    "start_time": "2022-05-17T10:58:47.641Z"
   },
   {
    "duration": 30,
    "start_time": "2022-05-17T10:59:51.671Z"
   },
   {
    "duration": 417,
    "start_time": "2022-05-17T11:00:30.028Z"
   },
   {
    "duration": 389,
    "start_time": "2022-05-17T11:00:48.644Z"
   },
   {
    "duration": 20,
    "start_time": "2022-05-17T11:01:07.780Z"
   },
   {
    "duration": 45,
    "start_time": "2022-05-17T11:01:21.971Z"
   },
   {
    "duration": 45,
    "start_time": "2022-05-17T11:01:43.570Z"
   },
   {
    "duration": 420,
    "start_time": "2022-05-17T11:08:37.580Z"
   },
   {
    "duration": 309,
    "start_time": "2022-05-17T11:08:44.696Z"
   },
   {
    "duration": 337,
    "start_time": "2022-05-17T11:08:50.426Z"
   },
   {
    "duration": 430,
    "start_time": "2022-05-17T11:09:00.062Z"
   },
   {
    "duration": 343,
    "start_time": "2022-05-17T11:09:04.598Z"
   },
   {
    "duration": 25,
    "start_time": "2022-05-17T11:09:13.162Z"
   },
   {
    "duration": 22,
    "start_time": "2022-05-17T11:09:26.964Z"
   },
   {
    "duration": 387,
    "start_time": "2022-05-17T11:09:33.930Z"
   },
   {
    "duration": 44,
    "start_time": "2022-05-17T11:10:23.034Z"
   },
   {
    "duration": 1656,
    "start_time": "2022-05-17T11:55:49.026Z"
   },
   {
    "duration": 494,
    "start_time": "2022-05-17T11:55:50.685Z"
   },
   {
    "duration": 4,
    "start_time": "2022-05-17T11:55:51.181Z"
   },
   {
    "duration": 86,
    "start_time": "2022-05-17T11:55:51.187Z"
   },
   {
    "duration": 92,
    "start_time": "2022-05-17T11:55:51.276Z"
   },
   {
    "duration": 49,
    "start_time": "2022-05-17T11:55:51.371Z"
   },
   {
    "duration": 139,
    "start_time": "2022-05-17T11:55:51.423Z"
   },
   {
    "duration": 64,
    "start_time": "2022-05-17T11:55:51.565Z"
   },
   {
    "duration": 40,
    "start_time": "2022-05-17T11:55:51.632Z"
   },
   {
    "duration": 6,
    "start_time": "2022-05-17T11:55:51.675Z"
   },
   {
    "duration": 303,
    "start_time": "2022-05-17T11:55:51.684Z"
   },
   {
    "duration": 119,
    "start_time": "2022-05-17T11:55:51.990Z"
   },
   {
    "duration": 71,
    "start_time": "2022-05-17T11:55:52.112Z"
   },
   {
    "duration": 69,
    "start_time": "2022-05-17T11:55:52.190Z"
   },
   {
    "duration": 45,
    "start_time": "2022-05-17T11:55:52.262Z"
   },
   {
    "duration": 185,
    "start_time": "2022-05-17T11:55:52.310Z"
   },
   {
    "duration": 30,
    "start_time": "2022-05-17T11:55:52.498Z"
   },
   {
    "duration": 29,
    "start_time": "2022-05-17T11:55:52.531Z"
   },
   {
    "duration": 339,
    "start_time": "2022-05-17T11:55:52.563Z"
   },
   {
    "duration": 55,
    "start_time": "2022-05-17T11:55:52.905Z"
   },
   {
    "duration": 1017,
    "start_time": "2022-05-17T11:55:52.963Z"
   },
   {
    "duration": 4181,
    "start_time": "2022-05-17T11:55:53.984Z"
   },
   {
    "duration": 7,
    "start_time": "2022-05-17T11:55:58.168Z"
   },
   {
    "duration": 13,
    "start_time": "2022-05-17T11:55:58.178Z"
   },
   {
    "duration": 10,
    "start_time": "2022-05-17T11:55:58.195Z"
   },
   {
    "duration": 889,
    "start_time": "2022-05-17T11:55:58.208Z"
   },
   {
    "duration": 2335,
    "start_time": "2022-05-17T11:55:59.100Z"
   },
   {
    "duration": 24,
    "start_time": "2022-05-17T11:56:01.437Z"
   },
   {
    "duration": 9,
    "start_time": "2022-05-17T11:56:01.464Z"
   },
   {
    "duration": 801,
    "start_time": "2022-05-17T11:56:01.476Z"
   },
   {
    "duration": 2370,
    "start_time": "2022-05-17T11:56:02.279Z"
   },
   {
    "duration": 14,
    "start_time": "2022-05-17T11:56:04.651Z"
   },
   {
    "duration": 9,
    "start_time": "2022-05-17T11:56:04.667Z"
   },
   {
    "duration": 13,
    "start_time": "2022-05-17T11:56:04.678Z"
   },
   {
    "duration": 10,
    "start_time": "2022-05-17T11:56:04.694Z"
   },
   {
    "duration": 1136,
    "start_time": "2022-05-17T11:56:04.706Z"
   },
   {
    "duration": 17,
    "start_time": "2022-05-17T11:56:05.845Z"
   },
   {
    "duration": 19,
    "start_time": "2022-05-17T11:56:05.864Z"
   },
   {
    "duration": 17,
    "start_time": "2022-05-17T11:56:05.885Z"
   },
   {
    "duration": 1158,
    "start_time": "2022-05-17T11:56:05.906Z"
   },
   {
    "duration": 16,
    "start_time": "2022-05-17T11:56:07.069Z"
   },
   {
    "duration": 8,
    "start_time": "2022-05-17T11:56:07.087Z"
   },
   {
    "duration": 13,
    "start_time": "2022-05-17T11:56:07.097Z"
   },
   {
    "duration": 1841,
    "start_time": "2022-05-17T11:56:07.112Z"
   },
   {
    "duration": 412,
    "start_time": "2022-05-17T11:56:08.960Z"
   },
   {
    "duration": 1106,
    "start_time": "2022-05-18T08:26:35.212Z"
   },
   {
    "duration": 385,
    "start_time": "2022-05-18T08:26:36.320Z"
   },
   {
    "duration": 3,
    "start_time": "2022-05-18T08:26:36.707Z"
   },
   {
    "duration": 66,
    "start_time": "2022-05-18T08:26:36.711Z"
   },
   {
    "duration": 54,
    "start_time": "2022-05-18T08:26:36.779Z"
   },
   {
    "duration": 53,
    "start_time": "2022-05-18T08:26:36.835Z"
   },
   {
    "duration": 40,
    "start_time": "2022-05-18T08:26:36.889Z"
   },
   {
    "duration": 60,
    "start_time": "2022-05-18T08:26:36.931Z"
   },
   {
    "duration": 8,
    "start_time": "2022-05-18T08:26:36.992Z"
   },
   {
    "duration": 6,
    "start_time": "2022-05-18T08:26:37.002Z"
   },
   {
    "duration": 138,
    "start_time": "2022-05-18T08:26:37.009Z"
   },
   {
    "duration": 64,
    "start_time": "2022-05-18T08:26:37.149Z"
   },
   {
    "duration": 27,
    "start_time": "2022-05-18T08:26:37.214Z"
   },
   {
    "duration": 43,
    "start_time": "2022-05-18T08:26:37.244Z"
   },
   {
    "duration": 21,
    "start_time": "2022-05-18T08:26:37.289Z"
   },
   {
    "duration": 88,
    "start_time": "2022-05-18T08:26:37.311Z"
   },
   {
    "duration": 15,
    "start_time": "2022-05-18T08:26:37.401Z"
   },
   {
    "duration": 5,
    "start_time": "2022-05-18T08:26:37.417Z"
   },
   {
    "duration": 141,
    "start_time": "2022-05-18T08:26:37.424Z"
   },
   {
    "duration": 20,
    "start_time": "2022-05-18T08:26:37.567Z"
   },
   {
    "duration": 480,
    "start_time": "2022-05-18T08:26:37.589Z"
   },
   {
    "duration": 1562,
    "start_time": "2022-05-18T08:26:38.072Z"
   },
   {
    "duration": 4,
    "start_time": "2022-05-18T08:26:39.636Z"
   },
   {
    "duration": 11,
    "start_time": "2022-05-18T08:26:39.641Z"
   },
   {
    "duration": 15,
    "start_time": "2022-05-18T08:26:39.654Z"
   },
   {
    "duration": 346,
    "start_time": "2022-05-18T08:26:39.671Z"
   },
   {
    "duration": 1464,
    "start_time": "2022-05-18T08:26:40.019Z"
   },
   {
    "duration": 7,
    "start_time": "2022-05-18T08:26:41.485Z"
   },
   {
    "duration": 15,
    "start_time": "2022-05-18T08:26:41.494Z"
   },
   {
    "duration": 384,
    "start_time": "2022-05-18T08:26:41.510Z"
   },
   {
    "duration": 1476,
    "start_time": "2022-05-18T08:26:41.896Z"
   },
   {
    "duration": 6,
    "start_time": "2022-05-18T08:26:43.374Z"
   },
   {
    "duration": 10,
    "start_time": "2022-05-18T08:26:43.382Z"
   },
   {
    "duration": 10,
    "start_time": "2022-05-18T08:26:43.393Z"
   },
   {
    "duration": 6,
    "start_time": "2022-05-18T08:26:43.404Z"
   },
   {
    "duration": 743,
    "start_time": "2022-05-18T08:26:43.411Z"
   },
   {
    "duration": 8,
    "start_time": "2022-05-18T08:26:44.156Z"
   },
   {
    "duration": 14,
    "start_time": "2022-05-18T08:26:44.166Z"
   },
   {
    "duration": 8,
    "start_time": "2022-05-18T08:26:44.181Z"
   },
   {
    "duration": 784,
    "start_time": "2022-05-18T08:26:44.191Z"
   },
   {
    "duration": 11,
    "start_time": "2022-05-18T08:26:44.979Z"
   },
   {
    "duration": 31,
    "start_time": "2022-05-18T08:26:44.992Z"
   },
   {
    "duration": 54,
    "start_time": "2022-05-18T08:26:45.025Z"
   },
   {
    "duration": 1202,
    "start_time": "2022-05-18T08:26:45.081Z"
   },
   {
    "duration": 256,
    "start_time": "2022-05-18T08:26:46.285Z"
   },
   {
    "duration": 1152,
    "start_time": "2022-05-18T08:35:35.008Z"
   },
   {
    "duration": 418,
    "start_time": "2022-05-18T08:35:36.162Z"
   },
   {
    "duration": 4,
    "start_time": "2022-05-18T08:35:36.581Z"
   },
   {
    "duration": 90,
    "start_time": "2022-05-18T08:35:36.589Z"
   },
   {
    "duration": 60,
    "start_time": "2022-05-18T08:35:36.681Z"
   },
   {
    "duration": 58,
    "start_time": "2022-05-18T08:35:36.742Z"
   },
   {
    "duration": 66,
    "start_time": "2022-05-18T08:35:36.802Z"
   },
   {
    "duration": 31,
    "start_time": "2022-05-18T08:35:36.870Z"
   },
   {
    "duration": 9,
    "start_time": "2022-05-18T08:35:36.903Z"
   },
   {
    "duration": 13,
    "start_time": "2022-05-18T08:35:36.914Z"
   },
   {
    "duration": 146,
    "start_time": "2022-05-18T08:35:36.929Z"
   },
   {
    "duration": 53,
    "start_time": "2022-05-18T08:35:37.077Z"
   },
   {
    "duration": 45,
    "start_time": "2022-05-18T08:35:37.131Z"
   },
   {
    "duration": 27,
    "start_time": "2022-05-18T08:35:37.180Z"
   },
   {
    "duration": 22,
    "start_time": "2022-05-18T08:35:37.209Z"
   },
   {
    "duration": 100,
    "start_time": "2022-05-18T08:35:37.233Z"
   },
   {
    "duration": 14,
    "start_time": "2022-05-18T08:35:37.335Z"
   },
   {
    "duration": 7,
    "start_time": "2022-05-18T08:35:37.377Z"
   },
   {
    "duration": 157,
    "start_time": "2022-05-18T08:35:37.387Z"
   },
   {
    "duration": 24,
    "start_time": "2022-05-18T08:35:37.546Z"
   },
   {
    "duration": 528,
    "start_time": "2022-05-18T08:35:37.572Z"
   },
   {
    "duration": 1697,
    "start_time": "2022-05-18T08:35:38.102Z"
   },
   {
    "duration": 4,
    "start_time": "2022-05-18T08:35:39.801Z"
   },
   {
    "duration": 21,
    "start_time": "2022-05-18T08:35:39.806Z"
   },
   {
    "duration": 24,
    "start_time": "2022-05-18T08:35:39.829Z"
   },
   {
    "duration": 371,
    "start_time": "2022-05-18T08:35:39.854Z"
   },
   {
    "duration": 1559,
    "start_time": "2022-05-18T08:35:40.228Z"
   },
   {
    "duration": 8,
    "start_time": "2022-05-18T08:35:41.789Z"
   },
   {
    "duration": 32,
    "start_time": "2022-05-18T08:35:41.799Z"
   },
   {
    "duration": 393,
    "start_time": "2022-05-18T08:35:41.834Z"
   },
   {
    "duration": 1563,
    "start_time": "2022-05-18T08:35:42.229Z"
   },
   {
    "duration": 7,
    "start_time": "2022-05-18T08:35:43.793Z"
   },
   {
    "duration": 9,
    "start_time": "2022-05-18T08:35:43.802Z"
   },
   {
    "duration": 8,
    "start_time": "2022-05-18T08:35:43.815Z"
   },
   {
    "duration": 8,
    "start_time": "2022-05-18T08:35:43.825Z"
   },
   {
    "duration": 729,
    "start_time": "2022-05-18T08:35:43.835Z"
   },
   {
    "duration": 6,
    "start_time": "2022-05-18T08:35:44.566Z"
   },
   {
    "duration": 7,
    "start_time": "2022-05-18T08:35:44.574Z"
   },
   {
    "duration": 6,
    "start_time": "2022-05-18T08:35:44.583Z"
   },
   {
    "duration": 830,
    "start_time": "2022-05-18T08:35:44.591Z"
   },
   {
    "duration": 11,
    "start_time": "2022-05-18T08:35:45.425Z"
   },
   {
    "duration": 5,
    "start_time": "2022-05-18T08:35:45.438Z"
   },
   {
    "duration": 6,
    "start_time": "2022-05-18T08:35:45.464Z"
   },
   {
    "duration": 1213,
    "start_time": "2022-05-18T08:35:45.472Z"
   },
   {
    "duration": 261,
    "start_time": "2022-05-18T08:35:46.687Z"
   },
   {
    "duration": 1326,
    "start_time": "2022-05-18T08:48:02.655Z"
   },
   {
    "duration": 1377,
    "start_time": "2022-05-18T08:48:03.984Z"
   },
   {
    "duration": 3,
    "start_time": "2022-05-18T08:48:05.364Z"
   },
   {
    "duration": 79,
    "start_time": "2022-05-18T08:48:05.368Z"
   },
   {
    "duration": 54,
    "start_time": "2022-05-18T08:48:05.449Z"
   },
   {
    "duration": 31,
    "start_time": "2022-05-18T08:48:05.505Z"
   },
   {
    "duration": 66,
    "start_time": "2022-05-18T08:48:05.538Z"
   },
   {
    "duration": 36,
    "start_time": "2022-05-18T08:48:05.605Z"
   },
   {
    "duration": 9,
    "start_time": "2022-05-18T08:48:20.673Z"
   },
   {
    "duration": 11,
    "start_time": "2022-05-18T08:48:28.902Z"
   },
   {
    "duration": 3,
    "start_time": "2022-05-18T08:49:30.013Z"
   },
   {
    "duration": 409,
    "start_time": "2022-05-18T08:49:30.018Z"
   },
   {
    "duration": 3,
    "start_time": "2022-05-18T08:49:48.071Z"
   },
   {
    "duration": 423,
    "start_time": "2022-05-18T08:49:48.075Z"
   },
   {
    "duration": 3,
    "start_time": "2022-05-18T08:49:48.499Z"
   },
   {
    "duration": 55,
    "start_time": "2022-05-18T08:49:48.503Z"
   },
   {
    "duration": 44,
    "start_time": "2022-05-18T08:49:48.559Z"
   },
   {
    "duration": 31,
    "start_time": "2022-05-18T08:49:48.604Z"
   },
   {
    "duration": 60,
    "start_time": "2022-05-18T08:49:48.637Z"
   },
   {
    "duration": 26,
    "start_time": "2022-05-18T08:49:48.698Z"
   },
   {
    "duration": 1060,
    "start_time": "2022-05-18T08:50:01.922Z"
   },
   {
    "duration": 390,
    "start_time": "2022-05-18T08:50:02.984Z"
   },
   {
    "duration": 4,
    "start_time": "2022-05-18T08:50:03.375Z"
   },
   {
    "duration": 58,
    "start_time": "2022-05-18T08:50:03.380Z"
   },
   {
    "duration": 56,
    "start_time": "2022-05-18T08:50:03.439Z"
   },
   {
    "duration": 31,
    "start_time": "2022-05-18T08:50:03.497Z"
   },
   {
    "duration": 63,
    "start_time": "2022-05-18T08:50:03.530Z"
   },
   {
    "duration": 26,
    "start_time": "2022-05-18T08:50:03.595Z"
   },
   {
    "duration": 3,
    "start_time": "2022-05-18T08:50:03.623Z"
   },
   {
    "duration": 131,
    "start_time": "2022-05-18T08:50:03.628Z"
   },
   {
    "duration": 52,
    "start_time": "2022-05-18T08:50:03.761Z"
   },
   {
    "duration": 26,
    "start_time": "2022-05-18T08:50:03.814Z"
   },
   {
    "duration": 34,
    "start_time": "2022-05-18T08:50:03.841Z"
   },
   {
    "duration": 19,
    "start_time": "2022-05-18T08:50:03.877Z"
   },
   {
    "duration": 78,
    "start_time": "2022-05-18T08:50:03.897Z"
   },
   {
    "duration": 12,
    "start_time": "2022-05-18T08:50:03.977Z"
   },
   {
    "duration": 4,
    "start_time": "2022-05-18T08:50:03.990Z"
   },
   {
    "duration": 124,
    "start_time": "2022-05-18T08:50:03.995Z"
   },
   {
    "duration": 18,
    "start_time": "2022-05-18T08:50:04.120Z"
   },
   {
    "duration": 428,
    "start_time": "2022-05-18T08:50:04.139Z"
   },
   {
    "duration": 1346,
    "start_time": "2022-05-18T08:50:04.569Z"
   },
   {
    "duration": 3,
    "start_time": "2022-05-18T08:50:05.916Z"
   },
   {
    "duration": 37,
    "start_time": "2022-05-18T08:50:05.921Z"
   },
   {
    "duration": 31,
    "start_time": "2022-05-18T08:50:05.960Z"
   },
   {
    "duration": 357,
    "start_time": "2022-05-18T08:50:05.993Z"
   },
   {
    "duration": 1473,
    "start_time": "2022-05-18T08:50:06.351Z"
   },
   {
    "duration": 7,
    "start_time": "2022-05-18T08:50:07.826Z"
   },
   {
    "duration": 6,
    "start_time": "2022-05-18T08:50:07.836Z"
   },
   {
    "duration": 393,
    "start_time": "2022-05-18T08:50:07.844Z"
   },
   {
    "duration": 1435,
    "start_time": "2022-05-18T08:50:08.239Z"
   },
   {
    "duration": 6,
    "start_time": "2022-05-18T08:50:09.676Z"
   },
   {
    "duration": 10,
    "start_time": "2022-05-18T08:50:09.684Z"
   },
   {
    "duration": 9,
    "start_time": "2022-05-18T08:50:09.695Z"
   },
   {
    "duration": 7,
    "start_time": "2022-05-18T08:50:09.706Z"
   },
   {
    "duration": 674,
    "start_time": "2022-05-18T08:50:09.714Z"
   },
   {
    "duration": 6,
    "start_time": "2022-05-18T08:50:10.390Z"
   },
   {
    "duration": 9,
    "start_time": "2022-05-18T08:50:10.397Z"
   },
   {
    "duration": 5,
    "start_time": "2022-05-18T08:50:10.407Z"
   },
   {
    "duration": 723,
    "start_time": "2022-05-18T08:50:10.414Z"
   },
   {
    "duration": 12,
    "start_time": "2022-05-18T08:50:11.139Z"
   },
   {
    "duration": 5,
    "start_time": "2022-05-18T08:50:11.152Z"
   },
   {
    "duration": 7,
    "start_time": "2022-05-18T08:50:11.159Z"
   },
   {
    "duration": 1031,
    "start_time": "2022-05-18T08:50:11.167Z"
   },
   {
    "duration": 244,
    "start_time": "2022-05-18T08:50:12.200Z"
   },
   {
    "duration": 3,
    "start_time": "2022-05-18T08:50:57.273Z"
   },
   {
    "duration": 3,
    "start_time": "2022-05-18T08:52:41.425Z"
   },
   {
    "duration": 478,
    "start_time": "2022-05-18T08:52:41.430Z"
   },
   {
    "duration": 3,
    "start_time": "2022-05-18T08:52:41.909Z"
   },
   {
    "duration": 60,
    "start_time": "2022-05-18T08:52:41.914Z"
   },
   {
    "duration": 45,
    "start_time": "2022-05-18T08:52:41.976Z"
   },
   {
    "duration": 57,
    "start_time": "2022-05-18T08:52:42.022Z"
   },
   {
    "duration": 37,
    "start_time": "2022-05-18T08:52:42.081Z"
   },
   {
    "duration": 62,
    "start_time": "2022-05-18T08:52:42.119Z"
   },
   {
    "duration": 3,
    "start_time": "2022-05-18T08:52:42.184Z"
   },
   {
    "duration": 102,
    "start_time": "2022-05-18T08:52:44.657Z"
   },
   {
    "duration": 12,
    "start_time": "2022-05-18T08:52:53.146Z"
   },
   {
    "duration": 45,
    "start_time": "2022-05-18T08:55:52.078Z"
   },
   {
    "duration": 29,
    "start_time": "2022-05-18T08:56:08.813Z"
   },
   {
    "duration": 37,
    "start_time": "2022-05-18T09:59:30.987Z"
   },
   {
    "duration": 1088,
    "start_time": "2022-05-18T10:00:09.923Z"
   },
   {
    "duration": 415,
    "start_time": "2022-05-18T10:00:11.013Z"
   },
   {
    "duration": 3,
    "start_time": "2022-05-18T10:00:11.429Z"
   },
   {
    "duration": 63,
    "start_time": "2022-05-18T10:00:11.435Z"
   },
   {
    "duration": 46,
    "start_time": "2022-05-18T10:00:11.500Z"
   },
   {
    "duration": 56,
    "start_time": "2022-05-18T10:00:11.547Z"
   },
   {
    "duration": 41,
    "start_time": "2022-05-18T10:00:11.605Z"
   },
   {
    "duration": 40,
    "start_time": "2022-05-18T10:00:11.674Z"
   },
   {
    "duration": 4,
    "start_time": "2022-05-18T10:00:11.716Z"
   },
   {
    "duration": 153,
    "start_time": "2022-05-18T10:00:11.724Z"
   },
   {
    "duration": 57,
    "start_time": "2022-05-18T10:00:11.879Z"
   },
   {
    "duration": 62,
    "start_time": "2022-05-18T10:00:11.938Z"
   },
   {
    "duration": 32,
    "start_time": "2022-05-18T10:00:12.003Z"
   },
   {
    "duration": 39,
    "start_time": "2022-05-18T10:00:12.036Z"
   },
   {
    "duration": 70,
    "start_time": "2022-05-18T10:00:12.077Z"
   },
   {
    "duration": 35,
    "start_time": "2022-05-18T10:00:12.149Z"
   },
   {
    "duration": 5,
    "start_time": "2022-05-18T10:00:12.186Z"
   },
   {
    "duration": 163,
    "start_time": "2022-05-18T10:00:12.193Z"
   },
   {
    "duration": 27,
    "start_time": "2022-05-18T10:00:12.358Z"
   },
   {
    "duration": 546,
    "start_time": "2022-05-18T10:00:12.388Z"
   },
   {
    "duration": 1650,
    "start_time": "2022-05-18T10:00:12.936Z"
   },
   {
    "duration": 5,
    "start_time": "2022-05-18T10:00:14.587Z"
   },
   {
    "duration": 9,
    "start_time": "2022-05-18T10:00:14.593Z"
   },
   {
    "duration": 6,
    "start_time": "2022-05-18T10:00:14.604Z"
   },
   {
    "duration": 349,
    "start_time": "2022-05-18T10:00:14.611Z"
   },
   {
    "duration": 1558,
    "start_time": "2022-05-18T10:00:14.961Z"
   },
   {
    "duration": 7,
    "start_time": "2022-05-18T10:00:16.521Z"
   },
   {
    "duration": 11,
    "start_time": "2022-05-18T10:00:16.530Z"
   },
   {
    "duration": 409,
    "start_time": "2022-05-18T10:00:16.543Z"
   },
   {
    "duration": 1515,
    "start_time": "2022-05-18T10:00:16.954Z"
   },
   {
    "duration": 8,
    "start_time": "2022-05-18T10:00:18.471Z"
   },
   {
    "duration": 9,
    "start_time": "2022-05-18T10:00:18.481Z"
   },
   {
    "duration": 6,
    "start_time": "2022-05-18T10:00:18.492Z"
   },
   {
    "duration": 8,
    "start_time": "2022-05-18T10:00:18.500Z"
   },
   {
    "duration": 1078,
    "start_time": "2022-05-18T10:00:18.510Z"
   },
   {
    "duration": 9,
    "start_time": "2022-05-18T10:00:19.589Z"
   },
   {
    "duration": 6,
    "start_time": "2022-05-18T10:00:19.600Z"
   },
   {
    "duration": 6,
    "start_time": "2022-05-18T10:00:19.607Z"
   },
   {
    "duration": 791,
    "start_time": "2022-05-18T10:00:19.614Z"
   },
   {
    "duration": 11,
    "start_time": "2022-05-18T10:00:20.407Z"
   },
   {
    "duration": 7,
    "start_time": "2022-05-18T10:00:20.420Z"
   },
   {
    "duration": 8,
    "start_time": "2022-05-18T10:00:20.428Z"
   },
   {
    "duration": 1165,
    "start_time": "2022-05-18T10:00:20.438Z"
   },
   {
    "duration": 277,
    "start_time": "2022-05-18T10:00:21.605Z"
   },
   {
    "duration": 1210,
    "start_time": "2022-05-19T07:04:05.729Z"
   },
   {
    "duration": 429,
    "start_time": "2022-05-19T07:04:06.941Z"
   },
   {
    "duration": 3,
    "start_time": "2022-05-19T07:04:07.372Z"
   },
   {
    "duration": 68,
    "start_time": "2022-05-19T07:04:07.377Z"
   },
   {
    "duration": 60,
    "start_time": "2022-05-19T07:04:07.446Z"
   },
   {
    "duration": 36,
    "start_time": "2022-05-19T07:04:07.508Z"
   },
   {
    "duration": 70,
    "start_time": "2022-05-19T07:04:07.546Z"
   },
   {
    "duration": 32,
    "start_time": "2022-05-19T07:04:07.618Z"
   },
   {
    "duration": 32,
    "start_time": "2022-05-19T07:04:07.652Z"
   },
   {
    "duration": 129,
    "start_time": "2022-05-19T07:04:07.687Z"
   },
   {
    "duration": 77,
    "start_time": "2022-05-19T07:04:07.817Z"
   },
   {
    "duration": 48,
    "start_time": "2022-05-19T07:04:07.896Z"
   },
   {
    "duration": 69,
    "start_time": "2022-05-19T07:04:07.946Z"
   },
   {
    "duration": 29,
    "start_time": "2022-05-19T07:04:08.018Z"
   },
   {
    "duration": 101,
    "start_time": "2022-05-19T07:04:08.050Z"
   },
   {
    "duration": 16,
    "start_time": "2022-05-19T07:04:08.153Z"
   },
   {
    "duration": 14,
    "start_time": "2022-05-19T07:04:08.184Z"
   },
   {
    "duration": 151,
    "start_time": "2022-05-19T07:04:08.200Z"
   },
   {
    "duration": 19,
    "start_time": "2022-05-19T07:04:08.353Z"
   },
   {
    "duration": 457,
    "start_time": "2022-05-19T07:04:08.373Z"
   },
   {
    "duration": 1611,
    "start_time": "2022-05-19T07:04:08.832Z"
   },
   {
    "duration": 4,
    "start_time": "2022-05-19T07:04:10.445Z"
   },
   {
    "duration": 14,
    "start_time": "2022-05-19T07:04:10.450Z"
   },
   {
    "duration": 18,
    "start_time": "2022-05-19T07:04:10.465Z"
   },
   {
    "duration": 361,
    "start_time": "2022-05-19T07:04:10.485Z"
   },
   {
    "duration": 1487,
    "start_time": "2022-05-19T07:04:10.848Z"
   },
   {
    "duration": 6,
    "start_time": "2022-05-19T07:04:12.337Z"
   },
   {
    "duration": 7,
    "start_time": "2022-05-19T07:04:12.346Z"
   },
   {
    "duration": 389,
    "start_time": "2022-05-19T07:04:12.355Z"
   },
   {
    "duration": 1468,
    "start_time": "2022-05-19T07:04:12.746Z"
   },
   {
    "duration": 10,
    "start_time": "2022-05-19T07:04:14.216Z"
   },
   {
    "duration": 7,
    "start_time": "2022-05-19T07:04:14.228Z"
   },
   {
    "duration": 6,
    "start_time": "2022-05-19T07:04:14.237Z"
   },
   {
    "duration": 6,
    "start_time": "2022-05-19T07:04:14.244Z"
   },
   {
    "duration": 990,
    "start_time": "2022-05-19T07:04:14.252Z"
   },
   {
    "duration": 6,
    "start_time": "2022-05-19T07:04:15.244Z"
   },
   {
    "duration": 25,
    "start_time": "2022-05-19T07:04:15.252Z"
   },
   {
    "duration": 15,
    "start_time": "2022-05-19T07:04:15.278Z"
   },
   {
    "duration": 739,
    "start_time": "2022-05-19T07:04:15.296Z"
   },
   {
    "duration": 12,
    "start_time": "2022-05-19T07:04:16.037Z"
   },
   {
    "duration": 6,
    "start_time": "2022-05-19T07:04:16.050Z"
   },
   {
    "duration": 26,
    "start_time": "2022-05-19T07:04:16.058Z"
   },
   {
    "duration": 1231,
    "start_time": "2022-05-19T07:04:16.086Z"
   },
   {
    "duration": 294,
    "start_time": "2022-05-19T07:04:17.319Z"
   },
   {
    "duration": 1270,
    "start_time": "2022-05-19T07:05:23.842Z"
   },
   {
    "duration": 494,
    "start_time": "2022-05-19T07:05:25.115Z"
   },
   {
    "duration": 4,
    "start_time": "2022-05-19T07:05:25.612Z"
   },
   {
    "duration": 99,
    "start_time": "2022-05-19T07:05:25.619Z"
   },
   {
    "duration": 69,
    "start_time": "2022-05-19T07:05:25.724Z"
   },
   {
    "duration": 47,
    "start_time": "2022-05-19T07:05:25.795Z"
   },
   {
    "duration": 70,
    "start_time": "2022-05-19T07:05:25.844Z"
   },
   {
    "duration": 36,
    "start_time": "2022-05-19T07:05:25.915Z"
   },
   {
    "duration": 31,
    "start_time": "2022-05-19T07:05:25.953Z"
   },
   {
    "duration": 124,
    "start_time": "2022-05-19T07:05:25.986Z"
   },
   {
    "duration": 55,
    "start_time": "2022-05-19T07:05:26.112Z"
   },
   {
    "duration": 45,
    "start_time": "2022-05-19T07:05:26.169Z"
   },
   {
    "duration": 41,
    "start_time": "2022-05-19T07:05:26.216Z"
   },
   {
    "duration": 40,
    "start_time": "2022-05-19T07:05:26.259Z"
   },
   {
    "duration": 85,
    "start_time": "2022-05-19T07:05:26.301Z"
   },
   {
    "duration": 18,
    "start_time": "2022-05-19T07:05:26.389Z"
   },
   {
    "duration": 5,
    "start_time": "2022-05-19T07:05:26.409Z"
   },
   {
    "duration": 154,
    "start_time": "2022-05-19T07:05:26.416Z"
   },
   {
    "duration": 36,
    "start_time": "2022-05-19T07:05:26.572Z"
   },
   {
    "duration": 605,
    "start_time": "2022-05-19T07:05:26.611Z"
   },
   {
    "duration": 1689,
    "start_time": "2022-05-19T07:05:27.218Z"
   },
   {
    "duration": 4,
    "start_time": "2022-05-19T07:05:28.909Z"
   },
   {
    "duration": 10,
    "start_time": "2022-05-19T07:05:28.915Z"
   },
   {
    "duration": 8,
    "start_time": "2022-05-19T07:05:28.927Z"
   },
   {
    "duration": 334,
    "start_time": "2022-05-19T07:05:28.937Z"
   },
   {
    "duration": 1542,
    "start_time": "2022-05-19T07:05:29.272Z"
   },
   {
    "duration": 26,
    "start_time": "2022-05-19T07:05:30.818Z"
   },
   {
    "duration": 14,
    "start_time": "2022-05-19T07:05:30.848Z"
   },
   {
    "duration": 402,
    "start_time": "2022-05-19T07:05:30.863Z"
   },
   {
    "duration": 1588,
    "start_time": "2022-05-19T07:05:31.267Z"
   },
   {
    "duration": 8,
    "start_time": "2022-05-19T07:05:32.857Z"
   },
   {
    "duration": 21,
    "start_time": "2022-05-19T07:05:32.867Z"
   },
   {
    "duration": 7,
    "start_time": "2022-05-19T07:05:32.891Z"
   },
   {
    "duration": 6,
    "start_time": "2022-05-19T07:05:32.900Z"
   },
   {
    "duration": 964,
    "start_time": "2022-05-19T07:05:32.908Z"
   },
   {
    "duration": 16,
    "start_time": "2022-05-19T07:05:33.874Z"
   },
   {
    "duration": 8,
    "start_time": "2022-05-19T07:05:33.892Z"
   },
   {
    "duration": 6,
    "start_time": "2022-05-19T07:05:33.903Z"
   },
   {
    "duration": 803,
    "start_time": "2022-05-19T07:05:33.911Z"
   },
   {
    "duration": 13,
    "start_time": "2022-05-19T07:05:34.716Z"
   },
   {
    "duration": 5,
    "start_time": "2022-05-19T07:05:34.731Z"
   },
   {
    "duration": 8,
    "start_time": "2022-05-19T07:05:34.738Z"
   },
   {
    "duration": 1205,
    "start_time": "2022-05-19T07:05:34.748Z"
   },
   {
    "duration": 273,
    "start_time": "2022-05-19T07:05:35.954Z"
   },
   {
    "duration": 1368,
    "start_time": "2022-05-19T08:45:26.859Z"
   },
   {
    "duration": 1319,
    "start_time": "2022-05-19T08:45:28.229Z"
   },
   {
    "duration": 4,
    "start_time": "2022-05-19T08:45:29.550Z"
   },
   {
    "duration": 75,
    "start_time": "2022-05-19T08:45:29.556Z"
   },
   {
    "duration": 66,
    "start_time": "2022-05-19T08:45:29.632Z"
   },
   {
    "duration": 52,
    "start_time": "2022-05-19T08:45:29.700Z"
   },
   {
    "duration": 75,
    "start_time": "2022-05-19T08:45:29.753Z"
   },
   {
    "duration": 62,
    "start_time": "2022-05-19T08:45:29.830Z"
   },
   {
    "duration": 4,
    "start_time": "2022-05-19T08:45:29.894Z"
   },
   {
    "duration": 135,
    "start_time": "2022-05-19T08:45:29.901Z"
   },
   {
    "duration": 63,
    "start_time": "2022-05-19T08:45:30.038Z"
   },
   {
    "duration": 34,
    "start_time": "2022-05-19T08:45:30.102Z"
   },
   {
    "duration": 49,
    "start_time": "2022-05-19T08:45:30.138Z"
   },
   {
    "duration": 20,
    "start_time": "2022-05-19T08:45:30.189Z"
   },
   {
    "duration": 86,
    "start_time": "2022-05-19T08:45:30.211Z"
   },
   {
    "duration": 14,
    "start_time": "2022-05-19T08:45:30.299Z"
   },
   {
    "duration": 31,
    "start_time": "2022-05-19T08:45:30.315Z"
   },
   {
    "duration": 156,
    "start_time": "2022-05-19T08:45:30.348Z"
   },
   {
    "duration": 21,
    "start_time": "2022-05-19T08:45:30.506Z"
   },
   {
    "duration": 518,
    "start_time": "2022-05-19T08:45:30.529Z"
   },
   {
    "duration": 1609,
    "start_time": "2022-05-19T08:49:38.257Z"
   },
   {
    "duration": 1527,
    "start_time": "2022-05-19T08:51:24.724Z"
   },
   {
    "duration": 79,
    "start_time": "2022-05-19T08:56:00.570Z"
   },
   {
    "duration": 86,
    "start_time": "2022-05-19T08:57:10.075Z"
   },
   {
    "duration": 12,
    "start_time": "2022-05-19T08:59:03.521Z"
   },
   {
    "duration": 3,
    "start_time": "2022-05-19T08:59:13.963Z"
   },
   {
    "duration": 421,
    "start_time": "2022-05-19T08:59:13.968Z"
   },
   {
    "duration": 3,
    "start_time": "2022-05-19T08:59:14.390Z"
   },
   {
    "duration": 57,
    "start_time": "2022-05-19T08:59:14.396Z"
   },
   {
    "duration": 67,
    "start_time": "2022-05-19T08:59:14.455Z"
   },
   {
    "duration": 61,
    "start_time": "2022-05-19T08:59:14.523Z"
   },
   {
    "duration": 40,
    "start_time": "2022-05-19T08:59:14.586Z"
   },
   {
    "duration": 57,
    "start_time": "2022-05-19T08:59:14.628Z"
   },
   {
    "duration": 4,
    "start_time": "2022-05-19T08:59:14.687Z"
   },
   {
    "duration": 15,
    "start_time": "2022-05-19T08:59:17.834Z"
   },
   {
    "duration": 733,
    "start_time": "2022-05-19T09:00:10.166Z"
   },
   {
    "duration": 12,
    "start_time": "2022-05-19T09:00:52.269Z"
   },
   {
    "duration": 29,
    "start_time": "2022-05-19T09:02:28.664Z"
   },
   {
    "duration": 155,
    "start_time": "2022-05-19T09:02:36.808Z"
   },
   {
    "duration": 2,
    "start_time": "2022-05-19T09:03:24.347Z"
   },
   {
    "duration": 433,
    "start_time": "2022-05-19T09:03:24.351Z"
   },
   {
    "duration": 3,
    "start_time": "2022-05-19T09:03:24.786Z"
   },
   {
    "duration": 67,
    "start_time": "2022-05-19T09:03:24.790Z"
   },
   {
    "duration": 55,
    "start_time": "2022-05-19T09:03:24.859Z"
   },
   {
    "duration": 40,
    "start_time": "2022-05-19T09:03:24.916Z"
   },
   {
    "duration": 81,
    "start_time": "2022-05-19T09:03:24.958Z"
   },
   {
    "duration": 54,
    "start_time": "2022-05-19T09:03:25.041Z"
   },
   {
    "duration": 4,
    "start_time": "2022-05-19T09:03:25.096Z"
   },
   {
    "duration": 128,
    "start_time": "2022-05-19T09:03:25.101Z"
   },
   {
    "duration": 55,
    "start_time": "2022-05-19T09:03:25.231Z"
   },
   {
    "duration": 28,
    "start_time": "2022-05-19T09:03:25.287Z"
   },
   {
    "duration": 27,
    "start_time": "2022-05-19T09:03:25.317Z"
   },
   {
    "duration": 45,
    "start_time": "2022-05-19T09:03:25.346Z"
   },
   {
    "duration": 66,
    "start_time": "2022-05-19T09:03:25.393Z"
   },
   {
    "duration": 32,
    "start_time": "2022-05-19T09:03:25.460Z"
   },
   {
    "duration": 4,
    "start_time": "2022-05-19T09:03:25.494Z"
   },
   {
    "duration": 112,
    "start_time": "2022-05-19T09:03:25.499Z"
   },
   {
    "duration": 20,
    "start_time": "2022-05-19T09:03:25.613Z"
   },
   {
    "duration": 404,
    "start_time": "2022-05-19T09:03:25.635Z"
   },
   {
    "duration": 1477,
    "start_time": "2022-05-19T09:03:36.221Z"
   },
   {
    "duration": 1441,
    "start_time": "2022-05-19T09:05:37.721Z"
   },
   {
    "duration": 569,
    "start_time": "2022-05-19T09:05:39.164Z"
   },
   {
    "duration": 3,
    "start_time": "2022-05-19T09:05:39.735Z"
   },
   {
    "duration": 93,
    "start_time": "2022-05-19T09:05:39.741Z"
   },
   {
    "duration": 58,
    "start_time": "2022-05-19T09:05:39.836Z"
   },
   {
    "duration": 50,
    "start_time": "2022-05-19T09:05:39.897Z"
   },
   {
    "duration": 75,
    "start_time": "2022-05-19T09:05:39.949Z"
   },
   {
    "duration": 64,
    "start_time": "2022-05-19T09:05:40.026Z"
   },
   {
    "duration": 9,
    "start_time": "2022-05-19T09:05:40.092Z"
   },
   {
    "duration": 194,
    "start_time": "2022-05-19T09:05:40.104Z"
   },
   {
    "duration": 85,
    "start_time": "2022-05-19T09:05:40.301Z"
   },
   {
    "duration": 44,
    "start_time": "2022-05-19T09:05:40.388Z"
   },
   {
    "duration": 51,
    "start_time": "2022-05-19T09:05:40.434Z"
   },
   {
    "duration": 26,
    "start_time": "2022-05-19T09:05:40.487Z"
   },
   {
    "duration": 124,
    "start_time": "2022-05-19T09:05:40.515Z"
   },
   {
    "duration": 21,
    "start_time": "2022-05-19T09:05:40.642Z"
   },
   {
    "duration": 4,
    "start_time": "2022-05-19T09:05:40.683Z"
   },
   {
    "duration": 180,
    "start_time": "2022-05-19T09:05:40.689Z"
   },
   {
    "duration": 36,
    "start_time": "2022-05-19T09:05:40.871Z"
   },
   {
    "duration": 651,
    "start_time": "2022-05-19T09:05:40.909Z"
   },
   {
    "duration": 2006,
    "start_time": "2022-05-19T09:05:41.562Z"
   },
   {
    "duration": 5,
    "start_time": "2022-05-19T09:05:43.572Z"
   },
   {
    "duration": 15,
    "start_time": "2022-05-19T09:05:43.578Z"
   },
   {
    "duration": 9,
    "start_time": "2022-05-19T09:05:43.594Z"
   },
   {
    "duration": 494,
    "start_time": "2022-05-19T09:05:43.605Z"
   },
   {
    "duration": 1984,
    "start_time": "2022-05-19T09:05:44.101Z"
   },
   {
    "duration": 13,
    "start_time": "2022-05-19T09:05:46.087Z"
   },
   {
    "duration": 8,
    "start_time": "2022-05-19T09:05:46.104Z"
   },
   {
    "duration": 556,
    "start_time": "2022-05-19T09:05:46.113Z"
   },
   {
    "duration": 1896,
    "start_time": "2022-05-19T09:05:46.672Z"
   },
   {
    "duration": 17,
    "start_time": "2022-05-19T09:05:48.571Z"
   },
   {
    "duration": 10,
    "start_time": "2022-05-19T09:05:48.590Z"
   },
   {
    "duration": 7,
    "start_time": "2022-05-19T09:05:48.603Z"
   },
   {
    "duration": 6,
    "start_time": "2022-05-19T09:05:48.613Z"
   },
   {
    "duration": 721,
    "start_time": "2022-05-19T09:05:48.622Z"
   },
   {
    "duration": 7,
    "start_time": "2022-05-19T09:05:49.345Z"
   },
   {
    "duration": 7,
    "start_time": "2022-05-19T09:05:49.354Z"
   },
   {
    "duration": 24,
    "start_time": "2022-05-19T09:05:49.363Z"
   },
   {
    "duration": 852,
    "start_time": "2022-05-19T09:05:49.389Z"
   },
   {
    "duration": 12,
    "start_time": "2022-05-19T09:05:50.244Z"
   },
   {
    "duration": 8,
    "start_time": "2022-05-19T09:05:50.258Z"
   },
   {
    "duration": 8,
    "start_time": "2022-05-19T09:05:50.268Z"
   },
   {
    "duration": 1144,
    "start_time": "2022-05-19T09:05:50.278Z"
   },
   {
    "duration": 288,
    "start_time": "2022-05-19T09:05:51.424Z"
   }
  ],
  "kernelspec": {
   "display_name": "Python 3 (ipykernel)",
   "language": "python",
   "name": "python3"
  },
  "language_info": {
   "codemirror_mode": {
    "name": "ipython",
    "version": 3
   },
   "file_extension": ".py",
   "mimetype": "text/x-python",
   "name": "python",
   "nbconvert_exporter": "python",
   "pygments_lexer": "ipython3",
   "version": "3.9.7"
  },
  "toc": {
   "base_numbering": 1,
   "nav_menu": {},
   "number_sections": true,
   "sideBar": true,
   "skip_h1_title": true,
   "title_cell": "Оглавление",
   "title_sidebar": "Contents",
   "toc_cell": true,
   "toc_position": {},
   "toc_section_display": true,
   "toc_window_display": true
  }
 },
 "nbformat": 4,
 "nbformat_minor": 2
}
