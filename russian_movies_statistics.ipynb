{
 "cells": [
  {
   "cell_type": "markdown",
   "metadata": {
    "toc": true
   },
   "source": [
    "<h1>Оглавление<span class=\"tocSkip\"></span></h1>\n",
    "<div class=\"toc\"><ul class=\"toc-item\"><li><span><a href=\"#Описание-проекта\" data-toc-modified-id=\"Описание-проекта-1\"><span class=\"toc-item-num\">1&nbsp;&nbsp;</span>Описание проекта</a></span></li><li><span><a href=\"#Исследование-данных-о-российском-кинопрокате\" data-toc-modified-id=\"Исследование-данных-о-российском-кинопрокате-2\"><span class=\"toc-item-num\">2&nbsp;&nbsp;</span>Исследование данных о российском кинопрокате</a></span><ul class=\"toc-item\"><li><span><a href=\"#Объединение-файлов-с-данными-в-один-датафрейм.\" data-toc-modified-id=\"Объединение-файлов-с-данными-в-один-датафрейм.-2.1\"><span class=\"toc-item-num\">2.1&nbsp;&nbsp;</span>Объединение файлов с данными в один датафрейм.</a></span></li><li><span><a href=\"#Предобработка-данных\" data-toc-modified-id=\"Предобработка-данных-2.2\"><span class=\"toc-item-num\">2.2&nbsp;&nbsp;</span>Предобработка данных</a></span><ul class=\"toc-item\"><li><span><a href=\"#Проверка-типов-данных\" data-toc-modified-id=\"Проверка-типов-данных-2.2.1\"><span class=\"toc-item-num\">2.2.1&nbsp;&nbsp;</span>Проверка типов данных</a></span></li><li><span><a href=\"#Изучение-пропусков-в-датафрейме\" data-toc-modified-id=\"Изучение-пропусков-в-датафрейме-2.2.2\"><span class=\"toc-item-num\">2.2.2&nbsp;&nbsp;</span>Изучение пропусков в датафрейме</a></span></li><li><span><a href=\"#Изучение-дубликатов-в-датафрейме\" data-toc-modified-id=\"Изучение-дубликатов-в-датафрейме-2.2.3\"><span class=\"toc-item-num\">2.2.3&nbsp;&nbsp;</span>Изучение дубликатов в датафрейме</a></span></li><li><span><a href=\"#Изучение-категориальных-значений\" data-toc-modified-id=\"Изучение-категориальных-значений-2.2.4\"><span class=\"toc-item-num\">2.2.4&nbsp;&nbsp;</span>Изучение категориальных значений</a></span></li><li><span><a href=\"#Проверка-количественных-значений\" data-toc-modified-id=\"Проверка-количественных-значений-2.2.5\"><span class=\"toc-item-num\">2.2.5&nbsp;&nbsp;</span>Проверка количественных значений</a></span></li><li><span><a href=\"#Добавление-новых-столбцов\" data-toc-modified-id=\"Добавление-новых-столбцов-2.2.6\"><span class=\"toc-item-num\">2.2.6&nbsp;&nbsp;</span>Добавление новых столбцов</a></span></li></ul></li><li><span><a href=\"#Исследовательский-анализ-данных\" data-toc-modified-id=\"Исследовательский-анализ-данных-2.3\"><span class=\"toc-item-num\">2.3&nbsp;&nbsp;</span>Исследовательский анализ данных</a></span><ul class=\"toc-item\"><li><span><a href=\"#Количество-фильмов-в-прокате-по-годам.\" data-toc-modified-id=\"Количество-фильмов-в-прокате-по-годам.-2.3.1\"><span class=\"toc-item-num\">2.3.1&nbsp;&nbsp;</span>Количество фильмов в прокате по годам.</a></span></li><li><span><a href=\"#Динамика-сборов-по-годам.\" data-toc-modified-id=\"Динамика-сборов-по-годам.-2.3.2\"><span class=\"toc-item-num\">2.3.2&nbsp;&nbsp;</span>Динамика сборов по годам.</a></span></li><li><span><a href=\"#Влияние-возрастных-ограничений\" data-toc-modified-id=\"Влияние-возрастных-ограничений-2.3.3\"><span class=\"toc-item-num\">2.3.3&nbsp;&nbsp;</span>Влияние возрастных ограничений</a></span></li></ul></li><li><span><a href=\"#Данные-о-фильмах,-получивших-государственную-поддержку\" data-toc-modified-id=\"Данные-о-фильмах,-получивших-государственную-поддержку-2.4\"><span class=\"toc-item-num\">2.4&nbsp;&nbsp;</span>Данные о фильмах, получивших государственную поддержку</a></span></li><li><span><a href=\"#Вывод\" data-toc-modified-id=\"Вывод-2.5\"><span class=\"toc-item-num\">2.5&nbsp;&nbsp;</span>Вывод</a></span></li></ul></li></ul></div>"
   ]
  },
  {
   "cell_type": "markdown",
   "metadata": {},
   "source": [
    "## Описание проекта\n",
    "\n",
    "Цель настоящего исследования - изучение рынка российского кинопроката за 2013-2019 гг. и выявление текущих трендов. \n",
    "\n",
    "Отдельная часть исследования посвящена фильмам, получившим государственную поддержку: их доходности, популярности у зрителей и успешному выявлению государством фильмов, которые получают государственное финансирование.\n",
    "\n",
    "Информация представлена двумя датасетами со следующим набором столбцов.\n",
    "\n",
    "Информация о прокатных удостоверениях:\n",
    "- title — название фильма;\n",
    "- puNumber — номер прокатного удостоверения;\n",
    "- show_start_date — дата премьеры фильма;\n",
    "- type — тип фильма;\n",
    "- film_studio — студия-производитель;\n",
    "- production_country — страна-производитель;\n",
    "- director — режиссёр;\n",
    "- producer — продюсер;\n",
    "- age_restriction — возрастная категория;\n",
    "- refundable_support — объём возвратных средств государственной поддержки;\n",
    "- nonrefundable_support — объём невозвратных средств государственной поддержки;\n",
    "- financing_source — источник государственного финансирования;\n",
    "- budget — общий бюджет фильма;\n",
    "- ratings — рейтинг фильма на КиноПоиске;\n",
    "- genres — жанр фильма.\n",
    "\n",
    "Информация о прокате фильмов в российских кинотеатрах:\n",
    "- puNumber — номер прокатного удостоверения;\n",
    "- box_office — сборы в рублях.\n",
    "\n",
    "В ходе исследования сначала будут изучены общие тренды в сфере кинопроката, упешность различных категорий фильмов. После этого будет рассмотрена информация о фильмах, получивших государственную поддержку."
   ]
  },
  {
   "cell_type": "markdown",
   "metadata": {
    "id": "sIfNaMOxgFyK"
   },
   "source": [
    "## Исследование данных о российском кинопрокате\n",
    "\n"
   ]
  },
  {
   "cell_type": "markdown",
   "metadata": {
    "id": "3bSlkCsbgFyL"
   },
   "source": [
    "### Объединение файлов с данными в один датафрейм. "
   ]
  },
  {
   "cell_type": "code",
   "execution_count": 154,
   "metadata": {
    "id": "dw87FlzMgFyM"
   },
   "outputs": [
    {
     "data": {
      "text/html": [
       "        <script type=\"text/javascript\">\n",
       "        window.PlotlyConfig = {MathJaxConfig: 'local'};\n",
       "        if (window.MathJax) {MathJax.Hub.Config({SVG: {font: \"STIX-Web\"}});}\n",
       "        if (typeof require !== 'undefined') {\n",
       "        require.undef(\"plotly\");\n",
       "        requirejs.config({\n",
       "            paths: {\n",
       "                'plotly': ['https://cdn.plot.ly/plotly-latest.min']\n",
       "            }\n",
       "        });\n",
       "        require(['plotly'], function(Plotly) {\n",
       "            window._Plotly = Plotly;\n",
       "        });\n",
       "        }\n",
       "        </script>\n",
       "        "
      ]
     },
     "metadata": {},
     "output_type": "display_data"
    }
   ],
   "source": [
    "import pandas as pd\n",
    "import matplotlib.pyplot as plt\n",
    "\n",
    "from plotly.offline import download_plotlyjs, init_notebook_mode, plot, iplot\n",
    "import plotly\n",
    "import plotly.graph_objs as go\n",
    "import plotly.express as px\n",
    "\n",
    "init_notebook_mode(connected=True)"
   ]
  },
  {
   "cell_type": "markdown",
   "metadata": {},
   "source": [
    "Сначала надо выяснить, в чем проблема столбца, по которому можно объединить датафреймы, и поменять тип данных."
   ]
  },
  {
   "cell_type": "code",
   "execution_count": 155,
   "metadata": {
    "scrolled": true
   },
   "outputs": [
    {
     "name": "stdout",
     "output_type": "stream",
     "text": [
      "<class 'pandas.core.frame.DataFrame'>\n",
      "RangeIndex: 7486 entries, 0 to 7485\n",
      "Data columns (total 15 columns):\n",
      "title                    7486 non-null object\n",
      "puNumber                 7486 non-null object\n",
      "show_start_date          7486 non-null object\n",
      "type                     7486 non-null object\n",
      "film_studio              7468 non-null object\n",
      "production_country       7484 non-null object\n",
      "director                 7477 non-null object\n",
      "producer                 6918 non-null object\n",
      "age_restriction          7486 non-null object\n",
      "refundable_support       332 non-null float64\n",
      "nonrefundable_support    332 non-null float64\n",
      "budget                   332 non-null float64\n",
      "financing_source         332 non-null object\n",
      "ratings                  6519 non-null object\n",
      "genres                   6510 non-null object\n",
      "dtypes: float64(3), object(12)\n",
      "memory usage: 877.4+ KB\n"
     ]
    }
   ],
   "source": [
    "movies = pd.read_csv('/datasets/mkrf_movies.csv')\n",
    "movies.info()"
   ]
  },
  {
   "cell_type": "code",
   "execution_count": 156,
   "metadata": {},
   "outputs": [
    {
     "name": "stdout",
     "output_type": "stream",
     "text": [
      "<class 'pandas.core.frame.DataFrame'>\n",
      "RangeIndex: 3158 entries, 0 to 3157\n",
      "Data columns (total 2 columns):\n",
      "puNumber      3158 non-null int64\n",
      "box_office    3158 non-null float64\n",
      "dtypes: float64(1), int64(1)\n",
      "memory usage: 49.5 KB\n"
     ]
    }
   ],
   "source": [
    "shows = pd.read_csv('/datasets/mkrf_shows.csv')\n",
    "shows.info()"
   ]
  },
  {
   "cell_type": "markdown",
   "metadata": {},
   "source": [
    "Поменяем тип данных на целочисленные и сделаем единый датафрейм. Т.к. при попытке изменить тип данных в таблице с прокатными удостоверениями появляется ошибка из-за того, что в одной из ячеек имеется строковое значение, заменим это значение на 0"
   ]
  },
  {
   "cell_type": "code",
   "execution_count": 157,
   "metadata": {},
   "outputs": [],
   "source": [
    "movies.loc[(movies.puNumber == 'нет'), 'puNumber'] = 0\n",
    "movies['puNumber']=movies['puNumber'].astype(int)"
   ]
  },
  {
   "cell_type": "code",
   "execution_count": 158,
   "metadata": {
    "scrolled": true
   },
   "outputs": [
    {
     "name": "stdout",
     "output_type": "stream",
     "text": [
      "<class 'pandas.core.frame.DataFrame'>\n",
      "Int64Index: 7486 entries, 0 to 7485\n",
      "Data columns (total 16 columns):\n",
      "title                    7486 non-null object\n",
      "puNumber                 7486 non-null int64\n",
      "show_start_date          7486 non-null object\n",
      "type                     7486 non-null object\n",
      "film_studio              7468 non-null object\n",
      "production_country       7484 non-null object\n",
      "director                 7477 non-null object\n",
      "producer                 6918 non-null object\n",
      "age_restriction          7486 non-null object\n",
      "refundable_support       332 non-null float64\n",
      "nonrefundable_support    332 non-null float64\n",
      "budget                   332 non-null float64\n",
      "financing_source         332 non-null object\n",
      "ratings                  6519 non-null object\n",
      "genres                   6510 non-null object\n",
      "box_office               3158 non-null float64\n",
      "dtypes: float64(4), int64(1), object(11)\n",
      "memory usage: 994.2+ KB\n"
     ]
    }
   ],
   "source": [
    "df = movies.merge(shows, on='puNumber', how='left')\n",
    "df.info()"
   ]
  },
  {
   "cell_type": "markdown",
   "metadata": {
    "id": "KLDGpPG0gFyM"
   },
   "source": [
    "### Предобработка данных"
   ]
  },
  {
   "cell_type": "markdown",
   "metadata": {
    "id": "ssWwKXsxgFyO"
   },
   "source": [
    "#### Проверка типов данных"
   ]
  },
  {
   "cell_type": "code",
   "execution_count": 159,
   "metadata": {
    "id": "kVGSplJOgFyO",
    "scrolled": true
   },
   "outputs": [
    {
     "data": {
      "text/html": [
       "<div>\n",
       "<style scoped>\n",
       "    .dataframe tbody tr th:only-of-type {\n",
       "        vertical-align: middle;\n",
       "    }\n",
       "\n",
       "    .dataframe tbody tr th {\n",
       "        vertical-align: top;\n",
       "    }\n",
       "\n",
       "    .dataframe thead th {\n",
       "        text-align: right;\n",
       "    }\n",
       "</style>\n",
       "<table border=\"1\" class=\"dataframe\">\n",
       "  <thead>\n",
       "    <tr style=\"text-align: right;\">\n",
       "      <th></th>\n",
       "      <th>title</th>\n",
       "      <th>puNumber</th>\n",
       "      <th>show_start_date</th>\n",
       "      <th>type</th>\n",
       "      <th>film_studio</th>\n",
       "      <th>production_country</th>\n",
       "      <th>director</th>\n",
       "      <th>producer</th>\n",
       "      <th>age_restriction</th>\n",
       "      <th>refundable_support</th>\n",
       "      <th>nonrefundable_support</th>\n",
       "      <th>budget</th>\n",
       "      <th>financing_source</th>\n",
       "      <th>ratings</th>\n",
       "      <th>genres</th>\n",
       "      <th>box_office</th>\n",
       "    </tr>\n",
       "  </thead>\n",
       "  <tbody>\n",
       "    <tr>\n",
       "      <td>0</td>\n",
       "      <td>Открытый простор</td>\n",
       "      <td>221048915</td>\n",
       "      <td>2015-11-27T12:00:00.000Z</td>\n",
       "      <td>Художественный</td>\n",
       "      <td>Тачстоун Пикчерз, Кобальт Пикчерз, Бикон Пикче...</td>\n",
       "      <td>США</td>\n",
       "      <td>Кевин Костнер</td>\n",
       "      <td>Дэвид Валдес, Кевин Костнер, Джейк Эбертс</td>\n",
       "      <td>«18+» - запрещено для детей</td>\n",
       "      <td>NaN</td>\n",
       "      <td>NaN</td>\n",
       "      <td>NaN</td>\n",
       "      <td>NaN</td>\n",
       "      <td>7.2</td>\n",
       "      <td>боевик,драма,мелодрама</td>\n",
       "      <td>NaN</td>\n",
       "    </tr>\n",
       "    <tr>\n",
       "      <td>1</td>\n",
       "      <td>Особо важное задание</td>\n",
       "      <td>111013716</td>\n",
       "      <td>2016-09-13T12:00:00.000Z</td>\n",
       "      <td>Художественный</td>\n",
       "      <td>Киностудия \"Мосфильм\"</td>\n",
       "      <td>СССР</td>\n",
       "      <td>Е.Матвеев</td>\n",
       "      <td>NaN</td>\n",
       "      <td>«6+» - для детей старше 6 лет</td>\n",
       "      <td>NaN</td>\n",
       "      <td>NaN</td>\n",
       "      <td>NaN</td>\n",
       "      <td>NaN</td>\n",
       "      <td>6.6</td>\n",
       "      <td>драма,военный</td>\n",
       "      <td>NaN</td>\n",
       "    </tr>\n",
       "    <tr>\n",
       "      <td>2</td>\n",
       "      <td>Особо опасен</td>\n",
       "      <td>221038416</td>\n",
       "      <td>2016-10-10T12:00:00.000Z</td>\n",
       "      <td>Художественный</td>\n",
       "      <td>Юниверсал Пикчерз, Кикстарт Продакшнз, Марк Пл...</td>\n",
       "      <td>США</td>\n",
       "      <td>Тимур Бекмамбетов</td>\n",
       "      <td>Джим Лемли, Джейсон Нетер, Марк Е.Платт, Яйн Смит</td>\n",
       "      <td>«18+» - запрещено для детей</td>\n",
       "      <td>NaN</td>\n",
       "      <td>NaN</td>\n",
       "      <td>NaN</td>\n",
       "      <td>NaN</td>\n",
       "      <td>6.8</td>\n",
       "      <td>фантастика,боевик,триллер</td>\n",
       "      <td>NaN</td>\n",
       "    </tr>\n",
       "    <tr>\n",
       "      <td>3</td>\n",
       "      <td>Особо опасен</td>\n",
       "      <td>221026916</td>\n",
       "      <td>2016-06-10T12:00:00.000Z</td>\n",
       "      <td>Художественный</td>\n",
       "      <td>Юниверсал Пикчерз, Кикстарт Продакшнз, Марк Пл...</td>\n",
       "      <td>США</td>\n",
       "      <td>Тимур Бекмамбетов</td>\n",
       "      <td>Джим Лемли, Джейсон Нетер, Марк Е.Платт, Яйн Смит</td>\n",
       "      <td>«18+» - запрещено для детей</td>\n",
       "      <td>NaN</td>\n",
       "      <td>NaN</td>\n",
       "      <td>NaN</td>\n",
       "      <td>NaN</td>\n",
       "      <td>6.8</td>\n",
       "      <td>фантастика,боевик,триллер</td>\n",
       "      <td>NaN</td>\n",
       "    </tr>\n",
       "    <tr>\n",
       "      <td>4</td>\n",
       "      <td>Особо опасен</td>\n",
       "      <td>221030815</td>\n",
       "      <td>2015-07-29T12:00:00.000Z</td>\n",
       "      <td>Художественный</td>\n",
       "      <td>Юниверсал Пикчерз, Кикстарт Продакшнз, Марк Пл...</td>\n",
       "      <td>США</td>\n",
       "      <td>Тимур Бекмамбетов</td>\n",
       "      <td>Джим Лемли, Джейсон Нетер, Марк Е.Платт, Яйн Смит</td>\n",
       "      <td>«18+» - запрещено для детей</td>\n",
       "      <td>NaN</td>\n",
       "      <td>NaN</td>\n",
       "      <td>NaN</td>\n",
       "      <td>NaN</td>\n",
       "      <td>6.8</td>\n",
       "      <td>фантастика,боевик,триллер</td>\n",
       "      <td>NaN</td>\n",
       "    </tr>\n",
       "  </tbody>\n",
       "</table>\n",
       "</div>"
      ],
      "text/plain": [
       "                  title   puNumber           show_start_date            type  \\\n",
       "0      Открытый простор  221048915  2015-11-27T12:00:00.000Z  Художественный   \n",
       "1  Особо важное задание  111013716  2016-09-13T12:00:00.000Z  Художественный   \n",
       "2          Особо опасен  221038416  2016-10-10T12:00:00.000Z  Художественный   \n",
       "3          Особо опасен  221026916  2016-06-10T12:00:00.000Z  Художественный   \n",
       "4          Особо опасен  221030815  2015-07-29T12:00:00.000Z  Художественный   \n",
       "\n",
       "                                         film_studio production_country  \\\n",
       "0  Тачстоун Пикчерз, Кобальт Пикчерз, Бикон Пикче...                США   \n",
       "1                              Киностудия \"Мосфильм\"               СССР   \n",
       "2  Юниверсал Пикчерз, Кикстарт Продакшнз, Марк Пл...                США   \n",
       "3  Юниверсал Пикчерз, Кикстарт Продакшнз, Марк Пл...                США   \n",
       "4  Юниверсал Пикчерз, Кикстарт Продакшнз, Марк Пл...                США   \n",
       "\n",
       "            director                                           producer  \\\n",
       "0      Кевин Костнер          Дэвид Валдес, Кевин Костнер, Джейк Эбертс   \n",
       "1          Е.Матвеев                                                NaN   \n",
       "2  Тимур Бекмамбетов  Джим Лемли, Джейсон Нетер, Марк Е.Платт, Яйн Смит   \n",
       "3  Тимур Бекмамбетов  Джим Лемли, Джейсон Нетер, Марк Е.Платт, Яйн Смит   \n",
       "4  Тимур Бекмамбетов  Джим Лемли, Джейсон Нетер, Марк Е.Платт, Яйн Смит   \n",
       "\n",
       "                 age_restriction  refundable_support  nonrefundable_support  \\\n",
       "0    «18+» - запрещено для детей                 NaN                    NaN   \n",
       "1  «6+» - для детей старше 6 лет                 NaN                    NaN   \n",
       "2    «18+» - запрещено для детей                 NaN                    NaN   \n",
       "3    «18+» - запрещено для детей                 NaN                    NaN   \n",
       "4    «18+» - запрещено для детей                 NaN                    NaN   \n",
       "\n",
       "   budget financing_source ratings                     genres  box_office  \n",
       "0     NaN              NaN     7.2     боевик,драма,мелодрама         NaN  \n",
       "1     NaN              NaN     6.6              драма,военный         NaN  \n",
       "2     NaN              NaN     6.8  фантастика,боевик,триллер         NaN  \n",
       "3     NaN              NaN     6.8  фантастика,боевик,триллер         NaN  \n",
       "4     NaN              NaN     6.8  фантастика,боевик,триллер         NaN  "
      ]
     },
     "execution_count": 159,
     "metadata": {},
     "output_type": "execute_result"
    }
   ],
   "source": [
    "df.head()"
   ]
  },
  {
   "cell_type": "markdown",
   "metadata": {},
   "source": [
    "Можно поменять типы данных в столбцах с информацией о времени, возрастных ограничениях и рейтинге."
   ]
  },
  {
   "cell_type": "markdown",
   "metadata": {},
   "source": [
    "В столбце с информацией о времени можно оставить только дату, т.к. для длительного процесса, которым является нахождение фильма в прокате, информация о часах и минутах несущественна."
   ]
  },
  {
   "cell_type": "code",
   "execution_count": 160,
   "metadata": {},
   "outputs": [],
   "source": [
    "df['show_start_date']=pd.to_datetime(df['show_start_date'], format='%Y-%m-%dT%H:%M:%S.%f').dt.date"
   ]
  },
  {
   "cell_type": "markdown",
   "metadata": {},
   "source": [
    "Для замены данных в столбце с возрастными ограничениями надо узнать, как сформулированы обозначения для возрастных категорий. Замену лучше всего сделать функцией."
   ]
  },
  {
   "cell_type": "code",
   "execution_count": 161,
   "metadata": {},
   "outputs": [
    {
     "data": {
      "text/plain": [
       "«16+» - для детей старше 16 лет           2851\n",
       "«18+» - запрещено для детей               1605\n",
       "«12+» - для детей старше 12 лет           1593\n",
       "«0+» - для любой зрительской аудитории     811\n",
       "«6+» - для детей старше 6 лет              626\n",
       "Name: age_restriction, dtype: int64"
      ]
     },
     "execution_count": 161,
     "metadata": {},
     "output_type": "execute_result"
    }
   ],
   "source": [
    "df['age_restriction'].value_counts()"
   ]
  },
  {
   "cell_type": "code",
   "execution_count": 162,
   "metadata": {},
   "outputs": [],
   "source": [
    "def age_limit(age):\n",
    "    if '16' in age:\n",
    "        return 16\n",
    "    elif '18' in age:\n",
    "        return 18\n",
    "    elif '12' in age:\n",
    "        return 12\n",
    "    elif '0' in age:\n",
    "        return 0\n",
    "    else:\n",
    "        return 6"
   ]
  },
  {
   "cell_type": "code",
   "execution_count": 163,
   "metadata": {},
   "outputs": [],
   "source": [
    "df['age_restriction'] = df['age_restriction'].apply(age_limit)"
   ]
  },
  {
   "cell_type": "code",
   "execution_count": 164,
   "metadata": {},
   "outputs": [
    {
     "data": {
      "text/plain": [
       "6.6    312\n",
       "6.7    308\n",
       "6.8    261\n",
       "7.2    252\n",
       "6.2    243\n",
       "      ... \n",
       "9.1      1\n",
       "1.0      1\n",
       "64%      1\n",
       "89%      1\n",
       "1.8      1\n",
       "Name: ratings, Length: 94, dtype: int64"
      ]
     },
     "execution_count": 164,
     "metadata": {},
     "output_type": "execute_result"
    }
   ],
   "source": [
    "df['ratings'].value_counts()"
   ]
  },
  {
   "cell_type": "markdown",
   "metadata": {},
   "source": [
    "Т.к. в столбце с рейтингами есть данные в разных форматах, значения в процентах надо преобразовать в десятичные дроби. Это также удобно сделать функцией."
   ]
  },
  {
   "cell_type": "code",
   "execution_count": 165,
   "metadata": {},
   "outputs": [],
   "source": [
    "def convert_percent(val):\n",
    "    if type(val)== str and '%' in val:\n",
    "        val=val.replace('%', '')\n",
    "        return float(val)/10\n",
    "    return val"
   ]
  },
  {
   "cell_type": "code",
   "execution_count": 166,
   "metadata": {},
   "outputs": [],
   "source": [
    "df['ratings'] = df['ratings'].apply(convert_percent)"
   ]
  },
  {
   "cell_type": "code",
   "execution_count": 167,
   "metadata": {},
   "outputs": [],
   "source": [
    "df['ratings'] = df['ratings'].astype(float)"
   ]
  },
  {
   "cell_type": "code",
   "execution_count": 168,
   "metadata": {},
   "outputs": [
    {
     "data": {
      "text/plain": [
       "6.6    312\n",
       "6.7    308\n",
       "6.8    261\n",
       "7.2    252\n",
       "6.2    244\n",
       "      ... \n",
       "9.2      1\n",
       "1.3      1\n",
       "1.0      1\n",
       "1.2      1\n",
       "1.8      1\n",
       "Name: ratings, Length: 84, dtype: int64"
      ]
     },
     "execution_count": 168,
     "metadata": {},
     "output_type": "execute_result"
    }
   ],
   "source": [
    "df['ratings'].value_counts()"
   ]
  },
  {
   "cell_type": "markdown",
   "metadata": {
    "id": "i0MOLbF-gFyP"
   },
   "source": [
    "#### Изучение пропусков в датафрейме"
   ]
  },
  {
   "cell_type": "code",
   "execution_count": 169,
   "metadata": {
    "id": "8MJD_lkngFyP",
    "scrolled": false
   },
   "outputs": [
    {
     "name": "stdout",
     "output_type": "stream",
     "text": [
      "<class 'pandas.core.frame.DataFrame'>\n",
      "Int64Index: 7486 entries, 0 to 7485\n",
      "Data columns (total 16 columns):\n",
      "title                    7486 non-null object\n",
      "puNumber                 7486 non-null int64\n",
      "show_start_date          7486 non-null object\n",
      "type                     7486 non-null object\n",
      "film_studio              7468 non-null object\n",
      "production_country       7484 non-null object\n",
      "director                 7477 non-null object\n",
      "producer                 6918 non-null object\n",
      "age_restriction          7486 non-null int64\n",
      "refundable_support       332 non-null float64\n",
      "nonrefundable_support    332 non-null float64\n",
      "budget                   332 non-null float64\n",
      "financing_source         332 non-null object\n",
      "ratings                  6519 non-null float64\n",
      "genres                   6510 non-null object\n",
      "box_office               3158 non-null float64\n",
      "dtypes: float64(5), int64(2), object(9)\n",
      "memory usage: 994.2+ KB\n"
     ]
    }
   ],
   "source": [
    "df.info()"
   ]
  },
  {
   "cell_type": "markdown",
   "metadata": {},
   "source": [
    "Если изучить пропуски в столбцу с киностудией, можно увидеть, что их не очень много и фильмы малоизвестные. Можно предположить, что по данным фильмам заполнялся минимум данных. Можно заменить пропуски на информацию о том, что студия неизвестна."
   ]
  },
  {
   "cell_type": "code",
   "execution_count": 170,
   "metadata": {},
   "outputs": [
    {
     "data": {
      "text/html": [
       "<div>\n",
       "<style scoped>\n",
       "    .dataframe tbody tr th:only-of-type {\n",
       "        vertical-align: middle;\n",
       "    }\n",
       "\n",
       "    .dataframe tbody tr th {\n",
       "        vertical-align: top;\n",
       "    }\n",
       "\n",
       "    .dataframe thead th {\n",
       "        text-align: right;\n",
       "    }\n",
       "</style>\n",
       "<table border=\"1\" class=\"dataframe\">\n",
       "  <thead>\n",
       "    <tr style=\"text-align: right;\">\n",
       "      <th></th>\n",
       "      <th>title</th>\n",
       "      <th>puNumber</th>\n",
       "      <th>show_start_date</th>\n",
       "      <th>type</th>\n",
       "      <th>film_studio</th>\n",
       "      <th>production_country</th>\n",
       "      <th>director</th>\n",
       "      <th>producer</th>\n",
       "      <th>age_restriction</th>\n",
       "      <th>refundable_support</th>\n",
       "      <th>nonrefundable_support</th>\n",
       "      <th>budget</th>\n",
       "      <th>financing_source</th>\n",
       "      <th>ratings</th>\n",
       "      <th>genres</th>\n",
       "      <th>box_office</th>\n",
       "    </tr>\n",
       "  </thead>\n",
       "  <tbody>\n",
       "    <tr>\n",
       "      <td>1293</td>\n",
       "      <td>Stars in Shorts</td>\n",
       "      <td>121011114</td>\n",
       "      <td>2014-06-03</td>\n",
       "      <td>Художественный</td>\n",
       "      <td>NaN</td>\n",
       "      <td>США, Великобритания</td>\n",
       "      <td>Роберт Фестингер, Руперт Френд, Джей Камен, Ни...</td>\n",
       "      <td>Татьяна Келли, Роберта Мунро, Руперт Френд, До...</td>\n",
       "      <td>16</td>\n",
       "      <td>NaN</td>\n",
       "      <td>NaN</td>\n",
       "      <td>NaN</td>\n",
       "      <td>NaN</td>\n",
       "      <td>7.3</td>\n",
       "      <td>комедия</td>\n",
       "      <td>NaN</td>\n",
       "    </tr>\n",
       "    <tr>\n",
       "      <td>4441</td>\n",
       "      <td>Мульт личности. Выпуск 5</td>\n",
       "      <td>214000410</td>\n",
       "      <td>2010-01-25</td>\n",
       "      <td>Художественный</td>\n",
       "      <td>NaN</td>\n",
       "      <td>NaN</td>\n",
       "      <td>NaN</td>\n",
       "      <td>NaN</td>\n",
       "      <td>0</td>\n",
       "      <td>NaN</td>\n",
       "      <td>NaN</td>\n",
       "      <td>NaN</td>\n",
       "      <td>NaN</td>\n",
       "      <td>4.0</td>\n",
       "      <td>мультфильм,комедия</td>\n",
       "      <td>NaN</td>\n",
       "    </tr>\n",
       "    <tr>\n",
       "      <td>6105</td>\n",
       "      <td>Значит любит</td>\n",
       "      <td>111013818</td>\n",
       "      <td>2018-08-10</td>\n",
       "      <td>Художественный</td>\n",
       "      <td>NaN</td>\n",
       "      <td>Россия</td>\n",
       "      <td>А.Краевский</td>\n",
       "      <td>Е.Щербакова</td>\n",
       "      <td>18</td>\n",
       "      <td>NaN</td>\n",
       "      <td>NaN</td>\n",
       "      <td>NaN</td>\n",
       "      <td>NaN</td>\n",
       "      <td>NaN</td>\n",
       "      <td>NaN</td>\n",
       "      <td>NaN</td>\n",
       "    </tr>\n",
       "    <tr>\n",
       "      <td>6181</td>\n",
       "      <td>Несейка. Младшая дочь</td>\n",
       "      <td>112007018</td>\n",
       "      <td>2018-09-01</td>\n",
       "      <td>Документальный</td>\n",
       "      <td>NaN</td>\n",
       "      <td>Россия</td>\n",
       "      <td>В.Марин</td>\n",
       "      <td>Д.Якунин, Ф.Абрютин, О.Филонова</td>\n",
       "      <td>6</td>\n",
       "      <td>NaN</td>\n",
       "      <td>NaN</td>\n",
       "      <td>NaN</td>\n",
       "      <td>NaN</td>\n",
       "      <td>NaN</td>\n",
       "      <td>NaN</td>\n",
       "      <td>NaN</td>\n",
       "    </tr>\n",
       "    <tr>\n",
       "      <td>6379</td>\n",
       "      <td>Ян Антонышев</td>\n",
       "      <td>112011818</td>\n",
       "      <td>2018-11-15</td>\n",
       "      <td>Документальный</td>\n",
       "      <td>NaN</td>\n",
       "      <td>Россия</td>\n",
       "      <td>Е.Окопная</td>\n",
       "      <td>Е.Герасимов</td>\n",
       "      <td>12</td>\n",
       "      <td>NaN</td>\n",
       "      <td>NaN</td>\n",
       "      <td>NaN</td>\n",
       "      <td>NaN</td>\n",
       "      <td>NaN</td>\n",
       "      <td>NaN</td>\n",
       "      <td>NaN</td>\n",
       "    </tr>\n",
       "  </tbody>\n",
       "</table>\n",
       "</div>"
      ],
      "text/plain": [
       "                         title   puNumber show_start_date             type  \\\n",
       "1293           Stars in Shorts  121011114      2014-06-03   Художественный   \n",
       "4441  Мульт личности. Выпуск 5  214000410      2010-01-25   Художественный   \n",
       "6105              Значит любит  111013818      2018-08-10   Художественный   \n",
       "6181     Несейка. Младшая дочь  112007018      2018-09-01   Документальный   \n",
       "6379              Ян Антонышев  112011818      2018-11-15   Документальный   \n",
       "\n",
       "     film_studio   production_country  \\\n",
       "1293         NaN  США, Великобритания   \n",
       "4441         NaN                  NaN   \n",
       "6105         NaN               Россия   \n",
       "6181         NaN               Россия   \n",
       "6379         NaN               Россия   \n",
       "\n",
       "                                               director  \\\n",
       "1293  Роберт Фестингер, Руперт Френд, Джей Камен, Ни...   \n",
       "4441                                                NaN   \n",
       "6105                                        А.Краевский   \n",
       "6181                                            В.Марин   \n",
       "6379                                          Е.Окопная   \n",
       "\n",
       "                                               producer  age_restriction  \\\n",
       "1293  Татьяна Келли, Роберта Мунро, Руперт Френд, До...               16   \n",
       "4441                                                NaN                0   \n",
       "6105                                        Е.Щербакова               18   \n",
       "6181                    Д.Якунин, Ф.Абрютин, О.Филонова                6   \n",
       "6379                                        Е.Герасимов               12   \n",
       "\n",
       "      refundable_support  nonrefundable_support  budget financing_source  \\\n",
       "1293                 NaN                    NaN     NaN              NaN   \n",
       "4441                 NaN                    NaN     NaN              NaN   \n",
       "6105                 NaN                    NaN     NaN              NaN   \n",
       "6181                 NaN                    NaN     NaN              NaN   \n",
       "6379                 NaN                    NaN     NaN              NaN   \n",
       "\n",
       "      ratings              genres  box_office  \n",
       "1293      7.3             комедия         NaN  \n",
       "4441      4.0  мультфильм,комедия         NaN  \n",
       "6105      NaN                 NaN         NaN  \n",
       "6181      NaN                 NaN         NaN  \n",
       "6379      NaN                 NaN         NaN  "
      ]
     },
     "execution_count": 170,
     "metadata": {},
     "output_type": "execute_result"
    }
   ],
   "source": [
    "df.loc[df['film_studio'].isna()].head()"
   ]
  },
  {
   "cell_type": "code",
   "execution_count": 171,
   "metadata": {},
   "outputs": [],
   "source": [
    "df['film_studio'] = df['film_studio'].fillna(value='Неизвестна')"
   ]
  },
  {
   "cell_type": "markdown",
   "metadata": {},
   "source": [
    "2 пропуска в столбце со страной производства можно заполнить вручную."
   ]
  },
  {
   "cell_type": "code",
   "execution_count": 172,
   "metadata": {
    "scrolled": true
   },
   "outputs": [
    {
     "data": {
      "text/html": [
       "<div>\n",
       "<style scoped>\n",
       "    .dataframe tbody tr th:only-of-type {\n",
       "        vertical-align: middle;\n",
       "    }\n",
       "\n",
       "    .dataframe tbody tr th {\n",
       "        vertical-align: top;\n",
       "    }\n",
       "\n",
       "    .dataframe thead th {\n",
       "        text-align: right;\n",
       "    }\n",
       "</style>\n",
       "<table border=\"1\" class=\"dataframe\">\n",
       "  <thead>\n",
       "    <tr style=\"text-align: right;\">\n",
       "      <th></th>\n",
       "      <th>title</th>\n",
       "      <th>puNumber</th>\n",
       "      <th>show_start_date</th>\n",
       "      <th>type</th>\n",
       "      <th>film_studio</th>\n",
       "      <th>production_country</th>\n",
       "      <th>director</th>\n",
       "      <th>producer</th>\n",
       "      <th>age_restriction</th>\n",
       "      <th>refundable_support</th>\n",
       "      <th>nonrefundable_support</th>\n",
       "      <th>budget</th>\n",
       "      <th>financing_source</th>\n",
       "      <th>ratings</th>\n",
       "      <th>genres</th>\n",
       "      <th>box_office</th>\n",
       "    </tr>\n",
       "  </thead>\n",
       "  <tbody>\n",
       "    <tr>\n",
       "      <td>3186</td>\n",
       "      <td>Детский юмористический киножурнал \"Ералаш. Ну ...</td>\n",
       "      <td>111001216</td>\n",
       "      <td>2016-02-09</td>\n",
       "      <td>Художественный</td>\n",
       "      <td>ООО \"Продюсерский центр ЕРАЛАШ\"</td>\n",
       "      <td>NaN</td>\n",
       "      <td>Р.Светлов, И.Магитон, А.Арутюнян, Л.Мирский, А...</td>\n",
       "      <td>ООО \"Продюсерский центр ЕРАЛАШ\"</td>\n",
       "      <td>0</td>\n",
       "      <td>NaN</td>\n",
       "      <td>NaN</td>\n",
       "      <td>NaN</td>\n",
       "      <td>NaN</td>\n",
       "      <td>7.2</td>\n",
       "      <td>детский,комедия</td>\n",
       "      <td>194527.0</td>\n",
       "    </tr>\n",
       "    <tr>\n",
       "      <td>4441</td>\n",
       "      <td>Мульт личности. Выпуск 5</td>\n",
       "      <td>214000410</td>\n",
       "      <td>2010-01-25</td>\n",
       "      <td>Художественный</td>\n",
       "      <td>Неизвестна</td>\n",
       "      <td>NaN</td>\n",
       "      <td>NaN</td>\n",
       "      <td>NaN</td>\n",
       "      <td>0</td>\n",
       "      <td>NaN</td>\n",
       "      <td>NaN</td>\n",
       "      <td>NaN</td>\n",
       "      <td>NaN</td>\n",
       "      <td>4.0</td>\n",
       "      <td>мультфильм,комедия</td>\n",
       "      <td>NaN</td>\n",
       "    </tr>\n",
       "  </tbody>\n",
       "</table>\n",
       "</div>"
      ],
      "text/plain": [
       "                                                  title   puNumber  \\\n",
       "3186  Детский юмористический киножурнал \"Ералаш. Ну ...  111001216   \n",
       "4441                           Мульт личности. Выпуск 5  214000410   \n",
       "\n",
       "     show_start_date            type                      film_studio  \\\n",
       "3186      2016-02-09  Художественный  ООО \"Продюсерский центр ЕРАЛАШ\"   \n",
       "4441      2010-01-25  Художественный                       Неизвестна   \n",
       "\n",
       "     production_country                                           director  \\\n",
       "3186                NaN  Р.Светлов, И.Магитон, А.Арутюнян, Л.Мирский, А...   \n",
       "4441                NaN                                                NaN   \n",
       "\n",
       "                             producer  age_restriction  refundable_support  \\\n",
       "3186  ООО \"Продюсерский центр ЕРАЛАШ\"                0                 NaN   \n",
       "4441                              NaN                0                 NaN   \n",
       "\n",
       "      nonrefundable_support  budget financing_source  ratings  \\\n",
       "3186                    NaN     NaN              NaN      7.2   \n",
       "4441                    NaN     NaN              NaN      4.0   \n",
       "\n",
       "                  genres  box_office  \n",
       "3186     детский,комедия    194527.0  \n",
       "4441  мультфильм,комедия         NaN  "
      ]
     },
     "execution_count": 172,
     "metadata": {},
     "output_type": "execute_result"
    }
   ],
   "source": [
    "df.loc[df['production_country'].isna()]"
   ]
  },
  {
   "cell_type": "code",
   "execution_count": 173,
   "metadata": {},
   "outputs": [],
   "source": [
    "df['production_country'] = df['production_country'].fillna(value='Россия')"
   ]
  },
  {
   "cell_type": "markdown",
   "metadata": {},
   "source": [
    "Если проанализировать пропуски в столбце с данными о продюсере, можно увидеть, что в большинстве случаев они имеются в фильмах производства СССР. В этих фильмах есть данные только о режисере. Можно предположить, что режиссер выступал в данных случаях также продюсером и заполнить таким образом пропуски."
   ]
  },
  {
   "cell_type": "code",
   "execution_count": 174,
   "metadata": {
    "scrolled": true
   },
   "outputs": [
    {
     "data": {
      "text/html": [
       "<div>\n",
       "<style scoped>\n",
       "    .dataframe tbody tr th:only-of-type {\n",
       "        vertical-align: middle;\n",
       "    }\n",
       "\n",
       "    .dataframe tbody tr th {\n",
       "        vertical-align: top;\n",
       "    }\n",
       "\n",
       "    .dataframe thead th {\n",
       "        text-align: right;\n",
       "    }\n",
       "</style>\n",
       "<table border=\"1\" class=\"dataframe\">\n",
       "  <thead>\n",
       "    <tr style=\"text-align: right;\">\n",
       "      <th></th>\n",
       "      <th>title</th>\n",
       "      <th>puNumber</th>\n",
       "      <th>show_start_date</th>\n",
       "      <th>type</th>\n",
       "      <th>film_studio</th>\n",
       "      <th>production_country</th>\n",
       "      <th>director</th>\n",
       "      <th>producer</th>\n",
       "      <th>age_restriction</th>\n",
       "      <th>refundable_support</th>\n",
       "      <th>nonrefundable_support</th>\n",
       "      <th>budget</th>\n",
       "      <th>financing_source</th>\n",
       "      <th>ratings</th>\n",
       "      <th>genres</th>\n",
       "      <th>box_office</th>\n",
       "    </tr>\n",
       "  </thead>\n",
       "  <tbody>\n",
       "    <tr>\n",
       "      <td>1</td>\n",
       "      <td>Особо важное задание</td>\n",
       "      <td>111013716</td>\n",
       "      <td>2016-09-13</td>\n",
       "      <td>Художественный</td>\n",
       "      <td>Киностудия \"Мосфильм\"</td>\n",
       "      <td>СССР</td>\n",
       "      <td>Е.Матвеев</td>\n",
       "      <td>NaN</td>\n",
       "      <td>6</td>\n",
       "      <td>NaN</td>\n",
       "      <td>NaN</td>\n",
       "      <td>NaN</td>\n",
       "      <td>NaN</td>\n",
       "      <td>6.6</td>\n",
       "      <td>драма,военный</td>\n",
       "      <td>NaN</td>\n",
       "    </tr>\n",
       "    <tr>\n",
       "      <td>5</td>\n",
       "      <td>Остановился поезд</td>\n",
       "      <td>111013816</td>\n",
       "      <td>2016-09-13</td>\n",
       "      <td>Художественный</td>\n",
       "      <td>Киностудия \"Мосфильм\"</td>\n",
       "      <td>СССР</td>\n",
       "      <td>В.Абдрашитов</td>\n",
       "      <td>NaN</td>\n",
       "      <td>6</td>\n",
       "      <td>NaN</td>\n",
       "      <td>NaN</td>\n",
       "      <td>NaN</td>\n",
       "      <td>NaN</td>\n",
       "      <td>7.7</td>\n",
       "      <td>драма</td>\n",
       "      <td>NaN</td>\n",
       "    </tr>\n",
       "    <tr>\n",
       "      <td>6</td>\n",
       "      <td>Любовь и голуби</td>\n",
       "      <td>111007013</td>\n",
       "      <td>2013-10-18</td>\n",
       "      <td>Художественный</td>\n",
       "      <td>Киностудия \"Мосфильм\"</td>\n",
       "      <td>СССР</td>\n",
       "      <td>В.Меньшов</td>\n",
       "      <td>NaN</td>\n",
       "      <td>12</td>\n",
       "      <td>NaN</td>\n",
       "      <td>NaN</td>\n",
       "      <td>NaN</td>\n",
       "      <td>NaN</td>\n",
       "      <td>8.3</td>\n",
       "      <td>мелодрама,комедия</td>\n",
       "      <td>2700.0</td>\n",
       "    </tr>\n",
       "    <tr>\n",
       "      <td>9</td>\n",
       "      <td>Отпуск за свой счет</td>\n",
       "      <td>111019114</td>\n",
       "      <td>2014-12-01</td>\n",
       "      <td>Художественный</td>\n",
       "      <td>Киностудия \"Мосфильм\", Телевидение ВНР</td>\n",
       "      <td>СССР, Венгрия</td>\n",
       "      <td>В.Титов</td>\n",
       "      <td>NaN</td>\n",
       "      <td>12</td>\n",
       "      <td>NaN</td>\n",
       "      <td>NaN</td>\n",
       "      <td>NaN</td>\n",
       "      <td>NaN</td>\n",
       "      <td>7.8</td>\n",
       "      <td>мелодрама,комедия</td>\n",
       "      <td>NaN</td>\n",
       "    </tr>\n",
       "    <tr>\n",
       "      <td>11</td>\n",
       "      <td>Ответный ход</td>\n",
       "      <td>111019014</td>\n",
       "      <td>2014-12-01</td>\n",
       "      <td>Художественный</td>\n",
       "      <td>Киностудия \"Мосфильм\"</td>\n",
       "      <td>СССР</td>\n",
       "      <td>М.Туманишвили</td>\n",
       "      <td>NaN</td>\n",
       "      <td>12</td>\n",
       "      <td>NaN</td>\n",
       "      <td>NaN</td>\n",
       "      <td>NaN</td>\n",
       "      <td>NaN</td>\n",
       "      <td>7.8</td>\n",
       "      <td>боевик,драма,приключения</td>\n",
       "      <td>NaN</td>\n",
       "    </tr>\n",
       "  </tbody>\n",
       "</table>\n",
       "</div>"
      ],
      "text/plain": [
       "                   title   puNumber show_start_date            type  \\\n",
       "1   Особо важное задание  111013716      2016-09-13  Художественный   \n",
       "5      Остановился поезд  111013816      2016-09-13  Художественный   \n",
       "6        Любовь и голуби  111007013      2013-10-18  Художественный   \n",
       "9    Отпуск за свой счет  111019114      2014-12-01  Художественный   \n",
       "11          Ответный ход  111019014      2014-12-01  Художественный   \n",
       "\n",
       "                               film_studio production_country       director  \\\n",
       "1                    Киностудия \"Мосфильм\"               СССР      Е.Матвеев   \n",
       "5                    Киностудия \"Мосфильм\"               СССР   В.Абдрашитов   \n",
       "6                    Киностудия \"Мосфильм\"               СССР      В.Меньшов   \n",
       "9   Киностудия \"Мосфильм\", Телевидение ВНР      СССР, Венгрия        В.Титов   \n",
       "11                   Киностудия \"Мосфильм\"               СССР  М.Туманишвили   \n",
       "\n",
       "   producer  age_restriction  refundable_support  nonrefundable_support  \\\n",
       "1       NaN                6                 NaN                    NaN   \n",
       "5       NaN                6                 NaN                    NaN   \n",
       "6       NaN               12                 NaN                    NaN   \n",
       "9       NaN               12                 NaN                    NaN   \n",
       "11      NaN               12                 NaN                    NaN   \n",
       "\n",
       "    budget financing_source  ratings                    genres  box_office  \n",
       "1      NaN              NaN      6.6             драма,военный         NaN  \n",
       "5      NaN              NaN      7.7                     драма         NaN  \n",
       "6      NaN              NaN      8.3         мелодрама,комедия      2700.0  \n",
       "9      NaN              NaN      7.8         мелодрама,комедия         NaN  \n",
       "11     NaN              NaN      7.8  боевик,драма,приключения         NaN  "
      ]
     },
     "execution_count": 174,
     "metadata": {},
     "output_type": "execute_result"
    }
   ],
   "source": [
    "df.loc[df['producer'].isna()].head()"
   ]
  },
  {
   "cell_type": "code",
   "execution_count": 175,
   "metadata": {
    "scrolled": true
   },
   "outputs": [
    {
     "data": {
      "text/plain": [
       "СССР                                                        342\n",
       "Россия                                                       38\n",
       "Великобритания                                               33\n",
       "США                                                          24\n",
       "СССР                                                         20\n",
       "                                                           ... \n",
       "США - Великобритания - Италия - Израиль - Сербия - Индия      1\n",
       "Канада                                                        1\n",
       "США-Германия                                                  1\n",
       "СССР, ЧССР, Западный Берлин, ПНР                              1\n",
       "Бельгия - Испания - Канада - Нидерланды                       1\n",
       "Name: production_country, Length: 70, dtype: int64"
      ]
     },
     "execution_count": 175,
     "metadata": {},
     "output_type": "execute_result"
    }
   ],
   "source": [
    "df.loc[df['producer'].isna()]['production_country'].value_counts()"
   ]
  },
  {
   "cell_type": "code",
   "execution_count": 176,
   "metadata": {},
   "outputs": [],
   "source": [
    "df['producer'] = df['producer'].fillna(value=df['director'])"
   ]
  },
  {
   "cell_type": "markdown",
   "metadata": {},
   "source": [
    "Данные о режиссере пропущены в строках с данными о различных концертах видимо по той причине, что в этих случаях режиссер отсутствовал. Можно по аналогии с предыдущим вариантом скопировать значения из колонки с продюсером там, где они есть. Остаток же строк в этих колонках заполнить значением \"Неизвестен\"."
   ]
  },
  {
   "cell_type": "code",
   "execution_count": 177,
   "metadata": {
    "scrolled": true
   },
   "outputs": [
    {
     "data": {
      "text/html": [
       "<div>\n",
       "<style scoped>\n",
       "    .dataframe tbody tr th:only-of-type {\n",
       "        vertical-align: middle;\n",
       "    }\n",
       "\n",
       "    .dataframe tbody tr th {\n",
       "        vertical-align: top;\n",
       "    }\n",
       "\n",
       "    .dataframe thead th {\n",
       "        text-align: right;\n",
       "    }\n",
       "</style>\n",
       "<table border=\"1\" class=\"dataframe\">\n",
       "  <thead>\n",
       "    <tr style=\"text-align: right;\">\n",
       "      <th></th>\n",
       "      <th>title</th>\n",
       "      <th>puNumber</th>\n",
       "      <th>show_start_date</th>\n",
       "      <th>type</th>\n",
       "      <th>film_studio</th>\n",
       "      <th>production_country</th>\n",
       "      <th>director</th>\n",
       "      <th>producer</th>\n",
       "      <th>age_restriction</th>\n",
       "      <th>refundable_support</th>\n",
       "      <th>nonrefundable_support</th>\n",
       "      <th>budget</th>\n",
       "      <th>financing_source</th>\n",
       "      <th>ratings</th>\n",
       "      <th>genres</th>\n",
       "      <th>box_office</th>\n",
       "    </tr>\n",
       "  </thead>\n",
       "  <tbody>\n",
       "    <tr>\n",
       "      <td>764</td>\n",
       "      <td>Три звезды. Концерт в Waldbuhne Theater, Берли...</td>\n",
       "      <td>126003512</td>\n",
       "      <td>2012-12-04</td>\n",
       "      <td>Прочие</td>\n",
       "      <td>Райзинг Алтернатив</td>\n",
       "      <td>Великобритания</td>\n",
       "      <td>NaN</td>\n",
       "      <td>Вальдбюне Театр</td>\n",
       "      <td>0</td>\n",
       "      <td>NaN</td>\n",
       "      <td>NaN</td>\n",
       "      <td>NaN</td>\n",
       "      <td>NaN</td>\n",
       "      <td>NaN</td>\n",
       "      <td>NaN</td>\n",
       "      <td>44350.0</td>\n",
       "    </tr>\n",
       "    <tr>\n",
       "      <td>1735</td>\n",
       "      <td>Помпеи. Британский музей</td>\n",
       "      <td>126003413</td>\n",
       "      <td>2013-09-11</td>\n",
       "      <td>Прочие</td>\n",
       "      <td>МортуСкрин, Британский музей</td>\n",
       "      <td>Великобритания</td>\n",
       "      <td>NaN</td>\n",
       "      <td>Британский музей</td>\n",
       "      <td>0</td>\n",
       "      <td>NaN</td>\n",
       "      <td>NaN</td>\n",
       "      <td>NaN</td>\n",
       "      <td>NaN</td>\n",
       "      <td>NaN</td>\n",
       "      <td>NaN</td>\n",
       "      <td>NaN</td>\n",
       "    </tr>\n",
       "    <tr>\n",
       "      <td>3840</td>\n",
       "      <td>Зур концерт (Большой концерт).</td>\n",
       "      <td>217027010</td>\n",
       "      <td>2010-06-24</td>\n",
       "      <td>Художественный</td>\n",
       "      <td>ООО \"Барс Рекордс\"</td>\n",
       "      <td>Россия</td>\n",
       "      <td>NaN</td>\n",
       "      <td>NaN</td>\n",
       "      <td>12</td>\n",
       "      <td>NaN</td>\n",
       "      <td>NaN</td>\n",
       "      <td>NaN</td>\n",
       "      <td>NaN</td>\n",
       "      <td>NaN</td>\n",
       "      <td>NaN</td>\n",
       "      <td>NaN</td>\n",
       "    </tr>\n",
       "    <tr>\n",
       "      <td>4052</td>\n",
       "      <td>Ганс Сэйфуллин \"Авылым чишмэлэре. Ганс Сэйфулл...</td>\n",
       "      <td>217017310</td>\n",
       "      <td>2010-04-22</td>\n",
       "      <td>Художественный</td>\n",
       "      <td>ООО \"Барс-Рекордс\"</td>\n",
       "      <td>Россия</td>\n",
       "      <td>NaN</td>\n",
       "      <td>NaN</td>\n",
       "      <td>0</td>\n",
       "      <td>NaN</td>\n",
       "      <td>NaN</td>\n",
       "      <td>NaN</td>\n",
       "      <td>NaN</td>\n",
       "      <td>NaN</td>\n",
       "      <td>NaN</td>\n",
       "      <td>NaN</td>\n",
       "    </tr>\n",
       "    <tr>\n",
       "      <td>4298</td>\n",
       "      <td>Изге Вэли (Святой Валентин)</td>\n",
       "      <td>217020610</td>\n",
       "      <td>2010-05-20</td>\n",
       "      <td>Художественный</td>\n",
       "      <td>ООО \"Барс Рекордс\"</td>\n",
       "      <td>Россия</td>\n",
       "      <td>NaN</td>\n",
       "      <td>NaN</td>\n",
       "      <td>12</td>\n",
       "      <td>NaN</td>\n",
       "      <td>NaN</td>\n",
       "      <td>NaN</td>\n",
       "      <td>NaN</td>\n",
       "      <td>NaN</td>\n",
       "      <td>NaN</td>\n",
       "      <td>NaN</td>\n",
       "    </tr>\n",
       "    <tr>\n",
       "      <td>4415</td>\n",
       "      <td>Bon Jovi. The Circle Tour</td>\n",
       "      <td>126001710</td>\n",
       "      <td>2010-11-11</td>\n",
       "      <td>Прочие</td>\n",
       "      <td>Эншутц Интертейнмент Груп</td>\n",
       "      <td>США</td>\n",
       "      <td>NaN</td>\n",
       "      <td>Эншутц Интертейнмент Груп</td>\n",
       "      <td>0</td>\n",
       "      <td>NaN</td>\n",
       "      <td>NaN</td>\n",
       "      <td>NaN</td>\n",
       "      <td>NaN</td>\n",
       "      <td>7.9</td>\n",
       "      <td>концерт,музыка</td>\n",
       "      <td>NaN</td>\n",
       "    </tr>\n",
       "    <tr>\n",
       "      <td>4441</td>\n",
       "      <td>Мульт личности. Выпуск 5</td>\n",
       "      <td>214000410</td>\n",
       "      <td>2010-01-25</td>\n",
       "      <td>Художественный</td>\n",
       "      <td>Неизвестна</td>\n",
       "      <td>Россия</td>\n",
       "      <td>NaN</td>\n",
       "      <td>NaN</td>\n",
       "      <td>0</td>\n",
       "      <td>NaN</td>\n",
       "      <td>NaN</td>\n",
       "      <td>NaN</td>\n",
       "      <td>NaN</td>\n",
       "      <td>4.0</td>\n",
       "      <td>мультфильм,комедия</td>\n",
       "      <td>NaN</td>\n",
       "    </tr>\n",
       "    <tr>\n",
       "      <td>4923</td>\n",
       "      <td>Георг Фридрих Гендель. Мессия. Оратория. Корол...</td>\n",
       "      <td>126001111</td>\n",
       "      <td>2011-04-25</td>\n",
       "      <td>Прочие</td>\n",
       "      <td>Опус Арт</td>\n",
       "      <td>Великобритания</td>\n",
       "      <td>NaN</td>\n",
       "      <td>Короевский колледж Кембриджа</td>\n",
       "      <td>0</td>\n",
       "      <td>NaN</td>\n",
       "      <td>NaN</td>\n",
       "      <td>NaN</td>\n",
       "      <td>NaN</td>\n",
       "      <td>NaN</td>\n",
       "      <td>NaN</td>\n",
       "      <td>NaN</td>\n",
       "    </tr>\n",
       "    <tr>\n",
       "      <td>4942</td>\n",
       "      <td>Питер Гэбриэл и New Blood Orchestra 3D</td>\n",
       "      <td>126002711</td>\n",
       "      <td>2011-11-11</td>\n",
       "      <td>Прочие</td>\n",
       "      <td>Омниверс Визион</td>\n",
       "      <td>Великобритания</td>\n",
       "      <td>NaN</td>\n",
       "      <td>Омниверс Визион</td>\n",
       "      <td>0</td>\n",
       "      <td>NaN</td>\n",
       "      <td>NaN</td>\n",
       "      <td>NaN</td>\n",
       "      <td>NaN</td>\n",
       "      <td>6.7</td>\n",
       "      <td>концерт,музыка</td>\n",
       "      <td>NaN</td>\n",
       "    </tr>\n",
       "  </tbody>\n",
       "</table>\n",
       "</div>"
      ],
      "text/plain": [
       "                                                  title   puNumber  \\\n",
       "764   Три звезды. Концерт в Waldbuhne Theater, Берли...  126003512   \n",
       "1735                           Помпеи. Британский музей  126003413   \n",
       "3840                     Зур концерт (Большой концерт).  217027010   \n",
       "4052  Ганс Сэйфуллин \"Авылым чишмэлэре. Ганс Сэйфулл...  217017310   \n",
       "4298                        Изге Вэли (Святой Валентин)  217020610   \n",
       "4415                          Bon Jovi. The Circle Tour  126001710   \n",
       "4441                           Мульт личности. Выпуск 5  214000410   \n",
       "4923  Георг Фридрих Гендель. Мессия. Оратория. Корол...  126001111   \n",
       "4942             Питер Гэбриэл и New Blood Orchestra 3D  126002711   \n",
       "\n",
       "     show_start_date            type                   film_studio  \\\n",
       "764       2012-12-04          Прочие            Райзинг Алтернатив   \n",
       "1735      2013-09-11          Прочие  МортуСкрин, Британский музей   \n",
       "3840      2010-06-24  Художественный            ООО \"Барс Рекордс\"   \n",
       "4052      2010-04-22  Художественный            ООО \"Барс-Рекордс\"   \n",
       "4298      2010-05-20  Художественный            ООО \"Барс Рекордс\"   \n",
       "4415      2010-11-11          Прочие     Эншутц Интертейнмент Груп   \n",
       "4441      2010-01-25  Художественный                    Неизвестна   \n",
       "4923      2011-04-25          Прочие                      Опус Арт   \n",
       "4942      2011-11-11          Прочие               Омниверс Визион   \n",
       "\n",
       "     production_country director                      producer  \\\n",
       "764      Великобритания      NaN               Вальдбюне Театр   \n",
       "1735     Великобритания      NaN              Британский музей   \n",
       "3840             Россия      NaN                           NaN   \n",
       "4052             Россия      NaN                           NaN   \n",
       "4298             Россия      NaN                           NaN   \n",
       "4415                США      NaN     Эншутц Интертейнмент Груп   \n",
       "4441             Россия      NaN                           NaN   \n",
       "4923     Великобритания      NaN  Короевский колледж Кембриджа   \n",
       "4942     Великобритания      NaN               Омниверс Визион   \n",
       "\n",
       "      age_restriction  refundable_support  nonrefundable_support  budget  \\\n",
       "764                 0                 NaN                    NaN     NaN   \n",
       "1735                0                 NaN                    NaN     NaN   \n",
       "3840               12                 NaN                    NaN     NaN   \n",
       "4052                0                 NaN                    NaN     NaN   \n",
       "4298               12                 NaN                    NaN     NaN   \n",
       "4415                0                 NaN                    NaN     NaN   \n",
       "4441                0                 NaN                    NaN     NaN   \n",
       "4923                0                 NaN                    NaN     NaN   \n",
       "4942                0                 NaN                    NaN     NaN   \n",
       "\n",
       "     financing_source  ratings              genres  box_office  \n",
       "764               NaN      NaN                 NaN     44350.0  \n",
       "1735              NaN      NaN                 NaN         NaN  \n",
       "3840              NaN      NaN                 NaN         NaN  \n",
       "4052              NaN      NaN                 NaN         NaN  \n",
       "4298              NaN      NaN                 NaN         NaN  \n",
       "4415              NaN      7.9      концерт,музыка         NaN  \n",
       "4441              NaN      4.0  мультфильм,комедия         NaN  \n",
       "4923              NaN      NaN                 NaN         NaN  \n",
       "4942              NaN      6.7      концерт,музыка         NaN  "
      ]
     },
     "execution_count": 177,
     "metadata": {},
     "output_type": "execute_result"
    }
   ],
   "source": [
    "df.loc[df['director'].isna()]"
   ]
  },
  {
   "cell_type": "code",
   "execution_count": 178,
   "metadata": {},
   "outputs": [],
   "source": [
    "df['director'] = df['director'].fillna(value=df['producer'])\n",
    "df['director'] = df['director'].fillna(value='Неизвестен')\n",
    "df['producer'] = df['producer'].fillna(value='Неизвестен')"
   ]
  },
  {
   "cell_type": "code",
   "execution_count": 179,
   "metadata": {
    "scrolled": true
   },
   "outputs": [
    {
     "name": "stdout",
     "output_type": "stream",
     "text": [
      "<class 'pandas.core.frame.DataFrame'>\n",
      "Int64Index: 7486 entries, 0 to 7485\n",
      "Data columns (total 16 columns):\n",
      "title                    7486 non-null object\n",
      "puNumber                 7486 non-null int64\n",
      "show_start_date          7486 non-null object\n",
      "type                     7486 non-null object\n",
      "film_studio              7486 non-null object\n",
      "production_country       7486 non-null object\n",
      "director                 7486 non-null object\n",
      "producer                 7486 non-null object\n",
      "age_restriction          7486 non-null int64\n",
      "refundable_support       332 non-null float64\n",
      "nonrefundable_support    332 non-null float64\n",
      "budget                   332 non-null float64\n",
      "financing_source         332 non-null object\n",
      "ratings                  6519 non-null float64\n",
      "genres                   6510 non-null object\n",
      "box_office               3158 non-null float64\n",
      "dtypes: float64(5), int64(2), object(9)\n",
      "memory usage: 994.2+ KB\n"
     ]
    }
   ],
   "source": [
    "df.info()"
   ]
  },
  {
   "cell_type": "markdown",
   "metadata": {},
   "source": [
    "Остальные данные заполнить не представляется возможным. Очевидно, что государственную поддержку получили не все фильмы. Рейтинг и жанр фильма невозможно предположить из каких-либо прочих данных таблицы или указать какое-либо среднее значение. Данные же о сборах есть меньше чем для половины прокатных удостоверений. В данном случае есть возможность не заполнить их, а только проанализировать в дальнейшем зависимость сборов для разных видов фильмов."
   ]
  },
  {
   "cell_type": "markdown",
   "metadata": {
    "id": "4c6k1t9ygFyQ"
   },
   "source": [
    "#### Изучение дубликатов в датафрейме"
   ]
  },
  {
   "cell_type": "code",
   "execution_count": 180,
   "metadata": {
    "id": "aKck8RIdgFyQ"
   },
   "outputs": [
    {
     "data": {
      "text/plain": [
       "0"
      ]
     },
     "execution_count": 180,
     "metadata": {},
     "output_type": "execute_result"
    }
   ],
   "source": [
    "df.duplicated().sum()"
   ]
  },
  {
   "cell_type": "markdown",
   "metadata": {},
   "source": [
    "Полностью повторяющихся строк нет. Названия фильмов могут повторяться, т.к. для одного фильма может быть несколько прокатных удостоверений. Можно проверить дубликаты в столбце с номерами удостоверений."
   ]
  },
  {
   "cell_type": "code",
   "execution_count": 181,
   "metadata": {},
   "outputs": [
    {
     "data": {
      "text/plain": [
       "2"
      ]
     },
     "execution_count": 181,
     "metadata": {},
     "output_type": "execute_result"
    }
   ],
   "source": [
    "df['puNumber'].duplicated().sum()"
   ]
  },
  {
   "cell_type": "code",
   "execution_count": 182,
   "metadata": {
    "scrolled": true
   },
   "outputs": [
    {
     "data": {
      "text/html": [
       "<div>\n",
       "<style scoped>\n",
       "    .dataframe tbody tr th:only-of-type {\n",
       "        vertical-align: middle;\n",
       "    }\n",
       "\n",
       "    .dataframe tbody tr th {\n",
       "        vertical-align: top;\n",
       "    }\n",
       "\n",
       "    .dataframe thead th {\n",
       "        text-align: right;\n",
       "    }\n",
       "</style>\n",
       "<table border=\"1\" class=\"dataframe\">\n",
       "  <thead>\n",
       "    <tr style=\"text-align: right;\">\n",
       "      <th></th>\n",
       "      <th>title</th>\n",
       "      <th>puNumber</th>\n",
       "      <th>show_start_date</th>\n",
       "      <th>type</th>\n",
       "      <th>film_studio</th>\n",
       "      <th>production_country</th>\n",
       "      <th>director</th>\n",
       "      <th>producer</th>\n",
       "      <th>age_restriction</th>\n",
       "      <th>refundable_support</th>\n",
       "      <th>nonrefundable_support</th>\n",
       "      <th>budget</th>\n",
       "      <th>financing_source</th>\n",
       "      <th>ratings</th>\n",
       "      <th>genres</th>\n",
       "      <th>box_office</th>\n",
       "    </tr>\n",
       "  </thead>\n",
       "  <tbody>\n",
       "    <tr>\n",
       "      <td>4638</td>\n",
       "      <td>Как жениться и остаться холостым</td>\n",
       "      <td>221154310</td>\n",
       "      <td>2010-12-17</td>\n",
       "      <td>Художественный</td>\n",
       "      <td>Ше Вам, Скрипт Ассосье, Тэ Фэ 1 Фильм Продюксь...</td>\n",
       "      <td>Франция</td>\n",
       "      <td>Эрик Лартиго</td>\n",
       "      <td>Амандин Било, Алан Шаба</td>\n",
       "      <td>16</td>\n",
       "      <td>NaN</td>\n",
       "      <td>NaN</td>\n",
       "      <td>NaN</td>\n",
       "      <td>NaN</td>\n",
       "      <td>7.0</td>\n",
       "      <td>мелодрама,комедия</td>\n",
       "      <td>NaN</td>\n",
       "    </tr>\n",
       "    <tr>\n",
       "      <td>4639</td>\n",
       "      <td>Иоанна - женщина на папском престоле /По роман...</td>\n",
       "      <td>221154310</td>\n",
       "      <td>2010-12-17</td>\n",
       "      <td>Художественный</td>\n",
       "      <td>Константин Фильм, А Эр Ди Дегето Фильм, Дюне ...</td>\n",
       "      <td>Германия - Великобритания - Италия - Испания</td>\n",
       "      <td>Зенке Вортманн</td>\n",
       "      <td>Оливер Бербен, Дорис Д.Хайнце, Фарук Элтан</td>\n",
       "      <td>16</td>\n",
       "      <td>NaN</td>\n",
       "      <td>NaN</td>\n",
       "      <td>NaN</td>\n",
       "      <td>NaN</td>\n",
       "      <td>7.6</td>\n",
       "      <td>драма,мелодрама,история</td>\n",
       "      <td>NaN</td>\n",
       "    </tr>\n",
       "    <tr>\n",
       "      <td>5067</td>\n",
       "      <td>Анализируй это!</td>\n",
       "      <td>221054410</td>\n",
       "      <td>2010-05-25</td>\n",
       "      <td>Художественный</td>\n",
       "      <td>Уорнер Бразерс, Вилладж Роудшоу Филмз ЛТД</td>\n",
       "      <td>США-Австралия</td>\n",
       "      <td>ХЭрольд Рэмис</td>\n",
       "      <td>Джейн Розенталь, Пола Уейнстейн</td>\n",
       "      <td>16</td>\n",
       "      <td>NaN</td>\n",
       "      <td>NaN</td>\n",
       "      <td>NaN</td>\n",
       "      <td>NaN</td>\n",
       "      <td>7.4</td>\n",
       "      <td>комедия,криминал</td>\n",
       "      <td>NaN</td>\n",
       "    </tr>\n",
       "    <tr>\n",
       "      <td>5068</td>\n",
       "      <td>Анализируй то!</td>\n",
       "      <td>221054410</td>\n",
       "      <td>2010-05-25</td>\n",
       "      <td>Художественный</td>\n",
       "      <td>Уорнер Бразерс, Виллидж Роадшоу Пикчерз, Эн-Пи...</td>\n",
       "      <td>США</td>\n",
       "      <td>Гарольд Реймис</td>\n",
       "      <td>Джейн Розенталь, Паул Уэйнстейн</td>\n",
       "      <td>12</td>\n",
       "      <td>NaN</td>\n",
       "      <td>NaN</td>\n",
       "      <td>NaN</td>\n",
       "      <td>NaN</td>\n",
       "      <td>6.8</td>\n",
       "      <td>комедия,криминал</td>\n",
       "      <td>NaN</td>\n",
       "    </tr>\n",
       "  </tbody>\n",
       "</table>\n",
       "</div>"
      ],
      "text/plain": [
       "                                                  title   puNumber  \\\n",
       "4638                   Как жениться и остаться холостым  221154310   \n",
       "4639  Иоанна - женщина на папском престоле /По роман...  221154310   \n",
       "5067                                    Анализируй это!  221054410   \n",
       "5068                                     Анализируй то!  221054410   \n",
       "\n",
       "     show_start_date            type  \\\n",
       "4638      2010-12-17  Художественный   \n",
       "4639      2010-12-17  Художественный   \n",
       "5067      2010-05-25  Художественный   \n",
       "5068      2010-05-25  Художественный   \n",
       "\n",
       "                                            film_studio  \\\n",
       "4638  Ше Вам, Скрипт Ассосье, Тэ Фэ 1 Фильм Продюксь...   \n",
       "4639   Константин Фильм, А Эр Ди Дегето Фильм, Дюне ...   \n",
       "5067          Уорнер Бразерс, Вилладж Роудшоу Филмз ЛТД   \n",
       "5068  Уорнер Бразерс, Виллидж Роадшоу Пикчерз, Эн-Пи...   \n",
       "\n",
       "                                production_country        director  \\\n",
       "4638                                       Франция    Эрик Лартиго   \n",
       "4639  Германия - Великобритания - Италия - Испания  Зенке Вортманн   \n",
       "5067                                 США-Австралия   ХЭрольд Рэмис   \n",
       "5068                                           США  Гарольд Реймис   \n",
       "\n",
       "                                        producer  age_restriction  \\\n",
       "4638                     Амандин Било, Алан Шаба               16   \n",
       "4639  Оливер Бербен, Дорис Д.Хайнце, Фарук Элтан               16   \n",
       "5067             Джейн Розенталь, Пола Уейнстейн               16   \n",
       "5068             Джейн Розенталь, Паул Уэйнстейн               12   \n",
       "\n",
       "      refundable_support  nonrefundable_support  budget financing_source  \\\n",
       "4638                 NaN                    NaN     NaN              NaN   \n",
       "4639                 NaN                    NaN     NaN              NaN   \n",
       "5067                 NaN                    NaN     NaN              NaN   \n",
       "5068                 NaN                    NaN     NaN              NaN   \n",
       "\n",
       "      ratings                   genres  box_office  \n",
       "4638      7.0        мелодрама,комедия         NaN  \n",
       "4639      7.6  драма,мелодрама,история         NaN  \n",
       "5067      7.4         комедия,криминал         NaN  \n",
       "5068      6.8         комедия,криминал         NaN  "
      ]
     },
     "execution_count": 182,
     "metadata": {},
     "output_type": "execute_result"
    }
   ],
   "source": [
    "df[df.duplicated(['puNumber'], keep=False)]"
   ]
  },
  {
   "cell_type": "markdown",
   "metadata": {},
   "source": [
    "Можно предположить, что ошибка в первом случае была допущена при копировании данных в первом случае - из-за одной и той же даты выхода фильма, а во втором случае - также из-за похожих названий. Поскольку фильмы в данных строках разные, удалять дубликаты нет смысла."
   ]
  },
  {
   "cell_type": "markdown",
   "metadata": {
    "id": "52fOPrEBgFyQ"
   },
   "source": [
    "#### Изучение категориальных значений"
   ]
  },
  {
   "cell_type": "markdown",
   "metadata": {},
   "source": [
    "Общая проблема категориальных данных в том, что очевидно отсутствуют какие-либо общие стандарты занесения этой информации. Получается достаточно мало повторяющихся значений и много уникальных, что затрудняет выявление закономерностей. Одни и те же данные могут быть записаны по-разному: в кавычках или без, капслоком, через дефис, запятую, данные о режиссере и продюсере могут быть указаны как с инициалами, так и полностью.\n",
    "\n",
    "Такое отсутствие единообразия не лишает возможности произвести анализ для фильмов определенной страны или жанра, выбирая название из строки. Сортировка фильмов по студии или режиссеру будет более затруднительной."
   ]
  },
  {
   "cell_type": "code",
   "execution_count": 183,
   "metadata": {
    "id": "PnXKIVdFgFyR"
   },
   "outputs": [
    {
     "data": {
      "text/plain": [
       "array(['Тачстоун Пикчерз, Кобальт Пикчерз, Бикон Пикчерз, Тиг Продакшнз',\n",
       "       'Киностудия \"Мосфильм\"',\n",
       "       'Юниверсал Пикчерз, Кикстарт Продакшнз, Марк Платт Продакшнз, Рилейтивити Медиа, Спайгласс Интертейнмент, Стилкин Филмз, Топ Кау Продакшнз',\n",
       "       ...,\n",
       "       'Дэниел Гродник Продакшнз, Вандерфилм Медиа Корпорэйшн, Импринт Интертейнмент, Вор Хорс Интертейнмент, Пимиента ',\n",
       "       'Никелодеон Анимейшн Студиос, Спин Мастер',\n",
       "       'Анимаккорд Лтд., ООО Студия \"АНИМАККОРД\"'], dtype=object)"
      ]
     },
     "execution_count": 183,
     "metadata": {},
     "output_type": "execute_result"
    }
   ],
   "source": [
    "df['film_studio'].unique()"
   ]
  },
  {
   "cell_type": "code",
   "execution_count": 184,
   "metadata": {
    "scrolled": true
   },
   "outputs": [
    {
     "data": {
      "text/plain": [
       "США                                        2172\n",
       "Россия                                     1823\n",
       "СССР                                        347\n",
       "Франция                                     301\n",
       "Великобритания                              257\n",
       "                                           ... \n",
       "Бразилия - Испания                            1\n",
       "Ирландия - Великобритания - США               1\n",
       "Испания - США - Великобритания - Канада       1\n",
       "Россия, Сербия                                1\n",
       "США - Германия - Япония                       1\n",
       "Name: production_country, Length: 950, dtype: int64"
      ]
     },
     "execution_count": 184,
     "metadata": {},
     "output_type": "execute_result"
    }
   ],
   "source": [
    "df['production_country'].value_counts()"
   ]
  },
  {
   "cell_type": "code",
   "execution_count": 185,
   "metadata": {
    "scrolled": false
   },
   "outputs": [
    {
     "data": {
      "text/plain": [
       "П.Смирнов                                         67\n",
       "Олег Кузовков, Дмитрий Ловейко, Марина Ратина     28\n",
       "С.Сельянов                                        18\n",
       "Д.Ловейко, О.Кузовков                             17\n",
       "Джерри Брукхаймер                                 11\n",
       "                                                  ..\n",
       "Стефано Галлини-Дуранте, Дин Занук                 1\n",
       "Джейн Розенталь, Паул Уэйнстейн                    1\n",
       "Н.Муминова, А.Егай, В.Козлов                       1\n",
       "Тимур Бекмамбетов, Джейсон Блум, Нельсон Гривз     1\n",
       "К.Шахназаров, А.Бородянский                        1\n",
       "Name: producer, Length: 5714, dtype: int64"
      ]
     },
     "execution_count": 185,
     "metadata": {},
     "output_type": "execute_result"
    }
   ],
   "source": [
    "df['producer'].value_counts()"
   ]
  },
  {
   "cell_type": "code",
   "execution_count": 186,
   "metadata": {
    "scrolled": true
   },
   "outputs": [
    {
     "data": {
      "text/plain": [
       "драма                              476\n",
       "комедия                            352\n",
       "мелодрама,комедия                  222\n",
       "драма,мелодрама,комедия            189\n",
       "драма,мелодрама                    183\n",
       "                                  ... \n",
       "документальный,музыка,биография      1\n",
       "документальный,новости,драма         1\n",
       "мультфильм,семейный,драма            1\n",
       "биография,военный,драма              1\n",
       "драма,спорт,история                  1\n",
       "Name: genres, Length: 742, dtype: int64"
      ]
     },
     "execution_count": 186,
     "metadata": {},
     "output_type": "execute_result"
    }
   ],
   "source": [
    "df['genres'].value_counts()"
   ]
  },
  {
   "cell_type": "markdown",
   "metadata": {},
   "source": [
    "В строке с типом фильма достаточно мало уникальных значений. Если удалить пробелы, получится небольшой список, удобный для сортировки и анализа."
   ]
  },
  {
   "cell_type": "code",
   "execution_count": 187,
   "metadata": {},
   "outputs": [
    {
     "data": {
      "text/plain": [
       "array(['Художественный', 'Анимационный', 'Прочие', 'Документальный',\n",
       "       'Научно-популярный', ' Художественный', ' Анимационный',\n",
       "       'Музыкально-развлекательный'], dtype=object)"
      ]
     },
     "execution_count": 187,
     "metadata": {},
     "output_type": "execute_result"
    }
   ],
   "source": [
    "df['type'].unique()"
   ]
  },
  {
   "cell_type": "code",
   "execution_count": 188,
   "metadata": {},
   "outputs": [
    {
     "data": {
      "text/plain": [
       "array(['Художественный', 'Анимационный', 'Прочие', 'Документальный',\n",
       "       'Научно-популярный', 'Музыкально-развлекательный'], dtype=object)"
      ]
     },
     "execution_count": 188,
     "metadata": {},
     "output_type": "execute_result"
    }
   ],
   "source": [
    "df['type']=df['type'].str.strip()\n",
    "df['type'].unique()"
   ]
  },
  {
   "cell_type": "markdown",
   "metadata": {
    "id": "XFSN5lrEgFyR"
   },
   "source": [
    "#### Проверка количественных значений"
   ]
  },
  {
   "cell_type": "markdown",
   "metadata": {
    "id": "YbzClBxagFyS"
   },
   "source": [
    "Количественные значения есть в столбцах с рейтингом, данными о гос.финансировании и данными о сборах. Проверим, какие проблемы есть в этих данных."
   ]
  },
  {
   "cell_type": "code",
   "execution_count": 189,
   "metadata": {
    "scrolled": true
   },
   "outputs": [
    {
     "data": {
      "image/png": "[encoded data removed]",
      "text/plain": [
       "<Figure size 432x288 with 1 Axes>"
      ]
     },
     "metadata": {
      "needs_background": "light"
     },
     "output_type": "display_data"
    }
   ],
   "source": [
    "df['ratings'].hist()\n",
    "plt.title('ratings')\n",
    "plt.show()"
   ]
  },
  {
   "cell_type": "markdown",
   "metadata": {},
   "source": [
    "В случае с рейтингом проблем нет: как и полагается, рейтинги находятся в границах от 0 до 10 баллов.\n",
    "\n",
    "Что касается объема гос.поддержки, то сумма возвратных и невозвратных средств должна совпадать с общим бюджетом фильма."
   ]
  },
  {
   "cell_type": "code",
   "execution_count": 190,
   "metadata": {},
   "outputs": [
    {
     "name": "stdout",
     "output_type": "stream",
     "text": [
      "<class 'pandas.core.frame.DataFrame'>\n",
      "Int64Index: 332 entries, 1281 to 7478\n",
      "Data columns (total 16 columns):\n",
      "title                    332 non-null object\n",
      "puNumber                 332 non-null int64\n",
      "show_start_date          332 non-null object\n",
      "type                     332 non-null object\n",
      "film_studio              332 non-null object\n",
      "production_country       332 non-null object\n",
      "director                 332 non-null object\n",
      "producer                 332 non-null object\n",
      "age_restriction          332 non-null int64\n",
      "refundable_support       332 non-null float64\n",
      "nonrefundable_support    332 non-null float64\n",
      "budget                   332 non-null float64\n",
      "financing_source         332 non-null object\n",
      "ratings                  316 non-null float64\n",
      "genres                   316 non-null object\n",
      "box_office               318 non-null float64\n",
      "dtypes: float64(5), int64(2), object(9)\n",
      "memory usage: 44.1+ KB\n"
     ]
    }
   ],
   "source": [
    "df.dropna(subset=['budget', 'refundable_support', 'nonrefundable_support']).info()"
   ]
  },
  {
   "cell_type": "markdown",
   "metadata": {},
   "source": [
    "После удаления пропусков видно, что строки, где имеется некорректная информация о господдержке, отсутствуют. Если есть общий бюджет фильма, то указан также объем возвратных и невозвратных средств. Теперь можно проверить соотношение данных в 3 колонках."
   ]
  },
  {
   "cell_type": "code",
   "execution_count": 191,
   "metadata": {
    "scrolled": true
   },
   "outputs": [
    {
     "data": {
      "text/html": [
       "<div>\n",
       "<style scoped>\n",
       "    .dataframe tbody tr th:only-of-type {\n",
       "        vertical-align: middle;\n",
       "    }\n",
       "\n",
       "    .dataframe tbody tr th {\n",
       "        vertical-align: top;\n",
       "    }\n",
       "\n",
       "    .dataframe thead th {\n",
       "        text-align: right;\n",
       "    }\n",
       "</style>\n",
       "<table border=\"1\" class=\"dataframe\">\n",
       "  <thead>\n",
       "    <tr style=\"text-align: right;\">\n",
       "      <th></th>\n",
       "      <th>budget</th>\n",
       "      <th>refundable_support</th>\n",
       "      <th>nonrefundable_support</th>\n",
       "    </tr>\n",
       "  </thead>\n",
       "  <tbody>\n",
       "    <tr>\n",
       "      <td>2053</td>\n",
       "      <td>0.0</td>\n",
       "      <td>0.0</td>\n",
       "      <td>23000000.0</td>\n",
       "    </tr>\n",
       "    <tr>\n",
       "      <td>2058</td>\n",
       "      <td>0.0</td>\n",
       "      <td>0.0</td>\n",
       "      <td>75000000.0</td>\n",
       "    </tr>\n",
       "    <tr>\n",
       "      <td>2472</td>\n",
       "      <td>0.0</td>\n",
       "      <td>10000000.0</td>\n",
       "      <td>70000000.0</td>\n",
       "    </tr>\n",
       "    <tr>\n",
       "      <td>2532</td>\n",
       "      <td>0.0</td>\n",
       "      <td>20000000.0</td>\n",
       "      <td>0.0</td>\n",
       "    </tr>\n",
       "    <tr>\n",
       "      <td>2615</td>\n",
       "      <td>0.0</td>\n",
       "      <td>60000000.0</td>\n",
       "      <td>100000000.0</td>\n",
       "    </tr>\n",
       "  </tbody>\n",
       "</table>\n",
       "</div>"
      ],
      "text/plain": [
       "      budget  refundable_support  nonrefundable_support\n",
       "2053     0.0                 0.0             23000000.0\n",
       "2058     0.0                 0.0             75000000.0\n",
       "2472     0.0          10000000.0             70000000.0\n",
       "2532     0.0          20000000.0                    0.0\n",
       "2615     0.0          60000000.0            100000000.0"
      ]
     },
     "execution_count": 191,
     "metadata": {},
     "output_type": "execute_result"
    }
   ],
   "source": [
    "df.loc[df['budget']<df['refundable_support']+df['nonrefundable_support']][['budget', 'refundable_support', 'nonrefundable_support']].head()"
   ]
  },
  {
   "cell_type": "markdown",
   "metadata": {},
   "source": [
    "Оказывается есть строки, в которых общий бюджет не указан, хотя имеется господдержка. Полагаю, что необходимо поменять нулевые значения на сумму столбцов возвратных и невозвратных средств."
   ]
  },
  {
   "cell_type": "code",
   "execution_count": 192,
   "metadata": {},
   "outputs": [],
   "source": [
    "df['budget']=df['budget'].replace(0, df['refundable_support']+df['nonrefundable_support'])"
   ]
  },
  {
   "cell_type": "code",
   "execution_count": 193,
   "metadata": {},
   "outputs": [
    {
     "data": {
      "text/plain": [
       "0"
      ]
     },
     "execution_count": 193,
     "metadata": {},
     "output_type": "execute_result"
    }
   ],
   "source": [
    "len(df.loc[df['budget']==0])"
   ]
  },
  {
   "cell_type": "markdown",
   "metadata": {},
   "source": [
    "Также необходимо проанализировать данные в столбце с информацией о сборах. Для этого переведем данные в столбце в миллионы."
   ]
  },
  {
   "cell_type": "code",
   "execution_count": 194,
   "metadata": {},
   "outputs": [
    {
     "data": {
      "image/png": "[encoded data removed]",
      "text/plain": [
       "<Figure size 432x288 with 1 Axes>"
      ]
     },
     "metadata": {
      "needs_background": "light"
     },
     "output_type": "display_data"
    }
   ],
   "source": [
    "df['box_office'] = df['box_office']/1000000\n",
    "df['box_office'].hist()\n",
    "plt.title('box_office')\n",
    "plt.show()"
   ]
  },
  {
   "cell_type": "markdown",
   "metadata": {},
   "source": [
    "В таблице большинство фильмов имело низкие сборы. Можно было бы заменить на NaN строки, где сборы указаны нулевые, но отсутствие данных о сборах и нулевые сборы не одно и то же."
   ]
  },
  {
   "cell_type": "markdown",
   "metadata": {
    "id": "Eu6oWp2CgFyS"
   },
   "source": [
    "#### Добавление новых столбцов\n",
    "\n",
    "\n",
    "\n"
   ]
  },
  {
   "cell_type": "markdown",
   "metadata": {
    "id": "7GgW-UpAgFyS"
   },
   "source": [
    "- Столбец с информацией о годе проката."
   ]
  },
  {
   "cell_type": "code",
   "execution_count": 195,
   "metadata": {
    "id": "I-yd1DkWgFyT"
   },
   "outputs": [],
   "source": [
    "df['year']=pd.to_datetime(df['show_start_date'], format='%Y-%m-%d').dt.year"
   ]
  },
  {
   "cell_type": "markdown",
   "metadata": {
    "id": "nFTDLDYOgFyT"
   },
   "source": [
    "- Два столбца: с именем и фамилией главного режиссёра и основным жанром фильма. В столбцы входят первые значения из списка режиссёров и жанров соответственно."
   ]
  },
  {
   "cell_type": "code",
   "execution_count": 196,
   "metadata": {
    "id": "LSbRZKbMgFyU"
   },
   "outputs": [],
   "source": [
    "def first_value(info):\n",
    "    info = info.split(',')\n",
    "    return info[0]"
   ]
  },
  {
   "cell_type": "code",
   "execution_count": 197,
   "metadata": {},
   "outputs": [],
   "source": [
    "df['main_director'] = df['director']\n",
    "df['main_director'] = df['main_director'].apply(first_value)"
   ]
  },
  {
   "cell_type": "code",
   "execution_count": 198,
   "metadata": {
    "scrolled": true
   },
   "outputs": [
    {
     "data": {
      "text/plain": [
       "0           Кевин Костнер\n",
       "1               Е.Матвеев\n",
       "2       Тимур Бекмамбетов\n",
       "3       Тимур Бекмамбетов\n",
       "4       Тимур Бекмамбетов\n",
       "              ...        \n",
       "7481          Фил Грабски\n",
       "7482           Ник Пауэлл\n",
       "7483     Чарльз Е.Бастьен\n",
       "7484             А.Беляев\n",
       "7485             И.Трусов\n",
       "Name: director, Length: 7486, dtype: object"
      ]
     },
     "execution_count": 198,
     "metadata": {},
     "output_type": "execute_result"
    }
   ],
   "source": [
    "df['director'].str.split(',').str[0]"
   ]
  },
  {
   "cell_type": "markdown",
   "metadata": {
    "id": "1FsCXHwdgFyU"
   },
   "source": [
    "- Доля государственной поддержки от общего бюджета фильма."
   ]
  },
  {
   "cell_type": "code",
   "execution_count": 199,
   "metadata": {},
   "outputs": [],
   "source": [
    "df['support_share'] = (df['refundable_support']+df['nonrefundable_support'])/df['budget']*100"
   ]
  },
  {
   "cell_type": "code",
   "execution_count": 200,
   "metadata": {},
   "outputs": [
    {
     "data": {
      "text/plain": [
       "count    332.000000\n",
       "mean      54.209799\n",
       "std       19.692515\n",
       "min        4.404305\n",
       "25%       38.461538\n",
       "50%       61.403763\n",
       "75%       66.141160\n",
       "max      100.000000\n",
       "Name: support_share, dtype: float64"
      ]
     },
     "execution_count": 200,
     "metadata": {},
     "output_type": "execute_result"
    }
   ],
   "source": [
    "df['support_share'].describe()"
   ]
  },
  {
   "cell_type": "markdown",
   "metadata": {
    "id": "6t4EukPLgFyV"
   },
   "source": [
    "### Исследовательский анализ данных\n"
   ]
  },
  {
   "cell_type": "markdown",
   "metadata": {},
   "source": [
    "#### Количество фильмов в прокате по годам."
   ]
  },
  {
   "cell_type": "markdown",
   "metadata": {
    "id": "vAH8WCzugFyV"
   },
   "source": [
    "Выясняя, сколько фильмов выходило в прокат каждый год, следует обратить внимание на то, какую долю составляют фильмы с указанной информацией о прокате в кинотеатрах.\n",
    "\n",
    "При подсчете количества фильмов в год необходимо учитывать, что названия некоторых фильмов повторяются, т.к. фильм может получить несколько прокатных удостоверений. "
   ]
  },
  {
   "cell_type": "code",
   "execution_count": 201,
   "metadata": {
    "scrolled": true
   },
   "outputs": [
    {
     "data": {
      "text/html": [
       "<div>\n",
       "<style scoped>\n",
       "    .dataframe tbody tr th:only-of-type {\n",
       "        vertical-align: middle;\n",
       "    }\n",
       "\n",
       "    .dataframe tbody tr th {\n",
       "        vertical-align: top;\n",
       "    }\n",
       "\n",
       "    .dataframe thead th {\n",
       "        text-align: right;\n",
       "    }\n",
       "</style>\n",
       "<table border=\"1\" class=\"dataframe\">\n",
       "  <thead>\n",
       "    <tr style=\"text-align: right;\">\n",
       "      <th></th>\n",
       "      <th>unique_movies</th>\n",
       "      <th>box_office</th>\n",
       "    </tr>\n",
       "    <tr>\n",
       "      <th>year</th>\n",
       "      <th></th>\n",
       "      <th></th>\n",
       "    </tr>\n",
       "  </thead>\n",
       "  <tbody>\n",
       "    <tr>\n",
       "      <td>2010</td>\n",
       "      <td>818</td>\n",
       "      <td>102</td>\n",
       "    </tr>\n",
       "    <tr>\n",
       "      <td>2011</td>\n",
       "      <td>558</td>\n",
       "      <td>108</td>\n",
       "    </tr>\n",
       "    <tr>\n",
       "      <td>2012</td>\n",
       "      <td>556</td>\n",
       "      <td>128</td>\n",
       "    </tr>\n",
       "    <tr>\n",
       "      <td>2013</td>\n",
       "      <td>615</td>\n",
       "      <td>184</td>\n",
       "    </tr>\n",
       "    <tr>\n",
       "      <td>2014</td>\n",
       "      <td>766</td>\n",
       "      <td>277</td>\n",
       "    </tr>\n",
       "    <tr>\n",
       "      <td>2015</td>\n",
       "      <td>688</td>\n",
       "      <td>463</td>\n",
       "    </tr>\n",
       "    <tr>\n",
       "      <td>2016</td>\n",
       "      <td>782</td>\n",
       "      <td>522</td>\n",
       "    </tr>\n",
       "    <tr>\n",
       "      <td>2017</td>\n",
       "      <td>505</td>\n",
       "      <td>357</td>\n",
       "    </tr>\n",
       "    <tr>\n",
       "      <td>2018</td>\n",
       "      <td>884</td>\n",
       "      <td>475</td>\n",
       "    </tr>\n",
       "    <tr>\n",
       "      <td>2019</td>\n",
       "      <td>925</td>\n",
       "      <td>530</td>\n",
       "    </tr>\n",
       "  </tbody>\n",
       "</table>\n",
       "</div>"
      ],
      "text/plain": [
       "      unique_movies  box_office\n",
       "year                           \n",
       "2010            818         102\n",
       "2011            558         108\n",
       "2012            556         128\n",
       "2013            615         184\n",
       "2014            766         277\n",
       "2015            688         463\n",
       "2016            782         522\n",
       "2017            505         357\n",
       "2018            884         475\n",
       "2019            925         530"
      ]
     },
     "execution_count": 201,
     "metadata": {},
     "output_type": "execute_result"
    }
   ],
   "source": [
    "years_df = df.groupby('year')[['title']].nunique().join(\n",
    "df[df['box_office'].notnull()].groupby('year')[['title']].nunique(), lsuffix=' ', rsuffix=' ')\n",
    "years_df.columns = ['unique_movies', 'box_office']\n",
    "years_df"
   ]
  },
  {
   "cell_type": "markdown",
   "metadata": {},
   "source": [
    "Если построить график, то видно, что меньше всего данных о новых фильмах занесено за 2017 г., после которого наблюдается быстрый рост количества фильмов."
   ]
  },
  {
   "cell_type": "code",
   "execution_count": 202,
   "metadata": {},
   "outputs": [
    {
     "data": {
      "application/vnd.plotly.v1+json": {
       "config": {
        "linkText": "Export to plot.ly",
        "plotlyServerURL": "https://plot.ly",
        "showLink": false
       },
       "data": [
        {
         "name": "unique_movies",
         "type": "scatter",
         "x": [
          2010,
          2011,
          2012,
          2013,
          2014,
          2015,
          2016,
          2017,
          2018,
          2019
         ],
         "y": [
          818,
          558,
          556,
          615,
          766,
          688,
          782,
          505,
          884,
          925
         ]
        },
        {
         "name": "box_office",
         "type": "scatter",
         "x": [
          2010,
          2011,
          2012,
          2013,
          2014,
          2015,
          2016,
          2017,
          2018,
          2019
         ],
         "y": [
          102,
          108,
          128,
          184,
          277,
          463,
          522,
          357,
          475,
          530
         ]
        }
       ],
       "layout": {
        "template": {
         "data": {
          "bar": [
           {
            "error_x": {
             "color": "#2a3f5f"
            },
            "error_y": {
             "color": "#2a3f5f"
            },
            "marker": {
             "line": {
              "color": "#E5ECF6",
              "width": 0.5
             }
            },
            "type": "bar"
           }
          ],
          "barpolar": [
           {
            "marker": {
             "line": {
              "color": "#E5ECF6",
              "width": 0.5
             }
            },
            "type": "barpolar"
           }
          ],
          "carpet": [
           {
            "aaxis": {
             "endlinecolor": "#2a3f5f",
             "gridcolor": "white",
             "linecolor": "white",
             "minorgridcolor": "white",
             "startlinecolor": "#2a3f5f"
            },
            "baxis": {
             "endlinecolor": "#2a3f5f",
             "gridcolor": "white",
             "linecolor": "white",
             "minorgridcolor": "white",
             "startlinecolor": "#2a3f5f"
            },
            "type": "carpet"
           }
          ],
          "choropleth": [
           {
            "colorbar": {
             "outlinewidth": 0,
             "ticks": ""
            },
            "type": "choropleth"
           }
          ],
          "contour": [
           {
            "colorbar": {
             "outlinewidth": 0,
             "ticks": ""
            },
            "colorscale": [
             [
              0,
              "#0d0887"
             ],
             [
              0.1111111111,
              "#46039f"
             ],
             [
              0.2222222222,
              "#7201a8"
             ],
             [
              0.3333333333,
              "#9c179e"
             ],
             [
              0.4444444444,
              "#bd3786"
             ],
             [
              0.5555555556,
              "#d8576b"
             ],
             [
              0.6666666667,
              "#ed7953"
             ],
             [
              0.7777777778,
              "#fb9f3a"
             ],
             [
              0.8888888889,
              "#fdca26"
             ],
             [
              1,
              "#f0f921"
             ]
            ],
            "type": "contour"
           }
          ],
          "contourcarpet": [
           {
            "colorbar": {
             "outlinewidth": 0,
             "ticks": ""
            },
            "type": "contourcarpet"
           }
          ],
          "heatmap": [
           {
            "colorbar": {
             "outlinewidth": 0,
             "ticks": ""
            },
            "colorscale": [
             [
              0,
              "#0d0887"
             ],
             [
              0.1111111111,
              "#46039f"
             ],
             [
              0.2222222222,
              "#7201a8"
             ],
             [
              0.3333333333,
              "#9c179e"
             ],
             [
              0.4444444444,
              "#bd3786"
             ],
             [
              0.5555555556,
              "#d8576b"
             ],
             [
              0.6666666667,
              "#ed7953"
             ],
             [
              0.7777777778,
              "#fb9f3a"
             ],
             [
              0.8888888889,
              "#fdca26"
             ],
             [
              1,
              "#f0f921"
             ]
            ],
            "type": "heatmap"
           }
          ],
          "heatmapgl": [
           {
            "colorbar": {
             "outlinewidth": 0,
             "ticks": ""
            },
            "colorscale": [
             [
              0,
              "#0d0887"
             ],
             [
              0.1111111111,
              "#46039f"
             ],
             [
              0.2222222222,
              "#7201a8"
             ],
             [
              0.3333333333,
              "#9c179e"
             ],
             [
              0.4444444444,
              "#bd3786"
             ],
             [
              0.5555555556,
              "#d8576b"
             ],
             [
              0.6666666667,
              "#ed7953"
             ],
             [
              0.7777777778,
              "#fb9f3a"
             ],
             [
              0.8888888889,
              "#fdca26"
             ],
             [
              1,
              "#f0f921"
             ]
            ],
            "type": "heatmapgl"
           }
          ],
          "histogram": [
           {
            "marker": {
             "colorbar": {
              "outlinewidth": 0,
              "ticks": ""
             }
            },
            "type": "histogram"
           }
          ],
          "histogram2d": [
           {
            "colorbar": {
             "outlinewidth": 0,
             "ticks": ""
            },
            "colorscale": [
             [
              0,
              "#0d0887"
             ],
             [
              0.1111111111,
              "#46039f"
             ],
             [
              0.2222222222,
              "#7201a8"
             ],
             [
              0.3333333333,
              "#9c179e"
             ],
             [
              0.4444444444,
              "#bd3786"
             ],
             [
              0.5555555556,
              "#d8576b"
             ],
             [
              0.6666666667,
              "#ed7953"
             ],
             [
              0.7777777778,
              "#fb9f3a"
             ],
             [
              0.8888888889,
              "#fdca26"
             ],
             [
              1,
              "#f0f921"
             ]
            ],
            "type": "histogram2d"
           }
          ],
          "histogram2dcontour": [
           {
            "colorbar": {
             "outlinewidth": 0,
             "ticks": ""
            },
            "colorscale": [
             [
              0,
              "#0d0887"
             ],
             [
              0.1111111111,
              "#46039f"
             ],
             [
              0.2222222222,
              "#7201a8"
             ],
             [
              0.3333333333,
              "#9c179e"
             ],
             [
              0.4444444444,
              "#bd3786"
             ],
             [
              0.5555555556,
              "#d8576b"
             ],
             [
              0.6666666667,
              "#ed7953"
             ],
             [
              0.7777777778,
              "#fb9f3a"
             ],
             [
              0.8888888889,
              "#fdca26"
             ],
             [
              1,
              "#f0f921"
             ]
            ],
            "type": "histogram2dcontour"
           }
          ],
          "mesh3d": [
           {
            "colorbar": {
             "outlinewidth": 0,
             "ticks": ""
            },
            "type": "mesh3d"
           }
          ],
          "parcoords": [
           {
            "line": {
             "colorbar": {
              "outlinewidth": 0,
              "ticks": ""
             }
            },
            "type": "parcoords"
           }
          ],
          "scatter": [
           {
            "marker": {
             "colorbar": {
              "outlinewidth": 0,
              "ticks": ""
             }
            },
            "type": "scatter"
           }
          ],
          "scatter3d": [
           {
            "line": {
             "colorbar": {
              "outlinewidth": 0,
              "ticks": ""
             }
            },
            "marker": {
             "colorbar": {
              "outlinewidth": 0,
              "ticks": ""
             }
            },
            "type": "scatter3d"
           }
          ],
          "scattercarpet": [
           {
            "marker": {
             "colorbar": {
              "outlinewidth": 0,
              "ticks": ""
             }
            },
            "type": "scattercarpet"
           }
          ],
          "scattergeo": [
           {
            "marker": {
             "colorbar": {
              "outlinewidth": 0,
              "ticks": ""
             }
            },
            "type": "scattergeo"
           }
          ],
          "scattergl": [
           {
            "marker": {
             "colorbar": {
              "outlinewidth": 0,
              "ticks": ""
             }
            },
            "type": "scattergl"
           }
          ],
          "scattermapbox": [
           {
            "marker": {
             "colorbar": {
              "outlinewidth": 0,
              "ticks": ""
             }
            },
            "type": "scattermapbox"
           }
          ],
          "scatterpolar": [
           {
            "marker": {
             "colorbar": {
              "outlinewidth": 0,
              "ticks": ""
             }
            },
            "type": "scatterpolar"
           }
          ],
          "scatterpolargl": [
           {
            "marker": {
             "colorbar": {
              "outlinewidth": 0,
              "ticks": ""
             }
            },
            "type": "scatterpolargl"
           }
          ],
          "scatterternary": [
           {
            "marker": {
             "colorbar": {
              "outlinewidth": 0,
              "ticks": ""
             }
            },
            "type": "scatterternary"
           }
          ],
          "surface": [
           {
            "colorbar": {
             "outlinewidth": 0,
             "ticks": ""
            },
            "colorscale": [
             [
              0,
              "#0d0887"
             ],
             [
              0.1111111111,
              "#46039f"
             ],
             [
              0.2222222222,
              "#7201a8"
             ],
             [
              0.3333333333,
              "#9c179e"
             ],
             [
              0.4444444444,
              "#bd3786"
             ],
             [
              0.5555555556,
              "#d8576b"
             ],
             [
              0.6666666667,
              "#ed7953"
             ],
             [
              0.7777777778,
              "#fb9f3a"
             ],
             [
              0.8888888889,
              "#fdca26"
             ],
             [
              1,
              "#f0f921"
             ]
            ],
            "type": "surface"
           }
          ],
          "table": [
           {
            "cells": {
             "fill": {
              "color": "#EBF0F8"
             },
             "line": {
              "color": "white"
             }
            },
            "header": {
             "fill": {
              "color": "#C8D4E3"
             },
             "line": {
              "color": "white"
             }
            },
            "type": "table"
           }
          ]
         },
         "layout": {
          "annotationdefaults": {
           "arrowcolor": "#2a3f5f",
           "arrowhead": 0,
           "arrowwidth": 1
          },
          "colorscale": {
           "diverging": [
            [
             0,
             "#8e0152"
            ],
            [
             0.1,
             "#c51b7d"
            ],
            [
             0.2,
             "#de77ae"
            ],
            [
             0.3,
             "#f1b6da"
            ],
            [
             0.4,
             "#fde0ef"
            ],
            [
             0.5,
             "#f7f7f7"
            ],
            [
             0.6,
             "#e6f5d0"
            ],
            [
             0.7,
             "#b8e186"
            ],
            [
             0.8,
             "#7fbc41"
            ],
            [
             0.9,
             "#4d9221"
            ],
            [
             1,
             "#276419"
            ]
           ],
           "sequential": [
            [
             0,
             "#0d0887"
            ],
            [
             0.1111111111,
             "#46039f"
            ],
            [
             0.2222222222,
             "#7201a8"
            ],
            [
             0.3333333333,
             "#9c179e"
            ],
            [
             0.4444444444,
             "#bd3786"
            ],
            [
             0.5555555556,
             "#d8576b"
            ],
            [
             0.6666666667,
             "#ed7953"
            ],
            [
             0.7777777778,
             "#fb9f3a"
            ],
            [
             0.8888888889,
             "#fdca26"
            ],
            [
             1,
             "#f0f921"
            ]
           ],
           "sequentialminus": [
            [
             0,
             "#0d0887"
            ],
            [
             0.1111111111,
             "#46039f"
            ],
            [
             0.2222222222,
             "#7201a8"
            ],
            [
             0.3333333333,
             "#9c179e"
            ],
            [
             0.4444444444,
             "#bd3786"
            ],
            [
             0.5555555556,
             "#d8576b"
            ],
            [
             0.6666666667,
             "#ed7953"
            ],
            [
             0.7777777778,
             "#fb9f3a"
            ],
            [
             0.8888888889,
             "#fdca26"
            ],
            [
             1,
             "#f0f921"
            ]
           ]
          },
          "colorway": [
           "#636efa",
           "#EF553B",
           "#00cc96",
           "#ab63fa",
           "#FFA15A",
           "#19d3f3",
           "#FF6692",
           "#B6E880",
           "#FF97FF",
           "#FECB52"
          ],
          "font": {
           "color": "#2a3f5f"
          },
          "geo": {
           "bgcolor": "white",
           "lakecolor": "white",
           "landcolor": "#E5ECF6",
           "showlakes": true,
           "showland": true,
           "subunitcolor": "white"
          },
          "hoverlabel": {
           "align": "left"
          },
          "hovermode": "closest",
          "mapbox": {
           "style": "light"
          },
          "paper_bgcolor": "white",
          "plot_bgcolor": "#E5ECF6",
          "polar": {
           "angularaxis": {
            "gridcolor": "white",
            "linecolor": "white",
            "ticks": ""
           },
           "bgcolor": "#E5ECF6",
           "radialaxis": {
            "gridcolor": "white",
            "linecolor": "white",
            "ticks": ""
           }
          },
          "scene": {
           "xaxis": {
            "backgroundcolor": "#E5ECF6",
            "gridcolor": "white",
            "gridwidth": 2,
            "linecolor": "white",
            "showbackground": true,
            "ticks": "",
            "zerolinecolor": "white"
           },
           "yaxis": {
            "backgroundcolor": "#E5ECF6",
            "gridcolor": "white",
            "gridwidth": 2,
            "linecolor": "white",
            "showbackground": true,
            "ticks": "",
            "zerolinecolor": "white"
           },
           "zaxis": {
            "backgroundcolor": "#E5ECF6",
            "gridcolor": "white",
            "gridwidth": 2,
            "linecolor": "white",
            "showbackground": true,
            "ticks": "",
            "zerolinecolor": "white"
           }
          },
          "shapedefaults": {
           "line": {
            "color": "#2a3f5f"
           }
          },
          "ternary": {
           "aaxis": {
            "gridcolor": "white",
            "linecolor": "white",
            "ticks": ""
           },
           "baxis": {
            "gridcolor": "white",
            "linecolor": "white",
            "ticks": ""
           },
           "bgcolor": "#E5ECF6",
           "caxis": {
            "gridcolor": "white",
            "linecolor": "white",
            "ticks": ""
           }
          },
          "title": {
           "x": 0.05
          },
          "xaxis": {
           "automargin": true,
           "gridcolor": "white",
           "linecolor": "white",
           "ticks": "",
           "zerolinecolor": "white",
           "zerolinewidth": 2
          },
          "yaxis": {
           "automargin": true,
           "gridcolor": "white",
           "linecolor": "white",
           "ticks": "",
           "zerolinecolor": "white",
           "zerolinewidth": 2
          }
         }
        },
        "title": {
         "text": "Movies per year"
        }
       }
      },
      "text/html": [
       "<div>\n",
       "        \n",
       "        \n",
       "            <div id=\"326d5ecb-7b61-4a62-b955-1c5737298faa\" class=\"plotly-graph-div\" style=\"height:525px; width:100%;\"></div>\n",
       "            <script type=\"text/javascript\">\n",
       "                require([\"plotly\"], function(Plotly) {\n",
       "                    window.PLOTLYENV=window.PLOTLYENV || {};\n",
       "                    \n",
       "                if (document.getElementById(\"326d5ecb-7b61-4a62-b955-1c5737298faa\")) {\n",
       "                    Plotly.newPlot(\n",
       "                        '326d5ecb-7b61-4a62-b955-1c5737298faa',\n",
       "                        [{\"name\": \"unique_movies\", \"type\": \"scatter\", \"x\": [2010, 2011, 2012, 2013, 2014, 2015, 2016, 2017, 2018, 2019], \"y\": [818, 558, 556, 615, 766, 688, 782, 505, 884, 925]}, {\"name\": \"box_office\", \"type\": \"scatter\", \"x\": [2010, 2011, 2012, 2013, 2014, 2015, 2016, 2017, 2018, 2019], \"y\": [102, 108, 128, 184, 277, 463, 522, 357, 475, 530]}],\n",
       "                        {\"template\": {\"data\": {\"bar\": [{\"error_x\": {\"color\": \"#2a3f5f\"}, \"error_y\": {\"color\": \"#2a3f5f\"}, \"marker\": {\"line\": {\"color\": \"#E5ECF6\", \"width\": 0.5}}, \"type\": \"bar\"}], \"barpolar\": [{\"marker\": {\"line\": {\"color\": \"#E5ECF6\", \"width\": 0.5}}, \"type\": \"barpolar\"}], \"carpet\": [{\"aaxis\": {\"endlinecolor\": \"#2a3f5f\", \"gridcolor\": \"white\", \"linecolor\": \"white\", \"minorgridcolor\": \"white\", \"startlinecolor\": \"#2a3f5f\"}, \"baxis\": {\"endlinecolor\": \"#2a3f5f\", \"gridcolor\": \"white\", \"linecolor\": \"white\", \"minorgridcolor\": \"white\", \"startlinecolor\": \"#2a3f5f\"}, \"type\": \"carpet\"}], \"choropleth\": [{\"colorbar\": {\"outlinewidth\": 0, \"ticks\": \"\"}, \"type\": \"choropleth\"}], \"contour\": [{\"colorbar\": {\"outlinewidth\": 0, \"ticks\": \"\"}, \"colorscale\": [[0.0, \"#0d0887\"], [0.1111111111111111, \"#46039f\"], [0.2222222222222222, \"#7201a8\"], [0.3333333333333333, \"#9c179e\"], [0.4444444444444444, \"#bd3786\"], [0.5555555555555556, \"#d8576b\"], [0.6666666666666666, \"#ed7953\"], [0.7777777777777778, \"#fb9f3a\"], [0.8888888888888888, \"#fdca26\"], [1.0, \"#f0f921\"]], \"type\": \"contour\"}], \"contourcarpet\": [{\"colorbar\": {\"outlinewidth\": 0, \"ticks\": \"\"}, \"type\": \"contourcarpet\"}], \"heatmap\": [{\"colorbar\": {\"outlinewidth\": 0, \"ticks\": \"\"}, \"colorscale\": [[0.0, \"#0d0887\"], [0.1111111111111111, \"#46039f\"], [0.2222222222222222, \"#7201a8\"], [0.3333333333333333, \"#9c179e\"], [0.4444444444444444, \"#bd3786\"], [0.5555555555555556, \"#d8576b\"], [0.6666666666666666, \"#ed7953\"], [0.7777777777777778, \"#fb9f3a\"], [0.8888888888888888, \"#fdca26\"], [1.0, \"#f0f921\"]], \"type\": \"heatmap\"}], \"heatmapgl\": [{\"colorbar\": {\"outlinewidth\": 0, \"ticks\": \"\"}, \"colorscale\": [[0.0, \"#0d0887\"], [0.1111111111111111, \"#46039f\"], [0.2222222222222222, \"#7201a8\"], [0.3333333333333333, \"#9c179e\"], [0.4444444444444444, \"#bd3786\"], [0.5555555555555556, \"#d8576b\"], [0.6666666666666666, \"#ed7953\"], [0.7777777777777778, \"#fb9f3a\"], [0.8888888888888888, \"#fdca26\"], [1.0, \"#f0f921\"]], \"type\": \"heatmapgl\"}], \"histogram\": [{\"marker\": {\"colorbar\": {\"outlinewidth\": 0, \"ticks\": \"\"}}, \"type\": \"histogram\"}], \"histogram2d\": [{\"colorbar\": {\"outlinewidth\": 0, \"ticks\": \"\"}, \"colorscale\": [[0.0, \"#0d0887\"], [0.1111111111111111, \"#46039f\"], [0.2222222222222222, \"#7201a8\"], [0.3333333333333333, \"#9c179e\"], [0.4444444444444444, \"#bd3786\"], [0.5555555555555556, \"#d8576b\"], [0.6666666666666666, \"#ed7953\"], [0.7777777777777778, \"#fb9f3a\"], [0.8888888888888888, \"#fdca26\"], [1.0, \"#f0f921\"]], \"type\": \"histogram2d\"}], \"histogram2dcontour\": [{\"colorbar\": {\"outlinewidth\": 0, \"ticks\": \"\"}, \"colorscale\": [[0.0, \"#0d0887\"], [0.1111111111111111, \"#46039f\"], [0.2222222222222222, \"#7201a8\"], [0.3333333333333333, \"#9c179e\"], [0.4444444444444444, \"#bd3786\"], [0.5555555555555556, \"#d8576b\"], [0.6666666666666666, \"#ed7953\"], [0.7777777777777778, \"#fb9f3a\"], [0.8888888888888888, \"#fdca26\"], [1.0, \"#f0f921\"]], \"type\": \"histogram2dcontour\"}], \"mesh3d\": [{\"colorbar\": {\"outlinewidth\": 0, \"ticks\": \"\"}, \"type\": \"mesh3d\"}], \"parcoords\": [{\"line\": {\"colorbar\": {\"outlinewidth\": 0, \"ticks\": \"\"}}, \"type\": \"parcoords\"}], \"scatter\": [{\"marker\": {\"colorbar\": {\"outlinewidth\": 0, \"ticks\": \"\"}}, \"type\": \"scatter\"}], \"scatter3d\": [{\"line\": {\"colorbar\": {\"outlinewidth\": 0, \"ticks\": \"\"}}, \"marker\": {\"colorbar\": {\"outlinewidth\": 0, \"ticks\": \"\"}}, \"type\": \"scatter3d\"}], \"scattercarpet\": [{\"marker\": {\"colorbar\": {\"outlinewidth\": 0, \"ticks\": \"\"}}, \"type\": \"scattercarpet\"}], \"scattergeo\": [{\"marker\": {\"colorbar\": {\"outlinewidth\": 0, \"ticks\": \"\"}}, \"type\": \"scattergeo\"}], \"scattergl\": [{\"marker\": {\"colorbar\": {\"outlinewidth\": 0, \"ticks\": \"\"}}, \"type\": \"scattergl\"}], \"scattermapbox\": [{\"marker\": {\"colorbar\": {\"outlinewidth\": 0, \"ticks\": \"\"}}, \"type\": \"scattermapbox\"}], \"scatterpolar\": [{\"marker\": {\"colorbar\": {\"outlinewidth\": 0, \"ticks\": \"\"}}, \"type\": \"scatterpolar\"}], \"scatterpolargl\": [{\"marker\": {\"colorbar\": {\"outlinewidth\": 0, \"ticks\": \"\"}}, \"type\": \"scatterpolargl\"}], \"scatterternary\": [{\"marker\": {\"colorbar\": {\"outlinewidth\": 0, \"ticks\": \"\"}}, \"type\": \"scatterternary\"}], \"surface\": [{\"colorbar\": {\"outlinewidth\": 0, \"ticks\": \"\"}, \"colorscale\": [[0.0, \"#0d0887\"], [0.1111111111111111, \"#46039f\"], [0.2222222222222222, \"#7201a8\"], [0.3333333333333333, \"#9c179e\"], [0.4444444444444444, \"#bd3786\"], [0.5555555555555556, \"#d8576b\"], [0.6666666666666666, \"#ed7953\"], [0.7777777777777778, \"#fb9f3a\"], [0.8888888888888888, \"#fdca26\"], [1.0, \"#f0f921\"]], \"type\": \"surface\"}], \"table\": [{\"cells\": {\"fill\": {\"color\": \"#EBF0F8\"}, \"line\": {\"color\": \"white\"}}, \"header\": {\"fill\": {\"color\": \"#C8D4E3\"}, \"line\": {\"color\": \"white\"}}, \"type\": \"table\"}]}, \"layout\": {\"annotationdefaults\": {\"arrowcolor\": \"#2a3f5f\", \"arrowhead\": 0, \"arrowwidth\": 1}, \"colorscale\": {\"diverging\": [[0, \"#8e0152\"], [0.1, \"#c51b7d\"], [0.2, \"#de77ae\"], [0.3, \"#f1b6da\"], [0.4, \"#fde0ef\"], [0.5, \"#f7f7f7\"], [0.6, \"#e6f5d0\"], [0.7, \"#b8e186\"], [0.8, \"#7fbc41\"], [0.9, \"#4d9221\"], [1, \"#276419\"]], \"sequential\": [[0.0, \"#0d0887\"], [0.1111111111111111, \"#46039f\"], [0.2222222222222222, \"#7201a8\"], [0.3333333333333333, \"#9c179e\"], [0.4444444444444444, \"#bd3786\"], [0.5555555555555556, \"#d8576b\"], [0.6666666666666666, \"#ed7953\"], [0.7777777777777778, \"#fb9f3a\"], [0.8888888888888888, \"#fdca26\"], [1.0, \"#f0f921\"]], \"sequentialminus\": [[0.0, \"#0d0887\"], [0.1111111111111111, \"#46039f\"], [0.2222222222222222, \"#7201a8\"], [0.3333333333333333, \"#9c179e\"], [0.4444444444444444, \"#bd3786\"], [0.5555555555555556, \"#d8576b\"], [0.6666666666666666, \"#ed7953\"], [0.7777777777777778, \"#fb9f3a\"], [0.8888888888888888, \"#fdca26\"], [1.0, \"#f0f921\"]]}, \"colorway\": [\"#636efa\", \"#EF553B\", \"#00cc96\", \"#ab63fa\", \"#FFA15A\", \"#19d3f3\", \"#FF6692\", \"#B6E880\", \"#FF97FF\", \"#FECB52\"], \"font\": {\"color\": \"#2a3f5f\"}, \"geo\": {\"bgcolor\": \"white\", \"lakecolor\": \"white\", \"landcolor\": \"#E5ECF6\", \"showlakes\": true, \"showland\": true, \"subunitcolor\": \"white\"}, \"hoverlabel\": {\"align\": \"left\"}, \"hovermode\": \"closest\", \"mapbox\": {\"style\": \"light\"}, \"paper_bgcolor\": \"white\", \"plot_bgcolor\": \"#E5ECF6\", \"polar\": {\"angularaxis\": {\"gridcolor\": \"white\", \"linecolor\": \"white\", \"ticks\": \"\"}, \"bgcolor\": \"#E5ECF6\", \"radialaxis\": {\"gridcolor\": \"white\", \"linecolor\": \"white\", \"ticks\": \"\"}}, \"scene\": {\"xaxis\": {\"backgroundcolor\": \"#E5ECF6\", \"gridcolor\": \"white\", \"gridwidth\": 2, \"linecolor\": \"white\", \"showbackground\": true, \"ticks\": \"\", \"zerolinecolor\": \"white\"}, \"yaxis\": {\"backgroundcolor\": \"#E5ECF6\", \"gridcolor\": \"white\", \"gridwidth\": 2, \"linecolor\": \"white\", \"showbackground\": true, \"ticks\": \"\", \"zerolinecolor\": \"white\"}, \"zaxis\": {\"backgroundcolor\": \"#E5ECF6\", \"gridcolor\": \"white\", \"gridwidth\": 2, \"linecolor\": \"white\", \"showbackground\": true, \"ticks\": \"\", \"zerolinecolor\": \"white\"}}, \"shapedefaults\": {\"line\": {\"color\": \"#2a3f5f\"}}, \"ternary\": {\"aaxis\": {\"gridcolor\": \"white\", \"linecolor\": \"white\", \"ticks\": \"\"}, \"baxis\": {\"gridcolor\": \"white\", \"linecolor\": \"white\", \"ticks\": \"\"}, \"bgcolor\": \"#E5ECF6\", \"caxis\": {\"gridcolor\": \"white\", \"linecolor\": \"white\", \"ticks\": \"\"}}, \"title\": {\"x\": 0.05}, \"xaxis\": {\"automargin\": true, \"gridcolor\": \"white\", \"linecolor\": \"white\", \"ticks\": \"\", \"zerolinecolor\": \"white\", \"zerolinewidth\": 2}, \"yaxis\": {\"automargin\": true, \"gridcolor\": \"white\", \"linecolor\": \"white\", \"ticks\": \"\", \"zerolinecolor\": \"white\", \"zerolinewidth\": 2}}}, \"title\": {\"text\": \"Movies per year\"}},\n",
       "                        {\"responsive\": true}\n",
       "                    ).then(function(){\n",
       "                            \n",
       "var gd = document.getElementById('326d5ecb-7b61-4a62-b955-1c5737298faa');\n",
       "var x = new MutationObserver(function (mutations, observer) {{\n",
       "        var display = window.getComputedStyle(gd).display;\n",
       "        if (!display || display === 'none') {{\n",
       "            console.log([gd, 'removed!']);\n",
       "            Plotly.purge(gd);\n",
       "            observer.disconnect();\n",
       "        }}\n",
       "}});\n",
       "\n",
       "// Listen for the removal of the full notebook cells\n",
       "var notebookContainer = gd.closest('#notebook-container');\n",
       "if (notebookContainer) {{\n",
       "    x.observe(notebookContainer, {childList: true});\n",
       "}}\n",
       "\n",
       "// Listen for the clearing of the current output cell\n",
       "var outputEl = gd.closest('.output');\n",
       "if (outputEl) {{\n",
       "    x.observe(outputEl, {childList: true});\n",
       "}}\n",
       "\n",
       "                        })\n",
       "                };\n",
       "                });\n",
       "            </script>\n",
       "        </div>"
      ]
     },
     "metadata": {},
     "output_type": "display_data"
    }
   ],
   "source": [
    "trace0 = go.Scatter(\n",
    "    x=years_df.index,\n",
    "    y=years_df.unique_movies,\n",
    "    name='unique_movies'\n",
    ")\n",
    "\n",
    "trace1 = go.Scatter(\n",
    "    x=years_df.index,\n",
    "    y=years_df.box_office,\n",
    "    name='box_office'\n",
    ")\n",
    "\n",
    "data = [trace0, trace1]\n",
    "layout = {'title': 'Movies per year'}\n",
    "\n",
    "fig = go.Figure(data=data, layout=layout)\n",
    "iplot(fig, show_link=False)"
   ]
  },
  {
   "cell_type": "markdown",
   "metadata": {},
   "source": [
    "Также по графику видно, что количество данных о сборах росло с каждым годом, если не считать уменьшения количества данных в целом в 2017 г."
   ]
  },
  {
   "cell_type": "markdown",
   "metadata": {
    "id": "BEOdcIrIgFyW"
   },
   "source": [
    "#### Динамика сборов по годам."
   ]
  },
  {
   "cell_type": "code",
   "execution_count": 203,
   "metadata": {
    "id": "tfEhofYvgFyX"
   },
   "outputs": [
    {
     "data": {
      "text/html": [
       "<div>\n",
       "<style scoped>\n",
       "    .dataframe tbody tr th:only-of-type {\n",
       "        vertical-align: middle;\n",
       "    }\n",
       "\n",
       "    .dataframe tbody tr th {\n",
       "        vertical-align: top;\n",
       "    }\n",
       "\n",
       "    .dataframe thead th {\n",
       "        text-align: right;\n",
       "    }\n",
       "</style>\n",
       "<table border=\"1\" class=\"dataframe\">\n",
       "  <thead>\n",
       "    <tr style=\"text-align: right;\">\n",
       "      <th></th>\n",
       "      <th>box_office</th>\n",
       "    </tr>\n",
       "    <tr>\n",
       "      <th>year</th>\n",
       "      <th></th>\n",
       "    </tr>\n",
       "  </thead>\n",
       "  <tbody>\n",
       "    <tr>\n",
       "      <td>2010</td>\n",
       "      <td>2.43</td>\n",
       "    </tr>\n",
       "    <tr>\n",
       "      <td>2011</td>\n",
       "      <td>14.10</td>\n",
       "    </tr>\n",
       "    <tr>\n",
       "      <td>2012</td>\n",
       "      <td>6.96</td>\n",
       "    </tr>\n",
       "    <tr>\n",
       "      <td>2013</td>\n",
       "      <td>29.80</td>\n",
       "    </tr>\n",
       "    <tr>\n",
       "      <td>2014</td>\n",
       "      <td>7444.95</td>\n",
       "    </tr>\n",
       "    <tr>\n",
       "      <td>2015</td>\n",
       "      <td>39497.37</td>\n",
       "    </tr>\n",
       "    <tr>\n",
       "      <td>2016</td>\n",
       "      <td>47866.30</td>\n",
       "    </tr>\n",
       "    <tr>\n",
       "      <td>2017</td>\n",
       "      <td>48563.71</td>\n",
       "    </tr>\n",
       "    <tr>\n",
       "      <td>2018</td>\n",
       "      <td>49668.40</td>\n",
       "    </tr>\n",
       "    <tr>\n",
       "      <td>2019</td>\n",
       "      <td>48425.71</td>\n",
       "    </tr>\n",
       "  </tbody>\n",
       "</table>\n",
       "</div>"
      ],
      "text/plain": [
       "      box_office\n",
       "year            \n",
       "2010        2.43\n",
       "2011       14.10\n",
       "2012        6.96\n",
       "2013       29.80\n",
       "2014     7444.95\n",
       "2015    39497.37\n",
       "2016    47866.30\n",
       "2017    48563.71\n",
       "2018    49668.40\n",
       "2019    48425.71"
      ]
     },
     "execution_count": 203,
     "metadata": {},
     "output_type": "execute_result"
    }
   ],
   "source": [
    "dynamics = df.pivot_table(index='year', values='box_office', aggfunc='sum')\n",
    "dynamics['box_office'] = (dynamics['box_office']).round(2)\n",
    "dynamics"
   ]
  },
  {
   "cell_type": "markdown",
   "metadata": {},
   "source": [
    "Теперь можно построить график для наглядности. Сборы за первые 4 года оказались низкими. В том числе на это повлияло небольшое количество данных за указанный период."
   ]
  },
  {
   "cell_type": "code",
   "execution_count": 204,
   "metadata": {
    "scrolled": false
   },
   "outputs": [
    {
     "data": {
      "text/plain": [
       "<matplotlib.axes._subplots.AxesSubplot at 0x7f452ecc6450>"
      ]
     },
     "execution_count": 204,
     "metadata": {},
     "output_type": "execute_result"
    },
    {
     "data": {
      "image/png": "[encoded data removed]",
      "text/plain": [
       "<Figure size 720x504 with 1 Axes>"
      ]
     },
     "metadata": {
      "needs_background": "light"
     },
     "output_type": "display_data"
    }
   ],
   "source": [
    "dynamics.plot(kind='bar', rot=0, figsize=(10,7), grid=True)"
   ]
  },
  {
   "cell_type": "markdown",
   "metadata": {
    "id": "G-7qS-N-gFyY"
   },
   "source": [
    "С помощью сводной таблицы сравним среднюю и медианную сумму сборов для каждого года."
   ]
  },
  {
   "cell_type": "code",
   "execution_count": 205,
   "metadata": {
    "id": "jmp-rgg9gFyY",
    "scrolled": true
   },
   "outputs": [
    {
     "data": {
      "text/html": [
       "<div>\n",
       "<style scoped>\n",
       "    .dataframe tbody tr th:only-of-type {\n",
       "        vertical-align: middle;\n",
       "    }\n",
       "\n",
       "    .dataframe tbody tr th {\n",
       "        vertical-align: top;\n",
       "    }\n",
       "\n",
       "    .dataframe thead th {\n",
       "        text-align: right;\n",
       "    }\n",
       "</style>\n",
       "<table border=\"1\" class=\"dataframe\">\n",
       "  <thead>\n",
       "    <tr style=\"text-align: right;\">\n",
       "      <th></th>\n",
       "      <th>mean_box_office</th>\n",
       "      <th>median_box_office</th>\n",
       "    </tr>\n",
       "    <tr>\n",
       "      <th>year</th>\n",
       "      <th></th>\n",
       "      <th></th>\n",
       "    </tr>\n",
       "  </thead>\n",
       "  <tbody>\n",
       "    <tr>\n",
       "      <td>2010</td>\n",
       "      <td>0.023130</td>\n",
       "      <td>0.001700</td>\n",
       "    </tr>\n",
       "    <tr>\n",
       "      <td>2011</td>\n",
       "      <td>0.129383</td>\n",
       "      <td>0.003000</td>\n",
       "    </tr>\n",
       "    <tr>\n",
       "      <td>2012</td>\n",
       "      <td>0.054339</td>\n",
       "      <td>0.005660</td>\n",
       "    </tr>\n",
       "    <tr>\n",
       "      <td>2013</td>\n",
       "      <td>0.161955</td>\n",
       "      <td>0.003523</td>\n",
       "    </tr>\n",
       "    <tr>\n",
       "      <td>2014</td>\n",
       "      <td>26.684415</td>\n",
       "      <td>0.018160</td>\n",
       "    </tr>\n",
       "    <tr>\n",
       "      <td>2015</td>\n",
       "      <td>84.940570</td>\n",
       "      <td>4.920933</td>\n",
       "    </tr>\n",
       "    <tr>\n",
       "      <td>2016</td>\n",
       "      <td>91.000570</td>\n",
       "      <td>3.846679</td>\n",
       "    </tr>\n",
       "    <tr>\n",
       "      <td>2017</td>\n",
       "      <td>136.032793</td>\n",
       "      <td>9.968340</td>\n",
       "    </tr>\n",
       "    <tr>\n",
       "      <td>2018</td>\n",
       "      <td>104.565059</td>\n",
       "      <td>8.891102</td>\n",
       "    </tr>\n",
       "    <tr>\n",
       "      <td>2019</td>\n",
       "      <td>91.369262</td>\n",
       "      <td>4.627798</td>\n",
       "    </tr>\n",
       "  </tbody>\n",
       "</table>\n",
       "</div>"
      ],
      "text/plain": [
       "      mean_box_office  median_box_office\n",
       "year                                    \n",
       "2010         0.023130           0.001700\n",
       "2011         0.129383           0.003000\n",
       "2012         0.054339           0.005660\n",
       "2013         0.161955           0.003523\n",
       "2014        26.684415           0.018160\n",
       "2015        84.940570           4.920933\n",
       "2016        91.000570           3.846679\n",
       "2017       136.032793           9.968340\n",
       "2018       104.565059           8.891102\n",
       "2019        91.369262           4.627798"
      ]
     },
     "execution_count": 205,
     "metadata": {},
     "output_type": "execute_result"
    }
   ],
   "source": [
    "average_box_office = df.pivot_table(index='year', values='box_office', aggfunc=['mean', 'median'])\n",
    "average_box_office.columns = list(map(\"_\".join, average_box_office.columns))\n",
    "average_box_office"
   ]
  },
  {
   "cell_type": "code",
   "execution_count": 206,
   "metadata": {},
   "outputs": [
    {
     "data": {
      "application/vnd.plotly.v1+json": {
       "config": {
        "linkText": "Export to plot.ly",
        "plotlyServerURL": "https://plot.ly",
        "showLink": false
       },
       "data": [
        {
         "name": "mean_box_office",
         "type": "scatter",
         "x": [
          2010,
          2011,
          2012,
          2013,
          2014,
          2015,
          2016,
          2017,
          2018,
          2019
         ],
         "y": [
          0.0231300381,
          0.1293831651,
          0.0543392422,
          0.161954925,
          26.6844152659,
          84.9405703148,
          91.0005698515,
          136.0327933264,
          104.5650592301,
          91.3692618483
         ]
        },
        {
         "name": "median_box_office",
         "type": "scatter",
         "x": [
          2010,
          2011,
          2012,
          2013,
          2014,
          2015,
          2016,
          2017,
          2018,
          2019
         ],
         "y": [
          0.0017,
          0.003,
          0.00566,
          0.0035225,
          0.01816,
          4.920933,
          3.84667941,
          9.96834,
          8.89110221,
          4.627798345
         ]
        }
       ],
       "layout": {
        "template": {
         "data": {
          "bar": [
           {
            "error_x": {
             "color": "#2a3f5f"
            },
            "error_y": {
             "color": "#2a3f5f"
            },
            "marker": {
             "line": {
              "color": "#E5ECF6",
              "width": 0.5
             }
            },
            "type": "bar"
           }
          ],
          "barpolar": [
           {
            "marker": {
             "line": {
              "color": "#E5ECF6",
              "width": 0.5
             }
            },
            "type": "barpolar"
           }
          ],
          "carpet": [
           {
            "aaxis": {
             "endlinecolor": "#2a3f5f",
             "gridcolor": "white",
             "linecolor": "white",
             "minorgridcolor": "white",
             "startlinecolor": "#2a3f5f"
            },
            "baxis": {
             "endlinecolor": "#2a3f5f",
             "gridcolor": "white",
             "linecolor": "white",
             "minorgridcolor": "white",
             "startlinecolor": "#2a3f5f"
            },
            "type": "carpet"
           }
          ],
          "choropleth": [
           {
            "colorbar": {
             "outlinewidth": 0,
             "ticks": ""
            },
            "type": "choropleth"
           }
          ],
          "contour": [
           {
            "colorbar": {
             "outlinewidth": 0,
             "ticks": ""
            },
            "colorscale": [
             [
              0,
              "#0d0887"
             ],
             [
              0.1111111111,
              "#46039f"
             ],
             [
              0.2222222222,
              "#7201a8"
             ],
             [
              0.3333333333,
              "#9c179e"
             ],
             [
              0.4444444444,
              "#bd3786"
             ],
             [
              0.5555555556,
              "#d8576b"
             ],
             [
              0.6666666667,
              "#ed7953"
             ],
             [
              0.7777777778,
              "#fb9f3a"
             ],
             [
              0.8888888889,
              "#fdca26"
             ],
             [
              1,
              "#f0f921"
             ]
            ],
            "type": "contour"
           }
          ],
          "contourcarpet": [
           {
            "colorbar": {
             "outlinewidth": 0,
             "ticks": ""
            },
            "type": "contourcarpet"
           }
          ],
          "heatmap": [
           {
            "colorbar": {
             "outlinewidth": 0,
             "ticks": ""
            },
            "colorscale": [
             [
              0,
              "#0d0887"
             ],
             [
              0.1111111111,
              "#46039f"
             ],
             [
              0.2222222222,
              "#7201a8"
             ],
             [
              0.3333333333,
              "#9c179e"
             ],
             [
              0.4444444444,
              "#bd3786"
             ],
             [
              0.5555555556,
              "#d8576b"
             ],
             [
              0.6666666667,
              "#ed7953"
             ],
             [
              0.7777777778,
              "#fb9f3a"
             ],
             [
              0.8888888889,
              "#fdca26"
             ],
             [
              1,
              "#f0f921"
             ]
            ],
            "type": "heatmap"
           }
          ],
          "heatmapgl": [
           {
            "colorbar": {
             "outlinewidth": 0,
             "ticks": ""
            },
            "colorscale": [
             [
              0,
              "#0d0887"
             ],
             [
              0.1111111111,
              "#46039f"
             ],
             [
              0.2222222222,
              "#7201a8"
             ],
             [
              0.3333333333,
              "#9c179e"
             ],
             [
              0.4444444444,
              "#bd3786"
             ],
             [
              0.5555555556,
              "#d8576b"
             ],
             [
              0.6666666667,
              "#ed7953"
             ],
             [
              0.7777777778,
              "#fb9f3a"
             ],
             [
              0.8888888889,
              "#fdca26"
             ],
             [
              1,
              "#f0f921"
             ]
            ],
            "type": "heatmapgl"
           }
          ],
          "histogram": [
           {
            "marker": {
             "colorbar": {
              "outlinewidth": 0,
              "ticks": ""
             }
            },
            "type": "histogram"
           }
          ],
          "histogram2d": [
           {
            "colorbar": {
             "outlinewidth": 0,
             "ticks": ""
            },
            "colorscale": [
             [
              0,
              "#0d0887"
             ],
             [
              0.1111111111,
              "#46039f"
             ],
             [
              0.2222222222,
              "#7201a8"
             ],
             [
              0.3333333333,
              "#9c179e"
             ],
             [
              0.4444444444,
              "#bd3786"
             ],
             [
              0.5555555556,
              "#d8576b"
             ],
             [
              0.6666666667,
              "#ed7953"
             ],
             [
              0.7777777778,
              "#fb9f3a"
             ],
             [
              0.8888888889,
              "#fdca26"
             ],
             [
              1,
              "#f0f921"
             ]
            ],
            "type": "histogram2d"
           }
          ],
          "histogram2dcontour": [
           {
            "colorbar": {
             "outlinewidth": 0,
             "ticks": ""
            },
            "colorscale": [
             [
              0,
              "#0d0887"
             ],
             [
              0.1111111111,
              "#46039f"
             ],
             [
              0.2222222222,
              "#7201a8"
             ],
             [
              0.3333333333,
              "#9c179e"
             ],
             [
              0.4444444444,
              "#bd3786"
             ],
             [
              0.5555555556,
              "#d8576b"
             ],
             [
              0.6666666667,
              "#ed7953"
             ],
             [
              0.7777777778,
              "#fb9f3a"
             ],
             [
              0.8888888889,
              "#fdca26"
             ],
             [
              1,
              "#f0f921"
             ]
            ],
            "type": "histogram2dcontour"
           }
          ],
          "mesh3d": [
           {
            "colorbar": {
             "outlinewidth": 0,
             "ticks": ""
            },
            "type": "mesh3d"
           }
          ],
          "parcoords": [
           {
            "line": {
             "colorbar": {
              "outlinewidth": 0,
              "ticks": ""
             }
            },
            "type": "parcoords"
           }
          ],
          "scatter": [
           {
            "marker": {
             "colorbar": {
              "outlinewidth": 0,
              "ticks": ""
             }
            },
            "type": "scatter"
           }
          ],
          "scatter3d": [
           {
            "line": {
             "colorbar": {
              "outlinewidth": 0,
              "ticks": ""
             }
            },
            "marker": {
             "colorbar": {
              "outlinewidth": 0,
              "ticks": ""
             }
            },
            "type": "scatter3d"
           }
          ],
          "scattercarpet": [
           {
            "marker": {
             "colorbar": {
              "outlinewidth": 0,
              "ticks": ""
             }
            },
            "type": "scattercarpet"
           }
          ],
          "scattergeo": [
           {
            "marker": {
             "colorbar": {
              "outlinewidth": 0,
              "ticks": ""
             }
            },
            "type": "scattergeo"
           }
          ],
          "scattergl": [
           {
            "marker": {
             "colorbar": {
              "outlinewidth": 0,
              "ticks": ""
             }
            },
            "type": "scattergl"
           }
          ],
          "scattermapbox": [
           {
            "marker": {
             "colorbar": {
              "outlinewidth": 0,
              "ticks": ""
             }
            },
            "type": "scattermapbox"
           }
          ],
          "scatterpolar": [
           {
            "marker": {
             "colorbar": {
              "outlinewidth": 0,
              "ticks": ""
             }
            },
            "type": "scatterpolar"
           }
          ],
          "scatterpolargl": [
           {
            "marker": {
             "colorbar": {
              "outlinewidth": 0,
              "ticks": ""
             }
            },
            "type": "scatterpolargl"
           }
          ],
          "scatterternary": [
           {
            "marker": {
             "colorbar": {
              "outlinewidth": 0,
              "ticks": ""
             }
            },
            "type": "scatterternary"
           }
          ],
          "surface": [
           {
            "colorbar": {
             "outlinewidth": 0,
             "ticks": ""
            },
            "colorscale": [
             [
              0,
              "#0d0887"
             ],
             [
              0.1111111111,
              "#46039f"
             ],
             [
              0.2222222222,
              "#7201a8"
             ],
             [
              0.3333333333,
              "#9c179e"
             ],
             [
              0.4444444444,
              "#bd3786"
             ],
             [
              0.5555555556,
              "#d8576b"
             ],
             [
              0.6666666667,
              "#ed7953"
             ],
             [
              0.7777777778,
              "#fb9f3a"
             ],
             [
              0.8888888889,
              "#fdca26"
             ],
             [
              1,
              "#f0f921"
             ]
            ],
            "type": "surface"
           }
          ],
          "table": [
           {
            "cells": {
             "fill": {
              "color": "#EBF0F8"
             },
             "line": {
              "color": "white"
             }
            },
            "header": {
             "fill": {
              "color": "#C8D4E3"
             },
             "line": {
              "color": "white"
             }
            },
            "type": "table"
           }
          ]
         },
         "layout": {
          "annotationdefaults": {
           "arrowcolor": "#2a3f5f",
           "arrowhead": 0,
           "arrowwidth": 1
          },
          "colorscale": {
           "diverging": [
            [
             0,
             "#8e0152"
            ],
            [
             0.1,
             "#c51b7d"
            ],
            [
             0.2,
             "#de77ae"
            ],
            [
             0.3,
             "#f1b6da"
            ],
            [
             0.4,
             "#fde0ef"
            ],
            [
             0.5,
             "#f7f7f7"
            ],
            [
             0.6,
             "#e6f5d0"
            ],
            [
             0.7,
             "#b8e186"
            ],
            [
             0.8,
             "#7fbc41"
            ],
            [
             0.9,
             "#4d9221"
            ],
            [
             1,
             "#276419"
            ]
           ],
           "sequential": [
            [
             0,
             "#0d0887"
            ],
            [
             0.1111111111,
             "#46039f"
            ],
            [
             0.2222222222,
             "#7201a8"
            ],
            [
             0.3333333333,
             "#9c179e"
            ],
            [
             0.4444444444,
             "#bd3786"
            ],
            [
             0.5555555556,
             "#d8576b"
            ],
            [
             0.6666666667,
             "#ed7953"
            ],
            [
             0.7777777778,
             "#fb9f3a"
            ],
            [
             0.8888888889,
             "#fdca26"
            ],
            [
             1,
             "#f0f921"
            ]
           ],
           "sequentialminus": [
            [
             0,
             "#0d0887"
            ],
            [
             0.1111111111,
             "#46039f"
            ],
            [
             0.2222222222,
             "#7201a8"
            ],
            [
             0.3333333333,
             "#9c179e"
            ],
            [
             0.4444444444,
             "#bd3786"
            ],
            [
             0.5555555556,
             "#d8576b"
            ],
            [
             0.6666666667,
             "#ed7953"
            ],
            [
             0.7777777778,
             "#fb9f3a"
            ],
            [
             0.8888888889,
             "#fdca26"
            ],
            [
             1,
             "#f0f921"
            ]
           ]
          },
          "colorway": [
           "#636efa",
           "#EF553B",
           "#00cc96",
           "#ab63fa",
           "#FFA15A",
           "#19d3f3",
           "#FF6692",
           "#B6E880",
           "#FF97FF",
           "#FECB52"
          ],
          "font": {
           "color": "#2a3f5f"
          },
          "geo": {
           "bgcolor": "white",
           "lakecolor": "white",
           "landcolor": "#E5ECF6",
           "showlakes": true,
           "showland": true,
           "subunitcolor": "white"
          },
          "hoverlabel": {
           "align": "left"
          },
          "hovermode": "closest",
          "mapbox": {
           "style": "light"
          },
          "paper_bgcolor": "white",
          "plot_bgcolor": "#E5ECF6",
          "polar": {
           "angularaxis": {
            "gridcolor": "white",
            "linecolor": "white",
            "ticks": ""
           },
           "bgcolor": "#E5ECF6",
           "radialaxis": {
            "gridcolor": "white",
            "linecolor": "white",
            "ticks": ""
           }
          },
          "scene": {
           "xaxis": {
            "backgroundcolor": "#E5ECF6",
            "gridcolor": "white",
            "gridwidth": 2,
            "linecolor": "white",
            "showbackground": true,
            "ticks": "",
            "zerolinecolor": "white"
           },
           "yaxis": {
            "backgroundcolor": "#E5ECF6",
            "gridcolor": "white",
            "gridwidth": 2,
            "linecolor": "white",
            "showbackground": true,
            "ticks": "",
            "zerolinecolor": "white"
           },
           "zaxis": {
            "backgroundcolor": "#E5ECF6",
            "gridcolor": "white",
            "gridwidth": 2,
            "linecolor": "white",
            "showbackground": true,
            "ticks": "",
            "zerolinecolor": "white"
           }
          },
          "shapedefaults": {
           "line": {
            "color": "#2a3f5f"
           }
          },
          "ternary": {
           "aaxis": {
            "gridcolor": "white",
            "linecolor": "white",
            "ticks": ""
           },
           "baxis": {
            "gridcolor": "white",
            "linecolor": "white",
            "ticks": ""
           },
           "bgcolor": "#E5ECF6",
           "caxis": {
            "gridcolor": "white",
            "linecolor": "white",
            "ticks": ""
           }
          },
          "title": {
           "x": 0.05
          },
          "xaxis": {
           "automargin": true,
           "gridcolor": "white",
           "linecolor": "white",
           "ticks": "",
           "zerolinecolor": "white",
           "zerolinewidth": 2
          },
          "yaxis": {
           "automargin": true,
           "gridcolor": "white",
           "linecolor": "white",
           "ticks": "",
           "zerolinecolor": "white",
           "zerolinewidth": 2
          }
         }
        },
        "title": {
         "text": "Mean and median box office"
        }
       }
      },
      "text/html": [
       "<div>\n",
       "        \n",
       "        \n",
       "            <div id=\"a4e3a945-c79d-4066-862e-ebf1bef9bd7f\" class=\"plotly-graph-div\" style=\"height:525px; width:100%;\"></div>\n",
       "            <script type=\"text/javascript\">\n",
       "                require([\"plotly\"], function(Plotly) {\n",
       "                    window.PLOTLYENV=window.PLOTLYENV || {};\n",
       "                    \n",
       "                if (document.getElementById(\"a4e3a945-c79d-4066-862e-ebf1bef9bd7f\")) {\n",
       "                    Plotly.newPlot(\n",
       "                        'a4e3a945-c79d-4066-862e-ebf1bef9bd7f',\n",
       "                        [{\"name\": \"mean_box_office\", \"type\": \"scatter\", \"x\": [2010, 2011, 2012, 2013, 2014, 2015, 2016, 2017, 2018, 2019], \"y\": [0.023130038095238108, 0.12938316513761475, 0.05433924218749999, 0.16195492500000008, 26.684415265949816, 84.9405703148387, 91.00056985153986, 136.03279332635844, 104.56505923014743, 91.36926184828295]}, {\"name\": \"median_box_office\", \"type\": \"scatter\", \"x\": [2010, 2011, 2012, 2013, 2014, 2015, 2016, 2017, 2018, 2019], \"y\": [0.0017, 0.003, 0.00566, 0.0035225, 0.01816, 4.920933, 3.84667941, 9.96834, 8.891102210000001, 4.627798345]}],\n",
       "                        {\"template\": {\"data\": {\"bar\": [{\"error_x\": {\"color\": \"#2a3f5f\"}, \"error_y\": {\"color\": \"#2a3f5f\"}, \"marker\": {\"line\": {\"color\": \"#E5ECF6\", \"width\": 0.5}}, \"type\": \"bar\"}], \"barpolar\": [{\"marker\": {\"line\": {\"color\": \"#E5ECF6\", \"width\": 0.5}}, \"type\": \"barpolar\"}], \"carpet\": [{\"aaxis\": {\"endlinecolor\": \"#2a3f5f\", \"gridcolor\": \"white\", \"linecolor\": \"white\", \"minorgridcolor\": \"white\", \"startlinecolor\": \"#2a3f5f\"}, \"baxis\": {\"endlinecolor\": \"#2a3f5f\", \"gridcolor\": \"white\", \"linecolor\": \"white\", \"minorgridcolor\": \"white\", \"startlinecolor\": \"#2a3f5f\"}, \"type\": \"carpet\"}], \"choropleth\": [{\"colorbar\": {\"outlinewidth\": 0, \"ticks\": \"\"}, \"type\": \"choropleth\"}], \"contour\": [{\"colorbar\": {\"outlinewidth\": 0, \"ticks\": \"\"}, \"colorscale\": [[0.0, \"#0d0887\"], [0.1111111111111111, \"#46039f\"], [0.2222222222222222, \"#7201a8\"], [0.3333333333333333, \"#9c179e\"], [0.4444444444444444, \"#bd3786\"], [0.5555555555555556, \"#d8576b\"], [0.6666666666666666, \"#ed7953\"], [0.7777777777777778, \"#fb9f3a\"], [0.8888888888888888, \"#fdca26\"], [1.0, \"#f0f921\"]], \"type\": \"contour\"}], \"contourcarpet\": [{\"colorbar\": {\"outlinewidth\": 0, \"ticks\": \"\"}, \"type\": \"contourcarpet\"}], \"heatmap\": [{\"colorbar\": {\"outlinewidth\": 0, \"ticks\": \"\"}, \"colorscale\": [[0.0, \"#0d0887\"], [0.1111111111111111, \"#46039f\"], [0.2222222222222222, \"#7201a8\"], [0.3333333333333333, \"#9c179e\"], [0.4444444444444444, \"#bd3786\"], [0.5555555555555556, \"#d8576b\"], [0.6666666666666666, \"#ed7953\"], [0.7777777777777778, \"#fb9f3a\"], [0.8888888888888888, \"#fdca26\"], [1.0, \"#f0f921\"]], \"type\": \"heatmap\"}], \"heatmapgl\": [{\"colorbar\": {\"outlinewidth\": 0, \"ticks\": \"\"}, \"colorscale\": [[0.0, \"#0d0887\"], [0.1111111111111111, \"#46039f\"], [0.2222222222222222, \"#7201a8\"], [0.3333333333333333, \"#9c179e\"], [0.4444444444444444, \"#bd3786\"], [0.5555555555555556, \"#d8576b\"], [0.6666666666666666, \"#ed7953\"], [0.7777777777777778, \"#fb9f3a\"], [0.8888888888888888, \"#fdca26\"], [1.0, \"#f0f921\"]], \"type\": \"heatmapgl\"}], \"histogram\": [{\"marker\": {\"colorbar\": {\"outlinewidth\": 0, \"ticks\": \"\"}}, \"type\": \"histogram\"}], \"histogram2d\": [{\"colorbar\": {\"outlinewidth\": 0, \"ticks\": \"\"}, \"colorscale\": [[0.0, \"#0d0887\"], [0.1111111111111111, \"#46039f\"], [0.2222222222222222, \"#7201a8\"], [0.3333333333333333, \"#9c179e\"], [0.4444444444444444, \"#bd3786\"], [0.5555555555555556, \"#d8576b\"], [0.6666666666666666, \"#ed7953\"], [0.7777777777777778, \"#fb9f3a\"], [0.8888888888888888, \"#fdca26\"], [1.0, \"#f0f921\"]], \"type\": \"histogram2d\"}], \"histogram2dcontour\": [{\"colorbar\": {\"outlinewidth\": 0, \"ticks\": \"\"}, \"colorscale\": [[0.0, \"#0d0887\"], [0.1111111111111111, \"#46039f\"], [0.2222222222222222, \"#7201a8\"], [0.3333333333333333, \"#9c179e\"], [0.4444444444444444, \"#bd3786\"], [0.5555555555555556, \"#d8576b\"], [0.6666666666666666, \"#ed7953\"], [0.7777777777777778, \"#fb9f3a\"], [0.8888888888888888, \"#fdca26\"], [1.0, \"#f0f921\"]], \"type\": \"histogram2dcontour\"}], \"mesh3d\": [{\"colorbar\": {\"outlinewidth\": 0, \"ticks\": \"\"}, \"type\": \"mesh3d\"}], \"parcoords\": [{\"line\": {\"colorbar\": {\"outlinewidth\": 0, \"ticks\": \"\"}}, \"type\": \"parcoords\"}], \"scatter\": [{\"marker\": {\"colorbar\": {\"outlinewidth\": 0, \"ticks\": \"\"}}, \"type\": \"scatter\"}], \"scatter3d\": [{\"line\": {\"colorbar\": {\"outlinewidth\": 0, \"ticks\": \"\"}}, \"marker\": {\"colorbar\": {\"outlinewidth\": 0, \"ticks\": \"\"}}, \"type\": \"scatter3d\"}], \"scattercarpet\": [{\"marker\": {\"colorbar\": {\"outlinewidth\": 0, \"ticks\": \"\"}}, \"type\": \"scattercarpet\"}], \"scattergeo\": [{\"marker\": {\"colorbar\": {\"outlinewidth\": 0, \"ticks\": \"\"}}, \"type\": \"scattergeo\"}], \"scattergl\": [{\"marker\": {\"colorbar\": {\"outlinewidth\": 0, \"ticks\": \"\"}}, \"type\": \"scattergl\"}], \"scattermapbox\": [{\"marker\": {\"colorbar\": {\"outlinewidth\": 0, \"ticks\": \"\"}}, \"type\": \"scattermapbox\"}], \"scatterpolar\": [{\"marker\": {\"colorbar\": {\"outlinewidth\": 0, \"ticks\": \"\"}}, \"type\": \"scatterpolar\"}], \"scatterpolargl\": [{\"marker\": {\"colorbar\": {\"outlinewidth\": 0, \"ticks\": \"\"}}, \"type\": \"scatterpolargl\"}], \"scatterternary\": [{\"marker\": {\"colorbar\": {\"outlinewidth\": 0, \"ticks\": \"\"}}, \"type\": \"scatterternary\"}], \"surface\": [{\"colorbar\": {\"outlinewidth\": 0, \"ticks\": \"\"}, \"colorscale\": [[0.0, \"#0d0887\"], [0.1111111111111111, \"#46039f\"], [0.2222222222222222, \"#7201a8\"], [0.3333333333333333, \"#9c179e\"], [0.4444444444444444, \"#bd3786\"], [0.5555555555555556, \"#d8576b\"], [0.6666666666666666, \"#ed7953\"], [0.7777777777777778, \"#fb9f3a\"], [0.8888888888888888, \"#fdca26\"], [1.0, \"#f0f921\"]], \"type\": \"surface\"}], \"table\": [{\"cells\": {\"fill\": {\"color\": \"#EBF0F8\"}, \"line\": {\"color\": \"white\"}}, \"header\": {\"fill\": {\"color\": \"#C8D4E3\"}, \"line\": {\"color\": \"white\"}}, \"type\": \"table\"}]}, \"layout\": {\"annotationdefaults\": {\"arrowcolor\": \"#2a3f5f\", \"arrowhead\": 0, \"arrowwidth\": 1}, \"colorscale\": {\"diverging\": [[0, \"#8e0152\"], [0.1, \"#c51b7d\"], [0.2, \"#de77ae\"], [0.3, \"#f1b6da\"], [0.4, \"#fde0ef\"], [0.5, \"#f7f7f7\"], [0.6, \"#e6f5d0\"], [0.7, \"#b8e186\"], [0.8, \"#7fbc41\"], [0.9, \"#4d9221\"], [1, \"#276419\"]], \"sequential\": [[0.0, \"#0d0887\"], [0.1111111111111111, \"#46039f\"], [0.2222222222222222, \"#7201a8\"], [0.3333333333333333, \"#9c179e\"], [0.4444444444444444, \"#bd3786\"], [0.5555555555555556, \"#d8576b\"], [0.6666666666666666, \"#ed7953\"], [0.7777777777777778, \"#fb9f3a\"], [0.8888888888888888, \"#fdca26\"], [1.0, \"#f0f921\"]], \"sequentialminus\": [[0.0, \"#0d0887\"], [0.1111111111111111, \"#46039f\"], [0.2222222222222222, \"#7201a8\"], [0.3333333333333333, \"#9c179e\"], [0.4444444444444444, \"#bd3786\"], [0.5555555555555556, \"#d8576b\"], [0.6666666666666666, \"#ed7953\"], [0.7777777777777778, \"#fb9f3a\"], [0.8888888888888888, \"#fdca26\"], [1.0, \"#f0f921\"]]}, \"colorway\": [\"#636efa\", \"#EF553B\", \"#00cc96\", \"#ab63fa\", \"#FFA15A\", \"#19d3f3\", \"#FF6692\", \"#B6E880\", \"#FF97FF\", \"#FECB52\"], \"font\": {\"color\": \"#2a3f5f\"}, \"geo\": {\"bgcolor\": \"white\", \"lakecolor\": \"white\", \"landcolor\": \"#E5ECF6\", \"showlakes\": true, \"showland\": true, \"subunitcolor\": \"white\"}, \"hoverlabel\": {\"align\": \"left\"}, \"hovermode\": \"closest\", \"mapbox\": {\"style\": \"light\"}, \"paper_bgcolor\": \"white\", \"plot_bgcolor\": \"#E5ECF6\", \"polar\": {\"angularaxis\": {\"gridcolor\": \"white\", \"linecolor\": \"white\", \"ticks\": \"\"}, \"bgcolor\": \"#E5ECF6\", \"radialaxis\": {\"gridcolor\": \"white\", \"linecolor\": \"white\", \"ticks\": \"\"}}, \"scene\": {\"xaxis\": {\"backgroundcolor\": \"#E5ECF6\", \"gridcolor\": \"white\", \"gridwidth\": 2, \"linecolor\": \"white\", \"showbackground\": true, \"ticks\": \"\", \"zerolinecolor\": \"white\"}, \"yaxis\": {\"backgroundcolor\": \"#E5ECF6\", \"gridcolor\": \"white\", \"gridwidth\": 2, \"linecolor\": \"white\", \"showbackground\": true, \"ticks\": \"\", \"zerolinecolor\": \"white\"}, \"zaxis\": {\"backgroundcolor\": \"#E5ECF6\", \"gridcolor\": \"white\", \"gridwidth\": 2, \"linecolor\": \"white\", \"showbackground\": true, \"ticks\": \"\", \"zerolinecolor\": \"white\"}}, \"shapedefaults\": {\"line\": {\"color\": \"#2a3f5f\"}}, \"ternary\": {\"aaxis\": {\"gridcolor\": \"white\", \"linecolor\": \"white\", \"ticks\": \"\"}, \"baxis\": {\"gridcolor\": \"white\", \"linecolor\": \"white\", \"ticks\": \"\"}, \"bgcolor\": \"#E5ECF6\", \"caxis\": {\"gridcolor\": \"white\", \"linecolor\": \"white\", \"ticks\": \"\"}}, \"title\": {\"x\": 0.05}, \"xaxis\": {\"automargin\": true, \"gridcolor\": \"white\", \"linecolor\": \"white\", \"ticks\": \"\", \"zerolinecolor\": \"white\", \"zerolinewidth\": 2}, \"yaxis\": {\"automargin\": true, \"gridcolor\": \"white\", \"linecolor\": \"white\", \"ticks\": \"\", \"zerolinecolor\": \"white\", \"zerolinewidth\": 2}}}, \"title\": {\"text\": \"Mean and median box office\"}},\n",
       "                        {\"responsive\": true}\n",
       "                    ).then(function(){\n",
       "                            \n",
       "var gd = document.getElementById('a4e3a945-c79d-4066-862e-ebf1bef9bd7f');\n",
       "var x = new MutationObserver(function (mutations, observer) {{\n",
       "        var display = window.getComputedStyle(gd).display;\n",
       "        if (!display || display === 'none') {{\n",
       "            console.log([gd, 'removed!']);\n",
       "            Plotly.purge(gd);\n",
       "            observer.disconnect();\n",
       "        }}\n",
       "}});\n",
       "\n",
       "// Listen for the removal of the full notebook cells\n",
       "var notebookContainer = gd.closest('#notebook-container');\n",
       "if (notebookContainer) {{\n",
       "    x.observe(notebookContainer, {childList: true});\n",
       "}}\n",
       "\n",
       "// Listen for the clearing of the current output cell\n",
       "var outputEl = gd.closest('.output');\n",
       "if (outputEl) {{\n",
       "    x.observe(outputEl, {childList: true});\n",
       "}}\n",
       "\n",
       "                        })\n",
       "                };\n",
       "                });\n",
       "            </script>\n",
       "        </div>"
      ]
     },
     "metadata": {},
     "output_type": "display_data"
    }
   ],
   "source": [
    "trace0 = go.Scatter(\n",
    "    x=average_box_office.index,\n",
    "    y=average_box_office.mean_box_office,\n",
    "    name='mean_box_office'\n",
    ")\n",
    "\n",
    "trace1 = go.Scatter(\n",
    "    x=average_box_office.index,\n",
    "    y=average_box_office.median_box_office,\n",
    "    name='median_box_office'\n",
    ")\n",
    "\n",
    "data = [trace0, trace1]\n",
    "layout = {'title': 'Mean and median box office'}\n",
    "\n",
    "fig = go.Figure(data=data, layout=layout)\n",
    "iplot(fig, show_link=False)"
   ]
  },
  {
   "cell_type": "markdown",
   "metadata": {},
   "source": [
    "По графику видно, что хотя медианное значение оставалось все время примерно на одном уровне, среднее значение выросло к 2017 г., а потом снова снизилось."
   ]
  },
  {
   "cell_type": "code",
   "execution_count": 207,
   "metadata": {},
   "outputs": [
    {
     "data": {
      "text/html": [
       "<div>\n",
       "<style scoped>\n",
       "    .dataframe tbody tr th:only-of-type {\n",
       "        vertical-align: middle;\n",
       "    }\n",
       "\n",
       "    .dataframe tbody tr th {\n",
       "        vertical-align: top;\n",
       "    }\n",
       "\n",
       "    .dataframe thead th {\n",
       "        text-align: right;\n",
       "    }\n",
       "</style>\n",
       "<table border=\"1\" class=\"dataframe\">\n",
       "  <thead>\n",
       "    <tr style=\"text-align: right;\">\n",
       "      <th></th>\n",
       "      <th>box_office</th>\n",
       "    </tr>\n",
       "    <tr>\n",
       "      <th>title</th>\n",
       "      <th></th>\n",
       "    </tr>\n",
       "  </thead>\n",
       "  <tbody>\n",
       "    <tr>\n",
       "      <td>Движение вверх</td>\n",
       "      <td>2779.686144</td>\n",
       "    </tr>\n",
       "    <tr>\n",
       "      <td>Пираты Карибского моря: Мертвецы не рассказывают сказки</td>\n",
       "      <td>2118.396119</td>\n",
       "    </tr>\n",
       "    <tr>\n",
       "      <td>Последний богатырь</td>\n",
       "      <td>1655.037688</td>\n",
       "    </tr>\n",
       "    <tr>\n",
       "      <td>Стражи Галактики. Часть 2</td>\n",
       "      <td>1468.779681</td>\n",
       "    </tr>\n",
       "    <tr>\n",
       "      <td>Форсаж 8</td>\n",
       "      <td>1429.976813</td>\n",
       "    </tr>\n",
       "    <tr>\n",
       "      <td>...</td>\n",
       "      <td>...</td>\n",
       "    </tr>\n",
       "    <tr>\n",
       "      <td>Счастливого дня смерти</td>\n",
       "      <td>164.220663</td>\n",
       "    </tr>\n",
       "    <tr>\n",
       "      <td>Снеговик</td>\n",
       "      <td>159.937957</td>\n",
       "    </tr>\n",
       "    <tr>\n",
       "      <td>Реальная белка 2</td>\n",
       "      <td>138.329559</td>\n",
       "    </tr>\n",
       "    <tr>\n",
       "      <td>Мама!</td>\n",
       "      <td>138.152939</td>\n",
       "    </tr>\n",
       "    <tr>\n",
       "      <td>Напарник</td>\n",
       "      <td>137.326373</td>\n",
       "    </tr>\n",
       "  </tbody>\n",
       "</table>\n",
       "<p>70 rows × 1 columns</p>\n",
       "</div>"
      ],
      "text/plain": [
       "                                                     box_office\n",
       "title                                                          \n",
       "Движение вверх                                      2779.686144\n",
       "Пираты Карибского моря: Мертвецы не рассказываю...  2118.396119\n",
       "Последний богатырь                                  1655.037688\n",
       "Стражи Галактики. Часть 2                           1468.779681\n",
       "Форсаж 8                                            1429.976813\n",
       "...                                                         ...\n",
       "Счастливого дня смерти                               164.220663\n",
       "Снеговик                                             159.937957\n",
       "Реальная белка 2                                     138.329559\n",
       "Мама!                                                138.152939\n",
       "Напарник                                             137.326373\n",
       "\n",
       "[70 rows x 1 columns]"
      ]
     },
     "execution_count": 207,
     "metadata": {},
     "output_type": "execute_result"
    }
   ],
   "source": [
    "df.loc[(df['year']==2017)&(df['box_office']>136)].groupby('title')[['box_office']].sum().sort_values(by='box_office', ascending=False)"
   ]
  },
  {
   "cell_type": "markdown",
   "metadata": {},
   "source": [
    "Как можно видеть, на результаты 2017 г. повлияло 70 популярных фильмов со сборами больше среднего. С учетом падения количества данных о сборах в 2017 г. (357 фильмов), популярных фильмов оказалось больше 19%, что достаточно существенно."
   ]
  },
  {
   "cell_type": "markdown",
   "metadata": {},
   "source": [
    "#### Влияние возрастных ограничений"
   ]
  },
  {
   "cell_type": "markdown",
   "metadata": {
    "id": "Ok89WFwJgFyZ"
   },
   "source": [
    "Изучим, влияет ли возрастное ограничение аудитории на сборы фильма в прокате в период с 2015 по 2019 год, а также фильмы с каким возрастным ограничением собрали больше всего денег в прокате."
   ]
  },
  {
   "cell_type": "code",
   "execution_count": 208,
   "metadata": {
    "id": "jsSbEqfjgFya",
    "scrolled": true
   },
   "outputs": [
    {
     "data": {
      "text/plain": [
       "<matplotlib.axes._subplots.AxesSubplot at 0x7f452c186150>"
      ]
     },
     "execution_count": 208,
     "metadata": {},
     "output_type": "execute_result"
    },
    {
     "data": {
      "image/png": "[encoded data removed]",
      "text/plain": [
       "<Figure size 432x288 with 1 Axes>"
      ]
     },
     "metadata": {
      "needs_background": "light"
     },
     "output_type": "display_data"
    }
   ],
   "source": [
    "df.loc[df['year']>2014].groupby('age_restriction')[['box_office']].sum().plot(kind='bar', rot=0, grid=True)"
   ]
  },
  {
   "cell_type": "markdown",
   "metadata": {},
   "source": [
    "В целом за весь период времени больше всего собрали фильмы с возрастным ограничением 16+."
   ]
  },
  {
   "cell_type": "code",
   "execution_count": 209,
   "metadata": {
    "scrolled": false
   },
   "outputs": [
    {
     "data": {
      "text/html": [
       "<div>\n",
       "<style scoped>\n",
       "    .dataframe tbody tr th:only-of-type {\n",
       "        vertical-align: middle;\n",
       "    }\n",
       "\n",
       "    .dataframe tbody tr th {\n",
       "        vertical-align: top;\n",
       "    }\n",
       "\n",
       "    .dataframe thead th {\n",
       "        text-align: right;\n",
       "    }\n",
       "</style>\n",
       "<table border=\"1\" class=\"dataframe\">\n",
       "  <thead>\n",
       "    <tr style=\"text-align: right;\">\n",
       "      <th>age_restriction</th>\n",
       "      <th>age_0</th>\n",
       "      <th>age_6</th>\n",
       "      <th>age_12</th>\n",
       "      <th>age_16</th>\n",
       "      <th>age_18</th>\n",
       "    </tr>\n",
       "    <tr>\n",
       "      <th>year</th>\n",
       "      <th></th>\n",
       "      <th></th>\n",
       "      <th></th>\n",
       "      <th></th>\n",
       "      <th></th>\n",
       "    </tr>\n",
       "  </thead>\n",
       "  <tbody>\n",
       "    <tr>\n",
       "      <td>2015</td>\n",
       "      <td>379.054578</td>\n",
       "      <td>8701.799371</td>\n",
       "      <td>13616.082009</td>\n",
       "      <td>11368.120870</td>\n",
       "      <td>5432.308367</td>\n",
       "    </tr>\n",
       "    <tr>\n",
       "      <td>2016</td>\n",
       "      <td>150.228849</td>\n",
       "      <td>12053.146008</td>\n",
       "      <td>12204.446524</td>\n",
       "      <td>16664.548542</td>\n",
       "      <td>6793.929819</td>\n",
       "    </tr>\n",
       "    <tr>\n",
       "      <td>2017</td>\n",
       "      <td>229.598930</td>\n",
       "      <td>12086.142146</td>\n",
       "      <td>7851.427661</td>\n",
       "      <td>18745.042900</td>\n",
       "      <td>9651.495581</td>\n",
       "    </tr>\n",
       "    <tr>\n",
       "      <td>2018</td>\n",
       "      <td>32.449002</td>\n",
       "      <td>10104.974623</td>\n",
       "      <td>14267.291661</td>\n",
       "      <td>16503.602347</td>\n",
       "      <td>8760.085501</td>\n",
       "    </tr>\n",
       "    <tr>\n",
       "      <td>2019</td>\n",
       "      <td>17.746067</td>\n",
       "      <td>12852.548651</td>\n",
       "      <td>12680.198774</td>\n",
       "      <td>12753.418985</td>\n",
       "      <td>10121.796304</td>\n",
       "    </tr>\n",
       "  </tbody>\n",
       "</table>\n",
       "</div>"
      ],
      "text/plain": [
       "age_restriction       age_0         age_6        age_12        age_16  \\\n",
       "year                                                                    \n",
       "2015             379.054578   8701.799371  13616.082009  11368.120870   \n",
       "2016             150.228849  12053.146008  12204.446524  16664.548542   \n",
       "2017             229.598930  12086.142146   7851.427661  18745.042900   \n",
       "2018              32.449002  10104.974623  14267.291661  16503.602347   \n",
       "2019              17.746067  12852.548651  12680.198774  12753.418985   \n",
       "\n",
       "age_restriction        age_18  \n",
       "year                           \n",
       "2015              5432.308367  \n",
       "2016              6793.929819  \n",
       "2017              9651.495581  \n",
       "2018              8760.085501  \n",
       "2019             10121.796304  "
      ]
     },
     "execution_count": 209,
     "metadata": {},
     "output_type": "execute_result"
    }
   ],
   "source": [
    "age_restriction_df = df.loc[df['year']>2014].pivot_table(index='year', columns= 'age_restriction', values='box_office', aggfunc='sum')\n",
    "age_restriction_df = age_restriction_df.rename(columns={\n",
    "    age_restriction_df.columns[0]: 'age_0', \n",
    "    age_restriction_df.columns[1]: 'age_6',\n",
    "    age_restriction_df.columns[2]: 'age_12',\n",
    "    age_restriction_df.columns[3]: 'age_16',\n",
    "    age_restriction_df.columns[4]: 'age_18'})\n",
    "age_restriction_df"
   ]
  },
  {
   "cell_type": "markdown",
   "metadata": {},
   "source": [
    "Из таблицы видно, что в зависимости от года данные меняются. Более наглядно это можно увидеть на графике."
   ]
  },
  {
   "cell_type": "code",
   "execution_count": 210,
   "metadata": {},
   "outputs": [
    {
     "data": {
      "application/vnd.plotly.v1+json": {
       "config": {
        "linkText": "Export to plot.ly",
        "plotlyServerURL": "https://plot.ly",
        "showLink": false
       },
       "data": [
        {
         "name": "0+",
         "type": "scatter",
         "x": [
          2015,
          2016,
          2017,
          2018,
          2019
         ],
         "y": [
          379.05457837,
          150.22884867,
          229.59893,
          32.44900211,
          17.74606682
         ]
        },
        {
         "name": "6+",
         "type": "scatter",
         "x": [
          2015,
          2016,
          2017,
          2018,
          2019
         ],
         "y": [
          8701.79937141,
          12053.14600824,
          12086.14214576,
          10104.97462341,
          12852.54865086
         ]
        },
        {
         "name": "12+",
         "type": "scatter",
         "x": [
          2015,
          2016,
          2017,
          2018,
          2019
         ],
         "y": [
          13616.08200891,
          12204.44652439,
          7851.42766067,
          14267.29166069,
          12680.19877367
         ]
        },
        {
         "name": "16+",
         "type": "scatter",
         "x": [
          2015,
          2016,
          2017,
          2018,
          2019
         ],
         "y": [
          11368.12087027,
          16664.54854174,
          18745.04290006,
          16503.60234696,
          12753.4189846
         ]
        },
        {
         "name": "18+",
         "type": "scatter",
         "x": [
          2015,
          2016,
          2017,
          2018,
          2019
         ],
         "y": [
          5432.30836744,
          6793.92981887,
          9651.49558102,
          8760.08550115,
          10121.79630364
         ]
        }
       ],
       "layout": {
        "template": {
         "data": {
          "bar": [
           {
            "error_x": {
             "color": "#2a3f5f"
            },
            "error_y": {
             "color": "#2a3f5f"
            },
            "marker": {
             "line": {
              "color": "#E5ECF6",
              "width": 0.5
             }
            },
            "type": "bar"
           }
          ],
          "barpolar": [
           {
            "marker": {
             "line": {
              "color": "#E5ECF6",
              "width": 0.5
             }
            },
            "type": "barpolar"
           }
          ],
          "carpet": [
           {
            "aaxis": {
             "endlinecolor": "#2a3f5f",
             "gridcolor": "white",
             "linecolor": "white",
             "minorgridcolor": "white",
             "startlinecolor": "#2a3f5f"
            },
            "baxis": {
             "endlinecolor": "#2a3f5f",
             "gridcolor": "white",
             "linecolor": "white",
             "minorgridcolor": "white",
             "startlinecolor": "#2a3f5f"
            },
            "type": "carpet"
           }
          ],
          "choropleth": [
           {
            "colorbar": {
             "outlinewidth": 0,
             "ticks": ""
            },
            "type": "choropleth"
           }
          ],
          "contour": [
           {
            "colorbar": {
             "outlinewidth": 0,
             "ticks": ""
            },
            "colorscale": [
             [
              0,
              "#0d0887"
             ],
             [
              0.1111111111,
              "#46039f"
             ],
             [
              0.2222222222,
              "#7201a8"
             ],
             [
              0.3333333333,
              "#9c179e"
             ],
             [
              0.4444444444,
              "#bd3786"
             ],
             [
              0.5555555556,
              "#d8576b"
             ],
             [
              0.6666666667,
              "#ed7953"
             ],
             [
              0.7777777778,
              "#fb9f3a"
             ],
             [
              0.8888888889,
              "#fdca26"
             ],
             [
              1,
              "#f0f921"
             ]
            ],
            "type": "contour"
           }
          ],
          "contourcarpet": [
           {
            "colorbar": {
             "outlinewidth": 0,
             "ticks": ""
            },
            "type": "contourcarpet"
           }
          ],
          "heatmap": [
           {
            "colorbar": {
             "outlinewidth": 0,
             "ticks": ""
            },
            "colorscale": [
             [
              0,
              "#0d0887"
             ],
             [
              0.1111111111,
              "#46039f"
             ],
             [
              0.2222222222,
              "#7201a8"
             ],
             [
              0.3333333333,
              "#9c179e"
             ],
             [
              0.4444444444,
              "#bd3786"
             ],
             [
              0.5555555556,
              "#d8576b"
             ],
             [
              0.6666666667,
              "#ed7953"
             ],
             [
              0.7777777778,
              "#fb9f3a"
             ],
             [
              0.8888888889,
              "#fdca26"
             ],
             [
              1,
              "#f0f921"
             ]
            ],
            "type": "heatmap"
           }
          ],
          "heatmapgl": [
           {
            "colorbar": {
             "outlinewidth": 0,
             "ticks": ""
            },
            "colorscale": [
             [
              0,
              "#0d0887"
             ],
             [
              0.1111111111,
              "#46039f"
             ],
             [
              0.2222222222,
              "#7201a8"
             ],
             [
              0.3333333333,
              "#9c179e"
             ],
             [
              0.4444444444,
              "#bd3786"
             ],
             [
              0.5555555556,
              "#d8576b"
             ],
             [
              0.6666666667,
              "#ed7953"
             ],
             [
              0.7777777778,
              "#fb9f3a"
             ],
             [
              0.8888888889,
              "#fdca26"
             ],
             [
              1,
              "#f0f921"
             ]
            ],
            "type": "heatmapgl"
           }
          ],
          "histogram": [
           {
            "marker": {
             "colorbar": {
              "outlinewidth": 0,
              "ticks": ""
             }
            },
            "type": "histogram"
           }
          ],
          "histogram2d": [
           {
            "colorbar": {
             "outlinewidth": 0,
             "ticks": ""
            },
            "colorscale": [
             [
              0,
              "#0d0887"
             ],
             [
              0.1111111111,
              "#46039f"
             ],
             [
              0.2222222222,
              "#7201a8"
             ],
             [
              0.3333333333,
              "#9c179e"
             ],
             [
              0.4444444444,
              "#bd3786"
             ],
             [
              0.5555555556,
              "#d8576b"
             ],
             [
              0.6666666667,
              "#ed7953"
             ],
             [
              0.7777777778,
              "#fb9f3a"
             ],
             [
              0.8888888889,
              "#fdca26"
             ],
             [
              1,
              "#f0f921"
             ]
            ],
            "type": "histogram2d"
           }
          ],
          "histogram2dcontour": [
           {
            "colorbar": {
             "outlinewidth": 0,
             "ticks": ""
            },
            "colorscale": [
             [
              0,
              "#0d0887"
             ],
             [
              0.1111111111,
              "#46039f"
             ],
             [
              0.2222222222,
              "#7201a8"
             ],
             [
              0.3333333333,
              "#9c179e"
             ],
             [
              0.4444444444,
              "#bd3786"
             ],
             [
              0.5555555556,
              "#d8576b"
             ],
             [
              0.6666666667,
              "#ed7953"
             ],
             [
              0.7777777778,
              "#fb9f3a"
             ],
             [
              0.8888888889,
              "#fdca26"
             ],
             [
              1,
              "#f0f921"
             ]
            ],
            "type": "histogram2dcontour"
           }
          ],
          "mesh3d": [
           {
            "colorbar": {
             "outlinewidth": 0,
             "ticks": ""
            },
            "type": "mesh3d"
           }
          ],
          "parcoords": [
           {
            "line": {
             "colorbar": {
              "outlinewidth": 0,
              "ticks": ""
             }
            },
            "type": "parcoords"
           }
          ],
          "scatter": [
           {
            "marker": {
             "colorbar": {
              "outlinewidth": 0,
              "ticks": ""
             }
            },
            "type": "scatter"
           }
          ],
          "scatter3d": [
           {
            "line": {
             "colorbar": {
              "outlinewidth": 0,
              "ticks": ""
             }
            },
            "marker": {
             "colorbar": {
              "outlinewidth": 0,
              "ticks": ""
             }
            },
            "type": "scatter3d"
           }
          ],
          "scattercarpet": [
           {
            "marker": {
             "colorbar": {
              "outlinewidth": 0,
              "ticks": ""
             }
            },
            "type": "scattercarpet"
           }
          ],
          "scattergeo": [
           {
            "marker": {
             "colorbar": {
              "outlinewidth": 0,
              "ticks": ""
             }
            },
            "type": "scattergeo"
           }
          ],
          "scattergl": [
           {
            "marker": {
             "colorbar": {
              "outlinewidth": 0,
              "ticks": ""
             }
            },
            "type": "scattergl"
           }
          ],
          "scattermapbox": [
           {
            "marker": {
             "colorbar": {
              "outlinewidth": 0,
              "ticks": ""
             }
            },
            "type": "scattermapbox"
           }
          ],
          "scatterpolar": [
           {
            "marker": {
             "colorbar": {
              "outlinewidth": 0,
              "ticks": ""
             }
            },
            "type": "scatterpolar"
           }
          ],
          "scatterpolargl": [
           {
            "marker": {
             "colorbar": {
              "outlinewidth": 0,
              "ticks": ""
             }
            },
            "type": "scatterpolargl"
           }
          ],
          "scatterternary": [
           {
            "marker": {
             "colorbar": {
              "outlinewidth": 0,
              "ticks": ""
             }
            },
            "type": "scatterternary"
           }
          ],
          "surface": [
           {
            "colorbar": {
             "outlinewidth": 0,
             "ticks": ""
            },
            "colorscale": [
             [
              0,
              "#0d0887"
             ],
             [
              0.1111111111,
              "#46039f"
             ],
             [
              0.2222222222,
              "#7201a8"
             ],
             [
              0.3333333333,
              "#9c179e"
             ],
             [
              0.4444444444,
              "#bd3786"
             ],
             [
              0.5555555556,
              "#d8576b"
             ],
             [
              0.6666666667,
              "#ed7953"
             ],
             [
              0.7777777778,
              "#fb9f3a"
             ],
             [
              0.8888888889,
              "#fdca26"
             ],
             [
              1,
              "#f0f921"
             ]
            ],
            "type": "surface"
           }
          ],
          "table": [
           {
            "cells": {
             "fill": {
              "color": "#EBF0F8"
             },
             "line": {
              "color": "white"
             }
            },
            "header": {
             "fill": {
              "color": "#C8D4E3"
             },
             "line": {
              "color": "white"
             }
            },
            "type": "table"
           }
          ]
         },
         "layout": {
          "annotationdefaults": {
           "arrowcolor": "#2a3f5f",
           "arrowhead": 0,
           "arrowwidth": 1
          },
          "colorscale": {
           "diverging": [
            [
             0,
             "#8e0152"
            ],
            [
             0.1,
             "#c51b7d"
            ],
            [
             0.2,
             "#de77ae"
            ],
            [
             0.3,
             "#f1b6da"
            ],
            [
             0.4,
             "#fde0ef"
            ],
            [
             0.5,
             "#f7f7f7"
            ],
            [
             0.6,
             "#e6f5d0"
            ],
            [
             0.7,
             "#b8e186"
            ],
            [
             0.8,
             "#7fbc41"
            ],
            [
             0.9,
             "#4d9221"
            ],
            [
             1,
             "#276419"
            ]
           ],
           "sequential": [
            [
             0,
             "#0d0887"
            ],
            [
             0.1111111111,
             "#46039f"
            ],
            [
             0.2222222222,
             "#7201a8"
            ],
            [
             0.3333333333,
             "#9c179e"
            ],
            [
             0.4444444444,
             "#bd3786"
            ],
            [
             0.5555555556,
             "#d8576b"
            ],
            [
             0.6666666667,
             "#ed7953"
            ],
            [
             0.7777777778,
             "#fb9f3a"
            ],
            [
             0.8888888889,
             "#fdca26"
            ],
            [
             1,
             "#f0f921"
            ]
           ],
           "sequentialminus": [
            [
             0,
             "#0d0887"
            ],
            [
             0.1111111111,
             "#46039f"
            ],
            [
             0.2222222222,
             "#7201a8"
            ],
            [
             0.3333333333,
             "#9c179e"
            ],
            [
             0.4444444444,
             "#bd3786"
            ],
            [
             0.5555555556,
             "#d8576b"
            ],
            [
             0.6666666667,
             "#ed7953"
            ],
            [
             0.7777777778,
             "#fb9f3a"
            ],
            [
             0.8888888889,
             "#fdca26"
            ],
            [
             1,
             "#f0f921"
            ]
           ]
          },
          "colorway": [
           "#636efa",
           "#EF553B",
           "#00cc96",
           "#ab63fa",
           "#FFA15A",
           "#19d3f3",
           "#FF6692",
           "#B6E880",
           "#FF97FF",
           "#FECB52"
          ],
          "font": {
           "color": "#2a3f5f"
          },
          "geo": {
           "bgcolor": "white",
           "lakecolor": "white",
           "landcolor": "#E5ECF6",
           "showlakes": true,
           "showland": true,
           "subunitcolor": "white"
          },
          "hoverlabel": {
           "align": "left"
          },
          "hovermode": "closest",
          "mapbox": {
           "style": "light"
          },
          "paper_bgcolor": "white",
          "plot_bgcolor": "#E5ECF6",
          "polar": {
           "angularaxis": {
            "gridcolor": "white",
            "linecolor": "white",
            "ticks": ""
           },
           "bgcolor": "#E5ECF6",
           "radialaxis": {
            "gridcolor": "white",
            "linecolor": "white",
            "ticks": ""
           }
          },
          "scene": {
           "xaxis": {
            "backgroundcolor": "#E5ECF6",
            "gridcolor": "white",
            "gridwidth": 2,
            "linecolor": "white",
            "showbackground": true,
            "ticks": "",
            "zerolinecolor": "white"
           },
           "yaxis": {
            "backgroundcolor": "#E5ECF6",
            "gridcolor": "white",
            "gridwidth": 2,
            "linecolor": "white",
            "showbackground": true,
            "ticks": "",
            "zerolinecolor": "white"
           },
           "zaxis": {
            "backgroundcolor": "#E5ECF6",
            "gridcolor": "white",
            "gridwidth": 2,
            "linecolor": "white",
            "showbackground": true,
            "ticks": "",
            "zerolinecolor": "white"
           }
          },
          "shapedefaults": {
           "line": {
            "color": "#2a3f5f"
           }
          },
          "ternary": {
           "aaxis": {
            "gridcolor": "white",
            "linecolor": "white",
            "ticks": ""
           },
           "baxis": {
            "gridcolor": "white",
            "linecolor": "white",
            "ticks": ""
           },
           "bgcolor": "#E5ECF6",
           "caxis": {
            "gridcolor": "white",
            "linecolor": "white",
            "ticks": ""
           }
          },
          "title": {
           "x": 0.05
          },
          "xaxis": {
           "automargin": true,
           "gridcolor": "white",
           "linecolor": "white",
           "ticks": "",
           "zerolinecolor": "white",
           "zerolinewidth": 2
          },
          "yaxis": {
           "automargin": true,
           "gridcolor": "white",
           "linecolor": "white",
           "ticks": "",
           "zerolinecolor": "white",
           "zerolinewidth": 2
          }
         }
        },
        "title": {
         "text": "Age restriction box office per year"
        }
       }
      },
      "text/html": [
       "<div>\n",
       "        \n",
       "        \n",
       "            <div id=\"3cef064d-080f-4416-af08-49e23890b7a8\" class=\"plotly-graph-div\" style=\"height:525px; width:100%;\"></div>\n",
       "            <script type=\"text/javascript\">\n",
       "                require([\"plotly\"], function(Plotly) {\n",
       "                    window.PLOTLYENV=window.PLOTLYENV || {};\n",
       "                    \n",
       "                if (document.getElementById(\"3cef064d-080f-4416-af08-49e23890b7a8\")) {\n",
       "                    Plotly.newPlot(\n",
       "                        '3cef064d-080f-4416-af08-49e23890b7a8',\n",
       "                        [{\"name\": \"0+\", \"type\": \"scatter\", \"x\": [2015, 2016, 2017, 2018, 2019], \"y\": [379.05457836999994, 150.22884867000002, 229.59893, 32.449002109999995, 17.74606682]}, {\"name\": \"6+\", \"type\": \"scatter\", \"x\": [2015, 2016, 2017, 2018, 2019], \"y\": [8701.79937141, 12053.146008240003, 12086.14214576, 10104.97462341, 12852.548650860002]}, {\"name\": \"12+\", \"type\": \"scatter\", \"x\": [2015, 2016, 2017, 2018, 2019], \"y\": [13616.082008910003, 12204.446524389998, 7851.4276606700005, 14267.291660690007, 12680.19877367]}, {\"name\": \"16+\", \"type\": \"scatter\", \"x\": [2015, 2016, 2017, 2018, 2019], \"y\": [11368.120870269991, 16664.548541739998, 18745.042900059998, 16503.60234696, 12753.4189846]}, {\"name\": \"18+\", \"type\": \"scatter\", \"x\": [2015, 2016, 2017, 2018, 2019], \"y\": [5432.308367440002, 6793.9298188699995, 9651.49558102, 8760.085501149993, 10121.796303639996]}],\n",
       "                        {\"template\": {\"data\": {\"bar\": [{\"error_x\": {\"color\": \"#2a3f5f\"}, \"error_y\": {\"color\": \"#2a3f5f\"}, \"marker\": {\"line\": {\"color\": \"#E5ECF6\", \"width\": 0.5}}, \"type\": \"bar\"}], \"barpolar\": [{\"marker\": {\"line\": {\"color\": \"#E5ECF6\", \"width\": 0.5}}, \"type\": \"barpolar\"}], \"carpet\": [{\"aaxis\": {\"endlinecolor\": \"#2a3f5f\", \"gridcolor\": \"white\", \"linecolor\": \"white\", \"minorgridcolor\": \"white\", \"startlinecolor\": \"#2a3f5f\"}, \"baxis\": {\"endlinecolor\": \"#2a3f5f\", \"gridcolor\": \"white\", \"linecolor\": \"white\", \"minorgridcolor\": \"white\", \"startlinecolor\": \"#2a3f5f\"}, \"type\": \"carpet\"}], \"choropleth\": [{\"colorbar\": {\"outlinewidth\": 0, \"ticks\": \"\"}, \"type\": \"choropleth\"}], \"contour\": [{\"colorbar\": {\"outlinewidth\": 0, \"ticks\": \"\"}, \"colorscale\": [[0.0, \"#0d0887\"], [0.1111111111111111, \"#46039f\"], [0.2222222222222222, \"#7201a8\"], [0.3333333333333333, \"#9c179e\"], [0.4444444444444444, \"#bd3786\"], [0.5555555555555556, \"#d8576b\"], [0.6666666666666666, \"#ed7953\"], [0.7777777777777778, \"#fb9f3a\"], [0.8888888888888888, \"#fdca26\"], [1.0, \"#f0f921\"]], \"type\": \"contour\"}], \"contourcarpet\": [{\"colorbar\": {\"outlinewidth\": 0, \"ticks\": \"\"}, \"type\": \"contourcarpet\"}], \"heatmap\": [{\"colorbar\": {\"outlinewidth\": 0, \"ticks\": \"\"}, \"colorscale\": [[0.0, \"#0d0887\"], [0.1111111111111111, \"#46039f\"], [0.2222222222222222, \"#7201a8\"], [0.3333333333333333, \"#9c179e\"], [0.4444444444444444, \"#bd3786\"], [0.5555555555555556, \"#d8576b\"], [0.6666666666666666, \"#ed7953\"], [0.7777777777777778, \"#fb9f3a\"], [0.8888888888888888, \"#fdca26\"], [1.0, \"#f0f921\"]], \"type\": \"heatmap\"}], \"heatmapgl\": [{\"colorbar\": {\"outlinewidth\": 0, \"ticks\": \"\"}, \"colorscale\": [[0.0, \"#0d0887\"], [0.1111111111111111, \"#46039f\"], [0.2222222222222222, \"#7201a8\"], [0.3333333333333333, \"#9c179e\"], [0.4444444444444444, \"#bd3786\"], [0.5555555555555556, \"#d8576b\"], [0.6666666666666666, \"#ed7953\"], [0.7777777777777778, \"#fb9f3a\"], [0.8888888888888888, \"#fdca26\"], [1.0, \"#f0f921\"]], \"type\": \"heatmapgl\"}], \"histogram\": [{\"marker\": {\"colorbar\": {\"outlinewidth\": 0, \"ticks\": \"\"}}, \"type\": \"histogram\"}], \"histogram2d\": [{\"colorbar\": {\"outlinewidth\": 0, \"ticks\": \"\"}, \"colorscale\": [[0.0, \"#0d0887\"], [0.1111111111111111, \"#46039f\"], [0.2222222222222222, \"#7201a8\"], [0.3333333333333333, \"#9c179e\"], [0.4444444444444444, \"#bd3786\"], [0.5555555555555556, \"#d8576b\"], [0.6666666666666666, \"#ed7953\"], [0.7777777777777778, \"#fb9f3a\"], [0.8888888888888888, \"#fdca26\"], [1.0, \"#f0f921\"]], \"type\": \"histogram2d\"}], \"histogram2dcontour\": [{\"colorbar\": {\"outlinewidth\": 0, \"ticks\": \"\"}, \"colorscale\": [[0.0, \"#0d0887\"], [0.1111111111111111, \"#46039f\"], [0.2222222222222222, \"#7201a8\"], [0.3333333333333333, \"#9c179e\"], [0.4444444444444444, \"#bd3786\"], [0.5555555555555556, \"#d8576b\"], [0.6666666666666666, \"#ed7953\"], [0.7777777777777778, \"#fb9f3a\"], [0.8888888888888888, \"#fdca26\"], [1.0, \"#f0f921\"]], \"type\": \"histogram2dcontour\"}], \"mesh3d\": [{\"colorbar\": {\"outlinewidth\": 0, \"ticks\": \"\"}, \"type\": \"mesh3d\"}], \"parcoords\": [{\"line\": {\"colorbar\": {\"outlinewidth\": 0, \"ticks\": \"\"}}, \"type\": \"parcoords\"}], \"scatter\": [{\"marker\": {\"colorbar\": {\"outlinewidth\": 0, \"ticks\": \"\"}}, \"type\": \"scatter\"}], \"scatter3d\": [{\"line\": {\"colorbar\": {\"outlinewidth\": 0, \"ticks\": \"\"}}, \"marker\": {\"colorbar\": {\"outlinewidth\": 0, \"ticks\": \"\"}}, \"type\": \"scatter3d\"}], \"scattercarpet\": [{\"marker\": {\"colorbar\": {\"outlinewidth\": 0, \"ticks\": \"\"}}, \"type\": \"scattercarpet\"}], \"scattergeo\": [{\"marker\": {\"colorbar\": {\"outlinewidth\": 0, \"ticks\": \"\"}}, \"type\": \"scattergeo\"}], \"scattergl\": [{\"marker\": {\"colorbar\": {\"outlinewidth\": 0, \"ticks\": \"\"}}, \"type\": \"scattergl\"}], \"scattermapbox\": [{\"marker\": {\"colorbar\": {\"outlinewidth\": 0, \"ticks\": \"\"}}, \"type\": \"scattermapbox\"}], \"scatterpolar\": [{\"marker\": {\"colorbar\": {\"outlinewidth\": 0, \"ticks\": \"\"}}, \"type\": \"scatterpolar\"}], \"scatterpolargl\": [{\"marker\": {\"colorbar\": {\"outlinewidth\": 0, \"ticks\": \"\"}}, \"type\": \"scatterpolargl\"}], \"scatterternary\": [{\"marker\": {\"colorbar\": {\"outlinewidth\": 0, \"ticks\": \"\"}}, \"type\": \"scatterternary\"}], \"surface\": [{\"colorbar\": {\"outlinewidth\": 0, \"ticks\": \"\"}, \"colorscale\": [[0.0, \"#0d0887\"], [0.1111111111111111, \"#46039f\"], [0.2222222222222222, \"#7201a8\"], [0.3333333333333333, \"#9c179e\"], [0.4444444444444444, \"#bd3786\"], [0.5555555555555556, \"#d8576b\"], [0.6666666666666666, \"#ed7953\"], [0.7777777777777778, \"#fb9f3a\"], [0.8888888888888888, \"#fdca26\"], [1.0, \"#f0f921\"]], \"type\": \"surface\"}], \"table\": [{\"cells\": {\"fill\": {\"color\": \"#EBF0F8\"}, \"line\": {\"color\": \"white\"}}, \"header\": {\"fill\": {\"color\": \"#C8D4E3\"}, \"line\": {\"color\": \"white\"}}, \"type\": \"table\"}]}, \"layout\": {\"annotationdefaults\": {\"arrowcolor\": \"#2a3f5f\", \"arrowhead\": 0, \"arrowwidth\": 1}, \"colorscale\": {\"diverging\": [[0, \"#8e0152\"], [0.1, \"#c51b7d\"], [0.2, \"#de77ae\"], [0.3, \"#f1b6da\"], [0.4, \"#fde0ef\"], [0.5, \"#f7f7f7\"], [0.6, \"#e6f5d0\"], [0.7, \"#b8e186\"], [0.8, \"#7fbc41\"], [0.9, \"#4d9221\"], [1, \"#276419\"]], \"sequential\": [[0.0, \"#0d0887\"], [0.1111111111111111, \"#46039f\"], [0.2222222222222222, \"#7201a8\"], [0.3333333333333333, \"#9c179e\"], [0.4444444444444444, \"#bd3786\"], [0.5555555555555556, \"#d8576b\"], [0.6666666666666666, \"#ed7953\"], [0.7777777777777778, \"#fb9f3a\"], [0.8888888888888888, \"#fdca26\"], [1.0, \"#f0f921\"]], \"sequentialminus\": [[0.0, \"#0d0887\"], [0.1111111111111111, \"#46039f\"], [0.2222222222222222, \"#7201a8\"], [0.3333333333333333, \"#9c179e\"], [0.4444444444444444, \"#bd3786\"], [0.5555555555555556, \"#d8576b\"], [0.6666666666666666, \"#ed7953\"], [0.7777777777777778, \"#fb9f3a\"], [0.8888888888888888, \"#fdca26\"], [1.0, \"#f0f921\"]]}, \"colorway\": [\"#636efa\", \"#EF553B\", \"#00cc96\", \"#ab63fa\", \"#FFA15A\", \"#19d3f3\", \"#FF6692\", \"#B6E880\", \"#FF97FF\", \"#FECB52\"], \"font\": {\"color\": \"#2a3f5f\"}, \"geo\": {\"bgcolor\": \"white\", \"lakecolor\": \"white\", \"landcolor\": \"#E5ECF6\", \"showlakes\": true, \"showland\": true, \"subunitcolor\": \"white\"}, \"hoverlabel\": {\"align\": \"left\"}, \"hovermode\": \"closest\", \"mapbox\": {\"style\": \"light\"}, \"paper_bgcolor\": \"white\", \"plot_bgcolor\": \"#E5ECF6\", \"polar\": {\"angularaxis\": {\"gridcolor\": \"white\", \"linecolor\": \"white\", \"ticks\": \"\"}, \"bgcolor\": \"#E5ECF6\", \"radialaxis\": {\"gridcolor\": \"white\", \"linecolor\": \"white\", \"ticks\": \"\"}}, \"scene\": {\"xaxis\": {\"backgroundcolor\": \"#E5ECF6\", \"gridcolor\": \"white\", \"gridwidth\": 2, \"linecolor\": \"white\", \"showbackground\": true, \"ticks\": \"\", \"zerolinecolor\": \"white\"}, \"yaxis\": {\"backgroundcolor\": \"#E5ECF6\", \"gridcolor\": \"white\", \"gridwidth\": 2, \"linecolor\": \"white\", \"showbackground\": true, \"ticks\": \"\", \"zerolinecolor\": \"white\"}, \"zaxis\": {\"backgroundcolor\": \"#E5ECF6\", \"gridcolor\": \"white\", \"gridwidth\": 2, \"linecolor\": \"white\", \"showbackground\": true, \"ticks\": \"\", \"zerolinecolor\": \"white\"}}, \"shapedefaults\": {\"line\": {\"color\": \"#2a3f5f\"}}, \"ternary\": {\"aaxis\": {\"gridcolor\": \"white\", \"linecolor\": \"white\", \"ticks\": \"\"}, \"baxis\": {\"gridcolor\": \"white\", \"linecolor\": \"white\", \"ticks\": \"\"}, \"bgcolor\": \"#E5ECF6\", \"caxis\": {\"gridcolor\": \"white\", \"linecolor\": \"white\", \"ticks\": \"\"}}, \"title\": {\"x\": 0.05}, \"xaxis\": {\"automargin\": true, \"gridcolor\": \"white\", \"linecolor\": \"white\", \"ticks\": \"\", \"zerolinecolor\": \"white\", \"zerolinewidth\": 2}, \"yaxis\": {\"automargin\": true, \"gridcolor\": \"white\", \"linecolor\": \"white\", \"ticks\": \"\", \"zerolinecolor\": \"white\", \"zerolinewidth\": 2}}}, \"title\": {\"text\": \"Age restriction box office per year\"}},\n",
       "                        {\"responsive\": true}\n",
       "                    ).then(function(){\n",
       "                            \n",
       "var gd = document.getElementById('3cef064d-080f-4416-af08-49e23890b7a8');\n",
       "var x = new MutationObserver(function (mutations, observer) {{\n",
       "        var display = window.getComputedStyle(gd).display;\n",
       "        if (!display || display === 'none') {{\n",
       "            console.log([gd, 'removed!']);\n",
       "            Plotly.purge(gd);\n",
       "            observer.disconnect();\n",
       "        }}\n",
       "}});\n",
       "\n",
       "// Listen for the removal of the full notebook cells\n",
       "var notebookContainer = gd.closest('#notebook-container');\n",
       "if (notebookContainer) {{\n",
       "    x.observe(notebookContainer, {childList: true});\n",
       "}}\n",
       "\n",
       "// Listen for the clearing of the current output cell\n",
       "var outputEl = gd.closest('.output');\n",
       "if (outputEl) {{\n",
       "    x.observe(outputEl, {childList: true});\n",
       "}}\n",
       "\n",
       "                        })\n",
       "                };\n",
       "                });\n",
       "            </script>\n",
       "        </div>"
      ]
     },
     "metadata": {},
     "output_type": "display_data"
    }
   ],
   "source": [
    "traces = {\n",
    "    '0+': age_restriction_df.age_0,\n",
    "    '6+': age_restriction_df.age_6,\n",
    "    '12+': age_restriction_df.age_12,\n",
    "    '16+': age_restriction_df.age_16,\n",
    "    '18+': age_restriction_df.age_18\n",
    "}\n",
    "data = []\n",
    "\n",
    "for (name, y) in traces.items():\n",
    "    trace=go.Scatter(\n",
    "    x=age_restriction_df.index,\n",
    "    y=y,\n",
    "    name=name\n",
    "    )\n",
    "    data.append(trace)\n",
    "\n",
    "layout = {'title': 'Age restriction box office per year'}\n",
    "\n",
    "fig = go.Figure(data=data, layout=layout)\n",
    "iplot(fig, show_link=False)   \n"
   ]
  },
  {
   "cell_type": "code",
   "execution_count": 211,
   "metadata": {},
   "outputs": [
    {
     "data": {
      "text/html": [
       "<div>\n",
       "<style scoped>\n",
       "    .dataframe tbody tr th:only-of-type {\n",
       "        vertical-align: middle;\n",
       "    }\n",
       "\n",
       "    .dataframe tbody tr th {\n",
       "        vertical-align: top;\n",
       "    }\n",
       "\n",
       "    .dataframe thead th {\n",
       "        text-align: right;\n",
       "    }\n",
       "</style>\n",
       "<table border=\"1\" class=\"dataframe\">\n",
       "  <thead>\n",
       "    <tr style=\"text-align: right;\">\n",
       "      <th>age_restriction</th>\n",
       "      <th>0</th>\n",
       "      <th>6</th>\n",
       "      <th>12</th>\n",
       "      <th>16</th>\n",
       "      <th>18</th>\n",
       "    </tr>\n",
       "    <tr>\n",
       "      <th>year</th>\n",
       "      <th></th>\n",
       "      <th></th>\n",
       "      <th></th>\n",
       "      <th></th>\n",
       "      <th></th>\n",
       "    </tr>\n",
       "  </thead>\n",
       "  <tbody>\n",
       "    <tr>\n",
       "      <td>2015</td>\n",
       "      <td>39</td>\n",
       "      <td>53</td>\n",
       "      <td>73</td>\n",
       "      <td>168</td>\n",
       "      <td>132</td>\n",
       "    </tr>\n",
       "    <tr>\n",
       "      <td>2016</td>\n",
       "      <td>41</td>\n",
       "      <td>70</td>\n",
       "      <td>82</td>\n",
       "      <td>182</td>\n",
       "      <td>151</td>\n",
       "    </tr>\n",
       "    <tr>\n",
       "      <td>2017</td>\n",
       "      <td>3</td>\n",
       "      <td>45</td>\n",
       "      <td>41</td>\n",
       "      <td>121</td>\n",
       "      <td>147</td>\n",
       "    </tr>\n",
       "    <tr>\n",
       "      <td>2018</td>\n",
       "      <td>5</td>\n",
       "      <td>68</td>\n",
       "      <td>67</td>\n",
       "      <td>156</td>\n",
       "      <td>179</td>\n",
       "    </tr>\n",
       "    <tr>\n",
       "      <td>2019</td>\n",
       "      <td>3</td>\n",
       "      <td>81</td>\n",
       "      <td>85</td>\n",
       "      <td>178</td>\n",
       "      <td>183</td>\n",
       "    </tr>\n",
       "  </tbody>\n",
       "</table>\n",
       "</div>"
      ],
      "text/plain": [
       "age_restriction  0   6   12   16   18\n",
       "year                                 \n",
       "2015             39  53  73  168  132\n",
       "2016             41  70  82  182  151\n",
       "2017              3  45  41  121  147\n",
       "2018              5  68  67  156  179\n",
       "2019              3  81  85  178  183"
      ]
     },
     "execution_count": 211,
     "metadata": {},
     "output_type": "execute_result"
    }
   ],
   "source": [
    "df.loc[df['year']>2014].pivot_table(index='year', columns= 'age_restriction', values='box_office', aggfunc='count')\n"
   ]
  },
  {
   "cell_type": "markdown",
   "metadata": {},
   "source": [
    "Можно предположить, что на колебания графика влияют не только непосредственно суммы сборов. Основные закономерности сохраняются: фильмы с ограничением 0+ собирают меньше всего, самые успешные - фильмы 16+. Однако большее количество фильмов за определенный временной промежуток повышает вероятность увеличения суммы сборов. "
   ]
  },
  {
   "cell_type": "markdown",
   "metadata": {},
   "source": [
    "Для выводов исследования интересно будет также посмотреть на популярность различных жанров."
   ]
  },
  {
   "cell_type": "code",
   "execution_count": 212,
   "metadata": {},
   "outputs": [
    {
     "data": {
      "text/html": [
       "<div>\n",
       "<style scoped>\n",
       "    .dataframe tbody tr th:only-of-type {\n",
       "        vertical-align: middle;\n",
       "    }\n",
       "\n",
       "    .dataframe tbody tr th {\n",
       "        vertical-align: top;\n",
       "    }\n",
       "\n",
       "    .dataframe thead th {\n",
       "        text-align: right;\n",
       "    }\n",
       "</style>\n",
       "<table border=\"1\" class=\"dataframe\">\n",
       "  <thead>\n",
       "    <tr style=\"text-align: right;\">\n",
       "      <th></th>\n",
       "      <th>box_office</th>\n",
       "    </tr>\n",
       "    <tr>\n",
       "      <th>type</th>\n",
       "      <th></th>\n",
       "    </tr>\n",
       "  </thead>\n",
       "  <tbody>\n",
       "    <tr>\n",
       "      <td>Музыкально-развлекательный</td>\n",
       "      <td>1.416635</td>\n",
       "    </tr>\n",
       "    <tr>\n",
       "      <td>Научно-популярный</td>\n",
       "      <td>6.421703</td>\n",
       "    </tr>\n",
       "    <tr>\n",
       "      <td>Документальный</td>\n",
       "      <td>53.427538</td>\n",
       "    </tr>\n",
       "    <tr>\n",
       "      <td>Прочие</td>\n",
       "      <td>270.845747</td>\n",
       "    </tr>\n",
       "    <tr>\n",
       "      <td>Анимационный</td>\n",
       "      <td>42844.702021</td>\n",
       "    </tr>\n",
       "    <tr>\n",
       "      <td>Художественный</td>\n",
       "      <td>190844.670425</td>\n",
       "    </tr>\n",
       "  </tbody>\n",
       "</table>\n",
       "</div>"
      ],
      "text/plain": [
       "                               box_office\n",
       "type                                     \n",
       "Музыкально-развлекательный       1.416635\n",
       "Научно-популярный                6.421703\n",
       "Документальный                  53.427538\n",
       "Прочие                         270.845747\n",
       "Анимационный                 42844.702021\n",
       "Художественный              190844.670425"
      ]
     },
     "execution_count": 212,
     "metadata": {},
     "output_type": "execute_result"
    }
   ],
   "source": [
    "df.loc[df['year']>2014].pivot_table(index='type', values='box_office', aggfunc='sum').sort_values(by='box_office')"
   ]
  },
  {
   "cell_type": "markdown",
   "metadata": {},
   "source": [
    "Больше всего дохода приносят художественные и анимационные фильмы, меньше всего - музыкальные и научпоп."
   ]
  },
  {
   "cell_type": "markdown",
   "metadata": {
    "id": "l_Kg6Ku4gFya"
   },
   "source": [
    "### Данные о фильмах, получивших государственную поддержку"
   ]
  },
  {
   "cell_type": "code",
   "execution_count": 213,
   "metadata": {
    "id": "W9QKpjUdgFyb"
   },
   "outputs": [],
   "source": [
    "sponsored_movies = df.dropna(subset=['refundable_support']).copy()"
   ]
  },
  {
   "cell_type": "markdown",
   "metadata": {},
   "source": [
    "Сначала откорректируем данные в столбцах с данными о гос.поддержке так, чтобы информация о денежных средствах отображалась в миллионах."
   ]
  },
  {
   "cell_type": "code",
   "execution_count": 214,
   "metadata": {},
   "outputs": [],
   "source": [
    "sponsored_movies['nonrefundable_support']=sponsored_movies['nonrefundable_support']/1000000\n",
    "sponsored_movies['refundable_support']=sponsored_movies['refundable_support']/1000000"
   ]
  },
  {
   "cell_type": "markdown",
   "metadata": {},
   "source": [
    "Изучим информацию о фильмах с наибольшим объемом гос.поддержки."
   ]
  },
  {
   "cell_type": "code",
   "execution_count": 215,
   "metadata": {
    "scrolled": true
   },
   "outputs": [
    {
     "data": {
      "application/vnd.plotly.v1+json": {
       "config": {
        "plotlyServerURL": "https://plot.ly"
       },
       "data": [
        {
         "alignmentgroup": "True",
         "hoverlabel": {
          "namelength": 0
         },
         "hovertemplate": "nonrefundable_support=%{y}",
         "legendgroup": "",
         "marker": {
          "color": "#636efa"
         },
         "name": "",
         "notched": false,
         "offsetgroup": "",
         "orientation": "v",
         "showlegend": false,
         "type": "box",
         "x0": " ",
         "xaxis": "x",
         "y": [
          26.5,
          26,
          107.847945,
          28,
          25,
          25,
          100,
          46.502299,
          75,
          34,
          30,
          25,
          25,
          40,
          28,
          23,
          75,
          45,
          56.579055,
          25.5,
          45,
          30,
          27.51,
          30,
          25,
          10,
          25,
          24,
          30,
          30,
          24.5,
          27,
          5,
          90,
          26,
          28,
          34,
          34,
          20,
          20,
          70,
          97,
          24.45,
          25,
          5,
          26.5,
          50,
          28,
          0,
          27,
          28,
          27,
          25,
          60,
          28,
          27.5,
          26.95,
          30,
          25,
          30,
          50,
          110,
          30,
          28,
          20,
          25,
          100,
          15,
          30,
          0,
          59,
          40,
          250,
          34,
          37,
          60,
          20,
          0,
          28,
          25,
          24.45,
          35,
          20.145285,
          28,
          35,
          25,
          25.9,
          15,
          25,
          30,
          25,
          6,
          35,
          40,
          26,
          392.104482,
          25.2,
          30,
          25,
          20,
          22.904,
          20,
          35,
          29,
          30,
          15,
          20,
          0,
          40,
          51,
          25,
          30,
          24,
          20,
          35,
          40,
          25,
          40,
          20,
          4.7,
          5.3,
          35,
          40,
          35,
          21.7,
          30,
          24.986,
          25,
          0,
          30,
          25.345,
          20,
          133,
          175,
          30,
          25,
          30.123915,
          30,
          28.5,
          10,
          300,
          35,
          35,
          30,
          25,
          50,
          35,
          41.5,
          35,
          200,
          60,
          150,
          30,
          40,
          55,
          60,
          25,
          25,
          25,
          35,
          100,
          250,
          35,
          10,
          150,
          25,
          35,
          200,
          30,
          64,
          20,
          20,
          25,
          75,
          75,
          50.000866,
          40,
          20,
          11.52,
          30,
          6,
          20,
          35,
          30,
          25,
          15,
          190,
          35,
          30,
          75,
          30,
          225,
          50,
          37,
          50,
          30,
          250,
          25,
          8,
          30,
          6,
          25,
          50,
          25,
          50,
          30,
          400,
          0,
          25,
          30,
          40,
          200,
          50,
          60,
          30,
          50,
          5,
          30,
          60,
          60,
          60,
          60,
          260,
          35,
          25,
          50,
          60,
          100,
          25,
          35,
          25,
          30,
          31,
          30,
          25,
          20,
          20,
          25,
          35,
          85,
          30,
          40,
          25,
          25,
          25,
          30,
          100,
          30,
          40,
          30,
          20,
          30,
          15,
          40,
          25,
          100,
          80,
          138.969465,
          0,
          25,
          25,
          120,
          60,
          40,
          35,
          60,
          40,
          35,
          25,
          0,
          40,
          28,
          130,
          30,
          35,
          25,
          35,
          40,
          120,
          35,
          130,
          35,
          140,
          40,
          300,
          25,
          25,
          25,
          30,
          30,
          30,
          25,
          25,
          40,
          30,
          30,
          70,
          25,
          25,
          30,
          25,
          30,
          40,
          10,
          40,
          40,
          40,
          90,
          35,
          40,
          25,
          40,
          60,
          3,
          50,
          35,
          25,
          100,
          30,
          200,
          20,
          20,
          60,
          30,
          35,
          40,
          35,
          400,
          0,
          400,
          30,
          60
         ],
         "y0": " ",
         "yaxis": "y"
        }
       ],
       "layout": {
        "boxmode": "group",
        "height": 600,
        "legend": {
         "tracegroupgap": 0
        },
        "margin": {
         "t": 60
        },
        "template": {
         "data": {
          "bar": [
           {
            "error_x": {
             "color": "#2a3f5f"
            },
            "error_y": {
             "color": "#2a3f5f"
            },
            "marker": {
             "line": {
              "color": "#E5ECF6",
              "width": 0.5
             }
            },
            "type": "bar"
           }
          ],
          "barpolar": [
           {
            "marker": {
             "line": {
              "color": "#E5ECF6",
              "width": 0.5
             }
            },
            "type": "barpolar"
           }
          ],
          "carpet": [
           {
            "aaxis": {
             "endlinecolor": "#2a3f5f",
             "gridcolor": "white",
             "linecolor": "white",
             "minorgridcolor": "white",
             "startlinecolor": "#2a3f5f"
            },
            "baxis": {
             "endlinecolor": "#2a3f5f",
             "gridcolor": "white",
             "linecolor": "white",
             "minorgridcolor": "white",
             "startlinecolor": "#2a3f5f"
            },
            "type": "carpet"
           }
          ],
          "choropleth": [
           {
            "colorbar": {
             "outlinewidth": 0,
             "ticks": ""
            },
            "type": "choropleth"
           }
          ],
          "contour": [
           {
            "colorbar": {
             "outlinewidth": 0,
             "ticks": ""
            },
            "colorscale": [
             [
              0,
              "#0d0887"
             ],
             [
              0.1111111111,
              "#46039f"
             ],
             [
              0.2222222222,
              "#7201a8"
             ],
             [
              0.3333333333,
              "#9c179e"
             ],
             [
              0.4444444444,
              "#bd3786"
             ],
             [
              0.5555555556,
              "#d8576b"
             ],
             [
              0.6666666667,
              "#ed7953"
             ],
             [
              0.7777777778,
              "#fb9f3a"
             ],
             [
              0.8888888889,
              "#fdca26"
             ],
             [
              1,
              "#f0f921"
             ]
            ],
            "type": "contour"
           }
          ],
          "contourcarpet": [
           {
            "colorbar": {
             "outlinewidth": 0,
             "ticks": ""
            },
            "type": "contourcarpet"
           }
          ],
          "heatmap": [
           {
            "colorbar": {
             "outlinewidth": 0,
             "ticks": ""
            },
            "colorscale": [
             [
              0,
              "#0d0887"
             ],
             [
              0.1111111111,
              "#46039f"
             ],
             [
              0.2222222222,
              "#7201a8"
             ],
             [
              0.3333333333,
              "#9c179e"
             ],
             [
              0.4444444444,
              "#bd3786"
             ],
             [
              0.5555555556,
              "#d8576b"
             ],
             [
              0.6666666667,
              "#ed7953"
             ],
             [
              0.7777777778,
              "#fb9f3a"
             ],
             [
              0.8888888889,
              "#fdca26"
             ],
             [
              1,
              "#f0f921"
             ]
            ],
            "type": "heatmap"
           }
          ],
          "heatmapgl": [
           {
            "colorbar": {
             "outlinewidth": 0,
             "ticks": ""
            },
            "colorscale": [
             [
              0,
              "#0d0887"
             ],
             [
              0.1111111111,
              "#46039f"
             ],
             [
              0.2222222222,
              "#7201a8"
             ],
             [
              0.3333333333,
              "#9c179e"
             ],
             [
              0.4444444444,
              "#bd3786"
             ],
             [
              0.5555555556,
              "#d8576b"
             ],
             [
              0.6666666667,
              "#ed7953"
             ],
             [
              0.7777777778,
              "#fb9f3a"
             ],
             [
              0.8888888889,
              "#fdca26"
             ],
             [
              1,
              "#f0f921"
             ]
            ],
            "type": "heatmapgl"
           }
          ],
          "histogram": [
           {
            "marker": {
             "colorbar": {
              "outlinewidth": 0,
              "ticks": ""
             }
            },
            "type": "histogram"
           }
          ],
          "histogram2d": [
           {
            "colorbar": {
             "outlinewidth": 0,
             "ticks": ""
            },
            "colorscale": [
             [
              0,
              "#0d0887"
             ],
             [
              0.1111111111,
              "#46039f"
             ],
             [
              0.2222222222,
              "#7201a8"
             ],
             [
              0.3333333333,
              "#9c179e"
             ],
             [
              0.4444444444,
              "#bd3786"
             ],
             [
              0.5555555556,
              "#d8576b"
             ],
             [
              0.6666666667,
              "#ed7953"
             ],
             [
              0.7777777778,
              "#fb9f3a"
             ],
             [
              0.8888888889,
              "#fdca26"
             ],
             [
              1,
              "#f0f921"
             ]
            ],
            "type": "histogram2d"
           }
          ],
          "histogram2dcontour": [
           {
            "colorbar": {
             "outlinewidth": 0,
             "ticks": ""
            },
            "colorscale": [
             [
              0,
              "#0d0887"
             ],
             [
              0.1111111111,
              "#46039f"
             ],
             [
              0.2222222222,
              "#7201a8"
             ],
             [
              0.3333333333,
              "#9c179e"
             ],
             [
              0.4444444444,
              "#bd3786"
             ],
             [
              0.5555555556,
              "#d8576b"
             ],
             [
              0.6666666667,
              "#ed7953"
             ],
             [
              0.7777777778,
              "#fb9f3a"
             ],
             [
              0.8888888889,
              "#fdca26"
             ],
             [
              1,
              "#f0f921"
             ]
            ],
            "type": "histogram2dcontour"
           }
          ],
          "mesh3d": [
           {
            "colorbar": {
             "outlinewidth": 0,
             "ticks": ""
            },
            "type": "mesh3d"
           }
          ],
          "parcoords": [
           {
            "line": {
             "colorbar": {
              "outlinewidth": 0,
              "ticks": ""
             }
            },
            "type": "parcoords"
           }
          ],
          "scatter": [
           {
            "marker": {
             "colorbar": {
              "outlinewidth": 0,
              "ticks": ""
             }
            },
            "type": "scatter"
           }
          ],
          "scatter3d": [
           {
            "line": {
             "colorbar": {
              "outlinewidth": 0,
              "ticks": ""
             }
            },
            "marker": {
             "colorbar": {
              "outlinewidth": 0,
              "ticks": ""
             }
            },
            "type": "scatter3d"
           }
          ],
          "scattercarpet": [
           {
            "marker": {
             "colorbar": {
              "outlinewidth": 0,
              "ticks": ""
             }
            },
            "type": "scattercarpet"
           }
          ],
          "scattergeo": [
           {
            "marker": {
             "colorbar": {
              "outlinewidth": 0,
              "ticks": ""
             }
            },
            "type": "scattergeo"
           }
          ],
          "scattergl": [
           {
            "marker": {
             "colorbar": {
              "outlinewidth": 0,
              "ticks": ""
             }
            },
            "type": "scattergl"
           }
          ],
          "scattermapbox": [
           {
            "marker": {
             "colorbar": {
              "outlinewidth": 0,
              "ticks": ""
             }
            },
            "type": "scattermapbox"
           }
          ],
          "scatterpolar": [
           {
            "marker": {
             "colorbar": {
              "outlinewidth": 0,
              "ticks": ""
             }
            },
            "type": "scatterpolar"
           }
          ],
          "scatterpolargl": [
           {
            "marker": {
             "colorbar": {
              "outlinewidth": 0,
              "ticks": ""
             }
            },
            "type": "scatterpolargl"
           }
          ],
          "scatterternary": [
           {
            "marker": {
             "colorbar": {
              "outlinewidth": 0,
              "ticks": ""
             }
            },
            "type": "scatterternary"
           }
          ],
          "surface": [
           {
            "colorbar": {
             "outlinewidth": 0,
             "ticks": ""
            },
            "colorscale": [
             [
              0,
              "#0d0887"
             ],
             [
              0.1111111111,
              "#46039f"
             ],
             [
              0.2222222222,
              "#7201a8"
             ],
             [
              0.3333333333,
              "#9c179e"
             ],
             [
              0.4444444444,
              "#bd3786"
             ],
             [
              0.5555555556,
              "#d8576b"
             ],
             [
              0.6666666667,
              "#ed7953"
             ],
             [
              0.7777777778,
              "#fb9f3a"
             ],
             [
              0.8888888889,
              "#fdca26"
             ],
             [
              1,
              "#f0f921"
             ]
            ],
            "type": "surface"
           }
          ],
          "table": [
           {
            "cells": {
             "fill": {
              "color": "#EBF0F8"
             },
             "line": {
              "color": "white"
             }
            },
            "header": {
             "fill": {
              "color": "#C8D4E3"
             },
             "line": {
              "color": "white"
             }
            },
            "type": "table"
           }
          ]
         },
         "layout": {
          "annotationdefaults": {
           "arrowcolor": "#2a3f5f",
           "arrowhead": 0,
           "arrowwidth": 1
          },
          "colorscale": {
           "diverging": [
            [
             0,
             "#8e0152"
            ],
            [
             0.1,
             "#c51b7d"
            ],
            [
             0.2,
             "#de77ae"
            ],
            [
             0.3,
             "#f1b6da"
            ],
            [
             0.4,
             "#fde0ef"
            ],
            [
             0.5,
             "#f7f7f7"
            ],
            [
             0.6,
             "#e6f5d0"
            ],
            [
             0.7,
             "#b8e186"
            ],
            [
             0.8,
             "#7fbc41"
            ],
            [
             0.9,
             "#4d9221"
            ],
            [
             1,
             "#276419"
            ]
           ],
           "sequential": [
            [
             0,
             "#0d0887"
            ],
            [
             0.1111111111,
             "#46039f"
            ],
            [
             0.2222222222,
             "#7201a8"
            ],
            [
             0.3333333333,
             "#9c179e"
            ],
            [
             0.4444444444,
             "#bd3786"
            ],
            [
             0.5555555556,
             "#d8576b"
            ],
            [
             0.6666666667,
             "#ed7953"
            ],
            [
             0.7777777778,
             "#fb9f3a"
            ],
            [
             0.8888888889,
             "#fdca26"
            ],
            [
             1,
             "#f0f921"
            ]
           ],
           "sequentialminus": [
            [
             0,
             "#0d0887"
            ],
            [
             0.1111111111,
             "#46039f"
            ],
            [
             0.2222222222,
             "#7201a8"
            ],
            [
             0.3333333333,
             "#9c179e"
            ],
            [
             0.4444444444,
             "#bd3786"
            ],
            [
             0.5555555556,
             "#d8576b"
            ],
            [
             0.6666666667,
             "#ed7953"
            ],
            [
             0.7777777778,
             "#fb9f3a"
            ],
            [
             0.8888888889,
             "#fdca26"
            ],
            [
             1,
             "#f0f921"
            ]
           ]
          },
          "colorway": [
           "#636efa",
           "#EF553B",
           "#00cc96",
           "#ab63fa",
           "#FFA15A",
           "#19d3f3",
           "#FF6692",
           "#B6E880",
           "#FF97FF",
           "#FECB52"
          ],
          "font": {
           "color": "#2a3f5f"
          },
          "geo": {
           "bgcolor": "white",
           "lakecolor": "white",
           "landcolor": "#E5ECF6",
           "showlakes": true,
           "showland": true,
           "subunitcolor": "white"
          },
          "hoverlabel": {
           "align": "left"
          },
          "hovermode": "closest",
          "mapbox": {
           "style": "light"
          },
          "paper_bgcolor": "white",
          "plot_bgcolor": "#E5ECF6",
          "polar": {
           "angularaxis": {
            "gridcolor": "white",
            "linecolor": "white",
            "ticks": ""
           },
           "bgcolor": "#E5ECF6",
           "radialaxis": {
            "gridcolor": "white",
            "linecolor": "white",
            "ticks": ""
           }
          },
          "scene": {
           "xaxis": {
            "backgroundcolor": "#E5ECF6",
            "gridcolor": "white",
            "gridwidth": 2,
            "linecolor": "white",
            "showbackground": true,
            "ticks": "",
            "zerolinecolor": "white"
           },
           "yaxis": {
            "backgroundcolor": "#E5ECF6",
            "gridcolor": "white",
            "gridwidth": 2,
            "linecolor": "white",
            "showbackground": true,
            "ticks": "",
            "zerolinecolor": "white"
           },
           "zaxis": {
            "backgroundcolor": "#E5ECF6",
            "gridcolor": "white",
            "gridwidth": 2,
            "linecolor": "white",
            "showbackground": true,
            "ticks": "",
            "zerolinecolor": "white"
           }
          },
          "shapedefaults": {
           "line": {
            "color": "#2a3f5f"
           }
          },
          "ternary": {
           "aaxis": {
            "gridcolor": "white",
            "linecolor": "white",
            "ticks": ""
           },
           "baxis": {
            "gridcolor": "white",
            "linecolor": "white",
            "ticks": ""
           },
           "bgcolor": "#E5ECF6",
           "caxis": {
            "gridcolor": "white",
            "linecolor": "white",
            "ticks": ""
           }
          },
          "title": {
           "x": 0.05
          },
          "xaxis": {
           "automargin": true,
           "gridcolor": "white",
           "linecolor": "white",
           "ticks": "",
           "zerolinecolor": "white",
           "zerolinewidth": 2
          },
          "yaxis": {
           "automargin": true,
           "gridcolor": "white",
           "linecolor": "white",
           "ticks": "",
           "zerolinecolor": "white",
           "zerolinewidth": 2
          }
         }
        },
        "xaxis": {
         "anchor": "y",
         "domain": [
          0,
          0.98
         ]
        },
        "yaxis": {
         "anchor": "x",
         "domain": [
          0,
          1
         ],
         "title": {
          "text": "nonrefundable_support"
         }
        }
       }
      },
      "text/html": [
       "<div>\n",
       "        \n",
       "        \n",
       "            <div id=\"8b7c36da-d8c6-4224-9e7b-d1b9822d6456\" class=\"plotly-graph-div\" style=\"height:600px; width:100%;\"></div>\n",
       "            <script type=\"text/javascript\">\n",
       "                require([\"plotly\"], function(Plotly) {\n",
       "                    window.PLOTLYENV=window.PLOTLYENV || {};\n",
       "                    \n",
       "                if (document.getElementById(\"8b7c36da-d8c6-4224-9e7b-d1b9822d6456\")) {\n",
       "                    Plotly.newPlot(\n",
       "                        '8b7c36da-d8c6-4224-9e7b-d1b9822d6456',\n",
       "                        [{\"alignmentgroup\": \"True\", \"hoverlabel\": {\"namelength\": 0}, \"hovertemplate\": \"nonrefundable_support=%{y}\", \"legendgroup\": \"\", \"marker\": {\"color\": \"#636efa\"}, \"name\": \"\", \"notched\": false, \"offsetgroup\": \"\", \"orientation\": \"v\", \"showlegend\": false, \"type\": \"box\", \"x0\": \" \", \"xaxis\": \"x\", \"y\": [26.5, 26.0, 107.847945, 28.0, 25.0, 25.0, 100.0, 46.502299, 75.0, 34.0, 30.0, 25.0, 25.0, 40.0, 28.0, 23.0, 75.0, 45.0, 56.579055, 25.5, 45.0, 30.0, 27.51, 30.0, 25.0, 10.0, 25.0, 24.0, 30.0, 30.0, 24.5, 27.0, 5.0, 90.0, 26.0, 28.0, 34.0, 34.0, 20.0, 20.0, 70.0, 97.0, 24.45, 25.0, 5.0, 26.5, 50.0, 28.0, 0.0, 27.0, 28.0, 27.0, 25.0, 60.0, 28.0, 27.5, 26.95, 30.0, 25.0, 30.0, 50.0, 110.0, 30.0, 28.0, 20.0, 25.0, 100.0, 15.0, 30.0, 0.0, 59.0, 40.0, 250.0, 34.0, 37.0, 60.0, 20.0, 0.0, 28.0, 25.0, 24.45, 35.0, 20.145285, 28.0, 35.0, 25.0, 25.9, 15.0, 25.0, 30.0, 25.0, 6.0, 35.0, 40.0, 26.0, 392.104482, 25.2, 30.0, 25.0, 20.0, 22.904, 20.0, 35.0, 29.0, 30.0, 15.0, 20.0, 0.0, 40.0, 51.0, 25.0, 30.0, 24.0, 20.0, 35.0, 40.0, 25.0, 40.0, 20.0, 4.7, 5.3, 35.0, 40.0, 35.0, 21.7, 30.0, 24.986, 25.0, 0.0, 30.0, 25.345, 20.0, 133.0, 175.0, 30.0, 25.0, 30.123915, 30.0, 28.5, 10.0, 300.0, 35.0, 35.0, 30.0, 25.0, 50.0, 35.0, 41.5, 35.0, 200.0, 60.0, 150.0, 30.0, 40.0, 55.0, 60.0, 25.0, 25.0, 25.0, 35.0, 100.0, 250.0, 35.0, 10.0, 150.0, 25.0, 35.0, 200.0, 30.0, 64.0, 20.0, 20.0, 25.0, 75.0, 75.0, 50.000866, 40.0, 20.0, 11.52, 30.0, 6.0, 20.0, 35.0, 30.0, 25.0, 15.0, 190.0, 35.0, 30.0, 75.0, 30.0, 225.0, 50.0, 37.0, 50.0, 30.0, 250.0, 25.0, 8.0, 30.0, 6.0, 25.0, 50.0, 25.0, 50.0, 30.0, 400.0, 0.0, 25.0, 30.0, 40.0, 200.0, 50.0, 60.0, 30.0, 50.0, 5.0, 30.0, 60.0, 60.0, 60.0, 60.0, 260.0, 35.0, 25.0, 50.0, 60.0, 100.0, 25.0, 35.0, 25.0, 30.0, 31.0, 30.0, 25.0, 20.0, 20.0, 25.0, 35.0, 85.0, 30.0, 40.0, 25.0, 25.0, 25.0, 30.0, 100.0, 30.0, 40.0, 30.0, 20.0, 30.0, 15.0, 40.0, 25.0, 100.0, 80.0, 138.969465, 0.0, 25.0, 25.0, 120.0, 60.0, 40.0, 35.0, 60.0, 40.0, 35.0, 25.0, 0.0, 40.0, 28.0, 130.0, 30.0, 35.0, 25.0, 35.0, 40.0, 120.0, 35.0, 130.0, 35.0, 140.0, 40.0, 300.0, 25.0, 25.0, 25.0, 30.0, 30.0, 30.0, 25.0, 25.0, 40.0, 30.0, 30.0, 70.0, 25.0, 25.0, 30.0, 25.0, 30.0, 40.0, 10.0, 40.0, 40.0, 40.0, 90.0, 35.0, 40.0, 25.0, 40.0, 60.0, 3.0, 50.0, 35.0, 25.0, 100.0, 30.0, 200.0, 20.0, 20.0, 60.0, 30.0, 35.0, 40.0, 35.0, 400.0, 0.0, 400.0, 30.0, 60.0], \"y0\": \" \", \"yaxis\": \"y\"}],\n",
       "                        {\"boxmode\": \"group\", \"height\": 600, \"legend\": {\"tracegroupgap\": 0}, \"margin\": {\"t\": 60}, \"template\": {\"data\": {\"bar\": [{\"error_x\": {\"color\": \"#2a3f5f\"}, \"error_y\": {\"color\": \"#2a3f5f\"}, \"marker\": {\"line\": {\"color\": \"#E5ECF6\", \"width\": 0.5}}, \"type\": \"bar\"}], \"barpolar\": [{\"marker\": {\"line\": {\"color\": \"#E5ECF6\", \"width\": 0.5}}, \"type\": \"barpolar\"}], \"carpet\": [{\"aaxis\": {\"endlinecolor\": \"#2a3f5f\", \"gridcolor\": \"white\", \"linecolor\": \"white\", \"minorgridcolor\": \"white\", \"startlinecolor\": \"#2a3f5f\"}, \"baxis\": {\"endlinecolor\": \"#2a3f5f\", \"gridcolor\": \"white\", \"linecolor\": \"white\", \"minorgridcolor\": \"white\", \"startlinecolor\": \"#2a3f5f\"}, \"type\": \"carpet\"}], \"choropleth\": [{\"colorbar\": {\"outlinewidth\": 0, \"ticks\": \"\"}, \"type\": \"choropleth\"}], \"contour\": [{\"colorbar\": {\"outlinewidth\": 0, \"ticks\": \"\"}, \"colorscale\": [[0.0, \"#0d0887\"], [0.1111111111111111, \"#46039f\"], [0.2222222222222222, \"#7201a8\"], [0.3333333333333333, \"#9c179e\"], [0.4444444444444444, \"#bd3786\"], [0.5555555555555556, \"#d8576b\"], [0.6666666666666666, \"#ed7953\"], [0.7777777777777778, \"#fb9f3a\"], [0.8888888888888888, \"#fdca26\"], [1.0, \"#f0f921\"]], \"type\": \"contour\"}], \"contourcarpet\": [{\"colorbar\": {\"outlinewidth\": 0, \"ticks\": \"\"}, \"type\": \"contourcarpet\"}], \"heatmap\": [{\"colorbar\": {\"outlinewidth\": 0, \"ticks\": \"\"}, \"colorscale\": [[0.0, \"#0d0887\"], [0.1111111111111111, \"#46039f\"], [0.2222222222222222, \"#7201a8\"], [0.3333333333333333, \"#9c179e\"], [0.4444444444444444, \"#bd3786\"], [0.5555555555555556, \"#d8576b\"], [0.6666666666666666, \"#ed7953\"], [0.7777777777777778, \"#fb9f3a\"], [0.8888888888888888, \"#fdca26\"], [1.0, \"#f0f921\"]], \"type\": \"heatmap\"}], \"heatmapgl\": [{\"colorbar\": {\"outlinewidth\": 0, \"ticks\": \"\"}, \"colorscale\": [[0.0, \"#0d0887\"], [0.1111111111111111, \"#46039f\"], [0.2222222222222222, \"#7201a8\"], [0.3333333333333333, \"#9c179e\"], [0.4444444444444444, \"#bd3786\"], [0.5555555555555556, \"#d8576b\"], [0.6666666666666666, \"#ed7953\"], [0.7777777777777778, \"#fb9f3a\"], [0.8888888888888888, \"#fdca26\"], [1.0, \"#f0f921\"]], \"type\": \"heatmapgl\"}], \"histogram\": [{\"marker\": {\"colorbar\": {\"outlinewidth\": 0, \"ticks\": \"\"}}, \"type\": \"histogram\"}], \"histogram2d\": [{\"colorbar\": {\"outlinewidth\": 0, \"ticks\": \"\"}, \"colorscale\": [[0.0, \"#0d0887\"], [0.1111111111111111, \"#46039f\"], [0.2222222222222222, \"#7201a8\"], [0.3333333333333333, \"#9c179e\"], [0.4444444444444444, \"#bd3786\"], [0.5555555555555556, \"#d8576b\"], [0.6666666666666666, \"#ed7953\"], [0.7777777777777778, \"#fb9f3a\"], [0.8888888888888888, \"#fdca26\"], [1.0, \"#f0f921\"]], \"type\": \"histogram2d\"}], \"histogram2dcontour\": [{\"colorbar\": {\"outlinewidth\": 0, \"ticks\": \"\"}, \"colorscale\": [[0.0, \"#0d0887\"], [0.1111111111111111, \"#46039f\"], [0.2222222222222222, \"#7201a8\"], [0.3333333333333333, \"#9c179e\"], [0.4444444444444444, \"#bd3786\"], [0.5555555555555556, \"#d8576b\"], [0.6666666666666666, \"#ed7953\"], [0.7777777777777778, \"#fb9f3a\"], [0.8888888888888888, \"#fdca26\"], [1.0, \"#f0f921\"]], \"type\": \"histogram2dcontour\"}], \"mesh3d\": [{\"colorbar\": {\"outlinewidth\": 0, \"ticks\": \"\"}, \"type\": \"mesh3d\"}], \"parcoords\": [{\"line\": {\"colorbar\": {\"outlinewidth\": 0, \"ticks\": \"\"}}, \"type\": \"parcoords\"}], \"scatter\": [{\"marker\": {\"colorbar\": {\"outlinewidth\": 0, \"ticks\": \"\"}}, \"type\": \"scatter\"}], \"scatter3d\": [{\"line\": {\"colorbar\": {\"outlinewidth\": 0, \"ticks\": \"\"}}, \"marker\": {\"colorbar\": {\"outlinewidth\": 0, \"ticks\": \"\"}}, \"type\": \"scatter3d\"}], \"scattercarpet\": [{\"marker\": {\"colorbar\": {\"outlinewidth\": 0, \"ticks\": \"\"}}, \"type\": \"scattercarpet\"}], \"scattergeo\": [{\"marker\": {\"colorbar\": {\"outlinewidth\": 0, \"ticks\": \"\"}}, \"type\": \"scattergeo\"}], \"scattergl\": [{\"marker\": {\"colorbar\": {\"outlinewidth\": 0, \"ticks\": \"\"}}, \"type\": \"scattergl\"}], \"scattermapbox\": [{\"marker\": {\"colorbar\": {\"outlinewidth\": 0, \"ticks\": \"\"}}, \"type\": \"scattermapbox\"}], \"scatterpolar\": [{\"marker\": {\"colorbar\": {\"outlinewidth\": 0, \"ticks\": \"\"}}, \"type\": \"scatterpolar\"}], \"scatterpolargl\": [{\"marker\": {\"colorbar\": {\"outlinewidth\": 0, \"ticks\": \"\"}}, \"type\": \"scatterpolargl\"}], \"scatterternary\": [{\"marker\": {\"colorbar\": {\"outlinewidth\": 0, \"ticks\": \"\"}}, \"type\": \"scatterternary\"}], \"surface\": [{\"colorbar\": {\"outlinewidth\": 0, \"ticks\": \"\"}, \"colorscale\": [[0.0, \"#0d0887\"], [0.1111111111111111, \"#46039f\"], [0.2222222222222222, \"#7201a8\"], [0.3333333333333333, \"#9c179e\"], [0.4444444444444444, \"#bd3786\"], [0.5555555555555556, \"#d8576b\"], [0.6666666666666666, \"#ed7953\"], [0.7777777777777778, \"#fb9f3a\"], [0.8888888888888888, \"#fdca26\"], [1.0, \"#f0f921\"]], \"type\": \"surface\"}], \"table\": [{\"cells\": {\"fill\": {\"color\": \"#EBF0F8\"}, \"line\": {\"color\": \"white\"}}, \"header\": {\"fill\": {\"color\": \"#C8D4E3\"}, \"line\": {\"color\": \"white\"}}, \"type\": \"table\"}]}, \"layout\": {\"annotationdefaults\": {\"arrowcolor\": \"#2a3f5f\", \"arrowhead\": 0, \"arrowwidth\": 1}, \"colorscale\": {\"diverging\": [[0, \"#8e0152\"], [0.1, \"#c51b7d\"], [0.2, \"#de77ae\"], [0.3, \"#f1b6da\"], [0.4, \"#fde0ef\"], [0.5, \"#f7f7f7\"], [0.6, \"#e6f5d0\"], [0.7, \"#b8e186\"], [0.8, \"#7fbc41\"], [0.9, \"#4d9221\"], [1, \"#276419\"]], \"sequential\": [[0.0, \"#0d0887\"], [0.1111111111111111, \"#46039f\"], [0.2222222222222222, \"#7201a8\"], [0.3333333333333333, \"#9c179e\"], [0.4444444444444444, \"#bd3786\"], [0.5555555555555556, \"#d8576b\"], [0.6666666666666666, \"#ed7953\"], [0.7777777777777778, \"#fb9f3a\"], [0.8888888888888888, \"#fdca26\"], [1.0, \"#f0f921\"]], \"sequentialminus\": [[0.0, \"#0d0887\"], [0.1111111111111111, \"#46039f\"], [0.2222222222222222, \"#7201a8\"], [0.3333333333333333, \"#9c179e\"], [0.4444444444444444, \"#bd3786\"], [0.5555555555555556, \"#d8576b\"], [0.6666666666666666, \"#ed7953\"], [0.7777777777777778, \"#fb9f3a\"], [0.8888888888888888, \"#fdca26\"], [1.0, \"#f0f921\"]]}, \"colorway\": [\"#636efa\", \"#EF553B\", \"#00cc96\", \"#ab63fa\", \"#FFA15A\", \"#19d3f3\", \"#FF6692\", \"#B6E880\", \"#FF97FF\", \"#FECB52\"], \"font\": {\"color\": \"#2a3f5f\"}, \"geo\": {\"bgcolor\": \"white\", \"lakecolor\": \"white\", \"landcolor\": \"#E5ECF6\", \"showlakes\": true, \"showland\": true, \"subunitcolor\": \"white\"}, \"hoverlabel\": {\"align\": \"left\"}, \"hovermode\": \"closest\", \"mapbox\": {\"style\": \"light\"}, \"paper_bgcolor\": \"white\", \"plot_bgcolor\": \"#E5ECF6\", \"polar\": {\"angularaxis\": {\"gridcolor\": \"white\", \"linecolor\": \"white\", \"ticks\": \"\"}, \"bgcolor\": \"#E5ECF6\", \"radialaxis\": {\"gridcolor\": \"white\", \"linecolor\": \"white\", \"ticks\": \"\"}}, \"scene\": {\"xaxis\": {\"backgroundcolor\": \"#E5ECF6\", \"gridcolor\": \"white\", \"gridwidth\": 2, \"linecolor\": \"white\", \"showbackground\": true, \"ticks\": \"\", \"zerolinecolor\": \"white\"}, \"yaxis\": {\"backgroundcolor\": \"#E5ECF6\", \"gridcolor\": \"white\", \"gridwidth\": 2, \"linecolor\": \"white\", \"showbackground\": true, \"ticks\": \"\", \"zerolinecolor\": \"white\"}, \"zaxis\": {\"backgroundcolor\": \"#E5ECF6\", \"gridcolor\": \"white\", \"gridwidth\": 2, \"linecolor\": \"white\", \"showbackground\": true, \"ticks\": \"\", \"zerolinecolor\": \"white\"}}, \"shapedefaults\": {\"line\": {\"color\": \"#2a3f5f\"}}, \"ternary\": {\"aaxis\": {\"gridcolor\": \"white\", \"linecolor\": \"white\", \"ticks\": \"\"}, \"baxis\": {\"gridcolor\": \"white\", \"linecolor\": \"white\", \"ticks\": \"\"}, \"bgcolor\": \"#E5ECF6\", \"caxis\": {\"gridcolor\": \"white\", \"linecolor\": \"white\", \"ticks\": \"\"}}, \"title\": {\"x\": 0.05}, \"xaxis\": {\"automargin\": true, \"gridcolor\": \"white\", \"linecolor\": \"white\", \"ticks\": \"\", \"zerolinecolor\": \"white\", \"zerolinewidth\": 2}, \"yaxis\": {\"automargin\": true, \"gridcolor\": \"white\", \"linecolor\": \"white\", \"ticks\": \"\", \"zerolinecolor\": \"white\", \"zerolinewidth\": 2}}}, \"xaxis\": {\"anchor\": \"y\", \"domain\": [0.0, 0.98]}, \"yaxis\": {\"anchor\": \"x\", \"domain\": [0.0, 1.0], \"title\": {\"text\": \"nonrefundable_support\"}}},\n",
       "                        {\"responsive\": true}\n",
       "                    ).then(function(){\n",
       "                            \n",
       "var gd = document.getElementById('8b7c36da-d8c6-4224-9e7b-d1b9822d6456');\n",
       "var x = new MutationObserver(function (mutations, observer) {{\n",
       "        var display = window.getComputedStyle(gd).display;\n",
       "        if (!display || display === 'none') {{\n",
       "            console.log([gd, 'removed!']);\n",
       "            Plotly.purge(gd);\n",
       "            observer.disconnect();\n",
       "        }}\n",
       "}});\n",
       "\n",
       "// Listen for the removal of the full notebook cells\n",
       "var notebookContainer = gd.closest('#notebook-container');\n",
       "if (notebookContainer) {{\n",
       "    x.observe(notebookContainer, {childList: true});\n",
       "}}\n",
       "\n",
       "// Listen for the clearing of the current output cell\n",
       "var outputEl = gd.closest('.output');\n",
       "if (outputEl) {{\n",
       "    x.observe(outputEl, {childList: true});\n",
       "}}\n",
       "\n",
       "                        })\n",
       "                };\n",
       "                });\n",
       "            </script>\n",
       "        </div>"
      ]
     },
     "metadata": {},
     "output_type": "display_data"
    }
   ],
   "source": [
    "fig = px.box(sponsored_movies, y='nonrefundable_support')\n",
    "fig.show()"
   ]
  },
  {
   "cell_type": "code",
   "execution_count": 216,
   "metadata": {
    "scrolled": false
   },
   "outputs": [
    {
     "data": {
      "application/vnd.plotly.v1+json": {
       "config": {
        "plotlyServerURL": "https://plot.ly"
       },
       "data": [
        {
         "alignmentgroup": "True",
         "hoverlabel": {
          "namelength": 0
         },
         "hovertemplate": "refundable_support=%{y}",
         "legendgroup": "",
         "marker": {
          "color": "#636efa"
         },
         "name": "",
         "notched": false,
         "offsetgroup": "",
         "orientation": "v",
         "showlegend": false,
         "type": "box",
         "x0": " ",
         "xaxis": "x",
         "y": [
          0,
          0,
          0,
          0,
          0,
          0,
          50,
          0,
          0,
          0,
          26,
          0,
          0,
          30,
          0,
          0,
          0,
          0,
          0,
          0,
          0,
          0,
          0,
          30,
          0,
          0,
          0,
          0,
          0,
          0,
          0,
          0,
          15,
          0,
          0,
          0,
          0,
          0,
          0,
          0,
          10,
          0,
          0,
          0,
          0,
          0,
          0,
          0,
          20,
          0,
          0,
          10,
          0,
          0,
          7.153119,
          0,
          0,
          0,
          0,
          25,
          0,
          40,
          0,
          0,
          0,
          0,
          60,
          0,
          0,
          44,
          0,
          10,
          0,
          29,
          0,
          15,
          0,
          25,
          0,
          41,
          10,
          15,
          30,
          0,
          0,
          0,
          0,
          25,
          0,
          0,
          40,
          0,
          0,
          30,
          0,
          50,
          0,
          0,
          15,
          0,
          36,
          3.5,
          0,
          0,
          0,
          15,
          5,
          40,
          0,
          19,
          0,
          0,
          0,
          10,
          0,
          0,
          0,
          0,
          20,
          0,
          20,
          0,
          9,
          0,
          0,
          110,
          0,
          0,
          50,
          0,
          0,
          5,
          17,
          75,
          10,
          25,
          20,
          0,
          15,
          0,
          150,
          0,
          20,
          0,
          0,
          0,
          0,
          38,
          0,
          100,
          0,
          50,
          0,
          15,
          5,
          40,
          25,
          0,
          5,
          0,
          60,
          0,
          0,
          10,
          0,
          0,
          55,
          10,
          0,
          0,
          7,
          20,
          0,
          55,
          0,
          30,
          0,
          10,
          0,
          0,
          0,
          25,
          0,
          7.346881,
          5,
          0,
          110,
          15,
          0,
          0,
          0,
          0,
          50,
          0,
          20,
          5,
          100,
          0,
          0,
          0,
          0,
          0,
          0,
          0,
          50,
          25,
          0,
          50,
          0,
          0,
          20,
          0,
          0,
          25,
          0,
          0,
          50,
          0,
          0,
          0,
          10,
          0,
          0,
          0,
          0,
          0,
          0,
          40,
          0,
          0,
          0,
          0,
          0,
          30,
          0,
          8,
          0,
          0,
          5,
          20,
          0,
          40,
          0,
          0,
          0,
          0,
          19,
          0,
          0,
          0,
          0,
          0,
          0,
          20,
          0,
          0,
          40,
          0,
          115,
          0,
          75,
          60,
          60,
          0,
          0,
          60,
          20,
          0,
          0,
          35,
          0,
          0,
          0,
          0,
          15,
          0,
          0,
          0,
          60,
          0,
          0,
          30,
          0,
          0,
          0,
          0,
          0,
          0,
          0,
          0,
          0,
          0,
          0,
          0,
          0,
          0,
          0,
          0,
          0,
          0,
          0,
          0,
          0,
          0,
          0,
          0,
          0,
          180,
          25,
          0,
          28,
          0,
          0,
          0,
          0,
          0,
          0,
          20,
          0,
          0,
          0,
          5,
          0,
          0,
          5,
          80,
          25,
          100,
          100,
          100,
          0,
          40
         ],
         "y0": " ",
         "yaxis": "y"
        }
       ],
       "layout": {
        "boxmode": "group",
        "height": 600,
        "legend": {
         "tracegroupgap": 0
        },
        "margin": {
         "t": 60
        },
        "template": {
         "data": {
          "bar": [
           {
            "error_x": {
             "color": "#2a3f5f"
            },
            "error_y": {
             "color": "#2a3f5f"
            },
            "marker": {
             "line": {
              "color": "#E5ECF6",
              "width": 0.5
             }
            },
            "type": "bar"
           }
          ],
          "barpolar": [
           {
            "marker": {
             "line": {
              "color": "#E5ECF6",
              "width": 0.5
             }
            },
            "type": "barpolar"
           }
          ],
          "carpet": [
           {
            "aaxis": {
             "endlinecolor": "#2a3f5f",
             "gridcolor": "white",
             "linecolor": "white",
             "minorgridcolor": "white",
             "startlinecolor": "#2a3f5f"
            },
            "baxis": {
             "endlinecolor": "#2a3f5f",
             "gridcolor": "white",
             "linecolor": "white",
             "minorgridcolor": "white",
             "startlinecolor": "#2a3f5f"
            },
            "type": "carpet"
           }
          ],
          "choropleth": [
           {
            "colorbar": {
             "outlinewidth": 0,
             "ticks": ""
            },
            "type": "choropleth"
           }
          ],
          "contour": [
           {
            "colorbar": {
             "outlinewidth": 0,
             "ticks": ""
            },
            "colorscale": [
             [
              0,
              "#0d0887"
             ],
             [
              0.1111111111,
              "#46039f"
             ],
             [
              0.2222222222,
              "#7201a8"
             ],
             [
              0.3333333333,
              "#9c179e"
             ],
             [
              0.4444444444,
              "#bd3786"
             ],
             [
              0.5555555556,
              "#d8576b"
             ],
             [
              0.6666666667,
              "#ed7953"
             ],
             [
              0.7777777778,
              "#fb9f3a"
             ],
             [
              0.8888888889,
              "#fdca26"
             ],
             [
              1,
              "#f0f921"
             ]
            ],
            "type": "contour"
           }
          ],
          "contourcarpet": [
           {
            "colorbar": {
             "outlinewidth": 0,
             "ticks": ""
            },
            "type": "contourcarpet"
           }
          ],
          "heatmap": [
           {
            "colorbar": {
             "outlinewidth": 0,
             "ticks": ""
            },
            "colorscale": [
             [
              0,
              "#0d0887"
             ],
             [
              0.1111111111,
              "#46039f"
             ],
             [
              0.2222222222,
              "#7201a8"
             ],
             [
              0.3333333333,
              "#9c179e"
             ],
             [
              0.4444444444,
              "#bd3786"
             ],
             [
              0.5555555556,
              "#d8576b"
             ],
             [
              0.6666666667,
              "#ed7953"
             ],
             [
              0.7777777778,
              "#fb9f3a"
             ],
             [
              0.8888888889,
              "#fdca26"
             ],
             [
              1,
              "#f0f921"
             ]
            ],
            "type": "heatmap"
           }
          ],
          "heatmapgl": [
           {
            "colorbar": {
             "outlinewidth": 0,
             "ticks": ""
            },
            "colorscale": [
             [
              0,
              "#0d0887"
             ],
             [
              0.1111111111,
              "#46039f"
             ],
             [
              0.2222222222,
              "#7201a8"
             ],
             [
              0.3333333333,
              "#9c179e"
             ],
             [
              0.4444444444,
              "#bd3786"
             ],
             [
              0.5555555556,
              "#d8576b"
             ],
             [
              0.6666666667,
              "#ed7953"
             ],
             [
              0.7777777778,
              "#fb9f3a"
             ],
             [
              0.8888888889,
              "#fdca26"
             ],
             [
              1,
              "#f0f921"
             ]
            ],
            "type": "heatmapgl"
           }
          ],
          "histogram": [
           {
            "marker": {
             "colorbar": {
              "outlinewidth": 0,
              "ticks": ""
             }
            },
            "type": "histogram"
           }
          ],
          "histogram2d": [
           {
            "colorbar": {
             "outlinewidth": 0,
             "ticks": ""
            },
            "colorscale": [
             [
              0,
              "#0d0887"
             ],
             [
              0.1111111111,
              "#46039f"
             ],
             [
              0.2222222222,
              "#7201a8"
             ],
             [
              0.3333333333,
              "#9c179e"
             ],
             [
              0.4444444444,
              "#bd3786"
             ],
             [
              0.5555555556,
              "#d8576b"
             ],
             [
              0.6666666667,
              "#ed7953"
             ],
             [
              0.7777777778,
              "#fb9f3a"
             ],
             [
              0.8888888889,
              "#fdca26"
             ],
             [
              1,
              "#f0f921"
             ]
            ],
            "type": "histogram2d"
           }
          ],
          "histogram2dcontour": [
           {
            "colorbar": {
             "outlinewidth": 0,
             "ticks": ""
            },
            "colorscale": [
             [
              0,
              "#0d0887"
             ],
             [
              0.1111111111,
              "#46039f"
             ],
             [
              0.2222222222,
              "#7201a8"
             ],
             [
              0.3333333333,
              "#9c179e"
             ],
             [
              0.4444444444,
              "#bd3786"
             ],
             [
              0.5555555556,
              "#d8576b"
             ],
             [
              0.6666666667,
              "#ed7953"
             ],
             [
              0.7777777778,
              "#fb9f3a"
             ],
             [
              0.8888888889,
              "#fdca26"
             ],
             [
              1,
              "#f0f921"
             ]
            ],
            "type": "histogram2dcontour"
           }
          ],
          "mesh3d": [
           {
            "colorbar": {
             "outlinewidth": 0,
             "ticks": ""
            },
            "type": "mesh3d"
           }
          ],
          "parcoords": [
           {
            "line": {
             "colorbar": {
              "outlinewidth": 0,
              "ticks": ""
             }
            },
            "type": "parcoords"
           }
          ],
          "scatter": [
           {
            "marker": {
             "colorbar": {
              "outlinewidth": 0,
              "ticks": ""
             }
            },
            "type": "scatter"
           }
          ],
          "scatter3d": [
           {
            "line": {
             "colorbar": {
              "outlinewidth": 0,
              "ticks": ""
             }
            },
            "marker": {
             "colorbar": {
              "outlinewidth": 0,
              "ticks": ""
             }
            },
            "type": "scatter3d"
           }
          ],
          "scattercarpet": [
           {
            "marker": {
             "colorbar": {
              "outlinewidth": 0,
              "ticks": ""
             }
            },
            "type": "scattercarpet"
           }
          ],
          "scattergeo": [
           {
            "marker": {
             "colorbar": {
              "outlinewidth": 0,
              "ticks": ""
             }
            },
            "type": "scattergeo"
           }
          ],
          "scattergl": [
           {
            "marker": {
             "colorbar": {
              "outlinewidth": 0,
              "ticks": ""
             }
            },
            "type": "scattergl"
           }
          ],
          "scattermapbox": [
           {
            "marker": {
             "colorbar": {
              "outlinewidth": 0,
              "ticks": ""
             }
            },
            "type": "scattermapbox"
           }
          ],
          "scatterpolar": [
           {
            "marker": {
             "colorbar": {
              "outlinewidth": 0,
              "ticks": ""
             }
            },
            "type": "scatterpolar"
           }
          ],
          "scatterpolargl": [
           {
            "marker": {
             "colorbar": {
              "outlinewidth": 0,
              "ticks": ""
             }
            },
            "type": "scatterpolargl"
           }
          ],
          "scatterternary": [
           {
            "marker": {
             "colorbar": {
              "outlinewidth": 0,
              "ticks": ""
             }
            },
            "type": "scatterternary"
           }
          ],
          "surface": [
           {
            "colorbar": {
             "outlinewidth": 0,
             "ticks": ""
            },
            "colorscale": [
             [
              0,
              "#0d0887"
             ],
             [
              0.1111111111,
              "#46039f"
             ],
             [
              0.2222222222,
              "#7201a8"
             ],
             [
              0.3333333333,
              "#9c179e"
             ],
             [
              0.4444444444,
              "#bd3786"
             ],
             [
              0.5555555556,
              "#d8576b"
             ],
             [
              0.6666666667,
              "#ed7953"
             ],
             [
              0.7777777778,
              "#fb9f3a"
             ],
             [
              0.8888888889,
              "#fdca26"
             ],
             [
              1,
              "#f0f921"
             ]
            ],
            "type": "surface"
           }
          ],
          "table": [
           {
            "cells": {
             "fill": {
              "color": "#EBF0F8"
             },
             "line": {
              "color": "white"
             }
            },
            "header": {
             "fill": {
              "color": "#C8D4E3"
             },
             "line": {
              "color": "white"
             }
            },
            "type": "table"
           }
          ]
         },
         "layout": {
          "annotationdefaults": {
           "arrowcolor": "#2a3f5f",
           "arrowhead": 0,
           "arrowwidth": 1
          },
          "colorscale": {
           "diverging": [
            [
             0,
             "#8e0152"
            ],
            [
             0.1,
             "#c51b7d"
            ],
            [
             0.2,
             "#de77ae"
            ],
            [
             0.3,
             "#f1b6da"
            ],
            [
             0.4,
             "#fde0ef"
            ],
            [
             0.5,
             "#f7f7f7"
            ],
            [
             0.6,
             "#e6f5d0"
            ],
            [
             0.7,
             "#b8e186"
            ],
            [
             0.8,
             "#7fbc41"
            ],
            [
             0.9,
             "#4d9221"
            ],
            [
             1,
             "#276419"
            ]
           ],
           "sequential": [
            [
             0,
             "#0d0887"
            ],
            [
             0.1111111111,
             "#46039f"
            ],
            [
             0.2222222222,
             "#7201a8"
            ],
            [
             0.3333333333,
             "#9c179e"
            ],
            [
             0.4444444444,
             "#bd3786"
            ],
            [
             0.5555555556,
             "#d8576b"
            ],
            [
             0.6666666667,
             "#ed7953"
            ],
            [
             0.7777777778,
             "#fb9f3a"
            ],
            [
             0.8888888889,
             "#fdca26"
            ],
            [
             1,
             "#f0f921"
            ]
           ],
           "sequentialminus": [
            [
             0,
             "#0d0887"
            ],
            [
             0.1111111111,
             "#46039f"
            ],
            [
             0.2222222222,
             "#7201a8"
            ],
            [
             0.3333333333,
             "#9c179e"
            ],
            [
             0.4444444444,
             "#bd3786"
            ],
            [
             0.5555555556,
             "#d8576b"
            ],
            [
             0.6666666667,
             "#ed7953"
            ],
            [
             0.7777777778,
             "#fb9f3a"
            ],
            [
             0.8888888889,
             "#fdca26"
            ],
            [
             1,
             "#f0f921"
            ]
           ]
          },
          "colorway": [
           "#636efa",
           "#EF553B",
           "#00cc96",
           "#ab63fa",
           "#FFA15A",
           "#19d3f3",
           "#FF6692",
           "#B6E880",
           "#FF97FF",
           "#FECB52"
          ],
          "font": {
           "color": "#2a3f5f"
          },
          "geo": {
           "bgcolor": "white",
           "lakecolor": "white",
           "landcolor": "#E5ECF6",
           "showlakes": true,
           "showland": true,
           "subunitcolor": "white"
          },
          "hoverlabel": {
           "align": "left"
          },
          "hovermode": "closest",
          "mapbox": {
           "style": "light"
          },
          "paper_bgcolor": "white",
          "plot_bgcolor": "#E5ECF6",
          "polar": {
           "angularaxis": {
            "gridcolor": "white",
            "linecolor": "white",
            "ticks": ""
           },
           "bgcolor": "#E5ECF6",
           "radialaxis": {
            "gridcolor": "white",
            "linecolor": "white",
            "ticks": ""
           }
          },
          "scene": {
           "xaxis": {
            "backgroundcolor": "#E5ECF6",
            "gridcolor": "white",
            "gridwidth": 2,
            "linecolor": "white",
            "showbackground": true,
            "ticks": "",
            "zerolinecolor": "white"
           },
           "yaxis": {
            "backgroundcolor": "#E5ECF6",
            "gridcolor": "white",
            "gridwidth": 2,
            "linecolor": "white",
            "showbackground": true,
            "ticks": "",
            "zerolinecolor": "white"
           },
           "zaxis": {
            "backgroundcolor": "#E5ECF6",
            "gridcolor": "white",
            "gridwidth": 2,
            "linecolor": "white",
            "showbackground": true,
            "ticks": "",
            "zerolinecolor": "white"
           }
          },
          "shapedefaults": {
           "line": {
            "color": "#2a3f5f"
           }
          },
          "ternary": {
           "aaxis": {
            "gridcolor": "white",
            "linecolor": "white",
            "ticks": ""
           },
           "baxis": {
            "gridcolor": "white",
            "linecolor": "white",
            "ticks": ""
           },
           "bgcolor": "#E5ECF6",
           "caxis": {
            "gridcolor": "white",
            "linecolor": "white",
            "ticks": ""
           }
          },
          "title": {
           "x": 0.05
          },
          "xaxis": {
           "automargin": true,
           "gridcolor": "white",
           "linecolor": "white",
           "ticks": "",
           "zerolinecolor": "white",
           "zerolinewidth": 2
          },
          "yaxis": {
           "automargin": true,
           "gridcolor": "white",
           "linecolor": "white",
           "ticks": "",
           "zerolinecolor": "white",
           "zerolinewidth": 2
          }
         }
        },
        "xaxis": {
         "anchor": "y",
         "domain": [
          0,
          0.98
         ]
        },
        "yaxis": {
         "anchor": "x",
         "domain": [
          0,
          1
         ],
         "title": {
          "text": "refundable_support"
         }
        }
       }
      },
      "text/html": [
       "<div>\n",
       "        \n",
       "        \n",
       "            <div id=\"71d5064c-4673-42a1-8f9c-19b817eb090c\" class=\"plotly-graph-div\" style=\"height:600px; width:100%;\"></div>\n",
       "            <script type=\"text/javascript\">\n",
       "                require([\"plotly\"], function(Plotly) {\n",
       "                    window.PLOTLYENV=window.PLOTLYENV || {};\n",
       "                    \n",
       "                if (document.getElementById(\"71d5064c-4673-42a1-8f9c-19b817eb090c\")) {\n",
       "                    Plotly.newPlot(\n",
       "                        '71d5064c-4673-42a1-8f9c-19b817eb090c',\n",
       "                        [{\"alignmentgroup\": \"True\", \"hoverlabel\": {\"namelength\": 0}, \"hovertemplate\": \"refundable_support=%{y}\", \"legendgroup\": \"\", \"marker\": {\"color\": \"#636efa\"}, \"name\": \"\", \"notched\": false, \"offsetgroup\": \"\", \"orientation\": \"v\", \"showlegend\": false, \"type\": \"box\", \"x0\": \" \", \"xaxis\": \"x\", \"y\": [0.0, 0.0, 0.0, 0.0, 0.0, 0.0, 50.0, 0.0, 0.0, 0.0, 26.0, 0.0, 0.0, 30.0, 0.0, 0.0, 0.0, 0.0, 0.0, 0.0, 0.0, 0.0, 0.0, 30.0, 0.0, 0.0, 0.0, 0.0, 0.0, 0.0, 0.0, 0.0, 15.0, 0.0, 0.0, 0.0, 0.0, 0.0, 0.0, 0.0, 10.0, 0.0, 0.0, 0.0, 0.0, 0.0, 0.0, 0.0, 20.0, 0.0, 0.0, 10.0, 0.0, 0.0, 7.153119, 0.0, 0.0, 0.0, 0.0, 25.0, 0.0, 40.0, 0.0, 0.0, 0.0, 0.0, 60.0, 0.0, 0.0, 44.0, 0.0, 10.0, 0.0, 29.0, 0.0, 15.0, 0.0, 25.0, 0.0, 41.0, 10.0, 15.0, 30.0, 0.0, 0.0, 0.0, 0.0, 25.0, 0.0, 0.0, 40.0, 0.0, 0.0, 30.0, 0.0, 50.0, 0.0, 0.0, 15.0, 0.0, 36.0, 3.5, 0.0, 0.0, 0.0, 15.0, 5.0, 40.0, 0.0, 19.0, 0.0, 0.0, 0.0, 10.0, 0.0, 0.0, 0.0, 0.0, 20.0, 0.0, 20.0, 0.0, 9.0, 0.0, 0.0, 110.0, 0.0, 0.0, 50.0, 0.0, 0.0, 5.0, 17.0, 75.0, 10.0, 25.0, 20.0, 0.0, 15.0, 0.0, 150.0, 0.0, 20.0, 0.0, 0.0, 0.0, 0.0, 38.0, 0.0, 100.0, 0.0, 50.0, 0.0, 15.0, 5.0, 40.0, 25.0, 0.0, 5.0, 0.0, 60.0, 0.0, 0.0, 10.0, 0.0, 0.0, 55.0, 10.0, 0.0, 0.0, 7.0, 20.0, 0.0, 55.0, 0.0, 30.0, 0.0, 10.0, 0.0, 0.0, 0.0, 25.0, 0.0, 7.346881, 5.0, 0.0, 110.0, 15.0, 0.0, 0.0, 0.0, 0.0, 50.0, 0.0, 20.0, 5.0, 100.0, 0.0, 0.0, 0.0, 0.0, 0.0, 0.0, 0.0, 50.0, 25.0, 0.0, 50.0, 0.0, 0.0, 20.0, 0.0, 0.0, 25.0, 0.0, 0.0, 50.0, 0.0, 0.0, 0.0, 10.0, 0.0, 0.0, 0.0, 0.0, 0.0, 0.0, 40.0, 0.0, 0.0, 0.0, 0.0, 0.0, 30.0, 0.0, 8.0, 0.0, 0.0, 5.0, 20.0, 0.0, 40.0, 0.0, 0.0, 0.0, 0.0, 19.0, 0.0, 0.0, 0.0, 0.0, 0.0, 0.0, 20.0, 0.0, 0.0, 40.0, 0.0, 115.0, 0.0, 75.0, 60.0, 60.0, 0.0, 0.0, 60.0, 20.0, 0.0, 0.0, 35.0, 0.0, 0.0, 0.0, 0.0, 15.0, 0.0, 0.0, 0.0, 60.0, 0.0, 0.0, 30.0, 0.0, 0.0, 0.0, 0.0, 0.0, 0.0, 0.0, 0.0, 0.0, 0.0, 0.0, 0.0, 0.0, 0.0, 0.0, 0.0, 0.0, 0.0, 0.0, 0.0, 0.0, 0.0, 0.0, 0.0, 0.0, 180.0, 25.0, 0.0, 28.0, 0.0, 0.0, 0.0, 0.0, 0.0, 0.0, 20.0, 0.0, 0.0, 0.0, 5.0, 0.0, 0.0, 5.0, 80.0, 25.0, 100.0, 100.0, 100.0, 0.0, 40.0], \"y0\": \" \", \"yaxis\": \"y\"}],\n",
       "                        {\"boxmode\": \"group\", \"height\": 600, \"legend\": {\"tracegroupgap\": 0}, \"margin\": {\"t\": 60}, \"template\": {\"data\": {\"bar\": [{\"error_x\": {\"color\": \"#2a3f5f\"}, \"error_y\": {\"color\": \"#2a3f5f\"}, \"marker\": {\"line\": {\"color\": \"#E5ECF6\", \"width\": 0.5}}, \"type\": \"bar\"}], \"barpolar\": [{\"marker\": {\"line\": {\"color\": \"#E5ECF6\", \"width\": 0.5}}, \"type\": \"barpolar\"}], \"carpet\": [{\"aaxis\": {\"endlinecolor\": \"#2a3f5f\", \"gridcolor\": \"white\", \"linecolor\": \"white\", \"minorgridcolor\": \"white\", \"startlinecolor\": \"#2a3f5f\"}, \"baxis\": {\"endlinecolor\": \"#2a3f5f\", \"gridcolor\": \"white\", \"linecolor\": \"white\", \"minorgridcolor\": \"white\", \"startlinecolor\": \"#2a3f5f\"}, \"type\": \"carpet\"}], \"choropleth\": [{\"colorbar\": {\"outlinewidth\": 0, \"ticks\": \"\"}, \"type\": \"choropleth\"}], \"contour\": [{\"colorbar\": {\"outlinewidth\": 0, \"ticks\": \"\"}, \"colorscale\": [[0.0, \"#0d0887\"], [0.1111111111111111, \"#46039f\"], [0.2222222222222222, \"#7201a8\"], [0.3333333333333333, \"#9c179e\"], [0.4444444444444444, \"#bd3786\"], [0.5555555555555556, \"#d8576b\"], [0.6666666666666666, \"#ed7953\"], [0.7777777777777778, \"#fb9f3a\"], [0.8888888888888888, \"#fdca26\"], [1.0, \"#f0f921\"]], \"type\": \"contour\"}], \"contourcarpet\": [{\"colorbar\": {\"outlinewidth\": 0, \"ticks\": \"\"}, \"type\": \"contourcarpet\"}], \"heatmap\": [{\"colorbar\": {\"outlinewidth\": 0, \"ticks\": \"\"}, \"colorscale\": [[0.0, \"#0d0887\"], [0.1111111111111111, \"#46039f\"], [0.2222222222222222, \"#7201a8\"], [0.3333333333333333, \"#9c179e\"], [0.4444444444444444, \"#bd3786\"], [0.5555555555555556, \"#d8576b\"], [0.6666666666666666, \"#ed7953\"], [0.7777777777777778, \"#fb9f3a\"], [0.8888888888888888, \"#fdca26\"], [1.0, \"#f0f921\"]], \"type\": \"heatmap\"}], \"heatmapgl\": [{\"colorbar\": {\"outlinewidth\": 0, \"ticks\": \"\"}, \"colorscale\": [[0.0, \"#0d0887\"], [0.1111111111111111, \"#46039f\"], [0.2222222222222222, \"#7201a8\"], [0.3333333333333333, \"#9c179e\"], [0.4444444444444444, \"#bd3786\"], [0.5555555555555556, \"#d8576b\"], [0.6666666666666666, \"#ed7953\"], [0.7777777777777778, \"#fb9f3a\"], [0.8888888888888888, \"#fdca26\"], [1.0, \"#f0f921\"]], \"type\": \"heatmapgl\"}], \"histogram\": [{\"marker\": {\"colorbar\": {\"outlinewidth\": 0, \"ticks\": \"\"}}, \"type\": \"histogram\"}], \"histogram2d\": [{\"colorbar\": {\"outlinewidth\": 0, \"ticks\": \"\"}, \"colorscale\": [[0.0, \"#0d0887\"], [0.1111111111111111, \"#46039f\"], [0.2222222222222222, \"#7201a8\"], [0.3333333333333333, \"#9c179e\"], [0.4444444444444444, \"#bd3786\"], [0.5555555555555556, \"#d8576b\"], [0.6666666666666666, \"#ed7953\"], [0.7777777777777778, \"#fb9f3a\"], [0.8888888888888888, \"#fdca26\"], [1.0, \"#f0f921\"]], \"type\": \"histogram2d\"}], \"histogram2dcontour\": [{\"colorbar\": {\"outlinewidth\": 0, \"ticks\": \"\"}, \"colorscale\": [[0.0, \"#0d0887\"], [0.1111111111111111, \"#46039f\"], [0.2222222222222222, \"#7201a8\"], [0.3333333333333333, \"#9c179e\"], [0.4444444444444444, \"#bd3786\"], [0.5555555555555556, \"#d8576b\"], [0.6666666666666666, \"#ed7953\"], [0.7777777777777778, \"#fb9f3a\"], [0.8888888888888888, \"#fdca26\"], [1.0, \"#f0f921\"]], \"type\": \"histogram2dcontour\"}], \"mesh3d\": [{\"colorbar\": {\"outlinewidth\": 0, \"ticks\": \"\"}, \"type\": \"mesh3d\"}], \"parcoords\": [{\"line\": {\"colorbar\": {\"outlinewidth\": 0, \"ticks\": \"\"}}, \"type\": \"parcoords\"}], \"scatter\": [{\"marker\": {\"colorbar\": {\"outlinewidth\": 0, \"ticks\": \"\"}}, \"type\": \"scatter\"}], \"scatter3d\": [{\"line\": {\"colorbar\": {\"outlinewidth\": 0, \"ticks\": \"\"}}, \"marker\": {\"colorbar\": {\"outlinewidth\": 0, \"ticks\": \"\"}}, \"type\": \"scatter3d\"}], \"scattercarpet\": [{\"marker\": {\"colorbar\": {\"outlinewidth\": 0, \"ticks\": \"\"}}, \"type\": \"scattercarpet\"}], \"scattergeo\": [{\"marker\": {\"colorbar\": {\"outlinewidth\": 0, \"ticks\": \"\"}}, \"type\": \"scattergeo\"}], \"scattergl\": [{\"marker\": {\"colorbar\": {\"outlinewidth\": 0, \"ticks\": \"\"}}, \"type\": \"scattergl\"}], \"scattermapbox\": [{\"marker\": {\"colorbar\": {\"outlinewidth\": 0, \"ticks\": \"\"}}, \"type\": \"scattermapbox\"}], \"scatterpolar\": [{\"marker\": {\"colorbar\": {\"outlinewidth\": 0, \"ticks\": \"\"}}, \"type\": \"scatterpolar\"}], \"scatterpolargl\": [{\"marker\": {\"colorbar\": {\"outlinewidth\": 0, \"ticks\": \"\"}}, \"type\": \"scatterpolargl\"}], \"scatterternary\": [{\"marker\": {\"colorbar\": {\"outlinewidth\": 0, \"ticks\": \"\"}}, \"type\": \"scatterternary\"}], \"surface\": [{\"colorbar\": {\"outlinewidth\": 0, \"ticks\": \"\"}, \"colorscale\": [[0.0, \"#0d0887\"], [0.1111111111111111, \"#46039f\"], [0.2222222222222222, \"#7201a8\"], [0.3333333333333333, \"#9c179e\"], [0.4444444444444444, \"#bd3786\"], [0.5555555555555556, \"#d8576b\"], [0.6666666666666666, \"#ed7953\"], [0.7777777777777778, \"#fb9f3a\"], [0.8888888888888888, \"#fdca26\"], [1.0, \"#f0f921\"]], \"type\": \"surface\"}], \"table\": [{\"cells\": {\"fill\": {\"color\": \"#EBF0F8\"}, \"line\": {\"color\": \"white\"}}, \"header\": {\"fill\": {\"color\": \"#C8D4E3\"}, \"line\": {\"color\": \"white\"}}, \"type\": \"table\"}]}, \"layout\": {\"annotationdefaults\": {\"arrowcolor\": \"#2a3f5f\", \"arrowhead\": 0, \"arrowwidth\": 1}, \"colorscale\": {\"diverging\": [[0, \"#8e0152\"], [0.1, \"#c51b7d\"], [0.2, \"#de77ae\"], [0.3, \"#f1b6da\"], [0.4, \"#fde0ef\"], [0.5, \"#f7f7f7\"], [0.6, \"#e6f5d0\"], [0.7, \"#b8e186\"], [0.8, \"#7fbc41\"], [0.9, \"#4d9221\"], [1, \"#276419\"]], \"sequential\": [[0.0, \"#0d0887\"], [0.1111111111111111, \"#46039f\"], [0.2222222222222222, \"#7201a8\"], [0.3333333333333333, \"#9c179e\"], [0.4444444444444444, \"#bd3786\"], [0.5555555555555556, \"#d8576b\"], [0.6666666666666666, \"#ed7953\"], [0.7777777777777778, \"#fb9f3a\"], [0.8888888888888888, \"#fdca26\"], [1.0, \"#f0f921\"]], \"sequentialminus\": [[0.0, \"#0d0887\"], [0.1111111111111111, \"#46039f\"], [0.2222222222222222, \"#7201a8\"], [0.3333333333333333, \"#9c179e\"], [0.4444444444444444, \"#bd3786\"], [0.5555555555555556, \"#d8576b\"], [0.6666666666666666, \"#ed7953\"], [0.7777777777777778, \"#fb9f3a\"], [0.8888888888888888, \"#fdca26\"], [1.0, \"#f0f921\"]]}, \"colorway\": [\"#636efa\", \"#EF553B\", \"#00cc96\", \"#ab63fa\", \"#FFA15A\", \"#19d3f3\", \"#FF6692\", \"#B6E880\", \"#FF97FF\", \"#FECB52\"], \"font\": {\"color\": \"#2a3f5f\"}, \"geo\": {\"bgcolor\": \"white\", \"lakecolor\": \"white\", \"landcolor\": \"#E5ECF6\", \"showlakes\": true, \"showland\": true, \"subunitcolor\": \"white\"}, \"hoverlabel\": {\"align\": \"left\"}, \"hovermode\": \"closest\", \"mapbox\": {\"style\": \"light\"}, \"paper_bgcolor\": \"white\", \"plot_bgcolor\": \"#E5ECF6\", \"polar\": {\"angularaxis\": {\"gridcolor\": \"white\", \"linecolor\": \"white\", \"ticks\": \"\"}, \"bgcolor\": \"#E5ECF6\", \"radialaxis\": {\"gridcolor\": \"white\", \"linecolor\": \"white\", \"ticks\": \"\"}}, \"scene\": {\"xaxis\": {\"backgroundcolor\": \"#E5ECF6\", \"gridcolor\": \"white\", \"gridwidth\": 2, \"linecolor\": \"white\", \"showbackground\": true, \"ticks\": \"\", \"zerolinecolor\": \"white\"}, \"yaxis\": {\"backgroundcolor\": \"#E5ECF6\", \"gridcolor\": \"white\", \"gridwidth\": 2, \"linecolor\": \"white\", \"showbackground\": true, \"ticks\": \"\", \"zerolinecolor\": \"white\"}, \"zaxis\": {\"backgroundcolor\": \"#E5ECF6\", \"gridcolor\": \"white\", \"gridwidth\": 2, \"linecolor\": \"white\", \"showbackground\": true, \"ticks\": \"\", \"zerolinecolor\": \"white\"}}, \"shapedefaults\": {\"line\": {\"color\": \"#2a3f5f\"}}, \"ternary\": {\"aaxis\": {\"gridcolor\": \"white\", \"linecolor\": \"white\", \"ticks\": \"\"}, \"baxis\": {\"gridcolor\": \"white\", \"linecolor\": \"white\", \"ticks\": \"\"}, \"bgcolor\": \"#E5ECF6\", \"caxis\": {\"gridcolor\": \"white\", \"linecolor\": \"white\", \"ticks\": \"\"}}, \"title\": {\"x\": 0.05}, \"xaxis\": {\"automargin\": true, \"gridcolor\": \"white\", \"linecolor\": \"white\", \"ticks\": \"\", \"zerolinecolor\": \"white\", \"zerolinewidth\": 2}, \"yaxis\": {\"automargin\": true, \"gridcolor\": \"white\", \"linecolor\": \"white\", \"ticks\": \"\", \"zerolinecolor\": \"white\", \"zerolinewidth\": 2}}}, \"xaxis\": {\"anchor\": \"y\", \"domain\": [0.0, 0.98]}, \"yaxis\": {\"anchor\": \"x\", \"domain\": [0.0, 1.0], \"title\": {\"text\": \"refundable_support\"}}},\n",
       "                        {\"responsive\": true}\n",
       "                    ).then(function(){\n",
       "                            \n",
       "var gd = document.getElementById('71d5064c-4673-42a1-8f9c-19b817eb090c');\n",
       "var x = new MutationObserver(function (mutations, observer) {{\n",
       "        var display = window.getComputedStyle(gd).display;\n",
       "        if (!display || display === 'none') {{\n",
       "            console.log([gd, 'removed!']);\n",
       "            Plotly.purge(gd);\n",
       "            observer.disconnect();\n",
       "        }}\n",
       "}});\n",
       "\n",
       "// Listen for the removal of the full notebook cells\n",
       "var notebookContainer = gd.closest('#notebook-container');\n",
       "if (notebookContainer) {{\n",
       "    x.observe(notebookContainer, {childList: true});\n",
       "}}\n",
       "\n",
       "// Listen for the clearing of the current output cell\n",
       "var outputEl = gd.closest('.output');\n",
       "if (outputEl) {{\n",
       "    x.observe(outputEl, {childList: true});\n",
       "}}\n",
       "\n",
       "                        })\n",
       "                };\n",
       "                });\n",
       "            </script>\n",
       "        </div>"
      ]
     },
     "metadata": {},
     "output_type": "display_data"
    }
   ],
   "source": [
    "fig = px.box(sponsored_movies, y='refundable_support')\n",
    "fig.show()"
   ]
  },
  {
   "cell_type": "markdown",
   "metadata": {},
   "source": [
    "Будет интересно ознакомиться со списком фильмов, гос.поддержка которых составила больше 100 млн невозвратных средств и больше 36 млн возвратных."
   ]
  },
  {
   "cell_type": "code",
   "execution_count": 217,
   "metadata": {},
   "outputs": [
    {
     "data": {
      "text/html": [
       "<div>\n",
       "<style scoped>\n",
       "    .dataframe tbody tr th:only-of-type {\n",
       "        vertical-align: middle;\n",
       "    }\n",
       "\n",
       "    .dataframe tbody tr th {\n",
       "        vertical-align: top;\n",
       "    }\n",
       "\n",
       "    .dataframe thead th {\n",
       "        text-align: right;\n",
       "    }\n",
       "</style>\n",
       "<table border=\"1\" class=\"dataframe\">\n",
       "  <thead>\n",
       "    <tr style=\"text-align: right;\">\n",
       "      <th></th>\n",
       "      <th>title</th>\n",
       "      <th>nonrefundable_support</th>\n",
       "      <th>refundable_support</th>\n",
       "      <th>box_office</th>\n",
       "    </tr>\n",
       "  </thead>\n",
       "  <tbody>\n",
       "    <tr>\n",
       "      <td>6323</td>\n",
       "      <td>Баба Яга</td>\n",
       "      <td>138.969465</td>\n",
       "      <td>0.0</td>\n",
       "      <td>1.334699</td>\n",
       "    </tr>\n",
       "    <tr>\n",
       "      <td>1498</td>\n",
       "      <td>Невидимки</td>\n",
       "      <td>107.847945</td>\n",
       "      <td>0.0</td>\n",
       "      <td>19.957031</td>\n",
       "    </tr>\n",
       "    <tr>\n",
       "      <td>3247</td>\n",
       "      <td>Дама Пик</td>\n",
       "      <td>133.000000</td>\n",
       "      <td>17.0</td>\n",
       "      <td>30.393101</td>\n",
       "    </tr>\n",
       "    <tr>\n",
       "      <td>6846</td>\n",
       "      <td>Братство</td>\n",
       "      <td>130.000000</td>\n",
       "      <td>0.0</td>\n",
       "      <td>46.350172</td>\n",
       "    </tr>\n",
       "    <tr>\n",
       "      <td>6887</td>\n",
       "      <td>Девятая</td>\n",
       "      <td>300.000000</td>\n",
       "      <td>0.0</td>\n",
       "      <td>55.876887</td>\n",
       "    </tr>\n",
       "    <tr>\n",
       "      <td>7290</td>\n",
       "      <td>Урфин Джюс возвращается</td>\n",
       "      <td>200.000000</td>\n",
       "      <td>0.0</td>\n",
       "      <td>68.549523</td>\n",
       "    </tr>\n",
       "    <tr>\n",
       "      <td>5690</td>\n",
       "      <td>Рубеж</td>\n",
       "      <td>200.000000</td>\n",
       "      <td>0.0</td>\n",
       "      <td>87.707397</td>\n",
       "    </tr>\n",
       "    <tr>\n",
       "      <td>2699</td>\n",
       "      <td>Он - Дракон</td>\n",
       "      <td>250.000000</td>\n",
       "      <td>0.0</td>\n",
       "      <td>110.171448</td>\n",
       "    </tr>\n",
       "    <tr>\n",
       "      <td>6699</td>\n",
       "      <td>Тобол</td>\n",
       "      <td>130.000000</td>\n",
       "      <td>0.0</td>\n",
       "      <td>138.162877</td>\n",
       "    </tr>\n",
       "    <tr>\n",
       "      <td>6823</td>\n",
       "      <td>Большое путешествие</td>\n",
       "      <td>120.000000</td>\n",
       "      <td>60.0</td>\n",
       "      <td>147.606827</td>\n",
       "    </tr>\n",
       "    <tr>\n",
       "      <td>3627</td>\n",
       "      <td>БОЛЬШОЙ</td>\n",
       "      <td>200.000000</td>\n",
       "      <td>10.0</td>\n",
       "      <td>228.578204</td>\n",
       "    </tr>\n",
       "    <tr>\n",
       "      <td>2574</td>\n",
       "      <td>Смешарики. Легенда о золотом драконе</td>\n",
       "      <td>110.000000</td>\n",
       "      <td>40.0</td>\n",
       "      <td>242.403435</td>\n",
       "    </tr>\n",
       "    <tr>\n",
       "      <td>3462</td>\n",
       "      <td>Защитники</td>\n",
       "      <td>150.000000</td>\n",
       "      <td>50.0</td>\n",
       "      <td>262.040254</td>\n",
       "    </tr>\n",
       "    <tr>\n",
       "      <td>3610</td>\n",
       "      <td>Ёлки 5</td>\n",
       "      <td>150.000000</td>\n",
       "      <td>0.0</td>\n",
       "      <td>308.401483</td>\n",
       "    </tr>\n",
       "    <tr>\n",
       "      <td>3453</td>\n",
       "      <td>Ледокол</td>\n",
       "      <td>200.000000</td>\n",
       "      <td>100.0</td>\n",
       "      <td>337.069663</td>\n",
       "    </tr>\n",
       "    <tr>\n",
       "      <td>3351</td>\n",
       "      <td>Дуэлянт</td>\n",
       "      <td>300.000000</td>\n",
       "      <td>150.0</td>\n",
       "      <td>364.285140</td>\n",
       "    </tr>\n",
       "    <tr>\n",
       "      <td>6855</td>\n",
       "      <td>Миллиард</td>\n",
       "      <td>140.000000</td>\n",
       "      <td>0.0</td>\n",
       "      <td>408.646666</td>\n",
       "    </tr>\n",
       "    <tr>\n",
       "      <td>5437</td>\n",
       "      <td>Матильда</td>\n",
       "      <td>190.000000</td>\n",
       "      <td>110.0</td>\n",
       "      <td>511.775548</td>\n",
       "    </tr>\n",
       "    <tr>\n",
       "      <td>3255</td>\n",
       "      <td>Время первых (2017)</td>\n",
       "      <td>175.000000</td>\n",
       "      <td>75.0</td>\n",
       "      <td>544.332260</td>\n",
       "    </tr>\n",
       "    <tr>\n",
       "      <td>5569</td>\n",
       "      <td>Легенда о Коловрате</td>\n",
       "      <td>250.000000</td>\n",
       "      <td>100.0</td>\n",
       "      <td>590.405065</td>\n",
       "    </tr>\n",
       "    <tr>\n",
       "      <td>7464</td>\n",
       "      <td>Союз спасения</td>\n",
       "      <td>400.000000</td>\n",
       "      <td>100.0</td>\n",
       "      <td>717.703186</td>\n",
       "    </tr>\n",
       "    <tr>\n",
       "      <td>5502</td>\n",
       "      <td>Салют-7</td>\n",
       "      <td>225.000000</td>\n",
       "      <td>0.0</td>\n",
       "      <td>752.679777</td>\n",
       "    </tr>\n",
       "    <tr>\n",
       "      <td>5826</td>\n",
       "      <td>Тренер</td>\n",
       "      <td>260.000000</td>\n",
       "      <td>0.0</td>\n",
       "      <td>820.528005</td>\n",
       "    </tr>\n",
       "    <tr>\n",
       "      <td>3565</td>\n",
       "      <td>Притяжение (2016)</td>\n",
       "      <td>250.000000</td>\n",
       "      <td>0.0</td>\n",
       "      <td>1038.321489</td>\n",
       "    </tr>\n",
       "    <tr>\n",
       "      <td>2920</td>\n",
       "      <td>Экипаж .</td>\n",
       "      <td>392.104482</td>\n",
       "      <td>50.0</td>\n",
       "      <td>1402.255390</td>\n",
       "    </tr>\n",
       "    <tr>\n",
       "      <td>6549</td>\n",
       "      <td>Т-34</td>\n",
       "      <td>120.000000</td>\n",
       "      <td>60.0</td>\n",
       "      <td>2271.754005</td>\n",
       "    </tr>\n",
       "    <tr>\n",
       "      <td>5653</td>\n",
       "      <td>Движение вверх</td>\n",
       "      <td>400.000000</td>\n",
       "      <td>0.0</td>\n",
       "      <td>2779.686144</td>\n",
       "    </tr>\n",
       "    <tr>\n",
       "      <td>7474</td>\n",
       "      <td>Вторжение</td>\n",
       "      <td>400.000000</td>\n",
       "      <td>100.0</td>\n",
       "      <td>NaN</td>\n",
       "    </tr>\n",
       "  </tbody>\n",
       "</table>\n",
       "</div>"
      ],
      "text/plain": [
       "                                     title  nonrefundable_support  \\\n",
       "6323                              Баба Яга             138.969465   \n",
       "1498                             Невидимки             107.847945   \n",
       "3247                              Дама Пик             133.000000   \n",
       "6846                              Братство             130.000000   \n",
       "6887                               Девятая             300.000000   \n",
       "7290               Урфин Джюс возвращается             200.000000   \n",
       "5690                                 Рубеж             200.000000   \n",
       "2699                           Он - Дракон             250.000000   \n",
       "6699                                 Тобол             130.000000   \n",
       "6823                   Большое путешествие             120.000000   \n",
       "3627                               БОЛЬШОЙ             200.000000   \n",
       "2574  Смешарики. Легенда о золотом драконе             110.000000   \n",
       "3462                             Защитники             150.000000   \n",
       "3610                                Ёлки 5             150.000000   \n",
       "3453                               Ледокол             200.000000   \n",
       "3351                               Дуэлянт             300.000000   \n",
       "6855                              Миллиард             140.000000   \n",
       "5437                              Матильда             190.000000   \n",
       "3255                   Время первых (2017)             175.000000   \n",
       "5569                   Легенда о Коловрате             250.000000   \n",
       "7464                         Союз спасения             400.000000   \n",
       "5502                               Салют-7             225.000000   \n",
       "5826                                Тренер             260.000000   \n",
       "3565                     Притяжение (2016)             250.000000   \n",
       "2920                              Экипаж .             392.104482   \n",
       "6549                                  Т-34             120.000000   \n",
       "5653                        Движение вверх             400.000000   \n",
       "7474                             Вторжение             400.000000   \n",
       "\n",
       "      refundable_support   box_office  \n",
       "6323                 0.0     1.334699  \n",
       "1498                 0.0    19.957031  \n",
       "3247                17.0    30.393101  \n",
       "6846                 0.0    46.350172  \n",
       "6887                 0.0    55.876887  \n",
       "7290                 0.0    68.549523  \n",
       "5690                 0.0    87.707397  \n",
       "2699                 0.0   110.171448  \n",
       "6699                 0.0   138.162877  \n",
       "6823                60.0   147.606827  \n",
       "3627                10.0   228.578204  \n",
       "2574                40.0   242.403435  \n",
       "3462                50.0   262.040254  \n",
       "3610                 0.0   308.401483  \n",
       "3453               100.0   337.069663  \n",
       "3351               150.0   364.285140  \n",
       "6855                 0.0   408.646666  \n",
       "5437               110.0   511.775548  \n",
       "3255                75.0   544.332260  \n",
       "5569               100.0   590.405065  \n",
       "7464               100.0   717.703186  \n",
       "5502                 0.0   752.679777  \n",
       "5826                 0.0   820.528005  \n",
       "3565                 0.0  1038.321489  \n",
       "2920                50.0  1402.255390  \n",
       "6549                60.0  2271.754005  \n",
       "5653                 0.0  2779.686144  \n",
       "7474               100.0          NaN  "
      ]
     },
     "execution_count": 217,
     "metadata": {},
     "output_type": "execute_result"
    }
   ],
   "source": [
    "sponsored_movies.loc[sponsored_movies['nonrefundable_support']>100][['title', 'nonrefundable_support', 'refundable_support', 'box_office']].sort_values(by='box_office')"
   ]
  },
  {
   "cell_type": "code",
   "execution_count": 218,
   "metadata": {
    "scrolled": true
   },
   "outputs": [
    {
     "data": {
      "text/plain": [
       "<matplotlib.axes._subplots.AxesSubplot at 0x7f450d6b1a90>"
      ]
     },
     "execution_count": 218,
     "metadata": {},
     "output_type": "execute_result"
    },
    {
     "data": {
      "image/png": "[encoded data removed]",
      "text/plain": [
       "<Figure size 432x288 with 1 Axes>"
      ]
     },
     "metadata": {
      "needs_background": "light"
     },
     "output_type": "display_data"
    }
   ],
   "source": [
    "sponsored_movies.loc[sponsored_movies['nonrefundable_support']>100].pivot_table(index='box_office', values='nonrefundable_support').plot()"
   ]
  },
  {
   "cell_type": "code",
   "execution_count": 219,
   "metadata": {
    "scrolled": true
   },
   "outputs": [
    {
     "data": {
      "text/html": [
       "<div>\n",
       "<style scoped>\n",
       "    .dataframe tbody tr th:only-of-type {\n",
       "        vertical-align: middle;\n",
       "    }\n",
       "\n",
       "    .dataframe tbody tr th {\n",
       "        vertical-align: top;\n",
       "    }\n",
       "\n",
       "    .dataframe thead th {\n",
       "        text-align: right;\n",
       "    }\n",
       "</style>\n",
       "<table border=\"1\" class=\"dataframe\">\n",
       "  <thead>\n",
       "    <tr style=\"text-align: right;\">\n",
       "      <th></th>\n",
       "      <th>title</th>\n",
       "      <th>nonrefundable_support</th>\n",
       "      <th>refundable_support</th>\n",
       "      <th>box_office</th>\n",
       "    </tr>\n",
       "  </thead>\n",
       "  <tbody>\n",
       "    <tr>\n",
       "      <td>2683</td>\n",
       "      <td>Дабл трабл</td>\n",
       "      <td>0.000000</td>\n",
       "      <td>44.0</td>\n",
       "      <td>19.654526</td>\n",
       "    </tr>\n",
       "    <tr>\n",
       "      <td>3618</td>\n",
       "      <td>Ночные стражи</td>\n",
       "      <td>35.000000</td>\n",
       "      <td>55.0</td>\n",
       "      <td>29.822147</td>\n",
       "    </tr>\n",
       "    <tr>\n",
       "      <td>3558</td>\n",
       "      <td>СНЕЖНАЯ КОРОЛЕВА 3. ОГОНЬ И ЛЁД</td>\n",
       "      <td>100.000000</td>\n",
       "      <td>60.0</td>\n",
       "      <td>31.517777</td>\n",
       "    </tr>\n",
       "    <tr>\n",
       "      <td>3426</td>\n",
       "      <td>Вурдалаки</td>\n",
       "      <td>41.500000</td>\n",
       "      <td>38.0</td>\n",
       "      <td>42.933480</td>\n",
       "    </tr>\n",
       "    <tr>\n",
       "      <td>3483</td>\n",
       "      <td>Дед Мороз. Битва Магов</td>\n",
       "      <td>60.000000</td>\n",
       "      <td>40.0</td>\n",
       "      <td>53.834510</td>\n",
       "    </tr>\n",
       "    <tr>\n",
       "      <td>3042</td>\n",
       "      <td>Крякнутые каникулы</td>\n",
       "      <td>0.000000</td>\n",
       "      <td>40.0</td>\n",
       "      <td>69.693748</td>\n",
       "    </tr>\n",
       "    <tr>\n",
       "      <td>5734</td>\n",
       "      <td>Ну, здравствуй, Оксана Соколова!</td>\n",
       "      <td>5.000000</td>\n",
       "      <td>50.0</td>\n",
       "      <td>80.289853</td>\n",
       "    </tr>\n",
       "    <tr>\n",
       "      <td>3164</td>\n",
       "      <td>Герой (2015)</td>\n",
       "      <td>30.000000</td>\n",
       "      <td>110.0</td>\n",
       "      <td>81.430627</td>\n",
       "    </tr>\n",
       "    <tr>\n",
       "      <td>6008</td>\n",
       "      <td>Принцесса и дракон</td>\n",
       "      <td>40.000000</td>\n",
       "      <td>40.0</td>\n",
       "      <td>83.366329</td>\n",
       "    </tr>\n",
       "    <tr>\n",
       "      <td>3686</td>\n",
       "      <td>Молот</td>\n",
       "      <td>75.000000</td>\n",
       "      <td>55.0</td>\n",
       "      <td>87.710162</td>\n",
       "    </tr>\n",
       "    <tr>\n",
       "      <td>6598</td>\n",
       "      <td>Волки и Овцы: Ход Свиньей</td>\n",
       "      <td>60.000000</td>\n",
       "      <td>60.0</td>\n",
       "      <td>108.195236</td>\n",
       "    </tr>\n",
       "    <tr>\n",
       "      <td>6823</td>\n",
       "      <td>Большое путешествие</td>\n",
       "      <td>120.000000</td>\n",
       "      <td>60.0</td>\n",
       "      <td>147.606827</td>\n",
       "    </tr>\n",
       "    <tr>\n",
       "      <td>2615</td>\n",
       "      <td>Савва. Сердце воина</td>\n",
       "      <td>100.000000</td>\n",
       "      <td>60.0</td>\n",
       "      <td>184.487551</td>\n",
       "    </tr>\n",
       "    <tr>\n",
       "      <td>6320</td>\n",
       "      <td>СУПЕРБОБРОВЫ. НАРОДНЫЕ МСТИТЕЛИ</td>\n",
       "      <td>80.000000</td>\n",
       "      <td>40.0</td>\n",
       "      <td>184.731758</td>\n",
       "    </tr>\n",
       "    <tr>\n",
       "      <td>6564</td>\n",
       "      <td>Снежная Королева: Зазеркалье</td>\n",
       "      <td>60.000000</td>\n",
       "      <td>60.0</td>\n",
       "      <td>185.318326</td>\n",
       "    </tr>\n",
       "    <tr>\n",
       "      <td>5869</td>\n",
       "      <td>Черновик</td>\n",
       "      <td>100.000000</td>\n",
       "      <td>40.0</td>\n",
       "      <td>204.158417</td>\n",
       "    </tr>\n",
       "    <tr>\n",
       "      <td>2574</td>\n",
       "      <td>Смешарики. Легенда о золотом драконе</td>\n",
       "      <td>110.000000</td>\n",
       "      <td>40.0</td>\n",
       "      <td>242.403435</td>\n",
       "    </tr>\n",
       "    <tr>\n",
       "      <td>1870</td>\n",
       "      <td>А зори здесь тихие..._</td>\n",
       "      <td>100.000000</td>\n",
       "      <td>50.0</td>\n",
       "      <td>249.166768</td>\n",
       "    </tr>\n",
       "    <tr>\n",
       "      <td>3462</td>\n",
       "      <td>Защитники</td>\n",
       "      <td>150.000000</td>\n",
       "      <td>50.0</td>\n",
       "      <td>262.040254</td>\n",
       "    </tr>\n",
       "    <tr>\n",
       "      <td>2872</td>\n",
       "      <td>Супербобровы</td>\n",
       "      <td>25.000000</td>\n",
       "      <td>40.0</td>\n",
       "      <td>270.538438</td>\n",
       "    </tr>\n",
       "    <tr>\n",
       "      <td>2767</td>\n",
       "      <td>Страна чудес</td>\n",
       "      <td>25.000000</td>\n",
       "      <td>41.0</td>\n",
       "      <td>294.590751</td>\n",
       "    </tr>\n",
       "    <tr>\n",
       "      <td>7114</td>\n",
       "      <td>Тайна Печати Дракона</td>\n",
       "      <td>90.000000</td>\n",
       "      <td>180.0</td>\n",
       "      <td>333.597060</td>\n",
       "    </tr>\n",
       "    <tr>\n",
       "      <td>3224</td>\n",
       "      <td>Кухня. Последняя битва</td>\n",
       "      <td>0.000000</td>\n",
       "      <td>50.0</td>\n",
       "      <td>334.007366</td>\n",
       "    </tr>\n",
       "    <tr>\n",
       "      <td>3453</td>\n",
       "      <td>Ледокол</td>\n",
       "      <td>200.000000</td>\n",
       "      <td>100.0</td>\n",
       "      <td>337.069663</td>\n",
       "    </tr>\n",
       "    <tr>\n",
       "      <td>3351</td>\n",
       "      <td>Дуэлянт</td>\n",
       "      <td>300.000000</td>\n",
       "      <td>150.0</td>\n",
       "      <td>364.285140</td>\n",
       "    </tr>\n",
       "    <tr>\n",
       "      <td>7453</td>\n",
       "      <td>Фиксики против кработов</td>\n",
       "      <td>40.000000</td>\n",
       "      <td>80.0</td>\n",
       "      <td>387.590522</td>\n",
       "    </tr>\n",
       "    <tr>\n",
       "      <td>7466</td>\n",
       "      <td>Иван Царевич и Серый Волк 4</td>\n",
       "      <td>0.000000</td>\n",
       "      <td>100.0</td>\n",
       "      <td>501.069235</td>\n",
       "    </tr>\n",
       "    <tr>\n",
       "      <td>5437</td>\n",
       "      <td>Матильда</td>\n",
       "      <td>190.000000</td>\n",
       "      <td>110.0</td>\n",
       "      <td>511.775548</td>\n",
       "    </tr>\n",
       "    <tr>\n",
       "      <td>3255</td>\n",
       "      <td>Время первых (2017)</td>\n",
       "      <td>175.000000</td>\n",
       "      <td>75.0</td>\n",
       "      <td>544.332260</td>\n",
       "    </tr>\n",
       "    <tr>\n",
       "      <td>6472</td>\n",
       "      <td>Три богатыря и наследница престола</td>\n",
       "      <td>0.000000</td>\n",
       "      <td>115.0</td>\n",
       "      <td>577.368853</td>\n",
       "    </tr>\n",
       "    <tr>\n",
       "      <td>5569</td>\n",
       "      <td>Легенда о Коловрате</td>\n",
       "      <td>250.000000</td>\n",
       "      <td>100.0</td>\n",
       "      <td>590.405065</td>\n",
       "    </tr>\n",
       "    <tr>\n",
       "      <td>6509</td>\n",
       "      <td>Ёлки Последние</td>\n",
       "      <td>25.000000</td>\n",
       "      <td>75.0</td>\n",
       "      <td>701.507030</td>\n",
       "    </tr>\n",
       "    <tr>\n",
       "      <td>7464</td>\n",
       "      <td>Союз спасения</td>\n",
       "      <td>400.000000</td>\n",
       "      <td>100.0</td>\n",
       "      <td>717.703186</td>\n",
       "    </tr>\n",
       "    <tr>\n",
       "      <td>5659</td>\n",
       "      <td>Три богатыря и принцесса Египта</td>\n",
       "      <td>0.000000</td>\n",
       "      <td>50.0</td>\n",
       "      <td>759.226773</td>\n",
       "    </tr>\n",
       "    <tr>\n",
       "      <td>5641</td>\n",
       "      <td>Ёлки Новые</td>\n",
       "      <td>50.000000</td>\n",
       "      <td>50.0</td>\n",
       "      <td>855.451052</td>\n",
       "    </tr>\n",
       "    <tr>\n",
       "      <td>2920</td>\n",
       "      <td>Экипаж .</td>\n",
       "      <td>392.104482</td>\n",
       "      <td>50.0</td>\n",
       "      <td>1402.255390</td>\n",
       "    </tr>\n",
       "    <tr>\n",
       "      <td>5505</td>\n",
       "      <td>Последний богатырь</td>\n",
       "      <td>50.000000</td>\n",
       "      <td>50.0</td>\n",
       "      <td>1655.037688</td>\n",
       "    </tr>\n",
       "    <tr>\n",
       "      <td>6549</td>\n",
       "      <td>Т-34</td>\n",
       "      <td>120.000000</td>\n",
       "      <td>60.0</td>\n",
       "      <td>2271.754005</td>\n",
       "    </tr>\n",
       "    <tr>\n",
       "      <td>7474</td>\n",
       "      <td>Вторжение</td>\n",
       "      <td>400.000000</td>\n",
       "      <td>100.0</td>\n",
       "      <td>NaN</td>\n",
       "    </tr>\n",
       "    <tr>\n",
       "      <td>7478</td>\n",
       "      <td>(Не)идеальный мужчина</td>\n",
       "      <td>60.000000</td>\n",
       "      <td>40.0</td>\n",
       "      <td>NaN</td>\n",
       "    </tr>\n",
       "  </tbody>\n",
       "</table>\n",
       "</div>"
      ],
      "text/plain": [
       "                                     title  nonrefundable_support  \\\n",
       "2683                            Дабл трабл               0.000000   \n",
       "3618                         Ночные стражи              35.000000   \n",
       "3558       СНЕЖНАЯ КОРОЛЕВА 3. ОГОНЬ И ЛЁД             100.000000   \n",
       "3426                             Вурдалаки              41.500000   \n",
       "3483                Дед Мороз. Битва Магов              60.000000   \n",
       "3042                    Крякнутые каникулы               0.000000   \n",
       "5734      Ну, здравствуй, Оксана Соколова!               5.000000   \n",
       "3164                          Герой (2015)              30.000000   \n",
       "6008                    Принцесса и дракон              40.000000   \n",
       "3686                                 Молот              75.000000   \n",
       "6598             Волки и Овцы: Ход Свиньей              60.000000   \n",
       "6823                   Большое путешествие             120.000000   \n",
       "2615                   Савва. Сердце воина             100.000000   \n",
       "6320       СУПЕРБОБРОВЫ. НАРОДНЫЕ МСТИТЕЛИ              80.000000   \n",
       "6564          Снежная Королева: Зазеркалье              60.000000   \n",
       "5869                              Черновик             100.000000   \n",
       "2574  Смешарики. Легенда о золотом драконе             110.000000   \n",
       "1870                А зори здесь тихие..._             100.000000   \n",
       "3462                             Защитники             150.000000   \n",
       "2872                          Супербобровы              25.000000   \n",
       "2767                          Страна чудес              25.000000   \n",
       "7114                  Тайна Печати Дракона              90.000000   \n",
       "3224                Кухня. Последняя битва               0.000000   \n",
       "3453                               Ледокол             200.000000   \n",
       "3351                               Дуэлянт             300.000000   \n",
       "7453               Фиксики против кработов              40.000000   \n",
       "7466           Иван Царевич и Серый Волк 4               0.000000   \n",
       "5437                              Матильда             190.000000   \n",
       "3255                   Время первых (2017)             175.000000   \n",
       "6472    Три богатыря и наследница престола               0.000000   \n",
       "5569                   Легенда о Коловрате             250.000000   \n",
       "6509                        Ёлки Последние              25.000000   \n",
       "7464                         Союз спасения             400.000000   \n",
       "5659       Три богатыря и принцесса Египта               0.000000   \n",
       "5641                            Ёлки Новые              50.000000   \n",
       "2920                              Экипаж .             392.104482   \n",
       "5505                    Последний богатырь              50.000000   \n",
       "6549                                  Т-34             120.000000   \n",
       "7474                             Вторжение             400.000000   \n",
       "7478                 (Не)идеальный мужчина              60.000000   \n",
       "\n",
       "      refundable_support   box_office  \n",
       "2683                44.0    19.654526  \n",
       "3618                55.0    29.822147  \n",
       "3558                60.0    31.517777  \n",
       "3426                38.0    42.933480  \n",
       "3483                40.0    53.834510  \n",
       "3042                40.0    69.693748  \n",
       "5734                50.0    80.289853  \n",
       "3164               110.0    81.430627  \n",
       "6008                40.0    83.366329  \n",
       "3686                55.0    87.710162  \n",
       "6598                60.0   108.195236  \n",
       "6823                60.0   147.606827  \n",
       "2615                60.0   184.487551  \n",
       "6320                40.0   184.731758  \n",
       "6564                60.0   185.318326  \n",
       "5869                40.0   204.158417  \n",
       "2574                40.0   242.403435  \n",
       "1870                50.0   249.166768  \n",
       "3462                50.0   262.040254  \n",
       "2872                40.0   270.538438  \n",
       "2767                41.0   294.590751  \n",
       "7114               180.0   333.597060  \n",
       "3224                50.0   334.007366  \n",
       "3453               100.0   337.069663  \n",
       "3351               150.0   364.285140  \n",
       "7453                80.0   387.590522  \n",
       "7466               100.0   501.069235  \n",
       "5437               110.0   511.775548  \n",
       "3255                75.0   544.332260  \n",
       "6472               115.0   577.368853  \n",
       "5569               100.0   590.405065  \n",
       "6509                75.0   701.507030  \n",
       "7464               100.0   717.703186  \n",
       "5659                50.0   759.226773  \n",
       "5641                50.0   855.451052  \n",
       "2920                50.0  1402.255390  \n",
       "5505                50.0  1655.037688  \n",
       "6549                60.0  2271.754005  \n",
       "7474               100.0          NaN  \n",
       "7478                40.0          NaN  "
      ]
     },
     "execution_count": 219,
     "metadata": {},
     "output_type": "execute_result"
    }
   ],
   "source": [
    "sponsored_movies.loc[sponsored_movies['refundable_support']>36][['title', 'nonrefundable_support', 'refundable_support', 'box_office']].sort_values(by='box_office')"
   ]
  },
  {
   "cell_type": "code",
   "execution_count": 220,
   "metadata": {
    "scrolled": true
   },
   "outputs": [
    {
     "data": {
      "text/plain": [
       "<matplotlib.axes._subplots.AxesSubplot at 0x7f452c20b210>"
      ]
     },
     "execution_count": 220,
     "metadata": {},
     "output_type": "execute_result"
    },
    {
     "data": {
      "image/png": "[encoded data removed]",
      "text/plain": [
       "<Figure size 432x288 with 1 Axes>"
      ]
     },
     "metadata": {
      "needs_background": "light"
     },
     "output_type": "display_data"
    }
   ],
   "source": [
    "sponsored_movies.loc[sponsored_movies['refundable_support']>36].pivot_table(index='box_office', values='refundable_support').plot()"
   ]
  },
  {
   "cell_type": "markdown",
   "metadata": {},
   "source": [
    "В целом явной зависимости между выделенными средствами и доходами не прослеживается. Некоторым фильмам удалось набрать много с меньшим количеством спонсорских средств. Также на успех некоторых фильмов могли повлиять сторонние факторы, например время проката, как в случае с \"Елками\" и \"Т-34\"."
   ]
  },
  {
   "cell_type": "markdown",
   "metadata": {},
   "source": [
    "Для изучения зависимости рейтинга от гос.помощи создадим новый столбец, суммировав данные о гос.поддержке."
   ]
  },
  {
   "cell_type": "code",
   "execution_count": 221,
   "metadata": {},
   "outputs": [],
   "source": [
    "sponsored_movies['total_support'] = sponsored_movies['refundable_support'] + sponsored_movies['nonrefundable_support']"
   ]
  },
  {
   "cell_type": "markdown",
   "metadata": {},
   "source": [
    "В этом случае построим график по всем данным двух столбцов."
   ]
  },
  {
   "cell_type": "code",
   "execution_count": 222,
   "metadata": {
    "scrolled": true
   },
   "outputs": [
    {
     "data": {
      "text/plain": [
       "<matplotlib.axes._subplots.AxesSubplot at 0x7f450e85dfd0>"
      ]
     },
     "execution_count": 222,
     "metadata": {},
     "output_type": "execute_result"
    },
    {
     "data": {
      "image/png": "[encoded data removed]",
      "text/plain": [
       "<Figure size 1080x360 with 1 Axes>"
      ]
     },
     "metadata": {
      "needs_background": "light"
     },
     "output_type": "display_data"
    }
   ],
   "source": [
    "sponsored_movies.pivot_table(index='ratings', values='total_support').plot(figsize=(15,5), grid=True)"
   ]
  },
  {
   "cell_type": "code",
   "execution_count": 223,
   "metadata": {},
   "outputs": [
    {
     "data": {
      "text/plain": [
       "0.10222216319847742"
      ]
     },
     "execution_count": 223,
     "metadata": {},
     "output_type": "execute_result"
    }
   ],
   "source": [
    "sponsored_movies['ratings'].corr(sponsored_movies['total_support'])"
   ]
  },
  {
   "cell_type": "markdown",
   "metadata": {},
   "source": [
    "Судя по коэффициенту корреляции, связь в данном случае слабая или отсутствует. Все же интересно будет ознакомиться с рейтингом фильмов, имеющих наибольшую поддержку."
   ]
  },
  {
   "cell_type": "code",
   "execution_count": 224,
   "metadata": {},
   "outputs": [
    {
     "data": {
      "application/vnd.plotly.v1+json": {
       "config": {
        "plotlyServerURL": "https://plot.ly"
       },
       "data": [
        {
         "alignmentgroup": "True",
         "hoverlabel": {
          "namelength": 0
         },
         "hovertemplate": "total_support=%{y}",
         "legendgroup": "",
         "marker": {
          "color": "#636efa"
         },
         "name": "",
         "notched": false,
         "offsetgroup": "",
         "orientation": "v",
         "showlegend": false,
         "type": "box",
         "x0": " ",
         "xaxis": "x",
         "y": [
          26.5,
          26,
          107.847945,
          28,
          25,
          25,
          150,
          46.502299,
          75,
          34,
          56,
          25,
          25,
          70,
          28,
          23,
          75,
          45,
          56.579055,
          25.5,
          45,
          30,
          27.51,
          60,
          25,
          10,
          25,
          24,
          30,
          30,
          24.5,
          27,
          20,
          90,
          26,
          28,
          34,
          34,
          20,
          20,
          80,
          97,
          24.45,
          25,
          5,
          26.5,
          50,
          28,
          20,
          27,
          28,
          37,
          25,
          60,
          35.153119,
          27.5,
          26.95,
          30,
          25,
          55,
          50,
          150,
          30,
          28,
          20,
          25,
          160,
          15,
          30,
          44,
          59,
          50,
          250,
          63,
          37,
          75,
          20,
          25,
          28,
          66,
          34.45,
          50,
          50.145285,
          28,
          35,
          25,
          25.9,
          40,
          25,
          30,
          65,
          6,
          35,
          70,
          26,
          442.104482,
          25.2,
          30,
          40,
          20,
          58.904,
          23.5,
          35,
          29,
          30,
          30,
          25,
          40,
          40,
          70,
          25,
          30,
          24,
          30,
          35,
          40,
          25,
          40,
          40,
          4.7,
          25.3,
          35,
          49,
          35,
          21.7,
          140,
          24.986,
          25,
          50,
          30,
          25.345,
          25,
          150,
          250,
          40,
          50,
          50.123915,
          30,
          43.5,
          10,
          450,
          35,
          55,
          30,
          25,
          50,
          35,
          79.5,
          35,
          300,
          60,
          200,
          30,
          55,
          60,
          100,
          50,
          25,
          30,
          35,
          160,
          250,
          35,
          20,
          150,
          25,
          90,
          210,
          30,
          64,
          27,
          40,
          25,
          130,
          75,
          80.000866,
          40,
          30,
          11.52,
          30,
          6,
          45,
          35,
          37.346881,
          30,
          15,
          300,
          50,
          30,
          75,
          30,
          225,
          100,
          37,
          70,
          35,
          350,
          25,
          8,
          30,
          6,
          25,
          50,
          25,
          100,
          55,
          400,
          50,
          25,
          30,
          60,
          200,
          50,
          85,
          30,
          50,
          55,
          30,
          60,
          60,
          70,
          60,
          260,
          35,
          25,
          50,
          60,
          140,
          25,
          35,
          25,
          30,
          31,
          60,
          25,
          28,
          20,
          25,
          40,
          105,
          30,
          80,
          25,
          25,
          25,
          30,
          119,
          30,
          40,
          30,
          20,
          30,
          15,
          60,
          25,
          100,
          120,
          138.969465,
          115,
          25,
          100,
          180,
          120,
          40,
          35,
          120,
          60,
          35,
          25,
          35,
          40,
          28,
          130,
          30,
          50,
          25,
          35,
          40,
          180,
          35,
          130,
          65,
          140,
          40,
          300,
          25,
          25,
          25,
          30,
          30,
          30,
          25,
          25,
          40,
          30,
          30,
          70,
          25,
          25,
          30,
          25,
          30,
          40,
          10,
          40,
          40,
          40,
          270,
          60,
          40,
          53,
          40,
          60,
          3,
          50,
          35,
          25,
          120,
          30,
          200,
          20,
          25,
          60,
          30,
          40,
          120,
          60,
          500,
          100,
          500,
          30,
          100
         ],
         "y0": " ",
         "yaxis": "y"
        }
       ],
       "layout": {
        "boxmode": "group",
        "height": 600,
        "legend": {
         "tracegroupgap": 0
        },
        "margin": {
         "t": 60
        },
        "template": {
         "data": {
          "bar": [
           {
            "error_x": {
             "color": "#2a3f5f"
            },
            "error_y": {
             "color": "#2a3f5f"
            },
            "marker": {
             "line": {
              "color": "#E5ECF6",
              "width": 0.5
             }
            },
            "type": "bar"
           }
          ],
          "barpolar": [
           {
            "marker": {
             "line": {
              "color": "#E5ECF6",
              "width": 0.5
             }
            },
            "type": "barpolar"
           }
          ],
          "carpet": [
           {
            "aaxis": {
             "endlinecolor": "#2a3f5f",
             "gridcolor": "white",
             "linecolor": "white",
             "minorgridcolor": "white",
             "startlinecolor": "#2a3f5f"
            },
            "baxis": {
             "endlinecolor": "#2a3f5f",
             "gridcolor": "white",
             "linecolor": "white",
             "minorgridcolor": "white",
             "startlinecolor": "#2a3f5f"
            },
            "type": "carpet"
           }
          ],
          "choropleth": [
           {
            "colorbar": {
             "outlinewidth": 0,
             "ticks": ""
            },
            "type": "choropleth"
           }
          ],
          "contour": [
           {
            "colorbar": {
             "outlinewidth": 0,
             "ticks": ""
            },
            "colorscale": [
             [
              0,
              "#0d0887"
             ],
             [
              0.1111111111,
              "#46039f"
             ],
             [
              0.2222222222,
              "#7201a8"
             ],
             [
              0.3333333333,
              "#9c179e"
             ],
             [
              0.4444444444,
              "#bd3786"
             ],
             [
              0.5555555556,
              "#d8576b"
             ],
             [
              0.6666666667,
              "#ed7953"
             ],
             [
              0.7777777778,
              "#fb9f3a"
             ],
             [
              0.8888888889,
              "#fdca26"
             ],
             [
              1,
              "#f0f921"
             ]
            ],
            "type": "contour"
           }
          ],
          "contourcarpet": [
           {
            "colorbar": {
             "outlinewidth": 0,
             "ticks": ""
            },
            "type": "contourcarpet"
           }
          ],
          "heatmap": [
           {
            "colorbar": {
             "outlinewidth": 0,
             "ticks": ""
            },
            "colorscale": [
             [
              0,
              "#0d0887"
             ],
             [
              0.1111111111,
              "#46039f"
             ],
             [
              0.2222222222,
              "#7201a8"
             ],
             [
              0.3333333333,
              "#9c179e"
             ],
             [
              0.4444444444,
              "#bd3786"
             ],
             [
              0.5555555556,
              "#d8576b"
             ],
             [
              0.6666666667,
              "#ed7953"
             ],
             [
              0.7777777778,
              "#fb9f3a"
             ],
             [
              0.8888888889,
              "#fdca26"
             ],
             [
              1,
              "#f0f921"
             ]
            ],
            "type": "heatmap"
           }
          ],
          "heatmapgl": [
           {
            "colorbar": {
             "outlinewidth": 0,
             "ticks": ""
            },
            "colorscale": [
             [
              0,
              "#0d0887"
             ],
             [
              0.1111111111,
              "#46039f"
             ],
             [
              0.2222222222,
              "#7201a8"
             ],
             [
              0.3333333333,
              "#9c179e"
             ],
             [
              0.4444444444,
              "#bd3786"
             ],
             [
              0.5555555556,
              "#d8576b"
             ],
             [
              0.6666666667,
              "#ed7953"
             ],
             [
              0.7777777778,
              "#fb9f3a"
             ],
             [
              0.8888888889,
              "#fdca26"
             ],
             [
              1,
              "#f0f921"
             ]
            ],
            "type": "heatmapgl"
           }
          ],
          "histogram": [
           {
            "marker": {
             "colorbar": {
              "outlinewidth": 0,
              "ticks": ""
             }
            },
            "type": "histogram"
           }
          ],
          "histogram2d": [
           {
            "colorbar": {
             "outlinewidth": 0,
             "ticks": ""
            },
            "colorscale": [
             [
              0,
              "#0d0887"
             ],
             [
              0.1111111111,
              "#46039f"
             ],
             [
              0.2222222222,
              "#7201a8"
             ],
             [
              0.3333333333,
              "#9c179e"
             ],
             [
              0.4444444444,
              "#bd3786"
             ],
             [
              0.5555555556,
              "#d8576b"
             ],
             [
              0.6666666667,
              "#ed7953"
             ],
             [
              0.7777777778,
              "#fb9f3a"
             ],
             [
              0.8888888889,
              "#fdca26"
             ],
             [
              1,
              "#f0f921"
             ]
            ],
            "type": "histogram2d"
           }
          ],
          "histogram2dcontour": [
           {
            "colorbar": {
             "outlinewidth": 0,
             "ticks": ""
            },
            "colorscale": [
             [
              0,
              "#0d0887"
             ],
             [
              0.1111111111,
              "#46039f"
             ],
             [
              0.2222222222,
              "#7201a8"
             ],
             [
              0.3333333333,
              "#9c179e"
             ],
             [
              0.4444444444,
              "#bd3786"
             ],
             [
              0.5555555556,
              "#d8576b"
             ],
             [
              0.6666666667,
              "#ed7953"
             ],
             [
              0.7777777778,
              "#fb9f3a"
             ],
             [
              0.8888888889,
              "#fdca26"
             ],
             [
              1,
              "#f0f921"
             ]
            ],
            "type": "histogram2dcontour"
           }
          ],
          "mesh3d": [
           {
            "colorbar": {
             "outlinewidth": 0,
             "ticks": ""
            },
            "type": "mesh3d"
           }
          ],
          "parcoords": [
           {
            "line": {
             "colorbar": {
              "outlinewidth": 0,
              "ticks": ""
             }
            },
            "type": "parcoords"
           }
          ],
          "scatter": [
           {
            "marker": {
             "colorbar": {
              "outlinewidth": 0,
              "ticks": ""
             }
            },
            "type": "scatter"
           }
          ],
          "scatter3d": [
           {
            "line": {
             "colorbar": {
              "outlinewidth": 0,
              "ticks": ""
             }
            },
            "marker": {
             "colorbar": {
              "outlinewidth": 0,
              "ticks": ""
             }
            },
            "type": "scatter3d"
           }
          ],
          "scattercarpet": [
           {
            "marker": {
             "colorbar": {
              "outlinewidth": 0,
              "ticks": ""
             }
            },
            "type": "scattercarpet"
           }
          ],
          "scattergeo": [
           {
            "marker": {
             "colorbar": {
              "outlinewidth": 0,
              "ticks": ""
             }
            },
            "type": "scattergeo"
           }
          ],
          "scattergl": [
           {
            "marker": {
             "colorbar": {
              "outlinewidth": 0,
              "ticks": ""
             }
            },
            "type": "scattergl"
           }
          ],
          "scattermapbox": [
           {
            "marker": {
             "colorbar": {
              "outlinewidth": 0,
              "ticks": ""
             }
            },
            "type": "scattermapbox"
           }
          ],
          "scatterpolar": [
           {
            "marker": {
             "colorbar": {
              "outlinewidth": 0,
              "ticks": ""
             }
            },
            "type": "scatterpolar"
           }
          ],
          "scatterpolargl": [
           {
            "marker": {
             "colorbar": {
              "outlinewidth": 0,
              "ticks": ""
             }
            },
            "type": "scatterpolargl"
           }
          ],
          "scatterternary": [
           {
            "marker": {
             "colorbar": {
              "outlinewidth": 0,
              "ticks": ""
             }
            },
            "type": "scatterternary"
           }
          ],
          "surface": [
           {
            "colorbar": {
             "outlinewidth": 0,
             "ticks": ""
            },
            "colorscale": [
             [
              0,
              "#0d0887"
             ],
             [
              0.1111111111,
              "#46039f"
             ],
             [
              0.2222222222,
              "#7201a8"
             ],
             [
              0.3333333333,
              "#9c179e"
             ],
             [
              0.4444444444,
              "#bd3786"
             ],
             [
              0.5555555556,
              "#d8576b"
             ],
             [
              0.6666666667,
              "#ed7953"
             ],
             [
              0.7777777778,
              "#fb9f3a"
             ],
             [
              0.8888888889,
              "#fdca26"
             ],
             [
              1,
              "#f0f921"
             ]
            ],
            "type": "surface"
           }
          ],
          "table": [
           {
            "cells": {
             "fill": {
              "color": "#EBF0F8"
             },
             "line": {
              "color": "white"
             }
            },
            "header": {
             "fill": {
              "color": "#C8D4E3"
             },
             "line": {
              "color": "white"
             }
            },
            "type": "table"
           }
          ]
         },
         "layout": {
          "annotationdefaults": {
           "arrowcolor": "#2a3f5f",
           "arrowhead": 0,
           "arrowwidth": 1
          },
          "colorscale": {
           "diverging": [
            [
             0,
             "#8e0152"
            ],
            [
             0.1,
             "#c51b7d"
            ],
            [
             0.2,
             "#de77ae"
            ],
            [
             0.3,
             "#f1b6da"
            ],
            [
             0.4,
             "#fde0ef"
            ],
            [
             0.5,
             "#f7f7f7"
            ],
            [
             0.6,
             "#e6f5d0"
            ],
            [
             0.7,
             "#b8e186"
            ],
            [
             0.8,
             "#7fbc41"
            ],
            [
             0.9,
             "#4d9221"
            ],
            [
             1,
             "#276419"
            ]
           ],
           "sequential": [
            [
             0,
             "#0d0887"
            ],
            [
             0.1111111111,
             "#46039f"
            ],
            [
             0.2222222222,
             "#7201a8"
            ],
            [
             0.3333333333,
             "#9c179e"
            ],
            [
             0.4444444444,
             "#bd3786"
            ],
            [
             0.5555555556,
             "#d8576b"
            ],
            [
             0.6666666667,
             "#ed7953"
            ],
            [
             0.7777777778,
             "#fb9f3a"
            ],
            [
             0.8888888889,
             "#fdca26"
            ],
            [
             1,
             "#f0f921"
            ]
           ],
           "sequentialminus": [
            [
             0,
             "#0d0887"
            ],
            [
             0.1111111111,
             "#46039f"
            ],
            [
             0.2222222222,
             "#7201a8"
            ],
            [
             0.3333333333,
             "#9c179e"
            ],
            [
             0.4444444444,
             "#bd3786"
            ],
            [
             0.5555555556,
             "#d8576b"
            ],
            [
             0.6666666667,
             "#ed7953"
            ],
            [
             0.7777777778,
             "#fb9f3a"
            ],
            [
             0.8888888889,
             "#fdca26"
            ],
            [
             1,
             "#f0f921"
            ]
           ]
          },
          "colorway": [
           "#636efa",
           "#EF553B",
           "#00cc96",
           "#ab63fa",
           "#FFA15A",
           "#19d3f3",
           "#FF6692",
           "#B6E880",
           "#FF97FF",
           "#FECB52"
          ],
          "font": {
           "color": "#2a3f5f"
          },
          "geo": {
           "bgcolor": "white",
           "lakecolor": "white",
           "landcolor": "#E5ECF6",
           "showlakes": true,
           "showland": true,
           "subunitcolor": "white"
          },
          "hoverlabel": {
           "align": "left"
          },
          "hovermode": "closest",
          "mapbox": {
           "style": "light"
          },
          "paper_bgcolor": "white",
          "plot_bgcolor": "#E5ECF6",
          "polar": {
           "angularaxis": {
            "gridcolor": "white",
            "linecolor": "white",
            "ticks": ""
           },
           "bgcolor": "#E5ECF6",
           "radialaxis": {
            "gridcolor": "white",
            "linecolor": "white",
            "ticks": ""
           }
          },
          "scene": {
           "xaxis": {
            "backgroundcolor": "#E5ECF6",
            "gridcolor": "white",
            "gridwidth": 2,
            "linecolor": "white",
            "showbackground": true,
            "ticks": "",
            "zerolinecolor": "white"
           },
           "yaxis": {
            "backgroundcolor": "#E5ECF6",
            "gridcolor": "white",
            "gridwidth": 2,
            "linecolor": "white",
            "showbackground": true,
            "ticks": "",
            "zerolinecolor": "white"
           },
           "zaxis": {
            "backgroundcolor": "#E5ECF6",
            "gridcolor": "white",
            "gridwidth": 2,
            "linecolor": "white",
            "showbackground": true,
            "ticks": "",
            "zerolinecolor": "white"
           }
          },
          "shapedefaults": {
           "line": {
            "color": "#2a3f5f"
           }
          },
          "ternary": {
           "aaxis": {
            "gridcolor": "white",
            "linecolor": "white",
            "ticks": ""
           },
           "baxis": {
            "gridcolor": "white",
            "linecolor": "white",
            "ticks": ""
           },
           "bgcolor": "#E5ECF6",
           "caxis": {
            "gridcolor": "white",
            "linecolor": "white",
            "ticks": ""
           }
          },
          "title": {
           "x": 0.05
          },
          "xaxis": {
           "automargin": true,
           "gridcolor": "white",
           "linecolor": "white",
           "ticks": "",
           "zerolinecolor": "white",
           "zerolinewidth": 2
          },
          "yaxis": {
           "automargin": true,
           "gridcolor": "white",
           "linecolor": "white",
           "ticks": "",
           "zerolinecolor": "white",
           "zerolinewidth": 2
          }
         }
        },
        "xaxis": {
         "anchor": "y",
         "domain": [
          0,
          0.98
         ]
        },
        "yaxis": {
         "anchor": "x",
         "domain": [
          0,
          1
         ],
         "title": {
          "text": "total_support"
         }
        }
       }
      },
      "text/html": [
       "<div>\n",
       "        \n",
       "        \n",
       "            <div id=\"464b4033-5198-46fe-8f55-45789ef5819f\" class=\"plotly-graph-div\" style=\"height:600px; width:100%;\"></div>\n",
       "            <script type=\"text/javascript\">\n",
       "                require([\"plotly\"], function(Plotly) {\n",
       "                    window.PLOTLYENV=window.PLOTLYENV || {};\n",
       "                    \n",
       "                if (document.getElementById(\"464b4033-5198-46fe-8f55-45789ef5819f\")) {\n",
       "                    Plotly.newPlot(\n",
       "                        '464b4033-5198-46fe-8f55-45789ef5819f',\n",
       "                        [{\"alignmentgroup\": \"True\", \"hoverlabel\": {\"namelength\": 0}, \"hovertemplate\": \"total_support=%{y}\", \"legendgroup\": \"\", \"marker\": {\"color\": \"#636efa\"}, \"name\": \"\", \"notched\": false, \"offsetgroup\": \"\", \"orientation\": \"v\", \"showlegend\": false, \"type\": \"box\", \"x0\": \" \", \"xaxis\": \"x\", \"y\": [26.5, 26.0, 107.847945, 28.0, 25.0, 25.0, 150.0, 46.502299, 75.0, 34.0, 56.0, 25.0, 25.0, 70.0, 28.0, 23.0, 75.0, 45.0, 56.579055, 25.5, 45.0, 30.0, 27.51, 60.0, 25.0, 10.0, 25.0, 24.0, 30.0, 30.0, 24.5, 27.0, 20.0, 90.0, 26.0, 28.0, 34.0, 34.0, 20.0, 20.0, 80.0, 97.0, 24.45, 25.0, 5.0, 26.5, 50.0, 28.0, 20.0, 27.0, 28.0, 37.0, 25.0, 60.0, 35.153119000000004, 27.5, 26.95, 30.0, 25.0, 55.0, 50.0, 150.0, 30.0, 28.0, 20.0, 25.0, 160.0, 15.0, 30.0, 44.0, 59.0, 50.0, 250.0, 63.0, 37.0, 75.0, 20.0, 25.0, 28.0, 66.0, 34.45, 50.0, 50.145285, 28.0, 35.0, 25.0, 25.9, 40.0, 25.0, 30.0, 65.0, 6.0, 35.0, 70.0, 26.0, 442.104482, 25.2, 30.0, 40.0, 20.0, 58.903999999999996, 23.5, 35.0, 29.0, 30.0, 30.0, 25.0, 40.0, 40.0, 70.0, 25.0, 30.0, 24.0, 30.0, 35.0, 40.0, 25.0, 40.0, 40.0, 4.7, 25.3, 35.0, 49.0, 35.0, 21.7, 140.0, 24.986, 25.0, 50.0, 30.0, 25.345, 25.0, 150.0, 250.0, 40.0, 50.0, 50.123915, 30.0, 43.5, 10.0, 450.0, 35.0, 55.0, 30.0, 25.0, 50.0, 35.0, 79.5, 35.0, 300.0, 60.0, 200.0, 30.0, 55.0, 60.0, 100.0, 50.0, 25.0, 30.0, 35.0, 160.0, 250.0, 35.0, 20.0, 150.0, 25.0, 90.0, 210.0, 30.0, 64.0, 27.0, 40.0, 25.0, 130.0, 75.0, 80.000866, 40.0, 30.0, 11.52, 30.0, 6.0, 45.0, 35.0, 37.346880999999996, 30.0, 15.0, 300.0, 50.0, 30.0, 75.0, 30.0, 225.0, 100.0, 37.0, 70.0, 35.0, 350.0, 25.0, 8.0, 30.0, 6.0, 25.0, 50.0, 25.0, 100.0, 55.0, 400.0, 50.0, 25.0, 30.0, 60.0, 200.0, 50.0, 85.0, 30.0, 50.0, 55.0, 30.0, 60.0, 60.0, 70.0, 60.0, 260.0, 35.0, 25.0, 50.0, 60.0, 140.0, 25.0, 35.0, 25.0, 30.0, 31.0, 60.0, 25.0, 28.0, 20.0, 25.0, 40.0, 105.0, 30.0, 80.0, 25.0, 25.0, 25.0, 30.0, 119.0, 30.0, 40.0, 30.0, 20.0, 30.0, 15.0, 60.0, 25.0, 100.0, 120.0, 138.969465, 115.0, 25.0, 100.0, 180.0, 120.0, 40.0, 35.0, 120.0, 60.0, 35.0, 25.0, 35.0, 40.0, 28.0, 130.0, 30.0, 50.0, 25.0, 35.0, 40.0, 180.0, 35.0, 130.0, 65.0, 140.0, 40.0, 300.0, 25.0, 25.0, 25.0, 30.0, 30.0, 30.0, 25.0, 25.0, 40.0, 30.0, 30.0, 70.0, 25.0, 25.0, 30.0, 25.0, 30.0, 40.0, 10.0, 40.0, 40.0, 40.0, 270.0, 60.0, 40.0, 53.0, 40.0, 60.0, 3.0, 50.0, 35.0, 25.0, 120.0, 30.0, 200.0, 20.0, 25.0, 60.0, 30.0, 40.0, 120.0, 60.0, 500.0, 100.0, 500.0, 30.0, 100.0], \"y0\": \" \", \"yaxis\": \"y\"}],\n",
       "                        {\"boxmode\": \"group\", \"height\": 600, \"legend\": {\"tracegroupgap\": 0}, \"margin\": {\"t\": 60}, \"template\": {\"data\": {\"bar\": [{\"error_x\": {\"color\": \"#2a3f5f\"}, \"error_y\": {\"color\": \"#2a3f5f\"}, \"marker\": {\"line\": {\"color\": \"#E5ECF6\", \"width\": 0.5}}, \"type\": \"bar\"}], \"barpolar\": [{\"marker\": {\"line\": {\"color\": \"#E5ECF6\", \"width\": 0.5}}, \"type\": \"barpolar\"}], \"carpet\": [{\"aaxis\": {\"endlinecolor\": \"#2a3f5f\", \"gridcolor\": \"white\", \"linecolor\": \"white\", \"minorgridcolor\": \"white\", \"startlinecolor\": \"#2a3f5f\"}, \"baxis\": {\"endlinecolor\": \"#2a3f5f\", \"gridcolor\": \"white\", \"linecolor\": \"white\", \"minorgridcolor\": \"white\", \"startlinecolor\": \"#2a3f5f\"}, \"type\": \"carpet\"}], \"choropleth\": [{\"colorbar\": {\"outlinewidth\": 0, \"ticks\": \"\"}, \"type\": \"choropleth\"}], \"contour\": [{\"colorbar\": {\"outlinewidth\": 0, \"ticks\": \"\"}, \"colorscale\": [[0.0, \"#0d0887\"], [0.1111111111111111, \"#46039f\"], [0.2222222222222222, \"#7201a8\"], [0.3333333333333333, \"#9c179e\"], [0.4444444444444444, \"#bd3786\"], [0.5555555555555556, \"#d8576b\"], [0.6666666666666666, \"#ed7953\"], [0.7777777777777778, \"#fb9f3a\"], [0.8888888888888888, \"#fdca26\"], [1.0, \"#f0f921\"]], \"type\": \"contour\"}], \"contourcarpet\": [{\"colorbar\": {\"outlinewidth\": 0, \"ticks\": \"\"}, \"type\": \"contourcarpet\"}], \"heatmap\": [{\"colorbar\": {\"outlinewidth\": 0, \"ticks\": \"\"}, \"colorscale\": [[0.0, \"#0d0887\"], [0.1111111111111111, \"#46039f\"], [0.2222222222222222, \"#7201a8\"], [0.3333333333333333, \"#9c179e\"], [0.4444444444444444, \"#bd3786\"], [0.5555555555555556, \"#d8576b\"], [0.6666666666666666, \"#ed7953\"], [0.7777777777777778, \"#fb9f3a\"], [0.8888888888888888, \"#fdca26\"], [1.0, \"#f0f921\"]], \"type\": \"heatmap\"}], \"heatmapgl\": [{\"colorbar\": {\"outlinewidth\": 0, \"ticks\": \"\"}, \"colorscale\": [[0.0, \"#0d0887\"], [0.1111111111111111, \"#46039f\"], [0.2222222222222222, \"#7201a8\"], [0.3333333333333333, \"#9c179e\"], [0.4444444444444444, \"#bd3786\"], [0.5555555555555556, \"#d8576b\"], [0.6666666666666666, \"#ed7953\"], [0.7777777777777778, \"#fb9f3a\"], [0.8888888888888888, \"#fdca26\"], [1.0, \"#f0f921\"]], \"type\": \"heatmapgl\"}], \"histogram\": [{\"marker\": {\"colorbar\": {\"outlinewidth\": 0, \"ticks\": \"\"}}, \"type\": \"histogram\"}], \"histogram2d\": [{\"colorbar\": {\"outlinewidth\": 0, \"ticks\": \"\"}, \"colorscale\": [[0.0, \"#0d0887\"], [0.1111111111111111, \"#46039f\"], [0.2222222222222222, \"#7201a8\"], [0.3333333333333333, \"#9c179e\"], [0.4444444444444444, \"#bd3786\"], [0.5555555555555556, \"#d8576b\"], [0.6666666666666666, \"#ed7953\"], [0.7777777777777778, \"#fb9f3a\"], [0.8888888888888888, \"#fdca26\"], [1.0, \"#f0f921\"]], \"type\": \"histogram2d\"}], \"histogram2dcontour\": [{\"colorbar\": {\"outlinewidth\": 0, \"ticks\": \"\"}, \"colorscale\": [[0.0, \"#0d0887\"], [0.1111111111111111, \"#46039f\"], [0.2222222222222222, \"#7201a8\"], [0.3333333333333333, \"#9c179e\"], [0.4444444444444444, \"#bd3786\"], [0.5555555555555556, \"#d8576b\"], [0.6666666666666666, \"#ed7953\"], [0.7777777777777778, \"#fb9f3a\"], [0.8888888888888888, \"#fdca26\"], [1.0, \"#f0f921\"]], \"type\": \"histogram2dcontour\"}], \"mesh3d\": [{\"colorbar\": {\"outlinewidth\": 0, \"ticks\": \"\"}, \"type\": \"mesh3d\"}], \"parcoords\": [{\"line\": {\"colorbar\": {\"outlinewidth\": 0, \"ticks\": \"\"}}, \"type\": \"parcoords\"}], \"scatter\": [{\"marker\": {\"colorbar\": {\"outlinewidth\": 0, \"ticks\": \"\"}}, \"type\": \"scatter\"}], \"scatter3d\": [{\"line\": {\"colorbar\": {\"outlinewidth\": 0, \"ticks\": \"\"}}, \"marker\": {\"colorbar\": {\"outlinewidth\": 0, \"ticks\": \"\"}}, \"type\": \"scatter3d\"}], \"scattercarpet\": [{\"marker\": {\"colorbar\": {\"outlinewidth\": 0, \"ticks\": \"\"}}, \"type\": \"scattercarpet\"}], \"scattergeo\": [{\"marker\": {\"colorbar\": {\"outlinewidth\": 0, \"ticks\": \"\"}}, \"type\": \"scattergeo\"}], \"scattergl\": [{\"marker\": {\"colorbar\": {\"outlinewidth\": 0, \"ticks\": \"\"}}, \"type\": \"scattergl\"}], \"scattermapbox\": [{\"marker\": {\"colorbar\": {\"outlinewidth\": 0, \"ticks\": \"\"}}, \"type\": \"scattermapbox\"}], \"scatterpolar\": [{\"marker\": {\"colorbar\": {\"outlinewidth\": 0, \"ticks\": \"\"}}, \"type\": \"scatterpolar\"}], \"scatterpolargl\": [{\"marker\": {\"colorbar\": {\"outlinewidth\": 0, \"ticks\": \"\"}}, \"type\": \"scatterpolargl\"}], \"scatterternary\": [{\"marker\": {\"colorbar\": {\"outlinewidth\": 0, \"ticks\": \"\"}}, \"type\": \"scatterternary\"}], \"surface\": [{\"colorbar\": {\"outlinewidth\": 0, \"ticks\": \"\"}, \"colorscale\": [[0.0, \"#0d0887\"], [0.1111111111111111, \"#46039f\"], [0.2222222222222222, \"#7201a8\"], [0.3333333333333333, \"#9c179e\"], [0.4444444444444444, \"#bd3786\"], [0.5555555555555556, \"#d8576b\"], [0.6666666666666666, \"#ed7953\"], [0.7777777777777778, \"#fb9f3a\"], [0.8888888888888888, \"#fdca26\"], [1.0, \"#f0f921\"]], \"type\": \"surface\"}], \"table\": [{\"cells\": {\"fill\": {\"color\": \"#EBF0F8\"}, \"line\": {\"color\": \"white\"}}, \"header\": {\"fill\": {\"color\": \"#C8D4E3\"}, \"line\": {\"color\": \"white\"}}, \"type\": \"table\"}]}, \"layout\": {\"annotationdefaults\": {\"arrowcolor\": \"#2a3f5f\", \"arrowhead\": 0, \"arrowwidth\": 1}, \"colorscale\": {\"diverging\": [[0, \"#8e0152\"], [0.1, \"#c51b7d\"], [0.2, \"#de77ae\"], [0.3, \"#f1b6da\"], [0.4, \"#fde0ef\"], [0.5, \"#f7f7f7\"], [0.6, \"#e6f5d0\"], [0.7, \"#b8e186\"], [0.8, \"#7fbc41\"], [0.9, \"#4d9221\"], [1, \"#276419\"]], \"sequential\": [[0.0, \"#0d0887\"], [0.1111111111111111, \"#46039f\"], [0.2222222222222222, \"#7201a8\"], [0.3333333333333333, \"#9c179e\"], [0.4444444444444444, \"#bd3786\"], [0.5555555555555556, \"#d8576b\"], [0.6666666666666666, \"#ed7953\"], [0.7777777777777778, \"#fb9f3a\"], [0.8888888888888888, \"#fdca26\"], [1.0, \"#f0f921\"]], \"sequentialminus\": [[0.0, \"#0d0887\"], [0.1111111111111111, \"#46039f\"], [0.2222222222222222, \"#7201a8\"], [0.3333333333333333, \"#9c179e\"], [0.4444444444444444, \"#bd3786\"], [0.5555555555555556, \"#d8576b\"], [0.6666666666666666, \"#ed7953\"], [0.7777777777777778, \"#fb9f3a\"], [0.8888888888888888, \"#fdca26\"], [1.0, \"#f0f921\"]]}, \"colorway\": [\"#636efa\", \"#EF553B\", \"#00cc96\", \"#ab63fa\", \"#FFA15A\", \"#19d3f3\", \"#FF6692\", \"#B6E880\", \"#FF97FF\", \"#FECB52\"], \"font\": {\"color\": \"#2a3f5f\"}, \"geo\": {\"bgcolor\": \"white\", \"lakecolor\": \"white\", \"landcolor\": \"#E5ECF6\", \"showlakes\": true, \"showland\": true, \"subunitcolor\": \"white\"}, \"hoverlabel\": {\"align\": \"left\"}, \"hovermode\": \"closest\", \"mapbox\": {\"style\": \"light\"}, \"paper_bgcolor\": \"white\", \"plot_bgcolor\": \"#E5ECF6\", \"polar\": {\"angularaxis\": {\"gridcolor\": \"white\", \"linecolor\": \"white\", \"ticks\": \"\"}, \"bgcolor\": \"#E5ECF6\", \"radialaxis\": {\"gridcolor\": \"white\", \"linecolor\": \"white\", \"ticks\": \"\"}}, \"scene\": {\"xaxis\": {\"backgroundcolor\": \"#E5ECF6\", \"gridcolor\": \"white\", \"gridwidth\": 2, \"linecolor\": \"white\", \"showbackground\": true, \"ticks\": \"\", \"zerolinecolor\": \"white\"}, \"yaxis\": {\"backgroundcolor\": \"#E5ECF6\", \"gridcolor\": \"white\", \"gridwidth\": 2, \"linecolor\": \"white\", \"showbackground\": true, \"ticks\": \"\", \"zerolinecolor\": \"white\"}, \"zaxis\": {\"backgroundcolor\": \"#E5ECF6\", \"gridcolor\": \"white\", \"gridwidth\": 2, \"linecolor\": \"white\", \"showbackground\": true, \"ticks\": \"\", \"zerolinecolor\": \"white\"}}, \"shapedefaults\": {\"line\": {\"color\": \"#2a3f5f\"}}, \"ternary\": {\"aaxis\": {\"gridcolor\": \"white\", \"linecolor\": \"white\", \"ticks\": \"\"}, \"baxis\": {\"gridcolor\": \"white\", \"linecolor\": \"white\", \"ticks\": \"\"}, \"bgcolor\": \"#E5ECF6\", \"caxis\": {\"gridcolor\": \"white\", \"linecolor\": \"white\", \"ticks\": \"\"}}, \"title\": {\"x\": 0.05}, \"xaxis\": {\"automargin\": true, \"gridcolor\": \"white\", \"linecolor\": \"white\", \"ticks\": \"\", \"zerolinecolor\": \"white\", \"zerolinewidth\": 2}, \"yaxis\": {\"automargin\": true, \"gridcolor\": \"white\", \"linecolor\": \"white\", \"ticks\": \"\", \"zerolinecolor\": \"white\", \"zerolinewidth\": 2}}}, \"xaxis\": {\"anchor\": \"y\", \"domain\": [0.0, 0.98]}, \"yaxis\": {\"anchor\": \"x\", \"domain\": [0.0, 1.0], \"title\": {\"text\": \"total_support\"}}},\n",
       "                        {\"responsive\": true}\n",
       "                    ).then(function(){\n",
       "                            \n",
       "var gd = document.getElementById('464b4033-5198-46fe-8f55-45789ef5819f');\n",
       "var x = new MutationObserver(function (mutations, observer) {{\n",
       "        var display = window.getComputedStyle(gd).display;\n",
       "        if (!display || display === 'none') {{\n",
       "            console.log([gd, 'removed!']);\n",
       "            Plotly.purge(gd);\n",
       "            observer.disconnect();\n",
       "        }}\n",
       "}});\n",
       "\n",
       "// Listen for the removal of the full notebook cells\n",
       "var notebookContainer = gd.closest('#notebook-container');\n",
       "if (notebookContainer) {{\n",
       "    x.observe(notebookContainer, {childList: true});\n",
       "}}\n",
       "\n",
       "// Listen for the clearing of the current output cell\n",
       "var outputEl = gd.closest('.output');\n",
       "if (outputEl) {{\n",
       "    x.observe(outputEl, {childList: true});\n",
       "}}\n",
       "\n",
       "                        })\n",
       "                };\n",
       "                });\n",
       "            </script>\n",
       "        </div>"
      ]
     },
     "metadata": {},
     "output_type": "display_data"
    }
   ],
   "source": [
    "fig = px.box(sponsored_movies, y='total_support')\n",
    "fig.show()"
   ]
  },
  {
   "cell_type": "code",
   "execution_count": 225,
   "metadata": {
    "scrolled": true
   },
   "outputs": [
    {
     "data": {
      "text/html": [
       "<div>\n",
       "<style scoped>\n",
       "    .dataframe tbody tr th:only-of-type {\n",
       "        vertical-align: middle;\n",
       "    }\n",
       "\n",
       "    .dataframe tbody tr th {\n",
       "        vertical-align: top;\n",
       "    }\n",
       "\n",
       "    .dataframe thead th {\n",
       "        text-align: right;\n",
       "    }\n",
       "</style>\n",
       "<table border=\"1\" class=\"dataframe\">\n",
       "  <thead>\n",
       "    <tr style=\"text-align: right;\">\n",
       "      <th></th>\n",
       "      <th>title</th>\n",
       "      <th>total_support</th>\n",
       "      <th>ratings</th>\n",
       "    </tr>\n",
       "  </thead>\n",
       "  <tbody>\n",
       "    <tr>\n",
       "      <td>6144</td>\n",
       "      <td>Семь пар нечистых</td>\n",
       "      <td>119.000000</td>\n",
       "      <td>5.9</td>\n",
       "    </tr>\n",
       "    <tr>\n",
       "      <td>6320</td>\n",
       "      <td>СУПЕРБОБРОВЫ. НАРОДНЫЕ МСТИТЕЛИ</td>\n",
       "      <td>120.000000</td>\n",
       "      <td>4.9</td>\n",
       "    </tr>\n",
       "    <tr>\n",
       "      <td>7254</td>\n",
       "      <td>Герой</td>\n",
       "      <td>120.000000</td>\n",
       "      <td>7.9</td>\n",
       "    </tr>\n",
       "    <tr>\n",
       "      <td>6564</td>\n",
       "      <td>Снежная Королева: Зазеркалье</td>\n",
       "      <td>120.000000</td>\n",
       "      <td>6.4</td>\n",
       "    </tr>\n",
       "    <tr>\n",
       "      <td>6598</td>\n",
       "      <td>Волки и Овцы: Ход Свиньей</td>\n",
       "      <td>120.000000</td>\n",
       "      <td>5.8</td>\n",
       "    </tr>\n",
       "    <tr>\n",
       "      <td>7453</td>\n",
       "      <td>Фиксики против кработов</td>\n",
       "      <td>120.000000</td>\n",
       "      <td>7.5</td>\n",
       "    </tr>\n",
       "    <tr>\n",
       "      <td>3686</td>\n",
       "      <td>Молот</td>\n",
       "      <td>130.000000</td>\n",
       "      <td>5.8</td>\n",
       "    </tr>\n",
       "    <tr>\n",
       "      <td>6699</td>\n",
       "      <td>Тобол</td>\n",
       "      <td>130.000000</td>\n",
       "      <td>5.8</td>\n",
       "    </tr>\n",
       "    <tr>\n",
       "      <td>6846</td>\n",
       "      <td>Братство</td>\n",
       "      <td>130.000000</td>\n",
       "      <td>6.6</td>\n",
       "    </tr>\n",
       "    <tr>\n",
       "      <td>6323</td>\n",
       "      <td>Баба Яга</td>\n",
       "      <td>138.969465</td>\n",
       "      <td>NaN</td>\n",
       "    </tr>\n",
       "    <tr>\n",
       "      <td>6855</td>\n",
       "      <td>Миллиард</td>\n",
       "      <td>140.000000</td>\n",
       "      <td>8.2</td>\n",
       "    </tr>\n",
       "    <tr>\n",
       "      <td>5869</td>\n",
       "      <td>Черновик</td>\n",
       "      <td>140.000000</td>\n",
       "      <td>4.9</td>\n",
       "    </tr>\n",
       "    <tr>\n",
       "      <td>3164</td>\n",
       "      <td>Герой (2015)</td>\n",
       "      <td>140.000000</td>\n",
       "      <td>7.1</td>\n",
       "    </tr>\n",
       "    <tr>\n",
       "      <td>2574</td>\n",
       "      <td>Смешарики. Легенда о золотом драконе</td>\n",
       "      <td>150.000000</td>\n",
       "      <td>6.3</td>\n",
       "    </tr>\n",
       "    <tr>\n",
       "      <td>1870</td>\n",
       "      <td>А зори здесь тихие..._</td>\n",
       "      <td>150.000000</td>\n",
       "      <td>8.5</td>\n",
       "    </tr>\n",
       "    <tr>\n",
       "      <td>3610</td>\n",
       "      <td>Ёлки 5</td>\n",
       "      <td>150.000000</td>\n",
       "      <td>4.8</td>\n",
       "    </tr>\n",
       "    <tr>\n",
       "      <td>3247</td>\n",
       "      <td>Дама Пик</td>\n",
       "      <td>150.000000</td>\n",
       "      <td>6.0</td>\n",
       "    </tr>\n",
       "    <tr>\n",
       "      <td>2615</td>\n",
       "      <td>Савва. Сердце воина</td>\n",
       "      <td>160.000000</td>\n",
       "      <td>4.6</td>\n",
       "    </tr>\n",
       "    <tr>\n",
       "      <td>3558</td>\n",
       "      <td>СНЕЖНАЯ КОРОЛЕВА 3. ОГОНЬ И ЛЁД</td>\n",
       "      <td>160.000000</td>\n",
       "      <td>6.1</td>\n",
       "    </tr>\n",
       "    <tr>\n",
       "      <td>6549</td>\n",
       "      <td>Т-34</td>\n",
       "      <td>180.000000</td>\n",
       "      <td>6.5</td>\n",
       "    </tr>\n",
       "    <tr>\n",
       "      <td>6823</td>\n",
       "      <td>Большое путешествие</td>\n",
       "      <td>180.000000</td>\n",
       "      <td>6.2</td>\n",
       "    </tr>\n",
       "    <tr>\n",
       "      <td>5690</td>\n",
       "      <td>Рубеж</td>\n",
       "      <td>200.000000</td>\n",
       "      <td>6.2</td>\n",
       "    </tr>\n",
       "    <tr>\n",
       "      <td>3462</td>\n",
       "      <td>Защитники</td>\n",
       "      <td>200.000000</td>\n",
       "      <td>3.0</td>\n",
       "    </tr>\n",
       "    <tr>\n",
       "      <td>7290</td>\n",
       "      <td>Урфин Джюс возвращается</td>\n",
       "      <td>200.000000</td>\n",
       "      <td>6.2</td>\n",
       "    </tr>\n",
       "    <tr>\n",
       "      <td>3627</td>\n",
       "      <td>БОЛЬШОЙ</td>\n",
       "      <td>210.000000</td>\n",
       "      <td>8.5</td>\n",
       "    </tr>\n",
       "    <tr>\n",
       "      <td>5502</td>\n",
       "      <td>Салют-7</td>\n",
       "      <td>225.000000</td>\n",
       "      <td>7.4</td>\n",
       "    </tr>\n",
       "    <tr>\n",
       "      <td>3565</td>\n",
       "      <td>Притяжение (2016)</td>\n",
       "      <td>250.000000</td>\n",
       "      <td>5.6</td>\n",
       "    </tr>\n",
       "    <tr>\n",
       "      <td>3255</td>\n",
       "      <td>Время первых (2017)</td>\n",
       "      <td>250.000000</td>\n",
       "      <td>7.5</td>\n",
       "    </tr>\n",
       "    <tr>\n",
       "      <td>2699</td>\n",
       "      <td>Он - Дракон</td>\n",
       "      <td>250.000000</td>\n",
       "      <td>6.8</td>\n",
       "    </tr>\n",
       "    <tr>\n",
       "      <td>5826</td>\n",
       "      <td>Тренер</td>\n",
       "      <td>260.000000</td>\n",
       "      <td>6.8</td>\n",
       "    </tr>\n",
       "    <tr>\n",
       "      <td>7114</td>\n",
       "      <td>Тайна Печати Дракона</td>\n",
       "      <td>270.000000</td>\n",
       "      <td>5.8</td>\n",
       "    </tr>\n",
       "    <tr>\n",
       "      <td>6887</td>\n",
       "      <td>Девятая</td>\n",
       "      <td>300.000000</td>\n",
       "      <td>5.8</td>\n",
       "    </tr>\n",
       "    <tr>\n",
       "      <td>5437</td>\n",
       "      <td>Матильда</td>\n",
       "      <td>300.000000</td>\n",
       "      <td>7.7</td>\n",
       "    </tr>\n",
       "    <tr>\n",
       "      <td>3453</td>\n",
       "      <td>Ледокол</td>\n",
       "      <td>300.000000</td>\n",
       "      <td>6.5</td>\n",
       "    </tr>\n",
       "    <tr>\n",
       "      <td>5569</td>\n",
       "      <td>Легенда о Коловрате</td>\n",
       "      <td>350.000000</td>\n",
       "      <td>6.4</td>\n",
       "    </tr>\n",
       "    <tr>\n",
       "      <td>5653</td>\n",
       "      <td>Движение вверх</td>\n",
       "      <td>400.000000</td>\n",
       "      <td>7.5</td>\n",
       "    </tr>\n",
       "    <tr>\n",
       "      <td>2920</td>\n",
       "      <td>Экипаж .</td>\n",
       "      <td>442.104482</td>\n",
       "      <td>7.6</td>\n",
       "    </tr>\n",
       "    <tr>\n",
       "      <td>3351</td>\n",
       "      <td>Дуэлянт</td>\n",
       "      <td>450.000000</td>\n",
       "      <td>6.6</td>\n",
       "    </tr>\n",
       "    <tr>\n",
       "      <td>7464</td>\n",
       "      <td>Союз спасения</td>\n",
       "      <td>500.000000</td>\n",
       "      <td>6.0</td>\n",
       "    </tr>\n",
       "    <tr>\n",
       "      <td>7474</td>\n",
       "      <td>Вторжение</td>\n",
       "      <td>500.000000</td>\n",
       "      <td>5.7</td>\n",
       "    </tr>\n",
       "  </tbody>\n",
       "</table>\n",
       "</div>"
      ],
      "text/plain": [
       "                                     title  total_support  ratings\n",
       "6144                     Семь пар нечистых     119.000000      5.9\n",
       "6320       СУПЕРБОБРОВЫ. НАРОДНЫЕ МСТИТЕЛИ     120.000000      4.9\n",
       "7254                                 Герой     120.000000      7.9\n",
       "6564          Снежная Королева: Зазеркалье     120.000000      6.4\n",
       "6598             Волки и Овцы: Ход Свиньей     120.000000      5.8\n",
       "7453               Фиксики против кработов     120.000000      7.5\n",
       "3686                                 Молот     130.000000      5.8\n",
       "6699                                 Тобол     130.000000      5.8\n",
       "6846                              Братство     130.000000      6.6\n",
       "6323                              Баба Яга     138.969465      NaN\n",
       "6855                              Миллиард     140.000000      8.2\n",
       "5869                              Черновик     140.000000      4.9\n",
       "3164                          Герой (2015)     140.000000      7.1\n",
       "2574  Смешарики. Легенда о золотом драконе     150.000000      6.3\n",
       "1870                А зори здесь тихие..._     150.000000      8.5\n",
       "3610                                Ёлки 5     150.000000      4.8\n",
       "3247                              Дама Пик     150.000000      6.0\n",
       "2615                   Савва. Сердце воина     160.000000      4.6\n",
       "3558       СНЕЖНАЯ КОРОЛЕВА 3. ОГОНЬ И ЛЁД     160.000000      6.1\n",
       "6549                                  Т-34     180.000000      6.5\n",
       "6823                   Большое путешествие     180.000000      6.2\n",
       "5690                                 Рубеж     200.000000      6.2\n",
       "3462                             Защитники     200.000000      3.0\n",
       "7290               Урфин Джюс возвращается     200.000000      6.2\n",
       "3627                               БОЛЬШОЙ     210.000000      8.5\n",
       "5502                               Салют-7     225.000000      7.4\n",
       "3565                     Притяжение (2016)     250.000000      5.6\n",
       "3255                   Время первых (2017)     250.000000      7.5\n",
       "2699                           Он - Дракон     250.000000      6.8\n",
       "5826                                Тренер     260.000000      6.8\n",
       "7114                  Тайна Печати Дракона     270.000000      5.8\n",
       "6887                               Девятая     300.000000      5.8\n",
       "5437                              Матильда     300.000000      7.7\n",
       "3453                               Ледокол     300.000000      6.5\n",
       "5569                   Легенда о Коловрате     350.000000      6.4\n",
       "5653                        Движение вверх     400.000000      7.5\n",
       "2920                              Экипаж .     442.104482      7.6\n",
       "3351                               Дуэлянт     450.000000      6.6\n",
       "7464                         Союз спасения     500.000000      6.0\n",
       "7474                             Вторжение     500.000000      5.7"
      ]
     },
     "execution_count": 225,
     "metadata": {},
     "output_type": "execute_result"
    }
   ],
   "source": [
    "sponsored_movies.loc[sponsored_movies['total_support']>115][['title', 'total_support', 'ratings']].sort_values(by='total_support')"
   ]
  },
  {
   "cell_type": "markdown",
   "metadata": {},
   "source": [
    "Интересно отметить, что фильмы, получившие наибольшую поддержку, имеют не самые лучшие рейтинги, тогда как фильмы с рейтингом выше 8 находятся ближе к началу списка."
   ]
  },
  {
   "cell_type": "markdown",
   "metadata": {},
   "source": [
    "Также можно рассмотреть зависимость сборов от гос.поддержки по годам."
   ]
  },
  {
   "cell_type": "code",
   "execution_count": 226,
   "metadata": {
    "scrolled": true
   },
   "outputs": [
    {
     "data": {
      "text/html": [
       "<div>\n",
       "<style scoped>\n",
       "    .dataframe tbody tr th:only-of-type {\n",
       "        vertical-align: middle;\n",
       "    }\n",
       "\n",
       "    .dataframe tbody tr th {\n",
       "        vertical-align: top;\n",
       "    }\n",
       "\n",
       "    .dataframe thead th {\n",
       "        text-align: right;\n",
       "    }\n",
       "</style>\n",
       "<table border=\"1\" class=\"dataframe\">\n",
       "  <thead>\n",
       "    <tr style=\"text-align: right;\">\n",
       "      <th></th>\n",
       "      <th>box_office</th>\n",
       "      <th>total_support</th>\n",
       "    </tr>\n",
       "    <tr>\n",
       "      <th>year</th>\n",
       "      <th></th>\n",
       "      <th></th>\n",
       "    </tr>\n",
       "  </thead>\n",
       "  <tbody>\n",
       "    <tr>\n",
       "      <td>2013</td>\n",
       "      <td>20.322385</td>\n",
       "      <td>134.347945</td>\n",
       "    </tr>\n",
       "    <tr>\n",
       "      <td>2014</td>\n",
       "      <td>1017.422167</td>\n",
       "      <td>572.002299</td>\n",
       "    </tr>\n",
       "    <tr>\n",
       "      <td>2015</td>\n",
       "      <td>5785.285418</td>\n",
       "      <td>3656.241459</td>\n",
       "    </tr>\n",
       "    <tr>\n",
       "      <td>2016</td>\n",
       "      <td>6081.707839</td>\n",
       "      <td>4303.155482</td>\n",
       "    </tr>\n",
       "    <tr>\n",
       "      <td>2017</td>\n",
       "      <td>10865.075301</td>\n",
       "      <td>3183.971662</td>\n",
       "    </tr>\n",
       "    <tr>\n",
       "      <td>2018</td>\n",
       "      <td>9934.069010</td>\n",
       "      <td>3446.969465</td>\n",
       "    </tr>\n",
       "    <tr>\n",
       "      <td>2019</td>\n",
       "      <td>8409.627455</td>\n",
       "      <td>4904.000000</td>\n",
       "    </tr>\n",
       "  </tbody>\n",
       "</table>\n",
       "</div>"
      ],
      "text/plain": [
       "        box_office  total_support\n",
       "year                             \n",
       "2013     20.322385     134.347945\n",
       "2014   1017.422167     572.002299\n",
       "2015   5785.285418    3656.241459\n",
       "2016   6081.707839    4303.155482\n",
       "2017  10865.075301    3183.971662\n",
       "2018   9934.069010    3446.969465\n",
       "2019   8409.627455    4904.000000"
      ]
     },
     "execution_count": 226,
     "metadata": {},
     "output_type": "execute_result"
    }
   ],
   "source": [
    "sponsored_movies_df = sponsored_movies.pivot_table(index='year', values=['total_support', 'box_office'], aggfunc='sum')\n",
    "sponsored_movies_df"
   ]
  },
  {
   "cell_type": "code",
   "execution_count": 227,
   "metadata": {},
   "outputs": [
    {
     "data": {
      "text/plain": [
       "0.7931952995975353"
      ]
     },
     "execution_count": 227,
     "metadata": {},
     "output_type": "execute_result"
    }
   ],
   "source": [
    "sponsored_movies_df['total_support'].corr(sponsored_movies_df['box_office'])"
   ]
  },
  {
   "cell_type": "code",
   "execution_count": 74,
   "metadata": {},
   "outputs": [
    {
     "data": {
      "application/vnd.plotly.v1+json": {
       "config": {
        "linkText": "Export to plot.ly",
        "plotlyServerURL": "https://plot.ly",
        "showLink": false
       },
       "data": [
        {
         "name": "box_office",
         "type": "scatter",
         "x": [
          2013,
          2014,
          2015,
          2016,
          2017,
          2018,
          2019
         ],
         "y": [
          20.3223851,
          1017.4221666,
          5785.28541814,
          6081.7078391,
          10865.07530096,
          9934.06901025,
          8409.62745463
         ]
        },
        {
         "name": "total_support",
         "type": "scatter",
         "x": [
          2013,
          2014,
          2015,
          2016,
          2017,
          2018,
          2019
         ],
         "y": [
          134.347945,
          572.002299,
          3656.241459,
          4303.155482,
          3183.971662,
          3446.969465,
          4904
         ]
        }
       ],
       "layout": {
        "template": {
         "data": {
          "bar": [
           {
            "error_x": {
             "color": "#2a3f5f"
            },
            "error_y": {
             "color": "#2a3f5f"
            },
            "marker": {
             "line": {
              "color": "#E5ECF6",
              "width": 0.5
             }
            },
            "type": "bar"
           }
          ],
          "barpolar": [
           {
            "marker": {
             "line": {
              "color": "#E5ECF6",
              "width": 0.5
             }
            },
            "type": "barpolar"
           }
          ],
          "carpet": [
           {
            "aaxis": {
             "endlinecolor": "#2a3f5f",
             "gridcolor": "white",
             "linecolor": "white",
             "minorgridcolor": "white",
             "startlinecolor": "#2a3f5f"
            },
            "baxis": {
             "endlinecolor": "#2a3f5f",
             "gridcolor": "white",
             "linecolor": "white",
             "minorgridcolor": "white",
             "startlinecolor": "#2a3f5f"
            },
            "type": "carpet"
           }
          ],
          "choropleth": [
           {
            "colorbar": {
             "outlinewidth": 0,
             "ticks": ""
            },
            "type": "choropleth"
           }
          ],
          "contour": [
           {
            "colorbar": {
             "outlinewidth": 0,
             "ticks": ""
            },
            "colorscale": [
             [
              0,
              "#0d0887"
             ],
             [
              0.1111111111,
              "#46039f"
             ],
             [
              0.2222222222,
              "#7201a8"
             ],
             [
              0.3333333333,
              "#9c179e"
             ],
             [
              0.4444444444,
              "#bd3786"
             ],
             [
              0.5555555556,
              "#d8576b"
             ],
             [
              0.6666666667,
              "#ed7953"
             ],
             [
              0.7777777778,
              "#fb9f3a"
             ],
             [
              0.8888888889,
              "#fdca26"
             ],
             [
              1,
              "#f0f921"
             ]
            ],
            "type": "contour"
           }
          ],
          "contourcarpet": [
           {
            "colorbar": {
             "outlinewidth": 0,
             "ticks": ""
            },
            "type": "contourcarpet"
           }
          ],
          "heatmap": [
           {
            "colorbar": {
             "outlinewidth": 0,
             "ticks": ""
            },
            "colorscale": [
             [
              0,
              "#0d0887"
             ],
             [
              0.1111111111,
              "#46039f"
             ],
             [
              0.2222222222,
              "#7201a8"
             ],
             [
              0.3333333333,
              "#9c179e"
             ],
             [
              0.4444444444,
              "#bd3786"
             ],
             [
              0.5555555556,
              "#d8576b"
             ],
             [
              0.6666666667,
              "#ed7953"
             ],
             [
              0.7777777778,
              "#fb9f3a"
             ],
             [
              0.8888888889,
              "#fdca26"
             ],
             [
              1,
              "#f0f921"
             ]
            ],
            "type": "heatmap"
           }
          ],
          "heatmapgl": [
           {
            "colorbar": {
             "outlinewidth": 0,
             "ticks": ""
            },
            "colorscale": [
             [
              0,
              "#0d0887"
             ],
             [
              0.1111111111,
              "#46039f"
             ],
             [
              0.2222222222,
              "#7201a8"
             ],
             [
              0.3333333333,
              "#9c179e"
             ],
             [
              0.4444444444,
              "#bd3786"
             ],
             [
              0.5555555556,
              "#d8576b"
             ],
             [
              0.6666666667,
              "#ed7953"
             ],
             [
              0.7777777778,
              "#fb9f3a"
             ],
             [
              0.8888888889,
              "#fdca26"
             ],
             [
              1,
              "#f0f921"
             ]
            ],
            "type": "heatmapgl"
           }
          ],
          "histogram": [
           {
            "marker": {
             "colorbar": {
              "outlinewidth": 0,
              "ticks": ""
             }
            },
            "type": "histogram"
           }
          ],
          "histogram2d": [
           {
            "colorbar": {
             "outlinewidth": 0,
             "ticks": ""
            },
            "colorscale": [
             [
              0,
              "#0d0887"
             ],
             [
              0.1111111111,
              "#46039f"
             ],
             [
              0.2222222222,
              "#7201a8"
             ],
             [
              0.3333333333,
              "#9c179e"
             ],
             [
              0.4444444444,
              "#bd3786"
             ],
             [
              0.5555555556,
              "#d8576b"
             ],
             [
              0.6666666667,
              "#ed7953"
             ],
             [
              0.7777777778,
              "#fb9f3a"
             ],
             [
              0.8888888889,
              "#fdca26"
             ],
             [
              1,
              "#f0f921"
             ]
            ],
            "type": "histogram2d"
           }
          ],
          "histogram2dcontour": [
           {
            "colorbar": {
             "outlinewidth": 0,
             "ticks": ""
            },
            "colorscale": [
             [
              0,
              "#0d0887"
             ],
             [
              0.1111111111,
              "#46039f"
             ],
             [
              0.2222222222,
              "#7201a8"
             ],
             [
              0.3333333333,
              "#9c179e"
             ],
             [
              0.4444444444,
              "#bd3786"
             ],
             [
              0.5555555556,
              "#d8576b"
             ],
             [
              0.6666666667,
              "#ed7953"
             ],
             [
              0.7777777778,
              "#fb9f3a"
             ],
             [
              0.8888888889,
              "#fdca26"
             ],
             [
              1,
              "#f0f921"
             ]
            ],
            "type": "histogram2dcontour"
           }
          ],
          "mesh3d": [
           {
            "colorbar": {
             "outlinewidth": 0,
             "ticks": ""
            },
            "type": "mesh3d"
           }
          ],
          "parcoords": [
           {
            "line": {
             "colorbar": {
              "outlinewidth": 0,
              "ticks": ""
             }
            },
            "type": "parcoords"
           }
          ],
          "scatter": [
           {
            "marker": {
             "colorbar": {
              "outlinewidth": 0,
              "ticks": ""
             }
            },
            "type": "scatter"
           }
          ],
          "scatter3d": [
           {
            "line": {
             "colorbar": {
              "outlinewidth": 0,
              "ticks": ""
             }
            },
            "marker": {
             "colorbar": {
              "outlinewidth": 0,
              "ticks": ""
             }
            },
            "type": "scatter3d"
           }
          ],
          "scattercarpet": [
           {
            "marker": {
             "colorbar": {
              "outlinewidth": 0,
              "ticks": ""
             }
            },
            "type": "scattercarpet"
           }
          ],
          "scattergeo": [
           {
            "marker": {
             "colorbar": {
              "outlinewidth": 0,
              "ticks": ""
             }
            },
            "type": "scattergeo"
           }
          ],
          "scattergl": [
           {
            "marker": {
             "colorbar": {
              "outlinewidth": 0,
              "ticks": ""
             }
            },
            "type": "scattergl"
           }
          ],
          "scattermapbox": [
           {
            "marker": {
             "colorbar": {
              "outlinewidth": 0,
              "ticks": ""
             }
            },
            "type": "scattermapbox"
           }
          ],
          "scatterpolar": [
           {
            "marker": {
             "colorbar": {
              "outlinewidth": 0,
              "ticks": ""
             }
            },
            "type": "scatterpolar"
           }
          ],
          "scatterpolargl": [
           {
            "marker": {
             "colorbar": {
              "outlinewidth": 0,
              "ticks": ""
             }
            },
            "type": "scatterpolargl"
           }
          ],
          "scatterternary": [
           {
            "marker": {
             "colorbar": {
              "outlinewidth": 0,
              "ticks": ""
             }
            },
            "type": "scatterternary"
           }
          ],
          "surface": [
           {
            "colorbar": {
             "outlinewidth": 0,
             "ticks": ""
            },
            "colorscale": [
             [
              0,
              "#0d0887"
             ],
             [
              0.1111111111,
              "#46039f"
             ],
             [
              0.2222222222,
              "#7201a8"
             ],
             [
              0.3333333333,
              "#9c179e"
             ],
             [
              0.4444444444,
              "#bd3786"
             ],
             [
              0.5555555556,
              "#d8576b"
             ],
             [
              0.6666666667,
              "#ed7953"
             ],
             [
              0.7777777778,
              "#fb9f3a"
             ],
             [
              0.8888888889,
              "#fdca26"
             ],
             [
              1,
              "#f0f921"
             ]
            ],
            "type": "surface"
           }
          ],
          "table": [
           {
            "cells": {
             "fill": {
              "color": "#EBF0F8"
             },
             "line": {
              "color": "white"
             }
            },
            "header": {
             "fill": {
              "color": "#C8D4E3"
             },
             "line": {
              "color": "white"
             }
            },
            "type": "table"
           }
          ]
         },
         "layout": {
          "annotationdefaults": {
           "arrowcolor": "#2a3f5f",
           "arrowhead": 0,
           "arrowwidth": 1
          },
          "colorscale": {
           "diverging": [
            [
             0,
             "#8e0152"
            ],
            [
             0.1,
             "#c51b7d"
            ],
            [
             0.2,
             "#de77ae"
            ],
            [
             0.3,
             "#f1b6da"
            ],
            [
             0.4,
             "#fde0ef"
            ],
            [
             0.5,
             "#f7f7f7"
            ],
            [
             0.6,
             "#e6f5d0"
            ],
            [
             0.7,
             "#b8e186"
            ],
            [
             0.8,
             "#7fbc41"
            ],
            [
             0.9,
             "#4d9221"
            ],
            [
             1,
             "#276419"
            ]
           ],
           "sequential": [
            [
             0,
             "#0d0887"
            ],
            [
             0.1111111111,
             "#46039f"
            ],
            [
             0.2222222222,
             "#7201a8"
            ],
            [
             0.3333333333,
             "#9c179e"
            ],
            [
             0.4444444444,
             "#bd3786"
            ],
            [
             0.5555555556,
             "#d8576b"
            ],
            [
             0.6666666667,
             "#ed7953"
            ],
            [
             0.7777777778,
             "#fb9f3a"
            ],
            [
             0.8888888889,
             "#fdca26"
            ],
            [
             1,
             "#f0f921"
            ]
           ],
           "sequentialminus": [
            [
             0,
             "#0d0887"
            ],
            [
             0.1111111111,
             "#46039f"
            ],
            [
             0.2222222222,
             "#7201a8"
            ],
            [
             0.3333333333,
             "#9c179e"
            ],
            [
             0.4444444444,
             "#bd3786"
            ],
            [
             0.5555555556,
             "#d8576b"
            ],
            [
             0.6666666667,
             "#ed7953"
            ],
            [
             0.7777777778,
             "#fb9f3a"
            ],
            [
             0.8888888889,
             "#fdca26"
            ],
            [
             1,
             "#f0f921"
            ]
           ]
          },
          "colorway": [
           "#636efa",
           "#EF553B",
           "#00cc96",
           "#ab63fa",
           "#FFA15A",
           "#19d3f3",
           "#FF6692",
           "#B6E880",
           "#FF97FF",
           "#FECB52"
          ],
          "font": {
           "color": "#2a3f5f"
          },
          "geo": {
           "bgcolor": "white",
           "lakecolor": "white",
           "landcolor": "#E5ECF6",
           "showlakes": true,
           "showland": true,
           "subunitcolor": "white"
          },
          "hoverlabel": {
           "align": "left"
          },
          "hovermode": "closest",
          "mapbox": {
           "style": "light"
          },
          "paper_bgcolor": "white",
          "plot_bgcolor": "#E5ECF6",
          "polar": {
           "angularaxis": {
            "gridcolor": "white",
            "linecolor": "white",
            "ticks": ""
           },
           "bgcolor": "#E5ECF6",
           "radialaxis": {
            "gridcolor": "white",
            "linecolor": "white",
            "ticks": ""
           }
          },
          "scene": {
           "xaxis": {
            "backgroundcolor": "#E5ECF6",
            "gridcolor": "white",
            "gridwidth": 2,
            "linecolor": "white",
            "showbackground": true,
            "ticks": "",
            "zerolinecolor": "white"
           },
           "yaxis": {
            "backgroundcolor": "#E5ECF6",
            "gridcolor": "white",
            "gridwidth": 2,
            "linecolor": "white",
            "showbackground": true,
            "ticks": "",
            "zerolinecolor": "white"
           },
           "zaxis": {
            "backgroundcolor": "#E5ECF6",
            "gridcolor": "white",
            "gridwidth": 2,
            "linecolor": "white",
            "showbackground": true,
            "ticks": "",
            "zerolinecolor": "white"
           }
          },
          "shapedefaults": {
           "line": {
            "color": "#2a3f5f"
           }
          },
          "ternary": {
           "aaxis": {
            "gridcolor": "white",
            "linecolor": "white",
            "ticks": ""
           },
           "baxis": {
            "gridcolor": "white",
            "linecolor": "white",
            "ticks": ""
           },
           "bgcolor": "#E5ECF6",
           "caxis": {
            "gridcolor": "white",
            "linecolor": "white",
            "ticks": ""
           }
          },
          "title": {
           "x": 0.05
          },
          "xaxis": {
           "automargin": true,
           "gridcolor": "white",
           "linecolor": "white",
           "ticks": "",
           "zerolinecolor": "white",
           "zerolinewidth": 2
          },
          "yaxis": {
           "automargin": true,
           "gridcolor": "white",
           "linecolor": "white",
           "ticks": "",
           "zerolinecolor": "white",
           "zerolinewidth": 2
          }
         }
        },
        "title": {
         "text": "State support box office per year"
        }
       }
      },
      "text/html": [
       "<div>\n",
       "        \n",
       "        \n",
       "            <div id=\"298e8690-9cc9-4c70-8d55-f5e1831b5e38\" class=\"plotly-graph-div\" style=\"height:525px; width:100%;\"></div>\n",
       "            <script type=\"text/javascript\">\n",
       "                require([\"plotly\"], function(Plotly) {\n",
       "                    window.PLOTLYENV=window.PLOTLYENV || {};\n",
       "                    \n",
       "                if (document.getElementById(\"298e8690-9cc9-4c70-8d55-f5e1831b5e38\")) {\n",
       "                    Plotly.newPlot(\n",
       "                        '298e8690-9cc9-4c70-8d55-f5e1831b5e38',\n",
       "                        [{\"name\": \"box_office\", \"type\": \"scatter\", \"x\": [2013, 2014, 2015, 2016, 2017, 2018, 2019], \"y\": [20.322385099999998, 1017.4221666000001, 5785.285418140001, 6081.707839100001, 10865.075300960001, 9934.069010250001, 8409.627454630001]}, {\"name\": \"total_support\", \"type\": \"scatter\", \"x\": [2013, 2014, 2015, 2016, 2017, 2018, 2019], \"y\": [134.34794499999998, 572.002299, 3656.241459, 4303.155482, 3183.971662, 3446.969465, 4904.0]}],\n",
       "                        {\"template\": {\"data\": {\"bar\": [{\"error_x\": {\"color\": \"#2a3f5f\"}, \"error_y\": {\"color\": \"#2a3f5f\"}, \"marker\": {\"line\": {\"color\": \"#E5ECF6\", \"width\": 0.5}}, \"type\": \"bar\"}], \"barpolar\": [{\"marker\": {\"line\": {\"color\": \"#E5ECF6\", \"width\": 0.5}}, \"type\": \"barpolar\"}], \"carpet\": [{\"aaxis\": {\"endlinecolor\": \"#2a3f5f\", \"gridcolor\": \"white\", \"linecolor\": \"white\", \"minorgridcolor\": \"white\", \"startlinecolor\": \"#2a3f5f\"}, \"baxis\": {\"endlinecolor\": \"#2a3f5f\", \"gridcolor\": \"white\", \"linecolor\": \"white\", \"minorgridcolor\": \"white\", \"startlinecolor\": \"#2a3f5f\"}, \"type\": \"carpet\"}], \"choropleth\": [{\"colorbar\": {\"outlinewidth\": 0, \"ticks\": \"\"}, \"type\": \"choropleth\"}], \"contour\": [{\"colorbar\": {\"outlinewidth\": 0, \"ticks\": \"\"}, \"colorscale\": [[0.0, \"#0d0887\"], [0.1111111111111111, \"#46039f\"], [0.2222222222222222, \"#7201a8\"], [0.3333333333333333, \"#9c179e\"], [0.4444444444444444, \"#bd3786\"], [0.5555555555555556, \"#d8576b\"], [0.6666666666666666, \"#ed7953\"], [0.7777777777777778, \"#fb9f3a\"], [0.8888888888888888, \"#fdca26\"], [1.0, \"#f0f921\"]], \"type\": \"contour\"}], \"contourcarpet\": [{\"colorbar\": {\"outlinewidth\": 0, \"ticks\": \"\"}, \"type\": \"contourcarpet\"}], \"heatmap\": [{\"colorbar\": {\"outlinewidth\": 0, \"ticks\": \"\"}, \"colorscale\": [[0.0, \"#0d0887\"], [0.1111111111111111, \"#46039f\"], [0.2222222222222222, \"#7201a8\"], [0.3333333333333333, \"#9c179e\"], [0.4444444444444444, \"#bd3786\"], [0.5555555555555556, \"#d8576b\"], [0.6666666666666666, \"#ed7953\"], [0.7777777777777778, \"#fb9f3a\"], [0.8888888888888888, \"#fdca26\"], [1.0, \"#f0f921\"]], \"type\": \"heatmap\"}], \"heatmapgl\": [{\"colorbar\": {\"outlinewidth\": 0, \"ticks\": \"\"}, \"colorscale\": [[0.0, \"#0d0887\"], [0.1111111111111111, \"#46039f\"], [0.2222222222222222, \"#7201a8\"], [0.3333333333333333, \"#9c179e\"], [0.4444444444444444, \"#bd3786\"], [0.5555555555555556, \"#d8576b\"], [0.6666666666666666, \"#ed7953\"], [0.7777777777777778, \"#fb9f3a\"], [0.8888888888888888, \"#fdca26\"], [1.0, \"#f0f921\"]], \"type\": \"heatmapgl\"}], \"histogram\": [{\"marker\": {\"colorbar\": {\"outlinewidth\": 0, \"ticks\": \"\"}}, \"type\": \"histogram\"}], \"histogram2d\": [{\"colorbar\": {\"outlinewidth\": 0, \"ticks\": \"\"}, \"colorscale\": [[0.0, \"#0d0887\"], [0.1111111111111111, \"#46039f\"], [0.2222222222222222, \"#7201a8\"], [0.3333333333333333, \"#9c179e\"], [0.4444444444444444, \"#bd3786\"], [0.5555555555555556, \"#d8576b\"], [0.6666666666666666, \"#ed7953\"], [0.7777777777777778, \"#fb9f3a\"], [0.8888888888888888, \"#fdca26\"], [1.0, \"#f0f921\"]], \"type\": \"histogram2d\"}], \"histogram2dcontour\": [{\"colorbar\": {\"outlinewidth\": 0, \"ticks\": \"\"}, \"colorscale\": [[0.0, \"#0d0887\"], [0.1111111111111111, \"#46039f\"], [0.2222222222222222, \"#7201a8\"], [0.3333333333333333, \"#9c179e\"], [0.4444444444444444, \"#bd3786\"], [0.5555555555555556, \"#d8576b\"], [0.6666666666666666, \"#ed7953\"], [0.7777777777777778, \"#fb9f3a\"], [0.8888888888888888, \"#fdca26\"], [1.0, \"#f0f921\"]], \"type\": \"histogram2dcontour\"}], \"mesh3d\": [{\"colorbar\": {\"outlinewidth\": 0, \"ticks\": \"\"}, \"type\": \"mesh3d\"}], \"parcoords\": [{\"line\": {\"colorbar\": {\"outlinewidth\": 0, \"ticks\": \"\"}}, \"type\": \"parcoords\"}], \"scatter\": [{\"marker\": {\"colorbar\": {\"outlinewidth\": 0, \"ticks\": \"\"}}, \"type\": \"scatter\"}], \"scatter3d\": [{\"line\": {\"colorbar\": {\"outlinewidth\": 0, \"ticks\": \"\"}}, \"marker\": {\"colorbar\": {\"outlinewidth\": 0, \"ticks\": \"\"}}, \"type\": \"scatter3d\"}], \"scattercarpet\": [{\"marker\": {\"colorbar\": {\"outlinewidth\": 0, \"ticks\": \"\"}}, \"type\": \"scattercarpet\"}], \"scattergeo\": [{\"marker\": {\"colorbar\": {\"outlinewidth\": 0, \"ticks\": \"\"}}, \"type\": \"scattergeo\"}], \"scattergl\": [{\"marker\": {\"colorbar\": {\"outlinewidth\": 0, \"ticks\": \"\"}}, \"type\": \"scattergl\"}], \"scattermapbox\": [{\"marker\": {\"colorbar\": {\"outlinewidth\": 0, \"ticks\": \"\"}}, \"type\": \"scattermapbox\"}], \"scatterpolar\": [{\"marker\": {\"colorbar\": {\"outlinewidth\": 0, \"ticks\": \"\"}}, \"type\": \"scatterpolar\"}], \"scatterpolargl\": [{\"marker\": {\"colorbar\": {\"outlinewidth\": 0, \"ticks\": \"\"}}, \"type\": \"scatterpolargl\"}], \"scatterternary\": [{\"marker\": {\"colorbar\": {\"outlinewidth\": 0, \"ticks\": \"\"}}, \"type\": \"scatterternary\"}], \"surface\": [{\"colorbar\": {\"outlinewidth\": 0, \"ticks\": \"\"}, \"colorscale\": [[0.0, \"#0d0887\"], [0.1111111111111111, \"#46039f\"], [0.2222222222222222, \"#7201a8\"], [0.3333333333333333, \"#9c179e\"], [0.4444444444444444, \"#bd3786\"], [0.5555555555555556, \"#d8576b\"], [0.6666666666666666, \"#ed7953\"], [0.7777777777777778, \"#fb9f3a\"], [0.8888888888888888, \"#fdca26\"], [1.0, \"#f0f921\"]], \"type\": \"surface\"}], \"table\": [{\"cells\": {\"fill\": {\"color\": \"#EBF0F8\"}, \"line\": {\"color\": \"white\"}}, \"header\": {\"fill\": {\"color\": \"#C8D4E3\"}, \"line\": {\"color\": \"white\"}}, \"type\": \"table\"}]}, \"layout\": {\"annotationdefaults\": {\"arrowcolor\": \"#2a3f5f\", \"arrowhead\": 0, \"arrowwidth\": 1}, \"colorscale\": {\"diverging\": [[0, \"#8e0152\"], [0.1, \"#c51b7d\"], [0.2, \"#de77ae\"], [0.3, \"#f1b6da\"], [0.4, \"#fde0ef\"], [0.5, \"#f7f7f7\"], [0.6, \"#e6f5d0\"], [0.7, \"#b8e186\"], [0.8, \"#7fbc41\"], [0.9, \"#4d9221\"], [1, \"#276419\"]], \"sequential\": [[0.0, \"#0d0887\"], [0.1111111111111111, \"#46039f\"], [0.2222222222222222, \"#7201a8\"], [0.3333333333333333, \"#9c179e\"], [0.4444444444444444, \"#bd3786\"], [0.5555555555555556, \"#d8576b\"], [0.6666666666666666, \"#ed7953\"], [0.7777777777777778, \"#fb9f3a\"], [0.8888888888888888, \"#fdca26\"], [1.0, \"#f0f921\"]], \"sequentialminus\": [[0.0, \"#0d0887\"], [0.1111111111111111, \"#46039f\"], [0.2222222222222222, \"#7201a8\"], [0.3333333333333333, \"#9c179e\"], [0.4444444444444444, \"#bd3786\"], [0.5555555555555556, \"#d8576b\"], [0.6666666666666666, \"#ed7953\"], [0.7777777777777778, \"#fb9f3a\"], [0.8888888888888888, \"#fdca26\"], [1.0, \"#f0f921\"]]}, \"colorway\": [\"#636efa\", \"#EF553B\", \"#00cc96\", \"#ab63fa\", \"#FFA15A\", \"#19d3f3\", \"#FF6692\", \"#B6E880\", \"#FF97FF\", \"#FECB52\"], \"font\": {\"color\": \"#2a3f5f\"}, \"geo\": {\"bgcolor\": \"white\", \"lakecolor\": \"white\", \"landcolor\": \"#E5ECF6\", \"showlakes\": true, \"showland\": true, \"subunitcolor\": \"white\"}, \"hoverlabel\": {\"align\": \"left\"}, \"hovermode\": \"closest\", \"mapbox\": {\"style\": \"light\"}, \"paper_bgcolor\": \"white\", \"plot_bgcolor\": \"#E5ECF6\", \"polar\": {\"angularaxis\": {\"gridcolor\": \"white\", \"linecolor\": \"white\", \"ticks\": \"\"}, \"bgcolor\": \"#E5ECF6\", \"radialaxis\": {\"gridcolor\": \"white\", \"linecolor\": \"white\", \"ticks\": \"\"}}, \"scene\": {\"xaxis\": {\"backgroundcolor\": \"#E5ECF6\", \"gridcolor\": \"white\", \"gridwidth\": 2, \"linecolor\": \"white\", \"showbackground\": true, \"ticks\": \"\", \"zerolinecolor\": \"white\"}, \"yaxis\": {\"backgroundcolor\": \"#E5ECF6\", \"gridcolor\": \"white\", \"gridwidth\": 2, \"linecolor\": \"white\", \"showbackground\": true, \"ticks\": \"\", \"zerolinecolor\": \"white\"}, \"zaxis\": {\"backgroundcolor\": \"#E5ECF6\", \"gridcolor\": \"white\", \"gridwidth\": 2, \"linecolor\": \"white\", \"showbackground\": true, \"ticks\": \"\", \"zerolinecolor\": \"white\"}}, \"shapedefaults\": {\"line\": {\"color\": \"#2a3f5f\"}}, \"ternary\": {\"aaxis\": {\"gridcolor\": \"white\", \"linecolor\": \"white\", \"ticks\": \"\"}, \"baxis\": {\"gridcolor\": \"white\", \"linecolor\": \"white\", \"ticks\": \"\"}, \"bgcolor\": \"#E5ECF6\", \"caxis\": {\"gridcolor\": \"white\", \"linecolor\": \"white\", \"ticks\": \"\"}}, \"title\": {\"x\": 0.05}, \"xaxis\": {\"automargin\": true, \"gridcolor\": \"white\", \"linecolor\": \"white\", \"ticks\": \"\", \"zerolinecolor\": \"white\", \"zerolinewidth\": 2}, \"yaxis\": {\"automargin\": true, \"gridcolor\": \"white\", \"linecolor\": \"white\", \"ticks\": \"\", \"zerolinecolor\": \"white\", \"zerolinewidth\": 2}}}, \"title\": {\"text\": \"State support box office per year\"}},\n",
       "                        {\"responsive\": true}\n",
       "                    ).then(function(){\n",
       "                            \n",
       "var gd = document.getElementById('298e8690-9cc9-4c70-8d55-f5e1831b5e38');\n",
       "var x = new MutationObserver(function (mutations, observer) {{\n",
       "        var display = window.getComputedStyle(gd).display;\n",
       "        if (!display || display === 'none') {{\n",
       "            console.log([gd, 'removed!']);\n",
       "            Plotly.purge(gd);\n",
       "            observer.disconnect();\n",
       "        }}\n",
       "}});\n",
       "\n",
       "// Listen for the removal of the full notebook cells\n",
       "var notebookContainer = gd.closest('#notebook-container');\n",
       "if (notebookContainer) {{\n",
       "    x.observe(notebookContainer, {childList: true});\n",
       "}}\n",
       "\n",
       "// Listen for the clearing of the current output cell\n",
       "var outputEl = gd.closest('.output');\n",
       "if (outputEl) {{\n",
       "    x.observe(outputEl, {childList: true});\n",
       "}}\n",
       "\n",
       "                        })\n",
       "                };\n",
       "                });\n",
       "            </script>\n",
       "        </div>"
      ]
     },
     "metadata": {},
     "output_type": "display_data"
    }
   ],
   "source": [
    "trace0 = go.Scatter(\n",
    "    x=sponsored_movies_df.index,\n",
    "    y=sponsored_movies_df.box_office,\n",
    "    name='box_office'\n",
    ")\n",
    "\n",
    "trace1 = go.Scatter(\n",
    "    x=sponsored_movies_df.index,\n",
    "    y=sponsored_movies_df.total_support,\n",
    "    name='total_support'\n",
    ")\n",
    "\n",
    "data = [trace0, trace1]\n",
    "layout = {'title': 'State support box office per year'}\n",
    "\n",
    "fig = go.Figure(data=data, layout=layout)\n",
    "iplot(fig, show_link=False)"
   ]
  },
  {
   "cell_type": "code",
   "execution_count": 75,
   "metadata": {},
   "outputs": [
    {
     "data": {
      "text/html": [
       "<div>\n",
       "<style scoped>\n",
       "    .dataframe tbody tr th:only-of-type {\n",
       "        vertical-align: middle;\n",
       "    }\n",
       "\n",
       "    .dataframe tbody tr th {\n",
       "        vertical-align: top;\n",
       "    }\n",
       "\n",
       "    .dataframe thead th {\n",
       "        text-align: right;\n",
       "    }\n",
       "</style>\n",
       "<table border=\"1\" class=\"dataframe\">\n",
       "  <thead>\n",
       "    <tr style=\"text-align: right;\">\n",
       "      <th></th>\n",
       "      <th>box_office</th>\n",
       "      <th>total_support</th>\n",
       "    </tr>\n",
       "    <tr>\n",
       "      <th>year</th>\n",
       "      <th></th>\n",
       "      <th></th>\n",
       "    </tr>\n",
       "  </thead>\n",
       "  <tbody>\n",
       "    <tr>\n",
       "      <td>2013</td>\n",
       "      <td>2</td>\n",
       "      <td>2</td>\n",
       "    </tr>\n",
       "    <tr>\n",
       "      <td>2014</td>\n",
       "      <td>16</td>\n",
       "      <td>16</td>\n",
       "    </tr>\n",
       "    <tr>\n",
       "      <td>2015</td>\n",
       "      <td>85</td>\n",
       "      <td>86</td>\n",
       "    </tr>\n",
       "    <tr>\n",
       "      <td>2016</td>\n",
       "      <td>60</td>\n",
       "      <td>61</td>\n",
       "    </tr>\n",
       "    <tr>\n",
       "      <td>2017</td>\n",
       "      <td>39</td>\n",
       "      <td>41</td>\n",
       "    </tr>\n",
       "    <tr>\n",
       "      <td>2018</td>\n",
       "      <td>56</td>\n",
       "      <td>56</td>\n",
       "    </tr>\n",
       "    <tr>\n",
       "      <td>2019</td>\n",
       "      <td>60</td>\n",
       "      <td>70</td>\n",
       "    </tr>\n",
       "  </tbody>\n",
       "</table>\n",
       "</div>"
      ],
      "text/plain": [
       "      box_office  total_support\n",
       "year                           \n",
       "2013           2              2\n",
       "2014          16             16\n",
       "2015          85             86\n",
       "2016          60             61\n",
       "2017          39             41\n",
       "2018          56             56\n",
       "2019          60             70"
      ]
     },
     "execution_count": 75,
     "metadata": {},
     "output_type": "execute_result"
    }
   ],
   "source": [
    "sponsored_movies.pivot_table(index='year', values=['total_support', 'box_office'], aggfunc='count')"
   ]
  },
  {
   "cell_type": "markdown",
   "metadata": {},
   "source": [
    "В целом заметна более сильная корреляция роста сборов фильмов в связи с поддержкой государства в течении времени. Хотя с 2017 по 2019 г. можно наблюдать падение доходов, несмотря на рост поддержки государства. Количество занесенных в таблицу фильмов за указанные годы  сравнимо с предыдущими годами, поэтому вероятно на падение доходов и рост поддержки повлияли другие причины. Можно предположить, что государственная поддержка усилилась как раз в связи со снижением ожидаемых доходов фильма. "
   ]
  },
  {
   "cell_type": "markdown",
   "metadata": {
    "id": "V2gYwMcPgFyd"
   },
   "source": [
    "### Вывод"
   ]
  },
  {
   "cell_type": "markdown",
   "metadata": {
    "id": "AYRg3dzXgFye"
   },
   "source": [
    "С каждым годом растет как количество новых фильмов, так и сборы тех фильмов, которые окажутся популярными.\n",
    "\n",
    "Больше всего доходов приносят фильмы, удовлетворяющие вкусам широкой аудитории: 16+, анимационные и художественные. Меньше всего: 0+, научно-популярные и музыкальные.\n",
    "\n",
    "В целом со временем растут сборы фильмов, поддерживаемых государством. Это позволяет предположить, что гос.органы делают верные выводы о том, как выбирать наиболее успешные фильмы и когда выпускать их в прокат для получения наибольшей выгоды."
   ]
  }
 ],
 "metadata": {
  "ExecuteTimeLog": [
   {
    "duration": 537,
    "start_time": "2021-07-07T10:12:08.634Z"
   },
   {
    "duration": 206,
    "start_time": "2021-07-07T10:12:30.191Z"
   },
   {
    "duration": 227,
    "start_time": "2021-07-07T10:12:33.078Z"
   },
   {
    "duration": 153,
    "start_time": "2021-07-07T10:13:42.146Z"
   },
   {
    "duration": 233,
    "start_time": "2021-07-07T10:30:09.252Z"
   },
   {
    "duration": 19,
    "start_time": "2021-07-07T10:30:15.577Z"
   },
   {
    "duration": 18,
    "start_time": "2021-07-07T10:30:57.348Z"
   },
   {
    "duration": 19,
    "start_time": "2021-07-07T10:31:17.452Z"
   },
   {
    "duration": 21,
    "start_time": "2021-07-07T10:31:32.227Z"
   },
   {
    "duration": 27,
    "start_time": "2021-07-07T10:32:06.588Z"
   },
   {
    "duration": 23,
    "start_time": "2021-07-07T10:32:43.645Z"
   },
   {
    "duration": 24,
    "start_time": "2021-07-07T10:33:06.948Z"
   },
   {
    "duration": 7,
    "start_time": "2021-07-07T10:33:28.558Z"
   },
   {
    "duration": 23,
    "start_time": "2021-07-07T10:33:43.761Z"
   },
   {
    "duration": 28,
    "start_time": "2021-07-07T10:34:13.466Z"
   },
   {
    "duration": 23,
    "start_time": "2021-07-07T10:35:56.187Z"
   },
   {
    "duration": 6,
    "start_time": "2021-07-07T10:36:48.182Z"
   },
   {
    "duration": 14,
    "start_time": "2021-07-07T10:37:49.641Z"
   },
   {
    "duration": 6,
    "start_time": "2021-07-07T10:38:06.694Z"
   },
   {
    "duration": 6,
    "start_time": "2021-07-07T10:38:13.493Z"
   },
   {
    "duration": 19,
    "start_time": "2021-07-07T10:38:44.056Z"
   },
   {
    "duration": 186,
    "start_time": "2021-07-07T10:48:35.618Z"
   },
   {
    "duration": 24,
    "start_time": "2021-07-07T10:48:51.498Z"
   },
   {
    "duration": 20,
    "start_time": "2021-07-07T10:48:59.415Z"
   },
   {
    "duration": 20,
    "start_time": "2021-07-07T10:53:02.195Z"
   },
   {
    "duration": 188,
    "start_time": "2021-07-07T10:54:40.486Z"
   },
   {
    "duration": 115,
    "start_time": "2021-07-07T10:54:52.552Z"
   },
   {
    "duration": 214,
    "start_time": "2021-07-07T10:54:56.354Z"
   },
   {
    "duration": 47,
    "start_time": "2021-07-07T10:54:58.282Z"
   },
   {
    "duration": 217,
    "start_time": "2021-07-07T10:59:16.075Z"
   },
   {
    "duration": 51,
    "start_time": "2021-07-07T10:59:16.243Z"
   },
   {
    "duration": 578,
    "start_time": "2021-07-07T10:59:18.774Z"
   },
   {
    "duration": 161,
    "start_time": "2021-07-07T10:59:21.238Z"
   },
   {
    "duration": 59,
    "start_time": "2021-07-07T10:59:21.453Z"
   },
   {
    "duration": 3,
    "start_time": "2021-07-07T11:02:10.786Z"
   },
   {
    "duration": 13,
    "start_time": "2021-07-07T11:07:07.722Z"
   },
   {
    "duration": 26,
    "start_time": "2021-07-07T11:07:17.958Z"
   },
   {
    "duration": 22,
    "start_time": "2021-07-07T11:08:17.939Z"
   },
   {
    "duration": 212,
    "start_time": "2021-07-07T11:08:19.665Z"
   },
   {
    "duration": 21,
    "start_time": "2021-07-07T11:08:29.945Z"
   },
   {
    "duration": 31,
    "start_time": "2021-07-07T11:08:38.899Z"
   },
   {
    "duration": 23,
    "start_time": "2021-07-07T11:08:54.527Z"
   },
   {
    "duration": 8,
    "start_time": "2021-07-07T11:18:55.974Z"
   },
   {
    "duration": 7,
    "start_time": "2021-07-07T11:19:03.639Z"
   },
   {
    "duration": 7,
    "start_time": "2021-07-07T11:19:06.444Z"
   },
   {
    "duration": 578,
    "start_time": "2021-07-07T12:09:59.576Z"
   },
   {
    "duration": 195,
    "start_time": "2021-07-07T12:10:00.156Z"
   },
   {
    "duration": 115,
    "start_time": "2021-07-07T12:10:00.353Z"
   },
   {
    "duration": 3,
    "start_time": "2021-07-07T12:10:00.470Z"
   },
   {
    "duration": 32,
    "start_time": "2021-07-07T12:10:00.474Z"
   },
   {
    "duration": 23,
    "start_time": "2021-07-07T12:10:00.508Z"
   },
   {
    "duration": 19,
    "start_time": "2021-07-07T12:10:00.533Z"
   },
   {
    "duration": 44,
    "start_time": "2021-07-07T12:10:00.553Z"
   },
   {
    "duration": 7,
    "start_time": "2021-07-07T12:10:00.600Z"
   },
   {
    "duration": 7,
    "start_time": "2021-07-07T12:19:45.761Z"
   },
   {
    "duration": 21,
    "start_time": "2021-07-07T12:21:35.482Z"
   },
   {
    "duration": 21,
    "start_time": "2021-07-07T12:29:23.569Z"
   },
   {
    "duration": 525,
    "start_time": "2021-07-07T12:29:44.542Z"
   },
   {
    "duration": 214,
    "start_time": "2021-07-07T12:29:45.069Z"
   },
   {
    "duration": 92,
    "start_time": "2021-07-07T12:29:45.285Z"
   },
   {
    "duration": 3,
    "start_time": "2021-07-07T12:29:45.379Z"
   },
   {
    "duration": 28,
    "start_time": "2021-07-07T12:29:45.384Z"
   },
   {
    "duration": 23,
    "start_time": "2021-07-07T12:29:45.413Z"
   },
   {
    "duration": 21,
    "start_time": "2021-07-07T12:29:45.437Z"
   },
   {
    "duration": 41,
    "start_time": "2021-07-07T12:29:45.460Z"
   },
   {
    "duration": 7,
    "start_time": "2021-07-07T12:29:45.502Z"
   },
   {
    "duration": 20,
    "start_time": "2021-07-07T12:29:45.511Z"
   },
   {
    "duration": 12,
    "start_time": "2021-07-07T12:34:02.800Z"
   },
   {
    "duration": 7,
    "start_time": "2021-07-07T12:35:10.479Z"
   },
   {
    "duration": 8,
    "start_time": "2021-07-07T12:35:22.440Z"
   },
   {
    "duration": 6,
    "start_time": "2021-07-07T12:35:35.649Z"
   },
   {
    "duration": 6,
    "start_time": "2021-07-07T12:35:43.107Z"
   },
   {
    "duration": 22,
    "start_time": "2021-07-07T12:38:03.029Z"
   },
   {
    "duration": 10,
    "start_time": "2021-07-07T12:38:06.592Z"
   },
   {
    "duration": 563,
    "start_time": "2021-07-07T12:38:46.493Z"
   },
   {
    "duration": 265,
    "start_time": "2021-07-07T12:38:47.058Z"
   },
   {
    "duration": 94,
    "start_time": "2021-07-07T12:38:47.325Z"
   },
   {
    "duration": 3,
    "start_time": "2021-07-07T12:38:47.422Z"
   },
   {
    "duration": 30,
    "start_time": "2021-07-07T12:38:47.427Z"
   },
   {
    "duration": 16,
    "start_time": "2021-07-07T12:38:53.305Z"
   },
   {
    "duration": 10,
    "start_time": "2021-07-07T12:38:53.499Z"
   },
   {
    "duration": 8,
    "start_time": "2021-07-07T12:39:48.161Z"
   },
   {
    "duration": 27,
    "start_time": "2021-07-07T12:41:17.629Z"
   },
   {
    "duration": 17,
    "start_time": "2021-07-07T12:41:17.867Z"
   },
   {
    "duration": 21,
    "start_time": "2021-07-07T12:41:19.310Z"
   },
   {
    "duration": 7,
    "start_time": "2021-07-07T12:41:19.544Z"
   },
   {
    "duration": 20,
    "start_time": "2021-07-07T12:41:20.504Z"
   },
   {
    "duration": 554,
    "start_time": "2021-07-07T12:56:23.696Z"
   },
   {
    "duration": 200,
    "start_time": "2021-07-07T12:56:25.234Z"
   },
   {
    "duration": 119,
    "start_time": "2021-07-07T12:56:25.480Z"
   },
   {
    "duration": 4,
    "start_time": "2021-07-07T12:56:25.762Z"
   },
   {
    "duration": 26,
    "start_time": "2021-07-07T12:56:27.172Z"
   },
   {
    "duration": 12,
    "start_time": "2021-07-07T12:56:29.051Z"
   },
   {
    "duration": 10,
    "start_time": "2021-07-07T12:56:29.291Z"
   },
   {
    "duration": 8,
    "start_time": "2021-07-07T12:56:29.623Z"
   },
   {
    "duration": 28,
    "start_time": "2021-07-07T12:56:32.137Z"
   },
   {
    "duration": 19,
    "start_time": "2021-07-07T12:56:39.785Z"
   },
   {
    "duration": 20,
    "start_time": "2021-07-07T12:56:44.297Z"
   },
   {
    "duration": 7,
    "start_time": "2021-07-07T12:56:45.392Z"
   },
   {
    "duration": 23,
    "start_time": "2021-07-07T12:56:46.615Z"
   },
   {
    "duration": 4,
    "start_time": "2021-07-07T12:57:06.625Z"
   },
   {
    "duration": 32,
    "start_time": "2021-07-07T12:57:36.690Z"
   },
   {
    "duration": 18,
    "start_time": "2021-07-07T12:58:00.149Z"
   },
   {
    "duration": 15,
    "start_time": "2021-07-07T12:59:16.793Z"
   },
   {
    "duration": 7,
    "start_time": "2021-07-07T13:19:22.624Z"
   },
   {
    "duration": 6,
    "start_time": "2021-07-07T14:17:33.527Z"
   },
   {
    "duration": 9,
    "start_time": "2021-07-07T14:17:48.409Z"
   },
   {
    "duration": 8,
    "start_time": "2021-07-07T14:20:13.060Z"
   },
   {
    "duration": 8,
    "start_time": "2021-07-07T14:20:37.957Z"
   },
   {
    "duration": 8,
    "start_time": "2021-07-07T14:20:47.470Z"
   },
   {
    "duration": 9,
    "start_time": "2021-07-07T14:20:54.503Z"
   },
   {
    "duration": 10,
    "start_time": "2021-07-07T14:28:57.763Z"
   },
   {
    "duration": 3,
    "start_time": "2021-07-07T14:30:23.377Z"
   },
   {
    "duration": 3,
    "start_time": "2021-07-07T14:30:36.489Z"
   },
   {
    "duration": 103,
    "start_time": "2021-07-07T14:30:52.351Z"
   },
   {
    "duration": 8,
    "start_time": "2021-07-07T14:30:54.763Z"
   },
   {
    "duration": 8,
    "start_time": "2021-07-07T14:31:29.301Z"
   },
   {
    "duration": 13,
    "start_time": "2021-07-07T14:31:44.516Z"
   },
   {
    "duration": 7,
    "start_time": "2021-07-07T14:33:10.972Z"
   },
   {
    "duration": 11,
    "start_time": "2021-07-07T14:33:27.780Z"
   },
   {
    "duration": 8,
    "start_time": "2021-07-07T14:34:44.588Z"
   },
   {
    "duration": 57,
    "start_time": "2021-07-07T14:35:59.042Z"
   },
   {
    "duration": 3,
    "start_time": "2021-07-07T14:36:28.168Z"
   },
   {
    "duration": 5,
    "start_time": "2021-07-07T14:36:46.254Z"
   },
   {
    "duration": 4,
    "start_time": "2021-07-07T14:36:52.714Z"
   },
   {
    "duration": 3,
    "start_time": "2021-07-07T14:36:56.612Z"
   },
   {
    "duration": 4,
    "start_time": "2021-07-07T14:36:57.049Z"
   },
   {
    "duration": 3,
    "start_time": "2021-07-07T14:39:21.214Z"
   },
   {
    "duration": 7,
    "start_time": "2021-07-07T14:39:52.406Z"
   },
   {
    "duration": 11,
    "start_time": "2021-07-07T14:39:58.576Z"
   },
   {
    "duration": 9,
    "start_time": "2021-07-07T14:40:26.301Z"
   },
   {
    "duration": 10,
    "start_time": "2021-07-07T14:40:31.704Z"
   },
   {
    "duration": 11,
    "start_time": "2021-07-07T14:40:36.249Z"
   },
   {
    "duration": 10,
    "start_time": "2021-07-07T14:40:39.783Z"
   },
   {
    "duration": 9,
    "start_time": "2021-07-07T14:40:48.558Z"
   },
   {
    "duration": 10,
    "start_time": "2021-07-07T14:40:57.143Z"
   },
   {
    "duration": 9,
    "start_time": "2021-07-07T14:41:06.074Z"
   },
   {
    "duration": 4324,
    "start_time": "2021-07-07T14:41:22.004Z"
   },
   {
    "duration": 11,
    "start_time": "2021-07-07T14:41:33.392Z"
   },
   {
    "duration": 9,
    "start_time": "2021-07-07T14:41:39.288Z"
   },
   {
    "duration": 569,
    "start_time": "2021-07-07T14:42:14.387Z"
   },
   {
    "duration": 197,
    "start_time": "2021-07-07T14:42:14.959Z"
   },
   {
    "duration": 84,
    "start_time": "2021-07-07T14:42:16.052Z"
   },
   {
    "duration": 4,
    "start_time": "2021-07-07T14:42:16.900Z"
   },
   {
    "duration": 27,
    "start_time": "2021-07-07T14:42:19.898Z"
   },
   {
    "duration": 12,
    "start_time": "2021-07-07T14:42:21.577Z"
   },
   {
    "duration": 9,
    "start_time": "2021-07-07T14:42:21.813Z"
   },
   {
    "duration": 9,
    "start_time": "2021-07-07T14:42:22.569Z"
   },
   {
    "duration": 29,
    "start_time": "2021-07-07T14:42:25.837Z"
   },
   {
    "duration": 20,
    "start_time": "2021-07-07T14:42:27.003Z"
   },
   {
    "duration": 21,
    "start_time": "2021-07-07T14:42:28.767Z"
   },
   {
    "duration": 7,
    "start_time": "2021-07-07T14:42:29.838Z"
   },
   {
    "duration": 4,
    "start_time": "2021-07-07T14:43:25.493Z"
   },
   {
    "duration": 7,
    "start_time": "2021-07-07T14:43:26.573Z"
   },
   {
    "duration": 10,
    "start_time": "2021-07-07T14:43:31.639Z"
   },
   {
    "duration": 9,
    "start_time": "2021-07-07T14:43:32.046Z"
   },
   {
    "duration": 10,
    "start_time": "2021-07-07T14:43:33.301Z"
   },
   {
    "duration": 12,
    "start_time": "2021-07-07T14:43:33.658Z"
   },
   {
    "duration": 8,
    "start_time": "2021-07-07T14:43:34.552Z"
   },
   {
    "duration": 9,
    "start_time": "2021-07-07T14:43:35.058Z"
   },
   {
    "duration": 12,
    "start_time": "2021-07-07T14:43:35.914Z"
   },
   {
    "duration": 17,
    "start_time": "2021-07-07T14:45:34.368Z"
   },
   {
    "duration": 512,
    "start_time": "2021-07-07T14:51:58.236Z"
   },
   {
    "duration": 223,
    "start_time": "2021-07-07T14:51:58.750Z"
   },
   {
    "duration": 93,
    "start_time": "2021-07-07T14:51:58.977Z"
   },
   {
    "duration": 4,
    "start_time": "2021-07-07T14:51:59.071Z"
   },
   {
    "duration": 37,
    "start_time": "2021-07-07T14:51:59.077Z"
   },
   {
    "duration": 18,
    "start_time": "2021-07-07T14:51:59.116Z"
   },
   {
    "duration": 10,
    "start_time": "2021-07-07T14:51:59.137Z"
   },
   {
    "duration": 8,
    "start_time": "2021-07-07T14:51:59.149Z"
   },
   {
    "duration": 54,
    "start_time": "2021-07-07T14:51:59.158Z"
   },
   {
    "duration": 18,
    "start_time": "2021-07-07T14:51:59.213Z"
   },
   {
    "duration": 22,
    "start_time": "2021-07-07T14:51:59.232Z"
   },
   {
    "duration": 36,
    "start_time": "2021-07-07T14:51:59.255Z"
   },
   {
    "duration": 7,
    "start_time": "2021-07-07T14:51:59.293Z"
   },
   {
    "duration": 10,
    "start_time": "2021-07-07T14:51:59.302Z"
   },
   {
    "duration": 9,
    "start_time": "2021-07-07T14:51:59.313Z"
   },
   {
    "duration": 11,
    "start_time": "2021-07-07T14:51:59.324Z"
   },
   {
    "duration": 8,
    "start_time": "2021-07-07T14:51:59.337Z"
   },
   {
    "duration": 46,
    "start_time": "2021-07-07T14:51:59.347Z"
   },
   {
    "duration": 22,
    "start_time": "2021-07-07T14:51:59.395Z"
   },
   {
    "duration": 24,
    "start_time": "2021-07-07T14:57:32.911Z"
   },
   {
    "duration": 7,
    "start_time": "2021-07-07T14:58:22.070Z"
   },
   {
    "duration": 4,
    "start_time": "2021-07-07T14:59:11.239Z"
   },
   {
    "duration": 25,
    "start_time": "2021-07-07T15:07:22.208Z"
   },
   {
    "duration": 16,
    "start_time": "2021-07-07T15:08:25.560Z"
   },
   {
    "duration": 15,
    "start_time": "2021-07-07T15:08:40.647Z"
   },
   {
    "duration": 14,
    "start_time": "2021-07-07T15:08:46.669Z"
   },
   {
    "duration": 533,
    "start_time": "2021-07-07T15:18:07.440Z"
   },
   {
    "duration": 173,
    "start_time": "2021-07-07T15:18:07.974Z"
   },
   {
    "duration": 84,
    "start_time": "2021-07-07T15:18:08.149Z"
   },
   {
    "duration": 3,
    "start_time": "2021-07-07T15:18:08.235Z"
   },
   {
    "duration": 30,
    "start_time": "2021-07-07T15:18:08.240Z"
   },
   {
    "duration": 22,
    "start_time": "2021-07-07T15:18:08.272Z"
   },
   {
    "duration": 11,
    "start_time": "2021-07-07T15:18:08.295Z"
   },
   {
    "duration": 11,
    "start_time": "2021-07-07T15:18:08.309Z"
   },
   {
    "duration": 40,
    "start_time": "2021-07-07T15:18:08.322Z"
   },
   {
    "duration": 42,
    "start_time": "2021-07-07T15:18:08.364Z"
   },
   {
    "duration": 22,
    "start_time": "2021-07-07T15:18:08.408Z"
   },
   {
    "duration": 5,
    "start_time": "2021-07-07T15:18:08.432Z"
   },
   {
    "duration": 13,
    "start_time": "2021-07-07T15:18:08.439Z"
   },
   {
    "duration": 9,
    "start_time": "2021-07-07T15:18:08.454Z"
   },
   {
    "duration": 32,
    "start_time": "2021-07-07T15:18:08.465Z"
   },
   {
    "duration": 10,
    "start_time": "2021-07-07T15:18:08.501Z"
   },
   {
    "duration": 7,
    "start_time": "2021-07-07T15:18:08.513Z"
   },
   {
    "duration": 11,
    "start_time": "2021-07-07T15:18:08.521Z"
   },
   {
    "duration": 17,
    "start_time": "2021-07-07T15:18:08.534Z"
   },
   {
    "duration": 44,
    "start_time": "2021-07-07T15:18:08.553Z"
   },
   {
    "duration": 22,
    "start_time": "2021-07-07T15:18:08.599Z"
   },
   {
    "duration": 61,
    "start_time": "2021-07-07T15:18:08.622Z"
   },
   {
    "duration": 7,
    "start_time": "2021-07-07T15:18:39.457Z"
   },
   {
    "duration": 5,
    "start_time": "2021-07-07T16:05:17.020Z"
   },
   {
    "duration": 5,
    "start_time": "2021-07-07T16:51:28.794Z"
   },
   {
    "duration": 546,
    "start_time": "2021-07-07T16:52:26.306Z"
   },
   {
    "duration": 203,
    "start_time": "2021-07-07T16:52:27.523Z"
   },
   {
    "duration": 85,
    "start_time": "2021-07-07T16:52:27.736Z"
   },
   {
    "duration": 4,
    "start_time": "2021-07-07T16:52:27.899Z"
   },
   {
    "duration": 25,
    "start_time": "2021-07-07T16:52:28.674Z"
   },
   {
    "duration": 8,
    "start_time": "2021-07-07T16:52:32.956Z"
   },
   {
    "duration": 18,
    "start_time": "2021-07-07T16:52:35.616Z"
   },
   {
    "duration": 6,
    "start_time": "2021-07-07T16:52:36.913Z"
   },
   {
    "duration": 11,
    "start_time": "2021-07-07T16:52:40.258Z"
   },
   {
    "duration": 10,
    "start_time": "2021-07-07T16:52:46.251Z"
   },
   {
    "duration": 8,
    "start_time": "2021-07-07T16:52:47.182Z"
   },
   {
    "duration": 27,
    "start_time": "2021-07-07T16:53:20.391Z"
   },
   {
    "duration": 20,
    "start_time": "2021-07-07T16:53:22.022Z"
   },
   {
    "duration": 23,
    "start_time": "2021-07-07T16:53:23.690Z"
   },
   {
    "duration": 8,
    "start_time": "2021-07-07T16:53:24.261Z"
   },
   {
    "duration": 4,
    "start_time": "2021-07-07T16:53:38.733Z"
   },
   {
    "duration": 7,
    "start_time": "2021-07-07T16:53:40.445Z"
   },
   {
    "duration": 11,
    "start_time": "2021-07-07T16:53:41.348Z"
   },
   {
    "duration": 13,
    "start_time": "2021-07-07T16:53:45.250Z"
   },
   {
    "duration": 12,
    "start_time": "2021-07-07T16:53:45.467Z"
   },
   {
    "duration": 4,
    "start_time": "2021-07-07T16:55:32.704Z"
   },
   {
    "duration": 12,
    "start_time": "2021-07-07T16:55:49.012Z"
   },
   {
    "duration": 18,
    "start_time": "2021-07-07T16:55:49.547Z"
   },
   {
    "duration": 611,
    "start_time": "2021-07-07T16:58:35.156Z"
   },
   {
    "duration": 200,
    "start_time": "2021-07-07T16:58:35.770Z"
   },
   {
    "duration": 86,
    "start_time": "2021-07-07T16:58:35.972Z"
   },
   {
    "duration": 3,
    "start_time": "2021-07-07T16:58:36.060Z"
   },
   {
    "duration": 27,
    "start_time": "2021-07-07T16:58:36.065Z"
   },
   {
    "duration": 8,
    "start_time": "2021-07-07T16:58:36.094Z"
   },
   {
    "duration": 17,
    "start_time": "2021-07-07T16:58:36.103Z"
   },
   {
    "duration": 5,
    "start_time": "2021-07-07T16:58:36.123Z"
   },
   {
    "duration": 11,
    "start_time": "2021-07-07T16:58:36.130Z"
   },
   {
    "duration": 7,
    "start_time": "2021-07-07T16:58:36.143Z"
   },
   {
    "duration": 37,
    "start_time": "2021-07-07T16:58:36.152Z"
   },
   {
    "duration": 27,
    "start_time": "2021-07-07T16:58:36.191Z"
   },
   {
    "duration": 19,
    "start_time": "2021-07-07T16:58:36.219Z"
   },
   {
    "duration": 49,
    "start_time": "2021-07-07T16:58:36.240Z"
   },
   {
    "duration": 6,
    "start_time": "2021-07-07T16:58:36.291Z"
   },
   {
    "duration": 3,
    "start_time": "2021-07-07T16:58:36.299Z"
   },
   {
    "duration": 13,
    "start_time": "2021-07-07T16:58:36.304Z"
   },
   {
    "duration": 10,
    "start_time": "2021-07-07T16:58:36.319Z"
   },
   {
    "duration": 10,
    "start_time": "2021-07-07T16:58:36.331Z"
   },
   {
    "duration": 44,
    "start_time": "2021-07-07T16:58:36.343Z"
   },
   {
    "duration": 4,
    "start_time": "2021-07-07T16:58:36.388Z"
   },
   {
    "duration": 13,
    "start_time": "2021-07-07T16:58:36.394Z"
   },
   {
    "duration": 16,
    "start_time": "2021-07-07T16:58:36.410Z"
   },
   {
    "duration": 8,
    "start_time": "2021-07-07T17:02:31.629Z"
   },
   {
    "duration": 8,
    "start_time": "2021-07-07T17:02:34.308Z"
   },
   {
    "duration": 6,
    "start_time": "2021-07-07T17:05:13.483Z"
   },
   {
    "duration": 17,
    "start_time": "2021-07-07T17:05:20.606Z"
   },
   {
    "duration": 7,
    "start_time": "2021-07-07T17:05:34.638Z"
   },
   {
    "duration": 3,
    "start_time": "2021-07-07T17:06:31.883Z"
   },
   {
    "duration": 570,
    "start_time": "2021-07-07T17:06:37.165Z"
   },
   {
    "duration": 174,
    "start_time": "2021-07-07T17:06:37.737Z"
   },
   {
    "duration": 47,
    "start_time": "2021-07-07T17:06:37.913Z"
   },
   {
    "duration": 3,
    "start_time": "2021-07-07T17:06:37.962Z"
   },
   {
    "duration": 27,
    "start_time": "2021-07-07T17:06:37.967Z"
   },
   {
    "duration": 7,
    "start_time": "2021-07-07T17:06:37.996Z"
   },
   {
    "duration": 16,
    "start_time": "2021-07-07T17:06:38.005Z"
   },
   {
    "duration": 6,
    "start_time": "2021-07-07T17:06:38.024Z"
   },
   {
    "duration": 12,
    "start_time": "2021-07-07T17:06:38.031Z"
   },
   {
    "duration": 41,
    "start_time": "2021-07-07T17:06:38.045Z"
   },
   {
    "duration": 8,
    "start_time": "2021-07-07T17:06:38.088Z"
   },
   {
    "duration": 26,
    "start_time": "2021-07-07T17:06:38.098Z"
   },
   {
    "duration": 17,
    "start_time": "2021-07-07T17:06:38.126Z"
   },
   {
    "duration": 43,
    "start_time": "2021-07-07T17:06:38.144Z"
   },
   {
    "duration": 6,
    "start_time": "2021-07-07T17:06:38.188Z"
   },
   {
    "duration": 5,
    "start_time": "2021-07-07T17:06:38.195Z"
   },
   {
    "duration": 9,
    "start_time": "2021-07-07T17:06:38.201Z"
   },
   {
    "duration": 12,
    "start_time": "2021-07-07T17:06:38.212Z"
   },
   {
    "duration": 11,
    "start_time": "2021-07-07T17:06:38.226Z"
   },
   {
    "duration": 47,
    "start_time": "2021-07-07T17:06:38.239Z"
   },
   {
    "duration": 4,
    "start_time": "2021-07-07T17:06:38.288Z"
   },
   {
    "duration": 13,
    "start_time": "2021-07-07T17:06:38.293Z"
   },
   {
    "duration": 5,
    "start_time": "2021-07-07T17:06:38.309Z"
   },
   {
    "duration": 18,
    "start_time": "2021-07-07T17:06:38.325Z"
   },
   {
    "duration": 20,
    "start_time": "2021-07-07T17:07:02.805Z"
   },
   {
    "duration": 19,
    "start_time": "2021-07-07T17:07:08.527Z"
   },
   {
    "duration": 19,
    "start_time": "2021-07-07T17:07:12.758Z"
   },
   {
    "duration": 22,
    "start_time": "2021-07-07T17:07:17.497Z"
   },
   {
    "duration": 19,
    "start_time": "2021-07-07T17:07:19.645Z"
   },
   {
    "duration": 10,
    "start_time": "2021-07-07T17:07:34.239Z"
   },
   {
    "duration": 17,
    "start_time": "2021-07-07T17:07:54.144Z"
   },
   {
    "duration": 14,
    "start_time": "2021-07-07T17:08:14.357Z"
   },
   {
    "duration": 616,
    "start_time": "2021-07-07T17:08:45.254Z"
   },
   {
    "duration": 178,
    "start_time": "2021-07-07T17:08:45.872Z"
   },
   {
    "duration": 60,
    "start_time": "2021-07-07T17:08:46.054Z"
   },
   {
    "duration": 3,
    "start_time": "2021-07-07T17:08:46.116Z"
   },
   {
    "duration": 26,
    "start_time": "2021-07-07T17:08:46.121Z"
   },
   {
    "duration": 7,
    "start_time": "2021-07-07T17:08:46.149Z"
   },
   {
    "duration": 17,
    "start_time": "2021-07-07T17:08:46.158Z"
   },
   {
    "duration": 14,
    "start_time": "2021-07-07T17:08:46.176Z"
   },
   {
    "duration": 17,
    "start_time": "2021-07-07T17:08:46.193Z"
   },
   {
    "duration": 9,
    "start_time": "2021-07-07T17:08:46.211Z"
   },
   {
    "duration": 21,
    "start_time": "2021-07-07T17:08:46.221Z"
   },
   {
    "duration": 49,
    "start_time": "2021-07-07T17:08:46.244Z"
   },
   {
    "duration": 24,
    "start_time": "2021-07-07T17:08:46.295Z"
   },
   {
    "duration": 22,
    "start_time": "2021-07-07T17:08:46.321Z"
   },
   {
    "duration": 6,
    "start_time": "2021-07-07T17:08:46.345Z"
   },
   {
    "duration": 5,
    "start_time": "2021-07-07T17:08:46.353Z"
   },
   {
    "duration": 13,
    "start_time": "2021-07-07T17:08:46.386Z"
   },
   {
    "duration": 12,
    "start_time": "2021-07-07T17:08:46.402Z"
   },
   {
    "duration": 10,
    "start_time": "2021-07-07T17:08:46.415Z"
   },
   {
    "duration": 7,
    "start_time": "2021-07-07T17:08:46.427Z"
   },
   {
    "duration": 8,
    "start_time": "2021-07-07T17:08:46.435Z"
   },
   {
    "duration": 68,
    "start_time": "2021-07-07T17:08:46.446Z"
   },
   {
    "duration": 13,
    "start_time": "2021-07-07T17:08:46.516Z"
   },
   {
    "duration": 78,
    "start_time": "2021-07-07T17:08:46.530Z"
   },
   {
    "duration": 40,
    "start_time": "2021-07-07T17:09:08.185Z"
   },
   {
    "duration": 16,
    "start_time": "2021-07-07T17:09:19.324Z"
   },
   {
    "duration": 21,
    "start_time": "2021-07-07T17:09:23.290Z"
   },
   {
    "duration": 13,
    "start_time": "2021-07-07T17:09:54.812Z"
   },
   {
    "duration": 13,
    "start_time": "2021-07-07T17:10:02.039Z"
   },
   {
    "duration": 10,
    "start_time": "2021-07-07T17:10:29.632Z"
   },
   {
    "duration": 13,
    "start_time": "2021-07-07T17:10:52.372Z"
   },
   {
    "duration": 13,
    "start_time": "2021-07-07T17:11:17.270Z"
   },
   {
    "duration": 13,
    "start_time": "2021-07-07T17:14:59.284Z"
   },
   {
    "duration": 547,
    "start_time": "2021-07-07T17:18:52.403Z"
   },
   {
    "duration": 163,
    "start_time": "2021-07-07T17:18:52.952Z"
   },
   {
    "duration": 44,
    "start_time": "2021-07-07T17:18:53.117Z"
   },
   {
    "duration": 3,
    "start_time": "2021-07-07T17:18:53.162Z"
   },
   {
    "duration": 26,
    "start_time": "2021-07-07T17:18:53.167Z"
   },
   {
    "duration": 6,
    "start_time": "2021-07-07T17:18:53.195Z"
   },
   {
    "duration": 15,
    "start_time": "2021-07-07T17:18:53.203Z"
   },
   {
    "duration": 5,
    "start_time": "2021-07-07T17:18:53.220Z"
   },
   {
    "duration": 11,
    "start_time": "2021-07-07T17:18:53.228Z"
   },
   {
    "duration": 9,
    "start_time": "2021-07-07T17:18:53.241Z"
   },
   {
    "duration": 41,
    "start_time": "2021-07-07T17:18:53.252Z"
   },
   {
    "duration": 33,
    "start_time": "2021-07-07T17:18:53.295Z"
   },
   {
    "duration": 19,
    "start_time": "2021-07-07T17:18:53.330Z"
   },
   {
    "duration": 49,
    "start_time": "2021-07-07T17:18:53.350Z"
   },
   {
    "duration": 5,
    "start_time": "2021-07-07T17:18:53.401Z"
   },
   {
    "duration": 5,
    "start_time": "2021-07-07T17:18:53.408Z"
   },
   {
    "duration": 11,
    "start_time": "2021-07-07T17:18:53.414Z"
   },
   {
    "duration": 9,
    "start_time": "2021-07-07T17:18:53.427Z"
   },
   {
    "duration": 10,
    "start_time": "2021-07-07T17:18:53.437Z"
   },
   {
    "duration": 39,
    "start_time": "2021-07-07T17:18:53.448Z"
   },
   {
    "duration": 26,
    "start_time": "2021-07-07T17:18:55.799Z"
   },
   {
    "duration": 598,
    "start_time": "2021-07-07T17:20:17.862Z"
   },
   {
    "duration": 161,
    "start_time": "2021-07-07T17:20:18.462Z"
   },
   {
    "duration": 45,
    "start_time": "2021-07-07T17:20:18.626Z"
   },
   {
    "duration": 4,
    "start_time": "2021-07-07T17:20:18.673Z"
   },
   {
    "duration": 38,
    "start_time": "2021-07-07T17:20:26.877Z"
   },
   {
    "duration": 7,
    "start_time": "2021-07-07T17:20:37.405Z"
   },
   {
    "duration": 19,
    "start_time": "2021-07-07T17:20:51.534Z"
   },
   {
    "duration": 5,
    "start_time": "2021-07-07T17:20:57.228Z"
   },
   {
    "duration": 7,
    "start_time": "2021-07-07T17:21:08.235Z"
   },
   {
    "duration": 19,
    "start_time": "2021-07-07T17:21:42.158Z"
   },
   {
    "duration": 14,
    "start_time": "2021-07-07T17:21:50.225Z"
   },
   {
    "duration": 22,
    "start_time": "2021-07-07T17:22:54.104Z"
   },
   {
    "duration": 5,
    "start_time": "2021-07-07T17:22:56.371Z"
   },
   {
    "duration": 14,
    "start_time": "2021-07-07T17:22:58.316Z"
   },
   {
    "duration": 5,
    "start_time": "2021-07-07T17:22:58.493Z"
   },
   {
    "duration": 35,
    "start_time": "2021-07-07T17:22:59.666Z"
   },
   {
    "duration": 6,
    "start_time": "2021-07-07T17:23:02.410Z"
   },
   {
    "duration": 611,
    "start_time": "2021-07-07T17:24:59.664Z"
   },
   {
    "duration": 178,
    "start_time": "2021-07-07T17:25:01.945Z"
   },
   {
    "duration": 47,
    "start_time": "2021-07-07T17:25:02.125Z"
   },
   {
    "duration": 2,
    "start_time": "2021-07-07T17:25:07.903Z"
   },
   {
    "duration": 254,
    "start_time": "2021-07-07T17:25:08.232Z"
   },
   {
    "duration": 182,
    "start_time": "2021-07-07T17:25:08.671Z"
   },
   {
    "duration": 6,
    "start_time": "2021-07-07T17:25:13.104Z"
   },
   {
    "duration": 36,
    "start_time": "2021-07-07T17:25:13.662Z"
   },
   {
    "duration": 7,
    "start_time": "2021-07-07T17:25:14.528Z"
   },
   {
    "duration": 24,
    "start_time": "2021-07-07T17:25:27.982Z"
   },
   {
    "duration": 3,
    "start_time": "2021-07-07T17:25:48.982Z"
   },
   {
    "duration": 165,
    "start_time": "2021-07-07T17:25:48.987Z"
   },
   {
    "duration": 50,
    "start_time": "2021-07-07T17:25:49.154Z"
   },
   {
    "duration": 4,
    "start_time": "2021-07-07T17:25:49.206Z"
   },
   {
    "duration": 26,
    "start_time": "2021-07-07T17:25:49.212Z"
   },
   {
    "duration": 7,
    "start_time": "2021-07-07T17:25:49.240Z"
   },
   {
    "duration": 16,
    "start_time": "2021-07-07T17:25:49.249Z"
   },
   {
    "duration": 22,
    "start_time": "2021-07-07T17:25:49.266Z"
   },
   {
    "duration": 16,
    "start_time": "2021-07-07T17:25:49.291Z"
   },
   {
    "duration": 9,
    "start_time": "2021-07-07T17:25:49.309Z"
   },
   {
    "duration": 7,
    "start_time": "2021-07-07T17:25:49.319Z"
   },
   {
    "duration": 28,
    "start_time": "2021-07-07T17:25:49.328Z"
   },
   {
    "duration": 44,
    "start_time": "2021-07-07T17:25:49.357Z"
   },
   {
    "duration": 22,
    "start_time": "2021-07-07T17:25:49.403Z"
   },
   {
    "duration": 7,
    "start_time": "2021-07-07T17:25:49.427Z"
   },
   {
    "duration": 3,
    "start_time": "2021-07-07T17:25:49.436Z"
   },
   {
    "duration": 44,
    "start_time": "2021-07-07T17:25:49.441Z"
   },
   {
    "duration": 12,
    "start_time": "2021-07-07T17:25:49.488Z"
   },
   {
    "duration": 13,
    "start_time": "2021-07-07T17:25:49.502Z"
   },
   {
    "duration": 10,
    "start_time": "2021-07-07T17:25:49.516Z"
   },
   {
    "duration": 62,
    "start_time": "2021-07-07T17:25:49.527Z"
   },
   {
    "duration": 26,
    "start_time": "2021-07-07T17:26:51.809Z"
   },
   {
    "duration": 26,
    "start_time": "2021-07-07T17:26:55.759Z"
   },
   {
    "duration": 26,
    "start_time": "2021-07-07T17:27:04.501Z"
   },
   {
    "duration": 25,
    "start_time": "2021-07-07T17:28:24.859Z"
   },
   {
    "duration": 21,
    "start_time": "2021-07-07T17:28:55.250Z"
   },
   {
    "duration": 21,
    "start_time": "2021-07-07T17:28:58.885Z"
   },
   {
    "duration": 7,
    "start_time": "2021-07-07T17:45:40.972Z"
   },
   {
    "duration": 13,
    "start_time": "2021-07-07T17:45:42.529Z"
   },
   {
    "duration": 27,
    "start_time": "2021-07-07T17:45:51.026Z"
   },
   {
    "duration": 518,
    "start_time": "2021-07-07T17:46:15.532Z"
   },
   {
    "duration": 235,
    "start_time": "2021-07-07T17:46:16.053Z"
   },
   {
    "duration": 80,
    "start_time": "2021-07-07T17:46:16.292Z"
   },
   {
    "duration": 5,
    "start_time": "2021-07-07T17:46:16.373Z"
   },
   {
    "duration": 26,
    "start_time": "2021-07-07T17:46:16.380Z"
   },
   {
    "duration": 7,
    "start_time": "2021-07-07T17:46:16.408Z"
   },
   {
    "duration": 16,
    "start_time": "2021-07-07T17:46:16.418Z"
   },
   {
    "duration": 5,
    "start_time": "2021-07-07T17:46:16.436Z"
   },
   {
    "duration": 13,
    "start_time": "2021-07-07T17:46:16.442Z"
   },
   {
    "duration": 35,
    "start_time": "2021-07-07T17:46:16.456Z"
   },
   {
    "duration": 8,
    "start_time": "2021-07-07T17:46:16.493Z"
   },
   {
    "duration": 28,
    "start_time": "2021-07-07T17:46:16.502Z"
   },
   {
    "duration": 17,
    "start_time": "2021-07-07T17:46:16.532Z"
   },
   {
    "duration": 44,
    "start_time": "2021-07-07T17:46:16.551Z"
   },
   {
    "duration": 6,
    "start_time": "2021-07-07T17:46:16.597Z"
   },
   {
    "duration": 4,
    "start_time": "2021-07-07T17:46:16.605Z"
   },
   {
    "duration": 9,
    "start_time": "2021-07-07T17:46:16.610Z"
   },
   {
    "duration": 9,
    "start_time": "2021-07-07T17:46:16.621Z"
   },
   {
    "duration": 10,
    "start_time": "2021-07-07T17:46:16.632Z"
   },
   {
    "duration": 43,
    "start_time": "2021-07-07T17:46:16.644Z"
   },
   {
    "duration": 26,
    "start_time": "2021-07-07T17:46:16.689Z"
   },
   {
    "duration": 19,
    "start_time": "2021-07-07T17:46:16.718Z"
   },
   {
    "duration": 8,
    "start_time": "2021-07-07T17:46:16.738Z"
   },
   {
    "duration": 43,
    "start_time": "2021-07-07T17:46:16.747Z"
   },
   {
    "duration": 19,
    "start_time": "2021-07-07T17:46:16.791Z"
   },
   {
    "duration": 9,
    "start_time": "2021-07-07T17:46:16.812Z"
   },
   {
    "duration": 60,
    "start_time": "2021-07-07T17:46:16.822Z"
   },
   {
    "duration": -8,
    "start_time": "2021-07-07T17:46:16.892Z"
   },
   {
    "duration": 12,
    "start_time": "2021-07-07T17:48:47.707Z"
   },
   {
    "duration": 553,
    "start_time": "2021-07-07T18:10:09.350Z"
   },
   {
    "duration": 230,
    "start_time": "2021-07-07T18:10:09.905Z"
   },
   {
    "duration": 97,
    "start_time": "2021-07-07T18:10:10.137Z"
   },
   {
    "duration": 5,
    "start_time": "2021-07-07T18:10:10.236Z"
   },
   {
    "duration": 29,
    "start_time": "2021-07-07T18:10:10.242Z"
   },
   {
    "duration": 7,
    "start_time": "2021-07-07T18:10:10.272Z"
   },
   {
    "duration": 15,
    "start_time": "2021-07-07T18:10:10.281Z"
   },
   {
    "duration": 4,
    "start_time": "2021-07-07T18:10:10.299Z"
   },
   {
    "duration": 14,
    "start_time": "2021-07-07T18:10:10.305Z"
   },
   {
    "duration": 8,
    "start_time": "2021-07-07T18:10:10.321Z"
   },
   {
    "duration": 8,
    "start_time": "2021-07-07T18:10:10.331Z"
   },
   {
    "duration": 56,
    "start_time": "2021-07-07T18:10:10.341Z"
   },
   {
    "duration": 19,
    "start_time": "2021-07-07T18:10:10.399Z"
   },
   {
    "duration": 23,
    "start_time": "2021-07-07T18:10:10.419Z"
   },
   {
    "duration": 6,
    "start_time": "2021-07-07T18:10:10.444Z"
   },
   {
    "duration": 9,
    "start_time": "2021-07-07T18:10:10.451Z"
   },
   {
    "duration": 30,
    "start_time": "2021-07-07T18:10:10.462Z"
   },
   {
    "duration": 9,
    "start_time": "2021-07-07T18:10:10.494Z"
   },
   {
    "duration": 14,
    "start_time": "2021-07-07T18:10:10.505Z"
   },
   {
    "duration": 7,
    "start_time": "2021-07-07T18:10:10.521Z"
   },
   {
    "duration": 26,
    "start_time": "2021-07-07T18:10:10.530Z"
   },
   {
    "duration": 44,
    "start_time": "2021-07-07T18:10:10.558Z"
   },
   {
    "duration": 7,
    "start_time": "2021-07-07T18:10:10.605Z"
   },
   {
    "duration": 11,
    "start_time": "2021-07-07T18:10:10.614Z"
   },
   {
    "duration": 19,
    "start_time": "2021-07-07T18:10:10.626Z"
   },
   {
    "duration": 44,
    "start_time": "2021-07-07T18:10:10.646Z"
   },
   {
    "duration": 516,
    "start_time": "2021-07-07T18:14:00.826Z"
   },
   {
    "duration": 230,
    "start_time": "2021-07-07T18:14:01.344Z"
   },
   {
    "duration": 105,
    "start_time": "2021-07-07T18:14:01.576Z"
   },
   {
    "duration": 5,
    "start_time": "2021-07-07T18:14:01.683Z"
   },
   {
    "duration": 46,
    "start_time": "2021-07-07T18:14:01.690Z"
   },
   {
    "duration": 7,
    "start_time": "2021-07-07T18:14:01.738Z"
   },
   {
    "duration": 20,
    "start_time": "2021-07-07T18:14:01.747Z"
   },
   {
    "duration": 16,
    "start_time": "2021-07-07T18:14:01.769Z"
   },
   {
    "duration": 14,
    "start_time": "2021-07-07T18:14:01.787Z"
   },
   {
    "duration": 15,
    "start_time": "2021-07-07T18:14:01.803Z"
   },
   {
    "duration": 12,
    "start_time": "2021-07-07T18:14:01.820Z"
   },
   {
    "duration": 35,
    "start_time": "2021-07-07T18:14:01.833Z"
   },
   {
    "duration": 31,
    "start_time": "2021-07-07T18:14:01.869Z"
   },
   {
    "duration": 37,
    "start_time": "2021-07-07T18:14:01.902Z"
   },
   {
    "duration": 8,
    "start_time": "2021-07-07T18:14:01.942Z"
   },
   {
    "duration": 16,
    "start_time": "2021-07-07T18:14:01.952Z"
   },
   {
    "duration": 13,
    "start_time": "2021-07-07T18:14:01.970Z"
   },
   {
    "duration": 32,
    "start_time": "2021-07-07T18:14:01.985Z"
   },
   {
    "duration": 11,
    "start_time": "2021-07-07T18:14:02.019Z"
   },
   {
    "duration": 22,
    "start_time": "2021-07-07T18:14:02.031Z"
   },
   {
    "duration": 27,
    "start_time": "2021-07-07T18:14:02.055Z"
   },
   {
    "duration": 18,
    "start_time": "2021-07-07T18:14:02.084Z"
   },
   {
    "duration": 18,
    "start_time": "2021-07-07T18:14:02.106Z"
   },
   {
    "duration": 11,
    "start_time": "2021-07-07T18:14:02.126Z"
   },
   {
    "duration": 21,
    "start_time": "2021-07-07T18:14:02.138Z"
   },
   {
    "duration": 32,
    "start_time": "2021-07-07T18:14:02.161Z"
   },
   {
    "duration": 28,
    "start_time": "2021-07-07T18:14:44.295Z"
   },
   {
    "duration": 6,
    "start_time": "2021-07-07T18:15:05.834Z"
   },
   {
    "duration": 511,
    "start_time": "2021-07-07T18:15:41.541Z"
   },
   {
    "duration": 183,
    "start_time": "2021-07-07T18:15:42.054Z"
   },
   {
    "duration": 50,
    "start_time": "2021-07-07T18:15:42.239Z"
   },
   {
    "duration": 5,
    "start_time": "2021-07-07T18:15:42.291Z"
   },
   {
    "duration": 48,
    "start_time": "2021-07-07T18:15:42.297Z"
   },
   {
    "duration": 8,
    "start_time": "2021-07-07T18:15:42.346Z"
   },
   {
    "duration": 17,
    "start_time": "2021-07-07T18:15:42.356Z"
   },
   {
    "duration": 15,
    "start_time": "2021-07-07T18:15:42.375Z"
   },
   {
    "duration": 12,
    "start_time": "2021-07-07T18:15:42.392Z"
   },
   {
    "duration": 7,
    "start_time": "2021-07-07T18:15:42.406Z"
   },
   {
    "duration": 7,
    "start_time": "2021-07-07T18:15:42.415Z"
   },
   {
    "duration": 29,
    "start_time": "2021-07-07T18:15:42.423Z"
   },
   {
    "duration": 43,
    "start_time": "2021-07-07T18:15:42.453Z"
   },
   {
    "duration": 18,
    "start_time": "2021-07-07T18:15:42.497Z"
   },
   {
    "duration": 6,
    "start_time": "2021-07-07T18:15:42.516Z"
   },
   {
    "duration": 3,
    "start_time": "2021-07-07T18:15:42.523Z"
   },
   {
    "duration": 18,
    "start_time": "2021-07-07T18:15:42.528Z"
   },
   {
    "duration": 10,
    "start_time": "2021-07-07T18:15:42.547Z"
   },
   {
    "duration": 36,
    "start_time": "2021-07-07T18:15:42.559Z"
   },
   {
    "duration": 8,
    "start_time": "2021-07-07T18:15:42.597Z"
   },
   {
    "duration": 28,
    "start_time": "2021-07-07T18:15:42.606Z"
   },
   {
    "duration": 52,
    "start_time": "2021-07-07T18:15:42.635Z"
   },
   {
    "duration": 7,
    "start_time": "2021-07-07T18:15:42.690Z"
   },
   {
    "duration": 10,
    "start_time": "2021-07-07T18:15:42.699Z"
   },
   {
    "duration": 19,
    "start_time": "2021-07-07T18:15:42.711Z"
   },
   {
    "duration": 9,
    "start_time": "2021-07-07T18:15:42.732Z"
   },
   {
    "duration": 5,
    "start_time": "2021-07-07T18:15:42.743Z"
   },
   {
    "duration": 1450,
    "start_time": "2021-07-07T18:15:51.984Z"
   },
   {
    "duration": 161,
    "start_time": "2021-07-07T18:15:53.435Z"
   },
   {
    "duration": 124,
    "start_time": "2021-07-07T18:15:53.598Z"
   },
   {
    "duration": 5,
    "start_time": "2021-07-07T18:15:53.724Z"
   },
   {
    "duration": 34,
    "start_time": "2021-07-07T18:15:53.730Z"
   },
   {
    "duration": 7,
    "start_time": "2021-07-07T18:15:53.765Z"
   },
   {
    "duration": 15,
    "start_time": "2021-07-07T18:15:53.773Z"
   },
   {
    "duration": 5,
    "start_time": "2021-07-07T18:15:53.791Z"
   },
   {
    "duration": 19,
    "start_time": "2021-07-07T18:15:53.798Z"
   },
   {
    "duration": 9,
    "start_time": "2021-07-07T18:15:53.818Z"
   },
   {
    "duration": 19,
    "start_time": "2021-07-07T18:15:53.828Z"
   },
   {
    "duration": 27,
    "start_time": "2021-07-07T18:15:53.848Z"
   },
   {
    "duration": 16,
    "start_time": "2021-07-07T18:15:53.884Z"
   },
   {
    "duration": 29,
    "start_time": "2021-07-07T18:15:53.901Z"
   },
   {
    "duration": 5,
    "start_time": "2021-07-07T18:15:53.932Z"
   },
   {
    "duration": 15,
    "start_time": "2021-07-07T18:15:53.939Z"
   },
   {
    "duration": 13,
    "start_time": "2021-07-07T18:15:53.956Z"
   },
   {
    "duration": 20,
    "start_time": "2021-07-07T18:15:53.971Z"
   },
   {
    "duration": 14,
    "start_time": "2021-07-07T18:15:53.992Z"
   },
   {
    "duration": 9,
    "start_time": "2021-07-07T18:15:54.009Z"
   },
   {
    "duration": 28,
    "start_time": "2021-07-07T18:15:54.020Z"
   },
   {
    "duration": 50,
    "start_time": "2021-07-07T18:15:54.051Z"
   },
   {
    "duration": 8,
    "start_time": "2021-07-07T18:15:54.105Z"
   },
   {
    "duration": 11,
    "start_time": "2021-07-07T18:15:54.115Z"
   },
   {
    "duration": 20,
    "start_time": "2021-07-07T18:15:54.128Z"
   },
   {
    "duration": 13,
    "start_time": "2021-07-07T18:15:54.184Z"
   },
   {
    "duration": 7,
    "start_time": "2021-07-07T18:15:54.199Z"
   },
   {
    "duration": 7,
    "start_time": "2021-07-07T18:17:08.042Z"
   },
   {
    "duration": 8,
    "start_time": "2021-07-07T18:17:21.008Z"
   },
   {
    "duration": 7,
    "start_time": "2021-07-07T18:17:29.003Z"
   },
   {
    "duration": 8,
    "start_time": "2021-07-07T18:17:32.492Z"
   },
   {
    "duration": 9,
    "start_time": "2021-07-07T18:17:41.758Z"
   },
   {
    "duration": 255,
    "start_time": "2021-07-07T18:20:20.897Z"
   },
   {
    "duration": 173,
    "start_time": "2021-07-07T18:20:26.636Z"
   },
   {
    "duration": 7,
    "start_time": "2021-07-07T18:21:47.164Z"
   },
   {
    "duration": 254,
    "start_time": "2021-07-07T18:23:08.703Z"
   },
   {
    "duration": 21,
    "start_time": "2021-07-07T18:23:22.506Z"
   },
   {
    "duration": 315,
    "start_time": "2021-07-07T18:25:54.801Z"
   },
   {
    "duration": 34,
    "start_time": "2021-07-07T18:26:51.817Z"
   },
   {
    "duration": 327,
    "start_time": "2021-07-07T18:26:56.147Z"
   },
   {
    "duration": 342,
    "start_time": "2021-07-07T18:27:15.887Z"
   },
   {
    "duration": 302,
    "start_time": "2021-07-07T18:28:18.569Z"
   },
   {
    "duration": 226,
    "start_time": "2021-07-07T18:29:20.879Z"
   },
   {
    "duration": 207,
    "start_time": "2021-07-07T18:29:58.114Z"
   },
   {
    "duration": 140,
    "start_time": "2021-07-07T18:32:04.372Z"
   },
   {
    "duration": 158,
    "start_time": "2021-07-07T18:32:32.508Z"
   },
   {
    "duration": 145,
    "start_time": "2021-07-07T18:32:41.365Z"
   },
   {
    "duration": 132,
    "start_time": "2021-07-07T18:32:45.199Z"
   },
   {
    "duration": 11,
    "start_time": "2021-07-07T18:35:24.679Z"
   },
   {
    "duration": 268,
    "start_time": "2021-07-07T18:36:16.145Z"
   },
   {
    "duration": 227,
    "start_time": "2021-07-07T18:37:04.918Z"
   },
   {
    "duration": 3,
    "start_time": "2021-07-07T18:37:33.012Z"
   },
   {
    "duration": 671,
    "start_time": "2021-07-07T18:37:38.295Z"
   },
   {
    "duration": 54,
    "start_time": "2021-07-07T18:37:53.406Z"
   },
   {
    "duration": 631,
    "start_time": "2021-07-07T18:37:56.463Z"
   },
   {
    "duration": 19,
    "start_time": "2021-07-07T18:39:40.535Z"
   },
   {
    "duration": 20,
    "start_time": "2021-07-07T18:40:12.236Z"
   },
   {
    "duration": 633,
    "start_time": "2021-07-07T18:42:00.398Z"
   },
   {
    "duration": 218,
    "start_time": "2021-07-07T18:42:01.033Z"
   },
   {
    "duration": 49,
    "start_time": "2021-07-07T18:42:01.253Z"
   },
   {
    "duration": 5,
    "start_time": "2021-07-07T18:42:01.303Z"
   },
   {
    "duration": 27,
    "start_time": "2021-07-07T18:42:01.310Z"
   },
   {
    "duration": 8,
    "start_time": "2021-07-07T18:42:01.339Z"
   },
   {
    "duration": 20,
    "start_time": "2021-07-07T18:42:01.348Z"
   },
   {
    "duration": 6,
    "start_time": "2021-07-07T18:42:01.386Z"
   },
   {
    "duration": 16,
    "start_time": "2021-07-07T18:42:01.394Z"
   },
   {
    "duration": 9,
    "start_time": "2021-07-07T18:42:01.411Z"
   },
   {
    "duration": 11,
    "start_time": "2021-07-07T18:42:01.421Z"
   },
   {
    "duration": 31,
    "start_time": "2021-07-07T18:42:01.434Z"
   },
   {
    "duration": 18,
    "start_time": "2021-07-07T18:42:01.485Z"
   },
   {
    "duration": 23,
    "start_time": "2021-07-07T18:42:01.505Z"
   },
   {
    "duration": 6,
    "start_time": "2021-07-07T18:42:01.530Z"
   },
   {
    "duration": 10,
    "start_time": "2021-07-07T18:42:01.538Z"
   },
   {
    "duration": 13,
    "start_time": "2021-07-07T18:42:01.550Z"
   },
   {
    "duration": 24,
    "start_time": "2021-07-07T18:42:01.564Z"
   },
   {
    "duration": 20,
    "start_time": "2021-07-07T18:42:01.590Z"
   },
   {
    "duration": 8,
    "start_time": "2021-07-07T18:42:01.611Z"
   },
   {
    "duration": 31,
    "start_time": "2021-07-07T18:42:01.620Z"
   },
   {
    "duration": 39,
    "start_time": "2021-07-07T18:42:01.653Z"
   },
   {
    "duration": 8,
    "start_time": "2021-07-07T18:42:01.696Z"
   },
   {
    "duration": 13,
    "start_time": "2021-07-07T18:42:01.705Z"
   },
   {
    "duration": 20,
    "start_time": "2021-07-07T18:42:01.720Z"
   },
   {
    "duration": 12,
    "start_time": "2021-07-07T18:42:01.741Z"
   },
   {
    "duration": 35,
    "start_time": "2021-07-07T18:42:01.755Z"
   },
   {
    "duration": 14,
    "start_time": "2021-07-07T18:42:01.792Z"
   },
   {
    "duration": 188,
    "start_time": "2021-07-07T18:42:01.808Z"
   },
   {
    "duration": 19,
    "start_time": "2021-07-07T18:42:01.998Z"
   },
   {
    "duration": 175,
    "start_time": "2021-07-07T18:42:02.019Z"
   },
   {
    "duration": 134,
    "start_time": "2021-07-07T18:42:02.196Z"
   },
   {
    "duration": 10,
    "start_time": "2021-07-07T18:42:02.331Z"
   },
   {
    "duration": 19,
    "start_time": "2021-07-07T18:42:02.343Z"
   },
   {
    "duration": 628,
    "start_time": "2021-07-07T18:46:30.701Z"
   },
   {
    "duration": 183,
    "start_time": "2021-07-07T18:46:31.331Z"
   },
   {
    "duration": 48,
    "start_time": "2021-07-07T18:46:31.516Z"
   },
   {
    "duration": 5,
    "start_time": "2021-07-07T18:46:31.566Z"
   },
   {
    "duration": 28,
    "start_time": "2021-07-07T18:46:31.572Z"
   },
   {
    "duration": 8,
    "start_time": "2021-07-07T18:46:31.602Z"
   },
   {
    "duration": 19,
    "start_time": "2021-07-07T18:46:31.611Z"
   },
   {
    "duration": 6,
    "start_time": "2021-07-07T18:46:31.633Z"
   },
   {
    "duration": 17,
    "start_time": "2021-07-07T18:46:31.642Z"
   },
   {
    "duration": 10,
    "start_time": "2021-07-07T18:46:31.684Z"
   },
   {
    "duration": 9,
    "start_time": "2021-07-07T18:46:31.695Z"
   },
   {
    "duration": 28,
    "start_time": "2021-07-07T18:46:31.705Z"
   },
   {
    "duration": 18,
    "start_time": "2021-07-07T18:46:31.735Z"
   },
   {
    "duration": 48,
    "start_time": "2021-07-07T18:46:31.755Z"
   },
   {
    "duration": 6,
    "start_time": "2021-07-07T18:46:31.804Z"
   },
   {
    "duration": 4,
    "start_time": "2021-07-07T18:46:31.812Z"
   },
   {
    "duration": 9,
    "start_time": "2021-07-07T18:46:31.817Z"
   },
   {
    "duration": 10,
    "start_time": "2021-07-07T18:46:31.827Z"
   },
   {
    "duration": 12,
    "start_time": "2021-07-07T18:46:31.838Z"
   },
   {
    "duration": 39,
    "start_time": "2021-07-07T18:46:31.851Z"
   },
   {
    "duration": 24,
    "start_time": "2021-07-07T18:46:31.892Z"
   },
   {
    "duration": 15,
    "start_time": "2021-07-07T18:46:31.918Z"
   },
   {
    "duration": 7,
    "start_time": "2021-07-07T18:46:31.936Z"
   },
   {
    "duration": 8,
    "start_time": "2021-07-07T18:46:31.944Z"
   },
   {
    "duration": 19,
    "start_time": "2021-07-07T18:46:31.984Z"
   },
   {
    "duration": 10,
    "start_time": "2021-07-07T18:46:32.004Z"
   },
   {
    "duration": 5,
    "start_time": "2021-07-07T18:46:32.016Z"
   },
   {
    "duration": 9,
    "start_time": "2021-07-07T18:46:32.023Z"
   },
   {
    "duration": 199,
    "start_time": "2021-07-07T18:46:32.033Z"
   },
   {
    "duration": 19,
    "start_time": "2021-07-07T18:46:32.234Z"
   },
   {
    "duration": 159,
    "start_time": "2021-07-07T18:46:32.255Z"
   },
   {
    "duration": 134,
    "start_time": "2021-07-07T18:46:32.416Z"
   },
   {
    "duration": 10,
    "start_time": "2021-07-07T18:46:32.552Z"
   },
   {
    "duration": 34,
    "start_time": "2021-07-07T18:46:32.563Z"
   },
   {
    "duration": 1039,
    "start_time": "2021-07-08T08:41:09.419Z"
   },
   {
    "duration": 333,
    "start_time": "2021-07-08T08:41:10.459Z"
   },
   {
    "duration": 173,
    "start_time": "2021-07-08T08:41:10.794Z"
   },
   {
    "duration": 5,
    "start_time": "2021-07-08T08:41:10.968Z"
   },
   {
    "duration": 25,
    "start_time": "2021-07-08T08:41:10.975Z"
   },
   {
    "duration": 9,
    "start_time": "2021-07-08T08:41:11.002Z"
   },
   {
    "duration": 18,
    "start_time": "2021-07-08T08:41:11.013Z"
   },
   {
    "duration": 6,
    "start_time": "2021-07-08T08:41:11.033Z"
   },
   {
    "duration": 44,
    "start_time": "2021-07-08T08:41:11.042Z"
   },
   {
    "duration": 10,
    "start_time": "2021-07-08T08:41:11.088Z"
   },
   {
    "duration": 9,
    "start_time": "2021-07-08T08:41:11.100Z"
   },
   {
    "duration": 27,
    "start_time": "2021-07-08T08:41:11.111Z"
   },
   {
    "duration": 46,
    "start_time": "2021-07-08T08:41:11.140Z"
   },
   {
    "duration": 17,
    "start_time": "2021-07-08T08:41:11.187Z"
   },
   {
    "duration": 6,
    "start_time": "2021-07-08T08:41:11.206Z"
   },
   {
    "duration": 5,
    "start_time": "2021-07-08T08:41:11.213Z"
   },
   {
    "duration": 10,
    "start_time": "2021-07-08T08:41:11.219Z"
   },
   {
    "duration": 9,
    "start_time": "2021-07-08T08:41:11.230Z"
   },
   {
    "duration": 45,
    "start_time": "2021-07-08T08:41:11.241Z"
   },
   {
    "duration": 7,
    "start_time": "2021-07-08T08:41:11.287Z"
   },
   {
    "duration": 24,
    "start_time": "2021-07-08T08:41:11.296Z"
   },
   {
    "duration": 16,
    "start_time": "2021-07-08T08:41:11.322Z"
   },
   {
    "duration": 7,
    "start_time": "2021-07-08T08:41:11.341Z"
   },
   {
    "duration": 41,
    "start_time": "2021-07-08T08:41:11.349Z"
   },
   {
    "duration": 17,
    "start_time": "2021-07-08T08:41:11.391Z"
   },
   {
    "duration": 9,
    "start_time": "2021-07-08T08:41:11.410Z"
   },
   {
    "duration": 5,
    "start_time": "2021-07-08T08:41:11.421Z"
   },
   {
    "duration": 6,
    "start_time": "2021-07-08T08:41:11.428Z"
   },
   {
    "duration": 198,
    "start_time": "2021-07-08T08:41:11.435Z"
   },
   {
    "duration": 18,
    "start_time": "2021-07-08T08:41:11.635Z"
   },
   {
    "duration": 155,
    "start_time": "2021-07-08T08:41:11.655Z"
   },
   {
    "duration": 138,
    "start_time": "2021-07-08T08:41:11.811Z"
   },
   {
    "duration": 10,
    "start_time": "2021-07-08T08:41:11.950Z"
   },
   {
    "duration": 29,
    "start_time": "2021-07-08T08:41:11.961Z"
   },
   {
    "duration": 171,
    "start_time": "2021-07-08T08:47:44.522Z"
   },
   {
    "duration": 124,
    "start_time": "2021-07-08T08:47:46.872Z"
   },
   {
    "duration": 191,
    "start_time": "2021-07-08T08:47:58.148Z"
   },
   {
    "duration": 191,
    "start_time": "2021-07-08T08:48:07.412Z"
   },
   {
    "duration": 261,
    "start_time": "2021-07-08T08:48:10.385Z"
   },
   {
    "duration": 255,
    "start_time": "2021-07-08T08:48:14.494Z"
   },
   {
    "duration": 219,
    "start_time": "2021-07-08T08:48:22.752Z"
   },
   {
    "duration": 173,
    "start_time": "2021-07-08T08:49:06.395Z"
   },
   {
    "duration": 180,
    "start_time": "2021-07-08T08:49:21.011Z"
   },
   {
    "duration": 6,
    "start_time": "2021-07-08T08:50:31.697Z"
   },
   {
    "duration": 10,
    "start_time": "2021-07-08T08:50:47.394Z"
   },
   {
    "duration": 11,
    "start_time": "2021-07-08T08:53:49.332Z"
   },
   {
    "duration": 171,
    "start_time": "2021-07-08T08:54:28.408Z"
   },
   {
    "duration": 636,
    "start_time": "2021-07-08T09:02:48.385Z"
   },
   {
    "duration": 227,
    "start_time": "2021-07-08T09:02:49.023Z"
   },
   {
    "duration": 104,
    "start_time": "2021-07-08T09:02:49.252Z"
   },
   {
    "duration": 5,
    "start_time": "2021-07-08T09:02:49.358Z"
   },
   {
    "duration": 27,
    "start_time": "2021-07-08T09:02:49.365Z"
   },
   {
    "duration": 8,
    "start_time": "2021-07-08T09:02:49.394Z"
   },
   {
    "duration": 18,
    "start_time": "2021-07-08T09:02:49.404Z"
   },
   {
    "duration": 6,
    "start_time": "2021-07-08T09:02:49.424Z"
   },
   {
    "duration": 11,
    "start_time": "2021-07-08T09:02:49.433Z"
   },
   {
    "duration": 13,
    "start_time": "2021-07-08T09:02:49.485Z"
   },
   {
    "duration": 9,
    "start_time": "2021-07-08T09:02:49.500Z"
   },
   {
    "duration": 38,
    "start_time": "2021-07-08T09:02:49.511Z"
   },
   {
    "duration": 42,
    "start_time": "2021-07-08T09:02:49.551Z"
   },
   {
    "duration": 21,
    "start_time": "2021-07-08T09:02:49.594Z"
   },
   {
    "duration": 6,
    "start_time": "2021-07-08T09:02:49.616Z"
   },
   {
    "duration": 3,
    "start_time": "2021-07-08T09:02:49.623Z"
   },
   {
    "duration": 9,
    "start_time": "2021-07-08T09:02:49.628Z"
   },
   {
    "duration": 52,
    "start_time": "2021-07-08T09:02:49.638Z"
   },
   {
    "duration": 11,
    "start_time": "2021-07-08T09:02:49.692Z"
   },
   {
    "duration": 8,
    "start_time": "2021-07-08T09:02:49.704Z"
   },
   {
    "duration": 27,
    "start_time": "2021-07-08T09:02:49.713Z"
   },
   {
    "duration": 59,
    "start_time": "2021-07-08T09:02:49.741Z"
   },
   {
    "duration": 8,
    "start_time": "2021-07-08T09:02:49.803Z"
   },
   {
    "duration": 14,
    "start_time": "2021-07-08T09:02:49.813Z"
   },
   {
    "duration": 20,
    "start_time": "2021-07-08T09:02:49.829Z"
   },
   {
    "duration": 44,
    "start_time": "2021-07-08T09:02:49.851Z"
   },
   {
    "duration": 14,
    "start_time": "2021-07-08T09:02:49.896Z"
   },
   {
    "duration": 221,
    "start_time": "2021-07-08T09:02:49.912Z"
   },
   {
    "duration": 6,
    "start_time": "2021-07-08T09:02:50.134Z"
   },
   {
    "duration": 206,
    "start_time": "2021-07-08T09:02:50.142Z"
   },
   {
    "duration": 19,
    "start_time": "2021-07-08T09:02:50.350Z"
   },
   {
    "duration": 21,
    "start_time": "2021-07-08T09:02:50.370Z"
   },
   {
    "duration": 20,
    "start_time": "2021-07-08T09:02:50.393Z"
   },
   {
    "duration": 5,
    "start_time": "2021-07-08T09:02:50.414Z"
   },
   {
    "duration": 5,
    "start_time": "2021-07-08T09:03:34.173Z"
   },
   {
    "duration": 6,
    "start_time": "2021-07-08T09:04:49.062Z"
   },
   {
    "duration": 9,
    "start_time": "2021-07-08T09:04:50.118Z"
   },
   {
    "duration": 14,
    "start_time": "2021-07-08T09:04:58.512Z"
   },
   {
    "duration": 9,
    "start_time": "2021-07-08T09:05:10.988Z"
   },
   {
    "duration": 11,
    "start_time": "2021-07-08T09:05:11.743Z"
   },
   {
    "duration": 7,
    "start_time": "2021-07-08T09:05:25.677Z"
   },
   {
    "duration": 13,
    "start_time": "2021-07-08T09:05:47.189Z"
   },
   {
    "duration": 13,
    "start_time": "2021-07-08T09:05:54.755Z"
   },
   {
    "duration": 4,
    "start_time": "2021-07-08T09:06:29.189Z"
   },
   {
    "duration": 244,
    "start_time": "2021-07-08T09:06:29.195Z"
   },
   {
    "duration": 91,
    "start_time": "2021-07-08T09:06:29.441Z"
   },
   {
    "duration": 4,
    "start_time": "2021-07-08T09:06:29.534Z"
   },
   {
    "duration": 28,
    "start_time": "2021-07-08T09:06:29.540Z"
   },
   {
    "duration": 6,
    "start_time": "2021-07-08T09:06:29.570Z"
   },
   {
    "duration": 18,
    "start_time": "2021-07-08T09:06:29.578Z"
   },
   {
    "duration": 5,
    "start_time": "2021-07-08T09:06:29.597Z"
   },
   {
    "duration": 13,
    "start_time": "2021-07-08T09:06:29.605Z"
   },
   {
    "duration": 8,
    "start_time": "2021-07-08T09:06:29.620Z"
   },
   {
    "duration": 7,
    "start_time": "2021-07-08T09:06:29.630Z"
   },
   {
    "duration": 63,
    "start_time": "2021-07-08T09:06:29.639Z"
   },
   {
    "duration": 17,
    "start_time": "2021-07-08T09:06:29.704Z"
   },
   {
    "duration": 20,
    "start_time": "2021-07-08T09:06:29.723Z"
   },
   {
    "duration": 6,
    "start_time": "2021-07-08T09:06:29.745Z"
   },
   {
    "duration": 3,
    "start_time": "2021-07-08T09:06:29.752Z"
   },
   {
    "duration": 7,
    "start_time": "2021-07-08T09:06:29.785Z"
   },
   {
    "duration": 11,
    "start_time": "2021-07-08T09:06:29.794Z"
   },
   {
    "duration": 15,
    "start_time": "2021-07-08T09:06:29.807Z"
   },
   {
    "duration": 8,
    "start_time": "2021-07-08T09:06:29.823Z"
   },
   {
    "duration": 70,
    "start_time": "2021-07-08T09:06:29.832Z"
   },
   {
    "duration": 17,
    "start_time": "2021-07-08T09:06:29.903Z"
   },
   {
    "duration": 9,
    "start_time": "2021-07-08T09:06:29.921Z"
   },
   {
    "duration": 9,
    "start_time": "2021-07-08T09:06:29.932Z"
   },
   {
    "duration": 57,
    "start_time": "2021-07-08T09:06:29.942Z"
   },
   {
    "duration": 11,
    "start_time": "2021-07-08T09:06:30.001Z"
   },
   {
    "duration": 19,
    "start_time": "2021-07-08T09:06:30.016Z"
   },
   {
    "duration": 217,
    "start_time": "2021-07-08T09:06:30.037Z"
   },
   {
    "duration": 6,
    "start_time": "2021-07-08T09:06:30.255Z"
   },
   {
    "duration": 205,
    "start_time": "2021-07-08T09:06:30.263Z"
   },
   {
    "duration": 27,
    "start_time": "2021-07-08T09:06:30.470Z"
   },
   {
    "duration": 11,
    "start_time": "2021-07-08T09:06:30.500Z"
   },
   {
    "duration": 31,
    "start_time": "2021-07-08T09:06:30.513Z"
   },
   {
    "duration": 18,
    "start_time": "2021-07-08T09:06:30.546Z"
   },
   {
    "duration": 11,
    "start_time": "2021-07-08T09:06:30.566Z"
   },
   {
    "duration": 19,
    "start_time": "2021-07-08T09:06:30.579Z"
   },
   {
    "duration": 20,
    "start_time": "2021-07-08T09:06:49.466Z"
   },
   {
    "duration": 9,
    "start_time": "2021-07-08T09:06:51.994Z"
   },
   {
    "duration": 20,
    "start_time": "2021-07-08T09:06:52.273Z"
   },
   {
    "duration": 246,
    "start_time": "2021-07-08T09:10:21.272Z"
   },
   {
    "duration": 84,
    "start_time": "2021-07-08T09:10:21.436Z"
   },
   {
    "duration": 7,
    "start_time": "2021-07-08T09:10:37.608Z"
   },
   {
    "duration": 189,
    "start_time": "2021-07-08T09:10:38.573Z"
   },
   {
    "duration": 185,
    "start_time": "2021-07-08T09:10:53.181Z"
   },
   {
    "duration": 11,
    "start_time": "2021-07-08T09:10:59.549Z"
   },
   {
    "duration": 42,
    "start_time": "2021-07-08T09:10:59.709Z"
   },
   {
    "duration": 12,
    "start_time": "2021-07-08T09:11:02.857Z"
   },
   {
    "duration": 28,
    "start_time": "2021-07-08T09:11:10.062Z"
   },
   {
    "duration": 249,
    "start_time": "2021-07-08T09:11:37.388Z"
   },
   {
    "duration": 232,
    "start_time": "2021-07-08T09:11:49.485Z"
   },
   {
    "duration": 453,
    "start_time": "2021-07-08T09:12:01.546Z"
   },
   {
    "duration": 440,
    "start_time": "2021-07-08T09:12:12.347Z"
   },
   {
    "duration": 213,
    "start_time": "2021-07-08T09:13:32.196Z"
   },
   {
    "duration": 172,
    "start_time": "2021-07-08T09:14:07.400Z"
   },
   {
    "duration": 185,
    "start_time": "2021-07-08T09:14:14.905Z"
   },
   {
    "duration": 209,
    "start_time": "2021-07-08T09:14:40.109Z"
   },
   {
    "duration": 201,
    "start_time": "2021-07-08T09:14:54.506Z"
   },
   {
    "duration": 622,
    "start_time": "2021-07-08T09:18:14.497Z"
   },
   {
    "duration": 220,
    "start_time": "2021-07-08T09:18:15.121Z"
   },
   {
    "duration": 79,
    "start_time": "2021-07-08T09:18:15.343Z"
   },
   {
    "duration": 4,
    "start_time": "2021-07-08T09:18:15.425Z"
   },
   {
    "duration": 24,
    "start_time": "2021-07-08T09:18:15.431Z"
   },
   {
    "duration": 8,
    "start_time": "2021-07-08T09:18:15.457Z"
   },
   {
    "duration": 16,
    "start_time": "2021-07-08T09:18:15.466Z"
   },
   {
    "duration": 5,
    "start_time": "2021-07-08T09:18:15.484Z"
   },
   {
    "duration": 10,
    "start_time": "2021-07-08T09:18:15.493Z"
   },
   {
    "duration": 8,
    "start_time": "2021-07-08T09:18:15.504Z"
   },
   {
    "duration": 7,
    "start_time": "2021-07-08T09:18:15.513Z"
   },
   {
    "duration": 26,
    "start_time": "2021-07-08T09:18:15.522Z"
   },
   {
    "duration": 49,
    "start_time": "2021-07-08T09:18:15.550Z"
   },
   {
    "duration": 21,
    "start_time": "2021-07-08T09:18:15.601Z"
   },
   {
    "duration": 8,
    "start_time": "2021-07-08T09:18:15.624Z"
   },
   {
    "duration": 3,
    "start_time": "2021-07-08T09:18:15.634Z"
   },
   {
    "duration": 8,
    "start_time": "2021-07-08T09:18:15.639Z"
   },
   {
    "duration": 45,
    "start_time": "2021-07-08T09:18:15.649Z"
   },
   {
    "duration": 13,
    "start_time": "2021-07-08T09:18:15.696Z"
   },
   {
    "duration": 10,
    "start_time": "2021-07-08T09:18:15.711Z"
   },
   {
    "duration": 64,
    "start_time": "2021-07-08T09:18:15.722Z"
   },
   {
    "duration": 19,
    "start_time": "2021-07-08T09:18:15.788Z"
   },
   {
    "duration": 9,
    "start_time": "2021-07-08T09:18:15.809Z"
   },
   {
    "duration": 9,
    "start_time": "2021-07-08T09:18:15.820Z"
   },
   {
    "duration": 18,
    "start_time": "2021-07-08T09:18:15.831Z"
   },
   {
    "duration": 43,
    "start_time": "2021-07-08T09:18:15.851Z"
   },
   {
    "duration": 12,
    "start_time": "2021-07-08T09:18:15.897Z"
   },
   {
    "duration": 219,
    "start_time": "2021-07-08T09:18:15.911Z"
   },
   {
    "duration": 8,
    "start_time": "2021-07-08T09:18:16.132Z"
   },
   {
    "duration": 199,
    "start_time": "2021-07-08T09:18:16.141Z"
   },
   {
    "duration": 18,
    "start_time": "2021-07-08T09:18:16.341Z"
   },
   {
    "duration": 24,
    "start_time": "2021-07-08T09:18:16.361Z"
   },
   {
    "duration": 24,
    "start_time": "2021-07-08T09:18:16.387Z"
   },
   {
    "duration": 211,
    "start_time": "2021-07-08T09:18:16.413Z"
   },
   {
    "duration": 18,
    "start_time": "2021-07-08T09:18:16.626Z"
   },
   {
    "duration": 596,
    "start_time": "2021-07-08T10:06:33.623Z"
   },
   {
    "duration": 181,
    "start_time": "2021-07-08T10:06:34.221Z"
   },
   {
    "duration": 176,
    "start_time": "2021-07-08T10:06:34.635Z"
   },
   {
    "duration": 239,
    "start_time": "2021-07-08T10:06:55.572Z"
   },
   {
    "duration": 6,
    "start_time": "2021-07-08T10:06:57.687Z"
   },
   {
    "duration": 4,
    "start_time": "2021-07-08T10:07:03.956Z"
   },
   {
    "duration": 4,
    "start_time": "2021-07-08T10:07:10.376Z"
   },
   {
    "duration": 4,
    "start_time": "2021-07-08T10:17:19.889Z"
   },
   {
    "duration": 3,
    "start_time": "2021-07-08T10:19:19.407Z"
   },
   {
    "duration": 197,
    "start_time": "2021-07-08T10:19:19.412Z"
   },
   {
    "duration": 127,
    "start_time": "2021-07-08T10:19:19.611Z"
   },
   {
    "duration": 4,
    "start_time": "2021-07-08T10:19:19.740Z"
   },
   {
    "duration": 27,
    "start_time": "2021-07-08T10:19:19.746Z"
   },
   {
    "duration": 7,
    "start_time": "2021-07-08T10:19:19.775Z"
   },
   {
    "duration": 30,
    "start_time": "2021-07-08T10:19:19.784Z"
   },
   {
    "duration": 7,
    "start_time": "2021-07-08T10:19:19.817Z"
   },
   {
    "duration": 26,
    "start_time": "2021-07-08T10:19:19.826Z"
   },
   {
    "duration": 18,
    "start_time": "2021-07-08T10:19:19.854Z"
   },
   {
    "duration": 14,
    "start_time": "2021-07-08T10:19:19.874Z"
   },
   {
    "duration": 48,
    "start_time": "2021-07-08T10:19:19.890Z"
   },
   {
    "duration": 17,
    "start_time": "2021-07-08T10:19:19.940Z"
   },
   {
    "duration": 38,
    "start_time": "2021-07-08T10:19:19.959Z"
   },
   {
    "duration": 8,
    "start_time": "2021-07-08T10:19:19.999Z"
   },
   {
    "duration": 15,
    "start_time": "2021-07-08T10:19:20.009Z"
   },
   {
    "duration": 22,
    "start_time": "2021-07-08T10:19:20.026Z"
   },
   {
    "duration": 10,
    "start_time": "2021-07-08T10:19:20.050Z"
   },
   {
    "duration": 10,
    "start_time": "2021-07-08T10:19:20.062Z"
   },
   {
    "duration": 20,
    "start_time": "2021-07-08T10:19:20.073Z"
   },
   {
    "duration": 29,
    "start_time": "2021-07-08T10:19:20.095Z"
   },
   {
    "duration": 17,
    "start_time": "2021-07-08T10:19:20.126Z"
   },
   {
    "duration": 40,
    "start_time": "2021-07-08T10:19:20.146Z"
   },
   {
    "duration": 15,
    "start_time": "2021-07-08T10:19:20.189Z"
   },
   {
    "duration": 19,
    "start_time": "2021-07-08T10:19:20.206Z"
   },
   {
    "duration": 10,
    "start_time": "2021-07-08T10:19:20.226Z"
   },
   {
    "duration": 11,
    "start_time": "2021-07-08T10:19:20.238Z"
   },
   {
    "duration": 297,
    "start_time": "2021-07-08T10:19:20.250Z"
   },
   {
    "duration": 6,
    "start_time": "2021-07-08T10:19:20.549Z"
   },
   {
    "duration": 191,
    "start_time": "2021-07-08T10:19:20.557Z"
   },
   {
    "duration": 19,
    "start_time": "2021-07-08T10:19:20.750Z"
   },
   {
    "duration": 20,
    "start_time": "2021-07-08T10:19:20.771Z"
   },
   {
    "duration": 15,
    "start_time": "2021-07-08T10:19:20.793Z"
   },
   {
    "duration": 222,
    "start_time": "2021-07-08T10:19:20.809Z"
   },
   {
    "duration": 20,
    "start_time": "2021-07-08T10:19:21.033Z"
   },
   {
    "duration": 27,
    "start_time": "2021-07-08T10:45:04.055Z"
   },
   {
    "duration": 8,
    "start_time": "2021-07-08T10:45:08.478Z"
   },
   {
    "duration": 8,
    "start_time": "2021-07-08T10:45:31.982Z"
   },
   {
    "duration": 10,
    "start_time": "2021-07-08T10:46:01.221Z"
   },
   {
    "duration": 17,
    "start_time": "2021-07-08T10:46:40.011Z"
   },
   {
    "duration": 193,
    "start_time": "2021-07-08T10:48:19.471Z"
   },
   {
    "duration": 225,
    "start_time": "2021-07-08T10:49:26.480Z"
   },
   {
    "duration": 204,
    "start_time": "2021-07-08T10:49:59.992Z"
   },
   {
    "duration": 435,
    "start_time": "2021-07-08T10:50:06.779Z"
   },
   {
    "duration": 199,
    "start_time": "2021-07-08T10:50:14.891Z"
   },
   {
    "duration": 204,
    "start_time": "2021-07-08T10:50:18.501Z"
   },
   {
    "duration": 244,
    "start_time": "2021-07-08T10:50:23.359Z"
   },
   {
    "duration": 192,
    "start_time": "2021-07-08T10:50:29.135Z"
   },
   {
    "duration": 218,
    "start_time": "2021-07-08T10:50:33.092Z"
   },
   {
    "duration": 207,
    "start_time": "2021-07-08T10:52:45.381Z"
   },
   {
    "duration": 5,
    "start_time": "2021-07-08T10:53:34.641Z"
   },
   {
    "duration": 196,
    "start_time": "2021-07-08T10:53:41.478Z"
   },
   {
    "duration": 43,
    "start_time": "2021-07-08T10:53:50.335Z"
   },
   {
    "duration": 32,
    "start_time": "2021-07-08T10:53:55.294Z"
   },
   {
    "duration": 55,
    "start_time": "2021-07-08T10:54:09.675Z"
   },
   {
    "duration": 16,
    "start_time": "2021-07-08T10:54:12.260Z"
   },
   {
    "duration": 15,
    "start_time": "2021-07-08T10:54:49.150Z"
   },
   {
    "duration": 20,
    "start_time": "2021-07-08T10:56:07.596Z"
   },
   {
    "duration": 16,
    "start_time": "2021-07-08T10:58:26.276Z"
   },
   {
    "duration": 22,
    "start_time": "2021-07-08T10:59:00.486Z"
   },
   {
    "duration": 18,
    "start_time": "2021-07-08T11:02:09.653Z"
   },
   {
    "duration": 10,
    "start_time": "2021-07-08T11:03:44.331Z"
   },
   {
    "duration": 10,
    "start_time": "2021-07-08T11:03:54.055Z"
   },
   {
    "duration": 12,
    "start_time": "2021-07-08T11:04:41.967Z"
   },
   {
    "duration": 24,
    "start_time": "2021-07-08T11:07:30.732Z"
   },
   {
    "duration": 6,
    "start_time": "2021-07-08T11:07:37.364Z"
   },
   {
    "duration": 16,
    "start_time": "2021-07-08T11:08:01.819Z"
   },
   {
    "duration": 17,
    "start_time": "2021-07-08T11:09:47.488Z"
   },
   {
    "duration": 246,
    "start_time": "2021-07-08T11:10:00.830Z"
   },
   {
    "duration": 18,
    "start_time": "2021-07-08T11:13:55.195Z"
   },
   {
    "duration": 204,
    "start_time": "2021-07-08T11:14:04.951Z"
   },
   {
    "duration": 19,
    "start_time": "2021-07-08T11:15:10.613Z"
   },
   {
    "duration": 680,
    "start_time": "2021-07-08T11:16:25.793Z"
   },
   {
    "duration": 451,
    "start_time": "2021-07-08T11:16:40.313Z"
   },
   {
    "duration": 469,
    "start_time": "2021-07-08T11:17:21.286Z"
   },
   {
    "duration": 20,
    "start_time": "2021-07-08T11:19:12.554Z"
   },
   {
    "duration": 35,
    "start_time": "2021-07-08T11:20:05.484Z"
   },
   {
    "duration": 53,
    "start_time": "2021-07-08T11:21:40.050Z"
   },
   {
    "duration": 13,
    "start_time": "2021-07-08T11:22:26.059Z"
   },
   {
    "duration": 19,
    "start_time": "2021-07-08T11:22:47.419Z"
   },
   {
    "duration": 25,
    "start_time": "2021-07-08T11:23:19.958Z"
   },
   {
    "duration": 29,
    "start_time": "2021-07-08T11:23:25.415Z"
   },
   {
    "duration": 10,
    "start_time": "2021-07-08T11:24:45.138Z"
   },
   {
    "duration": 19,
    "start_time": "2021-07-08T11:24:54.498Z"
   },
   {
    "duration": 12,
    "start_time": "2021-07-08T11:25:32.225Z"
   },
   {
    "duration": 19,
    "start_time": "2021-07-08T11:25:37.092Z"
   },
   {
    "duration": 17,
    "start_time": "2021-07-08T11:25:58.116Z"
   },
   {
    "duration": 15,
    "start_time": "2021-07-08T11:26:02.258Z"
   },
   {
    "duration": 8,
    "start_time": "2021-07-08T11:26:59.682Z"
   },
   {
    "duration": 184,
    "start_time": "2021-07-08T11:27:21.894Z"
   },
   {
    "duration": 8,
    "start_time": "2021-07-08T11:27:23.824Z"
   },
   {
    "duration": 202,
    "start_time": "2021-07-08T11:27:23.962Z"
   },
   {
    "duration": 360,
    "start_time": "2021-07-08T11:28:33.215Z"
   },
   {
    "duration": 231,
    "start_time": "2021-07-08T11:32:05.542Z"
   },
   {
    "duration": 607,
    "start_time": "2021-07-08T11:36:27.854Z"
   },
   {
    "duration": 241,
    "start_time": "2021-07-08T11:36:28.463Z"
   },
   {
    "duration": 67,
    "start_time": "2021-07-08T11:36:28.709Z"
   },
   {
    "duration": 5,
    "start_time": "2021-07-08T11:36:28.778Z"
   },
   {
    "duration": 32,
    "start_time": "2021-07-08T11:36:28.784Z"
   },
   {
    "duration": 11,
    "start_time": "2021-07-08T11:36:28.819Z"
   },
   {
    "duration": 20,
    "start_time": "2021-07-08T11:36:28.834Z"
   },
   {
    "duration": 36,
    "start_time": "2021-07-08T11:36:28.857Z"
   },
   {
    "duration": 16,
    "start_time": "2021-07-08T11:36:28.895Z"
   },
   {
    "duration": 14,
    "start_time": "2021-07-08T11:36:28.913Z"
   },
   {
    "duration": 9,
    "start_time": "2021-07-08T11:36:28.930Z"
   },
   {
    "duration": 55,
    "start_time": "2021-07-08T11:36:28.941Z"
   },
   {
    "duration": 27,
    "start_time": "2021-07-08T11:36:28.999Z"
   },
   {
    "duration": 30,
    "start_time": "2021-07-08T11:36:29.028Z"
   },
   {
    "duration": 31,
    "start_time": "2021-07-08T11:36:29.060Z"
   },
   {
    "duration": 3,
    "start_time": "2021-07-08T11:36:29.093Z"
   },
   {
    "duration": 12,
    "start_time": "2021-07-08T11:36:29.099Z"
   },
   {
    "duration": 11,
    "start_time": "2021-07-08T11:36:29.112Z"
   },
   {
    "duration": 12,
    "start_time": "2021-07-08T11:36:29.125Z"
   },
   {
    "duration": 9,
    "start_time": "2021-07-08T11:36:29.139Z"
   },
   {
    "duration": 31,
    "start_time": "2021-07-08T11:36:29.191Z"
   },
   {
    "duration": 17,
    "start_time": "2021-07-08T11:36:29.226Z"
   },
   {
    "duration": 7,
    "start_time": "2021-07-08T11:36:29.245Z"
   },
   {
    "duration": 10,
    "start_time": "2021-07-08T11:36:29.254Z"
   },
   {
    "duration": 30,
    "start_time": "2021-07-08T11:36:29.292Z"
   },
   {
    "duration": 11,
    "start_time": "2021-07-08T11:36:29.324Z"
   },
   {
    "duration": 11,
    "start_time": "2021-07-08T11:36:29.337Z"
   },
   {
    "duration": 230,
    "start_time": "2021-07-08T11:36:29.349Z"
   },
   {
    "duration": 13,
    "start_time": "2021-07-08T11:36:29.588Z"
   },
   {
    "duration": 205,
    "start_time": "2021-07-08T11:36:29.603Z"
   },
   {
    "duration": 20,
    "start_time": "2021-07-08T11:36:29.810Z"
   },
   {
    "duration": 9,
    "start_time": "2021-07-08T11:36:29.832Z"
   },
   {
    "duration": 16,
    "start_time": "2021-07-08T11:36:29.843Z"
   },
   {
    "duration": 283,
    "start_time": "2021-07-08T11:36:29.861Z"
   },
   {
    "duration": 50,
    "start_time": "2021-07-08T11:36:30.146Z"
   },
   {
    "duration": 14,
    "start_time": "2021-07-08T11:36:30.198Z"
   },
   {
    "duration": 11,
    "start_time": "2021-07-08T11:36:30.214Z"
   },
   {
    "duration": 245,
    "start_time": "2021-07-08T11:36:30.227Z"
   },
   {
    "duration": 439,
    "start_time": "2021-07-08T11:36:30.474Z"
   },
   {
    "duration": 210,
    "start_time": "2021-07-08T11:36:30.915Z"
   },
   {
    "duration": 15,
    "start_time": "2021-07-08T11:36:31.127Z"
   },
   {
    "duration": 17,
    "start_time": "2021-07-08T11:38:20.451Z"
   },
   {
    "duration": 642,
    "start_time": "2021-07-08T11:46:17.881Z"
   },
   {
    "duration": 210,
    "start_time": "2021-07-08T11:46:18.525Z"
   },
   {
    "duration": 104,
    "start_time": "2021-07-08T11:46:18.741Z"
   },
   {
    "duration": 8,
    "start_time": "2021-07-08T11:46:18.847Z"
   },
   {
    "duration": 25,
    "start_time": "2021-07-08T11:46:18.857Z"
   },
   {
    "duration": 14,
    "start_time": "2021-07-08T11:46:18.884Z"
   },
   {
    "duration": 22,
    "start_time": "2021-07-08T11:46:18.900Z"
   },
   {
    "duration": 5,
    "start_time": "2021-07-08T11:46:18.924Z"
   },
   {
    "duration": 13,
    "start_time": "2021-07-08T11:46:18.931Z"
   },
   {
    "duration": 45,
    "start_time": "2021-07-08T11:46:18.946Z"
   },
   {
    "duration": 12,
    "start_time": "2021-07-08T11:46:18.993Z"
   },
   {
    "duration": 38,
    "start_time": "2021-07-08T11:46:19.006Z"
   },
   {
    "duration": 50,
    "start_time": "2021-07-08T11:46:19.046Z"
   },
   {
    "duration": 29,
    "start_time": "2021-07-08T11:46:19.099Z"
   },
   {
    "duration": 7,
    "start_time": "2021-07-08T11:46:19.130Z"
   },
   {
    "duration": 3,
    "start_time": "2021-07-08T11:46:19.139Z"
   },
   {
    "duration": 11,
    "start_time": "2021-07-08T11:46:19.144Z"
   },
   {
    "duration": 40,
    "start_time": "2021-07-08T11:46:19.157Z"
   },
   {
    "duration": 15,
    "start_time": "2021-07-08T11:46:19.199Z"
   },
   {
    "duration": 10,
    "start_time": "2021-07-08T11:46:19.217Z"
   },
   {
    "duration": 68,
    "start_time": "2021-07-08T11:46:19.230Z"
   },
   {
    "duration": 17,
    "start_time": "2021-07-08T11:46:19.301Z"
   },
   {
    "duration": 7,
    "start_time": "2021-07-08T11:46:19.321Z"
   },
   {
    "duration": 11,
    "start_time": "2021-07-08T11:46:19.330Z"
   },
   {
    "duration": 59,
    "start_time": "2021-07-08T11:46:19.343Z"
   },
   {
    "duration": 17,
    "start_time": "2021-07-08T11:46:19.405Z"
   },
   {
    "duration": 16,
    "start_time": "2021-07-08T11:46:19.424Z"
   },
   {
    "duration": 252,
    "start_time": "2021-07-08T11:46:19.443Z"
   },
   {
    "duration": 9,
    "start_time": "2021-07-08T11:46:19.697Z"
   },
   {
    "duration": 224,
    "start_time": "2021-07-08T11:46:19.708Z"
   },
   {
    "duration": 21,
    "start_time": "2021-07-08T11:46:19.934Z"
   },
   {
    "duration": 9,
    "start_time": "2021-07-08T11:46:19.956Z"
   },
   {
    "duration": 32,
    "start_time": "2021-07-08T11:46:19.967Z"
   },
   {
    "duration": 288,
    "start_time": "2021-07-08T11:46:20.004Z"
   },
   {
    "duration": 23,
    "start_time": "2021-07-08T11:46:20.300Z"
   },
   {
    "duration": 11,
    "start_time": "2021-07-08T11:46:20.325Z"
   },
   {
    "duration": 11,
    "start_time": "2021-07-08T11:46:20.339Z"
   },
   {
    "duration": 259,
    "start_time": "2021-07-08T11:46:20.352Z"
   },
   {
    "duration": 438,
    "start_time": "2021-07-08T11:46:20.613Z"
   },
   {
    "duration": 207,
    "start_time": "2021-07-08T11:46:21.054Z"
   },
   {
    "duration": 27,
    "start_time": "2021-07-08T11:46:21.262Z"
   },
   {
    "duration": 19,
    "start_time": "2021-07-08T11:46:21.291Z"
   },
   {
    "duration": 820,
    "start_time": "2021-07-08T11:49:01.655Z"
   },
   {
    "duration": 372,
    "start_time": "2021-07-08T11:49:02.478Z"
   },
   {
    "duration": 98,
    "start_time": "2021-07-08T11:49:02.853Z"
   },
   {
    "duration": 6,
    "start_time": "2021-07-08T11:49:02.953Z"
   },
   {
    "duration": 39,
    "start_time": "2021-07-08T11:49:02.960Z"
   },
   {
    "duration": 9,
    "start_time": "2021-07-08T11:49:03.003Z"
   },
   {
    "duration": 23,
    "start_time": "2021-07-08T11:49:03.014Z"
   },
   {
    "duration": 6,
    "start_time": "2021-07-08T11:49:03.041Z"
   },
   {
    "duration": 20,
    "start_time": "2021-07-08T11:49:03.049Z"
   },
   {
    "duration": 18,
    "start_time": "2021-07-08T11:49:03.084Z"
   },
   {
    "duration": 14,
    "start_time": "2021-07-08T11:49:03.104Z"
   },
   {
    "duration": 39,
    "start_time": "2021-07-08T11:49:03.119Z"
   },
   {
    "duration": 38,
    "start_time": "2021-07-08T11:49:03.160Z"
   },
   {
    "duration": 26,
    "start_time": "2021-07-08T11:49:03.200Z"
   },
   {
    "duration": 7,
    "start_time": "2021-07-08T11:49:03.227Z"
   },
   {
    "duration": 4,
    "start_time": "2021-07-08T11:49:03.236Z"
   },
   {
    "duration": 15,
    "start_time": "2021-07-08T11:49:03.243Z"
   },
   {
    "duration": 21,
    "start_time": "2021-07-08T11:49:03.285Z"
   },
   {
    "duration": 17,
    "start_time": "2021-07-08T11:49:03.309Z"
   },
   {
    "duration": 10,
    "start_time": "2021-07-08T11:49:03.328Z"
   },
   {
    "duration": 65,
    "start_time": "2021-07-08T11:49:03.340Z"
   },
   {
    "duration": 18,
    "start_time": "2021-07-08T11:49:03.407Z"
   },
   {
    "duration": 8,
    "start_time": "2021-07-08T11:49:03.428Z"
   },
   {
    "duration": 15,
    "start_time": "2021-07-08T11:49:03.438Z"
   },
   {
    "duration": 40,
    "start_time": "2021-07-08T11:49:03.455Z"
   },
   {
    "duration": 12,
    "start_time": "2021-07-08T11:49:03.497Z"
   },
   {
    "duration": 29,
    "start_time": "2021-07-08T11:49:03.511Z"
   },
   {
    "duration": 285,
    "start_time": "2021-07-08T11:49:03.542Z"
   },
   {
    "duration": 8,
    "start_time": "2021-07-08T11:49:03.829Z"
   },
   {
    "duration": 227,
    "start_time": "2021-07-08T11:49:03.838Z"
   },
   {
    "duration": 40,
    "start_time": "2021-07-08T11:49:04.066Z"
   },
   {
    "duration": 10,
    "start_time": "2021-07-08T11:49:04.108Z"
   },
   {
    "duration": 26,
    "start_time": "2021-07-08T11:49:04.121Z"
   },
   {
    "duration": 290,
    "start_time": "2021-07-08T11:49:04.149Z"
   },
   {
    "duration": 26,
    "start_time": "2021-07-08T11:49:04.441Z"
   },
   {
    "duration": 31,
    "start_time": "2021-07-08T11:49:04.470Z"
   },
   {
    "duration": 14,
    "start_time": "2021-07-08T11:49:04.503Z"
   },
   {
    "duration": 259,
    "start_time": "2021-07-08T11:49:04.521Z"
   },
   {
    "duration": 480,
    "start_time": "2021-07-08T11:49:04.782Z"
   },
   {
    "duration": 225,
    "start_time": "2021-07-08T11:49:05.264Z"
   },
   {
    "duration": 22,
    "start_time": "2021-07-08T11:49:05.491Z"
   },
   {
    "duration": 24,
    "start_time": "2021-07-08T11:49:05.515Z"
   },
   {
    "duration": 634,
    "start_time": "2021-07-08T11:52:24.960Z"
   },
   {
    "duration": 199,
    "start_time": "2021-07-08T11:52:25.599Z"
   },
   {
    "duration": 106,
    "start_time": "2021-07-08T11:52:25.803Z"
   },
   {
    "duration": 7,
    "start_time": "2021-07-08T11:52:25.911Z"
   },
   {
    "duration": 29,
    "start_time": "2021-07-08T11:52:25.920Z"
   },
   {
    "duration": 7,
    "start_time": "2021-07-08T11:52:25.951Z"
   },
   {
    "duration": 26,
    "start_time": "2021-07-08T11:52:25.961Z"
   },
   {
    "duration": 11,
    "start_time": "2021-07-08T11:52:25.990Z"
   },
   {
    "duration": 29,
    "start_time": "2021-07-08T11:52:26.005Z"
   },
   {
    "duration": 9,
    "start_time": "2021-07-08T11:52:26.036Z"
   },
   {
    "duration": 8,
    "start_time": "2021-07-08T11:52:26.047Z"
   },
   {
    "duration": 63,
    "start_time": "2021-07-08T11:52:26.057Z"
   },
   {
    "duration": 17,
    "start_time": "2021-07-08T11:52:26.122Z"
   },
   {
    "duration": 43,
    "start_time": "2021-07-08T11:52:26.142Z"
   },
   {
    "duration": 17,
    "start_time": "2021-07-08T11:52:26.187Z"
   },
   {
    "duration": 5,
    "start_time": "2021-07-08T11:52:26.206Z"
   },
   {
    "duration": 12,
    "start_time": "2021-07-08T11:52:26.212Z"
   },
   {
    "duration": 11,
    "start_time": "2021-07-08T11:52:26.226Z"
   },
   {
    "duration": 12,
    "start_time": "2021-07-08T11:52:26.238Z"
   },
   {
    "duration": 38,
    "start_time": "2021-07-08T11:52:26.252Z"
   },
   {
    "duration": 40,
    "start_time": "2021-07-08T11:52:26.292Z"
   },
   {
    "duration": 17,
    "start_time": "2021-07-08T11:52:26.336Z"
   },
   {
    "duration": 39,
    "start_time": "2021-07-08T11:52:26.355Z"
   },
   {
    "duration": 11,
    "start_time": "2021-07-08T11:52:26.395Z"
   },
   {
    "duration": 23,
    "start_time": "2021-07-08T11:52:26.408Z"
   },
   {
    "duration": 12,
    "start_time": "2021-07-08T11:52:26.432Z"
   },
   {
    "duration": 41,
    "start_time": "2021-07-08T11:52:26.446Z"
   },
   {
    "duration": 215,
    "start_time": "2021-07-08T11:52:26.493Z"
   },
   {
    "duration": 8,
    "start_time": "2021-07-08T11:52:26.710Z"
   },
   {
    "duration": 228,
    "start_time": "2021-07-08T11:52:26.720Z"
   },
   {
    "duration": 18,
    "start_time": "2021-07-08T11:52:26.950Z"
   },
   {
    "duration": 35,
    "start_time": "2021-07-08T11:52:26.969Z"
   },
   {
    "duration": 23,
    "start_time": "2021-07-08T11:52:27.006Z"
   },
   {
    "duration": 258,
    "start_time": "2021-07-08T11:52:27.030Z"
   },
   {
    "duration": 24,
    "start_time": "2021-07-08T11:52:27.290Z"
   },
   {
    "duration": 12,
    "start_time": "2021-07-08T11:52:27.316Z"
   },
   {
    "duration": 10,
    "start_time": "2021-07-08T11:52:27.329Z"
   },
   {
    "duration": 298,
    "start_time": "2021-07-08T11:52:27.341Z"
   },
   {
    "duration": 436,
    "start_time": "2021-07-08T11:52:27.641Z"
   },
   {
    "duration": 216,
    "start_time": "2021-07-08T11:52:28.079Z"
   },
   {
    "duration": 20,
    "start_time": "2021-07-08T11:52:28.297Z"
   },
   {
    "duration": 17,
    "start_time": "2021-07-08T11:52:28.319Z"
   },
   {
    "duration": 848,
    "start_time": "2021-11-11T16:06:50.793Z"
   },
   {
    "duration": 132,
    "start_time": "2021-11-11T16:07:14.621Z"
   },
   {
    "duration": 18,
    "start_time": "2021-11-11T16:07:23.468Z"
   },
   {
    "duration": 7,
    "start_time": "2021-11-11T16:07:38.748Z"
   },
   {
    "duration": 11,
    "start_time": "2021-11-11T16:08:33.548Z"
   },
   {
    "duration": 6,
    "start_time": "2021-11-11T16:08:43.788Z"
   },
   {
    "duration": 72,
    "start_time": "2021-11-11T16:16:31.434Z"
   },
   {
    "duration": 45,
    "start_time": "2021-11-11T16:16:35.475Z"
   },
   {
    "duration": 68,
    "start_time": "2021-11-11T16:18:08.878Z"
   },
   {
    "duration": 66,
    "start_time": "2021-11-11T16:18:20.443Z"
   },
   {
    "duration": 70,
    "start_time": "2021-11-11T16:18:36.010Z"
   },
   {
    "duration": 47,
    "start_time": "2021-11-11T16:18:53.748Z"
   },
   {
    "duration": 1427,
    "start_time": "2021-11-11T16:21:16.325Z"
   },
   {
    "duration": 4,
    "start_time": "2021-11-11T16:22:09.849Z"
   },
   {
    "duration": 14,
    "start_time": "2021-11-11T16:23:05.534Z"
   },
   {
    "duration": 22,
    "start_time": "2021-11-11T16:23:15.183Z"
   },
   {
    "duration": 8,
    "start_time": "2021-11-11T16:24:04.540Z"
   },
   {
    "duration": 71,
    "start_time": "2021-11-11T16:24:44.278Z"
   },
   {
    "duration": 69,
    "start_time": "2021-11-11T16:25:08.645Z"
   },
   {
    "duration": 74,
    "start_time": "2021-11-11T16:25:15.407Z"
   },
   {
    "duration": 70,
    "start_time": "2021-11-11T16:25:26.049Z"
   },
   {
    "duration": 14,
    "start_time": "2021-11-11T16:30:03.235Z"
   },
   {
    "duration": 22,
    "start_time": "2021-11-11T16:30:14.653Z"
   },
   {
    "duration": 26,
    "start_time": "2021-11-11T16:30:23.035Z"
   },
   {
    "duration": 414,
    "start_time": "2021-11-11T16:30:51.011Z"
   },
   {
    "duration": 4,
    "start_time": "2021-11-11T16:31:29.820Z"
   },
   {
    "duration": 454,
    "start_time": "2021-11-11T16:31:38.576Z"
   },
   {
    "duration": 3,
    "start_time": "2021-11-11T16:31:43.310Z"
   },
   {
    "duration": 77,
    "start_time": "2021-11-11T16:31:43.316Z"
   },
   {
    "duration": 47,
    "start_time": "2021-11-11T16:31:43.395Z"
   },
   {
    "duration": 4,
    "start_time": "2021-11-11T16:31:43.444Z"
   },
   {
    "duration": 361,
    "start_time": "2021-11-11T16:31:45.398Z"
   },
   {
    "duration": 10,
    "start_time": "2021-11-11T16:33:03.107Z"
   },
   {
    "duration": 14,
    "start_time": "2021-11-11T16:34:32.382Z"
   },
   {
    "duration": 13,
    "start_time": "2021-11-11T16:35:54.144Z"
   },
   {
    "duration": 121,
    "start_time": "2021-11-11T16:36:58.803Z"
   },
   {
    "duration": 7838,
    "start_time": "2021-11-11T16:37:05.535Z"
   },
   {
    "duration": 6,
    "start_time": "2021-11-11T16:39:52.480Z"
   },
   {
    "duration": 14,
    "start_time": "2021-11-11T16:40:07.947Z"
   },
   {
    "duration": 1458,
    "start_time": "2021-11-11T16:41:03.095Z"
   },
   {
    "duration": 6,
    "start_time": "2021-11-11T16:42:55.767Z"
   },
   {
    "duration": 4,
    "start_time": "2021-11-11T16:43:01.634Z"
   },
   {
    "duration": 18,
    "start_time": "2021-11-11T16:44:01.207Z"
   },
   {
    "duration": 23,
    "start_time": "2021-11-11T16:44:12.168Z"
   },
   {
    "duration": 2,
    "start_time": "2021-11-11T16:47:39.466Z"
   },
   {
    "duration": 69,
    "start_time": "2021-11-11T16:47:39.472Z"
   },
   {
    "duration": 46,
    "start_time": "2021-11-11T16:47:39.543Z"
   },
   {
    "duration": 5,
    "start_time": "2021-11-11T16:47:55.290Z"
   },
   {
    "duration": 5,
    "start_time": "2021-11-11T16:48:17.704Z"
   },
   {
    "duration": 5,
    "start_time": "2021-11-11T16:48:24.732Z"
   },
   {
    "duration": 8,
    "start_time": "2021-11-11T16:48:45.999Z"
   },
   {
    "duration": 21,
    "start_time": "2021-11-11T16:48:47.388Z"
   },
   {
    "duration": 16,
    "start_time": "2021-11-11T16:50:38.838Z"
   },
   {
    "duration": 9,
    "start_time": "2021-11-11T16:56:26.562Z"
   },
   {
    "duration": 20,
    "start_time": "2021-11-11T16:56:37.111Z"
   },
   {
    "duration": 17,
    "start_time": "2021-11-11T17:02:03.874Z"
   },
   {
    "duration": 25,
    "start_time": "2021-11-11T17:03:16.103Z"
   },
   {
    "duration": 18,
    "start_time": "2021-11-11T17:03:50.323Z"
   },
   {
    "duration": 21,
    "start_time": "2021-11-11T17:04:35.581Z"
   },
   {
    "duration": 3998,
    "start_time": "2021-11-11T17:04:47.035Z"
   },
   {
    "duration": 3,
    "start_time": "2021-11-11T17:04:57.498Z"
   },
   {
    "duration": 82,
    "start_time": "2021-11-11T17:04:57.504Z"
   },
   {
    "duration": 46,
    "start_time": "2021-11-11T17:04:57.588Z"
   },
   {
    "duration": 8,
    "start_time": "2021-11-11T17:04:57.636Z"
   },
   {
    "duration": 26,
    "start_time": "2021-11-11T17:04:57.646Z"
   },
   {
    "duration": 16,
    "start_time": "2021-11-11T17:04:57.674Z"
   },
   {
    "duration": 3666,
    "start_time": "2021-11-11T17:05:00.359Z"
   },
   {
    "duration": 3,
    "start_time": "2021-11-11T17:05:27.701Z"
   },
   {
    "duration": 82,
    "start_time": "2021-11-11T17:05:27.706Z"
   },
   {
    "duration": 45,
    "start_time": "2021-11-11T17:05:27.791Z"
   },
   {
    "duration": 10,
    "start_time": "2021-11-11T17:05:27.838Z"
   },
   {
    "duration": 22,
    "start_time": "2021-11-11T17:05:27.849Z"
   },
   {
    "duration": 14,
    "start_time": "2021-11-11T17:05:27.873Z"
   },
   {
    "duration": 3510,
    "start_time": "2021-11-11T17:05:31.874Z"
   },
   {
    "duration": 3923,
    "start_time": "2021-11-11T17:05:55.545Z"
   },
   {
    "duration": 6,
    "start_time": "2021-11-11T17:07:57.779Z"
   },
   {
    "duration": 15,
    "start_time": "2021-11-11T17:09:20.910Z"
   },
   {
    "duration": 3,
    "start_time": "2021-11-11T17:09:29.061Z"
   },
   {
    "duration": 1766,
    "start_time": "2021-11-11T17:09:29.068Z"
   },
   {
    "duration": 85,
    "start_time": "2021-11-11T17:09:30.835Z"
   },
   {
    "duration": 12,
    "start_time": "2021-11-11T17:09:30.922Z"
   },
   {
    "duration": 25,
    "start_time": "2021-11-11T17:09:30.936Z"
   },
   {
    "duration": 14,
    "start_time": "2021-11-11T17:09:34.714Z"
   },
   {
    "duration": 3791,
    "start_time": "2021-11-11T17:09:38.784Z"
   },
   {
    "duration": 11,
    "start_time": "2021-11-11T17:10:29.655Z"
   },
   {
    "duration": 22,
    "start_time": "2021-11-11T17:10:39.414Z"
   },
   {
    "duration": 3,
    "start_time": "2021-11-11T17:10:55.185Z"
   },
   {
    "duration": 78,
    "start_time": "2021-11-11T17:10:55.189Z"
   },
   {
    "duration": 55,
    "start_time": "2021-11-11T17:10:55.269Z"
   },
   {
    "duration": 8,
    "start_time": "2021-11-11T17:10:55.327Z"
   },
   {
    "duration": 33,
    "start_time": "2021-11-11T17:10:55.336Z"
   },
   {
    "duration": 18,
    "start_time": "2021-11-11T17:10:55.370Z"
   },
   {
    "duration": 10,
    "start_time": "2021-11-11T17:10:58.077Z"
   },
   {
    "duration": 8,
    "start_time": "2021-11-11T17:12:21.650Z"
   },
   {
    "duration": 4,
    "start_time": "2021-11-11T17:18:13.054Z"
   },
   {
    "duration": 8,
    "start_time": "2021-11-11T17:18:38.628Z"
   },
   {
    "duration": 15,
    "start_time": "2021-11-11T17:18:49.005Z"
   },
   {
    "duration": 489,
    "start_time": "2021-11-11T17:20:20.483Z"
   },
   {
    "duration": 354,
    "start_time": "2021-11-11T17:21:20.563Z"
   },
   {
    "duration": 7,
    "start_time": "2021-11-11T17:22:25.040Z"
   },
   {
    "duration": 7,
    "start_time": "2021-11-11T17:23:19.211Z"
   },
   {
    "duration": 7,
    "start_time": "2021-11-11T17:26:34.570Z"
   },
   {
    "duration": 136,
    "start_time": "2021-11-11T17:28:17.959Z"
   },
   {
    "duration": 3,
    "start_time": "2021-11-11T17:28:35.392Z"
   },
   {
    "duration": 1842,
    "start_time": "2021-11-11T17:29:04.187Z"
   },
   {
    "duration": 4,
    "start_time": "2021-11-11T17:32:03.819Z"
   },
   {
    "duration": 8,
    "start_time": "2021-11-11T17:32:04.732Z"
   },
   {
    "duration": 13,
    "start_time": "2021-11-11T17:32:18.402Z"
   },
   {
    "duration": 11,
    "start_time": "2021-11-11T17:32:36.427Z"
   },
   {
    "duration": 2,
    "start_time": "2021-11-11T17:32:56.525Z"
   },
   {
    "duration": 72,
    "start_time": "2021-11-11T17:32:56.531Z"
   },
   {
    "duration": 47,
    "start_time": "2021-11-11T17:32:56.605Z"
   },
   {
    "duration": 12,
    "start_time": "2021-11-11T17:32:56.654Z"
   },
   {
    "duration": 22,
    "start_time": "2021-11-11T17:32:56.668Z"
   },
   {
    "duration": 15,
    "start_time": "2021-11-11T17:32:56.691Z"
   },
   {
    "duration": 29,
    "start_time": "2021-11-11T17:32:56.708Z"
   },
   {
    "duration": 17,
    "start_time": "2021-11-11T17:32:56.739Z"
   },
   {
    "duration": 17,
    "start_time": "2021-11-11T17:32:56.758Z"
   },
   {
    "duration": 26,
    "start_time": "2021-11-11T17:32:56.777Z"
   },
   {
    "duration": 15,
    "start_time": "2021-11-11T17:32:56.805Z"
   },
   {
    "duration": 3,
    "start_time": "2021-11-11T17:32:59.928Z"
   },
   {
    "duration": 3,
    "start_time": "2021-11-11T17:33:48.155Z"
   },
   {
    "duration": 6,
    "start_time": "2021-11-11T17:33:48.928Z"
   },
   {
    "duration": 10,
    "start_time": "2021-11-11T17:33:49.627Z"
   },
   {
    "duration": 5,
    "start_time": "2021-11-11T17:34:07.995Z"
   },
   {
    "duration": 2,
    "start_time": "2021-11-11T17:35:11.918Z"
   },
   {
    "duration": 70,
    "start_time": "2021-11-11T17:35:11.923Z"
   },
   {
    "duration": 46,
    "start_time": "2021-11-11T17:35:11.995Z"
   },
   {
    "duration": 10,
    "start_time": "2021-11-11T17:35:12.043Z"
   },
   {
    "duration": 39,
    "start_time": "2021-11-11T17:35:12.055Z"
   },
   {
    "duration": 14,
    "start_time": "2021-11-11T17:35:12.096Z"
   },
   {
    "duration": 17,
    "start_time": "2021-11-11T17:35:12.112Z"
   },
   {
    "duration": 7,
    "start_time": "2021-11-11T17:35:12.130Z"
   },
   {
    "duration": 5,
    "start_time": "2021-11-11T17:35:12.139Z"
   },
   {
    "duration": 12,
    "start_time": "2021-11-11T17:35:12.145Z"
   },
   {
    "duration": 7,
    "start_time": "2021-11-11T17:35:12.158Z"
   },
   {
    "duration": 3,
    "start_time": "2021-11-11T17:36:09.631Z"
   },
   {
    "duration": 7,
    "start_time": "2021-11-11T17:36:10.882Z"
   },
   {
    "duration": 5,
    "start_time": "2021-11-11T17:36:11.815Z"
   },
   {
    "duration": 3,
    "start_time": "2021-11-11T17:36:20.276Z"
   },
   {
    "duration": 89,
    "start_time": "2021-11-11T17:36:20.283Z"
   },
   {
    "duration": 47,
    "start_time": "2021-11-11T17:36:20.374Z"
   },
   {
    "duration": 25,
    "start_time": "2021-11-11T17:36:20.423Z"
   },
   {
    "duration": 43,
    "start_time": "2021-11-11T17:36:20.450Z"
   },
   {
    "duration": 17,
    "start_time": "2021-11-11T17:36:20.495Z"
   },
   {
    "duration": 24,
    "start_time": "2021-11-11T17:36:20.514Z"
   },
   {
    "duration": 12,
    "start_time": "2021-11-11T17:36:20.540Z"
   },
   {
    "duration": 25,
    "start_time": "2021-11-11T17:36:20.555Z"
   },
   {
    "duration": 23,
    "start_time": "2021-11-11T17:36:20.582Z"
   },
   {
    "duration": 26,
    "start_time": "2021-11-11T17:36:20.607Z"
   },
   {
    "duration": 3,
    "start_time": "2021-11-11T17:37:58.543Z"
   },
   {
    "duration": 353,
    "start_time": "2021-11-11T17:38:10.754Z"
   },
   {
    "duration": 6,
    "start_time": "2021-11-11T17:39:54.088Z"
   },
   {
    "duration": 7,
    "start_time": "2021-11-11T17:40:00.387Z"
   },
   {
    "duration": 3,
    "start_time": "2021-11-11T17:40:42.023Z"
   },
   {
    "duration": 7,
    "start_time": "2021-11-11T17:40:55.425Z"
   },
   {
    "duration": 5,
    "start_time": "2021-11-11T17:40:56.308Z"
   },
   {
    "duration": 3,
    "start_time": "2021-11-11T17:41:14.195Z"
   },
   {
    "duration": 3,
    "start_time": "2021-11-11T17:41:20.377Z"
   },
   {
    "duration": 88,
    "start_time": "2021-11-11T17:41:20.381Z"
   },
   {
    "duration": 46,
    "start_time": "2021-11-11T17:41:20.471Z"
   },
   {
    "duration": 8,
    "start_time": "2021-11-11T17:41:20.519Z"
   },
   {
    "duration": 24,
    "start_time": "2021-11-11T17:41:20.529Z"
   },
   {
    "duration": 15,
    "start_time": "2021-11-11T17:41:20.554Z"
   },
   {
    "duration": 12,
    "start_time": "2021-11-11T17:41:20.571Z"
   },
   {
    "duration": 8,
    "start_time": "2021-11-11T17:41:20.606Z"
   },
   {
    "duration": 9,
    "start_time": "2021-11-11T17:41:20.616Z"
   },
   {
    "duration": 28,
    "start_time": "2021-11-11T17:41:20.626Z"
   },
   {
    "duration": 10,
    "start_time": "2021-11-11T17:41:20.656Z"
   },
   {
    "duration": 4,
    "start_time": "2021-11-11T17:41:22.852Z"
   },
   {
    "duration": 9,
    "start_time": "2021-11-11T17:41:24.010Z"
   },
   {
    "duration": 5,
    "start_time": "2021-11-11T17:41:24.725Z"
   },
   {
    "duration": 3,
    "start_time": "2021-11-11T17:41:44.801Z"
   },
   {
    "duration": 73,
    "start_time": "2021-11-11T17:41:44.808Z"
   },
   {
    "duration": 48,
    "start_time": "2021-11-11T17:41:44.883Z"
   },
   {
    "duration": 10,
    "start_time": "2021-11-11T17:41:44.933Z"
   },
   {
    "duration": 29,
    "start_time": "2021-11-11T17:41:44.945Z"
   },
   {
    "duration": 14,
    "start_time": "2021-11-11T17:41:44.976Z"
   },
   {
    "duration": 18,
    "start_time": "2021-11-11T17:41:44.992Z"
   },
   {
    "duration": 16,
    "start_time": "2021-11-11T17:41:45.011Z"
   },
   {
    "duration": 4,
    "start_time": "2021-11-11T17:41:45.030Z"
   },
   {
    "duration": 17,
    "start_time": "2021-11-11T17:41:45.036Z"
   },
   {
    "duration": 22,
    "start_time": "2021-11-11T17:41:45.055Z"
   },
   {
    "duration": 3,
    "start_time": "2021-11-11T17:41:55.493Z"
   },
   {
    "duration": 9,
    "start_time": "2021-11-11T17:41:56.382Z"
   },
   {
    "duration": 5,
    "start_time": "2021-11-11T17:41:57.042Z"
   },
   {
    "duration": 4,
    "start_time": "2021-11-11T17:44:18.608Z"
   },
   {
    "duration": 3,
    "start_time": "2021-11-11T17:44:22.770Z"
   },
   {
    "duration": 72,
    "start_time": "2021-11-11T17:44:22.776Z"
   },
   {
    "duration": 48,
    "start_time": "2021-11-11T17:44:22.850Z"
   },
   {
    "duration": 9,
    "start_time": "2021-11-11T17:44:22.901Z"
   },
   {
    "duration": 22,
    "start_time": "2021-11-11T17:44:22.912Z"
   },
   {
    "duration": 17,
    "start_time": "2021-11-11T17:44:22.936Z"
   },
   {
    "duration": 13,
    "start_time": "2021-11-11T17:44:22.955Z"
   },
   {
    "duration": 6,
    "start_time": "2021-11-11T17:44:22.970Z"
   },
   {
    "duration": 29,
    "start_time": "2021-11-11T17:44:22.978Z"
   },
   {
    "duration": 19,
    "start_time": "2021-11-11T17:44:23.009Z"
   },
   {
    "duration": 10,
    "start_time": "2021-11-11T17:44:23.030Z"
   },
   {
    "duration": 3,
    "start_time": "2021-11-11T17:44:25.046Z"
   },
   {
    "duration": 9,
    "start_time": "2021-11-11T17:44:25.651Z"
   },
   {
    "duration": 6,
    "start_time": "2021-11-11T17:44:26.283Z"
   },
   {
    "duration": 3,
    "start_time": "2021-11-11T17:44:54.074Z"
   },
   {
    "duration": 84,
    "start_time": "2021-11-11T17:44:54.079Z"
   },
   {
    "duration": 47,
    "start_time": "2021-11-11T17:44:54.164Z"
   },
   {
    "duration": 18,
    "start_time": "2021-11-11T17:44:54.213Z"
   },
   {
    "duration": 26,
    "start_time": "2021-11-11T17:44:54.233Z"
   },
   {
    "duration": 15,
    "start_time": "2021-11-11T17:44:54.260Z"
   },
   {
    "duration": 27,
    "start_time": "2021-11-11T17:44:54.277Z"
   },
   {
    "duration": 25,
    "start_time": "2021-11-11T17:44:54.306Z"
   },
   {
    "duration": 15,
    "start_time": "2021-11-11T17:44:54.334Z"
   },
   {
    "duration": 30,
    "start_time": "2021-11-11T17:44:54.351Z"
   },
   {
    "duration": 28,
    "start_time": "2021-11-11T17:44:54.383Z"
   },
   {
    "duration": 4,
    "start_time": "2021-11-11T17:44:59.676Z"
   },
   {
    "duration": 7,
    "start_time": "2021-11-11T17:45:00.355Z"
   },
   {
    "duration": 6,
    "start_time": "2021-11-11T17:45:00.912Z"
   },
   {
    "duration": 2,
    "start_time": "2021-11-11T17:46:15.275Z"
   },
   {
    "duration": 70,
    "start_time": "2021-11-11T17:46:15.282Z"
   },
   {
    "duration": 47,
    "start_time": "2021-11-11T17:46:15.354Z"
   },
   {
    "duration": 8,
    "start_time": "2021-11-11T17:46:15.403Z"
   },
   {
    "duration": 29,
    "start_time": "2021-11-11T17:46:15.413Z"
   },
   {
    "duration": 15,
    "start_time": "2021-11-11T17:46:15.443Z"
   },
   {
    "duration": 13,
    "start_time": "2021-11-11T17:46:15.460Z"
   },
   {
    "duration": 6,
    "start_time": "2021-11-11T17:46:15.475Z"
   },
   {
    "duration": 23,
    "start_time": "2021-11-11T17:46:15.483Z"
   },
   {
    "duration": 10,
    "start_time": "2021-11-11T17:46:15.509Z"
   },
   {
    "duration": 11,
    "start_time": "2021-11-11T17:46:15.521Z"
   },
   {
    "duration": 3,
    "start_time": "2021-11-11T17:46:17.779Z"
   },
   {
    "duration": 2137,
    "start_time": "2021-11-11T17:46:19.470Z"
   },
   {
    "duration": 762,
    "start_time": "2021-11-11T17:46:20.847Z"
   },
   {
    "duration": 3,
    "start_time": "2021-11-11T17:46:46.903Z"
   },
   {
    "duration": 70,
    "start_time": "2021-11-11T17:46:46.908Z"
   },
   {
    "duration": 38,
    "start_time": "2021-11-11T17:46:46.980Z"
   },
   {
    "duration": 9,
    "start_time": "2021-11-11T17:46:47.021Z"
   },
   {
    "duration": 23,
    "start_time": "2021-11-11T17:46:47.032Z"
   },
   {
    "duration": 16,
    "start_time": "2021-11-11T17:46:47.057Z"
   },
   {
    "duration": 35,
    "start_time": "2021-11-11T17:46:47.075Z"
   },
   {
    "duration": 7,
    "start_time": "2021-11-11T17:46:47.112Z"
   },
   {
    "duration": 3,
    "start_time": "2021-11-11T17:46:47.121Z"
   },
   {
    "duration": 12,
    "start_time": "2021-11-11T17:46:47.126Z"
   },
   {
    "duration": 7,
    "start_time": "2021-11-11T17:46:47.140Z"
   },
   {
    "duration": 3,
    "start_time": "2021-11-11T17:46:48.661Z"
   },
   {
    "duration": 8,
    "start_time": "2021-11-11T17:46:49.221Z"
   },
   {
    "duration": 5,
    "start_time": "2021-11-11T17:46:51.761Z"
   },
   {
    "duration": 3,
    "start_time": "2021-11-11T17:48:39.367Z"
   },
   {
    "duration": 103,
    "start_time": "2021-11-11T17:48:39.374Z"
   },
   {
    "duration": 38,
    "start_time": "2021-11-11T17:48:39.479Z"
   },
   {
    "duration": 9,
    "start_time": "2021-11-11T17:48:39.519Z"
   },
   {
    "duration": 23,
    "start_time": "2021-11-11T17:48:39.530Z"
   },
   {
    "duration": 15,
    "start_time": "2021-11-11T17:48:39.555Z"
   },
   {
    "duration": 13,
    "start_time": "2021-11-11T17:48:39.571Z"
   },
   {
    "duration": 25,
    "start_time": "2021-11-11T17:48:39.586Z"
   },
   {
    "duration": 4,
    "start_time": "2021-11-11T17:48:39.613Z"
   },
   {
    "duration": 19,
    "start_time": "2021-11-11T17:48:39.619Z"
   },
   {
    "duration": 15,
    "start_time": "2021-11-11T17:48:39.640Z"
   },
   {
    "duration": 5,
    "start_time": "2021-11-11T17:48:52.532Z"
   },
   {
    "duration": 3,
    "start_time": "2021-11-11T17:50:25.570Z"
   },
   {
    "duration": 76,
    "start_time": "2021-11-11T17:50:25.575Z"
   },
   {
    "duration": 37,
    "start_time": "2021-11-11T17:50:25.653Z"
   },
   {
    "duration": 9,
    "start_time": "2021-11-11T17:50:25.692Z"
   },
   {
    "duration": 28,
    "start_time": "2021-11-11T17:50:25.702Z"
   },
   {
    "duration": 15,
    "start_time": "2021-11-11T17:50:25.732Z"
   },
   {
    "duration": 13,
    "start_time": "2021-11-11T17:50:25.749Z"
   },
   {
    "duration": 9,
    "start_time": "2021-11-11T17:50:25.763Z"
   },
   {
    "duration": 11,
    "start_time": "2021-11-11T17:50:25.774Z"
   },
   {
    "duration": 22,
    "start_time": "2021-11-11T17:50:25.786Z"
   },
   {
    "duration": 9,
    "start_time": "2021-11-11T17:50:25.810Z"
   },
   {
    "duration": 3,
    "start_time": "2021-11-11T17:50:27.715Z"
   },
   {
    "duration": 1762,
    "start_time": "2021-11-11T17:50:28.273Z"
   },
   {
    "duration": 770,
    "start_time": "2021-11-11T17:50:29.267Z"
   },
   {
    "duration": 4,
    "start_time": "2021-11-11T17:51:13.321Z"
   },
   {
    "duration": 5,
    "start_time": "2021-11-11T17:51:14.004Z"
   },
   {
    "duration": 6,
    "start_time": "2021-11-11T17:51:15.064Z"
   },
   {
    "duration": 5,
    "start_time": "2021-11-11T17:52:01.360Z"
   },
   {
    "duration": 7,
    "start_time": "2021-11-11T18:08:24.076Z"
   },
   {
    "duration": 12,
    "start_time": "2021-11-11T18:09:00.055Z"
   },
   {
    "duration": 11,
    "start_time": "2021-11-11T18:18:50.356Z"
   },
   {
    "duration": 4,
    "start_time": "2021-11-11T18:20:42.051Z"
   },
   {
    "duration": 77,
    "start_time": "2021-11-11T18:20:42.059Z"
   },
   {
    "duration": 92,
    "start_time": "2021-11-11T18:20:42.138Z"
   },
   {
    "duration": 357,
    "start_time": "2021-11-11T18:30:15.816Z"
   },
   {
    "duration": 3,
    "start_time": "2021-11-11T18:30:29.148Z"
   },
   {
    "duration": 77,
    "start_time": "2021-11-11T18:30:29.153Z"
   },
   {
    "duration": 80,
    "start_time": "2021-11-11T18:30:29.232Z"
   },
   {
    "duration": 8,
    "start_time": "2021-11-11T18:30:29.314Z"
   },
   {
    "duration": 17,
    "start_time": "2021-11-11T18:30:30.974Z"
   },
   {
    "duration": 21,
    "start_time": "2021-11-11T18:30:47.340Z"
   },
   {
    "duration": 2,
    "start_time": "2021-11-11T18:32:20.656Z"
   },
   {
    "duration": 75,
    "start_time": "2021-11-11T18:32:20.662Z"
   },
   {
    "duration": 54,
    "start_time": "2021-11-11T18:32:20.739Z"
   },
   {
    "duration": 8,
    "start_time": "2021-11-11T18:32:20.795Z"
   },
   {
    "duration": 362,
    "start_time": "2021-11-11T18:32:22.433Z"
   },
   {
    "duration": 24,
    "start_time": "2021-11-11T18:42:07.285Z"
   },
   {
    "duration": 384,
    "start_time": "2021-11-11T18:43:22.772Z"
   },
   {
    "duration": 21,
    "start_time": "2021-11-11T18:43:57.070Z"
   },
   {
    "duration": 38,
    "start_time": "2021-11-11T18:44:17.853Z"
   },
   {
    "duration": 36,
    "start_time": "2021-11-11T18:46:20.123Z"
   },
   {
    "duration": 3,
    "start_time": "2021-11-11T18:46:33.904Z"
   },
   {
    "duration": 116,
    "start_time": "2021-11-11T18:46:33.910Z"
   },
   {
    "duration": 57,
    "start_time": "2021-11-11T18:46:34.029Z"
   },
   {
    "duration": 23,
    "start_time": "2021-11-11T18:46:34.089Z"
   },
   {
    "duration": 37,
    "start_time": "2021-11-11T18:46:36.160Z"
   },
   {
    "duration": 9,
    "start_time": "2021-11-11T18:48:02.795Z"
   },
   {
    "duration": 420,
    "start_time": "2021-11-11T18:52:26.833Z"
   },
   {
    "duration": 55,
    "start_time": "2021-11-11T18:52:44.654Z"
   },
   {
    "duration": 55,
    "start_time": "2021-11-11T18:53:03.132Z"
   },
   {
    "duration": 13,
    "start_time": "2021-11-11T18:53:26.298Z"
   },
   {
    "duration": 2,
    "start_time": "2021-11-11T18:53:36.478Z"
   },
   {
    "duration": 71,
    "start_time": "2021-11-11T18:53:36.484Z"
   },
   {
    "duration": 45,
    "start_time": "2021-11-11T18:53:36.556Z"
   },
   {
    "duration": 9,
    "start_time": "2021-11-11T18:53:36.603Z"
   },
   {
    "duration": 25,
    "start_time": "2021-11-11T18:53:36.614Z"
   },
   {
    "duration": 15,
    "start_time": "2021-11-11T18:53:36.641Z"
   },
   {
    "duration": 11,
    "start_time": "2021-11-11T18:53:36.658Z"
   },
   {
    "duration": 7,
    "start_time": "2021-11-11T18:53:36.671Z"
   },
   {
    "duration": 3,
    "start_time": "2021-11-11T18:53:36.708Z"
   },
   {
    "duration": 13,
    "start_time": "2021-11-11T18:53:36.713Z"
   },
   {
    "duration": 7,
    "start_time": "2021-11-11T18:53:36.728Z"
   },
   {
    "duration": 7,
    "start_time": "2021-11-11T18:53:36.737Z"
   },
   {
    "duration": 19,
    "start_time": "2021-11-11T18:53:36.746Z"
   },
   {
    "duration": 6,
    "start_time": "2021-11-11T18:53:36.767Z"
   },
   {
    "duration": 12,
    "start_time": "2021-11-11T18:53:36.775Z"
   },
   {
    "duration": 15,
    "start_time": "2021-11-11T18:53:42.609Z"
   },
   {
    "duration": 8,
    "start_time": "2021-11-11T18:57:40.311Z"
   },
   {
    "duration": 78,
    "start_time": "2021-11-11T18:58:08.574Z"
   },
   {
    "duration": 47,
    "start_time": "2021-11-11T18:58:19.118Z"
   },
   {
    "duration": 69,
    "start_time": "2021-11-11T18:58:32.122Z"
   },
   {
    "duration": 45,
    "start_time": "2021-11-11T18:58:39.203Z"
   },
   {
    "duration": 7,
    "start_time": "2021-11-11T18:59:17.019Z"
   },
   {
    "duration": 3,
    "start_time": "2021-11-11T19:13:21.018Z"
   },
   {
    "duration": 78,
    "start_time": "2021-11-11T19:13:21.025Z"
   },
   {
    "duration": 38,
    "start_time": "2021-11-11T19:13:21.105Z"
   },
   {
    "duration": 18,
    "start_time": "2021-11-11T19:13:21.145Z"
   },
   {
    "duration": 38,
    "start_time": "2021-11-11T19:13:21.165Z"
   },
   {
    "duration": 18,
    "start_time": "2021-11-11T19:13:21.204Z"
   },
   {
    "duration": 26,
    "start_time": "2021-11-11T19:13:21.224Z"
   },
   {
    "duration": 16,
    "start_time": "2021-11-11T19:13:21.252Z"
   },
   {
    "duration": 12,
    "start_time": "2021-11-11T19:13:21.271Z"
   },
   {
    "duration": 21,
    "start_time": "2021-11-11T19:13:21.286Z"
   },
   {
    "duration": 17,
    "start_time": "2021-11-11T19:13:21.309Z"
   },
   {
    "duration": 15,
    "start_time": "2021-11-11T19:13:21.328Z"
   },
   {
    "duration": 20,
    "start_time": "2021-11-11T19:13:21.345Z"
   },
   {
    "duration": 14,
    "start_time": "2021-11-11T19:13:21.367Z"
   },
   {
    "duration": 14,
    "start_time": "2021-11-11T19:13:21.383Z"
   },
   {
    "duration": 20,
    "start_time": "2021-11-11T19:13:28.002Z"
   },
   {
    "duration": 828,
    "start_time": "2021-11-12T04:13:32.325Z"
   },
   {
    "duration": 84,
    "start_time": "2021-11-12T04:13:33.155Z"
   },
   {
    "duration": 61,
    "start_time": "2021-11-12T04:13:33.242Z"
   },
   {
    "duration": 11,
    "start_time": "2021-11-12T04:13:33.306Z"
   },
   {
    "duration": 29,
    "start_time": "2021-11-12T04:13:35.448Z"
   },
   {
    "duration": 4,
    "start_time": "2021-11-12T04:14:07.192Z"
   },
   {
    "duration": 87,
    "start_time": "2021-11-12T04:14:07.201Z"
   },
   {
    "duration": 46,
    "start_time": "2021-11-12T04:14:07.290Z"
   },
   {
    "duration": 11,
    "start_time": "2021-11-12T04:14:07.339Z"
   },
   {
    "duration": 29,
    "start_time": "2021-11-12T04:14:07.353Z"
   },
   {
    "duration": 26,
    "start_time": "2021-11-12T04:14:07.385Z"
   },
   {
    "duration": 14,
    "start_time": "2021-11-12T04:14:07.414Z"
   },
   {
    "duration": 8,
    "start_time": "2021-11-12T04:14:07.430Z"
   },
   {
    "duration": 5,
    "start_time": "2021-11-12T04:14:07.441Z"
   },
   {
    "duration": 43,
    "start_time": "2021-11-12T04:14:07.448Z"
   },
   {
    "duration": 12,
    "start_time": "2021-11-12T04:14:07.493Z"
   },
   {
    "duration": 5,
    "start_time": "2021-11-12T04:14:07.508Z"
   },
   {
    "duration": 10,
    "start_time": "2021-11-12T04:14:07.515Z"
   },
   {
    "duration": 7,
    "start_time": "2021-11-12T04:14:07.528Z"
   },
   {
    "duration": 52,
    "start_time": "2021-11-12T04:14:07.538Z"
   },
   {
    "duration": 36,
    "start_time": "2021-11-12T04:15:10.264Z"
   },
   {
    "duration": 33,
    "start_time": "2021-11-12T04:16:06.647Z"
   },
   {
    "duration": 35,
    "start_time": "2021-11-12T04:16:29.392Z"
   },
   {
    "duration": 31,
    "start_time": "2021-11-12T04:17:22.287Z"
   },
   {
    "duration": 415,
    "start_time": "2021-11-12T04:18:42.314Z"
   },
   {
    "duration": 33,
    "start_time": "2021-11-12T04:19:03.272Z"
   },
   {
    "duration": 25,
    "start_time": "2021-11-12T04:21:55.447Z"
   },
   {
    "duration": 15,
    "start_time": "2021-11-12T04:22:52.215Z"
   },
   {
    "duration": 23,
    "start_time": "2021-11-12T04:23:08.179Z"
   },
   {
    "duration": 33,
    "start_time": "2021-11-12T04:23:37.976Z"
   },
   {
    "duration": 25,
    "start_time": "2021-11-12T04:30:48.799Z"
   },
   {
    "duration": 32,
    "start_time": "2021-11-12T04:31:39.087Z"
   },
   {
    "duration": 24,
    "start_time": "2021-11-12T04:32:57.723Z"
   },
   {
    "duration": 7,
    "start_time": "2021-11-12T04:35:26.825Z"
   },
   {
    "duration": 23,
    "start_time": "2021-11-12T04:36:27.293Z"
   },
   {
    "duration": 6,
    "start_time": "2021-11-12T04:37:10.050Z"
   },
   {
    "duration": 42,
    "start_time": "2021-11-12T04:38:05.766Z"
   },
   {
    "duration": 12,
    "start_time": "2021-11-12T04:39:15.940Z"
   },
   {
    "duration": 22,
    "start_time": "2021-11-12T04:41:36.105Z"
   },
   {
    "duration": 27,
    "start_time": "2021-11-12T04:42:00.848Z"
   },
   {
    "duration": 29,
    "start_time": "2021-11-12T04:42:12.892Z"
   },
   {
    "duration": 26,
    "start_time": "2021-11-12T04:56:36.222Z"
   },
   {
    "duration": 12,
    "start_time": "2021-11-12T04:56:57.078Z"
   },
   {
    "duration": 7,
    "start_time": "2021-11-12T05:00:02.068Z"
   },
   {
    "duration": 25,
    "start_time": "2021-11-12T05:00:10.340Z"
   },
   {
    "duration": 24,
    "start_time": "2021-11-12T05:00:30.728Z"
   },
   {
    "duration": 4,
    "start_time": "2021-11-12T05:00:48.537Z"
   },
   {
    "duration": 96,
    "start_time": "2021-11-12T05:00:48.544Z"
   },
   {
    "duration": 47,
    "start_time": "2021-11-12T05:00:48.644Z"
   },
   {
    "duration": 11,
    "start_time": "2021-11-12T05:00:48.695Z"
   },
   {
    "duration": 29,
    "start_time": "2021-11-12T05:00:48.708Z"
   },
   {
    "duration": 55,
    "start_time": "2021-11-12T05:00:48.739Z"
   },
   {
    "duration": 14,
    "start_time": "2021-11-12T05:00:48.798Z"
   },
   {
    "duration": 8,
    "start_time": "2021-11-12T05:00:48.815Z"
   },
   {
    "duration": 5,
    "start_time": "2021-11-12T05:00:48.825Z"
   },
   {
    "duration": 19,
    "start_time": "2021-11-12T05:00:48.832Z"
   },
   {
    "duration": 10,
    "start_time": "2021-11-12T05:00:48.882Z"
   },
   {
    "duration": 16,
    "start_time": "2021-11-12T05:00:48.894Z"
   },
   {
    "duration": 9,
    "start_time": "2021-11-12T05:00:48.913Z"
   },
   {
    "duration": 9,
    "start_time": "2021-11-12T05:00:48.924Z"
   },
   {
    "duration": 14,
    "start_time": "2021-11-12T05:00:48.935Z"
   },
   {
    "duration": 38,
    "start_time": "2021-11-12T05:00:48.951Z"
   },
   {
    "duration": 25,
    "start_time": "2021-11-12T05:00:48.991Z"
   },
   {
    "duration": 9,
    "start_time": "2021-11-12T05:00:49.019Z"
   },
   {
    "duration": 52,
    "start_time": "2021-11-12T05:00:49.032Z"
   },
   {
    "duration": 7,
    "start_time": "2021-11-12T05:00:49.087Z"
   },
   {
    "duration": 55,
    "start_time": "2021-11-12T05:00:49.097Z"
   },
   {
    "duration": 33,
    "start_time": "2021-11-12T05:00:49.155Z"
   },
   {
    "duration": 4,
    "start_time": "2021-11-12T05:00:58.636Z"
   },
   {
    "duration": 88,
    "start_time": "2021-11-12T05:00:58.642Z"
   },
   {
    "duration": 45,
    "start_time": "2021-11-12T05:00:58.734Z"
   },
   {
    "duration": 10,
    "start_time": "2021-11-12T05:00:58.781Z"
   },
   {
    "duration": 33,
    "start_time": "2021-11-12T05:00:58.794Z"
   },
   {
    "duration": 23,
    "start_time": "2021-11-12T05:00:58.829Z"
   },
   {
    "duration": 39,
    "start_time": "2021-11-12T05:00:58.856Z"
   },
   {
    "duration": 8,
    "start_time": "2021-11-12T05:00:58.898Z"
   },
   {
    "duration": 7,
    "start_time": "2021-11-12T05:00:58.909Z"
   },
   {
    "duration": 13,
    "start_time": "2021-11-12T05:00:58.919Z"
   },
   {
    "duration": 53,
    "start_time": "2021-11-12T05:00:58.935Z"
   },
   {
    "duration": 5,
    "start_time": "2021-11-12T05:00:58.991Z"
   },
   {
    "duration": 10,
    "start_time": "2021-11-12T05:00:58.999Z"
   },
   {
    "duration": 14,
    "start_time": "2021-11-12T05:00:59.011Z"
   },
   {
    "duration": 16,
    "start_time": "2021-11-12T05:00:59.028Z"
   },
   {
    "duration": 17,
    "start_time": "2021-11-12T05:00:59.083Z"
   },
   {
    "duration": 27,
    "start_time": "2021-11-12T05:00:59.103Z"
   },
   {
    "duration": 8,
    "start_time": "2021-11-12T05:00:59.133Z"
   },
   {
    "duration": 23,
    "start_time": "2021-11-12T05:00:59.185Z"
   },
   {
    "duration": 7,
    "start_time": "2021-11-12T05:00:59.211Z"
   },
   {
    "duration": 68,
    "start_time": "2021-11-12T05:00:59.220Z"
   },
   {
    "duration": 10,
    "start_time": "2021-11-12T05:00:59.291Z"
   },
   {
    "duration": 26,
    "start_time": "2021-11-12T05:01:16.923Z"
   },
   {
    "duration": 6,
    "start_time": "2021-11-12T05:01:29.700Z"
   },
   {
    "duration": 25,
    "start_time": "2021-11-12T05:01:30.607Z"
   },
   {
    "duration": 432,
    "start_time": "2021-11-13T05:20:22.400Z"
   },
   {
    "duration": 868,
    "start_time": "2021-11-13T05:20:26.646Z"
   },
   {
    "duration": 85,
    "start_time": "2021-11-13T05:20:27.517Z"
   },
   {
    "duration": 53,
    "start_time": "2021-11-13T05:20:27.605Z"
   },
   {
    "duration": 10,
    "start_time": "2021-11-13T05:20:27.661Z"
   },
   {
    "duration": 29,
    "start_time": "2021-11-13T05:20:27.674Z"
   },
   {
    "duration": 25,
    "start_time": "2021-11-13T05:20:27.705Z"
   },
   {
    "duration": 13,
    "start_time": "2021-11-13T05:20:27.760Z"
   },
   {
    "duration": 8,
    "start_time": "2021-11-13T05:20:27.777Z"
   },
   {
    "duration": 4,
    "start_time": "2021-11-13T05:20:27.788Z"
   },
   {
    "duration": 15,
    "start_time": "2021-11-13T05:20:27.794Z"
   },
   {
    "duration": 11,
    "start_time": "2021-11-13T05:20:27.811Z"
   },
   {
    "duration": 36,
    "start_time": "2021-11-13T05:20:27.824Z"
   },
   {
    "duration": 9,
    "start_time": "2021-11-13T05:20:27.863Z"
   },
   {
    "duration": 7,
    "start_time": "2021-11-13T05:20:27.874Z"
   },
   {
    "duration": 9,
    "start_time": "2021-11-13T05:20:27.884Z"
   },
   {
    "duration": 14,
    "start_time": "2021-11-13T05:20:27.895Z"
   },
   {
    "duration": 65,
    "start_time": "2021-11-13T05:20:27.911Z"
   },
   {
    "duration": 6,
    "start_time": "2021-11-13T05:20:27.978Z"
   },
   {
    "duration": 30,
    "start_time": "2021-11-13T05:20:27.987Z"
   },
   {
    "duration": 6,
    "start_time": "2021-11-13T05:20:28.019Z"
   },
   {
    "duration": 50,
    "start_time": "2021-11-13T05:20:28.027Z"
   },
   {
    "duration": 15,
    "start_time": "2021-11-13T05:20:28.080Z"
   },
   {
    "duration": 5,
    "start_time": "2021-11-13T05:20:28.099Z"
   },
   {
    "duration": 26,
    "start_time": "2021-11-13T05:20:30.945Z"
   },
   {
    "duration": 6,
    "start_time": "2021-11-13T05:23:46.411Z"
   },
   {
    "duration": 9,
    "start_time": "2021-11-13T05:24:47.053Z"
   },
   {
    "duration": 14,
    "start_time": "2021-11-13T05:25:27.904Z"
   },
   {
    "duration": 9,
    "start_time": "2021-11-13T05:27:24.423Z"
   },
   {
    "duration": 32,
    "start_time": "2021-11-13T05:37:58.565Z"
   },
   {
    "duration": 7,
    "start_time": "2021-11-13T05:49:39.086Z"
   },
   {
    "duration": 8,
    "start_time": "2021-11-13T05:49:54.499Z"
   },
   {
    "duration": 22,
    "start_time": "2021-11-13T05:50:27.751Z"
   },
   {
    "duration": 392,
    "start_time": "2021-11-13T05:54:32.095Z"
   },
   {
    "duration": 24,
    "start_time": "2021-11-13T05:55:22.531Z"
   },
   {
    "duration": 23,
    "start_time": "2021-11-13T06:13:37.994Z"
   },
   {
    "duration": 6,
    "start_time": "2021-11-13T06:13:51.838Z"
   },
   {
    "duration": 7,
    "start_time": "2021-11-13T06:13:58.175Z"
   },
   {
    "duration": 6,
    "start_time": "2021-11-13T06:14:28.423Z"
   },
   {
    "duration": 8,
    "start_time": "2021-11-13T06:14:48.968Z"
   },
   {
    "duration": 13,
    "start_time": "2021-11-13T06:16:03.713Z"
   },
   {
    "duration": 14,
    "start_time": "2021-11-13T06:16:22.219Z"
   },
   {
    "duration": 13,
    "start_time": "2021-11-13T06:16:28.237Z"
   },
   {
    "duration": 12,
    "start_time": "2021-11-13T06:18:54.522Z"
   },
   {
    "duration": 8,
    "start_time": "2021-11-13T06:20:28.677Z"
   },
   {
    "duration": 10,
    "start_time": "2021-11-13T06:21:05.969Z"
   },
   {
    "duration": 13,
    "start_time": "2021-11-13T06:21:15.399Z"
   },
   {
    "duration": 10,
    "start_time": "2021-11-13T06:21:54.766Z"
   },
   {
    "duration": 16,
    "start_time": "2021-11-13T07:08:50.638Z"
   },
   {
    "duration": 16,
    "start_time": "2021-11-13T07:08:56.164Z"
   },
   {
    "duration": 3,
    "start_time": "2021-11-13T07:09:50.694Z"
   },
   {
    "duration": 100,
    "start_time": "2021-11-13T07:09:50.701Z"
   },
   {
    "duration": 43,
    "start_time": "2021-11-13T07:09:50.805Z"
   },
   {
    "duration": 19,
    "start_time": "2021-11-13T07:09:50.851Z"
   },
   {
    "duration": 42,
    "start_time": "2021-11-13T07:09:50.872Z"
   },
   {
    "duration": 23,
    "start_time": "2021-11-13T07:09:50.917Z"
   },
   {
    "duration": 26,
    "start_time": "2021-11-13T07:09:50.944Z"
   },
   {
    "duration": 11,
    "start_time": "2021-11-13T07:09:50.974Z"
   },
   {
    "duration": 10,
    "start_time": "2021-11-13T07:09:50.988Z"
   },
   {
    "duration": 14,
    "start_time": "2021-11-13T07:09:51.000Z"
   },
   {
    "duration": 53,
    "start_time": "2021-11-13T07:09:51.017Z"
   },
   {
    "duration": 12,
    "start_time": "2021-11-13T07:09:51.073Z"
   },
   {
    "duration": 15,
    "start_time": "2021-11-13T07:09:51.088Z"
   },
   {
    "duration": 10,
    "start_time": "2021-11-13T07:09:51.106Z"
   },
   {
    "duration": 12,
    "start_time": "2021-11-13T07:09:51.119Z"
   },
   {
    "duration": 32,
    "start_time": "2021-11-13T07:09:51.134Z"
   },
   {
    "duration": 27,
    "start_time": "2021-11-13T07:09:51.169Z"
   },
   {
    "duration": 8,
    "start_time": "2021-11-13T07:09:51.199Z"
   },
   {
    "duration": 64,
    "start_time": "2021-11-13T07:09:51.211Z"
   },
   {
    "duration": 12,
    "start_time": "2021-11-13T07:09:51.278Z"
   },
   {
    "duration": 30,
    "start_time": "2021-11-13T07:09:51.292Z"
   },
   {
    "duration": 11,
    "start_time": "2021-11-13T07:09:51.325Z"
   },
   {
    "duration": 6,
    "start_time": "2021-11-13T07:09:51.360Z"
   },
   {
    "duration": 35,
    "start_time": "2021-11-13T07:09:51.368Z"
   },
   {
    "duration": 13,
    "start_time": "2021-11-13T07:09:51.405Z"
   },
   {
    "duration": 18,
    "start_time": "2021-11-13T07:09:51.420Z"
   },
   {
    "duration": 33,
    "start_time": "2021-11-13T07:09:51.461Z"
   },
   {
    "duration": 7,
    "start_time": "2021-11-13T07:09:51.496Z"
   },
   {
    "duration": 58,
    "start_time": "2021-11-13T07:09:51.505Z"
   },
   {
    "duration": 16,
    "start_time": "2021-11-13T07:09:59.729Z"
   },
   {
    "duration": 14,
    "start_time": "2021-11-13T07:11:22.969Z"
   },
   {
    "duration": 9,
    "start_time": "2021-11-13T07:11:35.243Z"
   },
   {
    "duration": 7,
    "start_time": "2021-11-13T07:13:49.437Z"
   },
   {
    "duration": 11,
    "start_time": "2021-11-13T07:15:04.924Z"
   },
   {
    "duration": 3,
    "start_time": "2021-11-13T07:19:00.721Z"
   },
   {
    "duration": 93,
    "start_time": "2021-11-13T07:19:00.727Z"
   },
   {
    "duration": 40,
    "start_time": "2021-11-13T07:19:00.823Z"
   },
   {
    "duration": 14,
    "start_time": "2021-11-13T07:19:00.865Z"
   },
   {
    "duration": 42,
    "start_time": "2021-11-13T07:19:00.882Z"
   },
   {
    "duration": 35,
    "start_time": "2021-11-13T07:19:00.926Z"
   },
   {
    "duration": 14,
    "start_time": "2021-11-13T07:19:00.964Z"
   },
   {
    "duration": 13,
    "start_time": "2021-11-13T07:19:00.981Z"
   },
   {
    "duration": 5,
    "start_time": "2021-11-13T07:19:03.929Z"
   },
   {
    "duration": 7,
    "start_time": "2021-11-13T07:19:04.612Z"
   },
   {
    "duration": 9,
    "start_time": "2021-11-13T07:19:05.472Z"
   },
   {
    "duration": 4,
    "start_time": "2021-11-13T07:19:21.512Z"
   },
   {
    "duration": 89,
    "start_time": "2021-11-13T07:19:21.521Z"
   },
   {
    "duration": 41,
    "start_time": "2021-11-13T07:19:21.613Z"
   },
   {
    "duration": 10,
    "start_time": "2021-11-13T07:19:21.661Z"
   },
   {
    "duration": 32,
    "start_time": "2021-11-13T07:19:21.675Z"
   },
   {
    "duration": 22,
    "start_time": "2021-11-13T07:19:21.710Z"
   },
   {
    "duration": 14,
    "start_time": "2021-11-13T07:19:21.760Z"
   },
   {
    "duration": 9,
    "start_time": "2021-11-13T07:19:21.776Z"
   },
   {
    "duration": 8,
    "start_time": "2021-11-13T07:19:21.787Z"
   },
   {
    "duration": 8,
    "start_time": "2021-11-13T07:19:21.799Z"
   },
   {
    "duration": 10,
    "start_time": "2021-11-13T07:19:21.811Z"
   },
   {
    "duration": 4,
    "start_time": "2021-11-13T07:19:21.860Z"
   },
   {
    "duration": 11,
    "start_time": "2021-11-13T07:19:21.867Z"
   },
   {
    "duration": 10,
    "start_time": "2021-11-13T07:19:21.881Z"
   },
   {
    "duration": 13,
    "start_time": "2021-11-13T07:19:21.894Z"
   },
   {
    "duration": 17,
    "start_time": "2021-11-13T07:19:21.909Z"
   },
   {
    "duration": 55,
    "start_time": "2021-11-13T07:19:21.928Z"
   },
   {
    "duration": 11,
    "start_time": "2021-11-13T07:19:21.985Z"
   },
   {
    "duration": 27,
    "start_time": "2021-11-13T07:19:21.998Z"
   },
   {
    "duration": 31,
    "start_time": "2021-11-13T07:19:22.028Z"
   },
   {
    "duration": 29,
    "start_time": "2021-11-13T07:19:22.062Z"
   },
   {
    "duration": 12,
    "start_time": "2021-11-13T07:19:22.093Z"
   },
   {
    "duration": 9,
    "start_time": "2021-11-13T07:19:22.108Z"
   },
   {
    "duration": 60,
    "start_time": "2021-11-13T07:19:22.120Z"
   },
   {
    "duration": 13,
    "start_time": "2021-11-13T07:19:22.183Z"
   },
   {
    "duration": 17,
    "start_time": "2021-11-13T07:19:22.199Z"
   },
   {
    "duration": 61,
    "start_time": "2021-11-13T07:19:22.220Z"
   },
   {
    "duration": 6,
    "start_time": "2021-11-13T07:19:22.285Z"
   },
   {
    "duration": 27,
    "start_time": "2021-11-13T07:19:22.294Z"
   },
   {
    "duration": 37,
    "start_time": "2021-11-13T07:19:22.324Z"
   },
   {
    "duration": 12,
    "start_time": "2021-11-13T07:19:22.363Z"
   },
   {
    "duration": 12,
    "start_time": "2021-11-13T07:19:22.378Z"
   },
   {
    "duration": 10,
    "start_time": "2021-11-13T07:19:22.392Z"
   },
   {
    "duration": 7,
    "start_time": "2021-11-13T07:19:28.569Z"
   },
   {
    "duration": 369,
    "start_time": "2021-11-13T07:19:53.965Z"
   },
   {
    "duration": 12,
    "start_time": "2021-11-13T07:20:09.508Z"
   },
   {
    "duration": 7,
    "start_time": "2021-11-13T07:26:58.488Z"
   },
   {
    "duration": 252,
    "start_time": "2021-11-13T07:29:12.177Z"
   },
   {
    "duration": 114,
    "start_time": "2021-11-13T07:32:23.973Z"
   },
   {
    "duration": 370,
    "start_time": "2021-11-13T07:32:28.397Z"
   },
   {
    "duration": 7,
    "start_time": "2021-11-13T07:32:59.959Z"
   },
   {
    "duration": 10,
    "start_time": "2021-11-13T07:39:52.782Z"
   },
   {
    "duration": 250,
    "start_time": "2021-11-13T07:55:51.847Z"
   },
   {
    "duration": 34,
    "start_time": "2021-11-13T07:57:30.710Z"
   },
   {
    "duration": 27,
    "start_time": "2021-11-13T08:01:52.327Z"
   },
   {
    "duration": 15,
    "start_time": "2021-11-13T08:02:31.610Z"
   },
   {
    "duration": 448,
    "start_time": "2021-11-13T08:03:51.267Z"
   },
   {
    "duration": 21,
    "start_time": "2021-11-13T08:03:59.000Z"
   },
   {
    "duration": 9,
    "start_time": "2021-11-13T08:08:11.014Z"
   },
   {
    "duration": 33,
    "start_time": "2021-11-13T08:08:34.887Z"
   },
   {
    "duration": 7231,
    "start_time": "2021-11-13T08:13:04.399Z"
   },
   {
    "duration": 360,
    "start_time": "2021-11-13T08:14:53.705Z"
   },
   {
    "duration": 4,
    "start_time": "2021-11-13T08:14:58.780Z"
   },
   {
    "duration": 93,
    "start_time": "2021-11-13T08:14:58.789Z"
   },
   {
    "duration": 70,
    "start_time": "2021-11-13T08:14:58.885Z"
   },
   {
    "duration": 14,
    "start_time": "2021-11-13T08:14:58.959Z"
   },
   {
    "duration": 35,
    "start_time": "2021-11-13T08:14:58.975Z"
   },
   {
    "duration": 48,
    "start_time": "2021-11-13T08:14:59.013Z"
   },
   {
    "duration": 14,
    "start_time": "2021-11-13T08:14:59.064Z"
   },
   {
    "duration": 8,
    "start_time": "2021-11-13T08:14:59.080Z"
   },
   {
    "duration": 4,
    "start_time": "2021-11-13T08:14:59.092Z"
   },
   {
    "duration": 11,
    "start_time": "2021-11-13T08:14:59.100Z"
   },
   {
    "duration": 52,
    "start_time": "2021-11-13T08:14:59.113Z"
   },
   {
    "duration": 4,
    "start_time": "2021-11-13T08:14:59.167Z"
   },
   {
    "duration": 9,
    "start_time": "2021-11-13T08:14:59.174Z"
   },
   {
    "duration": 8,
    "start_time": "2021-11-13T08:14:59.185Z"
   },
   {
    "duration": 13,
    "start_time": "2021-11-13T08:14:59.195Z"
   },
   {
    "duration": 51,
    "start_time": "2021-11-13T08:14:59.210Z"
   },
   {
    "duration": 24,
    "start_time": "2021-11-13T08:14:59.263Z"
   },
   {
    "duration": 8,
    "start_time": "2021-11-13T08:14:59.290Z"
   },
   {
    "duration": 26,
    "start_time": "2021-11-13T08:14:59.300Z"
   },
   {
    "duration": 34,
    "start_time": "2021-11-13T08:14:59.328Z"
   },
   {
    "duration": 31,
    "start_time": "2021-11-13T08:14:59.364Z"
   },
   {
    "duration": 15,
    "start_time": "2021-11-13T08:14:59.397Z"
   },
   {
    "duration": 7,
    "start_time": "2021-11-13T08:14:59.415Z"
   },
   {
    "duration": 26,
    "start_time": "2021-11-13T08:14:59.459Z"
   },
   {
    "duration": 9,
    "start_time": "2021-11-13T08:14:59.488Z"
   },
   {
    "duration": 17,
    "start_time": "2021-11-13T08:14:59.499Z"
   },
   {
    "duration": 61,
    "start_time": "2021-11-13T08:14:59.518Z"
   },
   {
    "duration": 5,
    "start_time": "2021-11-13T08:14:59.582Z"
   },
   {
    "duration": 29,
    "start_time": "2021-11-13T08:14:59.590Z"
   },
   {
    "duration": 38,
    "start_time": "2021-11-13T08:14:59.622Z"
   },
   {
    "duration": 10,
    "start_time": "2021-11-13T08:14:59.663Z"
   },
   {
    "duration": 14,
    "start_time": "2021-11-13T08:14:59.675Z"
   },
   {
    "duration": 9,
    "start_time": "2021-11-13T08:14:59.692Z"
   },
   {
    "duration": 6,
    "start_time": "2021-11-13T08:14:59.704Z"
   },
   {
    "duration": 52,
    "start_time": "2021-11-13T08:14:59.712Z"
   },
   {
    "duration": 283,
    "start_time": "2021-11-13T08:14:59.766Z"
   },
   {
    "duration": 11,
    "start_time": "2021-11-13T08:15:00.059Z"
   },
   {
    "duration": 24,
    "start_time": "2021-11-13T08:15:00.072Z"
   },
   {
    "duration": 359,
    "start_time": "2021-11-13T08:15:04.652Z"
   },
   {
    "duration": 7340,
    "start_time": "2021-11-13T08:15:10.597Z"
   },
   {
    "duration": 15,
    "start_time": "2021-11-13T08:15:21.544Z"
   },
   {
    "duration": 317,
    "start_time": "2021-11-13T08:15:34.805Z"
   },
   {
    "duration": 8,
    "start_time": "2021-11-13T08:16:31.731Z"
   },
   {
    "duration": 392,
    "start_time": "2021-11-13T08:21:13.608Z"
   },
   {
    "duration": 362,
    "start_time": "2021-11-13T08:21:31.236Z"
   },
   {
    "duration": 383,
    "start_time": "2021-11-13T08:21:44.877Z"
   },
   {
    "duration": 14,
    "start_time": "2021-11-13T08:22:14.716Z"
   },
   {
    "duration": 3,
    "start_time": "2021-11-13T08:22:26.310Z"
   },
   {
    "duration": 88,
    "start_time": "2021-11-13T08:22:26.320Z"
   },
   {
    "duration": 54,
    "start_time": "2021-11-13T08:22:26.411Z"
   },
   {
    "duration": 11,
    "start_time": "2021-11-13T08:22:26.468Z"
   },
   {
    "duration": 30,
    "start_time": "2021-11-13T08:22:26.482Z"
   },
   {
    "duration": 47,
    "start_time": "2021-11-13T08:22:26.514Z"
   },
   {
    "duration": 17,
    "start_time": "2021-11-13T08:22:26.564Z"
   },
   {
    "duration": 9,
    "start_time": "2021-11-13T08:22:26.583Z"
   },
   {
    "duration": 4,
    "start_time": "2021-11-13T08:22:26.594Z"
   },
   {
    "duration": 10,
    "start_time": "2021-11-13T08:22:26.602Z"
   },
   {
    "duration": 46,
    "start_time": "2021-11-13T08:22:26.615Z"
   },
   {
    "duration": 6,
    "start_time": "2021-11-13T08:22:26.663Z"
   },
   {
    "duration": 13,
    "start_time": "2021-11-13T08:22:26.671Z"
   },
   {
    "duration": 10,
    "start_time": "2021-11-13T08:22:26.686Z"
   },
   {
    "duration": 13,
    "start_time": "2021-11-13T08:22:26.698Z"
   },
   {
    "duration": 14,
    "start_time": "2021-11-13T08:22:26.713Z"
   },
   {
    "duration": 25,
    "start_time": "2021-11-13T08:22:26.759Z"
   },
   {
    "duration": 7,
    "start_time": "2021-11-13T08:22:26.787Z"
   },
   {
    "duration": 27,
    "start_time": "2021-11-13T08:22:26.796Z"
   },
   {
    "duration": 5,
    "start_time": "2021-11-13T08:22:26.825Z"
   },
   {
    "duration": 51,
    "start_time": "2021-11-13T08:22:26.832Z"
   },
   {
    "duration": 10,
    "start_time": "2021-11-13T08:22:26.886Z"
   },
   {
    "duration": 5,
    "start_time": "2021-11-13T08:22:26.899Z"
   },
   {
    "duration": 62,
    "start_time": "2021-11-13T08:22:26.907Z"
   },
   {
    "duration": 14,
    "start_time": "2021-11-13T08:22:26.972Z"
   },
   {
    "duration": 22,
    "start_time": "2021-11-13T08:22:26.988Z"
   },
   {
    "duration": 47,
    "start_time": "2021-11-13T08:22:27.013Z"
   },
   {
    "duration": 6,
    "start_time": "2021-11-13T08:22:27.065Z"
   },
   {
    "duration": 28,
    "start_time": "2021-11-13T08:22:27.074Z"
   },
   {
    "duration": 8,
    "start_time": "2021-11-13T08:22:27.104Z"
   },
   {
    "duration": 46,
    "start_time": "2021-11-13T08:22:27.114Z"
   },
   {
    "duration": 13,
    "start_time": "2021-11-13T08:22:27.163Z"
   },
   {
    "duration": 12,
    "start_time": "2021-11-13T08:22:27.179Z"
   },
   {
    "duration": 7,
    "start_time": "2021-11-13T08:22:27.194Z"
   },
   {
    "duration": 61,
    "start_time": "2021-11-13T08:22:27.204Z"
   },
   {
    "duration": 275,
    "start_time": "2021-11-13T08:22:27.268Z"
   },
   {
    "duration": 20,
    "start_time": "2021-11-13T08:22:27.546Z"
   },
   {
    "duration": 25,
    "start_time": "2021-11-13T08:22:27.568Z"
   },
   {
    "duration": 7378,
    "start_time": "2021-11-13T08:22:27.596Z"
   },
   {
    "duration": 7,
    "start_time": "2021-11-13T08:22:34.976Z"
   },
   {
    "duration": 18,
    "start_time": "2021-11-13T08:22:34.986Z"
   },
   {
    "duration": 4,
    "start_time": "2021-11-13T08:26:40.497Z"
   },
   {
    "duration": 91,
    "start_time": "2021-11-13T08:26:40.505Z"
   },
   {
    "duration": 40,
    "start_time": "2021-11-13T08:26:40.599Z"
   },
   {
    "duration": 10,
    "start_time": "2021-11-13T08:26:40.641Z"
   },
   {
    "duration": 36,
    "start_time": "2021-11-13T08:26:40.653Z"
   },
   {
    "duration": 22,
    "start_time": "2021-11-13T08:26:40.692Z"
   },
   {
    "duration": 2677,
    "start_time": "2021-11-13T08:26:44.199Z"
   },
   {
    "duration": 2597,
    "start_time": "2021-11-13T08:27:59.143Z"
   },
   {
    "duration": 22,
    "start_time": "2021-11-13T08:28:17.113Z"
   },
   {
    "duration": 3,
    "start_time": "2021-11-13T08:28:30.497Z"
   },
   {
    "duration": 103,
    "start_time": "2021-11-13T08:28:30.505Z"
   },
   {
    "duration": 40,
    "start_time": "2021-11-13T08:28:30.611Z"
   },
   {
    "duration": 20,
    "start_time": "2021-11-13T08:28:30.654Z"
   },
   {
    "duration": 55,
    "start_time": "2021-11-13T08:28:30.677Z"
   },
   {
    "duration": 23,
    "start_time": "2021-11-13T08:28:30.735Z"
   },
   {
    "duration": 26,
    "start_time": "2021-11-13T08:28:30.760Z"
   },
   {
    "duration": 11,
    "start_time": "2021-11-13T08:28:30.788Z"
   },
   {
    "duration": 16,
    "start_time": "2021-11-13T08:28:30.803Z"
   },
   {
    "duration": 21,
    "start_time": "2021-11-13T08:28:30.823Z"
   },
   {
    "duration": 26,
    "start_time": "2021-11-13T08:28:30.846Z"
   },
   {
    "duration": 13,
    "start_time": "2021-11-13T08:28:30.874Z"
   },
   {
    "duration": 11,
    "start_time": "2021-11-13T08:28:30.890Z"
   },
   {
    "duration": 11,
    "start_time": "2021-11-13T08:28:30.904Z"
   },
   {
    "duration": 13,
    "start_time": "2021-11-13T08:28:30.917Z"
   },
   {
    "duration": 35,
    "start_time": "2021-11-13T08:28:30.933Z"
   },
   {
    "duration": 26,
    "start_time": "2021-11-13T08:28:30.970Z"
   },
   {
    "duration": 12,
    "start_time": "2021-11-13T08:28:30.998Z"
   },
   {
    "duration": 48,
    "start_time": "2021-11-13T08:28:31.013Z"
   },
   {
    "duration": 10,
    "start_time": "2021-11-13T08:28:31.064Z"
   },
   {
    "duration": 38,
    "start_time": "2021-11-13T08:28:31.077Z"
   },
   {
    "duration": 12,
    "start_time": "2021-11-13T08:28:31.118Z"
   },
   {
    "duration": 30,
    "start_time": "2021-11-13T08:28:31.132Z"
   },
   {
    "duration": 40,
    "start_time": "2021-11-13T08:28:31.167Z"
   },
   {
    "duration": 15,
    "start_time": "2021-11-13T08:28:31.211Z"
   },
   {
    "duration": 30,
    "start_time": "2021-11-13T08:28:31.229Z"
   },
   {
    "duration": 48,
    "start_time": "2021-11-13T08:28:31.262Z"
   },
   {
    "duration": 6,
    "start_time": "2021-11-13T08:28:31.312Z"
   },
   {
    "duration": 44,
    "start_time": "2021-11-13T08:28:31.320Z"
   },
   {
    "duration": 7,
    "start_time": "2021-11-13T08:28:31.367Z"
   },
   {
    "duration": 20,
    "start_time": "2021-11-13T08:28:31.376Z"
   },
   {
    "duration": 25,
    "start_time": "2021-11-13T08:28:31.398Z"
   },
   {
    "duration": 11,
    "start_time": "2021-11-13T08:28:31.425Z"
   },
   {
    "duration": 24,
    "start_time": "2021-11-13T08:28:31.438Z"
   },
   {
    "duration": 24,
    "start_time": "2021-11-13T08:28:31.464Z"
   },
   {
    "duration": 269,
    "start_time": "2021-11-13T08:28:31.490Z"
   },
   {
    "duration": 11,
    "start_time": "2021-11-13T08:28:31.763Z"
   },
   {
    "duration": 30,
    "start_time": "2021-11-13T08:28:31.777Z"
   },
   {
    "duration": 7365,
    "start_time": "2021-11-13T08:28:31.809Z"
   },
   {
    "duration": 7,
    "start_time": "2021-11-13T08:28:39.176Z"
   },
   {
    "duration": 24,
    "start_time": "2021-11-13T08:28:39.186Z"
   },
   {
    "duration": 3,
    "start_time": "2021-11-13T08:28:56.367Z"
   },
   {
    "duration": 98,
    "start_time": "2021-11-13T08:28:56.373Z"
   },
   {
    "duration": 40,
    "start_time": "2021-11-13T08:28:56.474Z"
   },
   {
    "duration": 9,
    "start_time": "2021-11-13T08:28:56.517Z"
   },
   {
    "duration": 42,
    "start_time": "2021-11-13T08:28:56.529Z"
   },
   {
    "duration": 23,
    "start_time": "2021-11-13T08:28:56.573Z"
   },
   {
    "duration": 21,
    "start_time": "2021-11-13T08:28:56.599Z"
   },
   {
    "duration": 7,
    "start_time": "2021-11-13T08:28:56.623Z"
   },
   {
    "duration": 4,
    "start_time": "2021-11-13T08:28:56.660Z"
   },
   {
    "duration": 9,
    "start_time": "2021-11-13T08:28:56.667Z"
   },
   {
    "duration": 17,
    "start_time": "2021-11-13T08:28:56.678Z"
   },
   {
    "duration": 5,
    "start_time": "2021-11-13T08:28:56.697Z"
   },
   {
    "duration": 10,
    "start_time": "2021-11-13T08:28:56.704Z"
   },
   {
    "duration": 7,
    "start_time": "2021-11-13T08:28:56.717Z"
   },
   {
    "duration": 9,
    "start_time": "2021-11-13T08:28:56.759Z"
   },
   {
    "duration": 22,
    "start_time": "2021-11-13T08:28:56.770Z"
   },
   {
    "duration": 24,
    "start_time": "2021-11-13T08:28:56.795Z"
   },
   {
    "duration": 37,
    "start_time": "2021-11-13T08:28:56.822Z"
   },
   {
    "duration": 22,
    "start_time": "2021-11-13T08:28:56.864Z"
   },
   {
    "duration": 8,
    "start_time": "2021-11-13T08:28:56.889Z"
   },
   {
    "duration": 28,
    "start_time": "2021-11-13T08:28:56.899Z"
   },
   {
    "duration": 36,
    "start_time": "2021-11-13T08:28:56.930Z"
   },
   {
    "duration": 8,
    "start_time": "2021-11-13T08:28:56.968Z"
   },
   {
    "duration": 27,
    "start_time": "2021-11-13T08:28:56.978Z"
   },
   {
    "duration": 12,
    "start_time": "2021-11-13T08:28:57.007Z"
   },
   {
    "duration": 48,
    "start_time": "2021-11-13T08:28:57.021Z"
   },
   {
    "duration": 33,
    "start_time": "2021-11-13T08:28:57.072Z"
   },
   {
    "duration": 6,
    "start_time": "2021-11-13T08:28:57.107Z"
   },
   {
    "duration": 56,
    "start_time": "2021-11-13T08:28:57.115Z"
   },
   {
    "duration": 8,
    "start_time": "2021-11-13T08:28:57.173Z"
   },
   {
    "duration": 9,
    "start_time": "2021-11-13T08:28:57.184Z"
   },
   {
    "duration": 13,
    "start_time": "2021-11-13T08:28:57.195Z"
   },
   {
    "duration": 8,
    "start_time": "2021-11-13T08:28:57.211Z"
   },
   {
    "duration": 5,
    "start_time": "2021-11-13T08:28:57.260Z"
   },
   {
    "duration": 10,
    "start_time": "2021-11-13T08:28:57.268Z"
   },
   {
    "duration": 286,
    "start_time": "2021-11-13T08:28:57.280Z"
   },
   {
    "duration": 9,
    "start_time": "2021-11-13T08:28:57.568Z"
   },
   {
    "duration": 15,
    "start_time": "2021-11-13T08:28:57.580Z"
   },
   {
    "duration": 7716,
    "start_time": "2021-11-13T08:28:57.597Z"
   },
   {
    "duration": 7,
    "start_time": "2021-11-13T08:29:05.315Z"
   },
   {
    "duration": 35,
    "start_time": "2021-11-13T08:29:05.325Z"
   },
   {
    "duration": 378,
    "start_time": "2021-11-13T08:29:11.841Z"
   },
   {
    "duration": 4,
    "start_time": "2021-11-13T08:30:17.322Z"
   },
   {
    "duration": 126,
    "start_time": "2021-11-13T08:30:17.328Z"
   },
   {
    "duration": 45,
    "start_time": "2021-11-13T08:30:17.458Z"
   },
   {
    "duration": 15,
    "start_time": "2021-11-13T08:30:17.507Z"
   },
   {
    "duration": 42,
    "start_time": "2021-11-13T08:30:17.525Z"
   },
   {
    "duration": 34,
    "start_time": "2021-11-13T08:30:17.570Z"
   },
   {
    "duration": 2543,
    "start_time": "2021-11-13T08:30:23.849Z"
   },
   {
    "duration": 2522,
    "start_time": "2021-11-13T08:30:39.824Z"
   },
   {
    "duration": 2789,
    "start_time": "2021-11-13T08:33:02.404Z"
   },
   {
    "duration": 2515,
    "start_time": "2021-11-13T08:33:09.991Z"
   },
   {
    "duration": 13,
    "start_time": "2021-11-13T08:33:59.728Z"
   },
   {
    "duration": 2489,
    "start_time": "2021-11-13T08:39:22.102Z"
   },
   {
    "duration": 3,
    "start_time": "2021-11-13T08:39:35.354Z"
   },
   {
    "duration": 81,
    "start_time": "2021-11-13T08:39:35.360Z"
   },
   {
    "duration": 40,
    "start_time": "2021-11-13T08:39:35.445Z"
   },
   {
    "duration": 11,
    "start_time": "2021-11-13T08:39:35.488Z"
   },
   {
    "duration": 39,
    "start_time": "2021-11-13T08:39:35.501Z"
   },
   {
    "duration": 23,
    "start_time": "2021-11-13T08:39:35.543Z"
   },
   {
    "duration": 2558,
    "start_time": "2021-11-13T08:39:37.838Z"
   },
   {
    "duration": 2549,
    "start_time": "2021-11-13T08:39:53.263Z"
   },
   {
    "duration": 14,
    "start_time": "2021-11-13T08:40:48.084Z"
   },
   {
    "duration": 12,
    "start_time": "2021-11-13T08:41:34.066Z"
   },
   {
    "duration": 14,
    "start_time": "2021-11-13T08:41:46.741Z"
   },
   {
    "duration": 14,
    "start_time": "2021-11-13T08:52:59.019Z"
   },
   {
    "duration": 7,
    "start_time": "2021-11-13T08:53:15.325Z"
   },
   {
    "duration": 16,
    "start_time": "2021-11-13T08:53:27.359Z"
   },
   {
    "duration": 4,
    "start_time": "2021-11-13T08:54:06.649Z"
   },
   {
    "duration": 104,
    "start_time": "2021-11-13T08:54:06.656Z"
   },
   {
    "duration": 41,
    "start_time": "2021-11-13T08:54:06.764Z"
   },
   {
    "duration": 11,
    "start_time": "2021-11-13T08:54:06.808Z"
   },
   {
    "duration": 38,
    "start_time": "2021-11-13T08:54:06.822Z"
   },
   {
    "duration": 23,
    "start_time": "2021-11-13T08:54:06.862Z"
   },
   {
    "duration": 15,
    "start_time": "2021-11-13T08:54:06.888Z"
   },
   {
    "duration": 15,
    "start_time": "2021-11-13T08:54:06.907Z"
   },
   {
    "duration": 42,
    "start_time": "2021-11-13T08:54:06.925Z"
   },
   {
    "duration": 7,
    "start_time": "2021-11-13T08:54:06.970Z"
   },
   {
    "duration": 9,
    "start_time": "2021-11-13T08:54:06.980Z"
   },
   {
    "duration": 13,
    "start_time": "2021-11-13T08:54:06.992Z"
   },
   {
    "duration": 5,
    "start_time": "2021-11-13T08:54:07.007Z"
   },
   {
    "duration": 10,
    "start_time": "2021-11-13T08:54:07.014Z"
   },
   {
    "duration": 8,
    "start_time": "2021-11-13T08:54:07.060Z"
   },
   {
    "duration": 11,
    "start_time": "2021-11-13T08:54:07.070Z"
   },
   {
    "duration": 15,
    "start_time": "2021-11-13T08:54:07.083Z"
   },
   {
    "duration": 25,
    "start_time": "2021-11-13T08:54:07.100Z"
   },
   {
    "duration": 6,
    "start_time": "2021-11-13T08:54:07.161Z"
   },
   {
    "duration": 23,
    "start_time": "2021-11-13T08:54:07.170Z"
   },
   {
    "duration": 5,
    "start_time": "2021-11-13T08:54:07.196Z"
   },
   {
    "duration": 61,
    "start_time": "2021-11-13T08:54:07.203Z"
   },
   {
    "duration": 13,
    "start_time": "2021-11-13T08:54:07.266Z"
   },
   {
    "duration": 7,
    "start_time": "2021-11-13T08:54:07.281Z"
   },
   {
    "duration": 26,
    "start_time": "2021-11-13T08:54:07.291Z"
   },
   {
    "duration": 49,
    "start_time": "2021-11-13T08:54:07.320Z"
   },
   {
    "duration": 20,
    "start_time": "2021-11-13T08:54:07.372Z"
   },
   {
    "duration": 63,
    "start_time": "2021-11-13T08:54:07.395Z"
   },
   {
    "duration": 8,
    "start_time": "2021-11-13T08:54:07.461Z"
   },
   {
    "duration": 27,
    "start_time": "2021-11-13T08:54:07.472Z"
   },
   {
    "duration": 10,
    "start_time": "2021-11-13T08:54:07.502Z"
   },
   {
    "duration": 53,
    "start_time": "2021-11-13T08:54:07.515Z"
   },
   {
    "duration": 15,
    "start_time": "2021-11-13T08:54:07.572Z"
   },
   {
    "duration": 10,
    "start_time": "2021-11-13T08:54:07.590Z"
   },
   {
    "duration": 55,
    "start_time": "2021-11-13T08:54:07.604Z"
   },
   {
    "duration": 13,
    "start_time": "2021-11-13T08:54:07.662Z"
   },
   {
    "duration": 285,
    "start_time": "2021-11-13T08:54:07.678Z"
   },
   {
    "duration": 12,
    "start_time": "2021-11-13T08:54:07.966Z"
   },
   {
    "duration": 17,
    "start_time": "2021-11-13T08:54:07.981Z"
   },
   {
    "duration": 7404,
    "start_time": "2021-11-13T08:54:08.000Z"
   },
   {
    "duration": 6,
    "start_time": "2021-11-13T08:54:15.407Z"
   },
   {
    "duration": 15,
    "start_time": "2021-11-13T08:54:15.415Z"
   },
   {
    "duration": 9,
    "start_time": "2021-11-13T08:54:18.902Z"
   },
   {
    "duration": 15,
    "start_time": "2021-11-13T08:54:20.591Z"
   },
   {
    "duration": 6,
    "start_time": "2021-11-13T08:54:43.794Z"
   },
   {
    "duration": 3,
    "start_time": "2021-11-13T09:08:05.395Z"
   },
   {
    "duration": 9,
    "start_time": "2021-11-13T09:09:50.144Z"
   },
   {
    "duration": 8,
    "start_time": "2021-11-13T09:10:02.749Z"
   },
   {
    "duration": 8,
    "start_time": "2021-11-13T09:10:50.479Z"
   },
   {
    "duration": 27,
    "start_time": "2021-11-13T09:11:27.022Z"
   },
   {
    "duration": 364,
    "start_time": "2021-11-13T09:11:41.790Z"
   },
   {
    "duration": 7,
    "start_time": "2021-11-13T09:11:50.981Z"
   },
   {
    "duration": 13,
    "start_time": "2021-11-13T09:12:10.064Z"
   },
   {
    "duration": 4,
    "start_time": "2021-11-13T09:13:40.740Z"
   },
   {
    "duration": 102,
    "start_time": "2021-11-13T09:13:40.746Z"
   },
   {
    "duration": 43,
    "start_time": "2021-11-13T09:13:40.850Z"
   },
   {
    "duration": 20,
    "start_time": "2021-11-13T09:13:40.896Z"
   },
   {
    "duration": 41,
    "start_time": "2021-11-13T09:13:40.918Z"
   },
   {
    "duration": 25,
    "start_time": "2021-11-13T09:13:40.961Z"
   },
   {
    "duration": 19,
    "start_time": "2021-11-13T09:13:40.990Z"
   },
   {
    "duration": 15,
    "start_time": "2021-11-13T09:13:41.012Z"
   },
   {
    "duration": 39,
    "start_time": "2021-11-13T09:13:41.029Z"
   },
   {
    "duration": 20,
    "start_time": "2021-11-13T09:13:41.071Z"
   },
   {
    "duration": 24,
    "start_time": "2021-11-13T09:13:41.094Z"
   },
   {
    "duration": 28,
    "start_time": "2021-11-13T09:13:41.120Z"
   },
   {
    "duration": 13,
    "start_time": "2021-11-13T09:13:41.151Z"
   },
   {
    "duration": 24,
    "start_time": "2021-11-13T09:13:41.167Z"
   },
   {
    "duration": 26,
    "start_time": "2021-11-13T09:13:41.194Z"
   },
   {
    "duration": 26,
    "start_time": "2021-11-13T09:13:41.222Z"
   },
   {
    "duration": 30,
    "start_time": "2021-11-13T09:13:41.251Z"
   },
   {
    "duration": 38,
    "start_time": "2021-11-13T09:13:41.284Z"
   },
   {
    "duration": 17,
    "start_time": "2021-11-13T09:13:41.327Z"
   },
   {
    "duration": 42,
    "start_time": "2021-11-13T09:13:41.347Z"
   },
   {
    "duration": 16,
    "start_time": "2021-11-13T09:13:41.392Z"
   },
   {
    "duration": 41,
    "start_time": "2021-11-13T09:13:41.410Z"
   },
   {
    "duration": 13,
    "start_time": "2021-11-13T09:13:41.454Z"
   },
   {
    "duration": 9,
    "start_time": "2021-11-13T09:13:41.470Z"
   },
   {
    "duration": 36,
    "start_time": "2021-11-13T09:13:41.482Z"
   },
   {
    "duration": 38,
    "start_time": "2021-11-13T09:13:41.521Z"
   },
   {
    "duration": 17,
    "start_time": "2021-11-13T09:13:41.562Z"
   },
   {
    "duration": 36,
    "start_time": "2021-11-13T09:13:41.582Z"
   },
   {
    "duration": 40,
    "start_time": "2021-11-13T09:13:41.621Z"
   },
   {
    "duration": 45,
    "start_time": "2021-11-13T09:13:41.664Z"
   },
   {
    "duration": 11,
    "start_time": "2021-11-13T09:13:41.712Z"
   },
   {
    "duration": 33,
    "start_time": "2021-11-13T09:13:41.726Z"
   },
   {
    "duration": 27,
    "start_time": "2021-11-13T09:13:41.762Z"
   },
   {
    "duration": 25,
    "start_time": "2021-11-13T09:13:41.791Z"
   },
   {
    "duration": 21,
    "start_time": "2021-11-13T09:13:41.819Z"
   },
   {
    "duration": 20,
    "start_time": "2021-11-13T09:13:41.842Z"
   },
   {
    "duration": 271,
    "start_time": "2021-11-13T09:13:41.864Z"
   },
   {
    "duration": 24,
    "start_time": "2021-11-13T09:13:42.137Z"
   },
   {
    "duration": 16,
    "start_time": "2021-11-13T09:13:42.163Z"
   },
   {
    "duration": 7628,
    "start_time": "2021-11-13T09:13:42.181Z"
   },
   {
    "duration": 7,
    "start_time": "2021-11-13T09:13:49.812Z"
   },
   {
    "duration": 14,
    "start_time": "2021-11-13T09:13:49.822Z"
   },
   {
    "duration": 20,
    "start_time": "2021-11-13T09:13:49.839Z"
   },
   {
    "duration": 9,
    "start_time": "2021-11-13T09:13:56.210Z"
   },
   {
    "duration": 9,
    "start_time": "2021-11-13T09:14:02.870Z"
   },
   {
    "duration": 19,
    "start_time": "2021-11-13T09:15:59.097Z"
   },
   {
    "duration": 6,
    "start_time": "2021-11-13T09:22:45.970Z"
   },
   {
    "duration": 6,
    "start_time": "2021-11-13T09:23:32.483Z"
   },
   {
    "duration": 3,
    "start_time": "2021-11-13T09:24:20.510Z"
   },
   {
    "duration": 86,
    "start_time": "2021-11-13T09:24:20.519Z"
   },
   {
    "duration": 40,
    "start_time": "2021-11-13T09:24:20.608Z"
   },
   {
    "duration": 15,
    "start_time": "2021-11-13T09:24:20.651Z"
   },
   {
    "duration": 30,
    "start_time": "2021-11-13T09:24:20.668Z"
   },
   {
    "duration": 21,
    "start_time": "2021-11-13T09:24:20.701Z"
   },
   {
    "duration": 46,
    "start_time": "2021-11-13T09:24:20.724Z"
   },
   {
    "duration": 16,
    "start_time": "2021-11-13T09:24:20.773Z"
   },
   {
    "duration": 8,
    "start_time": "2021-11-13T09:24:20.793Z"
   },
   {
    "duration": 5,
    "start_time": "2021-11-13T09:24:20.805Z"
   },
   {
    "duration": 47,
    "start_time": "2021-11-13T09:24:20.812Z"
   },
   {
    "duration": 10,
    "start_time": "2021-11-13T09:24:20.862Z"
   },
   {
    "duration": 8,
    "start_time": "2021-11-13T09:24:20.875Z"
   },
   {
    "duration": 12,
    "start_time": "2021-11-13T09:24:20.885Z"
   },
   {
    "duration": 9,
    "start_time": "2021-11-13T09:24:20.899Z"
   },
   {
    "duration": 14,
    "start_time": "2021-11-13T09:24:20.910Z"
   },
   {
    "duration": 44,
    "start_time": "2021-11-13T09:24:20.927Z"
   },
   {
    "duration": 26,
    "start_time": "2021-11-13T09:24:20.974Z"
   },
   {
    "duration": 6,
    "start_time": "2021-11-13T09:24:21.003Z"
   },
   {
    "duration": 59,
    "start_time": "2021-11-13T09:24:21.011Z"
   },
   {
    "duration": 11,
    "start_time": "2021-11-13T09:24:21.073Z"
   },
   {
    "duration": 34,
    "start_time": "2021-11-13T09:24:21.087Z"
   },
   {
    "duration": 36,
    "start_time": "2021-11-13T09:24:21.124Z"
   },
   {
    "duration": 9,
    "start_time": "2021-11-13T09:24:21.167Z"
   },
   {
    "duration": 33,
    "start_time": "2021-11-13T09:24:21.178Z"
   },
   {
    "duration": 11,
    "start_time": "2021-11-13T09:24:21.214Z"
   },
   {
    "duration": 45,
    "start_time": "2021-11-13T09:24:21.227Z"
   },
   {
    "duration": 33,
    "start_time": "2021-11-13T09:24:21.274Z"
   },
   {
    "duration": 6,
    "start_time": "2021-11-13T09:24:21.309Z"
   },
   {
    "duration": 59,
    "start_time": "2021-11-13T09:24:21.318Z"
   },
   {
    "duration": 8,
    "start_time": "2021-11-13T09:24:21.380Z"
   },
   {
    "duration": 11,
    "start_time": "2021-11-13T09:24:21.390Z"
   },
   {
    "duration": 13,
    "start_time": "2021-11-13T09:24:21.403Z"
   },
   {
    "duration": 41,
    "start_time": "2021-11-13T09:24:21.418Z"
   },
   {
    "duration": 7,
    "start_time": "2021-11-13T09:24:21.462Z"
   },
   {
    "duration": 11,
    "start_time": "2021-11-13T09:24:21.472Z"
   },
   {
    "duration": 299,
    "start_time": "2021-11-13T09:24:21.485Z"
   },
   {
    "duration": 374,
    "start_time": "2021-11-13T09:24:34.399Z"
   },
   {
    "duration": 15,
    "start_time": "2021-11-13T09:24:56.314Z"
   },
   {
    "duration": 15,
    "start_time": "2021-11-13T09:26:55.912Z"
   },
   {
    "duration": 3,
    "start_time": "2021-11-13T09:27:12.750Z"
   },
   {
    "duration": 103,
    "start_time": "2021-11-13T09:27:12.756Z"
   },
   {
    "duration": 40,
    "start_time": "2021-11-13T09:27:12.863Z"
   },
   {
    "duration": 11,
    "start_time": "2021-11-13T09:27:12.905Z"
   },
   {
    "duration": 45,
    "start_time": "2021-11-13T09:27:12.918Z"
   },
   {
    "duration": 22,
    "start_time": "2021-11-13T09:27:12.965Z"
   },
   {
    "duration": 15,
    "start_time": "2021-11-13T09:27:12.991Z"
   },
   {
    "duration": 14,
    "start_time": "2021-11-13T09:27:13.009Z"
   },
   {
    "duration": 39,
    "start_time": "2021-11-13T09:27:13.025Z"
   },
   {
    "duration": 6,
    "start_time": "2021-11-13T09:27:13.067Z"
   },
   {
    "duration": 12,
    "start_time": "2021-11-13T09:27:13.075Z"
   },
   {
    "duration": 10,
    "start_time": "2021-11-13T09:27:13.089Z"
   },
   {
    "duration": 5,
    "start_time": "2021-11-13T09:27:13.102Z"
   },
   {
    "duration": 49,
    "start_time": "2021-11-13T09:27:13.110Z"
   },
   {
    "duration": 5,
    "start_time": "2021-11-13T09:27:13.162Z"
   },
   {
    "duration": 15,
    "start_time": "2021-11-13T09:27:13.171Z"
   },
   {
    "duration": 18,
    "start_time": "2021-11-13T09:27:13.189Z"
   },
   {
    "duration": 65,
    "start_time": "2021-11-13T09:27:13.210Z"
   },
   {
    "duration": 8,
    "start_time": "2021-11-13T09:27:13.283Z"
   },
   {
    "duration": 26,
    "start_time": "2021-11-13T09:27:13.295Z"
   },
   {
    "duration": 6,
    "start_time": "2021-11-13T09:27:13.361Z"
   },
   {
    "duration": 28,
    "start_time": "2021-11-13T09:27:13.370Z"
   },
   {
    "duration": 13,
    "start_time": "2021-11-13T09:27:13.402Z"
   },
   {
    "duration": 45,
    "start_time": "2021-11-13T09:27:13.418Z"
   },
   {
    "duration": 28,
    "start_time": "2021-11-13T09:27:13.466Z"
   },
   {
    "duration": 12,
    "start_time": "2021-11-13T09:27:13.497Z"
   },
   {
    "duration": 15,
    "start_time": "2021-11-13T09:27:13.511Z"
   },
   {
    "duration": 33,
    "start_time": "2021-11-13T09:27:13.560Z"
   },
   {
    "duration": 6,
    "start_time": "2021-11-13T09:27:13.595Z"
   },
   {
    "duration": 58,
    "start_time": "2021-11-13T09:27:13.603Z"
   },
   {
    "duration": 8,
    "start_time": "2021-11-13T09:27:13.663Z"
   },
   {
    "duration": 13,
    "start_time": "2021-11-13T09:27:13.673Z"
   },
   {
    "duration": 16,
    "start_time": "2021-11-13T09:27:13.688Z"
   },
   {
    "duration": 10,
    "start_time": "2021-11-13T09:27:13.706Z"
   },
   {
    "duration": 49,
    "start_time": "2021-11-13T09:27:13.718Z"
   },
   {
    "duration": 10,
    "start_time": "2021-11-13T09:27:13.770Z"
   },
   {
    "duration": 407,
    "start_time": "2021-11-13T09:27:13.782Z"
   },
   {
    "duration": 14,
    "start_time": "2021-11-13T09:27:14.191Z"
   },
   {
    "duration": 18,
    "start_time": "2021-11-13T09:27:14.208Z"
   },
   {
    "duration": 7731,
    "start_time": "2021-11-13T09:27:14.228Z"
   },
   {
    "duration": 7,
    "start_time": "2021-11-13T09:27:21.962Z"
   },
   {
    "duration": 14,
    "start_time": "2021-11-13T09:27:21.971Z"
   },
   {
    "duration": 5,
    "start_time": "2021-11-13T09:27:21.987Z"
   },
   {
    "duration": 12,
    "start_time": "2021-11-13T09:27:21.995Z"
   },
   {
    "duration": 6,
    "start_time": "2021-11-13T09:27:37.424Z"
   },
   {
    "duration": 29,
    "start_time": "2021-11-13T09:28:11.450Z"
   },
   {
    "duration": 15,
    "start_time": "2021-11-13T09:29:16.409Z"
   },
   {
    "duration": 5,
    "start_time": "2021-11-13T10:36:45.265Z"
   },
   {
    "duration": 129,
    "start_time": "2021-11-13T10:36:45.273Z"
   },
   {
    "duration": 47,
    "start_time": "2021-11-13T10:36:45.406Z"
   },
   {
    "duration": 17,
    "start_time": "2021-11-13T10:36:45.456Z"
   },
   {
    "duration": 53,
    "start_time": "2021-11-13T10:36:45.475Z"
   },
   {
    "duration": 49,
    "start_time": "2021-11-13T10:36:45.531Z"
   },
   {
    "duration": 21,
    "start_time": "2021-11-13T10:36:47.968Z"
   },
   {
    "duration": 23,
    "start_time": "2021-11-13T10:36:52.241Z"
   },
   {
    "duration": 26,
    "start_time": "2021-11-13T10:37:33.909Z"
   },
   {
    "duration": 25,
    "start_time": "2021-11-13T10:38:01.854Z"
   },
   {
    "duration": 4,
    "start_time": "2021-11-13T10:38:36.834Z"
   },
   {
    "duration": 118,
    "start_time": "2021-11-13T10:38:36.842Z"
   },
   {
    "duration": 42,
    "start_time": "2021-11-13T10:38:36.963Z"
   },
   {
    "duration": 12,
    "start_time": "2021-11-13T10:38:37.009Z"
   },
   {
    "duration": 52,
    "start_time": "2021-11-13T10:38:37.023Z"
   },
   {
    "duration": 24,
    "start_time": "2021-11-13T10:38:37.078Z"
   },
   {
    "duration": 15,
    "start_time": "2021-11-13T10:38:37.106Z"
   },
   {
    "duration": 42,
    "start_time": "2021-11-13T10:38:37.124Z"
   },
   {
    "duration": 8,
    "start_time": "2021-11-13T10:38:37.168Z"
   },
   {
    "duration": 15,
    "start_time": "2021-11-13T10:38:37.178Z"
   },
   {
    "duration": 12,
    "start_time": "2021-11-13T10:38:37.195Z"
   },
   {
    "duration": 7,
    "start_time": "2021-11-13T10:38:37.209Z"
   },
   {
    "duration": 12,
    "start_time": "2021-11-13T10:38:37.261Z"
   },
   {
    "duration": 11,
    "start_time": "2021-11-13T10:38:37.275Z"
   },
   {
    "duration": 13,
    "start_time": "2021-11-13T10:38:37.289Z"
   },
   {
    "duration": 16,
    "start_time": "2021-11-13T10:38:37.305Z"
   },
   {
    "duration": 59,
    "start_time": "2021-11-13T10:38:37.323Z"
   },
   {
    "duration": 8,
    "start_time": "2021-11-13T10:38:37.384Z"
   },
   {
    "duration": 64,
    "start_time": "2021-11-13T10:38:37.397Z"
   },
   {
    "duration": 5,
    "start_time": "2021-11-13T10:38:37.464Z"
   },
   {
    "duration": 31,
    "start_time": "2021-11-13T10:38:37.472Z"
   },
   {
    "duration": 12,
    "start_time": "2021-11-13T10:38:37.505Z"
   },
   {
    "duration": 7,
    "start_time": "2021-11-13T10:38:37.559Z"
   },
   {
    "duration": 34,
    "start_time": "2021-11-13T10:38:37.568Z"
   },
   {
    "duration": 13,
    "start_time": "2021-11-13T10:38:37.606Z"
   },
   {
    "duration": 50,
    "start_time": "2021-11-13T10:38:37.622Z"
   },
   {
    "duration": 37,
    "start_time": "2021-11-13T10:38:37.675Z"
   },
   {
    "duration": 45,
    "start_time": "2021-11-13T10:38:37.715Z"
   },
   {
    "duration": 27,
    "start_time": "2021-11-13T10:38:37.762Z"
   },
   {
    "duration": 10,
    "start_time": "2021-11-13T10:38:37.792Z"
   },
   {
    "duration": 13,
    "start_time": "2021-11-13T10:38:37.805Z"
   },
   {
    "duration": 16,
    "start_time": "2021-11-13T10:38:37.860Z"
   },
   {
    "duration": 10,
    "start_time": "2021-11-13T10:38:37.879Z"
   },
   {
    "duration": 9,
    "start_time": "2021-11-13T10:38:37.892Z"
   },
   {
    "duration": 11,
    "start_time": "2021-11-13T10:38:37.904Z"
   },
   {
    "duration": 347,
    "start_time": "2021-11-13T10:38:37.917Z"
   },
   {
    "duration": 17,
    "start_time": "2021-11-13T10:38:38.266Z"
   },
   {
    "duration": 25,
    "start_time": "2021-11-13T10:38:38.285Z"
   },
   {
    "duration": 8716,
    "start_time": "2021-11-13T10:38:38.313Z"
   },
   {
    "duration": 7,
    "start_time": "2021-11-13T10:38:47.032Z"
   },
   {
    "duration": 13,
    "start_time": "2021-11-13T10:38:54.605Z"
   },
   {
    "duration": 4,
    "start_time": "2021-11-13T10:39:09.341Z"
   },
   {
    "duration": 93,
    "start_time": "2021-11-13T10:39:09.348Z"
   },
   {
    "duration": 40,
    "start_time": "2021-11-13T10:39:09.461Z"
   },
   {
    "duration": 10,
    "start_time": "2021-11-13T10:39:09.504Z"
   },
   {
    "duration": 33,
    "start_time": "2021-11-13T10:39:09.516Z"
   },
   {
    "duration": 38,
    "start_time": "2021-11-13T10:39:09.560Z"
   },
   {
    "duration": 22,
    "start_time": "2021-11-13T10:39:09.603Z"
   },
   {
    "duration": 38,
    "start_time": "2021-11-13T10:39:09.629Z"
   },
   {
    "duration": 6,
    "start_time": "2021-11-13T10:39:09.671Z"
   },
   {
    "duration": 11,
    "start_time": "2021-11-13T10:39:09.680Z"
   },
   {
    "duration": 11,
    "start_time": "2021-11-13T10:39:09.695Z"
   },
   {
    "duration": 7,
    "start_time": "2021-11-13T10:39:09.709Z"
   },
   {
    "duration": 8,
    "start_time": "2021-11-13T10:39:09.759Z"
   },
   {
    "duration": 10,
    "start_time": "2021-11-13T10:39:09.770Z"
   },
   {
    "duration": 14,
    "start_time": "2021-11-13T10:39:09.783Z"
   },
   {
    "duration": 162,
    "start_time": "2021-11-13T10:39:09.800Z"
   },
   {
    "duration": 43,
    "start_time": "2021-11-13T10:39:09.965Z"
   },
   {
    "duration": 8,
    "start_time": "2021-11-13T10:39:10.012Z"
   },
   {
    "duration": 40,
    "start_time": "2021-11-13T10:39:10.058Z"
   },
   {
    "duration": 11,
    "start_time": "2021-11-13T10:39:10.103Z"
   },
   {
    "duration": 53,
    "start_time": "2021-11-13T10:39:10.117Z"
   },
   {
    "duration": 11,
    "start_time": "2021-11-13T10:39:10.173Z"
   },
   {
    "duration": 11,
    "start_time": "2021-11-13T10:39:10.187Z"
   },
   {
    "duration": 61,
    "start_time": "2021-11-13T10:39:10.200Z"
   },
   {
    "duration": 11,
    "start_time": "2021-11-13T10:39:10.263Z"
   },
   {
    "duration": 15,
    "start_time": "2021-11-13T10:39:10.276Z"
   },
   {
    "duration": 71,
    "start_time": "2021-11-13T10:39:10.294Z"
   },
   {
    "duration": 7,
    "start_time": "2021-11-13T10:39:10.368Z"
   },
   {
    "duration": 28,
    "start_time": "2021-11-13T10:39:10.379Z"
   },
   {
    "duration": 10,
    "start_time": "2021-11-13T10:39:10.410Z"
   },
   {
    "duration": 11,
    "start_time": "2021-11-13T10:39:10.460Z"
   },
   {
    "duration": 15,
    "start_time": "2021-11-13T10:39:10.473Z"
   },
   {
    "duration": 10,
    "start_time": "2021-11-13T10:39:10.490Z"
   },
   {
    "duration": 9,
    "start_time": "2021-11-13T10:39:10.503Z"
   },
   {
    "duration": 48,
    "start_time": "2021-11-13T10:39:10.515Z"
   },
   {
    "duration": 286,
    "start_time": "2021-11-13T10:39:10.565Z"
   },
   {
    "duration": 17,
    "start_time": "2021-11-13T10:39:10.859Z"
   },
   {
    "duration": 17,
    "start_time": "2021-11-13T10:39:10.879Z"
   },
   {
    "duration": 8126,
    "start_time": "2021-11-13T10:39:10.899Z"
   },
   {
    "duration": 7,
    "start_time": "2021-11-13T10:39:19.028Z"
   },
   {
    "duration": 390,
    "start_time": "2021-11-13T10:39:29.836Z"
   },
   {
    "duration": 16,
    "start_time": "2021-11-13T10:39:40.735Z"
   },
   {
    "duration": 5,
    "start_time": "2021-11-13T10:39:51.839Z"
   },
   {
    "duration": 160,
    "start_time": "2021-11-13T10:39:51.847Z"
   },
   {
    "duration": 47,
    "start_time": "2021-11-13T10:39:52.011Z"
   },
   {
    "duration": 17,
    "start_time": "2021-11-13T10:39:52.062Z"
   },
   {
    "duration": 44,
    "start_time": "2021-11-13T10:39:52.083Z"
   },
   {
    "duration": 61,
    "start_time": "2021-11-13T10:39:52.130Z"
   },
   {
    "duration": 16,
    "start_time": "2021-11-13T10:39:52.196Z"
   },
   {
    "duration": 9,
    "start_time": "2021-11-13T10:39:52.215Z"
   },
   {
    "duration": 39,
    "start_time": "2021-11-13T10:39:52.226Z"
   },
   {
    "duration": 14,
    "start_time": "2021-11-13T10:39:52.267Z"
   },
   {
    "duration": 14,
    "start_time": "2021-11-13T10:39:52.283Z"
   },
   {
    "duration": 6,
    "start_time": "2021-11-13T10:39:52.299Z"
   },
   {
    "duration": 15,
    "start_time": "2021-11-13T10:39:52.308Z"
   },
   {
    "duration": 35,
    "start_time": "2021-11-13T10:39:52.325Z"
   },
   {
    "duration": 19,
    "start_time": "2021-11-13T10:39:52.363Z"
   },
   {
    "duration": 35,
    "start_time": "2021-11-13T10:39:52.386Z"
   },
   {
    "duration": 42,
    "start_time": "2021-11-13T10:39:52.424Z"
   },
   {
    "duration": 12,
    "start_time": "2021-11-13T10:39:52.469Z"
   },
   {
    "duration": 36,
    "start_time": "2021-11-13T10:39:52.486Z"
   },
   {
    "duration": 16,
    "start_time": "2021-11-13T10:39:52.525Z"
   },
   {
    "duration": 38,
    "start_time": "2021-11-13T10:39:52.543Z"
   },
   {
    "duration": 37,
    "start_time": "2021-11-13T10:39:52.583Z"
   },
   {
    "duration": 16,
    "start_time": "2021-11-13T10:39:52.623Z"
   },
   {
    "duration": 46,
    "start_time": "2021-11-13T10:39:52.642Z"
   },
   {
    "duration": 12,
    "start_time": "2021-11-13T10:39:52.690Z"
   },
   {
    "duration": 22,
    "start_time": "2021-11-13T10:39:52.704Z"
   },
   {
    "duration": 51,
    "start_time": "2021-11-13T10:39:52.729Z"
   },
   {
    "duration": 7,
    "start_time": "2021-11-13T10:39:52.783Z"
   },
   {
    "duration": 31,
    "start_time": "2021-11-13T10:39:52.792Z"
   },
   {
    "duration": 35,
    "start_time": "2021-11-13T10:39:52.826Z"
   },
   {
    "duration": 10,
    "start_time": "2021-11-13T10:39:52.864Z"
   },
   {
    "duration": 14,
    "start_time": "2021-11-13T10:39:52.877Z"
   },
   {
    "duration": 10,
    "start_time": "2021-11-13T10:39:52.893Z"
   },
   {
    "duration": 6,
    "start_time": "2021-11-13T10:39:52.905Z"
   },
   {
    "duration": 53,
    "start_time": "2021-11-13T10:39:52.914Z"
   },
   {
    "duration": 290,
    "start_time": "2021-11-13T10:39:52.970Z"
   },
   {
    "duration": 15,
    "start_time": "2021-11-13T10:39:53.262Z"
   },
   {
    "duration": 17,
    "start_time": "2021-11-13T10:39:53.279Z"
   },
   {
    "duration": 7693,
    "start_time": "2021-11-13T10:39:53.299Z"
   },
   {
    "duration": 8,
    "start_time": "2021-11-13T10:40:00.995Z"
   },
   {
    "duration": 30,
    "start_time": "2021-11-13T10:40:01.006Z"
   },
   {
    "duration": 21,
    "start_time": "2021-11-13T10:40:01.039Z"
   },
   {
    "duration": 30,
    "start_time": "2021-11-13T10:40:01.064Z"
   },
   {
    "duration": 26,
    "start_time": "2021-11-13T10:40:01.096Z"
   },
   {
    "duration": 38,
    "start_time": "2021-11-13T10:40:01.125Z"
   },
   {
    "duration": 20,
    "start_time": "2021-11-13T11:09:13.916Z"
   },
   {
    "duration": 20,
    "start_time": "2021-11-13T11:10:59.517Z"
   },
   {
    "duration": 383,
    "start_time": "2021-11-13T11:11:09.233Z"
   },
   {
    "duration": 17,
    "start_time": "2021-11-13T11:11:20.869Z"
   },
   {
    "duration": 23,
    "start_time": "2021-11-13T11:11:44.662Z"
   },
   {
    "duration": 13,
    "start_time": "2021-11-13T11:12:54.332Z"
   },
   {
    "duration": 16,
    "start_time": "2021-11-13T11:13:00.874Z"
   },
   {
    "duration": 21,
    "start_time": "2021-11-13T11:14:54.783Z"
   },
   {
    "duration": 1521,
    "start_time": "2021-11-13T11:16:21.029Z"
   },
   {
    "duration": 22,
    "start_time": "2021-11-13T11:16:32.707Z"
   },
   {
    "duration": 366,
    "start_time": "2021-11-13T11:18:40.616Z"
   },
   {
    "duration": 322,
    "start_time": "2021-11-13T11:18:56.076Z"
   },
   {
    "duration": 22,
    "start_time": "2021-11-13T11:19:02.139Z"
   },
   {
    "duration": 10524,
    "start_time": "2021-11-13T11:19:05.672Z"
   },
   {
    "duration": 317,
    "start_time": "2021-11-13T11:19:22.823Z"
   },
   {
    "duration": 293,
    "start_time": "2021-11-13T11:19:48.592Z"
   },
   {
    "duration": 311,
    "start_time": "2021-11-13T11:20:13.548Z"
   },
   {
    "duration": 157,
    "start_time": "2021-11-13T11:28:26.336Z"
   },
   {
    "duration": 29,
    "start_time": "2021-11-13T11:28:39.316Z"
   },
   {
    "duration": 26,
    "start_time": "2021-11-13T11:35:21.030Z"
   },
   {
    "duration": 46,
    "start_time": "2021-11-13T11:45:25.048Z"
   },
   {
    "duration": 15,
    "start_time": "2021-11-13T11:46:29.580Z"
   },
   {
    "duration": 356,
    "start_time": "2021-11-13T11:54:58.182Z"
   },
   {
    "duration": 40,
    "start_time": "2021-11-13T11:56:17.789Z"
   },
   {
    "duration": 366,
    "start_time": "2021-11-13T11:59:13.574Z"
   },
   {
    "duration": 30,
    "start_time": "2021-11-13T11:59:22.883Z"
   },
   {
    "duration": 28,
    "start_time": "2021-11-13T11:59:37.524Z"
   },
   {
    "duration": 29,
    "start_time": "2021-11-13T12:00:57.080Z"
   },
   {
    "duration": 321,
    "start_time": "2021-11-13T12:02:35.899Z"
   },
   {
    "duration": 436,
    "start_time": "2021-11-13T12:04:28.021Z"
   },
   {
    "duration": 391,
    "start_time": "2021-11-13T12:05:18.963Z"
   },
   {
    "duration": 13,
    "start_time": "2021-11-13T12:09:42.271Z"
   },
   {
    "duration": 389,
    "start_time": "2021-11-13T12:10:25.610Z"
   },
   {
    "duration": 390,
    "start_time": "2021-11-13T12:10:39.131Z"
   },
   {
    "duration": 419,
    "start_time": "2021-11-13T12:10:47.857Z"
   },
   {
    "duration": 4,
    "start_time": "2021-11-13T12:11:02.180Z"
   },
   {
    "duration": 113,
    "start_time": "2021-11-13T12:11:02.186Z"
   },
   {
    "duration": 84,
    "start_time": "2021-11-13T12:11:02.303Z"
   },
   {
    "duration": 19,
    "start_time": "2021-11-13T12:11:02.390Z"
   },
   {
    "duration": 44,
    "start_time": "2021-11-13T12:11:02.411Z"
   },
   {
    "duration": 35,
    "start_time": "2021-11-13T12:11:02.457Z"
   },
   {
    "duration": 14,
    "start_time": "2021-11-13T12:11:02.496Z"
   },
   {
    "duration": 9,
    "start_time": "2021-11-13T12:11:02.513Z"
   },
   {
    "duration": 35,
    "start_time": "2021-11-13T12:11:02.524Z"
   },
   {
    "duration": 17,
    "start_time": "2021-11-13T12:11:02.563Z"
   },
   {
    "duration": 14,
    "start_time": "2021-11-13T12:11:02.583Z"
   },
   {
    "duration": 9,
    "start_time": "2021-11-13T12:11:02.600Z"
   },
   {
    "duration": 16,
    "start_time": "2021-11-13T12:11:02.612Z"
   },
   {
    "duration": 32,
    "start_time": "2021-11-13T12:11:02.631Z"
   },
   {
    "duration": 27,
    "start_time": "2021-11-13T12:11:02.667Z"
   },
   {
    "duration": 17,
    "start_time": "2021-11-13T12:11:02.697Z"
   },
   {
    "duration": 46,
    "start_time": "2021-11-13T12:11:02.717Z"
   },
   {
    "duration": 10,
    "start_time": "2021-11-13T12:11:02.767Z"
   },
   {
    "duration": 31,
    "start_time": "2021-11-13T12:11:02.782Z"
   },
   {
    "duration": 13,
    "start_time": "2021-11-13T12:11:02.816Z"
   },
   {
    "duration": 55,
    "start_time": "2021-11-13T12:11:02.832Z"
   },
   {
    "duration": 11,
    "start_time": "2021-11-13T12:11:02.889Z"
   },
   {
    "duration": 11,
    "start_time": "2021-11-13T12:11:02.903Z"
   },
   {
    "duration": 54,
    "start_time": "2021-11-13T12:11:02.916Z"
   },
   {
    "duration": 28,
    "start_time": "2021-11-13T12:11:02.973Z"
   },
   {
    "duration": 19,
    "start_time": "2021-11-13T12:11:03.004Z"
   },
   {
    "duration": 49,
    "start_time": "2021-11-13T12:11:03.026Z"
   },
   {
    "duration": 6,
    "start_time": "2021-11-13T12:11:03.077Z"
   },
   {
    "duration": 28,
    "start_time": "2021-11-13T12:11:03.085Z"
   },
   {
    "duration": 8,
    "start_time": "2021-11-13T12:11:03.115Z"
   },
   {
    "duration": 19,
    "start_time": "2021-11-13T12:11:03.158Z"
   },
   {
    "duration": 14,
    "start_time": "2021-11-13T12:11:03.180Z"
   },
   {
    "duration": 10,
    "start_time": "2021-11-13T12:11:03.197Z"
   },
   {
    "duration": 11,
    "start_time": "2021-11-13T12:11:03.210Z"
   },
   {
    "duration": 17,
    "start_time": "2021-11-13T12:11:03.260Z"
   },
   {
    "duration": 314,
    "start_time": "2021-11-13T12:11:03.279Z"
   },
   {
    "duration": 14,
    "start_time": "2021-11-13T12:11:03.595Z"
   },
   {
    "duration": 13,
    "start_time": "2021-11-13T12:11:03.611Z"
   },
   {
    "duration": 8171,
    "start_time": "2021-11-13T12:11:03.627Z"
   },
   {
    "duration": 7,
    "start_time": "2021-11-13T12:11:11.801Z"
   },
   {
    "duration": 23,
    "start_time": "2021-11-13T12:11:11.811Z"
   },
   {
    "duration": 13,
    "start_time": "2021-11-13T12:11:11.837Z"
   },
   {
    "duration": 36,
    "start_time": "2021-11-13T12:11:11.852Z"
   },
   {
    "duration": 19,
    "start_time": "2021-11-13T12:11:11.891Z"
   },
   {
    "duration": 20,
    "start_time": "2021-11-13T12:11:11.912Z"
   },
   {
    "duration": 408,
    "start_time": "2021-11-13T12:11:14.671Z"
   },
   {
    "duration": 13,
    "start_time": "2021-11-13T12:11:30.902Z"
   },
   {
    "duration": 20,
    "start_time": "2021-11-13T12:11:39.424Z"
   },
   {
    "duration": 417,
    "start_time": "2021-11-13T12:12:04.271Z"
   },
   {
    "duration": 14,
    "start_time": "2021-11-13T12:13:01.782Z"
   },
   {
    "duration": 405,
    "start_time": "2021-11-13T12:14:13.172Z"
   },
   {
    "duration": 3,
    "start_time": "2021-11-13T12:14:37.881Z"
   },
   {
    "duration": 111,
    "start_time": "2021-11-13T12:14:37.889Z"
   },
   {
    "duration": 69,
    "start_time": "2021-11-13T12:14:38.003Z"
   },
   {
    "duration": 11,
    "start_time": "2021-11-13T12:14:38.075Z"
   },
   {
    "duration": 32,
    "start_time": "2021-11-13T12:14:38.089Z"
   },
   {
    "duration": 38,
    "start_time": "2021-11-13T12:14:38.124Z"
   },
   {
    "duration": 29,
    "start_time": "2021-11-13T12:14:38.165Z"
   },
   {
    "duration": 8,
    "start_time": "2021-11-13T12:14:38.196Z"
   },
   {
    "duration": 5,
    "start_time": "2021-11-13T12:14:38.207Z"
   },
   {
    "duration": 11,
    "start_time": "2021-11-13T12:14:38.214Z"
   },
   {
    "duration": 49,
    "start_time": "2021-11-13T12:14:38.227Z"
   },
   {
    "duration": 5,
    "start_time": "2021-11-13T12:14:38.279Z"
   },
   {
    "duration": 12,
    "start_time": "2021-11-13T12:14:38.286Z"
   },
   {
    "duration": 11,
    "start_time": "2021-11-13T12:14:38.300Z"
   },
   {
    "duration": 14,
    "start_time": "2021-11-13T12:14:38.314Z"
   },
   {
    "duration": 52,
    "start_time": "2021-11-13T12:14:38.330Z"
   },
   {
    "duration": 26,
    "start_time": "2021-11-13T12:14:38.385Z"
   },
   {
    "duration": 8,
    "start_time": "2021-11-13T12:14:38.414Z"
   },
   {
    "duration": 63,
    "start_time": "2021-11-13T12:14:38.425Z"
   },
   {
    "duration": 9,
    "start_time": "2021-11-13T12:14:38.491Z"
   },
   {
    "duration": 28,
    "start_time": "2021-11-13T12:14:38.502Z"
   },
   {
    "duration": 21,
    "start_time": "2021-11-13T12:14:38.559Z"
   },
   {
    "duration": 9,
    "start_time": "2021-11-13T12:14:38.582Z"
   },
   {
    "duration": 25,
    "start_time": "2021-11-13T12:14:38.596Z"
   },
   {
    "duration": 42,
    "start_time": "2021-11-13T12:14:38.624Z"
   },
   {
    "duration": 19,
    "start_time": "2021-11-13T12:14:38.669Z"
   },
   {
    "duration": 33,
    "start_time": "2021-11-13T12:14:38.691Z"
   },
   {
    "duration": 49,
    "start_time": "2021-11-13T12:14:38.726Z"
   },
   {
    "duration": 25,
    "start_time": "2021-11-13T12:14:38.778Z"
   },
   {
    "duration": 8,
    "start_time": "2021-11-13T12:14:38.806Z"
   },
   {
    "duration": 48,
    "start_time": "2021-11-13T12:14:38.817Z"
   },
   {
    "duration": 14,
    "start_time": "2021-11-13T12:14:38.869Z"
   },
   {
    "duration": 14,
    "start_time": "2021-11-13T12:14:38.885Z"
   },
   {
    "duration": 40,
    "start_time": "2021-11-13T12:14:38.901Z"
   },
   {
    "duration": 10,
    "start_time": "2021-11-13T12:14:38.943Z"
   },
   {
    "duration": 299,
    "start_time": "2021-11-13T12:14:38.955Z"
   },
   {
    "duration": 23,
    "start_time": "2021-11-13T12:14:39.257Z"
   },
   {
    "duration": 16,
    "start_time": "2021-11-13T12:14:39.282Z"
   },
   {
    "duration": 8052,
    "start_time": "2021-11-13T12:14:39.300Z"
   },
   {
    "duration": 8,
    "start_time": "2021-11-13T12:14:47.354Z"
   },
   {
    "duration": 28,
    "start_time": "2021-11-13T12:14:47.366Z"
   },
   {
    "duration": 9,
    "start_time": "2021-11-13T12:14:47.396Z"
   },
   {
    "duration": 19,
    "start_time": "2021-11-13T12:14:47.407Z"
   },
   {
    "duration": 12,
    "start_time": "2021-11-13T12:14:47.428Z"
   },
   {
    "duration": 31,
    "start_time": "2021-11-13T12:14:47.442Z"
   },
   {
    "duration": 409,
    "start_time": "2021-11-13T12:14:47.476Z"
   },
   {
    "duration": 682,
    "start_time": "2021-11-13T12:14:59.210Z"
   },
   {
    "duration": 20,
    "start_time": "2021-11-13T12:15:33.980Z"
   },
   {
    "duration": 124,
    "start_time": "2021-11-13T12:16:41.125Z"
   },
   {
    "duration": 390,
    "start_time": "2021-11-13T12:17:21.395Z"
   },
   {
    "duration": 31,
    "start_time": "2021-11-13T12:17:38.597Z"
   },
   {
    "duration": 37,
    "start_time": "2021-11-13T12:17:46.506Z"
   },
   {
    "duration": 18,
    "start_time": "2021-11-13T12:17:59.409Z"
   },
   {
    "duration": 44,
    "start_time": "2021-11-13T12:18:20.922Z"
   },
   {
    "duration": 9704,
    "start_time": "2021-11-13T12:20:05.871Z"
   },
   {
    "duration": 3,
    "start_time": "2021-11-13T12:20:42.847Z"
   },
   {
    "duration": 108,
    "start_time": "2021-11-13T12:20:42.855Z"
   },
   {
    "duration": 61,
    "start_time": "2021-11-13T12:20:42.966Z"
   },
   {
    "duration": 11,
    "start_time": "2021-11-13T12:20:43.030Z"
   },
   {
    "duration": 43,
    "start_time": "2021-11-13T12:20:43.043Z"
   },
   {
    "duration": 22,
    "start_time": "2021-11-13T12:20:43.089Z"
   },
   {
    "duration": 14,
    "start_time": "2021-11-13T12:20:43.114Z"
   },
   {
    "duration": 41,
    "start_time": "2021-11-13T12:20:43.130Z"
   },
   {
    "duration": 4,
    "start_time": "2021-11-13T12:20:43.176Z"
   },
   {
    "duration": 9,
    "start_time": "2021-11-13T12:20:43.183Z"
   },
   {
    "duration": 12,
    "start_time": "2021-11-13T12:20:43.194Z"
   },
   {
    "duration": 9,
    "start_time": "2021-11-13T12:20:43.208Z"
   },
   {
    "duration": 46,
    "start_time": "2021-11-13T12:20:43.220Z"
   },
   {
    "duration": 13,
    "start_time": "2021-11-13T12:20:43.269Z"
   },
   {
    "duration": 12,
    "start_time": "2021-11-13T12:20:43.285Z"
   },
   {
    "duration": 16,
    "start_time": "2021-11-13T12:20:43.300Z"
   },
   {
    "duration": 70,
    "start_time": "2021-11-13T12:20:43.319Z"
   },
   {
    "duration": 5,
    "start_time": "2021-11-13T12:20:43.392Z"
   },
   {
    "duration": 26,
    "start_time": "2021-11-13T12:20:43.399Z"
   },
   {
    "duration": 32,
    "start_time": "2021-11-13T12:20:43.427Z"
   },
   {
    "duration": 32,
    "start_time": "2021-11-13T12:20:43.463Z"
   },
   {
    "duration": 12,
    "start_time": "2021-11-13T12:20:43.498Z"
   },
   {
    "duration": 6,
    "start_time": "2021-11-13T12:20:43.513Z"
   },
   {
    "duration": 35,
    "start_time": "2021-11-13T12:20:43.560Z"
   },
   {
    "duration": 9,
    "start_time": "2021-11-13T12:20:43.598Z"
   },
   {
    "duration": 18,
    "start_time": "2021-11-13T12:20:43.610Z"
   },
   {
    "duration": 64,
    "start_time": "2021-11-13T12:20:43.631Z"
   },
   {
    "duration": 8,
    "start_time": "2021-11-13T12:20:43.698Z"
   },
   {
    "duration": 69,
    "start_time": "2021-11-13T12:20:43.709Z"
   },
   {
    "duration": 9,
    "start_time": "2021-11-13T12:20:43.780Z"
   },
   {
    "duration": 13,
    "start_time": "2021-11-13T12:20:43.791Z"
   },
   {
    "duration": 18,
    "start_time": "2021-11-13T12:20:43.807Z"
   },
   {
    "duration": 45,
    "start_time": "2021-11-13T12:20:43.827Z"
   },
   {
    "duration": 16,
    "start_time": "2021-11-13T12:20:43.874Z"
   },
   {
    "duration": 25,
    "start_time": "2021-11-13T12:20:43.893Z"
   },
   {
    "duration": 303,
    "start_time": "2021-11-13T12:20:43.921Z"
   },
   {
    "duration": 14,
    "start_time": "2021-11-13T12:20:44.227Z"
   },
   {
    "duration": 36,
    "start_time": "2021-11-13T12:20:44.243Z"
   },
   {
    "duration": 8019,
    "start_time": "2021-11-13T12:20:44.282Z"
   },
   {
    "duration": 8,
    "start_time": "2021-11-13T12:20:52.303Z"
   },
   {
    "duration": 11,
    "start_time": "2021-11-13T12:20:52.313Z"
   },
   {
    "duration": 9,
    "start_time": "2021-11-13T12:20:52.326Z"
   },
   {
    "duration": 38,
    "start_time": "2021-11-13T12:20:52.337Z"
   },
   {
    "duration": 11,
    "start_time": "2021-11-13T12:20:52.377Z"
   },
   {
    "duration": 14,
    "start_time": "2021-11-13T12:20:52.390Z"
   },
   {
    "duration": 17,
    "start_time": "2021-11-13T12:20:52.408Z"
   },
   {
    "duration": 388,
    "start_time": "2021-11-13T12:20:57.271Z"
   },
   {
    "duration": 22,
    "start_time": "2021-11-13T12:21:05.777Z"
   },
   {
    "duration": 111,
    "start_time": "2021-11-13T12:29:57.198Z"
   },
   {
    "duration": 21,
    "start_time": "2021-11-13T12:46:58.972Z"
   },
   {
    "duration": 417,
    "start_time": "2021-11-13T12:48:13.644Z"
   },
   {
    "duration": 40,
    "start_time": "2021-11-13T12:48:44.055Z"
   },
   {
    "duration": 439,
    "start_time": "2021-11-13T12:49:58.759Z"
   },
   {
    "duration": 4,
    "start_time": "2021-11-13T12:50:06.339Z"
   },
   {
    "duration": 97,
    "start_time": "2021-11-13T12:50:06.348Z"
   },
   {
    "duration": 71,
    "start_time": "2021-11-13T12:50:06.465Z"
   },
   {
    "duration": 10,
    "start_time": "2021-11-13T12:50:06.539Z"
   },
   {
    "duration": 47,
    "start_time": "2021-11-13T12:50:06.552Z"
   },
   {
    "duration": 24,
    "start_time": "2021-11-13T12:50:06.601Z"
   },
   {
    "duration": 15,
    "start_time": "2021-11-13T12:50:06.627Z"
   },
   {
    "duration": 186,
    "start_time": "2021-11-13T12:50:06.661Z"
   },
   {
    "duration": 4,
    "start_time": "2021-11-13T12:50:06.853Z"
   },
   {
    "duration": 18,
    "start_time": "2021-11-13T12:50:06.866Z"
   },
   {
    "duration": 14,
    "start_time": "2021-11-13T12:50:06.886Z"
   },
   {
    "duration": 7,
    "start_time": "2021-11-13T12:50:06.902Z"
   },
   {
    "duration": 15,
    "start_time": "2021-11-13T12:50:06.911Z"
   },
   {
    "duration": 11,
    "start_time": "2021-11-13T12:50:06.929Z"
   },
   {
    "duration": 38,
    "start_time": "2021-11-13T12:50:06.942Z"
   },
   {
    "duration": 18,
    "start_time": "2021-11-13T12:50:06.983Z"
   },
   {
    "duration": 59,
    "start_time": "2021-11-13T12:50:07.004Z"
   },
   {
    "duration": 19,
    "start_time": "2021-11-13T12:50:07.067Z"
   },
   {
    "duration": 34,
    "start_time": "2021-11-13T12:50:07.089Z"
   },
   {
    "duration": 9,
    "start_time": "2021-11-13T12:50:07.126Z"
   },
   {
    "duration": 46,
    "start_time": "2021-11-13T12:50:07.137Z"
   },
   {
    "duration": 16,
    "start_time": "2021-11-13T12:50:07.186Z"
   },
   {
    "duration": 7,
    "start_time": "2021-11-13T12:50:07.204Z"
   },
   {
    "duration": 68,
    "start_time": "2021-11-13T12:50:07.215Z"
   },
   {
    "duration": 10,
    "start_time": "2021-11-13T12:50:07.287Z"
   },
   {
    "duration": 17,
    "start_time": "2021-11-13T12:50:07.300Z"
   },
   {
    "duration": 68,
    "start_time": "2021-11-13T12:50:07.320Z"
   },
   {
    "duration": 6,
    "start_time": "2021-11-13T12:50:07.390Z"
   },
   {
    "duration": 34,
    "start_time": "2021-11-13T12:50:07.398Z"
   },
   {
    "duration": 8,
    "start_time": "2021-11-13T12:50:07.435Z"
   },
   {
    "duration": 19,
    "start_time": "2021-11-13T12:50:07.462Z"
   },
   {
    "duration": 14,
    "start_time": "2021-11-13T12:50:07.484Z"
   },
   {
    "duration": 10,
    "start_time": "2021-11-13T12:50:07.500Z"
   },
   {
    "duration": 56,
    "start_time": "2021-11-13T12:50:07.513Z"
   },
   {
    "duration": 18,
    "start_time": "2021-11-13T12:50:07.571Z"
   },
   {
    "duration": 328,
    "start_time": "2021-11-13T12:50:07.592Z"
   },
   {
    "duration": 14,
    "start_time": "2021-11-13T12:50:07.923Z"
   },
   {
    "duration": 35,
    "start_time": "2021-11-13T12:50:07.939Z"
   },
   {
    "duration": 8118,
    "start_time": "2021-11-13T12:50:07.978Z"
   },
   {
    "duration": 8,
    "start_time": "2021-11-13T12:50:16.099Z"
   },
   {
    "duration": 26,
    "start_time": "2021-11-13T12:50:16.109Z"
   },
   {
    "duration": 18,
    "start_time": "2021-11-13T12:50:16.137Z"
   },
   {
    "duration": 33,
    "start_time": "2021-11-13T12:50:16.157Z"
   },
   {
    "duration": 19,
    "start_time": "2021-11-13T12:50:16.193Z"
   },
   {
    "duration": 27,
    "start_time": "2021-11-13T12:50:16.214Z"
   },
   {
    "duration": 430,
    "start_time": "2021-11-13T12:50:16.244Z"
   },
   {
    "duration": 36,
    "start_time": "2021-11-13T12:51:26.529Z"
   },
   {
    "duration": 413,
    "start_time": "2021-11-13T12:52:18.336Z"
   },
   {
    "duration": 33,
    "start_time": "2021-11-13T12:52:27.190Z"
   },
   {
    "duration": 646,
    "start_time": "2021-11-13T12:56:49.043Z"
   },
   {
    "duration": 932,
    "start_time": "2021-11-13T12:58:44.501Z"
   },
   {
    "duration": 22,
    "start_time": "2021-11-13T13:08:53.001Z"
   },
   {
    "duration": 513,
    "start_time": "2021-11-13T13:09:25.175Z"
   },
   {
    "duration": 450,
    "start_time": "2021-11-13T13:09:59.732Z"
   },
   {
    "duration": 24,
    "start_time": "2021-11-13T13:10:09.255Z"
   },
   {
    "duration": 4,
    "start_time": "2021-11-13T13:16:04.282Z"
   },
   {
    "duration": 366,
    "start_time": "2021-11-13T13:16:14.609Z"
   },
   {
    "duration": 19,
    "start_time": "2021-11-13T13:16:32.717Z"
   },
   {
    "duration": 15,
    "start_time": "2021-11-13T13:17:52.724Z"
   },
   {
    "duration": 23,
    "start_time": "2021-11-13T13:18:00.081Z"
   },
   {
    "duration": 31,
    "start_time": "2021-11-13T13:18:51.756Z"
   },
   {
    "duration": 320,
    "start_time": "2021-11-13T13:23:00.243Z"
   },
   {
    "duration": 11723,
    "start_time": "2021-11-13T13:28:13.357Z"
   },
   {
    "duration": 20,
    "start_time": "2021-11-13T13:28:38.961Z"
   },
   {
    "duration": 11,
    "start_time": "2021-11-13T13:28:51.085Z"
   },
   {
    "duration": 246,
    "start_time": "2021-11-13T13:30:56.859Z"
   },
   {
    "duration": 4,
    "start_time": "2021-11-13T13:31:48.805Z"
   },
   {
    "duration": 659,
    "start_time": "2021-11-13T13:31:54.382Z"
   },
   {
    "duration": 9,
    "start_time": "2021-11-13T13:32:09.366Z"
   },
   {
    "duration": 229,
    "start_time": "2021-11-13T13:32:10.125Z"
   },
   {
    "duration": 665,
    "start_time": "2021-11-13T13:32:45.734Z"
   },
   {
    "duration": 1070,
    "start_time": "2021-11-13T13:34:23.674Z"
   },
   {
    "duration": 235,
    "start_time": "2021-11-13T13:34:35.535Z"
   },
   {
    "duration": 6,
    "start_time": "2021-11-13T13:36:08.869Z"
   },
   {
    "duration": 233,
    "start_time": "2021-11-13T13:36:09.645Z"
   },
   {
    "duration": 4,
    "start_time": "2021-11-13T13:36:26.943Z"
   },
   {
    "duration": 628,
    "start_time": "2021-11-13T13:37:02.647Z"
   },
   {
    "duration": 8,
    "start_time": "2021-11-13T13:39:12.815Z"
   },
   {
    "duration": 9,
    "start_time": "2021-11-13T13:39:32.077Z"
   },
   {
    "duration": 6,
    "start_time": "2021-11-13T13:39:45.710Z"
   },
   {
    "duration": 93,
    "start_time": "2021-11-13T13:39:45.719Z"
   },
   {
    "duration": 85,
    "start_time": "2021-11-13T13:39:45.815Z"
   },
   {
    "duration": 11,
    "start_time": "2021-11-13T13:39:45.903Z"
   },
   {
    "duration": 29,
    "start_time": "2021-11-13T13:39:45.917Z"
   },
   {
    "duration": 40,
    "start_time": "2021-11-13T13:39:45.949Z"
   },
   {
    "duration": 16,
    "start_time": "2021-11-13T13:39:45.993Z"
   },
   {
    "duration": 9,
    "start_time": "2021-11-13T13:39:46.012Z"
   },
   {
    "duration": 5,
    "start_time": "2021-11-13T13:39:46.023Z"
   },
   {
    "duration": 11,
    "start_time": "2021-11-13T13:39:46.069Z"
   },
   {
    "duration": 15,
    "start_time": "2021-11-13T13:39:46.083Z"
   },
   {
    "duration": 8,
    "start_time": "2021-11-13T13:39:46.100Z"
   },
   {
    "duration": 9,
    "start_time": "2021-11-13T13:39:46.110Z"
   },
   {
    "duration": 8,
    "start_time": "2021-11-13T13:39:46.122Z"
   },
   {
    "duration": 13,
    "start_time": "2021-11-13T13:39:46.161Z"
   },
   {
    "duration": 19,
    "start_time": "2021-11-13T13:39:46.178Z"
   },
   {
    "duration": 24,
    "start_time": "2021-11-13T13:39:46.200Z"
   },
   {
    "duration": 51,
    "start_time": "2021-11-13T13:39:46.227Z"
   },
   {
    "duration": 33,
    "start_time": "2021-11-13T13:39:46.287Z"
   },
   {
    "duration": 7,
    "start_time": "2021-11-13T13:39:46.324Z"
   },
   {
    "duration": 64,
    "start_time": "2021-11-13T13:39:46.334Z"
   },
   {
    "duration": 12,
    "start_time": "2021-11-13T13:39:46.400Z"
   },
   {
    "duration": 14,
    "start_time": "2021-11-13T13:39:46.414Z"
   },
   {
    "duration": 61,
    "start_time": "2021-11-13T13:39:46.431Z"
   },
   {
    "duration": 10,
    "start_time": "2021-11-13T13:39:46.495Z"
   },
   {
    "duration": 29,
    "start_time": "2021-11-13T13:39:46.507Z"
   },
   {
    "duration": 59,
    "start_time": "2021-11-13T13:39:46.539Z"
   },
   {
    "duration": 6,
    "start_time": "2021-11-13T13:39:46.600Z"
   },
   {
    "duration": 27,
    "start_time": "2021-11-13T13:39:46.608Z"
   },
   {
    "duration": 19,
    "start_time": "2021-11-13T13:39:46.660Z"
   },
   {
    "duration": 11,
    "start_time": "2021-11-13T13:39:46.682Z"
   },
   {
    "duration": 20,
    "start_time": "2021-11-13T13:39:46.695Z"
   },
   {
    "duration": 48,
    "start_time": "2021-11-13T13:39:46.717Z"
   },
   {
    "duration": 8,
    "start_time": "2021-11-13T13:39:46.769Z"
   },
   {
    "duration": 23,
    "start_time": "2021-11-13T13:39:46.779Z"
   },
   {
    "duration": 300,
    "start_time": "2021-11-13T13:39:46.804Z"
   },
   {
    "duration": 15,
    "start_time": "2021-11-13T13:39:47.107Z"
   },
   {
    "duration": 37,
    "start_time": "2021-11-13T13:39:47.125Z"
   },
   {
    "duration": 7960,
    "start_time": "2021-11-13T13:39:47.165Z"
   },
   {
    "duration": 7,
    "start_time": "2021-11-13T13:39:55.128Z"
   },
   {
    "duration": 9,
    "start_time": "2021-11-13T13:39:57.047Z"
   },
   {
    "duration": 12,
    "start_time": "2021-11-13T13:40:04.656Z"
   },
   {
    "duration": 12,
    "start_time": "2021-11-13T13:40:12.672Z"
   },
   {
    "duration": 5,
    "start_time": "2021-11-13T13:40:29.223Z"
   },
   {
    "duration": 6,
    "start_time": "2021-11-13T13:41:33.193Z"
   },
   {
    "duration": 9,
    "start_time": "2021-11-13T13:41:59.472Z"
   },
   {
    "duration": 5,
    "start_time": "2021-11-13T13:42:00.182Z"
   },
   {
    "duration": 6,
    "start_time": "2021-11-13T13:43:02.433Z"
   },
   {
    "duration": 105,
    "start_time": "2021-11-13T13:43:02.442Z"
   },
   {
    "duration": 69,
    "start_time": "2021-11-13T13:43:02.561Z"
   },
   {
    "duration": 11,
    "start_time": "2021-11-13T13:43:02.633Z"
   },
   {
    "duration": 42,
    "start_time": "2021-11-13T13:43:02.647Z"
   },
   {
    "duration": 23,
    "start_time": "2021-11-13T13:43:02.692Z"
   },
   {
    "duration": 20,
    "start_time": "2021-11-13T13:43:02.719Z"
   },
   {
    "duration": 29,
    "start_time": "2021-11-13T13:43:02.742Z"
   },
   {
    "duration": 6,
    "start_time": "2021-11-13T13:43:02.774Z"
   },
   {
    "duration": 14,
    "start_time": "2021-11-13T13:43:02.782Z"
   },
   {
    "duration": 15,
    "start_time": "2021-11-13T13:43:02.798Z"
   },
   {
    "duration": 8,
    "start_time": "2021-11-13T13:43:02.816Z"
   },
   {
    "duration": 40,
    "start_time": "2021-11-13T13:43:02.826Z"
   },
   {
    "duration": 19,
    "start_time": "2021-11-13T13:43:02.870Z"
   },
   {
    "duration": 10,
    "start_time": "2021-11-13T13:43:02.891Z"
   },
   {
    "duration": 16,
    "start_time": "2021-11-13T13:43:02.904Z"
   },
   {
    "duration": 62,
    "start_time": "2021-11-13T13:43:02.923Z"
   },
   {
    "duration": 13,
    "start_time": "2021-11-13T13:43:02.988Z"
   },
   {
    "duration": 25,
    "start_time": "2021-11-13T13:43:03.006Z"
   },
   {
    "duration": 30,
    "start_time": "2021-11-13T13:43:03.034Z"
   },
   {
    "duration": 38,
    "start_time": "2021-11-13T13:43:03.069Z"
   },
   {
    "duration": 10,
    "start_time": "2021-11-13T13:43:03.110Z"
   },
   {
    "duration": 7,
    "start_time": "2021-11-13T13:43:03.122Z"
   },
   {
    "duration": 60,
    "start_time": "2021-11-13T13:43:03.132Z"
   },
   {
    "duration": 11,
    "start_time": "2021-11-13T13:43:03.194Z"
   },
   {
    "duration": 19,
    "start_time": "2021-11-13T13:43:03.207Z"
   },
   {
    "duration": 64,
    "start_time": "2021-11-13T13:43:03.228Z"
   },
   {
    "duration": 6,
    "start_time": "2021-11-13T13:43:03.294Z"
   },
   {
    "duration": 30,
    "start_time": "2021-11-13T13:43:03.302Z"
   },
   {
    "duration": 32,
    "start_time": "2021-11-13T13:43:03.335Z"
   },
   {
    "duration": 18,
    "start_time": "2021-11-13T13:43:03.370Z"
   },
   {
    "duration": 14,
    "start_time": "2021-11-13T13:43:03.391Z"
   },
   {
    "duration": 10,
    "start_time": "2021-11-13T13:43:03.407Z"
   },
   {
    "duration": 42,
    "start_time": "2021-11-13T13:43:03.419Z"
   },
   {
    "duration": 33,
    "start_time": "2021-11-13T13:43:03.463Z"
   },
   {
    "duration": 293,
    "start_time": "2021-11-13T13:43:03.498Z"
   },
   {
    "duration": 14,
    "start_time": "2021-11-13T13:43:03.794Z"
   },
   {
    "duration": 30,
    "start_time": "2021-11-13T13:43:03.810Z"
   },
   {
    "duration": 7948,
    "start_time": "2021-11-13T13:43:03.843Z"
   },
   {
    "duration": 6,
    "start_time": "2021-11-13T13:43:11.794Z"
   },
   {
    "duration": 16,
    "start_time": "2021-11-13T13:43:11.803Z"
   },
   {
    "duration": 5,
    "start_time": "2021-11-13T13:43:11.821Z"
   },
   {
    "duration": 46,
    "start_time": "2021-11-13T13:43:11.829Z"
   },
   {
    "duration": 6,
    "start_time": "2021-11-13T13:43:11.879Z"
   },
   {
    "duration": 14,
    "start_time": "2021-11-13T13:43:11.887Z"
   },
   {
    "duration": 33,
    "start_time": "2021-11-13T13:43:11.904Z"
   },
   {
    "duration": 480,
    "start_time": "2021-11-13T13:43:11.960Z"
   },
   {
    "duration": 36,
    "start_time": "2021-11-13T13:43:12.442Z"
   },
   {
    "duration": 345,
    "start_time": "2021-11-13T13:43:12.481Z"
   },
   {
    "duration": 325,
    "start_time": "2021-11-13T13:45:01.808Z"
   },
   {
    "duration": 372,
    "start_time": "2021-11-13T13:46:03.679Z"
   },
   {
    "duration": 564,
    "start_time": "2021-11-13T13:46:19.615Z"
   },
   {
    "duration": 10705,
    "start_time": "2021-11-13T13:48:34.789Z"
   },
   {
    "duration": 7,
    "start_time": "2021-11-13T13:48:58.547Z"
   },
   {
    "duration": 35,
    "start_time": "2021-11-13T13:49:38.248Z"
   },
   {
    "duration": 6,
    "start_time": "2021-11-13T13:51:13.277Z"
   },
   {
    "duration": 7,
    "start_time": "2021-11-13T13:51:48.179Z"
   },
   {
    "duration": 8,
    "start_time": "2021-11-13T13:52:31.876Z"
   },
   {
    "duration": 6,
    "start_time": "2021-11-13T13:52:32.648Z"
   },
   {
    "duration": 402,
    "start_time": "2021-11-13T13:52:49.923Z"
   },
   {
    "duration": 321,
    "start_time": "2021-11-13T13:52:58.983Z"
   },
   {
    "duration": 963,
    "start_time": "2021-11-13T13:53:26.854Z"
   },
   {
    "duration": 974,
    "start_time": "2021-11-13T13:53:34.009Z"
   },
   {
    "duration": 143,
    "start_time": "2021-11-13T13:53:53.650Z"
   },
   {
    "duration": 307,
    "start_time": "2021-11-13T13:53:57.438Z"
   },
   {
    "duration": 629,
    "start_time": "2021-11-13T13:55:11.272Z"
   },
   {
    "duration": 623,
    "start_time": "2021-11-13T13:55:18.284Z"
   },
   {
    "duration": 227,
    "start_time": "2021-11-13T13:55:26.133Z"
   },
   {
    "duration": 12,
    "start_time": "2021-11-13T13:55:57.841Z"
   },
   {
    "duration": 8,
    "start_time": "2021-11-13T13:56:01.070Z"
   },
   {
    "duration": 230,
    "start_time": "2021-11-13T13:56:01.882Z"
   },
   {
    "duration": 37,
    "start_time": "2021-11-13T13:56:25.751Z"
   },
   {
    "duration": 14,
    "start_time": "2021-11-13T13:56:30.785Z"
   },
   {
    "duration": 17,
    "start_time": "2021-11-13T13:57:11.109Z"
   },
   {
    "duration": 52,
    "start_time": "2021-11-13T13:58:57.414Z"
   },
   {
    "duration": 330,
    "start_time": "2021-11-13T14:00:59.929Z"
   },
   {
    "duration": 305,
    "start_time": "2021-11-13T14:03:48.450Z"
   },
   {
    "duration": 20,
    "start_time": "2021-11-13T14:06:23.724Z"
   },
   {
    "duration": 302,
    "start_time": "2021-11-13T14:06:32.006Z"
   },
   {
    "duration": 32,
    "start_time": "2021-11-13T14:09:27.574Z"
   },
   {
    "duration": 24,
    "start_time": "2021-11-13T14:22:12.229Z"
   },
   {
    "duration": 30,
    "start_time": "2021-11-13T14:22:19.922Z"
   },
   {
    "duration": 334,
    "start_time": "2021-11-13T15:41:26.820Z"
   },
   {
    "duration": 369,
    "start_time": "2021-11-13T15:41:42.483Z"
   },
   {
    "duration": 378,
    "start_time": "2021-11-13T15:44:23.775Z"
   },
   {
    "duration": 6,
    "start_time": "2021-11-13T15:45:32.213Z"
   },
   {
    "duration": 108,
    "start_time": "2021-11-13T15:45:32.221Z"
   },
   {
    "duration": 53,
    "start_time": "2021-11-13T15:45:32.332Z"
   },
   {
    "duration": 12,
    "start_time": "2021-11-13T15:45:32.388Z"
   },
   {
    "duration": 67,
    "start_time": "2021-11-13T15:45:32.403Z"
   },
   {
    "duration": 27,
    "start_time": "2021-11-13T15:45:32.475Z"
   },
   {
    "duration": 16,
    "start_time": "2021-11-13T15:45:32.506Z"
   },
   {
    "duration": 40,
    "start_time": "2021-11-13T15:45:32.526Z"
   },
   {
    "duration": 11,
    "start_time": "2021-11-13T15:45:32.571Z"
   },
   {
    "duration": 14,
    "start_time": "2021-11-13T15:45:32.585Z"
   },
   {
    "duration": 18,
    "start_time": "2021-11-13T15:45:32.602Z"
   },
   {
    "duration": 31,
    "start_time": "2021-11-13T15:45:32.622Z"
   },
   {
    "duration": 26,
    "start_time": "2021-11-13T15:45:32.655Z"
   },
   {
    "duration": 12,
    "start_time": "2021-11-13T15:45:32.684Z"
   },
   {
    "duration": 21,
    "start_time": "2021-11-13T15:45:32.698Z"
   },
   {
    "duration": 25,
    "start_time": "2021-11-13T15:45:32.721Z"
   },
   {
    "duration": 57,
    "start_time": "2021-11-13T15:45:32.748Z"
   },
   {
    "duration": 19,
    "start_time": "2021-11-13T15:45:32.807Z"
   },
   {
    "duration": 49,
    "start_time": "2021-11-13T15:45:32.831Z"
   },
   {
    "duration": 7,
    "start_time": "2021-11-13T15:45:32.884Z"
   },
   {
    "duration": 33,
    "start_time": "2021-11-13T15:45:32.893Z"
   },
   {
    "duration": 46,
    "start_time": "2021-11-13T15:45:32.928Z"
   },
   {
    "duration": 12,
    "start_time": "2021-11-13T15:45:32.977Z"
   },
   {
    "duration": 29,
    "start_time": "2021-11-13T15:45:32.992Z"
   },
   {
    "duration": 274,
    "start_time": "2021-11-13T15:45:33.024Z"
   },
   {
    "duration": 18,
    "start_time": "2021-11-13T15:45:33.300Z"
   },
   {
    "duration": 34,
    "start_time": "2021-11-13T15:45:33.321Z"
   },
   {
    "duration": 8,
    "start_time": "2021-11-13T15:45:33.357Z"
   },
   {
    "duration": 45,
    "start_time": "2021-11-13T15:45:33.369Z"
   },
   {
    "duration": 8,
    "start_time": "2021-11-13T15:45:33.416Z"
   },
   {
    "duration": 40,
    "start_time": "2021-11-13T15:45:33.427Z"
   },
   {
    "duration": 24,
    "start_time": "2021-11-13T15:45:33.471Z"
   },
   {
    "duration": 14,
    "start_time": "2021-11-13T15:45:33.498Z"
   },
   {
    "duration": 7,
    "start_time": "2021-11-13T15:45:33.515Z"
   },
   {
    "duration": 49,
    "start_time": "2021-11-13T15:45:33.526Z"
   },
   {
    "duration": 368,
    "start_time": "2021-11-13T15:45:33.577Z"
   },
   {
    "duration": 27,
    "start_time": "2021-11-13T15:45:33.948Z"
   },
   {
    "duration": 22,
    "start_time": "2021-11-13T15:45:33.979Z"
   },
   {
    "duration": 10420,
    "start_time": "2021-11-13T15:45:34.004Z"
   },
   {
    "duration": 7,
    "start_time": "2021-11-13T15:45:44.426Z"
   },
   {
    "duration": 363,
    "start_time": "2021-11-13T15:45:44.436Z"
   },
   {
    "duration": 11,
    "start_time": "2021-11-13T15:45:44.801Z"
   },
   {
    "duration": 5,
    "start_time": "2021-11-13T15:45:44.814Z"
   },
   {
    "duration": 21,
    "start_time": "2021-11-13T15:45:44.821Z"
   },
   {
    "duration": 55,
    "start_time": "2021-11-13T15:45:44.845Z"
   },
   {
    "duration": 19,
    "start_time": "2021-11-13T15:45:44.903Z"
   },
   {
    "duration": 45,
    "start_time": "2021-11-13T15:45:44.925Z"
   },
   {
    "duration": 438,
    "start_time": "2021-11-13T15:45:44.973Z"
   },
   {
    "duration": 20,
    "start_time": "2021-11-13T15:45:45.414Z"
   },
   {
    "duration": 442,
    "start_time": "2021-11-13T15:45:45.437Z"
   },
   {
    "duration": 47,
    "start_time": "2021-11-13T15:45:45.882Z"
   },
   {
    "duration": 465,
    "start_time": "2021-11-13T15:45:45.933Z"
   },
   {
    "duration": 348,
    "start_time": "2021-11-13T15:47:53.029Z"
   },
   {
    "duration": 400,
    "start_time": "2021-11-13T15:47:59.927Z"
   },
   {
    "duration": 581,
    "start_time": "2021-11-13T15:52:05.378Z"
   },
   {
    "duration": 377,
    "start_time": "2021-11-13T15:54:56.846Z"
   },
   {
    "duration": 3624,
    "start_time": "2021-11-13T15:58:58.578Z"
   },
   {
    "duration": 53,
    "start_time": "2021-11-13T15:59:55.013Z"
   },
   {
    "duration": 21,
    "start_time": "2021-11-13T16:01:45.515Z"
   },
   {
    "duration": 439,
    "start_time": "2021-11-13T16:02:01.588Z"
   },
   {
    "duration": 22,
    "start_time": "2021-11-13T16:02:31.928Z"
   },
   {
    "duration": 19,
    "start_time": "2021-11-13T16:02:43.823Z"
   },
   {
    "duration": 31,
    "start_time": "2021-11-13T16:03:42.959Z"
   },
   {
    "duration": 10,
    "start_time": "2021-11-13T16:09:38.572Z"
   },
   {
    "duration": 26,
    "start_time": "2021-11-13T16:10:48.664Z"
   },
   {
    "duration": 32,
    "start_time": "2021-11-13T16:11:36.198Z"
   },
   {
    "duration": 17,
    "start_time": "2021-11-13T16:34:52.473Z"
   },
   {
    "duration": 17,
    "start_time": "2021-11-13T16:35:32.599Z"
   },
   {
    "duration": 411,
    "start_time": "2021-11-13T16:36:19.772Z"
   },
   {
    "duration": 335,
    "start_time": "2021-11-13T16:36:24.903Z"
   },
   {
    "duration": 24,
    "start_time": "2021-11-13T16:37:21.090Z"
   },
   {
    "duration": 4,
    "start_time": "2021-11-13T16:39:28.514Z"
   },
   {
    "duration": 1941,
    "start_time": "2021-11-13T16:39:30.937Z"
   },
   {
    "duration": -148,
    "start_time": "2021-11-13T16:39:33.029Z"
   },
   {
    "duration": 6,
    "start_time": "2021-11-13T16:39:43.084Z"
   },
   {
    "duration": 108,
    "start_time": "2021-11-13T16:39:43.093Z"
   },
   {
    "duration": 52,
    "start_time": "2021-11-13T16:39:43.205Z"
   },
   {
    "duration": 19,
    "start_time": "2021-11-13T16:39:43.262Z"
   },
   {
    "duration": 33,
    "start_time": "2021-11-13T16:39:43.284Z"
   },
   {
    "duration": 23,
    "start_time": "2021-11-13T16:39:43.319Z"
   },
   {
    "duration": 21,
    "start_time": "2021-11-13T16:39:43.362Z"
   },
   {
    "duration": 10,
    "start_time": "2021-11-13T16:39:43.386Z"
   },
   {
    "duration": 15,
    "start_time": "2021-11-13T16:39:43.398Z"
   },
   {
    "duration": 9,
    "start_time": "2021-11-13T16:39:47.596Z"
   },
   {
    "duration": 9,
    "start_time": "2021-11-13T16:39:50.291Z"
   },
   {
    "duration": 5,
    "start_time": "2021-11-13T16:40:07.291Z"
   },
   {
    "duration": 103,
    "start_time": "2021-11-13T16:40:07.301Z"
   },
   {
    "duration": 52,
    "start_time": "2021-11-13T16:40:07.408Z"
   },
   {
    "duration": 12,
    "start_time": "2021-11-13T16:40:07.472Z"
   },
   {
    "duration": 32,
    "start_time": "2021-11-13T16:40:07.487Z"
   },
   {
    "duration": 52,
    "start_time": "2021-11-13T16:40:07.522Z"
   },
   {
    "duration": 17,
    "start_time": "2021-11-13T16:40:07.577Z"
   },
   {
    "duration": 8,
    "start_time": "2021-11-13T16:40:07.596Z"
   },
   {
    "duration": 8,
    "start_time": "2021-11-13T16:40:07.607Z"
   },
   {
    "duration": 53,
    "start_time": "2021-11-13T16:40:07.620Z"
   },
   {
    "duration": 12,
    "start_time": "2021-11-13T16:40:07.680Z"
   },
   {
    "duration": 7,
    "start_time": "2021-11-13T16:40:07.695Z"
   },
   {
    "duration": 13,
    "start_time": "2021-11-13T16:40:07.705Z"
   },
   {
    "duration": 8,
    "start_time": "2021-11-13T16:40:07.720Z"
   },
   {
    "duration": 43,
    "start_time": "2021-11-13T16:40:07.730Z"
   },
   {
    "duration": 16,
    "start_time": "2021-11-13T16:40:07.777Z"
   },
   {
    "duration": 26,
    "start_time": "2021-11-13T16:40:07.795Z"
   },
   {
    "duration": 41,
    "start_time": "2021-11-13T16:40:07.823Z"
   },
   {
    "duration": 30,
    "start_time": "2021-11-13T16:40:07.869Z"
   },
   {
    "duration": 14,
    "start_time": "2021-11-13T16:40:07.902Z"
   },
   {
    "duration": 60,
    "start_time": "2021-11-13T16:40:07.919Z"
   },
   {
    "duration": 12,
    "start_time": "2021-11-13T16:40:07.982Z"
   },
   {
    "duration": 14,
    "start_time": "2021-11-13T16:40:07.996Z"
   },
   {
    "duration": 53,
    "start_time": "2021-11-13T16:40:08.013Z"
   },
   {
    "duration": 23,
    "start_time": "2021-11-13T16:40:08.070Z"
   },
   {
    "duration": 20,
    "start_time": "2021-11-13T16:40:08.096Z"
   },
   {
    "duration": 69,
    "start_time": "2021-11-13T16:40:08.119Z"
   },
   {
    "duration": 10,
    "start_time": "2021-11-13T16:40:08.194Z"
   },
   {
    "duration": 44,
    "start_time": "2021-11-13T16:40:08.207Z"
   },
   {
    "duration": 10,
    "start_time": "2021-11-13T16:40:08.254Z"
   },
   {
    "duration": 24,
    "start_time": "2021-11-13T16:40:08.273Z"
   },
   {
    "duration": 15,
    "start_time": "2021-11-13T16:40:08.300Z"
   },
   {
    "duration": 14,
    "start_time": "2021-11-13T16:40:08.317Z"
   },
   {
    "duration": 32,
    "start_time": "2021-11-13T16:40:08.334Z"
   },
   {
    "duration": 13,
    "start_time": "2021-11-13T16:40:08.369Z"
   },
   {
    "duration": 326,
    "start_time": "2021-11-13T16:40:08.385Z"
   },
   {
    "duration": 17,
    "start_time": "2021-11-13T16:40:08.713Z"
   },
   {
    "duration": 45,
    "start_time": "2021-11-13T16:40:08.733Z"
   },
   {
    "duration": 8911,
    "start_time": "2021-11-13T16:40:08.780Z"
   },
   {
    "duration": 7,
    "start_time": "2021-11-13T16:40:17.694Z"
   },
   {
    "duration": 402,
    "start_time": "2021-11-13T16:40:17.704Z"
   },
   {
    "duration": 10,
    "start_time": "2021-11-13T16:40:18.108Z"
   },
   {
    "duration": 7,
    "start_time": "2021-11-13T16:40:18.120Z"
   },
   {
    "duration": 18,
    "start_time": "2021-11-13T16:40:18.129Z"
   },
   {
    "duration": 14,
    "start_time": "2021-11-13T16:40:18.149Z"
   },
   {
    "duration": 21,
    "start_time": "2021-11-13T16:40:18.166Z"
   },
   {
    "duration": 34,
    "start_time": "2021-11-13T16:40:18.190Z"
   },
   {
    "duration": 778,
    "start_time": "2021-11-13T16:40:18.226Z"
   },
   {
    "duration": 20,
    "start_time": "2021-11-13T16:40:19.006Z"
   },
   {
    "duration": 321,
    "start_time": "2021-11-13T16:40:19.029Z"
   },
   {
    "duration": 42,
    "start_time": "2021-11-13T16:40:19.352Z"
   },
   {
    "duration": 463,
    "start_time": "2021-11-13T16:40:19.397Z"
   },
   {
    "duration": 28,
    "start_time": "2021-11-13T16:40:19.863Z"
   },
   {
    "duration": 81,
    "start_time": "2021-11-13T16:40:19.894Z"
   },
   {
    "duration": 342,
    "start_time": "2021-11-13T16:40:34.886Z"
   },
   {
    "duration": 16,
    "start_time": "2021-11-13T16:40:44.482Z"
   },
   {
    "duration": 333,
    "start_time": "2021-11-13T16:41:05.649Z"
   },
   {
    "duration": 386,
    "start_time": "2021-11-13T16:41:19.573Z"
   },
   {
    "duration": 397,
    "start_time": "2021-11-13T16:41:29.276Z"
   },
   {
    "duration": 266,
    "start_time": "2021-11-13T16:42:23.372Z"
   },
   {
    "duration": 272,
    "start_time": "2021-11-13T16:42:45.077Z"
   },
   {
    "duration": 300,
    "start_time": "2021-11-13T16:42:49.261Z"
   },
   {
    "duration": 280,
    "start_time": "2021-11-13T16:42:57.400Z"
   },
   {
    "duration": 309,
    "start_time": "2021-11-13T16:43:06.218Z"
   },
   {
    "duration": 268,
    "start_time": "2021-11-13T16:43:16.773Z"
   },
   {
    "duration": 293,
    "start_time": "2021-11-13T16:43:30.712Z"
   },
   {
    "duration": 278,
    "start_time": "2021-11-13T16:43:50.750Z"
   },
   {
    "duration": 282,
    "start_time": "2021-11-13T16:44:04.910Z"
   },
   {
    "duration": 28,
    "start_time": "2021-11-13T16:51:09.400Z"
   },
   {
    "duration": 322,
    "start_time": "2021-11-13T16:51:20.187Z"
   },
   {
    "duration": 500,
    "start_time": "2021-11-13T16:51:34.789Z"
   },
   {
    "duration": 621,
    "start_time": "2021-11-13T16:52:04.708Z"
   },
   {
    "duration": 715,
    "start_time": "2021-11-13T16:52:32.344Z"
   },
   {
    "duration": 540,
    "start_time": "2021-11-13T16:53:15.239Z"
   },
   {
    "duration": 629,
    "start_time": "2021-11-13T16:53:21.486Z"
   },
   {
    "duration": 644,
    "start_time": "2021-11-13T16:57:06.589Z"
   },
   {
    "duration": 460,
    "start_time": "2021-11-13T16:57:24.833Z"
   },
   {
    "duration": 399,
    "start_time": "2021-11-13T16:58:34.346Z"
   },
   {
    "duration": 779,
    "start_time": "2021-11-13T16:58:47.374Z"
   },
   {
    "duration": 17,
    "start_time": "2021-11-13T17:01:09.365Z"
   },
   {
    "duration": 367,
    "start_time": "2021-11-13T17:02:44.311Z"
   },
   {
    "duration": 401,
    "start_time": "2021-11-13T17:06:39.221Z"
   },
   {
    "duration": 28,
    "start_time": "2021-11-13T17:06:46.904Z"
   },
   {
    "duration": 29,
    "start_time": "2021-11-13T17:07:34.484Z"
   },
   {
    "duration": 27,
    "start_time": "2021-11-13T17:07:50.312Z"
   },
   {
    "duration": 294,
    "start_time": "2021-11-13T17:08:42.927Z"
   },
   {
    "duration": 609,
    "start_time": "2021-11-13T17:09:12.122Z"
   },
   {
    "duration": 775,
    "start_time": "2021-11-13T17:11:08.211Z"
   },
   {
    "duration": 24,
    "start_time": "2021-11-13T17:15:45.545Z"
   },
   {
    "duration": 23,
    "start_time": "2021-11-13T17:20:31.230Z"
   },
   {
    "duration": 32,
    "start_time": "2021-11-13T17:20:37.180Z"
   },
   {
    "duration": 29,
    "start_time": "2021-11-13T17:21:30.848Z"
   },
   {
    "duration": 420,
    "start_time": "2021-11-13T17:22:00.943Z"
   },
   {
    "duration": 44,
    "start_time": "2021-11-13T17:22:28.757Z"
   },
   {
    "duration": 35,
    "start_time": "2021-11-13T17:27:55.520Z"
   },
   {
    "duration": 137,
    "start_time": "2021-11-13T17:28:56.099Z"
   },
   {
    "duration": 35,
    "start_time": "2021-11-13T17:29:30.010Z"
   },
   {
    "duration": 390,
    "start_time": "2021-11-13T17:29:43.705Z"
   },
   {
    "duration": 422,
    "start_time": "2021-11-13T17:31:27.716Z"
   },
   {
    "duration": 20,
    "start_time": "2021-11-13T17:34:10.672Z"
   },
   {
    "duration": 37,
    "start_time": "2021-11-13T17:34:48.433Z"
   },
   {
    "duration": 916,
    "start_time": "2021-11-13T17:35:58.958Z"
   },
   {
    "duration": 426,
    "start_time": "2021-11-13T17:37:25.650Z"
   },
   {
    "duration": 875,
    "start_time": "2021-11-14T05:32:26.852Z"
   },
   {
    "duration": 66,
    "start_time": "2021-11-14T05:32:27.728Z"
   },
   {
    "duration": 47,
    "start_time": "2021-11-14T05:32:27.796Z"
   },
   {
    "duration": 8,
    "start_time": "2021-11-14T05:32:27.844Z"
   },
   {
    "duration": 18,
    "start_time": "2021-11-14T05:32:27.854Z"
   },
   {
    "duration": 16,
    "start_time": "2021-11-14T05:32:27.874Z"
   },
   {
    "duration": 11,
    "start_time": "2021-11-14T05:32:27.892Z"
   },
   {
    "duration": 5,
    "start_time": "2021-11-14T05:32:27.905Z"
   },
   {
    "duration": 4,
    "start_time": "2021-11-14T05:32:27.912Z"
   },
   {
    "duration": 8,
    "start_time": "2021-11-14T05:32:27.917Z"
   },
   {
    "duration": 7,
    "start_time": "2021-11-14T05:32:27.927Z"
   },
   {
    "duration": 3,
    "start_time": "2021-11-14T05:32:27.935Z"
   },
   {
    "duration": 6,
    "start_time": "2021-11-14T05:32:27.940Z"
   },
   {
    "duration": 6,
    "start_time": "2021-11-14T05:32:27.947Z"
   },
   {
    "duration": 6,
    "start_time": "2021-11-14T05:32:27.954Z"
   },
   {
    "duration": 10,
    "start_time": "2021-11-14T05:32:27.992Z"
   },
   {
    "duration": 16,
    "start_time": "2021-11-14T05:32:28.003Z"
   },
   {
    "duration": 4,
    "start_time": "2021-11-14T05:32:28.020Z"
   },
   {
    "duration": 14,
    "start_time": "2021-11-14T05:32:28.025Z"
   },
   {
    "duration": 5,
    "start_time": "2021-11-14T05:32:28.040Z"
   },
   {
    "duration": 44,
    "start_time": "2021-11-14T05:32:28.046Z"
   },
   {
    "duration": 10,
    "start_time": "2021-11-14T05:32:28.092Z"
   },
   {
    "duration": 5,
    "start_time": "2021-11-14T05:32:28.106Z"
   },
   {
    "duration": 22,
    "start_time": "2021-11-14T05:32:28.114Z"
   },
   {
    "duration": 8,
    "start_time": "2021-11-14T05:32:28.137Z"
   },
   {
    "duration": 24,
    "start_time": "2021-11-14T05:32:28.147Z"
   },
   {
    "duration": 38,
    "start_time": "2021-11-14T05:32:28.172Z"
   },
   {
    "duration": 4,
    "start_time": "2021-11-14T05:32:28.212Z"
   },
   {
    "duration": 19,
    "start_time": "2021-11-14T05:32:28.217Z"
   },
   {
    "duration": 6,
    "start_time": "2021-11-14T05:32:28.237Z"
   },
   {
    "duration": 7,
    "start_time": "2021-11-14T05:32:28.245Z"
   },
   {
    "duration": 44,
    "start_time": "2021-11-14T05:32:28.254Z"
   },
   {
    "duration": 7,
    "start_time": "2021-11-14T05:32:28.300Z"
   },
   {
    "duration": 4,
    "start_time": "2021-11-14T05:32:28.309Z"
   },
   {
    "duration": 9,
    "start_time": "2021-11-14T05:32:28.315Z"
   },
   {
    "duration": 192,
    "start_time": "2021-11-14T05:32:28.326Z"
   },
   {
    "duration": 9,
    "start_time": "2021-11-14T05:32:28.520Z"
   },
   {
    "duration": 10,
    "start_time": "2021-11-14T05:32:28.531Z"
   },
   {
    "duration": 4126,
    "start_time": "2021-11-14T05:32:28.542Z"
   },
   {
    "duration": 5,
    "start_time": "2021-11-14T05:32:32.669Z"
   },
   {
    "duration": 187,
    "start_time": "2021-11-14T05:32:32.675Z"
   },
   {
    "duration": 7,
    "start_time": "2021-11-14T05:32:32.864Z"
   },
   {
    "duration": 5,
    "start_time": "2021-11-14T05:32:32.872Z"
   },
   {
    "duration": 16,
    "start_time": "2021-11-14T05:32:32.879Z"
   },
   {
    "duration": 5,
    "start_time": "2021-11-14T05:32:32.897Z"
   },
   {
    "duration": 12,
    "start_time": "2021-11-14T05:32:32.904Z"
   },
   {
    "duration": 23,
    "start_time": "2021-11-14T05:32:32.918Z"
   },
   {
    "duration": 619,
    "start_time": "2021-11-14T05:32:32.942Z"
   },
   {
    "duration": 14,
    "start_time": "2021-11-14T05:32:33.562Z"
   },
   {
    "duration": 193,
    "start_time": "2021-11-14T05:32:33.578Z"
   },
   {
    "duration": 31,
    "start_time": "2021-11-14T05:32:33.772Z"
   },
   {
    "duration": 318,
    "start_time": "2021-11-14T05:32:33.805Z"
   },
   {
    "duration": 14,
    "start_time": "2021-11-14T05:32:34.125Z"
   },
   {
    "duration": 177,
    "start_time": "2021-11-14T05:32:34.140Z"
   },
   {
    "duration": 22,
    "start_time": "2021-11-14T05:32:34.318Z"
   },
   {
    "duration": 246,
    "start_time": "2021-11-14T05:32:34.341Z"
   },
   {
    "duration": 19,
    "start_time": "2021-11-14T05:32:34.588Z"
   },
   {
    "duration": 11,
    "start_time": "2021-11-14T05:34:50.621Z"
   },
   {
    "duration": 326,
    "start_time": "2021-11-14T05:36:17.699Z"
   },
   {
    "duration": 198,
    "start_time": "2021-11-14T05:36:27.517Z"
   },
   {
    "duration": 186,
    "start_time": "2021-11-14T05:36:39.202Z"
   },
   {
    "duration": 223,
    "start_time": "2021-11-14T05:37:57.086Z"
   },
   {
    "duration": 197,
    "start_time": "2021-11-14T05:38:07.341Z"
   },
   {
    "duration": 5,
    "start_time": "2021-11-14T05:39:49.251Z"
   },
   {
    "duration": 9,
    "start_time": "2021-11-14T05:40:04.309Z"
   },
   {
    "duration": 10,
    "start_time": "2021-11-14T05:40:09.183Z"
   },
   {
    "duration": 15,
    "start_time": "2021-11-14T05:45:47.557Z"
   },
   {
    "duration": 4,
    "start_time": "2021-11-14T05:47:23.900Z"
   },
   {
    "duration": 6,
    "start_time": "2021-11-14T05:47:33.937Z"
   },
   {
    "duration": 4,
    "start_time": "2021-11-14T05:47:34.787Z"
   },
   {
    "duration": 298,
    "start_time": "2021-11-14T05:52:20.133Z"
   },
   {
    "duration": 345,
    "start_time": "2021-11-14T05:52:55.300Z"
   },
   {
    "duration": 4,
    "start_time": "2021-11-14T05:53:40.393Z"
   },
   {
    "duration": 232,
    "start_time": "2021-11-14T05:53:48.402Z"
   },
   {
    "duration": 343,
    "start_time": "2021-11-14T05:54:11.880Z"
   },
   {
    "duration": 26,
    "start_time": "2021-11-14T05:55:40.096Z"
   },
   {
    "duration": 62,
    "start_time": "2021-11-14T05:57:29.933Z"
   },
   {
    "duration": 13,
    "start_time": "2021-11-14T05:57:39.318Z"
   },
   {
    "duration": 13,
    "start_time": "2021-11-14T05:58:44.220Z"
   },
   {
    "duration": 181,
    "start_time": "2021-11-14T05:59:15.363Z"
   },
   {
    "duration": 176,
    "start_time": "2021-11-14T06:00:56.560Z"
   },
   {
    "duration": 11,
    "start_time": "2021-11-14T06:04:58.103Z"
   },
   {
    "duration": 15,
    "start_time": "2021-11-14T06:05:47.038Z"
   },
   {
    "duration": 183,
    "start_time": "2021-11-14T06:06:06.673Z"
   },
   {
    "duration": 4,
    "start_time": "2021-11-14T06:11:39.547Z"
   },
   {
    "duration": 331,
    "start_time": "2021-11-14T06:12:11.633Z"
   },
   {
    "duration": 14,
    "start_time": "2021-11-14T06:14:15.096Z"
   },
   {
    "duration": 14,
    "start_time": "2021-11-14T06:14:32.202Z"
   },
   {
    "duration": 182,
    "start_time": "2021-11-14T06:14:57.574Z"
   },
   {
    "duration": 347,
    "start_time": "2021-11-14T06:15:25.796Z"
   },
   {
    "duration": 235,
    "start_time": "2021-11-14T06:15:33.366Z"
   },
   {
    "duration": 240,
    "start_time": "2021-11-14T06:15:39.289Z"
   },
   {
    "duration": 236,
    "start_time": "2021-11-14T06:16:14.387Z"
   },
   {
    "duration": 201,
    "start_time": "2021-11-14T06:17:07.405Z"
   },
   {
    "duration": 256,
    "start_time": "2021-11-14T06:17:23.520Z"
   },
   {
    "duration": 5,
    "start_time": "2021-11-14T06:17:50.791Z"
   },
   {
    "duration": 226,
    "start_time": "2021-11-14T06:20:24.901Z"
   },
   {
    "duration": 10,
    "start_time": "2021-11-14T06:20:58.905Z"
   },
   {
    "duration": 13,
    "start_time": "2021-11-14T06:21:07.148Z"
   },
   {
    "duration": 16,
    "start_time": "2021-11-14T06:21:43.589Z"
   },
   {
    "duration": 13,
    "start_time": "2021-11-14T06:23:45.451Z"
   },
   {
    "duration": 14,
    "start_time": "2021-11-14T06:24:27.880Z"
   },
   {
    "duration": 15,
    "start_time": "2021-11-14T06:25:08.124Z"
   },
   {
    "duration": 13,
    "start_time": "2021-11-14T06:26:39.992Z"
   },
   {
    "duration": 358,
    "start_time": "2021-11-14T06:28:03.098Z"
   },
   {
    "duration": 6,
    "start_time": "2021-11-14T06:28:52.675Z"
   },
   {
    "duration": 207,
    "start_time": "2021-11-14T06:30:33.309Z"
   },
   {
    "duration": 12,
    "start_time": "2021-11-14T06:37:04.613Z"
   },
   {
    "duration": 12,
    "start_time": "2021-11-14T06:39:19.950Z"
   },
   {
    "duration": 32,
    "start_time": "2021-11-14T06:41:52.381Z"
   },
   {
    "duration": 22,
    "start_time": "2021-11-14T06:42:36.918Z"
   },
   {
    "duration": 20,
    "start_time": "2021-11-14T06:43:14.168Z"
   },
   {
    "duration": 15,
    "start_time": "2021-11-14T06:43:43.114Z"
   },
   {
    "duration": 15,
    "start_time": "2021-11-14T06:44:01.151Z"
   },
   {
    "duration": 46437,
    "start_time": "2021-11-14T10:12:10.977Z"
   },
   {
    "duration": 71,
    "start_time": "2021-11-14T10:12:57.416Z"
   },
   {
    "duration": 39,
    "start_time": "2021-11-14T10:12:57.490Z"
   },
   {
    "duration": 8,
    "start_time": "2021-11-14T10:12:57.531Z"
   },
   {
    "duration": 19,
    "start_time": "2021-11-14T10:12:57.541Z"
   },
   {
    "duration": 17,
    "start_time": "2021-11-14T10:12:57.562Z"
   },
   {
    "duration": 11,
    "start_time": "2021-11-14T10:12:57.581Z"
   },
   {
    "duration": 6,
    "start_time": "2021-11-14T10:12:57.593Z"
   },
   {
    "duration": 4,
    "start_time": "2021-11-14T10:12:57.602Z"
   },
   {
    "duration": 38,
    "start_time": "2021-11-14T10:12:57.608Z"
   },
   {
    "duration": 6,
    "start_time": "2021-11-14T10:12:57.648Z"
   },
   {
    "duration": 11,
    "start_time": "2021-11-14T10:12:57.656Z"
   },
   {
    "duration": 9,
    "start_time": "2021-11-14T10:12:57.669Z"
   },
   {
    "duration": 7,
    "start_time": "2021-11-14T10:12:57.679Z"
   },
   {
    "duration": 10,
    "start_time": "2021-11-14T10:12:57.687Z"
   },
   {
    "duration": 17,
    "start_time": "2021-11-14T10:12:57.699Z"
   },
   {
    "duration": 43,
    "start_time": "2021-11-14T10:12:57.719Z"
   },
   {
    "duration": 6,
    "start_time": "2021-11-14T10:12:57.763Z"
   },
   {
    "duration": 20,
    "start_time": "2021-11-14T10:12:57.770Z"
   },
   {
    "duration": 4,
    "start_time": "2021-11-14T10:12:57.792Z"
   },
   {
    "duration": 22,
    "start_time": "2021-11-14T10:12:57.798Z"
   },
   {
    "duration": 25,
    "start_time": "2021-11-14T10:12:57.822Z"
   },
   {
    "duration": 10,
    "start_time": "2021-11-14T10:12:57.848Z"
   },
   {
    "duration": 25,
    "start_time": "2021-11-14T10:12:57.860Z"
   },
   {
    "duration": 9,
    "start_time": "2021-11-14T10:12:57.886Z"
   },
   {
    "duration": 13,
    "start_time": "2021-11-14T10:12:57.897Z"
   },
   {
    "duration": 40,
    "start_time": "2021-11-14T10:12:57.916Z"
   },
   {
    "duration": 6,
    "start_time": "2021-11-14T10:12:57.959Z"
   },
   {
    "duration": 17,
    "start_time": "2021-11-14T10:12:57.966Z"
   },
   {
    "duration": 6,
    "start_time": "2021-11-14T10:12:57.985Z"
   },
   {
    "duration": 8,
    "start_time": "2021-11-14T10:12:57.992Z"
   },
   {
    "duration": 11,
    "start_time": "2021-11-14T10:12:58.002Z"
   },
   {
    "duration": 9,
    "start_time": "2021-11-14T10:12:58.046Z"
   },
   {
    "duration": 5,
    "start_time": "2021-11-14T10:12:58.057Z"
   },
   {
    "duration": 13,
    "start_time": "2021-11-14T10:12:58.064Z"
   },
   {
    "duration": 214,
    "start_time": "2021-11-14T10:12:58.078Z"
   },
   {
    "duration": 12,
    "start_time": "2021-11-14T10:12:58.294Z"
   },
   {
    "duration": 10,
    "start_time": "2021-11-14T10:12:58.308Z"
   },
   {
    "duration": 4503,
    "start_time": "2021-11-14T10:12:58.319Z"
   },
   {
    "duration": 5,
    "start_time": "2021-11-14T10:13:02.824Z"
   },
   {
    "duration": 188,
    "start_time": "2021-11-14T10:13:02.830Z"
   },
   {
    "duration": 7,
    "start_time": "2021-11-14T10:13:03.019Z"
   },
   {
    "duration": 6,
    "start_time": "2021-11-14T10:13:03.028Z"
   },
   {
    "duration": 7,
    "start_time": "2021-11-14T10:13:03.044Z"
   },
   {
    "duration": 5,
    "start_time": "2021-11-14T10:13:03.052Z"
   },
   {
    "duration": 10,
    "start_time": "2021-11-14T10:13:03.059Z"
   },
   {
    "duration": 30,
    "start_time": "2021-11-14T10:13:03.071Z"
   },
   {
    "duration": 644,
    "start_time": "2021-11-14T10:13:03.103Z"
   },
   {
    "duration": 16,
    "start_time": "2021-11-14T10:13:03.749Z"
   },
   {
    "duration": 209,
    "start_time": "2021-11-14T10:13:03.767Z"
   },
   {
    "duration": 20,
    "start_time": "2021-11-14T10:13:03.978Z"
   },
   {
    "duration": 328,
    "start_time": "2021-11-14T10:13:04.000Z"
   },
   {
    "duration": 25,
    "start_time": "2021-11-14T10:13:04.330Z"
   },
   {
    "duration": 178,
    "start_time": "2021-11-14T10:13:04.356Z"
   },
   {
    "duration": 26,
    "start_time": "2021-11-14T10:13:04.536Z"
   },
   {
    "duration": 253,
    "start_time": "2021-11-14T10:13:04.563Z"
   },
   {
    "duration": 27,
    "start_time": "2021-11-14T10:13:04.818Z"
   },
   {
    "duration": 13,
    "start_time": "2021-11-14T10:13:04.847Z"
   },
   {
    "duration": 5,
    "start_time": "2021-11-14T10:13:04.862Z"
   },
   {
    "duration": 4,
    "start_time": "2021-11-14T10:13:04.868Z"
   },
   {
    "duration": 381,
    "start_time": "2021-11-14T10:13:04.873Z"
   },
   {
    "duration": 225,
    "start_time": "2021-11-14T10:13:05.255Z"
   },
   {
    "duration": 12,
    "start_time": "2021-11-14T10:13:05.482Z"
   },
   {
    "duration": 187,
    "start_time": "2021-11-14T10:13:05.495Z"
   },
   {
    "duration": 14,
    "start_time": "2021-11-14T10:13:05.684Z"
   },
   {
    "duration": 316,
    "start_time": "2021-11-14T10:13:05.700Z"
   },
   {
    "duration": 4,
    "start_time": "2021-11-14T10:13:06.018Z"
   },
   {
    "duration": 272,
    "start_time": "2021-11-14T10:13:06.024Z"
   },
   {
    "duration": 4,
    "start_time": "2021-11-14T10:13:06.298Z"
   },
   {
    "duration": 228,
    "start_time": "2021-11-14T10:13:06.304Z"
   },
   {
    "duration": 11,
    "start_time": "2021-11-14T10:13:06.534Z"
   },
   {
    "duration": 14,
    "start_time": "2021-11-14T10:13:06.547Z"
   },
   {
    "duration": 11,
    "start_time": "2021-11-14T10:13:06.563Z"
   },
   {
    "duration": 348,
    "start_time": "2021-11-14T10:13:06.575Z"
   },
   {
    "duration": 20,
    "start_time": "2021-11-14T10:13:06.925Z"
   },
   {
    "duration": 1730,
    "start_time": "2021-11-14T10:17:13.766Z"
   },
   {
    "duration": 1776,
    "start_time": "2021-11-14T10:17:28.812Z"
   },
   {
    "duration": 433,
    "start_time": "2021-11-14T10:17:53.620Z"
   },
   {
    "duration": 314,
    "start_time": "2021-11-14T10:18:09.681Z"
   },
   {
    "duration": 288,
    "start_time": "2021-11-14T10:18:20.576Z"
   },
   {
    "duration": 9,
    "start_time": "2021-11-14T10:18:23.763Z"
   },
   {
    "duration": 12,
    "start_time": "2021-11-14T10:18:29.135Z"
   },
   {
    "duration": 5,
    "start_time": "2021-11-14T10:18:44.674Z"
   },
   {
    "duration": 6226,
    "start_time": "2021-11-14T10:18:52.902Z"
   },
   {
    "duration": 12,
    "start_time": "2021-11-14T10:19:03.957Z"
   },
   {
    "duration": 115,
    "start_time": "2021-11-14T10:53:27.927Z"
   },
   {
    "duration": 507,
    "start_time": "2021-11-14T11:00:04.401Z"
   },
   {
    "duration": 1723,
    "start_time": "2021-11-14T11:00:10.227Z"
   },
   {
    "duration": 506,
    "start_time": "2021-11-14T11:00:11.953Z"
   },
   {
    "duration": 195,
    "start_time": "2021-11-14T11:00:12.462Z"
   },
   {
    "duration": 13,
    "start_time": "2021-11-14T11:00:12.659Z"
   },
   {
    "duration": 54,
    "start_time": "2021-11-14T11:00:12.675Z"
   },
   {
    "duration": 27,
    "start_time": "2021-11-14T11:00:12.732Z"
   },
   {
    "duration": 14,
    "start_time": "2021-11-14T11:00:12.762Z"
   },
   {
    "duration": 14,
    "start_time": "2021-11-14T11:00:12.801Z"
   },
   {
    "duration": 6,
    "start_time": "2021-11-14T11:00:12.818Z"
   },
   {
    "duration": 13,
    "start_time": "2021-11-14T11:00:12.827Z"
   },
   {
    "duration": 10,
    "start_time": "2021-11-14T11:00:12.843Z"
   },
   {
    "duration": 44,
    "start_time": "2021-11-14T11:00:12.856Z"
   },
   {
    "duration": 8,
    "start_time": "2021-11-14T11:00:12.904Z"
   },
   {
    "duration": 10,
    "start_time": "2021-11-14T11:00:12.914Z"
   },
   {
    "duration": 15,
    "start_time": "2021-11-14T11:00:12.927Z"
   },
   {
    "duration": 18,
    "start_time": "2021-11-14T11:00:12.945Z"
   },
   {
    "duration": 28,
    "start_time": "2021-11-14T11:00:13.001Z"
   },
   {
    "duration": 13,
    "start_time": "2021-11-14T11:00:13.032Z"
   },
   {
    "duration": 29,
    "start_time": "2021-11-14T11:00:13.048Z"
   },
   {
    "duration": 24,
    "start_time": "2021-11-14T11:00:13.080Z"
   },
   {
    "duration": 37,
    "start_time": "2021-11-14T11:00:13.106Z"
   },
   {
    "duration": 17,
    "start_time": "2021-11-14T11:00:13.145Z"
   },
   {
    "duration": 9,
    "start_time": "2021-11-14T11:00:13.167Z"
   },
   {
    "duration": 58,
    "start_time": "2021-11-14T11:00:13.180Z"
   },
   {
    "duration": 10,
    "start_time": "2021-11-14T11:00:13.241Z"
   },
   {
    "duration": 23,
    "start_time": "2021-11-14T11:00:13.253Z"
   },
   {
    "duration": 54,
    "start_time": "2021-11-14T11:00:13.279Z"
   },
   {
    "duration": 5,
    "start_time": "2021-11-14T11:00:13.336Z"
   },
   {
    "duration": 40,
    "start_time": "2021-11-14T11:00:13.343Z"
   },
   {
    "duration": 8,
    "start_time": "2021-11-14T11:00:13.401Z"
   },
   {
    "duration": 9,
    "start_time": "2021-11-14T11:00:13.412Z"
   },
   {
    "duration": 13,
    "start_time": "2021-11-14T11:00:13.424Z"
   },
   {
    "duration": 9,
    "start_time": "2021-11-14T11:00:13.439Z"
   },
   {
    "duration": 51,
    "start_time": "2021-11-14T11:00:13.451Z"
   },
   {
    "duration": 11,
    "start_time": "2021-11-14T11:00:13.504Z"
   },
   {
    "duration": 275,
    "start_time": "2021-11-14T11:00:15.314Z"
   },
   {
    "duration": 295,
    "start_time": "2021-11-14T11:01:45.675Z"
   },
   {
    "duration": 491,
    "start_time": "2021-11-14T11:03:19.007Z"
   },
   {
    "duration": 6,
    "start_time": "2021-11-14T11:03:23.627Z"
   },
   {
    "duration": 86,
    "start_time": "2021-11-14T11:03:23.640Z"
   },
   {
    "duration": 65,
    "start_time": "2021-11-14T11:03:23.728Z"
   },
   {
    "duration": 10,
    "start_time": "2021-11-14T11:03:23.796Z"
   },
   {
    "duration": 32,
    "start_time": "2021-11-14T11:03:23.809Z"
   },
   {
    "duration": 23,
    "start_time": "2021-11-14T11:03:23.844Z"
   },
   {
    "duration": 17,
    "start_time": "2021-11-14T11:03:23.902Z"
   },
   {
    "duration": 8,
    "start_time": "2021-11-14T11:03:23.921Z"
   },
   {
    "duration": 5,
    "start_time": "2021-11-14T11:03:23.931Z"
   },
   {
    "duration": 10,
    "start_time": "2021-11-14T11:03:23.941Z"
   },
   {
    "duration": 57,
    "start_time": "2021-11-14T11:03:23.955Z"
   },
   {
    "duration": 16,
    "start_time": "2021-11-14T11:03:24.015Z"
   },
   {
    "duration": 12,
    "start_time": "2021-11-14T11:03:24.033Z"
   },
   {
    "duration": 16,
    "start_time": "2021-11-14T11:03:24.047Z"
   },
   {
    "duration": 36,
    "start_time": "2021-11-14T11:03:24.066Z"
   },
   {
    "duration": 24,
    "start_time": "2021-11-14T11:03:24.106Z"
   },
   {
    "duration": 27,
    "start_time": "2021-11-14T11:03:24.133Z"
   },
   {
    "duration": 8,
    "start_time": "2021-11-14T11:03:24.162Z"
   },
   {
    "duration": 48,
    "start_time": "2021-11-14T11:03:24.172Z"
   },
   {
    "duration": 11,
    "start_time": "2021-11-14T11:03:24.223Z"
   },
   {
    "duration": 31,
    "start_time": "2021-11-14T11:03:24.236Z"
   },
   {
    "duration": 38,
    "start_time": "2021-11-14T11:03:24.269Z"
   },
   {
    "duration": 6,
    "start_time": "2021-11-14T11:03:24.309Z"
   },
   {
    "duration": 30,
    "start_time": "2021-11-14T11:03:24.317Z"
   },
   {
    "duration": 10,
    "start_time": "2021-11-14T11:03:24.350Z"
   },
   {
    "duration": 45,
    "start_time": "2021-11-14T11:03:24.362Z"
   },
   {
    "duration": 53,
    "start_time": "2021-11-14T11:03:24.409Z"
   },
   {
    "duration": 6,
    "start_time": "2021-11-14T11:03:24.467Z"
   },
   {
    "duration": 37,
    "start_time": "2021-11-14T11:03:24.476Z"
   },
   {
    "duration": 8,
    "start_time": "2021-11-14T11:03:24.515Z"
   },
   {
    "duration": 10,
    "start_time": "2021-11-14T11:03:24.525Z"
   },
   {
    "duration": 14,
    "start_time": "2021-11-14T11:03:24.537Z"
   },
   {
    "duration": 49,
    "start_time": "2021-11-14T11:03:24.554Z"
   },
   {
    "duration": 6,
    "start_time": "2021-11-14T11:03:24.605Z"
   },
   {
    "duration": 15,
    "start_time": "2021-11-14T11:03:24.613Z"
   },
   {
    "duration": 289,
    "start_time": "2021-11-14T11:03:24.630Z"
   },
   {
    "duration": 15,
    "start_time": "2021-11-14T11:03:24.921Z"
   },
   {
    "duration": 18,
    "start_time": "2021-11-14T11:03:24.938Z"
   },
   {
    "duration": 7965,
    "start_time": "2021-11-14T11:03:24.958Z"
   },
   {
    "duration": 8,
    "start_time": "2021-11-14T11:03:32.926Z"
   },
   {
    "duration": 383,
    "start_time": "2021-11-14T11:03:32.946Z"
   },
   {
    "duration": 10,
    "start_time": "2021-11-14T11:03:33.331Z"
   },
   {
    "duration": 5,
    "start_time": "2021-11-14T11:03:33.343Z"
   },
   {
    "duration": 19,
    "start_time": "2021-11-14T11:03:33.350Z"
   },
   {
    "duration": 45,
    "start_time": "2021-11-14T11:03:33.371Z"
   },
   {
    "duration": 6,
    "start_time": "2021-11-14T11:03:33.418Z"
   },
   {
    "duration": 15,
    "start_time": "2021-11-14T11:03:33.426Z"
   },
   {
    "duration": 59,
    "start_time": "2021-11-14T11:03:33.443Z"
   },
   {
    "duration": 884,
    "start_time": "2021-11-14T11:03:33.504Z"
   },
   {
    "duration": 19,
    "start_time": "2021-11-14T11:03:34.390Z"
   },
   {
    "duration": 399,
    "start_time": "2021-11-14T11:03:43.892Z"
   },
   {
    "duration": 522,
    "start_time": "2021-11-14T11:04:32.974Z"
   },
   {
    "duration": 415,
    "start_time": "2021-11-14T11:04:47.606Z"
   },
   {
    "duration": 442,
    "start_time": "2021-11-14T11:11:49.571Z"
   },
   {
    "duration": 5,
    "start_time": "2021-11-14T11:11:57.363Z"
   },
   {
    "duration": 100,
    "start_time": "2021-11-14T11:11:57.375Z"
   },
   {
    "duration": 71,
    "start_time": "2021-11-14T11:11:57.478Z"
   },
   {
    "duration": 13,
    "start_time": "2021-11-14T11:11:57.553Z"
   },
   {
    "duration": 39,
    "start_time": "2021-11-14T11:11:57.569Z"
   },
   {
    "duration": 28,
    "start_time": "2021-11-14T11:11:57.610Z"
   },
   {
    "duration": 60,
    "start_time": "2021-11-14T11:11:57.641Z"
   },
   {
    "duration": 10,
    "start_time": "2021-11-14T11:11:57.704Z"
   },
   {
    "duration": 7,
    "start_time": "2021-11-14T11:11:57.720Z"
   },
   {
    "duration": 17,
    "start_time": "2021-11-14T11:11:57.731Z"
   },
   {
    "duration": 59,
    "start_time": "2021-11-14T11:11:57.751Z"
   },
   {
    "duration": 7,
    "start_time": "2021-11-14T11:11:57.813Z"
   },
   {
    "duration": 12,
    "start_time": "2021-11-14T11:11:57.823Z"
   },
   {
    "duration": 7,
    "start_time": "2021-11-14T11:11:57.838Z"
   },
   {
    "duration": 12,
    "start_time": "2021-11-14T11:11:57.848Z"
   },
   {
    "duration": 60,
    "start_time": "2021-11-14T11:11:57.863Z"
   },
   {
    "duration": 36,
    "start_time": "2021-11-14T11:11:57.927Z"
   },
   {
    "duration": 34,
    "start_time": "2021-11-14T11:11:57.967Z"
   },
   {
    "duration": 26,
    "start_time": "2021-11-14T11:11:58.003Z"
   },
   {
    "duration": 9,
    "start_time": "2021-11-14T11:11:58.032Z"
   },
   {
    "duration": 33,
    "start_time": "2021-11-14T11:11:58.043Z"
   },
   {
    "duration": 12,
    "start_time": "2021-11-14T11:11:58.100Z"
   },
   {
    "duration": 6,
    "start_time": "2021-11-14T11:11:58.115Z"
   },
   {
    "duration": 27,
    "start_time": "2021-11-14T11:11:58.127Z"
   },
   {
    "duration": 96,
    "start_time": "2021-11-14T11:11:58.159Z"
   },
   {
    "duration": 15,
    "start_time": "2021-11-14T11:11:58.257Z"
   },
   {
    "duration": 48,
    "start_time": "2021-11-14T11:11:58.275Z"
   },
   {
    "duration": 7,
    "start_time": "2021-11-14T11:11:58.326Z"
   },
   {
    "duration": 63,
    "start_time": "2021-11-14T11:11:58.337Z"
   },
   {
    "duration": 11,
    "start_time": "2021-11-14T11:11:58.404Z"
   },
   {
    "duration": 13,
    "start_time": "2021-11-14T11:11:58.418Z"
   },
   {
    "duration": 19,
    "start_time": "2021-11-14T11:11:58.434Z"
   },
   {
    "duration": 55,
    "start_time": "2021-11-14T11:11:58.456Z"
   },
   {
    "duration": 8,
    "start_time": "2021-11-14T11:11:58.513Z"
   },
   {
    "duration": 16,
    "start_time": "2021-11-14T11:11:58.523Z"
   },
   {
    "duration": 442,
    "start_time": "2021-11-14T11:11:58.542Z"
   },
   {
    "duration": 25,
    "start_time": "2021-11-14T11:11:58.987Z"
   },
   {
    "duration": 14,
    "start_time": "2021-11-14T11:11:59.015Z"
   },
   {
    "duration": 7824,
    "start_time": "2021-11-14T11:11:59.032Z"
   },
   {
    "duration": 7,
    "start_time": "2021-11-14T11:12:06.859Z"
   },
   {
    "duration": 331,
    "start_time": "2021-11-14T11:12:06.868Z"
   },
   {
    "duration": 10,
    "start_time": "2021-11-14T11:12:07.201Z"
   },
   {
    "duration": 4,
    "start_time": "2021-11-14T11:12:07.214Z"
   },
   {
    "duration": 19,
    "start_time": "2021-11-14T11:12:07.220Z"
   },
   {
    "duration": 21,
    "start_time": "2021-11-14T11:12:07.242Z"
   },
   {
    "duration": 6,
    "start_time": "2021-11-14T11:12:07.265Z"
   },
   {
    "duration": 11,
    "start_time": "2021-11-14T11:12:07.302Z"
   },
   {
    "duration": 35,
    "start_time": "2021-11-14T11:12:07.315Z"
   },
   {
    "duration": 395,
    "start_time": "2021-11-14T11:12:07.352Z"
   },
   {
    "duration": 26,
    "start_time": "2021-11-14T11:12:07.750Z"
   },
   {
    "duration": 595,
    "start_time": "2021-11-14T11:12:07.779Z"
   },
   {
    "duration": 43,
    "start_time": "2021-11-14T11:12:08.377Z"
   },
   {
    "duration": 492,
    "start_time": "2021-11-14T11:12:08.422Z"
   },
   {
    "duration": 20,
    "start_time": "2021-11-14T11:12:08.917Z"
   },
   {
    "duration": 300,
    "start_time": "2021-11-14T11:12:08.940Z"
   },
   {
    "duration": 35,
    "start_time": "2021-11-14T11:12:09.242Z"
   },
   {
    "duration": 437,
    "start_time": "2021-11-14T11:12:16.109Z"
   },
   {
    "duration": 568,
    "start_time": "2021-11-14T11:13:56.374Z"
   },
   {
    "duration": 932,
    "start_time": "2021-11-14T11:26:09.180Z"
   },
   {
    "duration": 6,
    "start_time": "2021-11-14T11:26:14.532Z"
   },
   {
    "duration": 99,
    "start_time": "2021-11-14T11:26:14.544Z"
   },
   {
    "duration": 72,
    "start_time": "2021-11-14T11:26:14.646Z"
   },
   {
    "duration": 11,
    "start_time": "2021-11-14T11:26:14.721Z"
   },
   {
    "duration": 32,
    "start_time": "2021-11-14T11:26:14.734Z"
   },
   {
    "duration": 52,
    "start_time": "2021-11-14T11:26:14.768Z"
   },
   {
    "duration": 17,
    "start_time": "2021-11-14T11:26:14.822Z"
   },
   {
    "duration": 12,
    "start_time": "2021-11-14T11:26:14.842Z"
   },
   {
    "duration": 49,
    "start_time": "2021-11-14T11:26:14.859Z"
   },
   {
    "duration": 18,
    "start_time": "2021-11-14T11:26:14.911Z"
   },
   {
    "duration": 16,
    "start_time": "2021-11-14T11:26:14.931Z"
   },
   {
    "duration": 10,
    "start_time": "2021-11-14T11:26:14.950Z"
   },
   {
    "duration": 13,
    "start_time": "2021-11-14T11:26:14.963Z"
   },
   {
    "duration": 37,
    "start_time": "2021-11-14T11:26:14.978Z"
   },
   {
    "duration": 29,
    "start_time": "2021-11-14T11:26:15.018Z"
   },
   {
    "duration": 43,
    "start_time": "2021-11-14T11:26:15.049Z"
   },
   {
    "duration": 30,
    "start_time": "2021-11-14T11:26:15.095Z"
   },
   {
    "duration": 19,
    "start_time": "2021-11-14T11:26:15.127Z"
   },
   {
    "duration": 28,
    "start_time": "2021-11-14T11:26:15.149Z"
   },
   {
    "duration": 7,
    "start_time": "2021-11-14T11:26:15.179Z"
   },
   {
    "duration": 41,
    "start_time": "2021-11-14T11:26:15.188Z"
   },
   {
    "duration": 14,
    "start_time": "2021-11-14T11:26:15.231Z"
   },
   {
    "duration": 7,
    "start_time": "2021-11-14T11:26:15.247Z"
   },
   {
    "duration": 57,
    "start_time": "2021-11-14T11:26:15.261Z"
   },
   {
    "duration": 10,
    "start_time": "2021-11-14T11:26:15.323Z"
   },
   {
    "duration": 16,
    "start_time": "2021-11-14T11:26:15.336Z"
   },
   {
    "duration": 65,
    "start_time": "2021-11-14T11:26:15.355Z"
   },
   {
    "duration": 7,
    "start_time": "2021-11-14T11:26:15.422Z"
   },
   {
    "duration": 26,
    "start_time": "2021-11-14T11:26:15.431Z"
   },
   {
    "duration": 8,
    "start_time": "2021-11-14T11:26:15.459Z"
   },
   {
    "duration": 20,
    "start_time": "2021-11-14T11:26:15.502Z"
   },
   {
    "duration": 13,
    "start_time": "2021-11-14T11:26:15.524Z"
   },
   {
    "duration": 10,
    "start_time": "2021-11-14T11:26:15.540Z"
   },
   {
    "duration": 7,
    "start_time": "2021-11-14T11:26:15.552Z"
   },
   {
    "duration": 55,
    "start_time": "2021-11-14T11:26:15.562Z"
   },
   {
    "duration": 286,
    "start_time": "2021-11-14T11:26:15.619Z"
   },
   {
    "duration": 16,
    "start_time": "2021-11-14T11:26:15.908Z"
   },
   {
    "duration": 15,
    "start_time": "2021-11-14T11:26:15.927Z"
   },
   {
    "duration": 7931,
    "start_time": "2021-11-14T11:26:15.945Z"
   },
   {
    "duration": 7,
    "start_time": "2021-11-14T11:26:23.879Z"
   },
   {
    "duration": 326,
    "start_time": "2021-11-14T11:26:23.888Z"
   },
   {
    "duration": 9,
    "start_time": "2021-11-14T11:26:24.217Z"
   },
   {
    "duration": 4,
    "start_time": "2021-11-14T11:26:24.229Z"
   },
   {
    "duration": 16,
    "start_time": "2021-11-14T11:26:24.236Z"
   },
   {
    "duration": 51,
    "start_time": "2021-11-14T11:26:24.254Z"
   },
   {
    "duration": 10,
    "start_time": "2021-11-14T11:26:24.308Z"
   },
   {
    "duration": 20,
    "start_time": "2021-11-14T11:26:24.321Z"
   },
   {
    "duration": 35,
    "start_time": "2021-11-14T11:26:24.344Z"
   },
   {
    "duration": 548,
    "start_time": "2021-11-14T11:26:24.382Z"
   },
   {
    "duration": 21,
    "start_time": "2021-11-14T11:26:24.933Z"
   },
   {
    "duration": 426,
    "start_time": "2021-11-14T11:26:24.957Z"
   },
   {
    "duration": 46,
    "start_time": "2021-11-14T11:26:25.386Z"
   },
   {
    "duration": 387,
    "start_time": "2021-11-14T11:26:25.435Z"
   },
   {
    "duration": 21,
    "start_time": "2021-11-14T11:26:25.824Z"
   },
   {
    "duration": 431,
    "start_time": "2021-11-14T11:26:25.848Z"
   },
   {
    "duration": 61,
    "start_time": "2021-11-14T11:26:26.282Z"
   },
   {
    "duration": 594,
    "start_time": "2021-11-14T11:26:26.346Z"
   },
   {
    "duration": 28,
    "start_time": "2021-11-14T11:26:26.942Z"
   },
   {
    "duration": 48,
    "start_time": "2021-11-14T11:26:26.973Z"
   },
   {
    "duration": 7,
    "start_time": "2021-11-14T11:26:27.024Z"
   },
   {
    "duration": 17,
    "start_time": "2021-11-14T11:26:27.033Z"
   },
   {
    "duration": 406,
    "start_time": "2021-11-14T11:26:27.052Z"
   },
   {
    "duration": 394,
    "start_time": "2021-11-14T11:26:27.461Z"
   },
   {
    "duration": 21,
    "start_time": "2021-11-14T11:26:27.858Z"
   },
   {
    "duration": 537,
    "start_time": "2021-11-14T11:26:27.901Z"
   },
   {
    "duration": 32,
    "start_time": "2021-11-14T11:26:28.441Z"
   },
   {
    "duration": 347,
    "start_time": "2021-11-14T11:26:28.476Z"
   },
   {
    "duration": 5,
    "start_time": "2021-11-14T11:26:28.826Z"
   },
   {
    "duration": 461,
    "start_time": "2021-11-14T11:26:28.839Z"
   },
   {
    "duration": 8,
    "start_time": "2021-11-14T11:26:29.303Z"
   },
   {
    "duration": 406,
    "start_time": "2021-11-14T11:26:29.316Z"
   },
   {
    "duration": 20,
    "start_time": "2021-11-14T11:26:29.725Z"
   },
   {
    "duration": 21,
    "start_time": "2021-11-14T11:26:29.748Z"
   },
   {
    "duration": 15,
    "start_time": "2021-11-14T11:26:29.800Z"
   },
   {
    "duration": 457,
    "start_time": "2021-11-14T11:26:38.344Z"
   },
   {
    "duration": 402,
    "start_time": "2021-11-14T11:27:43.559Z"
   },
   {
    "duration": 365,
    "start_time": "2021-11-14T11:28:37.050Z"
   },
   {
    "duration": 374,
    "start_time": "2021-11-14T11:29:39.442Z"
   },
   {
    "duration": 401,
    "start_time": "2021-11-14T11:29:47.428Z"
   },
   {
    "duration": 355,
    "start_time": "2021-11-14T11:35:51.434Z"
   },
   {
    "duration": 360,
    "start_time": "2021-11-14T11:40:31.671Z"
   },
   {
    "duration": 371,
    "start_time": "2021-11-14T11:41:09.616Z"
   },
   {
    "duration": 546,
    "start_time": "2021-11-14T11:42:03.679Z"
   },
   {
    "duration": 362,
    "start_time": "2021-11-14T11:42:35.327Z"
   },
   {
    "duration": 354,
    "start_time": "2021-11-14T11:44:26.429Z"
   },
   {
    "duration": 329,
    "start_time": "2021-11-14T11:48:16.022Z"
   },
   {
    "duration": 595,
    "start_time": "2021-11-14T11:49:00.272Z"
   },
   {
    "duration": 247,
    "start_time": "2021-11-14T11:51:08.819Z"
   },
   {
    "duration": 336,
    "start_time": "2021-11-14T11:52:00.521Z"
   },
   {
    "duration": 399,
    "start_time": "2021-11-14T11:52:05.655Z"
   },
   {
    "duration": 329,
    "start_time": "2021-11-14T11:53:01.815Z"
   }
  ],
  "colab": {
   "name": "DA+. Сборный проект 1. Шаблон (1).ipynb",
   "provenance": []
  },
  "kernelspec": {
   "display_name": "Python 3 (ipykernel)",
   "language": "python",
   "name": "python3"
  },
  "language_info": {
   "codemirror_mode": {
    "name": "ipython",
    "version": 3
   },
   "file_extension": ".py",
   "mimetype": "text/x-python",
   "name": "python",
   "nbconvert_exporter": "python",
   "pygments_lexer": "ipython3",
   "version": "3.9.7"
  },
  "toc": {
   "base_numbering": 1,
   "nav_menu": {},
   "number_sections": true,
   "sideBar": true,
   "skip_h1_title": true,
   "title_cell": "Оглавление",
   "title_sidebar": "Contents",
   "toc_cell": true,
   "toc_position": {
    "height": "calc(100% - 180px)",
    "left": "10px",
    "top": "150px",
    "width": "375.391px"
   },
   "toc_section_display": true,
   "toc_window_display": true
  }
 },
 "nbformat": 4,
 "nbformat_minor": 1
}
