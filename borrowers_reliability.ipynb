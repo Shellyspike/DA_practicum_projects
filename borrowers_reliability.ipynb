{
 "cells": [
  {
   "cell_type": "markdown",
   "metadata": {
    "toc": true
   },
   "source": [
    "<h1>Оглавление<span class=\"tocSkip\"></span></h1>\n",
    "<div class=\"toc\"><ul class=\"toc-item\"><li><span><a href=\"#Изучение-общей-информации-о-данных\" data-toc-modified-id=\"Изучение-общей-информации-о-данных-1\"><span class=\"toc-item-num\">1&nbsp;&nbsp;</span>Изучение общей информации о данных</a></span></li><li><span><a href=\"#Предобработка-данных\" data-toc-modified-id=\"Предобработка-данных-2\"><span class=\"toc-item-num\">2&nbsp;&nbsp;</span>Предобработка данных</a></span><ul class=\"toc-item\"><li><span><a href=\"#Обработка-пропусков\" data-toc-modified-id=\"Обработка-пропусков-2.1\"><span class=\"toc-item-num\">2.1&nbsp;&nbsp;</span>Обработка пропусков</a></span></li><li><span><a href=\"#Замена-типа-данных\" data-toc-modified-id=\"Замена-типа-данных-2.2\"><span class=\"toc-item-num\">2.2&nbsp;&nbsp;</span>Замена типа данных</a></span></li><li><span><a href=\"#Обработка-дубликатов\" data-toc-modified-id=\"Обработка-дубликатов-2.3\"><span class=\"toc-item-num\">2.3&nbsp;&nbsp;</span>Обработка дубликатов</a></span></li><li><span><a href=\"#Лемматизация\" data-toc-modified-id=\"Лемматизация-2.4\"><span class=\"toc-item-num\">2.4&nbsp;&nbsp;</span>Лемматизация</a></span></li><li><span><a href=\"#Категоризация-данных\" data-toc-modified-id=\"Категоризация-данных-2.5\"><span class=\"toc-item-num\">2.5&nbsp;&nbsp;</span>Категоризация данных</a></span></li></ul></li><li><span><a href=\"#Ответы-на-вопросы\" data-toc-modified-id=\"Ответы-на-вопросы-3\"><span class=\"toc-item-num\">3&nbsp;&nbsp;</span>Ответы на вопросы</a></span></li><li><span><a href=\"#Общий-вывод\" data-toc-modified-id=\"Общий-вывод-4\"><span class=\"toc-item-num\">4&nbsp;&nbsp;</span>Общий вывод</a></span></li></ul></div>"
   ]
  },
  {
   "cell_type": "markdown",
   "metadata": {},
   "source": [
    "# Исследование надёжности заёмщиков\n",
    "\n",
    "Заказчик настоящего исследования — кредитный отдел банка. Требуется разобраться, влияет ли семейное положение и количество детей клиента на факт погашения кредита в срок. \n",
    "\n",
    "Результаты исследования будут учтены при построении модели **кредитного скоринга** — специальной системы, которая оценивает способность потенциального заёмщика вернуть кредит банку.\n",
    "\n",
    "Изучаемые данные содержат статистику о платежеспособности клиентов и представлены датасетом, содержащим следующие столбцы:\n",
    "- children — количество детей в семье\n",
    "- days_employed — общий трудовой стаж в днях\n",
    "- dob_years — возраст клиента в годах\n",
    "- education — уровень образования клиента\n",
    "- education_id — идентификатор уровня образования\n",
    "- family_status — семейное положение\n",
    "- family_status_id — идентификатор семейного положения\n",
    "- gender — пол клиента\n",
    "- income_type — тип занятости\n",
    "- debt — имел ли задолженность по возврату кредитов\n",
    "- total_income — ежемесячный доход\n",
    "- purpose — цель получения кредита\n"
   ]
  },
  {
   "cell_type": "markdown",
   "metadata": {},
   "source": [
    "## Изучение общей информации о данных"
   ]
  },
  {
   "cell_type": "code",
   "execution_count": 1,
   "metadata": {},
   "outputs": [],
   "source": [
    "import pandas as pd\n",
    "df = pd.read_csv('/datasets/data.csv')"
   ]
  },
  {
   "cell_type": "code",
   "execution_count": 2,
   "metadata": {},
   "outputs": [],
   "source": [
    "from pymystem3 import Mystem\n",
    "m = Mystem()"
   ]
  },
  {
   "cell_type": "code",
   "execution_count": 3,
   "metadata": {},
   "outputs": [],
   "source": [
    "from collections import Counter"
   ]
  },
  {
   "cell_type": "markdown",
   "metadata": {},
   "source": [
    "Изучим первые 10 строк таблицы. Согласно документации, датасет содержит следующую информацию о клиентах:\n",
    "* children — количество детей в семье\n",
    "* days_employed — общий трудовой стаж в днях\n",
    "* dob_years — возраст клиента в годах\n",
    "* education — уровень образования клиента\n",
    "* education_id — идентификатор уровня образования\n",
    "* family_status — семейное положение\n",
    "* family_status_id — идентификатор семейного положения\n",
    "* gender — пол клиента\n",
    "* income_type — тип занятости\n",
    "* debt — имел ли задолженность по возврату кредитов\n",
    "* total_income — ежемесячный доход\n",
    "* purpose — цель получения кредита"
   ]
  },
  {
   "cell_type": "code",
   "execution_count": 4,
   "metadata": {},
   "outputs": [
    {
     "data": {
      "text/html": [
       "<div>\n",
       "<style scoped>\n",
       "    .dataframe tbody tr th:only-of-type {\n",
       "        vertical-align: middle;\n",
       "    }\n",
       "\n",
       "    .dataframe tbody tr th {\n",
       "        vertical-align: top;\n",
       "    }\n",
       "\n",
       "    .dataframe thead th {\n",
       "        text-align: right;\n",
       "    }\n",
       "</style>\n",
       "<table border=\"1\" class=\"dataframe\">\n",
       "  <thead>\n",
       "    <tr style=\"text-align: right;\">\n",
       "      <th></th>\n",
       "      <th>children</th>\n",
       "      <th>days_employed</th>\n",
       "      <th>dob_years</th>\n",
       "      <th>education</th>\n",
       "      <th>education_id</th>\n",
       "      <th>family_status</th>\n",
       "      <th>family_status_id</th>\n",
       "      <th>gender</th>\n",
       "      <th>income_type</th>\n",
       "      <th>debt</th>\n",
       "      <th>total_income</th>\n",
       "      <th>purpose</th>\n",
       "    </tr>\n",
       "  </thead>\n",
       "  <tbody>\n",
       "    <tr>\n",
       "      <td>0</td>\n",
       "      <td>1</td>\n",
       "      <td>-8437.673028</td>\n",
       "      <td>42</td>\n",
       "      <td>высшее</td>\n",
       "      <td>0</td>\n",
       "      <td>женат / замужем</td>\n",
       "      <td>0</td>\n",
       "      <td>F</td>\n",
       "      <td>сотрудник</td>\n",
       "      <td>0</td>\n",
       "      <td>253875.639453</td>\n",
       "      <td>покупка жилья</td>\n",
       "    </tr>\n",
       "    <tr>\n",
       "      <td>1</td>\n",
       "      <td>1</td>\n",
       "      <td>-4024.803754</td>\n",
       "      <td>36</td>\n",
       "      <td>среднее</td>\n",
       "      <td>1</td>\n",
       "      <td>женат / замужем</td>\n",
       "      <td>0</td>\n",
       "      <td>F</td>\n",
       "      <td>сотрудник</td>\n",
       "      <td>0</td>\n",
       "      <td>112080.014102</td>\n",
       "      <td>приобретение автомобиля</td>\n",
       "    </tr>\n",
       "    <tr>\n",
       "      <td>2</td>\n",
       "      <td>0</td>\n",
       "      <td>-5623.422610</td>\n",
       "      <td>33</td>\n",
       "      <td>Среднее</td>\n",
       "      <td>1</td>\n",
       "      <td>женат / замужем</td>\n",
       "      <td>0</td>\n",
       "      <td>M</td>\n",
       "      <td>сотрудник</td>\n",
       "      <td>0</td>\n",
       "      <td>145885.952297</td>\n",
       "      <td>покупка жилья</td>\n",
       "    </tr>\n",
       "    <tr>\n",
       "      <td>3</td>\n",
       "      <td>3</td>\n",
       "      <td>-4124.747207</td>\n",
       "      <td>32</td>\n",
       "      <td>среднее</td>\n",
       "      <td>1</td>\n",
       "      <td>женат / замужем</td>\n",
       "      <td>0</td>\n",
       "      <td>M</td>\n",
       "      <td>сотрудник</td>\n",
       "      <td>0</td>\n",
       "      <td>267628.550329</td>\n",
       "      <td>дополнительное образование</td>\n",
       "    </tr>\n",
       "    <tr>\n",
       "      <td>4</td>\n",
       "      <td>0</td>\n",
       "      <td>340266.072047</td>\n",
       "      <td>53</td>\n",
       "      <td>среднее</td>\n",
       "      <td>1</td>\n",
       "      <td>гражданский брак</td>\n",
       "      <td>1</td>\n",
       "      <td>F</td>\n",
       "      <td>пенсионер</td>\n",
       "      <td>0</td>\n",
       "      <td>158616.077870</td>\n",
       "      <td>сыграть свадьбу</td>\n",
       "    </tr>\n",
       "    <tr>\n",
       "      <td>5</td>\n",
       "      <td>0</td>\n",
       "      <td>-926.185831</td>\n",
       "      <td>27</td>\n",
       "      <td>высшее</td>\n",
       "      <td>0</td>\n",
       "      <td>гражданский брак</td>\n",
       "      <td>1</td>\n",
       "      <td>M</td>\n",
       "      <td>компаньон</td>\n",
       "      <td>0</td>\n",
       "      <td>255763.565419</td>\n",
       "      <td>покупка жилья</td>\n",
       "    </tr>\n",
       "    <tr>\n",
       "      <td>6</td>\n",
       "      <td>0</td>\n",
       "      <td>-2879.202052</td>\n",
       "      <td>43</td>\n",
       "      <td>высшее</td>\n",
       "      <td>0</td>\n",
       "      <td>женат / замужем</td>\n",
       "      <td>0</td>\n",
       "      <td>F</td>\n",
       "      <td>компаньон</td>\n",
       "      <td>0</td>\n",
       "      <td>240525.971920</td>\n",
       "      <td>операции с жильем</td>\n",
       "    </tr>\n",
       "    <tr>\n",
       "      <td>7</td>\n",
       "      <td>0</td>\n",
       "      <td>-152.779569</td>\n",
       "      <td>50</td>\n",
       "      <td>СРЕДНЕЕ</td>\n",
       "      <td>1</td>\n",
       "      <td>женат / замужем</td>\n",
       "      <td>0</td>\n",
       "      <td>M</td>\n",
       "      <td>сотрудник</td>\n",
       "      <td>0</td>\n",
       "      <td>135823.934197</td>\n",
       "      <td>образование</td>\n",
       "    </tr>\n",
       "    <tr>\n",
       "      <td>8</td>\n",
       "      <td>2</td>\n",
       "      <td>-6929.865299</td>\n",
       "      <td>35</td>\n",
       "      <td>ВЫСШЕЕ</td>\n",
       "      <td>0</td>\n",
       "      <td>гражданский брак</td>\n",
       "      <td>1</td>\n",
       "      <td>F</td>\n",
       "      <td>сотрудник</td>\n",
       "      <td>0</td>\n",
       "      <td>95856.832424</td>\n",
       "      <td>на проведение свадьбы</td>\n",
       "    </tr>\n",
       "    <tr>\n",
       "      <td>9</td>\n",
       "      <td>0</td>\n",
       "      <td>-2188.756445</td>\n",
       "      <td>41</td>\n",
       "      <td>среднее</td>\n",
       "      <td>1</td>\n",
       "      <td>женат / замужем</td>\n",
       "      <td>0</td>\n",
       "      <td>M</td>\n",
       "      <td>сотрудник</td>\n",
       "      <td>0</td>\n",
       "      <td>144425.938277</td>\n",
       "      <td>покупка жилья для семьи</td>\n",
       "    </tr>\n",
       "  </tbody>\n",
       "</table>\n",
       "</div>"
      ],
      "text/plain": [
       "   children  days_employed  dob_years education  education_id  \\\n",
       "0         1   -8437.673028         42    высшее             0   \n",
       "1         1   -4024.803754         36   среднее             1   \n",
       "2         0   -5623.422610         33   Среднее             1   \n",
       "3         3   -4124.747207         32   среднее             1   \n",
       "4         0  340266.072047         53   среднее             1   \n",
       "5         0    -926.185831         27    высшее             0   \n",
       "6         0   -2879.202052         43    высшее             0   \n",
       "7         0    -152.779569         50   СРЕДНЕЕ             1   \n",
       "8         2   -6929.865299         35    ВЫСШЕЕ             0   \n",
       "9         0   -2188.756445         41   среднее             1   \n",
       "\n",
       "      family_status  family_status_id gender income_type  debt   total_income  \\\n",
       "0   женат / замужем                 0      F   сотрудник     0  253875.639453   \n",
       "1   женат / замужем                 0      F   сотрудник     0  112080.014102   \n",
       "2   женат / замужем                 0      M   сотрудник     0  145885.952297   \n",
       "3   женат / замужем                 0      M   сотрудник     0  267628.550329   \n",
       "4  гражданский брак                 1      F   пенсионер     0  158616.077870   \n",
       "5  гражданский брак                 1      M   компаньон     0  255763.565419   \n",
       "6   женат / замужем                 0      F   компаньон     0  240525.971920   \n",
       "7   женат / замужем                 0      M   сотрудник     0  135823.934197   \n",
       "8  гражданский брак                 1      F   сотрудник     0   95856.832424   \n",
       "9   женат / замужем                 0      M   сотрудник     0  144425.938277   \n",
       "\n",
       "                      purpose  \n",
       "0               покупка жилья  \n",
       "1     приобретение автомобиля  \n",
       "2               покупка жилья  \n",
       "3  дополнительное образование  \n",
       "4             сыграть свадьбу  \n",
       "5               покупка жилья  \n",
       "6           операции с жильем  \n",
       "7                 образование  \n",
       "8       на проведение свадьбы  \n",
       "9     покупка жилья для семьи  "
      ]
     },
     "execution_count": 4,
     "metadata": {},
     "output_type": "execute_result"
    }
   ],
   "source": [
    "df.head(10)"
   ]
  },
  {
   "cell_type": "markdown",
   "metadata": {},
   "source": [
    "Проблемы, связанные с оформлением данных:\n",
    "* отрицательные значения в колонке с трудовым стажем\n",
    "* явно неверные значения в колонке с трудовым стажем 340266 дней - 932 года\n",
    "* различается форматирование текста в строках столбца с данными об образовании\n",
    "* в колонке с ежемесячным доходом и со стажем трудоустройства использован вещественный тип переменных, тогда как более удобным является целочисленный\n",
    "* различаются обозначения цели в случае покупки жилья в колонке с данными о цели получения кредита "
   ]
  },
  {
   "cell_type": "code",
   "execution_count": 5,
   "metadata": {
    "scrolled": true
   },
   "outputs": [
    {
     "name": "stdout",
     "output_type": "stream",
     "text": [
      "<class 'pandas.core.frame.DataFrame'>\n",
      "RangeIndex: 21525 entries, 0 to 21524\n",
      "Data columns (total 12 columns):\n",
      "children            21525 non-null int64\n",
      "days_employed       19351 non-null float64\n",
      "dob_years           21525 non-null int64\n",
      "education           21525 non-null object\n",
      "education_id        21525 non-null int64\n",
      "family_status       21525 non-null object\n",
      "family_status_id    21525 non-null int64\n",
      "gender              21525 non-null object\n",
      "income_type         21525 non-null object\n",
      "debt                21525 non-null int64\n",
      "total_income        19351 non-null float64\n",
      "purpose             21525 non-null object\n",
      "dtypes: float64(2), int64(5), object(5)\n",
      "memory usage: 2.0+ MB\n"
     ]
    }
   ],
   "source": [
    "df.info()"
   ]
  },
  {
   "cell_type": "markdown",
   "metadata": {},
   "source": [
    "Из общей информации видно, что имеются пропуски в данных о трудовом стаже и доходах клиентов. В ходе исследования надо изучить в том числе влияние уровня доходов на факт погашения кредита. Следовательно наличие пропусков может повлиять на результаты исследования. \n",
    "\n",
    "Количество пропусков в столбцах с трудовым стажем и уровнем дохода совпадает. Предварительно можно предположить, что данные о доходах отсутствуют у клиентов, которые ранее не работали."
   ]
  },
  {
   "cell_type": "markdown",
   "metadata": {},
   "source": [
    "**Вывод**"
   ]
  },
  {
   "cell_type": "markdown",
   "metadata": {},
   "source": [
    "Таблица содержит достаточно информации о клиентах банка для проведения анализа и выявления закономерностей в поведении.\n",
    "\n",
    "Однако часть данных пропущена, содержание некоторых столбцов необходимо привести к единому формату, имеются дублирующие друг друга значения. Также требуется устранить ошибки в содержании некоторых строк.\n",
    "\n",
    "Так как неверная информация может повлиять на результаты исследования, датасет надо предварительно обработать."
   ]
  },
  {
   "cell_type": "markdown",
   "metadata": {},
   "source": [
    "## Предобработка данных"
   ]
  },
  {
   "cell_type": "markdown",
   "metadata": {},
   "source": [
    "### Обработка пропусков"
   ]
  },
  {
   "cell_type": "code",
   "execution_count": 6,
   "metadata": {
    "scrolled": true
   },
   "outputs": [
    {
     "data": {
      "text/plain": [
       "children               0\n",
       "days_employed       2174\n",
       "dob_years              0\n",
       "education              0\n",
       "education_id           0\n",
       "family_status          0\n",
       "family_status_id       0\n",
       "gender                 0\n",
       "income_type            0\n",
       "debt                   0\n",
       "total_income        2174\n",
       "purpose                0\n",
       "dtype: int64"
      ]
     },
     "execution_count": 6,
     "metadata": {},
     "output_type": "execute_result"
    }
   ],
   "source": [
    "df.isna().sum()"
   ]
  },
  {
   "cell_type": "markdown",
   "metadata": {},
   "source": [
    "Чтобы проверить предположение о том, что данные о доходе и трудовом стаже пропущены для тех клиентов, которые ранее не работали, отфильтруем данные с пропусками."
   ]
  },
  {
   "cell_type": "code",
   "execution_count": 7,
   "metadata": {
    "scrolled": true
   },
   "outputs": [
    {
     "data": {
      "text/html": [
       "<div>\n",
       "<style scoped>\n",
       "    .dataframe tbody tr th:only-of-type {\n",
       "        vertical-align: middle;\n",
       "    }\n",
       "\n",
       "    .dataframe tbody tr th {\n",
       "        vertical-align: top;\n",
       "    }\n",
       "\n",
       "    .dataframe thead th {\n",
       "        text-align: right;\n",
       "    }\n",
       "</style>\n",
       "<table border=\"1\" class=\"dataframe\">\n",
       "  <thead>\n",
       "    <tr style=\"text-align: right;\">\n",
       "      <th></th>\n",
       "      <th>children</th>\n",
       "      <th>days_employed</th>\n",
       "      <th>dob_years</th>\n",
       "      <th>education</th>\n",
       "      <th>education_id</th>\n",
       "      <th>family_status</th>\n",
       "      <th>family_status_id</th>\n",
       "      <th>gender</th>\n",
       "      <th>income_type</th>\n",
       "      <th>debt</th>\n",
       "      <th>total_income</th>\n",
       "      <th>purpose</th>\n",
       "    </tr>\n",
       "  </thead>\n",
       "  <tbody>\n",
       "    <tr>\n",
       "      <td>12</td>\n",
       "      <td>0</td>\n",
       "      <td>NaN</td>\n",
       "      <td>65</td>\n",
       "      <td>среднее</td>\n",
       "      <td>1</td>\n",
       "      <td>гражданский брак</td>\n",
       "      <td>1</td>\n",
       "      <td>M</td>\n",
       "      <td>пенсионер</td>\n",
       "      <td>0</td>\n",
       "      <td>NaN</td>\n",
       "      <td>сыграть свадьбу</td>\n",
       "    </tr>\n",
       "    <tr>\n",
       "      <td>26</td>\n",
       "      <td>0</td>\n",
       "      <td>NaN</td>\n",
       "      <td>41</td>\n",
       "      <td>среднее</td>\n",
       "      <td>1</td>\n",
       "      <td>женат / замужем</td>\n",
       "      <td>0</td>\n",
       "      <td>M</td>\n",
       "      <td>госслужащий</td>\n",
       "      <td>0</td>\n",
       "      <td>NaN</td>\n",
       "      <td>образование</td>\n",
       "    </tr>\n",
       "    <tr>\n",
       "      <td>29</td>\n",
       "      <td>0</td>\n",
       "      <td>NaN</td>\n",
       "      <td>63</td>\n",
       "      <td>среднее</td>\n",
       "      <td>1</td>\n",
       "      <td>Не женат / не замужем</td>\n",
       "      <td>4</td>\n",
       "      <td>F</td>\n",
       "      <td>пенсионер</td>\n",
       "      <td>0</td>\n",
       "      <td>NaN</td>\n",
       "      <td>строительство жилой недвижимости</td>\n",
       "    </tr>\n",
       "    <tr>\n",
       "      <td>41</td>\n",
       "      <td>0</td>\n",
       "      <td>NaN</td>\n",
       "      <td>50</td>\n",
       "      <td>среднее</td>\n",
       "      <td>1</td>\n",
       "      <td>женат / замужем</td>\n",
       "      <td>0</td>\n",
       "      <td>F</td>\n",
       "      <td>госслужащий</td>\n",
       "      <td>0</td>\n",
       "      <td>NaN</td>\n",
       "      <td>сделка с подержанным автомобилем</td>\n",
       "    </tr>\n",
       "    <tr>\n",
       "      <td>55</td>\n",
       "      <td>0</td>\n",
       "      <td>NaN</td>\n",
       "      <td>54</td>\n",
       "      <td>среднее</td>\n",
       "      <td>1</td>\n",
       "      <td>гражданский брак</td>\n",
       "      <td>1</td>\n",
       "      <td>F</td>\n",
       "      <td>пенсионер</td>\n",
       "      <td>1</td>\n",
       "      <td>NaN</td>\n",
       "      <td>сыграть свадьбу</td>\n",
       "    </tr>\n",
       "  </tbody>\n",
       "</table>\n",
       "</div>"
      ],
      "text/plain": [
       "    children  days_employed  dob_years education  education_id  \\\n",
       "12         0            NaN         65   среднее             1   \n",
       "26         0            NaN         41   среднее             1   \n",
       "29         0            NaN         63   среднее             1   \n",
       "41         0            NaN         50   среднее             1   \n",
       "55         0            NaN         54   среднее             1   \n",
       "\n",
       "            family_status  family_status_id gender  income_type  debt  \\\n",
       "12       гражданский брак                 1      M    пенсионер     0   \n",
       "26        женат / замужем                 0      M  госслужащий     0   \n",
       "29  Не женат / не замужем                 4      F    пенсионер     0   \n",
       "41        женат / замужем                 0      F  госслужащий     0   \n",
       "55       гражданский брак                 1      F    пенсионер     1   \n",
       "\n",
       "    total_income                           purpose  \n",
       "12           NaN                   сыграть свадьбу  \n",
       "26           NaN                       образование  \n",
       "29           NaN  строительство жилой недвижимости  \n",
       "41           NaN  сделка с подержанным автомобилем  \n",
       "55           NaN                   сыграть свадьбу  "
      ]
     },
     "execution_count": 7,
     "metadata": {},
     "output_type": "execute_result"
    }
   ],
   "source": [
    "df.loc[df['days_employed'].isna()].head()"
   ]
  },
  {
   "cell_type": "markdown",
   "metadata": {},
   "source": [
    "Видно, что данные о стаже и доходе не занесены в одних и тех же строках. Посчитаем, совпадает ли количество таких строк с общим количеством пропусков."
   ]
  },
  {
   "cell_type": "code",
   "execution_count": 8,
   "metadata": {},
   "outputs": [
    {
     "data": {
      "text/plain": [
       "2174"
      ]
     },
     "execution_count": 8,
     "metadata": {},
     "output_type": "execute_result"
    }
   ],
   "source": [
    "len(df.loc[df['days_employed'].isna()&df['total_income'].isna()])"
   ]
  },
  {
   "cell_type": "markdown",
   "metadata": {},
   "source": [
    "Предположение о том, что данные не занесены для какой-либо конкретной категории клиентов не подтверждается. В таблице представлены клиенты разных возрастов. Для некоторых в в столбце с типом занятости указано, что они в настоящее время трудоустроены. \n",
    "Однако данные о доходе и стаже пропущены в одних и тех же строках, т.е. закономерность заключается в том, что эти ячейки не заполняли в одинаковых случаях. Возможно это был один и тот же ответственный за заполнение таблицы работник.\n",
    "\n",
    "Можно заполнить данные о доходе и о стаже медианным значением."
   ]
  },
  {
   "cell_type": "markdown",
   "metadata": {},
   "source": [
    "Посчитаем медианное значение для стажа работы. Поскольку в столбце встречаются значения, явно не соответствующие действительности, среднее значение не подойдет. Так как в части ячеек указаны отрицательные значения, будем брать значение ячейки по модулю.\n",
    "\n",
    "Выведем гистограмму для изучения распределения значений."
   ]
  },
  {
   "cell_type": "code",
   "execution_count": 9,
   "metadata": {
    "scrolled": true
   },
   "outputs": [
    {
     "data": {
      "text/plain": [
       "<matplotlib.axes._subplots.AxesSubplot at 0x7f6526cb65d0>"
      ]
     },
     "execution_count": 9,
     "metadata": {},
     "output_type": "execute_result"
    },
    {
     "data": {
      "image/png": "[encoded data removed]",
      "text/plain": [
       "<Figure size 432x288 with 1 Axes>"
      ]
     },
     "metadata": {
      "needs_background": "light"
     },
     "output_type": "display_data"
    }
   ],
   "source": [
    "some_df = pd.read_csv('/datasets/data.csv')\n",
    "some_df.days_employed.hist(bins=50)"
   ]
  },
  {
   "cell_type": "markdown",
   "metadata": {},
   "source": [
    "Если предположить, что максимальный доступный человеку трудовой стаж составляет 70 лет, то максимальное количество дней стажа составит примерно 25500. \n",
    "Т.к. в таблице есть значения в сотнях тысяч дней, можно предположить, что в части случаев при занесении перед значением ставили знак тире (минус), а в других случаях - лишний 0."
   ]
  },
  {
   "cell_type": "markdown",
   "metadata": {},
   "source": [
    "Посчитаем медиану только для значений меньше 25500 дней."
   ]
  },
  {
   "cell_type": "code",
   "execution_count": 10,
   "metadata": {},
   "outputs": [
    {
     "data": {
      "text/plain": [
       "1630.0193809778216"
      ]
     },
     "execution_count": 10,
     "metadata": {},
     "output_type": "execute_result"
    }
   ],
   "source": [
    "days_emloyed_median = df.loc[df['days_employed']<25500, 'days_employed'].abs().median()\n",
    "days_emloyed_median"
   ]
  },
  {
   "cell_type": "markdown",
   "metadata": {},
   "source": [
    "Заполним пропуски медианным значением и посчитаем количество пропусков."
   ]
  },
  {
   "cell_type": "code",
   "execution_count": 11,
   "metadata": {
    "scrolled": false
   },
   "outputs": [
    {
     "data": {
      "text/plain": [
       "0"
      ]
     },
     "execution_count": 11,
     "metadata": {},
     "output_type": "execute_result"
    }
   ],
   "source": [
    "df.loc[df['days_employed'].isna(), 'days_employed'] = days_emloyed_median\n",
    "df['days_employed'].isna().sum()"
   ]
  },
  {
   "cell_type": "markdown",
   "metadata": {},
   "source": [
    "Теперь необходимо заполнить пропуски в столбце с заработком. Посчитаем медианное значение дохода отдельно для пенсионеров и отдельно для клиентов среднего возраста и заполним пропуски."
   ]
  },
  {
   "cell_type": "code",
   "execution_count": 12,
   "metadata": {},
   "outputs": [
    {
     "data": {
      "text/plain": [
       "118514.48641164352"
      ]
     },
     "execution_count": 12,
     "metadata": {},
     "output_type": "execute_result"
    }
   ],
   "source": [
    "retiree_data = df.loc[df['income_type']=='пенсионер']\n",
    "retiree_data_income_median = retiree_data['total_income'].median()\n",
    "retiree_data_income_median"
   ]
  },
  {
   "cell_type": "code",
   "execution_count": 13,
   "metadata": {
    "scrolled": true
   },
   "outputs": [
    {
     "data": {
      "text/plain": [
       "151134.59347874188"
      ]
     },
     "execution_count": 13,
     "metadata": {},
     "output_type": "execute_result"
    }
   ],
   "source": [
    "middleaged_data = df.loc[df['income_type']!='пенсионер']\n",
    "middleaged_data_income_median = middleaged_data['total_income'].median()\n",
    "middleaged_data_income_median"
   ]
  },
  {
   "cell_type": "markdown",
   "metadata": {},
   "source": [
    "Считаю нужным оставить обе полученных переменных, т.к. разброс в 30000 руб. может быть существенным для банка при принятии решения о выдаче кредита.\n",
    "Заполняем пропуски отдельно для пенсионеров и отдельно для клиентов среднего возраста."
   ]
  },
  {
   "cell_type": "code",
   "execution_count": 14,
   "metadata": {},
   "outputs": [],
   "source": [
    "df.loc[(df['total_income'].isna()&(df['income_type']=='пенсионер')), 'total_income'] = retiree_data_income_median\n",
    "df.loc[(df['total_income'].isna()&(df['income_type']!='пенсионер')), 'total_income'] = middleaged_data_income_median"
   ]
  },
  {
   "cell_type": "markdown",
   "metadata": {},
   "source": [
    "Проверим количество пропусков в таблице после заполнения."
   ]
  },
  {
   "cell_type": "code",
   "execution_count": 15,
   "metadata": {},
   "outputs": [
    {
     "name": "stdout",
     "output_type": "stream",
     "text": [
      "<class 'pandas.core.frame.DataFrame'>\n",
      "RangeIndex: 21525 entries, 0 to 21524\n",
      "Data columns (total 12 columns):\n",
      "children            21525 non-null int64\n",
      "days_employed       21525 non-null float64\n",
      "dob_years           21525 non-null int64\n",
      "education           21525 non-null object\n",
      "education_id        21525 non-null int64\n",
      "family_status       21525 non-null object\n",
      "family_status_id    21525 non-null int64\n",
      "gender              21525 non-null object\n",
      "income_type         21525 non-null object\n",
      "debt                21525 non-null int64\n",
      "total_income        21525 non-null float64\n",
      "purpose             21525 non-null object\n",
      "dtypes: float64(2), int64(5), object(5)\n",
      "memory usage: 2.0+ MB\n"
     ]
    }
   ],
   "source": [
    "df.info()"
   ]
  },
  {
   "cell_type": "markdown",
   "metadata": {},
   "source": [
    "**Вывод**"
   ]
  },
  {
   "cell_type": "markdown",
   "metadata": {},
   "source": [
    "Пропуски в таблице встречаются в одних и тех же строках. Можно предположить, что они появились из-за ошибки заполнения. Поэтому пропуски были заполнены медианным значением о стаже работы и медианным значением о доходе (в последнем случае с разбивкой по возрастным группам)."
   ]
  },
  {
   "cell_type": "markdown",
   "metadata": {},
   "source": [
    "### Замена типа данных"
   ]
  },
  {
   "cell_type": "markdown",
   "metadata": {},
   "source": [
    "Данные в колонках о стаже и доходе заполнены вещественными переменными, которые выглядят громоздко. Значение после запятой не должно повлиять на результаты анализа. Заменим данные в этих столбцах на целочисленные переменные.\n",
    "\n",
    "В колонке с данными об образовании использованы разные регистры. Приведем все значения в этом столбце к нижнему регистру."
   ]
  },
  {
   "cell_type": "markdown",
   "metadata": {},
   "source": [
    "Колонка о стаже: изменим тип переменных, а в ячейках, где стаж указан с отрицательным значением, изменим его на положительное."
   ]
  },
  {
   "cell_type": "code",
   "execution_count": 16,
   "metadata": {},
   "outputs": [],
   "source": [
    "df['days_employed'] = df['days_employed'].astype('int').abs()"
   ]
  },
  {
   "cell_type": "markdown",
   "metadata": {},
   "source": [
    "Колонка о доходе"
   ]
  },
  {
   "cell_type": "code",
   "execution_count": 17,
   "metadata": {},
   "outputs": [],
   "source": [
    "df['total_income'] = df['total_income'].astype('int')"
   ]
  },
  {
   "cell_type": "markdown",
   "metadata": {},
   "source": [
    "Колонка с данными об образовании."
   ]
  },
  {
   "cell_type": "code",
   "execution_count": 18,
   "metadata": {},
   "outputs": [],
   "source": [
    "df['education'] = df['education'].str.lower()"
   ]
  },
  {
   "cell_type": "markdown",
   "metadata": {},
   "source": [
    "Проверим также на наличие ошибок колонку с данными о детях."
   ]
  },
  {
   "cell_type": "code",
   "execution_count": 19,
   "metadata": {},
   "outputs": [
    {
     "data": {
      "text/plain": [
       " 0     14149\n",
       " 1      4818\n",
       " 2      2055\n",
       " 3       330\n",
       " 20       76\n",
       "-1        47\n",
       " 4        41\n",
       " 5         9\n",
       "Name: children, dtype: int64"
      ]
     },
     "execution_count": 19,
     "metadata": {},
     "output_type": "execute_result"
    }
   ],
   "source": [
    "df['children'].value_counts()"
   ]
  },
  {
   "cell_type": "markdown",
   "metadata": {},
   "source": [
    "Требуется убрать - в 47 случаях. Также в 76 случаях указано 20 детей. Попробуем проверить строки таблицы с этим значением."
   ]
  },
  {
   "cell_type": "code",
   "execution_count": 20,
   "metadata": {
    "scrolled": true
   },
   "outputs": [
    {
     "data": {
      "text/html": [
       "<div>\n",
       "<style scoped>\n",
       "    .dataframe tbody tr th:only-of-type {\n",
       "        vertical-align: middle;\n",
       "    }\n",
       "\n",
       "    .dataframe tbody tr th {\n",
       "        vertical-align: top;\n",
       "    }\n",
       "\n",
       "    .dataframe thead th {\n",
       "        text-align: right;\n",
       "    }\n",
       "</style>\n",
       "<table border=\"1\" class=\"dataframe\">\n",
       "  <thead>\n",
       "    <tr style=\"text-align: right;\">\n",
       "      <th></th>\n",
       "      <th>children</th>\n",
       "      <th>days_employed</th>\n",
       "      <th>dob_years</th>\n",
       "      <th>education</th>\n",
       "      <th>education_id</th>\n",
       "      <th>family_status</th>\n",
       "      <th>family_status_id</th>\n",
       "      <th>gender</th>\n",
       "      <th>income_type</th>\n",
       "      <th>debt</th>\n",
       "      <th>total_income</th>\n",
       "      <th>purpose</th>\n",
       "    </tr>\n",
       "  </thead>\n",
       "  <tbody>\n",
       "    <tr>\n",
       "      <td>606</td>\n",
       "      <td>20</td>\n",
       "      <td>880</td>\n",
       "      <td>21</td>\n",
       "      <td>среднее</td>\n",
       "      <td>1</td>\n",
       "      <td>женат / замужем</td>\n",
       "      <td>0</td>\n",
       "      <td>M</td>\n",
       "      <td>компаньон</td>\n",
       "      <td>0</td>\n",
       "      <td>145334</td>\n",
       "      <td>покупка жилья</td>\n",
       "    </tr>\n",
       "    <tr>\n",
       "      <td>720</td>\n",
       "      <td>20</td>\n",
       "      <td>855</td>\n",
       "      <td>44</td>\n",
       "      <td>среднее</td>\n",
       "      <td>1</td>\n",
       "      <td>женат / замужем</td>\n",
       "      <td>0</td>\n",
       "      <td>F</td>\n",
       "      <td>компаньон</td>\n",
       "      <td>0</td>\n",
       "      <td>112998</td>\n",
       "      <td>покупка недвижимости</td>\n",
       "    </tr>\n",
       "    <tr>\n",
       "      <td>1074</td>\n",
       "      <td>20</td>\n",
       "      <td>3310</td>\n",
       "      <td>56</td>\n",
       "      <td>среднее</td>\n",
       "      <td>1</td>\n",
       "      <td>женат / замужем</td>\n",
       "      <td>0</td>\n",
       "      <td>F</td>\n",
       "      <td>сотрудник</td>\n",
       "      <td>1</td>\n",
       "      <td>229518</td>\n",
       "      <td>получение образования</td>\n",
       "    </tr>\n",
       "    <tr>\n",
       "      <td>2510</td>\n",
       "      <td>20</td>\n",
       "      <td>2714</td>\n",
       "      <td>59</td>\n",
       "      <td>высшее</td>\n",
       "      <td>0</td>\n",
       "      <td>вдовец / вдова</td>\n",
       "      <td>2</td>\n",
       "      <td>F</td>\n",
       "      <td>сотрудник</td>\n",
       "      <td>0</td>\n",
       "      <td>264474</td>\n",
       "      <td>операции с коммерческой недвижимостью</td>\n",
       "    </tr>\n",
       "    <tr>\n",
       "      <td>2941</td>\n",
       "      <td>20</td>\n",
       "      <td>2161</td>\n",
       "      <td>0</td>\n",
       "      <td>среднее</td>\n",
       "      <td>1</td>\n",
       "      <td>женат / замужем</td>\n",
       "      <td>0</td>\n",
       "      <td>F</td>\n",
       "      <td>сотрудник</td>\n",
       "      <td>0</td>\n",
       "      <td>199739</td>\n",
       "      <td>на покупку автомобиля</td>\n",
       "    </tr>\n",
       "  </tbody>\n",
       "</table>\n",
       "</div>"
      ],
      "text/plain": [
       "      children  days_employed  dob_years education  education_id  \\\n",
       "606         20            880         21   среднее             1   \n",
       "720         20            855         44   среднее             1   \n",
       "1074        20           3310         56   среднее             1   \n",
       "2510        20           2714         59    высшее             0   \n",
       "2941        20           2161          0   среднее             1   \n",
       "\n",
       "        family_status  family_status_id gender income_type  debt  \\\n",
       "606   женат / замужем                 0      M   компаньон     0   \n",
       "720   женат / замужем                 0      F   компаньон     0   \n",
       "1074  женат / замужем                 0      F   сотрудник     1   \n",
       "2510   вдовец / вдова                 2      F   сотрудник     0   \n",
       "2941  женат / замужем                 0      F   сотрудник     0   \n",
       "\n",
       "      total_income                                purpose  \n",
       "606         145334                          покупка жилья  \n",
       "720         112998                   покупка недвижимости  \n",
       "1074        229518                  получение образования  \n",
       "2510        264474  операции с коммерческой недвижимостью  \n",
       "2941        199739                  на покупку автомобиля  "
      ]
     },
     "execution_count": 20,
     "metadata": {},
     "output_type": "execute_result"
    }
   ],
   "source": [
    "df.loc[df['children']==20].head()"
   ]
  },
  {
   "cell_type": "markdown",
   "metadata": {},
   "source": [
    "Так как здесь явно допущена ошибка, а 65 человек с 20 детьми могут повлиять на результаты для группы многодетных, заменим 20 детей на 2 для этой группы. \n",
    "\n",
    "Остается исправить отрицательные значения в колонке."
   ]
  },
  {
   "cell_type": "code",
   "execution_count": 21,
   "metadata": {},
   "outputs": [],
   "source": [
    "df.loc[(df['children']==20), 'children'] = 2"
   ]
  },
  {
   "cell_type": "code",
   "execution_count": 22,
   "metadata": {
    "scrolled": true
   },
   "outputs": [
    {
     "data": {
      "text/plain": [
       " 0    14149\n",
       " 1     4818\n",
       " 2     2131\n",
       " 3      330\n",
       "-1       47\n",
       " 4       41\n",
       " 5        9\n",
       "Name: children, dtype: int64"
      ]
     },
     "execution_count": 22,
     "metadata": {},
     "output_type": "execute_result"
    }
   ],
   "source": [
    "df['children'].value_counts()"
   ]
  },
  {
   "cell_type": "markdown",
   "metadata": {},
   "source": [
    "Остается исправить отрицательные значения в колонке."
   ]
  },
  {
   "cell_type": "code",
   "execution_count": 23,
   "metadata": {},
   "outputs": [],
   "source": [
    "df['children'] = df['children'].abs()"
   ]
  },
  {
   "cell_type": "markdown",
   "metadata": {},
   "source": [
    "Проверим таблицу после изменений."
   ]
  },
  {
   "cell_type": "code",
   "execution_count": 24,
   "metadata": {
    "scrolled": true
   },
   "outputs": [
    {
     "data": {
      "text/html": [
       "<div>\n",
       "<style scoped>\n",
       "    .dataframe tbody tr th:only-of-type {\n",
       "        vertical-align: middle;\n",
       "    }\n",
       "\n",
       "    .dataframe tbody tr th {\n",
       "        vertical-align: top;\n",
       "    }\n",
       "\n",
       "    .dataframe thead th {\n",
       "        text-align: right;\n",
       "    }\n",
       "</style>\n",
       "<table border=\"1\" class=\"dataframe\">\n",
       "  <thead>\n",
       "    <tr style=\"text-align: right;\">\n",
       "      <th></th>\n",
       "      <th>children</th>\n",
       "      <th>days_employed</th>\n",
       "      <th>dob_years</th>\n",
       "      <th>education</th>\n",
       "      <th>education_id</th>\n",
       "      <th>family_status</th>\n",
       "      <th>family_status_id</th>\n",
       "      <th>gender</th>\n",
       "      <th>income_type</th>\n",
       "      <th>debt</th>\n",
       "      <th>total_income</th>\n",
       "      <th>purpose</th>\n",
       "    </tr>\n",
       "  </thead>\n",
       "  <tbody>\n",
       "    <tr>\n",
       "      <td>0</td>\n",
       "      <td>1</td>\n",
       "      <td>8437</td>\n",
       "      <td>42</td>\n",
       "      <td>высшее</td>\n",
       "      <td>0</td>\n",
       "      <td>женат / замужем</td>\n",
       "      <td>0</td>\n",
       "      <td>F</td>\n",
       "      <td>сотрудник</td>\n",
       "      <td>0</td>\n",
       "      <td>253875</td>\n",
       "      <td>покупка жилья</td>\n",
       "    </tr>\n",
       "    <tr>\n",
       "      <td>1</td>\n",
       "      <td>1</td>\n",
       "      <td>4024</td>\n",
       "      <td>36</td>\n",
       "      <td>среднее</td>\n",
       "      <td>1</td>\n",
       "      <td>женат / замужем</td>\n",
       "      <td>0</td>\n",
       "      <td>F</td>\n",
       "      <td>сотрудник</td>\n",
       "      <td>0</td>\n",
       "      <td>112080</td>\n",
       "      <td>приобретение автомобиля</td>\n",
       "    </tr>\n",
       "    <tr>\n",
       "      <td>2</td>\n",
       "      <td>0</td>\n",
       "      <td>5623</td>\n",
       "      <td>33</td>\n",
       "      <td>среднее</td>\n",
       "      <td>1</td>\n",
       "      <td>женат / замужем</td>\n",
       "      <td>0</td>\n",
       "      <td>M</td>\n",
       "      <td>сотрудник</td>\n",
       "      <td>0</td>\n",
       "      <td>145885</td>\n",
       "      <td>покупка жилья</td>\n",
       "    </tr>\n",
       "    <tr>\n",
       "      <td>3</td>\n",
       "      <td>3</td>\n",
       "      <td>4124</td>\n",
       "      <td>32</td>\n",
       "      <td>среднее</td>\n",
       "      <td>1</td>\n",
       "      <td>женат / замужем</td>\n",
       "      <td>0</td>\n",
       "      <td>M</td>\n",
       "      <td>сотрудник</td>\n",
       "      <td>0</td>\n",
       "      <td>267628</td>\n",
       "      <td>дополнительное образование</td>\n",
       "    </tr>\n",
       "    <tr>\n",
       "      <td>4</td>\n",
       "      <td>0</td>\n",
       "      <td>340266</td>\n",
       "      <td>53</td>\n",
       "      <td>среднее</td>\n",
       "      <td>1</td>\n",
       "      <td>гражданский брак</td>\n",
       "      <td>1</td>\n",
       "      <td>F</td>\n",
       "      <td>пенсионер</td>\n",
       "      <td>0</td>\n",
       "      <td>158616</td>\n",
       "      <td>сыграть свадьбу</td>\n",
       "    </tr>\n",
       "  </tbody>\n",
       "</table>\n",
       "</div>"
      ],
      "text/plain": [
       "   children  days_employed  dob_years education  education_id  \\\n",
       "0         1           8437         42    высшее             0   \n",
       "1         1           4024         36   среднее             1   \n",
       "2         0           5623         33   среднее             1   \n",
       "3         3           4124         32   среднее             1   \n",
       "4         0         340266         53   среднее             1   \n",
       "\n",
       "      family_status  family_status_id gender income_type  debt  total_income  \\\n",
       "0   женат / замужем                 0      F   сотрудник     0        253875   \n",
       "1   женат / замужем                 0      F   сотрудник     0        112080   \n",
       "2   женат / замужем                 0      M   сотрудник     0        145885   \n",
       "3   женат / замужем                 0      M   сотрудник     0        267628   \n",
       "4  гражданский брак                 1      F   пенсионер     0        158616   \n",
       "\n",
       "                      purpose  \n",
       "0               покупка жилья  \n",
       "1     приобретение автомобиля  \n",
       "2               покупка жилья  \n",
       "3  дополнительное образование  \n",
       "4             сыграть свадьбу  "
      ]
     },
     "execution_count": 24,
     "metadata": {},
     "output_type": "execute_result"
    }
   ],
   "source": [
    "df.head()"
   ]
  },
  {
   "cell_type": "markdown",
   "metadata": {},
   "source": [
    "**Вывод**"
   ]
  },
  {
   "cell_type": "markdown",
   "metadata": {},
   "source": [
    "После изменения типа переменных данные в колонках о доходе, трудовом стаже и об образовании выглядят более легкими для восприятия. Также исправлены данные в колонке о количестве детей."
   ]
  },
  {
   "cell_type": "markdown",
   "metadata": {},
   "source": [
    "### Обработка дубликатов"
   ]
  },
  {
   "cell_type": "markdown",
   "metadata": {},
   "source": [
    "Сначала выясним количество дубликатов для всей таблицы."
   ]
  },
  {
   "cell_type": "code",
   "execution_count": 25,
   "metadata": {
    "scrolled": true
   },
   "outputs": [
    {
     "data": {
      "text/plain": [
       "71"
      ]
     },
     "execution_count": 25,
     "metadata": {},
     "output_type": "execute_result"
    }
   ],
   "source": [
    "df.duplicated().sum()"
   ]
  },
  {
   "cell_type": "markdown",
   "metadata": {},
   "source": [
    "Удалим явные дубликаты и проверим результат применения метода."
   ]
  },
  {
   "cell_type": "code",
   "execution_count": 26,
   "metadata": {},
   "outputs": [
    {
     "data": {
      "text/plain": [
       "0"
      ]
     },
     "execution_count": 26,
     "metadata": {},
     "output_type": "execute_result"
    }
   ],
   "source": [
    "df = df.drop_duplicates().reset_index(drop=True)\n",
    "df.duplicated().sum()"
   ]
  },
  {
   "cell_type": "markdown",
   "metadata": {},
   "source": [
    "Для поиска неявных дубликатов используем столбец с данными о цели кредита. Проверим уникальные значения столбца."
   ]
  },
  {
   "cell_type": "code",
   "execution_count": 27,
   "metadata": {},
   "outputs": [
    {
     "data": {
      "text/plain": [
       "array(['покупка жилья', 'приобретение автомобиля',\n",
       "       'дополнительное образование', 'сыграть свадьбу',\n",
       "       'операции с жильем', 'образование', 'на проведение свадьбы',\n",
       "       'покупка жилья для семьи', 'покупка недвижимости',\n",
       "       'покупка коммерческой недвижимости', 'покупка жилой недвижимости',\n",
       "       'строительство собственной недвижимости', 'недвижимость',\n",
       "       'строительство недвижимости', 'на покупку подержанного автомобиля',\n",
       "       'на покупку своего автомобиля',\n",
       "       'операции с коммерческой недвижимостью',\n",
       "       'строительство жилой недвижимости', 'жилье',\n",
       "       'операции со своей недвижимостью', 'автомобили',\n",
       "       'заняться образованием', 'сделка с подержанным автомобилем',\n",
       "       'получение образования', 'автомобиль', 'свадьба',\n",
       "       'получение дополнительного образования', 'покупка своего жилья',\n",
       "       'операции с недвижимостью', 'получение высшего образования',\n",
       "       'свой автомобиль', 'сделка с автомобилем',\n",
       "       'профильное образование', 'высшее образование',\n",
       "       'покупка жилья для сдачи', 'на покупку автомобиля', 'ремонт жилью',\n",
       "       'заняться высшим образованием'], dtype=object)"
      ]
     },
     "execution_count": 27,
     "metadata": {},
     "output_type": "execute_result"
    }
   ],
   "source": [
    "df['purpose'].unique()"
   ]
  },
  {
   "cell_type": "markdown",
   "metadata": {},
   "source": [
    "**Вывод**"
   ]
  },
  {
   "cell_type": "markdown",
   "metadata": {},
   "source": [
    "Для таблицы размером более 20000 строк, 50 дубликатов составляют менее 1%. Такое количество дублированных строк не могло существенным образом повлиять на вывод, однако они были удалены для получения более точного результата. \n",
    "\n",
    "Что же касается столбца с указанием цели кредита, значения в нем необходимо привести к единому формату. Для этого удобнее использовать лемматизацию, т.к. количество уникальных значений достаточно велико."
   ]
  },
  {
   "cell_type": "markdown",
   "metadata": {},
   "source": [
    "### Лемматизация"
   ]
  },
  {
   "cell_type": "markdown",
   "metadata": {},
   "source": [
    "Проверим количество уникальных значений столбца с данными о цели кредита для принятия решения о замене."
   ]
  },
  {
   "cell_type": "code",
   "execution_count": 28,
   "metadata": {
    "scrolled": true
   },
   "outputs": [
    {
     "data": {
      "text/plain": [
       "свадьба                                   791\n",
       "на проведение свадьбы                     768\n",
       "сыграть свадьбу                           765\n",
       "операции с недвижимостью                  675\n",
       "покупка коммерческой недвижимости         661\n",
       "операции с жильем                         652\n",
       "покупка жилья для сдачи                   651\n",
       "операции с коммерческой недвижимостью     650\n",
       "покупка жилья                             646\n",
       "жилье                                     646\n",
       "покупка жилья для семьи                   638\n",
       "строительство собственной недвижимости    635\n",
       "недвижимость                              633\n",
       "операции со своей недвижимостью           627\n",
       "строительство жилой недвижимости          624\n",
       "покупка недвижимости                      621\n",
       "покупка своего жилья                      620\n",
       "строительство недвижимости                619\n",
       "ремонт жилью                              607\n",
       "покупка жилой недвижимости                606\n",
       "на покупку своего автомобиля              505\n",
       "заняться высшим образованием              496\n",
       "автомобиль                                494\n",
       "сделка с подержанным автомобилем          486\n",
       "на покупку подержанного автомобиля        478\n",
       "автомобили                                478\n",
       "свой автомобиль                           478\n",
       "на покупку автомобиля                     471\n",
       "приобретение автомобиля                   461\n",
       "дополнительное образование                460\n",
       "сделка с автомобилем                      455\n",
       "высшее образование                        452\n",
       "образование                               447\n",
       "получение дополнительного образования     446\n",
       "получение образования                     442\n",
       "профильное образование                    436\n",
       "получение высшего образования             426\n",
       "заняться образованием                     408\n",
       "Name: purpose, dtype: int64"
      ]
     },
     "execution_count": 28,
     "metadata": {},
     "output_type": "execute_result"
    }
   ],
   "source": [
    "df['purpose'].value_counts()"
   ]
  },
  {
   "cell_type": "markdown",
   "metadata": {},
   "source": [
    "Очевидные цели кредита, в которых не прослеживается дополнительных подкатегорий - это образование, свадьба и сделки с автомобилем. \n",
    "\n",
    "Большинство клиентов берут кредит для осуществления сделок с недвижимостью. Во многих случаях не конкретизировано, для каких целей приобретается недвижимость. Выделим категории \"покупка жилья\" - для тех случаев, где это прямо указано, - и \"недвижимость\" - сюда включим коммерческую недвижимость.\n",
    "\n",
    "При замене исключим из выборки \"ремонт жилью\", т.к. это не относится к сделкам с недвижимостью, а 600 строк могут повлиять на результат."
   ]
  },
  {
   "cell_type": "markdown",
   "metadata": {},
   "source": [
    "Объединим уникальные значения столбца с назначением кредита, чтобы убедиться в верном выборе лемм."
   ]
  },
  {
   "cell_type": "code",
   "execution_count": 29,
   "metadata": {
    "scrolled": true
   },
   "outputs": [
    {
     "data": {
      "text/plain": [
       "Counter({'покупка': 10,\n",
       "         ' ': 96,\n",
       "         'жилье': 7,\n",
       "         'приобретение': 1,\n",
       "         'автомобиль': 9,\n",
       "         'дополнительный': 2,\n",
       "         'образование': 9,\n",
       "         'сыграть': 1,\n",
       "         'свадьба': 3,\n",
       "         'операция': 4,\n",
       "         'с': 5,\n",
       "         'на': 4,\n",
       "         'проведение': 1,\n",
       "         'для': 2,\n",
       "         'семья': 1,\n",
       "         'недвижимость': 10,\n",
       "         'коммерческий': 2,\n",
       "         'жилой': 2,\n",
       "         'строительство': 3,\n",
       "         'собственный': 1,\n",
       "         'подержать': 2,\n",
       "         'свой': 4,\n",
       "         'со': 1,\n",
       "         'заниматься': 2,\n",
       "         'сделка': 2,\n",
       "         'получение': 3,\n",
       "         'высокий': 3,\n",
       "         'профильный': 1,\n",
       "         'сдача': 1,\n",
       "         'ремонт': 1,\n",
       "         '\\n': 1})"
      ]
     },
     "execution_count": 29,
     "metadata": {},
     "output_type": "execute_result"
    }
   ],
   "source": [
    "Counter(m.lemmatize(' '.join(df['purpose'].unique())))"
   ]
  },
  {
   "cell_type": "markdown",
   "metadata": {},
   "source": [
    "Напишем функцию для лемматизации и замены значений"
   ]
  },
  {
   "cell_type": "code",
   "execution_count": 30,
   "metadata": {},
   "outputs": [],
   "source": [
    "def purpose_lemmatize(purpose_value):\n",
    "    lemmas = ' '.join(m.lemmatize(purpose_value))\n",
    "    if 'ремонт' in lemmas:\n",
    "        return 'ремонт'\n",
    "    elif 'жилье' in lemmas:\n",
    "        return 'покупка жилья'\n",
    "    elif 'недвижимость' in lemmas:\n",
    "        return 'покупка недвижимости'\n",
    "    elif 'образование' in lemmas:\n",
    "        return 'образование'\n",
    "    elif 'свадьба' in lemmas:\n",
    "        return 'свадьба' \n",
    "    elif 'автомобиль' in lemmas:\n",
    "        return 'сделка с автомобилем'"
   ]
  },
  {
   "cell_type": "code",
   "execution_count": 31,
   "metadata": {},
   "outputs": [],
   "source": [
    "df['purpose'] = df['purpose'].apply(purpose_lemmatize)"
   ]
  },
  {
   "cell_type": "markdown",
   "metadata": {},
   "source": [
    "Проверим количество значений после замены."
   ]
  },
  {
   "cell_type": "code",
   "execution_count": 32,
   "metadata": {},
   "outputs": [
    {
     "data": {
      "text/plain": [
       "покупка недвижимости    6351\n",
       "сделка с автомобилем    4306\n",
       "образование             4013\n",
       "покупка жилья           3853\n",
       "свадьба                 2324\n",
       "ремонт                   607\n",
       "Name: purpose, dtype: int64"
      ]
     },
     "execution_count": 32,
     "metadata": {},
     "output_type": "execute_result"
    }
   ],
   "source": [
    "df['purpose'].value_counts()"
   ]
  },
  {
   "cell_type": "markdown",
   "metadata": {},
   "source": [
    "**Вывод**"
   ]
  },
  {
   "cell_type": "markdown",
   "metadata": {},
   "source": [
    "Ожидаемо на первом месте целью для кредита являются операции с недвижимостью, причем как минимум половина из них приходится на покупку жилья."
   ]
  },
  {
   "cell_type": "markdown",
   "metadata": {},
   "source": [
    "### Категоризация данных"
   ]
  },
  {
   "cell_type": "markdown",
   "metadata": {},
   "source": [
    "В предыдущем разделе были упорядочены названия целей взятия кредита. Кроме вопроса о зависимости платежеспособности от цели взятия кредита, необходимо исследовать также зависимость платежеспособности от наличия детей, семейного положения и уровня дохода. "
   ]
  },
  {
   "cell_type": "markdown",
   "metadata": {},
   "source": [
    "Из первых строк таблицы видно, что в столбце с данными о **семейном положении** всего 3 уникальных значения. Проверим, так ли это."
   ]
  },
  {
   "cell_type": "code",
   "execution_count": 33,
   "metadata": {
    "scrolled": true
   },
   "outputs": [
    {
     "data": {
      "text/plain": [
       "женат / замужем          12339\n",
       "гражданский брак          4151\n",
       "Не женат / не замужем     2810\n",
       "в разводе                 1195\n",
       "вдовец / вдова             959\n",
       "Name: family_status, dtype: int64"
      ]
     },
     "execution_count": 33,
     "metadata": {},
     "output_type": "execute_result"
    }
   ],
   "source": [
    "df['family_status'].value_counts()"
   ]
  },
  {
   "cell_type": "markdown",
   "metadata": {},
   "source": [
    "Можно объединить более мелкие категории: например \"в разводе\" и \"вдовец / вдова\", но оставим пока как есть для получения более подробных результатов."
   ]
  },
  {
   "cell_type": "markdown",
   "metadata": {},
   "source": [
    "Следующим разделим на категории столбец с данными о **наличии детей**. Выведем еще раз уникальные значения столбца."
   ]
  },
  {
   "cell_type": "code",
   "execution_count": 34,
   "metadata": {
    "scrolled": true
   },
   "outputs": [
    {
     "data": {
      "text/plain": [
       "0    14091\n",
       "1     4855\n",
       "2     2128\n",
       "3      330\n",
       "4       41\n",
       "5        9\n",
       "Name: children, dtype: int64"
      ]
     },
     "execution_count": 34,
     "metadata": {},
     "output_type": "execute_result"
    }
   ],
   "source": [
    "df['children'].value_counts()"
   ]
  },
  {
   "cell_type": "markdown",
   "metadata": {},
   "source": [
    "Сначала напишем функцию для разбивки на категории."
   ]
  },
  {
   "cell_type": "code",
   "execution_count": 35,
   "metadata": {},
   "outputs": [],
   "source": [
    "def children_number(children):\n",
    "    if children == 0:\n",
    "        return 'нет детей'\n",
    "    if children == 1:\n",
    "        return '1 ребенок'\n",
    "    if children == 2:\n",
    "        return '2 ребенка'\n",
    "    return 'многодетный' "
   ]
  },
  {
   "cell_type": "markdown",
   "metadata": {},
   "source": [
    "Добавим столбец в таблицу со значениями категорий."
   ]
  },
  {
   "cell_type": "code",
   "execution_count": 36,
   "metadata": {},
   "outputs": [],
   "source": [
    "df.insert(1, \"children_category\", df['children'].apply(children_number))"
   ]
  },
  {
   "cell_type": "code",
   "execution_count": 37,
   "metadata": {},
   "outputs": [
    {
     "data": {
      "text/html": [
       "<div>\n",
       "<style scoped>\n",
       "    .dataframe tbody tr th:only-of-type {\n",
       "        vertical-align: middle;\n",
       "    }\n",
       "\n",
       "    .dataframe tbody tr th {\n",
       "        vertical-align: top;\n",
       "    }\n",
       "\n",
       "    .dataframe thead th {\n",
       "        text-align: right;\n",
       "    }\n",
       "</style>\n",
       "<table border=\"1\" class=\"dataframe\">\n",
       "  <thead>\n",
       "    <tr style=\"text-align: right;\">\n",
       "      <th></th>\n",
       "      <th>children</th>\n",
       "      <th>children_category</th>\n",
       "      <th>days_employed</th>\n",
       "      <th>dob_years</th>\n",
       "      <th>education</th>\n",
       "      <th>education_id</th>\n",
       "      <th>family_status</th>\n",
       "      <th>family_status_id</th>\n",
       "      <th>gender</th>\n",
       "      <th>income_type</th>\n",
       "      <th>debt</th>\n",
       "      <th>total_income</th>\n",
       "      <th>purpose</th>\n",
       "    </tr>\n",
       "  </thead>\n",
       "  <tbody>\n",
       "    <tr>\n",
       "      <td>0</td>\n",
       "      <td>1</td>\n",
       "      <td>1 ребенок</td>\n",
       "      <td>8437</td>\n",
       "      <td>42</td>\n",
       "      <td>высшее</td>\n",
       "      <td>0</td>\n",
       "      <td>женат / замужем</td>\n",
       "      <td>0</td>\n",
       "      <td>F</td>\n",
       "      <td>сотрудник</td>\n",
       "      <td>0</td>\n",
       "      <td>253875</td>\n",
       "      <td>покупка жилья</td>\n",
       "    </tr>\n",
       "    <tr>\n",
       "      <td>1</td>\n",
       "      <td>1</td>\n",
       "      <td>1 ребенок</td>\n",
       "      <td>4024</td>\n",
       "      <td>36</td>\n",
       "      <td>среднее</td>\n",
       "      <td>1</td>\n",
       "      <td>женат / замужем</td>\n",
       "      <td>0</td>\n",
       "      <td>F</td>\n",
       "      <td>сотрудник</td>\n",
       "      <td>0</td>\n",
       "      <td>112080</td>\n",
       "      <td>сделка с автомобилем</td>\n",
       "    </tr>\n",
       "    <tr>\n",
       "      <td>2</td>\n",
       "      <td>0</td>\n",
       "      <td>нет детей</td>\n",
       "      <td>5623</td>\n",
       "      <td>33</td>\n",
       "      <td>среднее</td>\n",
       "      <td>1</td>\n",
       "      <td>женат / замужем</td>\n",
       "      <td>0</td>\n",
       "      <td>M</td>\n",
       "      <td>сотрудник</td>\n",
       "      <td>0</td>\n",
       "      <td>145885</td>\n",
       "      <td>покупка жилья</td>\n",
       "    </tr>\n",
       "    <tr>\n",
       "      <td>3</td>\n",
       "      <td>3</td>\n",
       "      <td>многодетный</td>\n",
       "      <td>4124</td>\n",
       "      <td>32</td>\n",
       "      <td>среднее</td>\n",
       "      <td>1</td>\n",
       "      <td>женат / замужем</td>\n",
       "      <td>0</td>\n",
       "      <td>M</td>\n",
       "      <td>сотрудник</td>\n",
       "      <td>0</td>\n",
       "      <td>267628</td>\n",
       "      <td>образование</td>\n",
       "    </tr>\n",
       "    <tr>\n",
       "      <td>4</td>\n",
       "      <td>0</td>\n",
       "      <td>нет детей</td>\n",
       "      <td>340266</td>\n",
       "      <td>53</td>\n",
       "      <td>среднее</td>\n",
       "      <td>1</td>\n",
       "      <td>гражданский брак</td>\n",
       "      <td>1</td>\n",
       "      <td>F</td>\n",
       "      <td>пенсионер</td>\n",
       "      <td>0</td>\n",
       "      <td>158616</td>\n",
       "      <td>свадьба</td>\n",
       "    </tr>\n",
       "  </tbody>\n",
       "</table>\n",
       "</div>"
      ],
      "text/plain": [
       "   children children_category  days_employed  dob_years education  \\\n",
       "0         1         1 ребенок           8437         42    высшее   \n",
       "1         1         1 ребенок           4024         36   среднее   \n",
       "2         0         нет детей           5623         33   среднее   \n",
       "3         3       многодетный           4124         32   среднее   \n",
       "4         0         нет детей         340266         53   среднее   \n",
       "\n",
       "   education_id     family_status  family_status_id gender income_type  debt  \\\n",
       "0             0   женат / замужем                 0      F   сотрудник     0   \n",
       "1             1   женат / замужем                 0      F   сотрудник     0   \n",
       "2             1   женат / замужем                 0      M   сотрудник     0   \n",
       "3             1   женат / замужем                 0      M   сотрудник     0   \n",
       "4             1  гражданский брак                 1      F   пенсионер     0   \n",
       "\n",
       "   total_income               purpose  \n",
       "0        253875         покупка жилья  \n",
       "1        112080  сделка с автомобилем  \n",
       "2        145885         покупка жилья  \n",
       "3        267628           образование  \n",
       "4        158616               свадьба  "
      ]
     },
     "execution_count": 37,
     "metadata": {},
     "output_type": "execute_result"
    }
   ],
   "source": [
    "df.head()"
   ]
  },
  {
   "cell_type": "markdown",
   "metadata": {},
   "source": [
    "Осталось классифицировать клиентов по **уровню дохода**. Проверим минимальное, максимальное и еще раз медианное значения столбца, чтобы решить, на какие группы разбивать данные."
   ]
  },
  {
   "cell_type": "code",
   "execution_count": 38,
   "metadata": {
    "scrolled": true
   },
   "outputs": [
    {
     "data": {
      "text/plain": [
       "20667"
      ]
     },
     "metadata": {},
     "output_type": "display_data"
    },
    {
     "data": {
      "text/plain": [
       "151134.0"
      ]
     },
     "metadata": {},
     "output_type": "display_data"
    },
    {
     "data": {
      "text/plain": [
       "2265604"
      ]
     },
     "metadata": {},
     "output_type": "display_data"
    }
   ],
   "source": [
    "display(df['total_income'].min())\n",
    "\n",
    "display(df['total_income'].median())\n",
    "\n",
    "display(df['total_income'].max())"
   ]
  },
  {
   "cell_type": "markdown",
   "metadata": {},
   "source": [
    "Введем разделение на следующиме группы: от 20 000 до 100 000 - низкий доход, от 100 000 до 200 000 - средний доход, от 200 000 до 500 000 - высокий доход, выше 500 000 - очень высокий доход.\n",
    "\n",
    "Разбивку проведем по аналогии с предыдущим столбцом: подготовим функцию, которую применим при добавлении нового столбца."
   ]
  },
  {
   "cell_type": "code",
   "execution_count": 39,
   "metadata": {},
   "outputs": [],
   "source": [
    "def income_level(income):\n",
    "    if 20000<=income<100000:\n",
    "        return 'низкий'\n",
    "    if 100000<=income<200000:\n",
    "        return 'средний'\n",
    "    if 200000<=income<500000:\n",
    "        return 'высокий'\n",
    "    return 'очень высокий' "
   ]
  },
  {
   "cell_type": "code",
   "execution_count": 40,
   "metadata": {},
   "outputs": [],
   "source": [
    "df.insert(12, \"income_level\", df['total_income'].apply(income_level))"
   ]
  },
  {
   "cell_type": "code",
   "execution_count": 41,
   "metadata": {},
   "outputs": [
    {
     "data": {
      "text/html": [
       "<div>\n",
       "<style scoped>\n",
       "    .dataframe tbody tr th:only-of-type {\n",
       "        vertical-align: middle;\n",
       "    }\n",
       "\n",
       "    .dataframe tbody tr th {\n",
       "        vertical-align: top;\n",
       "    }\n",
       "\n",
       "    .dataframe thead th {\n",
       "        text-align: right;\n",
       "    }\n",
       "</style>\n",
       "<table border=\"1\" class=\"dataframe\">\n",
       "  <thead>\n",
       "    <tr style=\"text-align: right;\">\n",
       "      <th></th>\n",
       "      <th>children</th>\n",
       "      <th>children_category</th>\n",
       "      <th>days_employed</th>\n",
       "      <th>dob_years</th>\n",
       "      <th>education</th>\n",
       "      <th>education_id</th>\n",
       "      <th>family_status</th>\n",
       "      <th>family_status_id</th>\n",
       "      <th>gender</th>\n",
       "      <th>income_type</th>\n",
       "      <th>debt</th>\n",
       "      <th>total_income</th>\n",
       "      <th>income_level</th>\n",
       "      <th>purpose</th>\n",
       "    </tr>\n",
       "  </thead>\n",
       "  <tbody>\n",
       "    <tr>\n",
       "      <td>0</td>\n",
       "      <td>1</td>\n",
       "      <td>1 ребенок</td>\n",
       "      <td>8437</td>\n",
       "      <td>42</td>\n",
       "      <td>высшее</td>\n",
       "      <td>0</td>\n",
       "      <td>женат / замужем</td>\n",
       "      <td>0</td>\n",
       "      <td>F</td>\n",
       "      <td>сотрудник</td>\n",
       "      <td>0</td>\n",
       "      <td>253875</td>\n",
       "      <td>высокий</td>\n",
       "      <td>покупка жилья</td>\n",
       "    </tr>\n",
       "    <tr>\n",
       "      <td>1</td>\n",
       "      <td>1</td>\n",
       "      <td>1 ребенок</td>\n",
       "      <td>4024</td>\n",
       "      <td>36</td>\n",
       "      <td>среднее</td>\n",
       "      <td>1</td>\n",
       "      <td>женат / замужем</td>\n",
       "      <td>0</td>\n",
       "      <td>F</td>\n",
       "      <td>сотрудник</td>\n",
       "      <td>0</td>\n",
       "      <td>112080</td>\n",
       "      <td>средний</td>\n",
       "      <td>сделка с автомобилем</td>\n",
       "    </tr>\n",
       "    <tr>\n",
       "      <td>2</td>\n",
       "      <td>0</td>\n",
       "      <td>нет детей</td>\n",
       "      <td>5623</td>\n",
       "      <td>33</td>\n",
       "      <td>среднее</td>\n",
       "      <td>1</td>\n",
       "      <td>женат / замужем</td>\n",
       "      <td>0</td>\n",
       "      <td>M</td>\n",
       "      <td>сотрудник</td>\n",
       "      <td>0</td>\n",
       "      <td>145885</td>\n",
       "      <td>средний</td>\n",
       "      <td>покупка жилья</td>\n",
       "    </tr>\n",
       "    <tr>\n",
       "      <td>3</td>\n",
       "      <td>3</td>\n",
       "      <td>многодетный</td>\n",
       "      <td>4124</td>\n",
       "      <td>32</td>\n",
       "      <td>среднее</td>\n",
       "      <td>1</td>\n",
       "      <td>женат / замужем</td>\n",
       "      <td>0</td>\n",
       "      <td>M</td>\n",
       "      <td>сотрудник</td>\n",
       "      <td>0</td>\n",
       "      <td>267628</td>\n",
       "      <td>высокий</td>\n",
       "      <td>образование</td>\n",
       "    </tr>\n",
       "    <tr>\n",
       "      <td>4</td>\n",
       "      <td>0</td>\n",
       "      <td>нет детей</td>\n",
       "      <td>340266</td>\n",
       "      <td>53</td>\n",
       "      <td>среднее</td>\n",
       "      <td>1</td>\n",
       "      <td>гражданский брак</td>\n",
       "      <td>1</td>\n",
       "      <td>F</td>\n",
       "      <td>пенсионер</td>\n",
       "      <td>0</td>\n",
       "      <td>158616</td>\n",
       "      <td>средний</td>\n",
       "      <td>свадьба</td>\n",
       "    </tr>\n",
       "  </tbody>\n",
       "</table>\n",
       "</div>"
      ],
      "text/plain": [
       "   children children_category  days_employed  dob_years education  \\\n",
       "0         1         1 ребенок           8437         42    высшее   \n",
       "1         1         1 ребенок           4024         36   среднее   \n",
       "2         0         нет детей           5623         33   среднее   \n",
       "3         3       многодетный           4124         32   среднее   \n",
       "4         0         нет детей         340266         53   среднее   \n",
       "\n",
       "   education_id     family_status  family_status_id gender income_type  debt  \\\n",
       "0             0   женат / замужем                 0      F   сотрудник     0   \n",
       "1             1   женат / замужем                 0      F   сотрудник     0   \n",
       "2             1   женат / замужем                 0      M   сотрудник     0   \n",
       "3             1   женат / замужем                 0      M   сотрудник     0   \n",
       "4             1  гражданский брак                 1      F   пенсионер     0   \n",
       "\n",
       "   total_income income_level               purpose  \n",
       "0        253875      высокий         покупка жилья  \n",
       "1        112080      средний  сделка с автомобилем  \n",
       "2        145885      средний         покупка жилья  \n",
       "3        267628      высокий           образование  \n",
       "4        158616      средний               свадьба  "
      ]
     },
     "execution_count": 41,
     "metadata": {},
     "output_type": "execute_result"
    }
   ],
   "source": [
    "df.head()"
   ]
  },
  {
   "cell_type": "markdown",
   "metadata": {},
   "source": [
    "**Вывод**"
   ]
  },
  {
   "cell_type": "markdown",
   "metadata": {},
   "source": [
    "При подготовке данных к исследованию не будет лишним проверить все используемые столбцы датафрейма. Так, при подсчете уникальных значений в столбце о количестве детей выяснилось, что часть данных занесена с ошибкой.\n",
    "\n",
    "Также в данном разделе видно, как удобно применение функции при добавлении нового столбца одной строкой."
   ]
  },
  {
   "cell_type": "markdown",
   "metadata": {},
   "source": [
    "## Ответы на вопросы"
   ]
  },
  {
   "cell_type": "markdown",
   "metadata": {},
   "source": [
    "- Есть ли зависимость между наличием детей и возвратом кредита в срок?"
   ]
  },
  {
   "cell_type": "markdown",
   "metadata": {},
   "source": [
    "Посчитаем, сколько клиентов в каждой группе, классифицирующей их в зависимости от наличия детей."
   ]
  },
  {
   "cell_type": "code",
   "execution_count": 42,
   "metadata": {},
   "outputs": [
    {
     "data": {
      "text/html": [
       "<div>\n",
       "<style scoped>\n",
       "    .dataframe tbody tr th:only-of-type {\n",
       "        vertical-align: middle;\n",
       "    }\n",
       "\n",
       "    .dataframe tbody tr th {\n",
       "        vertical-align: top;\n",
       "    }\n",
       "\n",
       "    .dataframe thead th {\n",
       "        text-align: right;\n",
       "    }\n",
       "</style>\n",
       "<table border=\"1\" class=\"dataframe\">\n",
       "  <thead>\n",
       "    <tr style=\"text-align: right;\">\n",
       "      <th></th>\n",
       "      <th>children_category</th>\n",
       "      <th>people</th>\n",
       "    </tr>\n",
       "  </thead>\n",
       "  <tbody>\n",
       "    <tr>\n",
       "      <td>0</td>\n",
       "      <td>нет детей</td>\n",
       "      <td>14091</td>\n",
       "    </tr>\n",
       "    <tr>\n",
       "      <td>1</td>\n",
       "      <td>1 ребенок</td>\n",
       "      <td>4855</td>\n",
       "    </tr>\n",
       "    <tr>\n",
       "      <td>2</td>\n",
       "      <td>2 ребенка</td>\n",
       "      <td>2128</td>\n",
       "    </tr>\n",
       "    <tr>\n",
       "      <td>3</td>\n",
       "      <td>многодетный</td>\n",
       "      <td>380</td>\n",
       "    </tr>\n",
       "  </tbody>\n",
       "</table>\n",
       "</div>"
      ],
      "text/plain": [
       "  children_category  people\n",
       "0         нет детей   14091\n",
       "1         1 ребенок    4855\n",
       "2         2 ребенка    2128\n",
       "3       многодетный     380"
      ]
     },
     "execution_count": 42,
     "metadata": {},
     "output_type": "execute_result"
    }
   ],
   "source": [
    "children_category_values = df['children_category'].value_counts().to_frame().reset_index().rename(columns = {'index':'children_category', 'children_category':'people'})\n",
    "children_category_values"
   ]
  },
  {
   "cell_type": "markdown",
   "metadata": {},
   "source": [
    "Теперь сложим данные в столбце с идентификатором наличия задолженности, чтобы узнать, сколько из клиентов в каждой категории имели задолженность по кредиту."
   ]
  },
  {
   "cell_type": "code",
   "execution_count": 43,
   "metadata": {
    "scrolled": false
   },
   "outputs": [
    {
     "data": {
      "text/html": [
       "<div>\n",
       "<style scoped>\n",
       "    .dataframe tbody tr th:only-of-type {\n",
       "        vertical-align: middle;\n",
       "    }\n",
       "\n",
       "    .dataframe tbody tr th {\n",
       "        vertical-align: top;\n",
       "    }\n",
       "\n",
       "    .dataframe thead th {\n",
       "        text-align: right;\n",
       "    }\n",
       "</style>\n",
       "<table border=\"1\" class=\"dataframe\">\n",
       "  <thead>\n",
       "    <tr style=\"text-align: right;\">\n",
       "      <th></th>\n",
       "      <th>children_category</th>\n",
       "      <th>debt</th>\n",
       "    </tr>\n",
       "  </thead>\n",
       "  <tbody>\n",
       "    <tr>\n",
       "      <td>0</td>\n",
       "      <td>нет детей</td>\n",
       "      <td>1063</td>\n",
       "    </tr>\n",
       "    <tr>\n",
       "      <td>1</td>\n",
       "      <td>1 ребенок</td>\n",
       "      <td>445</td>\n",
       "    </tr>\n",
       "    <tr>\n",
       "      <td>2</td>\n",
       "      <td>2 ребенка</td>\n",
       "      <td>202</td>\n",
       "    </tr>\n",
       "    <tr>\n",
       "      <td>3</td>\n",
       "      <td>многодетный</td>\n",
       "      <td>31</td>\n",
       "    </tr>\n",
       "  </tbody>\n",
       "</table>\n",
       "</div>"
      ],
      "text/plain": [
       "  children_category  debt\n",
       "0         нет детей  1063\n",
       "1         1 ребенок   445\n",
       "2         2 ребенка   202\n",
       "3       многодетный    31"
      ]
     },
     "execution_count": 43,
     "metadata": {},
     "output_type": "execute_result"
    }
   ],
   "source": [
    "children_category_sum = df.groupby('children_category')['debt'].sum().sort_values(ascending=False).to_frame().reset_index()\n",
    "children_category_sum"
   ]
  },
  {
   "cell_type": "markdown",
   "metadata": {},
   "source": [
    "Объединим оба датафрейма."
   ]
  },
  {
   "cell_type": "code",
   "execution_count": 44,
   "metadata": {
    "scrolled": true
   },
   "outputs": [
    {
     "data": {
      "text/html": [
       "<div>\n",
       "<style scoped>\n",
       "    .dataframe tbody tr th:only-of-type {\n",
       "        vertical-align: middle;\n",
       "    }\n",
       "\n",
       "    .dataframe tbody tr th {\n",
       "        vertical-align: top;\n",
       "    }\n",
       "\n",
       "    .dataframe thead th {\n",
       "        text-align: right;\n",
       "    }\n",
       "</style>\n",
       "<table border=\"1\" class=\"dataframe\">\n",
       "  <thead>\n",
       "    <tr style=\"text-align: right;\">\n",
       "      <th></th>\n",
       "      <th>children_category</th>\n",
       "      <th>people</th>\n",
       "      <th>debt</th>\n",
       "    </tr>\n",
       "  </thead>\n",
       "  <tbody>\n",
       "    <tr>\n",
       "      <td>0</td>\n",
       "      <td>нет детей</td>\n",
       "      <td>14091</td>\n",
       "      <td>1063</td>\n",
       "    </tr>\n",
       "    <tr>\n",
       "      <td>1</td>\n",
       "      <td>1 ребенок</td>\n",
       "      <td>4855</td>\n",
       "      <td>445</td>\n",
       "    </tr>\n",
       "    <tr>\n",
       "      <td>2</td>\n",
       "      <td>2 ребенка</td>\n",
       "      <td>2128</td>\n",
       "      <td>202</td>\n",
       "    </tr>\n",
       "    <tr>\n",
       "      <td>3</td>\n",
       "      <td>многодетный</td>\n",
       "      <td>380</td>\n",
       "      <td>31</td>\n",
       "    </tr>\n",
       "  </tbody>\n",
       "</table>\n",
       "</div>"
      ],
      "text/plain": [
       "  children_category  people  debt\n",
       "0         нет детей   14091  1063\n",
       "1         1 ребенок    4855   445\n",
       "2         2 ребенка    2128   202\n",
       "3       многодетный     380    31"
      ]
     },
     "execution_count": 44,
     "metadata": {},
     "output_type": "execute_result"
    }
   ],
   "source": [
    "children_category_final = children_category_values.merge(children_category_sum, how='left')\n",
    "children_category_final"
   ]
  },
  {
   "cell_type": "markdown",
   "metadata": {},
   "source": [
    "Добавим столбец с подсчетом процента должников по кредиту в каждой категории."
   ]
  },
  {
   "cell_type": "code",
   "execution_count": 45,
   "metadata": {
    "scrolled": true
   },
   "outputs": [
    {
     "data": {
      "text/html": [
       "<div>\n",
       "<style scoped>\n",
       "    .dataframe tbody tr th:only-of-type {\n",
       "        vertical-align: middle;\n",
       "    }\n",
       "\n",
       "    .dataframe tbody tr th {\n",
       "        vertical-align: top;\n",
       "    }\n",
       "\n",
       "    .dataframe thead th {\n",
       "        text-align: right;\n",
       "    }\n",
       "</style>\n",
       "<table border=\"1\" class=\"dataframe\">\n",
       "  <thead>\n",
       "    <tr style=\"text-align: right;\">\n",
       "      <th></th>\n",
       "      <th>children_category</th>\n",
       "      <th>people</th>\n",
       "      <th>debt</th>\n",
       "      <th>percent</th>\n",
       "    </tr>\n",
       "  </thead>\n",
       "  <tbody>\n",
       "    <tr>\n",
       "      <td>0</td>\n",
       "      <td>нет детей</td>\n",
       "      <td>14091</td>\n",
       "      <td>1063</td>\n",
       "      <td>7.54</td>\n",
       "    </tr>\n",
       "    <tr>\n",
       "      <td>1</td>\n",
       "      <td>1 ребенок</td>\n",
       "      <td>4855</td>\n",
       "      <td>445</td>\n",
       "      <td>9.17</td>\n",
       "    </tr>\n",
       "    <tr>\n",
       "      <td>2</td>\n",
       "      <td>2 ребенка</td>\n",
       "      <td>2128</td>\n",
       "      <td>202</td>\n",
       "      <td>9.49</td>\n",
       "    </tr>\n",
       "    <tr>\n",
       "      <td>3</td>\n",
       "      <td>многодетный</td>\n",
       "      <td>380</td>\n",
       "      <td>31</td>\n",
       "      <td>8.16</td>\n",
       "    </tr>\n",
       "  </tbody>\n",
       "</table>\n",
       "</div>"
      ],
      "text/plain": [
       "  children_category  people  debt  percent\n",
       "0         нет детей   14091  1063     7.54\n",
       "1         1 ребенок    4855   445     9.17\n",
       "2         2 ребенка    2128   202     9.49\n",
       "3       многодетный     380    31     8.16"
      ]
     },
     "execution_count": 45,
     "metadata": {},
     "output_type": "execute_result"
    }
   ],
   "source": [
    "children_category_final['percent'] = children_category_final[\"debt\"]/children_category_final[\"people\"]*100\n",
    "children_category_final.round(2)"
   ]
  },
  {
   "cell_type": "markdown",
   "metadata": {},
   "source": [
    "**Вывод**"
   ]
  },
  {
   "cell_type": "markdown",
   "metadata": {},
   "source": [
    "Можно сделать вывод, что с появлением детей растет и процент должников по кредиту, но для многодетных данный процент наоборот меньше."
   ]
  },
  {
   "cell_type": "markdown",
   "metadata": {},
   "source": [
    "- Есть ли зависимость между семейным положением и возвратом кредита в срок?"
   ]
  },
  {
   "cell_type": "markdown",
   "metadata": {},
   "source": [
    "Произведем аналогичные расчеты. Сначала подсчитаем количество человек в каждой категории. Потом - количество должников по кредиту в каждой категории."
   ]
  },
  {
   "cell_type": "code",
   "execution_count": 46,
   "metadata": {},
   "outputs": [
    {
     "data": {
      "text/html": [
       "<div>\n",
       "<style scoped>\n",
       "    .dataframe tbody tr th:only-of-type {\n",
       "        vertical-align: middle;\n",
       "    }\n",
       "\n",
       "    .dataframe tbody tr th {\n",
       "        vertical-align: top;\n",
       "    }\n",
       "\n",
       "    .dataframe thead th {\n",
       "        text-align: right;\n",
       "    }\n",
       "</style>\n",
       "<table border=\"1\" class=\"dataframe\">\n",
       "  <thead>\n",
       "    <tr style=\"text-align: right;\">\n",
       "      <th></th>\n",
       "      <th>count</th>\n",
       "      <th>sum</th>\n",
       "      <th>mean</th>\n",
       "    </tr>\n",
       "    <tr>\n",
       "      <th>family_status</th>\n",
       "      <th></th>\n",
       "      <th></th>\n",
       "      <th></th>\n",
       "    </tr>\n",
       "  </thead>\n",
       "  <tbody>\n",
       "    <tr>\n",
       "      <td>Не женат / не замужем</td>\n",
       "      <td>2810</td>\n",
       "      <td>274</td>\n",
       "      <td>0.097509</td>\n",
       "    </tr>\n",
       "    <tr>\n",
       "      <td>в разводе</td>\n",
       "      <td>1195</td>\n",
       "      <td>85</td>\n",
       "      <td>0.071130</td>\n",
       "    </tr>\n",
       "    <tr>\n",
       "      <td>вдовец / вдова</td>\n",
       "      <td>959</td>\n",
       "      <td>63</td>\n",
       "      <td>0.065693</td>\n",
       "    </tr>\n",
       "    <tr>\n",
       "      <td>гражданский брак</td>\n",
       "      <td>4151</td>\n",
       "      <td>388</td>\n",
       "      <td>0.093471</td>\n",
       "    </tr>\n",
       "    <tr>\n",
       "      <td>женат / замужем</td>\n",
       "      <td>12339</td>\n",
       "      <td>931</td>\n",
       "      <td>0.075452</td>\n",
       "    </tr>\n",
       "  </tbody>\n",
       "</table>\n",
       "</div>"
      ],
      "text/plain": [
       "                       count  sum      mean\n",
       "family_status                              \n",
       "Не женат / не замужем   2810  274  0.097509\n",
       "в разводе               1195   85  0.071130\n",
       "вдовец / вдова           959   63  0.065693\n",
       "гражданский брак        4151  388  0.093471\n",
       "женат / замужем        12339  931  0.075452"
      ]
     },
     "execution_count": 46,
     "metadata": {},
     "output_type": "execute_result"
    }
   ],
   "source": [
    "family_status_final = df.groupby('family_status')['debt'].agg(['count','sum','mean'])\n",
    "family_status_final"
   ]
  },
  {
   "cell_type": "code",
   "execution_count": 47,
   "metadata": {
    "scrolled": true
   },
   "outputs": [
    {
     "data": {
      "text/html": [
       "<div>\n",
       "<style scoped>\n",
       "    .dataframe tbody tr th:only-of-type {\n",
       "        vertical-align: middle;\n",
       "    }\n",
       "\n",
       "    .dataframe tbody tr th {\n",
       "        vertical-align: top;\n",
       "    }\n",
       "\n",
       "    .dataframe thead th {\n",
       "        text-align: right;\n",
       "    }\n",
       "</style>\n",
       "<table border=\"1\" class=\"dataframe\">\n",
       "  <thead>\n",
       "    <tr style=\"text-align: right;\">\n",
       "      <th></th>\n",
       "      <th>count</th>\n",
       "      <th>sum</th>\n",
       "      <th>mean</th>\n",
       "      <th>percent</th>\n",
       "    </tr>\n",
       "    <tr>\n",
       "      <th>family_status</th>\n",
       "      <th></th>\n",
       "      <th></th>\n",
       "      <th></th>\n",
       "      <th></th>\n",
       "    </tr>\n",
       "  </thead>\n",
       "  <tbody>\n",
       "    <tr>\n",
       "      <td>вдовец / вдова</td>\n",
       "      <td>959</td>\n",
       "      <td>63</td>\n",
       "      <td>0.07</td>\n",
       "      <td>6.57</td>\n",
       "    </tr>\n",
       "    <tr>\n",
       "      <td>в разводе</td>\n",
       "      <td>1195</td>\n",
       "      <td>85</td>\n",
       "      <td>0.07</td>\n",
       "      <td>7.11</td>\n",
       "    </tr>\n",
       "    <tr>\n",
       "      <td>женат / замужем</td>\n",
       "      <td>12339</td>\n",
       "      <td>931</td>\n",
       "      <td>0.08</td>\n",
       "      <td>7.55</td>\n",
       "    </tr>\n",
       "    <tr>\n",
       "      <td>гражданский брак</td>\n",
       "      <td>4151</td>\n",
       "      <td>388</td>\n",
       "      <td>0.09</td>\n",
       "      <td>9.35</td>\n",
       "    </tr>\n",
       "    <tr>\n",
       "      <td>Не женат / не замужем</td>\n",
       "      <td>2810</td>\n",
       "      <td>274</td>\n",
       "      <td>0.10</td>\n",
       "      <td>9.75</td>\n",
       "    </tr>\n",
       "  </tbody>\n",
       "</table>\n",
       "</div>"
      ],
      "text/plain": [
       "                       count  sum  mean  percent\n",
       "family_status                                   \n",
       "вдовец / вдова           959   63  0.07     6.57\n",
       "в разводе               1195   85  0.07     7.11\n",
       "женат / замужем        12339  931  0.08     7.55\n",
       "гражданский брак        4151  388  0.09     9.35\n",
       "Не женат / не замужем   2810  274  0.10     9.75"
      ]
     },
     "execution_count": 47,
     "metadata": {},
     "output_type": "execute_result"
    }
   ],
   "source": [
    "family_status_final['percent'] = family_status_final[\"sum\"]/family_status_final[\"count\"]*100\n",
    "family_status_final.round(2).sort_values(by = 'percent')"
   ]
  },
  {
   "cell_type": "markdown",
   "metadata": {},
   "source": [
    "**Вывод**"
   ]
  },
  {
   "cell_type": "markdown",
   "metadata": {},
   "source": [
    "Меньше всего должников по кредиту у тех, кто раньше был в браке. Больше всего - у тех кто не в браке. В целом какой-либо устойчивой зависимости не наблюдается."
   ]
  },
  {
   "cell_type": "markdown",
   "metadata": {},
   "source": [
    "- Есть ли зависимость между уровнем дохода и возвратом кредита в срок?"
   ]
  },
  {
   "cell_type": "markdown",
   "metadata": {},
   "source": [
    "Выше столбец с уровнем дохода был разбит на категории. Сформируем сводную таблицу с процентами по этому столбцу."
   ]
  },
  {
   "cell_type": "code",
   "execution_count": 48,
   "metadata": {},
   "outputs": [
    {
     "data": {
      "text/html": [
       "<div>\n",
       "<style scoped>\n",
       "    .dataframe tbody tr th:only-of-type {\n",
       "        vertical-align: middle;\n",
       "    }\n",
       "\n",
       "    .dataframe tbody tr th {\n",
       "        vertical-align: top;\n",
       "    }\n",
       "\n",
       "    .dataframe thead th {\n",
       "        text-align: right;\n",
       "    }\n",
       "</style>\n",
       "<table border=\"1\" class=\"dataframe\">\n",
       "  <thead>\n",
       "    <tr style=\"text-align: right;\">\n",
       "      <th></th>\n",
       "      <th>income_level</th>\n",
       "      <th>people</th>\n",
       "      <th>debt</th>\n",
       "      <th>percent</th>\n",
       "    </tr>\n",
       "  </thead>\n",
       "  <tbody>\n",
       "    <tr>\n",
       "      <td>0</td>\n",
       "      <td>очень высокий</td>\n",
       "      <td>222</td>\n",
       "      <td>14</td>\n",
       "      <td>6.31</td>\n",
       "    </tr>\n",
       "    <tr>\n",
       "      <td>1</td>\n",
       "      <td>высокий</td>\n",
       "      <td>4844</td>\n",
       "      <td>344</td>\n",
       "      <td>7.10</td>\n",
       "    </tr>\n",
       "    <tr>\n",
       "      <td>2</td>\n",
       "      <td>низкий</td>\n",
       "      <td>4463</td>\n",
       "      <td>354</td>\n",
       "      <td>7.93</td>\n",
       "    </tr>\n",
       "    <tr>\n",
       "      <td>3</td>\n",
       "      <td>средний</td>\n",
       "      <td>11925</td>\n",
       "      <td>1029</td>\n",
       "      <td>8.63</td>\n",
       "    </tr>\n",
       "  </tbody>\n",
       "</table>\n",
       "</div>"
      ],
      "text/plain": [
       "    income_level  people  debt  percent\n",
       "0  очень высокий     222    14     6.31\n",
       "1        высокий    4844   344     7.10\n",
       "2         низкий    4463   354     7.93\n",
       "3        средний   11925  1029     8.63"
      ]
     },
     "execution_count": 48,
     "metadata": {},
     "output_type": "execute_result"
    }
   ],
   "source": [
    "income_level_values = df['income_level'].value_counts().to_frame().reset_index().rename(columns = {'index':'income_level', 'income_level':'people'})\n",
    "income_level_sum = df.groupby('income_level')['debt'].sum().sort_values(ascending=False).to_frame().reset_index()\n",
    "income_level_final = income_level_values.merge(income_level_sum, how='left')\n",
    "income_level_final['percent'] = income_level_final[\"debt\"]/income_level_final[\"people\"]*100\n",
    "income_level_final.round(2).sort_values(by = 'percent').reset_index(drop=True)"
   ]
  },
  {
   "cell_type": "markdown",
   "metadata": {},
   "source": [
    "**Вывод**"
   ]
  },
  {
   "cell_type": "markdown",
   "metadata": {},
   "source": [
    "Чаще всего должниками по кредиту становятся клиенты со средним уровнем дохода. Имеющие высокий уровень дохода клиенты лучше выплачивают кредит, но берут кредит также значительно реже по сравнению со средним классом."
   ]
  },
  {
   "cell_type": "markdown",
   "metadata": {},
   "source": [
    "- Как разные цели кредита влияют на его возврат в срок?"
   ]
  },
  {
   "cell_type": "code",
   "execution_count": 49,
   "metadata": {},
   "outputs": [
    {
     "data": {
      "text/html": [
       "<div>\n",
       "<style scoped>\n",
       "    .dataframe tbody tr th:only-of-type {\n",
       "        vertical-align: middle;\n",
       "    }\n",
       "\n",
       "    .dataframe tbody tr th {\n",
       "        vertical-align: top;\n",
       "    }\n",
       "\n",
       "    .dataframe thead th {\n",
       "        text-align: right;\n",
       "    }\n",
       "</style>\n",
       "<table border=\"1\" class=\"dataframe\">\n",
       "  <thead>\n",
       "    <tr style=\"text-align: right;\">\n",
       "      <th></th>\n",
       "      <th>purpose</th>\n",
       "      <th>people</th>\n",
       "      <th>debt</th>\n",
       "      <th>percent</th>\n",
       "    </tr>\n",
       "  </thead>\n",
       "  <tbody>\n",
       "    <tr>\n",
       "      <td>0</td>\n",
       "      <td>ремонт</td>\n",
       "      <td>607</td>\n",
       "      <td>35</td>\n",
       "      <td>5.77</td>\n",
       "    </tr>\n",
       "    <tr>\n",
       "      <td>1</td>\n",
       "      <td>покупка жилья</td>\n",
       "      <td>3853</td>\n",
       "      <td>273</td>\n",
       "      <td>7.09</td>\n",
       "    </tr>\n",
       "    <tr>\n",
       "      <td>2</td>\n",
       "      <td>покупка недвижимости</td>\n",
       "      <td>6351</td>\n",
       "      <td>474</td>\n",
       "      <td>7.46</td>\n",
       "    </tr>\n",
       "    <tr>\n",
       "      <td>3</td>\n",
       "      <td>свадьба</td>\n",
       "      <td>2324</td>\n",
       "      <td>186</td>\n",
       "      <td>8.00</td>\n",
       "    </tr>\n",
       "    <tr>\n",
       "      <td>4</td>\n",
       "      <td>образование</td>\n",
       "      <td>4013</td>\n",
       "      <td>370</td>\n",
       "      <td>9.22</td>\n",
       "    </tr>\n",
       "    <tr>\n",
       "      <td>5</td>\n",
       "      <td>сделка с автомобилем</td>\n",
       "      <td>4306</td>\n",
       "      <td>403</td>\n",
       "      <td>9.36</td>\n",
       "    </tr>\n",
       "  </tbody>\n",
       "</table>\n",
       "</div>"
      ],
      "text/plain": [
       "                purpose  people  debt  percent\n",
       "0                ремонт     607    35     5.77\n",
       "1         покупка жилья    3853   273     7.09\n",
       "2  покупка недвижимости    6351   474     7.46\n",
       "3               свадьба    2324   186     8.00\n",
       "4           образование    4013   370     9.22\n",
       "5  сделка с автомобилем    4306   403     9.36"
      ]
     },
     "execution_count": 49,
     "metadata": {},
     "output_type": "execute_result"
    }
   ],
   "source": [
    "purpose_values = df['purpose'].value_counts().to_frame().reset_index().rename(columns = {'index':'purpose', 'purpose':'people'})\n",
    "purpose_sum = df.groupby('purpose')['debt'].sum().sort_values(ascending=False).to_frame().reset_index()\n",
    "purpose_final = purpose_values.merge(purpose_sum, how='left')\n",
    "purpose_final['percent'] = purpose_final[\"debt\"]/purpose_final[\"people\"]*100\n",
    "purpose_final.round(2).sort_values(by = 'percent').reset_index(drop=True)"
   ]
  },
  {
   "cell_type": "markdown",
   "metadata": {},
   "source": [
    "**Вывод**"
   ]
  },
  {
   "cell_type": "markdown",
   "metadata": {},
   "source": [
    "Самой рискованной целью выдачи кредита для банка является сделка с автомобилем. Клиенты, берущие кредит на цели, связанные с недвижимостью, наоборот более надежные."
   ]
  },
  {
   "cell_type": "markdown",
   "metadata": {},
   "source": [
    "## Общий вывод"
   ]
  },
  {
   "cell_type": "markdown",
   "metadata": {},
   "source": [
    "На основе выборки можно построить модель определения возможного риска выдачи кредита для конкретного клиента. Для примера можно написать простую функцию, которая будет считать количество пунктов риска на основании данных таблицы.\n",
    "\n",
    "Пусть функция прибавляет 1 пункт всем группам клиентов, в которых более 9% должников по кредиту."
   ]
  },
  {
   "cell_type": "code",
   "execution_count": 50,
   "metadata": {},
   "outputs": [],
   "source": [
    "def alert_group(row):\n",
    "    counter = 0\n",
    "    if row['children_category'] in ['1 ребенок', '2 ребенка']:\n",
    "        counter+=1\n",
    "    if row['family_status'] in ['гражданский брак', 'Не женат / не замужем']:\n",
    "        counter+=1\n",
    "    if row['purpose'] in ['образование', 'сделка с автомобилем']:\n",
    "        counter+=1\n",
    "    if counter==1:\n",
    "        return 'Низкий риск'\n",
    "    if counter==2:\n",
    "        return 'Средний риск'\n",
    "    if counter==3:\n",
    "        return 'Высокий риск'"
   ]
  },
  {
   "cell_type": "markdown",
   "metadata": {},
   "source": [
    "Проверим функцию на первой строке из датафрейма."
   ]
  },
  {
   "cell_type": "code",
   "execution_count": 51,
   "metadata": {
    "scrolled": true
   },
   "outputs": [
    {
     "data": {
      "text/plain": [
       "children                           1\n",
       "children_category          1 ребенок\n",
       "days_employed                   8437\n",
       "dob_years                         42\n",
       "education                     высшее\n",
       "education_id                       0\n",
       "family_status        женат / замужем\n",
       "family_status_id                   0\n",
       "gender                             F\n",
       "income_type                сотрудник\n",
       "debt                               0\n",
       "total_income                  253875\n",
       "income_level                 высокий\n",
       "purpose                покупка жилья\n",
       "Name: 0, dtype: object"
      ]
     },
     "execution_count": 51,
     "metadata": {},
     "output_type": "execute_result"
    }
   ],
   "source": [
    "row = df.loc[0]\n",
    "row"
   ]
  },
  {
   "cell_type": "markdown",
   "metadata": {},
   "source": [
    "Применим функцию к этому ряду."
   ]
  },
  {
   "cell_type": "code",
   "execution_count": 52,
   "metadata": {},
   "outputs": [
    {
     "data": {
      "text/plain": [
       "'Низкий риск'"
      ]
     },
     "execution_count": 52,
     "metadata": {},
     "output_type": "execute_result"
    }
   ],
   "source": [
    "alert_group(row)"
   ]
  },
  {
   "cell_type": "markdown",
   "metadata": {},
   "source": [
    "Действительно: счетчик прибавил 1 только по категории \"1 ребенок\". Значит функция работает."
   ]
  },
  {
   "cell_type": "markdown",
   "metadata": {},
   "source": [
    "По основному вопросу исследования о зависимости факта погашения кредита в срок от семейного положения и количества детей можно сделать вывод, что риск для банка ниже в случае, если клиент бездетный и ранее был в браке. С появлением детей и вступлением в брак, в том числе гражданский, риск повышается."
   ]
  }
 ],
 "metadata": {
  "ExecuteTimeLog": [
   {
    "duration": 574,
    "start_time": "2021-10-02T16:25:38.686Z"
   },
   {
    "duration": 55,
    "start_time": "2021-10-02T16:25:39.262Z"
   },
   {
    "duration": 28,
    "start_time": "2021-10-02T16:25:47.593Z"
   },
   {
    "duration": 13,
    "start_time": "2021-10-02T16:27:27.666Z"
   },
   {
    "duration": 11,
    "start_time": "2021-10-02T16:27:53.569Z"
   },
   {
    "duration": 14,
    "start_time": "2021-10-02T16:34:00.296Z"
   },
   {
    "duration": 17,
    "start_time": "2021-10-02T16:34:52.427Z"
   },
   {
    "duration": 14,
    "start_time": "2021-10-02T16:37:01.981Z"
   },
   {
    "duration": 64,
    "start_time": "2021-10-02T17:20:15.858Z"
   },
   {
    "duration": 59,
    "start_time": "2021-10-02T17:21:19.528Z"
   },
   {
    "duration": 13,
    "start_time": "2021-10-02T17:21:29.370Z"
   },
   {
    "duration": 391,
    "start_time": "2021-10-03T08:23:50.453Z"
   },
   {
    "duration": 252,
    "start_time": "2021-10-03T08:28:24.642Z"
   },
   {
    "duration": 745,
    "start_time": "2021-10-03T08:28:37.789Z"
   },
   {
    "duration": 29,
    "start_time": "2021-10-03T08:28:38.536Z"
   },
   {
    "duration": 16,
    "start_time": "2021-10-03T08:28:38.568Z"
   },
   {
    "duration": 14,
    "start_time": "2021-10-03T08:28:38.586Z"
   },
   {
    "duration": 5,
    "start_time": "2021-10-03T08:28:40.654Z"
   },
   {
    "duration": 9,
    "start_time": "2021-10-03T08:28:52.663Z"
   },
   {
    "duration": 5,
    "start_time": "2021-10-03T08:30:52.895Z"
   },
   {
    "duration": 6,
    "start_time": "2021-10-03T08:31:06.662Z"
   },
   {
    "duration": 8359,
    "start_time": "2021-10-03T08:32:12.316Z"
   },
   {
    "duration": -15,
    "start_time": "2021-10-03T08:32:40.304Z"
   },
   {
    "duration": 7,
    "start_time": "2021-10-03T08:32:47.466Z"
   },
   {
    "duration": 293,
    "start_time": "2021-10-03T08:38:30.157Z"
   },
   {
    "duration": 50,
    "start_time": "2021-10-03T08:38:44.335Z"
   },
   {
    "duration": 23,
    "start_time": "2021-10-03T08:39:36.845Z"
   },
   {
    "duration": 79,
    "start_time": "2021-10-03T08:47:17.311Z"
   },
   {
    "duration": 74,
    "start_time": "2021-10-03T08:48:19.298Z"
   },
   {
    "duration": 37,
    "start_time": "2021-10-03T08:48:36.969Z"
   },
   {
    "duration": 10,
    "start_time": "2021-10-03T08:49:31.278Z"
   },
   {
    "duration": 12,
    "start_time": "2021-10-03T08:49:37.668Z"
   },
   {
    "duration": 35,
    "start_time": "2021-10-03T08:49:53.721Z"
   },
   {
    "duration": 7,
    "start_time": "2021-10-03T08:59:48.667Z"
   },
   {
    "duration": 25,
    "start_time": "2021-10-03T09:17:24.703Z"
   },
   {
    "duration": 24,
    "start_time": "2021-10-03T09:17:45.468Z"
   },
   {
    "duration": 7,
    "start_time": "2021-10-03T09:17:58.413Z"
   },
   {
    "duration": 26,
    "start_time": "2021-10-03T09:18:10.939Z"
   },
   {
    "duration": 9,
    "start_time": "2021-10-03T09:18:30.140Z"
   },
   {
    "duration": 24,
    "start_time": "2021-10-03T09:19:05.707Z"
   },
   {
    "duration": 366,
    "start_time": "2021-10-03T09:23:34.848Z"
   },
   {
    "duration": 67,
    "start_time": "2021-10-03T09:24:01.528Z"
   },
   {
    "duration": 19,
    "start_time": "2021-10-03T09:24:01.598Z"
   },
   {
    "duration": 30,
    "start_time": "2021-10-03T09:24:01.619Z"
   },
   {
    "duration": 13,
    "start_time": "2021-10-03T09:24:01.658Z"
   },
   {
    "duration": 41,
    "start_time": "2021-10-03T09:24:01.674Z"
   },
   {
    "duration": 9,
    "start_time": "2021-10-03T09:24:04.337Z"
   },
   {
    "duration": 66,
    "start_time": "2021-10-03T09:24:16.760Z"
   },
   {
    "duration": 19,
    "start_time": "2021-10-03T09:24:16.829Z"
   },
   {
    "duration": 14,
    "start_time": "2021-10-03T09:24:16.858Z"
   },
   {
    "duration": 14,
    "start_time": "2021-10-03T09:24:16.875Z"
   },
   {
    "duration": 21,
    "start_time": "2021-10-03T09:24:16.891Z"
   },
   {
    "duration": 9,
    "start_time": "2021-10-03T09:24:16.914Z"
   },
   {
    "duration": 13,
    "start_time": "2021-10-03T09:24:16.959Z"
   },
   {
    "duration": 28,
    "start_time": "2021-10-03T09:24:19.747Z"
   },
   {
    "duration": 23,
    "start_time": "2021-10-03T09:25:14.134Z"
   },
   {
    "duration": 12,
    "start_time": "2021-10-03T09:48:27.538Z"
   },
   {
    "duration": 13,
    "start_time": "2021-10-03T09:49:39.796Z"
   },
   {
    "duration": 19,
    "start_time": "2021-10-03T09:55:06.844Z"
   },
   {
    "duration": 1329,
    "start_time": "2021-10-03T09:56:09.589Z"
   },
   {
    "duration": 13,
    "start_time": "2021-10-03T09:57:10.095Z"
   },
   {
    "duration": 9,
    "start_time": "2021-10-03T09:57:17.902Z"
   },
   {
    "duration": 9,
    "start_time": "2021-10-03T09:57:31.949Z"
   },
   {
    "duration": 8,
    "start_time": "2021-10-03T10:03:48.387Z"
   },
   {
    "duration": 15,
    "start_time": "2021-10-03T10:04:26.444Z"
   },
   {
    "duration": 83,
    "start_time": "2021-10-03T10:05:04.940Z"
   },
   {
    "duration": 274,
    "start_time": "2021-10-03T10:05:18.169Z"
   },
   {
    "duration": 277,
    "start_time": "2021-10-03T10:05:57.614Z"
   },
   {
    "duration": 256,
    "start_time": "2021-10-03T10:06:56.270Z"
   },
   {
    "duration": 6,
    "start_time": "2021-10-03T10:07:20.643Z"
   },
   {
    "duration": 9,
    "start_time": "2021-10-03T10:10:49.342Z"
   },
   {
    "duration": 13,
    "start_time": "2021-10-03T10:11:17.203Z"
   },
   {
    "duration": 13,
    "start_time": "2021-10-03T10:12:09.154Z"
   },
   {
    "duration": 13,
    "start_time": "2021-10-03T10:12:37.200Z"
   },
   {
    "duration": 13,
    "start_time": "2021-10-03T10:13:16.651Z"
   },
   {
    "duration": 283,
    "start_time": "2021-10-03T10:15:08.511Z"
   },
   {
    "duration": 5,
    "start_time": "2021-10-03T10:15:16.987Z"
   },
   {
    "duration": 6,
    "start_time": "2021-10-03T10:16:12.860Z"
   },
   {
    "duration": 14,
    "start_time": "2021-10-03T10:17:57.076Z"
   },
   {
    "duration": 66,
    "start_time": "2021-10-03T10:18:14.835Z"
   },
   {
    "duration": 19,
    "start_time": "2021-10-03T10:18:14.904Z"
   },
   {
    "duration": 32,
    "start_time": "2021-10-03T10:18:14.926Z"
   },
   {
    "duration": 13,
    "start_time": "2021-10-03T10:18:14.961Z"
   },
   {
    "duration": 22,
    "start_time": "2021-10-03T10:18:14.976Z"
   },
   {
    "duration": 11,
    "start_time": "2021-10-03T10:18:15.000Z"
   },
   {
    "duration": 54,
    "start_time": "2021-10-03T10:18:15.014Z"
   },
   {
    "duration": 28,
    "start_time": "2021-10-03T10:18:15.071Z"
   },
   {
    "duration": 16,
    "start_time": "2021-10-03T10:18:17.865Z"
   },
   {
    "duration": 12,
    "start_time": "2021-10-03T10:18:42.702Z"
   },
   {
    "duration": 14,
    "start_time": "2021-10-03T10:18:43.876Z"
   },
   {
    "duration": 6,
    "start_time": "2021-10-03T10:18:45.574Z"
   },
   {
    "duration": 23,
    "start_time": "2021-10-03T10:19:15.131Z"
   },
   {
    "duration": 10,
    "start_time": "2021-10-03T10:22:51.791Z"
   },
   {
    "duration": 16,
    "start_time": "2021-10-03T10:23:16.990Z"
   },
   {
    "duration": 16,
    "start_time": "2021-10-03T10:23:50.677Z"
   },
   {
    "duration": 62,
    "start_time": "2021-10-03T13:23:19.274Z"
   },
   {
    "duration": 20,
    "start_time": "2021-10-03T13:23:19.345Z"
   },
   {
    "duration": 17,
    "start_time": "2021-10-03T13:23:19.368Z"
   },
   {
    "duration": 11,
    "start_time": "2021-10-03T13:23:19.388Z"
   },
   {
    "duration": 23,
    "start_time": "2021-10-03T13:23:19.402Z"
   },
   {
    "duration": 6,
    "start_time": "2021-10-03T13:23:19.458Z"
   },
   {
    "duration": -114,
    "start_time": "2021-10-03T13:23:32.465Z"
   },
   {
    "duration": 6997,
    "start_time": "2021-10-03T13:23:45.778Z"
   },
   {
    "duration": 78,
    "start_time": "2021-10-03T13:24:09.272Z"
   },
   {
    "duration": 19,
    "start_time": "2021-10-03T13:24:09.353Z"
   },
   {
    "duration": 28,
    "start_time": "2021-10-03T13:24:09.376Z"
   },
   {
    "duration": 20,
    "start_time": "2021-10-03T13:24:09.408Z"
   },
   {
    "duration": 58,
    "start_time": "2021-10-03T13:24:09.431Z"
   },
   {
    "duration": 9,
    "start_time": "2021-10-03T13:24:09.492Z"
   },
   {
    "duration": -116,
    "start_time": "2021-10-03T13:24:20.063Z"
   },
   {
    "duration": 10106,
    "start_time": "2021-10-03T13:24:32.054Z"
   },
   {
    "duration": 65,
    "start_time": "2021-10-03T13:25:31.761Z"
   },
   {
    "duration": 18,
    "start_time": "2021-10-03T13:25:31.828Z"
   },
   {
    "duration": 36,
    "start_time": "2021-10-03T13:25:31.849Z"
   },
   {
    "duration": 12,
    "start_time": "2021-10-03T13:25:31.888Z"
   },
   {
    "duration": 33,
    "start_time": "2021-10-03T13:25:31.902Z"
   },
   {
    "duration": 12,
    "start_time": "2021-10-03T13:25:31.938Z"
   },
   {
    "duration": 7704,
    "start_time": "2021-10-03T13:25:37.038Z"
   },
   {
    "duration": 6784,
    "start_time": "2021-10-03T13:26:19.857Z"
   },
   {
    "duration": 6,
    "start_time": "2021-10-03T13:27:33.390Z"
   },
   {
    "duration": 7048,
    "start_time": "2021-10-03T13:27:45.481Z"
   },
   {
    "duration": 64,
    "start_time": "2021-10-03T13:28:57.171Z"
   },
   {
    "duration": 19,
    "start_time": "2021-10-03T13:28:57.238Z"
   },
   {
    "duration": 16,
    "start_time": "2021-10-03T13:28:57.260Z"
   },
   {
    "duration": 16,
    "start_time": "2021-10-03T13:28:57.278Z"
   },
   {
    "duration": 22,
    "start_time": "2021-10-03T13:28:57.296Z"
   },
   {
    "duration": 45,
    "start_time": "2021-10-03T13:28:57.320Z"
   },
   {
    "duration": 7799,
    "start_time": "2021-10-03T13:28:57.367Z"
   },
   {
    "duration": -1200,
    "start_time": "2021-10-03T13:29:06.374Z"
   },
   {
    "duration": -1207,
    "start_time": "2021-10-03T13:29:06.382Z"
   },
   {
    "duration": -1219,
    "start_time": "2021-10-03T13:29:06.396Z"
   },
   {
    "duration": -1228,
    "start_time": "2021-10-03T13:29:06.406Z"
   },
   {
    "duration": -1232,
    "start_time": "2021-10-03T13:29:06.412Z"
   },
   {
    "duration": -1235,
    "start_time": "2021-10-03T13:29:06.416Z"
   },
   {
    "duration": 20,
    "start_time": "2021-10-03T13:29:47.201Z"
   },
   {
    "duration": 14,
    "start_time": "2021-10-03T13:30:14.086Z"
   },
   {
    "duration": 8,
    "start_time": "2021-10-03T13:31:13.174Z"
   },
   {
    "duration": 8084,
    "start_time": "2021-10-03T13:31:15.762Z"
   },
   {
    "duration": 7,
    "start_time": "2021-10-03T13:32:11.270Z"
   },
   {
    "duration": 10,
    "start_time": "2021-10-03T13:32:23.791Z"
   },
   {
    "duration": 14,
    "start_time": "2021-10-03T13:32:28.691Z"
   },
   {
    "duration": 11,
    "start_time": "2021-10-03T13:32:38.637Z"
   },
   {
    "duration": 22,
    "start_time": "2021-10-03T13:32:39.841Z"
   },
   {
    "duration": 15,
    "start_time": "2021-10-03T13:32:47.037Z"
   },
   {
    "duration": 15,
    "start_time": "2021-10-03T13:32:49.172Z"
   },
   {
    "duration": 97,
    "start_time": "2021-10-03T13:34:57.902Z"
   },
   {
    "duration": 5,
    "start_time": "2021-10-03T13:35:31.637Z"
   },
   {
    "duration": 5,
    "start_time": "2021-10-03T13:36:10.789Z"
   },
   {
    "duration": 16,
    "start_time": "2021-10-03T13:36:53.003Z"
   },
   {
    "duration": 6,
    "start_time": "2021-10-03T13:38:39.150Z"
   },
   {
    "duration": 7,
    "start_time": "2021-10-03T13:38:41.255Z"
   },
   {
    "duration": 15,
    "start_time": "2021-10-03T13:38:43.065Z"
   },
   {
    "duration": 16,
    "start_time": "2021-10-03T13:41:26.800Z"
   },
   {
    "duration": 14,
    "start_time": "2021-10-03T13:41:32.731Z"
   },
   {
    "duration": 22,
    "start_time": "2021-10-03T13:43:26.959Z"
   },
   {
    "duration": 30,
    "start_time": "2021-10-03T13:48:41.814Z"
   },
   {
    "duration": 29,
    "start_time": "2021-10-03T13:48:52.010Z"
   },
   {
    "duration": 43,
    "start_time": "2021-10-03T13:57:03.775Z"
   },
   {
    "duration": 31,
    "start_time": "2021-10-03T13:57:17.157Z"
   },
   {
    "duration": 27,
    "start_time": "2021-10-03T13:58:29.694Z"
   },
   {
    "duration": 64,
    "start_time": "2021-10-03T13:58:36.925Z"
   },
   {
    "duration": 18,
    "start_time": "2021-10-03T13:58:36.992Z"
   },
   {
    "duration": 16,
    "start_time": "2021-10-03T13:58:37.013Z"
   },
   {
    "duration": 12,
    "start_time": "2021-10-03T13:58:37.058Z"
   },
   {
    "duration": 23,
    "start_time": "2021-10-03T13:58:37.072Z"
   },
   {
    "duration": 6,
    "start_time": "2021-10-03T13:58:37.097Z"
   },
   {
    "duration": 14,
    "start_time": "2021-10-03T13:58:37.105Z"
   },
   {
    "duration": 42,
    "start_time": "2021-10-03T13:58:37.123Z"
   },
   {
    "duration": 13,
    "start_time": "2021-10-03T13:58:37.167Z"
   },
   {
    "duration": 20,
    "start_time": "2021-10-03T13:58:37.183Z"
   },
   {
    "duration": 18,
    "start_time": "2021-10-03T13:58:37.205Z"
   },
   {
    "duration": 32,
    "start_time": "2021-10-03T13:58:37.226Z"
   },
   {
    "duration": 10,
    "start_time": "2021-10-03T13:58:37.261Z"
   },
   {
    "duration": 22,
    "start_time": "2021-10-03T13:58:37.273Z"
   },
   {
    "duration": 23,
    "start_time": "2021-10-03T13:58:37.298Z"
   },
   {
    "duration": 33,
    "start_time": "2021-10-03T13:58:39.420Z"
   },
   {
    "duration": 37,
    "start_time": "2021-10-03T13:58:53.639Z"
   },
   {
    "duration": 7,
    "start_time": "2021-10-03T14:01:44.490Z"
   },
   {
    "duration": 44,
    "start_time": "2021-10-03T14:09:35.938Z"
   },
   {
    "duration": 47,
    "start_time": "2021-10-03T14:36:14.300Z"
   },
   {
    "duration": 347,
    "start_time": "2021-10-03T14:37:34.829Z"
   },
   {
    "duration": 11,
    "start_time": "2021-10-03T14:45:16.335Z"
   },
   {
    "duration": 10,
    "start_time": "2021-10-03T14:45:56.836Z"
   },
   {
    "duration": 3896,
    "start_time": "2021-10-03T15:23:52.420Z"
   },
   {
    "duration": 13,
    "start_time": "2021-10-03T15:24:05.161Z"
   },
   {
    "duration": 3548,
    "start_time": "2021-10-03T15:24:26.296Z"
   },
   {
    "duration": 9,
    "start_time": "2021-10-03T15:24:29.857Z"
   },
   {
    "duration": 68,
    "start_time": "2021-10-03T15:29:26.730Z"
   },
   {
    "duration": 20,
    "start_time": "2021-10-03T15:29:26.800Z"
   },
   {
    "duration": 35,
    "start_time": "2021-10-03T15:29:26.822Z"
   },
   {
    "duration": 12,
    "start_time": "2021-10-03T15:29:26.860Z"
   },
   {
    "duration": 35,
    "start_time": "2021-10-03T15:29:26.874Z"
   },
   {
    "duration": 7,
    "start_time": "2021-10-03T15:29:26.911Z"
   },
   {
    "duration": 17,
    "start_time": "2021-10-03T15:29:26.920Z"
   },
   {
    "duration": 10,
    "start_time": "2021-10-03T15:29:26.959Z"
   },
   {
    "duration": 16,
    "start_time": "2021-10-03T15:29:26.972Z"
   },
   {
    "duration": 19,
    "start_time": "2021-10-03T15:29:26.990Z"
   },
   {
    "duration": 17,
    "start_time": "2021-10-03T15:29:27.011Z"
   },
   {
    "duration": 30,
    "start_time": "2021-10-03T15:29:27.030Z"
   },
   {
    "duration": 14,
    "start_time": "2021-10-03T15:29:27.063Z"
   },
   {
    "duration": 16,
    "start_time": "2021-10-03T15:29:29.199Z"
   },
   {
    "duration": 17,
    "start_time": "2021-10-03T15:29:30.719Z"
   },
   {
    "duration": 27,
    "start_time": "2021-10-03T15:29:35.319Z"
   },
   {
    "duration": 3938,
    "start_time": "2021-10-03T15:36:19.565Z"
   },
   {
    "duration": 11,
    "start_time": "2021-10-03T15:36:23.507Z"
   },
   {
    "duration": 4,
    "start_time": "2021-10-03T15:38:30.494Z"
   },
   {
    "duration": 10,
    "start_time": "2021-10-03T15:38:31.805Z"
   },
   {
    "duration": 4506,
    "start_time": "2021-10-03T15:38:35.392Z"
   },
   {
    "duration": 12,
    "start_time": "2021-10-03T15:38:39.901Z"
   },
   {
    "duration": 66,
    "start_time": "2021-10-03T15:38:52.814Z"
   },
   {
    "duration": 19,
    "start_time": "2021-10-03T15:38:52.883Z"
   },
   {
    "duration": 33,
    "start_time": "2021-10-03T15:38:52.905Z"
   },
   {
    "duration": 31,
    "start_time": "2021-10-03T15:38:52.940Z"
   },
   {
    "duration": 46,
    "start_time": "2021-10-03T15:38:52.973Z"
   },
   {
    "duration": 8,
    "start_time": "2021-10-03T15:38:53.021Z"
   },
   {
    "duration": 32,
    "start_time": "2021-10-03T15:38:53.031Z"
   },
   {
    "duration": 28,
    "start_time": "2021-10-03T15:38:53.067Z"
   },
   {
    "duration": 17,
    "start_time": "2021-10-03T15:38:53.098Z"
   },
   {
    "duration": 25,
    "start_time": "2021-10-03T15:38:53.118Z"
   },
   {
    "duration": 28,
    "start_time": "2021-10-03T15:38:53.146Z"
   },
   {
    "duration": 5,
    "start_time": "2021-10-03T15:38:53.177Z"
   },
   {
    "duration": 23,
    "start_time": "2021-10-03T15:38:53.185Z"
   },
   {
    "duration": 43,
    "start_time": "2021-10-03T15:38:53.210Z"
   },
   {
    "duration": 20,
    "start_time": "2021-10-03T15:38:53.255Z"
   },
   {
    "duration": 35,
    "start_time": "2021-10-03T15:38:53.278Z"
   },
   {
    "duration": 63,
    "start_time": "2021-10-03T15:38:53.315Z"
   },
   {
    "duration": 7,
    "start_time": "2021-10-03T15:38:53.380Z"
   },
   {
    "duration": 37,
    "start_time": "2021-10-03T15:38:53.389Z"
   },
   {
    "duration": 13,
    "start_time": "2021-10-03T15:38:53.429Z"
   },
   {
    "duration": 4691,
    "start_time": "2021-10-03T15:38:56.745Z"
   },
   {
    "duration": 23,
    "start_time": "2021-10-03T15:39:01.439Z"
   },
   {
    "duration": 22,
    "start_time": "2021-10-03T15:48:04.241Z"
   },
   {
    "duration": 36,
    "start_time": "2021-10-03T15:48:04.316Z"
   },
   {
    "duration": 30,
    "start_time": "2021-10-03T15:48:04.417Z"
   },
   {
    "duration": 10,
    "start_time": "2021-10-03T15:48:04.507Z"
   },
   {
    "duration": 13,
    "start_time": "2021-10-03T15:48:04.577Z"
   },
   {
    "duration": 18,
    "start_time": "2021-10-03T15:48:04.669Z"
   },
   {
    "duration": 20,
    "start_time": "2021-10-03T15:48:04.766Z"
   },
   {
    "duration": 38,
    "start_time": "2021-10-03T15:48:04.837Z"
   },
   {
    "duration": 12,
    "start_time": "2021-10-03T15:48:04.920Z"
   },
   {
    "duration": 23,
    "start_time": "2021-10-03T15:48:05.005Z"
   },
   {
    "duration": 14,
    "start_time": "2021-10-03T15:48:05.099Z"
   },
   {
    "duration": 45,
    "start_time": "2021-10-03T15:48:05.207Z"
   },
   {
    "duration": 52,
    "start_time": "2021-10-03T15:48:05.369Z"
   },
   {
    "duration": 34,
    "start_time": "2021-10-03T15:48:05.550Z"
   },
   {
    "duration": 69,
    "start_time": "2021-10-03T15:48:05.705Z"
   },
   {
    "duration": 39,
    "start_time": "2021-10-03T15:48:05.834Z"
   },
   {
    "duration": 38,
    "start_time": "2021-10-03T15:48:20.922Z"
   },
   {
    "duration": 33,
    "start_time": "2021-10-03T15:48:21.057Z"
   },
   {
    "duration": 4345,
    "start_time": "2021-10-03T15:48:26.286Z"
   },
   {
    "duration": 27,
    "start_time": "2021-10-03T15:48:30.725Z"
   },
   {
    "duration": 67,
    "start_time": "2021-10-03T15:48:31.136Z"
   },
   {
    "duration": 76,
    "start_time": "2021-10-03T15:50:41.971Z"
   },
   {
    "duration": 21,
    "start_time": "2021-10-03T15:50:42.050Z"
   },
   {
    "duration": 19,
    "start_time": "2021-10-03T15:50:42.074Z"
   },
   {
    "duration": 12,
    "start_time": "2021-10-03T15:50:42.096Z"
   },
   {
    "duration": 53,
    "start_time": "2021-10-03T15:50:42.111Z"
   },
   {
    "duration": 10,
    "start_time": "2021-10-03T15:50:42.167Z"
   },
   {
    "duration": 11,
    "start_time": "2021-10-03T15:50:42.180Z"
   },
   {
    "duration": 18,
    "start_time": "2021-10-03T15:50:42.194Z"
   },
   {
    "duration": 51,
    "start_time": "2021-10-03T15:50:42.215Z"
   },
   {
    "duration": 17,
    "start_time": "2021-10-03T15:50:42.269Z"
   },
   {
    "duration": 16,
    "start_time": "2021-10-03T15:50:42.289Z"
   },
   {
    "duration": 5,
    "start_time": "2021-10-03T15:50:42.308Z"
   },
   {
    "duration": 6,
    "start_time": "2021-10-03T15:50:42.357Z"
   },
   {
    "duration": 18,
    "start_time": "2021-10-03T15:50:42.365Z"
   },
   {
    "duration": 35,
    "start_time": "2021-10-03T15:50:42.385Z"
   },
   {
    "duration": 45,
    "start_time": "2021-10-03T15:50:42.423Z"
   },
   {
    "duration": 57,
    "start_time": "2021-10-03T15:50:42.470Z"
   },
   {
    "duration": 34,
    "start_time": "2021-10-03T15:50:42.529Z"
   },
   {
    "duration": 26,
    "start_time": "2021-10-03T15:50:42.565Z"
   },
   {
    "duration": 19,
    "start_time": "2021-10-03T15:50:42.593Z"
   },
   {
    "duration": 5195,
    "start_time": "2021-10-03T15:50:42.615Z"
   },
   {
    "duration": 14,
    "start_time": "2021-10-03T15:50:47.813Z"
   },
   {
    "duration": 70,
    "start_time": "2021-10-03T15:54:04.709Z"
   },
   {
    "duration": 28,
    "start_time": "2021-10-03T15:54:07.842Z"
   },
   {
    "duration": 3583,
    "start_time": "2021-10-03T15:54:29.591Z"
   },
   {
    "duration": 10,
    "start_time": "2021-10-03T15:54:33.177Z"
   },
   {
    "duration": 69,
    "start_time": "2021-10-03T15:55:40.437Z"
   },
   {
    "duration": 19,
    "start_time": "2021-10-03T15:55:40.509Z"
   },
   {
    "duration": 18,
    "start_time": "2021-10-03T15:55:40.559Z"
   },
   {
    "duration": 12,
    "start_time": "2021-10-03T15:55:40.581Z"
   },
   {
    "duration": 26,
    "start_time": "2021-10-03T15:55:40.596Z"
   },
   {
    "duration": 36,
    "start_time": "2021-10-03T15:55:40.624Z"
   },
   {
    "duration": 9,
    "start_time": "2021-10-03T15:55:40.663Z"
   },
   {
    "duration": 22,
    "start_time": "2021-10-03T15:55:40.675Z"
   },
   {
    "duration": 22,
    "start_time": "2021-10-03T15:55:40.701Z"
   },
   {
    "duration": 38,
    "start_time": "2021-10-03T15:55:40.725Z"
   },
   {
    "duration": 33,
    "start_time": "2021-10-03T15:55:40.766Z"
   },
   {
    "duration": 9,
    "start_time": "2021-10-03T15:55:40.802Z"
   },
   {
    "duration": 19,
    "start_time": "2021-10-03T15:55:40.813Z"
   },
   {
    "duration": 24,
    "start_time": "2021-10-03T15:55:40.834Z"
   },
   {
    "duration": 38,
    "start_time": "2021-10-03T15:55:40.860Z"
   },
   {
    "duration": 32,
    "start_time": "2021-10-03T15:55:40.901Z"
   },
   {
    "duration": 55,
    "start_time": "2021-10-03T15:55:40.935Z"
   },
   {
    "duration": 9,
    "start_time": "2021-10-03T15:55:40.994Z"
   },
   {
    "duration": 55,
    "start_time": "2021-10-03T15:55:41.006Z"
   },
   {
    "duration": 12,
    "start_time": "2021-10-03T15:55:41.063Z"
   },
   {
    "duration": 4680,
    "start_time": "2021-10-03T15:55:44.845Z"
   },
   {
    "duration": 12,
    "start_time": "2021-10-03T15:55:49.528Z"
   },
   {
    "duration": 13037,
    "start_time": "2021-10-03T15:56:26.060Z"
   },
   {
    "duration": 12312,
    "start_time": "2021-10-03T15:56:42.520Z"
   },
   {
    "duration": 3897,
    "start_time": "2021-10-03T15:56:55.222Z"
   },
   {
    "duration": 12523,
    "start_time": "2021-10-03T15:57:24.171Z"
   },
   {
    "duration": 4416,
    "start_time": "2021-10-03T15:57:47.878Z"
   },
   {
    "duration": 3425,
    "start_time": "2021-10-03T15:58:34.247Z"
   },
   {
    "duration": 298,
    "start_time": "2021-10-03T16:00:41.771Z"
   },
   {
    "duration": 562,
    "start_time": "2021-10-03T16:00:51.352Z"
   },
   {
    "duration": 311,
    "start_time": "2021-10-03T16:02:12.305Z"
   },
   {
    "duration": 357,
    "start_time": "2021-10-03T16:02:34.156Z"
   },
   {
    "duration": 8,
    "start_time": "2021-10-03T16:03:44.514Z"
   },
   {
    "duration": 7,
    "start_time": "2021-10-03T16:04:10.513Z"
   },
   {
    "duration": 322,
    "start_time": "2021-10-03T16:15:19.658Z"
   },
   {
    "duration": 279,
    "start_time": "2021-10-03T16:16:17.249Z"
   },
   {
    "duration": 275,
    "start_time": "2021-10-03T16:17:26.594Z"
   },
   {
    "duration": 5341,
    "start_time": "2021-10-03T16:20:51.805Z"
   },
   {
    "duration": 10,
    "start_time": "2021-10-03T16:20:58.112Z"
   },
   {
    "duration": 5454,
    "start_time": "2021-10-03T16:22:22.993Z"
   },
   {
    "duration": 15,
    "start_time": "2021-10-03T16:22:28.449Z"
   },
   {
    "duration": 307,
    "start_time": "2021-10-03T16:31:03.098Z"
   },
   {
    "duration": 101,
    "start_time": "2021-10-03T16:31:13.801Z"
   },
   {
    "duration": 4,
    "start_time": "2021-10-03T16:31:31.435Z"
   },
   {
    "duration": 5465,
    "start_time": "2021-10-03T16:31:33.513Z"
   },
   {
    "duration": 11,
    "start_time": "2021-10-03T16:31:38.980Z"
   },
   {
    "duration": 45033,
    "start_time": "2021-10-03T16:33:49.037Z"
   },
   {
    "duration": 10,
    "start_time": "2021-10-03T16:34:34.072Z"
   },
   {
    "duration": 4,
    "start_time": "2021-10-03T16:35:48.526Z"
   },
   {
    "duration": 5,
    "start_time": "2021-10-03T16:35:59.181Z"
   },
   {
    "duration": 6,
    "start_time": "2021-10-03T16:36:15.595Z"
   },
   {
    "duration": 5,
    "start_time": "2021-10-03T16:36:30.210Z"
   },
   {
    "duration": 66,
    "start_time": "2021-10-03T16:36:46.192Z"
   },
   {
    "duration": 19,
    "start_time": "2021-10-03T16:36:46.261Z"
   },
   {
    "duration": 17,
    "start_time": "2021-10-03T16:36:46.283Z"
   },
   {
    "duration": 13,
    "start_time": "2021-10-03T16:36:46.302Z"
   },
   {
    "duration": 57,
    "start_time": "2021-10-03T16:36:46.318Z"
   },
   {
    "duration": 7,
    "start_time": "2021-10-03T16:36:46.378Z"
   },
   {
    "duration": 10,
    "start_time": "2021-10-03T16:36:46.388Z"
   },
   {
    "duration": 11,
    "start_time": "2021-10-03T16:36:46.401Z"
   },
   {
    "duration": 53,
    "start_time": "2021-10-03T16:36:46.415Z"
   },
   {
    "duration": 14,
    "start_time": "2021-10-03T16:36:46.470Z"
   },
   {
    "duration": 13,
    "start_time": "2021-10-03T16:36:46.487Z"
   },
   {
    "duration": 5,
    "start_time": "2021-10-03T16:36:46.503Z"
   },
   {
    "duration": 5,
    "start_time": "2021-10-03T16:36:46.510Z"
   },
   {
    "duration": 52,
    "start_time": "2021-10-03T16:36:46.518Z"
   },
   {
    "duration": 21,
    "start_time": "2021-10-03T16:36:46.572Z"
   },
   {
    "duration": 25,
    "start_time": "2021-10-03T16:36:46.596Z"
   },
   {
    "duration": 74,
    "start_time": "2021-10-03T16:36:46.623Z"
   },
   {
    "duration": 7,
    "start_time": "2021-10-03T16:36:46.699Z"
   },
   {
    "duration": 49,
    "start_time": "2021-10-03T16:36:46.708Z"
   },
   {
    "duration": 10,
    "start_time": "2021-10-03T16:36:46.760Z"
   },
   {
    "duration": 4,
    "start_time": "2021-10-03T16:36:46.772Z"
   },
   {
    "duration": 48159,
    "start_time": "2021-10-03T16:36:56.111Z"
   },
   {
    "duration": 11,
    "start_time": "2021-10-03T16:37:44.273Z"
   },
   {
    "duration": 86,
    "start_time": "2021-10-03T16:39:14.934Z"
   },
   {
    "duration": 5396,
    "start_time": "2021-10-03T16:39:26.130Z"
   },
   {
    "duration": 11,
    "start_time": "2021-10-03T16:39:31.529Z"
   },
   {
    "duration": 5369,
    "start_time": "2021-10-03T16:40:13.619Z"
   },
   {
    "duration": 11,
    "start_time": "2021-10-03T16:40:18.991Z"
   },
   {
    "duration": 5363,
    "start_time": "2021-10-03T16:40:24.839Z"
   },
   {
    "duration": 10,
    "start_time": "2021-10-03T16:40:31.106Z"
   },
   {
    "duration": 76,
    "start_time": "2021-10-03T16:40:48.285Z"
   },
   {
    "duration": 21,
    "start_time": "2021-10-03T16:40:48.364Z"
   },
   {
    "duration": 19,
    "start_time": "2021-10-03T16:40:48.389Z"
   },
   {
    "duration": 47,
    "start_time": "2021-10-03T16:40:48.412Z"
   },
   {
    "duration": 21,
    "start_time": "2021-10-03T16:40:48.462Z"
   },
   {
    "duration": 7,
    "start_time": "2021-10-03T16:40:48.485Z"
   },
   {
    "duration": 9,
    "start_time": "2021-10-03T16:40:48.494Z"
   },
   {
    "duration": 52,
    "start_time": "2021-10-03T16:40:48.507Z"
   },
   {
    "duration": 15,
    "start_time": "2021-10-03T16:40:48.563Z"
   },
   {
    "duration": 15,
    "start_time": "2021-10-03T16:40:48.580Z"
   },
   {
    "duration": 17,
    "start_time": "2021-10-03T16:40:48.598Z"
   },
   {
    "duration": 44,
    "start_time": "2021-10-03T16:40:48.617Z"
   },
   {
    "duration": 5,
    "start_time": "2021-10-03T16:40:48.664Z"
   },
   {
    "duration": 24,
    "start_time": "2021-10-03T16:40:48.671Z"
   },
   {
    "duration": 41,
    "start_time": "2021-10-03T16:40:48.698Z"
   },
   {
    "duration": 24,
    "start_time": "2021-10-03T16:40:48.757Z"
   },
   {
    "duration": 44,
    "start_time": "2021-10-03T16:40:48.784Z"
   },
   {
    "duration": 29,
    "start_time": "2021-10-03T16:40:48.830Z"
   },
   {
    "duration": 43,
    "start_time": "2021-10-03T16:40:48.862Z"
   },
   {
    "duration": 10,
    "start_time": "2021-10-03T16:40:48.907Z"
   },
   {
    "duration": 12,
    "start_time": "2021-10-03T16:40:48.919Z"
   },
   {
    "duration": 6422,
    "start_time": "2021-10-03T16:40:54.635Z"
   },
   {
    "duration": 12,
    "start_time": "2021-10-03T16:41:01.060Z"
   },
   {
    "duration": 5575,
    "start_time": "2021-10-03T16:41:22.613Z"
   },
   {
    "duration": 10,
    "start_time": "2021-10-03T16:41:29.759Z"
   },
   {
    "duration": 5360,
    "start_time": "2021-10-03T16:42:13.165Z"
   },
   {
    "duration": 11,
    "start_time": "2021-10-03T16:42:18.528Z"
   },
   {
    "duration": 3396,
    "start_time": "2021-10-03T16:42:53.746Z"
   },
   {
    "duration": 13448,
    "start_time": "2021-10-03T16:43:03.614Z"
   },
   {
    "duration": 11,
    "start_time": "2021-10-03T16:43:17.064Z"
   },
   {
    "duration": 13501,
    "start_time": "2021-10-03T16:43:53.193Z"
   },
   {
    "duration": 12,
    "start_time": "2021-10-03T16:44:06.696Z"
   },
   {
    "duration": 36988,
    "start_time": "2021-10-03T16:46:10.783Z"
   },
   {
    "duration": 10,
    "start_time": "2021-10-03T16:46:52.566Z"
   },
   {
    "duration": 788,
    "start_time": "2021-10-04T04:52:22.823Z"
   },
   {
    "duration": 1028,
    "start_time": "2021-10-04T04:52:29.500Z"
   },
   {
    "duration": 50,
    "start_time": "2021-10-04T04:52:30.532Z"
   },
   {
    "duration": 23,
    "start_time": "2021-10-04T04:52:30.586Z"
   },
   {
    "duration": 22,
    "start_time": "2021-10-04T04:52:30.613Z"
   },
   {
    "duration": 34,
    "start_time": "2021-10-04T04:52:30.664Z"
   },
   {
    "duration": 19,
    "start_time": "2021-10-04T04:52:30.700Z"
   },
   {
    "duration": 15,
    "start_time": "2021-10-04T04:52:30.722Z"
   },
   {
    "duration": 21,
    "start_time": "2021-10-04T04:52:30.761Z"
   },
   {
    "duration": 19,
    "start_time": "2021-10-04T04:52:30.786Z"
   },
   {
    "duration": 17,
    "start_time": "2021-10-04T04:52:30.807Z"
   },
   {
    "duration": 14,
    "start_time": "2021-10-04T04:52:30.826Z"
   },
   {
    "duration": 7,
    "start_time": "2021-10-04T04:52:30.862Z"
   },
   {
    "duration": 9,
    "start_time": "2021-10-04T04:52:30.872Z"
   },
   {
    "duration": 20,
    "start_time": "2021-10-04T04:52:30.884Z"
   },
   {
    "duration": 20,
    "start_time": "2021-10-04T04:52:30.907Z"
   },
   {
    "duration": 59,
    "start_time": "2021-10-04T04:52:30.930Z"
   },
   {
    "duration": 72,
    "start_time": "2021-10-04T04:52:30.991Z"
   },
   {
    "duration": 8,
    "start_time": "2021-10-04T04:52:31.066Z"
   },
   {
    "duration": 12,
    "start_time": "2021-10-04T04:52:31.076Z"
   },
   {
    "duration": 24,
    "start_time": "2021-10-04T04:52:31.090Z"
   },
   {
    "duration": 41785,
    "start_time": "2021-10-04T04:52:31.116Z"
   },
   {
    "duration": 10,
    "start_time": "2021-10-04T04:53:12.904Z"
   },
   {
    "duration": 11,
    "start_time": "2021-10-04T04:53:12.918Z"
   },
   {
    "duration": 431,
    "start_time": "2021-10-04T16:17:09.030Z"
   },
   {
    "duration": 847,
    "start_time": "2021-10-04T16:17:13.884Z"
   },
   {
    "duration": 31,
    "start_time": "2021-10-04T16:17:14.734Z"
   },
   {
    "duration": 32,
    "start_time": "2021-10-04T16:17:14.768Z"
   },
   {
    "duration": 16,
    "start_time": "2021-10-04T16:17:14.804Z"
   },
   {
    "duration": 21,
    "start_time": "2021-10-04T16:17:14.822Z"
   },
   {
    "duration": 43,
    "start_time": "2021-10-04T16:17:14.845Z"
   },
   {
    "duration": 14,
    "start_time": "2021-10-04T16:17:14.891Z"
   },
   {
    "duration": 10,
    "start_time": "2021-10-04T16:17:14.911Z"
   },
   {
    "duration": 12,
    "start_time": "2021-10-04T16:17:14.924Z"
   },
   {
    "duration": 25,
    "start_time": "2021-10-04T16:17:14.983Z"
   },
   {
    "duration": 15,
    "start_time": "2021-10-04T16:17:15.011Z"
   },
   {
    "duration": 11,
    "start_time": "2021-10-04T16:17:15.028Z"
   },
   {
    "duration": 10,
    "start_time": "2021-10-04T16:17:15.041Z"
   },
   {
    "duration": 49,
    "start_time": "2021-10-04T16:17:15.053Z"
   },
   {
    "duration": 21,
    "start_time": "2021-10-04T16:17:15.105Z"
   },
   {
    "duration": 26,
    "start_time": "2021-10-04T16:17:15.129Z"
   },
   {
    "duration": 49,
    "start_time": "2021-10-04T16:17:15.182Z"
   },
   {
    "duration": 7,
    "start_time": "2021-10-04T16:17:15.233Z"
   },
   {
    "duration": 13,
    "start_time": "2021-10-04T16:17:15.242Z"
   },
   {
    "duration": 39,
    "start_time": "2021-10-04T16:17:15.257Z"
   },
   {
    "duration": 41523,
    "start_time": "2021-10-04T16:17:15.300Z"
   },
   {
    "duration": 11,
    "start_time": "2021-10-04T16:17:56.825Z"
   },
   {
    "duration": 10,
    "start_time": "2021-10-04T16:17:56.840Z"
   },
   {
    "duration": 31,
    "start_time": "2021-10-04T16:17:56.852Z"
   },
   {
    "duration": 17,
    "start_time": "2021-10-04T16:23:36.606Z"
   },
   {
    "duration": 15,
    "start_time": "2021-10-04T16:24:14.559Z"
   },
   {
    "duration": 12,
    "start_time": "2021-10-04T16:24:25.310Z"
   },
   {
    "duration": 8,
    "start_time": "2021-10-04T16:24:33.441Z"
   },
   {
    "duration": 4,
    "start_time": "2021-10-04T16:26:11.306Z"
   },
   {
    "duration": 8,
    "start_time": "2021-10-04T16:26:18.524Z"
   },
   {
    "duration": 7,
    "start_time": "2021-10-04T16:27:12.020Z"
   },
   {
    "duration": 30,
    "start_time": "2021-10-04T16:30:55.250Z"
   },
   {
    "duration": 19,
    "start_time": "2021-10-04T16:32:37.100Z"
   },
   {
    "duration": 5,
    "start_time": "2021-10-04T16:42:03.130Z"
   },
   {
    "duration": 11,
    "start_time": "2021-10-04T16:43:47.907Z"
   },
   {
    "duration": 18,
    "start_time": "2021-10-04T16:44:03.013Z"
   },
   {
    "duration": 6,
    "start_time": "2021-10-04T16:44:51.897Z"
   },
   {
    "duration": 387,
    "start_time": "2021-10-04T16:44:53.556Z"
   },
   {
    "duration": 23,
    "start_time": "2021-10-04T16:45:01.984Z"
   },
   {
    "duration": 62,
    "start_time": "2021-10-04T16:45:13.096Z"
   },
   {
    "duration": 18,
    "start_time": "2021-10-04T16:45:13.161Z"
   },
   {
    "duration": 19,
    "start_time": "2021-10-04T16:45:13.183Z"
   },
   {
    "duration": 15,
    "start_time": "2021-10-04T16:45:13.205Z"
   },
   {
    "duration": 24,
    "start_time": "2021-10-04T16:45:13.223Z"
   },
   {
    "duration": 52,
    "start_time": "2021-10-04T16:45:13.249Z"
   },
   {
    "duration": 10,
    "start_time": "2021-10-04T16:45:13.304Z"
   },
   {
    "duration": 11,
    "start_time": "2021-10-04T16:45:13.318Z"
   },
   {
    "duration": 11,
    "start_time": "2021-10-04T16:45:13.332Z"
   },
   {
    "duration": 52,
    "start_time": "2021-10-04T16:45:13.346Z"
   },
   {
    "duration": 17,
    "start_time": "2021-10-04T16:45:13.400Z"
   },
   {
    "duration": 5,
    "start_time": "2021-10-04T16:45:13.419Z"
   },
   {
    "duration": 6,
    "start_time": "2021-10-04T16:45:13.427Z"
   },
   {
    "duration": 68,
    "start_time": "2021-10-04T16:45:13.435Z"
   },
   {
    "duration": 8,
    "start_time": "2021-10-04T16:45:13.506Z"
   },
   {
    "duration": 22,
    "start_time": "2021-10-04T16:45:13.517Z"
   },
   {
    "duration": 4,
    "start_time": "2021-10-04T16:45:13.543Z"
   },
   {
    "duration": 54,
    "start_time": "2021-10-04T16:45:13.550Z"
   },
   {
    "duration": 28,
    "start_time": "2021-10-04T16:45:13.608Z"
   },
   {
    "duration": 73,
    "start_time": "2021-10-04T16:45:13.638Z"
   },
   {
    "duration": 9,
    "start_time": "2021-10-04T16:45:13.715Z"
   },
   {
    "duration": 56,
    "start_time": "2021-10-04T16:45:13.727Z"
   },
   {
    "duration": 18,
    "start_time": "2021-10-04T16:45:13.786Z"
   },
   {
    "duration": 42378,
    "start_time": "2021-10-04T16:45:13.807Z"
   },
   {
    "duration": 12,
    "start_time": "2021-10-04T16:45:56.189Z"
   },
   {
    "duration": 14,
    "start_time": "2021-10-04T16:45:56.204Z"
   },
   {
    "duration": 11,
    "start_time": "2021-10-04T16:45:56.221Z"
   },
   {
    "duration": 4,
    "start_time": "2021-10-04T16:45:56.236Z"
   },
   {
    "duration": 50,
    "start_time": "2021-10-04T16:45:56.243Z"
   },
   {
    "duration": 21,
    "start_time": "2021-10-04T16:45:56.296Z"
   },
   {
    "duration": 6,
    "start_time": "2021-10-04T16:48:44.709Z"
   },
   {
    "duration": 10,
    "start_time": "2021-10-04T16:49:05.281Z"
   },
   {
    "duration": 11,
    "start_time": "2021-10-04T16:51:11.639Z"
   },
   {
    "duration": 5,
    "start_time": "2021-10-04T16:57:21.224Z"
   },
   {
    "duration": 6,
    "start_time": "2021-10-04T16:58:07.350Z"
   },
   {
    "duration": 14,
    "start_time": "2021-10-04T16:58:08.309Z"
   },
   {
    "duration": 20,
    "start_time": "2021-10-04T16:58:45.119Z"
   },
   {
    "duration": 352,
    "start_time": "2021-10-04T16:59:03.526Z"
   },
   {
    "duration": 5,
    "start_time": "2021-10-04T16:59:08.087Z"
   },
   {
    "duration": 357,
    "start_time": "2021-10-04T16:59:09.676Z"
   },
   {
    "duration": 62,
    "start_time": "2021-10-04T16:59:15.647Z"
   },
   {
    "duration": 18,
    "start_time": "2021-10-04T16:59:15.711Z"
   },
   {
    "duration": 14,
    "start_time": "2021-10-04T16:59:15.732Z"
   },
   {
    "duration": 36,
    "start_time": "2021-10-04T16:59:15.749Z"
   },
   {
    "duration": 21,
    "start_time": "2021-10-04T16:59:15.787Z"
   },
   {
    "duration": 7,
    "start_time": "2021-10-04T16:59:15.812Z"
   },
   {
    "duration": 9,
    "start_time": "2021-10-04T16:59:15.822Z"
   },
   {
    "duration": 59,
    "start_time": "2021-10-04T16:59:15.833Z"
   },
   {
    "duration": 12,
    "start_time": "2021-10-04T16:59:15.894Z"
   },
   {
    "duration": 15,
    "start_time": "2021-10-04T16:59:15.908Z"
   },
   {
    "duration": 57,
    "start_time": "2021-10-04T16:59:15.925Z"
   },
   {
    "duration": 6,
    "start_time": "2021-10-04T16:59:15.985Z"
   },
   {
    "duration": 7,
    "start_time": "2021-10-04T16:59:15.995Z"
   },
   {
    "duration": 17,
    "start_time": "2021-10-04T16:59:16.005Z"
   },
   {
    "duration": 7,
    "start_time": "2021-10-04T16:59:16.025Z"
   },
   {
    "duration": 60,
    "start_time": "2021-10-04T16:59:16.035Z"
   },
   {
    "duration": 4,
    "start_time": "2021-10-04T16:59:16.097Z"
   },
   {
    "duration": 19,
    "start_time": "2021-10-04T16:59:16.104Z"
   },
   {
    "duration": 26,
    "start_time": "2021-10-04T16:59:16.126Z"
   },
   {
    "duration": 67,
    "start_time": "2021-10-04T16:59:16.154Z"
   },
   {
    "duration": 8,
    "start_time": "2021-10-04T16:59:16.224Z"
   },
   {
    "duration": 59,
    "start_time": "2021-10-04T16:59:16.235Z"
   },
   {
    "duration": 10,
    "start_time": "2021-10-04T16:59:16.296Z"
   },
   {
    "duration": 40371,
    "start_time": "2021-10-04T16:59:16.308Z"
   },
   {
    "duration": 11,
    "start_time": "2021-10-04T16:59:56.683Z"
   },
   {
    "duration": 11,
    "start_time": "2021-10-04T16:59:56.696Z"
   },
   {
    "duration": 9,
    "start_time": "2021-10-04T16:59:56.709Z"
   },
   {
    "duration": 5,
    "start_time": "2021-10-04T16:59:56.721Z"
   },
   {
    "duration": 13,
    "start_time": "2021-10-04T16:59:56.729Z"
   },
   {
    "duration": 53,
    "start_time": "2021-10-04T16:59:56.744Z"
   },
   {
    "duration": 14,
    "start_time": "2021-10-04T16:59:56.801Z"
   },
   {
    "duration": 4,
    "start_time": "2021-10-04T16:59:56.817Z"
   },
   {
    "duration": 14,
    "start_time": "2021-10-04T17:00:03.181Z"
   },
   {
    "duration": 20,
    "start_time": "2021-10-04T17:00:04.886Z"
   },
   {
    "duration": 62,
    "start_time": "2021-10-04T17:00:33.862Z"
   },
   {
    "duration": 19,
    "start_time": "2021-10-04T17:00:33.927Z"
   },
   {
    "duration": 35,
    "start_time": "2021-10-04T17:00:33.950Z"
   },
   {
    "duration": 14,
    "start_time": "2021-10-04T17:00:33.989Z"
   },
   {
    "duration": 23,
    "start_time": "2021-10-04T17:00:34.006Z"
   },
   {
    "duration": 51,
    "start_time": "2021-10-04T17:00:34.032Z"
   },
   {
    "duration": 19,
    "start_time": "2021-10-04T17:00:34.086Z"
   },
   {
    "duration": 11,
    "start_time": "2021-10-04T17:00:34.109Z"
   },
   {
    "duration": 11,
    "start_time": "2021-10-04T17:00:34.123Z"
   },
   {
    "duration": 54,
    "start_time": "2021-10-04T17:00:34.136Z"
   },
   {
    "duration": 19,
    "start_time": "2021-10-04T17:00:34.192Z"
   },
   {
    "duration": 5,
    "start_time": "2021-10-04T17:00:34.214Z"
   },
   {
    "duration": 7,
    "start_time": "2021-10-04T17:00:34.223Z"
   },
   {
    "duration": 53,
    "start_time": "2021-10-04T17:00:34.232Z"
   },
   {
    "duration": 10,
    "start_time": "2021-10-04T17:00:34.288Z"
   },
   {
    "duration": 22,
    "start_time": "2021-10-04T17:00:34.301Z"
   },
   {
    "duration": 4,
    "start_time": "2021-10-04T17:00:34.326Z"
   },
   {
    "duration": 29,
    "start_time": "2021-10-04T17:00:34.333Z"
   },
   {
    "duration": 40,
    "start_time": "2021-10-04T17:00:34.364Z"
   },
   {
    "duration": 41,
    "start_time": "2021-10-04T17:00:34.407Z"
   },
   {
    "duration": 33,
    "start_time": "2021-10-04T17:00:34.450Z"
   },
   {
    "duration": 29,
    "start_time": "2021-10-04T17:00:34.486Z"
   },
   {
    "duration": 10,
    "start_time": "2021-10-04T17:00:34.519Z"
   },
   {
    "duration": 39828,
    "start_time": "2021-10-04T17:00:34.532Z"
   },
   {
    "duration": 9,
    "start_time": "2021-10-04T17:01:14.363Z"
   },
   {
    "duration": 15,
    "start_time": "2021-10-04T17:01:14.374Z"
   },
   {
    "duration": 9,
    "start_time": "2021-10-04T17:01:14.392Z"
   },
   {
    "duration": 8,
    "start_time": "2021-10-04T17:01:14.403Z"
   },
   {
    "duration": 19,
    "start_time": "2021-10-04T17:01:14.413Z"
   },
   {
    "duration": 53,
    "start_time": "2021-10-04T17:01:14.434Z"
   },
   {
    "duration": 14,
    "start_time": "2021-10-04T17:01:14.490Z"
   },
   {
    "duration": 5,
    "start_time": "2021-10-04T17:01:14.507Z"
   },
   {
    "duration": 18,
    "start_time": "2021-10-04T17:01:21.438Z"
   },
   {
    "duration": 14,
    "start_time": "2021-10-04T17:01:42.720Z"
   },
   {
    "duration": 18,
    "start_time": "2021-10-04T17:01:44.579Z"
   },
   {
    "duration": 324,
    "start_time": "2021-10-04T17:15:51.409Z"
   },
   {
    "duration": 9272,
    "start_time": "2021-10-04T17:16:00.068Z"
   },
   {
    "duration": 18,
    "start_time": "2021-10-04T17:16:18.379Z"
   },
   {
    "duration": 21,
    "start_time": "2021-10-04T17:19:17.190Z"
   },
   {
    "duration": 344,
    "start_time": "2021-10-04T17:20:18.693Z"
   },
   {
    "duration": 10,
    "start_time": "2021-10-04T17:21:26.249Z"
   },
   {
    "duration": 13,
    "start_time": "2021-10-04T17:21:35.962Z"
   },
   {
    "duration": 10,
    "start_time": "2021-10-04T17:21:39.029Z"
   },
   {
    "duration": 4,
    "start_time": "2021-10-04T17:22:10.291Z"
   },
   {
    "duration": 347,
    "start_time": "2021-10-04T17:22:11.955Z"
   },
   {
    "duration": 77,
    "start_time": "2021-10-04T17:22:23.438Z"
   },
   {
    "duration": 27,
    "start_time": "2021-10-04T17:22:23.518Z"
   },
   {
    "duration": 43,
    "start_time": "2021-10-04T17:22:23.548Z"
   },
   {
    "duration": 20,
    "start_time": "2021-10-04T17:22:23.594Z"
   },
   {
    "duration": 77,
    "start_time": "2021-10-04T17:22:23.618Z"
   },
   {
    "duration": 10,
    "start_time": "2021-10-04T17:22:23.697Z"
   },
   {
    "duration": 10,
    "start_time": "2021-10-04T17:22:23.710Z"
   },
   {
    "duration": 11,
    "start_time": "2021-10-04T17:22:23.724Z"
   },
   {
    "duration": 25,
    "start_time": "2021-10-04T17:22:23.783Z"
   },
   {
    "duration": 20,
    "start_time": "2021-10-04T17:22:23.811Z"
   },
   {
    "duration": 22,
    "start_time": "2021-10-04T17:22:23.833Z"
   },
   {
    "duration": 27,
    "start_time": "2021-10-04T17:22:23.857Z"
   },
   {
    "duration": 7,
    "start_time": "2021-10-04T17:22:23.891Z"
   },
   {
    "duration": 33,
    "start_time": "2021-10-04T17:22:23.902Z"
   },
   {
    "duration": 11,
    "start_time": "2021-10-04T17:22:23.938Z"
   },
   {
    "duration": 58,
    "start_time": "2021-10-04T17:22:23.952Z"
   },
   {
    "duration": 5,
    "start_time": "2021-10-04T17:22:24.013Z"
   },
   {
    "duration": 28,
    "start_time": "2021-10-04T17:22:24.022Z"
   },
   {
    "duration": 55,
    "start_time": "2021-10-04T17:22:24.053Z"
   },
   {
    "duration": 80,
    "start_time": "2021-10-04T17:22:24.111Z"
   },
   {
    "duration": 14,
    "start_time": "2021-10-04T17:22:24.193Z"
   },
   {
    "duration": 37,
    "start_time": "2021-10-04T17:22:24.210Z"
   },
   {
    "duration": 33,
    "start_time": "2021-10-04T17:22:24.254Z"
   },
   {
    "duration": 42656,
    "start_time": "2021-10-04T17:22:24.291Z"
   },
   {
    "duration": 11,
    "start_time": "2021-10-04T17:23:06.949Z"
   },
   {
    "duration": 25,
    "start_time": "2021-10-04T17:23:06.963Z"
   },
   {
    "duration": 20,
    "start_time": "2021-10-04T17:23:06.992Z"
   },
   {
    "duration": 21,
    "start_time": "2021-10-04T17:23:07.015Z"
   },
   {
    "duration": 21,
    "start_time": "2021-10-04T17:23:07.038Z"
   },
   {
    "duration": 31,
    "start_time": "2021-10-04T17:23:07.061Z"
   },
   {
    "duration": 19,
    "start_time": "2021-10-04T17:23:07.095Z"
   },
   {
    "duration": 11,
    "start_time": "2021-10-04T17:23:07.116Z"
   },
   {
    "duration": 21,
    "start_time": "2021-10-04T17:23:07.129Z"
   },
   {
    "duration": 35,
    "start_time": "2021-10-04T17:23:07.152Z"
   },
   {
    "duration": 21,
    "start_time": "2021-10-04T17:23:07.190Z"
   },
   {
    "duration": 11,
    "start_time": "2021-10-04T17:23:15.604Z"
   },
   {
    "duration": 18,
    "start_time": "2021-10-04T17:23:16.495Z"
   },
   {
    "duration": 12,
    "start_time": "2021-10-04T17:23:51.474Z"
   },
   {
    "duration": 11,
    "start_time": "2021-10-04T17:23:59.650Z"
   },
   {
    "duration": 14,
    "start_time": "2021-10-04T17:28:27.580Z"
   },
   {
    "duration": 5,
    "start_time": "2021-10-04T17:30:28.403Z"
   },
   {
    "duration": 9,
    "start_time": "2021-10-04T17:30:41.869Z"
   },
   {
    "duration": 6,
    "start_time": "2021-10-04T17:30:51.972Z"
   },
   {
    "duration": 11,
    "start_time": "2021-10-04T17:31:03.408Z"
   },
   {
    "duration": 11,
    "start_time": "2021-10-04T17:31:06.604Z"
   },
   {
    "duration": 14,
    "start_time": "2021-10-04T17:33:47.183Z"
   },
   {
    "duration": 10,
    "start_time": "2021-10-04T17:33:59.837Z"
   },
   {
    "duration": 394,
    "start_time": "2021-10-04T17:39:43.816Z"
   },
   {
    "duration": 65,
    "start_time": "2021-10-04T17:40:26.486Z"
   },
   {
    "duration": 34,
    "start_time": "2021-10-04T17:40:26.553Z"
   },
   {
    "duration": 18,
    "start_time": "2021-10-04T17:40:26.600Z"
   },
   {
    "duration": 12,
    "start_time": "2021-10-04T17:40:26.621Z"
   },
   {
    "duration": 63,
    "start_time": "2021-10-04T17:40:26.636Z"
   },
   {
    "duration": 7,
    "start_time": "2021-10-04T17:40:26.702Z"
   },
   {
    "duration": 18,
    "start_time": "2021-10-04T17:40:26.712Z"
   },
   {
    "duration": 10,
    "start_time": "2021-10-04T17:40:26.733Z"
   },
   {
    "duration": 55,
    "start_time": "2021-10-04T17:40:26.746Z"
   },
   {
    "duration": 14,
    "start_time": "2021-10-04T17:40:26.804Z"
   },
   {
    "duration": 15,
    "start_time": "2021-10-04T17:40:26.821Z"
   },
   {
    "duration": 5,
    "start_time": "2021-10-04T17:40:26.838Z"
   },
   {
    "duration": 5,
    "start_time": "2021-10-04T17:40:26.846Z"
   },
   {
    "duration": 46,
    "start_time": "2021-10-04T17:40:26.853Z"
   },
   {
    "duration": 10,
    "start_time": "2021-10-04T17:40:26.902Z"
   },
   {
    "duration": 20,
    "start_time": "2021-10-04T17:40:26.915Z"
   },
   {
    "duration": 4,
    "start_time": "2021-10-04T17:40:26.937Z"
   },
   {
    "duration": 57,
    "start_time": "2021-10-04T17:40:26.944Z"
   },
   {
    "duration": 30,
    "start_time": "2021-10-04T17:40:27.004Z"
   },
   {
    "duration": 77,
    "start_time": "2021-10-04T17:40:27.037Z"
   },
   {
    "duration": 7,
    "start_time": "2021-10-04T17:40:27.116Z"
   },
   {
    "duration": 30,
    "start_time": "2021-10-04T17:40:27.126Z"
   },
   {
    "duration": 35,
    "start_time": "2021-10-04T17:40:27.160Z"
   },
   {
    "duration": 43483,
    "start_time": "2021-10-04T17:40:27.198Z"
   },
   {
    "duration": 15,
    "start_time": "2021-10-04T17:41:10.686Z"
   },
   {
    "duration": 13,
    "start_time": "2021-10-04T17:41:10.704Z"
   },
   {
    "duration": 14,
    "start_time": "2021-10-04T17:41:10.720Z"
   },
   {
    "duration": 5,
    "start_time": "2021-10-04T17:41:10.736Z"
   },
   {
    "duration": 51,
    "start_time": "2021-10-04T17:41:10.743Z"
   },
   {
    "duration": 25,
    "start_time": "2021-10-04T17:41:10.804Z"
   },
   {
    "duration": 15,
    "start_time": "2021-10-04T17:41:10.832Z"
   },
   {
    "duration": 4,
    "start_time": "2021-10-04T17:41:10.850Z"
   },
   {
    "duration": 49,
    "start_time": "2021-10-04T17:41:10.857Z"
   },
   {
    "duration": 19,
    "start_time": "2021-10-04T17:41:10.910Z"
   },
   {
    "duration": 11,
    "start_time": "2021-10-04T17:41:10.931Z"
   },
   {
    "duration": 386,
    "start_time": "2021-10-04T17:41:46.873Z"
   },
   {
    "duration": 427,
    "start_time": "2021-10-04T17:42:34.126Z"
   },
   {
    "duration": 11,
    "start_time": "2021-10-04T17:50:47.411Z"
   },
   {
    "duration": 360,
    "start_time": "2021-10-04T17:51:08.505Z"
   },
   {
    "duration": 12,
    "start_time": "2021-10-04T17:51:28.257Z"
   },
   {
    "duration": 11,
    "start_time": "2021-10-04T17:52:35.886Z"
   },
   {
    "duration": 15,
    "start_time": "2021-10-04T17:53:11.934Z"
   },
   {
    "duration": 13,
    "start_time": "2021-10-04T17:55:13.361Z"
   },
   {
    "duration": 14,
    "start_time": "2021-10-04T17:55:33.585Z"
   },
   {
    "duration": 15,
    "start_time": "2021-10-04T17:56:06.894Z"
   },
   {
    "duration": 14,
    "start_time": "2021-10-04T17:56:21.180Z"
   },
   {
    "duration": 13,
    "start_time": "2021-10-04T17:56:37.034Z"
   },
   {
    "duration": 370,
    "start_time": "2021-10-04T17:59:46.411Z"
   },
   {
    "duration": 9663,
    "start_time": "2021-10-04T17:59:52.683Z"
   },
   {
    "duration": 427,
    "start_time": "2021-10-04T18:00:08.705Z"
   },
   {
    "duration": 390,
    "start_time": "2021-10-04T18:00:15.790Z"
   },
   {
    "duration": 13,
    "start_time": "2021-10-04T18:01:10.541Z"
   },
   {
    "duration": 13,
    "start_time": "2021-10-04T18:02:45.864Z"
   },
   {
    "duration": 17,
    "start_time": "2021-10-04T18:03:23.652Z"
   },
   {
    "duration": 106,
    "start_time": "2021-10-04T18:11:29.607Z"
   },
   {
    "duration": 19,
    "start_time": "2021-10-04T18:12:19.879Z"
   },
   {
    "duration": 16,
    "start_time": "2021-10-04T18:12:39.195Z"
   },
   {
    "duration": 14,
    "start_time": "2021-10-04T18:13:46.365Z"
   },
   {
    "duration": 15,
    "start_time": "2021-10-04T18:14:08.525Z"
   },
   {
    "duration": 15,
    "start_time": "2021-10-04T18:14:11.269Z"
   },
   {
    "duration": 16,
    "start_time": "2021-10-04T18:14:14.572Z"
   },
   {
    "duration": 12,
    "start_time": "2021-10-04T18:16:59.806Z"
   },
   {
    "duration": 11,
    "start_time": "2021-10-04T18:17:09.229Z"
   },
   {
    "duration": 134,
    "start_time": "2021-10-04T18:21:33.484Z"
   },
   {
    "duration": 13,
    "start_time": "2021-10-04T18:22:12.529Z"
   },
   {
    "duration": 338,
    "start_time": "2021-10-04T18:22:56.812Z"
   },
   {
    "duration": 12,
    "start_time": "2021-10-04T18:23:25.626Z"
   },
   {
    "duration": 397,
    "start_time": "2021-10-04T18:23:40.821Z"
   },
   {
    "duration": 512,
    "start_time": "2021-10-04T18:27:00.023Z"
   },
   {
    "duration": 344,
    "start_time": "2021-10-04T18:27:14.655Z"
   },
   {
    "duration": 11,
    "start_time": "2021-10-04T18:30:03.418Z"
   },
   {
    "duration": 12,
    "start_time": "2021-10-04T18:30:14.667Z"
   },
   {
    "duration": 336,
    "start_time": "2021-10-04T18:31:34.422Z"
   },
   {
    "duration": 12,
    "start_time": "2021-10-04T18:32:01.964Z"
   },
   {
    "duration": 330,
    "start_time": "2021-10-04T18:33:53.410Z"
   },
   {
    "duration": 11,
    "start_time": "2021-10-04T18:34:10.839Z"
   },
   {
    "duration": 14,
    "start_time": "2021-10-04T18:36:40.131Z"
   },
   {
    "duration": 14,
    "start_time": "2021-10-04T18:36:51.220Z"
   },
   {
    "duration": 4,
    "start_time": "2021-10-04T18:39:29.597Z"
   },
   {
    "duration": 620,
    "start_time": "2021-10-04T18:39:33.599Z"
   },
   {
    "duration": 59,
    "start_time": "2021-10-04T18:39:40.818Z"
   },
   {
    "duration": 19,
    "start_time": "2021-10-04T18:39:40.880Z"
   },
   {
    "duration": 15,
    "start_time": "2021-10-04T18:39:40.903Z"
   },
   {
    "duration": 14,
    "start_time": "2021-10-04T18:39:40.922Z"
   },
   {
    "duration": 64,
    "start_time": "2021-10-04T18:39:40.939Z"
   },
   {
    "duration": 10,
    "start_time": "2021-10-04T18:39:41.006Z"
   },
   {
    "duration": 13,
    "start_time": "2021-10-04T18:39:41.018Z"
   },
   {
    "duration": 52,
    "start_time": "2021-10-04T18:39:41.036Z"
   },
   {
    "duration": 13,
    "start_time": "2021-10-04T18:39:41.092Z"
   },
   {
    "duration": 15,
    "start_time": "2021-10-04T18:39:41.107Z"
   },
   {
    "duration": 16,
    "start_time": "2021-10-04T18:39:41.125Z"
   },
   {
    "duration": 8,
    "start_time": "2021-10-04T18:39:41.183Z"
   },
   {
    "duration": 6,
    "start_time": "2021-10-04T18:39:41.194Z"
   },
   {
    "duration": 17,
    "start_time": "2021-10-04T18:39:41.203Z"
   },
   {
    "duration": 12,
    "start_time": "2021-10-04T18:39:41.223Z"
   },
   {
    "duration": 63,
    "start_time": "2021-10-04T18:39:41.237Z"
   },
   {
    "duration": 4,
    "start_time": "2021-10-04T18:39:41.302Z"
   },
   {
    "duration": 18,
    "start_time": "2021-10-04T18:39:41.309Z"
   },
   {
    "duration": 23,
    "start_time": "2021-10-04T18:39:41.329Z"
   },
   {
    "duration": 41,
    "start_time": "2021-10-04T18:39:41.383Z"
   },
   {
    "duration": 7,
    "start_time": "2021-10-04T18:39:41.427Z"
   },
   {
    "duration": 59,
    "start_time": "2021-10-04T18:39:41.437Z"
   },
   {
    "duration": 10,
    "start_time": "2021-10-04T18:39:41.500Z"
   },
   {
    "duration": 39956,
    "start_time": "2021-10-04T18:39:41.512Z"
   },
   {
    "duration": 13,
    "start_time": "2021-10-04T18:40:21.471Z"
   },
   {
    "duration": 12,
    "start_time": "2021-10-04T18:40:21.486Z"
   },
   {
    "duration": 8,
    "start_time": "2021-10-04T18:40:21.501Z"
   },
   {
    "duration": 4,
    "start_time": "2021-10-04T18:40:21.512Z"
   },
   {
    "duration": 11,
    "start_time": "2021-10-04T18:40:28.203Z"
   },
   {
    "duration": 392,
    "start_time": "2021-10-04T18:40:46.279Z"
   },
   {
    "duration": 63,
    "start_time": "2021-10-04T18:40:51.641Z"
   },
   {
    "duration": 21,
    "start_time": "2021-10-04T18:40:51.707Z"
   },
   {
    "duration": 15,
    "start_time": "2021-10-04T18:40:51.731Z"
   },
   {
    "duration": 44,
    "start_time": "2021-10-04T18:40:51.749Z"
   },
   {
    "duration": 24,
    "start_time": "2021-10-04T18:40:51.795Z"
   },
   {
    "duration": 7,
    "start_time": "2021-10-04T18:40:51.822Z"
   },
   {
    "duration": 14,
    "start_time": "2021-10-04T18:40:51.832Z"
   },
   {
    "duration": 12,
    "start_time": "2021-10-04T18:40:51.884Z"
   },
   {
    "duration": 14,
    "start_time": "2021-10-04T18:40:51.899Z"
   },
   {
    "duration": 19,
    "start_time": "2021-10-04T18:40:51.916Z"
   },
   {
    "duration": 45,
    "start_time": "2021-10-04T18:40:51.937Z"
   },
   {
    "duration": 7,
    "start_time": "2021-10-04T18:40:51.984Z"
   },
   {
    "duration": 19,
    "start_time": "2021-10-04T18:40:51.994Z"
   },
   {
    "duration": 19,
    "start_time": "2021-10-04T18:40:52.015Z"
   },
   {
    "duration": 19,
    "start_time": "2021-10-04T18:40:52.036Z"
   },
   {
    "duration": 37,
    "start_time": "2021-10-04T18:40:52.058Z"
   },
   {
    "duration": 5,
    "start_time": "2021-10-04T18:40:52.098Z"
   },
   {
    "duration": 23,
    "start_time": "2021-10-04T18:40:52.106Z"
   },
   {
    "duration": 55,
    "start_time": "2021-10-04T18:40:52.131Z"
   },
   {
    "duration": 46,
    "start_time": "2021-10-04T18:40:52.189Z"
   },
   {
    "duration": 8,
    "start_time": "2021-10-04T18:40:52.237Z"
   },
   {
    "duration": 58,
    "start_time": "2021-10-04T18:40:52.247Z"
   },
   {
    "duration": 9,
    "start_time": "2021-10-04T18:40:52.310Z"
   },
   {
    "duration": 39899,
    "start_time": "2021-10-04T18:40:52.322Z"
   },
   {
    "duration": 10,
    "start_time": "2021-10-04T18:41:32.224Z"
   },
   {
    "duration": 12,
    "start_time": "2021-10-04T18:41:32.236Z"
   },
   {
    "duration": 9,
    "start_time": "2021-10-04T18:41:32.251Z"
   },
   {
    "duration": 4,
    "start_time": "2021-10-04T18:41:32.263Z"
   },
   {
    "duration": 11,
    "start_time": "2021-10-04T18:41:40.182Z"
   },
   {
    "duration": 18,
    "start_time": "2021-10-04T18:41:44.127Z"
   },
   {
    "duration": 11,
    "start_time": "2021-10-04T18:41:51.024Z"
   },
   {
    "duration": 5,
    "start_time": "2021-10-04T18:41:53.658Z"
   },
   {
    "duration": 13,
    "start_time": "2021-10-04T18:41:54.631Z"
   },
   {
    "duration": 19,
    "start_time": "2021-10-04T18:41:57.040Z"
   },
   {
    "duration": 16,
    "start_time": "2021-10-04T18:42:10.287Z"
   },
   {
    "duration": 21,
    "start_time": "2021-10-04T18:42:13.073Z"
   },
   {
    "duration": 14,
    "start_time": "2021-10-04T18:42:19.053Z"
   },
   {
    "duration": 15,
    "start_time": "2021-10-04T18:42:28.554Z"
   },
   {
    "duration": 701,
    "start_time": "2021-10-05T04:40:01.965Z"
   },
   {
    "duration": 18,
    "start_time": "2021-10-05T04:40:02.667Z"
   },
   {
    "duration": 10,
    "start_time": "2021-10-05T04:40:02.688Z"
   },
   {
    "duration": 9,
    "start_time": "2021-10-05T04:40:02.700Z"
   },
   {
    "duration": 13,
    "start_time": "2021-10-05T04:40:02.711Z"
   },
   {
    "duration": 4,
    "start_time": "2021-10-05T04:40:02.726Z"
   },
   {
    "duration": 6,
    "start_time": "2021-10-05T04:40:02.732Z"
   },
   {
    "duration": 40,
    "start_time": "2021-10-05T04:40:02.740Z"
   },
   {
    "duration": 8,
    "start_time": "2021-10-05T04:40:02.782Z"
   },
   {
    "duration": 10,
    "start_time": "2021-10-05T04:40:02.792Z"
   },
   {
    "duration": 10,
    "start_time": "2021-10-05T04:40:02.803Z"
   },
   {
    "duration": 4,
    "start_time": "2021-10-05T04:40:02.815Z"
   },
   {
    "duration": 4,
    "start_time": "2021-10-05T04:40:02.820Z"
   },
   {
    "duration": 13,
    "start_time": "2021-10-05T04:40:02.826Z"
   },
   {
    "duration": 40,
    "start_time": "2021-10-05T04:40:02.841Z"
   },
   {
    "duration": 13,
    "start_time": "2021-10-05T04:40:02.883Z"
   },
   {
    "duration": 3,
    "start_time": "2021-10-05T04:40:02.898Z"
   },
   {
    "duration": 10,
    "start_time": "2021-10-05T04:40:02.903Z"
   },
   {
    "duration": 16,
    "start_time": "2021-10-05T04:40:02.915Z"
   },
   {
    "duration": 58,
    "start_time": "2021-10-05T04:40:02.933Z"
   },
   {
    "duration": 5,
    "start_time": "2021-10-05T04:40:02.993Z"
   },
   {
    "duration": 7,
    "start_time": "2021-10-05T04:40:03.000Z"
   },
   {
    "duration": 7,
    "start_time": "2021-10-05T04:40:03.010Z"
   },
   {
    "duration": 27530,
    "start_time": "2021-10-05T04:40:03.018Z"
   },
   {
    "duration": 7,
    "start_time": "2021-10-05T04:40:30.550Z"
   },
   {
    "duration": 38,
    "start_time": "2021-10-05T04:40:30.558Z"
   },
   {
    "duration": 35,
    "start_time": "2021-10-05T04:40:30.598Z"
   },
   {
    "duration": 25,
    "start_time": "2021-10-05T04:40:30.634Z"
   },
   {
    "duration": 18,
    "start_time": "2021-10-05T04:40:30.660Z"
   },
   {
    "duration": 32,
    "start_time": "2021-10-05T04:40:30.679Z"
   },
   {
    "duration": 28,
    "start_time": "2021-10-05T04:40:30.712Z"
   },
   {
    "duration": 15,
    "start_time": "2021-10-05T04:40:30.741Z"
   },
   {
    "duration": 28,
    "start_time": "2021-10-05T04:40:30.757Z"
   },
   {
    "duration": 29,
    "start_time": "2021-10-05T04:40:30.786Z"
   },
   {
    "duration": 30,
    "start_time": "2021-10-05T04:40:30.816Z"
   },
   {
    "duration": 29,
    "start_time": "2021-10-05T04:40:30.847Z"
   },
   {
    "duration": 20,
    "start_time": "2021-10-05T04:40:30.877Z"
   },
   {
    "duration": 53,
    "start_time": "2021-10-05T04:40:30.898Z"
   },
   {
    "duration": 14,
    "start_time": "2021-10-05T04:42:50.541Z"
   },
   {
    "duration": 13,
    "start_time": "2021-10-05T04:43:21.100Z"
   },
   {
    "duration": 6,
    "start_time": "2021-10-05T04:47:54.284Z"
   },
   {
    "duration": 5,
    "start_time": "2021-10-05T04:48:29.530Z"
   },
   {
    "duration": 49,
    "start_time": "2021-10-05T04:48:59.474Z"
   },
   {
    "duration": 12,
    "start_time": "2021-10-05T04:48:59.524Z"
   },
   {
    "duration": 11,
    "start_time": "2021-10-05T04:48:59.538Z"
   },
   {
    "duration": 8,
    "start_time": "2021-10-05T04:48:59.551Z"
   },
   {
    "duration": 21,
    "start_time": "2021-10-05T04:48:59.561Z"
   },
   {
    "duration": 5,
    "start_time": "2021-10-05T04:48:59.583Z"
   },
   {
    "duration": 6,
    "start_time": "2021-10-05T04:48:59.589Z"
   },
   {
    "duration": 7,
    "start_time": "2021-10-05T04:48:59.597Z"
   },
   {
    "duration": 7,
    "start_time": "2021-10-05T04:48:59.606Z"
   },
   {
    "duration": 9,
    "start_time": "2021-10-05T04:48:59.615Z"
   },
   {
    "duration": 55,
    "start_time": "2021-10-05T04:48:59.626Z"
   },
   {
    "duration": 4,
    "start_time": "2021-10-05T04:48:59.682Z"
   },
   {
    "duration": 8,
    "start_time": "2021-10-05T04:48:59.687Z"
   },
   {
    "duration": 14,
    "start_time": "2021-10-05T04:48:59.696Z"
   },
   {
    "duration": 5,
    "start_time": "2021-10-05T04:48:59.712Z"
   },
   {
    "duration": 13,
    "start_time": "2021-10-05T04:48:59.719Z"
   },
   {
    "duration": 4,
    "start_time": "2021-10-05T04:48:59.734Z"
   },
   {
    "duration": 40,
    "start_time": "2021-10-05T04:48:59.740Z"
   },
   {
    "duration": 4,
    "start_time": "2021-10-05T04:48:59.782Z"
   },
   {
    "duration": 11,
    "start_time": "2021-10-05T04:48:59.787Z"
   },
   {
    "duration": 16,
    "start_time": "2021-10-05T04:48:59.801Z"
   },
   {
    "duration": 27,
    "start_time": "2021-10-05T04:48:59.819Z"
   },
   {
    "duration": 5,
    "start_time": "2021-10-05T04:48:59.877Z"
   },
   {
    "duration": 27,
    "start_time": "2021-10-05T04:48:59.884Z"
   },
   {
    "duration": 7,
    "start_time": "2021-10-05T04:48:59.912Z"
   },
   {
    "duration": 27432,
    "start_time": "2021-10-05T04:48:59.921Z"
   },
   {
    "duration": 7,
    "start_time": "2021-10-05T04:49:27.355Z"
   },
   {
    "duration": 18,
    "start_time": "2021-10-05T04:49:27.364Z"
   },
   {
    "duration": 7,
    "start_time": "2021-10-05T04:49:27.383Z"
   },
   {
    "duration": 3,
    "start_time": "2021-10-05T04:49:27.392Z"
   },
   {
    "duration": 9,
    "start_time": "2021-10-05T04:49:27.397Z"
   },
   {
    "duration": 13,
    "start_time": "2021-10-05T04:49:27.407Z"
   },
   {
    "duration": 9,
    "start_time": "2021-10-05T04:49:27.421Z"
   },
   {
    "duration": 2,
    "start_time": "2021-10-05T04:49:27.432Z"
   },
   {
    "duration": 47,
    "start_time": "2021-10-05T04:49:27.436Z"
   },
   {
    "duration": 12,
    "start_time": "2021-10-05T04:49:27.485Z"
   },
   {
    "duration": 14,
    "start_time": "2021-10-05T04:49:27.498Z"
   },
   {
    "duration": 17,
    "start_time": "2021-10-05T04:49:27.514Z"
   },
   {
    "duration": 9,
    "start_time": "2021-10-05T04:49:27.533Z"
   },
   {
    "duration": 38,
    "start_time": "2021-10-05T04:49:27.544Z"
   },
   {
    "duration": 7,
    "start_time": "2021-10-05T04:51:45.324Z"
   },
   {
    "duration": 11,
    "start_time": "2021-10-05T04:52:18.628Z"
   },
   {
    "duration": 11,
    "start_time": "2021-10-05T04:54:18.560Z"
   },
   {
    "duration": 13,
    "start_time": "2021-10-05T04:54:45.228Z"
   },
   {
    "duration": 8,
    "start_time": "2021-10-05T04:55:57.522Z"
   },
   {
    "duration": 11,
    "start_time": "2021-10-05T04:56:06.761Z"
   },
   {
    "duration": 11,
    "start_time": "2021-10-05T04:56:25.928Z"
   },
   {
    "duration": 102,
    "start_time": "2021-10-05T04:56:46.244Z"
   },
   {
    "duration": 13,
    "start_time": "2021-10-05T04:57:54.388Z"
   },
   {
    "duration": 355,
    "start_time": "2021-10-05T04:59:21.860Z"
   },
   {
    "duration": 300,
    "start_time": "2021-10-05T04:59:33.728Z"
   },
   {
    "duration": 15,
    "start_time": "2021-10-05T05:00:19.532Z"
   },
   {
    "duration": 15,
    "start_time": "2021-10-05T05:00:57.237Z"
   },
   {
    "duration": 316,
    "start_time": "2021-10-05T05:01:13.873Z"
   },
   {
    "duration": 13,
    "start_time": "2021-10-05T05:01:19.925Z"
   },
   {
    "duration": 837,
    "start_time": "2021-10-05T16:15:33.605Z"
   },
   {
    "duration": 29,
    "start_time": "2021-10-05T16:15:34.445Z"
   },
   {
    "duration": 33,
    "start_time": "2021-10-05T16:15:34.477Z"
   },
   {
    "duration": 30,
    "start_time": "2021-10-05T16:15:34.513Z"
   },
   {
    "duration": 29,
    "start_time": "2021-10-05T16:15:34.545Z"
   },
   {
    "duration": 9,
    "start_time": "2021-10-05T16:15:34.576Z"
   },
   {
    "duration": 13,
    "start_time": "2021-10-05T16:15:34.588Z"
   },
   {
    "duration": 26,
    "start_time": "2021-10-05T16:15:34.604Z"
   },
   {
    "duration": 15,
    "start_time": "2021-10-05T16:15:34.634Z"
   },
   {
    "duration": 15,
    "start_time": "2021-10-05T16:15:34.652Z"
   },
   {
    "duration": 15,
    "start_time": "2021-10-05T16:15:34.670Z"
   },
   {
    "duration": 36,
    "start_time": "2021-10-05T16:15:34.688Z"
   },
   {
    "duration": 18,
    "start_time": "2021-10-05T16:15:34.727Z"
   },
   {
    "duration": 22,
    "start_time": "2021-10-05T16:15:34.748Z"
   },
   {
    "duration": 16,
    "start_time": "2021-10-05T16:15:34.772Z"
   },
   {
    "duration": 40,
    "start_time": "2021-10-05T16:15:34.790Z"
   },
   {
    "duration": 10,
    "start_time": "2021-10-05T16:15:34.833Z"
   },
   {
    "duration": 19,
    "start_time": "2021-10-05T16:15:34.845Z"
   },
   {
    "duration": 11,
    "start_time": "2021-10-05T16:15:34.867Z"
   },
   {
    "duration": 43,
    "start_time": "2021-10-05T16:15:34.880Z"
   },
   {
    "duration": 39,
    "start_time": "2021-10-05T16:15:34.927Z"
   },
   {
    "duration": 58,
    "start_time": "2021-10-05T16:15:34.969Z"
   },
   {
    "duration": 7,
    "start_time": "2021-10-05T16:15:35.029Z"
   },
   {
    "duration": 19,
    "start_time": "2021-10-05T16:15:35.038Z"
   },
   {
    "duration": 27,
    "start_time": "2021-10-05T16:15:35.059Z"
   },
   {
    "duration": 41014,
    "start_time": "2021-10-05T16:15:35.088Z"
   },
   {
    "duration": 15,
    "start_time": "2021-10-05T16:16:16.109Z"
   },
   {
    "duration": 20,
    "start_time": "2021-10-05T16:16:16.127Z"
   },
   {
    "duration": 16,
    "start_time": "2021-10-05T16:16:16.150Z"
   },
   {
    "duration": 14,
    "start_time": "2021-10-05T16:16:16.169Z"
   },
   {
    "duration": 24,
    "start_time": "2021-10-05T16:16:16.185Z"
   },
   {
    "duration": 33,
    "start_time": "2021-10-05T16:16:16.211Z"
   },
   {
    "duration": 14,
    "start_time": "2021-10-05T16:16:16.246Z"
   },
   {
    "duration": 13,
    "start_time": "2021-10-05T16:16:16.263Z"
   },
   {
    "duration": 28,
    "start_time": "2021-10-05T16:16:16.278Z"
   },
   {
    "duration": 44,
    "start_time": "2021-10-05T16:16:16.309Z"
   },
   {
    "duration": 29,
    "start_time": "2021-10-05T16:16:16.356Z"
   },
   {
    "duration": 35,
    "start_time": "2021-10-05T16:16:16.388Z"
   },
   {
    "duration": 14,
    "start_time": "2021-10-05T16:16:16.426Z"
   },
   {
    "duration": 42,
    "start_time": "2021-10-05T16:16:16.443Z"
   },
   {
    "duration": 23,
    "start_time": "2021-10-05T16:16:16.487Z"
   },
   {
    "duration": 27,
    "start_time": "2021-10-05T16:16:16.512Z"
   },
   {
    "duration": 30,
    "start_time": "2021-10-05T16:16:16.542Z"
   },
   {
    "duration": 21,
    "start_time": "2021-10-05T16:17:56.175Z"
   },
   {
    "duration": 33,
    "start_time": "2021-10-05T16:24:15.678Z"
   },
   {
    "duration": 33,
    "start_time": "2021-10-05T16:28:04.518Z"
   },
   {
    "duration": 5,
    "start_time": "2021-10-05T16:47:22.663Z"
   },
   {
    "duration": 7,
    "start_time": "2021-10-05T16:49:24.469Z"
   },
   {
    "duration": 6,
    "start_time": "2021-10-05T16:50:42.922Z"
   },
   {
    "duration": 11,
    "start_time": "2021-10-05T16:51:26.355Z"
   },
   {
    "duration": 7,
    "start_time": "2021-10-05T16:51:32.844Z"
   },
   {
    "duration": 5,
    "start_time": "2021-10-05T16:51:51.445Z"
   },
   {
    "duration": 83,
    "start_time": "2021-10-05T16:52:25.419Z"
   },
   {
    "duration": 815,
    "start_time": "2021-10-06T10:38:45.004Z"
   },
   {
    "duration": 29,
    "start_time": "2021-10-06T10:38:45.822Z"
   },
   {
    "duration": 24,
    "start_time": "2021-10-06T10:38:45.857Z"
   },
   {
    "duration": 14,
    "start_time": "2021-10-06T10:38:45.885Z"
   },
   {
    "duration": 23,
    "start_time": "2021-10-06T10:38:45.902Z"
   },
   {
    "duration": 37,
    "start_time": "2021-10-06T10:38:45.928Z"
   },
   {
    "duration": 11,
    "start_time": "2021-10-06T10:38:45.968Z"
   },
   {
    "duration": 12,
    "start_time": "2021-10-06T10:38:45.985Z"
   },
   {
    "duration": 63,
    "start_time": "2021-10-06T10:38:46.001Z"
   },
   {
    "duration": 14,
    "start_time": "2021-10-06T10:38:46.066Z"
   },
   {
    "duration": 13,
    "start_time": "2021-10-06T10:38:46.083Z"
   },
   {
    "duration": 6,
    "start_time": "2021-10-06T10:38:46.098Z"
   },
   {
    "duration": 7,
    "start_time": "2021-10-06T10:38:46.106Z"
   },
   {
    "duration": 17,
    "start_time": "2021-10-06T10:38:46.158Z"
   },
   {
    "duration": 10,
    "start_time": "2021-10-06T10:38:46.179Z"
   },
   {
    "duration": 23,
    "start_time": "2021-10-06T10:38:46.191Z"
   },
   {
    "duration": 45,
    "start_time": "2021-10-06T10:38:46.217Z"
   },
   {
    "duration": 10,
    "start_time": "2021-10-06T10:38:46.265Z"
   },
   {
    "duration": 4,
    "start_time": "2021-10-06T10:38:46.278Z"
   },
   {
    "duration": 17,
    "start_time": "2021-10-06T10:38:46.285Z"
   },
   {
    "duration": 69,
    "start_time": "2021-10-06T10:38:46.305Z"
   },
   {
    "duration": 40,
    "start_time": "2021-10-06T10:38:46.377Z"
   },
   {
    "duration": 7,
    "start_time": "2021-10-06T10:38:46.422Z"
   },
   {
    "duration": 10,
    "start_time": "2021-10-06T10:38:46.456Z"
   },
   {
    "duration": 10,
    "start_time": "2021-10-06T10:38:46.468Z"
   },
   {
    "duration": 40531,
    "start_time": "2021-10-06T10:38:46.481Z"
   },
   {
    "duration": 10,
    "start_time": "2021-10-06T10:39:27.015Z"
   },
   {
    "duration": 18,
    "start_time": "2021-10-06T10:39:27.028Z"
   },
   {
    "duration": 24,
    "start_time": "2021-10-06T10:39:27.058Z"
   },
   {
    "duration": 25,
    "start_time": "2021-10-06T10:39:27.084Z"
   },
   {
    "duration": 27,
    "start_time": "2021-10-06T10:39:27.111Z"
   },
   {
    "duration": 23,
    "start_time": "2021-10-06T10:39:27.141Z"
   },
   {
    "duration": 17,
    "start_time": "2021-10-06T10:39:27.167Z"
   },
   {
    "duration": 4,
    "start_time": "2021-10-06T10:39:27.187Z"
   },
   {
    "duration": 18,
    "start_time": "2021-10-06T10:39:27.194Z"
   },
   {
    "duration": 55,
    "start_time": "2021-10-06T10:39:27.214Z"
   },
   {
    "duration": 18,
    "start_time": "2021-10-06T10:39:27.272Z"
   },
   {
    "duration": 23,
    "start_time": "2021-10-06T10:39:27.293Z"
   },
   {
    "duration": 51,
    "start_time": "2021-10-06T10:39:27.319Z"
   },
   {
    "duration": 21,
    "start_time": "2021-10-06T10:39:27.372Z"
   },
   {
    "duration": 15,
    "start_time": "2021-10-06T10:39:27.396Z"
   },
   {
    "duration": 48,
    "start_time": "2021-10-06T10:39:27.414Z"
   },
   {
    "duration": 21,
    "start_time": "2021-10-06T10:39:27.465Z"
   },
   {
    "duration": 39,
    "start_time": "2021-10-06T10:39:27.489Z"
   },
   {
    "duration": 46,
    "start_time": "2021-10-06T10:39:27.559Z"
   },
   {
    "duration": 5,
    "start_time": "2021-10-06T10:39:27.608Z"
   },
   {
    "duration": 14,
    "start_time": "2021-10-06T10:39:27.615Z"
   },
   {
    "duration": 6,
    "start_time": "2021-10-06T10:39:27.658Z"
   },
   {
    "duration": 678,
    "start_time": "2021-10-06T11:36:50.073Z"
   },
   {
    "duration": 25,
    "start_time": "2021-10-06T12:17:45.392Z"
   },
   {
    "duration": 8,
    "start_time": "2021-10-07T04:43:59.973Z"
   },
   {
    "duration": 656,
    "start_time": "2021-10-07T04:44:08.299Z"
   },
   {
    "duration": 3,
    "start_time": "2021-10-07T04:44:08.957Z"
   },
   {
    "duration": 33,
    "start_time": "2021-10-07T04:44:08.962Z"
   },
   {
    "duration": 21,
    "start_time": "2021-10-07T04:44:08.997Z"
   },
   {
    "duration": 11,
    "start_time": "2021-10-07T04:44:09.020Z"
   },
   {
    "duration": 23,
    "start_time": "2021-10-07T04:44:09.033Z"
   },
   {
    "duration": 9,
    "start_time": "2021-10-07T04:44:09.058Z"
   },
   {
    "duration": 10,
    "start_time": "2021-10-07T04:44:09.069Z"
   },
   {
    "duration": 18,
    "start_time": "2021-10-07T04:44:09.081Z"
   },
   {
    "duration": 15,
    "start_time": "2021-10-07T04:44:09.101Z"
   },
   {
    "duration": 21,
    "start_time": "2021-10-07T04:44:09.118Z"
   },
   {
    "duration": 11,
    "start_time": "2021-10-07T04:44:09.141Z"
   },
   {
    "duration": 4,
    "start_time": "2021-10-07T04:44:09.154Z"
   },
   {
    "duration": 18,
    "start_time": "2021-10-07T04:44:09.159Z"
   },
   {
    "duration": 11,
    "start_time": "2021-10-07T04:44:09.179Z"
   },
   {
    "duration": 10,
    "start_time": "2021-10-07T04:44:09.191Z"
   },
   {
    "duration": 14,
    "start_time": "2021-10-07T04:44:09.203Z"
   },
   {
    "duration": 6,
    "start_time": "2021-10-07T04:44:09.219Z"
   },
   {
    "duration": 9,
    "start_time": "2021-10-07T04:44:09.227Z"
   },
   {
    "duration": 4,
    "start_time": "2021-10-07T04:44:09.238Z"
   },
   {
    "duration": 38,
    "start_time": "2021-10-07T04:44:09.243Z"
   },
   {
    "duration": 21,
    "start_time": "2021-10-07T04:44:09.283Z"
   },
   {
    "duration": 31,
    "start_time": "2021-10-07T04:44:09.307Z"
   },
   {
    "duration": 5,
    "start_time": "2021-10-07T04:44:09.340Z"
   },
   {
    "duration": 30,
    "start_time": "2021-10-07T04:44:09.347Z"
   },
   {
    "duration": 11,
    "start_time": "2021-10-07T04:44:09.379Z"
   },
   {
    "duration": 28264,
    "start_time": "2021-10-07T04:44:09.392Z"
   },
   {
    "duration": 8,
    "start_time": "2021-10-07T04:44:37.658Z"
   },
   {
    "duration": 13,
    "start_time": "2021-10-07T04:44:37.668Z"
   },
   {
    "duration": 5,
    "start_time": "2021-10-07T04:44:37.683Z"
   },
   {
    "duration": 3,
    "start_time": "2021-10-07T04:44:37.690Z"
   },
   {
    "duration": 8,
    "start_time": "2021-10-07T04:44:37.694Z"
   },
   {
    "duration": 13,
    "start_time": "2021-10-07T04:44:37.703Z"
   },
   {
    "duration": 8,
    "start_time": "2021-10-07T04:44:37.718Z"
   },
   {
    "duration": 3,
    "start_time": "2021-10-07T04:44:37.727Z"
   },
   {
    "duration": 47,
    "start_time": "2021-10-07T04:44:37.732Z"
   },
   {
    "duration": 15,
    "start_time": "2021-10-07T04:44:37.781Z"
   },
   {
    "duration": 13,
    "start_time": "2021-10-07T04:44:37.798Z"
   },
   {
    "duration": 15,
    "start_time": "2021-10-07T04:44:37.813Z"
   },
   {
    "duration": 9,
    "start_time": "2021-10-07T04:44:37.830Z"
   },
   {
    "duration": 41,
    "start_time": "2021-10-07T04:44:37.840Z"
   },
   {
    "duration": 12,
    "start_time": "2021-10-07T04:44:37.883Z"
   },
   {
    "duration": 13,
    "start_time": "2021-10-07T04:44:37.896Z"
   },
   {
    "duration": 14,
    "start_time": "2021-10-07T04:44:37.911Z"
   },
   {
    "duration": 21,
    "start_time": "2021-10-07T04:44:37.927Z"
   },
   {
    "duration": 48,
    "start_time": "2021-10-07T04:44:37.949Z"
   },
   {
    "duration": 3,
    "start_time": "2021-10-07T04:44:37.999Z"
   },
   {
    "duration": 9,
    "start_time": "2021-10-07T04:44:38.004Z"
   },
   {
    "duration": 5,
    "start_time": "2021-10-07T04:44:38.015Z"
   },
   {
    "duration": 50,
    "start_time": "2021-10-07T04:45:59.144Z"
   },
   {
    "duration": 25,
    "start_time": "2021-10-07T04:45:59.196Z"
   },
   {
    "duration": 13,
    "start_time": "2021-10-07T04:45:59.224Z"
   },
   {
    "duration": 37,
    "start_time": "2021-10-07T04:45:59.240Z"
   },
   {
    "duration": 12,
    "start_time": "2021-10-07T04:45:59.279Z"
   },
   {
    "duration": 16,
    "start_time": "2021-10-07T04:45:59.293Z"
   },
   {
    "duration": 6,
    "start_time": "2021-10-07T04:45:59.311Z"
   },
   {
    "duration": 10,
    "start_time": "2021-10-07T04:45:59.320Z"
   },
   {
    "duration": 54,
    "start_time": "2021-10-07T04:45:59.332Z"
   },
   {
    "duration": 10,
    "start_time": "2021-10-07T04:45:59.388Z"
   },
   {
    "duration": 12,
    "start_time": "2021-10-07T04:45:59.401Z"
   },
   {
    "duration": 12,
    "start_time": "2021-10-07T04:45:59.415Z"
   },
   {
    "duration": 5,
    "start_time": "2021-10-07T04:45:59.429Z"
   },
   {
    "duration": 5,
    "start_time": "2021-10-07T04:45:59.477Z"
   },
   {
    "duration": 16,
    "start_time": "2021-10-07T04:45:59.484Z"
   },
   {
    "duration": 8,
    "start_time": "2021-10-07T04:45:59.502Z"
   },
   {
    "duration": 16,
    "start_time": "2021-10-07T04:45:59.512Z"
   },
   {
    "duration": 7,
    "start_time": "2021-10-07T04:45:59.529Z"
   },
   {
    "duration": 42,
    "start_time": "2021-10-07T04:45:59.537Z"
   },
   {
    "duration": 3,
    "start_time": "2021-10-07T04:45:59.581Z"
   },
   {
    "duration": 15,
    "start_time": "2021-10-07T04:45:59.585Z"
   },
   {
    "duration": 17,
    "start_time": "2021-10-07T04:45:59.602Z"
   },
   {
    "duration": 29,
    "start_time": "2021-10-07T04:45:59.622Z"
   },
   {
    "duration": 5,
    "start_time": "2021-10-07T04:45:59.676Z"
   },
   {
    "duration": 105,
    "start_time": "2021-10-07T04:45:59.683Z"
   },
   {
    "duration": 253,
    "start_time": "2021-10-07T04:45:59.537Z"
   },
   {
    "duration": 247,
    "start_time": "2021-10-07T04:45:59.544Z"
   },
   {
    "duration": 240,
    "start_time": "2021-10-07T04:45:59.552Z"
   },
   {
    "duration": 235,
    "start_time": "2021-10-07T04:45:59.558Z"
   },
   {
    "duration": 230,
    "start_time": "2021-10-07T04:45:59.564Z"
   },
   {
    "duration": 224,
    "start_time": "2021-10-07T04:45:59.571Z"
   },
   {
    "duration": 213,
    "start_time": "2021-10-07T04:45:59.583Z"
   },
   {
    "duration": 196,
    "start_time": "2021-10-07T04:45:59.601Z"
   },
   {
    "duration": 189,
    "start_time": "2021-10-07T04:45:59.609Z"
   },
   {
    "duration": 175,
    "start_time": "2021-10-07T04:45:59.624Z"
   },
   {
    "duration": 169,
    "start_time": "2021-10-07T04:45:59.631Z"
   },
   {
    "duration": 162,
    "start_time": "2021-10-07T04:45:59.639Z"
   },
   {
    "duration": 146,
    "start_time": "2021-10-07T04:45:59.656Z"
   },
   {
    "duration": 141,
    "start_time": "2021-10-07T04:45:59.662Z"
   },
   {
    "duration": 135,
    "start_time": "2021-10-07T04:45:59.669Z"
   },
   {
    "duration": 124,
    "start_time": "2021-10-07T04:45:59.682Z"
   },
   {
    "duration": 119,
    "start_time": "2021-10-07T04:45:59.688Z"
   },
   {
    "duration": 114,
    "start_time": "2021-10-07T04:45:59.694Z"
   },
   {
    "duration": 107,
    "start_time": "2021-10-07T04:45:59.702Z"
   },
   {
    "duration": 98,
    "start_time": "2021-10-07T04:45:59.711Z"
   },
   {
    "duration": 91,
    "start_time": "2021-10-07T04:45:59.719Z"
   },
   {
    "duration": 86,
    "start_time": "2021-10-07T04:45:59.725Z"
   },
   {
    "duration": 82,
    "start_time": "2021-10-07T04:45:59.731Z"
   },
   {
    "duration": 75,
    "start_time": "2021-10-07T04:45:59.738Z"
   },
   {
    "duration": 7,
    "start_time": "2021-10-07T04:47:33.574Z"
   },
   {
    "duration": 516,
    "start_time": "2021-10-07T04:47:39.328Z"
   },
   {
    "duration": 100,
    "start_time": "2021-10-07T04:56:35.905Z"
   },
   {
    "duration": 104,
    "start_time": "2021-10-07T04:57:25.181Z"
   },
   {
    "duration": 4,
    "start_time": "2021-10-07T04:57:47.711Z"
   },
   {
    "duration": 635,
    "start_time": "2021-10-07T04:59:45.086Z"
   },
   {
    "duration": 51,
    "start_time": "2021-10-07T04:59:57.331Z"
   },
   {
    "duration": 3,
    "start_time": "2021-10-07T04:59:57.383Z"
   },
   {
    "duration": 15,
    "start_time": "2021-10-07T04:59:57.388Z"
   },
   {
    "duration": 11,
    "start_time": "2021-10-07T04:59:57.405Z"
   },
   {
    "duration": 8,
    "start_time": "2021-10-07T04:59:57.418Z"
   },
   {
    "duration": 13,
    "start_time": "2021-10-07T04:59:57.428Z"
   },
   {
    "duration": 37,
    "start_time": "2021-10-07T04:59:57.443Z"
   },
   {
    "duration": 7,
    "start_time": "2021-10-07T04:59:57.483Z"
   },
   {
    "duration": 7,
    "start_time": "2021-10-07T04:59:57.492Z"
   },
   {
    "duration": 8,
    "start_time": "2021-10-07T04:59:57.500Z"
   },
   {
    "duration": 9,
    "start_time": "2021-10-07T04:59:57.509Z"
   },
   {
    "duration": 9,
    "start_time": "2021-10-07T04:59:57.520Z"
   },
   {
    "duration": 4,
    "start_time": "2021-10-07T04:59:57.530Z"
   },
   {
    "duration": 45,
    "start_time": "2021-10-07T04:59:57.535Z"
   },
   {
    "duration": 13,
    "start_time": "2021-10-07T04:59:57.581Z"
   },
   {
    "duration": 5,
    "start_time": "2021-10-07T04:59:57.596Z"
   },
   {
    "duration": 12,
    "start_time": "2021-10-07T04:59:57.603Z"
   },
   {
    "duration": 5,
    "start_time": "2021-10-07T04:59:57.616Z"
   },
   {
    "duration": 6,
    "start_time": "2021-10-07T04:59:57.622Z"
   },
   {
    "duration": 4,
    "start_time": "2021-10-07T04:59:57.629Z"
   },
   {
    "duration": 48,
    "start_time": "2021-10-07T04:59:57.635Z"
   },
   {
    "duration": 17,
    "start_time": "2021-10-07T04:59:57.685Z"
   },
   {
    "duration": 27,
    "start_time": "2021-10-07T04:59:57.704Z"
   },
   {
    "duration": 5,
    "start_time": "2021-10-07T04:59:57.732Z"
   },
   {
    "duration": 6,
    "start_time": "2021-10-07T04:59:57.739Z"
   },
   {
    "duration": 31,
    "start_time": "2021-10-07T04:59:57.747Z"
   },
   {
    "duration": 640,
    "start_time": "2021-10-07T05:00:01.441Z"
   },
   {
    "duration": 51,
    "start_time": "2021-10-07T05:01:27.162Z"
   },
   {
    "duration": 21,
    "start_time": "2021-10-07T05:01:28.016Z"
   },
   {
    "duration": 4,
    "start_time": "2021-10-07T05:01:56.128Z"
   },
   {
    "duration": 646,
    "start_time": "2021-10-07T05:01:57.091Z"
   },
   {
    "duration": 6,
    "start_time": "2021-10-07T05:02:10.749Z"
   },
   {
    "duration": 11185,
    "start_time": "2021-10-07T05:02:14.255Z"
   },
   {
    "duration": 101,
    "start_time": "2021-10-07T05:09:24.567Z"
   },
   {
    "duration": 3,
    "start_time": "2021-10-07T05:10:13.675Z"
   },
   {
    "duration": 1624,
    "start_time": "2021-10-07T05:23:53.419Z"
   },
   {
    "duration": 378,
    "start_time": "2021-10-07T16:13:02.999Z"
   },
   {
    "duration": 783,
    "start_time": "2021-10-07T16:13:07.495Z"
   },
   {
    "duration": 6,
    "start_time": "2021-10-07T16:13:08.280Z"
   },
   {
    "duration": 30,
    "start_time": "2021-10-07T16:13:08.288Z"
   },
   {
    "duration": 36,
    "start_time": "2021-10-07T16:13:08.321Z"
   },
   {
    "duration": 13,
    "start_time": "2021-10-07T16:13:08.359Z"
   },
   {
    "duration": 24,
    "start_time": "2021-10-07T16:13:08.374Z"
   },
   {
    "duration": 10,
    "start_time": "2021-10-07T16:13:08.400Z"
   },
   {
    "duration": 44,
    "start_time": "2021-10-07T16:13:08.414Z"
   },
   {
    "duration": 11,
    "start_time": "2021-10-07T16:13:08.461Z"
   },
   {
    "duration": 12,
    "start_time": "2021-10-07T16:13:08.474Z"
   },
   {
    "duration": 15,
    "start_time": "2021-10-07T16:13:08.488Z"
   },
   {
    "duration": 55,
    "start_time": "2021-10-07T16:13:08.506Z"
   },
   {
    "duration": 5,
    "start_time": "2021-10-07T16:13:08.563Z"
   },
   {
    "duration": 9,
    "start_time": "2021-10-07T16:13:08.571Z"
   },
   {
    "duration": 16,
    "start_time": "2021-10-07T16:13:08.582Z"
   },
   {
    "duration": 8,
    "start_time": "2021-10-07T16:13:08.601Z"
   },
   {
    "duration": 57,
    "start_time": "2021-10-07T16:13:08.612Z"
   },
   {
    "duration": 8,
    "start_time": "2021-10-07T16:13:08.671Z"
   },
   {
    "duration": 12,
    "start_time": "2021-10-07T16:13:08.681Z"
   },
   {
    "duration": 10,
    "start_time": "2021-10-07T16:13:08.696Z"
   },
   {
    "duration": 26,
    "start_time": "2021-10-07T16:13:08.708Z"
   },
   {
    "duration": 51,
    "start_time": "2021-10-07T16:13:08.737Z"
   },
   {
    "duration": 42,
    "start_time": "2021-10-07T16:13:08.792Z"
   },
   {
    "duration": 23,
    "start_time": "2021-10-07T16:13:08.837Z"
   },
   {
    "duration": 9,
    "start_time": "2021-10-07T16:13:08.863Z"
   },
   {
    "duration": 8,
    "start_time": "2021-10-07T16:13:10.792Z"
   },
   {
    "duration": 389,
    "start_time": "2021-10-07T16:14:28.751Z"
   },
   {
    "duration": 14,
    "start_time": "2021-10-07T16:14:50.711Z"
   },
   {
    "duration": 335,
    "start_time": "2021-10-07T16:15:14.220Z"
   },
   {
    "duration": 303,
    "start_time": "2021-10-07T16:16:03.883Z"
   },
   {
    "duration": 311,
    "start_time": "2021-10-07T16:16:14.329Z"
   },
   {
    "duration": 7,
    "start_time": "2021-10-07T16:16:58.149Z"
   },
   {
    "duration": 310,
    "start_time": "2021-10-07T16:17:14.420Z"
   },
   {
    "duration": 8,
    "start_time": "2021-10-07T16:17:31.855Z"
   },
   {
    "duration": 7,
    "start_time": "2021-10-07T16:17:36.562Z"
   },
   {
    "duration": 935,
    "start_time": "2021-10-07T16:17:52.511Z"
   },
   {
    "duration": 6,
    "start_time": "2021-10-07T16:18:57.108Z"
   },
   {
    "duration": 66,
    "start_time": "2021-10-07T16:19:03.009Z"
   },
   {
    "duration": 26,
    "start_time": "2021-10-07T16:19:03.077Z"
   },
   {
    "duration": 19,
    "start_time": "2021-10-07T16:19:03.107Z"
   },
   {
    "duration": 42,
    "start_time": "2021-10-07T16:19:03.129Z"
   },
   {
    "duration": 12,
    "start_time": "2021-10-07T16:19:03.173Z"
   },
   {
    "duration": 20,
    "start_time": "2021-10-07T16:19:03.188Z"
   },
   {
    "duration": 8,
    "start_time": "2021-10-07T16:19:03.258Z"
   },
   {
    "duration": 11,
    "start_time": "2021-10-07T16:19:03.271Z"
   },
   {
    "duration": 12,
    "start_time": "2021-10-07T16:19:03.286Z"
   },
   {
    "duration": 58,
    "start_time": "2021-10-07T16:19:03.301Z"
   },
   {
    "duration": 25,
    "start_time": "2021-10-07T16:19:03.362Z"
   },
   {
    "duration": 23,
    "start_time": "2021-10-07T16:19:03.390Z"
   },
   {
    "duration": 7,
    "start_time": "2021-10-07T16:19:03.416Z"
   },
   {
    "duration": 7,
    "start_time": "2021-10-07T16:19:03.426Z"
   },
   {
    "duration": 18,
    "start_time": "2021-10-07T16:19:03.459Z"
   },
   {
    "duration": 24,
    "start_time": "2021-10-07T16:19:03.480Z"
   },
   {
    "duration": 22,
    "start_time": "2021-10-07T16:19:03.507Z"
   },
   {
    "duration": 28,
    "start_time": "2021-10-07T16:19:03.532Z"
   },
   {
    "duration": 12,
    "start_time": "2021-10-07T16:19:03.563Z"
   },
   {
    "duration": 6,
    "start_time": "2021-10-07T16:19:03.578Z"
   },
   {
    "duration": 33,
    "start_time": "2021-10-07T16:19:03.587Z"
   },
   {
    "duration": 42,
    "start_time": "2021-10-07T16:19:03.623Z"
   },
   {
    "duration": 41,
    "start_time": "2021-10-07T16:19:03.671Z"
   },
   {
    "duration": 9,
    "start_time": "2021-10-07T16:19:03.716Z"
   },
   {
    "duration": 40,
    "start_time": "2021-10-07T16:19:03.728Z"
   },
   {
    "duration": 926,
    "start_time": "2021-10-07T16:19:03.770Z"
   },
   {
    "duration": 6,
    "start_time": "2021-10-07T16:19:22.517Z"
   },
   {
    "duration": 3486,
    "start_time": "2021-10-07T16:19:23.934Z"
   },
   {
    "duration": 12,
    "start_time": "2021-10-07T16:19:39.730Z"
   },
   {
    "duration": 5,
    "start_time": "2021-10-07T16:20:00.118Z"
   },
   {
    "duration": 2566,
    "start_time": "2021-10-07T16:20:01.922Z"
   },
   {
    "duration": 11,
    "start_time": "2021-10-07T16:20:08.436Z"
   },
   {
    "duration": 5,
    "start_time": "2021-10-07T16:20:52.527Z"
   },
   {
    "duration": 2752,
    "start_time": "2021-10-07T16:20:54.135Z"
   },
   {
    "duration": 11,
    "start_time": "2021-10-07T16:20:59.671Z"
   },
   {
    "duration": 316,
    "start_time": "2021-10-07T16:23:03.480Z"
   },
   {
    "duration": 3,
    "start_time": "2021-10-07T16:23:32.918Z"
   },
   {
    "duration": 443,
    "start_time": "2021-10-07T16:23:44.866Z"
   },
   {
    "duration": 69,
    "start_time": "2021-10-07T16:23:51.320Z"
   },
   {
    "duration": 25,
    "start_time": "2021-10-07T16:23:51.392Z"
   },
   {
    "duration": 4,
    "start_time": "2021-10-07T16:23:51.421Z"
   },
   {
    "duration": 50,
    "start_time": "2021-10-07T16:23:51.429Z"
   },
   {
    "duration": 17,
    "start_time": "2021-10-07T16:23:51.482Z"
   },
   {
    "duration": 15,
    "start_time": "2021-10-07T16:23:51.502Z"
   },
   {
    "duration": 21,
    "start_time": "2021-10-07T16:23:51.558Z"
   },
   {
    "duration": 6,
    "start_time": "2021-10-07T16:23:51.583Z"
   },
   {
    "duration": 8,
    "start_time": "2021-10-07T16:23:51.592Z"
   },
   {
    "duration": 11,
    "start_time": "2021-10-07T16:23:51.603Z"
   },
   {
    "duration": 51,
    "start_time": "2021-10-07T16:23:51.616Z"
   },
   {
    "duration": 16,
    "start_time": "2021-10-07T16:23:51.669Z"
   },
   {
    "duration": 14,
    "start_time": "2021-10-07T16:23:51.688Z"
   },
   {
    "duration": 5,
    "start_time": "2021-10-07T16:23:51.705Z"
   },
   {
    "duration": 45,
    "start_time": "2021-10-07T16:23:51.713Z"
   },
   {
    "duration": 20,
    "start_time": "2021-10-07T16:23:51.761Z"
   },
   {
    "duration": 10,
    "start_time": "2021-10-07T16:23:51.784Z"
   },
   {
    "duration": 19,
    "start_time": "2021-10-07T16:23:51.797Z"
   },
   {
    "duration": 39,
    "start_time": "2021-10-07T16:23:51.818Z"
   },
   {
    "duration": 8,
    "start_time": "2021-10-07T16:23:51.859Z"
   },
   {
    "duration": 4,
    "start_time": "2021-10-07T16:23:51.869Z"
   },
   {
    "duration": 17,
    "start_time": "2021-10-07T16:23:51.875Z"
   },
   {
    "duration": 25,
    "start_time": "2021-10-07T16:23:51.897Z"
   },
   {
    "duration": 42,
    "start_time": "2021-10-07T16:23:51.957Z"
   },
   {
    "duration": 7,
    "start_time": "2021-10-07T16:23:52.001Z"
   },
   {
    "duration": 11,
    "start_time": "2021-10-07T16:23:52.010Z"
   },
   {
    "duration": 311,
    "start_time": "2021-10-07T16:23:54.642Z"
   },
   {
    "duration": 914,
    "start_time": "2021-10-07T16:24:29.125Z"
   },
   {
    "duration": 6,
    "start_time": "2021-10-07T16:25:34.643Z"
   },
   {
    "duration": 3542,
    "start_time": "2021-10-07T16:25:36.021Z"
   },
   {
    "duration": 11,
    "start_time": "2021-10-07T16:25:42.263Z"
   },
   {
    "duration": 573,
    "start_time": "2021-10-07T16:27:45.748Z"
   },
   {
    "duration": 448,
    "start_time": "2021-10-07T16:29:54.491Z"
   },
   {
    "duration": 8,
    "start_time": "2021-10-07T16:29:57.421Z"
   },
   {
    "duration": 494,
    "start_time": "2021-10-07T16:29:58.420Z"
   },
   {
    "duration": 483,
    "start_time": "2021-10-07T16:30:30.805Z"
   },
   {
    "duration": 11,
    "start_time": "2021-10-07T16:33:31.656Z"
   },
   {
    "duration": 10,
    "start_time": "2021-10-07T16:33:58.309Z"
   },
   {
    "duration": 12,
    "start_time": "2021-10-07T16:34:04.665Z"
   },
   {
    "duration": 65,
    "start_time": "2021-10-07T16:34:10.651Z"
   },
   {
    "duration": 43,
    "start_time": "2021-10-07T16:34:10.718Z"
   },
   {
    "duration": 3,
    "start_time": "2021-10-07T16:34:10.764Z"
   },
   {
    "duration": 35,
    "start_time": "2021-10-07T16:34:10.769Z"
   },
   {
    "duration": 22,
    "start_time": "2021-10-07T16:34:10.807Z"
   },
   {
    "duration": 14,
    "start_time": "2021-10-07T16:34:10.831Z"
   },
   {
    "duration": 21,
    "start_time": "2021-10-07T16:34:12.875Z"
   },
   {
    "duration": 10,
    "start_time": "2021-10-07T16:37:01.917Z"
   },
   {
    "duration": 136,
    "start_time": "2021-10-07T16:41:38.266Z"
   },
   {
    "duration": 465,
    "start_time": "2021-10-07T16:43:11.186Z"
   },
   {
    "duration": 448,
    "start_time": "2021-10-07T16:43:23.551Z"
   },
   {
    "duration": 349,
    "start_time": "2021-10-07T16:46:43.946Z"
   },
   {
    "duration": 311,
    "start_time": "2021-10-07T16:47:33.915Z"
   },
   {
    "duration": 8,
    "start_time": "2021-10-07T16:47:59.774Z"
   },
   {
    "duration": 35,
    "start_time": "2021-10-07T16:49:45.350Z"
   },
   {
    "duration": 461,
    "start_time": "2021-10-07T16:53:18.709Z"
   },
   {
    "duration": 9,
    "start_time": "2021-10-07T16:58:06.202Z"
   },
   {
    "duration": 11,
    "start_time": "2021-10-07T16:58:51.481Z"
   },
   {
    "duration": 12,
    "start_time": "2021-10-07T16:58:53.088Z"
   },
   {
    "duration": 9,
    "start_time": "2021-10-07T16:58:58.211Z"
   },
   {
    "duration": 12,
    "start_time": "2021-10-07T16:59:00.006Z"
   },
   {
    "duration": 14,
    "start_time": "2021-10-07T16:59:00.997Z"
   },
   {
    "duration": 5,
    "start_time": "2021-10-07T17:02:21.241Z"
   },
   {
    "duration": 21,
    "start_time": "2021-10-07T17:02:31.497Z"
   },
   {
    "duration": 337,
    "start_time": "2021-10-07T17:03:03.565Z"
   },
   {
    "duration": 5,
    "start_time": "2021-10-07T17:03:50.367Z"
   },
   {
    "duration": 19,
    "start_time": "2021-10-07T17:03:54.661Z"
   },
   {
    "duration": 7,
    "start_time": "2021-10-07T17:04:00.637Z"
   },
   {
    "duration": 19,
    "start_time": "2021-10-07T17:04:06.897Z"
   },
   {
    "duration": 322,
    "start_time": "2021-10-07T17:04:32.685Z"
   },
   {
    "duration": 329,
    "start_time": "2021-10-07T17:05:54.429Z"
   },
   {
    "duration": 83,
    "start_time": "2021-10-07T17:06:00.392Z"
   },
   {
    "duration": 4,
    "start_time": "2021-10-07T17:06:00.479Z"
   },
   {
    "duration": 13,
    "start_time": "2021-10-07T17:06:00.486Z"
   },
   {
    "duration": 25,
    "start_time": "2021-10-07T17:06:00.502Z"
   },
   {
    "duration": 36,
    "start_time": "2021-10-07T17:06:00.530Z"
   },
   {
    "duration": 13,
    "start_time": "2021-10-07T17:06:00.569Z"
   },
   {
    "duration": 22,
    "start_time": "2021-10-07T17:06:00.584Z"
   },
   {
    "duration": 8,
    "start_time": "2021-10-07T17:06:00.608Z"
   },
   {
    "duration": 496,
    "start_time": "2021-10-07T17:06:00.620Z"
   },
   {
    "duration": 8,
    "start_time": "2021-10-07T17:06:01.119Z"
   },
   {
    "duration": 33,
    "start_time": "2021-10-07T17:06:01.130Z"
   },
   {
    "duration": 14,
    "start_time": "2021-10-07T17:06:01.165Z"
   },
   {
    "duration": 35,
    "start_time": "2021-10-07T17:06:01.181Z"
   },
   {
    "duration": 35,
    "start_time": "2021-10-07T17:06:01.218Z"
   },
   {
    "duration": 24,
    "start_time": "2021-10-07T17:06:01.256Z"
   },
   {
    "duration": 10,
    "start_time": "2021-10-07T17:06:01.283Z"
   },
   {
    "duration": 5,
    "start_time": "2021-10-07T17:06:03.808Z"
   },
   {
    "duration": 16,
    "start_time": "2021-10-07T17:06:09.385Z"
   },
   {
    "duration": 8,
    "start_time": "2021-10-07T17:06:11.576Z"
   },
   {
    "duration": 20,
    "start_time": "2021-10-07T17:06:15.055Z"
   },
   {
    "duration": 65,
    "start_time": "2021-10-07T17:07:18.748Z"
   },
   {
    "duration": 5,
    "start_time": "2021-10-07T17:07:18.816Z"
   },
   {
    "duration": 5,
    "start_time": "2021-10-07T17:07:18.825Z"
   },
   {
    "duration": 23,
    "start_time": "2021-10-07T17:07:18.858Z"
   },
   {
    "duration": 18,
    "start_time": "2021-10-07T17:07:18.884Z"
   },
   {
    "duration": 61,
    "start_time": "2021-10-07T17:07:18.906Z"
   },
   {
    "duration": 24,
    "start_time": "2021-10-07T17:07:18.970Z"
   },
   {
    "duration": 8,
    "start_time": "2021-10-07T17:07:18.997Z"
   },
   {
    "duration": 501,
    "start_time": "2021-10-07T17:07:19.008Z"
   },
   {
    "duration": 9,
    "start_time": "2021-10-07T17:07:19.511Z"
   },
   {
    "duration": 36,
    "start_time": "2021-10-07T17:07:19.523Z"
   },
   {
    "duration": 10,
    "start_time": "2021-10-07T17:07:19.561Z"
   },
   {
    "duration": 14,
    "start_time": "2021-10-07T17:07:19.573Z"
   },
   {
    "duration": 14,
    "start_time": "2021-10-07T17:07:19.590Z"
   },
   {
    "duration": 52,
    "start_time": "2021-10-07T17:07:19.607Z"
   },
   {
    "duration": 6,
    "start_time": "2021-10-07T17:07:19.662Z"
   },
   {
    "duration": 7,
    "start_time": "2021-10-07T17:07:19.671Z"
   },
   {
    "duration": 26,
    "start_time": "2021-10-07T17:07:19.680Z"
   },
   {
    "duration": 10,
    "start_time": "2021-10-07T17:07:19.708Z"
   },
   {
    "duration": 47,
    "start_time": "2021-10-07T17:07:19.721Z"
   },
   {
    "duration": 7,
    "start_time": "2021-10-07T17:07:19.770Z"
   },
   {
    "duration": 10,
    "start_time": "2021-10-07T17:07:19.779Z"
   },
   {
    "duration": 5,
    "start_time": "2021-10-07T17:07:19.795Z"
   },
   {
    "duration": 54,
    "start_time": "2021-10-07T17:07:19.803Z"
   },
   {
    "duration": 26,
    "start_time": "2021-10-07T17:07:19.859Z"
   },
   {
    "duration": 41,
    "start_time": "2021-10-07T17:07:19.887Z"
   },
   {
    "duration": 32,
    "start_time": "2021-10-07T17:07:19.930Z"
   },
   {
    "duration": 10,
    "start_time": "2021-10-07T17:07:19.964Z"
   },
   {
    "duration": 944,
    "start_time": "2021-10-07T17:07:19.976Z"
   },
   {
    "duration": 7,
    "start_time": "2021-10-07T17:07:20.923Z"
   },
   {
    "duration": 3483,
    "start_time": "2021-10-07T17:07:20.932Z"
   },
   {
    "duration": 11,
    "start_time": "2021-10-07T17:07:24.418Z"
   },
   {
    "duration": 28,
    "start_time": "2021-10-07T17:07:24.431Z"
   },
   {
    "duration": 18,
    "start_time": "2021-10-07T17:07:24.461Z"
   },
   {
    "duration": 10,
    "start_time": "2021-10-07T17:07:24.481Z"
   },
   {
    "duration": 26,
    "start_time": "2021-10-07T17:07:24.493Z"
   },
   {
    "duration": 25,
    "start_time": "2021-10-07T17:07:24.522Z"
   },
   {
    "duration": 20,
    "start_time": "2021-10-07T17:07:24.550Z"
   },
   {
    "duration": 6,
    "start_time": "2021-10-07T17:07:24.572Z"
   },
   {
    "duration": 17,
    "start_time": "2021-10-07T17:07:24.580Z"
   },
   {
    "duration": 33,
    "start_time": "2021-10-07T17:07:24.599Z"
   },
   {
    "duration": 31,
    "start_time": "2021-10-07T17:07:24.635Z"
   },
   {
    "duration": 31,
    "start_time": "2021-10-07T17:07:24.669Z"
   },
   {
    "duration": 14,
    "start_time": "2021-10-07T17:07:24.703Z"
   },
   {
    "duration": 41,
    "start_time": "2021-10-07T17:07:24.720Z"
   },
   {
    "duration": 112,
    "start_time": "2021-10-07T17:08:26.359Z"
   },
   {
    "duration": 19,
    "start_time": "2021-10-07T17:09:03.591Z"
   },
   {
    "duration": 19,
    "start_time": "2021-10-07T17:09:22.771Z"
   },
   {
    "duration": 19,
    "start_time": "2021-10-07T17:10:21.638Z"
   },
   {
    "duration": 17,
    "start_time": "2021-10-07T17:11:44.386Z"
   },
   {
    "duration": 16,
    "start_time": "2021-10-07T17:12:17.048Z"
   },
   {
    "duration": 106,
    "start_time": "2021-10-07T17:13:04.465Z"
   },
   {
    "duration": 67,
    "start_time": "2021-10-07T17:13:41.928Z"
   },
   {
    "duration": 28,
    "start_time": "2021-10-07T17:13:41.997Z"
   },
   {
    "duration": 3,
    "start_time": "2021-10-07T17:13:42.028Z"
   },
   {
    "duration": 19,
    "start_time": "2021-10-07T17:13:42.058Z"
   },
   {
    "duration": 19,
    "start_time": "2021-10-07T17:13:42.079Z"
   },
   {
    "duration": 10,
    "start_time": "2021-10-07T17:13:42.101Z"
   },
   {
    "duration": 55,
    "start_time": "2021-10-07T17:13:42.114Z"
   },
   {
    "duration": 12,
    "start_time": "2021-10-07T17:13:42.172Z"
   },
   {
    "duration": 645,
    "start_time": "2021-10-07T17:13:42.189Z"
   },
   {
    "duration": 8,
    "start_time": "2021-10-07T17:13:42.837Z"
   },
   {
    "duration": 10,
    "start_time": "2021-10-07T17:13:42.858Z"
   },
   {
    "duration": 13,
    "start_time": "2021-10-07T17:13:42.870Z"
   },
   {
    "duration": 14,
    "start_time": "2021-10-07T17:13:42.886Z"
   },
   {
    "duration": 28,
    "start_time": "2021-10-07T17:13:42.903Z"
   },
   {
    "duration": 31,
    "start_time": "2021-10-07T17:13:42.934Z"
   },
   {
    "duration": 5,
    "start_time": "2021-10-07T17:13:42.968Z"
   },
   {
    "duration": 17,
    "start_time": "2021-10-07T17:13:42.975Z"
   },
   {
    "duration": 29,
    "start_time": "2021-10-07T17:13:42.994Z"
   },
   {
    "duration": 16,
    "start_time": "2021-10-07T17:13:43.026Z"
   },
   {
    "duration": 30,
    "start_time": "2021-10-07T17:13:43.044Z"
   },
   {
    "duration": 8,
    "start_time": "2021-10-07T17:13:43.076Z"
   },
   {
    "duration": 17,
    "start_time": "2021-10-07T17:13:43.087Z"
   },
   {
    "duration": 17,
    "start_time": "2021-10-07T17:13:43.107Z"
   },
   {
    "duration": 34,
    "start_time": "2021-10-07T17:13:43.126Z"
   },
   {
    "duration": 25,
    "start_time": "2021-10-07T17:13:43.163Z"
   },
   {
    "duration": 42,
    "start_time": "2021-10-07T17:13:43.191Z"
   },
   {
    "duration": 11,
    "start_time": "2021-10-07T17:13:43.262Z"
   },
   {
    "duration": 10,
    "start_time": "2021-10-07T17:13:43.277Z"
   },
   {
    "duration": 931,
    "start_time": "2021-10-07T17:13:43.290Z"
   },
   {
    "duration": 5,
    "start_time": "2021-10-07T17:13:44.224Z"
   },
   {
    "duration": 3541,
    "start_time": "2021-10-07T17:13:44.232Z"
   },
   {
    "duration": 10,
    "start_time": "2021-10-07T17:13:47.776Z"
   },
   {
    "duration": 15,
    "start_time": "2021-10-07T17:13:47.789Z"
   },
   {
    "duration": 17,
    "start_time": "2021-10-07T17:13:47.806Z"
   },
   {
    "duration": 4,
    "start_time": "2021-10-07T17:13:47.825Z"
   },
   {
    "duration": 32,
    "start_time": "2021-10-07T17:13:47.832Z"
   },
   {
    "duration": 21,
    "start_time": "2021-10-07T17:13:47.867Z"
   },
   {
    "duration": 14,
    "start_time": "2021-10-07T17:13:47.891Z"
   },
   {
    "duration": 51,
    "start_time": "2021-10-07T17:13:47.908Z"
   },
   {
    "duration": 22,
    "start_time": "2021-10-07T17:13:47.961Z"
   },
   {
    "duration": 21,
    "start_time": "2021-10-07T17:13:47.986Z"
   },
   {
    "duration": 30,
    "start_time": "2021-10-07T17:13:48.010Z"
   },
   {
    "duration": 23,
    "start_time": "2021-10-07T17:13:48.058Z"
   },
   {
    "duration": 14,
    "start_time": "2021-10-07T17:13:48.083Z"
   },
   {
    "duration": 43,
    "start_time": "2021-10-07T17:13:48.099Z"
   },
   {
    "duration": 31,
    "start_time": "2021-10-07T17:13:48.144Z"
   },
   {
    "duration": 22,
    "start_time": "2021-10-07T17:13:48.177Z"
   },
   {
    "duration": 42,
    "start_time": "2021-10-07T17:13:48.201Z"
   },
   {
    "duration": 40,
    "start_time": "2021-10-07T17:13:48.246Z"
   },
   {
    "duration": 15,
    "start_time": "2021-10-07T17:13:48.289Z"
   },
   {
    "duration": 26,
    "start_time": "2021-10-07T17:13:48.306Z"
   },
   {
    "duration": 8,
    "start_time": "2021-10-07T17:13:57.438Z"
   },
   {
    "duration": 534,
    "start_time": "2021-10-07T17:35:01.789Z"
   },
   {
    "duration": 491,
    "start_time": "2021-10-07T17:36:32.252Z"
   },
   {
    "duration": 9,
    "start_time": "2021-10-07T17:37:16.070Z"
   },
   {
    "duration": 17,
    "start_time": "2021-10-07T17:37:28.007Z"
   },
   {
    "duration": 68,
    "start_time": "2021-10-07T17:39:26.752Z"
   },
   {
    "duration": 39,
    "start_time": "2021-10-07T17:39:26.823Z"
   },
   {
    "duration": 3,
    "start_time": "2021-10-07T17:39:26.866Z"
   },
   {
    "duration": 22,
    "start_time": "2021-10-07T17:39:26.873Z"
   },
   {
    "duration": 15,
    "start_time": "2021-10-07T17:39:26.897Z"
   },
   {
    "duration": 44,
    "start_time": "2021-10-07T17:39:26.914Z"
   },
   {
    "duration": 20,
    "start_time": "2021-10-07T17:39:26.960Z"
   },
   {
    "duration": 11,
    "start_time": "2021-10-07T17:39:26.984Z"
   },
   {
    "duration": 509,
    "start_time": "2021-10-07T17:39:26.998Z"
   },
   {
    "duration": 16,
    "start_time": "2021-10-07T17:39:27.510Z"
   },
   {
    "duration": 29,
    "start_time": "2021-10-07T17:39:27.530Z"
   },
   {
    "duration": 11,
    "start_time": "2021-10-07T17:39:27.562Z"
   },
   {
    "duration": 17,
    "start_time": "2021-10-07T17:39:27.576Z"
   },
   {
    "duration": 14,
    "start_time": "2021-10-07T17:39:27.595Z"
   },
   {
    "duration": 54,
    "start_time": "2021-10-07T17:39:27.612Z"
   },
   {
    "duration": 5,
    "start_time": "2021-10-07T17:39:27.669Z"
   },
   {
    "duration": 9,
    "start_time": "2021-10-07T17:39:27.676Z"
   },
   {
    "duration": 18,
    "start_time": "2021-10-07T17:39:27.688Z"
   },
   {
    "duration": 8,
    "start_time": "2021-10-07T17:39:27.708Z"
   },
   {
    "duration": 52,
    "start_time": "2021-10-07T17:39:27.718Z"
   },
   {
    "duration": 7,
    "start_time": "2021-10-07T17:39:27.775Z"
   },
   {
    "duration": 10,
    "start_time": "2021-10-07T17:39:27.785Z"
   },
   {
    "duration": 5,
    "start_time": "2021-10-07T17:39:27.797Z"
   },
   {
    "duration": 55,
    "start_time": "2021-10-07T17:39:27.804Z"
   },
   {
    "duration": 24,
    "start_time": "2021-10-07T17:39:27.862Z"
   },
   {
    "duration": 68,
    "start_time": "2021-10-07T17:39:27.889Z"
   },
   {
    "duration": 9,
    "start_time": "2021-10-07T17:39:27.959Z"
   },
   {
    "duration": 14,
    "start_time": "2021-10-07T17:39:27.971Z"
   },
   {
    "duration": 934,
    "start_time": "2021-10-07T17:39:27.988Z"
   },
   {
    "duration": 6,
    "start_time": "2021-10-07T17:39:28.924Z"
   },
   {
    "duration": 3514,
    "start_time": "2021-10-07T17:39:28.932Z"
   },
   {
    "duration": 10,
    "start_time": "2021-10-07T17:39:32.458Z"
   },
   {
    "duration": 25,
    "start_time": "2021-10-07T17:39:32.470Z"
   },
   {
    "duration": 9,
    "start_time": "2021-10-07T17:39:32.497Z"
   },
   {
    "duration": 4,
    "start_time": "2021-10-07T17:39:32.508Z"
   },
   {
    "duration": 16,
    "start_time": "2021-10-07T17:39:32.514Z"
   },
   {
    "duration": 45,
    "start_time": "2021-10-07T17:39:32.532Z"
   },
   {
    "duration": 20,
    "start_time": "2021-10-07T17:39:32.580Z"
   },
   {
    "duration": 16,
    "start_time": "2021-10-07T17:39:32.602Z"
   },
   {
    "duration": 25,
    "start_time": "2021-10-07T17:39:32.620Z"
   },
   {
    "duration": 29,
    "start_time": "2021-10-07T17:39:32.647Z"
   },
   {
    "duration": 26,
    "start_time": "2021-10-07T17:39:32.679Z"
   },
   {
    "duration": 22,
    "start_time": "2021-10-07T17:39:32.708Z"
   },
   {
    "duration": 36,
    "start_time": "2021-10-07T17:39:32.733Z"
   },
   {
    "duration": 17,
    "start_time": "2021-10-07T17:39:32.772Z"
   },
   {
    "duration": 21,
    "start_time": "2021-10-07T17:39:32.791Z"
   },
   {
    "duration": 53,
    "start_time": "2021-10-07T17:39:32.815Z"
   },
   {
    "duration": 38,
    "start_time": "2021-10-07T17:39:32.871Z"
   },
   {
    "duration": 65,
    "start_time": "2021-10-07T17:39:32.912Z"
   },
   {
    "duration": 6,
    "start_time": "2021-10-07T17:39:32.980Z"
   },
   {
    "duration": 23,
    "start_time": "2021-10-07T17:39:32.989Z"
   },
   {
    "duration": 10,
    "start_time": "2021-10-07T17:39:33.015Z"
   },
   {
    "duration": 597,
    "start_time": "2021-10-08T13:47:55.877Z"
   },
   {
    "duration": 4,
    "start_time": "2021-10-08T13:47:56.476Z"
   },
   {
    "duration": 3,
    "start_time": "2021-10-08T13:47:56.482Z"
   },
   {
    "duration": 20,
    "start_time": "2021-10-08T13:47:56.486Z"
   },
   {
    "duration": 9,
    "start_time": "2021-10-08T13:47:56.508Z"
   },
   {
    "duration": 9,
    "start_time": "2021-10-08T13:47:56.519Z"
   },
   {
    "duration": 13,
    "start_time": "2021-10-08T13:47:56.529Z"
   },
   {
    "duration": 8,
    "start_time": "2021-10-08T13:47:56.544Z"
   },
   {
    "duration": 372,
    "start_time": "2021-10-08T13:47:56.554Z"
   },
   {
    "duration": 6,
    "start_time": "2021-10-08T13:47:56.928Z"
   },
   {
    "duration": 6,
    "start_time": "2021-10-08T13:47:56.936Z"
   },
   {
    "duration": 6,
    "start_time": "2021-10-08T13:47:56.944Z"
   },
   {
    "duration": 9,
    "start_time": "2021-10-08T13:47:56.952Z"
   },
   {
    "duration": 38,
    "start_time": "2021-10-08T13:47:56.962Z"
   },
   {
    "duration": 11,
    "start_time": "2021-10-08T13:47:57.002Z"
   },
   {
    "duration": 4,
    "start_time": "2021-10-08T13:47:57.015Z"
   },
   {
    "duration": 5,
    "start_time": "2021-10-08T13:47:57.020Z"
   },
   {
    "duration": 13,
    "start_time": "2021-10-08T13:47:57.027Z"
   },
   {
    "duration": 7,
    "start_time": "2021-10-08T13:47:57.041Z"
   },
   {
    "duration": 15,
    "start_time": "2021-10-08T13:47:57.049Z"
   },
   {
    "duration": 36,
    "start_time": "2021-10-08T13:47:57.065Z"
   },
   {
    "duration": 8,
    "start_time": "2021-10-08T13:47:57.103Z"
   },
   {
    "duration": 3,
    "start_time": "2021-10-08T13:47:57.114Z"
   },
   {
    "duration": 13,
    "start_time": "2021-10-08T13:47:57.118Z"
   },
   {
    "duration": 18,
    "start_time": "2021-10-08T13:47:57.132Z"
   },
   {
    "duration": 49,
    "start_time": "2021-10-08T13:47:57.151Z"
   },
   {
    "duration": 5,
    "start_time": "2021-10-08T13:47:57.202Z"
   },
   {
    "duration": 8,
    "start_time": "2021-10-08T13:47:57.208Z"
   },
   {
    "duration": 658,
    "start_time": "2021-10-08T13:47:57.217Z"
   },
   {
    "duration": 4,
    "start_time": "2021-10-08T13:47:57.877Z"
   },
   {
    "duration": 2833,
    "start_time": "2021-10-08T13:47:57.882Z"
   },
   {
    "duration": 8,
    "start_time": "2021-10-08T13:48:00.717Z"
   },
   {
    "duration": 12,
    "start_time": "2021-10-08T13:48:00.726Z"
   },
   {
    "duration": 8,
    "start_time": "2021-10-08T13:48:00.740Z"
   },
   {
    "duration": 15,
    "start_time": "2021-10-08T13:48:00.750Z"
   },
   {
    "duration": 16,
    "start_time": "2021-10-08T13:48:00.767Z"
   },
   {
    "duration": 20,
    "start_time": "2021-10-08T13:48:00.785Z"
   },
   {
    "duration": 9,
    "start_time": "2021-10-08T13:48:00.807Z"
   },
   {
    "duration": 9,
    "start_time": "2021-10-08T13:48:00.817Z"
   },
   {
    "duration": 17,
    "start_time": "2021-10-08T13:48:00.827Z"
   },
   {
    "duration": 20,
    "start_time": "2021-10-08T13:48:00.846Z"
   },
   {
    "duration": 21,
    "start_time": "2021-10-08T13:48:00.867Z"
   },
   {
    "duration": 21,
    "start_time": "2021-10-08T13:48:00.890Z"
   },
   {
    "duration": 14,
    "start_time": "2021-10-08T13:48:00.913Z"
   },
   {
    "duration": 20,
    "start_time": "2021-10-08T13:48:00.929Z"
   },
   {
    "duration": 13,
    "start_time": "2021-10-08T13:48:00.951Z"
   },
   {
    "duration": 10,
    "start_time": "2021-10-08T13:48:00.966Z"
   },
   {
    "duration": 41,
    "start_time": "2021-10-08T13:48:00.977Z"
   },
   {
    "duration": 21,
    "start_time": "2021-10-08T13:48:01.020Z"
   },
   {
    "duration": 4,
    "start_time": "2021-10-08T13:48:01.042Z"
   },
   {
    "duration": 15,
    "start_time": "2021-10-08T13:48:01.047Z"
   },
   {
    "duration": 5,
    "start_time": "2021-10-08T13:48:01.063Z"
   },
   {
    "duration": 298,
    "start_time": "2021-10-08T13:57:50.099Z"
   },
   {
    "duration": 288,
    "start_time": "2021-10-08T13:57:54.315Z"
   }
  ],
  "kernelspec": {
   "display_name": "Python 3 (ipykernel)",
   "language": "python",
   "name": "python3"
  },
  "language_info": {
   "codemirror_mode": {
    "name": "ipython",
    "version": 3
   },
   "file_extension": ".py",
   "mimetype": "text/x-python",
   "name": "python",
   "nbconvert_exporter": "python",
   "pygments_lexer": "ipython3",
   "version": "3.9.7"
  },
  "toc": {
   "base_numbering": 1,
   "nav_menu": {},
   "number_sections": true,
   "sideBar": true,
   "skip_h1_title": true,
   "title_cell": "Оглавление",
   "title_sidebar": "Contents",
   "toc_cell": true,
   "toc_position": {
    "height": "calc(100% - 180px)",
    "left": "10px",
    "top": "150px",
    "width": "341.333px"
   },
   "toc_section_display": true,
   "toc_window_display": true
  }
 },
 "nbformat": 4,
 "nbformat_minor": 2
}
