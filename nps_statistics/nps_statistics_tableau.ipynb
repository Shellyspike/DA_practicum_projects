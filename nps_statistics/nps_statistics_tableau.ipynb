{
 "cells": [
  {
   "cell_type": "markdown",
   "id": "b58b5cd4",
   "metadata": {},
   "source": [
    "### Описание проекта\n",
    "\n",
    "Цель настоящего исследования - изучение результатов опроса, проведенного с целью определить уровень потребительской лояльности телекоммуникационной компании среди клиентов из России. \n",
    "\n",
    "Результатом изучения должны стать ответы на следующие вопросы:\n",
    "- Как распределены участники опроса по возрасту, полу и возрасту? Каких пользователей больше: новых или старых? Пользователи из каких городов активнее участвовали в опросе?\n",
    "- Какие группы пользователей наиболее лояльны к сервису? Какие менее?\n",
    "- Какой общий NPS среди всех опрошенных?\n",
    "- Как можно описать клиентов, которые относятся к группе cторонников (англ. promoters)?\n",
    "\n",
    "В ходе исследования данные будут собраны из базы с помощью SQL-запроса, для их визуализации будет подготовлен дашборд. Ответы на вопросы будут представлены в виде презентации."
   ]
  },
  {
   "cell_type": "markdown",
   "id": "9e53a6d4",
   "metadata": {},
   "source": [
    "### SQL-запрос для выгрузки информации из базы данных"
   ]
  },
  {
   "cell_type": "code",
   "execution_count": 1,
   "id": "4042d2d9",
   "metadata": {
    "tags": [
     "aa81075c-062f-4de0-b5fe-14c73dc7468e"
    ]
   },
   "outputs": [],
   "source": [
    "import pandas as pd\n",
    "import numpy as np\n",
    "\n",
    "from sqlalchemy import create_engine"
   ]
  },
  {
   "cell_type": "code",
   "execution_count": 2,
   "id": "e355d769",
   "metadata": {},
   "outputs": [],
   "source": [
    "path_to_db = '/datasets/telecomm_csi.db'\n",
    "engine = create_engine(f'sqlite:///{path_to_db}', echo = False)"
   ]
  },
  {
   "cell_type": "code",
   "execution_count": 3,
   "id": "d243d889",
   "metadata": {},
   "outputs": [],
   "source": [
    "query = \"\"\"\n",
    "SELECT\n",
    "user_id,\n",
    "lt_day,\n",
    "IIF(lt_day <= 365, 'Новый', 'Старый') AS is_new,\n",
    "age,\n",
    "CASE WHEN gender_segment = 1\n",
    "        THEN 'Женский'\n",
    "    WHEN gender_segment = 0\n",
    "        THEN 'Мужской'\n",
    "    ELSE 'n/a'\n",
    "END AS 'gender_segment',\n",
    "os_name,\n",
    "cpe_type_name,\n",
    "country,\n",
    "city,\n",
    "SUBSTR(ags.title, 4) AS age_segment,\n",
    "SUBSTR(ts.title, 4) AS traffic_segment,\n",
    "SUBSTR(ls.title, 4) AS lifetime_segment,\n",
    "nps_score,\n",
    "CASE WHEN nps_score BETWEEN 9 AND 10\n",
    "        THEN 'Сторонники'\n",
    "    WHEN nps_score  BETWEEN 7 AND 8\n",
    "        THEN 'Нейтралы'\n",
    "    ELSE 'Противники'\n",
    "END AS nps_group\n",
    "FROM user INNER JOIN location AS loc ON user.location_id = loc.location_id\n",
    "INNER JOIN age_segment AS ags ON user.age_gr_id = ags.age_gr_id\n",
    "INNER JOIN traffic_segment AS ts ON user.tr_gr_id = ts.tr_gr_id\n",
    "INNER JOIN lifetime_segment AS ls ON user.lt_gr_id = ls.lt_gr_id;\n",
    "\"\"\""
   ]
  },
  {
   "cell_type": "code",
   "execution_count": 4,
   "id": "5765fecf",
   "metadata": {},
   "outputs": [
    {
     "data": {
      "text/html": [
       "<div>\n",
       "<style scoped>\n",
       "    .dataframe tbody tr th:only-of-type {\n",
       "        vertical-align: middle;\n",
       "    }\n",
       "\n",
       "    .dataframe tbody tr th {\n",
       "        vertical-align: top;\n",
       "    }\n",
       "\n",
       "    .dataframe thead th {\n",
       "        text-align: right;\n",
       "    }\n",
       "</style>\n",
       "<table border=\"1\" class=\"dataframe\">\n",
       "  <thead>\n",
       "    <tr style=\"text-align: right;\">\n",
       "      <th></th>\n",
       "      <th>user_id</th>\n",
       "      <th>lt_day</th>\n",
       "      <th>is_new</th>\n",
       "      <th>age</th>\n",
       "      <th>gender_segment</th>\n",
       "      <th>os_name</th>\n",
       "      <th>cpe_type_name</th>\n",
       "      <th>country</th>\n",
       "      <th>city</th>\n",
       "      <th>age_segment</th>\n",
       "      <th>traffic_segment</th>\n",
       "      <th>lifetime_segment</th>\n",
       "      <th>nps_score</th>\n",
       "      <th>nps_group</th>\n",
       "    </tr>\n",
       "  </thead>\n",
       "  <tbody>\n",
       "    <tr>\n",
       "      <td>0</td>\n",
       "      <td>A001A2</td>\n",
       "      <td>2320</td>\n",
       "      <td>Старый</td>\n",
       "      <td>45.0</td>\n",
       "      <td>Женский</td>\n",
       "      <td>ANDROID</td>\n",
       "      <td>SMARTPHONE</td>\n",
       "      <td>Россия</td>\n",
       "      <td>Уфа</td>\n",
       "      <td>45-54</td>\n",
       "      <td>1-5</td>\n",
       "      <td>36+</td>\n",
       "      <td>10</td>\n",
       "      <td>Сторонники</td>\n",
       "    </tr>\n",
       "    <tr>\n",
       "      <td>1</td>\n",
       "      <td>A001WF</td>\n",
       "      <td>2344</td>\n",
       "      <td>Старый</td>\n",
       "      <td>53.0</td>\n",
       "      <td>Мужской</td>\n",
       "      <td>ANDROID</td>\n",
       "      <td>SMARTPHONE</td>\n",
       "      <td>Россия</td>\n",
       "      <td>Киров</td>\n",
       "      <td>45-54</td>\n",
       "      <td>1-5</td>\n",
       "      <td>36+</td>\n",
       "      <td>10</td>\n",
       "      <td>Сторонники</td>\n",
       "    </tr>\n",
       "    <tr>\n",
       "      <td>2</td>\n",
       "      <td>A003Q7</td>\n",
       "      <td>467</td>\n",
       "      <td>Старый</td>\n",
       "      <td>57.0</td>\n",
       "      <td>Мужской</td>\n",
       "      <td>ANDROID</td>\n",
       "      <td>SMARTPHONE</td>\n",
       "      <td>Россия</td>\n",
       "      <td>Москва</td>\n",
       "      <td>55-64</td>\n",
       "      <td>20-25</td>\n",
       "      <td>13-24</td>\n",
       "      <td>10</td>\n",
       "      <td>Сторонники</td>\n",
       "    </tr>\n",
       "  </tbody>\n",
       "</table>\n",
       "</div>"
      ],
      "text/plain": [
       "  user_id  lt_day  is_new   age gender_segment  os_name cpe_type_name country  \\\n",
       "0  A001A2    2320  Старый  45.0        Женский  ANDROID    SMARTPHONE  Россия   \n",
       "1  A001WF    2344  Старый  53.0        Мужской  ANDROID    SMARTPHONE  Россия   \n",
       "2  A003Q7     467  Старый  57.0        Мужской  ANDROID    SMARTPHONE  Россия   \n",
       "\n",
       "     city age_segment traffic_segment lifetime_segment  nps_score   nps_group  \n",
       "0     Уфа       45-54             1-5              36+         10  Сторонники  \n",
       "1   Киров       45-54             1-5              36+         10  Сторонники  \n",
       "2  Москва       55-64           20-25            13-24         10  Сторонники  "
      ]
     },
     "execution_count": 4,
     "metadata": {},
     "output_type": "execute_result"
    }
   ],
   "source": [
    "df = pd.read_sql(query, engine)\n",
    "df.head(3)"
   ]
  },
  {
   "cell_type": "code",
   "execution_count": 5,
   "id": "a3932e35",
   "metadata": {},
   "outputs": [
    {
     "data": {
      "text/plain": [
       "1301"
      ]
     },
     "execution_count": 5,
     "metadata": {},
     "output_type": "execute_result"
    }
   ],
   "source": [
    "len(df.loc[df['gender_segment'] == 'n/a'])"
   ]
  },
  {
   "cell_type": "code",
   "execution_count": 6,
   "id": "1adea1e7",
   "metadata": {},
   "outputs": [],
   "source": [
    "df.to_csv('telecomm_csi_tableau.csv', index=False)"
   ]
  }
 ],
 "metadata": {
  "ExecuteTimeLog": [
   {
    "duration": 752,
    "start_time": "2021-10-03T17:40:52.731Z"
   },
   {
    "duration": 20,
    "start_time": "2021-10-03T17:40:53.486Z"
   },
   {
    "duration": 4,
    "start_time": "2021-10-03T17:41:04.638Z"
   },
   {
    "duration": 461,
    "start_time": "2021-10-03T17:41:04.912Z"
   },
   {
    "duration": 284,
    "start_time": "2021-10-03T17:41:05.376Z"
   },
   {
    "duration": 574,
    "start_time": "2021-10-06T07:55:05.029Z"
   },
   {
    "duration": 6,
    "start_time": "2021-10-06T07:55:05.605Z"
   },
   {
    "duration": 3,
    "start_time": "2021-10-06T07:55:14.685Z"
   },
   {
    "duration": 406,
    "start_time": "2021-10-06T07:55:15.522Z"
   },
   {
    "duration": 67,
    "start_time": "2021-10-06T07:55:15.929Z"
   },
   {
    "duration": 840,
    "start_time": "2021-10-07T07:54:04.647Z"
   },
   {
    "duration": 10,
    "start_time": "2021-10-07T07:54:05.490Z"
   },
   {
    "duration": 4,
    "start_time": "2021-10-07T07:54:05.544Z"
   },
   {
    "duration": 391,
    "start_time": "2021-10-07T07:54:06.237Z"
   },
   {
    "duration": 293,
    "start_time": "2021-10-07T07:54:06.654Z"
   },
   {
    "duration": 621,
    "start_time": "2022-02-10T16:09:36.446Z"
   },
   {
    "duration": 15,
    "start_time": "2022-02-10T16:09:37.069Z"
   },
   {
    "duration": 3,
    "start_time": "2022-02-10T16:09:37.086Z"
   },
   {
    "duration": 439,
    "start_time": "2022-02-10T16:09:37.091Z"
   },
   {
    "duration": 250,
    "start_time": "2022-02-10T16:09:37.531Z"
   },
   {
    "duration": 3,
    "start_time": "2022-02-10T16:11:49.794Z"
   },
   {
    "duration": 13,
    "start_time": "2022-02-10T16:11:49.799Z"
   },
   {
    "duration": 6,
    "start_time": "2022-02-10T16:11:49.814Z"
   },
   {
    "duration": 424,
    "start_time": "2022-02-10T16:11:49.822Z"
   },
   {
    "duration": 112,
    "start_time": "2022-02-10T16:11:50.248Z"
   },
   {
    "duration": 421,
    "start_time": "2022-02-10T16:12:12.467Z"
   },
   {
    "duration": 3,
    "start_time": "2022-02-10T16:15:08.207Z"
   },
   {
    "duration": 2869,
    "start_time": "2022-02-10T16:15:09.357Z"
   },
   {
    "duration": 3,
    "start_time": "2022-02-10T16:38:30.271Z"
   },
   {
    "duration": 429,
    "start_time": "2022-02-10T16:38:31.073Z"
   },
   {
    "duration": 2,
    "start_time": "2022-02-10T16:43:55.404Z"
   },
   {
    "duration": 431,
    "start_time": "2022-02-10T16:43:56.047Z"
   },
   {
    "duration": 2,
    "start_time": "2022-02-10T16:52:59.985Z"
   },
   {
    "duration": 423,
    "start_time": "2022-02-10T16:53:02.416Z"
   },
   {
    "duration": 3,
    "start_time": "2022-02-10T16:53:41.363Z"
   },
   {
    "duration": 423,
    "start_time": "2022-02-10T16:53:41.890Z"
   },
   {
    "duration": 2,
    "start_time": "2022-02-10T16:53:54.364Z"
   },
   {
    "duration": 445,
    "start_time": "2022-02-10T16:53:54.849Z"
   },
   {
    "duration": 2,
    "start_time": "2022-02-10T16:54:39.793Z"
   },
   {
    "duration": 420,
    "start_time": "2022-02-10T16:54:40.482Z"
   },
   {
    "duration": 2,
    "start_time": "2022-02-10T17:04:03.157Z"
   },
   {
    "duration": 514,
    "start_time": "2022-02-10T17:04:08.829Z"
   },
   {
    "duration": 3,
    "start_time": "2022-02-10T17:05:11.637Z"
   },
   {
    "duration": 665,
    "start_time": "2022-02-10T17:05:12.208Z"
   },
   {
    "duration": 3,
    "start_time": "2022-02-10T17:05:24.607Z"
   },
   {
    "duration": 678,
    "start_time": "2022-02-10T17:05:25.289Z"
   },
   {
    "duration": 3,
    "start_time": "2022-02-10T17:05:46.593Z"
   },
   {
    "duration": 573,
    "start_time": "2022-02-10T17:05:47.128Z"
   },
   {
    "duration": 3,
    "start_time": "2022-02-10T17:06:32.708Z"
   },
   {
    "duration": 6664,
    "start_time": "2022-02-10T17:06:33.224Z"
   },
   {
    "duration": 3,
    "start_time": "2022-02-10T17:11:02.789Z"
   },
   {
    "duration": 29,
    "start_time": "2022-02-10T17:11:02.794Z"
   },
   {
    "duration": 18,
    "start_time": "2022-02-10T17:11:02.826Z"
   },
   {
    "duration": 4701,
    "start_time": "2022-02-10T17:11:02.846Z"
   },
   {
    "duration": 4304,
    "start_time": "2022-02-10T17:11:07.549Z"
   },
   {
    "duration": 823,
    "start_time": "2022-02-12T02:18:29.298Z"
   },
   {
    "duration": 14,
    "start_time": "2022-02-12T02:18:30.124Z"
   },
   {
    "duration": 11,
    "start_time": "2022-02-12T02:18:30.140Z"
   },
   {
    "duration": 6083,
    "start_time": "2022-02-12T02:18:30.153Z"
   },
   {
    "duration": 7453,
    "start_time": "2022-02-12T02:18:36.238Z"
   },
   {
    "duration": 602,
    "start_time": "2022-02-12T16:12:12.974Z"
   },
   {
    "duration": 16,
    "start_time": "2022-02-12T16:12:13.577Z"
   },
   {
    "duration": 2,
    "start_time": "2022-02-12T16:12:13.595Z"
   },
   {
    "duration": 4586,
    "start_time": "2022-02-12T16:12:13.599Z"
   },
   {
    "duration": 4342,
    "start_time": "2022-02-12T16:12:18.187Z"
   },
   {
    "duration": 4,
    "start_time": "2022-02-13T04:11:14.038Z"
   },
   {
    "duration": 430,
    "start_time": "2022-02-13T04:11:17.261Z"
   },
   {
    "duration": 767,
    "start_time": "2022-02-13T04:11:22.786Z"
   },
   {
    "duration": 24,
    "start_time": "2022-02-13T04:11:23.955Z"
   },
   {
    "duration": 4,
    "start_time": "2022-02-13T04:11:24.663Z"
   },
   {
    "duration": 8782,
    "start_time": "2022-02-13T04:11:25.700Z"
   },
   {
    "duration": 118,
    "start_time": "2022-02-13T04:12:05.076Z"
   },
   {
    "duration": 91,
    "start_time": "2022-02-13T04:12:28.176Z"
   },
   {
    "duration": 85,
    "start_time": "2022-02-13T04:12:57.076Z"
   },
   {
    "duration": 7956,
    "start_time": "2022-02-13T04:18:35.956Z"
   },
   {
    "duration": 1140,
    "start_time": "2022-02-13T13:36:15.095Z"
   },
   {
    "duration": 11,
    "start_time": "2022-02-13T13:36:16.238Z"
   },
   {
    "duration": 8,
    "start_time": "2022-02-13T13:36:16.252Z"
   },
   {
    "duration": 6363,
    "start_time": "2022-02-13T13:36:16.263Z"
   },
   {
    "duration": 84,
    "start_time": "2022-02-13T13:36:22.629Z"
   },
   {
    "duration": 9029,
    "start_time": "2022-02-13T13:36:22.716Z"
   }
  ],
  "kernelspec": {
   "display_name": "Python 3 (ipykernel)",
   "language": "python",
   "name": "python3"
  },
  "language_info": {
   "codemirror_mode": {
    "name": "ipython",
    "version": 3
   },
   "file_extension": ".py",
   "mimetype": "text/x-python",
   "name": "python",
   "nbconvert_exporter": "python",
   "pygments_lexer": "ipython3",
   "version": "3.9.7"
  },
  "toc": {
   "base_numbering": 1,
   "nav_menu": {},
   "number_sections": true,
   "sideBar": true,
   "skip_h1_title": true,
   "title_cell": "Table of Contents",
   "title_sidebar": "Contents",
   "toc_cell": false,
   "toc_position": {},
   "toc_section_display": true,
   "toc_window_display": false
  }
 },
 "nbformat": 4,
 "nbformat_minor": 5
}
